{
 "cells": [
  {
   "cell_type": "code",
   "execution_count": 1,
   "id": "8cb2640e",
   "metadata": {},
   "outputs": [],
   "source": [
    "import numpy as np\n",
    "from ase.io import read\n",
    "from dask.distributed import Client\n",
    "\n",
    "from abtem.waves import Waves, PlaneWave, Probe\n",
    "from abtem.potentials.temperature import FrozenPhonons\n",
    "from abtem.potentials import Potential\n",
    "from abtem import GridScan, AnnularDetector\n",
    "\n",
    "import os\n",
    "os.environ['MKL_NUM_THREADS'] = '1'"
   ]
  },
  {
   "cell_type": "markdown",
   "id": "94e5ee48-ef28-4588-abd8-5e4e310b3a84",
   "metadata": {},
   "source": [
    "# abTEM and Dask"
   ]
  },
  {
   "cell_type": "markdown",
   "id": "a92ddb86-dbd5-441a-82e0-edca83b24bec",
   "metadata": {},
   "source": [
    "Parallel computation in abTEM whether it is running on laptop, a GPU or on a High Performance Computing cluster goes through [Dask](https://dask.org/). Basic knowledge of Dask may be required to run abTEM effectively on large multi-CPU/GPU systems, however, if you are just running abTEM on your own computer, this short tutorial should suffice."
   ]
  },
  {
   "cell_type": "markdown",
   "id": "fe4b812d-ff9c-4582-a60e-29a47637c4fd",
   "metadata": {},
   "source": [
    "## Delayed computations"
   ]
  },
  {
   "cell_type": "markdown",
   "id": "8601be3a",
   "metadata": {},
   "source": [
    "Computations in abTEM are _delayed_ (or sometimes called _lazy_) by default, this means that \"building\" the probe wave function only creates the instructions, or task graph, for making that probe."
   ]
  },
  {
   "cell_type": "code",
   "execution_count": 4,
   "id": "78868ad8-4a9e-4c1f-a08f-292de3e68e37",
   "metadata": {},
   "outputs": [
    {
     "data": {
      "text/html": [
       "<table>\n",
       "<tr>\n",
       "<td>\n",
       "<table>\n",
       "  <thead>\n",
       "    <tr><td> </td><th> Array </th><th> Chunk </th></tr>\n",
       "  </thead>\n",
       "  <tbody>\n",
       "    <tr><th> Bytes </th><td> 512.00 kiB </td> <td> 512.00 kiB </td></tr>\n",
       "    <tr><th> Shape </th><td> (1, 256, 256) </td> <td> (1, 256, 256) </td></tr>\n",
       "    <tr><th> Count </th><td> 9 Tasks </td><td> 1 Chunks </td></tr>\n",
       "    <tr><th> Type </th><td> complex64 </td><td> numpy.ndarray </td></tr>\n",
       "  </tbody>\n",
       "</table>\n",
       "</td>\n",
       "<td>\n",
       "<svg width=\"194\" height=\"184\" style=\"stroke:rgb(0,0,0);stroke-width:1\" >\n",
       "\n",
       "  <!-- Horizontal lines -->\n",
       "  <line x1=\"10\" y1=\"0\" x2=\"24\" y2=\"14\" style=\"stroke-width:2\" />\n",
       "  <line x1=\"10\" y1=\"120\" x2=\"24\" y2=\"134\" style=\"stroke-width:2\" />\n",
       "\n",
       "  <!-- Vertical lines -->\n",
       "  <line x1=\"10\" y1=\"0\" x2=\"10\" y2=\"120\" style=\"stroke-width:2\" />\n",
       "  <line x1=\"24\" y1=\"14\" x2=\"24\" y2=\"134\" style=\"stroke-width:2\" />\n",
       "\n",
       "  <!-- Colored Rectangle -->\n",
       "  <polygon points=\"10.0,0.0 24.9485979497544,14.948597949754403 24.9485979497544,134.9485979497544 10.0,120.0\" style=\"fill:#ECB172A0;stroke-width:0\"/>\n",
       "\n",
       "  <!-- Horizontal lines -->\n",
       "  <line x1=\"10\" y1=\"0\" x2=\"130\" y2=\"0\" style=\"stroke-width:2\" />\n",
       "  <line x1=\"24\" y1=\"14\" x2=\"144\" y2=\"14\" style=\"stroke-width:2\" />\n",
       "\n",
       "  <!-- Vertical lines -->\n",
       "  <line x1=\"10\" y1=\"0\" x2=\"24\" y2=\"14\" style=\"stroke-width:2\" />\n",
       "  <line x1=\"130\" y1=\"0\" x2=\"144\" y2=\"14\" style=\"stroke-width:2\" />\n",
       "\n",
       "  <!-- Colored Rectangle -->\n",
       "  <polygon points=\"10.0,0.0 130.0,0.0 144.9485979497544,14.948597949754403 24.9485979497544,14.948597949754403\" style=\"fill:#ECB172A0;stroke-width:0\"/>\n",
       "\n",
       "  <!-- Horizontal lines -->\n",
       "  <line x1=\"24\" y1=\"14\" x2=\"144\" y2=\"14\" style=\"stroke-width:2\" />\n",
       "  <line x1=\"24\" y1=\"134\" x2=\"144\" y2=\"134\" style=\"stroke-width:2\" />\n",
       "\n",
       "  <!-- Vertical lines -->\n",
       "  <line x1=\"24\" y1=\"14\" x2=\"24\" y2=\"134\" style=\"stroke-width:2\" />\n",
       "  <line x1=\"144\" y1=\"14\" x2=\"144\" y2=\"134\" style=\"stroke-width:2\" />\n",
       "\n",
       "  <!-- Colored Rectangle -->\n",
       "  <polygon points=\"24.9485979497544,14.948597949754403 144.9485979497544,14.948597949754403 144.9485979497544,134.9485979497544 24.9485979497544,134.9485979497544\" style=\"fill:#ECB172A0;stroke-width:0\"/>\n",
       "\n",
       "  <!-- Text -->\n",
       "  <text x=\"84.948598\" y=\"154.948598\" font-size=\"1.0rem\" font-weight=\"100\" text-anchor=\"middle\" >256</text>\n",
       "  <text x=\"164.948598\" y=\"74.948598\" font-size=\"1.0rem\" font-weight=\"100\" text-anchor=\"middle\" transform=\"rotate(-90,164.948598,74.948598)\">256</text>\n",
       "  <text x=\"7.474299\" y=\"147.474299\" font-size=\"1.0rem\" font-weight=\"100\" text-anchor=\"middle\" transform=\"rotate(45,7.474299,147.474299)\">1</text>\n",
       "</svg>\n",
       "</td>\n",
       "</tr>\n",
       "</table>"
      ],
      "text/plain": [
       "dask.array<ifft2, shape=(1, 256, 256), dtype=complex64, chunksize=(1, 256, 256), chunktype=numpy.ndarray>"
      ]
     },
     "execution_count": 4,
     "metadata": {},
     "output_type": "execute_result"
    }
   ],
   "source": [
    "probe = Probe(energy=80e3, extent=10, gpts=256, semiangle_cutoff=30)\n",
    "\n",
    "build_probe = probe.build()\n",
    "\n",
    "build_probe.array"
   ]
  },
  {
   "cell_type": "markdown",
   "id": "c0263579",
   "metadata": {},
   "source": [
    "If you want the numpy array you have to compute the probe."
   ]
  },
  {
   "cell_type": "code",
   "execution_count": 5,
   "id": "3dcbacbd",
   "metadata": {},
   "outputs": [
    {
     "data": {
      "text/plain": [
       "numpy.ndarray"
      ]
     },
     "execution_count": 5,
     "metadata": {},
     "output_type": "execute_result"
    }
   ],
   "source": [
    "build_probe.compute()\n",
    "\n",
    "type(build_probe.array)"
   ]
  },
  {
   "cell_type": "markdown",
   "id": "54af908e",
   "metadata": {},
   "source": [
    "An advantage of using Dask is that you can create your task graph first, and then decide when to compute. For example, below we create a task graph for running the multislice algorithm for probe wave functions placed on a grid. The result is a 2d grid of 2d wave functions represented as a 4d array."
   ]
  },
  {
   "cell_type": "code",
   "execution_count": 6,
   "id": "1924a344",
   "metadata": {},
   "outputs": [
    {
     "data": {
      "text/html": [
       "<table>\n",
       "<tr>\n",
       "<td>\n",
       "<table>\n",
       "  <thead>\n",
       "    <tr><td> </td><th> Array </th><th> Chunk </th></tr>\n",
       "  </thead>\n",
       "  <tbody>\n",
       "    <tr><th> Bytes </th><td> 187.50 MiB </td> <td> 120.00 MiB </td></tr>\n",
       "    <tr><th> Shape </th><td> (15, 25, 256, 256) </td> <td> (15, 16, 256, 256) </td></tr>\n",
       "    <tr><th> Count </th><td> 30 Tasks </td><td> 2 Chunks </td></tr>\n",
       "    <tr><th> Type </th><td> complex64 </td><td> numpy.ndarray </td></tr>\n",
       "  </tbody>\n",
       "</table>\n",
       "</td>\n",
       "<td>\n",
       "<svg width=\"402\" height=\"192\" style=\"stroke:rgb(0,0,0);stroke-width:1\" >\n",
       "\n",
       "  <!-- Horizontal lines -->\n",
       "  <line x1=\"0\" y1=\"0\" x2=\"35\" y2=\"0\" style=\"stroke-width:2\" />\n",
       "  <line x1=\"0\" y1=\"25\" x2=\"35\" y2=\"25\" style=\"stroke-width:2\" />\n",
       "\n",
       "  <!-- Vertical lines -->\n",
       "  <line x1=\"0\" y1=\"0\" x2=\"0\" y2=\"25\" style=\"stroke-width:2\" />\n",
       "  <line x1=\"35\" y1=\"0\" x2=\"35\" y2=\"25\" style=\"stroke-width:2\" />\n",
       "\n",
       "  <!-- Colored Rectangle -->\n",
       "  <polygon points=\"0.0,0.0 35.468752420860774,0.0 35.468752420860774,25.412616514582485 0.0,25.412616514582485\" style=\"fill:#ECB172A0;stroke-width:0\"/>\n",
       "\n",
       "  <!-- Text -->\n",
       "  <text x=\"17.734376\" y=\"45.412617\" font-size=\"1.0rem\" font-weight=\"100\" text-anchor=\"middle\" >15</text>\n",
       "  <text x=\"55.468752\" y=\"12.706308\" font-size=\"1.0rem\" font-weight=\"100\" text-anchor=\"middle\" transform=\"rotate(0,55.468752,12.706308)\">1</text>\n",
       "\n",
       "\n",
       "  <!-- Horizontal lines -->\n",
       "  <line x1=\"105\" y1=\"0\" x2=\"127\" y2=\"22\" style=\"stroke-width:2\" />\n",
       "  <line x1=\"105\" y1=\"120\" x2=\"127\" y2=\"142\" style=\"stroke-width:2\" />\n",
       "\n",
       "  <!-- Vertical lines -->\n",
       "  <line x1=\"105\" y1=\"0\" x2=\"105\" y2=\"120\" style=\"stroke-width:2\" />\n",
       "  <line x1=\"119\" y1=\"14\" x2=\"119\" y2=\"134\" />\n",
       "  <line x1=\"127\" y1=\"22\" x2=\"127\" y2=\"142\" style=\"stroke-width:2\" />\n",
       "\n",
       "  <!-- Colored Rectangle -->\n",
       "  <polygon points=\"105.0,0.0 127.62647763741445,22.626477637414453 127.62647763741445,142.62647763741444 105.0,120.0\" style=\"fill:#ECB172A0;stroke-width:0\"/>\n",
       "\n",
       "  <!-- Horizontal lines -->\n",
       "  <line x1=\"105\" y1=\"0\" x2=\"225\" y2=\"0\" style=\"stroke-width:2\" />\n",
       "  <line x1=\"119\" y1=\"14\" x2=\"239\" y2=\"14\" />\n",
       "  <line x1=\"127\" y1=\"22\" x2=\"247\" y2=\"22\" style=\"stroke-width:2\" />\n",
       "\n",
       "  <!-- Vertical lines -->\n",
       "  <line x1=\"105\" y1=\"0\" x2=\"127\" y2=\"22\" style=\"stroke-width:2\" />\n",
       "  <line x1=\"225\" y1=\"0\" x2=\"247\" y2=\"22\" style=\"stroke-width:2\" />\n",
       "\n",
       "  <!-- Colored Rectangle -->\n",
       "  <polygon points=\"105.0,0.0 225.0,0.0 247.62647763741444,22.626477637414453 127.62647763741445,22.626477637414453\" style=\"fill:#ECB172A0;stroke-width:0\"/>\n",
       "\n",
       "  <!-- Horizontal lines -->\n",
       "  <line x1=\"127\" y1=\"22\" x2=\"247\" y2=\"22\" style=\"stroke-width:2\" />\n",
       "  <line x1=\"127\" y1=\"142\" x2=\"247\" y2=\"142\" style=\"stroke-width:2\" />\n",
       "\n",
       "  <!-- Vertical lines -->\n",
       "  <line x1=\"127\" y1=\"22\" x2=\"127\" y2=\"142\" style=\"stroke-width:2\" />\n",
       "  <line x1=\"247\" y1=\"22\" x2=\"247\" y2=\"142\" style=\"stroke-width:2\" />\n",
       "\n",
       "  <!-- Colored Rectangle -->\n",
       "  <polygon points=\"127.62647763741445,22.626477637414453 247.62647763741444,22.626477637414453 247.62647763741444,142.62647763741444 127.62647763741445,142.62647763741444\" style=\"fill:#ECB172A0;stroke-width:0\"/>\n",
       "\n",
       "  <!-- Text -->\n",
       "  <text x=\"187.626478\" y=\"162.626478\" font-size=\"1.0rem\" font-weight=\"100\" text-anchor=\"middle\" >256</text>\n",
       "  <text x=\"267.626478\" y=\"82.626478\" font-size=\"1.0rem\" font-weight=\"100\" text-anchor=\"middle\" transform=\"rotate(-90,267.626478,82.626478)\">256</text>\n",
       "  <text x=\"106.313239\" y=\"151.313239\" font-size=\"1.0rem\" font-weight=\"100\" text-anchor=\"middle\" transform=\"rotate(45,106.313239,151.313239)\">25</text>\n",
       "</svg>\n",
       "</td>\n",
       "</tr>\n",
       "</table>"
      ],
      "text/plain": [
       "dask.array<_multislice, shape=(15, 25, 256, 256), dtype=complex64, chunksize=(15, 16, 256, 256), chunktype=numpy.ndarray>"
      ]
     },
     "execution_count": 6,
     "metadata": {},
     "output_type": "execute_result"
    }
   ],
   "source": [
    "atoms = read('data/orthogonal_graphene.cif') \n",
    "\n",
    "potential = Potential(atoms, chunks=100)\n",
    "\n",
    "gridscan = GridScan(start=[0, 0], end=[np.sqrt(3) * 1.42, 3 * 1.42], sampling=probe.ctf.nyquist_sampling * .5)\n",
    "\n",
    "exit_waves = probe.multislice(potential, gridscan)\n",
    "\n",
    "exit_waves.array"
   ]
  },
  {
   "cell_type": "markdown",
   "id": "3bd2bc8c-f8e3-4bf6-84f7-6266dc2416e5",
   "metadata": {},
   "source": [
    "Dask arrays are composed of many NumPy arrays (or CuPy arrays on gpu). In this example, the 4d array is 750 mb of memory, however it is split into chunks of 128 mb. This lets us compute on arrays larger than memory using all of our cores.\n",
    "\n",
    "It is important to note the 4d array is not currently taking up any memory, and will never (necessarily) be fully in memory, unless you decide to compute it. However, usually we don't need the wave functions, we want the intensity detected by a given detector configuration.\n",
    "\n",
    "In STEM-HAADF we detect the integrated intensity of the diffraction patterns over an annular disk. The code below, tasks the task graph from above and continues it, as you can see the resulting array is greatly reduced."
   ]
  },
  {
   "cell_type": "code",
   "execution_count": 7,
   "id": "5ca54481",
   "metadata": {},
   "outputs": [
    {
     "data": {
      "text/html": [
       "<table>\n",
       "<tr>\n",
       "<td>\n",
       "<table>\n",
       "  <thead>\n",
       "    <tr><td> </td><th> Array </th><th> Chunk </th></tr>\n",
       "  </thead>\n",
       "  <tbody>\n",
       "    <tr><th> Bytes </th><td> 1.46 kiB </td> <td> 0.94 kiB </td></tr>\n",
       "    <tr><th> Shape </th><td> (15, 25) </td> <td> (15, 16) </td></tr>\n",
       "    <tr><th> Count </th><td> 38 Tasks </td><td> 2 Chunks </td></tr>\n",
       "    <tr><th> Type </th><td> float32 </td><td> numpy.ndarray </td></tr>\n",
       "  </tbody>\n",
       "</table>\n",
       "</td>\n",
       "<td>\n",
       "<svg width=\"170\" height=\"122\" style=\"stroke:rgb(0,0,0);stroke-width:1\" >\n",
       "\n",
       "  <!-- Horizontal lines -->\n",
       "  <line x1=\"0\" y1=\"0\" x2=\"120\" y2=\"0\" style=\"stroke-width:2\" />\n",
       "  <line x1=\"0\" y1=\"72\" x2=\"120\" y2=\"72\" style=\"stroke-width:2\" />\n",
       "\n",
       "  <!-- Vertical lines -->\n",
       "  <line x1=\"0\" y1=\"0\" x2=\"0\" y2=\"72\" style=\"stroke-width:2\" />\n",
       "  <line x1=\"76\" y1=\"0\" x2=\"76\" y2=\"72\" />\n",
       "  <line x1=\"120\" y1=\"0\" x2=\"120\" y2=\"72\" style=\"stroke-width:2\" />\n",
       "\n",
       "  <!-- Colored Rectangle -->\n",
       "  <polygon points=\"0.0,0.0 120.0,0.0 120.0,72.0 0.0,72.0\" style=\"fill:#ECB172A0;stroke-width:0\"/>\n",
       "\n",
       "  <!-- Text -->\n",
       "  <text x=\"60.000000\" y=\"92.000000\" font-size=\"1.0rem\" font-weight=\"100\" text-anchor=\"middle\" >25</text>\n",
       "  <text x=\"140.000000\" y=\"36.000000\" font-size=\"1.0rem\" font-weight=\"100\" text-anchor=\"middle\" transform=\"rotate(0,140.000000,36.000000)\">15</text>\n",
       "</svg>\n",
       "</td>\n",
       "</tr>\n",
       "</table>"
      ],
      "text/plain": [
       "dask.array<integrate_fourier_space, shape=(15, 25), dtype=float32, chunksize=(15, 16), chunktype=numpy.ndarray>"
      ]
     },
     "execution_count": 7,
     "metadata": {},
     "output_type": "execute_result"
    }
   ],
   "source": [
    "diffraction_patterns = exit_waves.diffraction_patterns()\n",
    "\n",
    "measurement = diffraction_patterns.integrate_annular_disc(50, 150)\n",
    "\n",
    "measurement.array"
   ]
  },
  {
   "cell_type": "markdown",
   "id": "9a5c73be",
   "metadata": {},
   "source": [
    "We can finally call compute, which will trigger the calculation to start."
   ]
  },
  {
   "cell_type": "code",
   "execution_count": 8,
   "id": "d14372d1",
   "metadata": {},
   "outputs": [
    {
     "data": {
      "text/plain": [
       "(<AxesSubplot:xlabel='x [Å]', ylabel='y [Å]'>,\n",
       " <matplotlib.image.AxesImage at 0x7f3be01d5d30>)"
      ]
     },
     "execution_count": 8,
     "metadata": {},
     "output_type": "execute_result"
    },
    {
     "data": {
      "image/png": "[encoded data removed]",
      "text/plain": [
       "<Figure size 432x288 with 1 Axes>"
      ]
     },
     "metadata": {
      "needs_background": "light"
     },
     "output_type": "display_data"
    }
   ],
   "source": [
    "measurement.compute()\n",
    "\n",
    "measurement.show()"
   ]
  },
  {
   "cell_type": "markdown",
   "id": "727281c0-1018-4120-a586-cf231f5e067b",
   "metadata": {},
   "source": [
    "## Diagnostic dashboard"
   ]
  },
  {
   "cell_type": "markdown",
   "id": "00d36898-08da-4ec2-9f6b-4e1e1b11f130",
   "metadata": {},
   "source": [
    "Dask provides a [diagnotic dashboard](https://docs.dask.org/en/latest/diagnostics-distributed.html) containing many plots and tables with live information."
   ]
  },
  {
   "cell_type": "code",
   "execution_count": null,
   "id": "c88da5d3-6100-454b-8e4c-2ecf2ca36a64",
   "metadata": {},
   "outputs": [],
   "source": [
    "from dask.distributed import Client\n",
    "client = Client()  # start distributed scheduler locally.  Launch dashboard"
   ]
  },
  {
   "cell_type": "markdown",
   "id": "3418e063-24ce-4f6f-840c-dc2df74a847a",
   "metadata": {},
   "source": [
    "The dashboard is typically served at http://localhost:8787/status, but may be served elsewhere if this port is taken. If you are using Jupyter Lab the [Dask labextension](https://github.com/dask/dask-labextension) provides the same information more conveniently."
   ]
  },
  {
   "cell_type": "markdown",
   "id": "01c8bbb6-a64b-4e3a-a6c1-0e5fb715772f",
   "metadata": {},
   "source": [
    "## Showing the computational graph"
   ]
  },
  {
   "cell_type": "markdown",
   "id": "cbd2ed7e-35f3-45da-a900-7356d2714c50",
   "metadata": {},
   "source": [
    "Plotting the computational graph may occasionally be useful. Note that the visualize function is powered by the [GraphViz](https://www.graphviz.org/) system library."
   ]
  },
  {
   "cell_type": "code",
   "execution_count": 3,
   "id": "0dffd8a9",
   "metadata": {},
   "outputs": [
    {
     "ename": "NameError",
     "evalue": "name 'diffraction_patterns' is not defined",
     "output_type": "error",
     "traceback": [
      "\u001b[0;31m---------------------------------------------------------------------------\u001b[0m",
      "\u001b[0;31mNameError\u001b[0m                                 Traceback (most recent call last)",
      "\u001b[0;32m/tmp/ipykernel_182/4150786491.py\u001b[0m in \u001b[0;36m<module>\u001b[0;34m\u001b[0m\n\u001b[0;32m----> 1\u001b[0;31m \u001b[0mdiffraction_patterns\u001b[0m\u001b[0;34m.\u001b[0m\u001b[0mintegrate_annular_disc\u001b[0m\u001b[0;34m(\u001b[0m\u001b[0;36m50\u001b[0m\u001b[0;34m,\u001b[0m \u001b[0;36m150\u001b[0m\u001b[0;34m)\u001b[0m\u001b[0;34m.\u001b[0m\u001b[0mvisualize_graph\u001b[0m\u001b[0;34m(\u001b[0m\u001b[0mrankdir\u001b[0m\u001b[0;34m=\u001b[0m\u001b[0;34m'LR'\u001b[0m\u001b[0;34m)\u001b[0m\u001b[0;34m\u001b[0m\u001b[0;34m\u001b[0m\u001b[0m\n\u001b[0m",
      "\u001b[0;31mNameError\u001b[0m: name 'diffraction_patterns' is not defined"
     ]
    }
   ],
   "source": [
    "diffraction_patterns.integrate_annular_disc(50, 150).visualize_graph(rankdir='LR')"
   ]
  }
 ],
 "metadata": {
  "kernelspec": {
   "display_name": "abtem-test",
   "language": "python",
   "name": "abtem-test"
  },
  "language_info": {
   "codemirror_mode": {
    "name": "ipython",
    "version": 3
   },
   "file_extension": ".py",
   "mimetype": "text/x-python",
   "name": "python",
   "nbconvert_exporter": "python",
   "pygments_lexer": "ipython3",
   "version": "3.9.6"
  }
 },
 "nbformat": 4,
 "nbformat_minor": 5
}
