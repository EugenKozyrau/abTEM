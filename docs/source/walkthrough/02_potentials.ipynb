{
 "cells": [
  {
   "cell_type": "code",
   "execution_count": 1,
   "metadata": {},
   "outputs": [],
   "source": [
    "%matplotlib qt\n",
    "\n",
    "import abtem\n",
    "from ase.io import read\n",
    "import matplotlib.pyplot as plt"
   ]
  },
  {
   "cell_type": "markdown",
   "metadata": {
    "tags": []
   },
   "source": [
    "# Potential\n",
    "An electron beam interacts with a specimen through the Coulomb potential of its electrons and nuclei. Thus the total electrostatic potential of the sample is required for quantitative image simulations. Typically, the so-called indepedent atom model (IAM) is used, which neglects any bonding effects and treats the sample as an array of atomic potentials."
   ]
  },
  {
   "cell_type": "markdown",
   "metadata": {
    "tags": []
   },
   "source": [
    "## Atomic potential parametrization\n",
    "\n",
    "The electron charge distribution of an atom can be calculated from a first-principles electronic structure calculation, while the atomic nuclei are point charges at any realistic spatial resolution. Given a charge distribution, the potential can be obtained via Poisson's equation. Most multislice simulation codes include a parametrization of the atomic potentials, with a table of parameters for each element fitted to Hartree-Fock calculations. \n",
    "\n",
    "The radial dependence of the electrostatic potential and (electron) scattering factor of five selected elements is shown below."
   ]
  },
  {
   "cell_type": "code",
   "execution_count": 2,
   "metadata": {},
   "outputs": [],
   "source": [
    "symbols = ['C', 'N', 'Si', 'Au', 'U']\n",
    "\n",
    "potentials = abtem.concatenate([abtem.AtomicPotential(symbol).line_profiles(name='potential', cutoff=2) for symbol in symbols])\n",
    "scattering_factors = abtem.concatenate([abtem.AtomicPotential(symbol).line_profiles(name='scattering_factor', cutoff=3) for symbol in symbols])\n",
    "\n",
    "fig, (ax1, ax2) = plt.subplots(1, 2, figsize=(10,5))\n",
    "ax1 = scattering_factors.show(ax=ax1)\n",
    "ax2 = potentials.show(ax=ax2)\n",
    "\n",
    "ax2.set_ylim([0, 800]);"
   ]
  },
  {
   "cell_type": "markdown",
   "metadata": {},
   "source": [
    "The default parametrization in abTEM is created by Lobato *et. al.* ([doi:10.1107/S205327331401643X](doi:10.1107/S205327331401643X)). We also provide the parametrization by Kirkland. As shown below the difference between the two parametrizations is small and in most cases negligible."
   ]
  },
  {
   "cell_type": "code",
   "execution_count": 3,
   "metadata": {},
   "outputs": [],
   "source": [
    "lobato_scattering_factors = abtem.concatenate([abtem.AtomicPotential(symbol, parametrization='lobato').line_profiles(name='scattering_factor', cutoff=3) for symbol in symbols])\n",
    "kirkland_scattering_factors = abtem.concatenate([abtem.AtomicPotential(symbol, parametrization='kirkland').line_profiles(name='scattering_factor', cutoff=3) for symbol in symbols])\n",
    "\n",
    "fig, (ax1, ax2) = plt.subplots(1, 2, figsize=(10,5))\n",
    "ax1 = lobato_scattering_factors.show(ax=ax1)\n",
    "ax2 = kirkland_scattering_factors.show(ax=ax2)"
   ]
  },
  {
   "cell_type": "markdown",
   "metadata": {},
   "source": [
    "## Independent atom model\n",
    "The full specimen potential, $V(r)$, is usually obtained as a linear superposition of atomic potentials\n",
    "\n",
    "$$\n",
    "    V(r) = \\sum_i V_i(r-r_i) \\quad,\n",
    "$$\n",
    "\n",
    "where $V_i(r)$ is the atomic potential of the $i$'th atom. This is known as the Indenpendent Atom Model (IAM).\n",
    "\n",
    "Below we create a `Potential` object, which represents a sliced IAM potential using a given parametrization. The parameter `sampling` denotes the spacing of the $xy$-sampling of the potential."
   ]
  },
  {
   "cell_type": "code",
   "execution_count": 8,
   "metadata": {},
   "outputs": [],
   "source": [
    "atoms = read('data/srtio3_110.cif')\n",
    "\n",
    "potential = abtem.Potential(atoms, sampling=.05, parametrization='lobato', projection='finite', slice_thickness=1)"
   ]
  },
  {
   "cell_type": "markdown",
   "metadata": {},
   "source": [
    "Indexing a `Potential` returns the individual slices. Below we show three slices from the SrTiO<sub>3</sub> potential."
   ]
  },
  {
   "cell_type": "code",
   "execution_count": 9,
   "metadata": {
    "tags": []
   },
   "outputs": [],
   "source": [
    "fig, (ax1, ax2, ax3) = plt.subplots(1, 3, figsize=(10, 3))\n",
    "\n",
    "potential[0].project().show(ax=ax1)\n",
    "\n",
    "potential[3].project().show(ax=ax2)\n",
    "\n",
    "potential[8:12].project().show(ax=ax3);"
   ]
  },
  {
   "cell_type": "markdown",
   "metadata": {},
   "source": [
    "<div class=\"alert alert-block alert-success\">\n",
    "    \n",
    "**Hyperspy: Interactive potential** \n",
    "\n",
    "```python\n",
    "potential.build(lazy=False).to_hyperspy()\n",
    "```\n",
    "</div>"
   ]
  },
  {
   "cell_type": "markdown",
   "metadata": {},
   "source": [
    "## Building and saving the potential\n",
    "The `Potential` object does not store the calculated potential slices. Hence, if a simulation, such as STEM, requires multiple propagations, each slice have to be calculated multiple times. For this reason, abTEM often precalculates the potential, whenever it has to be used more than once. \n",
    "\n",
    "The potential can be precalculated manually using the `.build` method. Note that it should typically be preferred to let abTEM precalculate the potential."
   ]
  },
  {
   "cell_type": "code",
   "execution_count": 10,
   "metadata": {},
   "outputs": [],
   "source": [
    "potential_array = potential.build(lazy=True)"
   ]
  },
  {
   "cell_type": "markdown",
   "metadata": {},
   "source": [
    "This returns an `PotentialArray` object, which stores each 2D potential slice in a 3D array. The first dimension is the slice index and the last two are the spatial dimensions."
   ]
  },
  {
   "cell_type": "code",
   "execution_count": 11,
   "metadata": {},
   "outputs": [
    {
     "data": {
      "text/html": [
       "<table>\n",
       "    <tr>\n",
       "        <td>\n",
       "            <table>\n",
       "                <thead>\n",
       "                    <tr>\n",
       "                        <td> </td>\n",
       "                        <th> Array </th>\n",
       "                        <th> Chunk </th>\n",
       "                    </tr>\n",
       "                </thead>\n",
       "                <tbody>\n",
       "                    \n",
       "                    <tr>\n",
       "                        <th> Bytes </th>\n",
       "                        <td> 5.35 MiB </td>\n",
       "                        <td> 5.35 MiB </td>\n",
       "                    </tr>\n",
       "                    \n",
       "                    <tr>\n",
       "                        <th> Shape </th>\n",
       "                        <td> (27, 221, 235) </td>\n",
       "                        <td> (27, 221, 235) </td>\n",
       "                    </tr>\n",
       "                    <tr>\n",
       "                        <th> Count </th>\n",
       "                        <td> 4 Tasks </td>\n",
       "                        <td> 1 Chunks </td>\n",
       "                    </tr>\n",
       "                    <tr>\n",
       "                    <th> Type </th>\n",
       "                    <td> float32 </td>\n",
       "                    <td> numpy.ndarray </td>\n",
       "                    </tr>\n",
       "                </tbody>\n",
       "            </table>\n",
       "        </td>\n",
       "        <td>\n",
       "        <svg width=\"203\" height=\"185\" style=\"stroke:rgb(0,0,0);stroke-width:1\" >\n",
       "\n",
       "  <!-- Horizontal lines -->\n",
       "  <line x1=\"10\" y1=\"0\" x2=\"33\" y2=\"23\" style=\"stroke-width:2\" />\n",
       "  <line x1=\"10\" y1=\"112\" x2=\"33\" y2=\"135\" style=\"stroke-width:2\" />\n",
       "\n",
       "  <!-- Vertical lines -->\n",
       "  <line x1=\"10\" y1=\"0\" x2=\"10\" y2=\"112\" style=\"stroke-width:2\" />\n",
       "  <line x1=\"33\" y1=\"23\" x2=\"33\" y2=\"135\" style=\"stroke-width:2\" />\n",
       "\n",
       "  <!-- Colored Rectangle -->\n",
       "  <polygon points=\"10.0,0.0 33.1478688675871,23.1478688675871 33.1478688675871,135.99893269737433 10.0,112.85106382978724\" style=\"fill:#ECB172A0;stroke-width:0\"/>\n",
       "\n",
       "  <!-- Horizontal lines -->\n",
       "  <line x1=\"10\" y1=\"0\" x2=\"130\" y2=\"0\" style=\"stroke-width:2\" />\n",
       "  <line x1=\"33\" y1=\"23\" x2=\"153\" y2=\"23\" style=\"stroke-width:2\" />\n",
       "\n",
       "  <!-- Vertical lines -->\n",
       "  <line x1=\"10\" y1=\"0\" x2=\"33\" y2=\"23\" style=\"stroke-width:2\" />\n",
       "  <line x1=\"130\" y1=\"0\" x2=\"153\" y2=\"23\" style=\"stroke-width:2\" />\n",
       "\n",
       "  <!-- Colored Rectangle -->\n",
       "  <polygon points=\"10.0,0.0 130.0,0.0 153.1478688675871,23.1478688675871 33.1478688675871,23.1478688675871\" style=\"fill:#ECB172A0;stroke-width:0\"/>\n",
       "\n",
       "  <!-- Horizontal lines -->\n",
       "  <line x1=\"33\" y1=\"23\" x2=\"153\" y2=\"23\" style=\"stroke-width:2\" />\n",
       "  <line x1=\"33\" y1=\"135\" x2=\"153\" y2=\"135\" style=\"stroke-width:2\" />\n",
       "\n",
       "  <!-- Vertical lines -->\n",
       "  <line x1=\"33\" y1=\"23\" x2=\"33\" y2=\"135\" style=\"stroke-width:2\" />\n",
       "  <line x1=\"153\" y1=\"23\" x2=\"153\" y2=\"135\" style=\"stroke-width:2\" />\n",
       "\n",
       "  <!-- Colored Rectangle -->\n",
       "  <polygon points=\"33.1478688675871,23.1478688675871 153.1478688675871,23.1478688675871 153.1478688675871,135.99893269737433 33.1478688675871,135.99893269737433\" style=\"fill:#ECB172A0;stroke-width:0\"/>\n",
       "\n",
       "  <!-- Text -->\n",
       "  <text x=\"93.147869\" y=\"155.998933\" font-size=\"1.0rem\" font-weight=\"100\" text-anchor=\"middle\" >235</text>\n",
       "  <text x=\"173.147869\" y=\"79.573401\" font-size=\"1.0rem\" font-weight=\"100\" text-anchor=\"middle\" transform=\"rotate(-90,173.147869,79.573401)\">221</text>\n",
       "  <text x=\"11.573934\" y=\"144.424998\" font-size=\"1.0rem\" font-weight=\"100\" text-anchor=\"middle\" transform=\"rotate(45,11.573934,144.424998)\">27</text>\n",
       "</svg>\n",
       "        </td>\n",
       "    </tr>\n",
       "</table>"
      ],
      "text/plain": [
       "dask.array<getitem, shape=(27, 221, 235), dtype=float32, chunksize=(27, 221, 235), chunktype=numpy.ndarray>"
      ]
     },
     "execution_count": 11,
     "metadata": {},
     "output_type": "execute_result"
    }
   ],
   "source": [
    "potential_array.array"
   ]
  },
  {
   "cell_type": "markdown",
   "metadata": {},
   "source": [
    "The calculated potential can be stored in the `zarr` file format and read back."
   ]
  },
  {
   "cell_type": "code",
   "execution_count": 15,
   "metadata": {},
   "outputs": [],
   "source": [
    "potential_array.to_zarr('data/srtio3_110_potential.zarr', overwrite=True)"
   ]
  },
  {
   "cell_type": "code",
   "execution_count": 17,
   "metadata": {},
   "outputs": [
    {
     "data": {
      "text/plain": [
       "<abtem.potentials.potentials.PotentialArray at 0x1c645455910>"
      ]
     },
     "execution_count": 17,
     "metadata": {},
     "output_type": "execute_result"
    }
   ],
   "source": [
    "abtem.from_zarr('data/srtio3_110_potential.zarr')"
   ]
  },
  {
   "cell_type": "markdown",
   "metadata": {},
   "source": [
    "## Slicing of the potential"
   ]
  },
  {
   "cell_type": "markdown",
   "metadata": {},
   "source": [
    "The multislice method requires a mathematical slicing of the potential. The multislice algorithm is only correct in the limit of thin slices, however, more slices increases the computational cost. A reasonable value for slice thickness is generally between $0.5 \\ Å$ and $2 \\ Å$. The default is $0.5 \\ Å$."
   ]
  },
  {
   "cell_type": "markdown",
   "metadata": {},
   "source": [
    "### Finite projections"
   ]
  },
  {
   "cell_type": "markdown",
   "metadata": {},
   "source": [
    "abTEM implements an accurate finite potential projection method. Numerical integration is used to calculate the integrals of the form\n",
    "\n",
    "$$\n",
    "V_{proj}^{(i)}(x, y) = \\int_{z_i}^{z_i+\\Delta z} V(x,y,z) dz \\quad ,\n",
    "$$\n",
    "\n",
    "where $z_i$ is the $z$-position at the entrance of the $i$'th slice and $\\Delta z$ is the slice thickness. The numerical integrals are efficiently handled by the double exponential Tanh–Sinh quadrature, which is designed for accurate results using a minimum number of evaluations for functions with singularities."
   ]
  },
  {
   "cell_type": "markdown",
   "metadata": {},
   "source": [
    "#### Cutoff\n",
    "\n",
    "The potential of a single atom is very localized, but in principle infinite in extent, hence we need to set a reasonable cutoff. The cutoff is calculated by solving the equation\n",
    "\n",
    "$$\n",
    "V(r) = V_{tol} \\quad ,\n",
    "$$\n",
    "\n",
    "where $V_{tol}$ is the error at the cut-off. The equation is solved for each species. The use of the cut-off radius creates a discontinuity; hence, abTEM uses a tapering near the cut-off. $V_{cut}$ can be modified using the `cutoff_tolerance` argument of the `Potential` or `AtomicPotential` objects. abTEM uses a tapering cutoff starting at $85 \\ \\%$ of the full cutoff."
   ]
  },
  {
   "cell_type": "code",
   "execution_count": 18,
   "metadata": {},
   "outputs": [
    {
     "name": "stdout",
     "output_type": "stream",
     "text": [
      "Oxygen cutoff: 2.63498745959192\n",
      "Strontium cutoff: 6.346935466282788\n"
     ]
    }
   ],
   "source": [
    "print('Oxygen cutoff:', AtomicPotential('O', cutoff_tolerance=1e-3).cutoff)\n",
    "print('Strontium cutoff:', AtomicPotential('Sr', cutoff_tolerance=1e-3).cutoff)"
   ]
  },
  {
   "cell_type": "markdown",
   "metadata": {},
   "source": [
    "### Infinite projections"
   ]
  },
  {
   "cell_type": "markdown",
   "metadata": {},
   "source": [
    "Since the finite projection method can be computationally demanding, abTEM also implements the infinite projection scheme. The finite integrals are replaced by infinite integrals, which may be evaluated analytically\n",
    "\n",
    "$$ \\int_{-\\infty}^{\\infty} V(x,y,z) dz \\approx \\int_{z_i}^{z_i+\\Delta z} V(x,y,z) dz $$\n",
    "\n",
    "The infinite projection of the atomic potential for each atom is assigned to a single slice. The implementation uses the hybrid real-space/Fourier-space approach by W. van den Broek et. al. (https://doi.org/10.1016/j.ultramic.2015.07.005). Using infinite projections is up to 10 times faster on CPU and up to 100 times faster on GPU, especially for potentials with a large numbers of atoms.\n",
    "\n",
    "Below we create a potential with infinite projections:"
   ]
  },
  {
   "cell_type": "code",
   "execution_count": 12,
   "metadata": {},
   "outputs": [
    {
     "ename": "NameError",
     "evalue": "name 'Potential' is not defined",
     "output_type": "error",
     "traceback": [
      "\u001b[1;31m---------------------------------------------------------------------------\u001b[0m",
      "\u001b[1;31mNameError\u001b[0m                                 Traceback (most recent call last)",
      "\u001b[1;32m~\\AppData\\Local\\Temp/ipykernel_26120/2612904764.py\u001b[0m in \u001b[0;36m<module>\u001b[1;34m\u001b[0m\n\u001b[1;32m----> 1\u001b[1;33m \u001b[0mpotential\u001b[0m \u001b[1;33m=\u001b[0m \u001b[0mPotential\u001b[0m\u001b[1;33m(\u001b[0m\u001b[0matoms\u001b[0m\u001b[1;33m,\u001b[0m \u001b[0mprojection\u001b[0m\u001b[1;33m=\u001b[0m\u001b[1;34m'infinite'\u001b[0m\u001b[1;33m,\u001b[0m \u001b[0msampling\u001b[0m\u001b[1;33m=\u001b[0m\u001b[1;36m.05\u001b[0m\u001b[1;33m)\u001b[0m\u001b[1;33m\u001b[0m\u001b[1;33m\u001b[0m\u001b[0m\n\u001b[0m\u001b[0;32m      2\u001b[0m \u001b[1;33m\u001b[0m\u001b[0m\n\u001b[0;32m      3\u001b[0m \u001b[0mpotential\u001b[0m\u001b[1;33m.\u001b[0m\u001b[0mbuild\u001b[0m\u001b[1;33m(\u001b[0m\u001b[0mlazy\u001b[0m\u001b[1;33m=\u001b[0m\u001b[1;32mFalse\u001b[0m\u001b[1;33m)\u001b[0m\u001b[1;33m\u001b[0m\u001b[1;33m\u001b[0m\u001b[0m\n",
      "\u001b[1;31mNameError\u001b[0m: name 'Potential' is not defined"
     ]
    }
   ],
   "source": [
    "potential = Potential(atoms, projection='infinite', sampling=.05)\n",
    "\n",
    "potential.build(lazy=False)"
   ]
  }
 ],
 "metadata": {
  "kernelspec": {
   "display_name": "dask-gpu",
   "language": "python",
   "name": "dask-gpu"
  },
  "language_info": {
   "codemirror_mode": {
    "name": "ipython",
    "version": 3
   },
   "file_extension": ".py",
   "mimetype": "text/x-python",
   "name": "python",
   "nbconvert_exporter": "python",
   "pygments_lexer": "ipython3",
   "version": "3.9.7"
  },
  "pycharm": {
   "stem_cell": {
    "cell_type": "raw",
    "metadata": {
     "collapsed": false
    },
    "source": []
   }
  }
 },
 "nbformat": 4,
 "nbformat_minor": 4
}
