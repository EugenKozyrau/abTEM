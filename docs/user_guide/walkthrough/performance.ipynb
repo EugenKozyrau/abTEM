{
 "cells": [
  {
   "cell_type": "code",
   "execution_count": 1,
   "id": "c8a68d55-5e9b-4bab-b324-05b89a56cecd",
   "metadata": {
    "pycharm": {
     "name": "#%%\n"
    },
    "tags": [
     "hide-input"
    ]
   },
   "outputs": [],
   "source": [
    "import abtem\n",
    "import ase\n",
    "import dask\n",
    "from IPython.display import Image, display \n",
    "\n",
    "dask.config.set({\"array.svg.size\": 90});"
   ]
  },
  {
   "cell_type": "markdown",
   "id": "2b2c74ed-dfb6-4426-898a-63110b6fb253",
   "metadata": {
    "pycharm": {
     "name": "#%% md\n"
    }
   },
   "source": [
    "# Parallelization and Dask\n",
    "\n",
    "The computational cost of running multislice simulations can grow large depending on the number of probe positions, phonons and many other factors. This cost can be mitigated by using parallelism. Much of the necessary work in abTEM is [embarrasingly parallel](https://en.wikipedia.org/wiki/Embarrassingly_parallel), for example, every probe position is independent, thus each CPU core may calculate a batch of positions independently, only requiring communication after finishing a run of the multislice algorithm. \n",
    "\n",
    "abTEM is parallelized using [Dask](https://www.dask.org/){cite}`dask`. Dask allows scaling from a single laptop to hundreds of nodes at high-performance computing (HPC) facilities with minimal changes to the code. \n",
    "\n",
    "In this document, we introduce how abTEM uses Dask, this is not required knowledge for running abTEM on a single machine, nonetheless, it may still help you optimize your simulations. If you are already an experienced Dask user, most of what you already know can be applied to using abTEM. If you are new to Dask you may benefit from watching [this introduction](https://www.youtube.com/watch?v=nnndxbr_Xq4) before continuing. We note that Dask is used in several other libraries in electron microscopy, for example, [hyperspy](https://hyperspy.org/), [libertem](https://libertem.github.io/LiberTEM/) and [py4DSTEM](https://py4dstem.readthedocs.io/en/latest/), and we think that you may benefit from knowing this library more generally."
   ]
  },
  {
   "cell_type": "markdown",
   "id": "43b2aaf0-80a0-4058-99a2-faa12025ab42",
   "metadata": {
    "pycharm": {
     "name": "#%% md\n"
    }
   },
   "source": [
    "## Task graphs\n",
    "\n",
    "Simulating TEM experiments requires executing multiple tasks where each task may depend on the output of previous tasks. In Dask this is represented as a [*task graph*](https://docs.dask.org/en/stable/graphs.html), where each task is a node with edges between nodes if the task is dependent on another task. The simulation result is obtained by executing each task (node) in the graph with a Dask scheduler on a single machine or a cluster."
   ]
  },
  {
   "cell_type": "code",
   "execution_count": 2,
   "id": "fe6765fb-d0ea-4c35-b5bf-2eaadee69b0b",
   "metadata": {
    "tags": [
     "remove-input"
    ]
   },
   "outputs": [
    {
     "data": {
      "text/html": [
       "<img src=\"https://docs.dask.org/en/stable/_images/dask-overview.svg\" width=\"600\"/>"
      ],
      "text/plain": [
       "<IPython.core.display.Image object>"
      ]
     },
     "metadata": {},
     "output_type": "display_data"
    }
   ],
   "source": [
    "display(\n",
    "    Image(url=\"https://docs.dask.org/en/stable/_images/dask-overview.svg\", width=600)\n",
    ")"
   ]
  },
  {
   "cell_type": "markdown",
   "id": "95b10156-ee85-4600-92ed-b9c7c398dbdc",
   "metadata": {},
   "source": [
    "Below we create the task graph for running a multislice simulation using plane waves with gold in the $\\left<100\\right>$ zone axis with 4 frozen phonons. "
   ]
  },
  {
   "cell_type": "code",
   "execution_count": 130,
   "id": "60ba5ba0-0d6d-4ecb-8fdd-fa80316a579b",
   "metadata": {},
   "outputs": [],
   "source": [
    "atoms = ase.build.bulk(\"Au\", cubic=True) * (5, 5, 2)\n",
    "\n",
    "frozen_phonons = abtem.FrozenPhonons(\n",
    "    atoms, num_configs=4, sigmas=0.1, ensemble_mean=False\n",
    ")\n",
    "\n",
    "potential = abtem.Potential(frozen_phonons, gpts=1024, slice_thickness=2)\n",
    "\n",
    "probe = abtem.PlaneWave(energy=200e3)\n",
    "\n",
    "exit_waves = probe.multislice(potential)"
   ]
  },
  {
   "cell_type": "markdown",
   "id": "cbc97cd9-2777-4ef4-a0c4-c020517b708e",
   "metadata": {},
   "source": [
    "The result is an ensemble of $4$ wave functions of shape $512\\times512$, which may be represented as a 3D array, where the first dimension represents the phonon ensemble and the last $2$ dimensions represents the 2d wave functions. \n",
    "\n",
    "As we have not executed the task graph yet, the wave functions are represented as a [Dask Array](https://docs.dask.org/en/stable/array.html). We can think of the Dask array as being composed of many smaller NumPy arrays, called *chunks*, and operations may be applied to each chunk rather than the full array. This enables \n",
    "\n",
    "1. Parallelism over the chunks \n",
    "2. Representing a larger-than-memory array as many smaller arrays which each fits in memory\n",
    "\n",
    "The Dask array `__repr__` shows how the chunks are laid out."
   ]
  },
  {
   "cell_type": "code",
   "execution_count": 131,
   "id": "adc736d7-6ca1-47a7-baa5-eb6a9b0d69cb",
   "metadata": {},
   "outputs": [
    {
     "data": {
      "text/html": [
       "<table>\n",
       "    <tr>\n",
       "        <td>\n",
       "            <table>\n",
       "                <thead>\n",
       "                    <tr>\n",
       "                        <td> </td>\n",
       "                        <th> Array </th>\n",
       "                        <th> Chunk </th>\n",
       "                    </tr>\n",
       "                </thead>\n",
       "                <tbody>\n",
       "                    \n",
       "                    <tr>\n",
       "                        <th> Bytes </th>\n",
       "                        <td> 32.00 MiB </td>\n",
       "                        <td> 8.00 MiB </td>\n",
       "                    </tr>\n",
       "                    \n",
       "                    <tr>\n",
       "                        <th> Shape </th>\n",
       "                        <td> (4, 1024, 1024) </td>\n",
       "                        <td> (1, 1024, 1024) </td>\n",
       "                    </tr>\n",
       "                    <tr>\n",
       "                        <th> Count </th>\n",
       "                        <td> 24 Tasks </td>\n",
       "                        <td> 4 Chunks </td>\n",
       "                    </tr>\n",
       "                    <tr>\n",
       "                    <th> Type </th>\n",
       "                    <td> complex64 </td>\n",
       "                    <td> numpy.ndarray </td>\n",
       "                    </tr>\n",
       "                </tbody>\n",
       "            </table>\n",
       "        </td>\n",
       "        <td>\n",
       "        <svg width=\"161\" height=\"151\" style=\"stroke:rgb(0,0,0);stroke-width:1\" >\n",
       "\n",
       "  <!-- Horizontal lines -->\n",
       "  <line x1=\"10\" y1=\"0\" x2=\"21\" y2=\"11\" style=\"stroke-width:2\" />\n",
       "  <line x1=\"10\" y1=\"90\" x2=\"21\" y2=\"101\" style=\"stroke-width:2\" />\n",
       "\n",
       "  <!-- Vertical lines -->\n",
       "  <line x1=\"10\" y1=\"0\" x2=\"10\" y2=\"90\" style=\"stroke-width:2\" />\n",
       "  <line x1=\"12\" y1=\"2\" x2=\"12\" y2=\"92\" />\n",
       "  <line x1=\"15\" y1=\"5\" x2=\"15\" y2=\"95\" />\n",
       "  <line x1=\"18\" y1=\"8\" x2=\"18\" y2=\"98\" />\n",
       "  <line x1=\"21\" y1=\"11\" x2=\"21\" y2=\"101\" style=\"stroke-width:2\" />\n",
       "\n",
       "  <!-- Colored Rectangle -->\n",
       "  <polygon points=\"10.0,0.0 21.2114484623158,11.211448462315802 21.2114484623158,101.2114484623158 10.0,90.0\" style=\"fill:#ECB172A0;stroke-width:0\"/>\n",
       "\n",
       "  <!-- Horizontal lines -->\n",
       "  <line x1=\"10\" y1=\"0\" x2=\"100\" y2=\"0\" style=\"stroke-width:2\" />\n",
       "  <line x1=\"12\" y1=\"2\" x2=\"102\" y2=\"2\" />\n",
       "  <line x1=\"15\" y1=\"5\" x2=\"105\" y2=\"5\" />\n",
       "  <line x1=\"18\" y1=\"8\" x2=\"108\" y2=\"8\" />\n",
       "  <line x1=\"21\" y1=\"11\" x2=\"111\" y2=\"11\" style=\"stroke-width:2\" />\n",
       "\n",
       "  <!-- Vertical lines -->\n",
       "  <line x1=\"10\" y1=\"0\" x2=\"21\" y2=\"11\" style=\"stroke-width:2\" />\n",
       "  <line x1=\"100\" y1=\"0\" x2=\"111\" y2=\"11\" style=\"stroke-width:2\" />\n",
       "\n",
       "  <!-- Colored Rectangle -->\n",
       "  <polygon points=\"10.0,0.0 100.0,0.0 111.2114484623158,11.211448462315802 21.2114484623158,11.211448462315802\" style=\"fill:#ECB172A0;stroke-width:0\"/>\n",
       "\n",
       "  <!-- Horizontal lines -->\n",
       "  <line x1=\"21\" y1=\"11\" x2=\"111\" y2=\"11\" style=\"stroke-width:2\" />\n",
       "  <line x1=\"21\" y1=\"101\" x2=\"111\" y2=\"101\" style=\"stroke-width:2\" />\n",
       "\n",
       "  <!-- Vertical lines -->\n",
       "  <line x1=\"21\" y1=\"11\" x2=\"21\" y2=\"101\" style=\"stroke-width:2\" />\n",
       "  <line x1=\"111\" y1=\"11\" x2=\"111\" y2=\"101\" style=\"stroke-width:2\" />\n",
       "\n",
       "  <!-- Colored Rectangle -->\n",
       "  <polygon points=\"21.2114484623158,11.211448462315802 111.2114484623158,11.211448462315802 111.2114484623158,101.2114484623158 21.2114484623158,101.2114484623158\" style=\"fill:#ECB172A0;stroke-width:0\"/>\n",
       "\n",
       "  <!-- Text -->\n",
       "  <text x=\"66.211448\" y=\"121.211448\" font-size=\"1.0rem\" font-weight=\"100\" text-anchor=\"middle\" >1024</text>\n",
       "  <text x=\"131.211448\" y=\"56.211448\" font-size=\"1.0rem\" font-weight=\"100\" text-anchor=\"middle\" transform=\"rotate(-90,131.211448,56.211448)\">1024</text>\n",
       "  <text x=\"5.605724\" y=\"115.605724\" font-size=\"1.0rem\" font-weight=\"100\" text-anchor=\"middle\" transform=\"rotate(45,5.605724,115.605724)\">4</text>\n",
       "</svg>\n",
       "        </td>\n",
       "    </tr>\n",
       "</table>"
      ],
      "text/plain": [
       "dask.array<_extract_measurement, shape=(4, 1024, 1024), dtype=complex64, chunksize=(1, 1024, 1024), chunktype=numpy.ndarray>"
      ]
     },
     "execution_count": 131,
     "metadata": {},
     "output_type": "execute_result"
    }
   ],
   "source": [
    "exit_waves.array"
   ]
  },
  {
   "cell_type": "markdown",
   "id": "07d22d90-2701-4d3e-bc91-ab2260232950",
   "metadata": {},
   "source": [
    "We see that the Dask array has the shape `(4, 512, 512)` requiring 8 MB of memory, this is composed of chunks with a shape `(1, 512, 512)` requiring 2 MB each. We stress that the Dask array just represents a task graph, hence, memory is consumed only if it is computed.\n",
    "\n",
    "Each chunk of the Dask array created above represents a wave function for a frozen phonon configuration. This reflects that, in the multislice algorithm, each frozen phonon configuration is independent and may be calculated in parallel. On the other hand, we should not have chunks across wave functions because each part of the wave function is affected by every other part.\n",
    "\n",
    "We can visualize the task graph using Dasks [`visualize`](https://docs.dask.org/en/stable/graphviz.html) method. We see that the task graph consists of 4 fully independent branches, one for each frozen phonon.\n",
    "\n",
    "````{note}\n",
    "Drawing dask graphs with the cytoscape engine requires the `ipycytoscape` python library. To reproduce the result below you need to:\n",
    "```\n",
    "  python -m pip install ipycytoscape\n",
    "```\n",
    "and restart jupyter.\n",
    "````"
   ]
  },
  {
   "cell_type": "code",
   "execution_count": 132,
   "id": "45d463ae-c282-4710-a05c-0817cb996457",
   "metadata": {},
   "outputs": [
    {
     "data": {
      "application/vnd.jupyter.widget-view+json": {
       "model_id": "d833713076d14165809552b10a067bbd",
       "version_major": 2,
       "version_minor": 0
      },
      "text/plain": [
       "CytoscapeWidget(cytoscape_layout={'name': 'dagre', 'rankDir': 'BT', 'nodeSep': 10, 'edgeSep': 10, 'spacingFact…"
      ]
     },
     "execution_count": 132,
     "metadata": {},
     "output_type": "execute_result"
    }
   ],
   "source": [
    "exit_waves.array.visualize(engine=\"cytoscape\")"
   ]
  },
  {
   "cell_type": "markdown",
   "id": "20d970c0-56e5-4066-b1d8-f6c71f59fb46",
   "metadata": {},
   "source": [
    "We usually take the mean across the frozen phonon dimension, thus, we end up with an image represented as a single chunk."
   ]
  },
  {
   "cell_type": "code",
   "execution_count": 133,
   "id": "907e3a1e-7132-4dc5-aa9b-bdeed01a6170",
   "metadata": {},
   "outputs": [
    {
     "data": {
      "text/html": [
       "<table>\n",
       "    <tr>\n",
       "        <td>\n",
       "            <table>\n",
       "                <thead>\n",
       "                    <tr>\n",
       "                        <td> </td>\n",
       "                        <th> Array </th>\n",
       "                        <th> Chunk </th>\n",
       "                    </tr>\n",
       "                </thead>\n",
       "                <tbody>\n",
       "                    \n",
       "                    <tr>\n",
       "                        <th> Bytes </th>\n",
       "                        <td> 4.00 MiB </td>\n",
       "                        <td> 4.00 MiB </td>\n",
       "                    </tr>\n",
       "                    \n",
       "                    <tr>\n",
       "                        <th> Shape </th>\n",
       "                        <td> (1024, 1024) </td>\n",
       "                        <td> (1024, 1024) </td>\n",
       "                    </tr>\n",
       "                    <tr>\n",
       "                        <th> Count </th>\n",
       "                        <td> 35 Tasks </td>\n",
       "                        <td> 1 Chunks </td>\n",
       "                    </tr>\n",
       "                    <tr>\n",
       "                    <th> Type </th>\n",
       "                    <td> float32 </td>\n",
       "                    <td> numpy.ndarray </td>\n",
       "                    </tr>\n",
       "                </tbody>\n",
       "            </table>\n",
       "        </td>\n",
       "        <td>\n",
       "        <svg width=\"140\" height=\"140\" style=\"stroke:rgb(0,0,0);stroke-width:1\" >\n",
       "\n",
       "  <!-- Horizontal lines -->\n",
       "  <line x1=\"0\" y1=\"0\" x2=\"90\" y2=\"0\" style=\"stroke-width:2\" />\n",
       "  <line x1=\"0\" y1=\"90\" x2=\"90\" y2=\"90\" style=\"stroke-width:2\" />\n",
       "\n",
       "  <!-- Vertical lines -->\n",
       "  <line x1=\"0\" y1=\"0\" x2=\"0\" y2=\"90\" style=\"stroke-width:2\" />\n",
       "  <line x1=\"90\" y1=\"0\" x2=\"90\" y2=\"90\" style=\"stroke-width:2\" />\n",
       "\n",
       "  <!-- Colored Rectangle -->\n",
       "  <polygon points=\"0.0,0.0 90.0,0.0 90.0,90.0 0.0,90.0\" style=\"fill:#ECB172A0;stroke-width:0\"/>\n",
       "\n",
       "  <!-- Text -->\n",
       "  <text x=\"45.000000\" y=\"110.000000\" font-size=\"1.0rem\" font-weight=\"100\" text-anchor=\"middle\" >1024</text>\n",
       "  <text x=\"110.000000\" y=\"45.000000\" font-size=\"1.0rem\" font-weight=\"100\" text-anchor=\"middle\" transform=\"rotate(-90,110.000000,45.000000)\">1024</text>\n",
       "</svg>\n",
       "        </td>\n",
       "    </tr>\n",
       "</table>"
      ],
      "text/plain": [
       "dask.array<mean_agg-aggregate, shape=(1024, 1024), dtype=float32, chunksize=(1024, 1024), chunktype=numpy.ndarray>"
      ]
     },
     "execution_count": 133,
     "metadata": {},
     "output_type": "execute_result"
    }
   ],
   "source": [
    "hrtem_image = exit_waves.intensity().mean(0)\n",
    "\n",
    "hrtem_image.array"
   ]
  },
  {
   "cell_type": "markdown",
   "id": "b9661725-7a20-44f6-8415-52489e91259b",
   "metadata": {},
   "source": [
    "Taking the mean across frozen phonon chunks requires communicating the exit wave function intensity. Showing the task graph we see how the branches are merged where the result have to be communicated between workers."
   ]
  },
  {
   "cell_type": "code",
   "execution_count": 134,
   "id": "27e8b98c-362e-4543-b6c2-e033a827143e",
   "metadata": {},
   "outputs": [
    {
     "data": {
      "application/vnd.jupyter.widget-view+json": {
       "model_id": "dc6f95989559435f9f2ef9e0700ccffe",
       "version_major": 2,
       "version_minor": 0
      },
      "text/plain": [
       "CytoscapeWidget(cytoscape_layout={'name': 'dagre', 'rankDir': 'BT', 'nodeSep': 10, 'edgeSep': 10, 'spacingFact…"
      ]
     },
     "execution_count": 134,
     "metadata": {},
     "output_type": "execute_result"
    }
   ],
   "source": [
    "hrtem_image.array.visualize(engine=\"cytoscape\")"
   ]
  },
  {
   "cell_type": "markdown",
   "id": "7dcdbfb7-41d3-49ff-995f-bf17f01a120f",
   "metadata": {},
   "source": [
    "## Chunks\n",
    "To futher explore the role of chunks in abTEM, we create the task graph for running a STEM simulation with gold in the $\\left<100\\right>$ zone axis with 4 frozen phonons. We do not immediately apply a detector, hence we obtain an ensemble of exit wave functions. "
   ]
  },
  {
   "cell_type": "code",
   "execution_count": 153,
   "id": "5b9baf98-b088-4c6f-954d-8ae1a7d22c23",
   "metadata": {
    "pycharm": {
     "name": "#%%\n"
    }
   },
   "outputs": [
    {
     "data": {
      "text/plain": [
       "type               label           coordinates\n",
       "-----------------  --------------  -------------------\n",
       "FrozenPhononsAxis  Frozen phonons  -\n",
       "ScanAxis           x [Å]           0.00 0.27 ... 3.81\n",
       "ScanAxis           y [Å]           0.00 0.27 ... 3.81\n",
       "RealSpaceAxis      x [Å]           0.00 0.04 ... 20.36\n",
       "RealSpaceAxis      y [Å]           0.00 0.04 ... 20.36"
      ]
     },
     "execution_count": 153,
     "metadata": {},
     "output_type": "execute_result"
    }
   ],
   "source": [
    "probe = abtem.Probe(energy=200e3, semiangle_cutoff=20)\n",
    "\n",
    "scan = abtem.GridScan.from_fractional_coordinates(\n",
    "    potential,\n",
    "    start=(0, 0),\n",
    "    end=(1 / 5, 1 / 5),\n",
    ")\n",
    "\n",
    "frozen_phonons = abtem.FrozenPhonons(\n",
    "    atoms, num_configs=4, sigmas=0.1, ensemble_mean=True\n",
    ")\n",
    "\n",
    "potential = abtem.Potential(frozen_phonons, gpts=512, slice_thickness=2)\n",
    "\n",
    "exit_waves_stem = probe.multislice(potential, scan=scan)\n",
    "\n",
    "exit_waves_stem.axes_metadata"
   ]
  },
  {
   "cell_type": "markdown",
   "id": "69036139-511e-482d-8f72-e66b71df0924",
   "metadata": {},
   "source": [
    "The wave functions are represented as a 5D Dask array, a 3D ensemble of 2D wave functions, the ensemble is composed of one phonon dimension and 2 scan dimensions, one for each of the $x$ and $y$ direction. \n",
    "\n",
    "The full array is of shape `(4, 15, 15, 512, 512)` requiring 1.76 GB of memory, this is cut into chunks of shape `(1, 8, 7, 512, 512)` of 112 MB. Hence, there is a total of $4 \\times 2 \\times 3 = 24$ chunks."
   ]
  },
  {
   "cell_type": "code",
   "execution_count": 154,
   "id": "0d0ab17b-53e3-4e79-856a-d734fe3c1cbe",
   "metadata": {},
   "outputs": [
    {
     "data": {
      "text/html": [
       "<table>\n",
       "    <tr>\n",
       "        <td>\n",
       "            <table>\n",
       "                <thead>\n",
       "                    <tr>\n",
       "                        <td> </td>\n",
       "                        <th> Array </th>\n",
       "                        <th> Chunk </th>\n",
       "                    </tr>\n",
       "                </thead>\n",
       "                <tbody>\n",
       "                    \n",
       "                    <tr>\n",
       "                        <th> Bytes </th>\n",
       "                        <td> 1.76 GiB </td>\n",
       "                        <td> 112.00 MiB </td>\n",
       "                    </tr>\n",
       "                    \n",
       "                    <tr>\n",
       "                        <th> Shape </th>\n",
       "                        <td> (4, 15, 15, 512, 512) </td>\n",
       "                        <td> (1, 8, 7, 512, 512) </td>\n",
       "                    </tr>\n",
       "                    <tr>\n",
       "                        <th> Count </th>\n",
       "                        <td> 69 Tasks </td>\n",
       "                        <td> 24 Chunks </td>\n",
       "                    </tr>\n",
       "                    <tr>\n",
       "                    <th> Type </th>\n",
       "                    <td> complex64 </td>\n",
       "                    <td> numpy.ndarray </td>\n",
       "                    </tr>\n",
       "                </tbody>\n",
       "            </table>\n",
       "        </td>\n",
       "        <td>\n",
       "        <svg width=\"339\" height=\"153\" style=\"stroke:rgb(0,0,0);stroke-width:1\" >\n",
       "\n",
       "  <!-- Horizontal lines -->\n",
       "  <line x1=\"0\" y1=\"0\" x2=\"23\" y2=\"0\" style=\"stroke-width:2\" />\n",
       "  <line x1=\"0\" y1=\"4\" x2=\"23\" y2=\"4\" />\n",
       "  <line x1=\"0\" y1=\"9\" x2=\"23\" y2=\"9\" />\n",
       "  <line x1=\"0\" y1=\"14\" x2=\"23\" y2=\"14\" />\n",
       "  <line x1=\"0\" y1=\"19\" x2=\"23\" y2=\"19\" style=\"stroke-width:2\" />\n",
       "\n",
       "  <!-- Vertical lines -->\n",
       "  <line x1=\"0\" y1=\"0\" x2=\"0\" y2=\"19\" style=\"stroke-width:2\" />\n",
       "  <line x1=\"12\" y1=\"0\" x2=\"12\" y2=\"19\" />\n",
       "  <line x1=\"23\" y1=\"0\" x2=\"23\" y2=\"19\" style=\"stroke-width:2\" />\n",
       "\n",
       "  <!-- Colored Rectangle -->\n",
       "  <polygon points=\"0.0,0.0 23.436469151419786,0.0 23.436469151419786,19.059462385936865 0.0,19.059462385936865\" style=\"fill:#ECB172A0;stroke-width:0\"/>\n",
       "\n",
       "  <!-- Text -->\n",
       "  <text x=\"11.718235\" y=\"39.059462\" font-size=\"1.0rem\" font-weight=\"100\" text-anchor=\"middle\" >15</text>\n",
       "  <text x=\"43.436469\" y=\"9.529731\" font-size=\"1.0rem\" font-weight=\"100\" text-anchor=\"middle\" transform=\"rotate(0,43.436469,9.529731)\">4</text>\n",
       "\n",
       "\n",
       "  <!-- Horizontal lines -->\n",
       "  <line x1=\"93\" y1=\"0\" x2=\"106\" y2=\"13\" style=\"stroke-width:2\" />\n",
       "  <line x1=\"93\" y1=\"90\" x2=\"106\" y2=\"103\" style=\"stroke-width:2\" />\n",
       "\n",
       "  <!-- Vertical lines -->\n",
       "  <line x1=\"93\" y1=\"0\" x2=\"93\" y2=\"90\" style=\"stroke-width:2\" />\n",
       "  <line x1=\"99\" y1=\"6\" x2=\"99\" y2=\"96\" />\n",
       "  <line x1=\"105\" y1=\"12\" x2=\"105\" y2=\"102\" />\n",
       "  <line x1=\"106\" y1=\"13\" x2=\"106\" y2=\"103\" style=\"stroke-width:2\" />\n",
       "\n",
       "  <!-- Colored Rectangle -->\n",
       "  <polygon points=\"93.0,0.0 106.78615832436458,13.78615832436458 106.78615832436458,103.78615832436458 93.0,90.0\" style=\"fill:#ECB172A0;stroke-width:0\"/>\n",
       "\n",
       "  <!-- Horizontal lines -->\n",
       "  <line x1=\"93\" y1=\"0\" x2=\"183\" y2=\"0\" style=\"stroke-width:2\" />\n",
       "  <line x1=\"99\" y1=\"6\" x2=\"189\" y2=\"6\" />\n",
       "  <line x1=\"105\" y1=\"12\" x2=\"195\" y2=\"12\" />\n",
       "  <line x1=\"106\" y1=\"13\" x2=\"196\" y2=\"13\" style=\"stroke-width:2\" />\n",
       "\n",
       "  <!-- Vertical lines -->\n",
       "  <line x1=\"93\" y1=\"0\" x2=\"106\" y2=\"13\" style=\"stroke-width:2\" />\n",
       "  <line x1=\"183\" y1=\"0\" x2=\"196\" y2=\"13\" style=\"stroke-width:2\" />\n",
       "\n",
       "  <!-- Colored Rectangle -->\n",
       "  <polygon points=\"93.0,0.0 183.0,0.0 196.78615832436458,13.78615832436458 106.78615832436458,13.78615832436458\" style=\"fill:#ECB172A0;stroke-width:0\"/>\n",
       "\n",
       "  <!-- Horizontal lines -->\n",
       "  <line x1=\"106\" y1=\"13\" x2=\"196\" y2=\"13\" style=\"stroke-width:2\" />\n",
       "  <line x1=\"106\" y1=\"103\" x2=\"196\" y2=\"103\" style=\"stroke-width:2\" />\n",
       "\n",
       "  <!-- Vertical lines -->\n",
       "  <line x1=\"106\" y1=\"13\" x2=\"106\" y2=\"103\" style=\"stroke-width:2\" />\n",
       "  <line x1=\"196\" y1=\"13\" x2=\"196\" y2=\"103\" style=\"stroke-width:2\" />\n",
       "\n",
       "  <!-- Colored Rectangle -->\n",
       "  <polygon points=\"106.78615832436458,13.78615832436458 196.78615832436458,13.78615832436458 196.78615832436458,103.78615832436458 106.78615832436458,103.78615832436458\" style=\"fill:#ECB172A0;stroke-width:0\"/>\n",
       "\n",
       "  <!-- Text -->\n",
       "  <text x=\"151.786158\" y=\"123.786158\" font-size=\"1.0rem\" font-weight=\"100\" text-anchor=\"middle\" >512</text>\n",
       "  <text x=\"216.786158\" y=\"58.786158\" font-size=\"1.0rem\" font-weight=\"100\" text-anchor=\"middle\" transform=\"rotate(-90,216.786158,58.786158)\">512</text>\n",
       "  <text x=\"89.893079\" y=\"116.893079\" font-size=\"1.0rem\" font-weight=\"100\" text-anchor=\"middle\" transform=\"rotate(45,89.893079,116.893079)\">15</text>\n",
       "</svg>\n",
       "        </td>\n",
       "    </tr>\n",
       "</table>"
      ],
      "text/plain": [
       "dask.array<_extract_measurement, shape=(4, 15, 15, 512, 512), dtype=complex64, chunksize=(1, 8, 7, 512, 512), chunktype=numpy.ndarray>"
      ]
     },
     "execution_count": 154,
     "metadata": {},
     "output_type": "execute_result"
    }
   ],
   "source": [
    "exit_waves_stem.array"
   ]
  },
  {
   "cell_type": "markdown",
   "id": "00985534-3b37-458c-9cba-e5f6c783f334",
   "metadata": {},
   "source": [
    "We do not make a chunk for every probe position, instead each chunk of the scan dimension represents a batch of wave functions. This is done partly to limit [the overhead](https://docs.dask.org/en/stable/best-practices.html#avoid-very-large-graphs) that every chunk comes with, more importantly, larger batches enables efficient thread parallelization within each run of the multislice algorithm.\n",
    "\n",
    "We can change how many wave functions each batch should have using the `max_batch` keyword. Below we set `max_batch=4`, resulting in a total number of $4 \\times 8 \\times 8 = 256$ chunks."
   ]
  },
  {
   "cell_type": "code",
   "execution_count": 155,
   "id": "b1f9437b-ed6a-4836-8e6c-daa0ae526b21",
   "metadata": {},
   "outputs": [
    {
     "data": {
      "text/html": [
       "<table>\n",
       "    <tr>\n",
       "        <td>\n",
       "            <table>\n",
       "                <thead>\n",
       "                    <tr>\n",
       "                        <td> </td>\n",
       "                        <th> Array </th>\n",
       "                        <th> Chunk </th>\n",
       "                    </tr>\n",
       "                </thead>\n",
       "                <tbody>\n",
       "                    \n",
       "                    <tr>\n",
       "                        <th> Bytes </th>\n",
       "                        <td> 1.76 GiB </td>\n",
       "                        <td> 60.00 MiB </td>\n",
       "                    </tr>\n",
       "                    \n",
       "                    <tr>\n",
       "                        <th> Shape </th>\n",
       "                        <td> (4, 15, 15, 512, 512) </td>\n",
       "                        <td> (1, 6, 5, 512, 512) </td>\n",
       "                    </tr>\n",
       "                    <tr>\n",
       "                        <th> Count </th>\n",
       "                        <td> 94 Tasks </td>\n",
       "                        <td> 36 Chunks </td>\n",
       "                    </tr>\n",
       "                    <tr>\n",
       "                    <th> Type </th>\n",
       "                    <td> complex64 </td>\n",
       "                    <td> numpy.ndarray </td>\n",
       "                    </tr>\n",
       "                </tbody>\n",
       "            </table>\n",
       "        </td>\n",
       "        <td>\n",
       "        <svg width=\"339\" height=\"153\" style=\"stroke:rgb(0,0,0);stroke-width:1\" >\n",
       "\n",
       "  <!-- Horizontal lines -->\n",
       "  <line x1=\"0\" y1=\"0\" x2=\"23\" y2=\"0\" style=\"stroke-width:2\" />\n",
       "  <line x1=\"0\" y1=\"4\" x2=\"23\" y2=\"4\" />\n",
       "  <line x1=\"0\" y1=\"9\" x2=\"23\" y2=\"9\" />\n",
       "  <line x1=\"0\" y1=\"14\" x2=\"23\" y2=\"14\" />\n",
       "  <line x1=\"0\" y1=\"19\" x2=\"23\" y2=\"19\" style=\"stroke-width:2\" />\n",
       "\n",
       "  <!-- Vertical lines -->\n",
       "  <line x1=\"0\" y1=\"0\" x2=\"0\" y2=\"19\" style=\"stroke-width:2\" />\n",
       "  <line x1=\"9\" y1=\"0\" x2=\"9\" y2=\"19\" />\n",
       "  <line x1=\"18\" y1=\"0\" x2=\"18\" y2=\"19\" />\n",
       "  <line x1=\"23\" y1=\"0\" x2=\"23\" y2=\"19\" style=\"stroke-width:2\" />\n",
       "\n",
       "  <!-- Colored Rectangle -->\n",
       "  <polygon points=\"0.0,0.0 23.436469151419786,0.0 23.436469151419786,19.059462385936865 0.0,19.059462385936865\" style=\"fill:#ECB172A0;stroke-width:0\"/>\n",
       "\n",
       "  <!-- Text -->\n",
       "  <text x=\"11.718235\" y=\"39.059462\" font-size=\"1.0rem\" font-weight=\"100\" text-anchor=\"middle\" >15</text>\n",
       "  <text x=\"43.436469\" y=\"9.529731\" font-size=\"1.0rem\" font-weight=\"100\" text-anchor=\"middle\" transform=\"rotate(0,43.436469,9.529731)\">4</text>\n",
       "\n",
       "\n",
       "  <!-- Horizontal lines -->\n",
       "  <line x1=\"93\" y1=\"0\" x2=\"106\" y2=\"13\" style=\"stroke-width:2\" />\n",
       "  <line x1=\"93\" y1=\"90\" x2=\"106\" y2=\"103\" style=\"stroke-width:2\" />\n",
       "\n",
       "  <!-- Vertical lines -->\n",
       "  <line x1=\"93\" y1=\"0\" x2=\"93\" y2=\"90\" style=\"stroke-width:2\" />\n",
       "  <line x1=\"97\" y1=\"4\" x2=\"97\" y2=\"94\" />\n",
       "  <line x1=\"102\" y1=\"9\" x2=\"102\" y2=\"99\" />\n",
       "  <line x1=\"106\" y1=\"13\" x2=\"106\" y2=\"103\" style=\"stroke-width:2\" />\n",
       "\n",
       "  <!-- Colored Rectangle -->\n",
       "  <polygon points=\"93.0,0.0 106.78615832436458,13.78615832436458 106.78615832436458,103.78615832436458 93.0,90.0\" style=\"fill:#ECB172A0;stroke-width:0\"/>\n",
       "\n",
       "  <!-- Horizontal lines -->\n",
       "  <line x1=\"93\" y1=\"0\" x2=\"183\" y2=\"0\" style=\"stroke-width:2\" />\n",
       "  <line x1=\"97\" y1=\"4\" x2=\"187\" y2=\"4\" />\n",
       "  <line x1=\"102\" y1=\"9\" x2=\"192\" y2=\"9\" />\n",
       "  <line x1=\"106\" y1=\"13\" x2=\"196\" y2=\"13\" style=\"stroke-width:2\" />\n",
       "\n",
       "  <!-- Vertical lines -->\n",
       "  <line x1=\"93\" y1=\"0\" x2=\"106\" y2=\"13\" style=\"stroke-width:2\" />\n",
       "  <line x1=\"183\" y1=\"0\" x2=\"196\" y2=\"13\" style=\"stroke-width:2\" />\n",
       "\n",
       "  <!-- Colored Rectangle -->\n",
       "  <polygon points=\"93.0,0.0 183.0,0.0 196.78615832436458,13.78615832436458 106.78615832436458,13.78615832436458\" style=\"fill:#ECB172A0;stroke-width:0\"/>\n",
       "\n",
       "  <!-- Horizontal lines -->\n",
       "  <line x1=\"106\" y1=\"13\" x2=\"196\" y2=\"13\" style=\"stroke-width:2\" />\n",
       "  <line x1=\"106\" y1=\"103\" x2=\"196\" y2=\"103\" style=\"stroke-width:2\" />\n",
       "\n",
       "  <!-- Vertical lines -->\n",
       "  <line x1=\"106\" y1=\"13\" x2=\"106\" y2=\"103\" style=\"stroke-width:2\" />\n",
       "  <line x1=\"196\" y1=\"13\" x2=\"196\" y2=\"103\" style=\"stroke-width:2\" />\n",
       "\n",
       "  <!-- Colored Rectangle -->\n",
       "  <polygon points=\"106.78615832436458,13.78615832436458 196.78615832436458,13.78615832436458 196.78615832436458,103.78615832436458 106.78615832436458,103.78615832436458\" style=\"fill:#ECB172A0;stroke-width:0\"/>\n",
       "\n",
       "  <!-- Text -->\n",
       "  <text x=\"151.786158\" y=\"123.786158\" font-size=\"1.0rem\" font-weight=\"100\" text-anchor=\"middle\" >512</text>\n",
       "  <text x=\"216.786158\" y=\"58.786158\" font-size=\"1.0rem\" font-weight=\"100\" text-anchor=\"middle\" transform=\"rotate(-90,216.786158,58.786158)\">512</text>\n",
       "  <text x=\"89.893079\" y=\"116.893079\" font-size=\"1.0rem\" font-weight=\"100\" text-anchor=\"middle\" transform=\"rotate(45,89.893079,116.893079)\">15</text>\n",
       "</svg>\n",
       "        </td>\n",
       "    </tr>\n",
       "</table>"
      ],
      "text/plain": [
       "dask.array<_extract_measurement, shape=(4, 15, 15, 512, 512), dtype=complex64, chunksize=(1, 6, 5, 512, 512), chunktype=numpy.ndarray>"
      ]
     },
     "execution_count": 155,
     "metadata": {},
     "output_type": "execute_result"
    }
   ],
   "source": [
    "exit_waves_stem = probe.multislice(potential, scan=scan, max_batch=32)\n",
    "\n",
    "exit_waves_stem.array"
   ]
  },
  {
   "cell_type": "markdown",
   "id": "28998800-0b81-49f7-b3c6-79aa355cf3dc",
   "metadata": {
    "pycharm": {
     "name": "#%% md\n"
    }
   },
   "source": [
    "The default value of `max_batch` is `\"auto\"`, with this setting the number of wave functions in each batch is determined such that the batch represents approximately `128 MB` of memory, this number may be changed through the configuration.\n",
    "\n",
    "Before computing, we apply a HAADF detector and calculate the ensemble mean, this reduces the total size of the output to just 900 B. We note that the 1.76 GB ensemble of wave functions never needs to be in memory simulateneously, each chunk of exit wave functions are reduced immediately after completing the multislice algorithm. "
   ]
  },
  {
   "cell_type": "code",
   "execution_count": 165,
   "id": "8664e8b2-4928-4c5e-bd48-fa854a465cec",
   "metadata": {
    "pycharm": {
     "name": "#%%\n"
    }
   },
   "outputs": [
    {
     "data": {
      "text/html": [
       "<table>\n",
       "    <tr>\n",
       "        <td>\n",
       "            <table>\n",
       "                <thead>\n",
       "                    <tr>\n",
       "                        <td> </td>\n",
       "                        <th> Array </th>\n",
       "                        <th> Chunk </th>\n",
       "                    </tr>\n",
       "                </thead>\n",
       "                <tbody>\n",
       "                    \n",
       "                    <tr>\n",
       "                        <th> Bytes </th>\n",
       "                        <td> 900 B </td>\n",
       "                        <td> 120 B </td>\n",
       "                    </tr>\n",
       "                    \n",
       "                    <tr>\n",
       "                        <th> Shape </th>\n",
       "                        <td> (15, 15) </td>\n",
       "                        <td> (6, 5) </td>\n",
       "                    </tr>\n",
       "                    <tr>\n",
       "                        <th> Count </th>\n",
       "                        <td> 229 Tasks </td>\n",
       "                        <td> 9 Chunks </td>\n",
       "                    </tr>\n",
       "                    <tr>\n",
       "                    <th> Type </th>\n",
       "                    <td> float32 </td>\n",
       "                    <td> numpy.ndarray </td>\n",
       "                    </tr>\n",
       "                </tbody>\n",
       "            </table>\n",
       "        </td>\n",
       "        <td>\n",
       "        <svg width=\"140\" height=\"140\" style=\"stroke:rgb(0,0,0);stroke-width:1\" >\n",
       "\n",
       "  <!-- Horizontal lines -->\n",
       "  <line x1=\"0\" y1=\"0\" x2=\"90\" y2=\"0\" style=\"stroke-width:2\" />\n",
       "  <line x1=\"0\" y1=\"36\" x2=\"90\" y2=\"36\" />\n",
       "  <line x1=\"0\" y1=\"72\" x2=\"90\" y2=\"72\" />\n",
       "  <line x1=\"0\" y1=\"90\" x2=\"90\" y2=\"90\" style=\"stroke-width:2\" />\n",
       "\n",
       "  <!-- Vertical lines -->\n",
       "  <line x1=\"0\" y1=\"0\" x2=\"0\" y2=\"90\" style=\"stroke-width:2\" />\n",
       "  <line x1=\"30\" y1=\"0\" x2=\"30\" y2=\"90\" />\n",
       "  <line x1=\"60\" y1=\"0\" x2=\"60\" y2=\"90\" />\n",
       "  <line x1=\"90\" y1=\"0\" x2=\"90\" y2=\"90\" style=\"stroke-width:2\" />\n",
       "\n",
       "  <!-- Colored Rectangle -->\n",
       "  <polygon points=\"0.0,0.0 90.0,0.0 90.0,90.0 0.0,90.0\" style=\"fill:#ECB172A0;stroke-width:0\"/>\n",
       "\n",
       "  <!-- Text -->\n",
       "  <text x=\"45.000000\" y=\"110.000000\" font-size=\"1.0rem\" font-weight=\"100\" text-anchor=\"middle\" >15</text>\n",
       "  <text x=\"110.000000\" y=\"45.000000\" font-size=\"1.0rem\" font-weight=\"100\" text-anchor=\"middle\" transform=\"rotate(0,110.000000,45.000000)\">15</text>\n",
       "</svg>\n",
       "        </td>\n",
       "    </tr>\n",
       "</table>"
      ],
      "text/plain": [
       "dask.array<mean_agg-aggregate, shape=(15, 15), dtype=float32, chunksize=(6, 5), chunktype=numpy.ndarray>"
      ]
     },
     "execution_count": 165,
     "metadata": {},
     "output_type": "execute_result"
    }
   ],
   "source": [
    "detector = abtem.AnnularDetector(inner=65, outer=200)\n",
    "\n",
    "haadf_images = detector.detect(exit_waves_stem).reduce_ensemble()\n",
    "\n",
    "haadf_images.array"
   ]
  },
  {
   "cell_type": "markdown",
   "id": "c8167e51-1e8b-408d-9e08-ad00b6966ad5",
   "metadata": {
    "jupyter": {
     "source_hidden": true
    },
    "pycharm": {
     "name": "#%% md\n"
    },
    "tags": []
   },
   "source": [
    "## Schedulers\n",
    "\n",
    "After generating a task graph, it needs to be executed on (parallel) hardware. This is the job of a [task scheduler](https://docs.dask.org/en/stable/scheduler-overview.html). Dask provides several task schedulers, each will compute a task graph and give the same result, but with different performance characteristics.\n",
    "\n",
    "Every time you call the `compute` method a Dask scheduler is used. abTEM adopts the default Dask scheduler configuration and every keyword argument used with the `compute` method in abTEM is forwarded to the Dask `compute` function. \n",
    "\n",
    "### Local scheduler\n",
    "\n",
    "The default scheduler is the [`ThreadPoolExecutor`](https://docs.dask.org/en/stable/scheduling.html#local-threads), keyword arguments for the scheduler may be passed through the `compute` method. For example, the threaded scheduler take a `num_workers` keyword, which sets the number threads to use (defaults to number of cores)."
   ]
  },
  {
   "cell_type": "code",
   "execution_count": 166,
   "id": "4c507a96-5a6d-4e55-8775-200f66e26459",
   "metadata": {},
   "outputs": [
    {
     "name": "stdout",
     "output_type": "stream",
     "text": [
      "[########################################] | 100% Completed | 19.38 s\n"
     ]
    },
    {
     "data": {
      "text/plain": [
       "<abtem.measurements.Images object at 0x000002DB891834F0>"
      ]
     },
     "execution_count": 166,
     "metadata": {},
     "output_type": "execute_result"
    }
   ],
   "source": [
    "haadf_images = detector.detect(exit_waves_stem).reduce_ensemble()\n",
    "\n",
    "haadf_images.compute(\n",
    "    scheduler=\"threads\", num_workers=16\n",
    ")"
   ]
  },
  {
   "cell_type": "markdown",
   "id": "168c4090-255a-4705-85a8-afbf74c6320e",
   "metadata": {},
   "source": [
    "We can change the scheduler to using the `ProcessPoolExecutor` as below.\n",
    "\n",
    "```python\n",
    "haadf_images = detector.detect(exit_waves_stem).compute(scheduler=\"processes\", num_workers=4)\n",
    "```\n",
    "\n",
    "Using `abtem.config.set` the scheduler can be set either as a context manager or globally.\n",
    "```python\n",
    "# As a context manager\n",
    "with abtem.config.set(scheduler=\"processes\"):\n",
    "    haadf_images.compute()\n",
    "\n",
    "# Set globally\n",
    "abtem.config.set(scheduler=\"processes\")\n",
    "haadf_images.compute()\n",
    "```"
   ]
  },
  {
   "cell_type": "markdown",
   "id": "945988ec-0d2b-422a-a84c-32f10d5a63af",
   "metadata": {},
   "source": [
    "To improve performance we have to be able to profile it. Profiling parallel code can be challenging, but Dask provides functionality to aid in profiling and inspecting execution. The diagnostic tools are quite different depending on whether you use a local or distributed scheduler.\n",
    "\n",
    "Dask allows local diagnostics by adding callback that collects information about your code execution. You can use the profilers as a context manager as described in the Dask documentation. For convenience the abTEM `compute` methods implements keywords for adding profilers.\n",
    "Below we use the `Profiler` to monitor task execution by setting `profiler=True` and a `ResourceProfiler` to monitor the CPU usage and memory consumption by setting `resource_profiler=True`. We rerun the simulation above with these profilers. "
   ]
  },
  {
   "cell_type": "code",
   "execution_count": 167,
   "id": "56cb3754-6cde-4f83-b058-6014356cefaf",
   "metadata": {},
   "outputs": [
    {
     "name": "stdout",
     "output_type": "stream",
     "text": [
      "[########################################] | 100% Completed | 19.31 s\n"
     ]
    }
   ],
   "source": [
    "haadf_images = detector.detect(exit_waves_stem).reduce_ensemble()\n",
    "\n",
    "haadf_images, profilers = haadf_images.compute(profiler=True, resource_profiler=True)"
   ]
  },
  {
   "cell_type": "markdown",
   "id": "a3b63fd8-4e8b-4842-9c15-2fa8787da397",
   "metadata": {},
   "source": [
    "To display the results Dask uses the Bokeh plotting library (this is also installed together with Dask). To display the plots in a Jupyter notebook we need to run the commands."
   ]
  },
  {
   "cell_type": "code",
   "execution_count": 168,
   "id": "bb2fc8ba-5288-4499-9090-35e8723c7930",
   "metadata": {},
   "outputs": [
    {
     "data": {
      "text/html": [
       "<div class=\"bk-root\">\n",
       "        <a href=\"https://bokeh.org\" target=\"_blank\" class=\"bk-logo bk-logo-small bk-logo-notebook\"></a>\n",
       "        <span id=\"29877\">Loading BokehJS ...</span>\n",
       "    </div>\n"
      ]
     },
     "metadata": {},
     "output_type": "display_data"
    },
    {
     "data": {
      "application/javascript": [
       "(function(root) {\n",
       "  function now() {\n",
       "    return new Date();\n",
       "  }\n",
       "\n",
       "  const force = true;\n",
       "\n",
       "  if (typeof root._bokeh_onload_callbacks === \"undefined\" || force === true) {\n",
       "    root._bokeh_onload_callbacks = [];\n",
       "    root._bokeh_is_loading = undefined;\n",
       "  }\n",
       "\n",
       "const JS_MIME_TYPE = 'application/javascript';\n",
       "  const HTML_MIME_TYPE = 'text/html';\n",
       "  const EXEC_MIME_TYPE = 'application/vnd.bokehjs_exec.v0+json';\n",
       "  const CLASS_NAME = 'output_bokeh rendered_html';\n",
       "\n",
       "  /**\n",
       "   * Render data to the DOM node\n",
       "   */\n",
       "  function render(props, node) {\n",
       "    const script = document.createElement(\"script\");\n",
       "    node.appendChild(script);\n",
       "  }\n",
       "\n",
       "  /**\n",
       "   * Handle when an output is cleared or removed\n",
       "   */\n",
       "  function handleClearOutput(event, handle) {\n",
       "    const cell = handle.cell;\n",
       "\n",
       "    const id = cell.output_area._bokeh_element_id;\n",
       "    const server_id = cell.output_area._bokeh_server_id;\n",
       "    // Clean up Bokeh references\n",
       "    if (id != null && id in Bokeh.index) {\n",
       "      Bokeh.index[id].model.document.clear();\n",
       "      delete Bokeh.index[id];\n",
       "    }\n",
       "\n",
       "    if (server_id !== undefined) {\n",
       "      // Clean up Bokeh references\n",
       "      const cmd_clean = \"from bokeh.io.state import curstate; print(curstate().uuid_to_server['\" + server_id + \"'].get_sessions()[0].document.roots[0]._id)\";\n",
       "      cell.notebook.kernel.execute(cmd_clean, {\n",
       "        iopub: {\n",
       "          output: function(msg) {\n",
       "            const id = msg.content.text.trim();\n",
       "            if (id in Bokeh.index) {\n",
       "              Bokeh.index[id].model.document.clear();\n",
       "              delete Bokeh.index[id];\n",
       "            }\n",
       "          }\n",
       "        }\n",
       "      });\n",
       "      // Destroy server and session\n",
       "      const cmd_destroy = \"import bokeh.io.notebook as ion; ion.destroy_server('\" + server_id + \"')\";\n",
       "      cell.notebook.kernel.execute(cmd_destroy);\n",
       "    }\n",
       "  }\n",
       "\n",
       "  /**\n",
       "   * Handle when a new output is added\n",
       "   */\n",
       "  function handleAddOutput(event, handle) {\n",
       "    const output_area = handle.output_area;\n",
       "    const output = handle.output;\n",
       "\n",
       "    // limit handleAddOutput to display_data with EXEC_MIME_TYPE content only\n",
       "    if ((output.output_type != \"display_data\") || (!Object.prototype.hasOwnProperty.call(output.data, EXEC_MIME_TYPE))) {\n",
       "      return\n",
       "    }\n",
       "\n",
       "    const toinsert = output_area.element.find(\".\" + CLASS_NAME.split(' ')[0]);\n",
       "\n",
       "    if (output.metadata[EXEC_MIME_TYPE][\"id\"] !== undefined) {\n",
       "      toinsert[toinsert.length - 1].firstChild.textContent = output.data[JS_MIME_TYPE];\n",
       "      // store reference to embed id on output_area\n",
       "      output_area._bokeh_element_id = output.metadata[EXEC_MIME_TYPE][\"id\"];\n",
       "    }\n",
       "    if (output.metadata[EXEC_MIME_TYPE][\"server_id\"] !== undefined) {\n",
       "      const bk_div = document.createElement(\"div\");\n",
       "      bk_div.innerHTML = output.data[HTML_MIME_TYPE];\n",
       "      const script_attrs = bk_div.children[0].attributes;\n",
       "      for (let i = 0; i < script_attrs.length; i++) {\n",
       "        toinsert[toinsert.length - 1].firstChild.setAttribute(script_attrs[i].name, script_attrs[i].value);\n",
       "        toinsert[toinsert.length - 1].firstChild.textContent = bk_div.children[0].textContent\n",
       "      }\n",
       "      // store reference to server id on output_area\n",
       "      output_area._bokeh_server_id = output.metadata[EXEC_MIME_TYPE][\"server_id\"];\n",
       "    }\n",
       "  }\n",
       "\n",
       "  function register_renderer(events, OutputArea) {\n",
       "\n",
       "    function append_mime(data, metadata, element) {\n",
       "      // create a DOM node to render to\n",
       "      const toinsert = this.create_output_subarea(\n",
       "        metadata,\n",
       "        CLASS_NAME,\n",
       "        EXEC_MIME_TYPE\n",
       "      );\n",
       "      this.keyboard_manager.register_events(toinsert);\n",
       "      // Render to node\n",
       "      const props = {data: data, metadata: metadata[EXEC_MIME_TYPE]};\n",
       "      render(props, toinsert[toinsert.length - 1]);\n",
       "      element.append(toinsert);\n",
       "      return toinsert\n",
       "    }\n",
       "\n",
       "    /* Handle when an output is cleared or removed */\n",
       "    events.on('clear_output.CodeCell', handleClearOutput);\n",
       "    events.on('delete.Cell', handleClearOutput);\n",
       "\n",
       "    /* Handle when a new output is added */\n",
       "    events.on('output_added.OutputArea', handleAddOutput);\n",
       "\n",
       "    /**\n",
       "     * Register the mime type and append_mime function with output_area\n",
       "     */\n",
       "    OutputArea.prototype.register_mime_type(EXEC_MIME_TYPE, append_mime, {\n",
       "      /* Is output safe? */\n",
       "      safe: true,\n",
       "      /* Index of renderer in `output_area.display_order` */\n",
       "      index: 0\n",
       "    });\n",
       "  }\n",
       "\n",
       "  // register the mime type if in Jupyter Notebook environment and previously unregistered\n",
       "  if (root.Jupyter !== undefined) {\n",
       "    const events = require('base/js/events');\n",
       "    const OutputArea = require('notebook/js/outputarea').OutputArea;\n",
       "\n",
       "    if (OutputArea.prototype.mime_types().indexOf(EXEC_MIME_TYPE) == -1) {\n",
       "      register_renderer(events, OutputArea);\n",
       "    }\n",
       "  }\n",
       "  if (typeof (root._bokeh_timeout) === \"undefined\" || force === true) {\n",
       "    root._bokeh_timeout = Date.now() + 5000;\n",
       "    root._bokeh_failed_load = false;\n",
       "  }\n",
       "\n",
       "  const NB_LOAD_WARNING = {'data': {'text/html':\n",
       "     \"<div style='background-color: #fdd'>\\n\"+\n",
       "     \"<p>\\n\"+\n",
       "     \"BokehJS does not appear to have successfully loaded. If loading BokehJS from CDN, this \\n\"+\n",
       "     \"may be due to a slow or bad network connection. Possible fixes:\\n\"+\n",
       "     \"</p>\\n\"+\n",
       "     \"<ul>\\n\"+\n",
       "     \"<li>re-rerun `output_notebook()` to attempt to load from CDN again, or</li>\\n\"+\n",
       "     \"<li>use INLINE resources instead, as so:</li>\\n\"+\n",
       "     \"</ul>\\n\"+\n",
       "     \"<code>\\n\"+\n",
       "     \"from bokeh.resources import INLINE\\n\"+\n",
       "     \"output_notebook(resources=INLINE)\\n\"+\n",
       "     \"</code>\\n\"+\n",
       "     \"</div>\"}};\n",
       "\n",
       "  function display_loaded() {\n",
       "    const el = document.getElementById(\"29877\");\n",
       "    if (el != null) {\n",
       "      el.textContent = \"BokehJS is loading...\";\n",
       "    }\n",
       "    if (root.Bokeh !== undefined) {\n",
       "      if (el != null) {\n",
       "        el.textContent = \"BokehJS \" + root.Bokeh.version + \" successfully loaded.\";\n",
       "      }\n",
       "    } else if (Date.now() < root._bokeh_timeout) {\n",
       "      setTimeout(display_loaded, 100)\n",
       "    }\n",
       "  }\n",
       "\n",
       "  function run_callbacks() {\n",
       "    try {\n",
       "      root._bokeh_onload_callbacks.forEach(function(callback) {\n",
       "        if (callback != null)\n",
       "          callback();\n",
       "      });\n",
       "    } finally {\n",
       "      delete root._bokeh_onload_callbacks\n",
       "    }\n",
       "    console.debug(\"Bokeh: all callbacks have finished\");\n",
       "  }\n",
       "\n",
       "  function load_libs(css_urls, js_urls, callback) {\n",
       "    if (css_urls == null) css_urls = [];\n",
       "    if (js_urls == null) js_urls = [];\n",
       "\n",
       "    root._bokeh_onload_callbacks.push(callback);\n",
       "    if (root._bokeh_is_loading > 0) {\n",
       "      console.debug(\"Bokeh: BokehJS is being loaded, scheduling callback at\", now());\n",
       "      return null;\n",
       "    }\n",
       "    if (js_urls == null || js_urls.length === 0) {\n",
       "      run_callbacks();\n",
       "      return null;\n",
       "    }\n",
       "    console.debug(\"Bokeh: BokehJS not loaded, scheduling load and callback at\", now());\n",
       "    root._bokeh_is_loading = css_urls.length + js_urls.length;\n",
       "\n",
       "    function on_load() {\n",
       "      root._bokeh_is_loading--;\n",
       "      if (root._bokeh_is_loading === 0) {\n",
       "        console.debug(\"Bokeh: all BokehJS libraries/stylesheets loaded\");\n",
       "        run_callbacks()\n",
       "      }\n",
       "    }\n",
       "\n",
       "    function on_error(url) {\n",
       "      console.error(\"failed to load \" + url);\n",
       "    }\n",
       "\n",
       "    for (let i = 0; i < css_urls.length; i++) {\n",
       "      const url = css_urls[i];\n",
       "      const element = document.createElement(\"link\");\n",
       "      element.onload = on_load;\n",
       "      element.onerror = on_error.bind(null, url);\n",
       "      element.rel = \"stylesheet\";\n",
       "      element.type = \"text/css\";\n",
       "      element.href = url;\n",
       "      console.debug(\"Bokeh: injecting link tag for BokehJS stylesheet: \", url);\n",
       "      document.body.appendChild(element);\n",
       "    }\n",
       "\n",
       "    for (let i = 0; i < js_urls.length; i++) {\n",
       "      const url = js_urls[i];\n",
       "      const element = document.createElement('script');\n",
       "      element.onload = on_load;\n",
       "      element.onerror = on_error.bind(null, url);\n",
       "      element.async = false;\n",
       "      element.src = url;\n",
       "      console.debug(\"Bokeh: injecting script tag for BokehJS library: \", url);\n",
       "      document.head.appendChild(element);\n",
       "    }\n",
       "  };\n",
       "\n",
       "  function inject_raw_css(css) {\n",
       "    const element = document.createElement(\"style\");\n",
       "    element.appendChild(document.createTextNode(css));\n",
       "    document.body.appendChild(element);\n",
       "  }\n",
       "\n",
       "  const js_urls = [\"https://cdn.bokeh.org/bokeh/release/bokeh-2.4.3.min.js\", \"https://cdn.bokeh.org/bokeh/release/bokeh-gl-2.4.3.min.js\", \"https://cdn.bokeh.org/bokeh/release/bokeh-widgets-2.4.3.min.js\", \"https://cdn.bokeh.org/bokeh/release/bokeh-tables-2.4.3.min.js\", \"https://cdn.bokeh.org/bokeh/release/bokeh-mathjax-2.4.3.min.js\"];\n",
       "  const css_urls = [];\n",
       "\n",
       "  const inline_js = [    function(Bokeh) {\n",
       "      Bokeh.set_log_level(\"info\");\n",
       "    },\n",
       "function(Bokeh) {\n",
       "    }\n",
       "  ];\n",
       "\n",
       "  function run_inline_js() {\n",
       "    if (root.Bokeh !== undefined || force === true) {\n",
       "          for (let i = 0; i < inline_js.length; i++) {\n",
       "      inline_js[i].call(root, root.Bokeh);\n",
       "    }\n",
       "if (force === true) {\n",
       "        display_loaded();\n",
       "      }} else if (Date.now() < root._bokeh_timeout) {\n",
       "      setTimeout(run_inline_js, 100);\n",
       "    } else if (!root._bokeh_failed_load) {\n",
       "      console.log(\"Bokeh: BokehJS failed to load within specified timeout.\");\n",
       "      root._bokeh_failed_load = true;\n",
       "    } else if (force !== true) {\n",
       "      const cell = $(document.getElementById(\"29877\")).parents('.cell').data().cell;\n",
       "      cell.output_area.append_execute_result(NB_LOAD_WARNING)\n",
       "    }\n",
       "  }\n",
       "\n",
       "  if (root._bokeh_is_loading === 0) {\n",
       "    console.debug(\"Bokeh: BokehJS loaded, going straight to plotting\");\n",
       "    run_inline_js();\n",
       "  } else {\n",
       "    load_libs(css_urls, js_urls, function() {\n",
       "      console.debug(\"Bokeh: BokehJS plotting callback run at\", now());\n",
       "      run_inline_js();\n",
       "    });\n",
       "  }\n",
       "}(window));"
      ],
      "application/vnd.bokehjs_load.v0+json": "(function(root) {\n  function now() {\n    return new Date();\n  }\n\n  const force = true;\n\n  if (typeof root._bokeh_onload_callbacks === \"undefined\" || force === true) {\n    root._bokeh_onload_callbacks = [];\n    root._bokeh_is_loading = undefined;\n  }\n\n\n  if (typeof (root._bokeh_timeout) === \"undefined\" || force === true) {\n    root._bokeh_timeout = Date.now() + 5000;\n    root._bokeh_failed_load = false;\n  }\n\n  const NB_LOAD_WARNING = {'data': {'text/html':\n     \"<div style='background-color: #fdd'>\\n\"+\n     \"<p>\\n\"+\n     \"BokehJS does not appear to have successfully loaded. If loading BokehJS from CDN, this \\n\"+\n     \"may be due to a slow or bad network connection. Possible fixes:\\n\"+\n     \"</p>\\n\"+\n     \"<ul>\\n\"+\n     \"<li>re-rerun `output_notebook()` to attempt to load from CDN again, or</li>\\n\"+\n     \"<li>use INLINE resources instead, as so:</li>\\n\"+\n     \"</ul>\\n\"+\n     \"<code>\\n\"+\n     \"from bokeh.resources import INLINE\\n\"+\n     \"output_notebook(resources=INLINE)\\n\"+\n     \"</code>\\n\"+\n     \"</div>\"}};\n\n  function display_loaded() {\n    const el = document.getElementById(\"29877\");\n    if (el != null) {\n      el.textContent = \"BokehJS is loading...\";\n    }\n    if (root.Bokeh !== undefined) {\n      if (el != null) {\n        el.textContent = \"BokehJS \" + root.Bokeh.version + \" successfully loaded.\";\n      }\n    } else if (Date.now() < root._bokeh_timeout) {\n      setTimeout(display_loaded, 100)\n    }\n  }\n\n  function run_callbacks() {\n    try {\n      root._bokeh_onload_callbacks.forEach(function(callback) {\n        if (callback != null)\n          callback();\n      });\n    } finally {\n      delete root._bokeh_onload_callbacks\n    }\n    console.debug(\"Bokeh: all callbacks have finished\");\n  }\n\n  function load_libs(css_urls, js_urls, callback) {\n    if (css_urls == null) css_urls = [];\n    if (js_urls == null) js_urls = [];\n\n    root._bokeh_onload_callbacks.push(callback);\n    if (root._bokeh_is_loading > 0) {\n      console.debug(\"Bokeh: BokehJS is being loaded, scheduling callback at\", now());\n      return null;\n    }\n    if (js_urls == null || js_urls.length === 0) {\n      run_callbacks();\n      return null;\n    }\n    console.debug(\"Bokeh: BokehJS not loaded, scheduling load and callback at\", now());\n    root._bokeh_is_loading = css_urls.length + js_urls.length;\n\n    function on_load() {\n      root._bokeh_is_loading--;\n      if (root._bokeh_is_loading === 0) {\n        console.debug(\"Bokeh: all BokehJS libraries/stylesheets loaded\");\n        run_callbacks()\n      }\n    }\n\n    function on_error(url) {\n      console.error(\"failed to load \" + url);\n    }\n\n    for (let i = 0; i < css_urls.length; i++) {\n      const url = css_urls[i];\n      const element = document.createElement(\"link\");\n      element.onload = on_load;\n      element.onerror = on_error.bind(null, url);\n      element.rel = \"stylesheet\";\n      element.type = \"text/css\";\n      element.href = url;\n      console.debug(\"Bokeh: injecting link tag for BokehJS stylesheet: \", url);\n      document.body.appendChild(element);\n    }\n\n    for (let i = 0; i < js_urls.length; i++) {\n      const url = js_urls[i];\n      const element = document.createElement('script');\n      element.onload = on_load;\n      element.onerror = on_error.bind(null, url);\n      element.async = false;\n      element.src = url;\n      console.debug(\"Bokeh: injecting script tag for BokehJS library: \", url);\n      document.head.appendChild(element);\n    }\n  };\n\n  function inject_raw_css(css) {\n    const element = document.createElement(\"style\");\n    element.appendChild(document.createTextNode(css));\n    document.body.appendChild(element);\n  }\n\n  const js_urls = [\"https://cdn.bokeh.org/bokeh/release/bokeh-2.4.3.min.js\", \"https://cdn.bokeh.org/bokeh/release/bokeh-gl-2.4.3.min.js\", \"https://cdn.bokeh.org/bokeh/release/bokeh-widgets-2.4.3.min.js\", \"https://cdn.bokeh.org/bokeh/release/bokeh-tables-2.4.3.min.js\", \"https://cdn.bokeh.org/bokeh/release/bokeh-mathjax-2.4.3.min.js\"];\n  const css_urls = [];\n\n  const inline_js = [    function(Bokeh) {\n      Bokeh.set_log_level(\"info\");\n    },\nfunction(Bokeh) {\n    }\n  ];\n\n  function run_inline_js() {\n    if (root.Bokeh !== undefined || force === true) {\n          for (let i = 0; i < inline_js.length; i++) {\n      inline_js[i].call(root, root.Bokeh);\n    }\nif (force === true) {\n        display_loaded();\n      }} else if (Date.now() < root._bokeh_timeout) {\n      setTimeout(run_inline_js, 100);\n    } else if (!root._bokeh_failed_load) {\n      console.log(\"Bokeh: BokehJS failed to load within specified timeout.\");\n      root._bokeh_failed_load = true;\n    } else if (force !== true) {\n      const cell = $(document.getElementById(\"29877\")).parents('.cell').data().cell;\n      cell.output_area.append_execute_result(NB_LOAD_WARNING)\n    }\n  }\n\n  if (root._bokeh_is_loading === 0) {\n    console.debug(\"Bokeh: BokehJS loaded, going straight to plotting\");\n    run_inline_js();\n  } else {\n    load_libs(css_urls, js_urls, function() {\n      console.debug(\"Bokeh: BokehJS plotting callback run at\", now());\n      run_inline_js();\n    });\n  }\n}(window));"
     },
     "metadata": {},
     "output_type": "display_data"
    }
   ],
   "source": [
    "from bokeh.io import output_notebook\n",
    "output_notebook()"
   ]
  },
  {
   "cell_type": "markdown",
   "id": "89a100cb-9792-45bb-b855-42b53fb9db83",
   "metadata": {},
   "source": [
    "We first show the result from the `Profiler` object: This shows the execution time for each task as a rectangle, organized along the y-axis by worker (in this case threads), white space represents idle . The task types are grouped by color and, by hovering over each task, one can see the key and task that each block represents. For this calculation there is only one significant task shown in yellow; the task encompasses building the wave function, running the multislice algorithm (calculating the potential on demand) and calculating and integrating the diffraction patterns. "
   ]
  },
  {
   "cell_type": "code",
   "execution_count": 169,
   "id": "0a420e98-6235-4e01-b079-fe34d913a436",
   "metadata": {},
   "outputs": [
    {
     "data": {
      "text/html": [
       "\n",
       "  <div class=\"bk-root\" id=\"13d4f77f-588b-4e40-912f-419b4590117c\" data-root-id=\"29878\"></div>\n"
      ]
     },
     "metadata": {},
     "output_type": "display_data"
    },
    {
     "data": {
      "application/javascript": [
       "(function(root) {\n",
       "  function embed_document(root) {\n",
       "  const docs_json = {\"40853ceb-1619-4412-b387-adc8232d98a3\":{\"defs\":[],\"roots\":{\"references\":[{\"attributes\":{\"below\":[{\"id\":\"29889\"}],\"center\":[{\"id\":\"29892\"},{\"id\":\"29895\"}],\"height\":300,\"left\":[{\"id\":\"29893\"}],\"renderers\":[{\"id\":\"29912\"}],\"title\":{\"id\":\"29879\"},\"toolbar\":{\"id\":\"29901\"},\"toolbar_location\":\"above\",\"width\":800,\"x_range\":{\"id\":\"29881\"},\"x_scale\":{\"id\":\"29885\"},\"y_range\":{\"id\":\"29883\"},\"y_scale\":{\"id\":\"29887\"}},\"id\":\"29878\",\"subtype\":\"Figure\",\"type\":\"Plot\"},{\"attributes\":{},\"id\":\"29885\",\"type\":\"LinearScale\"},{\"attributes\":{\"dimensions\":\"width\"},\"id\":\"29899\",\"type\":\"WheelZoomTool\"},{\"attributes\":{\"coordinates\":null,\"data_source\":{\"id\":\"29907\"},\"glyph\":{\"id\":\"29909\"},\"group\":null,\"hover_glyph\":null,\"muted_glyph\":{\"id\":\"29911\"},\"nonselection_glyph\":{\"id\":\"29910\"},\"view\":{\"id\":\"29913\"}},\"id\":\"29912\",\"type\":\"GlyphRenderer\"},{\"attributes\":{\"axis\":{\"id\":\"29893\"},\"coordinates\":null,\"dimension\":1,\"grid_line_color\":null,\"group\":null,\"ticker\":null},\"id\":\"29895\",\"type\":\"Grid\"},{\"attributes\":{},\"id\":\"29919\",\"type\":\"BasicTickFormatter\"},{\"attributes\":{\"fill_alpha\":{\"value\":0.2},\"fill_color\":{\"field\":\"color\"},\"hatch_alpha\":{\"value\":0.2},\"hatch_color\":{\"field\":\"color\"},\"height\":{\"value\":1},\"line_alpha\":{\"value\":0.2},\"line_color\":{\"value\":\"gray\"},\"width\":{\"field\":\"width\"},\"x\":{\"field\":\"x\"},\"y\":{\"field\":\"y\"}},\"id\":\"29911\",\"type\":\"Rect\"},{\"attributes\":{\"axis\":{\"id\":\"29889\"},\"coordinates\":null,\"grid_line_color\":null,\"group\":null,\"ticker\":null},\"id\":\"29892\",\"type\":\"Grid\"},{\"attributes\":{},\"id\":\"29920\",\"type\":\"AllLabels\"},{\"attributes\":{\"axis_label\":\"Worker ID\",\"axis_line_color\":null,\"coordinates\":null,\"formatter\":{\"id\":\"29916\"},\"group\":null,\"major_label_policy\":{\"id\":\"29917\"},\"major_tick_line_color\":null,\"ticker\":{\"id\":\"29894\"}},\"id\":\"29893\",\"type\":\"CategoricalAxis\"},{\"attributes\":{\"fill_alpha\":{\"value\":0.1},\"fill_color\":{\"field\":\"color\"},\"hatch_alpha\":{\"value\":0.1},\"hatch_color\":{\"field\":\"color\"},\"height\":{\"value\":1},\"line_alpha\":{\"value\":0.1},\"line_color\":{\"value\":\"gray\"},\"width\":{\"field\":\"width\"},\"x\":{\"field\":\"x\"},\"y\":{\"field\":\"y\"}},\"id\":\"29910\",\"type\":\"Rect\"},{\"attributes\":{},\"id\":\"29916\",\"type\":\"CategoricalTickFormatter\"},{\"attributes\":{\"data\":{\"color\":[\"#3B518A\",\"#3B518A\",\"#3B518A\",\"#3B518A\",\"#440154\",\"#440154\",\"#440154\",\"#440154\",\"#FDE724\",\"#FDE724\",\"#FDE724\",\"#FDE724\",\"#FDE724\",\"#FDE724\",\"#FDE724\",\"#FDE724\",\"#FDE724\",\"#FDE724\",\"#FDE724\",\"#FDE724\",\"#FDE724\",\"#FDE724\",\"#FDE724\",\"#FDE724\",\"#440154\",\"#FDE724\",\"#440154\",\"#FDE724\",\"#440154\",\"#5BC862\",\"#FDE724\",\"#440154\",\"#FDE724\",\"#440154\",\"#FDE724\",\"#440154\",\"#FDE724\",\"#440154\",\"#FDE724\",\"#440154\",\"#FDE724\",\"#440154\",\"#FDE724\",\"#440154\",\"#FDE724\",\"#440154\",\"#440154\",\"#440154\",\"#5BC862\",\"#5BC862\",\"#440154\",\"#FDE724\",\"#FDE724\",\"#FDE724\",\"#440154\",\"#440154\",\"#5BC862\",\"#5BC862\",\"#5BC862\",\"#FDE724\",\"#208F8C\",\"#FDE724\",\"#FDE724\",\"#440154\",\"#FDE724\",\"#440154\",\"#FDE724\",\"#440154\",\"#FDE724\",\"#440154\",\"#FDE724\",\"#440154\",\"#440154\",\"#440154\",\"#440154\",\"#5BC862\",\"#440154\",\"#5BC862\",\"#208F8C\",\"#5BC862\",\"#440154\",\"#440154\",\"#440154\",\"#440154\",\"#5BC862\",\"#5BC862\",\"#208F8C\",\"#208F8C\",\"#440154\",\"#5BC862\",\"#440154\",\"#5BC862\",\"#440154\",\"#5BC862\",\"#208F8C\",\"#440154\",\"#5BC862\",\"#208F8C\",\"#440154\",\"#5BC862\",\"#208F8C\",\"#440154\",\"#5BC862\",\"#208F8C\",\"#440154\",\"#5BC862\",\"#208F8C\"],\"function\":[\"_frozen_phonon(, atoms=_, seeds=tuple([*]))\",\"_frozen_phonon(, atoms=_, seeds=tuple([*]))\",\"_frozen_phonon(, atoms=_, seeds=tuple([*]))\",\"_frozen_phonon(, atoms=_, seeds=tuple([*]))\",\"_\",\"_\",\"_\",\"_\",\"subgraph_callable-607dd6a6-5a71-4176-a876-c52832a4(subgraph_callable-0eb5c965-cd9c-4e9f-8c13-b8f6f13e(...))\",\"subgraph_callable-607dd6a6-5a71-4176-a876-c52832a4(subgraph_callable-0eb5c965-cd9c-4e9f-8c13-b8f6f13e(...))\",\"subgraph_callable-607dd6a6-5a71-4176-a876-c52832a4(subgraph_callable-0eb5c965-cd9c-4e9f-8c13-b8f6f13e(...))\",\"subgraph_callable-607dd6a6-5a71-4176-a876-c52832a4(subgraph_callable-0eb5c965-cd9c-4e9f-8c13-b8f6f13e(...))\",\"subgraph_callable-607dd6a6-5a71-4176-a876-c52832a4(subgraph_callable-0eb5c965-cd9c-4e9f-8c13-b8f6f13e(...))\",\"subgraph_callable-607dd6a6-5a71-4176-a876-c52832a4(subgraph_callable-0eb5c965-cd9c-4e9f-8c13-b8f6f13e(...))\",\"subgraph_callable-607dd6a6-5a71-4176-a876-c52832a4(subgraph_callable-0eb5c965-cd9c-4e9f-8c13-b8f6f13e(...))\",\"subgraph_callable-607dd6a6-5a71-4176-a876-c52832a4(subgraph_callable-0eb5c965-cd9c-4e9f-8c13-b8f6f13e(...))\",\"subgraph_callable-607dd6a6-5a71-4176-a876-c52832a4(subgraph_callable-0eb5c965-cd9c-4e9f-8c13-b8f6f13e(...))\",\"subgraph_callable-607dd6a6-5a71-4176-a876-c52832a4(subgraph_callable-0eb5c965-cd9c-4e9f-8c13-b8f6f13e(...))\",\"subgraph_callable-607dd6a6-5a71-4176-a876-c52832a4(subgraph_callable-0eb5c965-cd9c-4e9f-8c13-b8f6f13e(...))\",\"subgraph_callable-607dd6a6-5a71-4176-a876-c52832a4(subgraph_callable-0eb5c965-cd9c-4e9f-8c13-b8f6f13e(...))\",\"subgraph_callable-607dd6a6-5a71-4176-a876-c52832a4(subgraph_callable-0eb5c965-cd9c-4e9f-8c13-b8f6f13e(...))\",\"subgraph_callable-607dd6a6-5a71-4176-a876-c52832a4(subgraph_callable-0eb5c965-cd9c-4e9f-8c13-b8f6f13e(...))\",\"subgraph_callable-607dd6a6-5a71-4176-a876-c52832a4(subgraph_callable-0eb5c965-cd9c-4e9f-8c13-b8f6f13e(...))\",\"subgraph_callable-607dd6a6-5a71-4176-a876-c52832a4(subgraph_callable-0eb5c965-cd9c-4e9f-8c13-b8f6f13e(...))\",\"_\",\"subgraph_callable-607dd6a6-5a71-4176-a876-c52832a4(subgraph_callable-0eb5c965-cd9c-4e9f-8c13-b8f6f13e(...))\",\"_\",\"subgraph_callable-607dd6a6-5a71-4176-a876-c52832a4(subgraph_callable-0eb5c965-cd9c-4e9f-8c13-b8f6f13e(...))\",\"_\",\"mean_combine([_, _])\",\"subgraph_callable-607dd6a6-5a71-4176-a876-c52832a4(subgraph_callable-0eb5c965-cd9c-4e9f-8c13-b8f6f13e(...))\",\"_\",\"subgraph_callable-607dd6a6-5a71-4176-a876-c52832a4(subgraph_callable-0eb5c965-cd9c-4e9f-8c13-b8f6f13e(...))\",\"_\",\"subgraph_callable-607dd6a6-5a71-4176-a876-c52832a4(subgraph_callable-0eb5c965-cd9c-4e9f-8c13-b8f6f13e(...))\",\"_\",\"subgraph_callable-607dd6a6-5a71-4176-a876-c52832a4(subgraph_callable-0eb5c965-cd9c-4e9f-8c13-b8f6f13e(...))\",\"_\",\"subgraph_callable-607dd6a6-5a71-4176-a876-c52832a4(subgraph_callable-0eb5c965-cd9c-4e9f-8c13-b8f6f13e(...))\",\"_\",\"subgraph_callable-607dd6a6-5a71-4176-a876-c52832a4(subgraph_callable-0eb5c965-cd9c-4e9f-8c13-b8f6f13e(...))\",\"_\",\"subgraph_callable-607dd6a6-5a71-4176-a876-c52832a4(subgraph_callable-0eb5c965-cd9c-4e9f-8c13-b8f6f13e(...))\",\"_\",\"subgraph_callable-607dd6a6-5a71-4176-a876-c52832a4(subgraph_callable-0eb5c965-cd9c-4e9f-8c13-b8f6f13e(...))\",\"_\",\"_\",\"_\",\"mean_combine([_, _])\",\"mean_combine([_, _])\",\"_\",\"subgraph_callable-607dd6a6-5a71-4176-a876-c52832a4(subgraph_callable-0eb5c965-cd9c-4e9f-8c13-b8f6f13e(...))\",\"subgraph_callable-607dd6a6-5a71-4176-a876-c52832a4(subgraph_callable-0eb5c965-cd9c-4e9f-8c13-b8f6f13e(...))\",\"subgraph_callable-607dd6a6-5a71-4176-a876-c52832a4(subgraph_callable-0eb5c965-cd9c-4e9f-8c13-b8f6f13e(...))\",\"_\",\"_\",\"mean_combine([_, _])\",\"mean_combine([_, _])\",\"mean_combine([_, _])\",\"subgraph_callable-607dd6a6-5a71-4176-a876-c52832a4(subgraph_callable-0eb5c965-cd9c-4e9f-8c13-b8f6f13e(...))\",\"mean_agg([_, _])\",\"subgraph_callable-607dd6a6-5a71-4176-a876-c52832a4(subgraph_callable-0eb5c965-cd9c-4e9f-8c13-b8f6f13e(...))\",\"subgraph_callable-607dd6a6-5a71-4176-a876-c52832a4(subgraph_callable-0eb5c965-cd9c-4e9f-8c13-b8f6f13e(...))\",\"_\",\"subgraph_callable-607dd6a6-5a71-4176-a876-c52832a4(subgraph_callable-0eb5c965-cd9c-4e9f-8c13-b8f6f13e(...))\",\"_\",\"subgraph_callable-607dd6a6-5a71-4176-a876-c52832a4(subgraph_callable-0eb5c965-cd9c-4e9f-8c13-b8f6f13e(...))\",\"_\",\"subgraph_callable-607dd6a6-5a71-4176-a876-c52832a4(subgraph_callable-0eb5c965-cd9c-4e9f-8c13-b8f6f13e(...))\",\"_\",\"subgraph_callable-607dd6a6-5a71-4176-a876-c52832a4(subgraph_callable-0eb5c965-cd9c-4e9f-8c13-b8f6f13e(...))\",\"_\",\"_\",\"_\",\"_\",\"mean_combine([_, _])\",\"_\",\"mean_combine([_, _])\",\"mean_agg([_, _])\",\"mean_combine([_, _])\",\"_\",\"_\",\"_\",\"_\",\"mean_combine([_, _])\",\"mean_combine([_, _])\",\"mean_agg([_, _])\",\"mean_agg([_, _])\",\"_\",\"mean_combine([_, _])\",\"_\",\"mean_combine([_, _])\",\"_\",\"mean_combine([_, _])\",\"mean_agg([_, _])\",\"_\",\"mean_combine([_, _])\",\"mean_agg([_, _])\",\"_\",\"mean_combine([_, _])\",\"mean_agg([_, _])\",\"_\",\"mean_combine([_, _])\",\"mean_agg([_, _])\",\"_\",\"mean_combine([_, _])\",\"mean_agg([_, _])\"],\"key\":[\"('from-value-frozen_phonon-concatenate-8cc2be0e4af01e7d9dc7e0885c918bcf', 1)\",\"('from-value-frozen_phonon-concatenate-8cc2be0e4af01e7d9dc7e0885c918bcf', 0)\",\"('from-value-frozen_phonon-concatenate-8cc2be0e4af01e7d9dc7e0885c918bcf', 2)\",\"('from-value-frozen_phonon-concatenate-8cc2be0e4af01e7d9dc7e0885c918bcf', 3)\",\"('concatenate-8cc2be0e4af01e7d9dc7e0885c918bcf', 1)\",\"('concatenate-8cc2be0e4af01e7d9dc7e0885c918bcf', 0)\",\"('concatenate-8cc2be0e4af01e7d9dc7e0885c918bcf', 2)\",\"('concatenate-8cc2be0e4af01e7d9dc7e0885c918bcf', 3)\",\"('diffraction_pattern-integrate_fourier_space-mean_chunk-0c8c37d8fbc37013fcedfdf7598a2242', 1, 0, 0)\",\"('diffraction_pattern-integrate_fourier_space-mean_chunk-0c8c37d8fbc37013fcedfdf7598a2242', 1, 0, 1)\",\"('diffraction_pattern-integrate_fourier_space-mean_chunk-0c8c37d8fbc37013fcedfdf7598a2242', 1, 0, 2)\",\"('diffraction_pattern-integrate_fourier_space-mean_chunk-0c8c37d8fbc37013fcedfdf7598a2242', 1, 1, 0)\",\"('diffraction_pattern-integrate_fourier_space-mean_chunk-0c8c37d8fbc37013fcedfdf7598a2242', 1, 2, 0)\",\"('diffraction_pattern-integrate_fourier_space-mean_chunk-0c8c37d8fbc37013fcedfdf7598a2242', 1, 1, 1)\",\"('diffraction_pattern-integrate_fourier_space-mean_chunk-0c8c37d8fbc37013fcedfdf7598a2242', 1, 1, 2)\",\"('diffraction_pattern-integrate_fourier_space-mean_chunk-0c8c37d8fbc37013fcedfdf7598a2242', 1, 2, 1)\",\"('diffraction_pattern-integrate_fourier_space-mean_chunk-0c8c37d8fbc37013fcedfdf7598a2242', 1, 2, 2)\",\"('diffraction_pattern-integrate_fourier_space-mean_chunk-0c8c37d8fbc37013fcedfdf7598a2242', 0, 0, 0)\",\"('diffraction_pattern-integrate_fourier_space-mean_chunk-0c8c37d8fbc37013fcedfdf7598a2242', 0, 0, 1)\",\"('diffraction_pattern-integrate_fourier_space-mean_chunk-0c8c37d8fbc37013fcedfdf7598a2242', 0, 0, 2)\",\"('diffraction_pattern-integrate_fourier_space-mean_chunk-0c8c37d8fbc37013fcedfdf7598a2242', 0, 1, 0)\",\"('diffraction_pattern-integrate_fourier_space-mean_chunk-0c8c37d8fbc37013fcedfdf7598a2242', 0, 2, 0)\",\"('diffraction_pattern-integrate_fourier_space-mean_chunk-0c8c37d8fbc37013fcedfdf7598a2242', 2, 0, 0)\",\"('diffraction_pattern-integrate_fourier_space-mean_chunk-0c8c37d8fbc37013fcedfdf7598a2242', 3, 0, 0)\",\"('mean_chunk-0c8c37d8fbc37013fcedfdf7598a2242', 1, 2, 0)\",\"('diffraction_pattern-integrate_fourier_space-mean_chunk-0c8c37d8fbc37013fcedfdf7598a2242', 3, 0, 1)\",\"('mean_chunk-0c8c37d8fbc37013fcedfdf7598a2242', 1, 2, 1)\",\"('diffraction_pattern-integrate_fourier_space-mean_chunk-0c8c37d8fbc37013fcedfdf7598a2242', 3, 0, 2)\",\"('mean_chunk-0c8c37d8fbc37013fcedfdf7598a2242', 0, 2, 0)\",\"('mean_combine-partial-ec8f487fa65deb8f111797131d9258cd', 0, 2, 0)\",\"('diffraction_pattern-integrate_fourier_space-mean_chunk-0c8c37d8fbc37013fcedfdf7598a2242', 3, 1, 0)\",\"('mean_chunk-0c8c37d8fbc37013fcedfdf7598a2242', 1, 2, 2)\",\"('diffraction_pattern-integrate_fourier_space-mean_chunk-0c8c37d8fbc37013fcedfdf7598a2242', 3, 2, 0)\",\"('mean_chunk-0c8c37d8fbc37013fcedfdf7598a2242', 1, 1, 0)\",\"('diffraction_pattern-integrate_fourier_space-mean_chunk-0c8c37d8fbc37013fcedfdf7598a2242', 3, 1, 1)\",\"('mean_chunk-0c8c37d8fbc37013fcedfdf7598a2242', 1, 0, 1)\",\"('diffraction_pattern-integrate_fourier_space-mean_chunk-0c8c37d8fbc37013fcedfdf7598a2242', 3, 1, 2)\",\"('mean_chunk-0c8c37d8fbc37013fcedfdf7598a2242', 1, 0, 2)\",\"('diffraction_pattern-integrate_fourier_space-mean_chunk-0c8c37d8fbc37013fcedfdf7598a2242', 3, 2, 1)\",\"('mean_chunk-0c8c37d8fbc37013fcedfdf7598a2242', 1, 1, 1)\",\"('diffraction_pattern-integrate_fourier_space-mean_chunk-0c8c37d8fbc37013fcedfdf7598a2242', 3, 2, 2)\",\"('mean_chunk-0c8c37d8fbc37013fcedfdf7598a2242', 0, 0, 0)\",\"('diffraction_pattern-integrate_fourier_space-mean_chunk-0c8c37d8fbc37013fcedfdf7598a2242', 2, 0, 1)\",\"('mean_chunk-0c8c37d8fbc37013fcedfdf7598a2242', 3, 0, 0)\",\"('diffraction_pattern-integrate_fourier_space-mean_chunk-0c8c37d8fbc37013fcedfdf7598a2242', 2, 0, 2)\",\"('mean_chunk-0c8c37d8fbc37013fcedfdf7598a2242', 0, 1, 0)\",\"('mean_chunk-0c8c37d8fbc37013fcedfdf7598a2242', 1, 0, 0)\",\"('mean_chunk-0c8c37d8fbc37013fcedfdf7598a2242', 1, 1, 2)\",\"('mean_combine-partial-ec8f487fa65deb8f111797131d9258cd', 0, 1, 0)\",\"('mean_combine-partial-ec8f487fa65deb8f111797131d9258cd', 0, 0, 0)\",\"('mean_chunk-0c8c37d8fbc37013fcedfdf7598a2242', 0, 0, 1)\",\"('diffraction_pattern-integrate_fourier_space-mean_chunk-0c8c37d8fbc37013fcedfdf7598a2242', 2, 1, 0)\",\"('diffraction_pattern-integrate_fourier_space-mean_chunk-0c8c37d8fbc37013fcedfdf7598a2242', 2, 2, 0)\",\"('diffraction_pattern-integrate_fourier_space-mean_chunk-0c8c37d8fbc37013fcedfdf7598a2242', 2, 1, 1)\",\"('mean_chunk-0c8c37d8fbc37013fcedfdf7598a2242', 2, 0, 0)\",\"('mean_chunk-0c8c37d8fbc37013fcedfdf7598a2242', 0, 0, 2)\",\"('mean_combine-partial-ec8f487fa65deb8f111797131d9258cd', 0, 0, 1)\",\"('mean_combine-partial-ec8f487fa65deb8f111797131d9258cd', 1, 0, 0)\",\"('mean_combine-partial-ec8f487fa65deb8f111797131d9258cd', 0, 0, 2)\",\"('diffraction_pattern-integrate_fourier_space-mean_chunk-0c8c37d8fbc37013fcedfdf7598a2242', 2, 1, 2)\",\"('mean_agg-aggregate-62c769ab0bd6f3f8c251bb6a61f5c6fa', 0, 0)\",\"('diffraction_pattern-integrate_fourier_space-mean_chunk-0c8c37d8fbc37013fcedfdf7598a2242', 2, 2, 1)\",\"('diffraction_pattern-integrate_fourier_space-mean_chunk-0c8c37d8fbc37013fcedfdf7598a2242', 2, 2, 2)\",\"('mean_chunk-0c8c37d8fbc37013fcedfdf7598a2242', 3, 2, 0)\",\"('diffraction_pattern-integrate_fourier_space-mean_chunk-0c8c37d8fbc37013fcedfdf7598a2242', 0, 1, 1)\",\"('mean_chunk-0c8c37d8fbc37013fcedfdf7598a2242', 3, 0, 1)\",\"('diffraction_pattern-integrate_fourier_space-mean_chunk-0c8c37d8fbc37013fcedfdf7598a2242', 0, 1, 2)\",\"('mean_chunk-0c8c37d8fbc37013fcedfdf7598a2242', 3, 1, 0)\",\"('diffraction_pattern-integrate_fourier_space-mean_chunk-0c8c37d8fbc37013fcedfdf7598a2242', 0, 2, 1)\",\"('mean_chunk-0c8c37d8fbc37013fcedfdf7598a2242', 3, 2, 1)\",\"('diffraction_pattern-integrate_fourier_space-mean_chunk-0c8c37d8fbc37013fcedfdf7598a2242', 0, 2, 2)\",\"('mean_chunk-0c8c37d8fbc37013fcedfdf7598a2242', 3, 0, 2)\",\"('mean_chunk-0c8c37d8fbc37013fcedfdf7598a2242', 3, 2, 2)\",\"('mean_chunk-0c8c37d8fbc37013fcedfdf7598a2242', 2, 2, 0)\",\"('mean_chunk-0c8c37d8fbc37013fcedfdf7598a2242', 2, 2, 1)\",\"('mean_combine-partial-ec8f487fa65deb8f111797131d9258cd', 1, 2, 0)\",\"('mean_chunk-0c8c37d8fbc37013fcedfdf7598a2242', 2, 2, 2)\",\"('mean_combine-partial-ec8f487fa65deb8f111797131d9258cd', 1, 2, 1)\",\"('mean_agg-aggregate-62c769ab0bd6f3f8c251bb6a61f5c6fa', 2, 0)\",\"('mean_combine-partial-ec8f487fa65deb8f111797131d9258cd', 1, 2, 2)\",\"('mean_chunk-0c8c37d8fbc37013fcedfdf7598a2242', 3, 1, 1)\",\"('mean_chunk-0c8c37d8fbc37013fcedfdf7598a2242', 3, 1, 2)\",\"('mean_chunk-0c8c37d8fbc37013fcedfdf7598a2242', 2, 0, 1)\",\"('mean_chunk-0c8c37d8fbc37013fcedfdf7598a2242', 2, 0, 2)\",\"('mean_combine-partial-ec8f487fa65deb8f111797131d9258cd', 1, 0, 1)\",\"('mean_combine-partial-ec8f487fa65deb8f111797131d9258cd', 1, 0, 2)\",\"('mean_agg-aggregate-62c769ab0bd6f3f8c251bb6a61f5c6fa', 0, 1)\",\"('mean_agg-aggregate-62c769ab0bd6f3f8c251bb6a61f5c6fa', 0, 2)\",\"('mean_chunk-0c8c37d8fbc37013fcedfdf7598a2242', 2, 1, 1)\",\"('mean_combine-partial-ec8f487fa65deb8f111797131d9258cd', 1, 1, 1)\",\"('mean_chunk-0c8c37d8fbc37013fcedfdf7598a2242', 2, 1, 2)\",\"('mean_combine-partial-ec8f487fa65deb8f111797131d9258cd', 1, 1, 2)\",\"('mean_chunk-0c8c37d8fbc37013fcedfdf7598a2242', 2, 1, 0)\",\"('mean_combine-partial-ec8f487fa65deb8f111797131d9258cd', 1, 1, 0)\",\"('mean_agg-aggregate-62c769ab0bd6f3f8c251bb6a61f5c6fa', 1, 0)\",\"('mean_chunk-0c8c37d8fbc37013fcedfdf7598a2242', 0, 2, 2)\",\"('mean_combine-partial-ec8f487fa65deb8f111797131d9258cd', 0, 2, 2)\",\"('mean_agg-aggregate-62c769ab0bd6f3f8c251bb6a61f5c6fa', 2, 2)\",\"('mean_chunk-0c8c37d8fbc37013fcedfdf7598a2242', 0, 2, 1)\",\"('mean_combine-partial-ec8f487fa65deb8f111797131d9258cd', 0, 2, 1)\",\"('mean_agg-aggregate-62c769ab0bd6f3f8c251bb6a61f5c6fa', 2, 1)\",\"('mean_chunk-0c8c37d8fbc37013fcedfdf7598a2242', 0, 1, 1)\",\"('mean_combine-partial-ec8f487fa65deb8f111797131d9258cd', 0, 1, 1)\",\"('mean_agg-aggregate-62c769ab0bd6f3f8c251bb6a61f5c6fa', 1, 1)\",\"('mean_chunk-0c8c37d8fbc37013fcedfdf7598a2242', 0, 1, 2)\",\"('mean_combine-partial-ec8f487fa65deb8f111797131d9258cd', 0, 1, 2)\",\"('mean_agg-aggregate-62c769ab0bd6f3f8c251bb6a61f5c6fa', 1, 2)\"],\"width\":[0.0014611999940825626,0.0011551000061444938,0.001159499995992519,0.001301900003454648,0.001001999989966862,0.002464799996232614,0.008431600013864227,0.027871999991475604,9.798016700005974,8.956205299997237,9.105909300007625,8.800128099988797,4.975250300005428,9.224084399989806,9.799452600011136,5.101967700000387,5.231585799992899,9.666891100001521,9.810743800000637,9.859304099998553,9.782560199993895,5.1720156999945175,9.825655699998606,9.689507499992033,0.0070109000080265105,9.148906599992188,0.01033780000580009,9.368896500003757,0.002454399989801459,0.0030006999877514318,9.124486800006707,0.004119000004720874,5.707313900013105,0.05035820000921376,8.207736600001226,0.005240900005446747,8.108189300008235,0.002173100001527928,5.279417400000966,0.0019113000016659498,5.3677087999967625,0.006212599997525103,7.8417058999912115,0.015826800008653663,7.785036700006458,0.023090200003935024,0.010252500011119992,0.020472599993809126,0.021495599998161197,0.02370199999131728,0.06578440000885166,8.025191000007908,5.358439300005557,7.832105000008596,0.049174300002050586,0.022637500005657785,0.007888899999670684,0.004348899994511157,0.0037711000040872023,7.909550099997432,0.001663100003497675,5.302654500002973,5.332114599994384,0.0034678000083658844,7.066893799987156,0.010643400004482828,4.3147506000095746,0.0034142999938922003,3.6384478000109084,0.0036721000069519505,3.5427278999995906,0.0022517000033985823,0.002900699997553602,0.007403799987514503,0.05967249999230262,0.05894220000482164,0.0354669000080321,0.0082265999953961,0.004156900002271868,0.0028729999903589487,0.025518800001009367,0.02055070000642445,0.002611800009617582,0.0018936999986181036,0.0016145999979926273,0.0015112999972188845,0.0014929000026313588,0.0011346999963279814,0.0023425999970640987,0.0028972000000067055,0.0013159000081941485,0.0008573000086471438,0.008522700009052642,0.0006242000090423971,0.0004434000002220273,0.0006275999912759289,0.0005757000035373494,0.00121640000725165,0.006462699995609,0.000535300001502037,0.0006515999994007871,0.0005326999962562695,0.0004056999896420166,0.0004579999949783087,0.00042810000013560057,0.0004243000003043562,0.0004275000101188198],\"x\":[0.0007306000043172389,0.0011105500016128644,0.0013234500074759126,0.0015396499948110431,0.0019675999938044697,0.002923799998825416,0.00612199999159202,0.01613040000665933,4.901480450003874,4.480821549994289,4.55586084999959,4.403141349990619,2.4908681499946397,4.615457799998694,4.903302799997618,2.55472684999404,2.6196994000056293,4.837605449996772,4.909703899989836,4.934151950001251,4.8959508999978425,2.591462650001631,4.923171949994867,4.874825150007382,4.982031649997225,9.560023400001228,5.110919400001876,9.800632450002013,5.178727299993625,5.181473250006093,9.745239899988519,5.237600299995393,8.093339849991025,8.828432399997837,12.957521600008477,8.96157795000181,13.018349349993514,9.10993684999994,11.75075440001092,9.228486849999172,11.913315699988743,9.67418830000679,13.598193849989912,9.727530300006038,13.628001450008014,9.798824500001501,9.80565624999872,9.813292500009993,9.821131999997306,9.82264299999224,9.84799209999619,13.836150399991311,12.511130450002383,13.750582900000154,9.860609750001458,9.875145650003105,9.884863949991995,9.887387950002449,9.888366750004934,13.843599749990972,9.890405350000947,12.541594149995944,12.55730699999549,10.948763899999904,14.483986799998092,14.13984019999043,16.302567300008377,14.309214150009211,16.130173300000024,14.392332449991954,16.165564549999544,14.486236349999672,14.598661249998258,15.194078800006537,15.222773749992484,15.227263399996446,15.241128850000678,15.25675329999649,15.25883544998942,15.260325199997169,17.07417519998853,17.082731450005667,17.520383499999298,17.521485950011993,17.522516600001836,17.523201950010844,17.524079750000965,17.524531150003895,17.667834899999434,17.67047769999772,17.799059550001402,17.800161749997642,17.853017749992432,17.857605299999705,17.858147199993255,17.9372524000064,17.93786025000736,17.93876160000218,17.952653350002947,17.956159449997358,17.95675789998495,18.017708750005113,18.01818295000703,18.018619900001795,18.46016595000401,18.460597550001694,18.461028149991762],\"y\":[15,15,15,15,16,14,13,12,2,7,6,8,11,5,15,10,16,4,14,1,13,9,12,3,11,11,10,10,9,9,9,16,16,8,8,7,7,6,6,5,5,4,3,4,4,13,15,14,14,14,15,2,14,12,15,1,13,15,1,15,13,1,13,16,16,11,11,9,9,6,6,10,10,10,14,10,13,14,14,1,13,14,10,7,5,1,4,8,13,14,3,10,7,13,14,15,4,10,2,12,5,1,15,4,8,2,12]},\"selected\":{\"id\":\"29922\"},\"selection_policy\":{\"id\":\"29921\"}},\"id\":\"29907\",\"type\":\"ColumnDataSource\"},{\"attributes\":{},\"id\":\"29921\",\"type\":\"UnionRenderers\"},{\"attributes\":{\"dimensions\":\"width\"},\"id\":\"29900\",\"type\":\"PanTool\"},{\"attributes\":{},\"id\":\"29897\",\"type\":\"SaveTool\"},{\"attributes\":{\"axis_label\":\"Time (s)\",\"axis_line_color\":null,\"coordinates\":null,\"formatter\":{\"id\":\"29919\"},\"group\":null,\"major_label_policy\":{\"id\":\"29920\"},\"major_tick_line_color\":null,\"ticker\":{\"id\":\"29890\"}},\"id\":\"29889\",\"type\":\"LinearAxis\"},{\"attributes\":{},\"id\":\"29917\",\"type\":\"AllLabels\"},{\"attributes\":{},\"id\":\"29922\",\"type\":\"Selection\"},{\"attributes\":{},\"id\":\"29898\",\"type\":\"ResetTool\"},{\"attributes\":{},\"id\":\"29890\",\"type\":\"BasicTicker\"},{\"attributes\":{\"end\":18.461241900004097},\"id\":\"29881\",\"type\":\"Range1d\"},{\"attributes\":{\"coordinates\":null,\"group\":null,\"text\":\"Profile Results\"},\"id\":\"29879\",\"type\":\"Title\"},{\"attributes\":{\"fill_color\":{\"field\":\"color\"},\"hatch_color\":{\"field\":\"color\"},\"height\":{\"value\":1},\"line_color\":{\"value\":\"gray\"},\"width\":{\"field\":\"width\"},\"x\":{\"field\":\"x\"},\"y\":{\"field\":\"y\"}},\"id\":\"29909\",\"type\":\"Rect\"},{\"attributes\":{},\"id\":\"29894\",\"type\":\"CategoricalTicker\"},{\"attributes\":{\"factors\":[\"0\",\"1\",\"2\",\"3\",\"4\",\"5\",\"6\",\"7\",\"8\",\"9\",\"10\",\"11\",\"12\",\"13\",\"14\",\"15\"]},\"id\":\"29883\",\"type\":\"FactorRange\"},{\"attributes\":{\"callback\":null,\"point_policy\":\"follow_mouse\",\"tooltips\":\"\\n    <div>\\n        <span style=\\\"font-size: 14px; font-weight: bold;\\\">Key:</span>&nbsp;\\n        <span style=\\\"font-size: 10px; font-family: Monaco, monospace;\\\">@key</span>\\n    </div>\\n    <div>\\n        <span style=\\\"font-size: 14px; font-weight: bold;\\\">Task:</span>&nbsp;\\n        <span style=\\\"font-size: 10px; font-family: Monaco, monospace;\\\">@function</span>\\n    </div>\\n    \"},\"id\":\"29896\",\"type\":\"HoverTool\"},{\"attributes\":{},\"id\":\"29887\",\"type\":\"CategoricalScale\"},{\"attributes\":{\"tools\":[{\"id\":\"29896\"},{\"id\":\"29897\"},{\"id\":\"29898\"},{\"id\":\"29899\"},{\"id\":\"29900\"}]},\"id\":\"29901\",\"type\":\"Toolbar\"},{\"attributes\":{\"source\":{\"id\":\"29907\"}},\"id\":\"29913\",\"type\":\"CDSView\"}],\"root_ids\":[\"29878\"]},\"title\":\"Bokeh Application\",\"version\":\"2.4.3\"}};\n",
       "  const render_items = [{\"docid\":\"40853ceb-1619-4412-b387-adc8232d98a3\",\"root_ids\":[\"29878\"],\"roots\":{\"29878\":\"13d4f77f-588b-4e40-912f-419b4590117c\"}}];\n",
       "  root.Bokeh.embed.embed_items_notebook(docs_json, render_items);\n",
       "  }\n",
       "  if (root.Bokeh !== undefined) {\n",
       "    embed_document(root);\n",
       "  } else {\n",
       "    let attempts = 0;\n",
       "    const timer = setInterval(function(root) {\n",
       "      if (root.Bokeh !== undefined) {\n",
       "        clearInterval(timer);\n",
       "        embed_document(root);\n",
       "      } else {\n",
       "        attempts++;\n",
       "        if (attempts > 100) {\n",
       "          clearInterval(timer);\n",
       "          console.log(\"Bokeh: ERROR: Unable to run BokehJS code because BokehJS library is missing\");\n",
       "        }\n",
       "      }\n",
       "    }, 10, root)\n",
       "  }\n",
       "})(window);"
      ],
      "application/vnd.bokehjs_exec.v0+json": ""
     },
     "metadata": {
      "application/vnd.bokehjs_exec.v0+json": {
       "id": "29878"
      }
     },
     "output_type": "display_data"
    }
   ],
   "source": [
    "profilers[0].visualize();"
   ]
  },
  {
   "cell_type": "markdown",
   "id": "9f7afda6-5b1d-4362-9495-4ad140716f5f",
   "metadata": {},
   "source": [
    "The result from the `ResourceProfiler` is shown below: This shows two lines, one for total CPU percentage used by all the workers, and one for total memory usage. The CPU usage is scaled so each worker contributes up to $100 \\ \\%$, i.e. two fully utilized workers use $200 \\ \\%$."
   ]
  },
  {
   "cell_type": "code",
   "execution_count": 170,
   "id": "42497cde-4e5c-4844-91e5-e8d91e1aafa9",
   "metadata": {},
   "outputs": [
    {
     "data": {
      "text/html": [
       "\n",
       "  <div class=\"bk-root\" id=\"5986bf63-f25b-480f-b296-cfbc4b0ec6b9\" data-root-id=\"30631\"></div>\n"
      ]
     },
     "metadata": {},
     "output_type": "display_data"
    },
    {
     "data": {
      "application/javascript": [
       "(function(root) {\n",
       "  function embed_document(root) {\n",
       "  const docs_json = {\"df404f27-30c0-4f9a-8ffd-edd2344d00f3\":{\"defs\":[],\"roots\":{\"references\":[{\"attributes\":{\"below\":[{\"id\":\"30642\"}],\"center\":[{\"id\":\"30645\"},{\"id\":\"30649\"},{\"id\":\"30674\"}],\"extra_y_ranges\":{\"memory\":{\"id\":\"30676\"}},\"height\":300,\"left\":[{\"id\":\"30646\"}],\"renderers\":[{\"id\":\"30663\"},{\"id\":\"30681\"}],\"right\":[{\"id\":\"30695\"}],\"title\":{\"id\":\"30632\"},\"toolbar\":{\"id\":\"30654\"},\"toolbar_location\":\"above\",\"width\":800,\"x_range\":{\"id\":\"30634\"},\"x_scale\":{\"id\":\"30638\"},\"y_range\":{\"id\":\"30636\"},\"y_scale\":{\"id\":\"30640\"}},\"id\":\"30631\",\"subtype\":\"Figure\",\"type\":\"Plot\"},{\"attributes\":{},\"id\":\"30650\",\"type\":\"SaveTool\"},{\"attributes\":{\"coordinates\":null,\"group\":null,\"items\":[{\"id\":\"30675\"},{\"id\":\"30694\"}]},\"id\":\"30674\",\"type\":\"Legend\"},{\"attributes\":{\"end\":1268.8},\"id\":\"30636\",\"type\":\"Range1d\"},{\"attributes\":{},\"id\":\"31363\",\"type\":\"BasicTicker\"},{\"attributes\":{\"line_alpha\":0.1,\"line_color\":\"#29788E\",\"line_width\":4,\"x\":{\"field\":\"x\"},\"y\":{\"field\":\"y\"}},\"id\":\"30679\",\"type\":\"Line\"},{\"attributes\":{\"line_color\":\"#29788E\",\"line_width\":4,\"x\":{\"field\":\"x\"},\"y\":{\"field\":\"y\"}},\"id\":\"30678\",\"type\":\"Line\"},{\"attributes\":{\"end\":19.347514},\"id\":\"30634\",\"type\":\"Range1d\"},{\"attributes\":{},\"id\":\"31365\",\"type\":\"AllLabels\"},{\"attributes\":{},\"id\":\"30673\",\"type\":\"Selection\"},{\"attributes\":{\"label\":{\"value\":\"Memory\"},\"renderers\":[{\"id\":\"30681\"}]},\"id\":\"30694\",\"type\":\"LegendItem\"},{\"attributes\":{\"axis\":{\"id\":\"30646\"},\"coordinates\":null,\"dimension\":1,\"group\":null,\"ticker\":null},\"id\":\"30649\",\"type\":\"Grid\"},{\"attributes\":{\"coordinates\":null,\"data_source\":{\"id\":\"30659\"},\"glyph\":{\"id\":\"30660\"},\"group\":null,\"hover_glyph\":null,\"muted_glyph\":{\"id\":\"30662\"},\"nonselection_glyph\":{\"id\":\"30661\"},\"view\":{\"id\":\"30664\"}},\"id\":\"30663\",\"type\":\"GlyphRenderer\"},{\"attributes\":{},\"id\":\"30667\",\"type\":\"BasicTickFormatter\"},{\"attributes\":{},\"id\":\"30670\",\"type\":\"BasicTickFormatter\"},{\"attributes\":{\"dimensions\":\"width\"},\"id\":\"30652\",\"type\":\"WheelZoomTool\"},{\"attributes\":{\"dimensions\":\"width\"},\"id\":\"30653\",\"type\":\"PanTool\"},{\"attributes\":{\"line_color\":\"#440154\",\"line_width\":4,\"x\":{\"field\":\"x\"},\"y\":{\"field\":\"y\"}},\"id\":\"30660\",\"type\":\"Line\"},{\"attributes\":{\"source\":{\"id\":\"30677\"}},\"id\":\"30682\",\"type\":\"CDSView\"},{\"attributes\":{},\"id\":\"30668\",\"type\":\"AllLabels\"},{\"attributes\":{\"end\":2767.0528,\"start\":497.627136},\"id\":\"30676\",\"type\":\"Range1d\"},{\"attributes\":{\"data\":{\"x\":[0.0,1.1338976,2.1359483999999997,3.1505795,4.1855683,5.1911273,6.1965959999999995,7.2037075,8.2137346,9.2266402,10.230369900000001,11.249486600000001,12.2637131,13.2745788,14.2879906,15.289731100000001,16.3055239,17.319276000000002,18.333909900000002,19.347514],\"y\":[0.0,829.2,1128.1,1179.6,1171.5,1268.8,1115.6,1114.1,1179.5,859.0,912.5,1062.7,1160.7,1253.4,918.1,676.6,678.9,502.9,43.1,0.0]},\"selected\":{\"id\":\"30673\"},\"selection_policy\":{\"id\":\"30672\"}},\"id\":\"30659\",\"type\":\"ColumnDataSource\"},{\"attributes\":{},\"id\":\"30640\",\"type\":\"LinearScale\"},{\"attributes\":{\"line_alpha\":0.2,\"line_color\":\"#440154\",\"line_width\":4,\"x\":{\"field\":\"x\"},\"y\":{\"field\":\"y\"}},\"id\":\"30662\",\"type\":\"Line\"},{\"attributes\":{\"axis\":{\"id\":\"30642\"},\"coordinates\":null,\"group\":null,\"ticker\":null},\"id\":\"30645\",\"type\":\"Grid\"},{\"attributes\":{},\"id\":\"30671\",\"type\":\"AllLabels\"},{\"attributes\":{\"label\":{\"value\":\"% CPU\"},\"renderers\":[{\"id\":\"30663\"}]},\"id\":\"30675\",\"type\":\"LegendItem\"},{\"attributes\":{},\"id\":\"30651\",\"type\":\"ResetTool\"},{\"attributes\":{\"axis_label\":\"Time (s)\",\"coordinates\":null,\"formatter\":{\"id\":\"30670\"},\"group\":null,\"major_label_policy\":{\"id\":\"30671\"},\"ticker\":{\"id\":\"30643\"}},\"id\":\"30642\",\"type\":\"LinearAxis\"},{\"attributes\":{\"coordinates\":null,\"data_source\":{\"id\":\"30677\"},\"glyph\":{\"id\":\"30678\"},\"group\":null,\"hover_glyph\":null,\"muted_glyph\":{\"id\":\"30680\"},\"nonselection_glyph\":{\"id\":\"30679\"},\"view\":{\"id\":\"30682\"},\"y_range_name\":\"memory\"},\"id\":\"30681\",\"type\":\"GlyphRenderer\"},{\"attributes\":{\"tools\":[{\"id\":\"30650\"},{\"id\":\"30651\"},{\"id\":\"30652\"},{\"id\":\"30653\"}]},\"id\":\"30654\",\"type\":\"Toolbar\"},{\"attributes\":{\"coordinates\":null,\"group\":null,\"text\":\"Profile Results\"},\"id\":\"30632\",\"type\":\"Title\"},{\"attributes\":{\"data\":{\"x\":[0.0,1.1338976,2.1359483999999997,3.1505795,4.1855683,5.1911273,6.1965959999999995,7.2037075,8.2137346,9.2266402,10.230369900000001,11.249486600000001,12.2637131,13.2745788,14.2879906,15.289731100000001,16.3055239,17.319276000000002,18.333909900000002,19.347514],\"y\":[1817.2928,1793.540096,2364.563456,2612.834304,2342.11328,2634.883072,2767.0528,2539.003904,2171.891712,1242.29632,1622.953984,2339.4304,2143.870976,2468.438016,1802.084352,1682.731008,1894.25664,756.8384,497.651712,497.627136]},\"selected\":{\"id\":\"30693\"},\"selection_policy\":{\"id\":\"30692\"}},\"id\":\"30677\",\"type\":\"ColumnDataSource\"},{\"attributes\":{},\"id\":\"30672\",\"type\":\"UnionRenderers\"},{\"attributes\":{\"axis_label\":\"% CPU\",\"coordinates\":null,\"formatter\":{\"id\":\"30667\"},\"group\":null,\"major_label_policy\":{\"id\":\"30668\"},\"ticker\":{\"id\":\"30647\"}},\"id\":\"30646\",\"type\":\"LinearAxis\"},{\"attributes\":{\"source\":{\"id\":\"30659\"}},\"id\":\"30664\",\"type\":\"CDSView\"},{\"attributes\":{},\"id\":\"30693\",\"type\":\"Selection\"},{\"attributes\":{\"line_alpha\":0.2,\"line_color\":\"#29788E\",\"line_width\":4,\"x\":{\"field\":\"x\"},\"y\":{\"field\":\"y\"}},\"id\":\"30680\",\"type\":\"Line\"},{\"attributes\":{},\"id\":\"30643\",\"type\":\"BasicTicker\"},{\"attributes\":{\"axis_label\":\"Memory (MB)\",\"coordinates\":null,\"formatter\":{\"id\":\"31364\"},\"group\":null,\"major_label_policy\":{\"id\":\"31365\"},\"ticker\":{\"id\":\"31363\"},\"y_range_name\":\"memory\"},\"id\":\"30695\",\"type\":\"LinearAxis\"},{\"attributes\":{},\"id\":\"30692\",\"type\":\"UnionRenderers\"},{\"attributes\":{\"line_alpha\":0.1,\"line_color\":\"#440154\",\"line_width\":4,\"x\":{\"field\":\"x\"},\"y\":{\"field\":\"y\"}},\"id\":\"30661\",\"type\":\"Line\"},{\"attributes\":{},\"id\":\"30647\",\"type\":\"BasicTicker\"},{\"attributes\":{},\"id\":\"30638\",\"type\":\"LinearScale\"},{\"attributes\":{},\"id\":\"31364\",\"type\":\"BasicTickFormatter\"}],\"root_ids\":[\"30631\"]},\"title\":\"Bokeh Application\",\"version\":\"2.4.3\"}};\n",
       "  const render_items = [{\"docid\":\"df404f27-30c0-4f9a-8ffd-edd2344d00f3\",\"root_ids\":[\"30631\"],\"roots\":{\"30631\":\"5986bf63-f25b-480f-b296-cfbc4b0ec6b9\"}}];\n",
       "  root.Bokeh.embed.embed_items_notebook(docs_json, render_items);\n",
       "  }\n",
       "  if (root.Bokeh !== undefined) {\n",
       "    embed_document(root);\n",
       "  } else {\n",
       "    let attempts = 0;\n",
       "    const timer = setInterval(function(root) {\n",
       "      if (root.Bokeh !== undefined) {\n",
       "        clearInterval(timer);\n",
       "        embed_document(root);\n",
       "      } else {\n",
       "        attempts++;\n",
       "        if (attempts > 100) {\n",
       "          clearInterval(timer);\n",
       "          console.log(\"Bokeh: ERROR: Unable to run BokehJS code because BokehJS library is missing\");\n",
       "        }\n",
       "      }\n",
       "    }, 10, root)\n",
       "  }\n",
       "})(window);"
      ],
      "application/vnd.bokehjs_exec.v0+json": ""
     },
     "metadata": {
      "application/vnd.bokehjs_exec.v0+json": {
       "id": "30631"
      }
     },
     "output_type": "display_data"
    }
   ],
   "source": [
    "profilers[1].visualize();"
   ]
  },
  {
   "cell_type": "markdown",
   "id": "95a9fa0a-f044-40cd-8964-9e4a1911fa87",
   "metadata": {},
   "source": [
    "We ran the calculation on a single computer with an 8 core CPU with 2 threads per core for 16 threads total. We see that our peak CPU usage was $\\sim 1300 \\%$, this is a fairly typical usage statistic for a single machine, overhead and background processes limited us from reaching the the $1600 \\ \\%$ corresponding to using every worker maximally.\n",
    "\n",
    "We also see that the total memory use is even higher than the size of every wave function combined. This is because every parallel run of the multislice algorithm requires a significant overhead for intermediate results (such as potential slices and fresnel propagators). If your calculation runs out of memory you can lower the number of workers, thus trading away computational speed for lower memory consumption.\n",
    "\n",
    "We note that the overhead in both CPU usage and memory diminishes for larger simulation with more powerful hardware."
   ]
  },
  {
   "cell_type": "markdown",
   "id": "88a96448-5a2a-4c60-9ce7-7a2f43845d3c",
   "metadata": {},
   "source": [
    "### The distributed scheduler (locally)\n",
    "The Dask distributed scheduler is necessary for running your simulation a cluster, however, it also runs [locally on a personal machine](https://docs.dask.org/en/stable/scheduling.html#dask-distributed-local). You can find details in the Dask documentation . We demonstrate the basics below.\n",
    "\n",
    "You can use the Dask distributed scheduler by just initializing a Dask `Client`. The `Client` takes keyword arguments such as `num_workers`."
   ]
  },
  {
   "cell_type": "code",
   "execution_count": 174,
   "id": "2b7c37a3-909c-482e-99fb-72e4eb222a5a",
   "metadata": {},
   "outputs": [
    {
     "name": "stderr",
     "output_type": "stream",
     "text": [
      "C:\\Users\\jacob\\anaconda3\\envs\\test-test\\lib\\site-packages\\distributed\\node.py:179: UserWarning: Port 8787 is already in use.\n",
      "Perhaps you already have a cluster running?\n",
      "Hosting the HTTP server on port 56043 instead\n",
      "  warnings.warn(\n"
     ]
    },
    {
     "data": {
      "text/html": [
       "<div>\n",
       "    <div style=\"width: 24px; height: 24px; background-color: #e1e1e1; border: 3px solid #9D9D9D; border-radius: 5px; position: absolute;\"> </div>\n",
       "    <div style=\"margin-left: 48px;\">\n",
       "        <h3 style=\"margin-bottom: 0px;\">Client</h3>\n",
       "        <p style=\"color: #9D9D9D; margin-bottom: 0px;\">Client-234e68b7-47ec-11ed-bc5c-3800259eb785</p>\n",
       "        <table style=\"width: 100%; text-align: left;\">\n",
       "\n",
       "        <tr>\n",
       "        \n",
       "            <td style=\"text-align: left;\"><strong>Connection method:</strong> Cluster object</td>\n",
       "            <td style=\"text-align: left;\"><strong>Cluster type:</strong> distributed.LocalCluster</td>\n",
       "        \n",
       "        </tr>\n",
       "\n",
       "        \n",
       "            <tr>\n",
       "                <td style=\"text-align: left;\">\n",
       "                    <strong>Dashboard: </strong> <a href=\"http://127.0.0.1:56043/status\" target=\"_blank\">http://127.0.0.1:56043/status</a>\n",
       "                </td>\n",
       "                <td style=\"text-align: left;\"></td>\n",
       "            </tr>\n",
       "        \n",
       "\n",
       "        </table>\n",
       "\n",
       "        \n",
       "            <details>\n",
       "            <summary style=\"margin-bottom: 20px;\"><h3 style=\"display: inline;\">Cluster Info</h3></summary>\n",
       "            <div class=\"jp-RenderedHTMLCommon jp-RenderedHTML jp-mod-trusted jp-OutputArea-output\">\n",
       "    <div style=\"width: 24px; height: 24px; background-color: #e1e1e1; border: 3px solid #9D9D9D; border-radius: 5px; position: absolute;\">\n",
       "    </div>\n",
       "    <div style=\"margin-left: 48px;\">\n",
       "        <h3 style=\"margin-bottom: 0px; margin-top: 0px;\">LocalCluster</h3>\n",
       "        <p style=\"color: #9D9D9D; margin-bottom: 0px;\">9522c2b4</p>\n",
       "        <table style=\"width: 100%; text-align: left;\">\n",
       "            <tr>\n",
       "                <td style=\"text-align: left;\">\n",
       "                    <strong>Dashboard:</strong> <a href=\"http://127.0.0.1:56043/status\" target=\"_blank\">http://127.0.0.1:56043/status</a>\n",
       "                </td>\n",
       "                <td style=\"text-align: left;\">\n",
       "                    <strong>Workers:</strong> 16\n",
       "                </td>\n",
       "            </tr>\n",
       "            <tr>\n",
       "                <td style=\"text-align: left;\">\n",
       "                    <strong>Total threads:</strong> 16\n",
       "                </td>\n",
       "                <td style=\"text-align: left;\">\n",
       "                    <strong>Total memory:</strong> 31.93 GiB\n",
       "                </td>\n",
       "            </tr>\n",
       "            \n",
       "            <tr>\n",
       "    <td style=\"text-align: left;\"><strong>Status:</strong> running</td>\n",
       "    <td style=\"text-align: left;\"><strong>Using processes:</strong> True</td>\n",
       "</tr>\n",
       "\n",
       "            \n",
       "        </table>\n",
       "\n",
       "        <details>\n",
       "            <summary style=\"margin-bottom: 20px;\">\n",
       "                <h3 style=\"display: inline;\">Scheduler Info</h3>\n",
       "            </summary>\n",
       "\n",
       "            <div style=\"\">\n",
       "    <div>\n",
       "        <div style=\"width: 24px; height: 24px; background-color: #FFF7E5; border: 3px solid #FF6132; border-radius: 5px; position: absolute;\"> </div>\n",
       "        <div style=\"margin-left: 48px;\">\n",
       "            <h3 style=\"margin-bottom: 0px;\">Scheduler</h3>\n",
       "            <p style=\"color: #9D9D9D; margin-bottom: 0px;\">Scheduler-d15b0eef-e996-40c7-b921-a961b745e122</p>\n",
       "            <table style=\"width: 100%; text-align: left;\">\n",
       "                <tr>\n",
       "                    <td style=\"text-align: left;\">\n",
       "                        <strong>Comm:</strong> tcp://127.0.0.1:56046\n",
       "                    </td>\n",
       "                    <td style=\"text-align: left;\">\n",
       "                        <strong>Workers:</strong> 16\n",
       "                    </td>\n",
       "                </tr>\n",
       "                <tr>\n",
       "                    <td style=\"text-align: left;\">\n",
       "                        <strong>Dashboard:</strong> <a href=\"http://127.0.0.1:56043/status\" target=\"_blank\">http://127.0.0.1:56043/status</a>\n",
       "                    </td>\n",
       "                    <td style=\"text-align: left;\">\n",
       "                        <strong>Total threads:</strong> 16\n",
       "                    </td>\n",
       "                </tr>\n",
       "                <tr>\n",
       "                    <td style=\"text-align: left;\">\n",
       "                        <strong>Started:</strong> Just now\n",
       "                    </td>\n",
       "                    <td style=\"text-align: left;\">\n",
       "                        <strong>Total memory:</strong> 31.93 GiB\n",
       "                    </td>\n",
       "                </tr>\n",
       "            </table>\n",
       "        </div>\n",
       "    </div>\n",
       "\n",
       "    <details style=\"margin-left: 48px;\">\n",
       "        <summary style=\"margin-bottom: 20px;\">\n",
       "            <h3 style=\"display: inline;\">Workers</h3>\n",
       "        </summary>\n",
       "\n",
       "        \n",
       "        <div style=\"margin-bottom: 20px;\">\n",
       "            <div style=\"width: 24px; height: 24px; background-color: #DBF5FF; border: 3px solid #4CC9FF; border-radius: 5px; position: absolute;\"> </div>\n",
       "            <div style=\"margin-left: 48px;\">\n",
       "            <details>\n",
       "                <summary>\n",
       "                    <h4 style=\"margin-bottom: 0px; display: inline;\">Worker: 0</h4>\n",
       "                </summary>\n",
       "                <table style=\"width: 100%; text-align: left;\">\n",
       "                    <tr>\n",
       "                        <td style=\"text-align: left;\">\n",
       "                            <strong>Comm: </strong> tcp://127.0.0.1:56182\n",
       "                        </td>\n",
       "                        <td style=\"text-align: left;\">\n",
       "                            <strong>Total threads: </strong> 1\n",
       "                        </td>\n",
       "                    </tr>\n",
       "                    <tr>\n",
       "                        <td style=\"text-align: left;\">\n",
       "                            <strong>Dashboard: </strong> <a href=\"http://127.0.0.1:56183/status\" target=\"_blank\">http://127.0.0.1:56183/status</a>\n",
       "                        </td>\n",
       "                        <td style=\"text-align: left;\">\n",
       "                            <strong>Memory: </strong> 2.00 GiB\n",
       "                        </td>\n",
       "                    </tr>\n",
       "                    <tr>\n",
       "                        <td style=\"text-align: left;\">\n",
       "                            <strong>Nanny: </strong> tcp://127.0.0.1:56061\n",
       "                        </td>\n",
       "                        <td style=\"text-align: left;\"></td>\n",
       "                    </tr>\n",
       "                    <tr>\n",
       "                        <td colspan=\"2\" style=\"text-align: left;\">\n",
       "                            <strong>Local directory: </strong> C:\\Users\\jacob\\AppData\\Local\\Temp\\dask-worker-space\\worker-os0hg871\n",
       "                        </td>\n",
       "                    </tr>\n",
       "\n",
       "                    \n",
       "\n",
       "                    \n",
       "\n",
       "                </table>\n",
       "            </details>\n",
       "            </div>\n",
       "        </div>\n",
       "        \n",
       "        <div style=\"margin-bottom: 20px;\">\n",
       "            <div style=\"width: 24px; height: 24px; background-color: #DBF5FF; border: 3px solid #4CC9FF; border-radius: 5px; position: absolute;\"> </div>\n",
       "            <div style=\"margin-left: 48px;\">\n",
       "            <details>\n",
       "                <summary>\n",
       "                    <h4 style=\"margin-bottom: 0px; display: inline;\">Worker: 1</h4>\n",
       "                </summary>\n",
       "                <table style=\"width: 100%; text-align: left;\">\n",
       "                    <tr>\n",
       "                        <td style=\"text-align: left;\">\n",
       "                            <strong>Comm: </strong> tcp://127.0.0.1:56206\n",
       "                        </td>\n",
       "                        <td style=\"text-align: left;\">\n",
       "                            <strong>Total threads: </strong> 1\n",
       "                        </td>\n",
       "                    </tr>\n",
       "                    <tr>\n",
       "                        <td style=\"text-align: left;\">\n",
       "                            <strong>Dashboard: </strong> <a href=\"http://127.0.0.1:56207/status\" target=\"_blank\">http://127.0.0.1:56207/status</a>\n",
       "                        </td>\n",
       "                        <td style=\"text-align: left;\">\n",
       "                            <strong>Memory: </strong> 2.00 GiB\n",
       "                        </td>\n",
       "                    </tr>\n",
       "                    <tr>\n",
       "                        <td style=\"text-align: left;\">\n",
       "                            <strong>Nanny: </strong> tcp://127.0.0.1:56064\n",
       "                        </td>\n",
       "                        <td style=\"text-align: left;\"></td>\n",
       "                    </tr>\n",
       "                    <tr>\n",
       "                        <td colspan=\"2\" style=\"text-align: left;\">\n",
       "                            <strong>Local directory: </strong> C:\\Users\\jacob\\AppData\\Local\\Temp\\dask-worker-space\\worker-vsfwdgv0\n",
       "                        </td>\n",
       "                    </tr>\n",
       "\n",
       "                    \n",
       "\n",
       "                    \n",
       "\n",
       "                </table>\n",
       "            </details>\n",
       "            </div>\n",
       "        </div>\n",
       "        \n",
       "        <div style=\"margin-bottom: 20px;\">\n",
       "            <div style=\"width: 24px; height: 24px; background-color: #DBF5FF; border: 3px solid #4CC9FF; border-radius: 5px; position: absolute;\"> </div>\n",
       "            <div style=\"margin-left: 48px;\">\n",
       "            <details>\n",
       "                <summary>\n",
       "                    <h4 style=\"margin-bottom: 0px; display: inline;\">Worker: 2</h4>\n",
       "                </summary>\n",
       "                <table style=\"width: 100%; text-align: left;\">\n",
       "                    <tr>\n",
       "                        <td style=\"text-align: left;\">\n",
       "                            <strong>Comm: </strong> tcp://127.0.0.1:56188\n",
       "                        </td>\n",
       "                        <td style=\"text-align: left;\">\n",
       "                            <strong>Total threads: </strong> 1\n",
       "                        </td>\n",
       "                    </tr>\n",
       "                    <tr>\n",
       "                        <td style=\"text-align: left;\">\n",
       "                            <strong>Dashboard: </strong> <a href=\"http://127.0.0.1:56190/status\" target=\"_blank\">http://127.0.0.1:56190/status</a>\n",
       "                        </td>\n",
       "                        <td style=\"text-align: left;\">\n",
       "                            <strong>Memory: </strong> 2.00 GiB\n",
       "                        </td>\n",
       "                    </tr>\n",
       "                    <tr>\n",
       "                        <td style=\"text-align: left;\">\n",
       "                            <strong>Nanny: </strong> tcp://127.0.0.1:56060\n",
       "                        </td>\n",
       "                        <td style=\"text-align: left;\"></td>\n",
       "                    </tr>\n",
       "                    <tr>\n",
       "                        <td colspan=\"2\" style=\"text-align: left;\">\n",
       "                            <strong>Local directory: </strong> C:\\Users\\jacob\\AppData\\Local\\Temp\\dask-worker-space\\worker-68bf8bb1\n",
       "                        </td>\n",
       "                    </tr>\n",
       "\n",
       "                    \n",
       "\n",
       "                    \n",
       "\n",
       "                </table>\n",
       "            </details>\n",
       "            </div>\n",
       "        </div>\n",
       "        \n",
       "        <div style=\"margin-bottom: 20px;\">\n",
       "            <div style=\"width: 24px; height: 24px; background-color: #DBF5FF; border: 3px solid #4CC9FF; border-radius: 5px; position: absolute;\"> </div>\n",
       "            <div style=\"margin-left: 48px;\">\n",
       "            <details>\n",
       "                <summary>\n",
       "                    <h4 style=\"margin-bottom: 0px; display: inline;\">Worker: 3</h4>\n",
       "                </summary>\n",
       "                <table style=\"width: 100%; text-align: left;\">\n",
       "                    <tr>\n",
       "                        <td style=\"text-align: left;\">\n",
       "                            <strong>Comm: </strong> tcp://127.0.0.1:56189\n",
       "                        </td>\n",
       "                        <td style=\"text-align: left;\">\n",
       "                            <strong>Total threads: </strong> 1\n",
       "                        </td>\n",
       "                    </tr>\n",
       "                    <tr>\n",
       "                        <td style=\"text-align: left;\">\n",
       "                            <strong>Dashboard: </strong> <a href=\"http://127.0.0.1:56191/status\" target=\"_blank\">http://127.0.0.1:56191/status</a>\n",
       "                        </td>\n",
       "                        <td style=\"text-align: left;\">\n",
       "                            <strong>Memory: </strong> 2.00 GiB\n",
       "                        </td>\n",
       "                    </tr>\n",
       "                    <tr>\n",
       "                        <td style=\"text-align: left;\">\n",
       "                            <strong>Nanny: </strong> tcp://127.0.0.1:56059\n",
       "                        </td>\n",
       "                        <td style=\"text-align: left;\"></td>\n",
       "                    </tr>\n",
       "                    <tr>\n",
       "                        <td colspan=\"2\" style=\"text-align: left;\">\n",
       "                            <strong>Local directory: </strong> C:\\Users\\jacob\\AppData\\Local\\Temp\\dask-worker-space\\worker-9tybp6e1\n",
       "                        </td>\n",
       "                    </tr>\n",
       "\n",
       "                    \n",
       "\n",
       "                    \n",
       "\n",
       "                </table>\n",
       "            </details>\n",
       "            </div>\n",
       "        </div>\n",
       "        \n",
       "        <div style=\"margin-bottom: 20px;\">\n",
       "            <div style=\"width: 24px; height: 24px; background-color: #DBF5FF; border: 3px solid #4CC9FF; border-radius: 5px; position: absolute;\"> </div>\n",
       "            <div style=\"margin-left: 48px;\">\n",
       "            <details>\n",
       "                <summary>\n",
       "                    <h4 style=\"margin-bottom: 0px; display: inline;\">Worker: 4</h4>\n",
       "                </summary>\n",
       "                <table style=\"width: 100%; text-align: left;\">\n",
       "                    <tr>\n",
       "                        <td style=\"text-align: left;\">\n",
       "                            <strong>Comm: </strong> tcp://127.0.0.1:56197\n",
       "                        </td>\n",
       "                        <td style=\"text-align: left;\">\n",
       "                            <strong>Total threads: </strong> 1\n",
       "                        </td>\n",
       "                    </tr>\n",
       "                    <tr>\n",
       "                        <td style=\"text-align: left;\">\n",
       "                            <strong>Dashboard: </strong> <a href=\"http://127.0.0.1:56198/status\" target=\"_blank\">http://127.0.0.1:56198/status</a>\n",
       "                        </td>\n",
       "                        <td style=\"text-align: left;\">\n",
       "                            <strong>Memory: </strong> 2.00 GiB\n",
       "                        </td>\n",
       "                    </tr>\n",
       "                    <tr>\n",
       "                        <td style=\"text-align: left;\">\n",
       "                            <strong>Nanny: </strong> tcp://127.0.0.1:56056\n",
       "                        </td>\n",
       "                        <td style=\"text-align: left;\"></td>\n",
       "                    </tr>\n",
       "                    <tr>\n",
       "                        <td colspan=\"2\" style=\"text-align: left;\">\n",
       "                            <strong>Local directory: </strong> C:\\Users\\jacob\\AppData\\Local\\Temp\\dask-worker-space\\worker-bk4c38fa\n",
       "                        </td>\n",
       "                    </tr>\n",
       "\n",
       "                    \n",
       "\n",
       "                    \n",
       "\n",
       "                </table>\n",
       "            </details>\n",
       "            </div>\n",
       "        </div>\n",
       "        \n",
       "        <div style=\"margin-bottom: 20px;\">\n",
       "            <div style=\"width: 24px; height: 24px; background-color: #DBF5FF; border: 3px solid #4CC9FF; border-radius: 5px; position: absolute;\"> </div>\n",
       "            <div style=\"margin-left: 48px;\">\n",
       "            <details>\n",
       "                <summary>\n",
       "                    <h4 style=\"margin-bottom: 0px; display: inline;\">Worker: 5</h4>\n",
       "                </summary>\n",
       "                <table style=\"width: 100%; text-align: left;\">\n",
       "                    <tr>\n",
       "                        <td style=\"text-align: left;\">\n",
       "                            <strong>Comm: </strong> tcp://127.0.0.1:56179\n",
       "                        </td>\n",
       "                        <td style=\"text-align: left;\">\n",
       "                            <strong>Total threads: </strong> 1\n",
       "                        </td>\n",
       "                    </tr>\n",
       "                    <tr>\n",
       "                        <td style=\"text-align: left;\">\n",
       "                            <strong>Dashboard: </strong> <a href=\"http://127.0.0.1:56180/status\" target=\"_blank\">http://127.0.0.1:56180/status</a>\n",
       "                        </td>\n",
       "                        <td style=\"text-align: left;\">\n",
       "                            <strong>Memory: </strong> 2.00 GiB\n",
       "                        </td>\n",
       "                    </tr>\n",
       "                    <tr>\n",
       "                        <td style=\"text-align: left;\">\n",
       "                            <strong>Nanny: </strong> tcp://127.0.0.1:56054\n",
       "                        </td>\n",
       "                        <td style=\"text-align: left;\"></td>\n",
       "                    </tr>\n",
       "                    <tr>\n",
       "                        <td colspan=\"2\" style=\"text-align: left;\">\n",
       "                            <strong>Local directory: </strong> C:\\Users\\jacob\\AppData\\Local\\Temp\\dask-worker-space\\worker-1d7_bvs7\n",
       "                        </td>\n",
       "                    </tr>\n",
       "\n",
       "                    \n",
       "\n",
       "                    \n",
       "\n",
       "                </table>\n",
       "            </details>\n",
       "            </div>\n",
       "        </div>\n",
       "        \n",
       "        <div style=\"margin-bottom: 20px;\">\n",
       "            <div style=\"width: 24px; height: 24px; background-color: #DBF5FF; border: 3px solid #4CC9FF; border-radius: 5px; position: absolute;\"> </div>\n",
       "            <div style=\"margin-left: 48px;\">\n",
       "            <details>\n",
       "                <summary>\n",
       "                    <h4 style=\"margin-bottom: 0px; display: inline;\">Worker: 6</h4>\n",
       "                </summary>\n",
       "                <table style=\"width: 100%; text-align: left;\">\n",
       "                    <tr>\n",
       "                        <td style=\"text-align: left;\">\n",
       "                            <strong>Comm: </strong> tcp://127.0.0.1:56159\n",
       "                        </td>\n",
       "                        <td style=\"text-align: left;\">\n",
       "                            <strong>Total threads: </strong> 1\n",
       "                        </td>\n",
       "                    </tr>\n",
       "                    <tr>\n",
       "                        <td style=\"text-align: left;\">\n",
       "                            <strong>Dashboard: </strong> <a href=\"http://127.0.0.1:56165/status\" target=\"_blank\">http://127.0.0.1:56165/status</a>\n",
       "                        </td>\n",
       "                        <td style=\"text-align: left;\">\n",
       "                            <strong>Memory: </strong> 2.00 GiB\n",
       "                        </td>\n",
       "                    </tr>\n",
       "                    <tr>\n",
       "                        <td style=\"text-align: left;\">\n",
       "                            <strong>Nanny: </strong> tcp://127.0.0.1:56053\n",
       "                        </td>\n",
       "                        <td style=\"text-align: left;\"></td>\n",
       "                    </tr>\n",
       "                    <tr>\n",
       "                        <td colspan=\"2\" style=\"text-align: left;\">\n",
       "                            <strong>Local directory: </strong> C:\\Users\\jacob\\AppData\\Local\\Temp\\dask-worker-space\\worker-raasg083\n",
       "                        </td>\n",
       "                    </tr>\n",
       "\n",
       "                    \n",
       "\n",
       "                    \n",
       "\n",
       "                </table>\n",
       "            </details>\n",
       "            </div>\n",
       "        </div>\n",
       "        \n",
       "        <div style=\"margin-bottom: 20px;\">\n",
       "            <div style=\"width: 24px; height: 24px; background-color: #DBF5FF; border: 3px solid #4CC9FF; border-radius: 5px; position: absolute;\"> </div>\n",
       "            <div style=\"margin-left: 48px;\">\n",
       "            <details>\n",
       "                <summary>\n",
       "                    <h4 style=\"margin-bottom: 0px; display: inline;\">Worker: 7</h4>\n",
       "                </summary>\n",
       "                <table style=\"width: 100%; text-align: left;\">\n",
       "                    <tr>\n",
       "                        <td style=\"text-align: left;\">\n",
       "                            <strong>Comm: </strong> tcp://127.0.0.1:56176\n",
       "                        </td>\n",
       "                        <td style=\"text-align: left;\">\n",
       "                            <strong>Total threads: </strong> 1\n",
       "                        </td>\n",
       "                    </tr>\n",
       "                    <tr>\n",
       "                        <td style=\"text-align: left;\">\n",
       "                            <strong>Dashboard: </strong> <a href=\"http://127.0.0.1:56177/status\" target=\"_blank\">http://127.0.0.1:56177/status</a>\n",
       "                        </td>\n",
       "                        <td style=\"text-align: left;\">\n",
       "                            <strong>Memory: </strong> 2.00 GiB\n",
       "                        </td>\n",
       "                    </tr>\n",
       "                    <tr>\n",
       "                        <td style=\"text-align: left;\">\n",
       "                            <strong>Nanny: </strong> tcp://127.0.0.1:56049\n",
       "                        </td>\n",
       "                        <td style=\"text-align: left;\"></td>\n",
       "                    </tr>\n",
       "                    <tr>\n",
       "                        <td colspan=\"2\" style=\"text-align: left;\">\n",
       "                            <strong>Local directory: </strong> C:\\Users\\jacob\\AppData\\Local\\Temp\\dask-worker-space\\worker-it4pyvnx\n",
       "                        </td>\n",
       "                    </tr>\n",
       "\n",
       "                    \n",
       "\n",
       "                    \n",
       "\n",
       "                </table>\n",
       "            </details>\n",
       "            </div>\n",
       "        </div>\n",
       "        \n",
       "        <div style=\"margin-bottom: 20px;\">\n",
       "            <div style=\"width: 24px; height: 24px; background-color: #DBF5FF; border: 3px solid #4CC9FF; border-radius: 5px; position: absolute;\"> </div>\n",
       "            <div style=\"margin-left: 48px;\">\n",
       "            <details>\n",
       "                <summary>\n",
       "                    <h4 style=\"margin-bottom: 0px; display: inline;\">Worker: 8</h4>\n",
       "                </summary>\n",
       "                <table style=\"width: 100%; text-align: left;\">\n",
       "                    <tr>\n",
       "                        <td style=\"text-align: left;\">\n",
       "                            <strong>Comm: </strong> tcp://127.0.0.1:56158\n",
       "                        </td>\n",
       "                        <td style=\"text-align: left;\">\n",
       "                            <strong>Total threads: </strong> 1\n",
       "                        </td>\n",
       "                    </tr>\n",
       "                    <tr>\n",
       "                        <td style=\"text-align: left;\">\n",
       "                            <strong>Dashboard: </strong> <a href=\"http://127.0.0.1:56164/status\" target=\"_blank\">http://127.0.0.1:56164/status</a>\n",
       "                        </td>\n",
       "                        <td style=\"text-align: left;\">\n",
       "                            <strong>Memory: </strong> 2.00 GiB\n",
       "                        </td>\n",
       "                    </tr>\n",
       "                    <tr>\n",
       "                        <td style=\"text-align: left;\">\n",
       "                            <strong>Nanny: </strong> tcp://127.0.0.1:56063\n",
       "                        </td>\n",
       "                        <td style=\"text-align: left;\"></td>\n",
       "                    </tr>\n",
       "                    <tr>\n",
       "                        <td colspan=\"2\" style=\"text-align: left;\">\n",
       "                            <strong>Local directory: </strong> C:\\Users\\jacob\\AppData\\Local\\Temp\\dask-worker-space\\worker-fyej618e\n",
       "                        </td>\n",
       "                    </tr>\n",
       "\n",
       "                    \n",
       "\n",
       "                    \n",
       "\n",
       "                </table>\n",
       "            </details>\n",
       "            </div>\n",
       "        </div>\n",
       "        \n",
       "        <div style=\"margin-bottom: 20px;\">\n",
       "            <div style=\"width: 24px; height: 24px; background-color: #DBF5FF; border: 3px solid #4CC9FF; border-radius: 5px; position: absolute;\"> </div>\n",
       "            <div style=\"margin-left: 48px;\">\n",
       "            <details>\n",
       "                <summary>\n",
       "                    <h4 style=\"margin-bottom: 0px; display: inline;\">Worker: 9</h4>\n",
       "                </summary>\n",
       "                <table style=\"width: 100%; text-align: left;\">\n",
       "                    <tr>\n",
       "                        <td style=\"text-align: left;\">\n",
       "                            <strong>Comm: </strong> tcp://127.0.0.1:56185\n",
       "                        </td>\n",
       "                        <td style=\"text-align: left;\">\n",
       "                            <strong>Total threads: </strong> 1\n",
       "                        </td>\n",
       "                    </tr>\n",
       "                    <tr>\n",
       "                        <td style=\"text-align: left;\">\n",
       "                            <strong>Dashboard: </strong> <a href=\"http://127.0.0.1:56186/status\" target=\"_blank\">http://127.0.0.1:56186/status</a>\n",
       "                        </td>\n",
       "                        <td style=\"text-align: left;\">\n",
       "                            <strong>Memory: </strong> 2.00 GiB\n",
       "                        </td>\n",
       "                    </tr>\n",
       "                    <tr>\n",
       "                        <td style=\"text-align: left;\">\n",
       "                            <strong>Nanny: </strong> tcp://127.0.0.1:56062\n",
       "                        </td>\n",
       "                        <td style=\"text-align: left;\"></td>\n",
       "                    </tr>\n",
       "                    <tr>\n",
       "                        <td colspan=\"2\" style=\"text-align: left;\">\n",
       "                            <strong>Local directory: </strong> C:\\Users\\jacob\\AppData\\Local\\Temp\\dask-worker-space\\worker-dh86zdxl\n",
       "                        </td>\n",
       "                    </tr>\n",
       "\n",
       "                    \n",
       "\n",
       "                    \n",
       "\n",
       "                </table>\n",
       "            </details>\n",
       "            </div>\n",
       "        </div>\n",
       "        \n",
       "        <div style=\"margin-bottom: 20px;\">\n",
       "            <div style=\"width: 24px; height: 24px; background-color: #DBF5FF; border: 3px solid #4CC9FF; border-radius: 5px; position: absolute;\"> </div>\n",
       "            <div style=\"margin-left: 48px;\">\n",
       "            <details>\n",
       "                <summary>\n",
       "                    <h4 style=\"margin-bottom: 0px; display: inline;\">Worker: 10</h4>\n",
       "                </summary>\n",
       "                <table style=\"width: 100%; text-align: left;\">\n",
       "                    <tr>\n",
       "                        <td style=\"text-align: left;\">\n",
       "                            <strong>Comm: </strong> tcp://127.0.0.1:56209\n",
       "                        </td>\n",
       "                        <td style=\"text-align: left;\">\n",
       "                            <strong>Total threads: </strong> 1\n",
       "                        </td>\n",
       "                    </tr>\n",
       "                    <tr>\n",
       "                        <td style=\"text-align: left;\">\n",
       "                            <strong>Dashboard: </strong> <a href=\"http://127.0.0.1:56210/status\" target=\"_blank\">http://127.0.0.1:56210/status</a>\n",
       "                        </td>\n",
       "                        <td style=\"text-align: left;\">\n",
       "                            <strong>Memory: </strong> 2.00 GiB\n",
       "                        </td>\n",
       "                    </tr>\n",
       "                    <tr>\n",
       "                        <td style=\"text-align: left;\">\n",
       "                            <strong>Nanny: </strong> tcp://127.0.0.1:56058\n",
       "                        </td>\n",
       "                        <td style=\"text-align: left;\"></td>\n",
       "                    </tr>\n",
       "                    <tr>\n",
       "                        <td colspan=\"2\" style=\"text-align: left;\">\n",
       "                            <strong>Local directory: </strong> C:\\Users\\jacob\\AppData\\Local\\Temp\\dask-worker-space\\worker-7euf0ycv\n",
       "                        </td>\n",
       "                    </tr>\n",
       "\n",
       "                    \n",
       "\n",
       "                    \n",
       "\n",
       "                </table>\n",
       "            </details>\n",
       "            </div>\n",
       "        </div>\n",
       "        \n",
       "        <div style=\"margin-bottom: 20px;\">\n",
       "            <div style=\"width: 24px; height: 24px; background-color: #DBF5FF; border: 3px solid #4CC9FF; border-radius: 5px; position: absolute;\"> </div>\n",
       "            <div style=\"margin-left: 48px;\">\n",
       "            <details>\n",
       "                <summary>\n",
       "                    <h4 style=\"margin-bottom: 0px; display: inline;\">Worker: 11</h4>\n",
       "                </summary>\n",
       "                <table style=\"width: 100%; text-align: left;\">\n",
       "                    <tr>\n",
       "                        <td style=\"text-align: left;\">\n",
       "                            <strong>Comm: </strong> tcp://127.0.0.1:56212\n",
       "                        </td>\n",
       "                        <td style=\"text-align: left;\">\n",
       "                            <strong>Total threads: </strong> 1\n",
       "                        </td>\n",
       "                    </tr>\n",
       "                    <tr>\n",
       "                        <td style=\"text-align: left;\">\n",
       "                            <strong>Dashboard: </strong> <a href=\"http://127.0.0.1:56215/status\" target=\"_blank\">http://127.0.0.1:56215/status</a>\n",
       "                        </td>\n",
       "                        <td style=\"text-align: left;\">\n",
       "                            <strong>Memory: </strong> 2.00 GiB\n",
       "                        </td>\n",
       "                    </tr>\n",
       "                    <tr>\n",
       "                        <td style=\"text-align: left;\">\n",
       "                            <strong>Nanny: </strong> tcp://127.0.0.1:56057\n",
       "                        </td>\n",
       "                        <td style=\"text-align: left;\"></td>\n",
       "                    </tr>\n",
       "                    <tr>\n",
       "                        <td colspan=\"2\" style=\"text-align: left;\">\n",
       "                            <strong>Local directory: </strong> C:\\Users\\jacob\\AppData\\Local\\Temp\\dask-worker-space\\worker-otmirzl7\n",
       "                        </td>\n",
       "                    </tr>\n",
       "\n",
       "                    \n",
       "\n",
       "                    \n",
       "\n",
       "                </table>\n",
       "            </details>\n",
       "            </div>\n",
       "        </div>\n",
       "        \n",
       "        <div style=\"margin-bottom: 20px;\">\n",
       "            <div style=\"width: 24px; height: 24px; background-color: #DBF5FF; border: 3px solid #4CC9FF; border-radius: 5px; position: absolute;\"> </div>\n",
       "            <div style=\"margin-left: 48px;\">\n",
       "            <details>\n",
       "                <summary>\n",
       "                    <h4 style=\"margin-bottom: 0px; display: inline;\">Worker: 12</h4>\n",
       "                </summary>\n",
       "                <table style=\"width: 100%; text-align: left;\">\n",
       "                    <tr>\n",
       "                        <td style=\"text-align: left;\">\n",
       "                            <strong>Comm: </strong> tcp://127.0.0.1:56213\n",
       "                        </td>\n",
       "                        <td style=\"text-align: left;\">\n",
       "                            <strong>Total threads: </strong> 1\n",
       "                        </td>\n",
       "                    </tr>\n",
       "                    <tr>\n",
       "                        <td style=\"text-align: left;\">\n",
       "                            <strong>Dashboard: </strong> <a href=\"http://127.0.0.1:56214/status\" target=\"_blank\">http://127.0.0.1:56214/status</a>\n",
       "                        </td>\n",
       "                        <td style=\"text-align: left;\">\n",
       "                            <strong>Memory: </strong> 2.00 GiB\n",
       "                        </td>\n",
       "                    </tr>\n",
       "                    <tr>\n",
       "                        <td style=\"text-align: left;\">\n",
       "                            <strong>Nanny: </strong> tcp://127.0.0.1:56055\n",
       "                        </td>\n",
       "                        <td style=\"text-align: left;\"></td>\n",
       "                    </tr>\n",
       "                    <tr>\n",
       "                        <td colspan=\"2\" style=\"text-align: left;\">\n",
       "                            <strong>Local directory: </strong> C:\\Users\\jacob\\AppData\\Local\\Temp\\dask-worker-space\\worker-zs37op4v\n",
       "                        </td>\n",
       "                    </tr>\n",
       "\n",
       "                    \n",
       "\n",
       "                    \n",
       "\n",
       "                </table>\n",
       "            </details>\n",
       "            </div>\n",
       "        </div>\n",
       "        \n",
       "        <div style=\"margin-bottom: 20px;\">\n",
       "            <div style=\"width: 24px; height: 24px; background-color: #DBF5FF; border: 3px solid #4CC9FF; border-radius: 5px; position: absolute;\"> </div>\n",
       "            <div style=\"margin-left: 48px;\">\n",
       "            <details>\n",
       "                <summary>\n",
       "                    <h4 style=\"margin-bottom: 0px; display: inline;\">Worker: 13</h4>\n",
       "                </summary>\n",
       "                <table style=\"width: 100%; text-align: left;\">\n",
       "                    <tr>\n",
       "                        <td style=\"text-align: left;\">\n",
       "                            <strong>Comm: </strong> tcp://127.0.0.1:56200\n",
       "                        </td>\n",
       "                        <td style=\"text-align: left;\">\n",
       "                            <strong>Total threads: </strong> 1\n",
       "                        </td>\n",
       "                    </tr>\n",
       "                    <tr>\n",
       "                        <td style=\"text-align: left;\">\n",
       "                            <strong>Dashboard: </strong> <a href=\"http://127.0.0.1:56201/status\" target=\"_blank\">http://127.0.0.1:56201/status</a>\n",
       "                        </td>\n",
       "                        <td style=\"text-align: left;\">\n",
       "                            <strong>Memory: </strong> 2.00 GiB\n",
       "                        </td>\n",
       "                    </tr>\n",
       "                    <tr>\n",
       "                        <td style=\"text-align: left;\">\n",
       "                            <strong>Nanny: </strong> tcp://127.0.0.1:56052\n",
       "                        </td>\n",
       "                        <td style=\"text-align: left;\"></td>\n",
       "                    </tr>\n",
       "                    <tr>\n",
       "                        <td colspan=\"2\" style=\"text-align: left;\">\n",
       "                            <strong>Local directory: </strong> C:\\Users\\jacob\\AppData\\Local\\Temp\\dask-worker-space\\worker-vps0ibni\n",
       "                        </td>\n",
       "                    </tr>\n",
       "\n",
       "                    \n",
       "\n",
       "                    \n",
       "\n",
       "                </table>\n",
       "            </details>\n",
       "            </div>\n",
       "        </div>\n",
       "        \n",
       "        <div style=\"margin-bottom: 20px;\">\n",
       "            <div style=\"width: 24px; height: 24px; background-color: #DBF5FF; border: 3px solid #4CC9FF; border-radius: 5px; position: absolute;\"> </div>\n",
       "            <div style=\"margin-left: 48px;\">\n",
       "            <details>\n",
       "                <summary>\n",
       "                    <h4 style=\"margin-bottom: 0px; display: inline;\">Worker: 14</h4>\n",
       "                </summary>\n",
       "                <table style=\"width: 100%; text-align: left;\">\n",
       "                    <tr>\n",
       "                        <td style=\"text-align: left;\">\n",
       "                            <strong>Comm: </strong> tcp://127.0.0.1:56194\n",
       "                        </td>\n",
       "                        <td style=\"text-align: left;\">\n",
       "                            <strong>Total threads: </strong> 1\n",
       "                        </td>\n",
       "                    </tr>\n",
       "                    <tr>\n",
       "                        <td style=\"text-align: left;\">\n",
       "                            <strong>Dashboard: </strong> <a href=\"http://127.0.0.1:56195/status\" target=\"_blank\">http://127.0.0.1:56195/status</a>\n",
       "                        </td>\n",
       "                        <td style=\"text-align: left;\">\n",
       "                            <strong>Memory: </strong> 2.00 GiB\n",
       "                        </td>\n",
       "                    </tr>\n",
       "                    <tr>\n",
       "                        <td style=\"text-align: left;\">\n",
       "                            <strong>Nanny: </strong> tcp://127.0.0.1:56051\n",
       "                        </td>\n",
       "                        <td style=\"text-align: left;\"></td>\n",
       "                    </tr>\n",
       "                    <tr>\n",
       "                        <td colspan=\"2\" style=\"text-align: left;\">\n",
       "                            <strong>Local directory: </strong> C:\\Users\\jacob\\AppData\\Local\\Temp\\dask-worker-space\\worker-p5jgcq10\n",
       "                        </td>\n",
       "                    </tr>\n",
       "\n",
       "                    \n",
       "\n",
       "                    \n",
       "\n",
       "                </table>\n",
       "            </details>\n",
       "            </div>\n",
       "        </div>\n",
       "        \n",
       "        <div style=\"margin-bottom: 20px;\">\n",
       "            <div style=\"width: 24px; height: 24px; background-color: #DBF5FF; border: 3px solid #4CC9FF; border-radius: 5px; position: absolute;\"> </div>\n",
       "            <div style=\"margin-left: 48px;\">\n",
       "            <details>\n",
       "                <summary>\n",
       "                    <h4 style=\"margin-bottom: 0px; display: inline;\">Worker: 15</h4>\n",
       "                </summary>\n",
       "                <table style=\"width: 100%; text-align: left;\">\n",
       "                    <tr>\n",
       "                        <td style=\"text-align: left;\">\n",
       "                            <strong>Comm: </strong> tcp://127.0.0.1:56203\n",
       "                        </td>\n",
       "                        <td style=\"text-align: left;\">\n",
       "                            <strong>Total threads: </strong> 1\n",
       "                        </td>\n",
       "                    </tr>\n",
       "                    <tr>\n",
       "                        <td style=\"text-align: left;\">\n",
       "                            <strong>Dashboard: </strong> <a href=\"http://127.0.0.1:56204/status\" target=\"_blank\">http://127.0.0.1:56204/status</a>\n",
       "                        </td>\n",
       "                        <td style=\"text-align: left;\">\n",
       "                            <strong>Memory: </strong> 2.00 GiB\n",
       "                        </td>\n",
       "                    </tr>\n",
       "                    <tr>\n",
       "                        <td style=\"text-align: left;\">\n",
       "                            <strong>Nanny: </strong> tcp://127.0.0.1:56050\n",
       "                        </td>\n",
       "                        <td style=\"text-align: left;\"></td>\n",
       "                    </tr>\n",
       "                    <tr>\n",
       "                        <td colspan=\"2\" style=\"text-align: left;\">\n",
       "                            <strong>Local directory: </strong> C:\\Users\\jacob\\AppData\\Local\\Temp\\dask-worker-space\\worker-6kf9qcif\n",
       "                        </td>\n",
       "                    </tr>\n",
       "\n",
       "                    \n",
       "\n",
       "                    \n",
       "\n",
       "                </table>\n",
       "            </details>\n",
       "            </div>\n",
       "        </div>\n",
       "        \n",
       "\n",
       "    </details>\n",
       "</div>\n",
       "\n",
       "        </details>\n",
       "    </div>\n",
       "</div>\n",
       "            </details>\n",
       "        \n",
       "\n",
       "    </div>\n",
       "</div>"
      ],
      "text/plain": [
       "<Client: 'tcp://127.0.0.1:56046' processes=16 threads=16, memory=31.93 GiB>"
      ]
     },
     "execution_count": 174,
     "metadata": {},
     "output_type": "execute_result"
    }
   ],
   "source": [
    "from dask.distributed import Client\n",
    "\n",
    "client = Client(n_workers=16)\n",
    "client"
   ]
  },
  {
   "cell_type": "markdown",
   "id": "cd8cacd8-4c48-4eea-930c-33f3fe834410",
   "metadata": {},
   "source": [
    "After intializing the client object any abTEM computation will use the Dask distributed scheduler."
   ]
  },
  {
   "cell_type": "code",
   "execution_count": 101,
   "id": "2b0d7e8f-24dd-4ada-9650-874e750a3652",
   "metadata": {},
   "outputs": [
    {
     "data": {
      "text/plain": [
       "<abtem.measurements.Images object at 0x000002DB865FC160>"
      ]
     },
     "execution_count": 101,
     "metadata": {},
     "output_type": "execute_result"
    }
   ],
   "source": [
    "haadf_images = detector.detect(exit_waves_stem).reduce_ensemble()\n",
    "haadf_images.compute()"
   ]
  },
  {
   "cell_type": "markdown",
   "id": "31a20506-7155-45f0-b641-3931bbb20029",
   "metadata": {},
   "source": [
    "A benefit of using the distributed scheduler with abTEM on a single machine is the live diagnostic dashboard."
   ]
  },
  {
   "cell_type": "code",
   "execution_count": null,
   "id": "c5e21a79-cd30-4742-9f0e-8d1de980583e",
   "metadata": {},
   "outputs": [],
   "source": []
  },
  {
   "cell_type": "code",
   "execution_count": 118,
   "id": "e38de7a7-2b82-442e-8258-d9e2717a7b2b",
   "metadata": {},
   "outputs": [],
   "source": [
    "client.close()"
   ]
  },
  {
   "cell_type": "markdown",
   "id": "dffe61f7-43d8-47e6-a00a-3e73e33320ad",
   "metadata": {},
   "source": [
    "### Running abTEM on HPC clusters\n",
    "\n",
    "Dask (and thus abTEM) has robust tools for deployment on high-performance compute clusters. \n",
    "\n",
    "Your HPC provider may be able to advice you on how to best deploy Dask applications on your "
   ]
  },
  {
   "cell_type": "code",
   "execution_count": null,
   "id": "da27730d-95a8-4a1f-873e-12b25f574da8",
   "metadata": {},
   "outputs": [],
   "source": []
  },
  {
   "cell_type": "markdown",
   "id": "e39cb8d2-a898-478d-9831-275ac5f2f06b",
   "metadata": {
    "pycharm": {
     "name": "#%% md\n"
    }
   },
   "source": [
    "## Using GPUs\n",
    "\n",
    "Almost every part of abTEM can be accelerated using a GPU through the [CuPy](https://cupy.dev/) library. We have only tested abTEM on CUDA compatiable GPUs, however, any GPU compatible with CuPy should work.\n",
    "\n",
    "If you have a compatiable GPU and a working installation of CuPy, you can accelerate your image simulations by simply changing the configs at the top of your document as below:"
   ]
  },
  {
   "cell_type": "code",
   "execution_count": 152,
   "id": "4bbe27f1-65b2-48cf-8a96-c0da5c91b094",
   "metadata": {
    "pycharm": {
     "name": "#%%\n"
    }
   },
   "outputs": [],
   "source": [
    "abtem.config.set({\"device\": \"cpu\"});"
   ]
  },
  {
   "cell_type": "code",
   "execution_count": null,
   "id": "d9e53cf1-fabc-4690-9057-a31567c72407",
   "metadata": {},
   "outputs": [],
   "source": []
  },
  {
   "cell_type": "markdown",
   "id": "6f7fef51-64de-41bc-987f-b178f50e2c2f",
   "metadata": {},
   "source": [
    "## Performance tips"
   ]
  },
  {
   "cell_type": "markdown",
   "id": "c6e74de5-5899-455f-9984-956d9e267c12",
   "metadata": {},
   "source": [
    "### Optimize your simulation"
   ]
  },
  {
   "cell_type": "markdown",
   "id": "fb7294da-7dfc-412c-96e3-0c33355f32c8",
   "metadata": {},
   "source": [
    "### Use PRISM"
   ]
  },
  {
   "cell_type": "markdown",
   "id": "84bb4dde-1db4-4c59-818a-59c9e784a99b",
   "metadata": {},
   "source": [
    "### Change the FFT backend"
   ]
  },
  {
   "cell_type": "markdown",
   "id": "c84fb57d-7760-4d02-85db-b4633a6fdaa1",
   "metadata": {},
   "source": [
    "### Change the batch size"
   ]
  },
  {
   "cell_type": "markdown",
   "id": "5de9fa83-05a6-4cf8-a0ab-a21b48d0c0c2",
   "metadata": {},
   "source": [
    "### Use power of 2 `gpts`"
   ]
  },
  {
   "cell_type": "markdown",
   "id": "32b5d8f7-44f9-499d-964c-3efee2f17007",
   "metadata": {},
   "source": [
    "### Running out of memory"
   ]
  }
 ],
 "metadata": {
  "kernelspec": {
   "display_name": "test-test",
   "language": "python",
   "name": "test-test"
  },
  "language_info": {
   "codemirror_mode": {
    "name": "ipython",
    "version": 3
   },
   "file_extension": ".py",
   "mimetype": "text/x-python",
   "name": "python",
   "nbconvert_exporter": "python",
   "pygments_lexer": "ipython3",
   "version": "3.9.13"
  },
  "widgets": {
   "application/vnd.jupyter.widget-state+json": {
    "state": {
     "00cbd85278ef4c5e938f71984ce514aa": {
      "model_module": "jupyter-cytoscape",
      "model_module_version": "^1.3.3",
      "model_name": "EdgeModel",
      "state": {
       "_model_module_version": "^1.3.3",
       "_view_module_version": "^1.3.3",
       "classes": " directed ",
       "data": {
        "id": "52a6521b-fbfa-4887-a42f-54813f4dea81",
        "source": "-4962146886430840416",
        "target": "3168124302332281148"
       },
       "selectable": false
      }
     },
     "01e524d7f83b47478ed280b9cedc2aab": {
      "model_module": "jupyter-cytoscape",
      "model_module_version": "^1.3.3",
      "model_name": "NodeModel",
      "state": {
       "_model_module_version": "^1.3.3",
       "_view_module_version": "^1.3.3",
       "data": {
        "color": "gray",
        "id": "-5535500925816557137",
        "label": "intensity",
        "shape": "ellipse"
       },
       "grabbable": true,
       "grabbed": false,
       "position": {
        "x": 1279.5,
        "y": 875
       },
       "selectable": false
      }
     },
     "025187a7e37d4d6d8b1bb04405d8b951": {
      "model_module": "jupyter-cytoscape",
      "model_module_version": "^1.3.3",
      "model_name": "NodeModel",
      "state": {
       "_model_module_version": "^1.3.3",
       "_view_module_version": "^1.3.3",
       "data": {
        "color": "gray",
        "id": "-4142006978538430438",
        "label": "(1, 0, 0)",
        "shape": "rectangle"
       },
       "grabbable": true,
       "grabbed": false,
       "position": {
        "x": 1279.5,
        "y": 995
       },
       "selectable": false
      }
     },
     "02f516249de645888f37a62f49e93c2f": {
      "model_module": "jupyter-cytoscape",
      "model_module_version": "^1.3.3",
      "model_name": "EdgeModel",
      "state": {
       "_model_module_version": "^1.3.3",
       "_view_module_version": "^1.3.3",
       "classes": " directed ",
       "data": {
        "id": "f1b29d47-3b42-4733-ae85-58d83a2ad25d",
        "source": "-4342013693174255751",
        "target": "6948655148847684088"
       },
       "selectable": false
      }
     },
     "03544f883ac34df48568f277726c9b47": {
      "model_module": "jupyter-cytoscape",
      "model_module_version": "^1.3.3",
      "model_name": "NodeModel",
      "state": {
       "_model_module_version": "^1.3.3",
       "_view_module_version": "^1.3.3",
       "data": {
        "color": "gray",
        "id": "7532417986883261574",
        "label": "frozen_phonon",
        "shape": "ellipse"
       },
       "grabbable": true,
       "grabbed": false,
       "position": {
        "x": 545.5,
        "y": 875
       },
       "selectable": false
      }
     },
     "03e18e2386fc4399911f4bc9cfa114eb": {
      "model_module": "jupyter-cytoscape",
      "model_module_version": "^1.3.3",
      "model_name": "NodeModel",
      "state": {
       "_model_module_version": "^1.3.3",
       "_view_module_version": "^1.3.3",
       "data": {
        "color": "gray",
        "id": "787394039387308669",
        "label": "frozen_phonon",
        "shape": "ellipse"
       },
       "grabbable": true,
       "grabbed": false,
       "position": {
        "x": 178.5,
        "y": 875
       },
       "selectable": false
      }
     },
     "048deb2c6dd246e691dba7b68da18808": {
      "model_module": "jupyter-cytoscape",
      "model_module_version": "^1.3.3",
      "model_name": "NodeModel",
      "state": {
       "_model_module_version": "^1.3.3",
       "_view_module_version": "^1.3.3",
       "data": {
        "color": "gray",
        "id": "-3892315209147341062",
        "label": "1",
        "shape": "rectangle"
       },
       "grabbable": true,
       "grabbed": false,
       "position": {
        "x": 545.5,
        "y": 275
       },
       "selectable": false
      }
     },
     "06d6d32351be4c10a817886629b03893": {
      "model_module": "jupyter-cytoscape",
      "model_module_version": "^1.3.3",
      "model_name": "NodeModel",
      "state": {
       "_model_module_version": "^1.3.3",
       "_view_module_version": "^1.3.3",
       "data": {
        "color": "gray",
        "id": "686702745058534688",
        "label": "(2, 0, 0)",
        "shape": "rectangle"
       },
       "grabbable": true,
       "grabbed": false,
       "position": {
        "x": 912.5,
        "y": 35
       },
       "selectable": false
      }
     },
     "07ed28bdf3ff42d38f4b72e709ac8823": {
      "model_module": "jupyter-cytoscape",
      "model_module_version": "^1.3.3",
      "model_name": "NodeModel",
      "state": {
       "_model_module_version": "^1.3.3",
       "_view_module_version": "^1.3.3",
       "data": {
        "color": "gray",
        "id": "1312704351904593476",
        "label": "(3, 0, 0)",
        "shape": "rectangle"
       },
       "grabbable": true,
       "grabbed": false,
       "position": {
        "x": 178.5,
        "y": 755
       },
       "selectable": false
      }
     },
     "07fb323039a54263ade4ebe8a95919c6": {
      "model_module": "jupyter-cytoscape",
      "model_module_version": "^1.3.3",
      "model_name": "NodeModel",
      "state": {
       "_model_module_version": "^1.3.3",
       "_view_module_version": "^1.3.3",
       "data": {
        "color": "gray",
        "id": "-3097751337877783523",
        "label": "frozen_phonon",
        "shape": "ellipse"
       },
       "grabbable": true,
       "grabbed": false,
       "position": {
        "x": 545.5,
        "y": 875
       },
       "selectable": false
      }
     },
     "0803cc2201704469a59892223f65952d": {
      "model_module": "jupyter-cytoscape",
      "model_module_version": "^1.3.3",
      "model_name": "EdgeModel",
      "state": {
       "_model_module_version": "^1.3.3",
       "_view_module_version": "^1.3.3",
       "classes": " directed ",
       "data": {
        "id": "783d5273-1230-497a-87c6-be49076d2383",
        "source": "253292684875542408",
        "target": "9057938521965314385"
       },
       "selectable": false
      }
     },
     "08d06ae2e245449fa71fc676c43a9050": {
      "model_module": "jupyter-cytoscape",
      "model_module_version": "^1.3.3",
      "model_name": "NodeModel",
      "state": {
       "_model_module_version": "^1.3.3",
       "_view_module_version": "^1.3.3",
       "data": {
        "color": "gray",
        "id": "-3043227251927298058",
        "label": "extract_measurement",
        "shape": "ellipse"
       },
       "grabbable": true,
       "grabbed": false,
       "position": {
        "x": 1279.5,
        "y": 1115
       },
       "selectable": false
      }
     },
     "0954d2f7d6b54d7e8d736a41335d3a21": {
      "model_module": "jupyter-cytoscape",
      "model_module_version": "^1.3.3",
      "model_name": "NodeModel",
      "state": {
       "_model_module_version": "^1.3.3",
       "_view_module_version": "^1.3.3",
       "data": {
        "color": "gray",
        "id": "8953477370678605388",
        "label": "",
        "shape": "rectangle"
       },
       "grabbable": true,
       "grabbed": false,
       "position": {
        "x": 912.5,
        "y": 755
       },
       "selectable": false
      }
     },
     "09791cd8e44244e9bfc6a1ba3150253f": {
      "model_module": "jupyter-cytoscape",
      "model_module_version": "^1.3.3",
      "model_name": "NodeModel",
      "state": {
       "_model_module_version": "^1.3.3",
       "_view_module_version": "^1.3.3",
       "data": {
        "color": "gray",
        "id": "6595320706530427294",
        "label": "(3, 0, 0)",
        "shape": "rectangle"
       },
       "grabbable": true,
       "grabbed": false,
       "position": {
        "x": 545.5,
        "y": 515
       },
       "selectable": false
      }
     },
     "098eb25ff5cf45db8303971308e05961": {
      "model_module": "jupyter-cytoscape",
      "model_module_version": "^1.3.3",
      "model_name": "NodeModel",
      "state": {
       "_model_module_version": "^1.3.3",
       "_view_module_version": "^1.3.3",
       "data": {
        "color": "gray",
        "id": "-4090489861449496843",
        "label": "",
        "shape": "rectangle"
       },
       "grabbable": true,
       "grabbed": false,
       "position": {
        "x": 1279.5,
        "y": 755
       },
       "selectable": false
      }
     },
     "0a8fe0bae28e48cd922e7e247b4e60d4": {
      "model_module": "jupyter-cytoscape",
      "model_module_version": "^1.3.3",
      "model_name": "NodeModel",
      "state": {
       "_model_module_version": "^1.3.3",
       "_view_module_version": "^1.3.3",
       "data": {
        "color": "gray",
        "id": "8269737304138431676",
        "label": "0",
        "shape": "rectangle"
       },
       "grabbable": true,
       "grabbed": false,
       "position": {
        "x": 178.5,
        "y": 515
       },
       "selectable": false
      }
     },
     "0bf213165a784c2597f713bd8e61333e": {
      "model_module": "jupyter-cytoscape",
      "model_module_version": "^1.3.3",
      "model_name": "EdgeModel",
      "state": {
       "_model_module_version": "^1.3.3",
       "_view_module_version": "^1.3.3",
       "classes": " directed ",
       "data": {
        "id": "10f88bcc-b25b-4b88-a5c9-b5f5bdc947e1",
        "source": "9030963398314763956",
        "target": "5539345259643756036"
       },
       "selectable": false
      }
     },
     "0c7e56af63a34143a99646f360086156": {
      "model_module": "jupyter-cytoscape",
      "model_module_version": "^1.3.3",
      "model_name": "EdgeModel",
      "state": {
       "_model_module_version": "^1.3.3",
       "_view_module_version": "^1.3.3",
       "classes": " directed ",
       "data": {
        "id": "b9512125-06a6-439c-af2a-564d15b9f91a",
        "source": "1906787091227986607",
        "target": "-3892315209147341062"
       },
       "selectable": false
      }
     },
     "0cdc61242d354f25b90449224704e7d4": {
      "model_module": "jupyter-cytoscape",
      "model_module_version": "^1.3.3",
      "model_name": "NodeModel",
      "state": {
       "_model_module_version": "^1.3.3",
       "_view_module_version": "^1.3.3",
       "data": {
        "color": "gray",
        "id": "7373467053080033819",
        "label": "(1, 0, 0)",
        "shape": "rectangle"
       },
       "grabbable": true,
       "grabbed": false,
       "position": {
        "x": 912.5,
        "y": 995
       },
       "selectable": false
      }
     },
     "0e39fe295cb0463c9d13450a2a59cb6e": {
      "model_module": "jupyter-cytoscape",
      "model_module_version": "^1.3.3",
      "model_name": "EdgeModel",
      "state": {
       "_model_module_version": "^1.3.3",
       "_view_module_version": "^1.3.3",
       "classes": " directed ",
       "data": {
        "id": "c78eb0e4-c8ca-453a-bae9-0b7d25171baf",
        "source": "70335400962040206",
        "target": "5770902011539803397"
       },
       "selectable": false
      }
     },
     "0f31b213c514430088f3405a0f2cfba3": {
      "model_module": "jupyter-cytoscape",
      "model_module_version": "^1.3.3",
      "model_name": "EdgeModel",
      "state": {
       "_model_module_version": "^1.3.3",
       "_view_module_version": "^1.3.3",
       "classes": " directed ",
       "data": {
        "id": "5004f3df-c294-4da2-b701-ea119879267f",
        "source": "-8230908346643762321",
        "target": "-514865300278878683"
       },
       "selectable": false
      }
     },
     "0f58d9dc346449d6957a7c484cd42965": {
      "model_module": "jupyter-cytoscape",
      "model_module_version": "^1.3.3",
      "model_name": "NodeModel",
      "state": {
       "_model_module_version": "^1.3.3",
       "_view_module_version": "^1.3.3",
       "data": {
        "color": "gray",
        "id": "8431394563296481231",
        "label": "0",
        "shape": "rectangle"
       },
       "grabbable": true,
       "grabbed": false,
       "position": {
        "x": 545.5,
        "y": 1595
       },
       "selectable": false
      }
     },
     "0fa302c110ca4742a96a18bbf22b84fa": {
      "model_module": "jupyter-cytoscape",
      "model_module_version": "^1.3.3",
      "model_name": "NodeModel",
      "state": {
       "_model_module_version": "^1.3.3",
       "_view_module_version": "^1.3.3",
       "data": {
        "color": "gray",
        "id": "-2277748482018039003",
        "label": "3",
        "shape": "rectangle"
       },
       "grabbable": true,
       "grabbed": false,
       "position": {
        "x": 1279.5,
        "y": 275
       },
       "selectable": false
      }
     },
     "12aa915732894a0093b884f531c40b97": {
      "model_module": "jupyter-cytoscape",
      "model_module_version": "^1.3.3",
      "model_name": "NodeModel",
      "state": {
       "_model_module_version": "^1.3.3",
       "_view_module_version": "^1.3.3",
       "data": {
        "color": "gray",
        "id": "-5395309586157896604",
        "label": "extract_measurement",
        "shape": "ellipse"
       },
       "grabbable": true,
       "grabbed": false,
       "position": {
        "x": 178.5,
        "y": 1115
       },
       "selectable": false
      }
     },
     "12ea453d206c40bca31979f589970eff": {
      "model_module": "jupyter-cytoscape",
      "model_module_version": "^1.3.3",
      "model_name": "EdgeModel",
      "state": {
       "_model_module_version": "^1.3.3",
       "_view_module_version": "^1.3.3",
       "classes": " directed ",
       "data": {
        "id": "34894401-ae40-488f-9c21-975042a239eb",
        "source": "-6173424750265132399",
        "target": "5698788095317300557"
       },
       "selectable": false
      }
     },
     "12f71e48b3cd440f924ed9d72df4b03f": {
      "model_module": "jupyter-cytoscape",
      "model_module_version": "^1.3.3",
      "model_name": "NodeModel",
      "state": {
       "_model_module_version": "^1.3.3",
       "_view_module_version": "^1.3.3",
       "data": {
        "color": "gray",
        "id": "253292684875542408",
        "label": "0",
        "shape": "rectangle"
       },
       "grabbable": true,
       "grabbed": false,
       "position": {
        "x": 545.5,
        "y": 635
       },
       "selectable": false
      }
     },
     "155e0d1c7c8342d99d654b5fa10e7d38": {
      "model_module": "jupyter-cytoscape",
      "model_module_version": "^1.3.3",
      "model_name": "EdgeModel",
      "state": {
       "_model_module_version": "^1.3.3",
       "_view_module_version": "^1.3.3",
       "classes": " directed ",
       "data": {
        "id": "0795a5e0-526c-4c91-882a-f97dfb389780",
        "source": "-2277748482018039003",
        "target": "-5395309586157896604"
       },
       "selectable": false
      }
     },
     "1638bfd45e814e65ac84ecfe42af928f": {
      "model_module": "jupyter-cytoscape",
      "model_module_version": "^1.3.3",
      "model_name": "NodeModel",
      "state": {
       "_model_module_version": "^1.3.3",
       "_view_module_version": "^1.3.3",
       "data": {
        "color": "gray",
        "id": "-2439695987622272384",
        "label": "",
        "shape": "rectangle"
       },
       "grabbable": true,
       "grabbed": false,
       "position": {
        "x": 1279.5,
        "y": 755
       },
       "selectable": false
      }
     },
     "16d8142b0590403ba85ea3efa6a7a24f": {
      "model_module": "jupyter-cytoscape",
      "model_module_version": "^1.3.3",
      "model_name": "EdgeModel",
      "state": {
       "_model_module_version": "^1.3.3",
       "_view_module_version": "^1.3.3",
       "classes": " directed ",
       "data": {
        "id": "2e6b9729-0aaa-429c-bd28-39b912c5a07d",
        "source": "-8421002602608952360",
        "target": "-7753198747128251171"
       },
       "selectable": false
      }
     },
     "1749cd05788d4715987eaa987a0e71b6": {
      "model_module": "jupyter-cytoscape",
      "model_module_version": "^1.3.3",
      "model_name": "NodeModel",
      "state": {
       "_model_module_version": "^1.3.3",
       "_view_module_version": "^1.3.3",
       "data": {
        "color": "gray",
        "id": "8652804302909057216",
        "label": "(0, 0, 0)",
        "shape": "rectangle"
       },
       "grabbable": true,
       "grabbed": false,
       "position": {
        "x": 912.5,
        "y": 515
       },
       "selectable": false
      }
     },
     "1750daa4efaf4aa19b8410b3be9aaf11": {
      "model_module": "jupyter-cytoscape",
      "model_module_version": "^1.3.3",
      "model_name": "NodeModel",
      "state": {
       "_model_module_version": "^1.3.3",
       "_view_module_version": "^1.3.3",
       "data": {
        "color": "gray",
        "id": "8581599887862942070",
        "label": "(0, 0)",
        "shape": "rectangle"
       },
       "grabbable": true,
       "grabbed": false,
       "position": {
        "x": 729,
        "y": 35
       },
       "selectable": false
      }
     },
     "177c6d3cd1a040f2bb3491b591f7275c": {
      "model_module": "jupyter-cytoscape",
      "model_module_version": "^1.3.3",
      "model_name": "NodeModel",
      "state": {
       "_model_module_version": "^1.3.3",
       "_view_module_version": "^1.3.3",
       "data": {
        "color": "gray",
        "id": "7134471828715810157",
        "label": "mean_agg-aggregate",
        "shape": "ellipse"
       },
       "grabbable": true,
       "grabbed": false,
       "position": {
        "x": 729,
        "y": 155
       },
       "selectable": false
      }
     },
     "18703661dc87475d83f0b3628bb2e5da": {
      "model_module": "jupyter-cytoscape",
      "model_module_version": "^1.3.3",
      "model_name": "NodeModel",
      "state": {
       "_model_module_version": "^1.3.3",
       "_view_module_version": "^1.3.3",
       "data": {
        "color": "gray",
        "id": "-5176461502955895052",
        "label": "build_waves_multislice_detect",
        "shape": "ellipse"
       },
       "grabbable": true,
       "grabbed": false,
       "position": {
        "x": 178.5,
        "y": 1355
       },
       "selectable": false
      }
     },
     "1872dbade21e4f068f73b902ef76e4a3": {
      "model_module": "jupyter-cytoscape",
      "model_module_version": "^1.3.3",
      "model_name": "NodeModel",
      "state": {
       "_model_module_version": "^1.3.3",
       "_view_module_version": "^1.3.3",
       "data": {
        "color": "gray",
        "id": "9057938521965314385",
        "label": "1",
        "shape": "rectangle"
       },
       "grabbable": true,
       "grabbed": false,
       "position": {
        "x": 545.5,
        "y": 515
       },
       "selectable": false
      }
     },
     "18d6445926224e5eb188d7b5f17437fe": {
      "model_module": "jupyter-cytoscape",
      "model_module_version": "^1.3.3",
      "model_name": "EdgeModel",
      "state": {
       "_model_module_version": "^1.3.3",
       "_view_module_version": "^1.3.3",
       "classes": " directed ",
       "data": {
        "id": "de3697e6-c6b6-4fff-8ced-b7f0c0ced55c",
        "source": "6674197173341760747",
        "target": "-2277748482018039003"
       },
       "selectable": false
      }
     },
     "18e0276b05fc4c2e90bfc6d092432d35": {
      "model_module": "jupyter-cytoscape",
      "model_module_version": "^1.3.3",
      "model_name": "NodeModel",
      "state": {
       "_model_module_version": "^1.3.3",
       "_view_module_version": "^1.3.3",
       "data": {
        "color": "gray",
        "id": "-8785389238120037428",
        "label": "2",
        "shape": "rectangle"
       },
       "grabbable": true,
       "grabbed": false,
       "position": {
        "x": 545.5,
        "y": 1235
       },
       "selectable": false
      }
     },
     "191d960b87c34cfcb28b5d27b137e03e": {
      "model_module": "jupyter-cytoscape",
      "model_module_version": "^1.3.3",
      "model_name": "NodeModel",
      "state": {
       "_model_module_version": "^1.3.3",
       "_view_module_version": "^1.3.3",
       "data": {
        "color": "gray",
        "id": "-4292855168737310091",
        "label": "extract_measurement",
        "shape": "ellipse"
       },
       "grabbable": true,
       "grabbed": false,
       "position": {
        "x": 178.5,
        "y": 155
       },
       "selectable": false
      }
     },
     "19684acad0fa401689c7ea89c6f78f23": {
      "model_module": "jupyter-cytoscape",
      "model_module_version": "^1.3.3",
      "model_name": "EdgeModel",
      "state": {
       "_model_module_version": "^1.3.3",
       "_view_module_version": "^1.3.3",
       "classes": " directed ",
       "data": {
        "id": "724e312c-b1f2-4dff-8203-043ce8646e43",
        "source": "530260545696305583",
        "target": "-8421002602608952360"
       },
       "selectable": false
      }
     },
     "1a4d20e388bb42b194334f637fd1eb69": {
      "model_module": "jupyter-cytoscape",
      "model_module_version": "^1.3.3",
      "model_name": "NodeModel",
      "state": {
       "_model_module_version": "^1.3.3",
       "_view_module_version": "^1.3.3",
       "data": {
        "color": "gray",
        "id": "-3911083649879929357",
        "label": "(3, 0, 0)",
        "shape": "rectangle"
       },
       "grabbable": true,
       "grabbed": false,
       "position": {
        "x": 178.5,
        "y": 995
       },
       "selectable": false
      }
     },
     "1aefb11f791f4b3482fa81f2262027c9": {
      "model_module": "jupyter-cytoscape",
      "model_module_version": "^1.3.3",
      "model_name": "NodeModel",
      "state": {
       "_model_module_version": "^1.3.3",
       "_view_module_version": "^1.3.3",
       "data": {
        "color": "gray",
        "id": "-1007997382385836856",
        "label": "0",
        "shape": "rectangle"
       },
       "grabbable": true,
       "grabbed": false,
       "position": {
        "x": 545.5,
        "y": 1595
       },
       "selectable": false
      }
     },
     "1b41d40dffc34b4386e0729c875b5ae4": {
      "model_module": "jupyter-cytoscape",
      "model_module_version": "^1.3.3",
      "model_name": "NodeModel",
      "state": {
       "_model_module_version": "^1.3.3",
       "_view_module_version": "^1.3.3",
       "data": {
        "color": "gray",
        "id": "-7842351034382978714",
        "label": "(3, 0, 0)",
        "shape": "rectangle"
       },
       "grabbable": true,
       "grabbed": false,
       "position": {
        "x": 178.5,
        "y": 515
       },
       "selectable": false
      }
     },
     "1c9d61e21a104347b70178ee608fa17c": {
      "model_module": "jupyter-cytoscape",
      "model_module_version": "^1.3.3",
      "model_name": "NodeModel",
      "state": {
       "_model_module_version": "^1.3.3",
       "_view_module_version": "^1.3.3",
       "data": {
        "color": "gray",
        "id": "466287461015598868",
        "label": "",
        "shape": "rectangle"
       },
       "grabbable": true,
       "grabbed": false,
       "position": {
        "x": 545.5,
        "y": 1955
       },
       "selectable": false
      }
     },
     "1cc00ba88f754ca99561cb28885b4302": {
      "model_module": "jupyter-cytoscape",
      "model_module_version": "^1.3.3",
      "model_name": "GraphModel",
      "state": {
       "_adj": {},
       "_model_module_version": "^1.3.3",
       "_view_module": "jupyter-cytoscape",
       "_view_module_version": "^1.3.3"
      }
     },
     "1cfbf314b12549c38b2ab1c00a853466": {
      "model_module": "jupyter-cytoscape",
      "model_module_version": "^1.3.3",
      "model_name": "EdgeModel",
      "state": {
       "_model_module_version": "^1.3.3",
       "_view_module_version": "^1.3.3",
       "classes": " directed ",
       "data": {
        "id": "80460018-c672-45f0-a7a0-3e70f204d2ec",
        "source": "646271230671059670",
        "target": "7414452363642142957"
       },
       "selectable": false
      }
     },
     "1d16905ddf7c49c6a57e0b7b6bdb11f4": {
      "model_module": "jupyter-cytoscape",
      "model_module_version": "^1.3.3",
      "model_name": "EdgeModel",
      "state": {
       "_model_module_version": "^1.3.3",
       "_view_module_version": "^1.3.3",
       "classes": " directed ",
       "data": {
        "id": "c7bde823-c312-4abd-8fb0-06dcbd1c1516",
        "source": "8953477370678605388",
        "target": "8431394563296481231"
       },
       "selectable": false
      }
     },
     "1dbff2c8df2244f29d84cb3f0e03fed4": {
      "model_module": "jupyter-cytoscape",
      "model_module_version": "^1.3.3",
      "model_name": "GraphModel",
      "state": {
       "_adj": {
        "-1496729250363816769": {},
        "-1654381588457468551": {},
        "-1816069622903235476": {},
        "-2277748482018039003": {},
        "-3046620200366549385": {},
        "-3892315209147341062": {},
        "-3911083649879929357": {},
        "-4090489861449496843": {},
        "-4292855168737310091": {},
        "-4342013693174255751": {},
        "-4960701632151528268": {},
        "-4962146886430840416": {},
        "-539004418580173323": {},
        "-5395309586157896604": {},
        "-5492743395239258520": {},
        "-6001598582264971359": {},
        "-7753198747128251171": {},
        "-7774238824614935172": {},
        "-8421002602608952360": {},
        "-8785389238120037428": {},
        "1430441280190961857": {},
        "1906787091227986607": {},
        "253292684875542408": {},
        "3168124302332281148": {},
        "3468729262034688261": {},
        "4164864492992618019": {},
        "530260545696305583": {},
        "6674197173341760747": {},
        "6894621352095718232": {},
        "6948655148847684088": {},
        "7373467053080033819": {},
        "7478324078490333789": {},
        "7532417986883261574": {},
        "8431394563296481231": {},
        "8953477370678605388": {},
        "9057938521965314385": {}
       },
       "_model_module_version": "^1.3.3",
       "_view_module": "jupyter-cytoscape",
       "_view_module_version": "^1.3.3",
       "edges": [
        "IPY_MODEL_02f516249de645888f37a62f49e93c2f",
        "IPY_MODEL_e0a361a3b3d344758d77e32a1f505480",
        "IPY_MODEL_f2eb504bbbdf41a2afbd618cf0afe07a",
        "IPY_MODEL_fcecebf69fbe499ea0f13a229dbba0d7",
        "IPY_MODEL_16d8142b0590403ba85ea3efa6a7a24f",
        "IPY_MODEL_70e4c4caf05c4433a929a9e8d9d9b3fa",
        "IPY_MODEL_6d9adcfae3b3411eb2a7b4aff4f3ffb8",
        "IPY_MODEL_93d6dd0250e14b74b859f8000ad4dc6f",
        "IPY_MODEL_211e50cf55e649888186ee852cd44c32",
        "IPY_MODEL_f9eb82ee28554e05ac576069b7134074",
        "IPY_MODEL_f97282e634334d5284582646d040e863",
        "IPY_MODEL_8d3dd97c6bd94007a06065f15dd00eef",
        "IPY_MODEL_1d16905ddf7c49c6a57e0b7b6bdb11f4",
        "IPY_MODEL_ebe412d5dc9549839cb69ff405c2a83d",
        "IPY_MODEL_4e09a44fe08c4b4698af3b9500eff1b1",
        "IPY_MODEL_6f946d1d078449368f7c40fedf47d662",
        "IPY_MODEL_220ca580d6ae44d5a5d9a2318cb49b5c",
        "IPY_MODEL_743a509d7c1f4f83991409572fd4c083",
        "IPY_MODEL_bebaee6f4ff34776babe8db0f1e1218b",
        "IPY_MODEL_8e5a924817ea43ef84e319146739ccea",
        "IPY_MODEL_3abac37b4cee4c98bc8062341fe37eed",
        "IPY_MODEL_cb7b64db397e45e6b93f7d0e43c0cd43",
        "IPY_MODEL_18d6445926224e5eb188d7b5f17437fe",
        "IPY_MODEL_d44fe064323e4935991777d51cc0f9ec",
        "IPY_MODEL_b2c5bc6138fe4d5d95a6ebf63c43b917",
        "IPY_MODEL_685243ed4a2e4a25ab53af12d347d5d1",
        "IPY_MODEL_f2d743271acc461d9b9e096551ac4c50",
        "IPY_MODEL_5ff0831e1c0b46949a05883a2fd8f5f0",
        "IPY_MODEL_36f23cb824b943c0a2e4996754146a33",
        "IPY_MODEL_ec422fd660c64e6c821a41c3a72815ba",
        "IPY_MODEL_929c35f6871343fcaa6663dad693de93",
        "IPY_MODEL_70896a6022c04c32b67e9f9dc5a9bdc8"
       ],
       "nodes": [
        "IPY_MODEL_51860019445f409d992686ea9c7e1de0",
        "IPY_MODEL_1872dbade21e4f068f73b902ef76e4a3",
        "IPY_MODEL_65b8e3a0258d4ccf8245c4e85d37e43e",
        "IPY_MODEL_9c22219b66fd4e11911c11466e297429",
        "IPY_MODEL_9b133d2f633d4951b71521c7b437d594",
        "IPY_MODEL_458a35159c6b4441bb67a6ceb85fc274",
        "IPY_MODEL_fada07a99c1148828e50310f2712c7ec",
        "IPY_MODEL_8fcd589a766043cb994ca283d9847386",
        "IPY_MODEL_d4b40dcb9f9d4202968c133ed9f890cb",
        "IPY_MODEL_03544f883ac34df48568f277726c9b47",
        "IPY_MODEL_56a43fee4c1949f29caddb628cc537f0",
        "IPY_MODEL_12f71e48b3cd440f924ed9d72df4b03f",
        "IPY_MODEL_c3a1f1a47883432baf6d801d0e421bff",
        "IPY_MODEL_e4f7236be47a44bd9ba5ed767ff86e58",
        "IPY_MODEL_0954d2f7d6b54d7e8d736a41335d3a21",
        "IPY_MODEL_f49bd3e417534b6c9f4c4831e6995fc8",
        "IPY_MODEL_cf309ae383e94fecb6ab4117a1b1211e",
        "IPY_MODEL_6664817b47e34835b807ce07423de7d5",
        "IPY_MODEL_098eb25ff5cf45db8303971308e05961",
        "IPY_MODEL_cdf755f30e3b48f18e3065263c4837ca",
        "IPY_MODEL_e4452cae777b4899a9db0a11013d9f55",
        "IPY_MODEL_32102f15f08c4d6eb4b4abafcf6071a9",
        "IPY_MODEL_d4e3ae2432bf487dbb4606da107d911a",
        "IPY_MODEL_048deb2c6dd246e691dba7b68da18808",
        "IPY_MODEL_b8e6d496fb29452fbabc849e80f49a3a",
        "IPY_MODEL_cc88e18930fa4bc1b2b58d86c2f10c0d",
        "IPY_MODEL_c1fb2b7c44954365ae436806a7e02ad3",
        "IPY_MODEL_0fa302c110ca4742a96a18bbf22b84fa",
        "IPY_MODEL_191d960b87c34cfcb28b5d27b137e03e",
        "IPY_MODEL_1eaf9d1a3599406bb301708042e89c4d",
        "IPY_MODEL_59051de9e54747fb874288bc4333bb96",
        "IPY_MODEL_d1cbd9267ee74c89a4cae32c6f58e74f",
        "IPY_MODEL_abe745c9d3c64f14b09b99c0cf6fe68c",
        "IPY_MODEL_688dcd574eb6484d932e1e3b54a8794b",
        "IPY_MODEL_45344a438a2f48a3ba9ad7f3067e5b9c",
        "IPY_MODEL_216a192390af43f6be73700179920b44"
       ]
      }
     },
     "1e6adaf39b3047ac8b533f9f2d78f0bf": {
      "model_module": "@jupyter-widgets/base",
      "model_module_version": "2.0.0",
      "model_name": "LayoutModel",
      "state": {
       "height": "400px"
      }
     },
     "1eaf9d1a3599406bb301708042e89c4d": {
      "model_module": "jupyter-cytoscape",
      "model_module_version": "^1.3.3",
      "model_name": "NodeModel",
      "state": {
       "_model_module_version": "^1.3.3",
       "_view_module_version": "^1.3.3",
       "data": {
        "color": "gray",
        "id": "6894621352095718232",
        "label": "(0, 0, 0)",
        "shape": "rectangle"
       },
       "grabbable": true,
       "grabbed": false,
       "position": {
        "x": 178.5,
        "y": 35
       },
       "selectable": false
      }
     },
     "1fa3929226164dce9202ad4c6153fd97": {
      "model_module": "jupyter-cytoscape",
      "model_module_version": "^1.3.3",
      "model_name": "NodeModel",
      "state": {
       "_model_module_version": "^1.3.3",
       "_view_module_version": "^1.3.3",
       "data": {
        "color": "gray",
        "id": "-4960701632151528268",
        "label": "extract_measurement",
        "shape": "ellipse"
       },
       "grabbable": true,
       "grabbed": false,
       "position": {
        "x": 912.5,
        "y": 1115
       },
       "selectable": false
      }
     },
     "211e50cf55e649888186ee852cd44c32": {
      "model_module": "jupyter-cytoscape",
      "model_module_version": "^1.3.3",
      "model_name": "EdgeModel",
      "state": {
       "_model_module_version": "^1.3.3",
       "_view_module_version": "^1.3.3",
       "classes": " directed ",
       "data": {
        "id": "46062294-6468-4f3e-ba38-921d8e5efcd0",
        "source": "3468729262034688261",
        "target": "7532417986883261574"
       },
       "selectable": false
      }
     },
     "216884a2c10643b3829f3ed3563d1e3d": {
      "model_module": "jupyter-cytoscape",
      "model_module_version": "^1.3.3",
      "model_name": "EdgeModel",
      "state": {
       "_model_module_version": "^1.3.3",
       "_view_module_version": "^1.3.3",
       "classes": " directed ",
       "data": {
        "id": "1a10051b-78d2-4799-8d74-582200faf597",
        "source": "-5535500925816557137",
        "target": "2289456180747459719"
       },
       "selectable": false
      }
     },
     "216a192390af43f6be73700179920b44": {
      "model_module": "jupyter-cytoscape",
      "model_module_version": "^1.3.3",
      "model_name": "NodeModel",
      "state": {
       "_model_module_version": "^1.3.3",
       "_view_module_version": "^1.3.3",
       "data": {
        "color": "gray",
        "id": "-3911083649879929357",
        "label": "(3, 0, 0)",
        "shape": "rectangle"
       },
       "grabbable": true,
       "grabbed": false,
       "position": {
        "x": 1279.5,
        "y": 35
       },
       "selectable": false
      }
     },
     "220ca580d6ae44d5a5d9a2318cb49b5c": {
      "model_module": "jupyter-cytoscape",
      "model_module_version": "^1.3.3",
      "model_name": "EdgeModel",
      "state": {
       "_model_module_version": "^1.3.3",
       "_view_module_version": "^1.3.3",
       "classes": " directed ",
       "data": {
        "id": "74999281-37a3-4795-8253-79c5fb5b2ecc",
        "source": "1430441280190961857",
        "target": "-6001598582264971359"
       },
       "selectable": false
      }
     },
     "23b46cbabeda4450b179d819f25a95a0": {
      "model_module": "jupyter-cytoscape",
      "model_module_version": "^1.3.3",
      "model_name": "EdgeModel",
      "state": {
       "_model_module_version": "^1.3.3",
       "_view_module_version": "^1.3.3",
       "classes": " directed ",
       "data": {
        "id": "a3a35efe-6e8b-40c8-94fd-b3563604c365",
        "source": "-4394686644387382699",
        "target": "7960985731429833637"
       },
       "selectable": false
      }
     },
     "24a2872e5b6447f9bb86787f2361941c": {
      "model_module": "jupyter-cytoscape",
      "model_module_version": "^1.3.3",
      "model_name": "NodeModel",
      "state": {
       "_model_module_version": "^1.3.3",
       "_view_module_version": "^1.3.3",
       "data": {
        "color": "gray",
        "id": "-3974001774193630936",
        "label": "",
        "shape": "rectangle"
       },
       "grabbable": true,
       "grabbed": false,
       "position": {
        "x": 545.5,
        "y": 995
       },
       "selectable": false
      }
     },
     "24f0c44614524647bafe54d49f1f6687": {
      "model_module": "jupyter-cytoscape",
      "model_module_version": "^1.3.3",
      "model_name": "NodeModel",
      "state": {
       "_model_module_version": "^1.3.3",
       "_view_module_version": "^1.3.3",
       "data": {
        "color": "gray",
        "id": "3889774665686991523",
        "label": "frozen_phonon",
        "shape": "ellipse"
       },
       "grabbable": true,
       "grabbed": false,
       "position": {
        "x": 1279.5,
        "y": 875
       },
       "selectable": false
      }
     },
     "25005c6e36864e09a9fe33c3d2bd6150": {
      "model_module": "jupyter-cytoscape",
      "model_module_version": "^1.3.3",
      "model_name": "NodeModel",
      "state": {
       "_model_module_version": "^1.3.3",
       "_view_module_version": "^1.3.3",
       "data": {
        "color": "gray",
        "id": "-5718648920225083739",
        "label": "0",
        "shape": "rectangle"
       },
       "grabbable": true,
       "grabbed": false,
       "position": {
        "x": 545.5,
        "y": 635
       },
       "selectable": false
      }
     },
     "2585ec5b4bb545dfbac85a83ae6c7758": {
      "model_module": "jupyter-cytoscape",
      "model_module_version": "^1.3.3",
      "model_name": "EdgeModel",
      "state": {
       "_model_module_version": "^1.3.3",
       "_view_module_version": "^1.3.3",
       "classes": " directed ",
       "data": {
        "id": "46629849-881f-4482-b849-b928fc7d237c",
        "source": "-1007997382385836856",
        "target": "-6453156669324187584"
       },
       "selectable": false
      }
     },
     "25cf4f625ebd42b9bd38a9f5b6909199": {
      "model_module": "jupyter-cytoscape",
      "model_module_version": "^1.3.3",
      "model_name": "NodeModel",
      "state": {
       "_model_module_version": "^1.3.3",
       "_view_module_version": "^1.3.3",
       "data": {
        "color": "gray",
        "id": "-1816069622903235476",
        "label": "(2, 0, 0)",
        "shape": "rectangle"
       },
       "grabbable": true,
       "grabbed": false,
       "position": {
        "x": 545.5,
        "y": 995
       },
       "selectable": false
      }
     },
     "26e3b4d31ee247b68d2869151ca9d74e": {
      "model_module": "jupyter-cytoscape",
      "model_module_version": "^1.3.3",
      "model_name": "EdgeModel",
      "state": {
       "_model_module_version": "^1.3.3",
       "_view_module_version": "^1.3.3",
       "classes": " directed ",
       "data": {
        "id": "a3d7a07f-7ad5-4538-ae23-a4d853dcc6b7",
        "source": "3168124302332281148",
        "target": "-4090489861449496843"
       },
       "selectable": false
      }
     },
     "2700b02132ae4af8b6475a885be24b89": {
      "model_module": "jupyter-cytoscape",
      "model_module_version": "^1.3.3",
      "model_name": "NodeModel",
      "state": {
       "_model_module_version": "^1.3.3",
       "_view_module_version": "^1.3.3",
       "data": {
        "color": "gray",
        "id": "7659000777708197229",
        "label": "intensity",
        "shape": "ellipse"
       },
       "grabbable": true,
       "grabbed": false,
       "position": {
        "x": 912.5,
        "y": 875
       },
       "selectable": false
      }
     },
     "274c59cee764462aab0f6e5384e8ce96": {
      "model_module": "jupyter-cytoscape",
      "model_module_version": "^1.3.3",
      "model_name": "NodeModel",
      "state": {
       "_model_module_version": "^1.3.3",
       "_view_module_version": "^1.3.3",
       "data": {
        "color": "gray",
        "id": "3566432254355552304",
        "label": "mean_combine-partial",
        "shape": "ellipse"
       },
       "grabbable": true,
       "grabbed": false,
       "position": {
        "x": 1096,
        "y": 395
       },
       "selectable": false
      }
     },
     "27fe5edecf704c4b918d48680445aa13": {
      "model_module": "jupyter-cytoscape",
      "model_module_version": "^1.3.3",
      "model_name": "NodeModel",
      "state": {
       "_model_module_version": "^1.3.3",
       "_view_module_version": "^1.3.3",
       "data": {
        "color": "gray",
        "id": "3468729262034688261",
        "label": "",
        "shape": "rectangle"
       },
       "grabbable": true,
       "grabbed": false,
       "position": {
        "x": 912.5,
        "y": 1955
       },
       "selectable": false
      }
     },
     "289797586d1f480bad67b4a30b70fb08": {
      "model_module": "jupyter-cytoscape",
      "model_module_version": "^1.3.3",
      "model_name": "EdgeModel",
      "state": {
       "_model_module_version": "^1.3.3",
       "_view_module_version": "^1.3.3",
       "classes": " directed ",
       "data": {
        "id": "5161b658-b384-4bae-84d9-ecd67980fb2e",
        "source": "-3046620200366549385",
        "target": "-7774238824614935172"
       },
       "selectable": false
      }
     },
     "28d8393667ae43058221c3eeba3be02b": {
      "model_module": "jupyter-cytoscape",
      "model_module_version": "^1.3.3",
      "model_name": "EdgeModel",
      "state": {
       "_model_module_version": "^1.3.3",
       "_view_module_version": "^1.3.3",
       "classes": " directed ",
       "data": {
        "id": "2fe102e9-8ee5-4b30-a2e4-835a4fd25dff",
        "source": "7960985731429833637",
        "target": "7859529992108293609"
       },
       "selectable": false
      }
     },
     "292c2cf46baf47138e80280730a98451": {
      "model_module": "jupyter-cytoscape",
      "model_module_version": "^1.3.3",
      "model_name": "EdgeModel",
      "state": {
       "_model_module_version": "^1.3.3",
       "_view_module_version": "^1.3.3",
       "classes": " directed ",
       "data": {
        "id": "c87816f3-0bc9-427d-b967-ac26ea5f4b0c",
        "source": "-3043227251927298058",
        "target": "-4142006978538430438"
       },
       "selectable": false
      }
     },
     "2987b8ee3dd34ce49afd12539534919b": {
      "model_module": "jupyter-cytoscape",
      "model_module_version": "^1.3.3",
      "model_name": "EdgeModel",
      "state": {
       "_model_module_version": "^1.3.3",
       "_view_module_version": "^1.3.3",
       "classes": " directed ",
       "data": {
        "id": "c483e8ff-6e68-4e48-8a67-d942045b34a0",
        "source": "9030963398314763956",
        "target": "5539345259643756036"
       },
       "selectable": false
      }
     },
     "2b823850913c4557853f3c414c29e14b": {
      "model_module": "jupyter-cytoscape",
      "model_module_version": "^1.3.3",
      "model_name": "EdgeModel",
      "state": {
       "_model_module_version": "^1.3.3",
       "_view_module_version": "^1.3.3",
       "classes": " directed ",
       "data": {
        "id": "30aa038b-4151-452e-bc11-70e69a8140f7",
        "source": "5485946648283365607",
        "target": "-5176461502955895052"
       },
       "selectable": false
      }
     },
     "2b8a44c607e844f5b0d534269264f48f": {
      "model_module": "jupyter-cytoscape",
      "model_module_version": "^1.3.3",
      "model_name": "EdgeModel",
      "state": {
       "_model_module_version": "^1.3.3",
       "_view_module_version": "^1.3.3",
       "classes": " directed ",
       "data": {
        "id": "1a0a6bb0-f822-4536-ab51-6017ae388bd2",
        "source": "-2439695987622272384",
        "target": "-1007997382385836856"
       },
       "selectable": false
      }
     },
     "2bf962c149524c15a80ba0b84f060d18": {
      "model_module": "jupyter-cytoscape",
      "model_module_version": "^1.3.3",
      "model_name": "NodeModel",
      "state": {
       "_model_module_version": "^1.3.3",
       "_view_module_version": "^1.3.3",
       "data": {
        "color": "gray",
        "id": "-6453156669324187584",
        "label": "3",
        "shape": "rectangle"
       },
       "grabbable": true,
       "grabbed": false,
       "position": {
        "x": 1279.5,
        "y": 515
       },
       "selectable": false
      }
     },
     "2d2de06269b045c69f613ae7a44d1e56": {
      "model_module": "jupyter-cytoscape",
      "model_module_version": "^1.3.3",
      "model_name": "EdgeModel",
      "state": {
       "_model_module_version": "^1.3.3",
       "_view_module_version": "^1.3.3",
       "classes": " directed ",
       "data": {
        "id": "8ab7fbb1-35e0-4bd6-bb20-659e986298f3",
        "source": "8269737304138431676",
        "target": "-3784334010064751321"
       },
       "selectable": false
      }
     },
     "2df2e78c94c0493bb90d8247d7c0c142": {
      "model_module": "jupyter-cytoscape",
      "model_module_version": "^1.3.3",
      "model_name": "EdgeModel",
      "state": {
       "_model_module_version": "^1.3.3",
       "_view_module_version": "^1.3.3",
       "classes": " directed ",
       "data": {
        "id": "6f9efa77-d712-4c2b-9fa5-5f1586673cd4",
        "source": "-5137768581019059302",
        "target": "7153911986773058095"
       },
       "selectable": false
      }
     },
     "2f6f6b7afcbb440b8662a7446319b0d9": {
      "model_module": "jupyter-cytoscape",
      "model_module_version": "^1.3.3",
      "model_name": "NodeModel",
      "state": {
       "_model_module_version": "^1.3.3",
       "_view_module_version": "^1.3.3",
       "data": {
        "color": "gray",
        "id": "7870697342706301657",
        "label": "(1, 0, 0)",
        "shape": "rectangle"
       },
       "grabbable": true,
       "grabbed": false,
       "position": {
        "x": 912.5,
        "y": 515
       },
       "selectable": false
      }
     },
     "3063dc8828844fc68e7d6cb9192b98c6": {
      "model_module": "jupyter-cytoscape",
      "model_module_version": "^1.3.3",
      "model_name": "EdgeModel",
      "state": {
       "_model_module_version": "^1.3.3",
       "_view_module_version": "^1.3.3",
       "classes": " directed ",
       "data": {
        "id": "58356a5e-5178-4263-89fb-cf232833ebc6",
        "source": "4387492798424724667",
        "target": "-5747337007406284833"
       },
       "selectable": false
      }
     },
     "30b13a3fc1cd4836922611ff28f091b3": {
      "model_module": "jupyter-cytoscape",
      "model_module_version": "^1.3.3",
      "model_name": "EdgeModel",
      "state": {
       "_model_module_version": "^1.3.3",
       "_view_module_version": "^1.3.3",
       "classes": " directed ",
       "data": {
        "id": "7dcb5873-43e5-4d31-9e27-6eda0e6942e9",
        "source": "-6688633745807178172",
        "target": "-4965230047203529274"
       },
       "selectable": false
      }
     },
     "30c5083ea3b3414f8fbc3944557625f4": {
      "model_module": "jupyter-cytoscape",
      "model_module_version": "^1.3.3",
      "model_name": "NodeModel",
      "state": {
       "_model_module_version": "^1.3.3",
       "_view_module_version": "^1.3.3",
       "data": {
        "color": "gray",
        "id": "-6001598582264971359",
        "label": "0",
        "shape": "rectangle"
       },
       "grabbable": true,
       "grabbed": false,
       "position": {
        "x": 1279.5,
        "y": 1235
       },
       "selectable": false
      }
     },
     "312f312249ac44079e9a6feb8bf9f682": {
      "model_module": "jupyter-cytoscape",
      "model_module_version": "^1.3.3",
      "model_name": "NodeModel",
      "state": {
       "_model_module_version": "^1.3.3",
       "_view_module_version": "^1.3.3",
       "data": {
        "color": "gray",
        "id": "-4342013693174255751",
        "label": "0",
        "shape": "rectangle"
       },
       "grabbable": true,
       "grabbed": false,
       "position": {
        "x": 1279.5,
        "y": 1595
       },
       "selectable": false
      }
     },
     "32102f15f08c4d6eb4b4abafcf6071a9": {
      "model_module": "jupyter-cytoscape",
      "model_module_version": "^1.3.3",
      "model_name": "NodeModel",
      "state": {
       "_model_module_version": "^1.3.3",
       "_view_module_version": "^1.3.3",
       "data": {
        "color": "gray",
        "id": "-6001598582264971359",
        "label": "0",
        "shape": "rectangle"
       },
       "grabbable": true,
       "grabbed": false,
       "position": {
        "x": 178.5,
        "y": 275
       },
       "selectable": false
      }
     },
     "3295d8be41ec42868fe724bd489ca1f6": {
      "model_module": "jupyter-cytoscape",
      "model_module_version": "^1.3.3",
      "model_name": "EdgeModel",
      "state": {
       "_model_module_version": "^1.3.3",
       "_view_module_version": "^1.3.3",
       "classes": " directed ",
       "data": {
        "id": "755c5716-dc29-4fe9-a26a-815fb42ebb13",
        "source": "-1763413386809485687",
        "target": "7134471828715810157"
       },
       "selectable": false
      }
     },
     "331e7b137fd9410a9bfbb45839345a06": {
      "model_module": "jupyter-cytoscape",
      "model_module_version": "^1.3.3",
      "model_name": "EdgeModel",
      "state": {
       "_model_module_version": "^1.3.3",
       "_view_module_version": "^1.3.3",
       "classes": " directed ",
       "data": {
        "id": "4e7863fd-8553-47e2-aa51-02361b6ab3d5",
        "source": "-7753198747128251171",
        "target": "-4342013693174255751"
       },
       "selectable": false
      }
     },
     "3373202d83254ee4b439b593f035baf2": {
      "model_module": "jupyter-cytoscape",
      "model_module_version": "^1.3.3",
      "model_name": "NodeModel",
      "state": {
       "_model_module_version": "^1.3.3",
       "_view_module_version": "^1.3.3",
       "data": {
        "color": "gray",
        "id": "8532731506836332662",
        "label": "(0, 0, 0)",
        "shape": "rectangle"
       },
       "grabbable": true,
       "grabbed": false,
       "position": {
        "x": 1279.5,
        "y": 755
       },
       "selectable": false
      }
     },
     "340688957be0410cbfd7b4cabcce5132": {
      "model_module": "jupyter-cytoscape",
      "model_module_version": "^1.3.3",
      "model_name": "EdgeModel",
      "state": {
       "_model_module_version": "^1.3.3",
       "_view_module_version": "^1.3.3",
       "classes": " directed ",
       "data": {
        "id": "29c689b7-6d13-4ecf-ac9b-bef6d3e51db8",
        "source": "7663479006508758765",
        "target": "-4651654546458132597"
       },
       "selectable": false
      }
     },
     "3416df6c4932436d8b7bc61a35aff4d0": {
      "model_module": "jupyter-cytoscape",
      "model_module_version": "^1.3.3",
      "model_name": "EdgeModel",
      "state": {
       "_model_module_version": "^1.3.3",
       "_view_module_version": "^1.3.3",
       "classes": " directed ",
       "data": {
        "id": "d032a5ff-a300-4df4-aee9-1448e14ee638",
        "source": "-4719152330553950554",
        "target": "-3513889689529199534"
       },
       "selectable": false
      }
     },
     "3473f2b54be244c9854e3f8a8cc040e2": {
      "model_module": "jupyter-cytoscape",
      "model_module_version": "^1.3.3",
      "model_name": "NodeModel",
      "state": {
       "_model_module_version": "^1.3.3",
       "_view_module_version": "^1.3.3",
       "data": {
        "color": "gray",
        "id": "1430441280190961857",
        "label": "build_waves_multislice_detect",
        "shape": "ellipse"
       },
       "grabbable": true,
       "grabbed": false,
       "position": {
        "x": 1279.5,
        "y": 1355
       },
       "selectable": false
      }
     },
     "34ba4ced66d94e6494d6b54e09fcf8a4": {
      "model_module": "jupyter-cytoscape",
      "model_module_version": "^1.3.3",
      "model_name": "EdgeModel",
      "state": {
       "_model_module_version": "^1.3.3",
       "_view_module_version": "^1.3.3",
       "classes": " directed ",
       "data": {
        "id": "84195da7-2a0e-43f1-8a79-9ea3bdc14cd5",
        "source": "5770902011539803397",
        "target": "8269737304138431676"
       },
       "selectable": false
      }
     },
     "350d3055db8c412a88a9a26ba24f0eb5": {
      "model_module": "jupyter-cytoscape",
      "model_module_version": "^1.3.3",
      "model_name": "NodeModel",
      "state": {
       "_model_module_version": "^1.3.3",
       "_view_module_version": "^1.3.3",
       "data": {
        "color": "gray",
        "id": "5485946648283365607",
        "label": "2",
        "shape": "rectangle"
       },
       "grabbable": true,
       "grabbed": false,
       "position": {
        "x": 912.5,
        "y": 515
       },
       "selectable": false
      }
     },
     "3555368ca58544fbb9e2584e44cab4f3": {
      "model_module": "jupyter-cytoscape",
      "model_module_version": "^1.3.3",
      "model_name": "NodeModel",
      "state": {
       "_model_module_version": "^1.3.3",
       "_view_module_version": "^1.3.3",
       "data": {
        "color": "gray",
        "id": "7414452363642142957",
        "label": "extract_measurement",
        "shape": "ellipse"
       },
       "grabbable": true,
       "grabbed": false,
       "position": {
        "x": 178.5,
        "y": 1115
       },
       "selectable": false
      }
     },
     "35dd2c23d5324d5f812f47890b570c0d": {
      "model_module": "jupyter-cytoscape",
      "model_module_version": "^1.3.3",
      "model_name": "NodeModel",
      "state": {
       "_model_module_version": "^1.3.3",
       "_view_module_version": "^1.3.3",
       "data": {
        "color": "gray",
        "id": "4387492798424724667",
        "label": "mean_chunk",
        "shape": "ellipse"
       },
       "grabbable": true,
       "grabbed": false,
       "position": {
        "x": 545.5,
        "y": 635
       },
       "selectable": false
      }
     },
     "36f23cb824b943c0a2e4996754146a33": {
      "model_module": "jupyter-cytoscape",
      "model_module_version": "^1.3.3",
      "model_name": "EdgeModel",
      "state": {
       "_model_module_version": "^1.3.3",
       "_view_module_version": "^1.3.3",
       "classes": " directed ",
       "data": {
        "id": "104b3054-28ba-4258-aa23-1f27636a3fb4",
        "source": "-1496729250363816769",
        "target": "-1816069622903235476"
       },
       "selectable": false
      }
     },
     "377d48a110da47a9ad6f82a67ba21ecc": {
      "model_module": "jupyter-cytoscape",
      "model_module_version": "^1.3.3",
      "model_name": "NodeModel",
      "state": {
       "_model_module_version": "^1.3.3",
       "_view_module_version": "^1.3.3",
       "data": {
        "color": "gray",
        "id": "273113942956055643",
        "label": "intensity",
        "shape": "ellipse"
       },
       "grabbable": true,
       "grabbed": false,
       "position": {
        "x": 1279.5,
        "y": 875
       },
       "selectable": false
      }
     },
     "3843a3da176a43248f7f95866f6410c6": {
      "model_module": "jupyter-cytoscape",
      "model_module_version": "^1.3.3",
      "model_name": "NodeModel",
      "state": {
       "_model_module_version": "^1.3.3",
       "_view_module_version": "^1.3.3",
       "data": {
        "color": "gray",
        "id": "-3892315209147341062",
        "label": "1",
        "shape": "rectangle"
       },
       "grabbable": true,
       "grabbed": false,
       "position": {
        "x": 912.5,
        "y": 1235
       },
       "selectable": false
      }
     },
     "38cfbf8aa7c5451c96bc9971d15db63d": {
      "model_module": "jupyter-cytoscape",
      "model_module_version": "^1.3.3",
      "model_name": "EdgeModel",
      "state": {
       "_model_module_version": "^1.3.3",
       "_view_module_version": "^1.3.3",
       "classes": " directed ",
       "data": {
        "id": "82784c5d-690d-45b3-aaff-00eed636e993",
        "source": "5539345259643756036",
        "target": "-3043227251927298058"
       },
       "selectable": false
      }
     },
     "39fda5d660f7461996ca15aba4939173": {
      "model_module": "jupyter-cytoscape",
      "model_module_version": "^1.3.3",
      "model_name": "NodeModel",
      "state": {
       "_model_module_version": "^1.3.3",
       "_view_module_version": "^1.3.3",
       "data": {
        "color": "gray",
        "id": "-3784334010064751321",
        "label": "build_waves_multislice_detect",
        "shape": "ellipse"
       },
       "grabbable": true,
       "grabbed": false,
       "position": {
        "x": 912.5,
        "y": 1355
       },
       "selectable": false
      }
     },
     "3abac37b4cee4c98bc8062341fe37eed": {
      "model_module": "jupyter-cytoscape",
      "model_module_version": "^1.3.3",
      "model_name": "EdgeModel",
      "state": {
       "_model_module_version": "^1.3.3",
       "_view_module_version": "^1.3.3",
       "classes": " directed ",
       "data": {
        "id": "3e3bcf40-7386-452a-b1cc-4875fe80532a",
        "source": "7478324078490333789",
        "target": "-8785389238120037428"
       },
       "selectable": false
      }
     },
     "3ceadcd66d3a460f9cf900a4167ebc34": {
      "model_module": "jupyter-cytoscape",
      "model_module_version": "^1.3.3",
      "model_name": "NodeModel",
      "state": {
       "_model_module_version": "^1.3.3",
       "_view_module_version": "^1.3.3",
       "data": {
        "color": "gray",
        "id": "7534941751265501657",
        "label": "mean_chunk",
        "shape": "ellipse"
       },
       "grabbable": true,
       "grabbed": false,
       "position": {
        "x": 178.5,
        "y": 635
       },
       "selectable": false
      }
     },
     "3e267527acb84b0eb8bdbccbce8b2044": {
      "model_module": "jupyter-cytoscape",
      "model_module_version": "^1.3.3",
      "model_name": "EdgeModel",
      "state": {
       "_model_module_version": "^1.3.3",
       "_view_module_version": "^1.3.3",
       "classes": " directed ",
       "data": {
        "id": "da5b93b7-138e-441a-8f56-677e18542514",
        "source": "-5718648920225083739",
        "target": "-3669366013469121515"
       },
       "selectable": false
      }
     },
     "3fd79680983b445b82f3783b050799ee": {
      "model_module": "jupyter-cytoscape",
      "model_module_version": "^1.3.3",
      "model_name": "NodeModel",
      "state": {
       "_model_module_version": "^1.3.3",
       "_view_module_version": "^1.3.3",
       "data": {
        "color": "gray",
        "id": "2941552740694490346",
        "label": "(3, 0, 0)",
        "shape": "rectangle"
       },
       "grabbable": true,
       "grabbed": false,
       "position": {
        "x": 1279.5,
        "y": 35
       },
       "selectable": false
      }
     },
     "4081e7abcd4f4de3b689bf21f2e3cdff": {
      "model_module": "jupyter-cytoscape",
      "model_module_version": "^1.3.3",
      "model_name": "NodeModel",
      "state": {
       "_model_module_version": "^1.3.3",
       "_view_module_version": "^1.3.3",
       "data": {
        "color": "gray",
        "id": "-5176461502955895052",
        "label": "build_waves_multislice_detect",
        "shape": "ellipse"
       },
       "grabbable": true,
       "grabbed": false,
       "position": {
        "x": 912.5,
        "y": 395
       },
       "selectable": false
      }
     },
     "43a4d2bda5634e249da3f8092d4b2c6d": {
      "model_module": "jupyter-cytoscape",
      "model_module_version": "^1.3.3",
      "model_name": "EdgeModel",
      "state": {
       "_model_module_version": "^1.3.3",
       "_view_module_version": "^1.3.3",
       "classes": " directed ",
       "data": {
        "id": "14d57199-e441-43cb-87ea-307f0b5eb7e8",
        "source": "8052341115441477187",
        "target": "787394039387308669"
       },
       "selectable": false
      }
     },
     "43b4b65f84ea41f694df30323b927ff4": {
      "model_module": "jupyter-cytoscape",
      "model_module_version": "^1.3.3",
      "model_name": "NodeModel",
      "state": {
       "_model_module_version": "^1.3.3",
       "_view_module_version": "^1.3.3",
       "data": {
        "color": "gray",
        "id": "646271230671059670",
        "label": "2",
        "shape": "rectangle"
       },
       "grabbable": true,
       "grabbed": false,
       "position": {
        "x": 912.5,
        "y": 275
       },
       "selectable": false
      }
     },
     "43e3908542434cd38feba6cfeb8e40a5": {
      "model_module": "jupyter-cytoscape",
      "model_module_version": "^1.3.3",
      "model_name": "EdgeModel",
      "state": {
       "_model_module_version": "^1.3.3",
       "_view_module_version": "^1.3.3",
       "classes": " directed ",
       "data": {
        "id": "43c5b008-a3d3-48b3-8e21-1c28bf800da4",
        "source": "-8772800443117616157",
        "target": "-5718648920225083739"
       },
       "selectable": false
      }
     },
     "45344a438a2f48a3ba9ad7f3067e5b9c": {
      "model_module": "jupyter-cytoscape",
      "model_module_version": "^1.3.3",
      "model_name": "NodeModel",
      "state": {
       "_model_module_version": "^1.3.3",
       "_view_module_version": "^1.3.3",
       "data": {
        "color": "gray",
        "id": "-5395309586157896604",
        "label": "extract_measurement",
        "shape": "ellipse"
       },
       "grabbable": true,
       "grabbed": false,
       "position": {
        "x": 1279.5,
        "y": 155
       },
       "selectable": false
      }
     },
     "458a35159c6b4441bb67a6ceb85fc274": {
      "model_module": "jupyter-cytoscape",
      "model_module_version": "^1.3.3",
      "model_name": "NodeModel",
      "state": {
       "_model_module_version": "^1.3.3",
       "_view_module_version": "^1.3.3",
       "data": {
        "color": "gray",
        "id": "-8421002602608952360",
        "label": "frozen_phonon",
        "shape": "ellipse"
       },
       "grabbable": true,
       "grabbed": false,
       "position": {
        "x": 178.5,
        "y": 875
       },
       "selectable": false
      }
     },
     "45f2b26996424ebf883ed0cc80180049": {
      "model_module": "jupyter-cytoscape",
      "model_module_version": "^1.3.3",
      "model_name": "NodeModel",
      "state": {
       "_model_module_version": "^1.3.3",
       "_view_module_version": "^1.3.3",
       "data": {
        "color": "gray",
        "id": "3889774665686991523",
        "label": "frozen_phonon",
        "shape": "ellipse"
       },
       "grabbable": true,
       "grabbed": false,
       "position": {
        "x": 545.5,
        "y": 1835
       },
       "selectable": false
      }
     },
     "47bda8a9d8eb48cdad9202cacc818660": {
      "model_module": "jupyter-cytoscape",
      "model_module_version": "^1.3.3",
      "model_name": "NodeModel",
      "state": {
       "_model_module_version": "^1.3.3",
       "_view_module_version": "^1.3.3",
       "data": {
        "color": "gray",
        "id": "9030963398314763956",
        "label": "build_waves_multislice_detect",
        "shape": "ellipse"
       },
       "grabbable": true,
       "grabbed": false,
       "position": {
        "x": 1279.5,
        "y": 1355
       },
       "selectable": false
      }
     },
     "496f0be8a959491dac9a6febadb4f732": {
      "model_module": "jupyter-cytoscape",
      "model_module_version": "^1.3.3",
      "model_name": "EdgeModel",
      "state": {
       "_model_module_version": "^1.3.3",
       "_view_module_version": "^1.3.3",
       "classes": " directed ",
       "data": {
        "id": "fafba4a6-bcfc-4bbf-a29e-6c6007c7d8c8",
        "source": "8953477370678605388",
        "target": "8431394563296481231"
       },
       "selectable": false
      }
     },
     "4bc792fd4c884153a58433ef57740890": {
      "model_module": "jupyter-cytoscape",
      "model_module_version": "^1.3.3",
      "model_name": "NodeModel",
      "state": {
       "_model_module_version": "^1.3.3",
       "_view_module_version": "^1.3.3",
       "data": {
        "color": "gray",
        "id": "7663479006508758765",
        "label": "(0, 0, 0)",
        "shape": "rectangle"
       },
       "grabbable": true,
       "grabbed": false,
       "position": {
        "x": 1096,
        "y": 275
       },
       "selectable": false
      }
     },
     "4c452fe49d744799a2d9daef043f6359": {
      "model_module": "jupyter-cytoscape",
      "model_module_version": "^1.3.3",
      "model_name": "NodeModel",
      "state": {
       "_model_module_version": "^1.3.3",
       "_view_module_version": "^1.3.3",
       "data": {
        "color": "gray",
        "id": "4999036337073120268",
        "label": "(0, 0, 0)",
        "shape": "rectangle"
       },
       "grabbable": true,
       "grabbed": false,
       "position": {
        "x": 912.5,
        "y": 995
       },
       "selectable": false
      }
     },
     "4cb3dab1fb5c4538bbbf263acf0d781a": {
      "model_module": "jupyter-cytoscape",
      "model_module_version": "^1.3.3",
      "model_name": "NodeModel",
      "state": {
       "_model_module_version": "^1.3.3",
       "_view_module_version": "^1.3.3",
       "data": {
        "color": "gray",
        "id": "9030963398314763956",
        "label": "build_waves_multislice_detect",
        "shape": "ellipse"
       },
       "grabbable": true,
       "grabbed": false,
       "position": {
        "x": 545.5,
        "y": 395
       },
       "selectable": false
      }
     },
     "4e0056616f8e48f8bf745c997d3e797f": {
      "model_module": "jupyter-cytoscape",
      "model_module_version": "^1.3.3",
      "model_name": "NodeModel",
      "state": {
       "_model_module_version": "^1.3.3",
       "_view_module_version": "^1.3.3",
       "data": {
        "color": "gray",
        "id": "-1990049954266018190",
        "label": "extract_measurement",
        "shape": "ellipse"
       },
       "grabbable": true,
       "grabbed": false,
       "position": {
        "x": 912.5,
        "y": 1115
       },
       "selectable": false
      }
     },
     "4e09a44fe08c4b4698af3b9500eff1b1": {
      "model_module": "jupyter-cytoscape",
      "model_module_version": "^1.3.3",
      "model_name": "EdgeModel",
      "state": {
       "_model_module_version": "^1.3.3",
       "_view_module_version": "^1.3.3",
       "classes": " directed ",
       "data": {
        "id": "bde39940-36aa-4ceb-840a-88ed23c1fe17",
        "source": "-4962146886430840416",
        "target": "3168124302332281148"
       },
       "selectable": false
      }
     },
     "4ee6854366bb4fdd936b04b04b5d796d": {
      "model_module": "jupyter-cytoscape",
      "model_module_version": "^1.3.3",
      "model_name": "CytoscapeModel",
      "state": {
       "_interaction_handlers": {},
       "_model_module_version": "^1.3.3",
       "_view_module_version": "^1.3.3",
       "auto_ungrabify": false,
       "autolock": false,
       "cytoscape_layout": {
        "edgeSep": 10,
        "name": "dagre",
        "nodeDimensionsIncludeLabels": true,
        "nodeSep": 10,
        "rankDir": "BT",
        "spacingFactor": 1
       },
       "cytoscape_style": [
        {
         "selector": "node",
         "style": {
          "background-color": "#eee",
          "border-color": "data(color)",
          "border-width": 4,
          "color": "black",
          "font-family": "helvetica",
          "font-size": "24px",
          "font-weight": "bold",
          "height": 64,
          "label": "data(label)",
          "opacity": "1.0",
          "shape": "data(shape)",
          "text-halign": "center",
          "text-valign": "center",
          "width": 64
         }
        },
        {
         "selector": "edge",
         "style": {
          "curve-style": "bezier",
          "line-color": "gray",
          "target-arrow-color": "gray",
          "target-arrow-shape": "triangle",
          "width": 8
         }
        }
       ],
       "desktop_tap_threshold": 4,
       "graph": "IPY_MODEL_e988f69164f14877854bb9bc7be1669f",
       "headless": false,
       "hide_edges_on_viewport": false,
       "layout": "IPY_MODEL_1e6adaf39b3047ac8b533f9f2d78f0bf",
       "max_zoom": 4,
       "min_zoom": 0.2,
       "motion_blur": false,
       "motion_blur_opacity": 0.2,
       "panning_enabled": true,
       "pixel_ratio": "auto",
       "rendered_position": {
        "renderedPosition": {
         "x": 100,
         "y": 100
        }
       },
       "selection_type": "single",
       "style_enabled": true,
       "texture_on_viewport": false,
       "tooltip_source": "tooltip",
       "touch_tap_threshold": 8,
       "user_panning_enabled": true,
       "user_zooming_enabled": true,
       "wheel_sensitivity": 0.1,
       "zoom": 2,
       "zooming_enabled": true
      }
     },
     "4efdea89c35941d4a812e065b4e24c2e": {
      "model_module": "jupyter-cytoscape",
      "model_module_version": "^1.3.3",
      "model_name": "NodeModel",
      "state": {
       "_model_module_version": "^1.3.3",
       "_view_module_version": "^1.3.3",
       "data": {
        "color": "gray",
        "id": "6948655148847684088",
        "label": "0",
        "shape": "rectangle"
       },
       "grabbable": true,
       "grabbed": false,
       "position": {
        "x": 1279.5,
        "y": 1475
       },
       "selectable": false
      }
     },
     "4f6c485e6f4c49d688d41e8ab9220fa3": {
      "model_module": "jupyter-cytoscape",
      "model_module_version": "^1.3.3",
      "model_name": "NodeModel",
      "state": {
       "_model_module_version": "^1.3.3",
       "_view_module_version": "^1.3.3",
       "data": {
        "color": "gray",
        "id": "-5137768581019059302",
        "label": "build_waves_multislice_detect",
        "shape": "ellipse"
       },
       "grabbable": true,
       "grabbed": false,
       "position": {
        "x": 545.5,
        "y": 1355
       },
       "selectable": false
      }
     },
     "4f9e0f5dc1f34f00b7c2fc56945fe2eb": {
      "model_module": "jupyter-cytoscape",
      "model_module_version": "^1.3.3",
      "model_name": "NodeModel",
      "state": {
       "_model_module_version": "^1.3.3",
       "_view_module_version": "^1.3.3",
       "data": {
        "color": "gray",
        "id": "-514865300278878683",
        "label": "mean_chunk",
        "shape": "ellipse"
       },
       "grabbable": true,
       "grabbed": false,
       "position": {
        "x": 545.5,
        "y": 635
       },
       "selectable": false
      }
     },
     "4fbae6b6849043d4a8eb291fd6183933": {
      "model_module": "jupyter-cytoscape",
      "model_module_version": "^1.3.3",
      "model_name": "EdgeModel",
      "state": {
       "_model_module_version": "^1.3.3",
       "_view_module_version": "^1.3.3",
       "classes": " directed ",
       "data": {
        "id": "64508e68-c022-45e2-a0fd-a21c9539c003",
        "source": "2941552740694490346",
        "target": "592175633730271445"
       },
       "selectable": false
      }
     },
     "507ea30bf4224664a9d4edd6a34606db": {
      "model_module": "jupyter-cytoscape",
      "model_module_version": "^1.3.3",
      "model_name": "NodeModel",
      "state": {
       "_model_module_version": "^1.3.3",
       "_view_module_version": "^1.3.3",
       "data": {
        "color": "gray",
        "id": "8269737304138431676",
        "label": "0",
        "shape": "rectangle"
       },
       "grabbable": true,
       "grabbed": false,
       "position": {
        "x": 912.5,
        "y": 1475
       },
       "selectable": false
      }
     },
     "51860019445f409d992686ea9c7e1de0": {
      "model_module": "jupyter-cytoscape",
      "model_module_version": "^1.3.3",
      "model_name": "NodeModel",
      "state": {
       "_model_module_version": "^1.3.3",
       "_view_module_version": "^1.3.3",
       "data": {
        "color": "gray",
        "id": "6948655148847684088",
        "label": "0",
        "shape": "rectangle"
       },
       "grabbable": true,
       "grabbed": false,
       "position": {
        "x": 178.5,
        "y": 515
       },
       "selectable": false
      }
     },
     "5249797f67f94c6d8be7b0142e52ee7c": {
      "model_module": "jupyter-cytoscape",
      "model_module_version": "^1.3.3",
      "model_name": "EdgeModel",
      "state": {
       "_model_module_version": "^1.3.3",
       "_view_module_version": "^1.3.3",
       "classes": " directed ",
       "data": {
        "id": "353ed277-ec47-4d01-b498-7abeb9b81fb9",
        "source": "3889774665686991523",
        "target": "-2439695987622272384"
       },
       "selectable": false
      }
     },
     "52c240ab702a4f948c2036316ec8062a": {
      "model_module": "jupyter-cytoscape",
      "model_module_version": "^1.3.3",
      "model_name": "NodeModel",
      "state": {
       "_model_module_version": "^1.3.3",
       "_view_module_version": "^1.3.3",
       "data": {
        "color": "gray",
        "id": "2941552740694490346",
        "label": "(3, 0, 0)",
        "shape": "rectangle"
       },
       "grabbable": true,
       "grabbed": false,
       "position": {
        "x": 545.5,
        "y": 995
       },
       "selectable": false
      }
     },
     "52cc86dc9baf40a7a66cc21d71a60946": {
      "model_module": "jupyter-cytoscape",
      "model_module_version": "^1.3.3",
      "model_name": "GraphModel",
      "state": {
       "_adj": {
        "-1435003415391699253": {},
        "-1496729250363816769": {},
        "-1654381588457468551": {},
        "-1763413386809485687": {},
        "-1816069622903235476": {},
        "-2277748482018039003": {},
        "-2751819196123630514": {},
        "-3046620200366549385": {},
        "-3892315209147341062": {},
        "-3911083649879929357": {},
        "-4090489861449496843": {},
        "-4292855168737310091": {},
        "-4342013693174255751": {},
        "-4960701632151528268": {},
        "-4962146886430840416": {},
        "-5017009519483436480": {},
        "-539004418580173323": {},
        "-5395309586157896604": {},
        "-5492743395239258520": {},
        "-5747337007406284833": {},
        "-5849489018844994964": {},
        "-6001598582264971359": {},
        "-7753198747128251171": {},
        "-7774238824614935172": {},
        "-7842351034382978714": {},
        "-7897455085788643013": {},
        "-8421002602608952360": {},
        "-8785389238120037428": {},
        "1312704351904593476": {},
        "1430441280190961857": {},
        "1906787091227986607": {},
        "253292684875542408": {},
        "273113942956055643": {},
        "3168124302332281148": {},
        "3468729262034688261": {},
        "4164864492992618019": {},
        "4387492798424724667": {},
        "530260545696305583": {},
        "6674197173341760747": {},
        "6706417669297963179": {},
        "6894621352095718232": {},
        "6948655148847684088": {},
        "7134471828715810157": {},
        "7204108902597820343": {},
        "7224392823701828893": {},
        "7373467053080033819": {},
        "7377629928802065019": {},
        "7478324078490333789": {},
        "7532417986883261574": {},
        "7534941751265501657": {},
        "7659000777708197229": {},
        "7727355104669952924": {},
        "7870697342706301657": {},
        "8431394563296481231": {},
        "8532731506836332662": {},
        "8581599887862942070": {},
        "8953477370678605388": {},
        "9057938521965314385": {}
       },
       "_model_module_version": "^1.3.3",
       "_view_module": "jupyter-cytoscape",
       "_view_module_version": "^1.3.3",
       "edges": [
        "IPY_MODEL_f259ddbe99f44854aabb13b38a5f5720",
        "IPY_MODEL_0803cc2201704469a59892223f65952d",
        "IPY_MODEL_fa32d7ea0e854defb0bf8f22e783c227",
        "IPY_MODEL_289797586d1f480bad67b4a30b70fb08",
        "IPY_MODEL_b21632668f584b0fab79b99a7c690afd",
        "IPY_MODEL_19684acad0fa401689c7ea89c6f78f23",
        "IPY_MODEL_331e7b137fd9410a9bfbb45839345a06",
        "IPY_MODEL_95640245df1944548d277570eaee3377",
        "IPY_MODEL_fda5790c2883470cb6e220524fef27cc",
        "IPY_MODEL_d13d5f5aadfa414a97bec0db28ac3865",
        "IPY_MODEL_7b3f308e8aba4c819594434633efaed3",
        "IPY_MODEL_dce49731882245f2a47eaf58e00ed75c",
        "IPY_MODEL_496f0be8a959491dac9a6febadb4f732",
        "IPY_MODEL_26e3b4d31ee247b68d2869151ca9d74e",
        "IPY_MODEL_00cbd85278ef4c5e938f71984ce514aa",
        "IPY_MODEL_8e7e0a1f7b034bad86e0b5cfe490cb40",
        "IPY_MODEL_c53bc0408b814f9c8d8b732a102304c7",
        "IPY_MODEL_5708cae05d0348e7a9477741695f4e75",
        "IPY_MODEL_0c7e56af63a34143a99646f360086156",
        "IPY_MODEL_6aafcac16e3c42b58e9982ac5acf6d81",
        "IPY_MODEL_a9480f916f3c437785dd7d8d331a1195",
        "IPY_MODEL_ac99b3841742470eb230d0d2d9cbd41d",
        "IPY_MODEL_f0a8b16b47924d9d861be17bb7f7d7b1",
        "IPY_MODEL_adc055a2114141f5bfa4fdef342908c5",
        "IPY_MODEL_b8096eca7fb347a9b6adfe986702d840",
        "IPY_MODEL_b338fc6fd52f4ed1bf70047b16171db3",
        "IPY_MODEL_d51195f7d5de4f09ac195d4e1b4597d1",
        "IPY_MODEL_7658f696bc9b4ffb8eaea3007a206cf4",
        "IPY_MODEL_c1a67174e0664d418572ba51f87c8666",
        "IPY_MODEL_748e01bd15b644dc92aa0b6c79f01345",
        "IPY_MODEL_f44f52b9f3d54d2cb1ec2bf6bdf7b164",
        "IPY_MODEL_155e0d1c7c8342d99d654b5fa10e7d38",
        "IPY_MODEL_fd7da119d20c4d51a548b8e2586653d8",
        "IPY_MODEL_9dacf579a16a4f53a069b916a35fd6f8",
        "IPY_MODEL_94da4bc2a63f42868d22adff5ccbed96",
        "IPY_MODEL_db59df75f3d54afa9996ce5812bad952",
        "IPY_MODEL_b1bfc7be9ff445cfa97da92f157afb78",
        "IPY_MODEL_b11f61ab026c4d318373617b6ded449c",
        "IPY_MODEL_b3690a1d1f924d36a313a2792f45a217",
        "IPY_MODEL_cc5ed1ec85af4c71b811801e3e540ca0",
        "IPY_MODEL_ee9ec24b42f74e16b70e81755db1b37b",
        "IPY_MODEL_64887baa755e40cf86dbafcb1cf9da26",
        "IPY_MODEL_a9ab17dcba904911b891df77253d2969",
        "IPY_MODEL_ece0a5cd82394b4495368b3954da3c94",
        "IPY_MODEL_3063dc8828844fc68e7d6cb9192b98c6",
        "IPY_MODEL_b0c62541b36443ddbfaac1d0287525e4",
        "IPY_MODEL_7982920eb0a642caaab5a8b5bb79ca62",
        "IPY_MODEL_fc2ae34f461c4fb0811d4878f5729136",
        "IPY_MODEL_7d0067e70add4104969d310b96d4f357",
        "IPY_MODEL_7c71e4e0aaae4448a45887da93347b0e",
        "IPY_MODEL_e64d3ccaf82f43a5ba5f2733aee13913",
        "IPY_MODEL_f1e3ddc4b60241c6b31b0e5e9f2a5d29",
        "IPY_MODEL_e9566f8160ef4aee8d023a5a5f9c192c",
        "IPY_MODEL_5f78b1ed5466480d9678fec9bfc63950",
        "IPY_MODEL_65870475aeb842bfbe5aee2113c0987d",
        "IPY_MODEL_3295d8be41ec42868fe724bd489ca1f6",
        "IPY_MODEL_bd94e553ad554ddfb7ba26b12330e949"
       ],
       "nodes": [
        "IPY_MODEL_4efdea89c35941d4a812e065b4e24c2e",
        "IPY_MODEL_cc053bd9e7f346bdb130c19ef7daa52d",
        "IPY_MODEL_5708298712224704a026e2a147d0368b",
        "IPY_MODEL_8f673167ba4443b78ea29389a8ea7a7a",
        "IPY_MODEL_ceec3bdd59a24635bd887738c3c8a8be",
        "IPY_MODEL_7a68067783c94132ada394af052a004e",
        "IPY_MODEL_6ecfda2662534d34bb22052614b152ac",
        "IPY_MODEL_312f312249ac44079e9a6feb8bf9f682",
        "IPY_MODEL_27fe5edecf704c4b918d48680445aa13",
        "IPY_MODEL_696bb61ae62c42989026d6eecf6413a2",
        "IPY_MODEL_c2002d08c6ad463cbeba73c02634b684",
        "IPY_MODEL_92d506c5136e4943859616dd90fa0a55",
        "IPY_MODEL_716cda21e4a34b8da03d7574f4002d99",
        "IPY_MODEL_fd5018b283ab46599f3cf07da155890b",
        "IPY_MODEL_687d4a2c230a49289f91740c072563fc",
        "IPY_MODEL_0f58d9dc346449d6957a7c484cd42965",
        "IPY_MODEL_5c9ec277f06e488c8512ded244d5a4aa",
        "IPY_MODEL_ca685a4ae8e5443e9012cc26986ec966",
        "IPY_MODEL_f2933d4173834dbaa1eb0cf757ffa9be",
        "IPY_MODEL_588f137f96294887bd3a1e34037df008",
        "IPY_MODEL_3473f2b54be244c9854e3f8a8cc040e2",
        "IPY_MODEL_30c5083ea3b3414f8fbc3944557625f4",
        "IPY_MODEL_da6db75e342449eda6a60857ffb885ef",
        "IPY_MODEL_3843a3da176a43248f7f95866f6410c6",
        "IPY_MODEL_580a929ea20c479a82c6b08eeffd23e8",
        "IPY_MODEL_18e0276b05fc4c2e90bfc6d092432d35",
        "IPY_MODEL_e86dd8ef2f1f48a998bcd96eda6634e4",
        "IPY_MODEL_cf6ffc96188e4319b8df48d94d007b5f",
        "IPY_MODEL_55fd1c5ba90d45479b4ba969b0a8cbc7",
        "IPY_MODEL_dca4707d5c30412f94852acc46162e45",
        "IPY_MODEL_1fa3929226164dce9202ad4c6153fd97",
        "IPY_MODEL_0cdc61242d354f25b90449224704e7d4",
        "IPY_MODEL_a9392a33047341fcbff263debfa1a778",
        "IPY_MODEL_25cf4f625ebd42b9bd38a9f5b6909199",
        "IPY_MODEL_12aa915732894a0093b884f531c40b97",
        "IPY_MODEL_1a4d20e388bb42b194334f637fd1eb69",
        "IPY_MODEL_377d48a110da47a9ad6f82a67ba21ecc",
        "IPY_MODEL_3373202d83254ee4b439b593f035baf2",
        "IPY_MODEL_2700b02132ae4af8b6475a885be24b89",
        "IPY_MODEL_f6e381a112744c37b870fc69ffcc7454",
        "IPY_MODEL_faa9bd24574c4cbf8a772480b0222bac",
        "IPY_MODEL_8bda5b77e6f54009ba083a8e198e2fe5",
        "IPY_MODEL_e850294830204eca8ae064c195f9a9e9",
        "IPY_MODEL_07ed28bdf3ff42d38f4b72e709ac8823",
        "IPY_MODEL_f1b58c87fc2d47d7ab1d509ee7553042",
        "IPY_MODEL_fc229945938c4122b31fd4a9a1a15d73",
        "IPY_MODEL_b83dfdb5430d4fc2abe1a2499e64c197",
        "IPY_MODEL_2f6f6b7afcbb440b8662a7446319b0d9",
        "IPY_MODEL_35dd2c23d5324d5f812f47890b570c0d",
        "IPY_MODEL_f00b6285e7554f94a3ecedf111232829",
        "IPY_MODEL_3ceadcd66d3a460f9cf900a4167ebc34",
        "IPY_MODEL_1b41d40dffc34b4386e0729c875b5ae4",
        "IPY_MODEL_5c2be06a0d14476c905fccb7e8fc06f5",
        "IPY_MODEL_f52aee4091554bacab341bce0732b1f3",
        "IPY_MODEL_89e8c132adeb4fecad0910534e09bdcd",
        "IPY_MODEL_6ba30be334b8421fb66d1c8217fa8473",
        "IPY_MODEL_177c6d3cd1a040f2bb3491b591f7275c",
        "IPY_MODEL_1750daa4efaf4aa19b8410b3be9aaf11"
       ]
      }
     },
     "55fd1c5ba90d45479b4ba969b0a8cbc7": {
      "model_module": "jupyter-cytoscape",
      "model_module_version": "^1.3.3",
      "model_name": "NodeModel",
      "state": {
       "_model_module_version": "^1.3.3",
       "_view_module_version": "^1.3.3",
       "data": {
        "color": "gray",
        "id": "-4292855168737310091",
        "label": "extract_measurement",
        "shape": "ellipse"
       },
       "grabbable": true,
       "grabbed": false,
       "position": {
        "x": 1279.5,
        "y": 1115
       },
       "selectable": false
      }
     },
     "5607f0bf1c814ce59e522de54c943c06": {
      "model_module": "jupyter-cytoscape",
      "model_module_version": "^1.3.3",
      "model_name": "EdgeModel",
      "state": {
       "_model_module_version": "^1.3.3",
       "_view_module_version": "^1.3.3",
       "classes": " directed ",
       "data": {
        "id": "187dbb1a-6709-4513-aabe-3de084d7dca1",
        "source": "8269737304138431676",
        "target": "-3784334010064751321"
       },
       "selectable": false
      }
     },
     "56a43fee4c1949f29caddb628cc537f0": {
      "model_module": "jupyter-cytoscape",
      "model_module_version": "^1.3.3",
      "model_name": "NodeModel",
      "state": {
       "_model_module_version": "^1.3.3",
       "_view_module_version": "^1.3.3",
       "data": {
        "color": "gray",
        "id": "-539004418580173323",
        "label": "",
        "shape": "rectangle"
       },
       "grabbable": true,
       "grabbed": false,
       "position": {
        "x": 545.5,
        "y": 755
       },
       "selectable": false
      }
     },
     "56f91b65505d4a8bb09eab34a55ce0aa": {
      "model_module": "jupyter-cytoscape",
      "model_module_version": "^1.3.3",
      "model_name": "NodeModel",
      "state": {
       "_model_module_version": "^1.3.3",
       "_view_module_version": "^1.3.3",
       "data": {
        "color": "gray",
        "id": "-6453156669324187584",
        "label": "3",
        "shape": "rectangle"
       },
       "grabbable": true,
       "grabbed": false,
       "position": {
        "x": 545.5,
        "y": 1475
       },
       "selectable": false
      }
     },
     "5708298712224704a026e2a147d0368b": {
      "model_module": "jupyter-cytoscape",
      "model_module_version": "^1.3.3",
      "model_name": "NodeModel",
      "state": {
       "_model_module_version": "^1.3.3",
       "_view_module_version": "^1.3.3",
       "data": {
        "color": "gray",
        "id": "4164864492992618019",
        "label": "2",
        "shape": "rectangle"
       },
       "grabbable": true,
       "grabbed": false,
       "position": {
        "x": 545.5,
        "y": 1475
       },
       "selectable": false
      }
     },
     "5708cae05d0348e7a9477741695f4e75": {
      "model_module": "jupyter-cytoscape",
      "model_module_version": "^1.3.3",
      "model_name": "EdgeModel",
      "state": {
       "_model_module_version": "^1.3.3",
       "_view_module_version": "^1.3.3",
       "classes": " directed ",
       "data": {
        "id": "3d04b9e2-4123-4d47-81b2-b535fc521001",
        "source": "6948655148847684088",
        "target": "1430441280190961857"
       },
       "selectable": false
      }
     },
     "580a929ea20c479a82c6b08eeffd23e8": {
      "model_module": "jupyter-cytoscape",
      "model_module_version": "^1.3.3",
      "model_name": "NodeModel",
      "state": {
       "_model_module_version": "^1.3.3",
       "_view_module_version": "^1.3.3",
       "data": {
        "color": "gray",
        "id": "7478324078490333789",
        "label": "build_waves_multislice_detect",
        "shape": "ellipse"
       },
       "grabbable": true,
       "grabbed": false,
       "position": {
        "x": 545.5,
        "y": 1355
       },
       "selectable": false
      }
     },
     "588f137f96294887bd3a1e34037df008": {
      "model_module": "jupyter-cytoscape",
      "model_module_version": "^1.3.3",
      "model_name": "NodeModel",
      "state": {
       "_model_module_version": "^1.3.3",
       "_view_module_version": "^1.3.3",
       "data": {
        "color": "gray",
        "id": "-3046620200366549385",
        "label": "0",
        "shape": "rectangle"
       },
       "grabbable": true,
       "grabbed": false,
       "position": {
        "x": 178.5,
        "y": 1595
       },
       "selectable": false
      }
     },
     "589fa8ae162e41889bbfa4179fdad689": {
      "model_module": "jupyter-cytoscape",
      "model_module_version": "^1.3.3",
      "model_name": "EdgeModel",
      "state": {
       "_model_module_version": "^1.3.3",
       "_view_module_version": "^1.3.3",
       "classes": " directed ",
       "data": {
        "id": "0f2217a3-2556-4305-bf00-cbf8b29f6355",
        "source": "-1990049954266018190",
        "target": "4999036337073120268"
       },
       "selectable": false
      }
     },
     "58fd7fcf54b241149a8b5e7352ca515c": {
      "model_module": "jupyter-cytoscape",
      "model_module_version": "^1.3.3",
      "model_name": "EdgeModel",
      "state": {
       "_model_module_version": "^1.3.3",
       "_view_module_version": "^1.3.3",
       "classes": " directed ",
       "data": {
        "id": "0e0aff52-6da5-4b58-9acd-f11e7925c40d",
        "source": "-968295496458242389",
        "target": "-1990049954266018190"
       },
       "selectable": false
      }
     },
     "59051de9e54747fb874288bc4333bb96": {
      "model_module": "jupyter-cytoscape",
      "model_module_version": "^1.3.3",
      "model_name": "NodeModel",
      "state": {
       "_model_module_version": "^1.3.3",
       "_view_module_version": "^1.3.3",
       "data": {
        "color": "gray",
        "id": "-4960701632151528268",
        "label": "extract_measurement",
        "shape": "ellipse"
       },
       "grabbable": true,
       "grabbed": false,
       "position": {
        "x": 545.5,
        "y": 155
       },
       "selectable": false
      }
     },
     "5c2be06a0d14476c905fccb7e8fc06f5": {
      "model_module": "jupyter-cytoscape",
      "model_module_version": "^1.3.3",
      "model_name": "NodeModel",
      "state": {
       "_model_module_version": "^1.3.3",
       "_view_module_version": "^1.3.3",
       "data": {
        "color": "gray",
        "id": "7204108902597820343",
        "label": "mean_combine-partial",
        "shape": "ellipse"
       },
       "grabbable": true,
       "grabbed": false,
       "position": {
        "x": 1096,
        "y": 395
       },
       "selectable": false
      }
     },
     "5c391cce095a4354ae0cfec8a0e9f268": {
      "model_module": "jupyter-cytoscape",
      "model_module_version": "^1.3.3",
      "model_name": "EdgeModel",
      "state": {
       "_model_module_version": "^1.3.3",
       "_view_module_version": "^1.3.3",
       "classes": " directed ",
       "data": {
        "id": "698560ab-cced-41b2-ac7d-f51ba301e32c",
        "source": "466287461015598868",
        "target": "3889774665686991523"
       },
       "selectable": false
      }
     },
     "5c9ec277f06e488c8512ded244d5a4aa": {
      "model_module": "jupyter-cytoscape",
      "model_module_version": "^1.3.3",
      "model_name": "NodeModel",
      "state": {
       "_model_module_version": "^1.3.3",
       "_view_module_version": "^1.3.3",
       "data": {
        "color": "gray",
        "id": "-4962146886430840416",
        "label": "",
        "shape": "rectangle"
       },
       "grabbable": true,
       "grabbed": false,
       "position": {
        "x": 178.5,
        "y": 1955
       },
       "selectable": false
      }
     },
     "5cfa6e3aa2f248f9a7741013d7c878d8": {
      "model_module": "jupyter-cytoscape",
      "model_module_version": "^1.3.3",
      "model_name": "NodeModel",
      "state": {
       "_model_module_version": "^1.3.3",
       "_view_module_version": "^1.3.3",
       "data": {
        "color": "gray",
        "id": "-3513889689529199534",
        "label": "",
        "shape": "rectangle"
       },
       "grabbable": true,
       "grabbed": false,
       "position": {
        "x": 178.5,
        "y": 1715
       },
       "selectable": false
      }
     },
     "5d597bf543fd44db96877dc9c87544cc": {
      "model_module": "jupyter-cytoscape",
      "model_module_version": "^1.3.3",
      "model_name": "NodeModel",
      "state": {
       "_model_module_version": "^1.3.3",
       "_view_module_version": "^1.3.3",
       "data": {
        "color": "gray",
        "id": "592175633730271445",
        "label": "intensity",
        "shape": "ellipse"
       },
       "grabbable": true,
       "grabbed": false,
       "position": {
        "x": 545.5,
        "y": 875
       },
       "selectable": false
      }
     },
     "5e2073c9596f4e87b77ce7491a20a1e7": {
      "model_module": "jupyter-cytoscape",
      "model_module_version": "^1.3.3",
      "model_name": "EdgeModel",
      "state": {
       "_model_module_version": "^1.3.3",
       "_view_module_version": "^1.3.3",
       "classes": " directed ",
       "data": {
        "id": "94b7dab4-1640-4507-bcdc-8f2fe383beee",
        "source": "-3097751337877783523",
        "target": "-8772800443117616157"
       },
       "selectable": false
      }
     },
     "5f78b1ed5466480d9678fec9bfc63950": {
      "model_module": "jupyter-cytoscape",
      "model_module_version": "^1.3.3",
      "model_name": "EdgeModel",
      "state": {
       "_model_module_version": "^1.3.3",
       "_view_module_version": "^1.3.3",
       "classes": " directed ",
       "data": {
        "id": "caf74b26-960a-4ee2-a311-d90ed6cb241d",
        "source": "-5747337007406284833",
        "target": "-7897455085788643013"
       },
       "selectable": false
      }
     },
     "5ff0831e1c0b46949a05883a2fd8f5f0": {
      "model_module": "jupyter-cytoscape",
      "model_module_version": "^1.3.3",
      "model_name": "EdgeModel",
      "state": {
       "_model_module_version": "^1.3.3",
       "_view_module_version": "^1.3.3",
       "classes": " directed ",
       "data": {
        "id": "1e501382-3520-4f45-b1f0-f19e4a611ebd",
        "source": "-3892315209147341062",
        "target": "-4960701632151528268"
       },
       "selectable": false
      }
     },
     "61cf43e01da649b9a24b09e6ae511a4b": {
      "model_module": "jupyter-cytoscape",
      "model_module_version": "^1.3.3",
      "model_name": "NodeModel",
      "state": {
       "_model_module_version": "^1.3.3",
       "_view_module_version": "^1.3.3",
       "data": {
        "color": "gray",
        "id": "5698788095317300557",
        "label": "mean_chunk",
        "shape": "ellipse"
       },
       "grabbable": true,
       "grabbed": false,
       "position": {
        "x": 912.5,
        "y": 635
       },
       "selectable": false
      }
     },
     "6314ec591cdc40188d25003552b26842": {
      "model_module": "jupyter-cytoscape",
      "model_module_version": "^1.3.3",
      "model_name": "EdgeModel",
      "state": {
       "_model_module_version": "^1.3.3",
       "_view_module_version": "^1.3.3",
       "classes": " directed ",
       "data": {
        "id": "6f7440b2-34d1-47c0-8558-1b8ff7da7434",
        "source": "-4719152330553950554",
        "target": "-3513889689529199534"
       },
       "selectable": false
      }
     },
     "643c897c55e44844bcffe7b44b0d6f5d": {
      "model_module": "jupyter-cytoscape",
      "model_module_version": "^1.3.3",
      "model_name": "NodeModel",
      "state": {
       "_model_module_version": "^1.3.3",
       "_view_module_version": "^1.3.3",
       "data": {
        "color": "gray",
        "id": "-4394686644387382699",
        "label": "intensity",
        "shape": "ellipse"
       },
       "grabbable": true,
       "grabbed": false,
       "position": {
        "x": 178.5,
        "y": 875
       },
       "selectable": false
      }
     },
     "64887baa755e40cf86dbafcb1cf9da26": {
      "model_module": "jupyter-cytoscape",
      "model_module_version": "^1.3.3",
      "model_name": "EdgeModel",
      "state": {
       "_model_module_version": "^1.3.3",
       "_view_module_version": "^1.3.3",
       "classes": " directed ",
       "data": {
        "id": "dfe773d5-0564-405f-96db-a150dbefff5b",
        "source": "8532731506836332662",
        "target": "-5017009519483436480"
       },
       "selectable": false
      }
     },
     "65870475aeb842bfbe5aee2113c0987d": {
      "model_module": "jupyter-cytoscape",
      "model_module_version": "^1.3.3",
      "model_name": "EdgeModel",
      "state": {
       "_model_module_version": "^1.3.3",
       "_view_module_version": "^1.3.3",
       "classes": " directed ",
       "data": {
        "id": "509c7aa3-31c6-42b1-a4fe-7cb35d3b2496",
        "source": "7134471828715810157",
        "target": "8581599887862942070"
       },
       "selectable": false
      }
     },
     "65b8e3a0258d4ccf8245c4e85d37e43e": {
      "model_module": "jupyter-cytoscape",
      "model_module_version": "^1.3.3",
      "model_name": "NodeModel",
      "state": {
       "_model_module_version": "^1.3.3",
       "_view_module_version": "^1.3.3",
       "data": {
        "color": "gray",
        "id": "4164864492992618019",
        "label": "2",
        "shape": "rectangle"
       },
       "grabbable": true,
       "grabbed": false,
       "position": {
        "x": 912.5,
        "y": 515
       },
       "selectable": false
      }
     },
     "6664817b47e34835b807ce07423de7d5": {
      "model_module": "jupyter-cytoscape",
      "model_module_version": "^1.3.3",
      "model_name": "NodeModel",
      "state": {
       "_model_module_version": "^1.3.3",
       "_view_module_version": "^1.3.3",
       "data": {
        "color": "gray",
        "id": "3168124302332281148",
        "label": "frozen_phonon",
        "shape": "ellipse"
       },
       "grabbable": true,
       "grabbed": false,
       "position": {
        "x": 1279.5,
        "y": 875
       },
       "selectable": false
      }
     },
     "68381c5905924392b3718b2b55af4ef2": {
      "model_module": "jupyter-cytoscape",
      "model_module_version": "^1.3.3",
      "model_name": "EdgeModel",
      "state": {
       "_model_module_version": "^1.3.3",
       "_view_module_version": "^1.3.3",
       "classes": " directed ",
       "data": {
        "id": "95132482-6ff1-4156-ae33-8c0719f519bd",
        "source": "-3974001774193630936",
        "target": "-3097751337877783523"
       },
       "selectable": false
      }
     },
     "685243ed4a2e4a25ab53af12d347d5d1": {
      "model_module": "jupyter-cytoscape",
      "model_module_version": "^1.3.3",
      "model_name": "EdgeModel",
      "state": {
       "_model_module_version": "^1.3.3",
       "_view_module_version": "^1.3.3",
       "classes": " directed ",
       "data": {
        "id": "8b110ae1-b1e7-4a0d-823e-44a1d14ece33",
        "source": "-6001598582264971359",
        "target": "-4292855168737310091"
       },
       "selectable": false
      }
     },
     "687d4a2c230a49289f91740c072563fc": {
      "model_module": "jupyter-cytoscape",
      "model_module_version": "^1.3.3",
      "model_name": "NodeModel",
      "state": {
       "_model_module_version": "^1.3.3",
       "_view_module_version": "^1.3.3",
       "data": {
        "color": "gray",
        "id": "8953477370678605388",
        "label": "",
        "shape": "rectangle"
       },
       "grabbable": true,
       "grabbed": false,
       "position": {
        "x": 545.5,
        "y": 1715
       },
       "selectable": false
      }
     },
     "688dcd574eb6484d932e1e3b54a8794b": {
      "model_module": "jupyter-cytoscape",
      "model_module_version": "^1.3.3",
      "model_name": "NodeModel",
      "state": {
       "_model_module_version": "^1.3.3",
       "_view_module_version": "^1.3.3",
       "data": {
        "color": "gray",
        "id": "-1816069622903235476",
        "label": "(2, 0, 0)",
        "shape": "rectangle"
       },
       "grabbable": true,
       "grabbed": false,
       "position": {
        "x": 912.5,
        "y": 35
       },
       "selectable": false
      }
     },
     "68e407ed3b134eeda9cd89c19cd1f828": {
      "model_module": "jupyter-cytoscape",
      "model_module_version": "^1.3.3",
      "model_name": "NodeModel",
      "state": {
       "_model_module_version": "^1.3.3",
       "_view_module_version": "^1.3.3",
       "data": {
        "color": "gray",
        "id": "7414452363642142957",
        "label": "extract_measurement",
        "shape": "ellipse"
       },
       "grabbable": true,
       "grabbed": false,
       "position": {
        "x": 912.5,
        "y": 155
       },
       "selectable": false
      }
     },
     "690439fc6ad8492d95f0fafd8df97afa": {
      "model_module": "jupyter-cytoscape",
      "model_module_version": "^1.3.3",
      "model_name": "EdgeModel",
      "state": {
       "_model_module_version": "^1.3.3",
       "_view_module_version": "^1.3.3",
       "classes": " directed ",
       "data": {
        "id": "2037f3ba-d237-4304-8052-15c816f15a24",
        "source": "8652804302909057216",
        "target": "3566432254355552304"
       },
       "selectable": false
      }
     },
     "696bb61ae62c42989026d6eecf6413a2": {
      "model_module": "jupyter-cytoscape",
      "model_module_version": "^1.3.3",
      "model_name": "NodeModel",
      "state": {
       "_model_module_version": "^1.3.3",
       "_view_module_version": "^1.3.3",
       "data": {
        "color": "gray",
        "id": "7532417986883261574",
        "label": "frozen_phonon",
        "shape": "ellipse"
       },
       "grabbable": true,
       "grabbed": false,
       "position": {
        "x": 912.5,
        "y": 1835
       },
       "selectable": false
      }
     },
     "69cc894fdc8e4dccb0aba7500c268a3b": {
      "model_module": "jupyter-cytoscape",
      "model_module_version": "^1.3.3",
      "model_name": "NodeModel",
      "state": {
       "_model_module_version": "^1.3.3",
       "_view_module_version": "^1.3.3",
       "data": {
        "color": "gray",
        "id": "8052341115441477187",
        "label": "",
        "shape": "rectangle"
       },
       "grabbable": true,
       "grabbed": false,
       "position": {
        "x": 178.5,
        "y": 995
       },
       "selectable": false
      }
     },
     "6a4772ef623047ae823b5bc0cd1ae389": {
      "model_module": "jupyter-cytoscape",
      "model_module_version": "^1.3.3",
      "model_name": "NodeModel",
      "state": {
       "_model_module_version": "^1.3.3",
       "_view_module_version": "^1.3.3",
       "data": {
        "color": "gray",
        "id": "7295227017064496467",
        "label": "intensity",
        "shape": "ellipse"
       },
       "grabbable": true,
       "grabbed": false,
       "position": {
        "x": 912.5,
        "y": 875
       },
       "selectable": false
      }
     },
     "6a61742ede9b4ea49a936a23c940a530": {
      "model_module": "jupyter-cytoscape",
      "model_module_version": "^1.3.3",
      "model_name": "NodeModel",
      "state": {
       "_model_module_version": "^1.3.3",
       "_view_module_version": "^1.3.3",
       "data": {
        "color": "gray",
        "id": "-8230908346643762321",
        "label": "(3, 0, 0)",
        "shape": "rectangle"
       },
       "grabbable": true,
       "grabbed": false,
       "position": {
        "x": 545.5,
        "y": 755
       },
       "selectable": false
      }
     },
     "6a87b39c05ad4da99c5d1e5a1b85e03a": {
      "model_module": "jupyter-cytoscape",
      "model_module_version": "^1.3.3",
      "model_name": "EdgeModel",
      "state": {
       "_model_module_version": "^1.3.3",
       "_view_module_version": "^1.3.3",
       "classes": " directed ",
       "data": {
        "id": "d9069139-2ad9-4301-813d-c18f351bf219",
        "source": "-3513889689529199534",
        "target": "-9213733272928956355"
       },
       "selectable": false
      }
     },
     "6aafcac16e3c42b58e9982ac5acf6d81": {
      "model_module": "jupyter-cytoscape",
      "model_module_version": "^1.3.3",
      "model_name": "EdgeModel",
      "state": {
       "_model_module_version": "^1.3.3",
       "_view_module_version": "^1.3.3",
       "classes": " directed ",
       "data": {
        "id": "5dbee738-0b0f-45fd-b385-a9f1c86bc16e",
        "source": "9057938521965314385",
        "target": "1906787091227986607"
       },
       "selectable": false
      }
     },
     "6ba30be334b8421fb66d1c8217fa8473": {
      "model_module": "jupyter-cytoscape",
      "model_module_version": "^1.3.3",
      "model_name": "NodeModel",
      "state": {
       "_model_module_version": "^1.3.3",
       "_view_module_version": "^1.3.3",
       "data": {
        "color": "gray",
        "id": "-1763413386809485687",
        "label": "(1, 0, 0)",
        "shape": "rectangle"
       },
       "grabbable": true,
       "grabbed": false,
       "position": {
        "x": 362,
        "y": 275
       },
       "selectable": false
      }
     },
     "6d2dcd9298974a7f9f007058842f2778": {
      "model_module": "jupyter-cytoscape",
      "model_module_version": "^1.3.3",
      "model_name": "GraphModel",
      "state": {
       "_adj": {
        "-1007997382385836856": {},
        "-1990049954266018190": {},
        "-2439695987622272384": {},
        "-281619292567069903": {},
        "-3043227251927298058": {},
        "-3097751337877783523": {},
        "-3513889689529199534": {},
        "-3669366013469121515": {},
        "-3784334010064751321": {},
        "-3974001774193630936": {},
        "-4142006978538430438": {},
        "-4394686644387382699": {},
        "-4651654546458132597": {},
        "-4719152330553950554": {},
        "-4965230047203529274": {},
        "-5137768581019059302": {},
        "-514865300278878683": {},
        "-5176461502955895052": {},
        "-5535500925816557137": {},
        "-5718648920225083739": {},
        "-5875921692087160069": {},
        "-6173424750265132399": {},
        "-6453156669324187584": {},
        "-6688633745807178172": {},
        "-7060244074180223155": {},
        "-8230908346643762321": {},
        "-8772800443117616157": {},
        "-9213733272928956355": {},
        "-968295496458242389": {},
        "110297387970176956": {},
        "1635453754967427313": {},
        "2289456180747459719": {},
        "2941552740694490346": {},
        "3566432254355552304": {},
        "3889774665686991523": {},
        "4512465526039531484": {},
        "466287461015598868": {},
        "4999036337073120268": {},
        "5485946648283365607": {},
        "5539345259643756036": {},
        "5698788095317300557": {},
        "5770902011539803397": {},
        "592175633730271445": {},
        "646271230671059670": {},
        "6595320706530427294": {},
        "686702745058534688": {},
        "70335400962040206": {},
        "7153911986773058095": {},
        "7295227017064496467": {},
        "7414452363642142957": {},
        "7663479006508758765": {},
        "7859529992108293609": {},
        "787394039387308669": {},
        "7960985731429833637": {},
        "8052341115441477187": {},
        "8269737304138431676": {},
        "8652804302909057216": {},
        "9030963398314763956": {}
       },
       "_model_module_version": "^1.3.3",
       "_view_module": "jupyter-cytoscape",
       "_view_module_version": "^1.3.3",
       "edges": [
        "IPY_MODEL_34ba4ced66d94e6494d6b54e09fcf8a4",
        "IPY_MODEL_3e267527acb84b0eb8bdbccbce8b2044",
        "IPY_MODEL_8df56e08032247d1badfb69372218934",
        "IPY_MODEL_c9715fdee4eb437e9586ff7fc7b951c6",
        "IPY_MODEL_781b287d70d4465598becbe7c57f9dcc",
        "IPY_MODEL_43a4d2bda5634e249da3f8092d4b2c6d",
        "IPY_MODEL_0e39fe295cb0463c9d13450a2a59cb6e",
        "IPY_MODEL_cd9debcbdd6f42c58b12bb84ac4a9947",
        "IPY_MODEL_68381c5905924392b3718b2b55af4ef2",
        "IPY_MODEL_43e3908542434cd38feba6cfeb8e40a5",
        "IPY_MODEL_6314ec591cdc40188d25003552b26842",
        "IPY_MODEL_7ad36af0a66148c69563c3459211a1b5",
        "IPY_MODEL_982f476684cc467a89c98016dde71366",
        "IPY_MODEL_5249797f67f94c6d8be7b0142e52ee7c",
        "IPY_MODEL_5c391cce095a4354ae0cfec8a0e9f268",
        "IPY_MODEL_80547abeed1a49e9a3c662c269c62790",
        "IPY_MODEL_faf374e55f2f4b4a84430fda148068bd",
        "IPY_MODEL_2d2de06269b045c69f613ae7a44d1e56",
        "IPY_MODEL_0bf213165a784c2597f713bd8e61333e",
        "IPY_MODEL_f8401006dae646f3960982fe2297788c",
        "IPY_MODEL_d68cf92fd62b4ccf855226a42120cdbc",
        "IPY_MODEL_2b823850913c4557853f3c414c29e14b",
        "IPY_MODEL_2df2e78c94c0493bb90d8247d7c0c142",
        "IPY_MODEL_c6fe408ed65544e78fce3b660482d7c1",
        "IPY_MODEL_589fa8ae162e41889bbfa4179fdad689",
        "IPY_MODEL_58fd7fcf54b241149a8b5e7352ca515c",
        "IPY_MODEL_6debb8f5d07f43559e6e6465781e28f7",
        "IPY_MODEL_c17df715e59d4eb6a3c559c165634264",
        "IPY_MODEL_cfd5c72d9ffe433d9611758ff01dd9a3",
        "IPY_MODEL_c9cb2e35aec14f8aa88b980938be2076",
        "IPY_MODEL_e0a9a19efbe24ebfbe33efeddcc6a8c3",
        "IPY_MODEL_7986cd5d82ce41478ee28cb60200ff05",
        "IPY_MODEL_ad553e7f0cd44e53a7550240e6053f14",
        "IPY_MODEL_c68a28eb2a9347669137451afbbc30e1",
        "IPY_MODEL_216884a2c10643b3829f3ed3563d1e3d",
        "IPY_MODEL_d47e531bb4414fc695a6c341d7546b6d",
        "IPY_MODEL_23b46cbabeda4450b179d819f25a95a0",
        "IPY_MODEL_db9e6c454a60488e9268e741f15e7235",
        "IPY_MODEL_9f3b4980ef5f4283b4525198ec352091",
        "IPY_MODEL_4fbae6b6849043d4a8eb291fd6183933",
        "IPY_MODEL_759c87d85e494eb386f2ef3969b5d5dd",
        "IPY_MODEL_12ea453d206c40bca31979f589970eff",
        "IPY_MODEL_30b13a3fc1cd4836922611ff28f091b3",
        "IPY_MODEL_c6b54a1967c6451490ee179bb0dff7fe",
        "IPY_MODEL_f7fa41ffe3ae4ecfb8db2e2eff000f8e",
        "IPY_MODEL_28d8393667ae43058221c3eeba3be02b",
        "IPY_MODEL_dbd9275f29184a50a46da9832c89a022",
        "IPY_MODEL_0f31b213c514430088f3405a0f2cfba3",
        "IPY_MODEL_84230617dd1f407bbb75d656f77b7d4c",
        "IPY_MODEL_690439fc6ad8492d95f0fafd8df97afa",
        "IPY_MODEL_bb66ee03424e4c9b944c09469e26f324",
        "IPY_MODEL_b5db127aad854b38982d2a628c66ad6c",
        "IPY_MODEL_dff89d08ac35402f9bfdbf9ba6d9cb4b",
        "IPY_MODEL_e84733eab6a343b79c53b71172b60202",
        "IPY_MODEL_eff423d8da6b4e879bdfd176d5c2db32",
        "IPY_MODEL_958e43d5dc8544e5921fdf32c96db288",
        "IPY_MODEL_340688957be0410cbfd7b4cabcce5132"
       ],
       "nodes": [
        "IPY_MODEL_507ea30bf4224664a9d4edd6a34606db",
        "IPY_MODEL_b286569b314441a2aeb56c2230a3287d",
        "IPY_MODEL_be4a802c757e4e8d8cef2d046738f511",
        "IPY_MODEL_56f91b65505d4a8bb09eab34a55ce0aa",
        "IPY_MODEL_fd853d0c99ad4d0f91aa0cc3d23a3bc3",
        "IPY_MODEL_fe0afb44d5a94cc0b2862ff4cf4b7462",
        "IPY_MODEL_8a48c6c74f1f4dc3aa5a4446bbd2d6e5",
        "IPY_MODEL_9c37a3e23db442e3801ce4039a35c588",
        "IPY_MODEL_7c3db83cff764afa975374c64ea3c712",
        "IPY_MODEL_ae66fd2d23804637b41b57ef01669694",
        "IPY_MODEL_e8c600d10a0949aa9f3a2ef02b257fcc",
        "IPY_MODEL_7764735c76114b1eb6b1f895abb986ac",
        "IPY_MODEL_aa81f35ea9ea4bfa9303bcb8af7a5f4b",
        "IPY_MODEL_7b027b1b8c0b433cbd74f2f5e6232f63",
        "IPY_MODEL_5cfa6e3aa2f248f9a7741013d7c878d8",
        "IPY_MODEL_83b872b3416340cd923baae80c3687cb",
        "IPY_MODEL_1c9d61e21a104347b70178ee608fa17c",
        "IPY_MODEL_45f2b26996424ebf883ed0cc80180049",
        "IPY_MODEL_c0980d985acf43ffab139075be9e9726",
        "IPY_MODEL_1aefb11f791f4b3482fa81f2262027c9",
        "IPY_MODEL_39fda5d660f7461996ca15aba4939173",
        "IPY_MODEL_7ca1be1ed7bc43819dfe94de5f60e530",
        "IPY_MODEL_47bda8a9d8eb48cdad9202cacc818660",
        "IPY_MODEL_7a87ffd4863c437aa26c1236b5759a78",
        "IPY_MODEL_18703661dc87475d83f0b3628bb2e5da",
        "IPY_MODEL_bdfbd053e9a94942a5dbbc80e4202ee3",
        "IPY_MODEL_4f6c485e6f4c49d688d41e8ab9220fa3",
        "IPY_MODEL_eeaf97f785dd43a9a4aaa1f8ee6e01c9",
        "IPY_MODEL_4e0056616f8e48f8bf745c997d3e797f",
        "IPY_MODEL_4c452fe49d744799a2d9daef043f6359",
        "IPY_MODEL_08d06ae2e245449fa71fc676c43a9050",
        "IPY_MODEL_025187a7e37d4d6d8b1bb04405d8b951",
        "IPY_MODEL_3555368ca58544fbb9e2584e44cab4f3",
        "IPY_MODEL_8b2dda54171a4b6db1fca8fd265ef311",
        "IPY_MODEL_f65bb71fa68145e884b1106dc7d220ce",
        "IPY_MODEL_52c240ab702a4f948c2036316ec8062a",
        "IPY_MODEL_6a4772ef623047ae823b5bc0cd1ae389",
        "IPY_MODEL_e9c7c549754d45819d0b6fd5d51c24ce",
        "IPY_MODEL_01e524d7f83b47478ed280b9cedc2aab",
        "IPY_MODEL_a8c38cfe8485429ba283dd4a41f8e4d4",
        "IPY_MODEL_643c897c55e44844bcffe7b44b0d6f5d",
        "IPY_MODEL_796c082242ce4773a89dcc7ee1cedd3b",
        "IPY_MODEL_5d597bf543fd44db96877dc9c87544cc",
        "IPY_MODEL_6a61742ede9b4ea49a936a23c940a530",
        "IPY_MODEL_61cf43e01da649b9a24b09e6ae511a4b",
        "IPY_MODEL_1749cd05788d4715987eaa987a0e71b6",
        "IPY_MODEL_9bc30215fd194883b3bd762783d01b70",
        "IPY_MODEL_7408290b0d4240c5ad8184a6025e472d",
        "IPY_MODEL_f883bf0cf00642358060c02f3f549307",
        "IPY_MODEL_7efac423f6854a95ba2485b48865e067",
        "IPY_MODEL_4f9e0f5dc1f34f00b7c2fc56945fe2eb",
        "IPY_MODEL_09791cd8e44244e9bfc6a1ba3150253f",
        "IPY_MODEL_274c59cee764462aab0f6e5384e8ce96",
        "IPY_MODEL_4bc792fd4c884153a58433ef57740890",
        "IPY_MODEL_97b9dcb741d742b8ab25553709149bcc",
        "IPY_MODEL_6d501073104143c1aa363e54211162b4",
        "IPY_MODEL_9a1f13bf06384054b688f30928ea9e86",
        "IPY_MODEL_89514f31d957436fad1c776ae0888638"
       ]
      }
     },
     "6d501073104143c1aa363e54211162b4": {
      "model_module": "jupyter-cytoscape",
      "model_module_version": "^1.3.3",
      "model_name": "NodeModel",
      "state": {
       "_model_module_version": "^1.3.3",
       "_view_module_version": "^1.3.3",
       "data": {
        "color": "gray",
        "id": "-5875921692087160069",
        "label": "(1, 0, 0)",
        "shape": "rectangle"
       },
       "grabbable": true,
       "grabbed": false,
       "position": {
        "x": 362,
        "y": 275
       },
       "selectable": false
      }
     },
     "6d9adcfae3b3411eb2a7b4aff4f3ffb8": {
      "model_module": "jupyter-cytoscape",
      "model_module_version": "^1.3.3",
      "model_name": "EdgeModel",
      "state": {
       "_model_module_version": "^1.3.3",
       "_view_module_version": "^1.3.3",
       "classes": " directed ",
       "data": {
        "id": "0f0b936a-d706-4279-8457-40404a7ba32d",
        "source": "-7753198747128251171",
        "target": "-4342013693174255751"
       },
       "selectable": false
      }
     },
     "6dce6fabb7f94350934d8c45da093d51": {
      "model_module": "jupyter-cytoscape",
      "model_module_version": "^1.3.3",
      "model_name": "NodeModel",
      "state": {
       "_model_module_version": "^1.3.3",
       "_view_module_version": "^1.3.3",
       "data": {
        "color": "gray",
        "id": "-3669366013469121515",
        "label": "1",
        "shape": "rectangle"
       },
       "grabbable": true,
       "grabbed": false,
       "position": {
        "x": 545.5,
        "y": 515
       },
       "selectable": false
      }
     },
     "6debb8f5d07f43559e6e6465781e28f7": {
      "model_module": "jupyter-cytoscape",
      "model_module_version": "^1.3.3",
      "model_name": "EdgeModel",
      "state": {
       "_model_module_version": "^1.3.3",
       "_view_module_version": "^1.3.3",
       "classes": " directed ",
       "data": {
        "id": "668da3a7-86bb-4648-94b9-8ead1a278dd5",
        "source": "-3043227251927298058",
        "target": "-4142006978538430438"
       },
       "selectable": false
      }
     },
     "6ecfda2662534d34bb22052614b152ac": {
      "model_module": "jupyter-cytoscape",
      "model_module_version": "^1.3.3",
      "model_name": "NodeModel",
      "state": {
       "_model_module_version": "^1.3.3",
       "_view_module_version": "^1.3.3",
       "data": {
        "color": "gray",
        "id": "-7753198747128251171",
        "label": "",
        "shape": "rectangle"
       },
       "grabbable": true,
       "grabbed": false,
       "position": {
        "x": 1279.5,
        "y": 1715
       },
       "selectable": false
      }
     },
     "6f946d1d078449368f7c40fedf47d662": {
      "model_module": "jupyter-cytoscape",
      "model_module_version": "^1.3.3",
      "model_name": "EdgeModel",
      "state": {
       "_model_module_version": "^1.3.3",
       "_view_module_version": "^1.3.3",
       "classes": " directed ",
       "data": {
        "id": "bc69d726-f088-44bb-a3b9-9675c3ff0da8",
        "source": "-4090489861449496843",
        "target": "-3046620200366549385"
       },
       "selectable": false
      }
     },
     "70896a6022c04c32b67e9f9dc5a9bdc8": {
      "model_module": "jupyter-cytoscape",
      "model_module_version": "^1.3.3",
      "model_name": "EdgeModel",
      "state": {
       "_model_module_version": "^1.3.3",
       "_view_module_version": "^1.3.3",
       "classes": " directed ",
       "data": {
        "id": "9e4ec4a2-d60e-431a-be51-91cfe9ac99b9",
        "source": "-2277748482018039003",
        "target": "-5395309586157896604"
       },
       "selectable": false
      }
     },
     "70e4c4caf05c4433a929a9e8d9d9b3fa": {
      "model_module": "jupyter-cytoscape",
      "model_module_version": "^1.3.3",
      "model_name": "EdgeModel",
      "state": {
       "_model_module_version": "^1.3.3",
       "_view_module_version": "^1.3.3",
       "classes": " directed ",
       "data": {
        "id": "69b282d7-8a97-4938-8edd-0e323f875864",
        "source": "530260545696305583",
        "target": "-8421002602608952360"
       },
       "selectable": false
      }
     },
     "716cda21e4a34b8da03d7574f4002d99": {
      "model_module": "jupyter-cytoscape",
      "model_module_version": "^1.3.3",
      "model_name": "NodeModel",
      "state": {
       "_model_module_version": "^1.3.3",
       "_view_module_version": "^1.3.3",
       "data": {
        "color": "gray",
        "id": "-1654381588457468551",
        "label": "",
        "shape": "rectangle"
       },
       "grabbable": true,
       "grabbed": false,
       "position": {
        "x": 545.5,
        "y": 1955
       },
       "selectable": false
      }
     },
     "728853a2e5cd45ef89506164033fc81f": {
      "model_module": "jupyter-cytoscape",
      "model_module_version": "^1.3.3",
      "model_name": "NodeModel",
      "state": {
       "_model_module_version": "^1.3.3",
       "_view_module_version": "^1.3.3",
       "data": {
        "color": "gray",
        "id": "-3043227251927298058",
        "label": "extract_measurement",
        "shape": "ellipse"
       },
       "grabbable": true,
       "grabbed": false,
       "position": {
        "x": 545.5,
        "y": 155
       },
       "selectable": false
      }
     },
     "7408290b0d4240c5ad8184a6025e472d": {
      "model_module": "jupyter-cytoscape",
      "model_module_version": "^1.3.3",
      "model_name": "NodeModel",
      "state": {
       "_model_module_version": "^1.3.3",
       "_view_module_version": "^1.3.3",
       "data": {
        "color": "gray",
        "id": "-4965230047203529274",
        "label": "(1, 0, 0)",
        "shape": "rectangle"
       },
       "grabbable": true,
       "grabbed": false,
       "position": {
        "x": 1279.5,
        "y": 515
       },
       "selectable": false
      }
     },
     "740a0408264f4cd7a8bc88b065d9bffb": {
      "model_module": "jupyter-cytoscape",
      "model_module_version": "^1.3.3",
      "model_name": "NodeModel",
      "state": {
       "_model_module_version": "^1.3.3",
       "_view_module_version": "^1.3.3",
       "data": {
        "color": "gray",
        "id": "-9213733272928956355",
        "label": "0",
        "shape": "rectangle"
       },
       "grabbable": true,
       "grabbed": false,
       "position": {
        "x": 912.5,
        "y": 635
       },
       "selectable": false
      }
     },
     "743a509d7c1f4f83991409572fd4c083": {
      "model_module": "jupyter-cytoscape",
      "model_module_version": "^1.3.3",
      "model_name": "EdgeModel",
      "state": {
       "_model_module_version": "^1.3.3",
       "_view_module_version": "^1.3.3",
       "classes": " directed ",
       "data": {
        "id": "f25ed779-b768-4378-8b65-d1baa25d558f",
        "source": "6948655148847684088",
        "target": "1430441280190961857"
       },
       "selectable": false
      }
     },
     "748067df9def4aacb56abf9d25e8d17b": {
      "model_module": "jupyter-cytoscape",
      "model_module_version": "^1.3.3",
      "model_name": "NodeModel",
      "state": {
       "_model_module_version": "^1.3.3",
       "_view_module_version": "^1.3.3",
       "data": {
        "color": "gray",
        "id": "-8772800443117616157",
        "label": "",
        "shape": "rectangle"
       },
       "grabbable": true,
       "grabbed": false,
       "position": {
        "x": 545.5,
        "y": 755
       },
       "selectable": false
      }
     },
     "748e01bd15b644dc92aa0b6c79f01345": {
      "model_module": "jupyter-cytoscape",
      "model_module_version": "^1.3.3",
      "model_name": "EdgeModel",
      "state": {
       "_model_module_version": "^1.3.3",
       "_view_module_version": "^1.3.3",
       "classes": " directed ",
       "data": {
        "id": "9fd21ee8-3866-4495-b70d-2c155d3dde48",
        "source": "-8785389238120037428",
        "target": "-1496729250363816769"
       },
       "selectable": false
      }
     },
     "759c87d85e494eb386f2ef3969b5d5dd": {
      "model_module": "jupyter-cytoscape",
      "model_module_version": "^1.3.3",
      "model_name": "EdgeModel",
      "state": {
       "_model_module_version": "^1.3.3",
       "_view_module_version": "^1.3.3",
       "classes": " directed ",
       "data": {
        "id": "eaefb703-406d-4aca-b474-4cef10f0029e",
        "source": "5698788095317300557",
        "target": "8652804302909057216"
       },
       "selectable": false
      }
     },
     "7658f696bc9b4ffb8eaea3007a206cf4": {
      "model_module": "jupyter-cytoscape",
      "model_module_version": "^1.3.3",
      "model_name": "EdgeModel",
      "state": {
       "_model_module_version": "^1.3.3",
       "_view_module_version": "^1.3.3",
       "classes": " directed ",
       "data": {
        "id": "f9643f82-66c6-41ea-9f46-1af99d16ba32",
        "source": "-3892315209147341062",
        "target": "-4960701632151528268"
       },
       "selectable": false
      }
     },
     "7764735c76114b1eb6b1f895abb986ac": {
      "model_module": "jupyter-cytoscape",
      "model_module_version": "^1.3.3",
      "model_name": "NodeModel",
      "state": {
       "_model_module_version": "^1.3.3",
       "_view_module_version": "^1.3.3",
       "data": {
        "color": "gray",
        "id": "-5718648920225083739",
        "label": "0",
        "shape": "rectangle"
       },
       "grabbable": true,
       "grabbed": false,
       "position": {
        "x": 1279.5,
        "y": 1595
       },
       "selectable": false
      }
     },
     "781b287d70d4465598becbe7c57f9dcc": {
      "model_module": "jupyter-cytoscape",
      "model_module_version": "^1.3.3",
      "model_name": "EdgeModel",
      "state": {
       "_model_module_version": "^1.3.3",
       "_view_module_version": "^1.3.3",
       "classes": " directed ",
       "data": {
        "id": "7aa69209-05d3-488e-96bf-685b152dfd95",
        "source": "787394039387308669",
        "target": "70335400962040206"
       },
       "selectable": false
      }
     },
     "796c082242ce4773a89dcc7ee1cedd3b": {
      "model_module": "jupyter-cytoscape",
      "model_module_version": "^1.3.3",
      "model_name": "NodeModel",
      "state": {
       "_model_module_version": "^1.3.3",
       "_view_module_version": "^1.3.3",
       "data": {
        "color": "gray",
        "id": "7960985731429833637",
        "label": "(2, 0, 0)",
        "shape": "rectangle"
       },
       "grabbable": true,
       "grabbed": false,
       "position": {
        "x": 178.5,
        "y": 755
       },
       "selectable": false
      }
     },
     "7982920eb0a642caaab5a8b5bb79ca62": {
      "model_module": "jupyter-cytoscape",
      "model_module_version": "^1.3.3",
      "model_name": "EdgeModel",
      "state": {
       "_model_module_version": "^1.3.3",
       "_view_module_version": "^1.3.3",
       "classes": " directed ",
       "data": {
        "id": "ee6d03a2-b5c6-433c-95ae-6d2357f3447e",
        "source": "7534941751265501657",
        "target": "-7842351034382978714"
       },
       "selectable": false
      }
     },
     "7986cd5d82ce41478ee28cb60200ff05": {
      "model_module": "jupyter-cytoscape",
      "model_module_version": "^1.3.3",
      "model_name": "EdgeModel",
      "state": {
       "_model_module_version": "^1.3.3",
       "_view_module_version": "^1.3.3",
       "classes": " directed ",
       "data": {
        "id": "fec995be-674f-422a-a654-2be146a458e5",
        "source": "7153911986773058095",
        "target": "4512465526039531484"
       },
       "selectable": false
      }
     },
     "7a68067783c94132ada394af052a004e": {
      "model_module": "jupyter-cytoscape",
      "model_module_version": "^1.3.3",
      "model_name": "NodeModel",
      "state": {
       "_model_module_version": "^1.3.3",
       "_view_module_version": "^1.3.3",
       "data": {
        "color": "gray",
        "id": "-8421002602608952360",
        "label": "frozen_phonon",
        "shape": "ellipse"
       },
       "grabbable": true,
       "grabbed": false,
       "position": {
        "x": 1279.5,
        "y": 1835
       },
       "selectable": false
      }
     },
     "7a87ffd4863c437aa26c1236b5759a78": {
      "model_module": "jupyter-cytoscape",
      "model_module_version": "^1.3.3",
      "model_name": "NodeModel",
      "state": {
       "_model_module_version": "^1.3.3",
       "_view_module_version": "^1.3.3",
       "data": {
        "color": "gray",
        "id": "5539345259643756036",
        "label": "1",
        "shape": "rectangle"
       },
       "grabbable": true,
       "grabbed": false,
       "position": {
        "x": 1279.5,
        "y": 1235
       },
       "selectable": false
      }
     },
     "7ad36af0a66148c69563c3459211a1b5": {
      "model_module": "jupyter-cytoscape",
      "model_module_version": "^1.3.3",
      "model_name": "EdgeModel",
      "state": {
       "_model_module_version": "^1.3.3",
       "_view_module_version": "^1.3.3",
       "classes": " directed ",
       "data": {
        "id": "ad890c05-623c-4b04-afb7-582d552a6daa",
        "source": "-281619292567069903",
        "target": "-4719152330553950554"
       },
       "selectable": false
      }
     },
     "7b027b1b8c0b433cbd74f2f5e6232f63": {
      "model_module": "jupyter-cytoscape",
      "model_module_version": "^1.3.3",
      "model_name": "NodeModel",
      "state": {
       "_model_module_version": "^1.3.3",
       "_view_module_version": "^1.3.3",
       "data": {
        "color": "gray",
        "id": "-4719152330553950554",
        "label": "frozen_phonon",
        "shape": "ellipse"
       },
       "grabbable": true,
       "grabbed": false,
       "position": {
        "x": 178.5,
        "y": 1835
       },
       "selectable": false
      }
     },
     "7b3f308e8aba4c819594434633efaed3": {
      "model_module": "jupyter-cytoscape",
      "model_module_version": "^1.3.3",
      "model_name": "EdgeModel",
      "state": {
       "_model_module_version": "^1.3.3",
       "_view_module_version": "^1.3.3",
       "classes": " directed ",
       "data": {
        "id": "6d953720-b164-4d19-87f4-e589ed267efc",
        "source": "-5492743395239258520",
        "target": "8953477370678605388"
       },
       "selectable": false
      }
     },
     "7c3db83cff764afa975374c64ea3c712": {
      "model_module": "jupyter-cytoscape",
      "model_module_version": "^1.3.3",
      "model_name": "NodeModel",
      "state": {
       "_model_module_version": "^1.3.3",
       "_view_module_version": "^1.3.3",
       "data": {
        "color": "gray",
        "id": "-3974001774193630936",
        "label": "",
        "shape": "rectangle"
       },
       "grabbable": true,
       "grabbed": false,
       "position": {
        "x": 1279.5,
        "y": 1955
       },
       "selectable": false
      }
     },
     "7c71e4e0aaae4448a45887da93347b0e": {
      "model_module": "jupyter-cytoscape",
      "model_module_version": "^1.3.3",
      "model_name": "EdgeModel",
      "state": {
       "_model_module_version": "^1.3.3",
       "_view_module_version": "^1.3.3",
       "classes": " directed ",
       "data": {
        "id": "638b8c46-12bb-478b-9526-e28eda248710",
        "source": "7870697342706301657",
        "target": "7204108902597820343"
       },
       "selectable": false
      }
     },
     "7ca1be1ed7bc43819dfe94de5f60e530": {
      "model_module": "jupyter-cytoscape",
      "model_module_version": "^1.3.3",
      "model_name": "NodeModel",
      "state": {
       "_model_module_version": "^1.3.3",
       "_view_module_version": "^1.3.3",
       "data": {
        "color": "gray",
        "id": "-968295496458242389",
        "label": "0",
        "shape": "rectangle"
       },
       "grabbable": true,
       "grabbed": false,
       "position": {
        "x": 912.5,
        "y": 1235
       },
       "selectable": false
      }
     },
     "7d0067e70add4104969d310b96d4f357": {
      "model_module": "jupyter-cytoscape",
      "model_module_version": "^1.3.3",
      "model_name": "EdgeModel",
      "state": {
       "_model_module_version": "^1.3.3",
       "_view_module_version": "^1.3.3",
       "classes": " directed ",
       "data": {
        "id": "c5b6b0c9-4e45-45e0-ade2-2462f9c0e18d",
        "source": "7204108902597820343",
        "target": "7377629928802065019"
       },
       "selectable": false
      }
     },
     "7efac423f6854a95ba2485b48865e067": {
      "model_module": "jupyter-cytoscape",
      "model_module_version": "^1.3.3",
      "model_name": "NodeModel",
      "state": {
       "_model_module_version": "^1.3.3",
       "_view_module_version": "^1.3.3",
       "data": {
        "color": "gray",
        "id": "-7060244074180223155",
        "label": "(2, 0, 0)",
        "shape": "rectangle"
       },
       "grabbable": true,
       "grabbed": false,
       "position": {
        "x": 178.5,
        "y": 515
       },
       "selectable": false
      }
     },
     "80547abeed1a49e9a3c662c269c62790": {
      "model_module": "jupyter-cytoscape",
      "model_module_version": "^1.3.3",
      "model_name": "EdgeModel",
      "state": {
       "_model_module_version": "^1.3.3",
       "_view_module_version": "^1.3.3",
       "classes": " directed ",
       "data": {
        "id": "343f121d-09f3-4603-8abd-a939c817f667",
        "source": "-2439695987622272384",
        "target": "-1007997382385836856"
       },
       "selectable": false
      }
     },
     "817bd6826fee41f3a28264dd2d1c5984": {
      "model_module": "jupyter-cytoscape",
      "model_module_version": "^1.3.3",
      "model_name": "EdgeModel",
      "state": {
       "_model_module_version": "^1.3.3",
       "_view_module_version": "^1.3.3",
       "classes": " directed ",
       "data": {
        "id": "02f64d51-e43b-4e44-a99a-21e0dcad329e",
        "source": "-5718648920225083739",
        "target": "-3669366013469121515"
       },
       "selectable": false
      }
     },
     "83b872b3416340cd923baae80c3687cb": {
      "model_module": "jupyter-cytoscape",
      "model_module_version": "^1.3.3",
      "model_name": "NodeModel",
      "state": {
       "_model_module_version": "^1.3.3",
       "_view_module_version": "^1.3.3",
       "data": {
        "color": "gray",
        "id": "-9213733272928956355",
        "label": "0",
        "shape": "rectangle"
       },
       "grabbable": true,
       "grabbed": false,
       "position": {
        "x": 178.5,
        "y": 1595
       },
       "selectable": false
      }
     },
     "84230617dd1f407bbb75d656f77b7d4c": {
      "model_module": "jupyter-cytoscape",
      "model_module_version": "^1.3.3",
      "model_name": "EdgeModel",
      "state": {
       "_model_module_version": "^1.3.3",
       "_view_module_version": "^1.3.3",
       "classes": " directed ",
       "data": {
        "id": "d1c96f85-1523-4608-904f-48674db5a818",
        "source": "3566432254355552304",
        "target": "7663479006508758765"
       },
       "selectable": false
      }
     },
     "84a5a3ca56c548c8b1c6a36372d595e5": {
      "model_module": "jupyter-cytoscape",
      "model_module_version": "^1.3.3",
      "model_name": "EdgeModel",
      "state": {
       "_model_module_version": "^1.3.3",
       "_view_module_version": "^1.3.3",
       "classes": " directed ",
       "data": {
        "id": "1b9c6590-157a-47df-91c1-0a66c8dc6094",
        "source": "3889774665686991523",
        "target": "-2439695987622272384"
       },
       "selectable": false
      }
     },
     "89514f31d957436fad1c776ae0888638": {
      "model_module": "jupyter-cytoscape",
      "model_module_version": "^1.3.3",
      "model_name": "NodeModel",
      "state": {
       "_model_module_version": "^1.3.3",
       "_view_module_version": "^1.3.3",
       "data": {
        "color": "gray",
        "id": "110297387970176956",
        "label": "(0, 0)",
        "shape": "rectangle"
       },
       "grabbable": true,
       "grabbed": false,
       "position": {
        "x": 729,
        "y": 35
       },
       "selectable": false
      }
     },
     "89e8c132adeb4fecad0910534e09bdcd": {
      "model_module": "jupyter-cytoscape",
      "model_module_version": "^1.3.3",
      "model_name": "NodeModel",
      "state": {
       "_model_module_version": "^1.3.3",
       "_view_module_version": "^1.3.3",
       "data": {
        "color": "gray",
        "id": "-7897455085788643013",
        "label": "mean_combine-partial",
        "shape": "ellipse"
       },
       "grabbable": true,
       "grabbed": false,
       "position": {
        "x": 362,
        "y": 395
       },
       "selectable": false
      }
     },
     "8a48c6c74f1f4dc3aa5a4446bbd2d6e5": {
      "model_module": "jupyter-cytoscape",
      "model_module_version": "^1.3.3",
      "model_name": "NodeModel",
      "state": {
       "_model_module_version": "^1.3.3",
       "_view_module_version": "^1.3.3",
       "data": {
        "color": "gray",
        "id": "70335400962040206",
        "label": "",
        "shape": "rectangle"
       },
       "grabbable": true,
       "grabbed": false,
       "position": {
        "x": 912.5,
        "y": 1715
       },
       "selectable": false
      }
     },
     "8b2dda54171a4b6db1fca8fd265ef311": {
      "model_module": "jupyter-cytoscape",
      "model_module_version": "^1.3.3",
      "model_name": "NodeModel",
      "state": {
       "_model_module_version": "^1.3.3",
       "_view_module_version": "^1.3.3",
       "data": {
        "color": "gray",
        "id": "686702745058534688",
        "label": "(2, 0, 0)",
        "shape": "rectangle"
       },
       "grabbable": true,
       "grabbed": false,
       "position": {
        "x": 178.5,
        "y": 995
       },
       "selectable": false
      }
     },
     "8bda5b77e6f54009ba083a8e198e2fe5": {
      "model_module": "jupyter-cytoscape",
      "model_module_version": "^1.3.3",
      "model_name": "NodeModel",
      "state": {
       "_model_module_version": "^1.3.3",
       "_view_module_version": "^1.3.3",
       "data": {
        "color": "gray",
        "id": "-2751819196123630514",
        "label": "(2, 0, 0)",
        "shape": "rectangle"
       },
       "grabbable": true,
       "grabbed": false,
       "position": {
        "x": 545.5,
        "y": 755
       },
       "selectable": false
      }
     },
     "8d3dd97c6bd94007a06065f15dd00eef": {
      "model_module": "jupyter-cytoscape",
      "model_module_version": "^1.3.3",
      "model_name": "EdgeModel",
      "state": {
       "_model_module_version": "^1.3.3",
       "_view_module_version": "^1.3.3",
       "classes": " directed ",
       "data": {
        "id": "3d97aca4-3680-4341-b089-77be859278c6",
        "source": "-1654381588457468551",
        "target": "-5492743395239258520"
       },
       "selectable": false
      }
     },
     "8df56e08032247d1badfb69372218934": {
      "model_module": "jupyter-cytoscape",
      "model_module_version": "^1.3.3",
      "model_name": "EdgeModel",
      "state": {
       "_model_module_version": "^1.3.3",
       "_view_module_version": "^1.3.3",
       "classes": " directed ",
       "data": {
        "id": "d665021c-d1c8-4df9-a9ee-bf0df93b8c92",
        "source": "-9213733272928956355",
        "target": "5485946648283365607"
       },
       "selectable": false
      }
     },
     "8e5a924817ea43ef84e319146739ccea": {
      "model_module": "jupyter-cytoscape",
      "model_module_version": "^1.3.3",
      "model_name": "EdgeModel",
      "state": {
       "_model_module_version": "^1.3.3",
       "_view_module_version": "^1.3.3",
       "classes": " directed ",
       "data": {
        "id": "b700d516-dcf5-4654-9cc5-288fad676532",
        "source": "9057938521965314385",
        "target": "1906787091227986607"
       },
       "selectable": false
      }
     },
     "8e7e0a1f7b034bad86e0b5cfe490cb40": {
      "model_module": "jupyter-cytoscape",
      "model_module_version": "^1.3.3",
      "model_name": "EdgeModel",
      "state": {
       "_model_module_version": "^1.3.3",
       "_view_module_version": "^1.3.3",
       "classes": " directed ",
       "data": {
        "id": "f3e333e5-64de-4ce8-a046-64089b035d79",
        "source": "-4090489861449496843",
        "target": "-3046620200366549385"
       },
       "selectable": false
      }
     },
     "8f673167ba4443b78ea29389a8ea7a7a": {
      "model_module": "jupyter-cytoscape",
      "model_module_version": "^1.3.3",
      "model_name": "NodeModel",
      "state": {
       "_model_module_version": "^1.3.3",
       "_view_module_version": "^1.3.3",
       "data": {
        "color": "gray",
        "id": "-7774238824614935172",
        "label": "3",
        "shape": "rectangle"
       },
       "grabbable": true,
       "grabbed": false,
       "position": {
        "x": 178.5,
        "y": 1475
       },
       "selectable": false
      }
     },
     "8fcd589a766043cb994ca283d9847386": {
      "model_module": "jupyter-cytoscape",
      "model_module_version": "^1.3.3",
      "model_name": "NodeModel",
      "state": {
       "_model_module_version": "^1.3.3",
       "_view_module_version": "^1.3.3",
       "data": {
        "color": "gray",
        "id": "-4342013693174255751",
        "label": "0",
        "shape": "rectangle"
       },
       "grabbable": true,
       "grabbed": false,
       "position": {
        "x": 178.5,
        "y": 635
       },
       "selectable": false
      }
     },
     "929c35f6871343fcaa6663dad693de93": {
      "model_module": "jupyter-cytoscape",
      "model_module_version": "^1.3.3",
      "model_name": "EdgeModel",
      "state": {
       "_model_module_version": "^1.3.3",
       "_view_module_version": "^1.3.3",
       "classes": " directed ",
       "data": {
        "id": "6d94fdb3-bb9b-4080-ac55-9adbf472956e",
        "source": "-5395309586157896604",
        "target": "-3911083649879929357"
       },
       "selectable": false
      }
     },
     "92d506c5136e4943859616dd90fa0a55": {
      "model_module": "jupyter-cytoscape",
      "model_module_version": "^1.3.3",
      "model_name": "NodeModel",
      "state": {
       "_model_module_version": "^1.3.3",
       "_view_module_version": "^1.3.3",
       "data": {
        "color": "gray",
        "id": "253292684875542408",
        "label": "0",
        "shape": "rectangle"
       },
       "grabbable": true,
       "grabbed": false,
       "position": {
        "x": 912.5,
        "y": 1595
       },
       "selectable": false
      }
     },
     "93d6dd0250e14b74b859f8000ad4dc6f": {
      "model_module": "jupyter-cytoscape",
      "model_module_version": "^1.3.3",
      "model_name": "EdgeModel",
      "state": {
       "_model_module_version": "^1.3.3",
       "_view_module_version": "^1.3.3",
       "classes": " directed ",
       "data": {
        "id": "c18dc547-2ea2-49f0-a36d-24178c794c4d",
        "source": "7532417986883261574",
        "target": "-539004418580173323"
       },
       "selectable": false
      }
     },
     "94da4bc2a63f42868d22adff5ccbed96": {
      "model_module": "jupyter-cytoscape",
      "model_module_version": "^1.3.3",
      "model_name": "EdgeModel",
      "state": {
       "_model_module_version": "^1.3.3",
       "_view_module_version": "^1.3.3",
       "classes": " directed ",
       "data": {
        "id": "1b0f12da-170c-412e-955c-2bd5193250de",
        "source": "7659000777708197229",
        "target": "-5849489018844994964"
       },
       "selectable": false
      }
     },
     "95640245df1944548d277570eaee3377": {
      "model_module": "jupyter-cytoscape",
      "model_module_version": "^1.3.3",
      "model_name": "EdgeModel",
      "state": {
       "_model_module_version": "^1.3.3",
       "_view_module_version": "^1.3.3",
       "classes": " directed ",
       "data": {
        "id": "c59d2c48-12d6-4f66-b0d4-ae102639a4e9",
        "source": "7532417986883261574",
        "target": "-539004418580173323"
       },
       "selectable": false
      }
     },
     "958e43d5dc8544e5921fdf32c96db288": {
      "model_module": "jupyter-cytoscape",
      "model_module_version": "^1.3.3",
      "model_name": "EdgeModel",
      "state": {
       "_model_module_version": "^1.3.3",
       "_view_module_version": "^1.3.3",
       "classes": " directed ",
       "data": {
        "id": "f6f10a3d-d785-45e4-8f3d-90bb587dad9e",
        "source": "-5875921692087160069",
        "target": "-4651654546458132597"
       },
       "selectable": false
      }
     },
     "97b9dcb741d742b8ab25553709149bcc": {
      "model_module": "jupyter-cytoscape",
      "model_module_version": "^1.3.3",
      "model_name": "NodeModel",
      "state": {
       "_model_module_version": "^1.3.3",
       "_view_module_version": "^1.3.3",
       "data": {
        "color": "gray",
        "id": "1635453754967427313",
        "label": "mean_combine-partial",
        "shape": "ellipse"
       },
       "grabbable": true,
       "grabbed": false,
       "position": {
        "x": 362,
        "y": 395
       },
       "selectable": false
      }
     },
     "982f476684cc467a89c98016dde71366": {
      "model_module": "jupyter-cytoscape",
      "model_module_version": "^1.3.3",
      "model_name": "EdgeModel",
      "state": {
       "_model_module_version": "^1.3.3",
       "_view_module_version": "^1.3.3",
       "classes": " directed ",
       "data": {
        "id": "f14451f2-84b1-4488-ad9f-ea8e2a245c8d",
        "source": "-3513889689529199534",
        "target": "-9213733272928956355"
       },
       "selectable": false
      }
     },
     "9a1f13bf06384054b688f30928ea9e86": {
      "model_module": "jupyter-cytoscape",
      "model_module_version": "^1.3.3",
      "model_name": "NodeModel",
      "state": {
       "_model_module_version": "^1.3.3",
       "_view_module_version": "^1.3.3",
       "data": {
        "color": "gray",
        "id": "-4651654546458132597",
        "label": "mean_agg-aggregate",
        "shape": "ellipse"
       },
       "grabbable": true,
       "grabbed": false,
       "position": {
        "x": 729,
        "y": 155
       },
       "selectable": false
      }
     },
     "9ae01c239f134e1b902c4bcb5e94f4b3": {
      "model_module": "jupyter-cytoscape",
      "model_module_version": "^1.3.3",
      "model_name": "NodeModel",
      "state": {
       "_model_module_version": "^1.3.3",
       "_view_module_version": "^1.3.3",
       "data": {
        "color": "gray",
        "id": "-1007997382385836856",
        "label": "0",
        "shape": "rectangle"
       },
       "grabbable": true,
       "grabbed": false,
       "position": {
        "x": 1279.5,
        "y": 635
       },
       "selectable": false
      }
     },
     "9b133d2f633d4951b71521c7b437d594": {
      "model_module": "jupyter-cytoscape",
      "model_module_version": "^1.3.3",
      "model_name": "NodeModel",
      "state": {
       "_model_module_version": "^1.3.3",
       "_view_module_version": "^1.3.3",
       "data": {
        "color": "gray",
        "id": "530260545696305583",
        "label": "",
        "shape": "rectangle"
       },
       "grabbable": true,
       "grabbed": false,
       "position": {
        "x": 178.5,
        "y": 995
       },
       "selectable": false
      }
     },
     "9bc30215fd194883b3bd762783d01b70": {
      "model_module": "jupyter-cytoscape",
      "model_module_version": "^1.3.3",
      "model_name": "NodeModel",
      "state": {
       "_model_module_version": "^1.3.3",
       "_view_module_version": "^1.3.3",
       "data": {
        "color": "gray",
        "id": "-6688633745807178172",
        "label": "mean_chunk",
        "shape": "ellipse"
       },
       "grabbable": true,
       "grabbed": false,
       "position": {
        "x": 1279.5,
        "y": 635
       },
       "selectable": false
      }
     },
     "9c22219b66fd4e11911c11466e297429": {
      "model_module": "jupyter-cytoscape",
      "model_module_version": "^1.3.3",
      "model_name": "NodeModel",
      "state": {
       "_model_module_version": "^1.3.3",
       "_view_module_version": "^1.3.3",
       "data": {
        "color": "gray",
        "id": "-7774238824614935172",
        "label": "3",
        "shape": "rectangle"
       },
       "grabbable": true,
       "grabbed": false,
       "position": {
        "x": 1279.5,
        "y": 515
       },
       "selectable": false
      }
     },
     "9c37a3e23db442e3801ce4039a35c588": {
      "model_module": "jupyter-cytoscape",
      "model_module_version": "^1.3.3",
      "model_name": "NodeModel",
      "state": {
       "_model_module_version": "^1.3.3",
       "_view_module_version": "^1.3.3",
       "data": {
        "color": "gray",
        "id": "5770902011539803397",
        "label": "0",
        "shape": "rectangle"
       },
       "grabbable": true,
       "grabbed": false,
       "position": {
        "x": 912.5,
        "y": 1595
       },
       "selectable": false
      }
     },
     "9dacf579a16a4f53a069b916a35fd6f8": {
      "model_module": "jupyter-cytoscape",
      "model_module_version": "^1.3.3",
      "model_name": "EdgeModel",
      "state": {
       "_model_module_version": "^1.3.3",
       "_view_module_version": "^1.3.3",
       "classes": " directed ",
       "data": {
        "id": "5a2b451e-9c09-4e0c-bcfc-f7171b83c5e7",
        "source": "6894621352095718232",
        "target": "273113942956055643"
       },
       "selectable": false
      }
     },
     "9f3b4980ef5f4283b4525198ec352091": {
      "model_module": "jupyter-cytoscape",
      "model_module_version": "^1.3.3",
      "model_name": "EdgeModel",
      "state": {
       "_model_module_version": "^1.3.3",
       "_view_module_version": "^1.3.3",
       "classes": " directed ",
       "data": {
        "id": "7efc3c92-23da-46e4-8036-b46ba016e72f",
        "source": "592175633730271445",
        "target": "-8230908346643762321"
       },
       "selectable": false
      }
     },
     "a0fb0010e2ae450396417f6cd87e09a4": {
      "model_module": "jupyter-cytoscape",
      "model_module_version": "^1.3.3",
      "model_name": "EdgeModel",
      "state": {
       "_model_module_version": "^1.3.3",
       "_view_module_version": "^1.3.3",
       "classes": " directed ",
       "data": {
        "id": "5da0c48e-7b48-4ddb-8d9d-cea7abf32bba",
        "source": "-3974001774193630936",
        "target": "-3097751337877783523"
       },
       "selectable": false
      }
     },
     "a13705ffc6e44035ba006aaffef635be": {
      "model_module": "jupyter-cytoscape",
      "model_module_version": "^1.3.3",
      "model_name": "NodeModel",
      "state": {
       "_model_module_version": "^1.3.3",
       "_view_module_version": "^1.3.3",
       "data": {
        "color": "gray",
        "id": "4512465526039531484",
        "label": "extract_measurement",
        "shape": "ellipse"
       },
       "grabbable": true,
       "grabbed": false,
       "position": {
        "x": 1279.5,
        "y": 155
       },
       "selectable": false
      }
     },
     "a5b765232f4a4017ab17d510919d375c": {
      "model_module": "jupyter-cytoscape",
      "model_module_version": "^1.3.3",
      "model_name": "NodeModel",
      "state": {
       "_model_module_version": "^1.3.3",
       "_view_module_version": "^1.3.3",
       "data": {
        "color": "gray",
        "id": "5770902011539803397",
        "label": "0",
        "shape": "rectangle"
       },
       "grabbable": true,
       "grabbed": false,
       "position": {
        "x": 178.5,
        "y": 635
       },
       "selectable": false
      }
     },
     "a60c9a031a0d45b9a4f2c08a4513c7e3": {
      "model_module": "jupyter-cytoscape",
      "model_module_version": "^1.3.3",
      "model_name": "NodeModel",
      "state": {
       "_model_module_version": "^1.3.3",
       "_view_module_version": "^1.3.3",
       "data": {
        "color": "gray",
        "id": "-1990049954266018190",
        "label": "extract_measurement",
        "shape": "ellipse"
       },
       "grabbable": true,
       "grabbed": false,
       "position": {
        "x": 178.5,
        "y": 155
       },
       "selectable": false
      }
     },
     "a8222cafd80f4fdc913c4f5e36aca7dc": {
      "model_module": "jupyter-cytoscape",
      "model_module_version": "^1.3.3",
      "model_name": "EdgeModel",
      "state": {
       "_model_module_version": "^1.3.3",
       "_view_module_version": "^1.3.3",
       "classes": " directed ",
       "data": {
        "id": "246bb691-d551-4b7e-bd7c-b20265390c29",
        "source": "-9213733272928956355",
        "target": "5485946648283365607"
       },
       "selectable": false
      }
     },
     "a8c38cfe8485429ba283dd4a41f8e4d4": {
      "model_module": "jupyter-cytoscape",
      "model_module_version": "^1.3.3",
      "model_name": "NodeModel",
      "state": {
       "_model_module_version": "^1.3.3",
       "_view_module_version": "^1.3.3",
       "data": {
        "color": "gray",
        "id": "2289456180747459719",
        "label": "(1, 0, 0)",
        "shape": "rectangle"
       },
       "grabbable": true,
       "grabbed": false,
       "position": {
        "x": 1279.5,
        "y": 755
       },
       "selectable": false
      }
     },
     "a9392a33047341fcbff263debfa1a778": {
      "model_module": "jupyter-cytoscape",
      "model_module_version": "^1.3.3",
      "model_name": "NodeModel",
      "state": {
       "_model_module_version": "^1.3.3",
       "_view_module_version": "^1.3.3",
       "data": {
        "color": "gray",
        "id": "-1496729250363816769",
        "label": "extract_measurement",
        "shape": "ellipse"
       },
       "grabbable": true,
       "grabbed": false,
       "position": {
        "x": 545.5,
        "y": 1115
       },
       "selectable": false
      }
     },
     "a9480f916f3c437785dd7d8d331a1195": {
      "model_module": "jupyter-cytoscape",
      "model_module_version": "^1.3.3",
      "model_name": "EdgeModel",
      "state": {
       "_model_module_version": "^1.3.3",
       "_view_module_version": "^1.3.3",
       "classes": " directed ",
       "data": {
        "id": "586b2c43-2503-4060-860a-a553cc155da9",
        "source": "7478324078490333789",
        "target": "-8785389238120037428"
       },
       "selectable": false
      }
     },
     "a9a8eb00e9744901814bead416a6ad55": {
      "model_module": "jupyter-cytoscape",
      "model_module_version": "^1.3.3",
      "model_name": "NodeModel",
      "state": {
       "_model_module_version": "^1.3.3",
       "_view_module_version": "^1.3.3",
       "data": {
        "color": "gray",
        "id": "-281619292567069903",
        "label": "",
        "shape": "rectangle"
       },
       "grabbable": true,
       "grabbed": false,
       "position": {
        "x": 912.5,
        "y": 995
       },
       "selectable": false
      }
     },
     "a9ab17dcba904911b891df77253d2969": {
      "model_module": "jupyter-cytoscape",
      "model_module_version": "^1.3.3",
      "model_name": "EdgeModel",
      "state": {
       "_model_module_version": "^1.3.3",
       "_view_module_version": "^1.3.3",
       "classes": " directed ",
       "data": {
        "id": "22a477e0-4d57-48ee-9e7e-6784c6f04101",
        "source": "6706417669297963179",
        "target": "7870697342706301657"
       },
       "selectable": false
      }
     },
     "aa81f35ea9ea4bfa9303bcb8af7a5f4b": {
      "model_module": "jupyter-cytoscape",
      "model_module_version": "^1.3.3",
      "model_name": "NodeModel",
      "state": {
       "_model_module_version": "^1.3.3",
       "_view_module_version": "^1.3.3",
       "data": {
        "color": "gray",
        "id": "-281619292567069903",
        "label": "",
        "shape": "rectangle"
       },
       "grabbable": true,
       "grabbed": false,
       "position": {
        "x": 178.5,
        "y": 1955
       },
       "selectable": false
      }
     },
     "abe745c9d3c64f14b09b99c0cf6fe68c": {
      "model_module": "jupyter-cytoscape",
      "model_module_version": "^1.3.3",
      "model_name": "NodeModel",
      "state": {
       "_model_module_version": "^1.3.3",
       "_view_module_version": "^1.3.3",
       "data": {
        "color": "gray",
        "id": "-1496729250363816769",
        "label": "extract_measurement",
        "shape": "ellipse"
       },
       "grabbable": true,
       "grabbed": false,
       "position": {
        "x": 912.5,
        "y": 155
       },
       "selectable": false
      }
     },
     "ac99b3841742470eb230d0d2d9cbd41d": {
      "model_module": "jupyter-cytoscape",
      "model_module_version": "^1.3.3",
      "model_name": "EdgeModel",
      "state": {
       "_model_module_version": "^1.3.3",
       "_view_module_version": "^1.3.3",
       "classes": " directed ",
       "data": {
        "id": "7b983bd1-f8fb-494b-afe8-ad4b7aac656b",
        "source": "4164864492992618019",
        "target": "7478324078490333789"
       },
       "selectable": false
      }
     },
     "ad553e7f0cd44e53a7550240e6053f14": {
      "model_module": "jupyter-cytoscape",
      "model_module_version": "^1.3.3",
      "model_name": "EdgeModel",
      "state": {
       "_model_module_version": "^1.3.3",
       "_view_module_version": "^1.3.3",
       "classes": " directed ",
       "data": {
        "id": "7a23c3ce-fc75-44c1-a929-44f897672914",
        "source": "7295227017064496467",
        "target": "-6173424750265132399"
       },
       "selectable": false
      }
     },
     "adc055a2114141f5bfa4fdef342908c5": {
      "model_module": "jupyter-cytoscape",
      "model_module_version": "^1.3.3",
      "model_name": "EdgeModel",
      "state": {
       "_model_module_version": "^1.3.3",
       "_view_module_version": "^1.3.3",
       "classes": " directed ",
       "data": {
        "id": "a393fbfa-d472-462b-b586-214201b809eb",
        "source": "-7774238824614935172",
        "target": "6674197173341760747"
       },
       "selectable": false
      }
     },
     "ae66fd2d23804637b41b57ef01669694": {
      "model_module": "jupyter-cytoscape",
      "model_module_version": "^1.3.3",
      "model_name": "NodeModel",
      "state": {
       "_model_module_version": "^1.3.3",
       "_view_module_version": "^1.3.3",
       "data": {
        "color": "gray",
        "id": "-3097751337877783523",
        "label": "frozen_phonon",
        "shape": "ellipse"
       },
       "grabbable": true,
       "grabbed": false,
       "position": {
        "x": 1279.5,
        "y": 1835
       },
       "selectable": false
      }
     },
     "b0c62541b36443ddbfaac1d0287525e4": {
      "model_module": "jupyter-cytoscape",
      "model_module_version": "^1.3.3",
      "model_name": "EdgeModel",
      "state": {
       "_model_module_version": "^1.3.3",
       "_view_module_version": "^1.3.3",
       "classes": " directed ",
       "data": {
        "id": "c980ee55-2812-422a-b027-c43fcea09fc5",
        "source": "-2751819196123630514",
        "target": "4387492798424724667"
       },
       "selectable": false
      }
     },
     "b11f61ab026c4d318373617b6ded449c": {
      "model_module": "jupyter-cytoscape",
      "model_module_version": "^1.3.3",
      "model_name": "EdgeModel",
      "state": {
       "_model_module_version": "^1.3.3",
       "_view_module_version": "^1.3.3",
       "classes": " directed ",
       "data": {
        "id": "7eb0fcfb-a3b9-4662-a664-0735e86945a1",
        "source": "-1816069622903235476",
        "target": "7727355104669952924"
       },
       "selectable": false
      }
     },
     "b1bfc7be9ff445cfa97da92f157afb78": {
      "model_module": "jupyter-cytoscape",
      "model_module_version": "^1.3.3",
      "model_name": "EdgeModel",
      "state": {
       "_model_module_version": "^1.3.3",
       "_view_module_version": "^1.3.3",
       "classes": " directed ",
       "data": {
        "id": "65a7ec6c-65a2-461b-b21f-e2bbae570c9f",
        "source": "7727355104669952924",
        "target": "-2751819196123630514"
       },
       "selectable": false
      }
     },
     "b21632668f584b0fab79b99a7c690afd": {
      "model_module": "jupyter-cytoscape",
      "model_module_version": "^1.3.3",
      "model_name": "EdgeModel",
      "state": {
       "_model_module_version": "^1.3.3",
       "_view_module_version": "^1.3.3",
       "classes": " directed ",
       "data": {
        "id": "d38d84d1-681c-442e-8114-44aafa3374ea",
        "source": "-8421002602608952360",
        "target": "-7753198747128251171"
       },
       "selectable": false
      }
     },
     "b286569b314441a2aeb56c2230a3287d": {
      "model_module": "jupyter-cytoscape",
      "model_module_version": "^1.3.3",
      "model_name": "NodeModel",
      "state": {
       "_model_module_version": "^1.3.3",
       "_view_module_version": "^1.3.3",
       "data": {
        "color": "gray",
        "id": "-3669366013469121515",
        "label": "1",
        "shape": "rectangle"
       },
       "grabbable": true,
       "grabbed": false,
       "position": {
        "x": 1279.5,
        "y": 1475
       },
       "selectable": false
      }
     },
     "b2c5bc6138fe4d5d95a6ebf63c43b917": {
      "model_module": "jupyter-cytoscape",
      "model_module_version": "^1.3.3",
      "model_name": "EdgeModel",
      "state": {
       "_model_module_version": "^1.3.3",
       "_view_module_version": "^1.3.3",
       "classes": " directed ",
       "data": {
        "id": "672dd211-6306-4489-b552-e6aecb214377",
        "source": "-4292855168737310091",
        "target": "6894621352095718232"
       },
       "selectable": false
      }
     },
     "b338fc6fd52f4ed1bf70047b16171db3": {
      "model_module": "jupyter-cytoscape",
      "model_module_version": "^1.3.3",
      "model_name": "EdgeModel",
      "state": {
       "_model_module_version": "^1.3.3",
       "_view_module_version": "^1.3.3",
       "classes": " directed ",
       "data": {
        "id": "b9941647-91c9-466d-b5ae-c08c606372e0",
        "source": "-6001598582264971359",
        "target": "-4292855168737310091"
       },
       "selectable": false
      }
     },
     "b3690a1d1f924d36a313a2792f45a217": {
      "model_module": "jupyter-cytoscape",
      "model_module_version": "^1.3.3",
      "model_name": "EdgeModel",
      "state": {
       "_model_module_version": "^1.3.3",
       "_view_module_version": "^1.3.3",
       "classes": " directed ",
       "data": {
        "id": "e678523b-f656-4ad0-8378-452fb4d57bfd",
        "source": "7224392823701828893",
        "target": "1312704351904593476"
       },
       "selectable": false
      }
     },
     "b5db127aad854b38982d2a628c66ad6c": {
      "model_module": "jupyter-cytoscape",
      "model_module_version": "^1.3.3",
      "model_name": "EdgeModel",
      "state": {
       "_model_module_version": "^1.3.3",
       "_view_module_version": "^1.3.3",
       "classes": " directed ",
       "data": {
        "id": "76b8d0db-55c2-41ee-9a14-334cd32f1bbf",
        "source": "1635453754967427313",
        "target": "-5875921692087160069"
       },
       "selectable": false
      }
     },
     "b6c6af73ae7b48108f3a51655312a9b7": {
      "model_module": "jupyter-cytoscape",
      "model_module_version": "^1.3.3",
      "model_name": "EdgeModel",
      "state": {
       "_model_module_version": "^1.3.3",
       "_view_module_version": "^1.3.3",
       "classes": " directed ",
       "data": {
        "id": "0a808b40-403e-4e57-9682-e9ff5b74e313",
        "source": "5485946648283365607",
        "target": "-5176461502955895052"
       },
       "selectable": false
      }
     },
     "b6c9a3b7c0c840d49ea74dedda8f9700": {
      "model_module": "jupyter-cytoscape",
      "model_module_version": "^1.3.3",
      "model_name": "EdgeModel",
      "state": {
       "_model_module_version": "^1.3.3",
       "_view_module_version": "^1.3.3",
       "classes": " directed ",
       "data": {
        "id": "493687df-ca1f-457b-9152-42e3875ad5b8",
        "source": "70335400962040206",
        "target": "5770902011539803397"
       },
       "selectable": false
      }
     },
     "b8096eca7fb347a9b6adfe986702d840": {
      "model_module": "jupyter-cytoscape",
      "model_module_version": "^1.3.3",
      "model_name": "EdgeModel",
      "state": {
       "_model_module_version": "^1.3.3",
       "_view_module_version": "^1.3.3",
       "classes": " directed ",
       "data": {
        "id": "8ee79a76-def4-464f-9cc5-2fcc772339c6",
        "source": "-4292855168737310091",
        "target": "6894621352095718232"
       },
       "selectable": false
      }
     },
     "b83dfdb5430d4fc2abe1a2499e64c197": {
      "model_module": "jupyter-cytoscape",
      "model_module_version": "^1.3.3",
      "model_name": "NodeModel",
      "state": {
       "_model_module_version": "^1.3.3",
       "_view_module_version": "^1.3.3",
       "data": {
        "color": "gray",
        "id": "6706417669297963179",
        "label": "mean_chunk",
        "shape": "ellipse"
       },
       "grabbable": true,
       "grabbed": false,
       "position": {
        "x": 912.5,
        "y": 635
       },
       "selectable": false
      }
     },
     "b8e6d496fb29452fbabc849e80f49a3a": {
      "model_module": "jupyter-cytoscape",
      "model_module_version": "^1.3.3",
      "model_name": "NodeModel",
      "state": {
       "_model_module_version": "^1.3.3",
       "_view_module_version": "^1.3.3",
       "data": {
        "color": "gray",
        "id": "7478324078490333789",
        "label": "build_waves_multislice_detect",
        "shape": "ellipse"
       },
       "grabbable": true,
       "grabbed": false,
       "position": {
        "x": 912.5,
        "y": 395
       },
       "selectable": false
      }
     },
     "bb66ee03424e4c9b944c09469e26f324": {
      "model_module": "jupyter-cytoscape",
      "model_module_version": "^1.3.3",
      "model_name": "EdgeModel",
      "state": {
       "_model_module_version": "^1.3.3",
       "_view_module_version": "^1.3.3",
       "classes": " directed ",
       "data": {
        "id": "05c026be-7f5b-4616-ad6f-835128abafdd",
        "source": "-4965230047203529274",
        "target": "3566432254355552304"
       },
       "selectable": false
      }
     },
     "bbd6b11dc97448e5a2489541f7c39612": {
      "model_module": "jupyter-cytoscape",
      "model_module_version": "^1.3.3",
      "model_name": "GraphModel",
      "state": {
       "_adj": {},
       "_model_module_version": "^1.3.3",
       "_view_module": "jupyter-cytoscape",
       "_view_module_version": "^1.3.3"
      }
     },
     "bc0cac7c7f37429e92a85e3580202b35": {
      "model_module": "jupyter-cytoscape",
      "model_module_version": "^1.3.3",
      "model_name": "EdgeModel",
      "state": {
       "_model_module_version": "^1.3.3",
       "_view_module_version": "^1.3.3",
       "classes": " directed ",
       "data": {
        "id": "82039587-5fbf-4958-9545-738ddf6dd070",
        "source": "-8772800443117616157",
        "target": "-5718648920225083739"
       },
       "selectable": false
      }
     },
     "bcef9f818f9b4be7a4b4991ffde6fbe7": {
      "model_module": "jupyter-cytoscape",
      "model_module_version": "^1.3.3",
      "model_name": "EdgeModel",
      "state": {
       "_model_module_version": "^1.3.3",
       "_view_module_version": "^1.3.3",
       "classes": " directed ",
       "data": {
        "id": "0e92986e-3a1c-4192-b90e-5f0431a89cb2",
        "source": "-6453156669324187584",
        "target": "-5137768581019059302"
       },
       "selectable": false
      }
     },
     "bd94e553ad554ddfb7ba26b12330e949": {
      "model_module": "jupyter-cytoscape",
      "model_module_version": "^1.3.3",
      "model_name": "EdgeModel",
      "state": {
       "_model_module_version": "^1.3.3",
       "_view_module_version": "^1.3.3",
       "classes": " directed ",
       "data": {
        "id": "8a6a5182-7296-45e0-824e-528b029ba85d",
        "source": "7377629928802065019",
        "target": "7134471828715810157"
       },
       "selectable": false
      }
     },
     "bdfbd053e9a94942a5dbbc80e4202ee3": {
      "model_module": "jupyter-cytoscape",
      "model_module_version": "^1.3.3",
      "model_name": "NodeModel",
      "state": {
       "_model_module_version": "^1.3.3",
       "_view_module_version": "^1.3.3",
       "data": {
        "color": "gray",
        "id": "646271230671059670",
        "label": "2",
        "shape": "rectangle"
       },
       "grabbable": true,
       "grabbed": false,
       "position": {
        "x": 178.5,
        "y": 1235
       },
       "selectable": false
      }
     },
     "be4a802c757e4e8d8cef2d046738f511": {
      "model_module": "jupyter-cytoscape",
      "model_module_version": "^1.3.3",
      "model_name": "NodeModel",
      "state": {
       "_model_module_version": "^1.3.3",
       "_view_module_version": "^1.3.3",
       "data": {
        "color": "gray",
        "id": "5485946648283365607",
        "label": "2",
        "shape": "rectangle"
       },
       "grabbable": true,
       "grabbed": false,
       "position": {
        "x": 178.5,
        "y": 1475
       },
       "selectable": false
      }
     },
     "bebaee6f4ff34776babe8db0f1e1218b": {
      "model_module": "jupyter-cytoscape",
      "model_module_version": "^1.3.3",
      "model_name": "EdgeModel",
      "state": {
       "_model_module_version": "^1.3.3",
       "_view_module_version": "^1.3.3",
       "classes": " directed ",
       "data": {
        "id": "fcfb239a-89b5-4fe4-aba4-0a78ec9f9056",
        "source": "1906787091227986607",
        "target": "-3892315209147341062"
       },
       "selectable": false
      }
     },
     "bfc2f5882f4f4e2aa9446e77da1e2e49": {
      "model_module": "jupyter-cytoscape",
      "model_module_version": "^1.3.3",
      "model_name": "EdgeModel",
      "state": {
       "_model_module_version": "^1.3.3",
       "_view_module_version": "^1.3.3",
       "classes": " directed ",
       "data": {
        "id": "8efbd9a0-76a7-4f54-91e1-9724d05ed9bb",
        "source": "466287461015598868",
        "target": "3889774665686991523"
       },
       "selectable": false
      }
     },
     "c01f0c95767e42a48988cf9ab16cefc8": {
      "model_module": "jupyter-cytoscape",
      "model_module_version": "^1.3.3",
      "model_name": "NodeModel",
      "state": {
       "_model_module_version": "^1.3.3",
       "_view_module_version": "^1.3.3",
       "data": {
        "color": "gray",
        "id": "-3513889689529199534",
        "label": "",
        "shape": "rectangle"
       },
       "grabbable": true,
       "grabbed": false,
       "position": {
        "x": 912.5,
        "y": 755
       },
       "selectable": false
      }
     },
     "c0980d985acf43ffab139075be9e9726": {
      "model_module": "jupyter-cytoscape",
      "model_module_version": "^1.3.3",
      "model_name": "NodeModel",
      "state": {
       "_model_module_version": "^1.3.3",
       "_view_module_version": "^1.3.3",
       "data": {
        "color": "gray",
        "id": "-2439695987622272384",
        "label": "",
        "shape": "rectangle"
       },
       "grabbable": true,
       "grabbed": false,
       "position": {
        "x": 545.5,
        "y": 1715
       },
       "selectable": false
      }
     },
     "c17df715e59d4eb6a3c559c165634264": {
      "model_module": "jupyter-cytoscape",
      "model_module_version": "^1.3.3",
      "model_name": "EdgeModel",
      "state": {
       "_model_module_version": "^1.3.3",
       "_view_module_version": "^1.3.3",
       "classes": " directed ",
       "data": {
        "id": "2b2f717f-6bbb-4ef2-ba4c-9ba34292e798",
        "source": "5539345259643756036",
        "target": "-3043227251927298058"
       },
       "selectable": false
      }
     },
     "c1a67174e0664d418572ba51f87c8666": {
      "model_module": "jupyter-cytoscape",
      "model_module_version": "^1.3.3",
      "model_name": "EdgeModel",
      "state": {
       "_model_module_version": "^1.3.3",
       "_view_module_version": "^1.3.3",
       "classes": " directed ",
       "data": {
        "id": "2f5941b9-c000-425f-b52d-eb2325229d80",
        "source": "-1496729250363816769",
        "target": "-1816069622903235476"
       },
       "selectable": false
      }
     },
     "c1cf0ad2e09448e9b749b2b9e1473988": {
      "model_module": "jupyter-cytoscape",
      "model_module_version": "^1.3.3",
      "model_name": "EdgeModel",
      "state": {
       "_model_module_version": "^1.3.3",
       "_view_module_version": "^1.3.3",
       "classes": " directed ",
       "data": {
        "id": "308f83b6-f77d-4565-9612-a691df4757b3",
        "source": "-281619292567069903",
        "target": "-4719152330553950554"
       },
       "selectable": false
      }
     },
     "c1fb2b7c44954365ae436806a7e02ad3": {
      "model_module": "jupyter-cytoscape",
      "model_module_version": "^1.3.3",
      "model_name": "NodeModel",
      "state": {
       "_model_module_version": "^1.3.3",
       "_view_module_version": "^1.3.3",
       "data": {
        "color": "gray",
        "id": "6674197173341760747",
        "label": "build_waves_multislice_detect",
        "shape": "ellipse"
       },
       "grabbable": true,
       "grabbed": false,
       "position": {
        "x": 1279.5,
        "y": 395
       },
       "selectable": false
      }
     },
     "c2002d08c6ad463cbeba73c02634b684": {
      "model_module": "jupyter-cytoscape",
      "model_module_version": "^1.3.3",
      "model_name": "NodeModel",
      "state": {
       "_model_module_version": "^1.3.3",
       "_view_module_version": "^1.3.3",
       "data": {
        "color": "gray",
        "id": "-539004418580173323",
        "label": "",
        "shape": "rectangle"
       },
       "grabbable": true,
       "grabbed": false,
       "position": {
        "x": 912.5,
        "y": 1715
       },
       "selectable": false
      }
     },
     "c337a748b1bc44d5abda4c9bb8ca6e5b": {
      "model_module": "jupyter-cytoscape",
      "model_module_version": "^1.3.3",
      "model_name": "EdgeModel",
      "state": {
       "_model_module_version": "^1.3.3",
       "_view_module_version": "^1.3.3",
       "classes": " directed ",
       "data": {
        "id": "33103500-4e80-48d9-bcb8-7cc25bf32ace",
        "source": "-5137768581019059302",
        "target": "7153911986773058095"
       },
       "selectable": false
      }
     },
     "c3a1f1a47883432baf6d801d0e421bff": {
      "model_module": "jupyter-cytoscape",
      "model_module_version": "^1.3.3",
      "model_name": "NodeModel",
      "state": {
       "_model_module_version": "^1.3.3",
       "_view_module_version": "^1.3.3",
       "data": {
        "color": "gray",
        "id": "-1654381588457468551",
        "label": "",
        "shape": "rectangle"
       },
       "grabbable": true,
       "grabbed": false,
       "position": {
        "x": 912.5,
        "y": 995
       },
       "selectable": false
      }
     },
     "c53bc0408b814f9c8d8b732a102304c7": {
      "model_module": "jupyter-cytoscape",
      "model_module_version": "^1.3.3",
      "model_name": "EdgeModel",
      "state": {
       "_model_module_version": "^1.3.3",
       "_view_module_version": "^1.3.3",
       "classes": " directed ",
       "data": {
        "id": "76bdec69-05dc-45ec-859e-fc7001ad7c78",
        "source": "1430441280190961857",
        "target": "-6001598582264971359"
       },
       "selectable": false
      }
     },
     "c68a28eb2a9347669137451afbbc30e1": {
      "model_module": "jupyter-cytoscape",
      "model_module_version": "^1.3.3",
      "model_name": "EdgeModel",
      "state": {
       "_model_module_version": "^1.3.3",
       "_view_module_version": "^1.3.3",
       "classes": " directed ",
       "data": {
        "id": "059c6c09-a978-44f0-a05f-7cb4d00a9905",
        "source": "4999036337073120268",
        "target": "7295227017064496467"
       },
       "selectable": false
      }
     },
     "c6b54a1967c6451490ee179bb0dff7fe": {
      "model_module": "jupyter-cytoscape",
      "model_module_version": "^1.3.3",
      "model_name": "EdgeModel",
      "state": {
       "_model_module_version": "^1.3.3",
       "_view_module_version": "^1.3.3",
       "classes": " directed ",
       "data": {
        "id": "c700fb9b-ff0a-471c-a3e0-5d9d0255f388",
        "source": "2289456180747459719",
        "target": "-6688633745807178172"
       },
       "selectable": false
      }
     },
     "c6fe408ed65544e78fce3b660482d7c1": {
      "model_module": "jupyter-cytoscape",
      "model_module_version": "^1.3.3",
      "model_name": "EdgeModel",
      "state": {
       "_model_module_version": "^1.3.3",
       "_view_module_version": "^1.3.3",
       "classes": " directed ",
       "data": {
        "id": "94643b16-e520-4cd0-b145-ead0a51f2989",
        "source": "-6453156669324187584",
        "target": "-5137768581019059302"
       },
       "selectable": false
      }
     },
     "c777cc25ad64403196bb72199b87c971": {
      "model_module": "jupyter-cytoscape",
      "model_module_version": "^1.3.3",
      "model_name": "NodeModel",
      "state": {
       "_model_module_version": "^1.3.3",
       "_view_module_version": "^1.3.3",
       "data": {
        "color": "gray",
        "id": "5539345259643756036",
        "label": "1",
        "shape": "rectangle"
       },
       "grabbable": true,
       "grabbed": false,
       "position": {
        "x": 545.5,
        "y": 275
       },
       "selectable": false
      }
     },
     "c9715fdee4eb437e9586ff7fc7b951c6": {
      "model_module": "jupyter-cytoscape",
      "model_module_version": "^1.3.3",
      "model_name": "EdgeModel",
      "state": {
       "_model_module_version": "^1.3.3",
       "_view_module_version": "^1.3.3",
       "classes": " directed ",
       "data": {
        "id": "f1ab9561-25be-43f4-b219-f76b1b917932",
        "source": "-1007997382385836856",
        "target": "-6453156669324187584"
       },
       "selectable": false
      }
     },
     "c9cb2e35aec14f8aa88b980938be2076": {
      "model_module": "jupyter-cytoscape",
      "model_module_version": "^1.3.3",
      "model_name": "EdgeModel",
      "state": {
       "_model_module_version": "^1.3.3",
       "_view_module_version": "^1.3.3",
       "classes": " directed ",
       "data": {
        "id": "6ae4f187-2eff-47ae-a026-b793cad86be4",
        "source": "646271230671059670",
        "target": "7414452363642142957"
       },
       "selectable": false
      }
     },
     "ca685a4ae8e5443e9012cc26986ec966": {
      "model_module": "jupyter-cytoscape",
      "model_module_version": "^1.3.3",
      "model_name": "NodeModel",
      "state": {
       "_model_module_version": "^1.3.3",
       "_view_module_version": "^1.3.3",
       "data": {
        "color": "gray",
        "id": "3168124302332281148",
        "label": "frozen_phonon",
        "shape": "ellipse"
       },
       "grabbable": true,
       "grabbed": false,
       "position": {
        "x": 178.5,
        "y": 1835
       },
       "selectable": false
      }
     },
     "cb7b64db397e45e6b93f7d0e43c0cd43": {
      "model_module": "jupyter-cytoscape",
      "model_module_version": "^1.3.3",
      "model_name": "EdgeModel",
      "state": {
       "_model_module_version": "^1.3.3",
       "_view_module_version": "^1.3.3",
       "classes": " directed ",
       "data": {
        "id": "fb8ac56c-d6ca-4f54-835f-4b46248ded4a",
        "source": "4164864492992618019",
        "target": "7478324078490333789"
       },
       "selectable": false
      }
     },
     "cbdfdd2cb09b4b6cb34fb5b4547d8dda": {
      "model_module": "jupyter-cytoscape",
      "model_module_version": "^1.3.3",
      "model_name": "GraphModel",
      "state": {
       "_adj": {},
       "_model_module_version": "^1.3.3",
       "_view_module": "jupyter-cytoscape",
       "_view_module_version": "^1.3.3"
      }
     },
     "cc053bd9e7f346bdb130c19ef7daa52d": {
      "model_module": "jupyter-cytoscape",
      "model_module_version": "^1.3.3",
      "model_name": "NodeModel",
      "state": {
       "_model_module_version": "^1.3.3",
       "_view_module_version": "^1.3.3",
       "data": {
        "color": "gray",
        "id": "9057938521965314385",
        "label": "1",
        "shape": "rectangle"
       },
       "grabbable": true,
       "grabbed": false,
       "position": {
        "x": 912.5,
        "y": 1475
       },
       "selectable": false
      }
     },
     "cc5ed1ec85af4c71b811801e3e540ca0": {
      "model_module": "jupyter-cytoscape",
      "model_module_version": "^1.3.3",
      "model_name": "EdgeModel",
      "state": {
       "_model_module_version": "^1.3.3",
       "_view_module_version": "^1.3.3",
       "classes": " directed ",
       "data": {
        "id": "84b17b90-c9f0-488b-93d7-52bfaf8d56ea",
        "source": "-3911083649879929357",
        "target": "7224392823701828893"
       },
       "selectable": false
      }
     },
     "cc88e18930fa4bc1b2b58d86c2f10c0d": {
      "model_module": "jupyter-cytoscape",
      "model_module_version": "^1.3.3",
      "model_name": "NodeModel",
      "state": {
       "_model_module_version": "^1.3.3",
       "_view_module_version": "^1.3.3",
       "data": {
        "color": "gray",
        "id": "-8785389238120037428",
        "label": "2",
        "shape": "rectangle"
       },
       "grabbable": true,
       "grabbed": false,
       "position": {
        "x": 912.5,
        "y": 275
       },
       "selectable": false
      }
     },
     "cd9debcbdd6f42c58b12bb84ac4a9947": {
      "model_module": "jupyter-cytoscape",
      "model_module_version": "^1.3.3",
      "model_name": "EdgeModel",
      "state": {
       "_model_module_version": "^1.3.3",
       "_view_module_version": "^1.3.3",
       "classes": " directed ",
       "data": {
        "id": "91e67db4-cf00-48b1-974e-9b642fd1d918",
        "source": "-3097751337877783523",
        "target": "-8772800443117616157"
       },
       "selectable": false
      }
     },
     "cdf755f30e3b48f18e3065263c4837ca": {
      "model_module": "jupyter-cytoscape",
      "model_module_version": "^1.3.3",
      "model_name": "NodeModel",
      "state": {
       "_model_module_version": "^1.3.3",
       "_view_module_version": "^1.3.3",
       "data": {
        "color": "gray",
        "id": "-3046620200366549385",
        "label": "0",
        "shape": "rectangle"
       },
       "grabbable": true,
       "grabbed": false,
       "position": {
        "x": 1279.5,
        "y": 635
       },
       "selectable": false
      }
     },
     "cee932dc2f834edea3af5d540096f979": {
      "model_module": "@jupyter-widgets/base",
      "model_module_version": "2.0.0",
      "model_name": "LayoutModel",
      "state": {
       "height": "400px"
      }
     },
     "ceec3bdd59a24635bd887738c3c8a8be": {
      "model_module": "jupyter-cytoscape",
      "model_module_version": "^1.3.3",
      "model_name": "NodeModel",
      "state": {
       "_model_module_version": "^1.3.3",
       "_view_module_version": "^1.3.3",
       "data": {
        "color": "gray",
        "id": "530260545696305583",
        "label": "",
        "shape": "rectangle"
       },
       "grabbable": true,
       "grabbed": false,
       "position": {
        "x": 1279.5,
        "y": 1955
       },
       "selectable": false
      }
     },
     "cf309ae383e94fecb6ab4117a1b1211e": {
      "model_module": "jupyter-cytoscape",
      "model_module_version": "^1.3.3",
      "model_name": "NodeModel",
      "state": {
       "_model_module_version": "^1.3.3",
       "_view_module_version": "^1.3.3",
       "data": {
        "color": "gray",
        "id": "-4962146886430840416",
        "label": "",
        "shape": "rectangle"
       },
       "grabbable": true,
       "grabbed": false,
       "position": {
        "x": 1279.5,
        "y": 995
       },
       "selectable": false
      }
     },
     "cf387c0af87c4d58a0243acb460fae8c": {
      "model_module": "jupyter-cytoscape",
      "model_module_version": "^1.3.3",
      "model_name": "NodeModel",
      "state": {
       "_model_module_version": "^1.3.3",
       "_view_module_version": "^1.3.3",
       "data": {
        "color": "gray",
        "id": "-4719152330553950554",
        "label": "frozen_phonon",
        "shape": "ellipse"
       },
       "grabbable": true,
       "grabbed": false,
       "position": {
        "x": 912.5,
        "y": 875
       },
       "selectable": false
      }
     },
     "cf6ffc96188e4319b8df48d94d007b5f": {
      "model_module": "jupyter-cytoscape",
      "model_module_version": "^1.3.3",
      "model_name": "NodeModel",
      "state": {
       "_model_module_version": "^1.3.3",
       "_view_module_version": "^1.3.3",
       "data": {
        "color": "gray",
        "id": "-2277748482018039003",
        "label": "3",
        "shape": "rectangle"
       },
       "grabbable": true,
       "grabbed": false,
       "position": {
        "x": 178.5,
        "y": 1235
       },
       "selectable": false
      }
     },
     "cfd5c72d9ffe433d9611758ff01dd9a3": {
      "model_module": "jupyter-cytoscape",
      "model_module_version": "^1.3.3",
      "model_name": "EdgeModel",
      "state": {
       "_model_module_version": "^1.3.3",
       "_view_module_version": "^1.3.3",
       "classes": " directed ",
       "data": {
        "id": "0b02fded-4d6e-4626-ab87-1f2dffd27b68",
        "source": "7414452363642142957",
        "target": "686702745058534688"
       },
       "selectable": false
      }
     },
     "d06f4ce904b44c748529aa75d1038eef": {
      "model_module": "@jupyter-widgets/base",
      "model_module_version": "2.0.0",
      "model_name": "LayoutModel",
      "state": {
       "height": "400px"
      }
     },
     "d13d5f5aadfa414a97bec0db28ac3865": {
      "model_module": "jupyter-cytoscape",
      "model_module_version": "^1.3.3",
      "model_name": "EdgeModel",
      "state": {
       "_model_module_version": "^1.3.3",
       "_view_module_version": "^1.3.3",
       "classes": " directed ",
       "data": {
        "id": "be774529-6138-420c-b9b5-1a63032cd618",
        "source": "-539004418580173323",
        "target": "253292684875542408"
       },
       "selectable": false
      }
     },
     "d1cbd9267ee74c89a4cae32c6f58e74f": {
      "model_module": "jupyter-cytoscape",
      "model_module_version": "^1.3.3",
      "model_name": "NodeModel",
      "state": {
       "_model_module_version": "^1.3.3",
       "_view_module_version": "^1.3.3",
       "data": {
        "color": "gray",
        "id": "7373467053080033819",
        "label": "(1, 0, 0)",
        "shape": "rectangle"
       },
       "grabbable": true,
       "grabbed": false,
       "position": {
        "x": 545.5,
        "y": 35
       },
       "selectable": false
      }
     },
     "d3bb0837639c49dbbc91bb52ac010ab2": {
      "model_module": "jupyter-cytoscape",
      "model_module_version": "^1.3.3",
      "model_name": "EdgeModel",
      "state": {
       "_model_module_version": "^1.3.3",
       "_view_module_version": "^1.3.3",
       "classes": " directed ",
       "data": {
        "id": "b5aa16e9-8a7f-4d3e-b27e-51e27851d9a6",
        "source": "5770902011539803397",
        "target": "8269737304138431676"
       },
       "selectable": false
      }
     },
     "d44fe064323e4935991777d51cc0f9ec": {
      "model_module": "jupyter-cytoscape",
      "model_module_version": "^1.3.3",
      "model_name": "EdgeModel",
      "state": {
       "_model_module_version": "^1.3.3",
       "_view_module_version": "^1.3.3",
       "classes": " directed ",
       "data": {
        "id": "c7fa2630-1226-43ce-863d-c77cc11786d9",
        "source": "-7774238824614935172",
        "target": "6674197173341760747"
       },
       "selectable": false
      }
     },
     "d47e531bb4414fc695a6c341d7546b6d": {
      "model_module": "jupyter-cytoscape",
      "model_module_version": "^1.3.3",
      "model_name": "EdgeModel",
      "state": {
       "_model_module_version": "^1.3.3",
       "_view_module_version": "^1.3.3",
       "classes": " directed ",
       "data": {
        "id": "972ae1ab-a3d4-4266-b275-b3295a6c7bb2",
        "source": "-4142006978538430438",
        "target": "-5535500925816557137"
       },
       "selectable": false
      }
     },
     "d4b40dcb9f9d4202968c133ed9f890cb": {
      "model_module": "jupyter-cytoscape",
      "model_module_version": "^1.3.3",
      "model_name": "NodeModel",
      "state": {
       "_model_module_version": "^1.3.3",
       "_view_module_version": "^1.3.3",
       "data": {
        "color": "gray",
        "id": "3468729262034688261",
        "label": "",
        "shape": "rectangle"
       },
       "grabbable": true,
       "grabbed": false,
       "position": {
        "x": 545.5,
        "y": 995
       },
       "selectable": false
      }
     },
     "d4e3ae2432bf487dbb4606da107d911a": {
      "model_module": "jupyter-cytoscape",
      "model_module_version": "^1.3.3",
      "model_name": "NodeModel",
      "state": {
       "_model_module_version": "^1.3.3",
       "_view_module_version": "^1.3.3",
       "data": {
        "color": "gray",
        "id": "1906787091227986607",
        "label": "build_waves_multislice_detect",
        "shape": "ellipse"
       },
       "grabbable": true,
       "grabbed": false,
       "position": {
        "x": 545.5,
        "y": 395
       },
       "selectable": false
      }
     },
     "d51195f7d5de4f09ac195d4e1b4597d1": {
      "model_module": "jupyter-cytoscape",
      "model_module_version": "^1.3.3",
      "model_name": "EdgeModel",
      "state": {
       "_model_module_version": "^1.3.3",
       "_view_module_version": "^1.3.3",
       "classes": " directed ",
       "data": {
        "id": "05e8be57-4d57-4831-ba94-7eacf3a5fdde",
        "source": "-4960701632151528268",
        "target": "7373467053080033819"
       },
       "selectable": false
      }
     },
     "d525c9914c224ae589d564e022fa8b45": {
      "model_module": "jupyter-cytoscape",
      "model_module_version": "^1.3.3",
      "model_name": "EdgeModel",
      "state": {
       "_model_module_version": "^1.3.3",
       "_view_module_version": "^1.3.3",
       "classes": " directed ",
       "data": {
        "id": "ebdce8d0-5520-4011-88fb-394b283847d5",
        "source": "7414452363642142957",
        "target": "686702745058534688"
       },
       "selectable": false
      }
     },
     "d552bc74df674d1bbdf0a6f42b362e89": {
      "model_module": "jupyter-cytoscape",
      "model_module_version": "^1.3.3",
      "model_name": "EdgeModel",
      "state": {
       "_model_module_version": "^1.3.3",
       "_view_module_version": "^1.3.3",
       "classes": " directed ",
       "data": {
        "id": "258909f6-4d20-4632-b2fa-acd263d390ac",
        "source": "-1990049954266018190",
        "target": "4999036337073120268"
       },
       "selectable": false
      }
     },
     "d68cf92fd62b4ccf855226a42120cdbc": {
      "model_module": "jupyter-cytoscape",
      "model_module_version": "^1.3.3",
      "model_name": "EdgeModel",
      "state": {
       "_model_module_version": "^1.3.3",
       "_view_module_version": "^1.3.3",
       "classes": " directed ",
       "data": {
        "id": "e2207f23-22b2-4f4a-8db4-d6acbf59a8ca",
        "source": "-5176461502955895052",
        "target": "646271230671059670"
       },
       "selectable": false
      }
     },
     "d833713076d14165809552b10a067bbd": {
      "model_module": "jupyter-cytoscape",
      "model_module_version": "^1.3.3",
      "model_name": "CytoscapeModel",
      "state": {
       "_interaction_handlers": {},
       "_model_module_version": "^1.3.3",
       "_view_module_version": "^1.3.3",
       "auto_ungrabify": false,
       "autolock": false,
       "cytoscape_layout": {
        "edgeSep": 10,
        "name": "dagre",
        "nodeDimensionsIncludeLabels": true,
        "nodeSep": 10,
        "rankDir": "BT",
        "spacingFactor": 1
       },
       "cytoscape_style": [
        {
         "selector": "node",
         "style": {
          "background-color": "#eee",
          "border-color": "data(color)",
          "border-width": 4,
          "color": "black",
          "font-family": "helvetica",
          "font-size": "24px",
          "font-weight": "bold",
          "height": 64,
          "label": "data(label)",
          "opacity": "1.0",
          "shape": "data(shape)",
          "text-halign": "center",
          "text-valign": "center",
          "width": 64
         }
        },
        {
         "selector": "edge",
         "style": {
          "curve-style": "bezier",
          "line-color": "gray",
          "target-arrow-color": "gray",
          "target-arrow-shape": "triangle",
          "width": 8
         }
        }
       ],
       "desktop_tap_threshold": 4,
       "graph": "IPY_MODEL_1dbff2c8df2244f29d84cb3f0e03fed4",
       "headless": false,
       "hide_edges_on_viewport": false,
       "layout": "IPY_MODEL_cee932dc2f834edea3af5d540096f979",
       "max_zoom": 4,
       "min_zoom": 0.2,
       "motion_blur": false,
       "motion_blur_opacity": 0.2,
       "panning_enabled": true,
       "pixel_ratio": "auto",
       "rendered_position": {
        "renderedPosition": {
         "x": 100,
         "y": 100
        }
       },
       "selection_type": "single",
       "style_enabled": true,
       "texture_on_viewport": false,
       "tooltip_source": "tooltip",
       "touch_tap_threshold": 8,
       "user_panning_enabled": true,
       "user_zooming_enabled": true,
       "wheel_sensitivity": 0.1,
       "zoom": 2,
       "zooming_enabled": true
      }
     },
     "da6db75e342449eda6a60857ffb885ef": {
      "model_module": "jupyter-cytoscape",
      "model_module_version": "^1.3.3",
      "model_name": "NodeModel",
      "state": {
       "_model_module_version": "^1.3.3",
       "_view_module_version": "^1.3.3",
       "data": {
        "color": "gray",
        "id": "1906787091227986607",
        "label": "build_waves_multislice_detect",
        "shape": "ellipse"
       },
       "grabbable": true,
       "grabbed": false,
       "position": {
        "x": 912.5,
        "y": 1355
       },
       "selectable": false
      }
     },
     "db59df75f3d54afa9996ce5812bad952": {
      "model_module": "jupyter-cytoscape",
      "model_module_version": "^1.3.3",
      "model_name": "EdgeModel",
      "state": {
       "_model_module_version": "^1.3.3",
       "_view_module_version": "^1.3.3",
       "classes": " directed ",
       "data": {
        "id": "b649a7b3-c860-47f1-be00-c176aec3368c",
        "source": "7373467053080033819",
        "target": "7659000777708197229"
       },
       "selectable": false
      }
     },
     "db9e6c454a60488e9268e741f15e7235": {
      "model_module": "jupyter-cytoscape",
      "model_module_version": "^1.3.3",
      "model_name": "EdgeModel",
      "state": {
       "_model_module_version": "^1.3.3",
       "_view_module_version": "^1.3.3",
       "classes": " directed ",
       "data": {
        "id": "8a22ee1d-ddda-46d5-bd0d-ce3a404fe06f",
        "source": "686702745058534688",
        "target": "-4394686644387382699"
       },
       "selectable": false
      }
     },
     "dbd9275f29184a50a46da9832c89a022": {
      "model_module": "jupyter-cytoscape",
      "model_module_version": "^1.3.3",
      "model_name": "EdgeModel",
      "state": {
       "_model_module_version": "^1.3.3",
       "_view_module_version": "^1.3.3",
       "classes": " directed ",
       "data": {
        "id": "02309a71-733f-4b90-92e6-ddafb3726d13",
        "source": "-514865300278878683",
        "target": "6595320706530427294"
       },
       "selectable": false
      }
     },
     "dc6f95989559435f9f2ef9e0700ccffe": {
      "model_module": "jupyter-cytoscape",
      "model_module_version": "^1.3.3",
      "model_name": "CytoscapeModel",
      "state": {
       "_interaction_handlers": {},
       "_model_module_version": "^1.3.3",
       "_view_module_version": "^1.3.3",
       "auto_ungrabify": false,
       "autolock": false,
       "cytoscape_layout": {
        "edgeSep": 10,
        "name": "dagre",
        "nodeDimensionsIncludeLabels": true,
        "nodeSep": 10,
        "rankDir": "BT",
        "spacingFactor": 1
       },
       "cytoscape_style": [
        {
         "selector": "node",
         "style": {
          "background-color": "#eee",
          "border-color": "data(color)",
          "border-width": 4,
          "color": "black",
          "font-family": "helvetica",
          "font-size": "24px",
          "font-weight": "bold",
          "height": 64,
          "label": "data(label)",
          "opacity": "1.0",
          "shape": "data(shape)",
          "text-halign": "center",
          "text-valign": "center",
          "width": 64
         }
        },
        {
         "selector": "edge",
         "style": {
          "curve-style": "bezier",
          "line-color": "gray",
          "target-arrow-color": "gray",
          "target-arrow-shape": "triangle",
          "width": 8
         }
        }
       ],
       "desktop_tap_threshold": 4,
       "graph": "IPY_MODEL_52cc86dc9baf40a7a66cc21d71a60946",
       "headless": false,
       "hide_edges_on_viewport": false,
       "layout": "IPY_MODEL_e5430db2cbbd4ff5967411f5b1f54986",
       "max_zoom": 4,
       "min_zoom": 0.2,
       "motion_blur": false,
       "motion_blur_opacity": 0.2,
       "panning_enabled": true,
       "pixel_ratio": "auto",
       "rendered_position": {
        "renderedPosition": {
         "x": 100,
         "y": 100
        }
       },
       "selection_type": "single",
       "style_enabled": true,
       "texture_on_viewport": false,
       "tooltip_source": "tooltip",
       "touch_tap_threshold": 8,
       "user_panning_enabled": true,
       "user_zooming_enabled": true,
       "wheel_sensitivity": 0.1,
       "zoom": 2,
       "zooming_enabled": true
      }
     },
     "dca4707d5c30412f94852acc46162e45": {
      "model_module": "jupyter-cytoscape",
      "model_module_version": "^1.3.3",
      "model_name": "NodeModel",
      "state": {
       "_model_module_version": "^1.3.3",
       "_view_module_version": "^1.3.3",
       "data": {
        "color": "gray",
        "id": "6894621352095718232",
        "label": "(0, 0, 0)",
        "shape": "rectangle"
       },
       "grabbable": true,
       "grabbed": false,
       "position": {
        "x": 1279.5,
        "y": 995
       },
       "selectable": false
      }
     },
     "dce49731882245f2a47eaf58e00ed75c": {
      "model_module": "jupyter-cytoscape",
      "model_module_version": "^1.3.3",
      "model_name": "EdgeModel",
      "state": {
       "_model_module_version": "^1.3.3",
       "_view_module_version": "^1.3.3",
       "classes": " directed ",
       "data": {
        "id": "dbf0b2e7-8414-4b8b-adf9-594abdfc40a2",
        "source": "-1654381588457468551",
        "target": "-5492743395239258520"
       },
       "selectable": false
      }
     },
     "de99ce1bbd254633a669583cce650726": {
      "model_module": "jupyter-cytoscape",
      "model_module_version": "^1.3.3",
      "model_name": "NodeModel",
      "state": {
       "_model_module_version": "^1.3.3",
       "_view_module_version": "^1.3.3",
       "data": {
        "color": "gray",
        "id": "-5137768581019059302",
        "label": "build_waves_multislice_detect",
        "shape": "ellipse"
       },
       "grabbable": true,
       "grabbed": false,
       "position": {
        "x": 1279.5,
        "y": 395
       },
       "selectable": false
      }
     },
     "df9869516ab142e78de3a4842010978f": {
      "model_module": "jupyter-cytoscape",
      "model_module_version": "^1.3.3",
      "model_name": "NodeModel",
      "state": {
       "_model_module_version": "^1.3.3",
       "_view_module_version": "^1.3.3",
       "data": {
        "color": "gray",
        "id": "-4142006978538430438",
        "label": "(1, 0, 0)",
        "shape": "rectangle"
       },
       "grabbable": true,
       "grabbed": false,
       "position": {
        "x": 545.5,
        "y": 35
       },
       "selectable": false
      }
     },
     "dff89d08ac35402f9bfdbf9ba6d9cb4b": {
      "model_module": "jupyter-cytoscape",
      "model_module_version": "^1.3.3",
      "model_name": "EdgeModel",
      "state": {
       "_model_module_version": "^1.3.3",
       "_view_module_version": "^1.3.3",
       "classes": " directed ",
       "data": {
        "id": "2200207c-fad2-4881-aed7-652c3a425c40",
        "source": "-7060244074180223155",
        "target": "1635453754967427313"
       },
       "selectable": false
      }
     },
     "e0a361a3b3d344758d77e32a1f505480": {
      "model_module": "jupyter-cytoscape",
      "model_module_version": "^1.3.3",
      "model_name": "EdgeModel",
      "state": {
       "_model_module_version": "^1.3.3",
       "_view_module_version": "^1.3.3",
       "classes": " directed ",
       "data": {
        "id": "9eaa16f1-b09b-4e22-affa-ebe92ff29cbd",
        "source": "253292684875542408",
        "target": "9057938521965314385"
       },
       "selectable": false
      }
     },
     "e0a9a19efbe24ebfbe33efeddcc6a8c3": {
      "model_module": "jupyter-cytoscape",
      "model_module_version": "^1.3.3",
      "model_name": "EdgeModel",
      "state": {
       "_model_module_version": "^1.3.3",
       "_view_module_version": "^1.3.3",
       "classes": " directed ",
       "data": {
        "id": "614679ce-049e-4098-b2ef-5ff5e68eae96",
        "source": "4512465526039531484",
        "target": "2941552740694490346"
       },
       "selectable": false
      }
     },
     "e4452cae777b4899a9db0a11013d9f55": {
      "model_module": "jupyter-cytoscape",
      "model_module_version": "^1.3.3",
      "model_name": "NodeModel",
      "state": {
       "_model_module_version": "^1.3.3",
       "_view_module_version": "^1.3.3",
       "data": {
        "color": "gray",
        "id": "1430441280190961857",
        "label": "build_waves_multislice_detect",
        "shape": "ellipse"
       },
       "grabbable": true,
       "grabbed": false,
       "position": {
        "x": 178.5,
        "y": 395
       },
       "selectable": false
      }
     },
     "e4f7236be47a44bd9ba5ed767ff86e58": {
      "model_module": "jupyter-cytoscape",
      "model_module_version": "^1.3.3",
      "model_name": "NodeModel",
      "state": {
       "_model_module_version": "^1.3.3",
       "_view_module_version": "^1.3.3",
       "data": {
        "color": "gray",
        "id": "-5492743395239258520",
        "label": "frozen_phonon",
        "shape": "ellipse"
       },
       "grabbable": true,
       "grabbed": false,
       "position": {
        "x": 912.5,
        "y": 875
       },
       "selectable": false
      }
     },
     "e5051ef97c2a41b5920f344017838254": {
      "model_module": "jupyter-cytoscape",
      "model_module_version": "^1.3.3",
      "model_name": "EdgeModel",
      "state": {
       "_model_module_version": "^1.3.3",
       "_view_module_version": "^1.3.3",
       "classes": " directed ",
       "data": {
        "id": "1f48a06f-858c-4aa7-bfa5-89f4036f678a",
        "source": "-3784334010064751321",
        "target": "-968295496458242389"
       },
       "selectable": false
      }
     },
     "e5430db2cbbd4ff5967411f5b1f54986": {
      "model_module": "@jupyter-widgets/base",
      "model_module_version": "2.0.0",
      "model_name": "LayoutModel",
      "state": {
       "height": "400px"
      }
     },
     "e64d3ccaf82f43a5ba5f2733aee13913": {
      "model_module": "jupyter-cytoscape",
      "model_module_version": "^1.3.3",
      "model_name": "EdgeModel",
      "state": {
       "_model_module_version": "^1.3.3",
       "_view_module_version": "^1.3.3",
       "classes": " directed ",
       "data": {
        "id": "1ff63157-7ec7-4e99-8d8f-69e91e815c3d",
        "source": "-1435003415391699253",
        "target": "7204108902597820343"
       },
       "selectable": false
      }
     },
     "e7a24de7e4324b55bacf7a8539306cc0": {
      "model_module": "jupyter-cytoscape",
      "model_module_version": "^1.3.3",
      "model_name": "EdgeModel",
      "state": {
       "_model_module_version": "^1.3.3",
       "_view_module_version": "^1.3.3",
       "classes": " directed ",
       "data": {
        "id": "a148e648-2d75-4b64-99fa-89b7a2e7e309",
        "source": "787394039387308669",
        "target": "70335400962040206"
       },
       "selectable": false
      }
     },
     "e84733eab6a343b79c53b71172b60202": {
      "model_module": "jupyter-cytoscape",
      "model_module_version": "^1.3.3",
      "model_name": "EdgeModel",
      "state": {
       "_model_module_version": "^1.3.3",
       "_view_module_version": "^1.3.3",
       "classes": " directed ",
       "data": {
        "id": "f80337e7-e0c3-4347-bf35-82368dcd8c20",
        "source": "6595320706530427294",
        "target": "1635453754967427313"
       },
       "selectable": false
      }
     },
     "e850294830204eca8ae064c195f9a9e9": {
      "model_module": "jupyter-cytoscape",
      "model_module_version": "^1.3.3",
      "model_name": "NodeModel",
      "state": {
       "_model_module_version": "^1.3.3",
       "_view_module_version": "^1.3.3",
       "data": {
        "color": "gray",
        "id": "7224392823701828893",
        "label": "intensity",
        "shape": "ellipse"
       },
       "grabbable": true,
       "grabbed": false,
       "position": {
        "x": 178.5,
        "y": 875
       },
       "selectable": false
      }
     },
     "e86dd8ef2f1f48a998bcd96eda6634e4": {
      "model_module": "jupyter-cytoscape",
      "model_module_version": "^1.3.3",
      "model_name": "NodeModel",
      "state": {
       "_model_module_version": "^1.3.3",
       "_view_module_version": "^1.3.3",
       "data": {
        "color": "gray",
        "id": "6674197173341760747",
        "label": "build_waves_multislice_detect",
        "shape": "ellipse"
       },
       "grabbable": true,
       "grabbed": false,
       "position": {
        "x": 178.5,
        "y": 1355
       },
       "selectable": false
      }
     },
     "e8c600d10a0949aa9f3a2ef02b257fcc": {
      "model_module": "jupyter-cytoscape",
      "model_module_version": "^1.3.3",
      "model_name": "NodeModel",
      "state": {
       "_model_module_version": "^1.3.3",
       "_view_module_version": "^1.3.3",
       "data": {
        "color": "gray",
        "id": "-8772800443117616157",
        "label": "",
        "shape": "rectangle"
       },
       "grabbable": true,
       "grabbed": false,
       "position": {
        "x": 1279.5,
        "y": 1715
       },
       "selectable": false
      }
     },
     "e9566f8160ef4aee8d023a5a5f9c192c": {
      "model_module": "jupyter-cytoscape",
      "model_module_version": "^1.3.3",
      "model_name": "EdgeModel",
      "state": {
       "_model_module_version": "^1.3.3",
       "_view_module_version": "^1.3.3",
       "classes": " directed ",
       "data": {
        "id": "6ff251ac-61f2-4185-a638-2ca5a7946f4b",
        "source": "-7842351034382978714",
        "target": "-7897455085788643013"
       },
       "selectable": false
      }
     },
     "e988f69164f14877854bb9bc7be1669f": {
      "model_module": "jupyter-cytoscape",
      "model_module_version": "^1.3.3",
      "model_name": "GraphModel",
      "state": {
       "_adj": {
        "-1007997382385836856": {},
        "-1990049954266018190": {},
        "-2439695987622272384": {},
        "-281619292567069903": {},
        "-3043227251927298058": {},
        "-3097751337877783523": {},
        "-3513889689529199534": {},
        "-3669366013469121515": {},
        "-3784334010064751321": {},
        "-3974001774193630936": {},
        "-4142006978538430438": {},
        "-4719152330553950554": {},
        "-5137768581019059302": {},
        "-5176461502955895052": {},
        "-5718648920225083739": {},
        "-6453156669324187584": {},
        "-8772800443117616157": {},
        "-9213733272928956355": {},
        "-968295496458242389": {},
        "2941552740694490346": {},
        "3889774665686991523": {},
        "4512465526039531484": {},
        "466287461015598868": {},
        "4999036337073120268": {},
        "5485946648283365607": {},
        "5539345259643756036": {},
        "5770902011539803397": {},
        "646271230671059670": {},
        "686702745058534688": {},
        "70335400962040206": {},
        "7153911986773058095": {},
        "7414452363642142957": {},
        "787394039387308669": {},
        "8052341115441477187": {},
        "8269737304138431676": {},
        "9030963398314763956": {}
       },
       "_model_module_version": "^1.3.3",
       "_view_module": "jupyter-cytoscape",
       "_view_module_version": "^1.3.3",
       "edges": [
        "IPY_MODEL_d3bb0837639c49dbbc91bb52ac010ab2",
        "IPY_MODEL_817bd6826fee41f3a28264dd2d1c5984",
        "IPY_MODEL_a8222cafd80f4fdc913c4f5e36aca7dc",
        "IPY_MODEL_2585ec5b4bb545dfbac85a83ae6c7758",
        "IPY_MODEL_e7a24de7e4324b55bacf7a8539306cc0",
        "IPY_MODEL_fa2bdcb712244f4c9788f81e2809277c",
        "IPY_MODEL_b6c9a3b7c0c840d49ea74dedda8f9700",
        "IPY_MODEL_5e2073c9596f4e87b77ce7491a20a1e7",
        "IPY_MODEL_a0fb0010e2ae450396417f6cd87e09a4",
        "IPY_MODEL_bc0cac7c7f37429e92a85e3580202b35",
        "IPY_MODEL_3416df6c4932436d8b7bc61a35aff4d0",
        "IPY_MODEL_c1cf0ad2e09448e9b749b2b9e1473988",
        "IPY_MODEL_6a87b39c05ad4da99c5d1e5a1b85e03a",
        "IPY_MODEL_84a5a3ca56c548c8b1c6a36372d595e5",
        "IPY_MODEL_bfc2f5882f4f4e2aa9446e77da1e2e49",
        "IPY_MODEL_2b8a44c607e844f5b0d534269264f48f",
        "IPY_MODEL_e5051ef97c2a41b5920f344017838254",
        "IPY_MODEL_5607f0bf1c814ce59e522de54c943c06",
        "IPY_MODEL_2987b8ee3dd34ce49afd12539534919b",
        "IPY_MODEL_fd40da54532647bc8b361f059ae81565",
        "IPY_MODEL_ef94738ef09841a4af68443340b22e71",
        "IPY_MODEL_b6c6af73ae7b48108f3a51655312a9b7",
        "IPY_MODEL_c337a748b1bc44d5abda4c9bb8ca6e5b",
        "IPY_MODEL_bcef9f818f9b4be7a4b4991ffde6fbe7",
        "IPY_MODEL_d552bc74df674d1bbdf0a6f42b362e89",
        "IPY_MODEL_fcfcdd89449f4bd4973de0f1397bbc17",
        "IPY_MODEL_292c2cf46baf47138e80280730a98451",
        "IPY_MODEL_38cfbf8aa7c5451c96bc9971d15db63d",
        "IPY_MODEL_d525c9914c224ae589d564e022fa8b45",
        "IPY_MODEL_1cfbf314b12549c38b2ab1c00a853466",
        "IPY_MODEL_ece1c2e6bf5b464887110616a7456e07",
        "IPY_MODEL_ea274ef9df2c4306aa4133894df2914a"
       ],
       "nodes": [
        "IPY_MODEL_0a8fe0bae28e48cd922e7e247b4e60d4",
        "IPY_MODEL_6dce6fabb7f94350934d8c45da093d51",
        "IPY_MODEL_350d3055db8c412a88a9a26ba24f0eb5",
        "IPY_MODEL_2bf962c149524c15a80ba0b84f060d18",
        "IPY_MODEL_69cc894fdc8e4dccb0aba7500c268a3b",
        "IPY_MODEL_03e18e2386fc4399911f4bc9cfa114eb",
        "IPY_MODEL_fa459ae47596401cad94fbf85a7693e8",
        "IPY_MODEL_a5b765232f4a4017ab17d510919d375c",
        "IPY_MODEL_24a2872e5b6447f9bb86787f2361941c",
        "IPY_MODEL_07fb323039a54263ade4ebe8a95919c6",
        "IPY_MODEL_748067df9def4aacb56abf9d25e8d17b",
        "IPY_MODEL_25005c6e36864e09a9fe33c3d2bd6150",
        "IPY_MODEL_a9a8eb00e9744901814bead416a6ad55",
        "IPY_MODEL_cf387c0af87c4d58a0243acb460fae8c",
        "IPY_MODEL_c01f0c95767e42a48988cf9ab16cefc8",
        "IPY_MODEL_740a0408264f4cd7a8bc88b065d9bffb",
        "IPY_MODEL_ea02fd10d7d24a6bbe40ecb7d8861d60",
        "IPY_MODEL_24f0c44614524647bafe54d49f1f6687",
        "IPY_MODEL_1638bfd45e814e65ac84ecfe42af928f",
        "IPY_MODEL_9ae01c239f134e1b902c4bcb5e94f4b3",
        "IPY_MODEL_ed3b54cb28b34ea890b36211cddcd223",
        "IPY_MODEL_e999b2bf8da34cb4acdb440fc8287b3c",
        "IPY_MODEL_4cb3dab1fb5c4538bbbf263acf0d781a",
        "IPY_MODEL_c777cc25ad64403196bb72199b87c971",
        "IPY_MODEL_4081e7abcd4f4de3b689bf21f2e3cdff",
        "IPY_MODEL_43b4b65f84ea41f694df30323b927ff4",
        "IPY_MODEL_de99ce1bbd254633a669583cce650726",
        "IPY_MODEL_f02bad08593d4e4d80fa7ab0e375927d",
        "IPY_MODEL_a60c9a031a0d45b9a4f2c08a4513c7e3",
        "IPY_MODEL_ed8517665a9741f88359f8e03e9e0ad9",
        "IPY_MODEL_728853a2e5cd45ef89506164033fc81f",
        "IPY_MODEL_df9869516ab142e78de3a4842010978f",
        "IPY_MODEL_68e407ed3b134eeda9cd89c19cd1f828",
        "IPY_MODEL_06d6d32351be4c10a817886629b03893",
        "IPY_MODEL_a13705ffc6e44035ba006aaffef635be",
        "IPY_MODEL_3fd79680983b445b82f3783b050799ee"
       ]
      }
     },
     "e999b2bf8da34cb4acdb440fc8287b3c": {
      "model_module": "jupyter-cytoscape",
      "model_module_version": "^1.3.3",
      "model_name": "NodeModel",
      "state": {
       "_model_module_version": "^1.3.3",
       "_view_module_version": "^1.3.3",
       "data": {
        "color": "gray",
        "id": "-968295496458242389",
        "label": "0",
        "shape": "rectangle"
       },
       "grabbable": true,
       "grabbed": false,
       "position": {
        "x": 178.5,
        "y": 275
       },
       "selectable": false
      }
     },
     "e9c7c549754d45819d0b6fd5d51c24ce": {
      "model_module": "jupyter-cytoscape",
      "model_module_version": "^1.3.3",
      "model_name": "NodeModel",
      "state": {
       "_model_module_version": "^1.3.3",
       "_view_module_version": "^1.3.3",
       "data": {
        "color": "gray",
        "id": "-6173424750265132399",
        "label": "(0, 0, 0)",
        "shape": "rectangle"
       },
       "grabbable": true,
       "grabbed": false,
       "position": {
        "x": 912.5,
        "y": 755
       },
       "selectable": false
      }
     },
     "ea018c3b94eb443ebc4e7eda23f39be8": {
      "model_module": "jupyter-cytoscape",
      "model_module_version": "^1.3.3",
      "model_name": "GraphModel",
      "state": {
       "_adj": {},
       "_model_module_version": "^1.3.3",
       "_view_module": "jupyter-cytoscape",
       "_view_module_version": "^1.3.3"
      }
     },
     "ea02fd10d7d24a6bbe40ecb7d8861d60": {
      "model_module": "jupyter-cytoscape",
      "model_module_version": "^1.3.3",
      "model_name": "NodeModel",
      "state": {
       "_model_module_version": "^1.3.3",
       "_view_module_version": "^1.3.3",
       "data": {
        "color": "gray",
        "id": "466287461015598868",
        "label": "",
        "shape": "rectangle"
       },
       "grabbable": true,
       "grabbed": false,
       "position": {
        "x": 1279.5,
        "y": 995
       },
       "selectable": false
      }
     },
     "ea274ef9df2c4306aa4133894df2914a": {
      "model_module": "jupyter-cytoscape",
      "model_module_version": "^1.3.3",
      "model_name": "EdgeModel",
      "state": {
       "_model_module_version": "^1.3.3",
       "_view_module_version": "^1.3.3",
       "classes": " directed ",
       "data": {
        "id": "c69529be-25e2-47bb-ac15-476a20cdb889",
        "source": "7153911986773058095",
        "target": "4512465526039531484"
       },
       "selectable": false
      }
     },
     "ebe412d5dc9549839cb69ff405c2a83d": {
      "model_module": "jupyter-cytoscape",
      "model_module_version": "^1.3.3",
      "model_name": "EdgeModel",
      "state": {
       "_model_module_version": "^1.3.3",
       "_view_module_version": "^1.3.3",
       "classes": " directed ",
       "data": {
        "id": "f98a1229-ea8e-465b-b2eb-0f4ff69bb4a5",
        "source": "3168124302332281148",
        "target": "-4090489861449496843"
       },
       "selectable": false
      }
     },
     "ec422fd660c64e6c821a41c3a72815ba": {
      "model_module": "jupyter-cytoscape",
      "model_module_version": "^1.3.3",
      "model_name": "EdgeModel",
      "state": {
       "_model_module_version": "^1.3.3",
       "_view_module_version": "^1.3.3",
       "classes": " directed ",
       "data": {
        "id": "02218d49-e556-4f59-bb91-63f66c89b010",
        "source": "-8785389238120037428",
        "target": "-1496729250363816769"
       },
       "selectable": false
      }
     },
     "ece0a5cd82394b4495368b3954da3c94": {
      "model_module": "jupyter-cytoscape",
      "model_module_version": "^1.3.3",
      "model_name": "EdgeModel",
      "state": {
       "_model_module_version": "^1.3.3",
       "_view_module_version": "^1.3.3",
       "classes": " directed ",
       "data": {
        "id": "3e6790aa-a736-453a-b661-ae7ef509ba56",
        "source": "-5849489018844994964",
        "target": "6706417669297963179"
       },
       "selectable": false
      }
     },
     "ece1c2e6bf5b464887110616a7456e07": {
      "model_module": "jupyter-cytoscape",
      "model_module_version": "^1.3.3",
      "model_name": "EdgeModel",
      "state": {
       "_model_module_version": "^1.3.3",
       "_view_module_version": "^1.3.3",
       "classes": " directed ",
       "data": {
        "id": "f16b7d38-bb71-472e-821f-4430c729654e",
        "source": "4512465526039531484",
        "target": "2941552740694490346"
       },
       "selectable": false
      }
     },
     "ed3b54cb28b34ea890b36211cddcd223": {
      "model_module": "jupyter-cytoscape",
      "model_module_version": "^1.3.3",
      "model_name": "NodeModel",
      "state": {
       "_model_module_version": "^1.3.3",
       "_view_module_version": "^1.3.3",
       "data": {
        "color": "gray",
        "id": "-3784334010064751321",
        "label": "build_waves_multislice_detect",
        "shape": "ellipse"
       },
       "grabbable": true,
       "grabbed": false,
       "position": {
        "x": 178.5,
        "y": 395
       },
       "selectable": false
      }
     },
     "ed8517665a9741f88359f8e03e9e0ad9": {
      "model_module": "jupyter-cytoscape",
      "model_module_version": "^1.3.3",
      "model_name": "NodeModel",
      "state": {
       "_model_module_version": "^1.3.3",
       "_view_module_version": "^1.3.3",
       "data": {
        "color": "gray",
        "id": "4999036337073120268",
        "label": "(0, 0, 0)",
        "shape": "rectangle"
       },
       "grabbable": true,
       "grabbed": false,
       "position": {
        "x": 178.5,
        "y": 35
       },
       "selectable": false
      }
     },
     "ee9ec24b42f74e16b70e81755db1b37b": {
      "model_module": "jupyter-cytoscape",
      "model_module_version": "^1.3.3",
      "model_name": "EdgeModel",
      "state": {
       "_model_module_version": "^1.3.3",
       "_view_module_version": "^1.3.3",
       "classes": " directed ",
       "data": {
        "id": "775181a6-98f7-497c-8ef6-09af87778a2d",
        "source": "-5017009519483436480",
        "target": "-1435003415391699253"
       },
       "selectable": false
      }
     },
     "eeaf97f785dd43a9a4aaa1f8ee6e01c9": {
      "model_module": "jupyter-cytoscape",
      "model_module_version": "^1.3.3",
      "model_name": "NodeModel",
      "state": {
       "_model_module_version": "^1.3.3",
       "_view_module_version": "^1.3.3",
       "data": {
        "color": "gray",
        "id": "7153911986773058095",
        "label": "3",
        "shape": "rectangle"
       },
       "grabbable": true,
       "grabbed": false,
       "position": {
        "x": 545.5,
        "y": 1235
       },
       "selectable": false
      }
     },
     "ef94738ef09841a4af68443340b22e71": {
      "model_module": "jupyter-cytoscape",
      "model_module_version": "^1.3.3",
      "model_name": "EdgeModel",
      "state": {
       "_model_module_version": "^1.3.3",
       "_view_module_version": "^1.3.3",
       "classes": " directed ",
       "data": {
        "id": "b0f1ffe8-15c9-4406-b1ca-8813ab5969ed",
        "source": "-5176461502955895052",
        "target": "646271230671059670"
       },
       "selectable": false
      }
     },
     "eff423d8da6b4e879bdfd176d5c2db32": {
      "model_module": "jupyter-cytoscape",
      "model_module_version": "^1.3.3",
      "model_name": "EdgeModel",
      "state": {
       "_model_module_version": "^1.3.3",
       "_view_module_version": "^1.3.3",
       "classes": " directed ",
       "data": {
        "id": "4c81282a-d46d-446e-aa23-da94fdcce270",
        "source": "-4651654546458132597",
        "target": "110297387970176956"
       },
       "selectable": false
      }
     },
     "f00b6285e7554f94a3ecedf111232829": {
      "model_module": "jupyter-cytoscape",
      "model_module_version": "^1.3.3",
      "model_name": "NodeModel",
      "state": {
       "_model_module_version": "^1.3.3",
       "_view_module_version": "^1.3.3",
       "data": {
        "color": "gray",
        "id": "-5747337007406284833",
        "label": "(2, 0, 0)",
        "shape": "rectangle"
       },
       "grabbable": true,
       "grabbed": false,
       "position": {
        "x": 545.5,
        "y": 515
       },
       "selectable": false
      }
     },
     "f02bad08593d4e4d80fa7ab0e375927d": {
      "model_module": "jupyter-cytoscape",
      "model_module_version": "^1.3.3",
      "model_name": "NodeModel",
      "state": {
       "_model_module_version": "^1.3.3",
       "_view_module_version": "^1.3.3",
       "data": {
        "color": "gray",
        "id": "7153911986773058095",
        "label": "3",
        "shape": "rectangle"
       },
       "grabbable": true,
       "grabbed": false,
       "position": {
        "x": 1279.5,
        "y": 275
       },
       "selectable": false
      }
     },
     "f0a8b16b47924d9d861be17bb7f7d7b1": {
      "model_module": "jupyter-cytoscape",
      "model_module_version": "^1.3.3",
      "model_name": "EdgeModel",
      "state": {
       "_model_module_version": "^1.3.3",
       "_view_module_version": "^1.3.3",
       "classes": " directed ",
       "data": {
        "id": "f085dc3f-4ed3-476c-9701-5b6007c76b4e",
        "source": "6674197173341760747",
        "target": "-2277748482018039003"
       },
       "selectable": false
      }
     },
     "f1b58c87fc2d47d7ab1d509ee7553042": {
      "model_module": "jupyter-cytoscape",
      "model_module_version": "^1.3.3",
      "model_name": "NodeModel",
      "state": {
       "_model_module_version": "^1.3.3",
       "_view_module_version": "^1.3.3",
       "data": {
        "color": "gray",
        "id": "-5017009519483436480",
        "label": "mean_chunk",
        "shape": "ellipse"
       },
       "grabbable": true,
       "grabbed": false,
       "position": {
        "x": 1279.5,
        "y": 635
       },
       "selectable": false
      }
     },
     "f1c47fb3e30c4b0499633ffb1a1c8ac2": {
      "model_module": "jupyter-cytoscape",
      "model_module_version": "^1.3.3",
      "model_name": "CytoscapeModel",
      "state": {
       "_interaction_handlers": {},
       "_model_module_version": "^1.3.3",
       "_view_module_version": "^1.3.3",
       "auto_ungrabify": false,
       "autolock": false,
       "cytoscape_layout": {
        "edgeSep": 10,
        "name": "dagre",
        "nodeDimensionsIncludeLabels": true,
        "nodeSep": 10,
        "rankDir": "BT",
        "spacingFactor": 1
       },
       "cytoscape_style": [
        {
         "selector": "node",
         "style": {
          "background-color": "#eee",
          "border-color": "data(color)",
          "border-width": 4,
          "color": "black",
          "font-family": "helvetica",
          "font-size": "24px",
          "font-weight": "bold",
          "height": 64,
          "label": "data(label)",
          "opacity": "1.0",
          "shape": "data(shape)",
          "text-halign": "center",
          "text-valign": "center",
          "width": 64
         }
        },
        {
         "selector": "edge",
         "style": {
          "curve-style": "bezier",
          "line-color": "gray",
          "target-arrow-color": "gray",
          "target-arrow-shape": "triangle",
          "width": 8
         }
        }
       ],
       "desktop_tap_threshold": 4,
       "graph": "IPY_MODEL_6d2dcd9298974a7f9f007058842f2778",
       "headless": false,
       "hide_edges_on_viewport": false,
       "layout": "IPY_MODEL_d06f4ce904b44c748529aa75d1038eef",
       "max_zoom": 4,
       "min_zoom": 0.2,
       "motion_blur": false,
       "motion_blur_opacity": 0.2,
       "panning_enabled": true,
       "pixel_ratio": "auto",
       "rendered_position": {
        "renderedPosition": {
         "x": 100,
         "y": 100
        }
       },
       "selection_type": "single",
       "style_enabled": true,
       "texture_on_viewport": false,
       "tooltip_source": "tooltip",
       "touch_tap_threshold": 8,
       "user_panning_enabled": true,
       "user_zooming_enabled": true,
       "wheel_sensitivity": 0.1,
       "zoom": 2,
       "zooming_enabled": true
      }
     },
     "f1e3ddc4b60241c6b31b0e5e9f2a5d29": {
      "model_module": "jupyter-cytoscape",
      "model_module_version": "^1.3.3",
      "model_name": "EdgeModel",
      "state": {
       "_model_module_version": "^1.3.3",
       "_view_module_version": "^1.3.3",
       "classes": " directed ",
       "data": {
        "id": "e7be9b72-6353-489e-b613-9b9e09ff7d7d",
        "source": "-7897455085788643013",
        "target": "-1763413386809485687"
       },
       "selectable": false
      }
     },
     "f259ddbe99f44854aabb13b38a5f5720": {
      "model_module": "jupyter-cytoscape",
      "model_module_version": "^1.3.3",
      "model_name": "EdgeModel",
      "state": {
       "_model_module_version": "^1.3.3",
       "_view_module_version": "^1.3.3",
       "classes": " directed ",
       "data": {
        "id": "600b0788-308d-4d31-bda9-30d7bb95763d",
        "source": "-4342013693174255751",
        "target": "6948655148847684088"
       },
       "selectable": false
      }
     },
     "f2933d4173834dbaa1eb0cf757ffa9be": {
      "model_module": "jupyter-cytoscape",
      "model_module_version": "^1.3.3",
      "model_name": "NodeModel",
      "state": {
       "_model_module_version": "^1.3.3",
       "_view_module_version": "^1.3.3",
       "data": {
        "color": "gray",
        "id": "-4090489861449496843",
        "label": "",
        "shape": "rectangle"
       },
       "grabbable": true,
       "grabbed": false,
       "position": {
        "x": 178.5,
        "y": 1715
       },
       "selectable": false
      }
     },
     "f2d743271acc461d9b9e096551ac4c50": {
      "model_module": "jupyter-cytoscape",
      "model_module_version": "^1.3.3",
      "model_name": "EdgeModel",
      "state": {
       "_model_module_version": "^1.3.3",
       "_view_module_version": "^1.3.3",
       "classes": " directed ",
       "data": {
        "id": "15e05e33-93cb-41ae-bf50-ec060b715f27",
        "source": "-4960701632151528268",
        "target": "7373467053080033819"
       },
       "selectable": false
      }
     },
     "f2eb504bbbdf41a2afbd618cf0afe07a": {
      "model_module": "jupyter-cytoscape",
      "model_module_version": "^1.3.3",
      "model_name": "EdgeModel",
      "state": {
       "_model_module_version": "^1.3.3",
       "_view_module_version": "^1.3.3",
       "classes": " directed ",
       "data": {
        "id": "57132086-8133-4f92-a9bd-b6ebf127350c",
        "source": "8431394563296481231",
        "target": "4164864492992618019"
       },
       "selectable": false
      }
     },
     "f44f52b9f3d54d2cb1ec2bf6bdf7b164": {
      "model_module": "jupyter-cytoscape",
      "model_module_version": "^1.3.3",
      "model_name": "EdgeModel",
      "state": {
       "_model_module_version": "^1.3.3",
       "_view_module_version": "^1.3.3",
       "classes": " directed ",
       "data": {
        "id": "9dfcbb0d-7dcf-47af-9e0e-c2b476e980c0",
        "source": "-5395309586157896604",
        "target": "-3911083649879929357"
       },
       "selectable": false
      }
     },
     "f49bd3e417534b6c9f4c4831e6995fc8": {
      "model_module": "jupyter-cytoscape",
      "model_module_version": "^1.3.3",
      "model_name": "NodeModel",
      "state": {
       "_model_module_version": "^1.3.3",
       "_view_module_version": "^1.3.3",
       "data": {
        "color": "gray",
        "id": "8431394563296481231",
        "label": "0",
        "shape": "rectangle"
       },
       "grabbable": true,
       "grabbed": false,
       "position": {
        "x": 912.5,
        "y": 635
       },
       "selectable": false
      }
     },
     "f52aee4091554bacab341bce0732b1f3": {
      "model_module": "jupyter-cytoscape",
      "model_module_version": "^1.3.3",
      "model_name": "NodeModel",
      "state": {
       "_model_module_version": "^1.3.3",
       "_view_module_version": "^1.3.3",
       "data": {
        "color": "gray",
        "id": "7377629928802065019",
        "label": "(0, 0, 0)",
        "shape": "rectangle"
       },
       "grabbable": true,
       "grabbed": false,
       "position": {
        "x": 1096,
        "y": 275
       },
       "selectable": false
      }
     },
     "f65bb71fa68145e884b1106dc7d220ce": {
      "model_module": "jupyter-cytoscape",
      "model_module_version": "^1.3.3",
      "model_name": "NodeModel",
      "state": {
       "_model_module_version": "^1.3.3",
       "_view_module_version": "^1.3.3",
       "data": {
        "color": "gray",
        "id": "4512465526039531484",
        "label": "extract_measurement",
        "shape": "ellipse"
       },
       "grabbable": true,
       "grabbed": false,
       "position": {
        "x": 545.5,
        "y": 1115
       },
       "selectable": false
      }
     },
     "f6e381a112744c37b870fc69ffcc7454": {
      "model_module": "jupyter-cytoscape",
      "model_module_version": "^1.3.3",
      "model_name": "NodeModel",
      "state": {
       "_model_module_version": "^1.3.3",
       "_view_module_version": "^1.3.3",
       "data": {
        "color": "gray",
        "id": "-5849489018844994964",
        "label": "(1, 0, 0)",
        "shape": "rectangle"
       },
       "grabbable": true,
       "grabbed": false,
       "position": {
        "x": 912.5,
        "y": 755
       },
       "selectable": false
      }
     },
     "f7fa41ffe3ae4ecfb8db2e2eff000f8e": {
      "model_module": "jupyter-cytoscape",
      "model_module_version": "^1.3.3",
      "model_name": "EdgeModel",
      "state": {
       "_model_module_version": "^1.3.3",
       "_view_module_version": "^1.3.3",
       "classes": " directed ",
       "data": {
        "id": "21b82c77-c359-4b96-8834-c9254b1ca604",
        "source": "7859529992108293609",
        "target": "-7060244074180223155"
       },
       "selectable": false
      }
     },
     "f8401006dae646f3960982fe2297788c": {
      "model_module": "jupyter-cytoscape",
      "model_module_version": "^1.3.3",
      "model_name": "EdgeModel",
      "state": {
       "_model_module_version": "^1.3.3",
       "_view_module_version": "^1.3.3",
       "classes": " directed ",
       "data": {
        "id": "50bca853-bd82-4d91-b3a2-0aaa3a2630d5",
        "source": "-3669366013469121515",
        "target": "9030963398314763956"
       },
       "selectable": false
      }
     },
     "f883bf0cf00642358060c02f3f549307": {
      "model_module": "jupyter-cytoscape",
      "model_module_version": "^1.3.3",
      "model_name": "NodeModel",
      "state": {
       "_model_module_version": "^1.3.3",
       "_view_module_version": "^1.3.3",
       "data": {
        "color": "gray",
        "id": "7859529992108293609",
        "label": "mean_chunk",
        "shape": "ellipse"
       },
       "grabbable": true,
       "grabbed": false,
       "position": {
        "x": 178.5,
        "y": 635
       },
       "selectable": false
      }
     },
     "f97282e634334d5284582646d040e863": {
      "model_module": "jupyter-cytoscape",
      "model_module_version": "^1.3.3",
      "model_name": "EdgeModel",
      "state": {
       "_model_module_version": "^1.3.3",
       "_view_module_version": "^1.3.3",
       "classes": " directed ",
       "data": {
        "id": "64c8a18d-3b8c-4f18-8404-b0473a8a453e",
        "source": "-5492743395239258520",
        "target": "8953477370678605388"
       },
       "selectable": false
      }
     },
     "f9eb82ee28554e05ac576069b7134074": {
      "model_module": "jupyter-cytoscape",
      "model_module_version": "^1.3.3",
      "model_name": "EdgeModel",
      "state": {
       "_model_module_version": "^1.3.3",
       "_view_module_version": "^1.3.3",
       "classes": " directed ",
       "data": {
        "id": "a52ee862-395a-45c9-815b-b3268e839de8",
        "source": "-539004418580173323",
        "target": "253292684875542408"
       },
       "selectable": false
      }
     },
     "fa2bdcb712244f4c9788f81e2809277c": {
      "model_module": "jupyter-cytoscape",
      "model_module_version": "^1.3.3",
      "model_name": "EdgeModel",
      "state": {
       "_model_module_version": "^1.3.3",
       "_view_module_version": "^1.3.3",
       "classes": " directed ",
       "data": {
        "id": "172897d3-198a-43f9-b32f-35c165781e91",
        "source": "8052341115441477187",
        "target": "787394039387308669"
       },
       "selectable": false
      }
     },
     "fa32d7ea0e854defb0bf8f22e783c227": {
      "model_module": "jupyter-cytoscape",
      "model_module_version": "^1.3.3",
      "model_name": "EdgeModel",
      "state": {
       "_model_module_version": "^1.3.3",
       "_view_module_version": "^1.3.3",
       "classes": " directed ",
       "data": {
        "id": "2fc3ce65-0ffd-4ca5-bda6-1156f776318d",
        "source": "8431394563296481231",
        "target": "4164864492992618019"
       },
       "selectable": false
      }
     },
     "fa459ae47596401cad94fbf85a7693e8": {
      "model_module": "jupyter-cytoscape",
      "model_module_version": "^1.3.3",
      "model_name": "NodeModel",
      "state": {
       "_model_module_version": "^1.3.3",
       "_view_module_version": "^1.3.3",
       "data": {
        "color": "gray",
        "id": "70335400962040206",
        "label": "",
        "shape": "rectangle"
       },
       "grabbable": true,
       "grabbed": false,
       "position": {
        "x": 178.5,
        "y": 755
       },
       "selectable": false
      }
     },
     "faa9bd24574c4cbf8a772480b0222bac": {
      "model_module": "jupyter-cytoscape",
      "model_module_version": "^1.3.3",
      "model_name": "NodeModel",
      "state": {
       "_model_module_version": "^1.3.3",
       "_view_module_version": "^1.3.3",
       "data": {
        "color": "gray",
        "id": "7727355104669952924",
        "label": "intensity",
        "shape": "ellipse"
       },
       "grabbable": true,
       "grabbed": false,
       "position": {
        "x": 545.5,
        "y": 875
       },
       "selectable": false
      }
     },
     "fada07a99c1148828e50310f2712c7ec": {
      "model_module": "jupyter-cytoscape",
      "model_module_version": "^1.3.3",
      "model_name": "NodeModel",
      "state": {
       "_model_module_version": "^1.3.3",
       "_view_module_version": "^1.3.3",
       "data": {
        "color": "gray",
        "id": "-7753198747128251171",
        "label": "",
        "shape": "rectangle"
       },
       "grabbable": true,
       "grabbed": false,
       "position": {
        "x": 178.5,
        "y": 755
       },
       "selectable": false
      }
     },
     "faf374e55f2f4b4a84430fda148068bd": {
      "model_module": "jupyter-cytoscape",
      "model_module_version": "^1.3.3",
      "model_name": "EdgeModel",
      "state": {
       "_model_module_version": "^1.3.3",
       "_view_module_version": "^1.3.3",
       "classes": " directed ",
       "data": {
        "id": "fb9d1273-dc47-4bb5-a7d9-820965279a1f",
        "source": "-3784334010064751321",
        "target": "-968295496458242389"
       },
       "selectable": false
      }
     },
     "fc229945938c4122b31fd4a9a1a15d73": {
      "model_module": "jupyter-cytoscape",
      "model_module_version": "^1.3.3",
      "model_name": "NodeModel",
      "state": {
       "_model_module_version": "^1.3.3",
       "_view_module_version": "^1.3.3",
       "data": {
        "color": "gray",
        "id": "-1435003415391699253",
        "label": "(0, 0, 0)",
        "shape": "rectangle"
       },
       "grabbable": true,
       "grabbed": false,
       "position": {
        "x": 1279.5,
        "y": 515
       },
       "selectable": false
      }
     },
     "fc2ae34f461c4fb0811d4878f5729136": {
      "model_module": "jupyter-cytoscape",
      "model_module_version": "^1.3.3",
      "model_name": "EdgeModel",
      "state": {
       "_model_module_version": "^1.3.3",
       "_view_module_version": "^1.3.3",
       "classes": " directed ",
       "data": {
        "id": "c9b7a857-72ee-489c-92cb-372012da3ad2",
        "source": "1312704351904593476",
        "target": "7534941751265501657"
       },
       "selectable": false
      }
     },
     "fcecebf69fbe499ea0f13a229dbba0d7": {
      "model_module": "jupyter-cytoscape",
      "model_module_version": "^1.3.3",
      "model_name": "EdgeModel",
      "state": {
       "_model_module_version": "^1.3.3",
       "_view_module_version": "^1.3.3",
       "classes": " directed ",
       "data": {
        "id": "e365b83c-f1ef-4ff1-a02e-217bee9fdbdf",
        "source": "-3046620200366549385",
        "target": "-7774238824614935172"
       },
       "selectable": false
      }
     },
     "fcfcdd89449f4bd4973de0f1397bbc17": {
      "model_module": "jupyter-cytoscape",
      "model_module_version": "^1.3.3",
      "model_name": "EdgeModel",
      "state": {
       "_model_module_version": "^1.3.3",
       "_view_module_version": "^1.3.3",
       "classes": " directed ",
       "data": {
        "id": "91c5b9c5-7d6f-4051-80e6-2dc5836d25e8",
        "source": "-968295496458242389",
        "target": "-1990049954266018190"
       },
       "selectable": false
      }
     },
     "fd40da54532647bc8b361f059ae81565": {
      "model_module": "jupyter-cytoscape",
      "model_module_version": "^1.3.3",
      "model_name": "EdgeModel",
      "state": {
       "_model_module_version": "^1.3.3",
       "_view_module_version": "^1.3.3",
       "classes": " directed ",
       "data": {
        "id": "284b78ea-52ff-4ebe-905a-1fd984636963",
        "source": "-3669366013469121515",
        "target": "9030963398314763956"
       },
       "selectable": false
      }
     },
     "fd5018b283ab46599f3cf07da155890b": {
      "model_module": "jupyter-cytoscape",
      "model_module_version": "^1.3.3",
      "model_name": "NodeModel",
      "state": {
       "_model_module_version": "^1.3.3",
       "_view_module_version": "^1.3.3",
       "data": {
        "color": "gray",
        "id": "-5492743395239258520",
        "label": "frozen_phonon",
        "shape": "ellipse"
       },
       "grabbable": true,
       "grabbed": false,
       "position": {
        "x": 545.5,
        "y": 1835
       },
       "selectable": false
      }
     },
     "fd7da119d20c4d51a548b8e2586653d8": {
      "model_module": "jupyter-cytoscape",
      "model_module_version": "^1.3.3",
      "model_name": "EdgeModel",
      "state": {
       "_model_module_version": "^1.3.3",
       "_view_module_version": "^1.3.3",
       "classes": " directed ",
       "data": {
        "id": "2385b4a8-3d1e-4ccf-9dd1-dc42af192911",
        "source": "273113942956055643",
        "target": "8532731506836332662"
       },
       "selectable": false
      }
     },
     "fd853d0c99ad4d0f91aa0cc3d23a3bc3": {
      "model_module": "jupyter-cytoscape",
      "model_module_version": "^1.3.3",
      "model_name": "NodeModel",
      "state": {
       "_model_module_version": "^1.3.3",
       "_view_module_version": "^1.3.3",
       "data": {
        "color": "gray",
        "id": "8052341115441477187",
        "label": "",
        "shape": "rectangle"
       },
       "grabbable": true,
       "grabbed": false,
       "position": {
        "x": 912.5,
        "y": 1955
       },
       "selectable": false
      }
     },
     "fda5790c2883470cb6e220524fef27cc": {
      "model_module": "jupyter-cytoscape",
      "model_module_version": "^1.3.3",
      "model_name": "EdgeModel",
      "state": {
       "_model_module_version": "^1.3.3",
       "_view_module_version": "^1.3.3",
       "classes": " directed ",
       "data": {
        "id": "0d3cc704-437b-4eab-9699-3a8cd3f9ba1b",
        "source": "3468729262034688261",
        "target": "7532417986883261574"
       },
       "selectable": false
      }
     },
     "fe0afb44d5a94cc0b2862ff4cf4b7462": {
      "model_module": "jupyter-cytoscape",
      "model_module_version": "^1.3.3",
      "model_name": "NodeModel",
      "state": {
       "_model_module_version": "^1.3.3",
       "_view_module_version": "^1.3.3",
       "data": {
        "color": "gray",
        "id": "787394039387308669",
        "label": "frozen_phonon",
        "shape": "ellipse"
       },
       "grabbable": true,
       "grabbed": false,
       "position": {
        "x": 912.5,
        "y": 1835
       },
       "selectable": false
      }
     }
    },
    "version_major": 2,
    "version_minor": 0
   }
  }
 },
 "nbformat": 4,
 "nbformat_minor": 5
}
