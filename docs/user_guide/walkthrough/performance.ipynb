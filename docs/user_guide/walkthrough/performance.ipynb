{
 "cells": [
  {
   "cell_type": "code",
   "execution_count": 15,
   "id": "c8a68d55-5e9b-4bab-b324-05b89a56cecd",
   "metadata": {},
   "outputs": [],
   "source": [
    "import abtem\n",
    "from ase.build import bulk"
   ]
  },
  {
   "cell_type": "code",
   "execution_count": 16,
   "id": "a54350df-9097-4fe1-8b4d-1530ad0a82b6",
   "metadata": {},
   "outputs": [
    {
     "data": {
      "text/plain": [
       "<dask.config.set at 0x7f997c985d90>"
      ]
     },
     "execution_count": 16,
     "metadata": {},
     "output_type": "execute_result"
    }
   ],
   "source": [
    "abtem.config.set({\"fft\": \"fftw\"})"
   ]
  },
  {
   "cell_type": "markdown",
   "id": "2b2c74ed-dfb6-4426-898a-63110b6fb253",
   "metadata": {},
   "source": [
    "# Parallelization, Dask and GPUs\n",
    "\n",
    "The time cost of running multislice simulations can range from milliseconds to weeks depending on sample size, number of probe positions, inclusion of phonons and many other factors. Hence, it can be important to optimize your simulations. In abTEM, we try to make the default options as fast as possible, \n",
    "\n",
    "hence if you are running your code on a single machine the following instruction are not required. Nonetheless, it might be iteresting to understand how your code is parallelized, you might also gain some insights by trying different schedulers and using some of the diagnostic tools we introduce. If you are running abTEM on a distributed computing systems you should read on. \n",
    "\n",
    "If you are an experienced Dask user, most of what you already know can be applied to abTEM.\n",
    "\n",
    "abTEM utilizes Dask to attempt to make the best use of your hardware and speed up your calculation. However, . If you wish to  \n",
    "\n",
    "whether you are running it on a laptop or a high performance computing cluster. "
   ]
  },
  {
   "cell_type": "markdown",
   "id": "43b2aaf0-80a0-4058-99a2-faa12025ab42",
   "metadata": {},
   "source": [
    "## Basics of *Dask* in *abTEM*\n",
    "\n",
    "*abTEM* is built on [Dask Array](https://docs.dask.org/en/stable/array.html){cite}`dask`, hence most method calls in *abTEM* produces or modifies a *Dask* array behind the scenes. A *Dask* array is \"lazy\", this means that when we create it, we only create the tasks necessary for computing it, but those tasks are yet to run.\n",
    "\n",
    "Below we create the tasks for running the multislice algorithm many times with different frozen phonon configurations over a grid of initial scan positions. "
   ]
  },
  {
   "cell_type": "code",
   "execution_count": 21,
   "id": "5b9baf98-b088-4c6f-954d-8ae1a7d22c23",
   "metadata": {},
   "outputs": [
    {
     "data": {
      "text/plain": [
       "<abtem.waves.core.Waves object at 0x7f997bd5e970>\n",
       "-------------------------------------------------\n",
       "\n",
       "type               label           coordinates\n",
       "-----------------  --------------  -------------------\n",
       "FrozenPhononsAxis  Frozen phonons  -\n",
       "ScanAxis           x [Å]           0.00 0.41 ... 3.67\n",
       "ScanAxis           y [Å]           0.00 0.41 ... 3.67\n",
       "RealSpaceAxis      x [Å]           0.00 0.03 ... 16.29\n",
       "RealSpaceAxis      y [Å]           0.00 0.03 ... 16.29\n",
       "\n",
       "        bytes       shape                  count      type\n",
       "------  ----------  ---------------------  ---------  -------------\n",
       "array   1.56 GiB    (8, 10, 10, 512, 512)  100 tasks  complex64\n",
       "chunks  112.00 MiB  (1, 8, 7, 512, 512)    32 chunks  numpy.ndarray"
      ]
     },
     "execution_count": 21,
     "metadata": {},
     "output_type": "execute_result"
    }
   ],
   "source": [
    "atoms = bulk(\"Au\", cubic=True) * (4, 4, 1)\n",
    "\n",
    "fp = abtem.FrozenPhonons(atoms, num_configs=8, sigmas=0.1, ensemble_mean=False)\n",
    "\n",
    "potential = abtem.Potential(fp, gpts=512, slice_thickness=2)\n",
    "\n",
    "probe = abtem.Probe(energy=100e3, semiangle_cutoff=20)\n",
    "\n",
    "scan = abtem.GridScan.from_fractional_coordinates(\n",
    "    potential, start=(0, 0), end=(1 / 4, 1 / 4)\n",
    ")\n",
    "\n",
    "probes = probe.scan(potential, detectors=abtem.WavesDetector(), scan=scan)\n",
    "\n",
    "probes"
   ]
  },
  {
   "cell_type": "markdown",
   "id": "28998800-0b81-49f7-b3c6-79aa355cf3dc",
   "metadata": {},
   "source": [
    "The result is a 1d grid of phonon configurations of a 2d grid of probe positions of 2d wave functions, which can be represented as a 5d *Dask* array. "
   ]
  },
  {
   "cell_type": "code",
   "execution_count": 23,
   "id": "2e00f739-e47b-4101-b151-e28d82d675e0",
   "metadata": {},
   "outputs": [
    {
     "data": {
      "text/html": [
       "<table>\n",
       "<tr>\n",
       "<td>\n",
       "<table>\n",
       "  <thead>\n",
       "    <tr><td> </td><th> Array </th><th> Chunk </th></tr>\n",
       "  </thead>\n",
       "  <tbody>\n",
       "    <tr><th> Bytes </th><td> 1.56 GiB </td> <td> 112.00 MiB </td></tr>\n",
       "    <tr><th> Shape </th><td> (8, 10, 10, 512, 512) </td> <td> (1, 8, 7, 512, 512) </td></tr>\n",
       "    <tr><th> Count </th><td> 100 Tasks </td><td> 32 Chunks </td></tr>\n",
       "    <tr><th> Type </th><td> complex64 </td><td> numpy.ndarray </td></tr>\n",
       "  </tbody>\n",
       "</table>\n",
       "</td>\n",
       "<td>\n",
       "<svg width=\"382\" height=\"186\" style=\"stroke:rgb(0,0,0);stroke-width:1\" >\n",
       "\n",
       "  <!-- Horizontal lines -->\n",
       "  <line x1=\"0\" y1=\"0\" x2=\"28\" y2=\"0\" style=\"stroke-width:2\" />\n",
       "  <line x1=\"0\" y1=\"3\" x2=\"28\" y2=\"3\" />\n",
       "  <line x1=\"0\" y1=\"6\" x2=\"28\" y2=\"6\" />\n",
       "  <line x1=\"0\" y1=\"10\" x2=\"28\" y2=\"10\" />\n",
       "  <line x1=\"0\" y1=\"13\" x2=\"28\" y2=\"13\" />\n",
       "  <line x1=\"0\" y1=\"17\" x2=\"28\" y2=\"17\" />\n",
       "  <line x1=\"0\" y1=\"20\" x2=\"28\" y2=\"20\" />\n",
       "  <line x1=\"0\" y1=\"24\" x2=\"28\" y2=\"24\" />\n",
       "  <line x1=\"0\" y1=\"27\" x2=\"28\" y2=\"27\" style=\"stroke-width:2\" />\n",
       "\n",
       "  <!-- Vertical lines -->\n",
       "  <line x1=\"0\" y1=\"0\" x2=\"0\" y2=\"27\" style=\"stroke-width:2\" />\n",
       "  <line x1=\"23\" y1=\"0\" x2=\"23\" y2=\"27\" />\n",
       "  <line x1=\"28\" y1=\"0\" x2=\"28\" y2=\"27\" style=\"stroke-width:2\" />\n",
       "\n",
       "  <!-- Colored Rectangle -->\n",
       "  <polygon points=\"0.0,0.0 28.897464417751184,0.0 28.897464417751184,27.675387197907465 0.0,27.675387197907465\" style=\"fill:#ECB172A0;stroke-width:0\"/>\n",
       "\n",
       "  <!-- Text -->\n",
       "  <text x=\"14.448732\" y=\"47.675387\" font-size=\"1.0rem\" font-weight=\"100\" text-anchor=\"middle\" >10</text>\n",
       "  <text x=\"48.897464\" y=\"13.837694\" font-size=\"1.0rem\" font-weight=\"100\" text-anchor=\"middle\" transform=\"rotate(0,48.897464,13.837694)\">8</text>\n",
       "\n",
       "\n",
       "  <!-- Horizontal lines -->\n",
       "  <line x1=\"98\" y1=\"0\" x2=\"114\" y2=\"16\" style=\"stroke-width:2\" />\n",
       "  <line x1=\"98\" y1=\"120\" x2=\"114\" y2=\"136\" style=\"stroke-width:2\" />\n",
       "\n",
       "  <!-- Vertical lines -->\n",
       "  <line x1=\"98\" y1=\"0\" x2=\"98\" y2=\"120\" style=\"stroke-width:2\" />\n",
       "  <line x1=\"109\" y1=\"11\" x2=\"109\" y2=\"131\" />\n",
       "  <line x1=\"114\" y1=\"16\" x2=\"114\" y2=\"136\" style=\"stroke-width:2\" />\n",
       "\n",
       "  <!-- Colored Rectangle -->\n",
       "  <polygon points=\"98.0,0.0 114.99850848103011,16.998508481030107 114.99850848103011,136.99850848103011 98.0,120.0\" style=\"fill:#ECB172A0;stroke-width:0\"/>\n",
       "\n",
       "  <!-- Horizontal lines -->\n",
       "  <line x1=\"98\" y1=\"0\" x2=\"218\" y2=\"0\" style=\"stroke-width:2\" />\n",
       "  <line x1=\"109\" y1=\"11\" x2=\"229\" y2=\"11\" />\n",
       "  <line x1=\"114\" y1=\"16\" x2=\"234\" y2=\"16\" style=\"stroke-width:2\" />\n",
       "\n",
       "  <!-- Vertical lines -->\n",
       "  <line x1=\"98\" y1=\"0\" x2=\"114\" y2=\"16\" style=\"stroke-width:2\" />\n",
       "  <line x1=\"218\" y1=\"0\" x2=\"234\" y2=\"16\" style=\"stroke-width:2\" />\n",
       "\n",
       "  <!-- Colored Rectangle -->\n",
       "  <polygon points=\"98.0,0.0 218.0,0.0 234.99850848103011,16.998508481030107 114.99850848103011,16.998508481030107\" style=\"fill:#ECB172A0;stroke-width:0\"/>\n",
       "\n",
       "  <!-- Horizontal lines -->\n",
       "  <line x1=\"114\" y1=\"16\" x2=\"234\" y2=\"16\" style=\"stroke-width:2\" />\n",
       "  <line x1=\"114\" y1=\"136\" x2=\"234\" y2=\"136\" style=\"stroke-width:2\" />\n",
       "\n",
       "  <!-- Vertical lines -->\n",
       "  <line x1=\"114\" y1=\"16\" x2=\"114\" y2=\"136\" style=\"stroke-width:2\" />\n",
       "  <line x1=\"234\" y1=\"16\" x2=\"234\" y2=\"136\" style=\"stroke-width:2\" />\n",
       "\n",
       "  <!-- Colored Rectangle -->\n",
       "  <polygon points=\"114.99850848103011,16.998508481030107 234.99850848103011,16.998508481030107 234.99850848103011,136.99850848103011 114.99850848103011,136.99850848103011\" style=\"fill:#ECB172A0;stroke-width:0\"/>\n",
       "\n",
       "  <!-- Text -->\n",
       "  <text x=\"174.998508\" y=\"156.998508\" font-size=\"1.0rem\" font-weight=\"100\" text-anchor=\"middle\" >512</text>\n",
       "  <text x=\"254.998508\" y=\"76.998508\" font-size=\"1.0rem\" font-weight=\"100\" text-anchor=\"middle\" transform=\"rotate(-90,254.998508,76.998508)\">512</text>\n",
       "  <text x=\"96.499254\" y=\"148.499254\" font-size=\"1.0rem\" font-weight=\"100\" text-anchor=\"middle\" transform=\"rotate(45,96.499254,148.499254)\">10</text>\n",
       "</svg>\n",
       "</td>\n",
       "</tr>\n",
       "</table>"
      ],
      "text/plain": [
       "dask.array<_extract_measurement, shape=(8, 10, 10, 512, 512), dtype=complex64, chunksize=(1, 8, 7, 512, 512), chunktype=numpy.ndarray>"
      ]
     },
     "execution_count": 23,
     "metadata": {},
     "output_type": "execute_result"
    }
   ],
   "source": [
    "probes.array"
   ]
  },
  {
   "cell_type": "markdown",
   "id": "b9520ce9-67a1-4096-b0d5-08048be5dc21",
   "metadata": {},
   "source": [
    "The result takes up about 1.5 GB, this is not large enough to choke modern computers, hence we could compute it. However, if the simulation was larger this might not be true, hence we shall apply a reduction before computing. We can reduce the base wave function dimensions by applying "
   ]
  },
  {
   "cell_type": "code",
   "execution_count": 20,
   "id": "8664e8b2-4928-4c5e-bd48-fa854a465cec",
   "metadata": {},
   "outputs": [
    {
     "data": {
      "text/plain": [
       "<abtem.measurements.core.Images object at 0x7f997b0338d0>\n",
       "---------------------------------------------------------\n",
       "\n",
       "type           label    coordinates\n",
       "-------------  -------  ------------------\n",
       "RealSpaceAxis  x [Å]    0.00 0.41 ... 3.67\n",
       "RealSpaceAxis  y [Å]    0.00 0.41 ... 3.67\n",
       "\n",
       "        bytes    shape     count      type\n",
       "------  -------  --------  ---------  -------------\n",
       "array   400 B    (10, 10)  224 tasks  float32\n",
       "chunks  224 B    (8, 7)    4 chunks   numpy.ndarray"
      ]
     },
     "execution_count": 20,
     "metadata": {},
     "output_type": "execute_result"
    }
   ],
   "source": [
    "measurement = abtem.AnnularDetector(inner=50, outer=150).detect(build_probe).mean(0)\n",
    "measurement"
   ]
  },
  {
   "cell_type": "code",
   "execution_count": 8,
   "id": "83e3d1e8-ae93-428b-a907-286d09a08a91",
   "metadata": {},
   "outputs": [
    {
     "name": "stdout",
     "output_type": "stream",
     "text": [
      "[########################################] | 100% Completed | 11.7s\n"
     ]
    },
    {
     "data": {
      "text/plain": [
       "<abtem.measurements.core.Images object at 0x7f997b0338d0>\n",
       "---------------------------------------------------------\n",
       "\n",
       "type               label           coordinates\n",
       "-----------------  --------------  ------------------\n",
       "FrozenPhononsAxis  Frozen phonons  -\n",
       "RealSpaceAxis      x [Å]           0.00 0.41 ... 3.67\n",
       "RealSpaceAxis      y [Å]           0.00 0.41 ... 3.67\n",
       "\n",
       "        bytes     shape        count     type\n",
       "------  --------  -----------  --------  -------------\n",
       "array   3.12 kiB  (8, 10, 10)  -         float32\n",
       "chunks  -         -            - chunks  numpy.ndarray"
      ]
     },
     "execution_count": 8,
     "metadata": {},
     "output_type": "execute_result"
    }
   ],
   "source": [
    "\n",
    "measurement.compute()"
   ]
  },
  {
   "cell_type": "markdown",
   "id": "5e4e6db8-1659-48e5-a9d4-b2d4e265f95b",
   "metadata": {},
   "source": [
    "When accessing the `array` property we get the *Dask* array"
   ]
  },
  {
   "cell_type": "code",
   "execution_count": 6,
   "id": "58807176-b23b-405a-844f-b9d5b0d1bf6a",
   "metadata": {},
   "outputs": [
    {
     "data": {
      "text/plain": [
       "(<Figure size 432x288 with 2 Axes>, <Axes:xlabel='x [Å]', ylabel='y [Å]'>)"
      ]
     },
     "execution_count": 6,
     "metadata": {},
     "output_type": "execute_result"
    },
    {
     "data": {
      "image/png": "[encoded data removed]",
      "text/plain": [
       "<Figure size 432x288 with 2 Axes>"
      ]
     },
     "metadata": {
      "needs_background": "light"
     },
     "output_type": "display_data"
    }
   ],
   "source": [
    "measurement.show()"
   ]
  },
  {
   "cell_type": "markdown",
   "id": "c8167e51-1e8b-408d-9e08-ad00b6966ad5",
   "metadata": {},
   "source": [
    "The multislice algorithms requires running several interdependent tasks, we call this a [task graph](https://docs.dask.org/en/stable/graphs.html). All *abTEM* simulations runs by building a *Dask* task graph for the simulation, then executing that task graph using one of the *Dask* schedulers. \n",
    "\n",
    "### Scheduler overview\n",
    "\n",
    "Modern computers have multiple CPU cores which are capable of performing independent tasks in parallel. When execute `compute` one of the *Dask* schedulers will assign your available computing resources to unfinished tasks, until all the required tasks for your simulation are finished, then your result is returned. "
   ]
  },
  {
   "cell_type": "code",
   "execution_count": 10,
   "id": "74a527c0-308a-4c4f-9b43-b0527b878f5a",
   "metadata": {},
   "outputs": [
    {
     "name": "stdout",
     "output_type": "stream",
     "text": [
      "[########################################] | 100% Completed |  0.7s\n"
     ]
    }
   ],
   "source": [
    "build_probe.compute();"
   ]
  },
  {
   "cell_type": "markdown",
   "id": "2073edcd-e205-41f2-a2c7-fe3cf7f7f2d4",
   "metadata": {},
   "source": [
    "For most cases, the default settings are good choices. However, sometimes you may want to use different *Dask* scheduler. Every keyword argument provided to the `compute` method in *abTEM* are forwarded to *Dask*. Hence, everything described in [*Dask*s scheduler overview](https://docs.dask.org/en/stable/scheduler-overview.html) also applies to *abTEM*. For example, we can use the scheduler keyword."
   ]
  },
  {
   "cell_type": "code",
   "execution_count": 13,
   "id": "60ea9b14-6c9d-4460-913f-7c4af5935fa7",
   "metadata": {},
   "outputs": [
    {
     "name": "stdout",
     "output_type": "stream",
     "text": [
      "[########################################] | 100% Completed |  8.3s\n"
     ]
    }
   ],
   "source": [
    "probe.multislice(fp).compute(scheduler=\"processes\");"
   ]
  },
  {
   "cell_type": "markdown",
   "id": "ac7d9e40-fc33-4179-8ad3-a8b520ed734c",
   "metadata": {},
   "source": [
    "Using `abtem.config.set` this can be used either as a context manager, or to set the scheduler globally."
   ]
  },
  {
   "cell_type": "code",
   "execution_count": 16,
   "id": "b42cd049-4176-47b7-8edc-e277aa131557",
   "metadata": {},
   "outputs": [
    {
     "name": "stdout",
     "output_type": "stream",
     "text": [
      "[########################################] | 100% Completed |  7.7s\n",
      "[########################################] | 100% Completed |  7.5s\n"
     ]
    },
    {
     "data": {
      "text/plain": [
       "<abtem.waves.core.Waves object at 0x7fd9a9514cb0>\n",
       "-------------------------------------------------\n",
       "\n",
       "type               label           coordinates\n",
       "-----------------  --------------  -------------------\n",
       "FrozenPhononsAxis  Frozen phonons  -\n",
       "RealSpaceAxis      x [Å]           0.00 0.08 ... 40.72\n",
       "RealSpaceAxis      y [Å]           0.00 0.08 ... 40.72\n",
       "\n",
       "        bytes     shape          count     type\n",
       "------  --------  -------------  --------  -------------\n",
       "array   4.00 MiB  (2, 512, 512)  -         complex64\n",
       "chunks  -         -              - chunks  numpy.ndarray"
      ]
     },
     "execution_count": 16,
     "metadata": {},
     "output_type": "execute_result"
    }
   ],
   "source": [
    "# As a context manager\n",
    "with abtem.config.set(scheduler=\"processes\"):\n",
    "    probe.multislice(fp).compute()\n",
    "\n",
    "# Set globally\n",
    "abtem.config.set(scheduler=\"processes\")\n",
    "probe.multislice(fp).compute();"
   ]
  },
  {
   "cell_type": "markdown",
   "id": "d9fd15b2-820d-49e3-a245-3467c0345d05",
   "metadata": {},
   "source": [
    "Additionally, each scheduler may take a few extra keywords specific to that scheduler. For example, the multiprocessing and threaded schedulers each take a num_workers keyword, which sets the number of processes or threads to use (defaults to number of cores). This can be set by passing the keyword when calling compute:"
   ]
  },
  {
   "cell_type": "markdown",
   "id": "64cd726b-de7f-4639-b2f4-9ea1d3e47f05",
   "metadata": {},
   "source": [
    "### Dask distributed \n",
    "\n",
    "everything below may also be used , the Dask distributed scheduler provides a great diagnostic tool\n",
    "YOu can \n",
    "\n",
    "Since *abTEM* just creates a *Dask* task graph, \n",
    "\n",
    "\n",
    "\n"
   ]
  },
  {
   "cell_type": "code",
   "execution_count": null,
   "id": "624c4b14-e73d-4810-894c-9e4349caac08",
   "metadata": {},
   "outputs": [],
   "source": [
    "This happens automatically, however, to get \n",
    "\n",
    "if you are running simulations, you may want \n",
    "\n",
    "On a local system (a laptop or desktop), your calculation is parallelized automatically. Nonetheless, it is possible that your calculation runs faster using a distributed scheduler, this will also provide \n",
    "\n",
    "\n",
    "Nonetheless, you may benefit from knowing about , on larger systems (e.g. HPC clusters), it is necessary.\n",
    "\n",
    "*abTEM* uses the \n",
    "\n",
    "as *abTEM\n",
    "\n",
    "\n",
    "https://docs.dask.org/en/stable/scheduling.html\n",
    "\n",
    "Parallel computation in abTEM whether it is running on a laptop or a High Performance Computing cluster is parallelized through . \n",
    "\n",
    "Some knowledge of Dask may be required to run abTEM effectively on large multi-CPU/GPU systems, however, if you are just running abTEM on your own computer, this tutorial gets you started. If you want a quick introduction to Dask, we recommend thishttps://www.youtube.com/watch?v=nnndxbr_Xq4&t=66s) short youtube video."
   ]
  },
  {
   "cell_type": "code",
   "execution_count": null,
   "id": "708c1f0d-1fb3-4d1a-aa07-ae5403295056",
   "metadata": {},
   "outputs": [],
   "source": []
  },
  {
   "cell_type": "markdown",
   "id": "e39cb8d2-a898-478d-9831-275ac5f2f06b",
   "metadata": {},
   "source": [
    "## GPUs\n",
    "\n",
    "Almost every part of *abTEM* is implemented on GPU using the `CuPy` library. If you have a single GPU and a working installation of CuPy, you can use your GPU by changing the configs as below:"
   ]
  },
  {
   "cell_type": "code",
   "execution_count": 12,
   "id": "4bbe27f1-65b2-48cf-8a96-c0da5c91b094",
   "metadata": {},
   "outputs": [
    {
     "data": {
      "text/plain": [
       "<dask.config.set at 0x7fbb6cca5580>"
      ]
     },
     "execution_count": 12,
     "metadata": {},
     "output_type": "execute_result"
    }
   ],
   "source": [
    "abtem.config.set({\"device\": \"gpu\"})"
   ]
  },
  {
   "cell_type": "markdown",
   "id": "c1f0c01e-785c-4e74-b3cb-610ee463e082",
   "metadata": {},
   "source": [
    "### Multiple GPUs\n"
   ]
  },
  {
   "cell_type": "markdown",
   "id": "8fb55621-1727-438b-ad12-f881c9a3274a",
   "metadata": {},
   "source": [
    "## Memory"
   ]
  }
 ],
 "metadata": {
  "kernelspec": {
   "display_name": "abtem-dask",
   "language": "python",
   "name": "abtem-dask"
  },
  "language_info": {
   "codemirror_mode": {
    "name": "ipython",
    "version": 3
   },
   "file_extension": ".py",
   "mimetype": "text/x-python",
   "name": "python",
   "nbconvert_exporter": "python",
   "pygments_lexer": "ipython3",
   "version": "3.8.10"
  }
 },
 "nbformat": 4,
 "nbformat_minor": 5
}
