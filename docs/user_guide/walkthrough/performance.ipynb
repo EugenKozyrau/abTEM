{
 "cells": [
  {
   "cell_type": "code",
   "execution_count": 1,
   "id": "c8a68d55-5e9b-4bab-b324-05b89a56cecd",
   "metadata": {
    "pycharm": {
     "name": "#%%\n"
    },
    "tags": [
     "hide-input"
    ]
   },
   "outputs": [],
   "source": [
    "import abtem\n",
    "import ase\n",
    "import dask\n",
    "from IPython.display import Image, display \n",
    "\n",
    "dask.config.set({\"array.svg.size\": 90});"
   ]
  },
  {
   "cell_type": "markdown",
   "id": "2b2c74ed-dfb6-4426-898a-63110b6fb253",
   "metadata": {
    "pycharm": {
     "name": "#%% md\n"
    },
    "tags": []
   },
   "source": [
    "# Parallelization and Dask\n",
    "\n",
    "The computational cost of running multislice simulations can grow large depending on the number of probe positions, phonons and many other factors. This cost can be mitigated by using parallelism. Much of the necessary work in abTEM is [embarrasingly parallel](https://en.wikipedia.org/wiki/Embarrassingly_parallel), for example, every probe position is independent, thus each CPU core may calculate a batch of positions independently, only requiring communication after finishing a run of the multislice algorithm. \n",
    "\n",
    "abTEM is parallelized using [Dask](https://www.dask.org/){cite}`dask`. Dask allows scaling from a single laptop to hundreds of nodes at high-performance computing (HPC) facilities with minimal changes to the code. \n",
    "\n",
    "In this document, we introduce how abTEM uses Dask, this is not required knowledge for running abTEM on a single machine, nonetheless, it may still help you optimize your simulations. If you are already an experienced Dask user, most of what you already know can be applied to using abTEM. If you are new to Dask you may benefit from watching [this introduction](https://www.youtube.com/watch?v=nnndxbr_Xq4) before continuing. We note that Dask is used in several other libraries in analysis of electron microscopy, for example, [hyperspy](https://hyperspy.org/), [libertem](https://libertem.github.io/LiberTEM/) and [py4DSTEM](https://py4dstem.readthedocs.io/en/latest/), hence, we think that you may benefit from knowing this library more generally."
   ]
  },
  {
   "cell_type": "markdown",
   "id": "43b2aaf0-80a0-4058-99a2-faa12025ab42",
   "metadata": {
    "pycharm": {
     "name": "#%% md\n"
    }
   },
   "source": [
    "## Task graphs\n",
    "\n",
    "Simulating TEM experiments requires executing multiple tasks where each task may depend on the output of previous tasks. In Dask this is represented as a [*task graph*](https://docs.dask.org/en/stable/graphs.html), where each task is a node with edges between nodes if the task is dependent on another task. The simulation result is obtained by executing each task (node) in the graph with a Dask scheduler on a single machine or a cluster."
   ]
  },
  {
   "cell_type": "code",
   "execution_count": 2,
   "id": "fe6765fb-d0ea-4c35-b5bf-2eaadee69b0b",
   "metadata": {
    "tags": [
     "remove-input"
    ]
   },
   "outputs": [
    {
     "data": {
      "text/html": [
       "<img src=\"https://docs.dask.org/en/stable/_images/dask-overview.svg\" width=\"600\"/>"
      ],
      "text/plain": [
       "<IPython.core.display.Image object>"
      ]
     },
     "metadata": {},
     "output_type": "display_data"
    }
   ],
   "source": [
    "display(\n",
    "    Image(url=\"https://docs.dask.org/en/stable/_images/dask-overview.svg\", width=600)\n",
    ")"
   ]
  },
  {
   "cell_type": "markdown",
   "id": "95b10156-ee85-4600-92ed-b9c7c398dbdc",
   "metadata": {},
   "source": [
    "Below we create the task graph for running a multislice simulation using plane waves with gold in the $\\left<100\\right>$ zone axis with 4 frozen phonons. We refer to previous walkthroughs for details. "
   ]
  },
  {
   "cell_type": "code",
   "execution_count": 3,
   "id": "60ba5ba0-0d6d-4ecb-8fdd-fa80316a579b",
   "metadata": {},
   "outputs": [],
   "source": [
    "atoms = ase.build.bulk(\"Au\", cubic=True) * (5, 5, 2)\n",
    "\n",
    "frozen_phonons = abtem.FrozenPhonons(\n",
    "    atoms, num_configs=4, sigmas=0.1, ensemble_mean=False\n",
    ")\n",
    "\n",
    "potential = abtem.Potential(frozen_phonons, gpts=512, slice_thickness=2)\n",
    "\n",
    "probe = abtem.PlaneWave(energy=200e3)\n",
    "\n",
    "exit_waves = probe.multislice(potential)"
   ]
  },
  {
   "cell_type": "markdown",
   "id": "cbc97cd9-2777-4ef4-a0c4-c020517b708e",
   "metadata": {},
   "source": [
    "The result is an ensemble of $4$ wave functions of shape $512\\times512$, which may be represented as a 3D array, where the first dimension represents the phonon ensemble and the last $2$ dimensions represents the 2d wave functions. \n",
    "\n",
    "As we have not executed the task graph yet, the wave functions are represented as a [Dask Array](https://docs.dask.org/en/stable/array.html). We can think of the Dask array as being composed of many smaller NumPy arrays, called *chunks*, and operations may be applied to each chunk rather than the full array. This enables: \n",
    "\n",
    "1. Parallelism over the chunks \n",
    "2. Representing a larger-than-memory array as many smaller arrays which each fits in memory\n",
    "\n",
    "The Dask array `__repr__` shows how the chunks are laid out."
   ]
  },
  {
   "cell_type": "code",
   "execution_count": 5,
   "id": "adc736d7-6ca1-47a7-baa5-eb6a9b0d69cb",
   "metadata": {},
   "outputs": [
    {
     "data": {
      "text/html": [
       "<table>\n",
       "    <tr>\n",
       "        <td>\n",
       "            <table>\n",
       "                <thead>\n",
       "                    <tr>\n",
       "                        <td> </td>\n",
       "                        <th> Array </th>\n",
       "                        <th> Chunk </th>\n",
       "                    </tr>\n",
       "                </thead>\n",
       "                <tbody>\n",
       "                    \n",
       "                    <tr>\n",
       "                        <th> Bytes </th>\n",
       "                        <td> 8.00 MiB </td>\n",
       "                        <td> 2.00 MiB </td>\n",
       "                    </tr>\n",
       "                    \n",
       "                    <tr>\n",
       "                        <th> Shape </th>\n",
       "                        <td> (4, 512, 512) </td>\n",
       "                        <td> (1, 512, 512) </td>\n",
       "                    </tr>\n",
       "                    <tr>\n",
       "                        <th> Count </th>\n",
       "                        <td> 15 Graph Layers </td>\n",
       "                        <td> 4 Chunks </td>\n",
       "                    </tr>\n",
       "                    <tr>\n",
       "                    <th> Type </th>\n",
       "                    <td> complex64 </td>\n",
       "                    <td> numpy.ndarray </td>\n",
       "                    </tr>\n",
       "                </tbody>\n",
       "            </table>\n",
       "        </td>\n",
       "        <td>\n",
       "        <svg width=\"161\" height=\"151\" style=\"stroke:rgb(0,0,0);stroke-width:1\" >\n",
       "\n",
       "  <!-- Horizontal lines -->\n",
       "  <line x1=\"10\" y1=\"0\" x2=\"21\" y2=\"11\" style=\"stroke-width:2\" />\n",
       "  <line x1=\"10\" y1=\"90\" x2=\"21\" y2=\"101\" style=\"stroke-width:2\" />\n",
       "\n",
       "  <!-- Vertical lines -->\n",
       "  <line x1=\"10\" y1=\"0\" x2=\"10\" y2=\"90\" style=\"stroke-width:2\" />\n",
       "  <line x1=\"12\" y1=\"2\" x2=\"12\" y2=\"92\" />\n",
       "  <line x1=\"15\" y1=\"5\" x2=\"15\" y2=\"95\" />\n",
       "  <line x1=\"18\" y1=\"8\" x2=\"18\" y2=\"98\" />\n",
       "  <line x1=\"21\" y1=\"11\" x2=\"21\" y2=\"101\" style=\"stroke-width:2\" />\n",
       "\n",
       "  <!-- Colored Rectangle -->\n",
       "  <polygon points=\"10.0,0.0 21.2114484623158,11.211448462315802 21.2114484623158,101.2114484623158 10.0,90.0\" style=\"fill:#ECB172A0;stroke-width:0\"/>\n",
       "\n",
       "  <!-- Horizontal lines -->\n",
       "  <line x1=\"10\" y1=\"0\" x2=\"100\" y2=\"0\" style=\"stroke-width:2\" />\n",
       "  <line x1=\"12\" y1=\"2\" x2=\"102\" y2=\"2\" />\n",
       "  <line x1=\"15\" y1=\"5\" x2=\"105\" y2=\"5\" />\n",
       "  <line x1=\"18\" y1=\"8\" x2=\"108\" y2=\"8\" />\n",
       "  <line x1=\"21\" y1=\"11\" x2=\"111\" y2=\"11\" style=\"stroke-width:2\" />\n",
       "\n",
       "  <!-- Vertical lines -->\n",
       "  <line x1=\"10\" y1=\"0\" x2=\"21\" y2=\"11\" style=\"stroke-width:2\" />\n",
       "  <line x1=\"100\" y1=\"0\" x2=\"111\" y2=\"11\" style=\"stroke-width:2\" />\n",
       "\n",
       "  <!-- Colored Rectangle -->\n",
       "  <polygon points=\"10.0,0.0 100.0,0.0 111.2114484623158,11.211448462315802 21.2114484623158,11.211448462315802\" style=\"fill:#ECB172A0;stroke-width:0\"/>\n",
       "\n",
       "  <!-- Horizontal lines -->\n",
       "  <line x1=\"21\" y1=\"11\" x2=\"111\" y2=\"11\" style=\"stroke-width:2\" />\n",
       "  <line x1=\"21\" y1=\"101\" x2=\"111\" y2=\"101\" style=\"stroke-width:2\" />\n",
       "\n",
       "  <!-- Vertical lines -->\n",
       "  <line x1=\"21\" y1=\"11\" x2=\"21\" y2=\"101\" style=\"stroke-width:2\" />\n",
       "  <line x1=\"111\" y1=\"11\" x2=\"111\" y2=\"101\" style=\"stroke-width:2\" />\n",
       "\n",
       "  <!-- Colored Rectangle -->\n",
       "  <polygon points=\"21.2114484623158,11.211448462315802 111.2114484623158,11.211448462315802 111.2114484623158,101.2114484623158 21.2114484623158,101.2114484623158\" style=\"fill:#ECB172A0;stroke-width:0\"/>\n",
       "\n",
       "  <!-- Text -->\n",
       "  <text x=\"66.211448\" y=\"121.211448\" font-size=\"1.0rem\" font-weight=\"100\" text-anchor=\"middle\" >512</text>\n",
       "  <text x=\"131.211448\" y=\"56.211448\" font-size=\"1.0rem\" font-weight=\"100\" text-anchor=\"middle\" transform=\"rotate(-90,131.211448,56.211448)\">512</text>\n",
       "  <text x=\"5.605724\" y=\"115.605724\" font-size=\"1.0rem\" font-weight=\"100\" text-anchor=\"middle\" transform=\"rotate(45,5.605724,115.605724)\">4</text>\n",
       "</svg>\n",
       "        </td>\n",
       "    </tr>\n",
       "</table>"
      ],
      "text/plain": [
       "dask.array<_extract_measurement, shape=(4, 512, 512), dtype=complex64, chunksize=(1, 512, 512), chunktype=numpy.ndarray>"
      ]
     },
     "execution_count": 5,
     "metadata": {},
     "output_type": "execute_result"
    }
   ],
   "source": [
    "exit_waves.array"
   ]
  },
  {
   "cell_type": "markdown",
   "id": "07d22d90-2701-4d3e-bc91-ab2260232950",
   "metadata": {},
   "source": [
    "We see that the Dask array has the shape `(4, 512, 512)` requiring 8 MB of memory, this is composed of chunks with a shape `(1, 512, 512)` requiring 2 MB each. We stress that the Dask array just represents a task graph, hence, memory is consumed only if it is computed.\n",
    "\n",
    "Each chunk of the Dask array created above represents a wave function for a frozen phonon configuration. This reflects that, in the multislice algorithm, each frozen phonon configuration is independent and may be calculated in parallel. On the other hand, we should not have chunks across wave functions because each part of the wave function is affected by every other part.\n",
    "\n",
    "We can visualize the task graph using Dasks [`visualize`](https://docs.dask.org/en/stable/graphviz.html) method. We see that the task graph consists of 4 fully independent branches, one for each frozen phonon.\n",
    "\n",
    "````{note}\n",
    "Drawing dask graphs with the cytoscape engine requires the `ipycytoscape` python library. To reproduce the result below you need to:\n",
    "```\n",
    "  python -m pip install ipycytoscape\n",
    "```\n",
    "and restart jupyter.\n",
    "````"
   ]
  },
  {
   "cell_type": "code",
   "execution_count": 6,
   "id": "45d463ae-c282-4710-a05c-0817cb996457",
   "metadata": {
    "tags": [
     "skip-test"
    ]
   },
   "outputs": [
    {
     "data": {
      "application/vnd.jupyter.widget-view+json": {
       "model_id": "c746323bc7354499a4775ed80c88d631",
       "version_major": 2,
       "version_minor": 0
      },
      "text/plain": [
       "CytoscapeWidget(cytoscape_layout={'name': 'dagre', 'rankDir': 'BT', 'nodeSep': 10, 'edgeSep': 10, 'spacingFact…"
      ]
     },
     "execution_count": 6,
     "metadata": {},
     "output_type": "execute_result"
    }
   ],
   "source": [
    "exit_waves.array.visualize(engine=\"cytoscape\")"
   ]
  },
  {
   "cell_type": "markdown",
   "id": "20d970c0-56e5-4066-b1d8-f6c71f59fb46",
   "metadata": {},
   "source": [
    "We usually take the mean across the frozen phonon dimension, thus, we end up with an image represented as a single chunk."
   ]
  },
  {
   "cell_type": "code",
   "execution_count": 7,
   "id": "907e3a1e-7132-4dc5-aa9b-bdeed01a6170",
   "metadata": {},
   "outputs": [
    {
     "data": {
      "text/html": [
       "<table>\n",
       "    <tr>\n",
       "        <td>\n",
       "            <table>\n",
       "                <thead>\n",
       "                    <tr>\n",
       "                        <td> </td>\n",
       "                        <th> Array </th>\n",
       "                        <th> Chunk </th>\n",
       "                    </tr>\n",
       "                </thead>\n",
       "                <tbody>\n",
       "                    \n",
       "                    <tr>\n",
       "                        <th> Bytes </th>\n",
       "                        <td> 1.00 MiB </td>\n",
       "                        <td> 1.00 MiB </td>\n",
       "                    </tr>\n",
       "                    \n",
       "                    <tr>\n",
       "                        <th> Shape </th>\n",
       "                        <td> (512, 512) </td>\n",
       "                        <td> (512, 512) </td>\n",
       "                    </tr>\n",
       "                    <tr>\n",
       "                        <th> Count </th>\n",
       "                        <td> 19 Graph Layers </td>\n",
       "                        <td> 1 Chunks </td>\n",
       "                    </tr>\n",
       "                    <tr>\n",
       "                    <th> Type </th>\n",
       "                    <td> float32 </td>\n",
       "                    <td> numpy.ndarray </td>\n",
       "                    </tr>\n",
       "                </tbody>\n",
       "            </table>\n",
       "        </td>\n",
       "        <td>\n",
       "        <svg width=\"140\" height=\"140\" style=\"stroke:rgb(0,0,0);stroke-width:1\" >\n",
       "\n",
       "  <!-- Horizontal lines -->\n",
       "  <line x1=\"0\" y1=\"0\" x2=\"90\" y2=\"0\" style=\"stroke-width:2\" />\n",
       "  <line x1=\"0\" y1=\"90\" x2=\"90\" y2=\"90\" style=\"stroke-width:2\" />\n",
       "\n",
       "  <!-- Vertical lines -->\n",
       "  <line x1=\"0\" y1=\"0\" x2=\"0\" y2=\"90\" style=\"stroke-width:2\" />\n",
       "  <line x1=\"90\" y1=\"0\" x2=\"90\" y2=\"90\" style=\"stroke-width:2\" />\n",
       "\n",
       "  <!-- Colored Rectangle -->\n",
       "  <polygon points=\"0.0,0.0 90.0,0.0 90.0,90.0 0.0,90.0\" style=\"fill:#ECB172A0;stroke-width:0\"/>\n",
       "\n",
       "  <!-- Text -->\n",
       "  <text x=\"45.000000\" y=\"110.000000\" font-size=\"1.0rem\" font-weight=\"100\" text-anchor=\"middle\" >512</text>\n",
       "  <text x=\"110.000000\" y=\"45.000000\" font-size=\"1.0rem\" font-weight=\"100\" text-anchor=\"middle\" transform=\"rotate(-90,110.000000,45.000000)\">512</text>\n",
       "</svg>\n",
       "        </td>\n",
       "    </tr>\n",
       "</table>"
      ],
      "text/plain": [
       "dask.array<mean_agg-aggregate, shape=(512, 512), dtype=float32, chunksize=(512, 512), chunktype=numpy.ndarray>"
      ]
     },
     "execution_count": 7,
     "metadata": {},
     "output_type": "execute_result"
    }
   ],
   "source": [
    "hrtem_image = exit_waves.intensity().mean(0)\n",
    "\n",
    "hrtem_image.array"
   ]
  },
  {
   "cell_type": "markdown",
   "id": "b9661725-7a20-44f6-8415-52489e91259b",
   "metadata": {},
   "source": [
    "Taking the mean across frozen phonon chunks requires communicating the exit wave function intensity. Showing the task graph we see how the branches are merged where the result have to be communicated between workers."
   ]
  },
  {
   "cell_type": "code",
   "execution_count": 8,
   "id": "27e8b98c-362e-4543-b6c2-e033a827143e",
   "metadata": {
    "tags": [
     "skip-test"
    ]
   },
   "outputs": [
    {
     "data": {
      "application/vnd.jupyter.widget-view+json": {
       "model_id": "0bb0d7ba30814fc093e1243cf8a8f5f0",
       "version_major": 2,
       "version_minor": 0
      },
      "text/plain": [
       "CytoscapeWidget(cytoscape_layout={'name': 'dagre', 'rankDir': 'BT', 'nodeSep': 10, 'edgeSep': 10, 'spacingFact…"
      ]
     },
     "execution_count": 8,
     "metadata": {},
     "output_type": "execute_result"
    }
   ],
   "source": [
    "hrtem_image.array.visualize(engine=\"cytoscape\")"
   ]
  },
  {
   "cell_type": "markdown",
   "id": "7dcdbfb7-41d3-49ff-995f-bf17f01a120f",
   "metadata": {},
   "source": [
    "## Chunks\n",
    "To futher explore the role of chunks in abTEM, we create the task graph for running a STEM simulation with gold in the $\\left<100\\right>$ zone axis with 4 frozen phonons. We do not immediately apply a detector, hence we obtain an ensemble of exit wave functions. "
   ]
  },
  {
   "cell_type": "code",
   "execution_count": 10,
   "id": "5b9baf98-b088-4c6f-954d-8ae1a7d22c23",
   "metadata": {
    "pycharm": {
     "name": "#%%\n"
    }
   },
   "outputs": [
    {
     "data": {
      "text/plain": [
       "type               label           coordinates\n",
       "-----------------  --------------  -------------------\n",
       "FrozenPhononsAxis  Frozen phonons  -\n",
       "ScanAxis           x [Å]           0.00 0.27 ... 3.81\n",
       "ScanAxis           y [Å]           0.00 0.27 ... 3.81\n",
       "RealSpaceAxis      x [Å]           0.00 0.04 ... 20.36\n",
       "RealSpaceAxis      y [Å]           0.00 0.04 ... 20.36"
      ]
     },
     "execution_count": 10,
     "metadata": {},
     "output_type": "execute_result"
    }
   ],
   "source": [
    "probe = abtem.Probe(energy=200e3, semiangle_cutoff=20)\n",
    "\n",
    "scan = abtem.GridScan.from_fractional_coordinates(\n",
    "    potential,\n",
    "    start=(0, 0),\n",
    "    end=(1 / 5, 1 / 5),\n",
    ")\n",
    "\n",
    "frozen_phonons = abtem.FrozenPhonons(\n",
    "    atoms, num_configs=4, sigmas=0.1, ensemble_mean=True\n",
    ")\n",
    "\n",
    "potential = abtem.Potential(frozen_phonons, gpts=512, slice_thickness=2)\n",
    "\n",
    "exit_waves_stem = probe.multislice(potential, scan=scan)\n",
    "\n",
    "exit_waves_stem.axes_metadata"
   ]
  },
  {
   "cell_type": "markdown",
   "id": "69036139-511e-482d-8f72-e66b71df0924",
   "metadata": {},
   "source": [
    "The wave functions are represented as a 5D Dask array, a 3D ensemble of 2D wave functions, the ensemble is composed of one phonon dimension and 2 scan dimensions, one for each of the $x$ and $y$ direction. \n",
    "\n",
    "The full array is of shape `(4, 15, 15, 512, 512)` requiring 1.76 GB of memory, this is cut into chunks of shape `(1, 8, 7, 512, 512)` of 112 MB. Hence, there is a total of $4 \\times 2 \\times 3 = 24$ chunks."
   ]
  },
  {
   "cell_type": "code",
   "execution_count": 11,
   "id": "0d0ab17b-53e3-4e79-856a-d734fe3c1cbe",
   "metadata": {},
   "outputs": [
    {
     "data": {
      "text/html": [
       "<table>\n",
       "    <tr>\n",
       "        <td>\n",
       "            <table>\n",
       "                <thead>\n",
       "                    <tr>\n",
       "                        <td> </td>\n",
       "                        <th> Array </th>\n",
       "                        <th> Chunk </th>\n",
       "                    </tr>\n",
       "                </thead>\n",
       "                <tbody>\n",
       "                    \n",
       "                    <tr>\n",
       "                        <th> Bytes </th>\n",
       "                        <td> 1.76 GiB </td>\n",
       "                        <td> 112.00 MiB </td>\n",
       "                    </tr>\n",
       "                    \n",
       "                    <tr>\n",
       "                        <th> Shape </th>\n",
       "                        <td> (4, 15, 15, 512, 512) </td>\n",
       "                        <td> (1, 8, 7, 512, 512) </td>\n",
       "                    </tr>\n",
       "                    <tr>\n",
       "                        <th> Count </th>\n",
       "                        <td> 17 Graph Layers </td>\n",
       "                        <td> 24 Chunks </td>\n",
       "                    </tr>\n",
       "                    <tr>\n",
       "                    <th> Type </th>\n",
       "                    <td> complex64 </td>\n",
       "                    <td> numpy.ndarray </td>\n",
       "                    </tr>\n",
       "                </tbody>\n",
       "            </table>\n",
       "        </td>\n",
       "        <td>\n",
       "        <svg width=\"339\" height=\"153\" style=\"stroke:rgb(0,0,0);stroke-width:1\" >\n",
       "\n",
       "  <!-- Horizontal lines -->\n",
       "  <line x1=\"0\" y1=\"0\" x2=\"23\" y2=\"0\" style=\"stroke-width:2\" />\n",
       "  <line x1=\"0\" y1=\"4\" x2=\"23\" y2=\"4\" />\n",
       "  <line x1=\"0\" y1=\"9\" x2=\"23\" y2=\"9\" />\n",
       "  <line x1=\"0\" y1=\"14\" x2=\"23\" y2=\"14\" />\n",
       "  <line x1=\"0\" y1=\"19\" x2=\"23\" y2=\"19\" style=\"stroke-width:2\" />\n",
       "\n",
       "  <!-- Vertical lines -->\n",
       "  <line x1=\"0\" y1=\"0\" x2=\"0\" y2=\"19\" style=\"stroke-width:2\" />\n",
       "  <line x1=\"12\" y1=\"0\" x2=\"12\" y2=\"19\" />\n",
       "  <line x1=\"23\" y1=\"0\" x2=\"23\" y2=\"19\" style=\"stroke-width:2\" />\n",
       "\n",
       "  <!-- Colored Rectangle -->\n",
       "  <polygon points=\"0.0,0.0 23.436469151419786,0.0 23.436469151419786,19.059462385936865 0.0,19.059462385936865\" style=\"fill:#ECB172A0;stroke-width:0\"/>\n",
       "\n",
       "  <!-- Text -->\n",
       "  <text x=\"11.718235\" y=\"39.059462\" font-size=\"1.0rem\" font-weight=\"100\" text-anchor=\"middle\" >15</text>\n",
       "  <text x=\"43.436469\" y=\"9.529731\" font-size=\"1.0rem\" font-weight=\"100\" text-anchor=\"middle\" transform=\"rotate(0,43.436469,9.529731)\">4</text>\n",
       "\n",
       "\n",
       "  <!-- Horizontal lines -->\n",
       "  <line x1=\"93\" y1=\"0\" x2=\"106\" y2=\"13\" style=\"stroke-width:2\" />\n",
       "  <line x1=\"93\" y1=\"90\" x2=\"106\" y2=\"103\" style=\"stroke-width:2\" />\n",
       "\n",
       "  <!-- Vertical lines -->\n",
       "  <line x1=\"93\" y1=\"0\" x2=\"93\" y2=\"90\" style=\"stroke-width:2\" />\n",
       "  <line x1=\"99\" y1=\"6\" x2=\"99\" y2=\"96\" />\n",
       "  <line x1=\"105\" y1=\"12\" x2=\"105\" y2=\"102\" />\n",
       "  <line x1=\"106\" y1=\"13\" x2=\"106\" y2=\"103\" style=\"stroke-width:2\" />\n",
       "\n",
       "  <!-- Colored Rectangle -->\n",
       "  <polygon points=\"93.0,0.0 106.78615832436458,13.78615832436458 106.78615832436458,103.78615832436458 93.0,90.0\" style=\"fill:#ECB172A0;stroke-width:0\"/>\n",
       "\n",
       "  <!-- Horizontal lines -->\n",
       "  <line x1=\"93\" y1=\"0\" x2=\"183\" y2=\"0\" style=\"stroke-width:2\" />\n",
       "  <line x1=\"99\" y1=\"6\" x2=\"189\" y2=\"6\" />\n",
       "  <line x1=\"105\" y1=\"12\" x2=\"195\" y2=\"12\" />\n",
       "  <line x1=\"106\" y1=\"13\" x2=\"196\" y2=\"13\" style=\"stroke-width:2\" />\n",
       "\n",
       "  <!-- Vertical lines -->\n",
       "  <line x1=\"93\" y1=\"0\" x2=\"106\" y2=\"13\" style=\"stroke-width:2\" />\n",
       "  <line x1=\"183\" y1=\"0\" x2=\"196\" y2=\"13\" style=\"stroke-width:2\" />\n",
       "\n",
       "  <!-- Colored Rectangle -->\n",
       "  <polygon points=\"93.0,0.0 183.0,0.0 196.78615832436458,13.78615832436458 106.78615832436458,13.78615832436458\" style=\"fill:#ECB172A0;stroke-width:0\"/>\n",
       "\n",
       "  <!-- Horizontal lines -->\n",
       "  <line x1=\"106\" y1=\"13\" x2=\"196\" y2=\"13\" style=\"stroke-width:2\" />\n",
       "  <line x1=\"106\" y1=\"103\" x2=\"196\" y2=\"103\" style=\"stroke-width:2\" />\n",
       "\n",
       "  <!-- Vertical lines -->\n",
       "  <line x1=\"106\" y1=\"13\" x2=\"106\" y2=\"103\" style=\"stroke-width:2\" />\n",
       "  <line x1=\"196\" y1=\"13\" x2=\"196\" y2=\"103\" style=\"stroke-width:2\" />\n",
       "\n",
       "  <!-- Colored Rectangle -->\n",
       "  <polygon points=\"106.78615832436458,13.78615832436458 196.78615832436458,13.78615832436458 196.78615832436458,103.78615832436458 106.78615832436458,103.78615832436458\" style=\"fill:#ECB172A0;stroke-width:0\"/>\n",
       "\n",
       "  <!-- Text -->\n",
       "  <text x=\"151.786158\" y=\"123.786158\" font-size=\"1.0rem\" font-weight=\"100\" text-anchor=\"middle\" >512</text>\n",
       "  <text x=\"216.786158\" y=\"58.786158\" font-size=\"1.0rem\" font-weight=\"100\" text-anchor=\"middle\" transform=\"rotate(-90,216.786158,58.786158)\">512</text>\n",
       "  <text x=\"89.893079\" y=\"116.893079\" font-size=\"1.0rem\" font-weight=\"100\" text-anchor=\"middle\" transform=\"rotate(45,89.893079,116.893079)\">15</text>\n",
       "</svg>\n",
       "        </td>\n",
       "    </tr>\n",
       "</table>"
      ],
      "text/plain": [
       "dask.array<_extract_measurement, shape=(4, 15, 15, 512, 512), dtype=complex64, chunksize=(1, 8, 7, 512, 512), chunktype=numpy.ndarray>"
      ]
     },
     "execution_count": 11,
     "metadata": {},
     "output_type": "execute_result"
    }
   ],
   "source": [
    "exit_waves_stem.array"
   ]
  },
  {
   "cell_type": "markdown",
   "id": "00985534-3b37-458c-9cba-e5f6c783f334",
   "metadata": {},
   "source": [
    "We do not make a chunk for every probe position, instead each chunk of the scan dimension represents a batch of wave functions. This is done partly to limit [the overhead](https://docs.dask.org/en/stable/best-practices.html#avoid-very-large-graphs) that every chunk comes with, more importantly, larger batches enables efficient thread parallelization within each run of the multislice algorithm.\n",
    "\n",
    "We can change how many wave functions each batch should have using the `max_batch` keyword. Below we set `max_batch=4`, resulting in a total number of $4 \\times 8 \\times 8 = 256$ chunks."
   ]
  },
  {
   "cell_type": "code",
   "execution_count": 13,
   "id": "b1f9437b-ed6a-4836-8e6c-daa0ae526b21",
   "metadata": {},
   "outputs": [
    {
     "data": {
      "text/html": [
       "<table>\n",
       "    <tr>\n",
       "        <td>\n",
       "            <table>\n",
       "                <thead>\n",
       "                    <tr>\n",
       "                        <td> </td>\n",
       "                        <th> Array </th>\n",
       "                        <th> Chunk </th>\n",
       "                    </tr>\n",
       "                </thead>\n",
       "                <tbody>\n",
       "                    \n",
       "                    <tr>\n",
       "                        <th> Bytes </th>\n",
       "                        <td> 1.76 GiB </td>\n",
       "                        <td> 8.00 MiB </td>\n",
       "                    </tr>\n",
       "                    \n",
       "                    <tr>\n",
       "                        <th> Shape </th>\n",
       "                        <td> (4, 15, 15, 512, 512) </td>\n",
       "                        <td> (1, 2, 2, 512, 512) </td>\n",
       "                    </tr>\n",
       "                    <tr>\n",
       "                        <th> Count </th>\n",
       "                        <td> 16 Graph Layers </td>\n",
       "                        <td> 256 Chunks </td>\n",
       "                    </tr>\n",
       "                    <tr>\n",
       "                    <th> Type </th>\n",
       "                    <td> complex64 </td>\n",
       "                    <td> numpy.ndarray </td>\n",
       "                    </tr>\n",
       "                </tbody>\n",
       "            </table>\n",
       "        </td>\n",
       "        <td>\n",
       "        <svg width=\"339\" height=\"153\" style=\"stroke:rgb(0,0,0);stroke-width:1\" >\n",
       "\n",
       "  <!-- Horizontal lines -->\n",
       "  <line x1=\"0\" y1=\"0\" x2=\"23\" y2=\"0\" style=\"stroke-width:2\" />\n",
       "  <line x1=\"0\" y1=\"4\" x2=\"23\" y2=\"4\" />\n",
       "  <line x1=\"0\" y1=\"9\" x2=\"23\" y2=\"9\" />\n",
       "  <line x1=\"0\" y1=\"14\" x2=\"23\" y2=\"14\" />\n",
       "  <line x1=\"0\" y1=\"19\" x2=\"23\" y2=\"19\" style=\"stroke-width:2\" />\n",
       "\n",
       "  <!-- Vertical lines -->\n",
       "  <line x1=\"0\" y1=\"0\" x2=\"0\" y2=\"19\" style=\"stroke-width:2\" />\n",
       "  <line x1=\"3\" y1=\"0\" x2=\"3\" y2=\"19\" />\n",
       "  <line x1=\"6\" y1=\"0\" x2=\"6\" y2=\"19\" />\n",
       "  <line x1=\"9\" y1=\"0\" x2=\"9\" y2=\"19\" />\n",
       "  <line x1=\"12\" y1=\"0\" x2=\"12\" y2=\"19\" />\n",
       "  <line x1=\"15\" y1=\"0\" x2=\"15\" y2=\"19\" />\n",
       "  <line x1=\"18\" y1=\"0\" x2=\"18\" y2=\"19\" />\n",
       "  <line x1=\"21\" y1=\"0\" x2=\"21\" y2=\"19\" />\n",
       "  <line x1=\"23\" y1=\"0\" x2=\"23\" y2=\"19\" style=\"stroke-width:2\" />\n",
       "\n",
       "  <!-- Colored Rectangle -->\n",
       "  <polygon points=\"0.0,0.0 23.436469151419786,0.0 23.436469151419786,19.059462385936865 0.0,19.059462385936865\" style=\"fill:#ECB172A0;stroke-width:0\"/>\n",
       "\n",
       "  <!-- Text -->\n",
       "  <text x=\"11.718235\" y=\"39.059462\" font-size=\"1.0rem\" font-weight=\"100\" text-anchor=\"middle\" >15</text>\n",
       "  <text x=\"43.436469\" y=\"9.529731\" font-size=\"1.0rem\" font-weight=\"100\" text-anchor=\"middle\" transform=\"rotate(0,43.436469,9.529731)\">4</text>\n",
       "\n",
       "\n",
       "  <!-- Horizontal lines -->\n",
       "  <line x1=\"93\" y1=\"0\" x2=\"106\" y2=\"13\" style=\"stroke-width:2\" />\n",
       "  <line x1=\"93\" y1=\"90\" x2=\"106\" y2=\"103\" style=\"stroke-width:2\" />\n",
       "\n",
       "  <!-- Vertical lines -->\n",
       "  <line x1=\"93\" y1=\"0\" x2=\"93\" y2=\"90\" style=\"stroke-width:2\" />\n",
       "  <line x1=\"94\" y1=\"1\" x2=\"94\" y2=\"91\" />\n",
       "  <line x1=\"96\" y1=\"3\" x2=\"96\" y2=\"93\" />\n",
       "  <line x1=\"98\" y1=\"5\" x2=\"98\" y2=\"95\" />\n",
       "  <line x1=\"100\" y1=\"7\" x2=\"100\" y2=\"97\" />\n",
       "  <line x1=\"102\" y1=\"9\" x2=\"102\" y2=\"99\" />\n",
       "  <line x1=\"104\" y1=\"11\" x2=\"104\" y2=\"101\" />\n",
       "  <line x1=\"105\" y1=\"12\" x2=\"105\" y2=\"102\" />\n",
       "  <line x1=\"106\" y1=\"13\" x2=\"106\" y2=\"103\" style=\"stroke-width:2\" />\n",
       "\n",
       "  <!-- Colored Rectangle -->\n",
       "  <polygon points=\"93.0,0.0 106.78615832436458,13.78615832436458 106.78615832436458,103.78615832436458 93.0,90.0\" style=\"fill:#ECB172A0;stroke-width:0\"/>\n",
       "\n",
       "  <!-- Horizontal lines -->\n",
       "  <line x1=\"93\" y1=\"0\" x2=\"183\" y2=\"0\" style=\"stroke-width:2\" />\n",
       "  <line x1=\"94\" y1=\"1\" x2=\"184\" y2=\"1\" />\n",
       "  <line x1=\"96\" y1=\"3\" x2=\"186\" y2=\"3\" />\n",
       "  <line x1=\"98\" y1=\"5\" x2=\"188\" y2=\"5\" />\n",
       "  <line x1=\"100\" y1=\"7\" x2=\"190\" y2=\"7\" />\n",
       "  <line x1=\"102\" y1=\"9\" x2=\"192\" y2=\"9\" />\n",
       "  <line x1=\"104\" y1=\"11\" x2=\"194\" y2=\"11\" />\n",
       "  <line x1=\"105\" y1=\"12\" x2=\"195\" y2=\"12\" />\n",
       "  <line x1=\"106\" y1=\"13\" x2=\"196\" y2=\"13\" style=\"stroke-width:2\" />\n",
       "\n",
       "  <!-- Vertical lines -->\n",
       "  <line x1=\"93\" y1=\"0\" x2=\"106\" y2=\"13\" style=\"stroke-width:2\" />\n",
       "  <line x1=\"183\" y1=\"0\" x2=\"196\" y2=\"13\" style=\"stroke-width:2\" />\n",
       "\n",
       "  <!-- Colored Rectangle -->\n",
       "  <polygon points=\"93.0,0.0 183.0,0.0 196.78615832436458,13.78615832436458 106.78615832436458,13.78615832436458\" style=\"fill:#ECB172A0;stroke-width:0\"/>\n",
       "\n",
       "  <!-- Horizontal lines -->\n",
       "  <line x1=\"106\" y1=\"13\" x2=\"196\" y2=\"13\" style=\"stroke-width:2\" />\n",
       "  <line x1=\"106\" y1=\"103\" x2=\"196\" y2=\"103\" style=\"stroke-width:2\" />\n",
       "\n",
       "  <!-- Vertical lines -->\n",
       "  <line x1=\"106\" y1=\"13\" x2=\"106\" y2=\"103\" style=\"stroke-width:2\" />\n",
       "  <line x1=\"196\" y1=\"13\" x2=\"196\" y2=\"103\" style=\"stroke-width:2\" />\n",
       "\n",
       "  <!-- Colored Rectangle -->\n",
       "  <polygon points=\"106.78615832436458,13.78615832436458 196.78615832436458,13.78615832436458 196.78615832436458,103.78615832436458 106.78615832436458,103.78615832436458\" style=\"fill:#ECB172A0;stroke-width:0\"/>\n",
       "\n",
       "  <!-- Text -->\n",
       "  <text x=\"151.786158\" y=\"123.786158\" font-size=\"1.0rem\" font-weight=\"100\" text-anchor=\"middle\" >512</text>\n",
       "  <text x=\"216.786158\" y=\"58.786158\" font-size=\"1.0rem\" font-weight=\"100\" text-anchor=\"middle\" transform=\"rotate(-90,216.786158,58.786158)\">512</text>\n",
       "  <text x=\"89.893079\" y=\"116.893079\" font-size=\"1.0rem\" font-weight=\"100\" text-anchor=\"middle\" transform=\"rotate(45,89.893079,116.893079)\">15</text>\n",
       "</svg>\n",
       "        </td>\n",
       "    </tr>\n",
       "</table>"
      ],
      "text/plain": [
       "dask.array<_extract_measurement, shape=(4, 15, 15, 512, 512), dtype=complex64, chunksize=(1, 2, 2, 512, 512), chunktype=numpy.ndarray>"
      ]
     },
     "execution_count": 13,
     "metadata": {},
     "output_type": "execute_result"
    }
   ],
   "source": [
    "exit_waves_stem = probe.multislice(potential, scan=scan, max_batch=4)\n",
    "\n",
    "exit_waves_stem.array"
   ]
  },
  {
   "cell_type": "markdown",
   "id": "28998800-0b81-49f7-b3c6-79aa355cf3dc",
   "metadata": {
    "pycharm": {
     "name": "#%% md\n"
    }
   },
   "source": [
    "The default value of `max_batch` is `\"auto\"`, with this setting the number of wave functions in each batch is determined such that the batch represents approximately `128 MB` of memory, this number may be changed through the configuration.\n",
    "\n",
    "Before computing, we apply a HAADF detector and calculate the ensemble mean, this reduces the total size of the output to just 900 B. We note that the 1.76 GB ensemble of wave functions never needs to be in memory simulateneously, each chunk of exit wave functions are reduced immediately after completing the multislice algorithm. "
   ]
  },
  {
   "cell_type": "code",
   "execution_count": 14,
   "id": "8664e8b2-4928-4c5e-bd48-fa854a465cec",
   "metadata": {
    "pycharm": {
     "name": "#%%\n"
    }
   },
   "outputs": [
    {
     "data": {
      "text/html": [
       "<table>\n",
       "    <tr>\n",
       "        <td>\n",
       "            <table>\n",
       "                <thead>\n",
       "                    <tr>\n",
       "                        <td> </td>\n",
       "                        <th> Array </th>\n",
       "                        <th> Chunk </th>\n",
       "                    </tr>\n",
       "                </thead>\n",
       "                <tbody>\n",
       "                    \n",
       "                    <tr>\n",
       "                        <th> Bytes </th>\n",
       "                        <td> 900 B </td>\n",
       "                        <td> 16 B </td>\n",
       "                    </tr>\n",
       "                    \n",
       "                    <tr>\n",
       "                        <th> Shape </th>\n",
       "                        <td> (15, 15) </td>\n",
       "                        <td> (2, 2) </td>\n",
       "                    </tr>\n",
       "                    <tr>\n",
       "                        <th> Count </th>\n",
       "                        <td> 21 Graph Layers </td>\n",
       "                        <td> 64 Chunks </td>\n",
       "                    </tr>\n",
       "                    <tr>\n",
       "                    <th> Type </th>\n",
       "                    <td> float32 </td>\n",
       "                    <td> numpy.ndarray </td>\n",
       "                    </tr>\n",
       "                </tbody>\n",
       "            </table>\n",
       "        </td>\n",
       "        <td>\n",
       "        <svg width=\"140\" height=\"140\" style=\"stroke:rgb(0,0,0);stroke-width:1\" >\n",
       "\n",
       "  <!-- Horizontal lines -->\n",
       "  <line x1=\"0\" y1=\"0\" x2=\"90\" y2=\"0\" style=\"stroke-width:2\" />\n",
       "  <line x1=\"0\" y1=\"12\" x2=\"90\" y2=\"12\" />\n",
       "  <line x1=\"0\" y1=\"24\" x2=\"90\" y2=\"24\" />\n",
       "  <line x1=\"0\" y1=\"36\" x2=\"90\" y2=\"36\" />\n",
       "  <line x1=\"0\" y1=\"48\" x2=\"90\" y2=\"48\" />\n",
       "  <line x1=\"0\" y1=\"60\" x2=\"90\" y2=\"60\" />\n",
       "  <line x1=\"0\" y1=\"72\" x2=\"90\" y2=\"72\" />\n",
       "  <line x1=\"0\" y1=\"84\" x2=\"90\" y2=\"84\" />\n",
       "  <line x1=\"0\" y1=\"90\" x2=\"90\" y2=\"90\" style=\"stroke-width:2\" />\n",
       "\n",
       "  <!-- Vertical lines -->\n",
       "  <line x1=\"0\" y1=\"0\" x2=\"0\" y2=\"90\" style=\"stroke-width:2\" />\n",
       "  <line x1=\"12\" y1=\"0\" x2=\"12\" y2=\"90\" />\n",
       "  <line x1=\"24\" y1=\"0\" x2=\"24\" y2=\"90\" />\n",
       "  <line x1=\"36\" y1=\"0\" x2=\"36\" y2=\"90\" />\n",
       "  <line x1=\"48\" y1=\"0\" x2=\"48\" y2=\"90\" />\n",
       "  <line x1=\"60\" y1=\"0\" x2=\"60\" y2=\"90\" />\n",
       "  <line x1=\"72\" y1=\"0\" x2=\"72\" y2=\"90\" />\n",
       "  <line x1=\"84\" y1=\"0\" x2=\"84\" y2=\"90\" />\n",
       "  <line x1=\"90\" y1=\"0\" x2=\"90\" y2=\"90\" style=\"stroke-width:2\" />\n",
       "\n",
       "  <!-- Colored Rectangle -->\n",
       "  <polygon points=\"0.0,0.0 90.0,0.0 90.0,90.0 0.0,90.0\" style=\"fill:#ECB172A0;stroke-width:0\"/>\n",
       "\n",
       "  <!-- Text -->\n",
       "  <text x=\"45.000000\" y=\"110.000000\" font-size=\"1.0rem\" font-weight=\"100\" text-anchor=\"middle\" >15</text>\n",
       "  <text x=\"110.000000\" y=\"45.000000\" font-size=\"1.0rem\" font-weight=\"100\" text-anchor=\"middle\" transform=\"rotate(0,110.000000,45.000000)\">15</text>\n",
       "</svg>\n",
       "        </td>\n",
       "    </tr>\n",
       "</table>"
      ],
      "text/plain": [
       "dask.array<mean_agg-aggregate, shape=(15, 15), dtype=float32, chunksize=(2, 2), chunktype=numpy.ndarray>"
      ]
     },
     "execution_count": 14,
     "metadata": {},
     "output_type": "execute_result"
    }
   ],
   "source": [
    "detector = abtem.AnnularDetector(inner=65, outer=200)\n",
    "\n",
    "haadf_images = detector.detect(exit_waves_stem).reduce_ensemble()\n",
    "\n",
    "haadf_images.array"
   ]
  },
  {
   "cell_type": "markdown",
   "id": "c8167e51-1e8b-408d-9e08-ad00b6966ad5",
   "metadata": {
    "pycharm": {
     "name": "#%% md\n"
    },
    "tags": []
   },
   "source": [
    "## Schedulers\n",
    "\n",
    "After generating a task graph, it needs to be executed on (parallel) hardware. This is the job of a [task scheduler](https://docs.dask.org/en/stable/scheduler-overview.html). Dask provides several task schedulers, each will compute a task graph and give the same result, but with different performance characteristics.\n",
    "\n",
    "Every time you call the `compute` method a Dask scheduler is used. abTEM adopts the default Dask scheduler configuration and every keyword argument used with the `compute` method in abTEM is forwarded to the Dask `compute` function. \n",
    "\n",
    "### Local scheduler\n",
    "\n",
    "The default scheduler is the [`ThreadPoolExecutor`](https://docs.dask.org/en/stable/scheduling.html#local-threads), keyword arguments for the scheduler may be passed through the `compute` method. For example, the threaded scheduler take a `num_workers` keyword, which sets the number threads to use (defaults to number of cores)."
   ]
  },
  {
   "cell_type": "code",
   "execution_count": 15,
   "id": "4c507a96-5a6d-4e55-8775-200f66e26459",
   "metadata": {
    "tags": [
     "skip-test"
    ]
   },
   "outputs": [
    {
     "name": "stdout",
     "output_type": "stream",
     "text": [
      "[########################################] | 100% Completed | 26.68 s\n"
     ]
    },
    {
     "data": {
      "text/plain": [
       "<abtem.measurements.Images object at 0x7f8cae6e3430>"
      ]
     },
     "execution_count": 15,
     "metadata": {},
     "output_type": "execute_result"
    }
   ],
   "source": [
    "haadf_images = detector.detect(exit_waves_stem).reduce_ensemble()\n",
    "\n",
    "haadf_images.compute(\n",
    "    scheduler=\"threads\", num_workers=8\n",
    ")"
   ]
  },
  {
   "cell_type": "markdown",
   "id": "168c4090-255a-4705-85a8-afbf74c6320e",
   "metadata": {},
   "source": [
    "We can change the scheduler to using the `ProcessPoolExecutor` as below.\n",
    "\n",
    "```python\n",
    "haadf_images = detector.detect(exit_waves_stem).compute(scheduler=\"processes\", num_workers=4)\n",
    "```\n",
    "\n",
    "Using `abtem.config.set` the scheduler can be set either as a context manager or globally.\n",
    "```python\n",
    "# As a context manager\n",
    "with abtem.config.set(scheduler=\"processes\"):\n",
    "    haadf_images.compute()\n",
    "\n",
    "# Set globally\n",
    "abtem.config.set(scheduler=\"processes\")\n",
    "haadf_images.compute()\n",
    "```"
   ]
  },
  {
   "cell_type": "markdown",
   "id": "945988ec-0d2b-422a-a84c-32f10d5a63af",
   "metadata": {},
   "source": [
    "To improve performance we have to be able to profile it. Profiling parallel code can be challenging, but Dask provides functionality to aid in profiling and inspecting execution. The diagnostic tools are quite different depending on whether you use a local or distributed scheduler.\n",
    "\n",
    "Dask allows local diagnostics by adding callback that collects information about your code execution. You can use the profilers as a context manager as described in the [Dask documentation](https://docs.dask.org/en/stable/diagnostics-local.html). For convenience the abTEM `compute` methods implements keywords for adding Dask profilers.\n",
    "\n",
    "Below we use the [`Profiler`](https://docs.dask.org/en/stable/diagnostics-local.html#profiler) to monitor task execution by setting `profiler=True` and a [`ResourceProfiler`](https://docs.dask.org/en/stable/diagnostics-local.html#resourceprofiler) to monitor the CPU usage and memory consumption by setting `resource_profiler=True`. We rerun the simulation above with these profilers. "
   ]
  },
  {
   "cell_type": "code",
   "execution_count": 16,
   "id": "56cb3754-6cde-4f83-b058-6014356cefaf",
   "metadata": {},
   "outputs": [
    {
     "name": "stdout",
     "output_type": "stream",
     "text": [
      "[########################################] | 100% Completed | 24.92 s\n"
     ]
    }
   ],
   "source": [
    "haadf_images = detector.detect(exit_waves_stem).reduce_ensemble()\n",
    "\n",
    "haadf_images, profilers = haadf_images.compute(profiler=True, resource_profiler=True)"
   ]
  },
  {
   "cell_type": "markdown",
   "id": "a3b63fd8-4e8b-4842-9c15-2fa8787da397",
   "metadata": {},
   "source": [
    "To display the results Dask uses the Bokeh plotting library (this is also installed together with Dask). To display the plots in a Jupyter notebook we need to run the commands below."
   ]
  },
  {
   "cell_type": "code",
   "execution_count": 18,
   "id": "bb2fc8ba-5288-4499-9090-35e8723c7930",
   "metadata": {
    "tags": [
     "skip-test"
    ]
   },
   "outputs": [
    {
     "data": {
      "text/html": [
       "<div class=\"bk-root\">\n",
       "        <a href=\"https://bokeh.org\" target=\"_blank\" class=\"bk-logo bk-logo-small bk-logo-notebook\"></a>\n",
       "        <span id=\"1274\">Loading BokehJS ...</span>\n",
       "    </div>\n"
      ]
     },
     "metadata": {},
     "output_type": "display_data"
    },
    {
     "data": {
      "application/javascript": [
       "(function(root) {\n",
       "  function now() {\n",
       "    return new Date();\n",
       "  }\n",
       "\n",
       "  const force = true;\n",
       "\n",
       "  if (typeof root._bokeh_onload_callbacks === \"undefined\" || force === true) {\n",
       "    root._bokeh_onload_callbacks = [];\n",
       "    root._bokeh_is_loading = undefined;\n",
       "  }\n",
       "\n",
       "const JS_MIME_TYPE = 'application/javascript';\n",
       "  const HTML_MIME_TYPE = 'text/html';\n",
       "  const EXEC_MIME_TYPE = 'application/vnd.bokehjs_exec.v0+json';\n",
       "  const CLASS_NAME = 'output_bokeh rendered_html';\n",
       "\n",
       "  /**\n",
       "   * Render data to the DOM node\n",
       "   */\n",
       "  function render(props, node) {\n",
       "    const script = document.createElement(\"script\");\n",
       "    node.appendChild(script);\n",
       "  }\n",
       "\n",
       "  /**\n",
       "   * Handle when an output is cleared or removed\n",
       "   */\n",
       "  function handleClearOutput(event, handle) {\n",
       "    const cell = handle.cell;\n",
       "\n",
       "    const id = cell.output_area._bokeh_element_id;\n",
       "    const server_id = cell.output_area._bokeh_server_id;\n",
       "    // Clean up Bokeh references\n",
       "    if (id != null && id in Bokeh.index) {\n",
       "      Bokeh.index[id].model.document.clear();\n",
       "      delete Bokeh.index[id];\n",
       "    }\n",
       "\n",
       "    if (server_id !== undefined) {\n",
       "      // Clean up Bokeh references\n",
       "      const cmd_clean = \"from bokeh.io.state import curstate; print(curstate().uuid_to_server['\" + server_id + \"'].get_sessions()[0].document.roots[0]._id)\";\n",
       "      cell.notebook.kernel.execute(cmd_clean, {\n",
       "        iopub: {\n",
       "          output: function(msg) {\n",
       "            const id = msg.content.text.trim();\n",
       "            if (id in Bokeh.index) {\n",
       "              Bokeh.index[id].model.document.clear();\n",
       "              delete Bokeh.index[id];\n",
       "            }\n",
       "          }\n",
       "        }\n",
       "      });\n",
       "      // Destroy server and session\n",
       "      const cmd_destroy = \"import bokeh.io.notebook as ion; ion.destroy_server('\" + server_id + \"')\";\n",
       "      cell.notebook.kernel.execute(cmd_destroy);\n",
       "    }\n",
       "  }\n",
       "\n",
       "  /**\n",
       "   * Handle when a new output is added\n",
       "   */\n",
       "  function handleAddOutput(event, handle) {\n",
       "    const output_area = handle.output_area;\n",
       "    const output = handle.output;\n",
       "\n",
       "    // limit handleAddOutput to display_data with EXEC_MIME_TYPE content only\n",
       "    if ((output.output_type != \"display_data\") || (!Object.prototype.hasOwnProperty.call(output.data, EXEC_MIME_TYPE))) {\n",
       "      return\n",
       "    }\n",
       "\n",
       "    const toinsert = output_area.element.find(\".\" + CLASS_NAME.split(' ')[0]);\n",
       "\n",
       "    if (output.metadata[EXEC_MIME_TYPE][\"id\"] !== undefined) {\n",
       "      toinsert[toinsert.length - 1].firstChild.textContent = output.data[JS_MIME_TYPE];\n",
       "      // store reference to embed id on output_area\n",
       "      output_area._bokeh_element_id = output.metadata[EXEC_MIME_TYPE][\"id\"];\n",
       "    }\n",
       "    if (output.metadata[EXEC_MIME_TYPE][\"server_id\"] !== undefined) {\n",
       "      const bk_div = document.createElement(\"div\");\n",
       "      bk_div.innerHTML = output.data[HTML_MIME_TYPE];\n",
       "      const script_attrs = bk_div.children[0].attributes;\n",
       "      for (let i = 0; i < script_attrs.length; i++) {\n",
       "        toinsert[toinsert.length - 1].firstChild.setAttribute(script_attrs[i].name, script_attrs[i].value);\n",
       "        toinsert[toinsert.length - 1].firstChild.textContent = bk_div.children[0].textContent\n",
       "      }\n",
       "      // store reference to server id on output_area\n",
       "      output_area._bokeh_server_id = output.metadata[EXEC_MIME_TYPE][\"server_id\"];\n",
       "    }\n",
       "  }\n",
       "\n",
       "  function register_renderer(events, OutputArea) {\n",
       "\n",
       "    function append_mime(data, metadata, element) {\n",
       "      // create a DOM node to render to\n",
       "      const toinsert = this.create_output_subarea(\n",
       "        metadata,\n",
       "        CLASS_NAME,\n",
       "        EXEC_MIME_TYPE\n",
       "      );\n",
       "      this.keyboard_manager.register_events(toinsert);\n",
       "      // Render to node\n",
       "      const props = {data: data, metadata: metadata[EXEC_MIME_TYPE]};\n",
       "      render(props, toinsert[toinsert.length - 1]);\n",
       "      element.append(toinsert);\n",
       "      return toinsert\n",
       "    }\n",
       "\n",
       "    /* Handle when an output is cleared or removed */\n",
       "    events.on('clear_output.CodeCell', handleClearOutput);\n",
       "    events.on('delete.Cell', handleClearOutput);\n",
       "\n",
       "    /* Handle when a new output is added */\n",
       "    events.on('output_added.OutputArea', handleAddOutput);\n",
       "\n",
       "    /**\n",
       "     * Register the mime type and append_mime function with output_area\n",
       "     */\n",
       "    OutputArea.prototype.register_mime_type(EXEC_MIME_TYPE, append_mime, {\n",
       "      /* Is output safe? */\n",
       "      safe: true,\n",
       "      /* Index of renderer in `output_area.display_order` */\n",
       "      index: 0\n",
       "    });\n",
       "  }\n",
       "\n",
       "  // register the mime type if in Jupyter Notebook environment and previously unregistered\n",
       "  if (root.Jupyter !== undefined) {\n",
       "    const events = require('base/js/events');\n",
       "    const OutputArea = require('notebook/js/outputarea').OutputArea;\n",
       "\n",
       "    if (OutputArea.prototype.mime_types().indexOf(EXEC_MIME_TYPE) == -1) {\n",
       "      register_renderer(events, OutputArea);\n",
       "    }\n",
       "  }\n",
       "  if (typeof (root._bokeh_timeout) === \"undefined\" || force === true) {\n",
       "    root._bokeh_timeout = Date.now() + 5000;\n",
       "    root._bokeh_failed_load = false;\n",
       "  }\n",
       "\n",
       "  const NB_LOAD_WARNING = {'data': {'text/html':\n",
       "     \"<div style='background-color: #fdd'>\\n\"+\n",
       "     \"<p>\\n\"+\n",
       "     \"BokehJS does not appear to have successfully loaded. If loading BokehJS from CDN, this \\n\"+\n",
       "     \"may be due to a slow or bad network connection. Possible fixes:\\n\"+\n",
       "     \"</p>\\n\"+\n",
       "     \"<ul>\\n\"+\n",
       "     \"<li>re-rerun `output_notebook()` to attempt to load from CDN again, or</li>\\n\"+\n",
       "     \"<li>use INLINE resources instead, as so:</li>\\n\"+\n",
       "     \"</ul>\\n\"+\n",
       "     \"<code>\\n\"+\n",
       "     \"from bokeh.resources import INLINE\\n\"+\n",
       "     \"output_notebook(resources=INLINE)\\n\"+\n",
       "     \"</code>\\n\"+\n",
       "     \"</div>\"}};\n",
       "\n",
       "  function display_loaded() {\n",
       "    const el = document.getElementById(\"1274\");\n",
       "    if (el != null) {\n",
       "      el.textContent = \"BokehJS is loading...\";\n",
       "    }\n",
       "    if (root.Bokeh !== undefined) {\n",
       "      if (el != null) {\n",
       "        el.textContent = \"BokehJS \" + root.Bokeh.version + \" successfully loaded.\";\n",
       "      }\n",
       "    } else if (Date.now() < root._bokeh_timeout) {\n",
       "      setTimeout(display_loaded, 100)\n",
       "    }\n",
       "  }\n",
       "\n",
       "  function run_callbacks() {\n",
       "    try {\n",
       "      root._bokeh_onload_callbacks.forEach(function(callback) {\n",
       "        if (callback != null)\n",
       "          callback();\n",
       "      });\n",
       "    } finally {\n",
       "      delete root._bokeh_onload_callbacks\n",
       "    }\n",
       "    console.debug(\"Bokeh: all callbacks have finished\");\n",
       "  }\n",
       "\n",
       "  function load_libs(css_urls, js_urls, callback) {\n",
       "    if (css_urls == null) css_urls = [];\n",
       "    if (js_urls == null) js_urls = [];\n",
       "\n",
       "    root._bokeh_onload_callbacks.push(callback);\n",
       "    if (root._bokeh_is_loading > 0) {\n",
       "      console.debug(\"Bokeh: BokehJS is being loaded, scheduling callback at\", now());\n",
       "      return null;\n",
       "    }\n",
       "    if (js_urls == null || js_urls.length === 0) {\n",
       "      run_callbacks();\n",
       "      return null;\n",
       "    }\n",
       "    console.debug(\"Bokeh: BokehJS not loaded, scheduling load and callback at\", now());\n",
       "    root._bokeh_is_loading = css_urls.length + js_urls.length;\n",
       "\n",
       "    function on_load() {\n",
       "      root._bokeh_is_loading--;\n",
       "      if (root._bokeh_is_loading === 0) {\n",
       "        console.debug(\"Bokeh: all BokehJS libraries/stylesheets loaded\");\n",
       "        run_callbacks()\n",
       "      }\n",
       "    }\n",
       "\n",
       "    function on_error(url) {\n",
       "      console.error(\"failed to load \" + url);\n",
       "    }\n",
       "\n",
       "    for (let i = 0; i < css_urls.length; i++) {\n",
       "      const url = css_urls[i];\n",
       "      const element = document.createElement(\"link\");\n",
       "      element.onload = on_load;\n",
       "      element.onerror = on_error.bind(null, url);\n",
       "      element.rel = \"stylesheet\";\n",
       "      element.type = \"text/css\";\n",
       "      element.href = url;\n",
       "      console.debug(\"Bokeh: injecting link tag for BokehJS stylesheet: \", url);\n",
       "      document.body.appendChild(element);\n",
       "    }\n",
       "\n",
       "    for (let i = 0; i < js_urls.length; i++) {\n",
       "      const url = js_urls[i];\n",
       "      const element = document.createElement('script');\n",
       "      element.onload = on_load;\n",
       "      element.onerror = on_error.bind(null, url);\n",
       "      element.async = false;\n",
       "      element.src = url;\n",
       "      console.debug(\"Bokeh: injecting script tag for BokehJS library: \", url);\n",
       "      document.head.appendChild(element);\n",
       "    }\n",
       "  };\n",
       "\n",
       "  function inject_raw_css(css) {\n",
       "    const element = document.createElement(\"style\");\n",
       "    element.appendChild(document.createTextNode(css));\n",
       "    document.body.appendChild(element);\n",
       "  }\n",
       "\n",
       "  const js_urls = [\"https://cdn.bokeh.org/bokeh/release/bokeh-2.4.3.min.js\", \"https://cdn.bokeh.org/bokeh/release/bokeh-gl-2.4.3.min.js\", \"https://cdn.bokeh.org/bokeh/release/bokeh-widgets-2.4.3.min.js\", \"https://cdn.bokeh.org/bokeh/release/bokeh-tables-2.4.3.min.js\", \"https://cdn.bokeh.org/bokeh/release/bokeh-mathjax-2.4.3.min.js\"];\n",
       "  const css_urls = [];\n",
       "\n",
       "  const inline_js = [    function(Bokeh) {\n",
       "      Bokeh.set_log_level(\"info\");\n",
       "    },\n",
       "function(Bokeh) {\n",
       "    }\n",
       "  ];\n",
       "\n",
       "  function run_inline_js() {\n",
       "    if (root.Bokeh !== undefined || force === true) {\n",
       "          for (let i = 0; i < inline_js.length; i++) {\n",
       "      inline_js[i].call(root, root.Bokeh);\n",
       "    }\n",
       "if (force === true) {\n",
       "        display_loaded();\n",
       "      }} else if (Date.now() < root._bokeh_timeout) {\n",
       "      setTimeout(run_inline_js, 100);\n",
       "    } else if (!root._bokeh_failed_load) {\n",
       "      console.log(\"Bokeh: BokehJS failed to load within specified timeout.\");\n",
       "      root._bokeh_failed_load = true;\n",
       "    } else if (force !== true) {\n",
       "      const cell = $(document.getElementById(\"1274\")).parents('.cell').data().cell;\n",
       "      cell.output_area.append_execute_result(NB_LOAD_WARNING)\n",
       "    }\n",
       "  }\n",
       "\n",
       "  if (root._bokeh_is_loading === 0) {\n",
       "    console.debug(\"Bokeh: BokehJS loaded, going straight to plotting\");\n",
       "    run_inline_js();\n",
       "  } else {\n",
       "    load_libs(css_urls, js_urls, function() {\n",
       "      console.debug(\"Bokeh: BokehJS plotting callback run at\", now());\n",
       "      run_inline_js();\n",
       "    });\n",
       "  }\n",
       "}(window));"
      ],
      "application/vnd.bokehjs_load.v0+json": "(function(root) {\n  function now() {\n    return new Date();\n  }\n\n  const force = true;\n\n  if (typeof root._bokeh_onload_callbacks === \"undefined\" || force === true) {\n    root._bokeh_onload_callbacks = [];\n    root._bokeh_is_loading = undefined;\n  }\n\n\n  if (typeof (root._bokeh_timeout) === \"undefined\" || force === true) {\n    root._bokeh_timeout = Date.now() + 5000;\n    root._bokeh_failed_load = false;\n  }\n\n  const NB_LOAD_WARNING = {'data': {'text/html':\n     \"<div style='background-color: #fdd'>\\n\"+\n     \"<p>\\n\"+\n     \"BokehJS does not appear to have successfully loaded. If loading BokehJS from CDN, this \\n\"+\n     \"may be due to a slow or bad network connection. Possible fixes:\\n\"+\n     \"</p>\\n\"+\n     \"<ul>\\n\"+\n     \"<li>re-rerun `output_notebook()` to attempt to load from CDN again, or</li>\\n\"+\n     \"<li>use INLINE resources instead, as so:</li>\\n\"+\n     \"</ul>\\n\"+\n     \"<code>\\n\"+\n     \"from bokeh.resources import INLINE\\n\"+\n     \"output_notebook(resources=INLINE)\\n\"+\n     \"</code>\\n\"+\n     \"</div>\"}};\n\n  function display_loaded() {\n    const el = document.getElementById(\"1274\");\n    if (el != null) {\n      el.textContent = \"BokehJS is loading...\";\n    }\n    if (root.Bokeh !== undefined) {\n      if (el != null) {\n        el.textContent = \"BokehJS \" + root.Bokeh.version + \" successfully loaded.\";\n      }\n    } else if (Date.now() < root._bokeh_timeout) {\n      setTimeout(display_loaded, 100)\n    }\n  }\n\n  function run_callbacks() {\n    try {\n      root._bokeh_onload_callbacks.forEach(function(callback) {\n        if (callback != null)\n          callback();\n      });\n    } finally {\n      delete root._bokeh_onload_callbacks\n    }\n    console.debug(\"Bokeh: all callbacks have finished\");\n  }\n\n  function load_libs(css_urls, js_urls, callback) {\n    if (css_urls == null) css_urls = [];\n    if (js_urls == null) js_urls = [];\n\n    root._bokeh_onload_callbacks.push(callback);\n    if (root._bokeh_is_loading > 0) {\n      console.debug(\"Bokeh: BokehJS is being loaded, scheduling callback at\", now());\n      return null;\n    }\n    if (js_urls == null || js_urls.length === 0) {\n      run_callbacks();\n      return null;\n    }\n    console.debug(\"Bokeh: BokehJS not loaded, scheduling load and callback at\", now());\n    root._bokeh_is_loading = css_urls.length + js_urls.length;\n\n    function on_load() {\n      root._bokeh_is_loading--;\n      if (root._bokeh_is_loading === 0) {\n        console.debug(\"Bokeh: all BokehJS libraries/stylesheets loaded\");\n        run_callbacks()\n      }\n    }\n\n    function on_error(url) {\n      console.error(\"failed to load \" + url);\n    }\n\n    for (let i = 0; i < css_urls.length; i++) {\n      const url = css_urls[i];\n      const element = document.createElement(\"link\");\n      element.onload = on_load;\n      element.onerror = on_error.bind(null, url);\n      element.rel = \"stylesheet\";\n      element.type = \"text/css\";\n      element.href = url;\n      console.debug(\"Bokeh: injecting link tag for BokehJS stylesheet: \", url);\n      document.body.appendChild(element);\n    }\n\n    for (let i = 0; i < js_urls.length; i++) {\n      const url = js_urls[i];\n      const element = document.createElement('script');\n      element.onload = on_load;\n      element.onerror = on_error.bind(null, url);\n      element.async = false;\n      element.src = url;\n      console.debug(\"Bokeh: injecting script tag for BokehJS library: \", url);\n      document.head.appendChild(element);\n    }\n  };\n\n  function inject_raw_css(css) {\n    const element = document.createElement(\"style\");\n    element.appendChild(document.createTextNode(css));\n    document.body.appendChild(element);\n  }\n\n  const js_urls = [\"https://cdn.bokeh.org/bokeh/release/bokeh-2.4.3.min.js\", \"https://cdn.bokeh.org/bokeh/release/bokeh-gl-2.4.3.min.js\", \"https://cdn.bokeh.org/bokeh/release/bokeh-widgets-2.4.3.min.js\", \"https://cdn.bokeh.org/bokeh/release/bokeh-tables-2.4.3.min.js\", \"https://cdn.bokeh.org/bokeh/release/bokeh-mathjax-2.4.3.min.js\"];\n  const css_urls = [];\n\n  const inline_js = [    function(Bokeh) {\n      Bokeh.set_log_level(\"info\");\n    },\nfunction(Bokeh) {\n    }\n  ];\n\n  function run_inline_js() {\n    if (root.Bokeh !== undefined || force === true) {\n          for (let i = 0; i < inline_js.length; i++) {\n      inline_js[i].call(root, root.Bokeh);\n    }\nif (force === true) {\n        display_loaded();\n      }} else if (Date.now() < root._bokeh_timeout) {\n      setTimeout(run_inline_js, 100);\n    } else if (!root._bokeh_failed_load) {\n      console.log(\"Bokeh: BokehJS failed to load within specified timeout.\");\n      root._bokeh_failed_load = true;\n    } else if (force !== true) {\n      const cell = $(document.getElementById(\"1274\")).parents('.cell').data().cell;\n      cell.output_area.append_execute_result(NB_LOAD_WARNING)\n    }\n  }\n\n  if (root._bokeh_is_loading === 0) {\n    console.debug(\"Bokeh: BokehJS loaded, going straight to plotting\");\n    run_inline_js();\n  } else {\n    load_libs(css_urls, js_urls, function() {\n      console.debug(\"Bokeh: BokehJS plotting callback run at\", now());\n      run_inline_js();\n    });\n  }\n}(window));"
     },
     "metadata": {},
     "output_type": "display_data"
    }
   ],
   "source": [
    "from bokeh.io import output_notebook\n",
    "output_notebook()"
   ]
  },
  {
   "cell_type": "markdown",
   "id": "89a100cb-9792-45bb-b855-42b53fb9db83",
   "metadata": {},
   "source": [
    "We first show the result from the `Profiler` object: This shows the execution time for each task as a rectangle, organized along the y-axis by worker (in this case threads), white space represents idle . The task types are grouped by color and, by hovering over each task, one can see the key and task that each block represents. For this calculation there is only one significant task shown in yellow; the task encompasses building the wave function, running the multislice algorithm (calculating the potential on demand) and calculating and integrating the diffraction patterns. "
   ]
  },
  {
   "cell_type": "code",
   "execution_count": 19,
   "id": "0a420e98-6235-4e01-b079-fe34d913a436",
   "metadata": {
    "tags": [
     "skip-test"
    ]
   },
   "outputs": [
    {
     "data": {
      "text/html": [
       "\n",
       "  <div class=\"bk-root\" id=\"78aa2e4b-f729-43c5-aa71-c1c7bae08e87\" data-root-id=\"1275\"></div>\n"
      ]
     },
     "metadata": {},
     "output_type": "display_data"
    },
    {
     "data": {
      "application/javascript": [
       "(function(root) {\n",
       "  function embed_document(root) {\n",
       "  const docs_json = {\"18bc37c8-2af9-43d6-99b5-cd0c3c40d28a\":{\"defs\":[],\"roots\":{\"references\":[{\"attributes\":{\"below\":[{\"id\":\"1286\"}],\"center\":[{\"id\":\"1289\"},{\"id\":\"1292\"}],\"height\":300,\"left\":[{\"id\":\"1290\"}],\"renderers\":[{\"id\":\"1309\"}],\"title\":{\"id\":\"1276\"},\"toolbar\":{\"id\":\"1298\"},\"toolbar_location\":\"above\",\"width\":800,\"x_range\":{\"id\":\"1278\"},\"x_scale\":{\"id\":\"1282\"},\"y_range\":{\"id\":\"1280\"},\"y_scale\":{\"id\":\"1284\"}},\"id\":\"1275\",\"subtype\":\"Figure\",\"type\":\"Plot\"},{\"attributes\":{\"axis_label\":\"Worker ID\",\"axis_line_color\":null,\"coordinates\":null,\"formatter\":{\"id\":\"1313\"},\"group\":null,\"major_label_policy\":{\"id\":\"1314\"},\"major_tick_line_color\":null,\"ticker\":{\"id\":\"1291\"}},\"id\":\"1290\",\"type\":\"CategoricalAxis\"},{\"attributes\":{\"axis\":{\"id\":\"1286\"},\"coordinates\":null,\"grid_line_color\":null,\"group\":null,\"ticker\":null},\"id\":\"1289\",\"type\":\"Grid\"},{\"attributes\":{\"axis_label\":\"Time (s)\",\"axis_line_color\":null,\"coordinates\":null,\"formatter\":{\"id\":\"1316\"},\"group\":null,\"major_label_policy\":{\"id\":\"1317\"},\"major_tick_line_color\":null,\"ticker\":{\"id\":\"1287\"}},\"id\":\"1286\",\"type\":\"LinearAxis\"},{\"attributes\":{},\"id\":\"1313\",\"type\":\"CategoricalTickFormatter\"},{\"attributes\":{\"coordinates\":null,\"group\":null,\"text\":\"Profile Results\"},\"id\":\"1276\",\"type\":\"Title\"},{\"attributes\":{},\"id\":\"1314\",\"type\":\"AllLabels\"},{\"attributes\":{\"data\":{\"color\":[\"#3B518A\",\"#3B518A\",\"#3B518A\",\"#3B518A\",\"#440154\",\"#440154\",\"#440154\",\"#440154\",\"#FDE724\",\"#FDE724\",\"#FDE724\",\"#FDE724\",\"#FDE724\",\"#FDE724\",\"#FDE724\",\"#FDE724\",\"#440154\",\"#FDE724\",\"#440154\",\"#FDE724\",\"#440154\",\"#440154\",\"#440154\",\"#FDE724\",\"#440154\",\"#FDE724\",\"#FDE724\",\"#440154\",\"#5BC862\",\"#FDE724\",\"#FDE724\",\"#440154\",\"#5BC862\",\"#208F8C\",\"#FDE724\",\"#440154\",\"#FDE724\",\"#440154\",\"#440154\",\"#FDE724\",\"#FDE724\",\"#440154\",\"#440154\",\"#440154\",\"#FDE724\",\"#FDE724\",\"#FDE724\",\"#440154\",\"#440154\",\"#FDE724\",\"#FDE724\",\"#440154\",\"#FDE724\",\"#440154\",\"#FDE724\",\"#440154\",\"#440154\",\"#FDE724\",\"#FDE724\",\"#440154\",\"#FDE724\",\"#440154\",\"#440154\",\"#FDE724\",\"#440154\",\"#FDE724\",\"#FDE724\",\"#440154\",\"#FDE724\",\"#440154\",\"#FDE724\",\"#440154\",\"#FDE724\",\"#440154\",\"#FDE724\",\"#440154\",\"#FDE724\",\"#440154\",\"#440154\",\"#440154\",\"#FDE724\",\"#FDE724\",\"#FDE724\",\"#440154\",\"#FDE724\",\"#440154\",\"#FDE724\",\"#440154\",\"#FDE724\",\"#440154\",\"#FDE724\",\"#440154\",\"#FDE724\",\"#440154\",\"#440154\",\"#FDE724\",\"#440154\",\"#FDE724\",\"#FDE724\",\"#440154\",\"#FDE724\",\"#440154\",\"#FDE724\",\"#440154\",\"#FDE724\",\"#440154\",\"#FDE724\",\"#440154\",\"#440154\",\"#FDE724\",\"#440154\",\"#FDE724\",\"#FDE724\",\"#440154\",\"#FDE724\",\"#440154\",\"#FDE724\",\"#440154\",\"#440154\",\"#FDE724\",\"#FDE724\",\"#440154\",\"#FDE724\",\"#440154\",\"#FDE724\",\"#440154\",\"#FDE724\",\"#440154\",\"#FDE724\",\"#440154\",\"#FDE724\",\"#440154\",\"#FDE724\",\"#440154\",\"#FDE724\",\"#440154\",\"#FDE724\",\"#440154\",\"#FDE724\",\"#440154\",\"#440154\",\"#FDE724\",\"#FDE724\",\"#440154\",\"#FDE724\",\"#440154\",\"#FDE724\",\"#440154\",\"#FDE724\",\"#440154\",\"#440154\",\"#FDE724\",\"#FDE724\",\"#440154\",\"#FDE724\",\"#440154\",\"#FDE724\",\"#440154\",\"#FDE724\",\"#440154\",\"#FDE724\",\"#440154\",\"#5BC862\",\"#FDE724\",\"#440154\",\"#5BC862\",\"#FDE724\",\"#440154\",\"#5BC862\",\"#FDE724\",\"#440154\",\"#440154\",\"#5BC862\",\"#5BC862\",\"#FDE724\",\"#FDE724\",\"#440154\",\"#5BC862\",\"#FDE724\",\"#440154\",\"#5BC862\",\"#FDE724\",\"#440154\",\"#5BC862\",\"#FDE724\",\"#440154\",\"#5BC862\",\"#FDE724\",\"#440154\",\"#5BC862\",\"#FDE724\",\"#440154\",\"#440154\",\"#5BC862\",\"#5BC862\",\"#FDE724\",\"#440154\",\"#FDE724\",\"#5BC862\",\"#FDE724\",\"#440154\",\"#5BC862\",\"#FDE724\",\"#440154\",\"#5BC862\",\"#FDE724\",\"#440154\",\"#5BC862\",\"#FDE724\",\"#440154\",\"#5BC862\",\"#FDE724\",\"#440154\",\"#5BC862\",\"#FDE724\",\"#440154\",\"#5BC862\",\"#FDE724\",\"#440154\",\"#5BC862\",\"#440154\",\"#FDE724\",\"#5BC862\",\"#FDE724\",\"#440154\",\"#5BC862\",\"#FDE724\",\"#440154\",\"#5BC862\",\"#FDE724\",\"#440154\",\"#5BC862\",\"#FDE724\",\"#440154\",\"#5BC862\",\"#FDE724\",\"#440154\",\"#5BC862\",\"#FDE724\",\"#440154\",\"#440154\",\"#5BC862\",\"#5BC862\",\"#FDE724\",\"#FDE724\",\"#440154\",\"#5BC862\",\"#FDE724\",\"#440154\",\"#5BC862\",\"#FDE724\",\"#440154\",\"#440154\",\"#5BC862\",\"#5BC862\",\"#FDE724\",\"#FDE724\",\"#440154\",\"#440154\",\"#5BC862\",\"#5BC862\",\"#FDE724\",\"#FDE724\",\"#440154\",\"#5BC862\",\"#440154\",\"#FDE724\",\"#5BC862\",\"#FDE724\",\"#440154\",\"#5BC862\",\"#FDE724\",\"#440154\",\"#5BC862\",\"#FDE724\",\"#440154\",\"#440154\",\"#5BC862\",\"#5BC862\",\"#FDE724\",\"#FDE724\",\"#440154\",\"#5BC862\",\"#FDE724\",\"#440154\",\"#5BC862\",\"#FDE724\",\"#440154\",\"#440154\",\"#5BC862\",\"#5BC862\",\"#FDE724\",\"#FDE724\",\"#440154\",\"#5BC862\",\"#FDE724\",\"#440154\",\"#5BC862\",\"#FDE724\",\"#440154\",\"#5BC862\",\"#FDE724\",\"#440154\",\"#5BC862\",\"#FDE724\",\"#440154\",\"#5BC862\",\"#FDE724\",\"#440154\",\"#5BC862\",\"#FDE724\",\"#440154\",\"#440154\",\"#5BC862\",\"#5BC862\",\"#FDE724\",\"#FDE724\",\"#440154\",\"#5BC862\",\"#FDE724\",\"#440154\",\"#5BC862\",\"#FDE724\",\"#440154\",\"#5BC862\",\"#440154\",\"#FDE724\",\"#5BC862\",\"#FDE724\",\"#440154\",\"#5BC862\",\"#FDE724\",\"#440154\",\"#5BC862\",\"#FDE724\",\"#440154\",\"#440154\",\"#5BC862\",\"#5BC862\",\"#FDE724\",\"#FDE724\",\"#440154\",\"#5BC862\",\"#FDE724\",\"#440154\",\"#5BC862\",\"#FDE724\",\"#440154\",\"#5BC862\",\"#FDE724\",\"#440154\",\"#5BC862\",\"#208F8C\",\"#FDE724\",\"#440154\",\"#5BC862\",\"#208F8C\",\"#FDE724\",\"#440154\",\"#FDE724\",\"#440154\",\"#5BC862\",\"#208F8C\",\"#FDE724\",\"#440154\",\"#FDE724\",\"#440154\",\"#5BC862\",\"#208F8C\",\"#FDE724\",\"#440154\",\"#FDE724\",\"#440154\",\"#FDE724\",\"#440154\",\"#FDE724\",\"#440154\",\"#FDE724\",\"#440154\",\"#FDE724\",\"#440154\",\"#FDE724\",\"#440154\",\"#FDE724\",\"#440154\",\"#FDE724\",\"#440154\",\"#FDE724\",\"#440154\",\"#FDE724\",\"#440154\",\"#FDE724\",\"#440154\",\"#FDE724\",\"#440154\",\"#FDE724\",\"#440154\",\"#FDE724\",\"#440154\",\"#FDE724\",\"#440154\",\"#FDE724\",\"#440154\",\"#FDE724\",\"#440154\",\"#FDE724\",\"#440154\",\"#FDE724\",\"#440154\",\"#FDE724\",\"#440154\",\"#FDE724\",\"#440154\",\"#FDE724\",\"#440154\",\"#FDE724\",\"#440154\",\"#FDE724\",\"#440154\",\"#FDE724\",\"#440154\",\"#FDE724\",\"#440154\",\"#FDE724\",\"#440154\",\"#FDE724\",\"#440154\",\"#FDE724\",\"#440154\",\"#FDE724\",\"#440154\",\"#FDE724\",\"#440154\",\"#FDE724\",\"#440154\",\"#FDE724\",\"#440154\",\"#FDE724\",\"#440154\",\"#FDE724\",\"#440154\",\"#FDE724\",\"#440154\",\"#FDE724\",\"#440154\",\"#FDE724\",\"#440154\",\"#FDE724\",\"#440154\",\"#FDE724\",\"#440154\",\"#FDE724\",\"#440154\",\"#FDE724\",\"#440154\",\"#FDE724\",\"#440154\",\"#FDE724\",\"#440154\",\"#FDE724\",\"#440154\",\"#FDE724\",\"#440154\",\"#FDE724\",\"#440154\",\"#FDE724\",\"#440154\",\"#440154\",\"#FDE724\",\"#FDE724\",\"#440154\",\"#FDE724\",\"#440154\",\"#FDE724\",\"#440154\",\"#FDE724\",\"#440154\",\"#FDE724\",\"#440154\",\"#FDE724\",\"#440154\",\"#FDE724\",\"#440154\",\"#FDE724\",\"#440154\",\"#5BC862\",\"#208F8C\",\"#FDE724\",\"#440154\",\"#5BC862\",\"#208F8C\",\"#FDE724\",\"#440154\",\"#5BC862\",\"#208F8C\",\"#FDE724\",\"#440154\",\"#5BC862\",\"#208F8C\",\"#FDE724\",\"#440154\",\"#5BC862\",\"#208F8C\",\"#FDE724\",\"#440154\",\"#5BC862\",\"#208F8C\",\"#FDE724\",\"#440154\",\"#440154\",\"#5BC862\",\"#5BC862\",\"#208F8C\",\"#208F8C\",\"#FDE724\",\"#440154\",\"#FDE724\",\"#5BC862\",\"#208F8C\",\"#FDE724\",\"#440154\",\"#5BC862\",\"#208F8C\",\"#FDE724\",\"#440154\",\"#5BC862\",\"#208F8C\",\"#FDE724\",\"#440154\",\"#5BC862\",\"#208F8C\",\"#FDE724\",\"#440154\",\"#5BC862\",\"#208F8C\",\"#FDE724\",\"#440154\",\"#5BC862\",\"#208F8C\",\"#FDE724\",\"#440154\",\"#5BC862\",\"#208F8C\",\"#FDE724\",\"#440154\",\"#5BC862\",\"#208F8C\",\"#FDE724\",\"#440154\",\"#5BC862\",\"#208F8C\",\"#FDE724\",\"#440154\",\"#5BC862\",\"#208F8C\",\"#FDE724\",\"#440154\",\"#5BC862\",\"#208F8C\",\"#FDE724\",\"#440154\",\"#5BC862\",\"#440154\",\"#208F8C\",\"#5BC862\",\"#FDE724\",\"#208F8C\",\"#FDE724\",\"#440154\",\"#5BC862\",\"#208F8C\",\"#FDE724\",\"#440154\",\"#5BC862\",\"#440154\",\"#208F8C\",\"#5BC862\",\"#FDE724\",\"#208F8C\",\"#FDE724\",\"#440154\",\"#5BC862\",\"#208F8C\",\"#FDE724\",\"#440154\",\"#5BC862\",\"#208F8C\",\"#FDE724\",\"#440154\",\"#5BC862\",\"#208F8C\",\"#FDE724\",\"#440154\",\"#5BC862\",\"#208F8C\",\"#FDE724\",\"#440154\",\"#5BC862\",\"#208F8C\",\"#FDE724\",\"#440154\",\"#440154\",\"#5BC862\",\"#5BC862\",\"#208F8C\",\"#208F8C\",\"#FDE724\",\"#FDE724\",\"#440154\",\"#5BC862\",\"#208F8C\",\"#FDE724\",\"#440154\",\"#5BC862\",\"#208F8C\",\"#FDE724\",\"#440154\",\"#5BC862\",\"#208F8C\",\"#FDE724\",\"#440154\",\"#5BC862\",\"#208F8C\",\"#FDE724\",\"#440154\",\"#5BC862\",\"#208F8C\",\"#FDE724\",\"#440154\",\"#5BC862\",\"#208F8C\",\"#FDE724\",\"#440154\",\"#440154\",\"#5BC862\",\"#5BC862\",\"#208F8C\",\"#440154\",\"#208F8C\",\"#FDE724\",\"#5BC862\",\"#FDE724\",\"#208F8C\",\"#FDE724\",\"#440154\",\"#5BC862\",\"#208F8C\",\"#FDE724\",\"#440154\",\"#5BC862\",\"#208F8C\",\"#FDE724\",\"#440154\",\"#5BC862\",\"#208F8C\",\"#FDE724\",\"#440154\",\"#5BC862\",\"#208F8C\",\"#FDE724\",\"#440154\",\"#5BC862\",\"#208F8C\",\"#FDE724\",\"#440154\",\"#5BC862\",\"#208F8C\",\"#FDE724\",\"#440154\",\"#5BC862\",\"#208F8C\",\"#440154\",\"#FDE724\",\"#5BC862\",\"#208F8C\",\"#FDE724\",\"#440154\",\"#5BC862\",\"#208F8C\",\"#FDE724\",\"#440154\",\"#5BC862\",\"#208F8C\",\"#FDE724\",\"#440154\",\"#5BC862\",\"#208F8C\",\"#FDE724\",\"#440154\",\"#5BC862\",\"#208F8C\",\"#440154\",\"#5BC862\",\"#208F8C\",\"#440154\",\"#440154\",\"#5BC862\",\"#5BC862\",\"#208F8C\",\"#208F8C\",\"#440154\",\"#5BC862\",\"#208F8C\",\"#440154\",\"#5BC862\",\"#208F8C\",\"#440154\",\"#5BC862\",\"#208F8C\",\"#440154\",\"#5BC862\",\"#208F8C\"],\"function\":[\"_frozen_phonon(, atoms=_, seeds=tuple([*]))\",\"_frozen_phonon(, atoms=_, seeds=tuple([*]))\",\"_frozen_phonon(, atoms=_, seeds=tuple([*]))\",\"_frozen_phonon(, atoms=_, seeds=tuple([*]))\",\"_\",\"_\",\"_\",\"_\",\"subgraph_callable-a6e2abd0-77a7-42e7-b63d-35a23b69(subgraph_callable-1bdb9aba-dfef-4fdb-8902-e5da3e60(...))\",\"subgraph_callable-a6e2abd0-77a7-42e7-b63d-35a23b69(subgraph_callable-1bdb9aba-dfef-4fdb-8902-e5da3e60(...))\",\"subgraph_callable-a6e2abd0-77a7-42e7-b63d-35a23b69(subgraph_callable-1bdb9aba-dfef-4fdb-8902-e5da3e60(...))\",\"subgraph_callable-a6e2abd0-77a7-42e7-b63d-35a23b69(subgraph_callable-1bdb9aba-dfef-4fdb-8902-e5da3e60(...))\",\"subgraph_callable-a6e2abd0-77a7-42e7-b63d-35a23b69(subgraph_callable-1bdb9aba-dfef-4fdb-8902-e5da3e60(...))\",\"subgraph_callable-a6e2abd0-77a7-42e7-b63d-35a23b69(subgraph_callable-1bdb9aba-dfef-4fdb-8902-e5da3e60(...))\",\"subgraph_callable-a6e2abd0-77a7-42e7-b63d-35a23b69(subgraph_callable-1bdb9aba-dfef-4fdb-8902-e5da3e60(...))\",\"subgraph_callable-a6e2abd0-77a7-42e7-b63d-35a23b69(subgraph_callable-1bdb9aba-dfef-4fdb-8902-e5da3e60(...))\",\"_\",\"subgraph_callable-a6e2abd0-77a7-42e7-b63d-35a23b69(subgraph_callable-1bdb9aba-dfef-4fdb-8902-e5da3e60(...))\",\"_\",\"subgraph_callable-a6e2abd0-77a7-42e7-b63d-35a23b69(subgraph_callable-1bdb9aba-dfef-4fdb-8902-e5da3e60(...))\",\"_\",\"_\",\"_\",\"subgraph_callable-a6e2abd0-77a7-42e7-b63d-35a23b69(subgraph_callable-1bdb9aba-dfef-4fdb-8902-e5da3e60(...))\",\"_\",\"subgraph_callable-a6e2abd0-77a7-42e7-b63d-35a23b69(subgraph_callable-1bdb9aba-dfef-4fdb-8902-e5da3e60(...))\",\"subgraph_callable-a6e2abd0-77a7-42e7-b63d-35a23b69(subgraph_callable-1bdb9aba-dfef-4fdb-8902-e5da3e60(...))\",\"_\",\"mean_combine([_, _])\",\"subgraph_callable-a6e2abd0-77a7-42e7-b63d-35a23b69(subgraph_callable-1bdb9aba-dfef-4fdb-8902-e5da3e60(...))\",\"subgraph_callable-a6e2abd0-77a7-42e7-b63d-35a23b69(subgraph_callable-1bdb9aba-dfef-4fdb-8902-e5da3e60(...))\",\"_\",\"mean_combine([_, _])\",\"mean_agg([_, _])\",\"subgraph_callable-a6e2abd0-77a7-42e7-b63d-35a23b69(subgraph_callable-1bdb9aba-dfef-4fdb-8902-e5da3e60(...))\",\"_\",\"subgraph_callable-a6e2abd0-77a7-42e7-b63d-35a23b69(subgraph_callable-1bdb9aba-dfef-4fdb-8902-e5da3e60(...))\",\"_\",\"_\",\"subgraph_callable-a6e2abd0-77a7-42e7-b63d-35a23b69(subgraph_callable-1bdb9aba-dfef-4fdb-8902-e5da3e60(...))\",\"subgraph_callable-a6e2abd0-77a7-42e7-b63d-35a23b69(subgraph_callable-1bdb9aba-dfef-4fdb-8902-e5da3e60(...))\",\"_\",\"_\",\"_\",\"subgraph_callable-a6e2abd0-77a7-42e7-b63d-35a23b69(subgraph_callable-1bdb9aba-dfef-4fdb-8902-e5da3e60(...))\",\"subgraph_callable-a6e2abd0-77a7-42e7-b63d-35a23b69(subgraph_callable-1bdb9aba-dfef-4fdb-8902-e5da3e60(...))\",\"subgraph_callable-a6e2abd0-77a7-42e7-b63d-35a23b69(subgraph_callable-1bdb9aba-dfef-4fdb-8902-e5da3e60(...))\",\"_\",\"_\",\"subgraph_callable-a6e2abd0-77a7-42e7-b63d-35a23b69(subgraph_callable-1bdb9aba-dfef-4fdb-8902-e5da3e60(...))\",\"subgraph_callable-a6e2abd0-77a7-42e7-b63d-35a23b69(subgraph_callable-1bdb9aba-dfef-4fdb-8902-e5da3e60(...))\",\"_\",\"subgraph_callable-a6e2abd0-77a7-42e7-b63d-35a23b69(subgraph_callable-1bdb9aba-dfef-4fdb-8902-e5da3e60(...))\",\"_\",\"subgraph_callable-a6e2abd0-77a7-42e7-b63d-35a23b69(subgraph_callable-1bdb9aba-dfef-4fdb-8902-e5da3e60(...))\",\"_\",\"_\",\"subgraph_callable-a6e2abd0-77a7-42e7-b63d-35a23b69(subgraph_callable-1bdb9aba-dfef-4fdb-8902-e5da3e60(...))\",\"subgraph_callable-a6e2abd0-77a7-42e7-b63d-35a23b69(subgraph_callable-1bdb9aba-dfef-4fdb-8902-e5da3e60(...))\",\"_\",\"subgraph_callable-a6e2abd0-77a7-42e7-b63d-35a23b69(subgraph_callable-1bdb9aba-dfef-4fdb-8902-e5da3e60(...))\",\"_\",\"_\",\"subgraph_callable-a6e2abd0-77a7-42e7-b63d-35a23b69(subgraph_callable-1bdb9aba-dfef-4fdb-8902-e5da3e60(...))\",\"_\",\"subgraph_callable-a6e2abd0-77a7-42e7-b63d-35a23b69(subgraph_callable-1bdb9aba-dfef-4fdb-8902-e5da3e60(...))\",\"subgraph_callable-a6e2abd0-77a7-42e7-b63d-35a23b69(subgraph_callable-1bdb9aba-dfef-4fdb-8902-e5da3e60(...))\",\"_\",\"subgraph_callable-a6e2abd0-77a7-42e7-b63d-35a23b69(subgraph_callable-1bdb9aba-dfef-4fdb-8902-e5da3e60(...))\",\"_\",\"subgraph_callable-a6e2abd0-77a7-42e7-b63d-35a23b69(subgraph_callable-1bdb9aba-dfef-4fdb-8902-e5da3e60(...))\",\"_\",\"subgraph_callable-a6e2abd0-77a7-42e7-b63d-35a23b69(subgraph_callable-1bdb9aba-dfef-4fdb-8902-e5da3e60(...))\",\"_\",\"subgraph_callable-a6e2abd0-77a7-42e7-b63d-35a23b69(subgraph_callable-1bdb9aba-dfef-4fdb-8902-e5da3e60(...))\",\"_\",\"subgraph_callable-a6e2abd0-77a7-42e7-b63d-35a23b69(subgraph_callable-1bdb9aba-dfef-4fdb-8902-e5da3e60(...))\",\"_\",\"_\",\"_\",\"subgraph_callable-a6e2abd0-77a7-42e7-b63d-35a23b69(subgraph_callable-1bdb9aba-dfef-4fdb-8902-e5da3e60(...))\",\"subgraph_callable-a6e2abd0-77a7-42e7-b63d-35a23b69(subgraph_callable-1bdb9aba-dfef-4fdb-8902-e5da3e60(...))\",\"subgraph_callable-a6e2abd0-77a7-42e7-b63d-35a23b69(subgraph_callable-1bdb9aba-dfef-4fdb-8902-e5da3e60(...))\",\"_\",\"subgraph_callable-a6e2abd0-77a7-42e7-b63d-35a23b69(subgraph_callable-1bdb9aba-dfef-4fdb-8902-e5da3e60(...))\",\"_\",\"subgraph_callable-a6e2abd0-77a7-42e7-b63d-35a23b69(subgraph_callable-1bdb9aba-dfef-4fdb-8902-e5da3e60(...))\",\"_\",\"subgraph_callable-a6e2abd0-77a7-42e7-b63d-35a23b69(subgraph_callable-1bdb9aba-dfef-4fdb-8902-e5da3e60(...))\",\"_\",\"subgraph_callable-a6e2abd0-77a7-42e7-b63d-35a23b69(subgraph_callable-1bdb9aba-dfef-4fdb-8902-e5da3e60(...))\",\"_\",\"subgraph_callable-a6e2abd0-77a7-42e7-b63d-35a23b69(subgraph_callable-1bdb9aba-dfef-4fdb-8902-e5da3e60(...))\",\"_\",\"_\",\"subgraph_callable-a6e2abd0-77a7-42e7-b63d-35a23b69(subgraph_callable-1bdb9aba-dfef-4fdb-8902-e5da3e60(...))\",\"_\",\"subgraph_callable-a6e2abd0-77a7-42e7-b63d-35a23b69(subgraph_callable-1bdb9aba-dfef-4fdb-8902-e5da3e60(...))\",\"subgraph_callable-a6e2abd0-77a7-42e7-b63d-35a23b69(subgraph_callable-1bdb9aba-dfef-4fdb-8902-e5da3e60(...))\",\"_\",\"subgraph_callable-a6e2abd0-77a7-42e7-b63d-35a23b69(subgraph_callable-1bdb9aba-dfef-4fdb-8902-e5da3e60(...))\",\"_\",\"subgraph_callable-a6e2abd0-77a7-42e7-b63d-35a23b69(subgraph_callable-1bdb9aba-dfef-4fdb-8902-e5da3e60(...))\",\"_\",\"subgraph_callable-a6e2abd0-77a7-42e7-b63d-35a23b69(subgraph_callable-1bdb9aba-dfef-4fdb-8902-e5da3e60(...))\",\"_\",\"subgraph_callable-a6e2abd0-77a7-42e7-b63d-35a23b69(subgraph_callable-1bdb9aba-dfef-4fdb-8902-e5da3e60(...))\",\"_\",\"_\",\"subgraph_callable-a6e2abd0-77a7-42e7-b63d-35a23b69(subgraph_callable-1bdb9aba-dfef-4fdb-8902-e5da3e60(...))\",\"_\",\"subgraph_callable-a6e2abd0-77a7-42e7-b63d-35a23b69(subgraph_callable-1bdb9aba-dfef-4fdb-8902-e5da3e60(...))\",\"subgraph_callable-a6e2abd0-77a7-42e7-b63d-35a23b69(subgraph_callable-1bdb9aba-dfef-4fdb-8902-e5da3e60(...))\",\"_\",\"subgraph_callable-a6e2abd0-77a7-42e7-b63d-35a23b69(subgraph_callable-1bdb9aba-dfef-4fdb-8902-e5da3e60(...))\",\"_\",\"subgraph_callable-a6e2abd0-77a7-42e7-b63d-35a23b69(subgraph_callable-1bdb9aba-dfef-4fdb-8902-e5da3e60(...))\",\"_\",\"_\",\"subgraph_callable-a6e2abd0-77a7-42e7-b63d-35a23b69(subgraph_callable-1bdb9aba-dfef-4fdb-8902-e5da3e60(...))\",\"subgraph_callable-a6e2abd0-77a7-42e7-b63d-35a23b69(subgraph_callable-1bdb9aba-dfef-4fdb-8902-e5da3e60(...))\",\"_\",\"subgraph_callable-a6e2abd0-77a7-42e7-b63d-35a23b69(subgraph_callable-1bdb9aba-dfef-4fdb-8902-e5da3e60(...))\",\"_\",\"subgraph_callable-a6e2abd0-77a7-42e7-b63d-35a23b69(subgraph_callable-1bdb9aba-dfef-4fdb-8902-e5da3e60(...))\",\"_\",\"subgraph_callable-a6e2abd0-77a7-42e7-b63d-35a23b69(subgraph_callable-1bdb9aba-dfef-4fdb-8902-e5da3e60(...))\",\"_\",\"subgraph_callable-a6e2abd0-77a7-42e7-b63d-35a23b69(subgraph_callable-1bdb9aba-dfef-4fdb-8902-e5da3e60(...))\",\"_\",\"subgraph_callable-a6e2abd0-77a7-42e7-b63d-35a23b69(subgraph_callable-1bdb9aba-dfef-4fdb-8902-e5da3e60(...))\",\"_\",\"subgraph_callable-a6e2abd0-77a7-42e7-b63d-35a23b69(subgraph_callable-1bdb9aba-dfef-4fdb-8902-e5da3e60(...))\",\"_\",\"subgraph_callable-a6e2abd0-77a7-42e7-b63d-35a23b69(subgraph_callable-1bdb9aba-dfef-4fdb-8902-e5da3e60(...))\",\"_\",\"subgraph_callable-a6e2abd0-77a7-42e7-b63d-35a23b69(subgraph_callable-1bdb9aba-dfef-4fdb-8902-e5da3e60(...))\",\"_\",\"subgraph_callable-a6e2abd0-77a7-42e7-b63d-35a23b69(subgraph_callable-1bdb9aba-dfef-4fdb-8902-e5da3e60(...))\",\"_\",\"_\",\"subgraph_callable-a6e2abd0-77a7-42e7-b63d-35a23b69(subgraph_callable-1bdb9aba-dfef-4fdb-8902-e5da3e60(...))\",\"subgraph_callable-a6e2abd0-77a7-42e7-b63d-35a23b69(subgraph_callable-1bdb9aba-dfef-4fdb-8902-e5da3e60(...))\",\"_\",\"subgraph_callable-a6e2abd0-77a7-42e7-b63d-35a23b69(subgraph_callable-1bdb9aba-dfef-4fdb-8902-e5da3e60(...))\",\"_\",\"subgraph_callable-a6e2abd0-77a7-42e7-b63d-35a23b69(subgraph_callable-1bdb9aba-dfef-4fdb-8902-e5da3e60(...))\",\"_\",\"subgraph_callable-a6e2abd0-77a7-42e7-b63d-35a23b69(subgraph_callable-1bdb9aba-dfef-4fdb-8902-e5da3e60(...))\",\"_\",\"_\",\"subgraph_callable-a6e2abd0-77a7-42e7-b63d-35a23b69(subgraph_callable-1bdb9aba-dfef-4fdb-8902-e5da3e60(...))\",\"subgraph_callable-a6e2abd0-77a7-42e7-b63d-35a23b69(subgraph_callable-1bdb9aba-dfef-4fdb-8902-e5da3e60(...))\",\"_\",\"subgraph_callable-a6e2abd0-77a7-42e7-b63d-35a23b69(subgraph_callable-1bdb9aba-dfef-4fdb-8902-e5da3e60(...))\",\"_\",\"subgraph_callable-a6e2abd0-77a7-42e7-b63d-35a23b69(subgraph_callable-1bdb9aba-dfef-4fdb-8902-e5da3e60(...))\",\"_\",\"subgraph_callable-a6e2abd0-77a7-42e7-b63d-35a23b69(subgraph_callable-1bdb9aba-dfef-4fdb-8902-e5da3e60(...))\",\"_\",\"subgraph_callable-a6e2abd0-77a7-42e7-b63d-35a23b69(subgraph_callable-1bdb9aba-dfef-4fdb-8902-e5da3e60(...))\",\"_\",\"mean_combine([_, _])\",\"subgraph_callable-a6e2abd0-77a7-42e7-b63d-35a23b69(subgraph_callable-1bdb9aba-dfef-4fdb-8902-e5da3e60(...))\",\"_\",\"mean_combine([_, _])\",\"subgraph_callable-a6e2abd0-77a7-42e7-b63d-35a23b69(subgraph_callable-1bdb9aba-dfef-4fdb-8902-e5da3e60(...))\",\"_\",\"mean_combine([_, _])\",\"subgraph_callable-a6e2abd0-77a7-42e7-b63d-35a23b69(subgraph_callable-1bdb9aba-dfef-4fdb-8902-e5da3e60(...))\",\"_\",\"_\",\"mean_combine([_, _])\",\"mean_combine([_, _])\",\"subgraph_callable-a6e2abd0-77a7-42e7-b63d-35a23b69(subgraph_callable-1bdb9aba-dfef-4fdb-8902-e5da3e60(...))\",\"subgraph_callable-a6e2abd0-77a7-42e7-b63d-35a23b69(subgraph_callable-1bdb9aba-dfef-4fdb-8902-e5da3e60(...))\",\"_\",\"mean_combine([_, _])\",\"subgraph_callable-a6e2abd0-77a7-42e7-b63d-35a23b69(subgraph_callable-1bdb9aba-dfef-4fdb-8902-e5da3e60(...))\",\"_\",\"mean_combine([_, _])\",\"subgraph_callable-a6e2abd0-77a7-42e7-b63d-35a23b69(subgraph_callable-1bdb9aba-dfef-4fdb-8902-e5da3e60(...))\",\"_\",\"mean_combine([_, _])\",\"subgraph_callable-a6e2abd0-77a7-42e7-b63d-35a23b69(subgraph_callable-1bdb9aba-dfef-4fdb-8902-e5da3e60(...))\",\"_\",\"mean_combine([_, _])\",\"subgraph_callable-a6e2abd0-77a7-42e7-b63d-35a23b69(subgraph_callable-1bdb9aba-dfef-4fdb-8902-e5da3e60(...))\",\"_\",\"mean_combine([_, _])\",\"subgraph_callable-a6e2abd0-77a7-42e7-b63d-35a23b69(subgraph_callable-1bdb9aba-dfef-4fdb-8902-e5da3e60(...))\",\"_\",\"_\",\"mean_combine([_, _])\",\"mean_combine([_, _])\",\"subgraph_callable-a6e2abd0-77a7-42e7-b63d-35a23b69(subgraph_callable-1bdb9aba-dfef-4fdb-8902-e5da3e60(...))\",\"_\",\"subgraph_callable-a6e2abd0-77a7-42e7-b63d-35a23b69(subgraph_callable-1bdb9aba-dfef-4fdb-8902-e5da3e60(...))\",\"mean_combine([_, _])\",\"subgraph_callable-a6e2abd0-77a7-42e7-b63d-35a23b69(subgraph_callable-1bdb9aba-dfef-4fdb-8902-e5da3e60(...))\",\"_\",\"mean_combine([_, _])\",\"subgraph_callable-a6e2abd0-77a7-42e7-b63d-35a23b69(subgraph_callable-1bdb9aba-dfef-4fdb-8902-e5da3e60(...))\",\"_\",\"mean_combine([_, _])\",\"subgraph_callable-a6e2abd0-77a7-42e7-b63d-35a23b69(subgraph_callable-1bdb9aba-dfef-4fdb-8902-e5da3e60(...))\",\"_\",\"mean_combine([_, _])\",\"subgraph_callable-a6e2abd0-77a7-42e7-b63d-35a23b69(subgraph_callable-1bdb9aba-dfef-4fdb-8902-e5da3e60(...))\",\"_\",\"mean_combine([_, _])\",\"subgraph_callable-a6e2abd0-77a7-42e7-b63d-35a23b69(subgraph_callable-1bdb9aba-dfef-4fdb-8902-e5da3e60(...))\",\"_\",\"mean_combine([_, _])\",\"subgraph_callable-a6e2abd0-77a7-42e7-b63d-35a23b69(subgraph_callable-1bdb9aba-dfef-4fdb-8902-e5da3e60(...))\",\"_\",\"mean_combine([_, _])\",\"subgraph_callable-a6e2abd0-77a7-42e7-b63d-35a23b69(subgraph_callable-1bdb9aba-dfef-4fdb-8902-e5da3e60(...))\",\"_\",\"mean_combine([_, _])\",\"_\",\"subgraph_callable-a6e2abd0-77a7-42e7-b63d-35a23b69(subgraph_callable-1bdb9aba-dfef-4fdb-8902-e5da3e60(...))\",\"mean_combine([_, _])\",\"subgraph_callable-a6e2abd0-77a7-42e7-b63d-35a23b69(subgraph_callable-1bdb9aba-dfef-4fdb-8902-e5da3e60(...))\",\"_\",\"mean_combine([_, _])\",\"subgraph_callable-a6e2abd0-77a7-42e7-b63d-35a23b69(subgraph_callable-1bdb9aba-dfef-4fdb-8902-e5da3e60(...))\",\"_\",\"mean_combine([_, _])\",\"subgraph_callable-a6e2abd0-77a7-42e7-b63d-35a23b69(subgraph_callable-1bdb9aba-dfef-4fdb-8902-e5da3e60(...))\",\"_\",\"mean_combine([_, _])\",\"subgraph_callable-a6e2abd0-77a7-42e7-b63d-35a23b69(subgraph_callable-1bdb9aba-dfef-4fdb-8902-e5da3e60(...))\",\"_\",\"mean_combine([_, _])\",\"subgraph_callable-a6e2abd0-77a7-42e7-b63d-35a23b69(subgraph_callable-1bdb9aba-dfef-4fdb-8902-e5da3e60(...))\",\"_\",\"mean_combine([_, _])\",\"subgraph_callable-a6e2abd0-77a7-42e7-b63d-35a23b69(subgraph_callable-1bdb9aba-dfef-4fdb-8902-e5da3e60(...))\",\"_\",\"_\",\"mean_combine([_, _])\",\"mean_combine([_, _])\",\"subgraph_callable-a6e2abd0-77a7-42e7-b63d-35a23b69(subgraph_callable-1bdb9aba-dfef-4fdb-8902-e5da3e60(...))\",\"subgraph_callable-a6e2abd0-77a7-42e7-b63d-35a23b69(subgraph_callable-1bdb9aba-dfef-4fdb-8902-e5da3e60(...))\",\"_\",\"mean_combine([_, _])\",\"subgraph_callable-a6e2abd0-77a7-42e7-b63d-35a23b69(subgraph_callable-1bdb9aba-dfef-4fdb-8902-e5da3e60(...))\",\"_\",\"mean_combine([_, _])\",\"subgraph_callable-a6e2abd0-77a7-42e7-b63d-35a23b69(subgraph_callable-1bdb9aba-dfef-4fdb-8902-e5da3e60(...))\",\"_\",\"_\",\"mean_combine([_, _])\",\"mean_combine([_, _])\",\"subgraph_callable-a6e2abd0-77a7-42e7-b63d-35a23b69(subgraph_callable-1bdb9aba-dfef-4fdb-8902-e5da3e60(...))\",\"subgraph_callable-a6e2abd0-77a7-42e7-b63d-35a23b69(subgraph_callable-1bdb9aba-dfef-4fdb-8902-e5da3e60(...))\",\"_\",\"_\",\"mean_combine([_, _])\",\"mean_combine([_, _])\",\"subgraph_callable-a6e2abd0-77a7-42e7-b63d-35a23b69(subgraph_callable-1bdb9aba-dfef-4fdb-8902-e5da3e60(...))\",\"subgraph_callable-a6e2abd0-77a7-42e7-b63d-35a23b69(subgraph_callable-1bdb9aba-dfef-4fdb-8902-e5da3e60(...))\",\"_\",\"mean_combine([_, _])\",\"_\",\"subgraph_callable-a6e2abd0-77a7-42e7-b63d-35a23b69(subgraph_callable-1bdb9aba-dfef-4fdb-8902-e5da3e60(...))\",\"mean_combine([_, _])\",\"subgraph_callable-a6e2abd0-77a7-42e7-b63d-35a23b69(subgraph_callable-1bdb9aba-dfef-4fdb-8902-e5da3e60(...))\",\"_\",\"mean_combine([_, _])\",\"subgraph_callable-a6e2abd0-77a7-42e7-b63d-35a23b69(subgraph_callable-1bdb9aba-dfef-4fdb-8902-e5da3e60(...))\",\"_\",\"mean_combine([_, _])\",\"subgraph_callable-a6e2abd0-77a7-42e7-b63d-35a23b69(subgraph_callable-1bdb9aba-dfef-4fdb-8902-e5da3e60(...))\",\"_\",\"_\",\"mean_combine([_, _])\",\"mean_combine([_, _])\",\"subgraph_callable-a6e2abd0-77a7-42e7-b63d-35a23b69(subgraph_callable-1bdb9aba-dfef-4fdb-8902-e5da3e60(...))\",\"subgraph_callable-a6e2abd0-77a7-42e7-b63d-35a23b69(subgraph_callable-1bdb9aba-dfef-4fdb-8902-e5da3e60(...))\",\"_\",\"mean_combine([_, _])\",\"subgraph_callable-a6e2abd0-77a7-42e7-b63d-35a23b69(subgraph_callable-1bdb9aba-dfef-4fdb-8902-e5da3e60(...))\",\"_\",\"mean_combine([_, _])\",\"subgraph_callable-a6e2abd0-77a7-42e7-b63d-35a23b69(subgraph_callable-1bdb9aba-dfef-4fdb-8902-e5da3e60(...))\",\"_\",\"_\",\"mean_combine([_, _])\",\"mean_combine([_, _])\",\"subgraph_callable-a6e2abd0-77a7-42e7-b63d-35a23b69(subgraph_callable-1bdb9aba-dfef-4fdb-8902-e5da3e60(...))\",\"subgraph_callable-a6e2abd0-77a7-42e7-b63d-35a23b69(subgraph_callable-1bdb9aba-dfef-4fdb-8902-e5da3e60(...))\",\"_\",\"mean_combine([_, _])\",\"subgraph_callable-a6e2abd0-77a7-42e7-b63d-35a23b69(subgraph_callable-1bdb9aba-dfef-4fdb-8902-e5da3e60(...))\",\"_\",\"mean_combine([_, _])\",\"subgraph_callable-a6e2abd0-77a7-42e7-b63d-35a23b69(subgraph_callable-1bdb9aba-dfef-4fdb-8902-e5da3e60(...))\",\"_\",\"mean_combine([_, _])\",\"subgraph_callable-a6e2abd0-77a7-42e7-b63d-35a23b69(subgraph_callable-1bdb9aba-dfef-4fdb-8902-e5da3e60(...))\",\"_\",\"mean_combine([_, _])\",\"subgraph_callable-a6e2abd0-77a7-42e7-b63d-35a23b69(subgraph_callable-1bdb9aba-dfef-4fdb-8902-e5da3e60(...))\",\"_\",\"mean_combine([_, _])\",\"subgraph_callable-a6e2abd0-77a7-42e7-b63d-35a23b69(subgraph_callable-1bdb9aba-dfef-4fdb-8902-e5da3e60(...))\",\"_\",\"mean_combine([_, _])\",\"subgraph_callable-a6e2abd0-77a7-42e7-b63d-35a23b69(subgraph_callable-1bdb9aba-dfef-4fdb-8902-e5da3e60(...))\",\"_\",\"_\",\"mean_combine([_, _])\",\"mean_combine([_, _])\",\"subgraph_callable-a6e2abd0-77a7-42e7-b63d-35a23b69(subgraph_callable-1bdb9aba-dfef-4fdb-8902-e5da3e60(...))\",\"subgraph_callable-a6e2abd0-77a7-42e7-b63d-35a23b69(subgraph_callable-1bdb9aba-dfef-4fdb-8902-e5da3e60(...))\",\"_\",\"mean_combine([_, _])\",\"subgraph_callable-a6e2abd0-77a7-42e7-b63d-35a23b69(subgraph_callable-1bdb9aba-dfef-4fdb-8902-e5da3e60(...))\",\"_\",\"mean_combine([_, _])\",\"subgraph_callable-a6e2abd0-77a7-42e7-b63d-35a23b69(subgraph_callable-1bdb9aba-dfef-4fdb-8902-e5da3e60(...))\",\"_\",\"mean_combine([_, _])\",\"_\",\"subgraph_callable-a6e2abd0-77a7-42e7-b63d-35a23b69(subgraph_callable-1bdb9aba-dfef-4fdb-8902-e5da3e60(...))\",\"mean_combine([_, _])\",\"subgraph_callable-a6e2abd0-77a7-42e7-b63d-35a23b69(subgraph_callable-1bdb9aba-dfef-4fdb-8902-e5da3e60(...))\",\"_\",\"mean_combine([_, _])\",\"subgraph_callable-a6e2abd0-77a7-42e7-b63d-35a23b69(subgraph_callable-1bdb9aba-dfef-4fdb-8902-e5da3e60(...))\",\"_\",\"mean_combine([_, _])\",\"subgraph_callable-a6e2abd0-77a7-42e7-b63d-35a23b69(subgraph_callable-1bdb9aba-dfef-4fdb-8902-e5da3e60(...))\",\"_\",\"_\",\"mean_combine([_, _])\",\"mean_combine([_, _])\",\"subgraph_callable-a6e2abd0-77a7-42e7-b63d-35a23b69(subgraph_callable-1bdb9aba-dfef-4fdb-8902-e5da3e60(...))\",\"subgraph_callable-a6e2abd0-77a7-42e7-b63d-35a23b69(subgraph_callable-1bdb9aba-dfef-4fdb-8902-e5da3e60(...))\",\"_\",\"mean_combine([_, _])\",\"subgraph_callable-a6e2abd0-77a7-42e7-b63d-35a23b69(subgraph_callable-1bdb9aba-dfef-4fdb-8902-e5da3e60(...))\",\"_\",\"mean_combine([_, _])\",\"subgraph_callable-a6e2abd0-77a7-42e7-b63d-35a23b69(subgraph_callable-1bdb9aba-dfef-4fdb-8902-e5da3e60(...))\",\"_\",\"mean_combine([_, _])\",\"subgraph_callable-a6e2abd0-77a7-42e7-b63d-35a23b69(subgraph_callable-1bdb9aba-dfef-4fdb-8902-e5da3e60(...))\",\"_\",\"mean_combine([_, _])\",\"mean_agg([_, _])\",\"subgraph_callable-a6e2abd0-77a7-42e7-b63d-35a23b69(subgraph_callable-1bdb9aba-dfef-4fdb-8902-e5da3e60(...))\",\"_\",\"mean_combine([_, _])\",\"mean_agg([_, _])\",\"subgraph_callable-a6e2abd0-77a7-42e7-b63d-35a23b69(subgraph_callable-1bdb9aba-dfef-4fdb-8902-e5da3e60(...))\",\"_\",\"subgraph_callable-a6e2abd0-77a7-42e7-b63d-35a23b69(subgraph_callable-1bdb9aba-dfef-4fdb-8902-e5da3e60(...))\",\"_\",\"mean_combine([_, _])\",\"mean_agg([_, _])\",\"subgraph_callable-a6e2abd0-77a7-42e7-b63d-35a23b69(subgraph_callable-1bdb9aba-dfef-4fdb-8902-e5da3e60(...))\",\"_\",\"subgraph_callable-a6e2abd0-77a7-42e7-b63d-35a23b69(subgraph_callable-1bdb9aba-dfef-4fdb-8902-e5da3e60(...))\",\"_\",\"mean_combine([_, _])\",\"mean_agg([_, _])\",\"subgraph_callable-a6e2abd0-77a7-42e7-b63d-35a23b69(subgraph_callable-1bdb9aba-dfef-4fdb-8902-e5da3e60(...))\",\"_\",\"subgraph_callable-a6e2abd0-77a7-42e7-b63d-35a23b69(subgraph_callable-1bdb9aba-dfef-4fdb-8902-e5da3e60(...))\",\"_\",\"subgraph_callable-a6e2abd0-77a7-42e7-b63d-35a23b69(subgraph_callable-1bdb9aba-dfef-4fdb-8902-e5da3e60(...))\",\"_\",\"subgraph_callable-a6e2abd0-77a7-42e7-b63d-35a23b69(subgraph_callable-1bdb9aba-dfef-4fdb-8902-e5da3e60(...))\",\"_\",\"subgraph_callable-a6e2abd0-77a7-42e7-b63d-35a23b69(subgraph_callable-1bdb9aba-dfef-4fdb-8902-e5da3e60(...))\",\"_\",\"subgraph_callable-a6e2abd0-77a7-42e7-b63d-35a23b69(subgraph_callable-1bdb9aba-dfef-4fdb-8902-e5da3e60(...))\",\"_\",\"subgraph_callable-a6e2abd0-77a7-42e7-b63d-35a23b69(subgraph_callable-1bdb9aba-dfef-4fdb-8902-e5da3e60(...))\",\"_\",\"subgraph_callable-a6e2abd0-77a7-42e7-b63d-35a23b69(subgraph_callable-1bdb9aba-dfef-4fdb-8902-e5da3e60(...))\",\"_\",\"subgraph_callable-a6e2abd0-77a7-42e7-b63d-35a23b69(subgraph_callable-1bdb9aba-dfef-4fdb-8902-e5da3e60(...))\",\"_\",\"subgraph_callable-a6e2abd0-77a7-42e7-b63d-35a23b69(subgraph_callable-1bdb9aba-dfef-4fdb-8902-e5da3e60(...))\",\"_\",\"subgraph_callable-a6e2abd0-77a7-42e7-b63d-35a23b69(subgraph_callable-1bdb9aba-dfef-4fdb-8902-e5da3e60(...))\",\"_\",\"subgraph_callable-a6e2abd0-77a7-42e7-b63d-35a23b69(subgraph_callable-1bdb9aba-dfef-4fdb-8902-e5da3e60(...))\",\"_\",\"subgraph_callable-a6e2abd0-77a7-42e7-b63d-35a23b69(subgraph_callable-1bdb9aba-dfef-4fdb-8902-e5da3e60(...))\",\"_\",\"subgraph_callable-a6e2abd0-77a7-42e7-b63d-35a23b69(subgraph_callable-1bdb9aba-dfef-4fdb-8902-e5da3e60(...))\",\"_\",\"subgraph_callable-a6e2abd0-77a7-42e7-b63d-35a23b69(subgraph_callable-1bdb9aba-dfef-4fdb-8902-e5da3e60(...))\",\"_\",\"subgraph_callable-a6e2abd0-77a7-42e7-b63d-35a23b69(subgraph_callable-1bdb9aba-dfef-4fdb-8902-e5da3e60(...))\",\"_\",\"subgraph_callable-a6e2abd0-77a7-42e7-b63d-35a23b69(subgraph_callable-1bdb9aba-dfef-4fdb-8902-e5da3e60(...))\",\"_\",\"subgraph_callable-a6e2abd0-77a7-42e7-b63d-35a23b69(subgraph_callable-1bdb9aba-dfef-4fdb-8902-e5da3e60(...))\",\"_\",\"subgraph_callable-a6e2abd0-77a7-42e7-b63d-35a23b69(subgraph_callable-1bdb9aba-dfef-4fdb-8902-e5da3e60(...))\",\"_\",\"subgraph_callable-a6e2abd0-77a7-42e7-b63d-35a23b69(subgraph_callable-1bdb9aba-dfef-4fdb-8902-e5da3e60(...))\",\"_\",\"subgraph_callable-a6e2abd0-77a7-42e7-b63d-35a23b69(subgraph_callable-1bdb9aba-dfef-4fdb-8902-e5da3e60(...))\",\"_\",\"subgraph_callable-a6e2abd0-77a7-42e7-b63d-35a23b69(subgraph_callable-1bdb9aba-dfef-4fdb-8902-e5da3e60(...))\",\"_\",\"subgraph_callable-a6e2abd0-77a7-42e7-b63d-35a23b69(subgraph_callable-1bdb9aba-dfef-4fdb-8902-e5da3e60(...))\",\"_\",\"subgraph_callable-a6e2abd0-77a7-42e7-b63d-35a23b69(subgraph_callable-1bdb9aba-dfef-4fdb-8902-e5da3e60(...))\",\"_\",\"subgraph_callable-a6e2abd0-77a7-42e7-b63d-35a23b69(subgraph_callable-1bdb9aba-dfef-4fdb-8902-e5da3e60(...))\",\"_\",\"subgraph_callable-a6e2abd0-77a7-42e7-b63d-35a23b69(subgraph_callable-1bdb9aba-dfef-4fdb-8902-e5da3e60(...))\",\"_\",\"subgraph_callable-a6e2abd0-77a7-42e7-b63d-35a23b69(subgraph_callable-1bdb9aba-dfef-4fdb-8902-e5da3e60(...))\",\"_\",\"subgraph_callable-a6e2abd0-77a7-42e7-b63d-35a23b69(subgraph_callable-1bdb9aba-dfef-4fdb-8902-e5da3e60(...))\",\"_\",\"subgraph_callable-a6e2abd0-77a7-42e7-b63d-35a23b69(subgraph_callable-1bdb9aba-dfef-4fdb-8902-e5da3e60(...))\",\"_\",\"subgraph_callable-a6e2abd0-77a7-42e7-b63d-35a23b69(subgraph_callable-1bdb9aba-dfef-4fdb-8902-e5da3e60(...))\",\"_\",\"subgraph_callable-a6e2abd0-77a7-42e7-b63d-35a23b69(subgraph_callable-1bdb9aba-dfef-4fdb-8902-e5da3e60(...))\",\"_\",\"subgraph_callable-a6e2abd0-77a7-42e7-b63d-35a23b69(subgraph_callable-1bdb9aba-dfef-4fdb-8902-e5da3e60(...))\",\"_\",\"subgraph_callable-a6e2abd0-77a7-42e7-b63d-35a23b69(subgraph_callable-1bdb9aba-dfef-4fdb-8902-e5da3e60(...))\",\"_\",\"subgraph_callable-a6e2abd0-77a7-42e7-b63d-35a23b69(subgraph_callable-1bdb9aba-dfef-4fdb-8902-e5da3e60(...))\",\"_\",\"subgraph_callable-a6e2abd0-77a7-42e7-b63d-35a23b69(subgraph_callable-1bdb9aba-dfef-4fdb-8902-e5da3e60(...))\",\"_\",\"subgraph_callable-a6e2abd0-77a7-42e7-b63d-35a23b69(subgraph_callable-1bdb9aba-dfef-4fdb-8902-e5da3e60(...))\",\"_\",\"subgraph_callable-a6e2abd0-77a7-42e7-b63d-35a23b69(subgraph_callable-1bdb9aba-dfef-4fdb-8902-e5da3e60(...))\",\"_\",\"subgraph_callable-a6e2abd0-77a7-42e7-b63d-35a23b69(subgraph_callable-1bdb9aba-dfef-4fdb-8902-e5da3e60(...))\",\"_\",\"subgraph_callable-a6e2abd0-77a7-42e7-b63d-35a23b69(subgraph_callable-1bdb9aba-dfef-4fdb-8902-e5da3e60(...))\",\"_\",\"subgraph_callable-a6e2abd0-77a7-42e7-b63d-35a23b69(subgraph_callable-1bdb9aba-dfef-4fdb-8902-e5da3e60(...))\",\"_\",\"subgraph_callable-a6e2abd0-77a7-42e7-b63d-35a23b69(subgraph_callable-1bdb9aba-dfef-4fdb-8902-e5da3e60(...))\",\"_\",\"subgraph_callable-a6e2abd0-77a7-42e7-b63d-35a23b69(subgraph_callable-1bdb9aba-dfef-4fdb-8902-e5da3e60(...))\",\"_\",\"subgraph_callable-a6e2abd0-77a7-42e7-b63d-35a23b69(subgraph_callable-1bdb9aba-dfef-4fdb-8902-e5da3e60(...))\",\"_\",\"subgraph_callable-a6e2abd0-77a7-42e7-b63d-35a23b69(subgraph_callable-1bdb9aba-dfef-4fdb-8902-e5da3e60(...))\",\"_\",\"subgraph_callable-a6e2abd0-77a7-42e7-b63d-35a23b69(subgraph_callable-1bdb9aba-dfef-4fdb-8902-e5da3e60(...))\",\"_\",\"subgraph_callable-a6e2abd0-77a7-42e7-b63d-35a23b69(subgraph_callable-1bdb9aba-dfef-4fdb-8902-e5da3e60(...))\",\"_\",\"subgraph_callable-a6e2abd0-77a7-42e7-b63d-35a23b69(subgraph_callable-1bdb9aba-dfef-4fdb-8902-e5da3e60(...))\",\"_\",\"subgraph_callable-a6e2abd0-77a7-42e7-b63d-35a23b69(subgraph_callable-1bdb9aba-dfef-4fdb-8902-e5da3e60(...))\",\"_\",\"subgraph_callable-a6e2abd0-77a7-42e7-b63d-35a23b69(subgraph_callable-1bdb9aba-dfef-4fdb-8902-e5da3e60(...))\",\"_\",\"_\",\"subgraph_callable-a6e2abd0-77a7-42e7-b63d-35a23b69(subgraph_callable-1bdb9aba-dfef-4fdb-8902-e5da3e60(...))\",\"subgraph_callable-a6e2abd0-77a7-42e7-b63d-35a23b69(subgraph_callable-1bdb9aba-dfef-4fdb-8902-e5da3e60(...))\",\"_\",\"subgraph_callable-a6e2abd0-77a7-42e7-b63d-35a23b69(subgraph_callable-1bdb9aba-dfef-4fdb-8902-e5da3e60(...))\",\"_\",\"subgraph_callable-a6e2abd0-77a7-42e7-b63d-35a23b69(subgraph_callable-1bdb9aba-dfef-4fdb-8902-e5da3e60(...))\",\"_\",\"subgraph_callable-a6e2abd0-77a7-42e7-b63d-35a23b69(subgraph_callable-1bdb9aba-dfef-4fdb-8902-e5da3e60(...))\",\"_\",\"subgraph_callable-a6e2abd0-77a7-42e7-b63d-35a23b69(subgraph_callable-1bdb9aba-dfef-4fdb-8902-e5da3e60(...))\",\"_\",\"subgraph_callable-a6e2abd0-77a7-42e7-b63d-35a23b69(subgraph_callable-1bdb9aba-dfef-4fdb-8902-e5da3e60(...))\",\"_\",\"subgraph_callable-a6e2abd0-77a7-42e7-b63d-35a23b69(subgraph_callable-1bdb9aba-dfef-4fdb-8902-e5da3e60(...))\",\"_\",\"subgraph_callable-a6e2abd0-77a7-42e7-b63d-35a23b69(subgraph_callable-1bdb9aba-dfef-4fdb-8902-e5da3e60(...))\",\"_\",\"mean_combine([_, _])\",\"mean_agg([_, _])\",\"subgraph_callable-a6e2abd0-77a7-42e7-b63d-35a23b69(subgraph_callable-1bdb9aba-dfef-4fdb-8902-e5da3e60(...))\",\"_\",\"mean_combine([_, _])\",\"mean_agg([_, _])\",\"subgraph_callable-a6e2abd0-77a7-42e7-b63d-35a23b69(subgraph_callable-1bdb9aba-dfef-4fdb-8902-e5da3e60(...))\",\"_\",\"mean_combine([_, _])\",\"mean_agg([_, _])\",\"subgraph_callable-a6e2abd0-77a7-42e7-b63d-35a23b69(subgraph_callable-1bdb9aba-dfef-4fdb-8902-e5da3e60(...))\",\"_\",\"mean_combine([_, _])\",\"mean_agg([_, _])\",\"subgraph_callable-a6e2abd0-77a7-42e7-b63d-35a23b69(subgraph_callable-1bdb9aba-dfef-4fdb-8902-e5da3e60(...))\",\"_\",\"mean_combine([_, _])\",\"mean_agg([_, _])\",\"subgraph_callable-a6e2abd0-77a7-42e7-b63d-35a23b69(subgraph_callable-1bdb9aba-dfef-4fdb-8902-e5da3e60(...))\",\"_\",\"mean_combine([_, _])\",\"mean_agg([_, _])\",\"subgraph_callable-a6e2abd0-77a7-42e7-b63d-35a23b69(subgraph_callable-1bdb9aba-dfef-4fdb-8902-e5da3e60(...))\",\"_\",\"_\",\"mean_combine([_, _])\",\"mean_combine([_, _])\",\"mean_agg([_, _])\",\"mean_agg([_, _])\",\"subgraph_callable-a6e2abd0-77a7-42e7-b63d-35a23b69(subgraph_callable-1bdb9aba-dfef-4fdb-8902-e5da3e60(...))\",\"_\",\"subgraph_callable-a6e2abd0-77a7-42e7-b63d-35a23b69(subgraph_callable-1bdb9aba-dfef-4fdb-8902-e5da3e60(...))\",\"mean_combine([_, _])\",\"mean_agg([_, _])\",\"subgraph_callable-a6e2abd0-77a7-42e7-b63d-35a23b69(subgraph_callable-1bdb9aba-dfef-4fdb-8902-e5da3e60(...))\",\"_\",\"mean_combine([_, _])\",\"mean_agg([_, _])\",\"subgraph_callable-a6e2abd0-77a7-42e7-b63d-35a23b69(subgraph_callable-1bdb9aba-dfef-4fdb-8902-e5da3e60(...))\",\"_\",\"mean_combine([_, _])\",\"mean_agg([_, _])\",\"subgraph_callable-a6e2abd0-77a7-42e7-b63d-35a23b69(subgraph_callable-1bdb9aba-dfef-4fdb-8902-e5da3e60(...))\",\"_\",\"mean_combine([_, _])\",\"mean_agg([_, _])\",\"subgraph_callable-a6e2abd0-77a7-42e7-b63d-35a23b69(subgraph_callable-1bdb9aba-dfef-4fdb-8902-e5da3e60(...))\",\"_\",\"mean_combine([_, _])\",\"mean_agg([_, _])\",\"subgraph_callable-a6e2abd0-77a7-42e7-b63d-35a23b69(subgraph_callable-1bdb9aba-dfef-4fdb-8902-e5da3e60(...))\",\"_\",\"mean_combine([_, _])\",\"mean_agg([_, _])\",\"subgraph_callable-a6e2abd0-77a7-42e7-b63d-35a23b69(subgraph_callable-1bdb9aba-dfef-4fdb-8902-e5da3e60(...))\",\"_\",\"mean_combine([_, _])\",\"mean_agg([_, _])\",\"subgraph_callable-a6e2abd0-77a7-42e7-b63d-35a23b69(subgraph_callable-1bdb9aba-dfef-4fdb-8902-e5da3e60(...))\",\"_\",\"mean_combine([_, _])\",\"mean_agg([_, _])\",\"subgraph_callable-a6e2abd0-77a7-42e7-b63d-35a23b69(subgraph_callable-1bdb9aba-dfef-4fdb-8902-e5da3e60(...))\",\"_\",\"mean_combine([_, _])\",\"mean_agg([_, _])\",\"subgraph_callable-a6e2abd0-77a7-42e7-b63d-35a23b69(subgraph_callable-1bdb9aba-dfef-4fdb-8902-e5da3e60(...))\",\"_\",\"mean_combine([_, _])\",\"mean_agg([_, _])\",\"subgraph_callable-a6e2abd0-77a7-42e7-b63d-35a23b69(subgraph_callable-1bdb9aba-dfef-4fdb-8902-e5da3e60(...))\",\"_\",\"mean_combine([_, _])\",\"mean_agg([_, _])\",\"subgraph_callable-a6e2abd0-77a7-42e7-b63d-35a23b69(subgraph_callable-1bdb9aba-dfef-4fdb-8902-e5da3e60(...))\",\"_\",\"mean_combine([_, _])\",\"_\",\"mean_agg([_, _])\",\"mean_combine([_, _])\",\"subgraph_callable-a6e2abd0-77a7-42e7-b63d-35a23b69(subgraph_callable-1bdb9aba-dfef-4fdb-8902-e5da3e60(...))\",\"mean_agg([_, _])\",\"subgraph_callable-a6e2abd0-77a7-42e7-b63d-35a23b69(subgraph_callable-1bdb9aba-dfef-4fdb-8902-e5da3e60(...))\",\"_\",\"mean_combine([_, _])\",\"mean_agg([_, _])\",\"subgraph_callable-a6e2abd0-77a7-42e7-b63d-35a23b69(subgraph_callable-1bdb9aba-dfef-4fdb-8902-e5da3e60(...))\",\"_\",\"mean_combine([_, _])\",\"_\",\"mean_agg([_, _])\",\"mean_combine([_, _])\",\"subgraph_callable-a6e2abd0-77a7-42e7-b63d-35a23b69(subgraph_callable-1bdb9aba-dfef-4fdb-8902-e5da3e60(...))\",\"mean_agg([_, _])\",\"subgraph_callable-a6e2abd0-77a7-42e7-b63d-35a23b69(subgraph_callable-1bdb9aba-dfef-4fdb-8902-e5da3e60(...))\",\"_\",\"mean_combine([_, _])\",\"mean_agg([_, _])\",\"subgraph_callable-a6e2abd0-77a7-42e7-b63d-35a23b69(subgraph_callable-1bdb9aba-dfef-4fdb-8902-e5da3e60(...))\",\"_\",\"mean_combine([_, _])\",\"mean_agg([_, _])\",\"subgraph_callable-a6e2abd0-77a7-42e7-b63d-35a23b69(subgraph_callable-1bdb9aba-dfef-4fdb-8902-e5da3e60(...))\",\"_\",\"mean_combine([_, _])\",\"mean_agg([_, _])\",\"subgraph_callable-a6e2abd0-77a7-42e7-b63d-35a23b69(subgraph_callable-1bdb9aba-dfef-4fdb-8902-e5da3e60(...))\",\"_\",\"mean_combine([_, _])\",\"mean_agg([_, _])\",\"subgraph_callable-a6e2abd0-77a7-42e7-b63d-35a23b69(subgraph_callable-1bdb9aba-dfef-4fdb-8902-e5da3e60(...))\",\"_\",\"mean_combine([_, _])\",\"mean_agg([_, _])\",\"subgraph_callable-a6e2abd0-77a7-42e7-b63d-35a23b69(subgraph_callable-1bdb9aba-dfef-4fdb-8902-e5da3e60(...))\",\"_\",\"_\",\"mean_combine([_, _])\",\"mean_combine([_, _])\",\"mean_agg([_, _])\",\"mean_agg([_, _])\",\"subgraph_callable-a6e2abd0-77a7-42e7-b63d-35a23b69(subgraph_callable-1bdb9aba-dfef-4fdb-8902-e5da3e60(...))\",\"subgraph_callable-a6e2abd0-77a7-42e7-b63d-35a23b69(subgraph_callable-1bdb9aba-dfef-4fdb-8902-e5da3e60(...))\",\"_\",\"mean_combine([_, _])\",\"mean_agg([_, _])\",\"subgraph_callable-a6e2abd0-77a7-42e7-b63d-35a23b69(subgraph_callable-1bdb9aba-dfef-4fdb-8902-e5da3e60(...))\",\"_\",\"mean_combine([_, _])\",\"mean_agg([_, _])\",\"subgraph_callable-a6e2abd0-77a7-42e7-b63d-35a23b69(subgraph_callable-1bdb9aba-dfef-4fdb-8902-e5da3e60(...))\",\"_\",\"mean_combine([_, _])\",\"mean_agg([_, _])\",\"subgraph_callable-a6e2abd0-77a7-42e7-b63d-35a23b69(subgraph_callable-1bdb9aba-dfef-4fdb-8902-e5da3e60(...))\",\"_\",\"mean_combine([_, _])\",\"mean_agg([_, _])\",\"subgraph_callable-a6e2abd0-77a7-42e7-b63d-35a23b69(subgraph_callable-1bdb9aba-dfef-4fdb-8902-e5da3e60(...))\",\"_\",\"mean_combine([_, _])\",\"mean_agg([_, _])\",\"subgraph_callable-a6e2abd0-77a7-42e7-b63d-35a23b69(subgraph_callable-1bdb9aba-dfef-4fdb-8902-e5da3e60(...))\",\"_\",\"mean_combine([_, _])\",\"mean_agg([_, _])\",\"subgraph_callable-a6e2abd0-77a7-42e7-b63d-35a23b69(subgraph_callable-1bdb9aba-dfef-4fdb-8902-e5da3e60(...))\",\"_\",\"_\",\"mean_combine([_, _])\",\"mean_combine([_, _])\",\"mean_agg([_, _])\",\"_\",\"mean_agg([_, _])\",\"subgraph_callable-a6e2abd0-77a7-42e7-b63d-35a23b69(subgraph_callable-1bdb9aba-dfef-4fdb-8902-e5da3e60(...))\",\"mean_combine([_, _])\",\"subgraph_callable-a6e2abd0-77a7-42e7-b63d-35a23b69(subgraph_callable-1bdb9aba-dfef-4fdb-8902-e5da3e60(...))\",\"mean_agg([_, _])\",\"subgraph_callable-a6e2abd0-77a7-42e7-b63d-35a23b69(subgraph_callable-1bdb9aba-dfef-4fdb-8902-e5da3e60(...))\",\"_\",\"mean_combine([_, _])\",\"mean_agg([_, _])\",\"subgraph_callable-a6e2abd0-77a7-42e7-b63d-35a23b69(subgraph_callable-1bdb9aba-dfef-4fdb-8902-e5da3e60(...))\",\"_\",\"mean_combine([_, _])\",\"mean_agg([_, _])\",\"subgraph_callable-a6e2abd0-77a7-42e7-b63d-35a23b69(subgraph_callable-1bdb9aba-dfef-4fdb-8902-e5da3e60(...))\",\"_\",\"mean_combine([_, _])\",\"mean_agg([_, _])\",\"subgraph_callable-a6e2abd0-77a7-42e7-b63d-35a23b69(subgraph_callable-1bdb9aba-dfef-4fdb-8902-e5da3e60(...))\",\"_\",\"mean_combine([_, _])\",\"mean_agg([_, _])\",\"subgraph_callable-a6e2abd0-77a7-42e7-b63d-35a23b69(subgraph_callable-1bdb9aba-dfef-4fdb-8902-e5da3e60(...))\",\"_\",\"mean_combine([_, _])\",\"mean_agg([_, _])\",\"subgraph_callable-a6e2abd0-77a7-42e7-b63d-35a23b69(subgraph_callable-1bdb9aba-dfef-4fdb-8902-e5da3e60(...))\",\"_\",\"mean_combine([_, _])\",\"mean_agg([_, _])\",\"subgraph_callable-a6e2abd0-77a7-42e7-b63d-35a23b69(subgraph_callable-1bdb9aba-dfef-4fdb-8902-e5da3e60(...))\",\"_\",\"mean_combine([_, _])\",\"mean_agg([_, _])\",\"_\",\"subgraph_callable-a6e2abd0-77a7-42e7-b63d-35a23b69(subgraph_callable-1bdb9aba-dfef-4fdb-8902-e5da3e60(...))\",\"mean_combine([_, _])\",\"mean_agg([_, _])\",\"subgraph_callable-a6e2abd0-77a7-42e7-b63d-35a23b69(subgraph_callable-1bdb9aba-dfef-4fdb-8902-e5da3e60(...))\",\"_\",\"mean_combine([_, _])\",\"mean_agg([_, _])\",\"subgraph_callable-a6e2abd0-77a7-42e7-b63d-35a23b69(subgraph_callable-1bdb9aba-dfef-4fdb-8902-e5da3e60(...))\",\"_\",\"mean_combine([_, _])\",\"mean_agg([_, _])\",\"subgraph_callable-a6e2abd0-77a7-42e7-b63d-35a23b69(subgraph_callable-1bdb9aba-dfef-4fdb-8902-e5da3e60(...))\",\"_\",\"mean_combine([_, _])\",\"mean_agg([_, _])\",\"subgraph_callable-a6e2abd0-77a7-42e7-b63d-35a23b69(subgraph_callable-1bdb9aba-dfef-4fdb-8902-e5da3e60(...))\",\"_\",\"mean_combine([_, _])\",\"mean_agg([_, _])\",\"_\",\"mean_combine([_, _])\",\"mean_agg([_, _])\",\"_\",\"_\",\"mean_combine([_, _])\",\"mean_combine([_, _])\",\"mean_agg([_, _])\",\"mean_agg([_, _])\",\"_\",\"mean_combine([_, _])\",\"mean_agg([_, _])\",\"_\",\"mean_combine([_, _])\",\"mean_agg([_, _])\",\"_\",\"mean_combine([_, _])\",\"mean_agg([_, _])\",\"_\",\"mean_combine([_, _])\",\"mean_agg([_, _])\"],\"key\":[\"('from-value-frozen_phonon-concatenate-db2bf00a34068192b7c5efb4883342fc', 1)\",\"('from-value-frozen_phonon-concatenate-db2bf00a34068192b7c5efb4883342fc', 0)\",\"('from-value-frozen_phonon-concatenate-db2bf00a34068192b7c5efb4883342fc', 2)\",\"('from-value-frozen_phonon-concatenate-db2bf00a34068192b7c5efb4883342fc', 3)\",\"('concatenate-db2bf00a34068192b7c5efb4883342fc', 1)\",\"('concatenate-db2bf00a34068192b7c5efb4883342fc', 0)\",\"('concatenate-db2bf00a34068192b7c5efb4883342fc', 2)\",\"('concatenate-db2bf00a34068192b7c5efb4883342fc', 3)\",\"('diffraction_pattern-integrate_fourier_space-mean_chunk-a7aa5ff02abf02d193761568dcf2e38f', 1, 0, 0)\",\"('diffraction_pattern-integrate_fourier_space-mean_chunk-a7aa5ff02abf02d193761568dcf2e38f', 1, 1, 1)\",\"('diffraction_pattern-integrate_fourier_space-mean_chunk-a7aa5ff02abf02d193761568dcf2e38f', 1, 2, 2)\",\"('diffraction_pattern-integrate_fourier_space-mean_chunk-a7aa5ff02abf02d193761568dcf2e38f', 1, 3, 3)\",\"('diffraction_pattern-integrate_fourier_space-mean_chunk-a7aa5ff02abf02d193761568dcf2e38f', 1, 4, 4)\",\"('diffraction_pattern-integrate_fourier_space-mean_chunk-a7aa5ff02abf02d193761568dcf2e38f', 0, 0, 0)\",\"('diffraction_pattern-integrate_fourier_space-mean_chunk-a7aa5ff02abf02d193761568dcf2e38f', 2, 0, 0)\",\"('diffraction_pattern-integrate_fourier_space-mean_chunk-a7aa5ff02abf02d193761568dcf2e38f', 3, 0, 0)\",\"('mean_chunk-a7aa5ff02abf02d193761568dcf2e38f', 1, 1, 1)\",\"('diffraction_pattern-integrate_fourier_space-mean_chunk-a7aa5ff02abf02d193761568dcf2e38f', 3, 1, 1)\",\"('mean_chunk-a7aa5ff02abf02d193761568dcf2e38f', 1, 4, 4)\",\"('diffraction_pattern-integrate_fourier_space-mean_chunk-a7aa5ff02abf02d193761568dcf2e38f', 3, 2, 2)\",\"('mean_chunk-a7aa5ff02abf02d193761568dcf2e38f', 0, 0, 0)\",\"('mean_chunk-a7aa5ff02abf02d193761568dcf2e38f', 2, 0, 0)\",\"('mean_chunk-a7aa5ff02abf02d193761568dcf2e38f', 1, 2, 2)\",\"('diffraction_pattern-integrate_fourier_space-mean_chunk-a7aa5ff02abf02d193761568dcf2e38f', 3, 3, 3)\",\"('mean_chunk-a7aa5ff02abf02d193761568dcf2e38f', 1, 0, 0)\",\"('diffraction_pattern-integrate_fourier_space-mean_chunk-a7aa5ff02abf02d193761568dcf2e38f', 3, 4, 4)\",\"('diffraction_pattern-integrate_fourier_space-mean_chunk-a7aa5ff02abf02d193761568dcf2e38f', 3, 5, 5)\",\"('mean_chunk-a7aa5ff02abf02d193761568dcf2e38f', 1, 3, 3)\",\"('mean_combine-partial-af4f15099027fc40d2e69b14d6b2c774', 0, 0, 0)\",\"('diffraction_pattern-integrate_fourier_space-mean_chunk-a7aa5ff02abf02d193761568dcf2e38f', 3, 6, 6)\",\"('diffraction_pattern-integrate_fourier_space-mean_chunk-a7aa5ff02abf02d193761568dcf2e38f', 3, 7, 7)\",\"('mean_chunk-a7aa5ff02abf02d193761568dcf2e38f', 3, 0, 0)\",\"('mean_combine-partial-af4f15099027fc40d2e69b14d6b2c774', 1, 0, 0)\",\"('mean_agg-aggregate-bdfe5faaf0e8aabb74db2b4a93b49a2d', 0, 0)\",\"('diffraction_pattern-integrate_fourier_space-mean_chunk-a7aa5ff02abf02d193761568dcf2e38f', 3, 0, 1)\",\"('mean_chunk-a7aa5ff02abf02d193761568dcf2e38f', 3, 7, 7)\",\"('diffraction_pattern-integrate_fourier_space-mean_chunk-a7aa5ff02abf02d193761568dcf2e38f', 3, 0, 2)\",\"('mean_chunk-a7aa5ff02abf02d193761568dcf2e38f', 3, 5, 5)\",\"('mean_chunk-a7aa5ff02abf02d193761568dcf2e38f', 3, 6, 6)\",\"('diffraction_pattern-integrate_fourier_space-mean_chunk-a7aa5ff02abf02d193761568dcf2e38f', 3, 0, 3)\",\"('diffraction_pattern-integrate_fourier_space-mean_chunk-a7aa5ff02abf02d193761568dcf2e38f', 3, 0, 4)\",\"('mean_chunk-a7aa5ff02abf02d193761568dcf2e38f', 3, 2, 2)\",\"('mean_chunk-a7aa5ff02abf02d193761568dcf2e38f', 3, 4, 4)\",\"('mean_chunk-a7aa5ff02abf02d193761568dcf2e38f', 3, 0, 1)\",\"('diffraction_pattern-integrate_fourier_space-mean_chunk-a7aa5ff02abf02d193761568dcf2e38f', 3, 0, 5)\",\"('diffraction_pattern-integrate_fourier_space-mean_chunk-a7aa5ff02abf02d193761568dcf2e38f', 3, 0, 6)\",\"('diffraction_pattern-integrate_fourier_space-mean_chunk-a7aa5ff02abf02d193761568dcf2e38f', 3, 0, 7)\",\"('mean_chunk-a7aa5ff02abf02d193761568dcf2e38f', 3, 1, 1)\",\"('mean_chunk-a7aa5ff02abf02d193761568dcf2e38f', 3, 3, 3)\",\"('diffraction_pattern-integrate_fourier_space-mean_chunk-a7aa5ff02abf02d193761568dcf2e38f', 3, 1, 0)\",\"('diffraction_pattern-integrate_fourier_space-mean_chunk-a7aa5ff02abf02d193761568dcf2e38f', 3, 1, 2)\",\"('mean_chunk-a7aa5ff02abf02d193761568dcf2e38f', 3, 0, 2)\",\"('diffraction_pattern-integrate_fourier_space-mean_chunk-a7aa5ff02abf02d193761568dcf2e38f', 3, 1, 3)\",\"('mean_chunk-a7aa5ff02abf02d193761568dcf2e38f', 3, 0, 7)\",\"('diffraction_pattern-integrate_fourier_space-mean_chunk-a7aa5ff02abf02d193761568dcf2e38f', 3, 1, 4)\",\"('mean_chunk-a7aa5ff02abf02d193761568dcf2e38f', 3, 1, 2)\",\"('mean_chunk-a7aa5ff02abf02d193761568dcf2e38f', 3, 1, 0)\",\"('diffraction_pattern-integrate_fourier_space-mean_chunk-a7aa5ff02abf02d193761568dcf2e38f', 3, 1, 5)\",\"('diffraction_pattern-integrate_fourier_space-mean_chunk-a7aa5ff02abf02d193761568dcf2e38f', 3, 1, 6)\",\"('mean_chunk-a7aa5ff02abf02d193761568dcf2e38f', 3, 0, 4)\",\"('diffraction_pattern-integrate_fourier_space-mean_chunk-a7aa5ff02abf02d193761568dcf2e38f', 3, 1, 7)\",\"('mean_chunk-a7aa5ff02abf02d193761568dcf2e38f', 3, 0, 5)\",\"('mean_chunk-a7aa5ff02abf02d193761568dcf2e38f', 3, 0, 6)\",\"('diffraction_pattern-integrate_fourier_space-mean_chunk-a7aa5ff02abf02d193761568dcf2e38f', 3, 2, 0)\",\"('mean_chunk-a7aa5ff02abf02d193761568dcf2e38f', 3, 0, 3)\",\"('diffraction_pattern-integrate_fourier_space-mean_chunk-a7aa5ff02abf02d193761568dcf2e38f', 3, 2, 1)\",\"('diffraction_pattern-integrate_fourier_space-mean_chunk-a7aa5ff02abf02d193761568dcf2e38f', 3, 2, 3)\",\"('mean_chunk-a7aa5ff02abf02d193761568dcf2e38f', 3, 1, 3)\",\"('diffraction_pattern-integrate_fourier_space-mean_chunk-a7aa5ff02abf02d193761568dcf2e38f', 3, 2, 4)\",\"('mean_chunk-a7aa5ff02abf02d193761568dcf2e38f', 3, 1, 7)\",\"('diffraction_pattern-integrate_fourier_space-mean_chunk-a7aa5ff02abf02d193761568dcf2e38f', 3, 2, 5)\",\"('mean_chunk-a7aa5ff02abf02d193761568dcf2e38f', 3, 1, 4)\",\"('diffraction_pattern-integrate_fourier_space-mean_chunk-a7aa5ff02abf02d193761568dcf2e38f', 3, 2, 6)\",\"('mean_chunk-a7aa5ff02abf02d193761568dcf2e38f', 3, 1, 5)\",\"('diffraction_pattern-integrate_fourier_space-mean_chunk-a7aa5ff02abf02d193761568dcf2e38f', 3, 2, 7)\",\"('mean_chunk-a7aa5ff02abf02d193761568dcf2e38f', 3, 1, 6)\",\"('diffraction_pattern-integrate_fourier_space-mean_chunk-a7aa5ff02abf02d193761568dcf2e38f', 3, 3, 0)\",\"('mean_chunk-a7aa5ff02abf02d193761568dcf2e38f', 3, 2, 1)\",\"('mean_chunk-a7aa5ff02abf02d193761568dcf2e38f', 3, 2, 0)\",\"('mean_chunk-a7aa5ff02abf02d193761568dcf2e38f', 3, 2, 3)\",\"('diffraction_pattern-integrate_fourier_space-mean_chunk-a7aa5ff02abf02d193761568dcf2e38f', 3, 3, 1)\",\"('diffraction_pattern-integrate_fourier_space-mean_chunk-a7aa5ff02abf02d193761568dcf2e38f', 3, 3, 2)\",\"('diffraction_pattern-integrate_fourier_space-mean_chunk-a7aa5ff02abf02d193761568dcf2e38f', 3, 3, 4)\",\"('mean_chunk-a7aa5ff02abf02d193761568dcf2e38f', 3, 2, 4)\",\"('diffraction_pattern-integrate_fourier_space-mean_chunk-a7aa5ff02abf02d193761568dcf2e38f', 3, 3, 5)\",\"('mean_chunk-a7aa5ff02abf02d193761568dcf2e38f', 3, 2, 7)\",\"('diffraction_pattern-integrate_fourier_space-mean_chunk-a7aa5ff02abf02d193761568dcf2e38f', 3, 3, 6)\",\"('mean_chunk-a7aa5ff02abf02d193761568dcf2e38f', 3, 2, 6)\",\"('diffraction_pattern-integrate_fourier_space-mean_chunk-a7aa5ff02abf02d193761568dcf2e38f', 3, 3, 7)\",\"('mean_chunk-a7aa5ff02abf02d193761568dcf2e38f', 3, 2, 5)\",\"('diffraction_pattern-integrate_fourier_space-mean_chunk-a7aa5ff02abf02d193761568dcf2e38f', 3, 4, 0)\",\"('mean_chunk-a7aa5ff02abf02d193761568dcf2e38f', 3, 3, 1)\",\"('diffraction_pattern-integrate_fourier_space-mean_chunk-a7aa5ff02abf02d193761568dcf2e38f', 3, 4, 1)\",\"('mean_chunk-a7aa5ff02abf02d193761568dcf2e38f', 3, 3, 0)\",\"('mean_chunk-a7aa5ff02abf02d193761568dcf2e38f', 3, 3, 2)\",\"('diffraction_pattern-integrate_fourier_space-mean_chunk-a7aa5ff02abf02d193761568dcf2e38f', 3, 4, 2)\",\"('mean_chunk-a7aa5ff02abf02d193761568dcf2e38f', 3, 3, 4)\",\"('diffraction_pattern-integrate_fourier_space-mean_chunk-a7aa5ff02abf02d193761568dcf2e38f', 3, 4, 3)\",\"('diffraction_pattern-integrate_fourier_space-mean_chunk-a7aa5ff02abf02d193761568dcf2e38f', 3, 4, 5)\",\"('mean_chunk-a7aa5ff02abf02d193761568dcf2e38f', 3, 3, 5)\",\"('diffraction_pattern-integrate_fourier_space-mean_chunk-a7aa5ff02abf02d193761568dcf2e38f', 3, 4, 6)\",\"('mean_chunk-a7aa5ff02abf02d193761568dcf2e38f', 3, 3, 7)\",\"('diffraction_pattern-integrate_fourier_space-mean_chunk-a7aa5ff02abf02d193761568dcf2e38f', 3, 4, 7)\",\"('mean_chunk-a7aa5ff02abf02d193761568dcf2e38f', 3, 3, 6)\",\"('diffraction_pattern-integrate_fourier_space-mean_chunk-a7aa5ff02abf02d193761568dcf2e38f', 3, 5, 0)\",\"('mean_chunk-a7aa5ff02abf02d193761568dcf2e38f', 3, 4, 0)\",\"('diffraction_pattern-integrate_fourier_space-mean_chunk-a7aa5ff02abf02d193761568dcf2e38f', 3, 5, 1)\",\"('mean_chunk-a7aa5ff02abf02d193761568dcf2e38f', 3, 4, 5)\",\"('mean_chunk-a7aa5ff02abf02d193761568dcf2e38f', 3, 4, 3)\",\"('diffraction_pattern-integrate_fourier_space-mean_chunk-a7aa5ff02abf02d193761568dcf2e38f', 3, 5, 2)\",\"('mean_chunk-a7aa5ff02abf02d193761568dcf2e38f', 3, 4, 1)\",\"('diffraction_pattern-integrate_fourier_space-mean_chunk-a7aa5ff02abf02d193761568dcf2e38f', 3, 5, 3)\",\"('diffraction_pattern-integrate_fourier_space-mean_chunk-a7aa5ff02abf02d193761568dcf2e38f', 3, 5, 4)\",\"('mean_chunk-a7aa5ff02abf02d193761568dcf2e38f', 3, 4, 2)\",\"('diffraction_pattern-integrate_fourier_space-mean_chunk-a7aa5ff02abf02d193761568dcf2e38f', 3, 5, 6)\",\"('mean_chunk-a7aa5ff02abf02d193761568dcf2e38f', 3, 4, 7)\",\"('diffraction_pattern-integrate_fourier_space-mean_chunk-a7aa5ff02abf02d193761568dcf2e38f', 3, 5, 7)\",\"('mean_chunk-a7aa5ff02abf02d193761568dcf2e38f', 3, 5, 0)\",\"('mean_chunk-a7aa5ff02abf02d193761568dcf2e38f', 3, 4, 6)\",\"('diffraction_pattern-integrate_fourier_space-mean_chunk-a7aa5ff02abf02d193761568dcf2e38f', 3, 6, 0)\",\"('diffraction_pattern-integrate_fourier_space-mean_chunk-a7aa5ff02abf02d193761568dcf2e38f', 3, 6, 1)\",\"('mean_chunk-a7aa5ff02abf02d193761568dcf2e38f', 3, 5, 1)\",\"('diffraction_pattern-integrate_fourier_space-mean_chunk-a7aa5ff02abf02d193761568dcf2e38f', 3, 6, 2)\",\"('mean_chunk-a7aa5ff02abf02d193761568dcf2e38f', 3, 5, 4)\",\"('diffraction_pattern-integrate_fourier_space-mean_chunk-a7aa5ff02abf02d193761568dcf2e38f', 3, 6, 3)\",\"('mean_chunk-a7aa5ff02abf02d193761568dcf2e38f', 3, 5, 3)\",\"('diffraction_pattern-integrate_fourier_space-mean_chunk-a7aa5ff02abf02d193761568dcf2e38f', 3, 6, 4)\",\"('mean_chunk-a7aa5ff02abf02d193761568dcf2e38f', 3, 5, 6)\",\"('diffraction_pattern-integrate_fourier_space-mean_chunk-a7aa5ff02abf02d193761568dcf2e38f', 3, 6, 5)\",\"('mean_chunk-a7aa5ff02abf02d193761568dcf2e38f', 3, 5, 2)\",\"('diffraction_pattern-integrate_fourier_space-mean_chunk-a7aa5ff02abf02d193761568dcf2e38f', 3, 6, 7)\",\"('mean_chunk-a7aa5ff02abf02d193761568dcf2e38f', 3, 5, 7)\",\"('diffraction_pattern-integrate_fourier_space-mean_chunk-a7aa5ff02abf02d193761568dcf2e38f', 3, 7, 0)\",\"('mean_chunk-a7aa5ff02abf02d193761568dcf2e38f', 3, 6, 1)\",\"('diffraction_pattern-integrate_fourier_space-mean_chunk-a7aa5ff02abf02d193761568dcf2e38f', 3, 7, 1)\",\"('mean_chunk-a7aa5ff02abf02d193761568dcf2e38f', 3, 6, 0)\",\"('diffraction_pattern-integrate_fourier_space-mean_chunk-a7aa5ff02abf02d193761568dcf2e38f', 3, 7, 2)\",\"('mean_chunk-a7aa5ff02abf02d193761568dcf2e38f', 3, 6, 7)\",\"('diffraction_pattern-integrate_fourier_space-mean_chunk-a7aa5ff02abf02d193761568dcf2e38f', 3, 7, 3)\",\"('mean_chunk-a7aa5ff02abf02d193761568dcf2e38f', 3, 7, 0)\",\"('mean_chunk-a7aa5ff02abf02d193761568dcf2e38f', 3, 6, 2)\",\"('diffraction_pattern-integrate_fourier_space-mean_chunk-a7aa5ff02abf02d193761568dcf2e38f', 3, 7, 4)\",\"('diffraction_pattern-integrate_fourier_space-mean_chunk-a7aa5ff02abf02d193761568dcf2e38f', 3, 7, 5)\",\"('mean_chunk-a7aa5ff02abf02d193761568dcf2e38f', 3, 6, 5)\",\"('diffraction_pattern-integrate_fourier_space-mean_chunk-a7aa5ff02abf02d193761568dcf2e38f', 3, 7, 6)\",\"('mean_chunk-a7aa5ff02abf02d193761568dcf2e38f', 3, 6, 4)\",\"('diffraction_pattern-integrate_fourier_space-mean_chunk-a7aa5ff02abf02d193761568dcf2e38f', 2, 1, 1)\",\"('mean_chunk-a7aa5ff02abf02d193761568dcf2e38f', 3, 6, 3)\",\"('diffraction_pattern-integrate_fourier_space-mean_chunk-a7aa5ff02abf02d193761568dcf2e38f', 2, 2, 2)\",\"('mean_chunk-a7aa5ff02abf02d193761568dcf2e38f', 3, 7, 2)\",\"('mean_chunk-a7aa5ff02abf02d193761568dcf2e38f', 3, 7, 1)\",\"('diffraction_pattern-integrate_fourier_space-mean_chunk-a7aa5ff02abf02d193761568dcf2e38f', 2, 3, 3)\",\"('diffraction_pattern-integrate_fourier_space-mean_chunk-a7aa5ff02abf02d193761568dcf2e38f', 2, 4, 4)\",\"('mean_chunk-a7aa5ff02abf02d193761568dcf2e38f', 3, 7, 3)\",\"('diffraction_pattern-integrate_fourier_space-mean_chunk-a7aa5ff02abf02d193761568dcf2e38f', 2, 5, 5)\",\"('mean_chunk-a7aa5ff02abf02d193761568dcf2e38f', 3, 7, 4)\",\"('diffraction_pattern-integrate_fourier_space-mean_chunk-a7aa5ff02abf02d193761568dcf2e38f', 2, 6, 6)\",\"('mean_chunk-a7aa5ff02abf02d193761568dcf2e38f', 3, 7, 5)\",\"('diffraction_pattern-integrate_fourier_space-mean_chunk-a7aa5ff02abf02d193761568dcf2e38f', 2, 7, 7)\",\"('mean_chunk-a7aa5ff02abf02d193761568dcf2e38f', 3, 7, 6)\",\"('diffraction_pattern-integrate_fourier_space-mean_chunk-a7aa5ff02abf02d193761568dcf2e38f', 2, 0, 1)\",\"('mean_chunk-a7aa5ff02abf02d193761568dcf2e38f', 2, 1, 1)\",\"('mean_combine-partial-af4f15099027fc40d2e69b14d6b2c774', 1, 1, 1)\",\"('diffraction_pattern-integrate_fourier_space-mean_chunk-a7aa5ff02abf02d193761568dcf2e38f', 2, 0, 2)\",\"('mean_chunk-a7aa5ff02abf02d193761568dcf2e38f', 2, 2, 2)\",\"('mean_combine-partial-af4f15099027fc40d2e69b14d6b2c774', 1, 2, 2)\",\"('diffraction_pattern-integrate_fourier_space-mean_chunk-a7aa5ff02abf02d193761568dcf2e38f', 2, 0, 3)\",\"('mean_chunk-a7aa5ff02abf02d193761568dcf2e38f', 2, 7, 7)\",\"('mean_combine-partial-af4f15099027fc40d2e69b14d6b2c774', 1, 7, 7)\",\"('diffraction_pattern-integrate_fourier_space-mean_chunk-a7aa5ff02abf02d193761568dcf2e38f', 2, 0, 4)\",\"('mean_chunk-a7aa5ff02abf02d193761568dcf2e38f', 2, 4, 4)\",\"('mean_chunk-a7aa5ff02abf02d193761568dcf2e38f', 2, 3, 3)\",\"('mean_combine-partial-af4f15099027fc40d2e69b14d6b2c774', 1, 4, 4)\",\"('mean_combine-partial-af4f15099027fc40d2e69b14d6b2c774', 1, 3, 3)\",\"('diffraction_pattern-integrate_fourier_space-mean_chunk-a7aa5ff02abf02d193761568dcf2e38f', 2, 0, 5)\",\"('diffraction_pattern-integrate_fourier_space-mean_chunk-a7aa5ff02abf02d193761568dcf2e38f', 2, 0, 6)\",\"('mean_chunk-a7aa5ff02abf02d193761568dcf2e38f', 2, 5, 5)\",\"('mean_combine-partial-af4f15099027fc40d2e69b14d6b2c774', 1, 5, 5)\",\"('diffraction_pattern-integrate_fourier_space-mean_chunk-a7aa5ff02abf02d193761568dcf2e38f', 2, 0, 7)\",\"('mean_chunk-a7aa5ff02abf02d193761568dcf2e38f', 2, 6, 6)\",\"('mean_combine-partial-af4f15099027fc40d2e69b14d6b2c774', 1, 6, 6)\",\"('diffraction_pattern-integrate_fourier_space-mean_chunk-a7aa5ff02abf02d193761568dcf2e38f', 2, 1, 0)\",\"('mean_chunk-a7aa5ff02abf02d193761568dcf2e38f', 2, 0, 1)\",\"('mean_combine-partial-af4f15099027fc40d2e69b14d6b2c774', 1, 0, 1)\",\"('diffraction_pattern-integrate_fourier_space-mean_chunk-a7aa5ff02abf02d193761568dcf2e38f', 2, 1, 2)\",\"('mean_chunk-a7aa5ff02abf02d193761568dcf2e38f', 2, 0, 3)\",\"('mean_combine-partial-af4f15099027fc40d2e69b14d6b2c774', 1, 0, 3)\",\"('diffraction_pattern-integrate_fourier_space-mean_chunk-a7aa5ff02abf02d193761568dcf2e38f', 2, 1, 3)\",\"('mean_chunk-a7aa5ff02abf02d193761568dcf2e38f', 2, 0, 2)\",\"('mean_combine-partial-af4f15099027fc40d2e69b14d6b2c774', 1, 0, 2)\",\"('diffraction_pattern-integrate_fourier_space-mean_chunk-a7aa5ff02abf02d193761568dcf2e38f', 2, 1, 4)\",\"('mean_chunk-a7aa5ff02abf02d193761568dcf2e38f', 2, 0, 6)\",\"('mean_chunk-a7aa5ff02abf02d193761568dcf2e38f', 2, 0, 4)\",\"('mean_combine-partial-af4f15099027fc40d2e69b14d6b2c774', 1, 0, 6)\",\"('mean_combine-partial-af4f15099027fc40d2e69b14d6b2c774', 1, 0, 4)\",\"('diffraction_pattern-integrate_fourier_space-mean_chunk-a7aa5ff02abf02d193761568dcf2e38f', 2, 1, 5)\",\"('mean_chunk-a7aa5ff02abf02d193761568dcf2e38f', 2, 0, 5)\",\"('diffraction_pattern-integrate_fourier_space-mean_chunk-a7aa5ff02abf02d193761568dcf2e38f', 2, 1, 6)\",\"('mean_combine-partial-af4f15099027fc40d2e69b14d6b2c774', 1, 0, 5)\",\"('diffraction_pattern-integrate_fourier_space-mean_chunk-a7aa5ff02abf02d193761568dcf2e38f', 2, 1, 7)\",\"('mean_chunk-a7aa5ff02abf02d193761568dcf2e38f', 2, 0, 7)\",\"('mean_combine-partial-af4f15099027fc40d2e69b14d6b2c774', 1, 0, 7)\",\"('diffraction_pattern-integrate_fourier_space-mean_chunk-a7aa5ff02abf02d193761568dcf2e38f', 2, 2, 0)\",\"('mean_chunk-a7aa5ff02abf02d193761568dcf2e38f', 2, 1, 0)\",\"('mean_combine-partial-af4f15099027fc40d2e69b14d6b2c774', 1, 1, 0)\",\"('diffraction_pattern-integrate_fourier_space-mean_chunk-a7aa5ff02abf02d193761568dcf2e38f', 2, 2, 1)\",\"('mean_chunk-a7aa5ff02abf02d193761568dcf2e38f', 2, 1, 2)\",\"('mean_combine-partial-af4f15099027fc40d2e69b14d6b2c774', 1, 1, 2)\",\"('diffraction_pattern-integrate_fourier_space-mean_chunk-a7aa5ff02abf02d193761568dcf2e38f', 2, 2, 3)\",\"('mean_chunk-a7aa5ff02abf02d193761568dcf2e38f', 2, 1, 7)\",\"('mean_combine-partial-af4f15099027fc40d2e69b14d6b2c774', 1, 1, 7)\",\"('diffraction_pattern-integrate_fourier_space-mean_chunk-a7aa5ff02abf02d193761568dcf2e38f', 2, 2, 4)\",\"('mean_chunk-a7aa5ff02abf02d193761568dcf2e38f', 2, 1, 3)\",\"('mean_combine-partial-af4f15099027fc40d2e69b14d6b2c774', 1, 1, 3)\",\"('diffraction_pattern-integrate_fourier_space-mean_chunk-a7aa5ff02abf02d193761568dcf2e38f', 2, 2, 5)\",\"('mean_chunk-a7aa5ff02abf02d193761568dcf2e38f', 2, 1, 4)\",\"('mean_combine-partial-af4f15099027fc40d2e69b14d6b2c774', 1, 1, 4)\",\"('diffraction_pattern-integrate_fourier_space-mean_chunk-a7aa5ff02abf02d193761568dcf2e38f', 2, 2, 6)\",\"('mean_chunk-a7aa5ff02abf02d193761568dcf2e38f', 2, 1, 5)\",\"('mean_combine-partial-af4f15099027fc40d2e69b14d6b2c774', 1, 1, 5)\",\"('mean_chunk-a7aa5ff02abf02d193761568dcf2e38f', 2, 1, 6)\",\"('diffraction_pattern-integrate_fourier_space-mean_chunk-a7aa5ff02abf02d193761568dcf2e38f', 2, 2, 7)\",\"('mean_combine-partial-af4f15099027fc40d2e69b14d6b2c774', 1, 1, 6)\",\"('diffraction_pattern-integrate_fourier_space-mean_chunk-a7aa5ff02abf02d193761568dcf2e38f', 2, 3, 0)\",\"('mean_chunk-a7aa5ff02abf02d193761568dcf2e38f', 2, 2, 0)\",\"('mean_combine-partial-af4f15099027fc40d2e69b14d6b2c774', 1, 2, 0)\",\"('diffraction_pattern-integrate_fourier_space-mean_chunk-a7aa5ff02abf02d193761568dcf2e38f', 2, 3, 1)\",\"('mean_chunk-a7aa5ff02abf02d193761568dcf2e38f', 2, 2, 1)\",\"('mean_combine-partial-af4f15099027fc40d2e69b14d6b2c774', 1, 2, 1)\",\"('diffraction_pattern-integrate_fourier_space-mean_chunk-a7aa5ff02abf02d193761568dcf2e38f', 2, 3, 2)\",\"('mean_chunk-a7aa5ff02abf02d193761568dcf2e38f', 2, 2, 3)\",\"('mean_combine-partial-af4f15099027fc40d2e69b14d6b2c774', 1, 2, 3)\",\"('diffraction_pattern-integrate_fourier_space-mean_chunk-a7aa5ff02abf02d193761568dcf2e38f', 2, 3, 4)\",\"('mean_chunk-a7aa5ff02abf02d193761568dcf2e38f', 2, 2, 7)\",\"('mean_combine-partial-af4f15099027fc40d2e69b14d6b2c774', 1, 2, 7)\",\"('diffraction_pattern-integrate_fourier_space-mean_chunk-a7aa5ff02abf02d193761568dcf2e38f', 2, 3, 5)\",\"('mean_chunk-a7aa5ff02abf02d193761568dcf2e38f', 2, 2, 4)\",\"('mean_combine-partial-af4f15099027fc40d2e69b14d6b2c774', 1, 2, 4)\",\"('diffraction_pattern-integrate_fourier_space-mean_chunk-a7aa5ff02abf02d193761568dcf2e38f', 2, 3, 6)\",\"('mean_chunk-a7aa5ff02abf02d193761568dcf2e38f', 2, 2, 5)\",\"('mean_chunk-a7aa5ff02abf02d193761568dcf2e38f', 2, 2, 6)\",\"('mean_combine-partial-af4f15099027fc40d2e69b14d6b2c774', 1, 2, 5)\",\"('mean_combine-partial-af4f15099027fc40d2e69b14d6b2c774', 1, 2, 6)\",\"('diffraction_pattern-integrate_fourier_space-mean_chunk-a7aa5ff02abf02d193761568dcf2e38f', 2, 3, 7)\",\"('diffraction_pattern-integrate_fourier_space-mean_chunk-a7aa5ff02abf02d193761568dcf2e38f', 2, 4, 0)\",\"('mean_chunk-a7aa5ff02abf02d193761568dcf2e38f', 2, 3, 0)\",\"('mean_combine-partial-af4f15099027fc40d2e69b14d6b2c774', 1, 3, 0)\",\"('diffraction_pattern-integrate_fourier_space-mean_chunk-a7aa5ff02abf02d193761568dcf2e38f', 2, 4, 1)\",\"('mean_chunk-a7aa5ff02abf02d193761568dcf2e38f', 2, 3, 1)\",\"('mean_combine-partial-af4f15099027fc40d2e69b14d6b2c774', 1, 3, 1)\",\"('diffraction_pattern-integrate_fourier_space-mean_chunk-a7aa5ff02abf02d193761568dcf2e38f', 2, 4, 2)\",\"('mean_chunk-a7aa5ff02abf02d193761568dcf2e38f', 2, 3, 2)\",\"('mean_chunk-a7aa5ff02abf02d193761568dcf2e38f', 2, 3, 4)\",\"('mean_combine-partial-af4f15099027fc40d2e69b14d6b2c774', 1, 3, 2)\",\"('mean_combine-partial-af4f15099027fc40d2e69b14d6b2c774', 1, 3, 4)\",\"('diffraction_pattern-integrate_fourier_space-mean_chunk-a7aa5ff02abf02d193761568dcf2e38f', 2, 4, 3)\",\"('diffraction_pattern-integrate_fourier_space-mean_chunk-a7aa5ff02abf02d193761568dcf2e38f', 2, 4, 5)\",\"('mean_chunk-a7aa5ff02abf02d193761568dcf2e38f', 2, 3, 7)\",\"('mean_chunk-a7aa5ff02abf02d193761568dcf2e38f', 2, 3, 5)\",\"('mean_combine-partial-af4f15099027fc40d2e69b14d6b2c774', 1, 3, 7)\",\"('mean_combine-partial-af4f15099027fc40d2e69b14d6b2c774', 1, 3, 5)\",\"('diffraction_pattern-integrate_fourier_space-mean_chunk-a7aa5ff02abf02d193761568dcf2e38f', 2, 4, 6)\",\"('diffraction_pattern-integrate_fourier_space-mean_chunk-a7aa5ff02abf02d193761568dcf2e38f', 2, 4, 7)\",\"('mean_chunk-a7aa5ff02abf02d193761568dcf2e38f', 2, 3, 6)\",\"('mean_combine-partial-af4f15099027fc40d2e69b14d6b2c774', 1, 3, 6)\",\"('mean_chunk-a7aa5ff02abf02d193761568dcf2e38f', 2, 4, 0)\",\"('diffraction_pattern-integrate_fourier_space-mean_chunk-a7aa5ff02abf02d193761568dcf2e38f', 2, 5, 0)\",\"('mean_combine-partial-af4f15099027fc40d2e69b14d6b2c774', 1, 4, 0)\",\"('diffraction_pattern-integrate_fourier_space-mean_chunk-a7aa5ff02abf02d193761568dcf2e38f', 2, 5, 1)\",\"('mean_chunk-a7aa5ff02abf02d193761568dcf2e38f', 2, 4, 1)\",\"('mean_combine-partial-af4f15099027fc40d2e69b14d6b2c774', 1, 4, 1)\",\"('diffraction_pattern-integrate_fourier_space-mean_chunk-a7aa5ff02abf02d193761568dcf2e38f', 2, 5, 2)\",\"('mean_chunk-a7aa5ff02abf02d193761568dcf2e38f', 2, 4, 2)\",\"('mean_combine-partial-af4f15099027fc40d2e69b14d6b2c774', 1, 4, 2)\",\"('diffraction_pattern-integrate_fourier_space-mean_chunk-a7aa5ff02abf02d193761568dcf2e38f', 2, 5, 3)\",\"('mean_chunk-a7aa5ff02abf02d193761568dcf2e38f', 2, 4, 5)\",\"('mean_chunk-a7aa5ff02abf02d193761568dcf2e38f', 2, 4, 3)\",\"('mean_combine-partial-af4f15099027fc40d2e69b14d6b2c774', 1, 4, 5)\",\"('mean_combine-partial-af4f15099027fc40d2e69b14d6b2c774', 1, 4, 3)\",\"('diffraction_pattern-integrate_fourier_space-mean_chunk-a7aa5ff02abf02d193761568dcf2e38f', 2, 5, 4)\",\"('diffraction_pattern-integrate_fourier_space-mean_chunk-a7aa5ff02abf02d193761568dcf2e38f', 2, 5, 6)\",\"('mean_chunk-a7aa5ff02abf02d193761568dcf2e38f', 2, 4, 7)\",\"('mean_combine-partial-af4f15099027fc40d2e69b14d6b2c774', 1, 4, 7)\",\"('diffraction_pattern-integrate_fourier_space-mean_chunk-a7aa5ff02abf02d193761568dcf2e38f', 2, 5, 7)\",\"('mean_chunk-a7aa5ff02abf02d193761568dcf2e38f', 2, 4, 6)\",\"('mean_combine-partial-af4f15099027fc40d2e69b14d6b2c774', 1, 4, 6)\",\"('diffraction_pattern-integrate_fourier_space-mean_chunk-a7aa5ff02abf02d193761568dcf2e38f', 2, 6, 0)\",\"('mean_chunk-a7aa5ff02abf02d193761568dcf2e38f', 2, 5, 0)\",\"('mean_chunk-a7aa5ff02abf02d193761568dcf2e38f', 2, 5, 1)\",\"('mean_combine-partial-af4f15099027fc40d2e69b14d6b2c774', 1, 5, 0)\",\"('mean_combine-partial-af4f15099027fc40d2e69b14d6b2c774', 1, 5, 1)\",\"('diffraction_pattern-integrate_fourier_space-mean_chunk-a7aa5ff02abf02d193761568dcf2e38f', 2, 6, 1)\",\"('diffraction_pattern-integrate_fourier_space-mean_chunk-a7aa5ff02abf02d193761568dcf2e38f', 2, 6, 2)\",\"('mean_chunk-a7aa5ff02abf02d193761568dcf2e38f', 2, 5, 2)\",\"('mean_combine-partial-af4f15099027fc40d2e69b14d6b2c774', 1, 5, 2)\",\"('diffraction_pattern-integrate_fourier_space-mean_chunk-a7aa5ff02abf02d193761568dcf2e38f', 2, 6, 3)\",\"('mean_chunk-a7aa5ff02abf02d193761568dcf2e38f', 2, 5, 3)\",\"('mean_combine-partial-af4f15099027fc40d2e69b14d6b2c774', 1, 5, 3)\",\"('diffraction_pattern-integrate_fourier_space-mean_chunk-a7aa5ff02abf02d193761568dcf2e38f', 2, 6, 4)\",\"('mean_chunk-a7aa5ff02abf02d193761568dcf2e38f', 2, 5, 6)\",\"('mean_combine-partial-af4f15099027fc40d2e69b14d6b2c774', 1, 5, 6)\",\"('diffraction_pattern-integrate_fourier_space-mean_chunk-a7aa5ff02abf02d193761568dcf2e38f', 2, 6, 5)\",\"('mean_chunk-a7aa5ff02abf02d193761568dcf2e38f', 2, 5, 4)\",\"('mean_combine-partial-af4f15099027fc40d2e69b14d6b2c774', 1, 5, 4)\",\"('diffraction_pattern-integrate_fourier_space-mean_chunk-a7aa5ff02abf02d193761568dcf2e38f', 2, 6, 7)\",\"('mean_chunk-a7aa5ff02abf02d193761568dcf2e38f', 2, 5, 7)\",\"('mean_combine-partial-af4f15099027fc40d2e69b14d6b2c774', 1, 5, 7)\",\"('diffraction_pattern-integrate_fourier_space-mean_chunk-a7aa5ff02abf02d193761568dcf2e38f', 2, 7, 0)\",\"('mean_chunk-a7aa5ff02abf02d193761568dcf2e38f', 2, 6, 0)\",\"('mean_combine-partial-af4f15099027fc40d2e69b14d6b2c774', 1, 6, 0)\",\"('diffraction_pattern-integrate_fourier_space-mean_chunk-a7aa5ff02abf02d193761568dcf2e38f', 2, 7, 1)\",\"('mean_chunk-a7aa5ff02abf02d193761568dcf2e38f', 2, 6, 1)\",\"('mean_chunk-a7aa5ff02abf02d193761568dcf2e38f', 2, 6, 2)\",\"('mean_combine-partial-af4f15099027fc40d2e69b14d6b2c774', 1, 6, 1)\",\"('mean_combine-partial-af4f15099027fc40d2e69b14d6b2c774', 1, 6, 2)\",\"('diffraction_pattern-integrate_fourier_space-mean_chunk-a7aa5ff02abf02d193761568dcf2e38f', 2, 7, 2)\",\"('diffraction_pattern-integrate_fourier_space-mean_chunk-a7aa5ff02abf02d193761568dcf2e38f', 2, 7, 3)\",\"('mean_chunk-a7aa5ff02abf02d193761568dcf2e38f', 2, 6, 3)\",\"('mean_combine-partial-af4f15099027fc40d2e69b14d6b2c774', 1, 6, 3)\",\"('diffraction_pattern-integrate_fourier_space-mean_chunk-a7aa5ff02abf02d193761568dcf2e38f', 2, 7, 4)\",\"('mean_chunk-a7aa5ff02abf02d193761568dcf2e38f', 2, 6, 7)\",\"('mean_combine-partial-af4f15099027fc40d2e69b14d6b2c774', 1, 6, 7)\",\"('diffraction_pattern-integrate_fourier_space-mean_chunk-a7aa5ff02abf02d193761568dcf2e38f', 2, 7, 5)\",\"('mean_chunk-a7aa5ff02abf02d193761568dcf2e38f', 2, 7, 0)\",\"('mean_combine-partial-af4f15099027fc40d2e69b14d6b2c774', 1, 7, 0)\",\"('mean_chunk-a7aa5ff02abf02d193761568dcf2e38f', 2, 6, 4)\",\"('diffraction_pattern-integrate_fourier_space-mean_chunk-a7aa5ff02abf02d193761568dcf2e38f', 2, 7, 6)\",\"('mean_combine-partial-af4f15099027fc40d2e69b14d6b2c774', 1, 6, 4)\",\"('diffraction_pattern-integrate_fourier_space-mean_chunk-a7aa5ff02abf02d193761568dcf2e38f', 0, 1, 1)\",\"('mean_chunk-a7aa5ff02abf02d193761568dcf2e38f', 2, 6, 5)\",\"('mean_combine-partial-af4f15099027fc40d2e69b14d6b2c774', 1, 6, 5)\",\"('diffraction_pattern-integrate_fourier_space-mean_chunk-a7aa5ff02abf02d193761568dcf2e38f', 0, 2, 2)\",\"('mean_chunk-a7aa5ff02abf02d193761568dcf2e38f', 2, 7, 1)\",\"('mean_combine-partial-af4f15099027fc40d2e69b14d6b2c774', 1, 7, 1)\",\"('diffraction_pattern-integrate_fourier_space-mean_chunk-a7aa5ff02abf02d193761568dcf2e38f', 0, 3, 3)\",\"('mean_chunk-a7aa5ff02abf02d193761568dcf2e38f', 2, 7, 2)\",\"('mean_chunk-a7aa5ff02abf02d193761568dcf2e38f', 2, 7, 3)\",\"('mean_combine-partial-af4f15099027fc40d2e69b14d6b2c774', 1, 7, 2)\",\"('mean_combine-partial-af4f15099027fc40d2e69b14d6b2c774', 1, 7, 3)\",\"('diffraction_pattern-integrate_fourier_space-mean_chunk-a7aa5ff02abf02d193761568dcf2e38f', 0, 4, 4)\",\"('diffraction_pattern-integrate_fourier_space-mean_chunk-a7aa5ff02abf02d193761568dcf2e38f', 0, 5, 5)\",\"('mean_chunk-a7aa5ff02abf02d193761568dcf2e38f', 2, 7, 4)\",\"('mean_combine-partial-af4f15099027fc40d2e69b14d6b2c774', 1, 7, 4)\",\"('diffraction_pattern-integrate_fourier_space-mean_chunk-a7aa5ff02abf02d193761568dcf2e38f', 0, 6, 6)\",\"('mean_chunk-a7aa5ff02abf02d193761568dcf2e38f', 2, 7, 5)\",\"('mean_combine-partial-af4f15099027fc40d2e69b14d6b2c774', 1, 7, 5)\",\"('diffraction_pattern-integrate_fourier_space-mean_chunk-a7aa5ff02abf02d193761568dcf2e38f', 0, 7, 7)\",\"('mean_chunk-a7aa5ff02abf02d193761568dcf2e38f', 2, 7, 6)\",\"('mean_combine-partial-af4f15099027fc40d2e69b14d6b2c774', 1, 7, 6)\",\"('diffraction_pattern-integrate_fourier_space-mean_chunk-a7aa5ff02abf02d193761568dcf2e38f', 0, 0, 1)\",\"('mean_chunk-a7aa5ff02abf02d193761568dcf2e38f', 0, 1, 1)\",\"('mean_combine-partial-af4f15099027fc40d2e69b14d6b2c774', 0, 1, 1)\",\"('mean_agg-aggregate-bdfe5faaf0e8aabb74db2b4a93b49a2d', 1, 1)\",\"('diffraction_pattern-integrate_fourier_space-mean_chunk-a7aa5ff02abf02d193761568dcf2e38f', 0, 0, 2)\",\"('mean_chunk-a7aa5ff02abf02d193761568dcf2e38f', 0, 2, 2)\",\"('mean_combine-partial-af4f15099027fc40d2e69b14d6b2c774', 0, 2, 2)\",\"('mean_agg-aggregate-bdfe5faaf0e8aabb74db2b4a93b49a2d', 2, 2)\",\"('diffraction_pattern-integrate_fourier_space-mean_chunk-a7aa5ff02abf02d193761568dcf2e38f', 0, 0, 3)\",\"('mean_chunk-a7aa5ff02abf02d193761568dcf2e38f', 0, 7, 7)\",\"('diffraction_pattern-integrate_fourier_space-mean_chunk-a7aa5ff02abf02d193761568dcf2e38f', 0, 0, 4)\",\"('mean_chunk-a7aa5ff02abf02d193761568dcf2e38f', 0, 3, 3)\",\"('mean_combine-partial-af4f15099027fc40d2e69b14d6b2c774', 0, 3, 3)\",\"('mean_agg-aggregate-bdfe5faaf0e8aabb74db2b4a93b49a2d', 3, 3)\",\"('diffraction_pattern-integrate_fourier_space-mean_chunk-a7aa5ff02abf02d193761568dcf2e38f', 0, 0, 5)\",\"('mean_chunk-a7aa5ff02abf02d193761568dcf2e38f', 0, 5, 5)\",\"('diffraction_pattern-integrate_fourier_space-mean_chunk-a7aa5ff02abf02d193761568dcf2e38f', 0, 0, 6)\",\"('mean_chunk-a7aa5ff02abf02d193761568dcf2e38f', 0, 4, 4)\",\"('mean_combine-partial-af4f15099027fc40d2e69b14d6b2c774', 0, 4, 4)\",\"('mean_agg-aggregate-bdfe5faaf0e8aabb74db2b4a93b49a2d', 4, 4)\",\"('diffraction_pattern-integrate_fourier_space-mean_chunk-a7aa5ff02abf02d193761568dcf2e38f', 0, 0, 7)\",\"('mean_chunk-a7aa5ff02abf02d193761568dcf2e38f', 0, 6, 6)\",\"('diffraction_pattern-integrate_fourier_space-mean_chunk-a7aa5ff02abf02d193761568dcf2e38f', 0, 1, 0)\",\"('mean_chunk-a7aa5ff02abf02d193761568dcf2e38f', 0, 0, 1)\",\"('diffraction_pattern-integrate_fourier_space-mean_chunk-a7aa5ff02abf02d193761568dcf2e38f', 0, 1, 2)\",\"('mean_chunk-a7aa5ff02abf02d193761568dcf2e38f', 0, 0, 2)\",\"('diffraction_pattern-integrate_fourier_space-mean_chunk-a7aa5ff02abf02d193761568dcf2e38f', 0, 1, 3)\",\"('mean_chunk-a7aa5ff02abf02d193761568dcf2e38f', 0, 0, 3)\",\"('diffraction_pattern-integrate_fourier_space-mean_chunk-a7aa5ff02abf02d193761568dcf2e38f', 0, 1, 4)\",\"('mean_chunk-a7aa5ff02abf02d193761568dcf2e38f', 0, 0, 4)\",\"('diffraction_pattern-integrate_fourier_space-mean_chunk-a7aa5ff02abf02d193761568dcf2e38f', 0, 1, 5)\",\"('mean_chunk-a7aa5ff02abf02d193761568dcf2e38f', 0, 0, 5)\",\"('diffraction_pattern-integrate_fourier_space-mean_chunk-a7aa5ff02abf02d193761568dcf2e38f', 0, 1, 6)\",\"('mean_chunk-a7aa5ff02abf02d193761568dcf2e38f', 0, 0, 7)\",\"('diffraction_pattern-integrate_fourier_space-mean_chunk-a7aa5ff02abf02d193761568dcf2e38f', 0, 1, 7)\",\"('mean_chunk-a7aa5ff02abf02d193761568dcf2e38f', 0, 0, 6)\",\"('diffraction_pattern-integrate_fourier_space-mean_chunk-a7aa5ff02abf02d193761568dcf2e38f', 0, 2, 0)\",\"('mean_chunk-a7aa5ff02abf02d193761568dcf2e38f', 0, 1, 0)\",\"('diffraction_pattern-integrate_fourier_space-mean_chunk-a7aa5ff02abf02d193761568dcf2e38f', 0, 2, 1)\",\"('mean_chunk-a7aa5ff02abf02d193761568dcf2e38f', 0, 1, 2)\",\"('diffraction_pattern-integrate_fourier_space-mean_chunk-a7aa5ff02abf02d193761568dcf2e38f', 0, 2, 3)\",\"('mean_chunk-a7aa5ff02abf02d193761568dcf2e38f', 0, 1, 3)\",\"('diffraction_pattern-integrate_fourier_space-mean_chunk-a7aa5ff02abf02d193761568dcf2e38f', 0, 2, 4)\",\"('mean_chunk-a7aa5ff02abf02d193761568dcf2e38f', 0, 1, 4)\",\"('diffraction_pattern-integrate_fourier_space-mean_chunk-a7aa5ff02abf02d193761568dcf2e38f', 0, 2, 5)\",\"('mean_chunk-a7aa5ff02abf02d193761568dcf2e38f', 0, 1, 7)\",\"('diffraction_pattern-integrate_fourier_space-mean_chunk-a7aa5ff02abf02d193761568dcf2e38f', 0, 2, 6)\",\"('mean_chunk-a7aa5ff02abf02d193761568dcf2e38f', 0, 1, 5)\",\"('diffraction_pattern-integrate_fourier_space-mean_chunk-a7aa5ff02abf02d193761568dcf2e38f', 0, 2, 7)\",\"('mean_chunk-a7aa5ff02abf02d193761568dcf2e38f', 0, 1, 6)\",\"('diffraction_pattern-integrate_fourier_space-mean_chunk-a7aa5ff02abf02d193761568dcf2e38f', 0, 3, 0)\",\"('mean_chunk-a7aa5ff02abf02d193761568dcf2e38f', 0, 2, 0)\",\"('diffraction_pattern-integrate_fourier_space-mean_chunk-a7aa5ff02abf02d193761568dcf2e38f', 0, 3, 1)\",\"('mean_chunk-a7aa5ff02abf02d193761568dcf2e38f', 0, 2, 1)\",\"('diffraction_pattern-integrate_fourier_space-mean_chunk-a7aa5ff02abf02d193761568dcf2e38f', 0, 3, 2)\",\"('mean_chunk-a7aa5ff02abf02d193761568dcf2e38f', 0, 2, 3)\",\"('diffraction_pattern-integrate_fourier_space-mean_chunk-a7aa5ff02abf02d193761568dcf2e38f', 0, 3, 4)\",\"('mean_chunk-a7aa5ff02abf02d193761568dcf2e38f', 0, 2, 4)\",\"('diffraction_pattern-integrate_fourier_space-mean_chunk-a7aa5ff02abf02d193761568dcf2e38f', 0, 3, 5)\",\"('mean_chunk-a7aa5ff02abf02d193761568dcf2e38f', 0, 2, 5)\",\"('diffraction_pattern-integrate_fourier_space-mean_chunk-a7aa5ff02abf02d193761568dcf2e38f', 0, 3, 6)\",\"('mean_chunk-a7aa5ff02abf02d193761568dcf2e38f', 0, 2, 7)\",\"('diffraction_pattern-integrate_fourier_space-mean_chunk-a7aa5ff02abf02d193761568dcf2e38f', 0, 3, 7)\",\"('mean_chunk-a7aa5ff02abf02d193761568dcf2e38f', 0, 2, 6)\",\"('diffraction_pattern-integrate_fourier_space-mean_chunk-a7aa5ff02abf02d193761568dcf2e38f', 0, 4, 0)\",\"('mean_chunk-a7aa5ff02abf02d193761568dcf2e38f', 0, 3, 0)\",\"('diffraction_pattern-integrate_fourier_space-mean_chunk-a7aa5ff02abf02d193761568dcf2e38f', 0, 4, 1)\",\"('mean_chunk-a7aa5ff02abf02d193761568dcf2e38f', 0, 3, 1)\",\"('diffraction_pattern-integrate_fourier_space-mean_chunk-a7aa5ff02abf02d193761568dcf2e38f', 0, 4, 2)\",\"('mean_chunk-a7aa5ff02abf02d193761568dcf2e38f', 0, 3, 2)\",\"('diffraction_pattern-integrate_fourier_space-mean_chunk-a7aa5ff02abf02d193761568dcf2e38f', 0, 4, 3)\",\"('mean_chunk-a7aa5ff02abf02d193761568dcf2e38f', 0, 3, 4)\",\"('diffraction_pattern-integrate_fourier_space-mean_chunk-a7aa5ff02abf02d193761568dcf2e38f', 0, 4, 5)\",\"('mean_chunk-a7aa5ff02abf02d193761568dcf2e38f', 0, 3, 7)\",\"('diffraction_pattern-integrate_fourier_space-mean_chunk-a7aa5ff02abf02d193761568dcf2e38f', 0, 4, 6)\",\"('mean_chunk-a7aa5ff02abf02d193761568dcf2e38f', 0, 3, 5)\",\"('diffraction_pattern-integrate_fourier_space-mean_chunk-a7aa5ff02abf02d193761568dcf2e38f', 0, 4, 7)\",\"('mean_chunk-a7aa5ff02abf02d193761568dcf2e38f', 0, 3, 6)\",\"('diffraction_pattern-integrate_fourier_space-mean_chunk-a7aa5ff02abf02d193761568dcf2e38f', 0, 5, 0)\",\"('mean_chunk-a7aa5ff02abf02d193761568dcf2e38f', 0, 4, 0)\",\"('diffraction_pattern-integrate_fourier_space-mean_chunk-a7aa5ff02abf02d193761568dcf2e38f', 0, 5, 1)\",\"('mean_chunk-a7aa5ff02abf02d193761568dcf2e38f', 0, 4, 1)\",\"('diffraction_pattern-integrate_fourier_space-mean_chunk-a7aa5ff02abf02d193761568dcf2e38f', 0, 5, 2)\",\"('mean_chunk-a7aa5ff02abf02d193761568dcf2e38f', 0, 4, 2)\",\"('diffraction_pattern-integrate_fourier_space-mean_chunk-a7aa5ff02abf02d193761568dcf2e38f', 0, 5, 3)\",\"('mean_chunk-a7aa5ff02abf02d193761568dcf2e38f', 0, 4, 3)\",\"('diffraction_pattern-integrate_fourier_space-mean_chunk-a7aa5ff02abf02d193761568dcf2e38f', 0, 5, 4)\",\"('mean_chunk-a7aa5ff02abf02d193761568dcf2e38f', 0, 4, 7)\",\"('diffraction_pattern-integrate_fourier_space-mean_chunk-a7aa5ff02abf02d193761568dcf2e38f', 0, 5, 6)\",\"('mean_chunk-a7aa5ff02abf02d193761568dcf2e38f', 0, 4, 5)\",\"('diffraction_pattern-integrate_fourier_space-mean_chunk-a7aa5ff02abf02d193761568dcf2e38f', 0, 5, 7)\",\"('mean_chunk-a7aa5ff02abf02d193761568dcf2e38f', 0, 4, 6)\",\"('diffraction_pattern-integrate_fourier_space-mean_chunk-a7aa5ff02abf02d193761568dcf2e38f', 0, 6, 0)\",\"('mean_chunk-a7aa5ff02abf02d193761568dcf2e38f', 0, 5, 0)\",\"('diffraction_pattern-integrate_fourier_space-mean_chunk-a7aa5ff02abf02d193761568dcf2e38f', 0, 6, 1)\",\"('mean_chunk-a7aa5ff02abf02d193761568dcf2e38f', 0, 5, 1)\",\"('diffraction_pattern-integrate_fourier_space-mean_chunk-a7aa5ff02abf02d193761568dcf2e38f', 0, 6, 2)\",\"('mean_chunk-a7aa5ff02abf02d193761568dcf2e38f', 0, 5, 2)\",\"('diffraction_pattern-integrate_fourier_space-mean_chunk-a7aa5ff02abf02d193761568dcf2e38f', 0, 6, 3)\",\"('mean_chunk-a7aa5ff02abf02d193761568dcf2e38f', 0, 5, 3)\",\"('diffraction_pattern-integrate_fourier_space-mean_chunk-a7aa5ff02abf02d193761568dcf2e38f', 0, 6, 4)\",\"('mean_chunk-a7aa5ff02abf02d193761568dcf2e38f', 0, 5, 4)\",\"('diffraction_pattern-integrate_fourier_space-mean_chunk-a7aa5ff02abf02d193761568dcf2e38f', 0, 6, 5)\",\"('mean_chunk-a7aa5ff02abf02d193761568dcf2e38f', 0, 5, 7)\",\"('diffraction_pattern-integrate_fourier_space-mean_chunk-a7aa5ff02abf02d193761568dcf2e38f', 0, 6, 7)\",\"('mean_chunk-a7aa5ff02abf02d193761568dcf2e38f', 0, 5, 6)\",\"('diffraction_pattern-integrate_fourier_space-mean_chunk-a7aa5ff02abf02d193761568dcf2e38f', 0, 7, 0)\",\"('mean_chunk-a7aa5ff02abf02d193761568dcf2e38f', 0, 6, 1)\",\"('diffraction_pattern-integrate_fourier_space-mean_chunk-a7aa5ff02abf02d193761568dcf2e38f', 0, 7, 1)\",\"('mean_chunk-a7aa5ff02abf02d193761568dcf2e38f', 0, 6, 0)\",\"('diffraction_pattern-integrate_fourier_space-mean_chunk-a7aa5ff02abf02d193761568dcf2e38f', 0, 7, 2)\",\"('mean_chunk-a7aa5ff02abf02d193761568dcf2e38f', 0, 6, 2)\",\"('diffraction_pattern-integrate_fourier_space-mean_chunk-a7aa5ff02abf02d193761568dcf2e38f', 0, 7, 3)\",\"('mean_chunk-a7aa5ff02abf02d193761568dcf2e38f', 0, 6, 3)\",\"('diffraction_pattern-integrate_fourier_space-mean_chunk-a7aa5ff02abf02d193761568dcf2e38f', 0, 7, 4)\",\"('mean_chunk-a7aa5ff02abf02d193761568dcf2e38f', 0, 6, 7)\",\"('diffraction_pattern-integrate_fourier_space-mean_chunk-a7aa5ff02abf02d193761568dcf2e38f', 0, 7, 5)\",\"('mean_chunk-a7aa5ff02abf02d193761568dcf2e38f', 0, 6, 5)\",\"('mean_chunk-a7aa5ff02abf02d193761568dcf2e38f', 0, 6, 4)\",\"('diffraction_pattern-integrate_fourier_space-mean_chunk-a7aa5ff02abf02d193761568dcf2e38f', 0, 7, 6)\",\"('diffraction_pattern-integrate_fourier_space-mean_chunk-a7aa5ff02abf02d193761568dcf2e38f', 1, 5, 5)\",\"('mean_chunk-a7aa5ff02abf02d193761568dcf2e38f', 0, 7, 0)\",\"('diffraction_pattern-integrate_fourier_space-mean_chunk-a7aa5ff02abf02d193761568dcf2e38f', 1, 6, 6)\",\"('mean_chunk-a7aa5ff02abf02d193761568dcf2e38f', 0, 7, 1)\",\"('diffraction_pattern-integrate_fourier_space-mean_chunk-a7aa5ff02abf02d193761568dcf2e38f', 1, 7, 7)\",\"('mean_chunk-a7aa5ff02abf02d193761568dcf2e38f', 0, 7, 2)\",\"('diffraction_pattern-integrate_fourier_space-mean_chunk-a7aa5ff02abf02d193761568dcf2e38f', 1, 0, 1)\",\"('mean_chunk-a7aa5ff02abf02d193761568dcf2e38f', 0, 7, 3)\",\"('diffraction_pattern-integrate_fourier_space-mean_chunk-a7aa5ff02abf02d193761568dcf2e38f', 1, 0, 2)\",\"('mean_chunk-a7aa5ff02abf02d193761568dcf2e38f', 0, 7, 4)\",\"('diffraction_pattern-integrate_fourier_space-mean_chunk-a7aa5ff02abf02d193761568dcf2e38f', 1, 0, 3)\",\"('mean_chunk-a7aa5ff02abf02d193761568dcf2e38f', 0, 7, 6)\",\"('diffraction_pattern-integrate_fourier_space-mean_chunk-a7aa5ff02abf02d193761568dcf2e38f', 1, 0, 4)\",\"('mean_chunk-a7aa5ff02abf02d193761568dcf2e38f', 0, 7, 5)\",\"('diffraction_pattern-integrate_fourier_space-mean_chunk-a7aa5ff02abf02d193761568dcf2e38f', 1, 0, 5)\",\"('mean_chunk-a7aa5ff02abf02d193761568dcf2e38f', 1, 7, 7)\",\"('mean_combine-partial-af4f15099027fc40d2e69b14d6b2c774', 0, 7, 7)\",\"('mean_agg-aggregate-bdfe5faaf0e8aabb74db2b4a93b49a2d', 7, 7)\",\"('diffraction_pattern-integrate_fourier_space-mean_chunk-a7aa5ff02abf02d193761568dcf2e38f', 1, 0, 6)\",\"('mean_chunk-a7aa5ff02abf02d193761568dcf2e38f', 1, 5, 5)\",\"('mean_combine-partial-af4f15099027fc40d2e69b14d6b2c774', 0, 5, 5)\",\"('mean_agg-aggregate-bdfe5faaf0e8aabb74db2b4a93b49a2d', 5, 5)\",\"('diffraction_pattern-integrate_fourier_space-mean_chunk-a7aa5ff02abf02d193761568dcf2e38f', 1, 0, 7)\",\"('mean_chunk-a7aa5ff02abf02d193761568dcf2e38f', 1, 6, 6)\",\"('mean_combine-partial-af4f15099027fc40d2e69b14d6b2c774', 0, 6, 6)\",\"('mean_agg-aggregate-bdfe5faaf0e8aabb74db2b4a93b49a2d', 6, 6)\",\"('diffraction_pattern-integrate_fourier_space-mean_chunk-a7aa5ff02abf02d193761568dcf2e38f', 1, 1, 0)\",\"('mean_chunk-a7aa5ff02abf02d193761568dcf2e38f', 1, 0, 1)\",\"('mean_combine-partial-af4f15099027fc40d2e69b14d6b2c774', 0, 0, 1)\",\"('mean_agg-aggregate-bdfe5faaf0e8aabb74db2b4a93b49a2d', 0, 1)\",\"('diffraction_pattern-integrate_fourier_space-mean_chunk-a7aa5ff02abf02d193761568dcf2e38f', 1, 1, 2)\",\"('mean_chunk-a7aa5ff02abf02d193761568dcf2e38f', 1, 0, 2)\",\"('mean_combine-partial-af4f15099027fc40d2e69b14d6b2c774', 0, 0, 2)\",\"('mean_agg-aggregate-bdfe5faaf0e8aabb74db2b4a93b49a2d', 0, 2)\",\"('diffraction_pattern-integrate_fourier_space-mean_chunk-a7aa5ff02abf02d193761568dcf2e38f', 1, 1, 3)\",\"('mean_chunk-a7aa5ff02abf02d193761568dcf2e38f', 1, 0, 3)\",\"('mean_combine-partial-af4f15099027fc40d2e69b14d6b2c774', 0, 0, 3)\",\"('mean_agg-aggregate-bdfe5faaf0e8aabb74db2b4a93b49a2d', 0, 3)\",\"('diffraction_pattern-integrate_fourier_space-mean_chunk-a7aa5ff02abf02d193761568dcf2e38f', 1, 1, 4)\",\"('mean_chunk-a7aa5ff02abf02d193761568dcf2e38f', 1, 0, 5)\",\"('mean_chunk-a7aa5ff02abf02d193761568dcf2e38f', 1, 0, 7)\",\"('mean_combine-partial-af4f15099027fc40d2e69b14d6b2c774', 0, 0, 5)\",\"('mean_combine-partial-af4f15099027fc40d2e69b14d6b2c774', 0, 0, 7)\",\"('mean_agg-aggregate-bdfe5faaf0e8aabb74db2b4a93b49a2d', 0, 5)\",\"('mean_agg-aggregate-bdfe5faaf0e8aabb74db2b4a93b49a2d', 0, 7)\",\"('diffraction_pattern-integrate_fourier_space-mean_chunk-a7aa5ff02abf02d193761568dcf2e38f', 1, 1, 5)\",\"('mean_chunk-a7aa5ff02abf02d193761568dcf2e38f', 1, 0, 4)\",\"('diffraction_pattern-integrate_fourier_space-mean_chunk-a7aa5ff02abf02d193761568dcf2e38f', 1, 1, 6)\",\"('mean_combine-partial-af4f15099027fc40d2e69b14d6b2c774', 0, 0, 4)\",\"('mean_agg-aggregate-bdfe5faaf0e8aabb74db2b4a93b49a2d', 0, 4)\",\"('diffraction_pattern-integrate_fourier_space-mean_chunk-a7aa5ff02abf02d193761568dcf2e38f', 1, 1, 7)\",\"('mean_chunk-a7aa5ff02abf02d193761568dcf2e38f', 1, 0, 6)\",\"('mean_combine-partial-af4f15099027fc40d2e69b14d6b2c774', 0, 0, 6)\",\"('mean_agg-aggregate-bdfe5faaf0e8aabb74db2b4a93b49a2d', 0, 6)\",\"('diffraction_pattern-integrate_fourier_space-mean_chunk-a7aa5ff02abf02d193761568dcf2e38f', 1, 2, 0)\",\"('mean_chunk-a7aa5ff02abf02d193761568dcf2e38f', 1, 1, 0)\",\"('mean_combine-partial-af4f15099027fc40d2e69b14d6b2c774', 0, 1, 0)\",\"('mean_agg-aggregate-bdfe5faaf0e8aabb74db2b4a93b49a2d', 1, 0)\",\"('diffraction_pattern-integrate_fourier_space-mean_chunk-a7aa5ff02abf02d193761568dcf2e38f', 1, 2, 1)\",\"('mean_chunk-a7aa5ff02abf02d193761568dcf2e38f', 1, 1, 2)\",\"('mean_combine-partial-af4f15099027fc40d2e69b14d6b2c774', 0, 1, 2)\",\"('mean_agg-aggregate-bdfe5faaf0e8aabb74db2b4a93b49a2d', 1, 2)\",\"('diffraction_pattern-integrate_fourier_space-mean_chunk-a7aa5ff02abf02d193761568dcf2e38f', 1, 2, 3)\",\"('mean_chunk-a7aa5ff02abf02d193761568dcf2e38f', 1, 1, 3)\",\"('mean_combine-partial-af4f15099027fc40d2e69b14d6b2c774', 0, 1, 3)\",\"('mean_agg-aggregate-bdfe5faaf0e8aabb74db2b4a93b49a2d', 1, 3)\",\"('diffraction_pattern-integrate_fourier_space-mean_chunk-a7aa5ff02abf02d193761568dcf2e38f', 1, 2, 4)\",\"('mean_chunk-a7aa5ff02abf02d193761568dcf2e38f', 1, 1, 7)\",\"('mean_combine-partial-af4f15099027fc40d2e69b14d6b2c774', 0, 1, 7)\",\"('mean_agg-aggregate-bdfe5faaf0e8aabb74db2b4a93b49a2d', 1, 7)\",\"('diffraction_pattern-integrate_fourier_space-mean_chunk-a7aa5ff02abf02d193761568dcf2e38f', 1, 2, 5)\",\"('mean_chunk-a7aa5ff02abf02d193761568dcf2e38f', 1, 1, 4)\",\"('mean_combine-partial-af4f15099027fc40d2e69b14d6b2c774', 0, 1, 4)\",\"('mean_agg-aggregate-bdfe5faaf0e8aabb74db2b4a93b49a2d', 1, 4)\",\"('diffraction_pattern-integrate_fourier_space-mean_chunk-a7aa5ff02abf02d193761568dcf2e38f', 1, 2, 6)\",\"('mean_chunk-a7aa5ff02abf02d193761568dcf2e38f', 1, 1, 6)\",\"('mean_combine-partial-af4f15099027fc40d2e69b14d6b2c774', 0, 1, 6)\",\"('mean_agg-aggregate-bdfe5faaf0e8aabb74db2b4a93b49a2d', 1, 6)\",\"('diffraction_pattern-integrate_fourier_space-mean_chunk-a7aa5ff02abf02d193761568dcf2e38f', 1, 2, 7)\",\"('mean_chunk-a7aa5ff02abf02d193761568dcf2e38f', 1, 1, 5)\",\"('mean_combine-partial-af4f15099027fc40d2e69b14d6b2c774', 0, 1, 5)\",\"('mean_agg-aggregate-bdfe5faaf0e8aabb74db2b4a93b49a2d', 1, 5)\",\"('diffraction_pattern-integrate_fourier_space-mean_chunk-a7aa5ff02abf02d193761568dcf2e38f', 1, 3, 0)\",\"('mean_chunk-a7aa5ff02abf02d193761568dcf2e38f', 1, 2, 0)\",\"('mean_combine-partial-af4f15099027fc40d2e69b14d6b2c774', 0, 2, 0)\",\"('mean_agg-aggregate-bdfe5faaf0e8aabb74db2b4a93b49a2d', 2, 0)\",\"('diffraction_pattern-integrate_fourier_space-mean_chunk-a7aa5ff02abf02d193761568dcf2e38f', 1, 3, 1)\",\"('mean_chunk-a7aa5ff02abf02d193761568dcf2e38f', 1, 2, 1)\",\"('mean_combine-partial-af4f15099027fc40d2e69b14d6b2c774', 0, 2, 1)\",\"('mean_agg-aggregate-bdfe5faaf0e8aabb74db2b4a93b49a2d', 2, 1)\",\"('diffraction_pattern-integrate_fourier_space-mean_chunk-a7aa5ff02abf02d193761568dcf2e38f', 1, 3, 2)\",\"('mean_chunk-a7aa5ff02abf02d193761568dcf2e38f', 1, 2, 4)\",\"('mean_combine-partial-af4f15099027fc40d2e69b14d6b2c774', 0, 2, 4)\",\"('mean_chunk-a7aa5ff02abf02d193761568dcf2e38f', 1, 2, 3)\",\"('mean_agg-aggregate-bdfe5faaf0e8aabb74db2b4a93b49a2d', 2, 4)\",\"('mean_combine-partial-af4f15099027fc40d2e69b14d6b2c774', 0, 2, 3)\",\"('diffraction_pattern-integrate_fourier_space-mean_chunk-a7aa5ff02abf02d193761568dcf2e38f', 1, 3, 4)\",\"('mean_agg-aggregate-bdfe5faaf0e8aabb74db2b4a93b49a2d', 2, 3)\",\"('diffraction_pattern-integrate_fourier_space-mean_chunk-a7aa5ff02abf02d193761568dcf2e38f', 1, 3, 5)\",\"('mean_chunk-a7aa5ff02abf02d193761568dcf2e38f', 1, 2, 7)\",\"('mean_combine-partial-af4f15099027fc40d2e69b14d6b2c774', 0, 2, 7)\",\"('mean_agg-aggregate-bdfe5faaf0e8aabb74db2b4a93b49a2d', 2, 7)\",\"('diffraction_pattern-integrate_fourier_space-mean_chunk-a7aa5ff02abf02d193761568dcf2e38f', 1, 3, 6)\",\"('mean_chunk-a7aa5ff02abf02d193761568dcf2e38f', 1, 2, 5)\",\"('mean_combine-partial-af4f15099027fc40d2e69b14d6b2c774', 0, 2, 5)\",\"('mean_chunk-a7aa5ff02abf02d193761568dcf2e38f', 1, 2, 6)\",\"('mean_agg-aggregate-bdfe5faaf0e8aabb74db2b4a93b49a2d', 2, 5)\",\"('mean_combine-partial-af4f15099027fc40d2e69b14d6b2c774', 0, 2, 6)\",\"('diffraction_pattern-integrate_fourier_space-mean_chunk-a7aa5ff02abf02d193761568dcf2e38f', 1, 3, 7)\",\"('mean_agg-aggregate-bdfe5faaf0e8aabb74db2b4a93b49a2d', 2, 6)\",\"('diffraction_pattern-integrate_fourier_space-mean_chunk-a7aa5ff02abf02d193761568dcf2e38f', 1, 4, 0)\",\"('mean_chunk-a7aa5ff02abf02d193761568dcf2e38f', 1, 3, 0)\",\"('mean_combine-partial-af4f15099027fc40d2e69b14d6b2c774', 0, 3, 0)\",\"('mean_agg-aggregate-bdfe5faaf0e8aabb74db2b4a93b49a2d', 3, 0)\",\"('diffraction_pattern-integrate_fourier_space-mean_chunk-a7aa5ff02abf02d193761568dcf2e38f', 1, 4, 1)\",\"('mean_chunk-a7aa5ff02abf02d193761568dcf2e38f', 1, 3, 1)\",\"('mean_combine-partial-af4f15099027fc40d2e69b14d6b2c774', 0, 3, 1)\",\"('mean_agg-aggregate-bdfe5faaf0e8aabb74db2b4a93b49a2d', 3, 1)\",\"('diffraction_pattern-integrate_fourier_space-mean_chunk-a7aa5ff02abf02d193761568dcf2e38f', 1, 4, 2)\",\"('mean_chunk-a7aa5ff02abf02d193761568dcf2e38f', 1, 3, 2)\",\"('mean_combine-partial-af4f15099027fc40d2e69b14d6b2c774', 0, 3, 2)\",\"('mean_agg-aggregate-bdfe5faaf0e8aabb74db2b4a93b49a2d', 3, 2)\",\"('diffraction_pattern-integrate_fourier_space-mean_chunk-a7aa5ff02abf02d193761568dcf2e38f', 1, 4, 3)\",\"('mean_chunk-a7aa5ff02abf02d193761568dcf2e38f', 1, 3, 7)\",\"('mean_combine-partial-af4f15099027fc40d2e69b14d6b2c774', 0, 3, 7)\",\"('mean_agg-aggregate-bdfe5faaf0e8aabb74db2b4a93b49a2d', 3, 7)\",\"('diffraction_pattern-integrate_fourier_space-mean_chunk-a7aa5ff02abf02d193761568dcf2e38f', 1, 4, 5)\",\"('mean_chunk-a7aa5ff02abf02d193761568dcf2e38f', 1, 3, 4)\",\"('mean_combine-partial-af4f15099027fc40d2e69b14d6b2c774', 0, 3, 4)\",\"('mean_agg-aggregate-bdfe5faaf0e8aabb74db2b4a93b49a2d', 3, 4)\",\"('diffraction_pattern-integrate_fourier_space-mean_chunk-a7aa5ff02abf02d193761568dcf2e38f', 1, 4, 6)\",\"('mean_chunk-a7aa5ff02abf02d193761568dcf2e38f', 1, 3, 5)\",\"('mean_chunk-a7aa5ff02abf02d193761568dcf2e38f', 1, 3, 6)\",\"('mean_combine-partial-af4f15099027fc40d2e69b14d6b2c774', 0, 3, 5)\",\"('mean_combine-partial-af4f15099027fc40d2e69b14d6b2c774', 0, 3, 6)\",\"('mean_agg-aggregate-bdfe5faaf0e8aabb74db2b4a93b49a2d', 3, 5)\",\"('mean_agg-aggregate-bdfe5faaf0e8aabb74db2b4a93b49a2d', 3, 6)\",\"('diffraction_pattern-integrate_fourier_space-mean_chunk-a7aa5ff02abf02d193761568dcf2e38f', 1, 4, 7)\",\"('diffraction_pattern-integrate_fourier_space-mean_chunk-a7aa5ff02abf02d193761568dcf2e38f', 1, 5, 0)\",\"('mean_chunk-a7aa5ff02abf02d193761568dcf2e38f', 1, 4, 0)\",\"('mean_combine-partial-af4f15099027fc40d2e69b14d6b2c774', 0, 4, 0)\",\"('mean_agg-aggregate-bdfe5faaf0e8aabb74db2b4a93b49a2d', 4, 0)\",\"('diffraction_pattern-integrate_fourier_space-mean_chunk-a7aa5ff02abf02d193761568dcf2e38f', 1, 5, 1)\",\"('mean_chunk-a7aa5ff02abf02d193761568dcf2e38f', 1, 4, 1)\",\"('mean_combine-partial-af4f15099027fc40d2e69b14d6b2c774', 0, 4, 1)\",\"('mean_agg-aggregate-bdfe5faaf0e8aabb74db2b4a93b49a2d', 4, 1)\",\"('diffraction_pattern-integrate_fourier_space-mean_chunk-a7aa5ff02abf02d193761568dcf2e38f', 1, 5, 2)\",\"('mean_chunk-a7aa5ff02abf02d193761568dcf2e38f', 1, 4, 2)\",\"('mean_combine-partial-af4f15099027fc40d2e69b14d6b2c774', 0, 4, 2)\",\"('mean_agg-aggregate-bdfe5faaf0e8aabb74db2b4a93b49a2d', 4, 2)\",\"('diffraction_pattern-integrate_fourier_space-mean_chunk-a7aa5ff02abf02d193761568dcf2e38f', 1, 5, 3)\",\"('mean_chunk-a7aa5ff02abf02d193761568dcf2e38f', 1, 4, 3)\",\"('mean_combine-partial-af4f15099027fc40d2e69b14d6b2c774', 0, 4, 3)\",\"('mean_agg-aggregate-bdfe5faaf0e8aabb74db2b4a93b49a2d', 4, 3)\",\"('diffraction_pattern-integrate_fourier_space-mean_chunk-a7aa5ff02abf02d193761568dcf2e38f', 1, 5, 4)\",\"('mean_chunk-a7aa5ff02abf02d193761568dcf2e38f', 1, 4, 7)\",\"('mean_combine-partial-af4f15099027fc40d2e69b14d6b2c774', 0, 4, 7)\",\"('mean_agg-aggregate-bdfe5faaf0e8aabb74db2b4a93b49a2d', 4, 7)\",\"('diffraction_pattern-integrate_fourier_space-mean_chunk-a7aa5ff02abf02d193761568dcf2e38f', 1, 5, 6)\",\"('mean_chunk-a7aa5ff02abf02d193761568dcf2e38f', 1, 4, 5)\",\"('mean_combine-partial-af4f15099027fc40d2e69b14d6b2c774', 0, 4, 5)\",\"('mean_agg-aggregate-bdfe5faaf0e8aabb74db2b4a93b49a2d', 4, 5)\",\"('diffraction_pattern-integrate_fourier_space-mean_chunk-a7aa5ff02abf02d193761568dcf2e38f', 1, 5, 7)\",\"('mean_chunk-a7aa5ff02abf02d193761568dcf2e38f', 1, 5, 0)\",\"('mean_chunk-a7aa5ff02abf02d193761568dcf2e38f', 1, 4, 6)\",\"('mean_combine-partial-af4f15099027fc40d2e69b14d6b2c774', 0, 5, 0)\",\"('mean_combine-partial-af4f15099027fc40d2e69b14d6b2c774', 0, 4, 6)\",\"('mean_agg-aggregate-bdfe5faaf0e8aabb74db2b4a93b49a2d', 5, 0)\",\"('mean_chunk-a7aa5ff02abf02d193761568dcf2e38f', 1, 5, 1)\",\"('mean_agg-aggregate-bdfe5faaf0e8aabb74db2b4a93b49a2d', 4, 6)\",\"('diffraction_pattern-integrate_fourier_space-mean_chunk-a7aa5ff02abf02d193761568dcf2e38f', 1, 6, 0)\",\"('mean_combine-partial-af4f15099027fc40d2e69b14d6b2c774', 0, 5, 1)\",\"('diffraction_pattern-integrate_fourier_space-mean_chunk-a7aa5ff02abf02d193761568dcf2e38f', 1, 6, 1)\",\"('mean_agg-aggregate-bdfe5faaf0e8aabb74db2b4a93b49a2d', 5, 1)\",\"('diffraction_pattern-integrate_fourier_space-mean_chunk-a7aa5ff02abf02d193761568dcf2e38f', 1, 6, 2)\",\"('mean_chunk-a7aa5ff02abf02d193761568dcf2e38f', 1, 5, 2)\",\"('mean_combine-partial-af4f15099027fc40d2e69b14d6b2c774', 0, 5, 2)\",\"('mean_agg-aggregate-bdfe5faaf0e8aabb74db2b4a93b49a2d', 5, 2)\",\"('diffraction_pattern-integrate_fourier_space-mean_chunk-a7aa5ff02abf02d193761568dcf2e38f', 1, 6, 3)\",\"('mean_chunk-a7aa5ff02abf02d193761568dcf2e38f', 1, 5, 3)\",\"('mean_combine-partial-af4f15099027fc40d2e69b14d6b2c774', 0, 5, 3)\",\"('mean_agg-aggregate-bdfe5faaf0e8aabb74db2b4a93b49a2d', 5, 3)\",\"('diffraction_pattern-integrate_fourier_space-mean_chunk-a7aa5ff02abf02d193761568dcf2e38f', 1, 6, 4)\",\"('mean_chunk-a7aa5ff02abf02d193761568dcf2e38f', 1, 5, 4)\",\"('mean_combine-partial-af4f15099027fc40d2e69b14d6b2c774', 0, 5, 4)\",\"('mean_agg-aggregate-bdfe5faaf0e8aabb74db2b4a93b49a2d', 5, 4)\",\"('diffraction_pattern-integrate_fourier_space-mean_chunk-a7aa5ff02abf02d193761568dcf2e38f', 1, 6, 5)\",\"('mean_chunk-a7aa5ff02abf02d193761568dcf2e38f', 1, 5, 7)\",\"('mean_combine-partial-af4f15099027fc40d2e69b14d6b2c774', 0, 5, 7)\",\"('mean_agg-aggregate-bdfe5faaf0e8aabb74db2b4a93b49a2d', 5, 7)\",\"('diffraction_pattern-integrate_fourier_space-mean_chunk-a7aa5ff02abf02d193761568dcf2e38f', 1, 6, 7)\",\"('mean_chunk-a7aa5ff02abf02d193761568dcf2e38f', 1, 5, 6)\",\"('mean_combine-partial-af4f15099027fc40d2e69b14d6b2c774', 0, 5, 6)\",\"('mean_agg-aggregate-bdfe5faaf0e8aabb74db2b4a93b49a2d', 5, 6)\",\"('diffraction_pattern-integrate_fourier_space-mean_chunk-a7aa5ff02abf02d193761568dcf2e38f', 1, 7, 0)\",\"('mean_chunk-a7aa5ff02abf02d193761568dcf2e38f', 1, 6, 1)\",\"('mean_combine-partial-af4f15099027fc40d2e69b14d6b2c774', 0, 6, 1)\",\"('mean_agg-aggregate-bdfe5faaf0e8aabb74db2b4a93b49a2d', 6, 1)\",\"('diffraction_pattern-integrate_fourier_space-mean_chunk-a7aa5ff02abf02d193761568dcf2e38f', 1, 7, 1)\",\"('mean_chunk-a7aa5ff02abf02d193761568dcf2e38f', 1, 6, 2)\",\"('mean_combine-partial-af4f15099027fc40d2e69b14d6b2c774', 0, 6, 2)\",\"('mean_agg-aggregate-bdfe5faaf0e8aabb74db2b4a93b49a2d', 6, 2)\",\"('mean_chunk-a7aa5ff02abf02d193761568dcf2e38f', 1, 6, 0)\",\"('diffraction_pattern-integrate_fourier_space-mean_chunk-a7aa5ff02abf02d193761568dcf2e38f', 1, 7, 2)\",\"('mean_combine-partial-af4f15099027fc40d2e69b14d6b2c774', 0, 6, 0)\",\"('mean_agg-aggregate-bdfe5faaf0e8aabb74db2b4a93b49a2d', 6, 0)\",\"('diffraction_pattern-integrate_fourier_space-mean_chunk-a7aa5ff02abf02d193761568dcf2e38f', 1, 7, 3)\",\"('mean_chunk-a7aa5ff02abf02d193761568dcf2e38f', 1, 6, 3)\",\"('mean_combine-partial-af4f15099027fc40d2e69b14d6b2c774', 0, 6, 3)\",\"('mean_agg-aggregate-bdfe5faaf0e8aabb74db2b4a93b49a2d', 6, 3)\",\"('diffraction_pattern-integrate_fourier_space-mean_chunk-a7aa5ff02abf02d193761568dcf2e38f', 1, 7, 4)\",\"('mean_chunk-a7aa5ff02abf02d193761568dcf2e38f', 1, 6, 7)\",\"('mean_combine-partial-af4f15099027fc40d2e69b14d6b2c774', 0, 6, 7)\",\"('mean_agg-aggregate-bdfe5faaf0e8aabb74db2b4a93b49a2d', 6, 7)\",\"('diffraction_pattern-integrate_fourier_space-mean_chunk-a7aa5ff02abf02d193761568dcf2e38f', 1, 7, 5)\",\"('mean_chunk-a7aa5ff02abf02d193761568dcf2e38f', 1, 6, 4)\",\"('mean_combine-partial-af4f15099027fc40d2e69b14d6b2c774', 0, 6, 4)\",\"('mean_agg-aggregate-bdfe5faaf0e8aabb74db2b4a93b49a2d', 6, 4)\",\"('diffraction_pattern-integrate_fourier_space-mean_chunk-a7aa5ff02abf02d193761568dcf2e38f', 1, 7, 6)\",\"('mean_chunk-a7aa5ff02abf02d193761568dcf2e38f', 1, 6, 5)\",\"('mean_combine-partial-af4f15099027fc40d2e69b14d6b2c774', 0, 6, 5)\",\"('mean_agg-aggregate-bdfe5faaf0e8aabb74db2b4a93b49a2d', 6, 5)\",\"('mean_chunk-a7aa5ff02abf02d193761568dcf2e38f', 1, 7, 0)\",\"('mean_combine-partial-af4f15099027fc40d2e69b14d6b2c774', 0, 7, 0)\",\"('mean_agg-aggregate-bdfe5faaf0e8aabb74db2b4a93b49a2d', 7, 0)\",\"('mean_chunk-a7aa5ff02abf02d193761568dcf2e38f', 1, 7, 3)\",\"('mean_chunk-a7aa5ff02abf02d193761568dcf2e38f', 1, 7, 2)\",\"('mean_combine-partial-af4f15099027fc40d2e69b14d6b2c774', 0, 7, 3)\",\"('mean_combine-partial-af4f15099027fc40d2e69b14d6b2c774', 0, 7, 2)\",\"('mean_agg-aggregate-bdfe5faaf0e8aabb74db2b4a93b49a2d', 7, 3)\",\"('mean_agg-aggregate-bdfe5faaf0e8aabb74db2b4a93b49a2d', 7, 2)\",\"('mean_chunk-a7aa5ff02abf02d193761568dcf2e38f', 1, 7, 1)\",\"('mean_combine-partial-af4f15099027fc40d2e69b14d6b2c774', 0, 7, 1)\",\"('mean_agg-aggregate-bdfe5faaf0e8aabb74db2b4a93b49a2d', 7, 1)\",\"('mean_chunk-a7aa5ff02abf02d193761568dcf2e38f', 1, 7, 4)\",\"('mean_combine-partial-af4f15099027fc40d2e69b14d6b2c774', 0, 7, 4)\",\"('mean_agg-aggregate-bdfe5faaf0e8aabb74db2b4a93b49a2d', 7, 4)\",\"('mean_chunk-a7aa5ff02abf02d193761568dcf2e38f', 1, 7, 5)\",\"('mean_combine-partial-af4f15099027fc40d2e69b14d6b2c774', 0, 7, 5)\",\"('mean_agg-aggregate-bdfe5faaf0e8aabb74db2b4a93b49a2d', 7, 5)\",\"('mean_chunk-a7aa5ff02abf02d193761568dcf2e38f', 1, 7, 6)\",\"('mean_combine-partial-af4f15099027fc40d2e69b14d6b2c774', 0, 7, 6)\",\"('mean_agg-aggregate-bdfe5faaf0e8aabb74db2b4a93b49a2d', 7, 6)\"],\"width\":[0.0018144319999464642,0.001948372000015297,0.001999724999961927,0.002094332000012855,0.0010279550000404925,0.018802548999985902,0.030048725999961334,0.036592906999999286,0.9032479200000125,0.8836426290000077,0.9016449060000014,0.9103516129999889,0.8853539940000132,0.8716819680000185,0.8660643069999878,0.87788982699999,0.0004024969999818495,0.8303424809999456,0.0007806419999951686,0.8087895419999995,0.0018963019999773678,0.0064574879999668156,0.006029672000011033,0.8273520210000243,0.0029685900000231413,0.8031464450000385,0.7876755579999895,0.00679287299999487,0.008157876999973723,0.7762419150000142,0.46206174599996075,0.0012514530000089508,0.00042488199994750175,0.0006434539999986555,0.7709251939999717,0.00034265900001173577,0.8294791310000278,0.0010099799999920833,0.0005355639999606865,0.8160269489999905,0.785789431000012,0.002369992000012644,0.0018560490000254504,0.0016359589999979107,0.7863014380000095,0.7942386259999807,0.6099474739999664,0.0014150719999861394,0.0013427590000105738,0.7530193310000186,0.7512984979999828,0.00047446500002479297,0.7234473309999885,0.00043581300002415446,0.8205910469999935,0.0010093150000329842,0.0007003919999988284,0.7806880740000111,0.7850001769999722,0.0013888340000107746,0.628830158000028,0.006105628000000252,0.009746013000039966,0.7719678639999756,0.0014604349999558508,0.7558053060000134,0.7560123889999772,0.0009451939999962633,0.7721799840000472,0.000332261999972161,0.8090140969999879,0.00041738899994925305,0.7642134359999773,0.00045030199999018805,0.532889090000026,0.000987603999988096,0.77015729499999,0.002871382000023459,0.002012497999999141,0.0010503130000074634,0.754609935000019,0.7659660180000287,0.771388863000027,0.00019597300001805706,0.7516696029999821,0.0016224839999949836,0.7102122779999718,0.001895157999967978,0.5829094590000068,0.0006857169999534563,0.7599110919999816,0.0007624200000009296,0.7752731450000283,0.004892696000013075,0.0063271150000332455,0.7956853130000354,0.0030154730000049312,0.7488425219999613,0.7394042600000148,0.0008060359999717548,0.8123394469999994,0.00039358399999400717,0.5948566729999811,0.0004779999999868778,0.7638231529999757,0.00041632300002447664,0.7881044459999771,0.004563297999993665,0.008836201999997684,0.8276249379999854,0.003353857000035987,0.7911217380000153,0.7810125859999744,0.00048504400001547765,0.7776648169999589,0.003352016000008007,0.5692520389999913,0.002776525000001584,0.0036818199999970602,0.7492627690000404,0.7309250790000306,0.001034828000001653,0.7613992340000095,0.00011843499999031337,0.7761184149999849,0.00026624599996694087,0.751411462999954,0.0008503180000047905,0.7210700580000093,0.00029267700000445984,0.5617831710000019,0.0009329740000225684,0.5733197290000476,0.0023025579999966794,0.5527665609999985,0.00032619200004546656,0.5434961800000337,0.0020081709999999475,0.5564254530000312,0.0012585950000243429,0.0005158129999927041,0.5540945719999968,0.564113017000011,0.0007754789999694367,0.5470045479999612,0.0002642500000433756,0.7768933259999926,0.0005217050000396739,0.775788939999984,0.0012154830000099537,0.0013936889999968116,0.7018140010000025,0.6938157800000226,0.00011543599998731224,0.7171656439999765,0.0011559120000015355,0.7244932599999743,0.0006119369999737501,0.4413213580000388,0.0023188190000382747,0.6890104020000081,0.0004481430000282671,0.0005112860000053843,0.8871559880000177,0.0008073509999917405,0.0008196400000315407,0.8433461879999982,0.00011155800001461103,0.00040682400003788644,0.8913986850000128,0.0007727359999876171,0.0016680950000136363,0.001209894999988137,0.0006330159999947682,0.8710167540000384,0.86480633299999,0.00023641699999643606,0.001507650000007743,0.7811979009999845,0.00018704799998658928,0.0022791949999714234,0.8735544759999812,0.001400329999967198,0.000801587000012205,0.8804136649999919,0.0006286130000034973,0.0004815030000031584,0.8082540650000283,0.0002452900000093905,0.0005770880000000034,0.7880173309999918,0.0010544909999907759,0.0007021589999567368,0.0017469320000031985,0.0011245559999792931,0.8119746439999744,0.008653113999969264,0.8059587779999902,0.002176155000029212,0.5961097329999916,0.00035082099998362537,0.000798369999984061,0.8043864730000223,0.000521735000006629,0.0010663929999736865,0.8062066089999576,0.0014451690000214512,0.00032360199998038297,0.7753879219999931,0.0001305079999838199,0.0007974929999932101,0.8359597230000304,0.0014591800000403055,0.0005763199999933022,0.8356879990000152,0.007220756000037909,0.00047773200003575766,0.8254656249999925,0.0006096219999562891,0.0012683869999818853,0.0010233520000042517,0.5525156159999938,0.008479495999949904,0.8006022149999694,0.0004106869999986884,0.0005194949999918208,0.8095078000000058,0.000871929000027194,0.0012981769999669268,0.7961322550000318,0.0017208389999723295,0.00027488699998912125,0.7596606559999941,0.0008700460000454768,0.000644337999972322,0.7897926260000077,0.002021552000030624,0.00033364899996968234,0.8093456060000221,0.0012914740000269376,0.0012786909999817908,0.0011728879999850506,0.00784032000001389,0.6452116810000348,0.7556868219999728,0.0005177319999916108,0.00043675400002030074,0.7949684790000333,0.0007319810000012694,0.0011530859999879794,0.8312223149999909,0.0010283950000484765,0.0007284170000048107,0.0034586689999969167,0.0033487970000010137,0.7805763750000096,0.7719994329999622,0.001822462000006908,0.0006716709999636805,0.00144886300000735,0.0022941930000115462,0.8524975420000374,0.6841356200000064,0.0005013609999764412,0.001491647000023022,0.000692849000017759,0.8509886439999832,0.009914764000029663,0.8385483069999964,0.0002719489999662983,0.00037525699997331685,0.8237994710000294,0.00020805799999834562,0.0017027159999543073,0.8135977240000329,0.0009358259999885377,0.0017086589999735224,0.004166408999992655,0.0028837720000183253,0.8286465470000053,0.7881652030000055,0.00017099500001904744,0.00032141799999862997,0.6690713150000533,0.0006513810000114972,0.00037145900000723486,0.8438900120000312,0.0009187379999957557,0.0005610970000020643,0.0010663809999869045,0.0008791650000148366,0.8476887460000171,0.8493014279999898,0.0001915930000109256,0.0010826820000033877,0.838618107000002,0.0002608409999993455,0.0012779539999883127,0.8109310979999691,0.0016580399999952533,0.0018698589999530668,0.8317911890000005,0.00024325800001179232,0.0019922200000337398,0.6278627130000132,0.0007347679999725187,0.000553265000007741,0.6672043010000266,0.0012329289999684079,0.0014998760000253242,0.6544506760000104,0.002039658999990479,0.0023230109999872184,0.002045051000038711,0.0007710130000191384,0.603875252000023,0.599864905000004,0.0005037949999859848,0.0004952730000127303,0.6541064659999734,0.0004970779999666775,0.005275568999991265,0.6327057859999741,0.002750118999983897,0.0020673969999620567,0.002385568000022431,0.6271932040000365,0.001144603999989613,0.7942226949999736,0.0012105970000106936,0.0005058039999994435,0.7906718799999908,0.000527230999978201,0.0005050379999715915,0.8062044050000168,0.003914839000003667,0.0010982430000012755,0.0007476770000494071,0.0008702339999899777,0.9069316000000072,0.7915062210000201,0.00046812300001874974,0.0011517879999587421,0.8399477890000071,0.001476481999986845,0.001967234999995071,0.5379324369999949,0.000988002999974924,0.0005863110000063898,0.8444977839999979,0.0007415799999535011,0.0026177749999760636,0.0005728540000404791,0.811412034,0.001085267999997086,0.0037010870000244722,0.000682681999990109,0.8410170359999825,0.0005354220000413079,0.8277736019999793,0.00034813799999255934,0.00034479900000405905,0.0005130090000307064,0.8306416849999891,0.00047445899997455854,0.9098014260000014,0.00021044700002903483,0.0006601530000125422,0.004610048000017741,0.6647153650000064,0.0006157489999623067,0.8324597229999995,0.0013950670000326681,0.8734660300000314,0.0017391860000088855,0.846359112000016,0.00011772199997039934,0.8182049239999856,0.0009829189999663868,0.8462642889999756,0.0003962560000445592,0.8446097599999689,0.00019412900002180322,0.6724810510000339,0.0004685669999844322,0.8123687629999949,0.0004258449999952063,0.8265378780000106,0.0003718279999702645,0.8165162220000184,0.003513165000015306,0.8421593470000062,0.0007886209999696803,0.7902829660000066,0.00038035400001490416,0.8855748339999536,0.0015594230000033349,0.6694726800000126,0.0008121540000161076,0.8692805949999638,0.0010605260000033923,0.8849434260000066,0.0004764509999972688,0.8395356589999778,0.001157449999993787,0.8597947800000156,0.0006716839999967306,0.8566228739999815,0.0017603520000193384,0.8983754430000204,0.0004818580000005568,0.697431387999984,0.0016324549999922056,0.8526092989999938,0.0017233940000096482,0.7873880480000253,0.000488335999989431,0.8169419509999898,0.0007271999999716172,0.7736047949999829,0.0017227039999738736,0.8800367389999906,0.0006494669999597136,0.8800816499999655,0.0005962639999665953,0.6673787800000355,0.001599048999992192,0.8247813959999917,0.007000631999972029,0.8074567109999862,0.0008992400000238376,0.8607414570000174,0.0012436789999696884,0.8205246779999698,0.003408385999989605,0.8412450799999647,0.0008993110000119486,0.9218097939999552,0.0009809090000203469,0.6929022369999984,0.0003845630000114397,0.9051128319999862,0.0007488089999583281,0.8420787510000309,0.0005807369999502043,0.8438774470000112,0.00018289399997684086,0.8379351849999921,0.0004296360000353161,0.839184921000026,0.0011345550000214644,0.7687757449999708,0.00012643799999523253,0.6435779809999644,0.00028739900000118723,0.6449179680000157,0.00012302499999350403,0.595507323999982,0.0004632259999652888,0.6630836479999971,0.0003200990000209458,0.6279699710000273,0.003220763000001625,0.6195094670000003,0.0005092779999813501,0.6167182350000076,0.0036797120000073846,0.0012388210000153776,0.5850962050000135,0.8223756840000078,0.0009629819999759093,0.8273593799999617,0.000810881999996127,0.5146634989999939,0.0007479079999939131,0.8108610049999925,0.0012986340000225027,0.8074727929999881,0.0004779600000119899,0.8602937169999905,0.0027463700000112112,0.8830487189999872,0.0009001589999684256,0.8529732380000041,0.0004408220000300389,0.0006212099999629572,0.0031005929999992077,0.877711971999986,0.0029294710000158375,0.0005401509999956033,0.0006045009999979811,0.6288962410000067,0.0014673320000042622,0.0010274560000311794,0.0006671069999697465,0.8866109299999607,0.0006381979999900977,0.0007457429999817577,0.0007087390000037885,0.8721779520000155,0.0006999279999604369,0.0005524069999864878,0.0004930100000137827,0.8208434979999879,0.0021822809999889614,0.00047491200001559264,0.00039515200001005724,0.7981160789999535,0.0031776359999753367,0.003802518999975746,0.0018242819999727544,0.0012445410000054835,0.0025390499999957683,0.0043378490000236525,0.8284341620000077,0.007517945000017789,0.7742040279999856,0.007686575000036555,0.0019664529999658953,0.6521235060000095,0.0023611500000129126,0.0014255450000177916,0.0012822930000311317,0.7940290230000073,0.00014845900000182155,0.0016688320000071144,0.0013073700000063582,0.8267795410000076,0.0005060359999902175,0.001324662999991233,0.0013987710000264997,0.8284360449999895,0.0015405490000262034,0.0008220210000331463,0.00053406899996844,0.807175452000024,0.0016753240000184633,0.0010335150000173599,0.0004046109999649161,0.8153614669999456,0.002240674000006493,0.00035686100000020815,0.0036203359999831264,0.7861257959999648,0.00044256400002495866,0.0004118370000014693,0.00047540200000639743,0.6444271469999876,0.003421630999980607,0.0004135689999884562,0.0007198810000090816,0.7828893359999824,0.0006011790000002293,0.0015144059999556703,0.0007503859999928864,0.8206763690000116,0.0004048730000363321,0.002859243000045808,0.0007792700000095465,0.7975774509999951,0.0011621650000392947,0.0007445410000173069,0.0013059400000088317,0.0016031579999662426,0.0010784329999751208,0.86752027,0.0006905939999910515,0.8883940759999973,0.0027693989999875157,0.000386905000027582,0.0008933070000125554,0.8463782270000024,0.0002287329999717258,0.0008041829999569927,0.0008007330000054935,0.001022813999952632,0.0008252190000348492,0.6504533279999691,0.0022203699999749915,0.8095682099999522,0.0007216650000145819,0.00034592499997643245,0.0014573779999977887,0.8215548180000383,0.0003259329999991678,0.001490857999954187,0.0052619930000332715,0.8415844450000236,0.00024572699999225733,0.000650511000003462,0.0018305259999920054,0.8414299080000092,0.0013441230000239557,0.003959043000008933,0.0007059710000021369,0.8624429500000019,0.0006630259999838017,0.0007838390000074469,0.000452324999969278,0.9005225820000078,0.001880306999964887,0.0005325900000343609,0.0009384539999928165,0.0013850370000341172,0.0018215919999988728,0.0014166199999863238,0.6854008490000183,0.853315656999996,0.00037103500000057466,0.00048679899998660403,0.0009637569999654261,0.8252050129999589,0.0021054700000036064,0.0007220990000291749,0.0005953279999744154,0.8455876269999862,0.004788566999991417,0.0007954640000207291,0.0013992699999789693,0.827740719000019,0.0003064810000523721,0.0006449320000001535,0.0006457679999698485,0.7785363369999914,0.00011888500000623026,0.0067587730000013835,0.0006275709999954415,0.8887156260000211,0.0002203939999958493,0.0017159859999651417,0.000646387000017512,0.6685940300000084,0.0015646040000092398,0.0014395350000313556,0.002338774000008925,0.0041047799999773815,0.0028384000000301057,0.0032510579999893707,0.008941941999978553,0.8771693410000125,0.001973939999970753,0.8462770699999851,0.007049845999972604,0.8535241659999997,0.0006154810000111866,0.0033493889999931525,0.004680755999970643,0.8315851439999733,0.0003849139999942963,0.0010229349999804072,0.0013839979999943353,0.8303415330000234,0.00025752099998044287,0.0009471150000308626,0.0019497849999652317,0.783397731999969,0.0003256809999925281,0.002293876999999611,0.001964218000011897,0.5918441939999752,0.0009319789999722161,0.0009096889999682389,0.0010753000000249813,0.6076249960000268,0.0009563020000200595,0.0007730629999969096,0.000800179999998818,0.5835995940000203,0.0008837310000444631,0.0009343319999857158,0.0008098600000039369,0.0008288679999850501,0.5595324180000034,0.0006993100000158847,0.0006421530000011444,0.5466379569999731,0.00037701299999071125,0.0009434109999801876,0.0011176990000194564,0.47873495300001423,0.0007260330000349313,0.00037925999998833504,0.003797551999980442,0.39279909199996155,0.00013447100002395018,0.0011169889999678162,0.0011403409999957148,0.3560388420000322,0.0007848819999480838,0.0002147700000136865,0.0006148850000045059,0.0006577020000122502,0.0005230419999975311,0.0006028660000083619,0.0006850860000326975,0.0007277059999637459,0.0016724349999890364,0.0012885870000332034,0.0018179929999746491,0.001139168999998219,0.0016890780000267114,0.0002062249999994492,0.00032138399996028966,0.0001178119999849514,0.0005410429999983535,0.0005124260000002323,0.00011084599998412159,0.00031138700001065445,0.0002252799999951094,0.00022596500002691755,0.00016678500003308727,0.00031821100003526226],\"x\":[0.0009072159999732321,0.0013257179999754953,0.0016323894999459299,0.001840177999952175,0.0027622084999734398,0.01199353350000365,0.017877515000009225,0.021470123499966576,0.45529639199997973,0.44565276749995064,0.45479182599996193,0.4593183464999697,0.44703602300000966,0.46794318100000964,0.4716878224999732,0.48944149549998883,0.8884099344999754,1.304824687499945,0.8955025959999716,1.3015672209999707,0.9056207059999792,0.9087980859999334,0.9095420019999665,1.3205422114999692,0.9134485589999599,1.314081710499977,1.308280042999968,0.9182703414999764,0.9236179214999538,1.31573251049997,1.1593488139999408,0.9405526084999565,0.9418020719999731,0.9436195669999279,1.3315583149999384,1.3910106354999812,1.8061867005000067,1.7042949859999226,1.7050223819999815,2.1132595814999604,2.098817084499956,1.7167919289999531,1.717901447499969,1.7187275735000185,2.1119305309999845,2.116608716999963,2.0249132120000013,1.7348331609999832,1.7356791294999994,2.112790604499992,2.1123222109999915,2.221959042499975,2.584317219499951,2.3305940514999293,2.741552668499992,2.489749836499982,2.4905217289999655,2.88114989099995,2.8841625544999943,2.4978561419999323,2.819414717999962,2.5166962829999875,2.5245232864999707,2.9071725729999685,2.5300311354999394,2.9085793240000157,2.916530952500011,2.947951656999976,3.337834036000004,3.134701269999937,3.539854629499928,3.1545575734999716,3.538887876999979,3.2747855659999914,3.54249045399996,3.2834548449999943,3.669623444499962,3.2945202390000077,3.295482060999973,3.296361273499997,3.673726977499996,3.6798015910000004,3.683031318499957,3.7247941574999572,4.1012519514999894,3.8105243679999603,4.167008546999966,3.92343077299995,4.217104472499955,3.945307549499944,4.327514684999983,4.052191732999972,4.4408157474999825,4.065146990000017,4.070698777499956,4.466508436499964,4.0753197634999765,4.451181866999946,4.452301767999984,4.4781287099999645,4.885349579499973,4.5093396119999625,4.807716312499963,4.523148977000005,4.905625200499969,4.708662576499933,5.10339081699999,4.825489192999953,4.832126748999997,5.242182682999953,4.838159689500003,5.235313461999965,5.231477828999971,4.865941346999989,5.255514288499967,5.11071502499999,5.400907204499958,5.292806176499994,5.295950174999973,5.67232819849994,5.670523529499974,5.500366262999989,5.883066428999996,5.623466534499983,6.012375678500007,5.632423356000004,6.008974144499973,5.645867958999929,6.008348637999973,5.656522445499945,5.937844528499966,5.686684699000011,5.974160761500002,6.038869894999948,6.318203521499981,6.048592245999998,6.3211554839999735,6.221008649499936,6.501236977499957,6.26365941049994,6.264471505499955,6.5416874549999875,6.547577923499944,6.370671813499939,6.645552752999947,6.387555851000002,6.776802344999965,6.402226735499994,6.791414753999959,6.5950878644999875,6.596272865499998,6.947805879499981,6.950741867999966,6.7856828469999755,7.146537706999993,6.8212170639999385,7.1846028740000065,6.8305964625000115,7.052180872000008,6.921231210499968,7.267499725999983,7.166127657499942,7.169478776999995,7.613903623999988,7.180087555499995,7.181186471999979,7.605653727999993,7.275266391999935,7.277482051999982,7.724239535499976,7.299034623000011,7.300194294499988,7.301562798499958,7.302407322000022,7.738161324999965,7.7355216654999595,7.506335992499999,7.507645841999988,7.899600752499964,7.548149775999946,7.551349011499951,7.990108745999976,7.6145538590000115,7.616820032499959,8.057878996499994,8.030137779499967,8.031903834499985,8.437476702499964,8.05882495100002,8.059702869999967,8.454514057499978,8.170392657499974,8.171203163499968,8.172351177999985,8.173695431999931,8.579609377999986,8.178525315000002,8.585763807999967,8.192504935499983,8.492583341499994,8.293094201499969,8.295115390999968,8.698422452499983,8.428603723499975,8.430127998499984,8.834936056499942,8.49999952249999,8.50416398699997,8.89239454699998,8.794124336999971,8.798167910499956,9.2190625705,8.844307796999942,8.84758602699992,9.266285864499991,8.852507388999982,8.860108837999974,9.27352827149997,8.986816811999972,8.989267289499992,8.990355721000014,9.267045887999984,8.996395314999972,9.401852802500002,9.101542157499978,9.102379813499965,9.507729043999973,9.239275908499962,9.241034712499982,9.643281624499991,9.283904895499973,9.286030386499988,9.666587134999986,9.544573600999968,9.545812914999942,9.942859716999976,9.638926878000007,9.640925364499935,10.046199859000012,9.686509797999975,9.68770209249999,9.688847649999957,9.693277645999956,10.012691437499939,10.07679091099999,9.804107618999979,9.805550645999972,10.205463017499937,9.916590037499986,9.918051593999962,10.335026517499955,10.046837328499976,10.047631947499951,10.049660182499963,10.052990380499978,10.444880977499963,10.447715222499937,10.337792976999935,10.338957743499975,10.339937730499969,10.341164747499988,10.768400855999971,10.691332537999983,10.452097002499954,10.455303856499995,10.456337366499952,10.882085866000011,10.462342362999948,10.889993572499975,10.604831840499969,10.606432233499959,11.019434717499962,10.75176967799996,10.753089860999978,11.161738599999978,10.835569422999924,10.836807101499971,10.839649548500006,10.843077790999985,11.258720161499923,11.245307348499978,11.034470944499958,11.036685421999948,11.372174357499944,11.196031716499988,11.197207089499955,11.619970265000006,11.309624917999997,11.310289689499996,11.31102526449996,11.311903172499967,11.736116794999987,11.738157497999964,11.432197269499966,11.433444523999924,11.85524529349999,11.571720198499975,11.57299399699997,11.97976030999996,11.641623099999947,11.64453867049997,12.06726855949995,11.674696705999963,11.677290574999972,11.994044591499971,11.708760369999936,11.710702473499964,12.046013233499934,12.046002685499957,12.049279364999961,12.377723280999987,12.16298818249993,12.165081770500024,12.167168897500005,12.168481745500003,12.470739094999999,12.47508445249997,12.276094759499983,12.277425221499925,12.607391875999951,12.308758556999976,12.314341594499979,12.636211576999983,12.381779771499964,12.38616361849995,12.38830182199996,12.702991297999972,12.396534828999961,12.795511975499949,12.48496983550001,12.487402010999972,12.884045451999953,12.707049819499957,12.708325898999988,13.112849989499978,12.776890732499965,12.779302215499968,12.78013830049997,12.780860483999959,13.234654391999982,13.179105515499941,12.935735783499979,12.938003632000004,13.359551818499995,12.955839634999961,12.959095699499926,13.231139291499971,13.018709555499981,13.020160273499982,13.443089320000013,13.19364849699997,13.196087751499988,13.199171454999941,13.605523380999955,13.280840866999995,13.28380698649994,13.288546021999991,13.710565344999964,13.501829283000006,13.918235391999985,13.516509698999926,13.517839459499953,13.518655766499933,13.934898583499944,13.578434067499984,14.034455322999975,13.689355367499957,13.690225057499958,13.697776241999975,14.035455841499981,13.781172172499964,14.201290351500006,13.867069006499946,14.305239086999961,14.01321887499995,14.437638418000006,14.135961597999994,14.54921350099994,14.333280518499976,14.75786211749994,14.351237923999975,14.774052997000013,14.370425937499931,14.708550898499993,14.490408729499961,14.898094830499986,14.61837150849999,15.03330766900001,14.742841899999974,15.15159330299997,14.865474342499965,15.28936696149998,14.959788878499978,15.355828903999964,15.045501176000016,15.489240732999974,15.18296630149996,15.519995207999955,15.19922404800002,15.635167897499969,15.30775874099993,15.757221223999977,15.447722777499962,15.86823504049994,15.563609530999997,15.995706300999984,15.711484292000023,16.145052459999988,15.75252558699998,16.20461656249995,15.855674980000003,16.205066881999983,15.933358714499946,16.36520260949999,16.071165458999985,16.46777313399997,16.200982330999977,16.611571845499952,16.288873146000014,16.676416498499975,16.42752429099994,16.86950787249998,16.5551206545,16.996449952999967,16.574446721999948,16.908987241999966,16.657135171499988,17.07090967099998,16.79639728999996,17.206750207499965,16.862534358999937,17.294021193499987,17.021508863500003,17.433623368999974,17.065635845999964,17.48878820999994,17.247823845499966,17.710247312999968,17.310578244499993,17.661299897499987,17.438066347499955,17.89141604499997,17.485065221500008,17.912024538499963,17.61177928349997,18.036870137499932,17.725494406999985,18.146581248499956,17.84510259299998,18.265281668499938,17.911764813499985,18.297843965499965,18.01207238699999,18.3346250715,18.17249864849998,18.495873017000008,18.33509673249995,18.63450947199999,18.34853343499998,18.68176674199998,18.460366046499985,18.776621846500007,18.568833295499985,18.881551108499934,18.660907090999956,18.97162119249998,18.68661665099995,18.688980519499978,18.98206094349996,19.10190222999995,18.82400279000001,19.239306948999968,18.936794605999978,19.19690884549999,19.01435101499999,19.420768490499995,19.092187896999974,19.50022723449996,19.198002843999973,19.629595200499978,19.276806426999997,19.72137741949996,19.282637900499935,19.715423259999966,19.456153465999932,19.457057031999966,19.45939867049998,19.90059257500002,19.515522641499956,19.518497236499968,19.519447856499994,19.834559159499975,19.655553693,19.65722115999995,19.65970257250001,20.105578097999967,19.830413651999947,19.832826372499994,19.835480058500025,20.273347409999985,19.90533038000001,19.906591661499988,19.907612275999952,20.318578506999984,20.06374518749999,20.065970884999956,20.06873207199999,20.468421169499948,20.149201436,20.152616981499932,20.15536970400001,20.156806223499984,20.158610789999955,20.161962802499943,20.576970331999973,20.167803449499957,20.55857873499997,20.176313944499952,20.18193891349995,20.51257456799999,20.345597820999956,20.35124553849994,20.360461419499984,20.75877931949998,20.551233670499983,20.55545547700001,20.557352931999958,20.97250555849996,20.711442848999923,20.713622135499975,20.71676472249999,21.132290921499987,20.730575907499997,20.733348024499946,20.73461487649996,21.139041401999975,20.84143406299995,20.844994464499962,20.846396867499948,21.255054115500002,20.86948349900001,20.873462600499977,20.876249919999964,21.271649907999972,20.94729530099994,20.948180548499977,20.948952752999958,21.272898797499977,20.995461394500012,20.99844506949995,20.999545792499987,21.391795365000007,21.158810917499977,21.161262181999973,21.163050143999953,21.57462489349996,21.38708444249994,21.389256885500004,21.391971156999944,21.793846821499983,21.544012662499995,21.546787744499966,21.547729770999922,21.549099550999983,21.55036323349998,21.98456573699997,21.55719658800001,22.007004056000028,21.601000628499946,21.604266011499988,21.606751735499984,22.031282522499964,21.66353052249997,21.6650285705,21.66574258649996,21.666576240999973,21.667422823499976,21.99298116,21.691309606999994,22.098845086999972,21.78510864049997,21.78639743349993,21.787681599999928,22.200005610999938,21.98992232249998,21.995531383999946,22.002386414499938,22.42787081450001,22.198956302499994,22.201169688499988,22.204066545999922,22.626258271999973,22.320803269499947,22.324023562499974,22.331052606499952,22.76465556400001,22.41980648699996,22.42183602749992,22.423409975499965,22.874762119999957,22.454134309499977,22.45525730999998,22.455926811999973,22.457026202499947,22.45853878799994,22.460064536999994,22.80338009749994,22.896882370499952,22.50458153449995,22.50534220549997,22.50636604449994,22.919836268499978,22.613861330999953,22.61583088750001,22.61707774499996,23.042389031499965,22.85261273949999,22.85723009999998,22.85988524199996,23.2788203545,23.04829133649997,23.049345953,23.050594519000015,23.44202663249996,23.147092435499985,23.153979002499966,23.15884202549995,23.60511806599999,23.200857201999952,23.20342007399995,23.20548516849999,23.540776033999975,23.325732733999985,23.32708849849996,23.328906216999997,23.33202534199995,23.333799182999996,23.335638464999988,23.339618256999984,23.77573798049997,23.345004792999987,23.76902118800001,23.351241568999967,23.78246469999999,23.466978821499993,23.471066598499988,23.47570812699996,23.898437437999974,23.693499410999948,23.695249907499942,23.697601996000003,24.11483725049999,23.83280393849998,23.835533534499973,23.83991186449998,24.23869756900001,23.88412295149999,23.889693846499995,23.892699247999985,24.191967743999953,24.052546103499935,24.05432031549998,24.05700836799997,24.362070637999977,24.194095107999942,24.19637002449997,24.198671927999953,24.491621341999974,24.21139761349997,24.21272107799996,24.214643768999963,24.215387153999984,24.49545771199996,24.22407518099999,24.226451242499934,24.500554061499997,24.31551598850001,24.316774894499986,24.318917395499966,24.55970741750002,24.48903305449994,24.491368093000006,24.49383512700001,24.69412683600001,24.533825832499986,24.535717541499935,24.53805777149995,24.717451428999993,24.631515795999974,24.633527264999998,24.635916540499977,24.668556672999955,24.669513882999922,24.67158827899999,24.775481076999995,24.776107545999935,24.77723402250001,24.778659129499943,24.780140098499942,24.781550415499964,24.78488611299997,24.7868399555,24.788161016000004,24.79996497799999,24.80088593649998,24.801706642,24.891335606999974,24.891749472499953,24.892464169999982,24.89583487249996,24.89628071049998,24.896713124499968],\"y\":[8,7,7,7,8,8,7,7,2,7,8,1,3,5,6,4,7,7,3,3,8,6,6,2,1,8,1,5,5,5,6,4,4,4,4,6,6,1,1,1,5,3,4,8,7,8,2,4,4,4,3,6,6,2,2,3,3,5,4,3,3,7,7,8,1,1,7,6,6,3,3,2,2,5,4,5,5,7,8,1,7,1,8,6,6,4,4,2,2,3,3,7,7,5,5,1,8,8,5,6,6,2,2,4,4,3,3,8,7,5,8,8,7,1,1,2,2,4,4,6,4,3,3,7,7,8,8,1,1,5,5,2,2,4,6,4,4,5,5,3,3,3,2,1,1,8,8,7,7,4,4,4,6,5,5,3,3,2,2,1,1,8,8,8,7,7,7,2,2,2,6,4,4,4,4,6,5,5,5,3,3,3,1,1,1,7,7,7,8,8,8,6,2,6,6,4,2,6,2,2,5,5,5,3,3,3,1,1,1,2,2,2,7,7,7,8,8,8,4,4,6,6,4,4,5,5,5,3,3,3,1,1,1,6,6,6,2,2,2,8,8,8,8,8,7,4,4,4,5,5,5,3,3,1,1,3,1,6,6,6,6,6,8,2,2,7,7,2,2,4,4,4,5,5,5,1,1,1,1,1,3,8,8,8,6,6,6,7,7,7,7,2,7,4,4,4,5,5,5,3,3,3,1,1,1,8,8,8,6,6,6,7,7,7,7,2,7,4,4,4,1,1,1,8,8,8,5,8,8,3,3,3,6,6,6,2,2,2,7,7,2,4,4,4,1,1,1,5,5,5,8,8,8,8,3,3,3,3,1,1,6,6,6,6,2,2,7,7,7,7,4,4,5,5,8,8,3,3,1,1,6,6,7,7,2,2,4,4,5,5,8,8,3,3,7,7,1,1,6,6,2,2,4,4,5,5,8,8,3,3,1,1,7,7,6,6,2,2,4,4,5,5,1,1,8,8,3,3,7,7,6,6,2,2,4,4,8,8,5,5,1,1,3,3,7,7,6,6,2,2,4,4,5,5,8,8,3,3,1,1,7,7,6,6,5,5,4,4,4,2,8,8,3,3,1,1,7,7,6,6,4,4,5,5,3,3,3,3,2,2,2,2,8,8,8,8,1,1,1,1,7,7,7,7,6,6,6,6,2,2,5,5,5,5,4,2,2,5,5,5,3,3,3,3,8,8,8,8,1,1,1,1,7,7,7,7,5,5,5,5,6,6,6,6,2,2,2,2,4,4,4,4,3,3,3,3,8,8,8,8,7,7,7,7,7,1,7,7,2,2,2,2,5,5,5,5,5,6,5,5,4,4,4,4,3,3,3,3,8,8,8,8,6,6,6,6,1,1,1,1,2,2,7,7,7,7,7,2,5,5,5,5,4,4,4,4,3,3,3,3,8,8,8,8,7,7,7,7,6,6,6,6,2,2,2,2,5,1,2,5,1,1,2,2,4,4,4,4,3,3,3,3,8,8,8,8,6,6,6,6,7,7,7,7,1,1,1,1,2,2,2,2,5,2,2,2,4,4,4,4,6,6,6,6,3,3,3,3,8,8,8,8,8,8,8,2,8,2,8,2,8,5,1,7,2,8,7,2,8,6,5,2]},\"selected\":{\"id\":\"1319\"},\"selection_policy\":{\"id\":\"1318\"}},\"id\":\"1304\",\"type\":\"ColumnDataSource\"},{\"attributes\":{},\"id\":\"1316\",\"type\":\"BasicTickFormatter\"},{\"attributes\":{},\"id\":\"1284\",\"type\":\"CategoricalScale\"},{\"attributes\":{\"dimensions\":\"width\"},\"id\":\"1296\",\"type\":\"WheelZoomTool\"},{\"attributes\":{},\"id\":\"1287\",\"type\":\"BasicTicker\"},{\"attributes\":{\"fill_color\":{\"field\":\"color\"},\"hatch_color\":{\"field\":\"color\"},\"height\":{\"value\":1},\"line_color\":{\"value\":\"gray\"},\"width\":{\"field\":\"width\"},\"x\":{\"field\":\"x\"},\"y\":{\"field\":\"y\"}},\"id\":\"1306\",\"type\":\"Rect\"},{\"attributes\":{},\"id\":\"1317\",\"type\":\"AllLabels\"},{\"attributes\":{\"fill_alpha\":{\"value\":0.1},\"fill_color\":{\"field\":\"color\"},\"hatch_alpha\":{\"value\":0.1},\"hatch_color\":{\"field\":\"color\"},\"height\":{\"value\":1},\"line_alpha\":{\"value\":0.1},\"line_color\":{\"value\":\"gray\"},\"width\":{\"field\":\"width\"},\"x\":{\"field\":\"x\"},\"y\":{\"field\":\"y\"}},\"id\":\"1307\",\"type\":\"Rect\"},{\"attributes\":{\"end\":24.896872229999985},\"id\":\"1278\",\"type\":\"Range1d\"},{\"attributes\":{\"fill_alpha\":{\"value\":0.2},\"fill_color\":{\"field\":\"color\"},\"hatch_alpha\":{\"value\":0.2},\"hatch_color\":{\"field\":\"color\"},\"height\":{\"value\":1},\"line_alpha\":{\"value\":0.2},\"line_color\":{\"value\":\"gray\"},\"width\":{\"field\":\"width\"},\"x\":{\"field\":\"x\"},\"y\":{\"field\":\"y\"}},\"id\":\"1308\",\"type\":\"Rect\"},{\"attributes\":{},\"id\":\"1282\",\"type\":\"LinearScale\"},{\"attributes\":{\"axis\":{\"id\":\"1290\"},\"coordinates\":null,\"dimension\":1,\"grid_line_color\":null,\"group\":null,\"ticker\":null},\"id\":\"1292\",\"type\":\"Grid\"},{\"attributes\":{\"tools\":[{\"id\":\"1293\"},{\"id\":\"1294\"},{\"id\":\"1295\"},{\"id\":\"1296\"},{\"id\":\"1297\"}]},\"id\":\"1298\",\"type\":\"Toolbar\"},{\"attributes\":{\"coordinates\":null,\"data_source\":{\"id\":\"1304\"},\"glyph\":{\"id\":\"1306\"},\"group\":null,\"hover_glyph\":null,\"muted_glyph\":{\"id\":\"1308\"},\"nonselection_glyph\":{\"id\":\"1307\"},\"view\":{\"id\":\"1310\"}},\"id\":\"1309\",\"type\":\"GlyphRenderer\"},{\"attributes\":{},\"id\":\"1318\",\"type\":\"UnionRenderers\"},{\"attributes\":{\"factors\":[\"0\",\"1\",\"2\",\"3\",\"4\",\"5\",\"6\",\"7\"]},\"id\":\"1280\",\"type\":\"FactorRange\"},{\"attributes\":{\"dimensions\":\"width\"},\"id\":\"1297\",\"type\":\"PanTool\"},{\"attributes\":{},\"id\":\"1319\",\"type\":\"Selection\"},{\"attributes\":{},\"id\":\"1295\",\"type\":\"ResetTool\"},{\"attributes\":{\"callback\":null,\"point_policy\":\"follow_mouse\",\"tooltips\":\"\\n    <div>\\n        <span style=\\\"font-size: 14px; font-weight: bold;\\\">Key:</span>&nbsp;\\n        <span style=\\\"font-size: 10px; font-family: Monaco, monospace;\\\">@key</span>\\n    </div>\\n    <div>\\n        <span style=\\\"font-size: 14px; font-weight: bold;\\\">Task:</span>&nbsp;\\n        <span style=\\\"font-size: 10px; font-family: Monaco, monospace;\\\">@function</span>\\n    </div>\\n    \"},\"id\":\"1293\",\"type\":\"HoverTool\"},{\"attributes\":{},\"id\":\"1294\",\"type\":\"SaveTool\"},{\"attributes\":{\"source\":{\"id\":\"1304\"}},\"id\":\"1310\",\"type\":\"CDSView\"},{\"attributes\":{},\"id\":\"1291\",\"type\":\"CategoricalTicker\"}],\"root_ids\":[\"1275\"]},\"title\":\"Bokeh Application\",\"version\":\"2.4.3\"}};\n",
       "  const render_items = [{\"docid\":\"18bc37c8-2af9-43d6-99b5-cd0c3c40d28a\",\"root_ids\":[\"1275\"],\"roots\":{\"1275\":\"78aa2e4b-f729-43c5-aa71-c1c7bae08e87\"}}];\n",
       "  root.Bokeh.embed.embed_items_notebook(docs_json, render_items);\n",
       "  }\n",
       "  if (root.Bokeh !== undefined) {\n",
       "    embed_document(root);\n",
       "  } else {\n",
       "    let attempts = 0;\n",
       "    const timer = setInterval(function(root) {\n",
       "      if (root.Bokeh !== undefined) {\n",
       "        clearInterval(timer);\n",
       "        embed_document(root);\n",
       "      } else {\n",
       "        attempts++;\n",
       "        if (attempts > 100) {\n",
       "          clearInterval(timer);\n",
       "          console.log(\"Bokeh: ERROR: Unable to run BokehJS code because BokehJS library is missing\");\n",
       "        }\n",
       "      }\n",
       "    }, 10, root)\n",
       "  }\n",
       "})(window);"
      ],
      "application/vnd.bokehjs_exec.v0+json": ""
     },
     "metadata": {
      "application/vnd.bokehjs_exec.v0+json": {
       "id": "1275"
      }
     },
     "output_type": "display_data"
    }
   ],
   "source": [
    "profilers[0].visualize();"
   ]
  },
  {
   "cell_type": "markdown",
   "id": "9f7afda6-5b1d-4362-9495-4ad140716f5f",
   "metadata": {},
   "source": [
    "The result from the `ResourceProfiler` is shown below: This shows two lines, one for total CPU percentage used by all the workers, and one for total memory usage. The CPU usage is scaled so each worker contributes up to $100 \\ \\%$, i.e. two fully utilized workers use $200 \\ \\%$."
   ]
  },
  {
   "cell_type": "code",
   "execution_count": 20,
   "id": "42497cde-4e5c-4844-91e5-e8d91e1aafa9",
   "metadata": {
    "tags": [
     "skip-test"
    ]
   },
   "outputs": [
    {
     "data": {
      "text/html": [
       "\n",
       "  <div class=\"bk-root\" id=\"60dd374a-9def-45b9-822f-99fb89797eb5\" data-root-id=\"1483\"></div>\n"
      ]
     },
     "metadata": {},
     "output_type": "display_data"
    },
    {
     "data": {
      "application/javascript": [
       "(function(root) {\n",
       "  function embed_document(root) {\n",
       "  const docs_json = {\"2e5d9449-7490-4cde-86bd-d8e5a1a09f3e\":{\"defs\":[],\"roots\":{\"references\":[{\"attributes\":{\"below\":[{\"id\":\"1494\"}],\"center\":[{\"id\":\"1497\"},{\"id\":\"1501\"},{\"id\":\"1526\"}],\"extra_y_ranges\":{\"memory\":{\"id\":\"1528\"}},\"height\":300,\"left\":[{\"id\":\"1498\"}],\"renderers\":[{\"id\":\"1515\"},{\"id\":\"1533\"}],\"right\":[{\"id\":\"1547\"}],\"title\":{\"id\":\"1484\"},\"toolbar\":{\"id\":\"1506\"},\"toolbar_location\":\"above\",\"width\":800,\"x_range\":{\"id\":\"1486\"},\"x_scale\":{\"id\":\"1490\"},\"y_range\":{\"id\":\"1488\"},\"y_scale\":{\"id\":\"1492\"}},\"id\":\"1483\",\"subtype\":\"Figure\",\"type\":\"Plot\"},{\"attributes\":{\"coordinates\":null,\"group\":null,\"text\":\"Profile Results\"},\"id\":\"1484\",\"type\":\"Title\"},{\"attributes\":{\"line_color\":\"#440154\",\"line_width\":4,\"x\":{\"field\":\"x\"},\"y\":{\"field\":\"y\"}},\"id\":\"1512\",\"type\":\"Line\"},{\"attributes\":{},\"id\":\"1499\",\"type\":\"BasicTicker\"},{\"attributes\":{\"line_alpha\":0.2,\"line_color\":\"#440154\",\"line_width\":4,\"x\":{\"field\":\"x\"},\"y\":{\"field\":\"y\"}},\"id\":\"1514\",\"type\":\"Line\"},{\"attributes\":{\"dimensions\":\"width\"},\"id\":\"1504\",\"type\":\"WheelZoomTool\"},{\"attributes\":{},\"id\":\"1561\",\"type\":\"BasicTicker\"},{\"attributes\":{\"line_color\":\"#29788E\",\"line_width\":4,\"x\":{\"field\":\"x\"},\"y\":{\"field\":\"y\"}},\"id\":\"1530\",\"type\":\"Line\"},{\"attributes\":{\"data\":{\"x\":[0.0,1.010027642,2.011256217,3.012689855,4.013053073,5.017487859,6.018365694,7.019135351,8.01985105,9.022837454,10.024469296,11.029747093,12.034507905,13.037295289,14.037727970999999,15.038195606999999,16.039495232,17.043014551,18.047108000999998,19.047928828,20.049003941,21.052199363,22.054582252,23.059890686,24.063275491],\"y\":[0.0,523.8,563.8,541.5,525.3,547.2,548.0,529.5,484.6,539.5,537.6,550.8,539.2,513.7,495.1,529.4,529.1,541.0,523.2,515.8,497.5,532.1,537.3,516.7,521.6]},\"selected\":{\"id\":\"1525\"},\"selection_policy\":{\"id\":\"1524\"}},\"id\":\"1511\",\"type\":\"ColumnDataSource\"},{\"attributes\":{\"coordinates\":null,\"group\":null,\"items\":[{\"id\":\"1527\"},{\"id\":\"1546\"}]},\"id\":\"1526\",\"type\":\"Legend\"},{\"attributes\":{},\"id\":\"1502\",\"type\":\"SaveTool\"},{\"attributes\":{\"dimensions\":\"width\"},\"id\":\"1505\",\"type\":\"PanTool\"},{\"attributes\":{},\"id\":\"1524\",\"type\":\"UnionRenderers\"},{\"attributes\":{},\"id\":\"1519\",\"type\":\"BasicTickFormatter\"},{\"attributes\":{\"axis\":{\"id\":\"1498\"},\"coordinates\":null,\"dimension\":1,\"group\":null,\"ticker\":null},\"id\":\"1501\",\"type\":\"Grid\"},{\"attributes\":{},\"id\":\"1492\",\"type\":\"LinearScale\"},{\"attributes\":{},\"id\":\"1525\",\"type\":\"Selection\"},{\"attributes\":{\"coordinates\":null,\"data_source\":{\"id\":\"1529\"},\"glyph\":{\"id\":\"1530\"},\"group\":null,\"hover_glyph\":null,\"muted_glyph\":{\"id\":\"1532\"},\"nonselection_glyph\":{\"id\":\"1531\"},\"view\":{\"id\":\"1534\"},\"y_range_name\":\"memory\"},\"id\":\"1533\",\"type\":\"GlyphRenderer\"},{\"attributes\":{\"label\":{\"value\":\"% CPU\"},\"renderers\":[{\"id\":\"1515\"}]},\"id\":\"1527\",\"type\":\"LegendItem\"},{\"attributes\":{\"source\":{\"id\":\"1529\"}},\"id\":\"1534\",\"type\":\"CDSView\"},{\"attributes\":{},\"id\":\"1562\",\"type\":\"BasicTickFormatter\"},{\"attributes\":{\"line_alpha\":0.2,\"line_color\":\"#29788E\",\"line_width\":4,\"x\":{\"field\":\"x\"},\"y\":{\"field\":\"y\"}},\"id\":\"1532\",\"type\":\"Line\"},{\"attributes\":{},\"id\":\"1563\",\"type\":\"AllLabels\"},{\"attributes\":{\"line_alpha\":0.1,\"line_color\":\"#29788E\",\"line_width\":4,\"x\":{\"field\":\"x\"},\"y\":{\"field\":\"y\"}},\"id\":\"1531\",\"type\":\"Line\"},{\"attributes\":{\"end\":563.8},\"id\":\"1488\",\"type\":\"Range1d\"},{\"attributes\":{\"axis\":{\"id\":\"1494\"},\"coordinates\":null,\"group\":null,\"ticker\":null},\"id\":\"1497\",\"type\":\"Grid\"},{\"attributes\":{\"axis_label\":\"Memory (MB)\",\"coordinates\":null,\"formatter\":{\"id\":\"1562\"},\"group\":null,\"major_label_policy\":{\"id\":\"1563\"},\"ticker\":{\"id\":\"1561\"},\"y_range_name\":\"memory\"},\"id\":\"1547\",\"type\":\"LinearAxis\"},{\"attributes\":{\"label\":{\"value\":\"Memory\"},\"renderers\":[{\"id\":\"1533\"}]},\"id\":\"1546\",\"type\":\"LegendItem\"},{\"attributes\":{\"axis_label\":\"% CPU\",\"coordinates\":null,\"formatter\":{\"id\":\"1519\"},\"group\":null,\"major_label_policy\":{\"id\":\"1520\"},\"ticker\":{\"id\":\"1499\"}},\"id\":\"1498\",\"type\":\"LinearAxis\"},{\"attributes\":{},\"id\":\"1503\",\"type\":\"ResetTool\"},{\"attributes\":{\"end\":24.063275491},\"id\":\"1486\",\"type\":\"Range1d\"},{\"attributes\":{},\"id\":\"1544\",\"type\":\"UnionRenderers\"},{\"attributes\":{\"coordinates\":null,\"data_source\":{\"id\":\"1511\"},\"glyph\":{\"id\":\"1512\"},\"group\":null,\"hover_glyph\":null,\"muted_glyph\":{\"id\":\"1514\"},\"nonselection_glyph\":{\"id\":\"1513\"},\"view\":{\"id\":\"1516\"}},\"id\":\"1515\",\"type\":\"GlyphRenderer\"},{\"attributes\":{\"end\":782.761984,\"start\":548.995072},\"id\":\"1528\",\"type\":\"Range1d\"},{\"attributes\":{},\"id\":\"1545\",\"type\":\"Selection\"},{\"attributes\":{\"source\":{\"id\":\"1511\"}},\"id\":\"1516\",\"type\":\"CDSView\"},{\"attributes\":{\"axis_label\":\"Time (s)\",\"coordinates\":null,\"formatter\":{\"id\":\"1522\"},\"group\":null,\"major_label_policy\":{\"id\":\"1523\"},\"ticker\":{\"id\":\"1495\"}},\"id\":\"1494\",\"type\":\"LinearAxis\"},{\"attributes\":{},\"id\":\"1522\",\"type\":\"BasicTickFormatter\"},{\"attributes\":{\"data\":{\"x\":[0.0,1.010027642,2.011256217,3.012689855,4.013053073,5.017487859,6.018365694,7.019135351,8.01985105,9.022837454,10.024469296,11.029747093,12.034507905,13.037295289,14.037727970999999,15.038195606999999,16.039495232,17.043014551,18.047108000999998,19.047928828,20.049003941,21.052199363,22.054582252,23.059890686,24.063275491],\"y\":[580.755456,782.761984,777.826304,716.61568,731.01312,730.783744,728.63744,703.602688,548.995072,657.432576,678.72768,650.719232,627.617792,661.446656,672.313344,626.593792,666.140672,698.896384,676.958208,649.109504,678.457344,689.221632,716.791808,661.409792,638.660608]},\"selected\":{\"id\":\"1545\"},\"selection_policy\":{\"id\":\"1544\"}},\"id\":\"1529\",\"type\":\"ColumnDataSource\"},{\"attributes\":{\"tools\":[{\"id\":\"1502\"},{\"id\":\"1503\"},{\"id\":\"1504\"},{\"id\":\"1505\"}]},\"id\":\"1506\",\"type\":\"Toolbar\"},{\"attributes\":{},\"id\":\"1495\",\"type\":\"BasicTicker\"},{\"attributes\":{},\"id\":\"1523\",\"type\":\"AllLabels\"},{\"attributes\":{\"line_alpha\":0.1,\"line_color\":\"#440154\",\"line_width\":4,\"x\":{\"field\":\"x\"},\"y\":{\"field\":\"y\"}},\"id\":\"1513\",\"type\":\"Line\"},{\"attributes\":{},\"id\":\"1520\",\"type\":\"AllLabels\"},{\"attributes\":{},\"id\":\"1490\",\"type\":\"LinearScale\"}],\"root_ids\":[\"1483\"]},\"title\":\"Bokeh Application\",\"version\":\"2.4.3\"}};\n",
       "  const render_items = [{\"docid\":\"2e5d9449-7490-4cde-86bd-d8e5a1a09f3e\",\"root_ids\":[\"1483\"],\"roots\":{\"1483\":\"60dd374a-9def-45b9-822f-99fb89797eb5\"}}];\n",
       "  root.Bokeh.embed.embed_items_notebook(docs_json, render_items);\n",
       "  }\n",
       "  if (root.Bokeh !== undefined) {\n",
       "    embed_document(root);\n",
       "  } else {\n",
       "    let attempts = 0;\n",
       "    const timer = setInterval(function(root) {\n",
       "      if (root.Bokeh !== undefined) {\n",
       "        clearInterval(timer);\n",
       "        embed_document(root);\n",
       "      } else {\n",
       "        attempts++;\n",
       "        if (attempts > 100) {\n",
       "          clearInterval(timer);\n",
       "          console.log(\"Bokeh: ERROR: Unable to run BokehJS code because BokehJS library is missing\");\n",
       "        }\n",
       "      }\n",
       "    }, 10, root)\n",
       "  }\n",
       "})(window);"
      ],
      "application/vnd.bokehjs_exec.v0+json": ""
     },
     "metadata": {
      "application/vnd.bokehjs_exec.v0+json": {
       "id": "1483"
      }
     },
     "output_type": "display_data"
    }
   ],
   "source": [
    "profilers[1].visualize();"
   ]
  },
  {
   "cell_type": "markdown",
   "id": "95a9fa0a-f044-40cd-8964-9e4a1911fa87",
   "metadata": {},
   "source": [
    "We ran the calculation on a single computer with an 4 core CPU with 2 threads per core for 8 threads total. We see that our peak CPU usage was $\\sim 600 \\%$, this is a fairly typical usage statistic for a single machine, overhead and background processes limited us from reaching the $800 \\ \\%$ corresponding to using every worker maximally.\n",
    "\n",
    "We also see that the total memory use reached around 800 MB. If you are running the calculation on a system with more threads your memory consumption may be larger, it may even exceed the total memory cost of all tjhe wave functions, this is because every parallel run of the multislice algorithm requires a significant overhead for intermediate results (such as potential slices and fresnel propagators). If your calculation runs out of memory you can lower the number of workers, thus trading away computational speed for lower memory consumption.\n",
    "\n",
    "We note that the overhead in both CPU usage and memory diminishes for larger simulation with more powerful hardware."
   ]
  },
  {
   "cell_type": "markdown",
   "id": "88a96448-5a2a-4c60-9ce7-7a2f43845d3c",
   "metadata": {},
   "source": [
    "### The distributed scheduler (locally)\n",
    "The Dask distributed scheduler is necessary for running your simulation a cluster, however, it also runs [locally on a personal machine](https://docs.dask.org/en/stable/scheduling.html#dask-distributed-local). You can find details in the Dask documentation . We demonstrate the basics below.\n",
    "\n",
    "You can use the Dask distributed scheduler by just initializing a Dask `Client`. The `Client` takes keyword arguments such as `num_workers`."
   ]
  },
  {
   "cell_type": "code",
   "execution_count": 19,
   "id": "2b7c37a3-909c-482e-99fb-72e4eb222a5a",
   "metadata": {},
   "outputs": [
    {
     "name": "stderr",
     "output_type": "stream",
     "text": [
      "/opt/anaconda3/envs/test_threads/lib/python3.9/site-packages/distributed/node.py:183: UserWarning: Port 8787 is already in use.\n",
      "Perhaps you already have a cluster running?\n",
      "Hosting the HTTP server on port 59758 instead\n",
      "  warnings.warn(\n"
     ]
    },
    {
     "data": {
      "text/html": [
       "<div>\n",
       "    <div style=\"width: 24px; height: 24px; background-color: #e1e1e1; border: 3px solid #9D9D9D; border-radius: 5px; position: absolute;\"> </div>\n",
       "    <div style=\"margin-left: 48px;\">\n",
       "        <h3 style=\"margin-bottom: 0px;\">Client</h3>\n",
       "        <p style=\"color: #9D9D9D; margin-bottom: 0px;\">Client-5578e514-488d-11ed-a822-f218984d7c80</p>\n",
       "        <table style=\"width: 100%; text-align: left;\">\n",
       "\n",
       "        <tr>\n",
       "        \n",
       "            <td style=\"text-align: left;\"><strong>Connection method:</strong> Cluster object</td>\n",
       "            <td style=\"text-align: left;\"><strong>Cluster type:</strong> distributed.LocalCluster</td>\n",
       "        \n",
       "        </tr>\n",
       "\n",
       "        \n",
       "            <tr>\n",
       "                <td style=\"text-align: left;\">\n",
       "                    <strong>Dashboard: </strong> <a href=\"http://127.0.0.1:59758/status\" target=\"_blank\">http://127.0.0.1:59758/status</a>\n",
       "                </td>\n",
       "                <td style=\"text-align: left;\"></td>\n",
       "            </tr>\n",
       "        \n",
       "\n",
       "        </table>\n",
       "\n",
       "        \n",
       "            <details>\n",
       "            <summary style=\"margin-bottom: 20px;\"><h3 style=\"display: inline;\">Cluster Info</h3></summary>\n",
       "            <div class=\"jp-RenderedHTMLCommon jp-RenderedHTML jp-mod-trusted jp-OutputArea-output\">\n",
       "    <div style=\"width: 24px; height: 24px; background-color: #e1e1e1; border: 3px solid #9D9D9D; border-radius: 5px; position: absolute;\">\n",
       "    </div>\n",
       "    <div style=\"margin-left: 48px;\">\n",
       "        <h3 style=\"margin-bottom: 0px; margin-top: 0px;\">LocalCluster</h3>\n",
       "        <p style=\"color: #9D9D9D; margin-bottom: 0px;\">d22cf831</p>\n",
       "        <table style=\"width: 100%; text-align: left;\">\n",
       "            <tr>\n",
       "                <td style=\"text-align: left;\">\n",
       "                    <strong>Dashboard:</strong> <a href=\"http://127.0.0.1:59758/status\" target=\"_blank\">http://127.0.0.1:59758/status</a>\n",
       "                </td>\n",
       "                <td style=\"text-align: left;\">\n",
       "                    <strong>Workers:</strong> 8\n",
       "                </td>\n",
       "            </tr>\n",
       "            <tr>\n",
       "                <td style=\"text-align: left;\">\n",
       "                    <strong>Total threads:</strong> 8\n",
       "                </td>\n",
       "                <td style=\"text-align: left;\">\n",
       "                    <strong>Total memory:</strong> 16.00 GiB\n",
       "                </td>\n",
       "            </tr>\n",
       "            \n",
       "            <tr>\n",
       "    <td style=\"text-align: left;\"><strong>Status:</strong> running</td>\n",
       "    <td style=\"text-align: left;\"><strong>Using processes:</strong> True</td>\n",
       "</tr>\n",
       "\n",
       "            \n",
       "        </table>\n",
       "\n",
       "        <details>\n",
       "            <summary style=\"margin-bottom: 20px;\">\n",
       "                <h3 style=\"display: inline;\">Scheduler Info</h3>\n",
       "            </summary>\n",
       "\n",
       "            <div style=\"\">\n",
       "    <div>\n",
       "        <div style=\"width: 24px; height: 24px; background-color: #FFF7E5; border: 3px solid #FF6132; border-radius: 5px; position: absolute;\"> </div>\n",
       "        <div style=\"margin-left: 48px;\">\n",
       "            <h3 style=\"margin-bottom: 0px;\">Scheduler</h3>\n",
       "            <p style=\"color: #9D9D9D; margin-bottom: 0px;\">Scheduler-2d5c3805-15a9-4515-bd7f-9660e50bb284</p>\n",
       "            <table style=\"width: 100%; text-align: left;\">\n",
       "                <tr>\n",
       "                    <td style=\"text-align: left;\">\n",
       "                        <strong>Comm:</strong> tcp://127.0.0.1:59759\n",
       "                    </td>\n",
       "                    <td style=\"text-align: left;\">\n",
       "                        <strong>Workers:</strong> 8\n",
       "                    </td>\n",
       "                </tr>\n",
       "                <tr>\n",
       "                    <td style=\"text-align: left;\">\n",
       "                        <strong>Dashboard:</strong> <a href=\"http://127.0.0.1:59758/status\" target=\"_blank\">http://127.0.0.1:59758/status</a>\n",
       "                    </td>\n",
       "                    <td style=\"text-align: left;\">\n",
       "                        <strong>Total threads:</strong> 8\n",
       "                    </td>\n",
       "                </tr>\n",
       "                <tr>\n",
       "                    <td style=\"text-align: left;\">\n",
       "                        <strong>Started:</strong> Just now\n",
       "                    </td>\n",
       "                    <td style=\"text-align: left;\">\n",
       "                        <strong>Total memory:</strong> 16.00 GiB\n",
       "                    </td>\n",
       "                </tr>\n",
       "            </table>\n",
       "        </div>\n",
       "    </div>\n",
       "\n",
       "    <details style=\"margin-left: 48px;\">\n",
       "        <summary style=\"margin-bottom: 20px;\">\n",
       "            <h3 style=\"display: inline;\">Workers</h3>\n",
       "        </summary>\n",
       "\n",
       "        \n",
       "        <div style=\"margin-bottom: 20px;\">\n",
       "            <div style=\"width: 24px; height: 24px; background-color: #DBF5FF; border: 3px solid #4CC9FF; border-radius: 5px; position: absolute;\"> </div>\n",
       "            <div style=\"margin-left: 48px;\">\n",
       "            <details>\n",
       "                <summary>\n",
       "                    <h4 style=\"margin-bottom: 0px; display: inline;\">Worker: 0</h4>\n",
       "                </summary>\n",
       "                <table style=\"width: 100%; text-align: left;\">\n",
       "                    <tr>\n",
       "                        <td style=\"text-align: left;\">\n",
       "                            <strong>Comm: </strong> tcp://127.0.0.1:59804\n",
       "                        </td>\n",
       "                        <td style=\"text-align: left;\">\n",
       "                            <strong>Total threads: </strong> 1\n",
       "                        </td>\n",
       "                    </tr>\n",
       "                    <tr>\n",
       "                        <td style=\"text-align: left;\">\n",
       "                            <strong>Dashboard: </strong> <a href=\"http://127.0.0.1:59805/status\" target=\"_blank\">http://127.0.0.1:59805/status</a>\n",
       "                        </td>\n",
       "                        <td style=\"text-align: left;\">\n",
       "                            <strong>Memory: </strong> 2.00 GiB\n",
       "                        </td>\n",
       "                    </tr>\n",
       "                    <tr>\n",
       "                        <td style=\"text-align: left;\">\n",
       "                            <strong>Nanny: </strong> tcp://127.0.0.1:59768\n",
       "                        </td>\n",
       "                        <td style=\"text-align: left;\"></td>\n",
       "                    </tr>\n",
       "                    <tr>\n",
       "                        <td colspan=\"2\" style=\"text-align: left;\">\n",
       "                            <strong>Local directory: </strong> /var/folders/_p/k7hrlnh132n933827sxdjkrm0000gn/T/dask-worker-space/worker-77vm_qti\n",
       "                        </td>\n",
       "                    </tr>\n",
       "\n",
       "                    \n",
       "\n",
       "                    \n",
       "\n",
       "                </table>\n",
       "            </details>\n",
       "            </div>\n",
       "        </div>\n",
       "        \n",
       "        <div style=\"margin-bottom: 20px;\">\n",
       "            <div style=\"width: 24px; height: 24px; background-color: #DBF5FF; border: 3px solid #4CC9FF; border-radius: 5px; position: absolute;\"> </div>\n",
       "            <div style=\"margin-left: 48px;\">\n",
       "            <details>\n",
       "                <summary>\n",
       "                    <h4 style=\"margin-bottom: 0px; display: inline;\">Worker: 1</h4>\n",
       "                </summary>\n",
       "                <table style=\"width: 100%; text-align: left;\">\n",
       "                    <tr>\n",
       "                        <td style=\"text-align: left;\">\n",
       "                            <strong>Comm: </strong> tcp://127.0.0.1:59807\n",
       "                        </td>\n",
       "                        <td style=\"text-align: left;\">\n",
       "                            <strong>Total threads: </strong> 1\n",
       "                        </td>\n",
       "                    </tr>\n",
       "                    <tr>\n",
       "                        <td style=\"text-align: left;\">\n",
       "                            <strong>Dashboard: </strong> <a href=\"http://127.0.0.1:59808/status\" target=\"_blank\">http://127.0.0.1:59808/status</a>\n",
       "                        </td>\n",
       "                        <td style=\"text-align: left;\">\n",
       "                            <strong>Memory: </strong> 2.00 GiB\n",
       "                        </td>\n",
       "                    </tr>\n",
       "                    <tr>\n",
       "                        <td style=\"text-align: left;\">\n",
       "                            <strong>Nanny: </strong> tcp://127.0.0.1:59769\n",
       "                        </td>\n",
       "                        <td style=\"text-align: left;\"></td>\n",
       "                    </tr>\n",
       "                    <tr>\n",
       "                        <td colspan=\"2\" style=\"text-align: left;\">\n",
       "                            <strong>Local directory: </strong> /var/folders/_p/k7hrlnh132n933827sxdjkrm0000gn/T/dask-worker-space/worker-2dtrt0y1\n",
       "                        </td>\n",
       "                    </tr>\n",
       "\n",
       "                    \n",
       "\n",
       "                    \n",
       "\n",
       "                </table>\n",
       "            </details>\n",
       "            </div>\n",
       "        </div>\n",
       "        \n",
       "        <div style=\"margin-bottom: 20px;\">\n",
       "            <div style=\"width: 24px; height: 24px; background-color: #DBF5FF; border: 3px solid #4CC9FF; border-radius: 5px; position: absolute;\"> </div>\n",
       "            <div style=\"margin-left: 48px;\">\n",
       "            <details>\n",
       "                <summary>\n",
       "                    <h4 style=\"margin-bottom: 0px; display: inline;\">Worker: 2</h4>\n",
       "                </summary>\n",
       "                <table style=\"width: 100%; text-align: left;\">\n",
       "                    <tr>\n",
       "                        <td style=\"text-align: left;\">\n",
       "                            <strong>Comm: </strong> tcp://127.0.0.1:59798\n",
       "                        </td>\n",
       "                        <td style=\"text-align: left;\">\n",
       "                            <strong>Total threads: </strong> 1\n",
       "                        </td>\n",
       "                    </tr>\n",
       "                    <tr>\n",
       "                        <td style=\"text-align: left;\">\n",
       "                            <strong>Dashboard: </strong> <a href=\"http://127.0.0.1:59799/status\" target=\"_blank\">http://127.0.0.1:59799/status</a>\n",
       "                        </td>\n",
       "                        <td style=\"text-align: left;\">\n",
       "                            <strong>Memory: </strong> 2.00 GiB\n",
       "                        </td>\n",
       "                    </tr>\n",
       "                    <tr>\n",
       "                        <td style=\"text-align: left;\">\n",
       "                            <strong>Nanny: </strong> tcp://127.0.0.1:59766\n",
       "                        </td>\n",
       "                        <td style=\"text-align: left;\"></td>\n",
       "                    </tr>\n",
       "                    <tr>\n",
       "                        <td colspan=\"2\" style=\"text-align: left;\">\n",
       "                            <strong>Local directory: </strong> /var/folders/_p/k7hrlnh132n933827sxdjkrm0000gn/T/dask-worker-space/worker-j8amgyf7\n",
       "                        </td>\n",
       "                    </tr>\n",
       "\n",
       "                    \n",
       "\n",
       "                    \n",
       "\n",
       "                </table>\n",
       "            </details>\n",
       "            </div>\n",
       "        </div>\n",
       "        \n",
       "        <div style=\"margin-bottom: 20px;\">\n",
       "            <div style=\"width: 24px; height: 24px; background-color: #DBF5FF; border: 3px solid #4CC9FF; border-radius: 5px; position: absolute;\"> </div>\n",
       "            <div style=\"margin-left: 48px;\">\n",
       "            <details>\n",
       "                <summary>\n",
       "                    <h4 style=\"margin-bottom: 0px; display: inline;\">Worker: 3</h4>\n",
       "                </summary>\n",
       "                <table style=\"width: 100%; text-align: left;\">\n",
       "                    <tr>\n",
       "                        <td style=\"text-align: left;\">\n",
       "                            <strong>Comm: </strong> tcp://127.0.0.1:59786\n",
       "                        </td>\n",
       "                        <td style=\"text-align: left;\">\n",
       "                            <strong>Total threads: </strong> 1\n",
       "                        </td>\n",
       "                    </tr>\n",
       "                    <tr>\n",
       "                        <td style=\"text-align: left;\">\n",
       "                            <strong>Dashboard: </strong> <a href=\"http://127.0.0.1:59787/status\" target=\"_blank\">http://127.0.0.1:59787/status</a>\n",
       "                        </td>\n",
       "                        <td style=\"text-align: left;\">\n",
       "                            <strong>Memory: </strong> 2.00 GiB\n",
       "                        </td>\n",
       "                    </tr>\n",
       "                    <tr>\n",
       "                        <td style=\"text-align: left;\">\n",
       "                            <strong>Nanny: </strong> tcp://127.0.0.1:59762\n",
       "                        </td>\n",
       "                        <td style=\"text-align: left;\"></td>\n",
       "                    </tr>\n",
       "                    <tr>\n",
       "                        <td colspan=\"2\" style=\"text-align: left;\">\n",
       "                            <strong>Local directory: </strong> /var/folders/_p/k7hrlnh132n933827sxdjkrm0000gn/T/dask-worker-space/worker-o5hngxs3\n",
       "                        </td>\n",
       "                    </tr>\n",
       "\n",
       "                    \n",
       "\n",
       "                    \n",
       "\n",
       "                </table>\n",
       "            </details>\n",
       "            </div>\n",
       "        </div>\n",
       "        \n",
       "        <div style=\"margin-bottom: 20px;\">\n",
       "            <div style=\"width: 24px; height: 24px; background-color: #DBF5FF; border: 3px solid #4CC9FF; border-radius: 5px; position: absolute;\"> </div>\n",
       "            <div style=\"margin-left: 48px;\">\n",
       "            <details>\n",
       "                <summary>\n",
       "                    <h4 style=\"margin-bottom: 0px; display: inline;\">Worker: 4</h4>\n",
       "                </summary>\n",
       "                <table style=\"width: 100%; text-align: left;\">\n",
       "                    <tr>\n",
       "                        <td style=\"text-align: left;\">\n",
       "                            <strong>Comm: </strong> tcp://127.0.0.1:59792\n",
       "                        </td>\n",
       "                        <td style=\"text-align: left;\">\n",
       "                            <strong>Total threads: </strong> 1\n",
       "                        </td>\n",
       "                    </tr>\n",
       "                    <tr>\n",
       "                        <td style=\"text-align: left;\">\n",
       "                            <strong>Dashboard: </strong> <a href=\"http://127.0.0.1:59793/status\" target=\"_blank\">http://127.0.0.1:59793/status</a>\n",
       "                        </td>\n",
       "                        <td style=\"text-align: left;\">\n",
       "                            <strong>Memory: </strong> 2.00 GiB\n",
       "                        </td>\n",
       "                    </tr>\n",
       "                    <tr>\n",
       "                        <td style=\"text-align: left;\">\n",
       "                            <strong>Nanny: </strong> tcp://127.0.0.1:59764\n",
       "                        </td>\n",
       "                        <td style=\"text-align: left;\"></td>\n",
       "                    </tr>\n",
       "                    <tr>\n",
       "                        <td colspan=\"2\" style=\"text-align: left;\">\n",
       "                            <strong>Local directory: </strong> /var/folders/_p/k7hrlnh132n933827sxdjkrm0000gn/T/dask-worker-space/worker-9ds8xvby\n",
       "                        </td>\n",
       "                    </tr>\n",
       "\n",
       "                    \n",
       "\n",
       "                    \n",
       "\n",
       "                </table>\n",
       "            </details>\n",
       "            </div>\n",
       "        </div>\n",
       "        \n",
       "        <div style=\"margin-bottom: 20px;\">\n",
       "            <div style=\"width: 24px; height: 24px; background-color: #DBF5FF; border: 3px solid #4CC9FF; border-radius: 5px; position: absolute;\"> </div>\n",
       "            <div style=\"margin-left: 48px;\">\n",
       "            <details>\n",
       "                <summary>\n",
       "                    <h4 style=\"margin-bottom: 0px; display: inline;\">Worker: 5</h4>\n",
       "                </summary>\n",
       "                <table style=\"width: 100%; text-align: left;\">\n",
       "                    <tr>\n",
       "                        <td style=\"text-align: left;\">\n",
       "                            <strong>Comm: </strong> tcp://127.0.0.1:59801\n",
       "                        </td>\n",
       "                        <td style=\"text-align: left;\">\n",
       "                            <strong>Total threads: </strong> 1\n",
       "                        </td>\n",
       "                    </tr>\n",
       "                    <tr>\n",
       "                        <td style=\"text-align: left;\">\n",
       "                            <strong>Dashboard: </strong> <a href=\"http://127.0.0.1:59802/status\" target=\"_blank\">http://127.0.0.1:59802/status</a>\n",
       "                        </td>\n",
       "                        <td style=\"text-align: left;\">\n",
       "                            <strong>Memory: </strong> 2.00 GiB\n",
       "                        </td>\n",
       "                    </tr>\n",
       "                    <tr>\n",
       "                        <td style=\"text-align: left;\">\n",
       "                            <strong>Nanny: </strong> tcp://127.0.0.1:59767\n",
       "                        </td>\n",
       "                        <td style=\"text-align: left;\"></td>\n",
       "                    </tr>\n",
       "                    <tr>\n",
       "                        <td colspan=\"2\" style=\"text-align: left;\">\n",
       "                            <strong>Local directory: </strong> /var/folders/_p/k7hrlnh132n933827sxdjkrm0000gn/T/dask-worker-space/worker-grokjgho\n",
       "                        </td>\n",
       "                    </tr>\n",
       "\n",
       "                    \n",
       "\n",
       "                    \n",
       "\n",
       "                </table>\n",
       "            </details>\n",
       "            </div>\n",
       "        </div>\n",
       "        \n",
       "        <div style=\"margin-bottom: 20px;\">\n",
       "            <div style=\"width: 24px; height: 24px; background-color: #DBF5FF; border: 3px solid #4CC9FF; border-radius: 5px; position: absolute;\"> </div>\n",
       "            <div style=\"margin-left: 48px;\">\n",
       "            <details>\n",
       "                <summary>\n",
       "                    <h4 style=\"margin-bottom: 0px; display: inline;\">Worker: 6</h4>\n",
       "                </summary>\n",
       "                <table style=\"width: 100%; text-align: left;\">\n",
       "                    <tr>\n",
       "                        <td style=\"text-align: left;\">\n",
       "                            <strong>Comm: </strong> tcp://127.0.0.1:59795\n",
       "                        </td>\n",
       "                        <td style=\"text-align: left;\">\n",
       "                            <strong>Total threads: </strong> 1\n",
       "                        </td>\n",
       "                    </tr>\n",
       "                    <tr>\n",
       "                        <td style=\"text-align: left;\">\n",
       "                            <strong>Dashboard: </strong> <a href=\"http://127.0.0.1:59796/status\" target=\"_blank\">http://127.0.0.1:59796/status</a>\n",
       "                        </td>\n",
       "                        <td style=\"text-align: left;\">\n",
       "                            <strong>Memory: </strong> 2.00 GiB\n",
       "                        </td>\n",
       "                    </tr>\n",
       "                    <tr>\n",
       "                        <td style=\"text-align: left;\">\n",
       "                            <strong>Nanny: </strong> tcp://127.0.0.1:59765\n",
       "                        </td>\n",
       "                        <td style=\"text-align: left;\"></td>\n",
       "                    </tr>\n",
       "                    <tr>\n",
       "                        <td colspan=\"2\" style=\"text-align: left;\">\n",
       "                            <strong>Local directory: </strong> /var/folders/_p/k7hrlnh132n933827sxdjkrm0000gn/T/dask-worker-space/worker-opeeut63\n",
       "                        </td>\n",
       "                    </tr>\n",
       "\n",
       "                    \n",
       "\n",
       "                    \n",
       "\n",
       "                </table>\n",
       "            </details>\n",
       "            </div>\n",
       "        </div>\n",
       "        \n",
       "        <div style=\"margin-bottom: 20px;\">\n",
       "            <div style=\"width: 24px; height: 24px; background-color: #DBF5FF; border: 3px solid #4CC9FF; border-radius: 5px; position: absolute;\"> </div>\n",
       "            <div style=\"margin-left: 48px;\">\n",
       "            <details>\n",
       "                <summary>\n",
       "                    <h4 style=\"margin-bottom: 0px; display: inline;\">Worker: 7</h4>\n",
       "                </summary>\n",
       "                <table style=\"width: 100%; text-align: left;\">\n",
       "                    <tr>\n",
       "                        <td style=\"text-align: left;\">\n",
       "                            <strong>Comm: </strong> tcp://127.0.0.1:59788\n",
       "                        </td>\n",
       "                        <td style=\"text-align: left;\">\n",
       "                            <strong>Total threads: </strong> 1\n",
       "                        </td>\n",
       "                    </tr>\n",
       "                    <tr>\n",
       "                        <td style=\"text-align: left;\">\n",
       "                            <strong>Dashboard: </strong> <a href=\"http://127.0.0.1:59790/status\" target=\"_blank\">http://127.0.0.1:59790/status</a>\n",
       "                        </td>\n",
       "                        <td style=\"text-align: left;\">\n",
       "                            <strong>Memory: </strong> 2.00 GiB\n",
       "                        </td>\n",
       "                    </tr>\n",
       "                    <tr>\n",
       "                        <td style=\"text-align: left;\">\n",
       "                            <strong>Nanny: </strong> tcp://127.0.0.1:59763\n",
       "                        </td>\n",
       "                        <td style=\"text-align: left;\"></td>\n",
       "                    </tr>\n",
       "                    <tr>\n",
       "                        <td colspan=\"2\" style=\"text-align: left;\">\n",
       "                            <strong>Local directory: </strong> /var/folders/_p/k7hrlnh132n933827sxdjkrm0000gn/T/dask-worker-space/worker-e3ywocf3\n",
       "                        </td>\n",
       "                    </tr>\n",
       "\n",
       "                    \n",
       "\n",
       "                    \n",
       "\n",
       "                </table>\n",
       "            </details>\n",
       "            </div>\n",
       "        </div>\n",
       "        \n",
       "\n",
       "    </details>\n",
       "</div>\n",
       "\n",
       "        </details>\n",
       "    </div>\n",
       "</div>\n",
       "            </details>\n",
       "        \n",
       "\n",
       "    </div>\n",
       "</div>"
      ],
      "text/plain": [
       "<Client: 'tcp://127.0.0.1:59759' processes=8 threads=8, memory=16.00 GiB>"
      ]
     },
     "execution_count": 19,
     "metadata": {},
     "output_type": "execute_result"
    }
   ],
   "source": [
    "from dask.distributed import Client\n",
    "\n",
    "client = Client(n_workers=8)\n",
    "client"
   ]
  },
  {
   "cell_type": "markdown",
   "id": "cd8cacd8-4c48-4eea-930c-33f3fe834410",
   "metadata": {},
   "source": [
    "After intializing the client object any abTEM computation will use the Dask distributed scheduler."
   ]
  },
  {
   "cell_type": "code",
   "execution_count": 20,
   "id": "2b0d7e8f-24dd-4ada-9650-874e750a3652",
   "metadata": {},
   "outputs": [
    {
     "data": {
      "text/plain": [
       "<abtem.measurements.Images object at 0x7f9b9022bca0>"
      ]
     },
     "execution_count": 20,
     "metadata": {},
     "output_type": "execute_result"
    }
   ],
   "source": [
    "haadf_images = detector.detect(exit_waves_stem).reduce_ensemble()\n",
    "haadf_images.compute()"
   ]
  },
  {
   "cell_type": "markdown",
   "id": "31a20506-7155-45f0-b641-3931bbb20029",
   "metadata": {},
   "source": [
    "A benefit of using the distributed scheduler with abTEM on a single machine is the live diagnostic dashboard. You can access this through the link shown in the HTML `__repr__` for the `Client` above, for details you can watch [this](https://www.youtube.com/watch?v=N_GqzcuGLCY) video walkthrough. If you are using Jupyter Lab the [Dask labextension](https://github.com/dask/dask-labextension) provides the same information as a panel inside the Jupyter Lab editor.\n",
    "\n",
    "We can get back to the local scheduler by closing the `Client`."
   ]
  },
  {
   "cell_type": "code",
   "execution_count": 21,
   "id": "e38de7a7-2b82-442e-8258-d9e2717a7b2b",
   "metadata": {},
   "outputs": [],
   "source": [
    "client.close()"
   ]
  },
  {
   "cell_type": "markdown",
   "id": "dffe61f7-43d8-47e6-a00a-3e73e33320ad",
   "metadata": {},
   "source": [
    "### Running abTEM on HPC clusters\n",
    "\n",
    "Dask (and thus abTEM) has robust tools for deployment on high-performance compute clusters. We recommend consulting your HPC provider on how to deploy Dask applications on your available cluster. For general advice on deployment see the dask documentation.\n",
    "\n",
    "As an overview, Dask provides a number of different cluster managers, so you can use Dask distributed with a range of platforms. These cluster managers deploy a scheduler and the necessary workers as determined by communicating with the resource manager. All cluster managers follow the same interface but have platform specific configuration options.\n",
    "\n",
    "For example for deployment using SLURM, your script might look something like:\n",
    "\n",
    "\n",
    "```python\n",
    "from dask_jobqueue import SLURMCluster\n",
    "from dask.distributed import Client\n",
    "\n",
    "cluster = SLURMCluster(\n",
    "    queue=\"regular\",\n",
    "    account=\"myaccount\",\n",
    "    cores=32,\n",
    "    memory=\"128 GB\"\n",
    ")\n",
    "\n",
    "client = Client(cluster)\n",
    "\n",
    "# Your abTEM code goes here\n",
    "\n",
    "```\n",
    "\n",
    "Dask also supports deployment from within an existing MPI environment, such as one created with the common MPI command-line launcher `mpirun`, see [here](http://mpi.dask.org/en/latest/) for more information. You can turn your batch Python script into an MPI executable with the `dask_mpi.initialize` function. \n",
    "\n",
    "```python\n",
    "from dask_mpi import initialize\n",
    "initialize()\n",
    "\n",
    "from dask.distributed import Client\n",
    "client = Client()  # Connect this local process to remote workers\n",
    "\n",
    "# Your abTEM code goes here\n",
    "```\n",
    "\n",
    "This makes your Python script launchable directly with `mpirun`.\n",
    "```\n",
    "mpirun -np 4 python my_client_script.py\n",
    "```"
   ]
  },
  {
   "cell_type": "markdown",
   "id": "e39cb8d2-a898-478d-9831-275ac5f2f06b",
   "metadata": {
    "pycharm": {
     "name": "#%% md\n"
    }
   },
   "source": [
    "## Using GPUs\n",
    "\n",
    "Almost every part of abTEM can be accelerated using a GPU through the [CuPy](https://cupy.dev/) library. We have only tested abTEM on CUDA compatiable GPUs, however, any GPU compatible with CuPy should work.\n",
    "\n",
    "If you have a compatible GPU and a working installation of CuPy, you can accelerate your image simulations by simply changing the configs at the top of your document as below:"
   ]
  },
  {
   "cell_type": "code",
   "execution_count": 22,
   "id": "4bbe27f1-65b2-48cf-8a96-c0da5c91b094",
   "metadata": {
    "pycharm": {
     "name": "#%%\n"
    }
   },
   "outputs": [],
   "source": [
    "abtem.config.set({\"device\": \"gpu\"});"
   ]
  },
  {
   "cell_type": "markdown",
   "id": "5273b88e-301c-4f67-b39d-1b994eef9746",
   "metadata": {},
   "source": [
    "It is noted (and maybe obvious) that dask does not manage GPU threads. This makes the choice of batch sizes (i.e. propagating multiple wave functions in a single batch) extremely important in order to fully utilize your GPU. The default batch size in GPU calculations in abTEM is 512 MB, this is 4 times larger than the CPU batch size, however, if your GPU has 8GB or more memory, you will likely be able to squeeze out more performance by increasing this number to at least 2048 MB. Note that the batch size only determines the maximum number of plane waves in a batch, hence you need to leave room in the memory for intermediate overhead.     "
   ]
  },
  {
   "cell_type": "markdown",
   "id": "94cdb086-c8a9-4736-a345-311d47379f34",
   "metadata": {},
   "source": [
    "While the above is enough for running abTEM on a single GPU; if you are using an NVidia GPU, we recommend installing `dask_cuda`. This is necessesary for multi GPU calculations."
   ]
  },
  {
   "cell_type": "markdown",
   "id": "049444f3-3025-4ef9-9fb6-544c2b178378",
   "metadata": {},
   "source": []
  },
  {
   "cell_type": "code",
   "execution_count": null,
   "id": "16d7db36-79ea-469b-84b3-c748cc1fdbb7",
   "metadata": {},
   "outputs": [],
   "source": [
    "from dask_cuda import LocalCUDACluster\n",
    "from dask.distributed import Client\n",
    "\n",
    "cluster = LocalCUDACluster()\n",
    "client = Client(cluster)"
   ]
  },
  {
   "cell_type": "markdown",
   "id": "2301a332-79ab-4fe7-b956-1d0540e7e677",
   "metadata": {},
   "source": [
    "We note that abTEM by default sets the FFT planning cache size of `cupy` to zero, we find that in most cases the memory consumption of the plans are not worth the small speedup they provide. You can change this through the abTEM config. "
   ]
  },
  {
   "cell_type": "markdown",
   "id": "6f7fef51-64de-41bc-987f-b178f50e2c2f",
   "metadata": {},
   "source": [
    "## Performance tips\n",
    "\n",
    "If the performance is unexpectedly low "
   ]
  },
  {
   "cell_type": "markdown",
   "id": "32b5d8f7-44f9-499d-964c-3efee2f17007",
   "metadata": {},
   "source": [
    "### Running out of memory?"
   ]
  },
  {
   "cell_type": "markdown",
   "id": "c6e74de5-5899-455f-9984-956d9e267c12",
   "metadata": {},
   "source": [
    "### Optimize your simulation"
   ]
  },
  {
   "cell_type": "markdown",
   "id": "fb7294da-7dfc-412c-96e3-0c33355f32c8",
   "metadata": {},
   "source": [
    "### Use PRISM"
   ]
  },
  {
   "cell_type": "markdown",
   "id": "84bb4dde-1db4-4c59-818a-59c9e784a99b",
   "metadata": {},
   "source": [
    "### Change the FFT backend\n",
    "\n",
    "The Fast Fourier Transform (FFT) is the most important algorithm determining the speed, hence, ensuring that this is \n",
    "\n",
    "abTEM supports two different FFT libraries: the open-source [FFTW]() and Intel's MKL FFT  \n",
    "\n",
    "We have found that MKL is faster, hence this is the default in abTEM, however, it may be worth trying FFTW \n",
    "\n",
    "You can change "
   ]
  },
  {
   "cell_type": "markdown",
   "id": "c84fb57d-7760-4d02-85db-b4633a6fdaa1",
   "metadata": {},
   "source": [
    "### Change the batch size"
   ]
  },
  {
   "cell_type": "markdown",
   "id": "5de9fa83-05a6-4cf8-a0ab-a21b48d0c0c2",
   "metadata": {},
   "source": [
    "### Use power of 2 `gpts`\n",
    "\n"
   ]
  }
 ],
 "metadata": {
  "kernelspec": {
   "display_name": "test_threads",
   "language": "python",
   "name": "test_threads"
  },
  "language_info": {
   "codemirror_mode": {
    "name": "ipython",
    "version": 3
   },
   "file_extension": ".py",
   "mimetype": "text/x-python",
   "name": "python",
   "nbconvert_exporter": "python",
   "pygments_lexer": "ipython3",
   "version": "3.9.13"
  },
  "widgets": {
   "application/vnd.jupyter.widget-state+json": {
    "state": {},
    "version_major": 2,
    "version_minor": 0
   }
  }
 },
 "nbformat": 4,
 "nbformat_minor": 5
}
