{
 "cells": [
  {
   "cell_type": "code",
   "execution_count": 1,
   "id": "c8a68d55-5e9b-4bab-b324-05b89a56cecd",
   "metadata": {
    "pycharm": {
     "name": "#%%\n"
    },
    "tags": [
     "hide-input"
    ]
   },
   "outputs": [],
   "source": [
    "import abtem\n",
    "import ase\n",
    "import dask\n",
    "from IPython.display import Image, display\n",
    "\n",
    "dask.config.set({\"array.svg.size\": 90});"
   ]
  },
  {
   "cell_type": "markdown",
   "id": "2b2c74ed-dfb6-4426-898a-63110b6fb253",
   "metadata": {
    "pycharm": {
     "name": "#%% md\n"
    }
   },
   "source": [
    "# Parallelization and Dask\n",
    "\n",
    "The computational cost of running multislice simulations can grow large depending on the number of probe positions, phonons and many other factors. This cost can be mitigated by using parallelism. Much of the necessary work in abTEM is [embarrasingly parallel](https://en.wikipedia.org/wiki/Embarrassingly_parallel), for example, every probe position is independent, thus each CPU core may calculate a batch of positions independently, only requiring communication after finishing a run of the multislice algorithm. \n",
    "\n",
    "abTEM is parallelized using [Dask](https://www.dask.org/){cite}`dask`. Dask allows scaling from a single laptop to hundreds of nodes at high-performance computing (HPC) facilities with minimal changes to the code. \n",
    "\n",
    "In this document, we introduce how abTEM uses Dask, this is not required knowledge for running abTEM on a single machine, nonetheless, it may still help you optimize your simulations. If you are already an experienced Dask user, most of what you already know can be applied to using abTEM. If you are new to Dask you may benefit from watching [this introduction](https://www.youtube.com/watch?v=nnndxbr_Xq4) before continuing. We note that Dask is used in several other libraries in electron microscopy, for example, [hyperspy](https://hyperspy.org/), [libertem](https://libertem.github.io/LiberTEM/) and [py4DSTEM](https://py4dstem.readthedocs.io/en/latest/), and we think that you may benefit from knowing this library more generally."
   ]
  },
  {
   "cell_type": "markdown",
   "id": "43b2aaf0-80a0-4058-99a2-faa12025ab42",
   "metadata": {
    "pycharm": {
     "name": "#%% md\n"
    }
   },
   "source": [
    "## Task graphs\n",
    "\n",
    "Simulating TEM experiments requires executing multiple tasks where each task may depend on the output of previous tasks. In Dask this is represented as a [*task graph*](https://docs.dask.org/en/stable/graphs.html), where each task is a node with edges between nodes if the task is dependent on another task. The simulation result is obtained by executing each task (node) in the graph with a Dask scheduler on a single machine or a cluster."
   ]
  },
  {
   "cell_type": "code",
   "execution_count": 2,
   "id": "fe6765fb-d0ea-4c35-b5bf-2eaadee69b0b",
   "metadata": {
    "tags": [
     "remove-input"
    ]
   },
   "outputs": [
    {
     "data": {
      "text/html": [
       "<img src=\"https://docs.dask.org/en/stable/_images/dask-overview.svg\" width=\"600\"/>"
      ],
      "text/plain": [
       "<IPython.core.display.Image object>"
      ]
     },
     "metadata": {},
     "output_type": "display_data"
    }
   ],
   "source": [
    "display(\n",
    "    Image(url=\"https://docs.dask.org/en/stable/_images/dask-overview.svg\", width=600)\n",
    ")"
   ]
  },
  {
   "cell_type": "markdown",
   "id": "95b10156-ee85-4600-92ed-b9c7c398dbdc",
   "metadata": {},
   "source": [
    "Below we create the task graph for running a multislice simulation using plane waves with gold in the $\\left<100\\right>$ zone axis with 4 frozen phonons. "
   ]
  },
  {
   "cell_type": "code",
   "execution_count": 3,
   "id": "60ba5ba0-0d6d-4ecb-8fdd-fa80316a579b",
   "metadata": {},
   "outputs": [],
   "source": [
    "atoms = ase.build.bulk(\"Au\", cubic=True) * (5, 5, 2)\n",
    "\n",
    "frozen_phonons = abtem.FrozenPhonons(\n",
    "    atoms, num_configs=4, sigmas=0.1, ensemble_mean=False\n",
    ")\n",
    "\n",
    "potential = abtem.Potential(frozen_phonons, gpts=512, slice_thickness=2)\n",
    "\n",
    "probe = abtem.PlaneWave(energy=200e3)\n",
    "\n",
    "exit_waves = probe.multislice(potential)"
   ]
  },
  {
   "cell_type": "markdown",
   "id": "cbc97cd9-2777-4ef4-a0c4-c020517b708e",
   "metadata": {},
   "source": [
    "The result is an ensemble of $4$ wave functions of shape $512\\times512$, which may be represented as a 3D array, where the first dimension represents the phonon ensemble and the last $2$ dimensions represents the 2d wave functions. \n",
    "\n",
    "As we have not executed the task graph yet, the wave functions are represented as a [Dask Array](https://docs.dask.org/en/stable/array.html). We can think of the Dask array as being composed of many smaller NumPy arrays, called *chunks*, and operations may be applied to each chunk rather than the full array. This enables \n",
    "\n",
    "1. Parallelism over the chunks \n",
    "2. Representing a larger-than-memory array as many smaller arrays which each fits in memory\n",
    "\n",
    "The Dask array `__repr__` shows how the chunks are laid out."
   ]
  },
  {
   "cell_type": "code",
   "execution_count": 4,
   "id": "adc736d7-6ca1-47a7-baa5-eb6a9b0d69cb",
   "metadata": {},
   "outputs": [
    {
     "data": {
      "text/html": [
       "<table>\n",
       "    <tr>\n",
       "        <td>\n",
       "            <table>\n",
       "                <thead>\n",
       "                    <tr>\n",
       "                        <td> </td>\n",
       "                        <th> Array </th>\n",
       "                        <th> Chunk </th>\n",
       "                    </tr>\n",
       "                </thead>\n",
       "                <tbody>\n",
       "                    \n",
       "                    <tr>\n",
       "                        <th> Bytes </th>\n",
       "                        <td> 8.00 MiB </td>\n",
       "                        <td> 2.00 MiB </td>\n",
       "                    </tr>\n",
       "                    \n",
       "                    <tr>\n",
       "                        <th> Shape </th>\n",
       "                        <td> (4, 512, 512) </td>\n",
       "                        <td> (1, 512, 512) </td>\n",
       "                    </tr>\n",
       "                    <tr>\n",
       "                        <th> Count </th>\n",
       "                        <td> 15 Graph Layers </td>\n",
       "                        <td> 4 Chunks </td>\n",
       "                    </tr>\n",
       "                    <tr>\n",
       "                    <th> Type </th>\n",
       "                    <td> complex64 </td>\n",
       "                    <td> numpy.ndarray </td>\n",
       "                    </tr>\n",
       "                </tbody>\n",
       "            </table>\n",
       "        </td>\n",
       "        <td>\n",
       "        <svg width=\"161\" height=\"151\" style=\"stroke:rgb(0,0,0);stroke-width:1\" >\n",
       "\n",
       "  <!-- Horizontal lines -->\n",
       "  <line x1=\"10\" y1=\"0\" x2=\"21\" y2=\"11\" style=\"stroke-width:2\" />\n",
       "  <line x1=\"10\" y1=\"90\" x2=\"21\" y2=\"101\" style=\"stroke-width:2\" />\n",
       "\n",
       "  <!-- Vertical lines -->\n",
       "  <line x1=\"10\" y1=\"0\" x2=\"10\" y2=\"90\" style=\"stroke-width:2\" />\n",
       "  <line x1=\"12\" y1=\"2\" x2=\"12\" y2=\"92\" />\n",
       "  <line x1=\"15\" y1=\"5\" x2=\"15\" y2=\"95\" />\n",
       "  <line x1=\"18\" y1=\"8\" x2=\"18\" y2=\"98\" />\n",
       "  <line x1=\"21\" y1=\"11\" x2=\"21\" y2=\"101\" style=\"stroke-width:2\" />\n",
       "\n",
       "  <!-- Colored Rectangle -->\n",
       "  <polygon points=\"10.0,0.0 21.2114484623158,11.211448462315802 21.2114484623158,101.2114484623158 10.0,90.0\" style=\"fill:#ECB172A0;stroke-width:0\"/>\n",
       "\n",
       "  <!-- Horizontal lines -->\n",
       "  <line x1=\"10\" y1=\"0\" x2=\"100\" y2=\"0\" style=\"stroke-width:2\" />\n",
       "  <line x1=\"12\" y1=\"2\" x2=\"102\" y2=\"2\" />\n",
       "  <line x1=\"15\" y1=\"5\" x2=\"105\" y2=\"5\" />\n",
       "  <line x1=\"18\" y1=\"8\" x2=\"108\" y2=\"8\" />\n",
       "  <line x1=\"21\" y1=\"11\" x2=\"111\" y2=\"11\" style=\"stroke-width:2\" />\n",
       "\n",
       "  <!-- Vertical lines -->\n",
       "  <line x1=\"10\" y1=\"0\" x2=\"21\" y2=\"11\" style=\"stroke-width:2\" />\n",
       "  <line x1=\"100\" y1=\"0\" x2=\"111\" y2=\"11\" style=\"stroke-width:2\" />\n",
       "\n",
       "  <!-- Colored Rectangle -->\n",
       "  <polygon points=\"10.0,0.0 100.0,0.0 111.2114484623158,11.211448462315802 21.2114484623158,11.211448462315802\" style=\"fill:#ECB172A0;stroke-width:0\"/>\n",
       "\n",
       "  <!-- Horizontal lines -->\n",
       "  <line x1=\"21\" y1=\"11\" x2=\"111\" y2=\"11\" style=\"stroke-width:2\" />\n",
       "  <line x1=\"21\" y1=\"101\" x2=\"111\" y2=\"101\" style=\"stroke-width:2\" />\n",
       "\n",
       "  <!-- Vertical lines -->\n",
       "  <line x1=\"21\" y1=\"11\" x2=\"21\" y2=\"101\" style=\"stroke-width:2\" />\n",
       "  <line x1=\"111\" y1=\"11\" x2=\"111\" y2=\"101\" style=\"stroke-width:2\" />\n",
       "\n",
       "  <!-- Colored Rectangle -->\n",
       "  <polygon points=\"21.2114484623158,11.211448462315802 111.2114484623158,11.211448462315802 111.2114484623158,101.2114484623158 21.2114484623158,101.2114484623158\" style=\"fill:#ECB172A0;stroke-width:0\"/>\n",
       "\n",
       "  <!-- Text -->\n",
       "  <text x=\"66.211448\" y=\"121.211448\" font-size=\"1.0rem\" font-weight=\"100\" text-anchor=\"middle\" >512</text>\n",
       "  <text x=\"131.211448\" y=\"56.211448\" font-size=\"1.0rem\" font-weight=\"100\" text-anchor=\"middle\" transform=\"rotate(-90,131.211448,56.211448)\">512</text>\n",
       "  <text x=\"5.605724\" y=\"115.605724\" font-size=\"1.0rem\" font-weight=\"100\" text-anchor=\"middle\" transform=\"rotate(45,5.605724,115.605724)\">4</text>\n",
       "</svg>\n",
       "        </td>\n",
       "    </tr>\n",
       "</table>"
      ],
      "text/plain": [
       "dask.array<_extract_measurement, shape=(4, 512, 512), dtype=complex64, chunksize=(1, 512, 512), chunktype=numpy.ndarray>"
      ]
     },
     "execution_count": 4,
     "metadata": {},
     "output_type": "execute_result"
    }
   ],
   "source": [
    "exit_waves.array"
   ]
  },
  {
   "cell_type": "markdown",
   "id": "07d22d90-2701-4d3e-bc91-ab2260232950",
   "metadata": {},
   "source": [
    "We see that the Dask array has the shape `(4, 512, 512)` requiring 8 MB of memory, this is composed of chunks with a shape `(1, 512, 512)` requiring 2 MB each. We stress that the Dask array just represents a task graph, hence, memory is consumed only if it is computed.\n",
    "\n",
    "Each chunk of the Dask array created above represents a wave function for a frozen phonon configuration. This reflects that, in the multislice algorithm, each frozen phonon configuration is independent and may be calculated in parallel. On the other hand, we should not have chunks across wave functions because each part of the wave function is affected by every other part.\n",
    "\n",
    "We can visualize the task graph using Dasks [`visualize`](https://docs.dask.org/en/stable/graphviz.html) method. We see that the task graph consists of 4 fully independent branches, one for each frozen phonon.\n",
    "\n",
    "````{note}\n",
    "Drawing dask graphs with the cytoscape engine requires the `ipycytoscape` python library. To reproduce the result below you need to:\n",
    "```\n",
    "  python -m pip install ipycytoscape\n",
    "```\n",
    "and restart jupyter.\n",
    "````"
   ]
  },
  {
   "cell_type": "code",
   "execution_count": 5,
   "id": "45d463ae-c282-4710-a05c-0817cb996457",
   "metadata": {},
   "outputs": [
    {
     "data": {
      "application/vnd.jupyter.widget-view+json": {
       "model_id": "598e8c0cbfa94d37a77d1999d4e8d675",
       "version_major": 2,
       "version_minor": 0
      },
      "text/plain": [
       "CytoscapeWidget(cytoscape_layout={'name': 'dagre', 'rankDir': 'BT', 'nodeSep': 10, 'edgeSep': 10, 'spacingFact…"
      ]
     },
     "metadata": {},
     "output_type": "display_data"
    }
   ],
   "source": [
    "exit_waves.array.visualize(engine=\"cytoscape\")"
   ]
  },
  {
   "cell_type": "markdown",
   "id": "20d970c0-56e5-4066-b1d8-f6c71f59fb46",
   "metadata": {},
   "source": [
    "We usually take the mean across the frozen phonon dimension, thus, we end up with an image represented as a single chunk."
   ]
  },
  {
   "cell_type": "code",
   "execution_count": 6,
   "id": "907e3a1e-7132-4dc5-aa9b-bdeed01a6170",
   "metadata": {},
   "outputs": [
    {
     "data": {
      "text/html": [
       "<table>\n",
       "    <tr>\n",
       "        <td>\n",
       "            <table>\n",
       "                <thead>\n",
       "                    <tr>\n",
       "                        <td> </td>\n",
       "                        <th> Array </th>\n",
       "                        <th> Chunk </th>\n",
       "                    </tr>\n",
       "                </thead>\n",
       "                <tbody>\n",
       "                    \n",
       "                    <tr>\n",
       "                        <th> Bytes </th>\n",
       "                        <td> 1.00 MiB </td>\n",
       "                        <td> 1.00 MiB </td>\n",
       "                    </tr>\n",
       "                    \n",
       "                    <tr>\n",
       "                        <th> Shape </th>\n",
       "                        <td> (512, 512) </td>\n",
       "                        <td> (512, 512) </td>\n",
       "                    </tr>\n",
       "                    <tr>\n",
       "                        <th> Count </th>\n",
       "                        <td> 19 Graph Layers </td>\n",
       "                        <td> 1 Chunks </td>\n",
       "                    </tr>\n",
       "                    <tr>\n",
       "                    <th> Type </th>\n",
       "                    <td> float32 </td>\n",
       "                    <td> numpy.ndarray </td>\n",
       "                    </tr>\n",
       "                </tbody>\n",
       "            </table>\n",
       "        </td>\n",
       "        <td>\n",
       "        <svg width=\"140\" height=\"140\" style=\"stroke:rgb(0,0,0);stroke-width:1\" >\n",
       "\n",
       "  <!-- Horizontal lines -->\n",
       "  <line x1=\"0\" y1=\"0\" x2=\"90\" y2=\"0\" style=\"stroke-width:2\" />\n",
       "  <line x1=\"0\" y1=\"90\" x2=\"90\" y2=\"90\" style=\"stroke-width:2\" />\n",
       "\n",
       "  <!-- Vertical lines -->\n",
       "  <line x1=\"0\" y1=\"0\" x2=\"0\" y2=\"90\" style=\"stroke-width:2\" />\n",
       "  <line x1=\"90\" y1=\"0\" x2=\"90\" y2=\"90\" style=\"stroke-width:2\" />\n",
       "\n",
       "  <!-- Colored Rectangle -->\n",
       "  <polygon points=\"0.0,0.0 90.0,0.0 90.0,90.0 0.0,90.0\" style=\"fill:#ECB172A0;stroke-width:0\"/>\n",
       "\n",
       "  <!-- Text -->\n",
       "  <text x=\"45.000000\" y=\"110.000000\" font-size=\"1.0rem\" font-weight=\"100\" text-anchor=\"middle\" >512</text>\n",
       "  <text x=\"110.000000\" y=\"45.000000\" font-size=\"1.0rem\" font-weight=\"100\" text-anchor=\"middle\" transform=\"rotate(-90,110.000000,45.000000)\">512</text>\n",
       "</svg>\n",
       "        </td>\n",
       "    </tr>\n",
       "</table>"
      ],
      "text/plain": [
       "dask.array<mean_agg-aggregate, shape=(512, 512), dtype=float32, chunksize=(512, 512), chunktype=numpy.ndarray>"
      ]
     },
     "execution_count": 6,
     "metadata": {},
     "output_type": "execute_result"
    }
   ],
   "source": [
    "hrtem_image = exit_waves.intensity().mean(0)\n",
    "\n",
    "hrtem_image.array"
   ]
  },
  {
   "cell_type": "markdown",
   "id": "b9661725-7a20-44f6-8415-52489e91259b",
   "metadata": {},
   "source": [
    "Taking the mean across frozen phonon chunks requires communicating the exit wave function intensity. Showing the task graph we see how the branches are merged where the result have to be communicated between workers."
   ]
  },
  {
   "cell_type": "code",
   "execution_count": 7,
   "id": "27e8b98c-362e-4543-b6c2-e033a827143e",
   "metadata": {},
   "outputs": [
    {
     "data": {
      "application/vnd.jupyter.widget-view+json": {
       "model_id": "45155a2fe93e4357aa8f59346730efa3",
       "version_major": 2,
       "version_minor": 0
      },
      "text/plain": [
       "CytoscapeWidget(cytoscape_layout={'name': 'dagre', 'rankDir': 'BT', 'nodeSep': 10, 'edgeSep': 10, 'spacingFact…"
      ]
     },
     "metadata": {},
     "output_type": "display_data"
    }
   ],
   "source": [
    "hrtem_image.array.visualize(engine=\"cytoscape\")"
   ]
  },
  {
   "cell_type": "markdown",
   "id": "7dcdbfb7-41d3-49ff-995f-bf17f01a120f",
   "metadata": {},
   "source": [
    "## Chunks\n",
    "To futher explore the role of chunks in abTEM, we create the task graph for running a STEM simulation with gold in the $\\left<100\\right>$ zone axis with 4 frozen phonons. We do not immediately apply a detector, hence we get an ensemble of exit wave functions. "
   ]
  },
  {
   "cell_type": "code",
   "execution_count": 225,
   "id": "5b9baf98-b088-4c6f-954d-8ae1a7d22c23",
   "metadata": {
    "pycharm": {
     "name": "#%%\n"
    }
   },
   "outputs": [
    {
     "data": {
      "text/plain": [
       "type               label           coordinates\n",
       "-----------------  --------------  -------------------\n",
       "FrozenPhononsAxis  Frozen phonons  -\n",
       "ScanAxis           x [Å]           0.00 0.82 ... 3.26\n",
       "ScanAxis           y [Å]           0.00 0.82 ... 3.26\n",
       "RealSpaceAxis      x [Å]           0.00 0.04 ... 20.36\n",
       "RealSpaceAxis      y [Å]           0.00 0.04 ... 20.36"
      ]
     },
     "execution_count": 225,
     "metadata": {},
     "output_type": "execute_result"
    }
   ],
   "source": [
    "probe = abtem.Probe(energy=200e3, semiangle_cutoff=20)\n",
    "\n",
    "scan = abtem.GridScan.from_fractional_coordinates(\n",
    "    potential,\n",
    "    start=(0, 0),\n",
    "    end=(1 / 5, 1 / 5),\n",
    "    sampling=1,\n",
    ")\n",
    "\n",
    "frozen_phonons = abtem.FrozenPhonons(\n",
    "    atoms, num_configs=4, sigmas=0.1, ensemble_mean=False\n",
    ")\n",
    "\n",
    "potential = abtem.Potential(frozen_phonons, gpts=512, slice_thickness=2)\n",
    "\n",
    "exit_waves_stem = probe.multislice(potential, scan=scan)\n",
    "\n",
    "exit_waves_stem.axes_metadata"
   ]
  },
  {
   "cell_type": "markdown",
   "id": "69036139-511e-482d-8f72-e66b71df0924",
   "metadata": {},
   "source": [
    "The wave functions are represented as a 5d Dask array, a 3d ensemble of 2d wave functions, the ensemble is composed of one phonon dimension and 2 scan dimensions, one for each of the $x$ and $y$ direction. \n",
    "\n",
    "The full array is of shape `(4, 15, 15, 512, 512)` requiring 1.76 GB of memory, this is cut into chunks of shape `(1, 8, 7, 512, 512)` of 112 MB. Hence, there is a total of $4 \\times 2 \\times 3 = 24$ chunks."
   ]
  },
  {
   "cell_type": "code",
   "execution_count": 226,
   "id": "0d0ab17b-53e3-4e79-856a-d734fe3c1cbe",
   "metadata": {},
   "outputs": [
    {
     "data": {
      "text/html": [
       "<table>\n",
       "    <tr>\n",
       "        <td>\n",
       "            <table>\n",
       "                <thead>\n",
       "                    <tr>\n",
       "                        <td> </td>\n",
       "                        <th> Array </th>\n",
       "                        <th> Chunk </th>\n",
       "                    </tr>\n",
       "                </thead>\n",
       "                <tbody>\n",
       "                    \n",
       "                    <tr>\n",
       "                        <th> Bytes </th>\n",
       "                        <td> 200.00 MiB </td>\n",
       "                        <td> 50.00 MiB </td>\n",
       "                    </tr>\n",
       "                    \n",
       "                    <tr>\n",
       "                        <th> Shape </th>\n",
       "                        <td> (4, 5, 5, 512, 512) </td>\n",
       "                        <td> (1, 5, 5, 512, 512) </td>\n",
       "                    </tr>\n",
       "                    <tr>\n",
       "                        <th> Count </th>\n",
       "                        <td> 16 Graph Layers </td>\n",
       "                        <td> 4 Chunks </td>\n",
       "                    </tr>\n",
       "                    <tr>\n",
       "                    <th> Type </th>\n",
       "                    <td> complex64 </td>\n",
       "                    <td> numpy.ndarray </td>\n",
       "                    </tr>\n",
       "                </tbody>\n",
       "            </table>\n",
       "        </td>\n",
       "        <td>\n",
       "        <svg width=\"329\" height=\"151\" style=\"stroke:rgb(0,0,0);stroke-width:1\" >\n",
       "\n",
       "  <!-- Horizontal lines -->\n",
       "  <line x1=\"0\" y1=\"0\" x2=\"19\" y2=\"0\" style=\"stroke-width:2\" />\n",
       "  <line x1=\"0\" y1=\"4\" x2=\"19\" y2=\"4\" />\n",
       "  <line x1=\"0\" y1=\"9\" x2=\"19\" y2=\"9\" />\n",
       "  <line x1=\"0\" y1=\"14\" x2=\"19\" y2=\"14\" />\n",
       "  <line x1=\"0\" y1=\"19\" x2=\"19\" y2=\"19\" style=\"stroke-width:2\" />\n",
       "\n",
       "  <!-- Vertical lines -->\n",
       "  <line x1=\"0\" y1=\"0\" x2=\"0\" y2=\"19\" style=\"stroke-width:2\" />\n",
       "  <line x1=\"19\" y1=\"0\" x2=\"19\" y2=\"19\" style=\"stroke-width:2\" />\n",
       "\n",
       "  <!-- Colored Rectangle -->\n",
       "  <polygon points=\"0.0,0.0 19.059462385936865,0.0 19.059462385936865,19.059462385936865 0.0,19.059462385936865\" style=\"fill:#ECB172A0;stroke-width:0\"/>\n",
       "\n",
       "  <!-- Text -->\n",
       "  <text x=\"9.529731\" y=\"39.059462\" font-size=\"1.0rem\" font-weight=\"100\" text-anchor=\"middle\" >5</text>\n",
       "  <text x=\"39.059462\" y=\"9.529731\" font-size=\"1.0rem\" font-weight=\"100\" text-anchor=\"middle\" transform=\"rotate(0,39.059462,9.529731)\">4</text>\n",
       "\n",
       "\n",
       "  <!-- Horizontal lines -->\n",
       "  <line x1=\"89\" y1=\"0\" x2=\"100\" y2=\"11\" style=\"stroke-width:2\" />\n",
       "  <line x1=\"89\" y1=\"90\" x2=\"100\" y2=\"101\" style=\"stroke-width:2\" />\n",
       "\n",
       "  <!-- Vertical lines -->\n",
       "  <line x1=\"89\" y1=\"0\" x2=\"89\" y2=\"90\" style=\"stroke-width:2\" />\n",
       "  <line x1=\"100\" y1=\"11\" x2=\"100\" y2=\"101\" style=\"stroke-width:2\" />\n",
       "\n",
       "  <!-- Colored Rectangle -->\n",
       "  <polygon points=\"89.0,0.0 100.2114484623158,11.211448462315802 100.2114484623158,101.2114484623158 89.0,90.0\" style=\"fill:#ECB172A0;stroke-width:0\"/>\n",
       "\n",
       "  <!-- Horizontal lines -->\n",
       "  <line x1=\"89\" y1=\"0\" x2=\"179\" y2=\"0\" style=\"stroke-width:2\" />\n",
       "  <line x1=\"100\" y1=\"11\" x2=\"190\" y2=\"11\" style=\"stroke-width:2\" />\n",
       "\n",
       "  <!-- Vertical lines -->\n",
       "  <line x1=\"89\" y1=\"0\" x2=\"100\" y2=\"11\" style=\"stroke-width:2\" />\n",
       "  <line x1=\"179\" y1=\"0\" x2=\"190\" y2=\"11\" style=\"stroke-width:2\" />\n",
       "\n",
       "  <!-- Colored Rectangle -->\n",
       "  <polygon points=\"89.0,0.0 179.0,0.0 190.21144846231581,11.211448462315802 100.2114484623158,11.211448462315802\" style=\"fill:#ECB172A0;stroke-width:0\"/>\n",
       "\n",
       "  <!-- Horizontal lines -->\n",
       "  <line x1=\"100\" y1=\"11\" x2=\"190\" y2=\"11\" style=\"stroke-width:2\" />\n",
       "  <line x1=\"100\" y1=\"101\" x2=\"190\" y2=\"101\" style=\"stroke-width:2\" />\n",
       "\n",
       "  <!-- Vertical lines -->\n",
       "  <line x1=\"100\" y1=\"11\" x2=\"100\" y2=\"101\" style=\"stroke-width:2\" />\n",
       "  <line x1=\"190\" y1=\"11\" x2=\"190\" y2=\"101\" style=\"stroke-width:2\" />\n",
       "\n",
       "  <!-- Colored Rectangle -->\n",
       "  <polygon points=\"100.2114484623158,11.211448462315802 190.2114484623158,11.211448462315802 190.2114484623158,101.2114484623158 100.2114484623158,101.2114484623158\" style=\"fill:#ECB172A0;stroke-width:0\"/>\n",
       "\n",
       "  <!-- Text -->\n",
       "  <text x=\"145.211448\" y=\"121.211448\" font-size=\"1.0rem\" font-weight=\"100\" text-anchor=\"middle\" >512</text>\n",
       "  <text x=\"210.211448\" y=\"56.211448\" font-size=\"1.0rem\" font-weight=\"100\" text-anchor=\"middle\" transform=\"rotate(-90,210.211448,56.211448)\">512</text>\n",
       "  <text x=\"84.605724\" y=\"115.605724\" font-size=\"1.0rem\" font-weight=\"100\" text-anchor=\"middle\" transform=\"rotate(45,84.605724,115.605724)\">5</text>\n",
       "</svg>\n",
       "        </td>\n",
       "    </tr>\n",
       "</table>"
      ],
      "text/plain": [
       "dask.array<_extract_measurement, shape=(4, 5, 5, 512, 512), dtype=complex64, chunksize=(1, 5, 5, 512, 512), chunktype=numpy.ndarray>"
      ]
     },
     "execution_count": 226,
     "metadata": {},
     "output_type": "execute_result"
    }
   ],
   "source": [
    "exit_waves_stem.array"
   ]
  },
  {
   "cell_type": "markdown",
   "id": "00985534-3b37-458c-9cba-e5f6c783f334",
   "metadata": {},
   "source": [
    "We do not make a chunk for every probe position, instead each chunk of the scan dimension represents a batch of wave functions. This is done partly to limit [the overhead](https://docs.dask.org/en/stable/best-practices.html#avoid-very-large-graphs) that every chunk comes with, more importantly, larger batches enables efficient thread parallelization within each run of the multislice algorithm.\n",
    "\n",
    "We can change how many wave functions each batch should have using the `max_batch` keyword. Below we set `max_batch=4`, resulting in a total number of $4 \\times 8 \\times 8 = 256$ chunks."
   ]
  },
  {
   "cell_type": "code",
   "execution_count": 202,
   "id": "b1f9437b-ed6a-4836-8e6c-daa0ae526b21",
   "metadata": {},
   "outputs": [
    {
     "data": {
      "text/html": [
       "<table>\n",
       "    <tr>\n",
       "        <td>\n",
       "            <table>\n",
       "                <thead>\n",
       "                    <tr>\n",
       "                        <td> </td>\n",
       "                        <th> Array </th>\n",
       "                        <th> Chunk </th>\n",
       "                    </tr>\n",
       "                </thead>\n",
       "                <tbody>\n",
       "                    \n",
       "                    <tr>\n",
       "                        <th> Bytes </th>\n",
       "                        <td> 400.00 MiB </td>\n",
       "                        <td> 50.00 MiB </td>\n",
       "                    </tr>\n",
       "                    \n",
       "                    <tr>\n",
       "                        <th> Shape </th>\n",
       "                        <td> (8, 5, 5, 512, 512) </td>\n",
       "                        <td> (1, 5, 5, 512, 512) </td>\n",
       "                    </tr>\n",
       "                    <tr>\n",
       "                        <th> Count </th>\n",
       "                        <td> 28 Graph Layers </td>\n",
       "                        <td> 8 Chunks </td>\n",
       "                    </tr>\n",
       "                    <tr>\n",
       "                    <th> Type </th>\n",
       "                    <td> complex64 </td>\n",
       "                    <td> numpy.ndarray </td>\n",
       "                    </tr>\n",
       "                </tbody>\n",
       "            </table>\n",
       "        </td>\n",
       "        <td>\n",
       "        <svg width=\"329\" height=\"151\" style=\"stroke:rgb(0,0,0);stroke-width:1\" >\n",
       "\n",
       "  <!-- Horizontal lines -->\n",
       "  <line x1=\"0\" y1=\"0\" x2=\"19\" y2=\"0\" style=\"stroke-width:2\" />\n",
       "  <line x1=\"0\" y1=\"2\" x2=\"19\" y2=\"2\" />\n",
       "  <line x1=\"0\" y1=\"5\" x2=\"19\" y2=\"5\" />\n",
       "  <line x1=\"0\" y1=\"7\" x2=\"19\" y2=\"7\" />\n",
       "  <line x1=\"0\" y1=\"10\" x2=\"19\" y2=\"10\" />\n",
       "  <line x1=\"0\" y1=\"12\" x2=\"19\" y2=\"12\" />\n",
       "  <line x1=\"0\" y1=\"15\" x2=\"19\" y2=\"15\" />\n",
       "  <line x1=\"0\" y1=\"18\" x2=\"19\" y2=\"18\" />\n",
       "  <line x1=\"0\" y1=\"20\" x2=\"19\" y2=\"20\" style=\"stroke-width:2\" />\n",
       "\n",
       "  <!-- Vertical lines -->\n",
       "  <line x1=\"0\" y1=\"0\" x2=\"0\" y2=\"20\" style=\"stroke-width:2\" />\n",
       "  <line x1=\"19\" y1=\"0\" x2=\"19\" y2=\"20\" style=\"stroke-width:2\" />\n",
       "\n",
       "  <!-- Colored Rectangle -->\n",
       "  <polygon points=\"0.0,0.0 19.059462385936865,0.0 19.059462385936865,20.756540398430598 0.0,20.756540398430598\" style=\"fill:#ECB172A0;stroke-width:0\"/>\n",
       "\n",
       "  <!-- Text -->\n",
       "  <text x=\"9.529731\" y=\"40.756540\" font-size=\"1.0rem\" font-weight=\"100\" text-anchor=\"middle\" >5</text>\n",
       "  <text x=\"39.059462\" y=\"10.378270\" font-size=\"1.0rem\" font-weight=\"100\" text-anchor=\"middle\" transform=\"rotate(0,39.059462,10.378270)\">8</text>\n",
       "\n",
       "\n",
       "  <!-- Horizontal lines -->\n",
       "  <line x1=\"89\" y1=\"0\" x2=\"100\" y2=\"11\" style=\"stroke-width:2\" />\n",
       "  <line x1=\"89\" y1=\"90\" x2=\"100\" y2=\"101\" style=\"stroke-width:2\" />\n",
       "\n",
       "  <!-- Vertical lines -->\n",
       "  <line x1=\"89\" y1=\"0\" x2=\"89\" y2=\"90\" style=\"stroke-width:2\" />\n",
       "  <line x1=\"100\" y1=\"11\" x2=\"100\" y2=\"101\" style=\"stroke-width:2\" />\n",
       "\n",
       "  <!-- Colored Rectangle -->\n",
       "  <polygon points=\"89.0,0.0 100.2114484623158,11.211448462315802 100.2114484623158,101.2114484623158 89.0,90.0\" style=\"fill:#ECB172A0;stroke-width:0\"/>\n",
       "\n",
       "  <!-- Horizontal lines -->\n",
       "  <line x1=\"89\" y1=\"0\" x2=\"179\" y2=\"0\" style=\"stroke-width:2\" />\n",
       "  <line x1=\"100\" y1=\"11\" x2=\"190\" y2=\"11\" style=\"stroke-width:2\" />\n",
       "\n",
       "  <!-- Vertical lines -->\n",
       "  <line x1=\"89\" y1=\"0\" x2=\"100\" y2=\"11\" style=\"stroke-width:2\" />\n",
       "  <line x1=\"179\" y1=\"0\" x2=\"190\" y2=\"11\" style=\"stroke-width:2\" />\n",
       "\n",
       "  <!-- Colored Rectangle -->\n",
       "  <polygon points=\"89.0,0.0 179.0,0.0 190.21144846231581,11.211448462315802 100.2114484623158,11.211448462315802\" style=\"fill:#ECB172A0;stroke-width:0\"/>\n",
       "\n",
       "  <!-- Horizontal lines -->\n",
       "  <line x1=\"100\" y1=\"11\" x2=\"190\" y2=\"11\" style=\"stroke-width:2\" />\n",
       "  <line x1=\"100\" y1=\"101\" x2=\"190\" y2=\"101\" style=\"stroke-width:2\" />\n",
       "\n",
       "  <!-- Vertical lines -->\n",
       "  <line x1=\"100\" y1=\"11\" x2=\"100\" y2=\"101\" style=\"stroke-width:2\" />\n",
       "  <line x1=\"190\" y1=\"11\" x2=\"190\" y2=\"101\" style=\"stroke-width:2\" />\n",
       "\n",
       "  <!-- Colored Rectangle -->\n",
       "  <polygon points=\"100.2114484623158,11.211448462315802 190.2114484623158,11.211448462315802 190.2114484623158,101.2114484623158 100.2114484623158,101.2114484623158\" style=\"fill:#ECB172A0;stroke-width:0\"/>\n",
       "\n",
       "  <!-- Text -->\n",
       "  <text x=\"145.211448\" y=\"121.211448\" font-size=\"1.0rem\" font-weight=\"100\" text-anchor=\"middle\" >512</text>\n",
       "  <text x=\"210.211448\" y=\"56.211448\" font-size=\"1.0rem\" font-weight=\"100\" text-anchor=\"middle\" transform=\"rotate(-90,210.211448,56.211448)\">512</text>\n",
       "  <text x=\"84.605724\" y=\"115.605724\" font-size=\"1.0rem\" font-weight=\"100\" text-anchor=\"middle\" transform=\"rotate(45,84.605724,115.605724)\">5</text>\n",
       "</svg>\n",
       "        </td>\n",
       "    </tr>\n",
       "</table>"
      ],
      "text/plain": [
       "dask.array<_extract_measurement, shape=(8, 5, 5, 512, 512), dtype=complex64, chunksize=(1, 5, 5, 512, 512), chunktype=numpy.ndarray>"
      ]
     },
     "execution_count": 202,
     "metadata": {},
     "output_type": "execute_result"
    }
   ],
   "source": [
    "exit_waves_stem = probe.multislice(potential, scan=scan, max_batch=32)\n",
    "\n",
    "exit_waves_stem.array"
   ]
  },
  {
   "cell_type": "markdown",
   "id": "28998800-0b81-49f7-b3c6-79aa355cf3dc",
   "metadata": {
    "pycharm": {
     "name": "#%% md\n"
    }
   },
   "source": [
    "The default value of `max_batch` is `\"auto\"`, with this setting the number of wave functions in each batch is determined such that the batch represents approximately `128 MB` of memory, this number may be changed through the configuration.\n",
    "\n",
    "Before running `compute`, we apply a HAADF detector and calculate the ensemble mean, this reduces the total size of the output to just 400 B. It is important to stress that the entire 1.76 GB ensemble of wave functions never had to be in memory simulateneously. Each chunk of exit wave functions will be reduced immediately after completing the multislice algorithm. "
   ]
  },
  {
   "cell_type": "code",
   "execution_count": 222,
   "id": "8664e8b2-4928-4c5e-bd48-fa854a465cec",
   "metadata": {
    "pycharm": {
     "name": "#%%\n"
    }
   },
   "outputs": [
    {
     "name": "stdout",
     "output_type": "stream",
     "text": [
      "[########################################] | 100% Completed | 3.00 sms\n"
     ]
    },
    {
     "data": {
      "text/plain": [
       "<abtem.measurements.Images object at 0x7f9894f16a60>"
      ]
     },
     "execution_count": 222,
     "metadata": {},
     "output_type": "execute_result"
    }
   ],
   "source": [
    "detector = abtem.AnnularDetector(inner=65, outer=200)\n",
    "\n",
    "haadf_images = detector.detect(exit_waves_stem).compute()"
   ]
  },
  {
   "cell_type": "markdown",
   "id": "c8167e51-1e8b-408d-9e08-ad00b6966ad5",
   "metadata": {
    "pycharm": {
     "name": "#%% md\n"
    }
   },
   "source": [
    "## Schedulers\n",
    "\n",
    "After generating a task graph, it needs to be executed on (parallel) hardware. This is the job of a [task scheduler](https://docs.dask.org/en/stable/scheduler-overview.html). Dask provides several task schedulers, each will compute a task graph and give the same result, but with different performance characteristics.\n",
    "\n",
    "Every time you call the `compute` method a Dask scheduler is used. abTEM adopts the default Dask scheduler configuration and every keyword argument used with the `compute` method in abTEM is forwarded to the Dask `compute` function. \n",
    "\n",
    "The default scheduler is the [`ThreadPoolExecutor`](https://docs.dask.org/en/stable/scheduling.html#local-threads), keyword arguments for the scheduler may be passed through the `compute` method. For example, the threaded scheduler take a `num_workers` keyword, which sets the number threads to use (defaults to number of cores)."
   ]
  },
  {
   "cell_type": "code",
   "execution_count": 224,
   "id": "4c507a96-5a6d-4e55-8775-200f66e26459",
   "metadata": {},
   "outputs": [
    {
     "name": "stdout",
     "output_type": "stream",
     "text": [
      "[########################################] | 100% Completed | 3.06 sms\n"
     ]
    }
   ],
   "source": [
    "haadf_images = detector.detect(exit_waves_stem).compute(\n",
    "    scheduler=\"threads\", num_workers=4\n",
    ")"
   ]
  },
  {
   "cell_type": "markdown",
   "id": "168c4090-255a-4705-85a8-afbf74c6320e",
   "metadata": {},
   "source": [
    "We can change the scheduler to using the `ProcessPoolExecutor` as below.\n",
    "\n",
    "```python\n",
    "haadf_images = detector.detect(exit_waves_stem).compute(scheduler=\"processes\", num_workers=4)\n",
    "```\n",
    "\n",
    "Using `abtem.config.set` the scheduler can be set either as a context manager or globally.\n",
    "```python\n",
    "# As a context manager\n",
    "with abtem.config.set(scheduler=\"processes\"):\n",
    "    haadf_images = detector.detect(exit_waves_stem).compute()\n",
    "\n",
    "# Set globally\n",
    "abtem.config.set(scheduler=\"processes\")\n",
    "haadf_images = detector.detect(exit_waves_stem).compute()\n",
    "```"
   ]
  },
  {
   "cell_type": "markdown",
   "id": "88a96448-5a2a-4c60-9ce7-7a2f43845d3c",
   "metadata": {},
   "source": [
    "### The distributed scheduler\n",
    "You can use the Dask distributed scheduler by just initializing a `Client`. \n",
    "The Dask distributed scheduler is necessary for  a cluster, however, it may also  locally on a personal machine. The main benefit of using the distributed scheduler locally\n",
    "\n",
    "\n",
    "https://docs.dask.org/en/stable/scheduling.html#dask-distributed-local\n",
    "The Dask distributed scheduler "
   ]
  },
  {
   "cell_type": "code",
   "execution_count": 209,
   "id": "2b7c37a3-909c-482e-99fb-72e4eb222a5a",
   "metadata": {},
   "outputs": [
    {
     "data": {
      "text/html": [
       "<div>\n",
       "    <div style=\"width: 24px; height: 24px; background-color: #e1e1e1; border: 3px solid #9D9D9D; border-radius: 5px; position: absolute;\"> </div>\n",
       "    <div style=\"margin-left: 48px;\">\n",
       "        <h3 style=\"margin-bottom: 0px;\">Client</h3>\n",
       "        <p style=\"color: #9D9D9D; margin-bottom: 0px;\">Client-aa0461c8-464c-11ed-b1c5-f218984d7c80</p>\n",
       "        <table style=\"width: 100%; text-align: left;\">\n",
       "\n",
       "        <tr>\n",
       "        \n",
       "            <td style=\"text-align: left;\"><strong>Connection method:</strong> Cluster object</td>\n",
       "            <td style=\"text-align: left;\"><strong>Cluster type:</strong> distributed.LocalCluster</td>\n",
       "        \n",
       "        </tr>\n",
       "\n",
       "        \n",
       "            <tr>\n",
       "                <td style=\"text-align: left;\">\n",
       "                    <strong>Dashboard: </strong> <a href=\"http://127.0.0.1:8787/status\" target=\"_blank\">http://127.0.0.1:8787/status</a>\n",
       "                </td>\n",
       "                <td style=\"text-align: left;\"></td>\n",
       "            </tr>\n",
       "        \n",
       "\n",
       "        </table>\n",
       "\n",
       "        \n",
       "            <details>\n",
       "            <summary style=\"margin-bottom: 20px;\"><h3 style=\"display: inline;\">Cluster Info</h3></summary>\n",
       "            <div class=\"jp-RenderedHTMLCommon jp-RenderedHTML jp-mod-trusted jp-OutputArea-output\">\n",
       "    <div style=\"width: 24px; height: 24px; background-color: #e1e1e1; border: 3px solid #9D9D9D; border-radius: 5px; position: absolute;\">\n",
       "    </div>\n",
       "    <div style=\"margin-left: 48px;\">\n",
       "        <h3 style=\"margin-bottom: 0px; margin-top: 0px;\">LocalCluster</h3>\n",
       "        <p style=\"color: #9D9D9D; margin-bottom: 0px;\">b7b77b77</p>\n",
       "        <table style=\"width: 100%; text-align: left;\">\n",
       "            <tr>\n",
       "                <td style=\"text-align: left;\">\n",
       "                    <strong>Dashboard:</strong> <a href=\"http://127.0.0.1:8787/status\" target=\"_blank\">http://127.0.0.1:8787/status</a>\n",
       "                </td>\n",
       "                <td style=\"text-align: left;\">\n",
       "                    <strong>Workers:</strong> 4\n",
       "                </td>\n",
       "            </tr>\n",
       "            <tr>\n",
       "                <td style=\"text-align: left;\">\n",
       "                    <strong>Total threads:</strong> 8\n",
       "                </td>\n",
       "                <td style=\"text-align: left;\">\n",
       "                    <strong>Total memory:</strong> 16.00 GiB\n",
       "                </td>\n",
       "            </tr>\n",
       "            \n",
       "            <tr>\n",
       "    <td style=\"text-align: left;\"><strong>Status:</strong> running</td>\n",
       "    <td style=\"text-align: left;\"><strong>Using processes:</strong> True</td>\n",
       "</tr>\n",
       "\n",
       "            \n",
       "        </table>\n",
       "\n",
       "        <details>\n",
       "            <summary style=\"margin-bottom: 20px;\">\n",
       "                <h3 style=\"display: inline;\">Scheduler Info</h3>\n",
       "            </summary>\n",
       "\n",
       "            <div style=\"\">\n",
       "    <div>\n",
       "        <div style=\"width: 24px; height: 24px; background-color: #FFF7E5; border: 3px solid #FF6132; border-radius: 5px; position: absolute;\"> </div>\n",
       "        <div style=\"margin-left: 48px;\">\n",
       "            <h3 style=\"margin-bottom: 0px;\">Scheduler</h3>\n",
       "            <p style=\"color: #9D9D9D; margin-bottom: 0px;\">Scheduler-5f50c3a5-dcc1-4a37-9a0a-683243c13ffe</p>\n",
       "            <table style=\"width: 100%; text-align: left;\">\n",
       "                <tr>\n",
       "                    <td style=\"text-align: left;\">\n",
       "                        <strong>Comm:</strong> tcp://127.0.0.1:52971\n",
       "                    </td>\n",
       "                    <td style=\"text-align: left;\">\n",
       "                        <strong>Workers:</strong> 4\n",
       "                    </td>\n",
       "                </tr>\n",
       "                <tr>\n",
       "                    <td style=\"text-align: left;\">\n",
       "                        <strong>Dashboard:</strong> <a href=\"http://127.0.0.1:8787/status\" target=\"_blank\">http://127.0.0.1:8787/status</a>\n",
       "                    </td>\n",
       "                    <td style=\"text-align: left;\">\n",
       "                        <strong>Total threads:</strong> 8\n",
       "                    </td>\n",
       "                </tr>\n",
       "                <tr>\n",
       "                    <td style=\"text-align: left;\">\n",
       "                        <strong>Started:</strong> Just now\n",
       "                    </td>\n",
       "                    <td style=\"text-align: left;\">\n",
       "                        <strong>Total memory:</strong> 16.00 GiB\n",
       "                    </td>\n",
       "                </tr>\n",
       "            </table>\n",
       "        </div>\n",
       "    </div>\n",
       "\n",
       "    <details style=\"margin-left: 48px;\">\n",
       "        <summary style=\"margin-bottom: 20px;\">\n",
       "            <h3 style=\"display: inline;\">Workers</h3>\n",
       "        </summary>\n",
       "\n",
       "        \n",
       "        <div style=\"margin-bottom: 20px;\">\n",
       "            <div style=\"width: 24px; height: 24px; background-color: #DBF5FF; border: 3px solid #4CC9FF; border-radius: 5px; position: absolute;\"> </div>\n",
       "            <div style=\"margin-left: 48px;\">\n",
       "            <details>\n",
       "                <summary>\n",
       "                    <h4 style=\"margin-bottom: 0px; display: inline;\">Worker: 0</h4>\n",
       "                </summary>\n",
       "                <table style=\"width: 100%; text-align: left;\">\n",
       "                    <tr>\n",
       "                        <td style=\"text-align: left;\">\n",
       "                            <strong>Comm: </strong> tcp://127.0.0.1:52986\n",
       "                        </td>\n",
       "                        <td style=\"text-align: left;\">\n",
       "                            <strong>Total threads: </strong> 2\n",
       "                        </td>\n",
       "                    </tr>\n",
       "                    <tr>\n",
       "                        <td style=\"text-align: left;\">\n",
       "                            <strong>Dashboard: </strong> <a href=\"http://127.0.0.1:52991/status\" target=\"_blank\">http://127.0.0.1:52991/status</a>\n",
       "                        </td>\n",
       "                        <td style=\"text-align: left;\">\n",
       "                            <strong>Memory: </strong> 4.00 GiB\n",
       "                        </td>\n",
       "                    </tr>\n",
       "                    <tr>\n",
       "                        <td style=\"text-align: left;\">\n",
       "                            <strong>Nanny: </strong> tcp://127.0.0.1:52974\n",
       "                        </td>\n",
       "                        <td style=\"text-align: left;\"></td>\n",
       "                    </tr>\n",
       "                    <tr>\n",
       "                        <td colspan=\"2\" style=\"text-align: left;\">\n",
       "                            <strong>Local directory: </strong> /var/folders/_p/k7hrlnh132n933827sxdjkrm0000gn/T/dask-worker-space/worker-mly95cqx\n",
       "                        </td>\n",
       "                    </tr>\n",
       "\n",
       "                    \n",
       "\n",
       "                    \n",
       "\n",
       "                </table>\n",
       "            </details>\n",
       "            </div>\n",
       "        </div>\n",
       "        \n",
       "        <div style=\"margin-bottom: 20px;\">\n",
       "            <div style=\"width: 24px; height: 24px; background-color: #DBF5FF; border: 3px solid #4CC9FF; border-radius: 5px; position: absolute;\"> </div>\n",
       "            <div style=\"margin-left: 48px;\">\n",
       "            <details>\n",
       "                <summary>\n",
       "                    <h4 style=\"margin-bottom: 0px; display: inline;\">Worker: 1</h4>\n",
       "                </summary>\n",
       "                <table style=\"width: 100%; text-align: left;\">\n",
       "                    <tr>\n",
       "                        <td style=\"text-align: left;\">\n",
       "                            <strong>Comm: </strong> tcp://127.0.0.1:52988\n",
       "                        </td>\n",
       "                        <td style=\"text-align: left;\">\n",
       "                            <strong>Total threads: </strong> 2\n",
       "                        </td>\n",
       "                    </tr>\n",
       "                    <tr>\n",
       "                        <td style=\"text-align: left;\">\n",
       "                            <strong>Dashboard: </strong> <a href=\"http://127.0.0.1:52990/status\" target=\"_blank\">http://127.0.0.1:52990/status</a>\n",
       "                        </td>\n",
       "                        <td style=\"text-align: left;\">\n",
       "                            <strong>Memory: </strong> 4.00 GiB\n",
       "                        </td>\n",
       "                    </tr>\n",
       "                    <tr>\n",
       "                        <td style=\"text-align: left;\">\n",
       "                            <strong>Nanny: </strong> tcp://127.0.0.1:52977\n",
       "                        </td>\n",
       "                        <td style=\"text-align: left;\"></td>\n",
       "                    </tr>\n",
       "                    <tr>\n",
       "                        <td colspan=\"2\" style=\"text-align: left;\">\n",
       "                            <strong>Local directory: </strong> /var/folders/_p/k7hrlnh132n933827sxdjkrm0000gn/T/dask-worker-space/worker-1g90e8js\n",
       "                        </td>\n",
       "                    </tr>\n",
       "\n",
       "                    \n",
       "\n",
       "                    \n",
       "\n",
       "                </table>\n",
       "            </details>\n",
       "            </div>\n",
       "        </div>\n",
       "        \n",
       "        <div style=\"margin-bottom: 20px;\">\n",
       "            <div style=\"width: 24px; height: 24px; background-color: #DBF5FF; border: 3px solid #4CC9FF; border-radius: 5px; position: absolute;\"> </div>\n",
       "            <div style=\"margin-left: 48px;\">\n",
       "            <details>\n",
       "                <summary>\n",
       "                    <h4 style=\"margin-bottom: 0px; display: inline;\">Worker: 2</h4>\n",
       "                </summary>\n",
       "                <table style=\"width: 100%; text-align: left;\">\n",
       "                    <tr>\n",
       "                        <td style=\"text-align: left;\">\n",
       "                            <strong>Comm: </strong> tcp://127.0.0.1:52989\n",
       "                        </td>\n",
       "                        <td style=\"text-align: left;\">\n",
       "                            <strong>Total threads: </strong> 2\n",
       "                        </td>\n",
       "                    </tr>\n",
       "                    <tr>\n",
       "                        <td style=\"text-align: left;\">\n",
       "                            <strong>Dashboard: </strong> <a href=\"http://127.0.0.1:52992/status\" target=\"_blank\">http://127.0.0.1:52992/status</a>\n",
       "                        </td>\n",
       "                        <td style=\"text-align: left;\">\n",
       "                            <strong>Memory: </strong> 4.00 GiB\n",
       "                        </td>\n",
       "                    </tr>\n",
       "                    <tr>\n",
       "                        <td style=\"text-align: left;\">\n",
       "                            <strong>Nanny: </strong> tcp://127.0.0.1:52976\n",
       "                        </td>\n",
       "                        <td style=\"text-align: left;\"></td>\n",
       "                    </tr>\n",
       "                    <tr>\n",
       "                        <td colspan=\"2\" style=\"text-align: left;\">\n",
       "                            <strong>Local directory: </strong> /var/folders/_p/k7hrlnh132n933827sxdjkrm0000gn/T/dask-worker-space/worker-6pz6vp7i\n",
       "                        </td>\n",
       "                    </tr>\n",
       "\n",
       "                    \n",
       "\n",
       "                    \n",
       "\n",
       "                </table>\n",
       "            </details>\n",
       "            </div>\n",
       "        </div>\n",
       "        \n",
       "        <div style=\"margin-bottom: 20px;\">\n",
       "            <div style=\"width: 24px; height: 24px; background-color: #DBF5FF; border: 3px solid #4CC9FF; border-radius: 5px; position: absolute;\"> </div>\n",
       "            <div style=\"margin-left: 48px;\">\n",
       "            <details>\n",
       "                <summary>\n",
       "                    <h4 style=\"margin-bottom: 0px; display: inline;\">Worker: 3</h4>\n",
       "                </summary>\n",
       "                <table style=\"width: 100%; text-align: left;\">\n",
       "                    <tr>\n",
       "                        <td style=\"text-align: left;\">\n",
       "                            <strong>Comm: </strong> tcp://127.0.0.1:52987\n",
       "                        </td>\n",
       "                        <td style=\"text-align: left;\">\n",
       "                            <strong>Total threads: </strong> 2\n",
       "                        </td>\n",
       "                    </tr>\n",
       "                    <tr>\n",
       "                        <td style=\"text-align: left;\">\n",
       "                            <strong>Dashboard: </strong> <a href=\"http://127.0.0.1:52993/status\" target=\"_blank\">http://127.0.0.1:52993/status</a>\n",
       "                        </td>\n",
       "                        <td style=\"text-align: left;\">\n",
       "                            <strong>Memory: </strong> 4.00 GiB\n",
       "                        </td>\n",
       "                    </tr>\n",
       "                    <tr>\n",
       "                        <td style=\"text-align: left;\">\n",
       "                            <strong>Nanny: </strong> tcp://127.0.0.1:52975\n",
       "                        </td>\n",
       "                        <td style=\"text-align: left;\"></td>\n",
       "                    </tr>\n",
       "                    <tr>\n",
       "                        <td colspan=\"2\" style=\"text-align: left;\">\n",
       "                            <strong>Local directory: </strong> /var/folders/_p/k7hrlnh132n933827sxdjkrm0000gn/T/dask-worker-space/worker-8pgf7eqx\n",
       "                        </td>\n",
       "                    </tr>\n",
       "\n",
       "                    \n",
       "\n",
       "                    \n",
       "\n",
       "                </table>\n",
       "            </details>\n",
       "            </div>\n",
       "        </div>\n",
       "        \n",
       "\n",
       "    </details>\n",
       "</div>\n",
       "\n",
       "        </details>\n",
       "    </div>\n",
       "</div>\n",
       "            </details>\n",
       "        \n",
       "\n",
       "    </div>\n",
       "</div>"
      ],
      "text/plain": [
       "<Client: 'tcp://127.0.0.1:52971' processes=4 threads=8, memory=16.00 GiB>"
      ]
     },
     "execution_count": 209,
     "metadata": {},
     "output_type": "execute_result"
    }
   ],
   "source": [
    "from dask.distributed import Client\n",
    "\n",
    "client = Client()\n",
    "client"
   ]
  },
  {
   "cell_type": "code",
   "execution_count": 210,
   "id": "e38de7a7-2b82-442e-8258-d9e2717a7b2b",
   "metadata": {},
   "outputs": [],
   "source": [
    "client.close()"
   ]
  },
  {
   "cell_type": "markdown",
   "id": "dffe61f7-43d8-47e6-a00a-3e73e33320ad",
   "metadata": {},
   "source": [
    "### Running abTEM on HPC clusters"
   ]
  },
  {
   "cell_type": "code",
   "execution_count": null,
   "id": "da27730d-95a8-4a1f-873e-12b25f574da8",
   "metadata": {},
   "outputs": [],
   "source": []
  },
  {
   "cell_type": "markdown",
   "id": "9f154caf-8d2e-4c69-b266-90af01b3165d",
   "metadata": {
    "tags": []
   },
   "source": [
    "## Diagnostics\n",
    "\n",
    "To improve performance we have to be able to profile it. Profiling parallel code can be challenging, but Dask provides functionality to aid in profiling and inspecting execution. The diagnostic tools are quite different depending on whether you use a local or distributed scheduler.\n",
    "\n",
    "### Local diagnostics\n",
    "\n",
    "Dask allows local diagnostics by adding callback that collects information about your code execution. You can use the profilers as a context manager as described in the Dask documentation. For convenience the abTEM `compute` methods implements keywords for adding profilers.\n",
    "\n",
    "Below we use the `Profiler` to monitor task execution by setting `profiler=True` and a `ResourceProfiler` to monitor the CPU usage and memory consumption by setting `resource_profiler=True`. We rerun the simulation above with these profilers. "
   ]
  },
  {
   "cell_type": "code",
   "execution_count": 216,
   "id": "53d76bde-2eeb-485d-9ea8-bc56afac351c",
   "metadata": {},
   "outputs": [
    {
     "name": "stdout",
     "output_type": "stream",
     "text": [
      "[########################################] | 100% Completed | 2.87 sms\n"
     ]
    }
   ],
   "source": [
    "haadf_images, profilers = detector.detect(exit_waves_stem).compute(\n",
    "    profiler=True, resource_profiler=True\n",
    ")"
   ]
  },
  {
   "cell_type": "markdown",
   "id": "5df66fdd-022d-4b3c-87b1-5001a3e43d9e",
   "metadata": {},
   "source": [
    "The Dask profilers are visualized using the plotting library `bokeh`. We need to run the commands below to show the plots in the notebook."
   ]
  },
  {
   "cell_type": "code",
   "execution_count": 217,
   "id": "bd110151-832f-4a7e-8194-3126681609e7",
   "metadata": {},
   "outputs": [
    {
     "data": {
      "text/html": [
       "<div class=\"bk-root\">\n",
       "        <a href=\"https://bokeh.org\" target=\"_blank\" class=\"bk-logo bk-logo-small bk-logo-notebook\"></a>\n",
       "        <span id=\"65459\">Loading BokehJS ...</span>\n",
       "    </div>\n"
      ]
     },
     "metadata": {},
     "output_type": "display_data"
    },
    {
     "data": {
      "application/javascript": [
       "(function(root) {\n",
       "  function now() {\n",
       "    return new Date();\n",
       "  }\n",
       "\n",
       "  const force = true;\n",
       "\n",
       "  if (typeof root._bokeh_onload_callbacks === \"undefined\" || force === true) {\n",
       "    root._bokeh_onload_callbacks = [];\n",
       "    root._bokeh_is_loading = undefined;\n",
       "  }\n",
       "\n",
       "const JS_MIME_TYPE = 'application/javascript';\n",
       "  const HTML_MIME_TYPE = 'text/html';\n",
       "  const EXEC_MIME_TYPE = 'application/vnd.bokehjs_exec.v0+json';\n",
       "  const CLASS_NAME = 'output_bokeh rendered_html';\n",
       "\n",
       "  /**\n",
       "   * Render data to the DOM node\n",
       "   */\n",
       "  function render(props, node) {\n",
       "    const script = document.createElement(\"script\");\n",
       "    node.appendChild(script);\n",
       "  }\n",
       "\n",
       "  /**\n",
       "   * Handle when an output is cleared or removed\n",
       "   */\n",
       "  function handleClearOutput(event, handle) {\n",
       "    const cell = handle.cell;\n",
       "\n",
       "    const id = cell.output_area._bokeh_element_id;\n",
       "    const server_id = cell.output_area._bokeh_server_id;\n",
       "    // Clean up Bokeh references\n",
       "    if (id != null && id in Bokeh.index) {\n",
       "      Bokeh.index[id].model.document.clear();\n",
       "      delete Bokeh.index[id];\n",
       "    }\n",
       "\n",
       "    if (server_id !== undefined) {\n",
       "      // Clean up Bokeh references\n",
       "      const cmd_clean = \"from bokeh.io.state import curstate; print(curstate().uuid_to_server['\" + server_id + \"'].get_sessions()[0].document.roots[0]._id)\";\n",
       "      cell.notebook.kernel.execute(cmd_clean, {\n",
       "        iopub: {\n",
       "          output: function(msg) {\n",
       "            const id = msg.content.text.trim();\n",
       "            if (id in Bokeh.index) {\n",
       "              Bokeh.index[id].model.document.clear();\n",
       "              delete Bokeh.index[id];\n",
       "            }\n",
       "          }\n",
       "        }\n",
       "      });\n",
       "      // Destroy server and session\n",
       "      const cmd_destroy = \"import bokeh.io.notebook as ion; ion.destroy_server('\" + server_id + \"')\";\n",
       "      cell.notebook.kernel.execute(cmd_destroy);\n",
       "    }\n",
       "  }\n",
       "\n",
       "  /**\n",
       "   * Handle when a new output is added\n",
       "   */\n",
       "  function handleAddOutput(event, handle) {\n",
       "    const output_area = handle.output_area;\n",
       "    const output = handle.output;\n",
       "\n",
       "    // limit handleAddOutput to display_data with EXEC_MIME_TYPE content only\n",
       "    if ((output.output_type != \"display_data\") || (!Object.prototype.hasOwnProperty.call(output.data, EXEC_MIME_TYPE))) {\n",
       "      return\n",
       "    }\n",
       "\n",
       "    const toinsert = output_area.element.find(\".\" + CLASS_NAME.split(' ')[0]);\n",
       "\n",
       "    if (output.metadata[EXEC_MIME_TYPE][\"id\"] !== undefined) {\n",
       "      toinsert[toinsert.length - 1].firstChild.textContent = output.data[JS_MIME_TYPE];\n",
       "      // store reference to embed id on output_area\n",
       "      output_area._bokeh_element_id = output.metadata[EXEC_MIME_TYPE][\"id\"];\n",
       "    }\n",
       "    if (output.metadata[EXEC_MIME_TYPE][\"server_id\"] !== undefined) {\n",
       "      const bk_div = document.createElement(\"div\");\n",
       "      bk_div.innerHTML = output.data[HTML_MIME_TYPE];\n",
       "      const script_attrs = bk_div.children[0].attributes;\n",
       "      for (let i = 0; i < script_attrs.length; i++) {\n",
       "        toinsert[toinsert.length - 1].firstChild.setAttribute(script_attrs[i].name, script_attrs[i].value);\n",
       "        toinsert[toinsert.length - 1].firstChild.textContent = bk_div.children[0].textContent\n",
       "      }\n",
       "      // store reference to server id on output_area\n",
       "      output_area._bokeh_server_id = output.metadata[EXEC_MIME_TYPE][\"server_id\"];\n",
       "    }\n",
       "  }\n",
       "\n",
       "  function register_renderer(events, OutputArea) {\n",
       "\n",
       "    function append_mime(data, metadata, element) {\n",
       "      // create a DOM node to render to\n",
       "      const toinsert = this.create_output_subarea(\n",
       "        metadata,\n",
       "        CLASS_NAME,\n",
       "        EXEC_MIME_TYPE\n",
       "      );\n",
       "      this.keyboard_manager.register_events(toinsert);\n",
       "      // Render to node\n",
       "      const props = {data: data, metadata: metadata[EXEC_MIME_TYPE]};\n",
       "      render(props, toinsert[toinsert.length - 1]);\n",
       "      element.append(toinsert);\n",
       "      return toinsert\n",
       "    }\n",
       "\n",
       "    /* Handle when an output is cleared or removed */\n",
       "    events.on('clear_output.CodeCell', handleClearOutput);\n",
       "    events.on('delete.Cell', handleClearOutput);\n",
       "\n",
       "    /* Handle when a new output is added */\n",
       "    events.on('output_added.OutputArea', handleAddOutput);\n",
       "\n",
       "    /**\n",
       "     * Register the mime type and append_mime function with output_area\n",
       "     */\n",
       "    OutputArea.prototype.register_mime_type(EXEC_MIME_TYPE, append_mime, {\n",
       "      /* Is output safe? */\n",
       "      safe: true,\n",
       "      /* Index of renderer in `output_area.display_order` */\n",
       "      index: 0\n",
       "    });\n",
       "  }\n",
       "\n",
       "  // register the mime type if in Jupyter Notebook environment and previously unregistered\n",
       "  if (root.Jupyter !== undefined) {\n",
       "    const events = require('base/js/events');\n",
       "    const OutputArea = require('notebook/js/outputarea').OutputArea;\n",
       "\n",
       "    if (OutputArea.prototype.mime_types().indexOf(EXEC_MIME_TYPE) == -1) {\n",
       "      register_renderer(events, OutputArea);\n",
       "    }\n",
       "  }\n",
       "  if (typeof (root._bokeh_timeout) === \"undefined\" || force === true) {\n",
       "    root._bokeh_timeout = Date.now() + 5000;\n",
       "    root._bokeh_failed_load = false;\n",
       "  }\n",
       "\n",
       "  const NB_LOAD_WARNING = {'data': {'text/html':\n",
       "     \"<div style='background-color: #fdd'>\\n\"+\n",
       "     \"<p>\\n\"+\n",
       "     \"BokehJS does not appear to have successfully loaded. If loading BokehJS from CDN, this \\n\"+\n",
       "     \"may be due to a slow or bad network connection. Possible fixes:\\n\"+\n",
       "     \"</p>\\n\"+\n",
       "     \"<ul>\\n\"+\n",
       "     \"<li>re-rerun `output_notebook()` to attempt to load from CDN again, or</li>\\n\"+\n",
       "     \"<li>use INLINE resources instead, as so:</li>\\n\"+\n",
       "     \"</ul>\\n\"+\n",
       "     \"<code>\\n\"+\n",
       "     \"from bokeh.resources import INLINE\\n\"+\n",
       "     \"output_notebook(resources=INLINE)\\n\"+\n",
       "     \"</code>\\n\"+\n",
       "     \"</div>\"}};\n",
       "\n",
       "  function display_loaded() {\n",
       "    const el = document.getElementById(\"65459\");\n",
       "    if (el != null) {\n",
       "      el.textContent = \"BokehJS is loading...\";\n",
       "    }\n",
       "    if (root.Bokeh !== undefined) {\n",
       "      if (el != null) {\n",
       "        el.textContent = \"BokehJS \" + root.Bokeh.version + \" successfully loaded.\";\n",
       "      }\n",
       "    } else if (Date.now() < root._bokeh_timeout) {\n",
       "      setTimeout(display_loaded, 100)\n",
       "    }\n",
       "  }\n",
       "\n",
       "  function run_callbacks() {\n",
       "    try {\n",
       "      root._bokeh_onload_callbacks.forEach(function(callback) {\n",
       "        if (callback != null)\n",
       "          callback();\n",
       "      });\n",
       "    } finally {\n",
       "      delete root._bokeh_onload_callbacks\n",
       "    }\n",
       "    console.debug(\"Bokeh: all callbacks have finished\");\n",
       "  }\n",
       "\n",
       "  function load_libs(css_urls, js_urls, callback) {\n",
       "    if (css_urls == null) css_urls = [];\n",
       "    if (js_urls == null) js_urls = [];\n",
       "\n",
       "    root._bokeh_onload_callbacks.push(callback);\n",
       "    if (root._bokeh_is_loading > 0) {\n",
       "      console.debug(\"Bokeh: BokehJS is being loaded, scheduling callback at\", now());\n",
       "      return null;\n",
       "    }\n",
       "    if (js_urls == null || js_urls.length === 0) {\n",
       "      run_callbacks();\n",
       "      return null;\n",
       "    }\n",
       "    console.debug(\"Bokeh: BokehJS not loaded, scheduling load and callback at\", now());\n",
       "    root._bokeh_is_loading = css_urls.length + js_urls.length;\n",
       "\n",
       "    function on_load() {\n",
       "      root._bokeh_is_loading--;\n",
       "      if (root._bokeh_is_loading === 0) {\n",
       "        console.debug(\"Bokeh: all BokehJS libraries/stylesheets loaded\");\n",
       "        run_callbacks()\n",
       "      }\n",
       "    }\n",
       "\n",
       "    function on_error(url) {\n",
       "      console.error(\"failed to load \" + url);\n",
       "    }\n",
       "\n",
       "    for (let i = 0; i < css_urls.length; i++) {\n",
       "      const url = css_urls[i];\n",
       "      const element = document.createElement(\"link\");\n",
       "      element.onload = on_load;\n",
       "      element.onerror = on_error.bind(null, url);\n",
       "      element.rel = \"stylesheet\";\n",
       "      element.type = \"text/css\";\n",
       "      element.href = url;\n",
       "      console.debug(\"Bokeh: injecting link tag for BokehJS stylesheet: \", url);\n",
       "      document.body.appendChild(element);\n",
       "    }\n",
       "\n",
       "    for (let i = 0; i < js_urls.length; i++) {\n",
       "      const url = js_urls[i];\n",
       "      const element = document.createElement('script');\n",
       "      element.onload = on_load;\n",
       "      element.onerror = on_error.bind(null, url);\n",
       "      element.async = false;\n",
       "      element.src = url;\n",
       "      console.debug(\"Bokeh: injecting script tag for BokehJS library: \", url);\n",
       "      document.head.appendChild(element);\n",
       "    }\n",
       "  };\n",
       "\n",
       "  function inject_raw_css(css) {\n",
       "    const element = document.createElement(\"style\");\n",
       "    element.appendChild(document.createTextNode(css));\n",
       "    document.body.appendChild(element);\n",
       "  }\n",
       "\n",
       "  const js_urls = [\"https://cdn.bokeh.org/bokeh/release/bokeh-2.4.3.min.js\", \"https://cdn.bokeh.org/bokeh/release/bokeh-gl-2.4.3.min.js\", \"https://cdn.bokeh.org/bokeh/release/bokeh-widgets-2.4.3.min.js\", \"https://cdn.bokeh.org/bokeh/release/bokeh-tables-2.4.3.min.js\", \"https://cdn.bokeh.org/bokeh/release/bokeh-mathjax-2.4.3.min.js\"];\n",
       "  const css_urls = [];\n",
       "\n",
       "  const inline_js = [    function(Bokeh) {\n",
       "      Bokeh.set_log_level(\"info\");\n",
       "    },\n",
       "function(Bokeh) {\n",
       "    }\n",
       "  ];\n",
       "\n",
       "  function run_inline_js() {\n",
       "    if (root.Bokeh !== undefined || force === true) {\n",
       "          for (let i = 0; i < inline_js.length; i++) {\n",
       "      inline_js[i].call(root, root.Bokeh);\n",
       "    }\n",
       "if (force === true) {\n",
       "        display_loaded();\n",
       "      }} else if (Date.now() < root._bokeh_timeout) {\n",
       "      setTimeout(run_inline_js, 100);\n",
       "    } else if (!root._bokeh_failed_load) {\n",
       "      console.log(\"Bokeh: BokehJS failed to load within specified timeout.\");\n",
       "      root._bokeh_failed_load = true;\n",
       "    } else if (force !== true) {\n",
       "      const cell = $(document.getElementById(\"65459\")).parents('.cell').data().cell;\n",
       "      cell.output_area.append_execute_result(NB_LOAD_WARNING)\n",
       "    }\n",
       "  }\n",
       "\n",
       "  if (root._bokeh_is_loading === 0) {\n",
       "    console.debug(\"Bokeh: BokehJS loaded, going straight to plotting\");\n",
       "    run_inline_js();\n",
       "  } else {\n",
       "    load_libs(css_urls, js_urls, function() {\n",
       "      console.debug(\"Bokeh: BokehJS plotting callback run at\", now());\n",
       "      run_inline_js();\n",
       "    });\n",
       "  }\n",
       "}(window));"
      ],
      "application/vnd.bokehjs_load.v0+json": "(function(root) {\n  function now() {\n    return new Date();\n  }\n\n  const force = true;\n\n  if (typeof root._bokeh_onload_callbacks === \"undefined\" || force === true) {\n    root._bokeh_onload_callbacks = [];\n    root._bokeh_is_loading = undefined;\n  }\n\n\n  if (typeof (root._bokeh_timeout) === \"undefined\" || force === true) {\n    root._bokeh_timeout = Date.now() + 5000;\n    root._bokeh_failed_load = false;\n  }\n\n  const NB_LOAD_WARNING = {'data': {'text/html':\n     \"<div style='background-color: #fdd'>\\n\"+\n     \"<p>\\n\"+\n     \"BokehJS does not appear to have successfully loaded. If loading BokehJS from CDN, this \\n\"+\n     \"may be due to a slow or bad network connection. Possible fixes:\\n\"+\n     \"</p>\\n\"+\n     \"<ul>\\n\"+\n     \"<li>re-rerun `output_notebook()` to attempt to load from CDN again, or</li>\\n\"+\n     \"<li>use INLINE resources instead, as so:</li>\\n\"+\n     \"</ul>\\n\"+\n     \"<code>\\n\"+\n     \"from bokeh.resources import INLINE\\n\"+\n     \"output_notebook(resources=INLINE)\\n\"+\n     \"</code>\\n\"+\n     \"</div>\"}};\n\n  function display_loaded() {\n    const el = document.getElementById(\"65459\");\n    if (el != null) {\n      el.textContent = \"BokehJS is loading...\";\n    }\n    if (root.Bokeh !== undefined) {\n      if (el != null) {\n        el.textContent = \"BokehJS \" + root.Bokeh.version + \" successfully loaded.\";\n      }\n    } else if (Date.now() < root._bokeh_timeout) {\n      setTimeout(display_loaded, 100)\n    }\n  }\n\n  function run_callbacks() {\n    try {\n      root._bokeh_onload_callbacks.forEach(function(callback) {\n        if (callback != null)\n          callback();\n      });\n    } finally {\n      delete root._bokeh_onload_callbacks\n    }\n    console.debug(\"Bokeh: all callbacks have finished\");\n  }\n\n  function load_libs(css_urls, js_urls, callback) {\n    if (css_urls == null) css_urls = [];\n    if (js_urls == null) js_urls = [];\n\n    root._bokeh_onload_callbacks.push(callback);\n    if (root._bokeh_is_loading > 0) {\n      console.debug(\"Bokeh: BokehJS is being loaded, scheduling callback at\", now());\n      return null;\n    }\n    if (js_urls == null || js_urls.length === 0) {\n      run_callbacks();\n      return null;\n    }\n    console.debug(\"Bokeh: BokehJS not loaded, scheduling load and callback at\", now());\n    root._bokeh_is_loading = css_urls.length + js_urls.length;\n\n    function on_load() {\n      root._bokeh_is_loading--;\n      if (root._bokeh_is_loading === 0) {\n        console.debug(\"Bokeh: all BokehJS libraries/stylesheets loaded\");\n        run_callbacks()\n      }\n    }\n\n    function on_error(url) {\n      console.error(\"failed to load \" + url);\n    }\n\n    for (let i = 0; i < css_urls.length; i++) {\n      const url = css_urls[i];\n      const element = document.createElement(\"link\");\n      element.onload = on_load;\n      element.onerror = on_error.bind(null, url);\n      element.rel = \"stylesheet\";\n      element.type = \"text/css\";\n      element.href = url;\n      console.debug(\"Bokeh: injecting link tag for BokehJS stylesheet: \", url);\n      document.body.appendChild(element);\n    }\n\n    for (let i = 0; i < js_urls.length; i++) {\n      const url = js_urls[i];\n      const element = document.createElement('script');\n      element.onload = on_load;\n      element.onerror = on_error.bind(null, url);\n      element.async = false;\n      element.src = url;\n      console.debug(\"Bokeh: injecting script tag for BokehJS library: \", url);\n      document.head.appendChild(element);\n    }\n  };\n\n  function inject_raw_css(css) {\n    const element = document.createElement(\"style\");\n    element.appendChild(document.createTextNode(css));\n    document.body.appendChild(element);\n  }\n\n  const js_urls = [\"https://cdn.bokeh.org/bokeh/release/bokeh-2.4.3.min.js\", \"https://cdn.bokeh.org/bokeh/release/bokeh-gl-2.4.3.min.js\", \"https://cdn.bokeh.org/bokeh/release/bokeh-widgets-2.4.3.min.js\", \"https://cdn.bokeh.org/bokeh/release/bokeh-tables-2.4.3.min.js\", \"https://cdn.bokeh.org/bokeh/release/bokeh-mathjax-2.4.3.min.js\"];\n  const css_urls = [];\n\n  const inline_js = [    function(Bokeh) {\n      Bokeh.set_log_level(\"info\");\n    },\nfunction(Bokeh) {\n    }\n  ];\n\n  function run_inline_js() {\n    if (root.Bokeh !== undefined || force === true) {\n          for (let i = 0; i < inline_js.length; i++) {\n      inline_js[i].call(root, root.Bokeh);\n    }\nif (force === true) {\n        display_loaded();\n      }} else if (Date.now() < root._bokeh_timeout) {\n      setTimeout(run_inline_js, 100);\n    } else if (!root._bokeh_failed_load) {\n      console.log(\"Bokeh: BokehJS failed to load within specified timeout.\");\n      root._bokeh_failed_load = true;\n    } else if (force !== true) {\n      const cell = $(document.getElementById(\"65459\")).parents('.cell').data().cell;\n      cell.output_area.append_execute_result(NB_LOAD_WARNING)\n    }\n  }\n\n  if (root._bokeh_is_loading === 0) {\n    console.debug(\"Bokeh: BokehJS loaded, going straight to plotting\");\n    run_inline_js();\n  } else {\n    load_libs(css_urls, js_urls, function() {\n      console.debug(\"Bokeh: BokehJS plotting callback run at\", now());\n      run_inline_js();\n    });\n  }\n}(window));"
     },
     "metadata": {},
     "output_type": "display_data"
    }
   ],
   "source": [
    "from bokeh.io import output_notebook\n",
    "\n",
    "output_notebook()"
   ]
  },
  {
   "cell_type": "markdown",
   "id": "83bb6a37-ddf4-4e15-8b15-fe10f7526be7",
   "metadata": {},
   "source": []
  },
  {
   "cell_type": "code",
   "execution_count": 220,
   "id": "1f381368-c7e5-47f1-b1ee-4aa700df0816",
   "metadata": {},
   "outputs": [
    {
     "data": {
      "text/html": [
       "\n",
       "  <div class=\"bk-root\" id=\"181589b1-f01f-49a0-af48-5cd2bffb7564\" data-root-id=\"67941\"></div>\n"
      ]
     },
     "metadata": {},
     "output_type": "display_data"
    },
    {
     "data": {
      "application/javascript": [
       "(function(root) {\n",
       "  function embed_document(root) {\n",
       "  const docs_json = {\"af0e7186-5355-49d8-aea2-4de7ba7773fb\":{\"defs\":[],\"roots\":{\"references\":[{\"attributes\":{\"below\":[{\"id\":\"67952\"}],\"center\":[{\"id\":\"67955\"},{\"id\":\"67958\"}],\"height\":300,\"left\":[{\"id\":\"67956\"}],\"renderers\":[{\"id\":\"67975\"}],\"title\":{\"id\":\"67942\"},\"toolbar\":{\"id\":\"67964\"},\"toolbar_location\":\"above\",\"width\":800,\"x_range\":{\"id\":\"67944\"},\"x_scale\":{\"id\":\"67948\"},\"y_range\":{\"id\":\"67946\"},\"y_scale\":{\"id\":\"67950\"}},\"id\":\"67941\",\"subtype\":\"Figure\",\"type\":\"Plot\"},{\"attributes\":{\"dimensions\":\"width\"},\"id\":\"67963\",\"type\":\"PanTool\"},{\"attributes\":{\"data\":{\"color\":[\"#208F8C\",\"#208F8C\",\"#208F8C\",\"#208F8C\",\"#208F8C\",\"#208F8C\",\"#208F8C\",\"#208F8C\",\"#440154\",\"#440154\",\"#440154\",\"#440154\",\"#440154\",\"#440154\",\"#440154\",\"#440154\",\"#FDE724\",\"#FDE724\",\"#FDE724\",\"#FDE724\",\"#FDE724\",\"#FDE724\",\"#FDE724\",\"#FDE724\",\"#440154\",\"#440154\",\"#440154\",\"#440154\",\"#440154\",\"#440154\",\"#440154\",\"#440154\"],\"function\":[\"_frozen_phonon(, atoms=_, seeds=tuple([*]))\",\"_frozen_phonon(, atoms=_, seeds=tuple([*]))\",\"_frozen_phonon(, atoms=_, seeds=tuple([*]))\",\"_frozen_phonon(, atoms=_, seeds=tuple([*]))\",\"_frozen_phonon(, atoms=_, seeds=tuple([*]))\",\"_frozen_phonon(, atoms=_, seeds=tuple([*]))\",\"_frozen_phonon(, atoms=_, seeds=tuple([*]))\",\"_frozen_phonon(, atoms=_, seeds=tuple([*]))\",\"_\",\"_\",\"_\",\"_\",\"_\",\"_\",\"_\",\"_\",\"subgraph_callable-38478718-f4a3-4f41-82a2-28a5d157(concatenate_axes(...))\",\"subgraph_callable-38478718-f4a3-4f41-82a2-28a5d157(concatenate_axes(...))\",\"subgraph_callable-38478718-f4a3-4f41-82a2-28a5d157(concatenate_axes(...))\",\"subgraph_callable-38478718-f4a3-4f41-82a2-28a5d157(concatenate_axes(...))\",\"subgraph_callable-38478718-f4a3-4f41-82a2-28a5d157(concatenate_axes(...))\",\"subgraph_callable-38478718-f4a3-4f41-82a2-28a5d157(concatenate_axes(...))\",\"subgraph_callable-38478718-f4a3-4f41-82a2-28a5d157(concatenate_axes(...))\",\"subgraph_callable-38478718-f4a3-4f41-82a2-28a5d157(concatenate_axes(...))\",\"_\",\"_\",\"_\",\"_\",\"_\",\"_\",\"_\",\"_\"],\"key\":[\"('from-value-frozen_phonon-concatenate-ac63745444b2bc7ab9e2dc2848d4ab5b', 3)\",\"('from-value-frozen_phonon-concatenate-ac63745444b2bc7ab9e2dc2848d4ab5b', 0)\",\"('from-value-frozen_phonon-concatenate-ac63745444b2bc7ab9e2dc2848d4ab5b', 1)\",\"('from-value-frozen_phonon-concatenate-ac63745444b2bc7ab9e2dc2848d4ab5b', 2)\",\"('from-value-frozen_phonon-concatenate-ac63745444b2bc7ab9e2dc2848d4ab5b', 4)\",\"('from-value-frozen_phonon-concatenate-ac63745444b2bc7ab9e2dc2848d4ab5b', 5)\",\"('from-value-frozen_phonon-concatenate-ac63745444b2bc7ab9e2dc2848d4ab5b', 6)\",\"('from-value-frozen_phonon-concatenate-ac63745444b2bc7ab9e2dc2848d4ab5b', 7)\",\"('concatenate-ac63745444b2bc7ab9e2dc2848d4ab5b', 3)\",\"('concatenate-ac63745444b2bc7ab9e2dc2848d4ab5b', 0)\",\"('concatenate-ac63745444b2bc7ab9e2dc2848d4ab5b', 1)\",\"('concatenate-ac63745444b2bc7ab9e2dc2848d4ab5b', 2)\",\"('concatenate-ac63745444b2bc7ab9e2dc2848d4ab5b', 4)\",\"('concatenate-ac63745444b2bc7ab9e2dc2848d4ab5b', 5)\",\"('concatenate-ac63745444b2bc7ab9e2dc2848d4ab5b', 6)\",\"('concatenate-ac63745444b2bc7ab9e2dc2848d4ab5b', 7)\",\"('diffraction_pattern-integrate_fourier_space-2c6a310b123c4534a91d5422bf96b010', 3, 0, 0)\",\"('diffraction_pattern-integrate_fourier_space-2c6a310b123c4534a91d5422bf96b010', 0, 0, 0)\",\"('diffraction_pattern-integrate_fourier_space-2c6a310b123c4534a91d5422bf96b010', 1, 0, 0)\",\"('diffraction_pattern-integrate_fourier_space-2c6a310b123c4534a91d5422bf96b010', 2, 0, 0)\",\"('diffraction_pattern-integrate_fourier_space-2c6a310b123c4534a91d5422bf96b010', 4, 0, 0)\",\"('diffraction_pattern-integrate_fourier_space-2c6a310b123c4534a91d5422bf96b010', 5, 0, 0)\",\"('diffraction_pattern-integrate_fourier_space-2c6a310b123c4534a91d5422bf96b010', 6, 0, 0)\",\"('diffraction_pattern-integrate_fourier_space-2c6a310b123c4534a91d5422bf96b010', 7, 0, 0)\",\"('integrate_fourier_space-2c6a310b123c4534a91d5422bf96b010', 1, 0, 0)\",\"('integrate_fourier_space-2c6a310b123c4534a91d5422bf96b010', 3, 0, 0)\",\"('integrate_fourier_space-2c6a310b123c4534a91d5422bf96b010', 6, 0, 0)\",\"('integrate_fourier_space-2c6a310b123c4534a91d5422bf96b010', 2, 0, 0)\",\"('integrate_fourier_space-2c6a310b123c4534a91d5422bf96b010', 4, 0, 0)\",\"('integrate_fourier_space-2c6a310b123c4534a91d5422bf96b010', 0, 0, 0)\",\"('integrate_fourier_space-2c6a310b123c4534a91d5422bf96b010', 5, 0, 0)\",\"('integrate_fourier_space-2c6a310b123c4534a91d5422bf96b010', 7, 0, 0)\"],\"width\":[0.0023717929998383624,0.0023661089999222895,0.00243892400067125,0.0025555620013619773,0.002713996998863877,0.0026229449995298637,0.0026350780008215224,0.002650848999110167,0.001729820998662035,0.001673827999184141,0.0020222380007908214,0.002217287001258228,0.018380846000582096,0.019272972000180744,0.024405074000242166,0.04177348000121128,2.4988741650013253,2.6597917749986664,2.4922836639998422,2.6029653850000614,2.6261060380002164,2.730084976999933,2.4579273449999164,2.710255985999538,0.0009995230011554668,0.0004655410011764616,0.00038971700087131467,0.0003361569997650804,0.00017736600057105534,0.00026683800024329685,0.0003680379995785188,0.00020825399951718282],\"x\":[0.0011858964990096865,0.001501516499047284,0.0017020460018102312,0.0019288780003989814,0.002187085499826935,0.0025179724998452002,0.0026942919994326076,0.002857668501746957,0.0035035685014008777,0.0037276450002536876,0.004177036000328371,0.0046124335003696615,0.012988234999284032,0.013619950999782304,0.016356997000912088,0.02522468899951491,1.253966741500335,1.3350254365013825,1.2518095810009982,1.3235868854990258,1.3362339239993162,1.3935480484997242,1.2749640285001078,1.4088332160008576,2.50379018249987,2.5040708715005167,2.504440919501576,2.6261114765020466,2.651175504001003,2.6663692310012266,2.7593716490009683,2.764402490001885],\"y\":[4,4,4,4,4,4,4,4,7,8,6,5,4,7,3,6,1,4,2,3,6,5,8,7,2,8,2,8,1,8,6,3]},\"selected\":{\"id\":\"67985\"},\"selection_policy\":{\"id\":\"67984\"}},\"id\":\"67970\",\"type\":\"ColumnDataSource\"},{\"attributes\":{\"axis\":{\"id\":\"67956\"},\"coordinates\":null,\"dimension\":1,\"grid_line_color\":null,\"group\":null,\"ticker\":null},\"id\":\"67958\",\"type\":\"Grid\"},{\"attributes\":{\"coordinates\":null,\"group\":null,\"text\":\"Profile Results\"},\"id\":\"67942\",\"type\":\"Title\"},{\"attributes\":{\"fill_alpha\":{\"value\":0.1},\"fill_color\":{\"field\":\"color\"},\"hatch_alpha\":{\"value\":0.1},\"hatch_color\":{\"field\":\"color\"},\"height\":{\"value\":1},\"line_alpha\":{\"value\":0.1},\"line_color\":{\"value\":\"gray\"},\"width\":{\"field\":\"width\"},\"x\":{\"field\":\"x\"},\"y\":{\"field\":\"y\"}},\"id\":\"67973\",\"type\":\"Rect\"},{\"attributes\":{\"end\":2.764506617000734},\"id\":\"67944\",\"type\":\"Range1d\"},{\"attributes\":{},\"id\":\"67984\",\"type\":\"UnionRenderers\"},{\"attributes\":{\"axis_label\":\"Worker ID\",\"axis_line_color\":null,\"coordinates\":null,\"formatter\":{\"id\":\"67979\"},\"group\":null,\"major_label_policy\":{\"id\":\"67980\"},\"major_tick_line_color\":null,\"ticker\":{\"id\":\"67957\"}},\"id\":\"67956\",\"type\":\"CategoricalAxis\"},{\"attributes\":{\"coordinates\":null,\"data_source\":{\"id\":\"67970\"},\"glyph\":{\"id\":\"67972\"},\"group\":null,\"hover_glyph\":null,\"muted_glyph\":{\"id\":\"67974\"},\"nonselection_glyph\":{\"id\":\"67973\"},\"view\":{\"id\":\"67976\"}},\"id\":\"67975\",\"type\":\"GlyphRenderer\"},{\"attributes\":{\"axis_label\":\"Time (s)\",\"axis_line_color\":null,\"coordinates\":null,\"formatter\":{\"id\":\"67982\"},\"group\":null,\"major_label_policy\":{\"id\":\"67983\"},\"major_tick_line_color\":null,\"ticker\":{\"id\":\"67953\"}},\"id\":\"67952\",\"type\":\"LinearAxis\"},{\"attributes\":{\"dimensions\":\"width\"},\"id\":\"67962\",\"type\":\"WheelZoomTool\"},{\"attributes\":{},\"id\":\"67982\",\"type\":\"BasicTickFormatter\"},{\"attributes\":{\"fill_alpha\":{\"value\":0.2},\"fill_color\":{\"field\":\"color\"},\"hatch_alpha\":{\"value\":0.2},\"hatch_color\":{\"field\":\"color\"},\"height\":{\"value\":1},\"line_alpha\":{\"value\":0.2},\"line_color\":{\"value\":\"gray\"},\"width\":{\"field\":\"width\"},\"x\":{\"field\":\"x\"},\"y\":{\"field\":\"y\"}},\"id\":\"67974\",\"type\":\"Rect\"},{\"attributes\":{\"axis\":{\"id\":\"67952\"},\"coordinates\":null,\"grid_line_color\":null,\"group\":null,\"ticker\":null},\"id\":\"67955\",\"type\":\"Grid\"},{\"attributes\":{\"fill_color\":{\"field\":\"color\"},\"hatch_color\":{\"field\":\"color\"},\"height\":{\"value\":1},\"line_color\":{\"value\":\"gray\"},\"width\":{\"field\":\"width\"},\"x\":{\"field\":\"x\"},\"y\":{\"field\":\"y\"}},\"id\":\"67972\",\"type\":\"Rect\"},{\"attributes\":{\"tools\":[{\"id\":\"67959\"},{\"id\":\"67960\"},{\"id\":\"67961\"},{\"id\":\"67962\"},{\"id\":\"67963\"}]},\"id\":\"67964\",\"type\":\"Toolbar\"},{\"attributes\":{},\"id\":\"67983\",\"type\":\"AllLabels\"},{\"attributes\":{},\"id\":\"67957\",\"type\":\"CategoricalTicker\"},{\"attributes\":{\"factors\":[\"0\",\"1\",\"2\",\"3\",\"4\",\"5\",\"6\",\"7\"]},\"id\":\"67946\",\"type\":\"FactorRange\"},{\"attributes\":{},\"id\":\"67948\",\"type\":\"LinearScale\"},{\"attributes\":{},\"id\":\"67979\",\"type\":\"CategoricalTickFormatter\"},{\"attributes\":{},\"id\":\"67980\",\"type\":\"AllLabels\"},{\"attributes\":{},\"id\":\"67960\",\"type\":\"SaveTool\"},{\"attributes\":{\"callback\":null,\"point_policy\":\"follow_mouse\",\"tooltips\":\"\\n    <div>\\n        <span style=\\\"font-size: 14px; font-weight: bold;\\\">Key:</span>&nbsp;\\n        <span style=\\\"font-size: 10px; font-family: Monaco, monospace;\\\">@key</span>\\n    </div>\\n    <div>\\n        <span style=\\\"font-size: 14px; font-weight: bold;\\\">Task:</span>&nbsp;\\n        <span style=\\\"font-size: 10px; font-family: Monaco, monospace;\\\">@function</span>\\n    </div>\\n    \"},\"id\":\"67959\",\"type\":\"HoverTool\"},{\"attributes\":{},\"id\":\"67953\",\"type\":\"BasicTicker\"},{\"attributes\":{\"source\":{\"id\":\"67970\"}},\"id\":\"67976\",\"type\":\"CDSView\"},{\"attributes\":{},\"id\":\"67985\",\"type\":\"Selection\"},{\"attributes\":{},\"id\":\"67961\",\"type\":\"ResetTool\"},{\"attributes\":{},\"id\":\"67950\",\"type\":\"CategoricalScale\"}],\"root_ids\":[\"67941\"]},\"title\":\"Bokeh Application\",\"version\":\"2.4.3\"}};\n",
       "  const render_items = [{\"docid\":\"af0e7186-5355-49d8-aea2-4de7ba7773fb\",\"root_ids\":[\"67941\"],\"roots\":{\"67941\":\"181589b1-f01f-49a0-af48-5cd2bffb7564\"}}];\n",
       "  root.Bokeh.embed.embed_items_notebook(docs_json, render_items);\n",
       "  }\n",
       "  if (root.Bokeh !== undefined) {\n",
       "    embed_document(root);\n",
       "  } else {\n",
       "    let attempts = 0;\n",
       "    const timer = setInterval(function(root) {\n",
       "      if (root.Bokeh !== undefined) {\n",
       "        clearInterval(timer);\n",
       "        embed_document(root);\n",
       "      } else {\n",
       "        attempts++;\n",
       "        if (attempts > 100) {\n",
       "          clearInterval(timer);\n",
       "          console.log(\"Bokeh: ERROR: Unable to run BokehJS code because BokehJS library is missing\");\n",
       "        }\n",
       "      }\n",
       "    }, 10, root)\n",
       "  }\n",
       "})(window);"
      ],
      "application/vnd.bokehjs_exec.v0+json": ""
     },
     "metadata": {
      "application/vnd.bokehjs_exec.v0+json": {
       "id": "67941"
      }
     },
     "output_type": "display_data"
    }
   ],
   "source": [
    "profilers[0].visualize();"
   ]
  },
  {
   "cell_type": "markdown",
   "id": "8b6a45fd-0e90-4e04-8d45-7e2af790537e",
   "metadata": {},
   "source": [
    "We ran this code on an Intel Core-I9 with four cores and two threads per core. Dask shows \n",
    "\n",
    "\n",
    "We should not expect $800 \\ \\%$ , however $400$\n",
    "\n",
    "This is not because we did not utilize every thread, rather, we only utilized each individual thread less than $100 \\ \\%$. This is largely because the size  \n",
    "\n"
   ]
  },
  {
   "cell_type": "code",
   "execution_count": 221,
   "id": "c5789e21-5ba9-4588-850d-c1ded6763aa6",
   "metadata": {},
   "outputs": [
    {
     "data": {
      "text/html": [
       "\n",
       "  <div class=\"bk-root\" id=\"f21cd552-b75f-47f5-9dcf-82203649684c\" data-root-id=\"69172\"></div>\n"
      ]
     },
     "metadata": {},
     "output_type": "display_data"
    },
    {
     "data": {
      "application/javascript": [
       "(function(root) {\n",
       "  function embed_document(root) {\n",
       "  const docs_json = {\"646cae6e-a088-409a-93a3-8c5cefac7e61\":{\"defs\":[],\"roots\":{\"references\":[{\"attributes\":{\"below\":[{\"id\":\"69183\"}],\"center\":[{\"id\":\"69186\"},{\"id\":\"69190\"},{\"id\":\"69215\"}],\"extra_y_ranges\":{\"memory\":{\"id\":\"69217\"}},\"height\":300,\"left\":[{\"id\":\"69187\"}],\"renderers\":[{\"id\":\"69204\"},{\"id\":\"69222\"}],\"right\":[{\"id\":\"69236\"}],\"title\":{\"id\":\"69173\"},\"toolbar\":{\"id\":\"69195\"},\"toolbar_location\":\"above\",\"width\":800,\"x_range\":{\"id\":\"69175\"},\"x_scale\":{\"id\":\"69179\"},\"y_range\":{\"id\":\"69177\"},\"y_scale\":{\"id\":\"69181\"}},\"id\":\"69172\",\"subtype\":\"Figure\",\"type\":\"Plot\"},{\"attributes\":{},\"id\":\"69211\",\"type\":\"BasicTickFormatter\"},{\"attributes\":{\"end\":2217.02144,\"start\":1520.447488},\"id\":\"69217\",\"type\":\"Range1d\"},{\"attributes\":{\"line_alpha\":0.1,\"line_color\":\"#440154\",\"line_width\":4,\"x\":{\"field\":\"x\"},\"y\":{\"field\":\"y\"}},\"id\":\"69202\",\"type\":\"Line\"},{\"attributes\":{\"axis\":{\"id\":\"69183\"},\"coordinates\":null,\"group\":null,\"ticker\":null},\"id\":\"69186\",\"type\":\"Grid\"},{\"attributes\":{},\"id\":\"70384\",\"type\":\"AllLabels\"},{\"attributes\":{\"line_color\":\"#440154\",\"line_width\":4,\"x\":{\"field\":\"x\"},\"y\":{\"field\":\"y\"}},\"id\":\"69201\",\"type\":\"Line\"},{\"attributes\":{\"source\":{\"id\":\"69218\"}},\"id\":\"69223\",\"type\":\"CDSView\"},{\"attributes\":{\"line_color\":\"#29788E\",\"line_width\":4,\"x\":{\"field\":\"x\"},\"y\":{\"field\":\"y\"}},\"id\":\"69219\",\"type\":\"Line\"},{\"attributes\":{},\"id\":\"69192\",\"type\":\"ResetTool\"},{\"attributes\":{},\"id\":\"69181\",\"type\":\"LinearScale\"},{\"attributes\":{\"tools\":[{\"id\":\"69191\"},{\"id\":\"69192\"},{\"id\":\"69193\"},{\"id\":\"69194\"}]},\"id\":\"69195\",\"type\":\"Toolbar\"},{\"attributes\":{\"dimensions\":\"width\"},\"id\":\"69193\",\"type\":\"WheelZoomTool\"},{\"attributes\":{\"axis_label\":\"% CPU\",\"coordinates\":null,\"formatter\":{\"id\":\"69208\"},\"group\":null,\"major_label_policy\":{\"id\":\"69209\"},\"ticker\":{\"id\":\"69188\"}},\"id\":\"69187\",\"type\":\"LinearAxis\"},{\"attributes\":{},\"id\":\"70382\",\"type\":\"BasicTicker\"},{\"attributes\":{\"line_alpha\":0.2,\"line_color\":\"#29788E\",\"line_width\":4,\"x\":{\"field\":\"x\"},\"y\":{\"field\":\"y\"}},\"id\":\"69221\",\"type\":\"Line\"},{\"attributes\":{\"data\":{\"x\":[0.0,1.0100973670000002,2.0104174230000003],\"y\":[1520.447488,2191.007744,2217.02144]},\"selected\":{\"id\":\"69234\"},\"selection_policy\":{\"id\":\"69233\"}},\"id\":\"69218\",\"type\":\"ColumnDataSource\"},{\"attributes\":{},\"id\":\"69184\",\"type\":\"BasicTicker\"},{\"attributes\":{},\"id\":\"69179\",\"type\":\"LinearScale\"},{\"attributes\":{},\"id\":\"69188\",\"type\":\"BasicTicker\"},{\"attributes\":{\"coordinates\":null,\"data_source\":{\"id\":\"69218\"},\"glyph\":{\"id\":\"69219\"},\"group\":null,\"hover_glyph\":null,\"muted_glyph\":{\"id\":\"69221\"},\"nonselection_glyph\":{\"id\":\"69220\"},\"view\":{\"id\":\"69223\"},\"y_range_name\":\"memory\"},\"id\":\"69222\",\"type\":\"GlyphRenderer\"},{\"attributes\":{\"coordinates\":null,\"group\":null,\"items\":[{\"id\":\"69216\"},{\"id\":\"69235\"}]},\"id\":\"69215\",\"type\":\"Legend\"},{\"attributes\":{},\"id\":\"69212\",\"type\":\"AllLabels\"},{\"attributes\":{\"source\":{\"id\":\"69200\"}},\"id\":\"69205\",\"type\":\"CDSView\"},{\"attributes\":{},\"id\":\"69209\",\"type\":\"AllLabels\"},{\"attributes\":{},\"id\":\"69213\",\"type\":\"UnionRenderers\"},{\"attributes\":{\"axis_label\":\"Time (s)\",\"coordinates\":null,\"formatter\":{\"id\":\"69211\"},\"group\":null,\"major_label_policy\":{\"id\":\"69212\"},\"ticker\":{\"id\":\"69184\"}},\"id\":\"69183\",\"type\":\"LinearAxis\"},{\"attributes\":{\"axis_label\":\"Memory (MB)\",\"coordinates\":null,\"formatter\":{\"id\":\"70383\"},\"group\":null,\"major_label_policy\":{\"id\":\"70384\"},\"ticker\":{\"id\":\"70382\"},\"y_range_name\":\"memory\"},\"id\":\"69236\",\"type\":\"LinearAxis\"},{\"attributes\":{\"axis\":{\"id\":\"69187\"},\"coordinates\":null,\"dimension\":1,\"group\":null,\"ticker\":null},\"id\":\"69190\",\"type\":\"Grid\"},{\"attributes\":{\"dimensions\":\"width\"},\"id\":\"69194\",\"type\":\"PanTool\"},{\"attributes\":{},\"id\":\"69214\",\"type\":\"Selection\"},{\"attributes\":{\"line_alpha\":0.1,\"line_color\":\"#29788E\",\"line_width\":4,\"x\":{\"field\":\"x\"},\"y\":{\"field\":\"y\"}},\"id\":\"69220\",\"type\":\"Line\"},{\"attributes\":{\"coordinates\":null,\"group\":null,\"text\":\"Profile Results\"},\"id\":\"69173\",\"type\":\"Title\"},{\"attributes\":{\"end\":2.0104174230000003},\"id\":\"69175\",\"type\":\"Range1d\"},{\"attributes\":{\"line_alpha\":0.2,\"line_color\":\"#440154\",\"line_width\":4,\"x\":{\"field\":\"x\"},\"y\":{\"field\":\"y\"}},\"id\":\"69203\",\"type\":\"Line\"},{\"attributes\":{},\"id\":\"69191\",\"type\":\"SaveTool\"},{\"attributes\":{\"end\":541.4},\"id\":\"69177\",\"type\":\"Range1d\"},{\"attributes\":{\"label\":{\"value\":\"Memory\"},\"renderers\":[{\"id\":\"69222\"}]},\"id\":\"69235\",\"type\":\"LegendItem\"},{\"attributes\":{},\"id\":\"69234\",\"type\":\"Selection\"},{\"attributes\":{\"data\":{\"x\":[0.0,1.0100973670000002,2.0104174230000003],\"y\":[0.0,518.7,541.4]},\"selected\":{\"id\":\"69214\"},\"selection_policy\":{\"id\":\"69213\"}},\"id\":\"69200\",\"type\":\"ColumnDataSource\"},{\"attributes\":{\"label\":{\"value\":\"% CPU\"},\"renderers\":[{\"id\":\"69204\"}]},\"id\":\"69216\",\"type\":\"LegendItem\"},{\"attributes\":{},\"id\":\"69208\",\"type\":\"BasicTickFormatter\"},{\"attributes\":{},\"id\":\"70383\",\"type\":\"BasicTickFormatter\"},{\"attributes\":{\"coordinates\":null,\"data_source\":{\"id\":\"69200\"},\"glyph\":{\"id\":\"69201\"},\"group\":null,\"hover_glyph\":null,\"muted_glyph\":{\"id\":\"69203\"},\"nonselection_glyph\":{\"id\":\"69202\"},\"view\":{\"id\":\"69205\"}},\"id\":\"69204\",\"type\":\"GlyphRenderer\"},{\"attributes\":{},\"id\":\"69233\",\"type\":\"UnionRenderers\"}],\"root_ids\":[\"69172\"]},\"title\":\"Bokeh Application\",\"version\":\"2.4.3\"}};\n",
       "  const render_items = [{\"docid\":\"646cae6e-a088-409a-93a3-8c5cefac7e61\",\"root_ids\":[\"69172\"],\"roots\":{\"69172\":\"f21cd552-b75f-47f5-9dcf-82203649684c\"}}];\n",
       "  root.Bokeh.embed.embed_items_notebook(docs_json, render_items);\n",
       "  }\n",
       "  if (root.Bokeh !== undefined) {\n",
       "    embed_document(root);\n",
       "  } else {\n",
       "    let attempts = 0;\n",
       "    const timer = setInterval(function(root) {\n",
       "      if (root.Bokeh !== undefined) {\n",
       "        clearInterval(timer);\n",
       "        embed_document(root);\n",
       "      } else {\n",
       "        attempts++;\n",
       "        if (attempts > 100) {\n",
       "          clearInterval(timer);\n",
       "          console.log(\"Bokeh: ERROR: Unable to run BokehJS code because BokehJS library is missing\");\n",
       "        }\n",
       "      }\n",
       "    }, 10, root)\n",
       "  }\n",
       "})(window);"
      ],
      "application/vnd.bokehjs_exec.v0+json": ""
     },
     "metadata": {
      "application/vnd.bokehjs_exec.v0+json": {
       "id": "69172"
      }
     },
     "output_type": "display_data"
    }
   ],
   "source": [
    "profilers[1].visualize();"
   ]
  },
  {
   "cell_type": "markdown",
   "id": "20a50338-2b38-4ff8-a4de-8ff55bd5e746",
   "metadata": {},
   "source": [
    "### Distributed\n",
    "\n",
    "The diagnostic tools of the distributed scheduler are even more powerful and may even be a reason to consider using the distributed scheduler locally. The distributed scheduler provides the Dask danshboard \n",
    "\n",
    "http://127.0.0.1:8787/status"
   ]
  },
  {
   "cell_type": "markdown",
   "id": "e39cb8d2-a898-478d-9831-275ac5f2f06b",
   "metadata": {
    "pycharm": {
     "name": "#%% md\n"
    }
   },
   "source": [
    "## Using GPUs\n",
    "\n",
    "Almost every part of abTEM can be accelerated using a GPU through the [CuPy](https://cupy.dev/) library. We have only tested abTEM on CUDA compatiable GPUs, however, any GPU compatible with CuPy should work.\n",
    "\n",
    "If you have a compatiable GPU and a working installation of CuPy, you can accelerate your image simulations by simply changing the configs at the top of your document as below:"
   ]
  },
  {
   "cell_type": "code",
   "execution_count": 19,
   "id": "4bbe27f1-65b2-48cf-8a96-c0da5c91b094",
   "metadata": {
    "pycharm": {
     "name": "#%%\n"
    }
   },
   "outputs": [],
   "source": [
    "abtem.config.set({\"device\": \"cpu\"});"
   ]
  }
 ],
 "metadata": {
  "kernelspec": {
   "display_name": "test_threads",
   "language": "python",
   "name": "test_threads"
  },
  "language_info": {
   "codemirror_mode": {
    "name": "ipython",
    "version": 3
   },
   "file_extension": ".py",
   "mimetype": "text/x-python",
   "name": "python",
   "nbconvert_exporter": "python",
   "pygments_lexer": "ipython3",
   "version": "3.9.13"
  },
  "widgets": {
   "application/vnd.jupyter.widget-state+json": {
    "state": {
     "003c9681038b4882a54a88a34495ebf2": {
      "model_module": "jupyter-cytoscape",
      "model_module_version": "^1.3.3",
      "model_name": "NodeModel",
      "state": {
       "_model_module_version": "^1.3.3",
       "_view_module_version": "^1.3.3",
       "data": {
        "color": "gray",
        "id": "-933516822802371220",
        "label": "intensity",
        "shape": "ellipse"
       },
       "grabbable": true,
       "grabbed": false,
       "position": {
        "x": 912.5,
        "y": 875
       },
       "selectable": false
      }
     },
     "0142f0186bb44ae98194bd9c43678e35": {
      "model_module": "jupyter-cytoscape",
      "model_module_version": "^1.3.3",
      "model_name": "EdgeModel",
      "state": {
       "_model_module_version": "^1.3.3",
       "_view_module_version": "^1.3.3",
       "classes": " directed ",
       "data": {
        "id": "e5dfb534-f9bf-41ec-a377-050c56ceb434",
        "source": "4991817002546876692",
        "target": "4590575770570883928"
       },
       "selectable": false
      }
     },
     "037849cf4827411d8c329fea4eaee44a": {
      "model_module": "jupyter-cytoscape",
      "model_module_version": "^1.3.3",
      "model_name": "EdgeModel",
      "state": {
       "_model_module_version": "^1.3.3",
       "_view_module_version": "^1.3.3",
       "classes": " directed ",
       "data": {
        "id": "27affb67-fd9a-42fd-8c67-f89a38de0f68",
        "source": "-8119595567297417993",
        "target": "-9203193094098579554"
       },
       "selectable": false
      }
     },
     "04c55ecc8bbf44e082d93165efd86034": {
      "model_module": "jupyter-cytoscape",
      "model_module_version": "^1.3.3",
      "model_name": "NodeModel",
      "state": {
       "_model_module_version": "^1.3.3",
       "_view_module_version": "^1.3.3",
       "data": {
        "color": "gray",
        "id": "-3406921137376322128",
        "label": "extract_measurement",
        "shape": "ellipse"
       },
       "grabbable": true,
       "grabbed": false,
       "position": {
        "x": 1279.5,
        "y": 1115
       },
       "selectable": false
      }
     },
     "04d3e7e8eca0487bab6cfbe3e4cf63c5": {
      "model_module": "jupyter-cytoscape",
      "model_module_version": "^1.3.3",
      "model_name": "NodeModel",
      "state": {
       "_model_module_version": "^1.3.3",
       "_view_module_version": "^1.3.3",
       "data": {
        "color": "gray",
        "id": "2348523458023353802",
        "label": "",
        "shape": "rectangle"
       },
       "grabbable": true,
       "grabbed": false,
       "position": {
        "x": 178.5,
        "y": 1955
       },
       "selectable": false
      }
     },
     "06c6e921eedf4d5d9a99e163e88d0839": {
      "model_module": "jupyter-cytoscape",
      "model_module_version": "^1.3.3",
      "model_name": "NodeModel",
      "state": {
       "_model_module_version": "^1.3.3",
       "_view_module_version": "^1.3.3",
       "data": {
        "color": "gray",
        "id": "923328652090316804",
        "label": "(1, 0, 0)",
        "shape": "rectangle"
       },
       "grabbable": true,
       "grabbed": false,
       "position": {
        "x": 1096,
        "y": 275
       },
       "selectable": false
      }
     },
     "08cb6d5eff4c4e49b3eeb4785d41fff3": {
      "model_module": "jupyter-cytoscape",
      "model_module_version": "^1.3.3",
      "model_name": "NodeModel",
      "state": {
       "_model_module_version": "^1.3.3",
       "_view_module_version": "^1.3.3",
       "data": {
        "color": "gray",
        "id": "4754151910659613828",
        "label": "(1, 0, 0)",
        "shape": "rectangle"
       },
       "grabbable": true,
       "grabbed": false,
       "position": {
        "x": 545.5,
        "y": 755
       },
       "selectable": false
      }
     },
     "090fc042ee7d44b29edcd3c90d920435": {
      "model_module": "jupyter-cytoscape",
      "model_module_version": "^1.3.3",
      "model_name": "EdgeModel",
      "state": {
       "_model_module_version": "^1.3.3",
       "_view_module_version": "^1.3.3",
       "classes": " directed ",
       "data": {
        "id": "f0809557-2098-41a9-bb54-70e32298efb4",
        "source": "-8963094274165971322",
        "target": "2465485290832801966"
       },
       "selectable": false
      }
     },
     "09761006a81748428be7d11cf3b186e1": {
      "model_module": "jupyter-cytoscape",
      "model_module_version": "^1.3.3",
      "model_name": "NodeModel",
      "state": {
       "_model_module_version": "^1.3.3",
       "_view_module_version": "^1.3.3",
       "data": {
        "color": "gray",
        "id": "530793556203103033",
        "label": "mean_combine-partial",
        "shape": "ellipse"
       },
       "grabbable": true,
       "grabbed": false,
       "position": {
        "x": 362,
        "y": 395
       },
       "selectable": false
      }
     },
     "0a0a57be755f413db72d96f449a7481c": {
      "model_module": "jupyter-cytoscape",
      "model_module_version": "^1.3.3",
      "model_name": "EdgeModel",
      "state": {
       "_model_module_version": "^1.3.3",
       "_view_module_version": "^1.3.3",
       "classes": " directed ",
       "data": {
        "id": "0ffe84aa-1365-4121-93ab-343668b8f0da",
        "source": "4284789892316670812",
        "target": "-7405629666560167244"
       },
       "selectable": false
      }
     },
     "0d4823e054ec4a979159f7b2b66aa9a0": {
      "model_module": "jupyter-cytoscape",
      "model_module_version": "^1.3.3",
      "model_name": "EdgeModel",
      "state": {
       "_model_module_version": "^1.3.3",
       "_view_module_version": "^1.3.3",
       "classes": " directed ",
       "data": {
        "id": "5974e2e0-cf38-4f92-b0de-f177d5456a58",
        "source": "4007774962747953975",
        "target": "530793556203103033"
       },
       "selectable": false
      }
     },
     "0df928ce24a14e34a01c97a1baa77ee5": {
      "model_module": "@jupyter-widgets/base",
      "model_module_version": "2.0.0",
      "model_name": "LayoutModel",
      "state": {
       "_model_name": "LayoutModel",
       "_view_name": "ErrorWidgetView",
       "align_content": null,
       "align_items": null,
       "align_self": null,
       "border": null,
       "bottom": null,
       "display": null,
       "error": {},
       "flex": null,
       "flex_flow": null,
       "grid_area": null,
       "grid_auto_columns": null,
       "grid_auto_flow": null,
       "grid_auto_rows": null,
       "grid_column": null,
       "grid_gap": null,
       "grid_row": null,
       "grid_template_areas": null,
       "grid_template_columns": null,
       "grid_template_rows": null,
       "height": "400px",
       "justify_content": null,
       "justify_items": null,
       "left": null,
       "margin": null,
       "max_height": null,
       "max_width": null,
       "min_height": null,
       "min_width": null,
       "msg": "Failed to load model class 'LayoutModel' from module '@jupyter-widgets/base'",
       "object_fit": null,
       "object_position": null,
       "order": null,
       "overflow": null,
       "overflow_x": null,
       "overflow_y": null,
       "padding": null,
       "right": null,
       "top": null,
       "visibility": null,
       "width": null
      }
     },
     "0ecf7e9246ca423dac219ac7f08c8af7": {
      "model_module": "jupyter-cytoscape",
      "model_module_version": "^1.3.3",
      "model_name": "EdgeModel",
      "state": {
       "_model_module_version": "^1.3.3",
       "_view_module_version": "^1.3.3",
       "classes": " directed ",
       "data": {
        "id": "e027d753-7f41-44c8-bfdf-a053d5f374f1",
        "source": "3469922011544708248",
        "target": "4141631500508242373"
       },
       "selectable": false
      }
     },
     "10119cfc92b84d8c8414e5a1bedd02cc": {
      "model_module": "jupyter-cytoscape",
      "model_module_version": "^1.3.3",
      "model_name": "EdgeModel",
      "state": {
       "_model_module_version": "^1.3.3",
       "_view_module_version": "^1.3.3",
       "classes": " directed ",
       "data": {
        "id": "e6f95fb2-5963-4522-b956-12a85204e99d",
        "source": "530793556203103033",
        "target": "696471277815720"
       },
       "selectable": false
      }
     },
     "11600dd87b2c420c98f694ef3a754a85": {
      "model_module": "jupyter-cytoscape",
      "model_module_version": "^1.3.3",
      "model_name": "NodeModel",
      "state": {
       "_model_module_version": "^1.3.3",
       "_view_module_version": "^1.3.3",
       "data": {
        "color": "gray",
        "id": "8086419373411149531",
        "label": "(1, 0, 0)",
        "shape": "rectangle"
       },
       "grabbable": true,
       "grabbed": false,
       "position": {
        "x": 545.5,
        "y": 995
       },
       "selectable": false
      }
     },
     "1254ccecb38b482396ebc2181be48ea1": {
      "model_module": "jupyter-cytoscape",
      "model_module_version": "^1.3.3",
      "model_name": "EdgeModel",
      "state": {
       "_model_module_version": "^1.3.3",
       "_view_module_version": "^1.3.3",
       "classes": " directed ",
       "data": {
        "id": "44a73413-802a-4db9-a651-9db5781c67a9",
        "source": "-5006927691918128058",
        "target": "-751442528464453993"
       },
       "selectable": false
      }
     },
     "13cf10ff12f54d698b3dd908590e0cff": {
      "model_module": "jupyter-cytoscape",
      "model_module_version": "^1.3.3",
      "model_name": "NodeModel",
      "state": {
       "_model_module_version": "^1.3.3",
       "_view_module_version": "^1.3.3",
       "data": {
        "color": "gray",
        "id": "1200226053435554483",
        "label": "(3, 0, 0)",
        "shape": "rectangle"
       },
       "grabbable": true,
       "grabbed": false,
       "position": {
        "x": 1279.5,
        "y": 35
       },
       "selectable": false
      }
     },
     "14bdaac385bc4fda9e1bb278a8f28343": {
      "model_module": "jupyter-cytoscape",
      "model_module_version": "^1.3.3",
      "model_name": "EdgeModel",
      "state": {
       "_model_module_version": "^1.3.3",
       "_view_module_version": "^1.3.3",
       "classes": " directed ",
       "data": {
        "id": "0b91f96e-bb63-4024-addd-bd55d51c073a",
        "source": "5445623426437488738",
        "target": "4404835587749764547"
       },
       "selectable": false
      }
     },
     "161561d3b9764ca789a04b21e871acd9": {
      "model_module": "jupyter-cytoscape",
      "model_module_version": "^1.3.3",
      "model_name": "EdgeModel",
      "state": {
       "_model_module_version": "^1.3.3",
       "_view_module_version": "^1.3.3",
       "classes": " directed ",
       "data": {
        "id": "3e46e4bf-c276-4044-9c70-1d537cb6c37b",
        "source": "6859144207816615557",
        "target": "6521982915627942169"
       },
       "selectable": false
      }
     },
     "16bc26287a6149909a326c9618c5b923": {
      "model_module": "jupyter-cytoscape",
      "model_module_version": "^1.3.3",
      "model_name": "GraphModel",
      "state": {
       "_adj": {},
       "_model_module_version": "^1.3.3",
       "_view_module": "jupyter-cytoscape",
       "_view_module_version": "^1.3.3"
      }
     },
     "1a582c7aa78d4320bc4c0de75cb709c1": {
      "model_module": "jupyter-cytoscape",
      "model_module_version": "^1.3.3",
      "model_name": "NodeModel",
      "state": {
       "_model_module_version": "^1.3.3",
       "_view_module_version": "^1.3.3",
       "data": {
        "color": "gray",
        "id": "2032348127390612076",
        "label": "1",
        "shape": "rectangle"
       },
       "grabbable": true,
       "grabbed": false,
       "position": {
        "x": 545.5,
        "y": 1235
       },
       "selectable": false
      }
     },
     "1c400a55881e40e7b5cb946f0ebc7abc": {
      "model_module": "jupyter-cytoscape",
      "model_module_version": "^1.3.3",
      "model_name": "NodeModel",
      "state": {
       "_model_module_version": "^1.3.3",
       "_view_module_version": "^1.3.3",
       "data": {
        "color": "gray",
        "id": "5445623426437488738",
        "label": "frozen_phonon",
        "shape": "ellipse"
       },
       "grabbable": true,
       "grabbed": false,
       "position": {
        "x": 1279.5,
        "y": 1835
       },
       "selectable": false
      }
     },
     "1f5d3d3387c04f04a43e10b4ec0fa0ba": {
      "model_module": "jupyter-cytoscape",
      "model_module_version": "^1.3.3",
      "model_name": "EdgeModel",
      "state": {
       "_model_module_version": "^1.3.3",
       "_view_module_version": "^1.3.3",
       "classes": " directed ",
       "data": {
        "id": "674ae711-9dce-413a-9665-e850bf546fe1",
        "source": "2465485290832801966",
        "target": "-4475292628711386349"
       },
       "selectable": false
      }
     },
     "1ff9ade90a4e4f18b2729d897043a072": {
      "model_module": "jupyter-cytoscape",
      "model_module_version": "^1.3.3",
      "model_name": "EdgeModel",
      "state": {
       "_model_module_version": "^1.3.3",
       "_view_module_version": "^1.3.3",
       "classes": " directed ",
       "data": {
        "id": "d022766c-efa0-4d82-9cea-6d5213f385a1",
        "source": "-7348527547036669263",
        "target": "3469922011544708248"
       },
       "selectable": false
      }
     },
     "2194f7ee08fe437e96875299d93a4dc5": {
      "model_module": "jupyter-cytoscape",
      "model_module_version": "^1.3.3",
      "model_name": "NodeModel",
      "state": {
       "_model_module_version": "^1.3.3",
       "_view_module_version": "^1.3.3",
       "data": {
        "color": "gray",
        "id": "-5912613140114651892",
        "label": "0",
        "shape": "rectangle"
       },
       "grabbable": true,
       "grabbed": false,
       "position": {
        "x": 912.5,
        "y": 635
       },
       "selectable": false
      }
     },
     "2243e3eeb460441197b238ae77e92daf": {
      "model_module": "jupyter-cytoscape",
      "model_module_version": "^1.3.3",
      "model_name": "NodeModel",
      "state": {
       "_model_module_version": "^1.3.3",
       "_view_module_version": "^1.3.3",
       "data": {
        "color": "gray",
        "id": "6859144207816615557",
        "label": "frozen_phonon",
        "shape": "ellipse"
       },
       "grabbable": true,
       "grabbed": false,
       "position": {
        "x": 178.5,
        "y": 875
       },
       "selectable": false
      }
     },
     "25ebd14e06a34d36810ef4faae4d04d5": {
      "model_module": "jupyter-cytoscape",
      "model_module_version": "^1.3.3",
      "model_name": "EdgeModel",
      "state": {
       "_model_module_version": "^1.3.3",
       "_view_module_version": "^1.3.3",
       "classes": " directed ",
       "data": {
        "id": "4f8a0e29-7cee-4526-af9a-4e8bb586d922",
        "source": "4590575770570883928",
        "target": "-3165961374497234373"
       },
       "selectable": false
      }
     },
     "27b3ba7155164a24a868e9304a28b020": {
      "model_module": "jupyter-cytoscape",
      "model_module_version": "^1.3.3",
      "model_name": "EdgeModel",
      "state": {
       "_model_module_version": "^1.3.3",
       "_view_module_version": "^1.3.3",
       "classes": " directed ",
       "data": {
        "id": "31791484-c0b0-4fac-bfdb-33f3d260c904",
        "source": "-840886790934670838",
        "target": "-5006927691918128058"
       },
       "selectable": false
      }
     },
     "28743a58e23542a8abad8fa893eb4ff9": {
      "model_module": "jupyter-cytoscape",
      "model_module_version": "^1.3.3",
      "model_name": "NodeModel",
      "state": {
       "_model_module_version": "^1.3.3",
       "_view_module_version": "^1.3.3",
       "data": {
        "color": "gray",
        "id": "3469922011544708248",
        "label": "build_waves_multislice_detect",
        "shape": "ellipse"
       },
       "grabbable": true,
       "grabbed": false,
       "position": {
        "x": 912.5,
        "y": 395
       },
       "selectable": false
      }
     },
     "2d1a428bd3d445d5938f5bfe6af6cc35": {
      "model_module": "jupyter-cytoscape",
      "model_module_version": "^1.3.3",
      "model_name": "EdgeModel",
      "state": {
       "_model_module_version": "^1.3.3",
       "_view_module_version": "^1.3.3",
       "classes": " directed ",
       "data": {
        "id": "95c1c8b7-b800-4a59-83d3-c0001529e9c9",
        "source": "1140298105136515211",
        "target": "-4724641587111696038"
       },
       "selectable": false
      }
     },
     "327db5fea7b74f9da74009ab6186440b": {
      "model_module": "jupyter-cytoscape",
      "model_module_version": "^1.3.3",
      "model_name": "NodeModel",
      "state": {
       "_model_module_version": "^1.3.3",
       "_view_module_version": "^1.3.3",
       "data": {
        "color": "gray",
        "id": "4991817002546876692",
        "label": "0",
        "shape": "rectangle"
       },
       "grabbable": true,
       "grabbed": false,
       "position": {
        "x": 545.5,
        "y": 1595
       },
       "selectable": false
      }
     },
     "32b91f41dd8044eda964f3b83dd37b99": {
      "model_module": "jupyter-cytoscape",
      "model_module_version": "^1.3.3",
      "model_name": "NodeModel",
      "state": {
       "_model_module_version": "^1.3.3",
       "_view_module_version": "^1.3.3",
       "data": {
        "color": "gray",
        "id": "1140298105136515211",
        "label": "",
        "shape": "rectangle"
       },
       "grabbable": true,
       "grabbed": false,
       "position": {
        "x": 545.5,
        "y": 995
       },
       "selectable": false
      }
     },
     "34fd38f8b4b847cf82876b6911dc936e": {
      "model_module": "jupyter-cytoscape",
      "model_module_version": "^1.3.3",
      "model_name": "NodeModel",
      "state": {
       "_model_module_version": "^1.3.3",
       "_view_module_version": "^1.3.3",
       "data": {
        "color": "gray",
        "id": "-4475292628711386349",
        "label": "0",
        "shape": "rectangle"
       },
       "grabbable": true,
       "grabbed": false,
       "position": {
        "x": 178.5,
        "y": 275
       },
       "selectable": false
      }
     },
     "35dc1de8db43422c8da53a64f833a0d0": {
      "model_module": "jupyter-cytoscape",
      "model_module_version": "^1.3.3",
      "model_name": "NodeModel",
      "state": {
       "_model_module_version": "^1.3.3",
       "_view_module_version": "^1.3.3",
       "data": {
        "color": "gray",
        "id": "5445623426437488738",
        "label": "frozen_phonon",
        "shape": "ellipse"
       },
       "grabbable": true,
       "grabbed": false,
       "position": {
        "x": 1279.5,
        "y": 875
       },
       "selectable": false
      }
     },
     "370f5913760f44218a9c9f242c9d903a": {
      "model_module": "jupyter-cytoscape",
      "model_module_version": "^1.3.3",
      "model_name": "EdgeModel",
      "state": {
       "_model_module_version": "^1.3.3",
       "_view_module_version": "^1.3.3",
       "classes": " directed ",
       "data": {
        "id": "c60317d2-20ee-4e92-9971-cb1c0c812443",
        "source": "8966269833224774983",
        "target": "3257709649814184405"
       },
       "selectable": false
      }
     },
     "37352f6003a647b1aef71e7c12d7f48d": {
      "model_module": "jupyter-cytoscape",
      "model_module_version": "^1.3.3",
      "model_name": "NodeModel",
      "state": {
       "_model_module_version": "^1.3.3",
       "_view_module_version": "^1.3.3",
       "data": {
        "color": "gray",
        "id": "-9163112643500544353",
        "label": "mean_chunk",
        "shape": "ellipse"
       },
       "grabbable": true,
       "grabbed": false,
       "position": {
        "x": 912.5,
        "y": 635
       },
       "selectable": false
      }
     },
     "37c3ff54c29d416299af2a4bc0385a90": {
      "model_module": "@jupyter-widgets/base",
      "model_module_version": "2.0.0",
      "model_name": "LayoutModel",
      "state": {
       "_model_name": "LayoutModel",
       "_view_name": "ErrorWidgetView",
       "align_content": null,
       "align_items": null,
       "align_self": null,
       "border": null,
       "bottom": null,
       "display": null,
       "error": {},
       "flex": null,
       "flex_flow": null,
       "grid_area": null,
       "grid_auto_columns": null,
       "grid_auto_flow": null,
       "grid_auto_rows": null,
       "grid_column": null,
       "grid_gap": null,
       "grid_row": null,
       "grid_template_areas": null,
       "grid_template_columns": null,
       "grid_template_rows": null,
       "height": "400px",
       "justify_content": null,
       "justify_items": null,
       "left": null,
       "margin": null,
       "max_height": null,
       "max_width": null,
       "min_height": null,
       "min_width": null,
       "msg": "Failed to load model class 'LayoutModel' from module '@jupyter-widgets/base'",
       "object_fit": null,
       "object_position": null,
       "order": null,
       "overflow": null,
       "overflow_x": null,
       "overflow_y": null,
       "padding": null,
       "right": null,
       "top": null,
       "visibility": null,
       "width": null
      }
     },
     "382ff044bedc4cada875392864b5cf05": {
      "model_module": "jupyter-cytoscape",
      "model_module_version": "^1.3.3",
      "model_name": "EdgeModel",
      "state": {
       "_model_module_version": "^1.3.3",
       "_view_module_version": "^1.3.3",
       "classes": " directed ",
       "data": {
        "id": "13656abe-3505-44d4-b622-83addee85510",
        "source": "4590575770570883928",
        "target": "-3165961374497234373"
       },
       "selectable": false
      }
     },
     "3b3079ceb98b4c5da0879f62290d742c": {
      "model_module": "jupyter-cytoscape",
      "model_module_version": "^1.3.3",
      "model_name": "NodeModel",
      "state": {
       "_model_module_version": "^1.3.3",
       "_view_module_version": "^1.3.3",
       "data": {
        "color": "gray",
        "id": "696471277815720",
        "label": "(0, 0, 0)",
        "shape": "rectangle"
       },
       "grabbable": true,
       "grabbed": false,
       "position": {
        "x": 362,
        "y": 275
       },
       "selectable": false
      }
     },
     "3b777ef787e64b1ba9c48f46dd33a6f9": {
      "model_module": "jupyter-cytoscape",
      "model_module_version": "^1.3.3",
      "model_name": "EdgeModel",
      "state": {
       "_model_module_version": "^1.3.3",
       "_view_module_version": "^1.3.3",
       "classes": " directed ",
       "data": {
        "id": "71be1778-7c71-4fbd-bd80-0fc71333b441",
        "source": "-3421152007899703746",
        "target": "8086419373411149531"
       },
       "selectable": false
      }
     },
     "3d2c35a422894f99a5787cc9837ce678": {
      "model_module": "jupyter-cytoscape",
      "model_module_version": "^1.3.3",
      "model_name": "EdgeModel",
      "state": {
       "_model_module_version": "^1.3.3",
       "_view_module_version": "^1.3.3",
       "classes": " directed ",
       "data": {
        "id": "b350b48d-a17c-484f-a620-82480f04b97d",
        "source": "-4475292628711386349",
        "target": "8966269833224774983"
       },
       "selectable": false
      }
     },
     "3e88242a39544e88bc783e67c5623acd": {
      "model_module": "jupyter-cytoscape",
      "model_module_version": "^1.3.3",
      "model_name": "NodeModel",
      "state": {
       "_model_module_version": "^1.3.3",
       "_view_module_version": "^1.3.3",
       "data": {
        "color": "gray",
        "id": "-4643870365125550949",
        "label": "(2, 0, 0)",
        "shape": "rectangle"
       },
       "grabbable": true,
       "grabbed": false,
       "position": {
        "x": 912.5,
        "y": 515
       },
       "selectable": false
      }
     },
     "3ee80d1ec96943009d6ea8d63921bb8d": {
      "model_module": "jupyter-cytoscape",
      "model_module_version": "^1.3.3",
      "model_name": "NodeModel",
      "state": {
       "_model_module_version": "^1.3.3",
       "_view_module_version": "^1.3.3",
       "data": {
        "color": "gray",
        "id": "-5006927691918128058",
        "label": "build_waves_multislice_detect",
        "shape": "ellipse"
       },
       "grabbable": true,
       "grabbed": false,
       "position": {
        "x": 1279.5,
        "y": 395
       },
       "selectable": false
      }
     },
     "3fc433e0df3c4a469a23c59cf7d8eea3": {
      "model_module": "jupyter-cytoscape",
      "model_module_version": "^1.3.3",
      "model_name": "EdgeModel",
      "state": {
       "_model_module_version": "^1.3.3",
       "_view_module_version": "^1.3.3",
       "classes": " directed ",
       "data": {
        "id": "d7a15cfa-d31f-41fa-bc7f-08099843a60f",
        "source": "-5912613140114651892",
        "target": "-7348527547036669263"
       },
       "selectable": false
      }
     },
     "4030b871e8ba45dcb77c0ac8923a8a9f": {
      "model_module": "jupyter-cytoscape",
      "model_module_version": "^1.3.3",
      "model_name": "GraphModel",
      "state": {
       "_adj": {},
       "_model_module_version": "^1.3.3",
       "_view_module": "jupyter-cytoscape",
       "_view_module_version": "^1.3.3"
      }
     },
     "4091fa8bde8041eb89eb7d927bbf83ab": {
      "model_module": "jupyter-cytoscape",
      "model_module_version": "^1.3.3",
      "model_name": "EdgeModel",
      "state": {
       "_model_module_version": "^1.3.3",
       "_view_module_version": "^1.3.3",
       "classes": " directed ",
       "data": {
        "id": "59db318d-6ffb-4720-9882-aa2fb76c4997",
        "source": "6521982915627942169",
        "target": "-3854565742365507736"
       },
       "selectable": false
      }
     },
     "4266b31ba4fb450c8e9e14c3105506cf": {
      "model_module": "jupyter-cytoscape",
      "model_module_version": "^1.3.3",
      "model_name": "EdgeModel",
      "state": {
       "_model_module_version": "^1.3.3",
       "_view_module_version": "^1.3.3",
       "classes": " directed ",
       "data": {
        "id": "ca98b5ea-0748-4f66-bc46-ac5834327536",
        "source": "3469922011544708248",
        "target": "4141631500508242373"
       },
       "selectable": false
      }
     },
     "440af5d53878489c9c0c9bf9670e0681": {
      "model_module": "jupyter-cytoscape",
      "model_module_version": "^1.3.3",
      "model_name": "EdgeModel",
      "state": {
       "_model_module_version": "^1.3.3",
       "_view_module_version": "^1.3.3",
       "classes": " directed ",
       "data": {
        "id": "0cafcc9a-e0fc-4862-a3c5-9e8c098a58e7",
        "source": "-840886790934670838",
        "target": "-5006927691918128058"
       },
       "selectable": false
      }
     },
     "44172b9b413a4fc28f12539dd333a489": {
      "model_module": "jupyter-cytoscape",
      "model_module_version": "^1.3.3",
      "model_name": "EdgeModel",
      "state": {
       "_model_module_version": "^1.3.3",
       "_view_module_version": "^1.3.3",
       "classes": " directed ",
       "data": {
        "id": "79eb284c-8c3c-4bf1-85d5-e873709d1ea7",
        "source": "4754151910659613828",
        "target": "2505755073948310226"
       },
       "selectable": false
      }
     },
     "447043e5b8e64265998c58d184b85f2a": {
      "model_module": "jupyter-cytoscape",
      "model_module_version": "^1.3.3",
      "model_name": "NodeModel",
      "state": {
       "_model_module_version": "^1.3.3",
       "_view_module_version": "^1.3.3",
       "data": {
        "color": "gray",
        "id": "6521982915627942169",
        "label": "",
        "shape": "rectangle"
       },
       "grabbable": true,
       "grabbed": false,
       "position": {
        "x": 178.5,
        "y": 1715
       },
       "selectable": false
      }
     },
     "45155a2fe93e4357aa8f59346730efa3": {
      "model_module": "jupyter-cytoscape",
      "model_module_version": "^1.3.3",
      "model_name": "CytoscapeModel",
      "state": {
       "_interaction_handlers": {},
       "_model_module_version": "^1.3.3",
       "_view_module_version": "^1.3.3",
       "auto_ungrabify": false,
       "autolock": false,
       "cytoscape_layout": {
        "edgeSep": 10,
        "name": "dagre",
        "nodeDimensionsIncludeLabels": true,
        "nodeSep": 10,
        "rankDir": "BT",
        "spacingFactor": 1
       },
       "cytoscape_style": [
        {
         "selector": "node",
         "style": {
          "background-color": "#eee",
          "border-color": "data(color)",
          "border-width": 4,
          "color": "black",
          "font-family": "helvetica",
          "font-size": "24px",
          "font-weight": "bold",
          "height": 64,
          "label": "data(label)",
          "opacity": "1.0",
          "shape": "data(shape)",
          "text-halign": "center",
          "text-valign": "center",
          "width": 64
         }
        },
        {
         "selector": "edge",
         "style": {
          "curve-style": "bezier",
          "line-color": "gray",
          "target-arrow-color": "gray",
          "target-arrow-shape": "triangle",
          "width": 8
         }
        }
       ],
       "desktop_tap_threshold": 4,
       "graph": "IPY_MODEL_7c15a79091b74381a6c939131c07b423",
       "headless": false,
       "hide_edges_on_viewport": false,
       "layout": "IPY_MODEL_0df928ce24a14e34a01c97a1baa77ee5",
       "max_zoom": 4,
       "min_zoom": 0.2,
       "motion_blur": false,
       "motion_blur_opacity": 0.2,
       "panning_enabled": true,
       "pixel_ratio": "auto",
       "rendered_position": {
        "renderedPosition": {
         "x": 100,
         "y": 100
        }
       },
       "selection_type": "single",
       "style_enabled": true,
       "texture_on_viewport": false,
       "tooltip_source": "tooltip",
       "touch_tap_threshold": 8,
       "user_panning_enabled": true,
       "user_zooming_enabled": true,
       "wheel_sensitivity": 0.1,
       "zoom": 2,
       "zooming_enabled": true
      }
     },
     "46eb5a6436ab4c589d1322b67596f237": {
      "model_module": "jupyter-cytoscape",
      "model_module_version": "^1.3.3",
      "model_name": "NodeModel",
      "state": {
       "_model_module_version": "^1.3.3",
       "_view_module_version": "^1.3.3",
       "data": {
        "color": "gray",
        "id": "-6530398792300349348",
        "label": "(3, 0, 0)",
        "shape": "rectangle"
       },
       "grabbable": true,
       "grabbed": false,
       "position": {
        "x": 1279.5,
        "y": 755
       },
       "selectable": false
      }
     },
     "47a53b34072b4c18b040c0cd0b1509e4": {
      "model_module": "jupyter-cytoscape",
      "model_module_version": "^1.3.3",
      "model_name": "EdgeModel",
      "state": {
       "_model_module_version": "^1.3.3",
       "_view_module_version": "^1.3.3",
       "classes": " directed ",
       "data": {
        "id": "38d00816-42f3-40bb-8235-07e8ac508206",
        "source": "3257709649814184405",
        "target": "5336497445711599868"
       },
       "selectable": false
      }
     },
     "48343509b09140c49ae7c753be0f1bb2": {
      "model_module": "jupyter-cytoscape",
      "model_module_version": "^1.3.3",
      "model_name": "EdgeModel",
      "state": {
       "_model_module_version": "^1.3.3",
       "_view_module_version": "^1.3.3",
       "classes": " directed ",
       "data": {
        "id": "9502e7e4-52b7-4216-925d-15fe0333d412",
        "source": "8086419373411149531",
        "target": "-5275290406316927842"
       },
       "selectable": false
      }
     },
     "496fd5794315472e922fec92a2d1b1d3": {
      "model_module": "jupyter-cytoscape",
      "model_module_version": "^1.3.3",
      "model_name": "EdgeModel",
      "state": {
       "_model_module_version": "^1.3.3",
       "_view_module_version": "^1.3.3",
       "classes": " directed ",
       "data": {
        "id": "4c8aaff1-dd75-487b-985b-1c4148087fff",
        "source": "4991817002546876692",
        "target": "4590575770570883928"
       },
       "selectable": false
      }
     },
     "4979d63bd8b749eeb779c683c5c803f1": {
      "model_module": "jupyter-cytoscape",
      "model_module_version": "^1.3.3",
      "model_name": "NodeModel",
      "state": {
       "_model_module_version": "^1.3.3",
       "_view_module_version": "^1.3.3",
       "data": {
        "color": "gray",
        "id": "-7405629666560167244",
        "label": "",
        "shape": "rectangle"
       },
       "grabbable": true,
       "grabbed": false,
       "position": {
        "x": 912.5,
        "y": 1715
       },
       "selectable": false
      }
     },
     "4a6929a95ad946bcb1e9e63c8e7fee54": {
      "model_module": "jupyter-cytoscape",
      "model_module_version": "^1.3.3",
      "model_name": "NodeModel",
      "state": {
       "_model_module_version": "^1.3.3",
       "_view_module_version": "^1.3.3",
       "data": {
        "color": "gray",
        "id": "-751442528464453993",
        "label": "3",
        "shape": "rectangle"
       },
       "grabbable": true,
       "grabbed": false,
       "position": {
        "x": 1279.5,
        "y": 275
       },
       "selectable": false
      }
     },
     "4b55b625f3ba445394aa7021535621d4": {
      "model_module": "jupyter-cytoscape",
      "model_module_version": "^1.3.3",
      "model_name": "EdgeModel",
      "state": {
       "_model_module_version": "^1.3.3",
       "_view_module_version": "^1.3.3",
       "classes": " directed ",
       "data": {
        "id": "3de589f4-019e-4788-ac2b-50381a1d6a65",
        "source": "8229877112831480872",
        "target": "487139590792290665"
       },
       "selectable": false
      }
     },
     "4c50afa618e843359b08a9b9c0888545": {
      "model_module": "jupyter-cytoscape",
      "model_module_version": "^1.3.3",
      "model_name": "EdgeModel",
      "state": {
       "_model_module_version": "^1.3.3",
       "_view_module_version": "^1.3.3",
       "classes": " directed ",
       "data": {
        "id": "9def821a-b904-4de7-b8d6-bee831ecb91e",
        "source": "-4724641587111696038",
        "target": "-1317472723562072043"
       },
       "selectable": false
      }
     },
     "4cab41eeb2774c51aad6261759cf6afb": {
      "model_module": "jupyter-cytoscape",
      "model_module_version": "^1.3.3",
      "model_name": "NodeModel",
      "state": {
       "_model_module_version": "^1.3.3",
       "_view_module_version": "^1.3.3",
       "data": {
        "color": "gray",
        "id": "-5912613140114651892",
        "label": "0",
        "shape": "rectangle"
       },
       "grabbable": true,
       "grabbed": false,
       "position": {
        "x": 912.5,
        "y": 1595
       },
       "selectable": false
      }
     },
     "4ceb68dcbcc14f31b81b312890b04f30": {
      "model_module": "jupyter-cytoscape",
      "model_module_version": "^1.3.3",
      "model_name": "EdgeModel",
      "state": {
       "_model_module_version": "^1.3.3",
       "_view_module_version": "^1.3.3",
       "classes": " directed ",
       "data": {
        "id": "fd8e74fb-ae9e-4814-8f51-de54d61d6869",
        "source": "-4475292628711386349",
        "target": "8966269833224774983"
       },
       "selectable": false
      }
     },
     "4d09b82153194254a6e4a653137f29f8": {
      "model_module": "jupyter-cytoscape",
      "model_module_version": "^1.3.3",
      "model_name": "NodeModel",
      "state": {
       "_model_module_version": "^1.3.3",
       "_view_module_version": "^1.3.3",
       "data": {
        "color": "gray",
        "id": "8966269833224774983",
        "label": "extract_measurement",
        "shape": "ellipse"
       },
       "grabbable": true,
       "grabbed": false,
       "position": {
        "x": 178.5,
        "y": 155
       },
       "selectable": false
      }
     },
     "4d6ee4ac8c1f4d14bb5c229713b920e7": {
      "model_module": "jupyter-cytoscape",
      "model_module_version": "^1.3.3",
      "model_name": "NodeModel",
      "state": {
       "_model_module_version": "^1.3.3",
       "_view_module_version": "^1.3.3",
       "data": {
        "color": "gray",
        "id": "-2599527930638940473",
        "label": "",
        "shape": "rectangle"
       },
       "grabbable": true,
       "grabbed": false,
       "position": {
        "x": 1279.5,
        "y": 995
       },
       "selectable": false
      }
     },
     "4f87173ef75143c3bb10c6015a28342b": {
      "model_module": "jupyter-cytoscape",
      "model_module_version": "^1.3.3",
      "model_name": "EdgeModel",
      "state": {
       "_model_module_version": "^1.3.3",
       "_view_module_version": "^1.3.3",
       "classes": " directed ",
       "data": {
        "id": "06a5a4a2-bc04-447a-8fa8-4e3186df87be",
        "source": "-1328156421819520447",
        "target": "-8119595567297417993"
       },
       "selectable": false
      }
     },
     "4fee5c7eeff94541b40be3908fb8ad19": {
      "model_module": "jupyter-cytoscape",
      "model_module_version": "^1.3.3",
      "model_name": "EdgeModel",
      "state": {
       "_model_module_version": "^1.3.3",
       "_view_module_version": "^1.3.3",
       "classes": " directed ",
       "data": {
        "id": "e81f8bb0-c11e-4ae1-a991-a2129f6fce25",
        "source": "8966269833224774983",
        "target": "3257709649814184405"
       },
       "selectable": false
      }
     },
     "502aeed636804c9a9f201f716b58ed05": {
      "model_module": "jupyter-cytoscape",
      "model_module_version": "^1.3.3",
      "model_name": "EdgeModel",
      "state": {
       "_model_module_version": "^1.3.3",
       "_view_module_version": "^1.3.3",
       "classes": " directed ",
       "data": {
        "id": "7f66e770-9818-4f85-a37d-cf8b9a12bbd6",
        "source": "-7348527547036669263",
        "target": "3469922011544708248"
       },
       "selectable": false
      }
     },
     "50b51ba4175f4a19927b7bc8dd491474": {
      "model_module": "jupyter-cytoscape",
      "model_module_version": "^1.3.3",
      "model_name": "EdgeModel",
      "state": {
       "_model_module_version": "^1.3.3",
       "_view_module_version": "^1.3.3",
       "classes": " directed ",
       "data": {
        "id": "88eeb857-c2fd-4096-862c-ce8d01c98266",
        "source": "-6062111970918788071",
        "target": "530793556203103033"
       },
       "selectable": false
      }
     },
     "51b371e651d9476eb3c2e95a3407d0a7": {
      "model_module": "jupyter-cytoscape",
      "model_module_version": "^1.3.3",
      "model_name": "NodeModel",
      "state": {
       "_model_module_version": "^1.3.3",
       "_view_module_version": "^1.3.3",
       "data": {
        "color": "gray",
        "id": "2465485290832801966",
        "label": "build_waves_multislice_detect",
        "shape": "ellipse"
       },
       "grabbable": true,
       "grabbed": false,
       "position": {
        "x": 178.5,
        "y": 1355
       },
       "selectable": false
      }
     },
     "522dece3f4764aeeb69863866049464c": {
      "model_module": "jupyter-cytoscape",
      "model_module_version": "^1.3.3",
      "model_name": "NodeModel",
      "state": {
       "_model_module_version": "^1.3.3",
       "_view_module_version": "^1.3.3",
       "data": {
        "color": "gray",
        "id": "3469922011544708248",
        "label": "build_waves_multislice_detect",
        "shape": "ellipse"
       },
       "grabbable": true,
       "grabbed": false,
       "position": {
        "x": 912.5,
        "y": 1355
       },
       "selectable": false
      }
     },
     "5306c50f7d5a4252abcc4414592143f5": {
      "model_module": "jupyter-cytoscape",
      "model_module_version": "^1.3.3",
      "model_name": "NodeModel",
      "state": {
       "_model_module_version": "^1.3.3",
       "_view_module_version": "^1.3.3",
       "data": {
        "color": "gray",
        "id": "-751442528464453993",
        "label": "3",
        "shape": "rectangle"
       },
       "grabbable": true,
       "grabbed": false,
       "position": {
        "x": 1279.5,
        "y": 1235
       },
       "selectable": false
      }
     },
     "54ee7bd8a6ca4349b073c4c2eb1d87fc": {
      "model_module": "jupyter-cytoscape",
      "model_module_version": "^1.3.3",
      "model_name": "NodeModel",
      "state": {
       "_model_module_version": "^1.3.3",
       "_view_module_version": "^1.3.3",
       "data": {
        "color": "gray",
        "id": "3257709649814184405",
        "label": "(0, 0, 0)",
        "shape": "rectangle"
       },
       "grabbable": true,
       "grabbed": false,
       "position": {
        "x": 178.5,
        "y": 995
       },
       "selectable": false
      }
     },
     "56bdd3d2175941a3aeca55a80ee85d00": {
      "model_module": "jupyter-cytoscape",
      "model_module_version": "^1.3.3",
      "model_name": "NodeModel",
      "state": {
       "_model_module_version": "^1.3.3",
       "_view_module_version": "^1.3.3",
       "data": {
        "color": "gray",
        "id": "8966269833224774983",
        "label": "extract_measurement",
        "shape": "ellipse"
       },
       "grabbable": true,
       "grabbed": false,
       "position": {
        "x": 178.5,
        "y": 1115
       },
       "selectable": false
      }
     },
     "587ffa96f1784b5791c116db8adafeee": {
      "model_module": "jupyter-cytoscape",
      "model_module_version": "^1.3.3",
      "model_name": "NodeModel",
      "state": {
       "_model_module_version": "^1.3.3",
       "_view_module_version": "^1.3.3",
       "data": {
        "color": "gray",
        "id": "3968267829707438927",
        "label": "",
        "shape": "rectangle"
       },
       "grabbable": true,
       "grabbed": false,
       "position": {
        "x": 912.5,
        "y": 995
       },
       "selectable": false
      }
     },
     "598e8c0cbfa94d37a77d1999d4e8d675": {
      "model_module": "jupyter-cytoscape",
      "model_module_version": "^1.3.3",
      "model_name": "CytoscapeModel",
      "state": {
       "_interaction_handlers": {},
       "_model_module_version": "^1.3.3",
       "_view_module_version": "^1.3.3",
       "auto_ungrabify": false,
       "autolock": false,
       "cytoscape_layout": {
        "edgeSep": 10,
        "name": "dagre",
        "nodeDimensionsIncludeLabels": true,
        "nodeSep": 10,
        "rankDir": "BT",
        "spacingFactor": 1
       },
       "cytoscape_style": [
        {
         "selector": "node",
         "style": {
          "background-color": "#eee",
          "border-color": "data(color)",
          "border-width": 4,
          "color": "black",
          "font-family": "helvetica",
          "font-size": "24px",
          "font-weight": "bold",
          "height": 64,
          "label": "data(label)",
          "opacity": "1.0",
          "shape": "data(shape)",
          "text-halign": "center",
          "text-valign": "center",
          "width": 64
         }
        },
        {
         "selector": "edge",
         "style": {
          "curve-style": "bezier",
          "line-color": "gray",
          "target-arrow-color": "gray",
          "target-arrow-shape": "triangle",
          "width": 8
         }
        }
       ],
       "desktop_tap_threshold": 4,
       "graph": "IPY_MODEL_e3793581c6d343ad9821e13a3d861371",
       "headless": false,
       "hide_edges_on_viewport": false,
       "layout": "IPY_MODEL_37c3ff54c29d416299af2a4bc0385a90",
       "max_zoom": 4,
       "min_zoom": 0.2,
       "motion_blur": false,
       "motion_blur_opacity": 0.2,
       "panning_enabled": true,
       "pixel_ratio": "auto",
       "rendered_position": {
        "renderedPosition": {
         "x": 100,
         "y": 100
        }
       },
       "selection_type": "single",
       "style_enabled": true,
       "texture_on_viewport": false,
       "tooltip_source": "tooltip",
       "touch_tap_threshold": 8,
       "user_panning_enabled": true,
       "user_zooming_enabled": true,
       "wheel_sensitivity": 0.1,
       "zoom": 2,
       "zooming_enabled": true
      }
     },
     "5b8c38cd778c4b15993e7675dc68c446": {
      "model_module": "jupyter-cytoscape",
      "model_module_version": "^1.3.3",
      "model_name": "NodeModel",
      "state": {
       "_model_module_version": "^1.3.3",
       "_view_module_version": "^1.3.3",
       "data": {
        "color": "gray",
        "id": "-1317472723562072043",
        "label": "",
        "shape": "rectangle"
       },
       "grabbable": true,
       "grabbed": false,
       "position": {
        "x": 545.5,
        "y": 1715
       },
       "selectable": false
      }
     },
     "5ba69e99b11d459ab0376d56c941aabc": {
      "model_module": "jupyter-cytoscape",
      "model_module_version": "^1.3.3",
      "model_name": "EdgeModel",
      "state": {
       "_model_module_version": "^1.3.3",
       "_view_module_version": "^1.3.3",
       "classes": " directed ",
       "data": {
        "id": "7d1b67be-b159-42a4-909a-0af8a15c374a",
        "source": "-5006927691918128058",
        "target": "-751442528464453993"
       },
       "selectable": false
      }
     },
     "5bac2db307094e0a94383f55c7579bf3": {
      "model_module": "jupyter-cytoscape",
      "model_module_version": "^1.3.3",
      "model_name": "NodeModel",
      "state": {
       "_model_module_version": "^1.3.3",
       "_view_module_version": "^1.3.3",
       "data": {
        "color": "gray",
        "id": "-6062111970918788071",
        "label": "(0, 0, 0)",
        "shape": "rectangle"
       },
       "grabbable": true,
       "grabbed": false,
       "position": {
        "x": 178.5,
        "y": 515
       },
       "selectable": false
      }
     },
     "5c58db421c274c7f83bf6817c5c055d8": {
      "model_module": "jupyter-cytoscape",
      "model_module_version": "^1.3.3",
      "model_name": "EdgeModel",
      "state": {
       "_model_module_version": "^1.3.3",
       "_view_module_version": "^1.3.3",
       "classes": " directed ",
       "data": {
        "id": "b67438d3-4653-4e50-8784-6ecf949cfb2c",
        "source": "-9163112643500544353",
        "target": "-4643870365125550949"
       },
       "selectable": false
      }
     },
     "5ea049431f0a41958e86714bc781549d": {
      "model_module": "jupyter-cytoscape",
      "model_module_version": "^1.3.3",
      "model_name": "EdgeModel",
      "state": {
       "_model_module_version": "^1.3.3",
       "_view_module_version": "^1.3.3",
       "classes": " directed ",
       "data": {
        "id": "5ef82fd0-14c7-488f-b62f-b66048af75d2",
        "source": "-7405629666560167244",
        "target": "-5912613140114651892"
       },
       "selectable": false
      }
     },
     "602c1b4883f14edc940a5f221072fbd5": {
      "model_module": "jupyter-cytoscape",
      "model_module_version": "^1.3.3",
      "model_name": "NodeModel",
      "state": {
       "_model_module_version": "^1.3.3",
       "_view_module_version": "^1.3.3",
       "data": {
        "color": "gray",
        "id": "5336497445711599868",
        "label": "intensity",
        "shape": "ellipse"
       },
       "grabbable": true,
       "grabbed": false,
       "position": {
        "x": 178.5,
        "y": 875
       },
       "selectable": false
      }
     },
     "63ffb44b493040488ae1059889228578": {
      "model_module": "jupyter-cytoscape",
      "model_module_version": "^1.3.3",
      "model_name": "EdgeModel",
      "state": {
       "_model_module_version": "^1.3.3",
       "_view_module_version": "^1.3.3",
       "classes": " directed ",
       "data": {
        "id": "69f53719-bd6b-43e2-bb6f-2899e0992496",
        "source": "4967474155010850164",
        "target": "5991405346434455650"
       },
       "selectable": false
      }
     },
     "66e95e99c33f403597c850c0e504b103": {
      "model_module": "jupyter-cytoscape",
      "model_module_version": "^1.3.3",
      "model_name": "EdgeModel",
      "state": {
       "_model_module_version": "^1.3.3",
       "_view_module_version": "^1.3.3",
       "classes": " directed ",
       "data": {
        "id": "ac671282-8955-408c-b5bf-798b5df6cb5d",
        "source": "2348523458023353802",
        "target": "6859144207816615557"
       },
       "selectable": false
      }
     },
     "678b5feaec224adb95b517d731e1bb19": {
      "model_module": "jupyter-cytoscape",
      "model_module_version": "^1.3.3",
      "model_name": "EdgeModel",
      "state": {
       "_model_module_version": "^1.3.3",
       "_view_module_version": "^1.3.3",
       "classes": " directed ",
       "data": {
        "id": "6645efff-2c80-4555-af29-c1c01944c9fd",
        "source": "-2599527930638940473",
        "target": "5445623426437488738"
       },
       "selectable": false
      }
     },
     "688902520c5e45af9aeb8a5292fd05b6": {
      "model_module": "jupyter-cytoscape",
      "model_module_version": "^1.3.3",
      "model_name": "NodeModel",
      "state": {
       "_model_module_version": "^1.3.3",
       "_view_module_version": "^1.3.3",
       "data": {
        "color": "gray",
        "id": "-9203193094098579554",
        "label": "mean_combine-partial",
        "shape": "ellipse"
       },
       "grabbable": true,
       "grabbed": false,
       "position": {
        "x": 1096,
        "y": 395
       },
       "selectable": false
      }
     },
     "6d5e49e0147c4b74a4e8e198dcdd7a04": {
      "model_module": "jupyter-cytoscape",
      "model_module_version": "^1.3.3",
      "model_name": "NodeModel",
      "state": {
       "_model_module_version": "^1.3.3",
       "_view_module_version": "^1.3.3",
       "data": {
        "color": "gray",
        "id": "-840886790934670838",
        "label": "3",
        "shape": "rectangle"
       },
       "grabbable": true,
       "grabbed": false,
       "position": {
        "x": 1279.5,
        "y": 515
       },
       "selectable": false
      }
     },
     "6d9147990c1443c492b1f8c62c9594ad": {
      "model_module": "jupyter-cytoscape",
      "model_module_version": "^1.3.3",
      "model_name": "NodeModel",
      "state": {
       "_model_module_version": "^1.3.3",
       "_view_module_version": "^1.3.3",
       "data": {
        "color": "gray",
        "id": "3257709649814184405",
        "label": "(0, 0, 0)",
        "shape": "rectangle"
       },
       "grabbable": true,
       "grabbed": false,
       "position": {
        "x": 178.5,
        "y": 35
       },
       "selectable": false
      }
     },
     "6e2d99a3b3a94001a29af286235ecf47": {
      "model_module": "jupyter-cytoscape",
      "model_module_version": "^1.3.3",
      "model_name": "EdgeModel",
      "state": {
       "_model_module_version": "^1.3.3",
       "_view_module_version": "^1.3.3",
       "classes": " directed ",
       "data": {
        "id": "30194990-eb65-4daa-93e4-7b95b3b9bdb3",
        "source": "-37027382339287339",
        "target": "-9163112643500544353"
       },
       "selectable": false
      }
     },
     "6fef8da24a5a4d69a45fb38e2e2e0751": {
      "model_module": "jupyter-cytoscape",
      "model_module_version": "^1.3.3",
      "model_name": "NodeModel",
      "state": {
       "_model_module_version": "^1.3.3",
       "_view_module_version": "^1.3.3",
       "data": {
        "color": "gray",
        "id": "4991817002546876692",
        "label": "0",
        "shape": "rectangle"
       },
       "grabbable": true,
       "grabbed": false,
       "position": {
        "x": 545.5,
        "y": 635
       },
       "selectable": false
      }
     },
     "716efe54e9d04802a232e3db2c38d038": {
      "model_module": "jupyter-cytoscape",
      "model_module_version": "^1.3.3",
      "model_name": "EdgeModel",
      "state": {
       "_model_module_version": "^1.3.3",
       "_view_module_version": "^1.3.3",
       "classes": " directed ",
       "data": {
        "id": "f7964438-e03d-4837-b8b8-3e62f328b921",
        "source": "-1317472723562072043",
        "target": "4991817002546876692"
       },
       "selectable": false
      }
     },
     "71bdee549c2e4b0d9eb8ed718a5d59dc": {
      "model_module": "jupyter-cytoscape",
      "model_module_version": "^1.3.3",
      "model_name": "NodeModel",
      "state": {
       "_model_module_version": "^1.3.3",
       "_view_module_version": "^1.3.3",
       "data": {
        "color": "gray",
        "id": "4284789892316670812",
        "label": "frozen_phonon",
        "shape": "ellipse"
       },
       "grabbable": true,
       "grabbed": false,
       "position": {
        "x": 912.5,
        "y": 875
       },
       "selectable": false
      }
     },
     "72be21b5ef7b4a3cbeb96bb3360691dd": {
      "model_module": "jupyter-cytoscape",
      "model_module_version": "^1.3.3",
      "model_name": "EdgeModel",
      "state": {
       "_model_module_version": "^1.3.3",
       "_view_module_version": "^1.3.3",
       "classes": " directed ",
       "data": {
        "id": "0c966d4b-df57-4e9a-b741-d88dd6bffb2d",
        "source": "6859144207816615557",
        "target": "6521982915627942169"
       },
       "selectable": false
      }
     },
     "72c660e1e9f944b08cd3d88e7839d557": {
      "model_module": "jupyter-cytoscape",
      "model_module_version": "^1.3.3",
      "model_name": "NodeModel",
      "state": {
       "_model_module_version": "^1.3.3",
       "_view_module_version": "^1.3.3",
       "data": {
        "color": "gray",
        "id": "-3854565742365507736",
        "label": "0",
        "shape": "rectangle"
       },
       "grabbable": true,
       "grabbed": false,
       "position": {
        "x": 178.5,
        "y": 1595
       },
       "selectable": false
      }
     },
     "74352963e6394d8dbf869a6a3bebdf0c": {
      "model_module": "jupyter-cytoscape",
      "model_module_version": "^1.3.3",
      "model_name": "NodeModel",
      "state": {
       "_model_module_version": "^1.3.3",
       "_view_module_version": "^1.3.3",
       "data": {
        "color": "gray",
        "id": "-5006927691918128058",
        "label": "build_waves_multislice_detect",
        "shape": "ellipse"
       },
       "grabbable": true,
       "grabbed": false,
       "position": {
        "x": 1279.5,
        "y": 1355
       },
       "selectable": false
      }
     },
     "7465e47ee4c54c9a97687d5c93cc386e": {
      "model_module": "jupyter-cytoscape",
      "model_module_version": "^1.3.3",
      "model_name": "NodeModel",
      "state": {
       "_model_module_version": "^1.3.3",
       "_view_module_version": "^1.3.3",
       "data": {
        "color": "gray",
        "id": "1140298105136515211",
        "label": "",
        "shape": "rectangle"
       },
       "grabbable": true,
       "grabbed": false,
       "position": {
        "x": 545.5,
        "y": 1955
       },
       "selectable": false
      }
     },
     "766ab1e3b1a8464c93b70083ef5bf260": {
      "model_module": "jupyter-cytoscape",
      "model_module_version": "^1.3.3",
      "model_name": "EdgeModel",
      "state": {
       "_model_module_version": "^1.3.3",
       "_view_module_version": "^1.3.3",
       "classes": " directed ",
       "data": {
        "id": "e3eb5933-c26d-40ad-ad44-f4edc031eb5f",
        "source": "-3165961374497234373",
        "target": "2032348127390612076"
       },
       "selectable": false
      }
     },
     "78fd93d6bffa4431967cea56e341af4e": {
      "model_module": "jupyter-cytoscape",
      "model_module_version": "^1.3.3",
      "model_name": "NodeModel",
      "state": {
       "_model_module_version": "^1.3.3",
       "_view_module_version": "^1.3.3",
       "data": {
        "color": "gray",
        "id": "4141631500508242373",
        "label": "2",
        "shape": "rectangle"
       },
       "grabbable": true,
       "grabbed": false,
       "position": {
        "x": 912.5,
        "y": 275
       },
       "selectable": false
      }
     },
     "7970fdd9d47d472397e75a9e8a5c8ff5": {
      "model_module": "jupyter-cytoscape",
      "model_module_version": "^1.3.3",
      "model_name": "NodeModel",
      "state": {
       "_model_module_version": "^1.3.3",
       "_view_module_version": "^1.3.3",
       "data": {
        "color": "gray",
        "id": "4141631500508242373",
        "label": "2",
        "shape": "rectangle"
       },
       "grabbable": true,
       "grabbed": false,
       "position": {
        "x": 912.5,
        "y": 1235
       },
       "selectable": false
      }
     },
     "7c15a79091b74381a6c939131c07b423": {
      "model_module": "jupyter-cytoscape",
      "model_module_version": "^1.3.3",
      "model_name": "GraphModel",
      "state": {
       "_adj": {
        "-1081426677675564292": {},
        "-1317472723562072043": {},
        "-1328156421819520447": {},
        "-2599527930638940473": {},
        "-3165961374497234373": {},
        "-3258767334579724648": {},
        "-3406921137376322128": {},
        "-3421152007899703746": {},
        "-37027382339287339": {},
        "-3854565742365507736": {},
        "-4475292628711386349": {},
        "-4643870365125550949": {},
        "-4724641587111696038": {},
        "-5006927691918128058": {},
        "-5040360113510152828": {},
        "-5275290406316927842": {},
        "-5912613140114651892": {},
        "-6062111970918788071": {},
        "-6530398792300349348": {},
        "-7348527547036669263": {},
        "-7405629666560167244": {},
        "-751442528464453993": {},
        "-8119595567297417993": {},
        "-840886790934670838": {},
        "-8963094274165971322": {},
        "-9163112643500544353": {},
        "-9203193094098579554": {},
        "-933516822802371220": {},
        "1140298105136515211": {},
        "1200226053435554483": {},
        "2032348127390612076": {},
        "2348523458023353802": {},
        "2465485290832801966": {},
        "2505755073948310226": {},
        "3257709649814184405": {},
        "3469922011544708248": {},
        "3968267829707438927": {},
        "4007774962747953975": {},
        "4141631500508242373": {},
        "4284789892316670812": {},
        "4404835587749764547": {},
        "4590575770570883928": {},
        "4754151910659613828": {},
        "487139590792290665": {},
        "4967474155010850164": {},
        "4991817002546876692": {},
        "530793556203103033": {},
        "5336497445711599868": {},
        "5445623426437488738": {},
        "5991405346434455650": {},
        "6521982915627942169": {},
        "6859144207816615557": {},
        "696471277815720": {},
        "8086419373411149531": {},
        "8229877112831480872": {},
        "8338488330401887310": {},
        "8966269833224774983": {},
        "923328652090316804": {}
       },
       "_model_module_version": "^1.3.3",
       "_view_module": "jupyter-cytoscape",
       "_view_module_version": "^1.3.3",
       "edges": [
        "IPY_MODEL_91dd4a94737b458cb8c9f9fb9c1bfe1b",
        "IPY_MODEL_496fd5794315472e922fec92a2d1b1d3",
        "IPY_MODEL_3fc433e0df3c4a469a23c59cf7d8eea3",
        "IPY_MODEL_d44b6201fb214d44a4c8013bbe4c287b",
        "IPY_MODEL_72be21b5ef7b4a3cbeb96bb3360691dd",
        "IPY_MODEL_995db2f8bf0e4ec39d82ba9acebfac4e",
        "IPY_MODEL_4091fa8bde8041eb89eb7d927bbf83ab",
        "IPY_MODEL_4c50afa618e843359b08a9b9c0888545",
        "IPY_MODEL_97929de9144d48bd976166f19808010c",
        "IPY_MODEL_f382d5df49814894ab803192f42ba93e",
        "IPY_MODEL_b1d0ee04420b41fa80ca641daa8591e5",
        "IPY_MODEL_88c0a57bcc1545aca985805aba979d8b",
        "IPY_MODEL_806e2533d01e426a9e97048c014a0871",
        "IPY_MODEL_14bdaac385bc4fda9e1bb278a8f28343",
        "IPY_MODEL_678b5feaec224adb95b517d731e1bb19",
        "IPY_MODEL_8558471ffbcb40d887e514e2ec5f66d9",
        "IPY_MODEL_c443ba2e59d34d2db5b06613f5a48668",
        "IPY_MODEL_d22bb356e2534524921acb2590823bfa",
        "IPY_MODEL_a1b5039194d74883a46e924979304dce",
        "IPY_MODEL_382ff044bedc4cada875392864b5cf05",
        "IPY_MODEL_0ecf7e9246ca423dac219ac7f08c8af7",
        "IPY_MODEL_1ff9ade90a4e4f18b2729d897043a072",
        "IPY_MODEL_1254ccecb38b482396ebc2181be48ea1",
        "IPY_MODEL_440af5d53878489c9c0c9bf9670e0681",
        "IPY_MODEL_4fee5c7eeff94541b40be3908fb8ad19",
        "IPY_MODEL_4ceb68dcbcc14f31b81b312890b04f30",
        "IPY_MODEL_3b777ef787e64b1ba9c48f46dd33a6f9",
        "IPY_MODEL_deeacb2015894760aa36ba08abb2ac2b",
        "IPY_MODEL_961416ab24f0402c8ad5790e5f052a7d",
        "IPY_MODEL_989237dbb2ca41489a0ab6c9e7120c07",
        "IPY_MODEL_e7f6ecdc0566494183a5a8549a2789ae",
        "IPY_MODEL_f0e8e92ad8a54933a3f8eb731877d325",
        "IPY_MODEL_dc13543195eb484aaaa375845e531fc0",
        "IPY_MODEL_47a53b34072b4c18b040c0cd0b1509e4",
        "IPY_MODEL_9dca6314730b423a8a87ea439b6eb641",
        "IPY_MODEL_48343509b09140c49ae7c753be0f1bb2",
        "IPY_MODEL_9bcf6405c8844bb1b74bae1cca4f2991",
        "IPY_MODEL_e4e068f66ae54bf7b33964ca51603029",
        "IPY_MODEL_9b387fbcdc5747a7b2123347d262cd0f",
        "IPY_MODEL_c75d2f2e810d44dfaf287033185b82a8",
        "IPY_MODEL_96c89b7d11a54f74a5a3ee87e2b2a8aa",
        "IPY_MODEL_4b55b625f3ba445394aa7021535621d4",
        "IPY_MODEL_b9c7fd11484646399daea1fa7cafdc96",
        "IPY_MODEL_44172b9b413a4fc28f12539dd333a489",
        "IPY_MODEL_5c58db421c274c7f83bf6817c5c055d8",
        "IPY_MODEL_6e2d99a3b3a94001a29af286235ecf47",
        "IPY_MODEL_4f87173ef75143c3bb10c6015a28342b",
        "IPY_MODEL_e5b6c4287c424f74988e82d7a1399bda",
        "IPY_MODEL_10119cfc92b84d8c8414e5a1bedd02cc",
        "IPY_MODEL_50b51ba4175f4a19927b7bc8dd491474",
        "IPY_MODEL_0d4823e054ec4a979159f7b2b66aa9a0",
        "IPY_MODEL_a5fc85a4ab944949a91191f814aa8a62",
        "IPY_MODEL_a55b54ca8c94401eafa001605b6b1e52",
        "IPY_MODEL_037849cf4827411d8c329fea4eaee44a",
        "IPY_MODEL_bf28b546c99b4003b927c033e5f591aa",
        "IPY_MODEL_d93d063816244c57aa77b44152c1ad9c",
        "IPY_MODEL_b7d37b644d0e408e9ae0a01f2bd701e2"
       ],
       "nodes": [
        "IPY_MODEL_e96fdac18c4e4f49b8ec519104df1e0e",
        "IPY_MODEL_d0339cb1e24a42dbaa2000cd0506089f",
        "IPY_MODEL_da1e5993bd894cd9aa83744196fa8dbe",
        "IPY_MODEL_c5039587f1be4f8390e23a78887bd7cd",
        "IPY_MODEL_04d3e7e8eca0487bab6cfbe3e4cf63c5",
        "IPY_MODEL_a2c48e0332a94ed288c1452f1fd5f718",
        "IPY_MODEL_447043e5b8e64265998c58d184b85f2a",
        "IPY_MODEL_72c660e1e9f944b08cd3d88e7839d557",
        "IPY_MODEL_7465e47ee4c54c9a97687d5c93cc386e",
        "IPY_MODEL_e27e670a7917461eb298cab268c1e5a7",
        "IPY_MODEL_5b8c38cd778c4b15993e7675dc68c446",
        "IPY_MODEL_327db5fea7b74f9da74009ab6186440b",
        "IPY_MODEL_82c149d85be24352ba8e97fdfc2d10c7",
        "IPY_MODEL_f3e52767ef6849ce8d6026f31a910443",
        "IPY_MODEL_4979d63bd8b749eeb779c683c5c803f1",
        "IPY_MODEL_4cab41eeb2774c51aad6261759cf6afb",
        "IPY_MODEL_f9ca666dfb1642c1b9510ed81890a7cc",
        "IPY_MODEL_1c400a55881e40e7b5cb946f0ebc7abc",
        "IPY_MODEL_be424b3e76094ca2bb7febd7215bd5f7",
        "IPY_MODEL_7d1c86e4a4904bb2b003055b9c93a9e8",
        "IPY_MODEL_51b371e651d9476eb3c2e95a3407d0a7",
        "IPY_MODEL_e2ee524d7c30497f812c75421d69cf65",
        "IPY_MODEL_e28a5982914c4bd694a11386669343fc",
        "IPY_MODEL_1a582c7aa78d4320bc4c0de75cb709c1",
        "IPY_MODEL_522dece3f4764aeeb69863866049464c",
        "IPY_MODEL_7970fdd9d47d472397e75a9e8a5c8ff5",
        "IPY_MODEL_74352963e6394d8dbf869a6a3bebdf0c",
        "IPY_MODEL_5306c50f7d5a4252abcc4414592143f5",
        "IPY_MODEL_56bdd3d2175941a3aeca55a80ee85d00",
        "IPY_MODEL_54ee7bd8a6ca4349b073c4c2eb1d87fc",
        "IPY_MODEL_fd6b1560c9874f4587dfe010cc25efa2",
        "IPY_MODEL_11600dd87b2c420c98f694ef3a754a85",
        "IPY_MODEL_bec73aec1cde46ee99d6178f72f3c81a",
        "IPY_MODEL_7fdbfe5708cd48ce8e0d2435cb293faa",
        "IPY_MODEL_04c55ecc8bbf44e082d93165efd86034",
        "IPY_MODEL_8cf14e2535dd4d49ae0f776338768f40",
        "IPY_MODEL_602c1b4883f14edc940a5f221072fbd5",
        "IPY_MODEL_bbe04c1d40db43ffaf74f6438fc3df5d",
        "IPY_MODEL_832cf8c6f8ab43fe9a07a2ac2cd875f6",
        "IPY_MODEL_08cb6d5eff4c4e49b3eeb4785d41fff3",
        "IPY_MODEL_003c9681038b4882a54a88a34495ebf2",
        "IPY_MODEL_ae9931a6110347c79833889c001d5552",
        "IPY_MODEL_c88f19a708514eed830b793b4bed04ec",
        "IPY_MODEL_46eb5a6436ab4c589d1322b67596f237",
        "IPY_MODEL_f87abb53f3024412bde724a9581f9004",
        "IPY_MODEL_5bac2db307094e0a94383f55c7579bf3",
        "IPY_MODEL_ee3835f53a2e4e0bb2f61624d6eb60c2",
        "IPY_MODEL_84b5a4a615704625a807ad93f888bfca",
        "IPY_MODEL_37352f6003a647b1aef71e7c12d7f48d",
        "IPY_MODEL_3e88242a39544e88bc783e67c5623acd",
        "IPY_MODEL_8ad040dbdea140ecab1124770375d2c9",
        "IPY_MODEL_e009b026ba1946088b9612be74ebc177",
        "IPY_MODEL_09761006a81748428be7d11cf3b186e1",
        "IPY_MODEL_3b3079ceb98b4c5da0879f62290d742c",
        "IPY_MODEL_688902520c5e45af9aeb8a5292fd05b6",
        "IPY_MODEL_06c6e921eedf4d5d9a99e163e88d0839",
        "IPY_MODEL_b0f4befc94bb4da58278a33098bd7dda",
        "IPY_MODEL_fa5669dba1d9480ea40d3f85167c6bb0"
       ]
      }
     },
     "7d1c86e4a4904bb2b003055b9c93a9e8": {
      "model_module": "jupyter-cytoscape",
      "model_module_version": "^1.3.3",
      "model_name": "NodeModel",
      "state": {
       "_model_module_version": "^1.3.3",
       "_view_module_version": "^1.3.3",
       "data": {
        "color": "gray",
        "id": "-5040360113510152828",
        "label": "0",
        "shape": "rectangle"
       },
       "grabbable": true,
       "grabbed": false,
       "position": {
        "x": 1279.5,
        "y": 1595
       },
       "selectable": false
      }
     },
     "7fdbfe5708cd48ce8e0d2435cb293faa": {
      "model_module": "jupyter-cytoscape",
      "model_module_version": "^1.3.3",
      "model_name": "NodeModel",
      "state": {
       "_model_module_version": "^1.3.3",
       "_view_module_version": "^1.3.3",
       "data": {
        "color": "gray",
        "id": "5991405346434455650",
        "label": "(2, 0, 0)",
        "shape": "rectangle"
       },
       "grabbable": true,
       "grabbed": false,
       "position": {
        "x": 912.5,
        "y": 995
       },
       "selectable": false
      }
     },
     "806e2533d01e426a9e97048c014a0871": {
      "model_module": "jupyter-cytoscape",
      "model_module_version": "^1.3.3",
      "model_name": "EdgeModel",
      "state": {
       "_model_module_version": "^1.3.3",
       "_view_module_version": "^1.3.3",
       "classes": " directed ",
       "data": {
        "id": "8327f52d-7bb3-42bc-972b-19fa13ab5d15",
        "source": "-7405629666560167244",
        "target": "-5912613140114651892"
       },
       "selectable": false
      }
     },
     "8140076624a0466ab35d072cc8f00a79": {
      "model_module": "jupyter-cytoscape",
      "model_module_version": "^1.3.3",
      "model_name": "NodeModel",
      "state": {
       "_model_module_version": "^1.3.3",
       "_view_module_version": "^1.3.3",
       "data": {
        "color": "gray",
        "id": "-3421152007899703746",
        "label": "extract_measurement",
        "shape": "ellipse"
       },
       "grabbable": true,
       "grabbed": false,
       "position": {
        "x": 545.5,
        "y": 155
       },
       "selectable": false
      }
     },
     "82c149d85be24352ba8e97fdfc2d10c7": {
      "model_module": "jupyter-cytoscape",
      "model_module_version": "^1.3.3",
      "model_name": "NodeModel",
      "state": {
       "_model_module_version": "^1.3.3",
       "_view_module_version": "^1.3.3",
       "data": {
        "color": "gray",
        "id": "3968267829707438927",
        "label": "",
        "shape": "rectangle"
       },
       "grabbable": true,
       "grabbed": false,
       "position": {
        "x": 912.5,
        "y": 1955
       },
       "selectable": false
      }
     },
     "832cf8c6f8ab43fe9a07a2ac2cd875f6": {
      "model_module": "jupyter-cytoscape",
      "model_module_version": "^1.3.3",
      "model_name": "NodeModel",
      "state": {
       "_model_module_version": "^1.3.3",
       "_view_module_version": "^1.3.3",
       "data": {
        "color": "gray",
        "id": "-5275290406316927842",
        "label": "intensity",
        "shape": "ellipse"
       },
       "grabbable": true,
       "grabbed": false,
       "position": {
        "x": 545.5,
        "y": 875
       },
       "selectable": false
      }
     },
     "837b74978681402e92200e724add0418": {
      "model_module": "jupyter-cytoscape",
      "model_module_version": "^1.3.3",
      "model_name": "NodeModel",
      "state": {
       "_model_module_version": "^1.3.3",
       "_view_module_version": "^1.3.3",
       "data": {
        "color": "gray",
        "id": "-7348527547036669263",
        "label": "2",
        "shape": "rectangle"
       },
       "grabbable": true,
       "grabbed": false,
       "position": {
        "x": 912.5,
        "y": 515
       },
       "selectable": false
      }
     },
     "84b5a4a615704625a807ad93f888bfca": {
      "model_module": "jupyter-cytoscape",
      "model_module_version": "^1.3.3",
      "model_name": "NodeModel",
      "state": {
       "_model_module_version": "^1.3.3",
       "_view_module_version": "^1.3.3",
       "data": {
        "color": "gray",
        "id": "4007774962747953975",
        "label": "(1, 0, 0)",
        "shape": "rectangle"
       },
       "grabbable": true,
       "grabbed": false,
       "position": {
        "x": 545.5,
        "y": 515
       },
       "selectable": false
      }
     },
     "8558471ffbcb40d887e514e2ec5f66d9": {
      "model_module": "jupyter-cytoscape",
      "model_module_version": "^1.3.3",
      "model_name": "EdgeModel",
      "state": {
       "_model_module_version": "^1.3.3",
       "_view_module_version": "^1.3.3",
       "classes": " directed ",
       "data": {
        "id": "00770d44-f8c7-47b2-8a76-e07cdb319599",
        "source": "4404835587749764547",
        "target": "-5040360113510152828"
       },
       "selectable": false
      }
     },
     "86dd95c0680b4e2989a85e80859afa89": {
      "model_module": "jupyter-cytoscape",
      "model_module_version": "^1.3.3",
      "model_name": "EdgeModel",
      "state": {
       "_model_module_version": "^1.3.3",
       "_view_module_version": "^1.3.3",
       "classes": " directed ",
       "data": {
        "id": "dd24afb1-8060-4043-a695-20a0132845eb",
        "source": "-3421152007899703746",
        "target": "8086419373411149531"
       },
       "selectable": false
      }
     },
     "88c0a57bcc1545aca985805aba979d8b": {
      "model_module": "jupyter-cytoscape",
      "model_module_version": "^1.3.3",
      "model_name": "EdgeModel",
      "state": {
       "_model_module_version": "^1.3.3",
       "_view_module_version": "^1.3.3",
       "classes": " directed ",
       "data": {
        "id": "893cba0d-5c7d-4289-babf-a78d3f79e28d",
        "source": "3968267829707438927",
        "target": "4284789892316670812"
       },
       "selectable": false
      }
     },
     "8ad040dbdea140ecab1124770375d2c9": {
      "model_module": "jupyter-cytoscape",
      "model_module_version": "^1.3.3",
      "model_name": "NodeModel",
      "state": {
       "_model_module_version": "^1.3.3",
       "_view_module_version": "^1.3.3",
       "data": {
        "color": "gray",
        "id": "-1328156421819520447",
        "label": "mean_chunk",
        "shape": "ellipse"
       },
       "grabbable": true,
       "grabbed": false,
       "position": {
        "x": 1279.5,
        "y": 635
       },
       "selectable": false
      }
     },
     "8cf14e2535dd4d49ae0f776338768f40": {
      "model_module": "jupyter-cytoscape",
      "model_module_version": "^1.3.3",
      "model_name": "NodeModel",
      "state": {
       "_model_module_version": "^1.3.3",
       "_view_module_version": "^1.3.3",
       "data": {
        "color": "gray",
        "id": "1200226053435554483",
        "label": "(3, 0, 0)",
        "shape": "rectangle"
       },
       "grabbable": true,
       "grabbed": false,
       "position": {
        "x": 1279.5,
        "y": 995
       },
       "selectable": false
      }
     },
     "8de5bee3b59d4d4aacb6410b14aed913": {
      "model_module": "jupyter-cytoscape",
      "model_module_version": "^1.3.3",
      "model_name": "NodeModel",
      "state": {
       "_model_module_version": "^1.3.3",
       "_view_module_version": "^1.3.3",
       "data": {
        "color": "gray",
        "id": "4967474155010850164",
        "label": "extract_measurement",
        "shape": "ellipse"
       },
       "grabbable": true,
       "grabbed": false,
       "position": {
        "x": 912.5,
        "y": 155
       },
       "selectable": false
      }
     },
     "8e52fe59c6df44d5861cef3dff60dd06": {
      "model_module": "jupyter-cytoscape",
      "model_module_version": "^1.3.3",
      "model_name": "EdgeModel",
      "state": {
       "_model_module_version": "^1.3.3",
       "_view_module_version": "^1.3.3",
       "classes": " directed ",
       "data": {
        "id": "3c8210a2-f78f-46de-8838-952c3d6c3077",
        "source": "-5040360113510152828",
        "target": "-840886790934670838"
       },
       "selectable": false
      }
     },
     "91dd4a94737b458cb8c9f9fb9c1bfe1b": {
      "model_module": "jupyter-cytoscape",
      "model_module_version": "^1.3.3",
      "model_name": "EdgeModel",
      "state": {
       "_model_module_version": "^1.3.3",
       "_view_module_version": "^1.3.3",
       "classes": " directed ",
       "data": {
        "id": "abbcd777-42ca-41a7-be31-d8426a5e6793",
        "source": "-3854565742365507736",
        "target": "-8963094274165971322"
       },
       "selectable": false
      }
     },
     "9539fc5d8682481586dd0c2bd4394739": {
      "model_module": "jupyter-cytoscape",
      "model_module_version": "^1.3.3",
      "model_name": "NodeModel",
      "state": {
       "_model_module_version": "^1.3.3",
       "_view_module_version": "^1.3.3",
       "data": {
        "color": "gray",
        "id": "8086419373411149531",
        "label": "(1, 0, 0)",
        "shape": "rectangle"
       },
       "grabbable": true,
       "grabbed": false,
       "position": {
        "x": 545.5,
        "y": 35
       },
       "selectable": false
      }
     },
     "961416ab24f0402c8ad5790e5f052a7d": {
      "model_module": "jupyter-cytoscape",
      "model_module_version": "^1.3.3",
      "model_name": "EdgeModel",
      "state": {
       "_model_module_version": "^1.3.3",
       "_view_module_version": "^1.3.3",
       "classes": " directed ",
       "data": {
        "id": "1683d4e0-f0e5-4b96-ba35-f3d241f04a97",
        "source": "4967474155010850164",
        "target": "5991405346434455650"
       },
       "selectable": false
      }
     },
     "96c89b7d11a54f74a5a3ee87e2b2a8aa": {
      "model_module": "jupyter-cytoscape",
      "model_module_version": "^1.3.3",
      "model_name": "EdgeModel",
      "state": {
       "_model_module_version": "^1.3.3",
       "_view_module_version": "^1.3.3",
       "classes": " directed ",
       "data": {
        "id": "fd98a3de-5ed5-4d7c-8d2f-fd102300ff40",
        "source": "487139590792290665",
        "target": "-6062111970918788071"
       },
       "selectable": false
      }
     },
     "97929de9144d48bd976166f19808010c": {
      "model_module": "jupyter-cytoscape",
      "model_module_version": "^1.3.3",
      "model_name": "EdgeModel",
      "state": {
       "_model_module_version": "^1.3.3",
       "_view_module_version": "^1.3.3",
       "classes": " directed ",
       "data": {
        "id": "67f0db22-ecda-4670-835c-8c9f650a3c88",
        "source": "1140298105136515211",
        "target": "-4724641587111696038"
       },
       "selectable": false
      }
     },
     "98608aa303964026a7f020f5245ce6fb": {
      "model_module": "jupyter-cytoscape",
      "model_module_version": "^1.3.3",
      "model_name": "NodeModel",
      "state": {
       "_model_module_version": "^1.3.3",
       "_view_module_version": "^1.3.3",
       "data": {
        "color": "gray",
        "id": "2032348127390612076",
        "label": "1",
        "shape": "rectangle"
       },
       "grabbable": true,
       "grabbed": false,
       "position": {
        "x": 545.5,
        "y": 275
       },
       "selectable": false
      }
     },
     "98870be0f065402d973656e48f1b0454": {
      "model_module": "jupyter-cytoscape",
      "model_module_version": "^1.3.3",
      "model_name": "NodeModel",
      "state": {
       "_model_module_version": "^1.3.3",
       "_view_module_version": "^1.3.3",
       "data": {
        "color": "gray",
        "id": "6521982915627942169",
        "label": "",
        "shape": "rectangle"
       },
       "grabbable": true,
       "grabbed": false,
       "position": {
        "x": 178.5,
        "y": 755
       },
       "selectable": false
      }
     },
     "989237dbb2ca41489a0ab6c9e7120c07": {
      "model_module": "jupyter-cytoscape",
      "model_module_version": "^1.3.3",
      "model_name": "EdgeModel",
      "state": {
       "_model_module_version": "^1.3.3",
       "_view_module_version": "^1.3.3",
       "classes": " directed ",
       "data": {
        "id": "df835ff9-7ad2-4aad-9c54-9726fda2dd73",
        "source": "4141631500508242373",
        "target": "4967474155010850164"
       },
       "selectable": false
      }
     },
     "98eca508d5d449beb2492e945aeb508f": {
      "model_module": "jupyter-cytoscape",
      "model_module_version": "^1.3.3",
      "model_name": "EdgeModel",
      "state": {
       "_model_module_version": "^1.3.3",
       "_view_module_version": "^1.3.3",
       "classes": " directed ",
       "data": {
        "id": "2c58e776-b310-4965-946e-292f2bd8cabd",
        "source": "-2599527930638940473",
        "target": "5445623426437488738"
       },
       "selectable": false
      }
     },
     "995db2f8bf0e4ec39d82ba9acebfac4e": {
      "model_module": "jupyter-cytoscape",
      "model_module_version": "^1.3.3",
      "model_name": "EdgeModel",
      "state": {
       "_model_module_version": "^1.3.3",
       "_view_module_version": "^1.3.3",
       "classes": " directed ",
       "data": {
        "id": "a4c3f99c-228b-4263-8e2d-4f787ea62da9",
        "source": "2348523458023353802",
        "target": "6859144207816615557"
       },
       "selectable": false
      }
     },
     "9afd76af882b494db211fef47702e249": {
      "model_module": "jupyter-cytoscape",
      "model_module_version": "^1.3.3",
      "model_name": "EdgeModel",
      "state": {
       "_model_module_version": "^1.3.3",
       "_view_module_version": "^1.3.3",
       "classes": " directed ",
       "data": {
        "id": "ccd7c4c5-0744-4046-a01a-86a0f77a5e25",
        "source": "-751442528464453993",
        "target": "-3406921137376322128"
       },
       "selectable": false
      }
     },
     "9b387fbcdc5747a7b2123347d262cd0f": {
      "model_module": "jupyter-cytoscape",
      "model_module_version": "^1.3.3",
      "model_name": "EdgeModel",
      "state": {
       "_model_module_version": "^1.3.3",
       "_view_module_version": "^1.3.3",
       "classes": " directed ",
       "data": {
        "id": "08134fda-be44-45b1-a3a3-cff037d0b2be",
        "source": "8338488330401887310",
        "target": "-6530398792300349348"
       },
       "selectable": false
      }
     },
     "9bcf6405c8844bb1b74bae1cca4f2991": {
      "model_module": "jupyter-cytoscape",
      "model_module_version": "^1.3.3",
      "model_name": "EdgeModel",
      "state": {
       "_model_module_version": "^1.3.3",
       "_view_module_version": "^1.3.3",
       "classes": " directed ",
       "data": {
        "id": "78f70c12-50cc-460c-9699-ae27b0849ed8",
        "source": "-933516822802371220",
        "target": "-37027382339287339"
       },
       "selectable": false
      }
     },
     "9cf5627c47fe42e7a51c0b2197ad9938": {
      "model_module": "jupyter-cytoscape",
      "model_module_version": "^1.3.3",
      "model_name": "NodeModel",
      "state": {
       "_model_module_version": "^1.3.3",
       "_view_module_version": "^1.3.3",
       "data": {
        "color": "gray",
        "id": "4590575770570883928",
        "label": "1",
        "shape": "rectangle"
       },
       "grabbable": true,
       "grabbed": false,
       "position": {
        "x": 545.5,
        "y": 515
       },
       "selectable": false
      }
     },
     "9dca6314730b423a8a87ea439b6eb641": {
      "model_module": "jupyter-cytoscape",
      "model_module_version": "^1.3.3",
      "model_name": "EdgeModel",
      "state": {
       "_model_module_version": "^1.3.3",
       "_view_module_version": "^1.3.3",
       "classes": " directed ",
       "data": {
        "id": "3fe24766-447b-4d36-80d0-08e958a9af56",
        "source": "-5275290406316927842",
        "target": "4754151910659613828"
       },
       "selectable": false
      }
     },
     "9eb1197160d14bd0ac1797b980b40187": {
      "model_module": "jupyter-cytoscape",
      "model_module_version": "^1.3.3",
      "model_name": "EdgeModel",
      "state": {
       "_model_module_version": "^1.3.3",
       "_view_module_version": "^1.3.3",
       "classes": " directed ",
       "data": {
        "id": "45588356-fe6b-4d6b-b87d-c62197d3142d",
        "source": "4141631500508242373",
        "target": "4967474155010850164"
       },
       "selectable": false
      }
     },
     "a0321de9a1bc4566a7a2f94bf32bcad5": {
      "model_module": "jupyter-cytoscape",
      "model_module_version": "^1.3.3",
      "model_name": "EdgeModel",
      "state": {
       "_model_module_version": "^1.3.3",
       "_view_module_version": "^1.3.3",
       "classes": " directed ",
       "data": {
        "id": "9096994f-b6b1-4079-b76c-5a00127ba086",
        "source": "5445623426437488738",
        "target": "4404835587749764547"
       },
       "selectable": false
      }
     },
     "a1b5039194d74883a46e924979304dce": {
      "model_module": "jupyter-cytoscape",
      "model_module_version": "^1.3.3",
      "model_name": "EdgeModel",
      "state": {
       "_model_module_version": "^1.3.3",
       "_view_module_version": "^1.3.3",
       "classes": " directed ",
       "data": {
        "id": "621ec7c8-a242-41b7-8e6e-2acd1f44c292",
        "source": "-3165961374497234373",
        "target": "2032348127390612076"
       },
       "selectable": false
      }
     },
     "a2c48e0332a94ed288c1452f1fd5f718": {
      "model_module": "jupyter-cytoscape",
      "model_module_version": "^1.3.3",
      "model_name": "NodeModel",
      "state": {
       "_model_module_version": "^1.3.3",
       "_view_module_version": "^1.3.3",
       "data": {
        "color": "gray",
        "id": "6859144207816615557",
        "label": "frozen_phonon",
        "shape": "ellipse"
       },
       "grabbable": true,
       "grabbed": false,
       "position": {
        "x": 178.5,
        "y": 1835
       },
       "selectable": false
      }
     },
     "a3118ed9923b490d9562d41720c30fc7": {
      "model_module": "jupyter-cytoscape",
      "model_module_version": "^1.3.3",
      "model_name": "EdgeModel",
      "state": {
       "_model_module_version": "^1.3.3",
       "_view_module_version": "^1.3.3",
       "classes": " directed ",
       "data": {
        "id": "6abc6553-1e72-4196-a2b0-2651c66f6c9a",
        "source": "-3406921137376322128",
        "target": "1200226053435554483"
       },
       "selectable": false
      }
     },
     "a55b54ca8c94401eafa001605b6b1e52": {
      "model_module": "jupyter-cytoscape",
      "model_module_version": "^1.3.3",
      "model_name": "EdgeModel",
      "state": {
       "_model_module_version": "^1.3.3",
       "_view_module_version": "^1.3.3",
       "classes": " directed ",
       "data": {
        "id": "8c7e1ecc-e972-49e3-a26b-aa089b727e28",
        "source": "-4643870365125550949",
        "target": "-9203193094098579554"
       },
       "selectable": false
      }
     },
     "a5fc85a4ab944949a91191f814aa8a62": {
      "model_module": "jupyter-cytoscape",
      "model_module_version": "^1.3.3",
      "model_name": "EdgeModel",
      "state": {
       "_model_module_version": "^1.3.3",
       "_view_module_version": "^1.3.3",
       "classes": " directed ",
       "data": {
        "id": "ecb73da9-9eb9-4130-a9a2-4670f8fe61e9",
        "source": "-9203193094098579554",
        "target": "923328652090316804"
       },
       "selectable": false
      }
     },
     "a673afada23f46da87dc07bd417b5075": {
      "model_module": "jupyter-cytoscape",
      "model_module_version": "^1.3.3",
      "model_name": "NodeModel",
      "state": {
       "_model_module_version": "^1.3.3",
       "_view_module_version": "^1.3.3",
       "data": {
        "color": "gray",
        "id": "-7405629666560167244",
        "label": "",
        "shape": "rectangle"
       },
       "grabbable": true,
       "grabbed": false,
       "position": {
        "x": 912.5,
        "y": 755
       },
       "selectable": false
      }
     },
     "a6746c5c8ae54c5a9a2e9ef2fa701cf8": {
      "model_module": "jupyter-cytoscape",
      "model_module_version": "^1.3.3",
      "model_name": "EdgeModel",
      "state": {
       "_model_module_version": "^1.3.3",
       "_view_module_version": "^1.3.3",
       "classes": " directed ",
       "data": {
        "id": "bac7cdf9-8293-4605-8491-7cff2608d4c7",
        "source": "3968267829707438927",
        "target": "4284789892316670812"
       },
       "selectable": false
      }
     },
     "ad6c6f7f5fff4430862b04bc873fdbbf": {
      "model_module": "jupyter-cytoscape",
      "model_module_version": "^1.3.3",
      "model_name": "EdgeModel",
      "state": {
       "_model_module_version": "^1.3.3",
       "_view_module_version": "^1.3.3",
       "classes": " directed ",
       "data": {
        "id": "934179f0-030f-4cf4-abda-c1b30b846e17",
        "source": "-4724641587111696038",
        "target": "-1317472723562072043"
       },
       "selectable": false
      }
     },
     "ae9931a6110347c79833889c001d5552": {
      "model_module": "jupyter-cytoscape",
      "model_module_version": "^1.3.3",
      "model_name": "NodeModel",
      "state": {
       "_model_module_version": "^1.3.3",
       "_view_module_version": "^1.3.3",
       "data": {
        "color": "gray",
        "id": "-37027382339287339",
        "label": "(2, 0, 0)",
        "shape": "rectangle"
       },
       "grabbable": true,
       "grabbed": false,
       "position": {
        "x": 912.5,
        "y": 755
       },
       "selectable": false
      }
     },
     "b0f4befc94bb4da58278a33098bd7dda": {
      "model_module": "jupyter-cytoscape",
      "model_module_version": "^1.3.3",
      "model_name": "NodeModel",
      "state": {
       "_model_module_version": "^1.3.3",
       "_view_module_version": "^1.3.3",
       "data": {
        "color": "gray",
        "id": "-1081426677675564292",
        "label": "mean_agg-aggregate",
        "shape": "ellipse"
       },
       "grabbable": true,
       "grabbed": false,
       "position": {
        "x": 729,
        "y": 155
       },
       "selectable": false
      }
     },
     "b1d0ee04420b41fa80ca641daa8591e5": {
      "model_module": "jupyter-cytoscape",
      "model_module_version": "^1.3.3",
      "model_name": "EdgeModel",
      "state": {
       "_model_module_version": "^1.3.3",
       "_view_module_version": "^1.3.3",
       "classes": " directed ",
       "data": {
        "id": "9e5ab21b-8987-4664-8eec-8fc8d9607987",
        "source": "4284789892316670812",
        "target": "-7405629666560167244"
       },
       "selectable": false
      }
     },
     "b325bda6c7924f1499540906b1b0ac68": {
      "model_module": "jupyter-cytoscape",
      "model_module_version": "^1.3.3",
      "model_name": "EdgeModel",
      "state": {
       "_model_module_version": "^1.3.3",
       "_view_module_version": "^1.3.3",
       "classes": " directed ",
       "data": {
        "id": "13a419ef-4e5e-48bc-8bcf-6f44e039a74c",
        "source": "4404835587749764547",
        "target": "-5040360113510152828"
       },
       "selectable": false
      }
     },
     "b4b934e7f21b466fa1d068dc30b63626": {
      "model_module": "jupyter-cytoscape",
      "model_module_version": "^1.3.3",
      "model_name": "NodeModel",
      "state": {
       "_model_module_version": "^1.3.3",
       "_view_module_version": "^1.3.3",
       "data": {
        "color": "gray",
        "id": "-1317472723562072043",
        "label": "",
        "shape": "rectangle"
       },
       "grabbable": true,
       "grabbed": false,
       "position": {
        "x": 545.5,
        "y": 755
       },
       "selectable": false
      }
     },
     "b7d37b644d0e408e9ae0a01f2bd701e2": {
      "model_module": "jupyter-cytoscape",
      "model_module_version": "^1.3.3",
      "model_name": "EdgeModel",
      "state": {
       "_model_module_version": "^1.3.3",
       "_view_module_version": "^1.3.3",
       "classes": " directed ",
       "data": {
        "id": "9378dbf6-7655-499d-88ea-31ff0e5fa321",
        "source": "923328652090316804",
        "target": "-1081426677675564292"
       },
       "selectable": false
      }
     },
     "b969fc7993f54577992679fc9893f7f8": {
      "model_module": "jupyter-cytoscape",
      "model_module_version": "^1.3.3",
      "model_name": "EdgeModel",
      "state": {
       "_model_module_version": "^1.3.3",
       "_view_module_version": "^1.3.3",
       "classes": " directed ",
       "data": {
        "id": "a8d3b072-10ff-4bba-ae99-6697ff542f0f",
        "source": "6521982915627942169",
        "target": "-3854565742365507736"
       },
       "selectable": false
      }
     },
     "b9c7fd11484646399daea1fa7cafdc96": {
      "model_module": "jupyter-cytoscape",
      "model_module_version": "^1.3.3",
      "model_name": "EdgeModel",
      "state": {
       "_model_module_version": "^1.3.3",
       "_view_module_version": "^1.3.3",
       "classes": " directed ",
       "data": {
        "id": "e65aabc1-ea1a-4fbd-8433-fec18f3e953a",
        "source": "2505755073948310226",
        "target": "4007774962747953975"
       },
       "selectable": false
      }
     },
     "bbe04c1d40db43ffaf74f6438fc3df5d": {
      "model_module": "jupyter-cytoscape",
      "model_module_version": "^1.3.3",
      "model_name": "NodeModel",
      "state": {
       "_model_module_version": "^1.3.3",
       "_view_module_version": "^1.3.3",
       "data": {
        "color": "gray",
        "id": "8229877112831480872",
        "label": "(0, 0, 0)",
        "shape": "rectangle"
       },
       "grabbable": true,
       "grabbed": false,
       "position": {
        "x": 178.5,
        "y": 755
       },
       "selectable": false
      }
     },
     "be424b3e76094ca2bb7febd7215bd5f7": {
      "model_module": "jupyter-cytoscape",
      "model_module_version": "^1.3.3",
      "model_name": "NodeModel",
      "state": {
       "_model_module_version": "^1.3.3",
       "_view_module_version": "^1.3.3",
       "data": {
        "color": "gray",
        "id": "4404835587749764547",
        "label": "",
        "shape": "rectangle"
       },
       "grabbable": true,
       "grabbed": false,
       "position": {
        "x": 1279.5,
        "y": 1715
       },
       "selectable": false
      }
     },
     "bec73aec1cde46ee99d6178f72f3c81a": {
      "model_module": "jupyter-cytoscape",
      "model_module_version": "^1.3.3",
      "model_name": "NodeModel",
      "state": {
       "_model_module_version": "^1.3.3",
       "_view_module_version": "^1.3.3",
       "data": {
        "color": "gray",
        "id": "4967474155010850164",
        "label": "extract_measurement",
        "shape": "ellipse"
       },
       "grabbable": true,
       "grabbed": false,
       "position": {
        "x": 912.5,
        "y": 1115
       },
       "selectable": false
      }
     },
     "bf28b546c99b4003b927c033e5f591aa": {
      "model_module": "jupyter-cytoscape",
      "model_module_version": "^1.3.3",
      "model_name": "EdgeModel",
      "state": {
       "_model_module_version": "^1.3.3",
       "_view_module_version": "^1.3.3",
       "classes": " directed ",
       "data": {
        "id": "3ab6ceb0-748e-4be9-93d3-266bbf365e28",
        "source": "-1081426677675564292",
        "target": "-3258767334579724648"
       },
       "selectable": false
      }
     },
     "c443ba2e59d34d2db5b06613f5a48668": {
      "model_module": "jupyter-cytoscape",
      "model_module_version": "^1.3.3",
      "model_name": "EdgeModel",
      "state": {
       "_model_module_version": "^1.3.3",
       "_view_module_version": "^1.3.3",
       "classes": " directed ",
       "data": {
        "id": "d018988c-5f96-4cf5-ae5c-63f77bd448ee",
        "source": "2465485290832801966",
        "target": "-4475292628711386349"
       },
       "selectable": false
      }
     },
     "c5039587f1be4f8390e23a78887bd7cd": {
      "model_module": "jupyter-cytoscape",
      "model_module_version": "^1.3.3",
      "model_name": "NodeModel",
      "state": {
       "_model_module_version": "^1.3.3",
       "_view_module_version": "^1.3.3",
       "data": {
        "color": "gray",
        "id": "-840886790934670838",
        "label": "3",
        "shape": "rectangle"
       },
       "grabbable": true,
       "grabbed": false,
       "position": {
        "x": 1279.5,
        "y": 1475
       },
       "selectable": false
      }
     },
     "c67c1cc46bb749c48b8c13a8dbf61910": {
      "model_module": "jupyter-cytoscape",
      "model_module_version": "^1.3.3",
      "model_name": "NodeModel",
      "state": {
       "_model_module_version": "^1.3.3",
       "_view_module_version": "^1.3.3",
       "data": {
        "color": "gray",
        "id": "-3854565742365507736",
        "label": "0",
        "shape": "rectangle"
       },
       "grabbable": true,
       "grabbed": false,
       "position": {
        "x": 178.5,
        "y": 635
       },
       "selectable": false
      }
     },
     "c756f5dcc55342bfb242d79487a1b102": {
      "model_module": "jupyter-cytoscape",
      "model_module_version": "^1.3.3",
      "model_name": "NodeModel",
      "state": {
       "_model_module_version": "^1.3.3",
       "_view_module_version": "^1.3.3",
       "data": {
        "color": "gray",
        "id": "5991405346434455650",
        "label": "(2, 0, 0)",
        "shape": "rectangle"
       },
       "grabbable": true,
       "grabbed": false,
       "position": {
        "x": 912.5,
        "y": 35
       },
       "selectable": false
      }
     },
     "c75d2f2e810d44dfaf287033185b82a8": {
      "model_module": "jupyter-cytoscape",
      "model_module_version": "^1.3.3",
      "model_name": "EdgeModel",
      "state": {
       "_model_module_version": "^1.3.3",
       "_view_module_version": "^1.3.3",
       "classes": " directed ",
       "data": {
        "id": "a8a3a544-09e4-4c2a-acb9-afe5f941256e",
        "source": "1200226053435554483",
        "target": "8338488330401887310"
       },
       "selectable": false
      }
     },
     "c88f19a708514eed830b793b4bed04ec": {
      "model_module": "jupyter-cytoscape",
      "model_module_version": "^1.3.3",
      "model_name": "NodeModel",
      "state": {
       "_model_module_version": "^1.3.3",
       "_view_module_version": "^1.3.3",
       "data": {
        "color": "gray",
        "id": "8338488330401887310",
        "label": "intensity",
        "shape": "ellipse"
       },
       "grabbable": true,
       "grabbed": false,
       "position": {
        "x": 1279.5,
        "y": 875
       },
       "selectable": false
      }
     },
     "cf907dbe4234472cb59ff7ad9082b800": {
      "model_module": "jupyter-cytoscape",
      "model_module_version": "^1.3.3",
      "model_name": "NodeModel",
      "state": {
       "_model_module_version": "^1.3.3",
       "_view_module_version": "^1.3.3",
       "data": {
        "color": "gray",
        "id": "-4724641587111696038",
        "label": "frozen_phonon",
        "shape": "ellipse"
       },
       "grabbable": true,
       "grabbed": false,
       "position": {
        "x": 545.5,
        "y": 875
       },
       "selectable": false
      }
     },
     "d0339cb1e24a42dbaa2000cd0506089f": {
      "model_module": "jupyter-cytoscape",
      "model_module_version": "^1.3.3",
      "model_name": "NodeModel",
      "state": {
       "_model_module_version": "^1.3.3",
       "_view_module_version": "^1.3.3",
       "data": {
        "color": "gray",
        "id": "4590575770570883928",
        "label": "1",
        "shape": "rectangle"
       },
       "grabbable": true,
       "grabbed": false,
       "position": {
        "x": 545.5,
        "y": 1475
       },
       "selectable": false
      }
     },
     "d22bb356e2534524921acb2590823bfa": {
      "model_module": "jupyter-cytoscape",
      "model_module_version": "^1.3.3",
      "model_name": "EdgeModel",
      "state": {
       "_model_module_version": "^1.3.3",
       "_view_module_version": "^1.3.3",
       "classes": " directed ",
       "data": {
        "id": "2a1ef2ad-92e9-4c26-a451-9d98c5c50deb",
        "source": "-8963094274165971322",
        "target": "2465485290832801966"
       },
       "selectable": false
      }
     },
     "d25db23b2f574d6ba83698b1108ac338": {
      "model_module": "jupyter-cytoscape",
      "model_module_version": "^1.3.3",
      "model_name": "NodeModel",
      "state": {
       "_model_module_version": "^1.3.3",
       "_view_module_version": "^1.3.3",
       "data": {
        "color": "gray",
        "id": "2348523458023353802",
        "label": "",
        "shape": "rectangle"
       },
       "grabbable": true,
       "grabbed": false,
       "position": {
        "x": 178.5,
        "y": 995
       },
       "selectable": false
      }
     },
     "d44b6201fb214d44a4c8013bbe4c287b": {
      "model_module": "jupyter-cytoscape",
      "model_module_version": "^1.3.3",
      "model_name": "EdgeModel",
      "state": {
       "_model_module_version": "^1.3.3",
       "_view_module_version": "^1.3.3",
       "classes": " directed ",
       "data": {
        "id": "41888993-6305-4850-959a-9a0b1c5f8392",
        "source": "-5040360113510152828",
        "target": "-840886790934670838"
       },
       "selectable": false
      }
     },
     "d47ae6e68e5a4bbda3e556e47b769877": {
      "model_module": "jupyter-cytoscape",
      "model_module_version": "^1.3.3",
      "model_name": "NodeModel",
      "state": {
       "_model_module_version": "^1.3.3",
       "_view_module_version": "^1.3.3",
       "data": {
        "color": "gray",
        "id": "-3406921137376322128",
        "label": "extract_measurement",
        "shape": "ellipse"
       },
       "grabbable": true,
       "grabbed": false,
       "position": {
        "x": 1279.5,
        "y": 155
       },
       "selectable": false
      }
     },
     "d93d063816244c57aa77b44152c1ad9c": {
      "model_module": "jupyter-cytoscape",
      "model_module_version": "^1.3.3",
      "model_name": "EdgeModel",
      "state": {
       "_model_module_version": "^1.3.3",
       "_view_module_version": "^1.3.3",
       "classes": " directed ",
       "data": {
        "id": "797ea8b1-fa3f-449b-8bcc-dfd00c50b530",
        "source": "696471277815720",
        "target": "-1081426677675564292"
       },
       "selectable": false
      }
     },
     "da1e5993bd894cd9aa83744196fa8dbe": {
      "model_module": "jupyter-cytoscape",
      "model_module_version": "^1.3.3",
      "model_name": "NodeModel",
      "state": {
       "_model_module_version": "^1.3.3",
       "_view_module_version": "^1.3.3",
       "data": {
        "color": "gray",
        "id": "-7348527547036669263",
        "label": "2",
        "shape": "rectangle"
       },
       "grabbable": true,
       "grabbed": false,
       "position": {
        "x": 912.5,
        "y": 1475
       },
       "selectable": false
      }
     },
     "dc13543195eb484aaaa375845e531fc0": {
      "model_module": "jupyter-cytoscape",
      "model_module_version": "^1.3.3",
      "model_name": "EdgeModel",
      "state": {
       "_model_module_version": "^1.3.3",
       "_view_module_version": "^1.3.3",
       "classes": " directed ",
       "data": {
        "id": "28cfc882-38ae-40ad-b771-fc5a3bba0ec5",
        "source": "5336497445711599868",
        "target": "8229877112831480872"
       },
       "selectable": false
      }
     },
     "dc7da03ed0c74a149f6427260d47e725": {
      "model_module": "jupyter-cytoscape",
      "model_module_version": "^1.3.3",
      "model_name": "NodeModel",
      "state": {
       "_model_module_version": "^1.3.3",
       "_view_module_version": "^1.3.3",
       "data": {
        "color": "gray",
        "id": "-5040360113510152828",
        "label": "0",
        "shape": "rectangle"
       },
       "grabbable": true,
       "grabbed": false,
       "position": {
        "x": 1279.5,
        "y": 635
       },
       "selectable": false
      }
     },
     "deeacb2015894760aa36ba08abb2ac2b": {
      "model_module": "jupyter-cytoscape",
      "model_module_version": "^1.3.3",
      "model_name": "EdgeModel",
      "state": {
       "_model_module_version": "^1.3.3",
       "_view_module_version": "^1.3.3",
       "classes": " directed ",
       "data": {
        "id": "762a58e1-4e90-4f14-bc26-94a830079027",
        "source": "2032348127390612076",
        "target": "-3421152007899703746"
       },
       "selectable": false
      }
     },
     "e009b026ba1946088b9612be74ebc177": {
      "model_module": "jupyter-cytoscape",
      "model_module_version": "^1.3.3",
      "model_name": "NodeModel",
      "state": {
       "_model_module_version": "^1.3.3",
       "_view_module_version": "^1.3.3",
       "data": {
        "color": "gray",
        "id": "-8119595567297417993",
        "label": "(3, 0, 0)",
        "shape": "rectangle"
       },
       "grabbable": true,
       "grabbed": false,
       "position": {
        "x": 1279.5,
        "y": 515
       },
       "selectable": false
      }
     },
     "e27e670a7917461eb298cab268c1e5a7": {
      "model_module": "jupyter-cytoscape",
      "model_module_version": "^1.3.3",
      "model_name": "NodeModel",
      "state": {
       "_model_module_version": "^1.3.3",
       "_view_module_version": "^1.3.3",
       "data": {
        "color": "gray",
        "id": "-4724641587111696038",
        "label": "frozen_phonon",
        "shape": "ellipse"
       },
       "grabbable": true,
       "grabbed": false,
       "position": {
        "x": 545.5,
        "y": 1835
       },
       "selectable": false
      }
     },
     "e28a5982914c4bd694a11386669343fc": {
      "model_module": "jupyter-cytoscape",
      "model_module_version": "^1.3.3",
      "model_name": "NodeModel",
      "state": {
       "_model_module_version": "^1.3.3",
       "_view_module_version": "^1.3.3",
       "data": {
        "color": "gray",
        "id": "-3165961374497234373",
        "label": "build_waves_multislice_detect",
        "shape": "ellipse"
       },
       "grabbable": true,
       "grabbed": false,
       "position": {
        "x": 545.5,
        "y": 1355
       },
       "selectable": false
      }
     },
     "e2ee524d7c30497f812c75421d69cf65": {
      "model_module": "jupyter-cytoscape",
      "model_module_version": "^1.3.3",
      "model_name": "NodeModel",
      "state": {
       "_model_module_version": "^1.3.3",
       "_view_module_version": "^1.3.3",
       "data": {
        "color": "gray",
        "id": "-4475292628711386349",
        "label": "0",
        "shape": "rectangle"
       },
       "grabbable": true,
       "grabbed": false,
       "position": {
        "x": 178.5,
        "y": 1235
       },
       "selectable": false
      }
     },
     "e3793581c6d343ad9821e13a3d861371": {
      "model_module": "jupyter-cytoscape",
      "model_module_version": "^1.3.3",
      "model_name": "GraphModel",
      "state": {
       "_adj": {
        "-1317472723562072043": {},
        "-2599527930638940473": {},
        "-3165961374497234373": {},
        "-3406921137376322128": {},
        "-3421152007899703746": {},
        "-3854565742365507736": {},
        "-4475292628711386349": {},
        "-4724641587111696038": {},
        "-5006927691918128058": {},
        "-5040360113510152828": {},
        "-5912613140114651892": {},
        "-7348527547036669263": {},
        "-7405629666560167244": {},
        "-751442528464453993": {},
        "-840886790934670838": {},
        "-8963094274165971322": {},
        "1140298105136515211": {},
        "1200226053435554483": {},
        "2032348127390612076": {},
        "2348523458023353802": {},
        "2465485290832801966": {},
        "3257709649814184405": {},
        "3469922011544708248": {},
        "3968267829707438927": {},
        "4141631500508242373": {},
        "4284789892316670812": {},
        "4404835587749764547": {},
        "4590575770570883928": {},
        "4967474155010850164": {},
        "4991817002546876692": {},
        "5445623426437488738": {},
        "5991405346434455650": {},
        "6521982915627942169": {},
        "6859144207816615557": {},
        "8086419373411149531": {},
        "8966269833224774983": {}
       },
       "_model_module_version": "^1.3.3",
       "_view_module": "jupyter-cytoscape",
       "_view_module_version": "^1.3.3",
       "edges": [
        "IPY_MODEL_ee099bb9d68d4d6eb69800da83e2abb4",
        "IPY_MODEL_0142f0186bb44ae98194bd9c43678e35",
        "IPY_MODEL_fb860f81a7d94b338507a178a24d0dba",
        "IPY_MODEL_8e52fe59c6df44d5861cef3dff60dd06",
        "IPY_MODEL_161561d3b9764ca789a04b21e871acd9",
        "IPY_MODEL_66e95e99c33f403597c850c0e504b103",
        "IPY_MODEL_b969fc7993f54577992679fc9893f7f8",
        "IPY_MODEL_ad6c6f7f5fff4430862b04bc873fdbbf",
        "IPY_MODEL_2d1a428bd3d445d5938f5bfe6af6cc35",
        "IPY_MODEL_716efe54e9d04802a232e3db2c38d038",
        "IPY_MODEL_0a0a57be755f413db72d96f449a7481c",
        "IPY_MODEL_a6746c5c8ae54c5a9a2e9ef2fa701cf8",
        "IPY_MODEL_5ea049431f0a41958e86714bc781549d",
        "IPY_MODEL_a0321de9a1bc4566a7a2f94bf32bcad5",
        "IPY_MODEL_98eca508d5d449beb2492e945aeb508f",
        "IPY_MODEL_b325bda6c7924f1499540906b1b0ac68",
        "IPY_MODEL_1f5d3d3387c04f04a43e10b4ec0fa0ba",
        "IPY_MODEL_090fc042ee7d44b29edcd3c90d920435",
        "IPY_MODEL_766ab1e3b1a8464c93b70083ef5bf260",
        "IPY_MODEL_25ebd14e06a34d36810ef4faae4d04d5",
        "IPY_MODEL_4266b31ba4fb450c8e9e14c3105506cf",
        "IPY_MODEL_502aeed636804c9a9f201f716b58ed05",
        "IPY_MODEL_5ba69e99b11d459ab0376d56c941aabc",
        "IPY_MODEL_27b3ba7155164a24a868e9304a28b020",
        "IPY_MODEL_370f5913760f44218a9c9f242c9d903a",
        "IPY_MODEL_3d2c35a422894f99a5787cc9837ce678",
        "IPY_MODEL_86dd95c0680b4e2989a85e80859afa89",
        "IPY_MODEL_e8cf0cf5d63346ffb8145e28a5d03c10",
        "IPY_MODEL_63ffb44b493040488ae1059889228578",
        "IPY_MODEL_9eb1197160d14bd0ac1797b980b40187",
        "IPY_MODEL_a3118ed9923b490d9562d41720c30fc7",
        "IPY_MODEL_9afd76af882b494db211fef47702e249"
       ],
       "nodes": [
        "IPY_MODEL_f42e4d98dc10498395369c645ef99d85",
        "IPY_MODEL_9cf5627c47fe42e7a51c0b2197ad9938",
        "IPY_MODEL_837b74978681402e92200e724add0418",
        "IPY_MODEL_6d5e49e0147c4b74a4e8e198dcdd7a04",
        "IPY_MODEL_d25db23b2f574d6ba83698b1108ac338",
        "IPY_MODEL_2243e3eeb460441197b238ae77e92daf",
        "IPY_MODEL_98870be0f065402d973656e48f1b0454",
        "IPY_MODEL_c67c1cc46bb749c48b8c13a8dbf61910",
        "IPY_MODEL_32b91f41dd8044eda964f3b83dd37b99",
        "IPY_MODEL_cf907dbe4234472cb59ff7ad9082b800",
        "IPY_MODEL_b4b934e7f21b466fa1d068dc30b63626",
        "IPY_MODEL_6fef8da24a5a4d69a45fb38e2e2e0751",
        "IPY_MODEL_587ffa96f1784b5791c116db8adafeee",
        "IPY_MODEL_71bdee549c2e4b0d9eb8ed718a5d59dc",
        "IPY_MODEL_a673afada23f46da87dc07bd417b5075",
        "IPY_MODEL_2194f7ee08fe437e96875299d93a4dc5",
        "IPY_MODEL_4d6ee4ac8c1f4d14bb5c229713b920e7",
        "IPY_MODEL_35dc1de8db43422c8da53a64f833a0d0",
        "IPY_MODEL_ec6b1a26903d4955a63661ec593d8437",
        "IPY_MODEL_dc7da03ed0c74a149f6427260d47e725",
        "IPY_MODEL_f2f5a4080c204bd7b2f878ae731e8856",
        "IPY_MODEL_34fd38f8b4b847cf82876b6911dc936e",
        "IPY_MODEL_ef235842fa084a93b585f37e3e932efa",
        "IPY_MODEL_98608aa303964026a7f020f5245ce6fb",
        "IPY_MODEL_28743a58e23542a8abad8fa893eb4ff9",
        "IPY_MODEL_78fd93d6bffa4431967cea56e341af4e",
        "IPY_MODEL_3ee80d1ec96943009d6ea8d63921bb8d",
        "IPY_MODEL_4a6929a95ad946bcb1e9e63c8e7fee54",
        "IPY_MODEL_4d09b82153194254a6e4a653137f29f8",
        "IPY_MODEL_6d9147990c1443c492b1f8c62c9594ad",
        "IPY_MODEL_8140076624a0466ab35d072cc8f00a79",
        "IPY_MODEL_9539fc5d8682481586dd0c2bd4394739",
        "IPY_MODEL_8de5bee3b59d4d4aacb6410b14aed913",
        "IPY_MODEL_c756f5dcc55342bfb242d79487a1b102",
        "IPY_MODEL_d47ae6e68e5a4bbda3e556e47b769877",
        "IPY_MODEL_13cf10ff12f54d698b3dd908590e0cff"
       ]
      }
     },
     "e4e068f66ae54bf7b33964ca51603029": {
      "model_module": "jupyter-cytoscape",
      "model_module_version": "^1.3.3",
      "model_name": "EdgeModel",
      "state": {
       "_model_module_version": "^1.3.3",
       "_view_module_version": "^1.3.3",
       "classes": " directed ",
       "data": {
        "id": "6de62289-238e-43d2-ae61-901bbf8066e8",
        "source": "5991405346434455650",
        "target": "-933516822802371220"
       },
       "selectable": false
      }
     },
     "e5b6c4287c424f74988e82d7a1399bda": {
      "model_module": "jupyter-cytoscape",
      "model_module_version": "^1.3.3",
      "model_name": "EdgeModel",
      "state": {
       "_model_module_version": "^1.3.3",
       "_view_module_version": "^1.3.3",
       "classes": " directed ",
       "data": {
        "id": "6481bced-d9ef-4487-baf7-1baf13d9f519",
        "source": "-6530398792300349348",
        "target": "-1328156421819520447"
       },
       "selectable": false
      }
     },
     "e7f6ecdc0566494183a5a8549a2789ae": {
      "model_module": "jupyter-cytoscape",
      "model_module_version": "^1.3.3",
      "model_name": "EdgeModel",
      "state": {
       "_model_module_version": "^1.3.3",
       "_view_module_version": "^1.3.3",
       "classes": " directed ",
       "data": {
        "id": "fb69a7a0-c148-4fa3-acfb-d585cfd98715",
        "source": "-3406921137376322128",
        "target": "1200226053435554483"
       },
       "selectable": false
      }
     },
     "e8cf0cf5d63346ffb8145e28a5d03c10": {
      "model_module": "jupyter-cytoscape",
      "model_module_version": "^1.3.3",
      "model_name": "EdgeModel",
      "state": {
       "_model_module_version": "^1.3.3",
       "_view_module_version": "^1.3.3",
       "classes": " directed ",
       "data": {
        "id": "6251e76e-6787-4cab-87a6-a6678e02a52a",
        "source": "2032348127390612076",
        "target": "-3421152007899703746"
       },
       "selectable": false
      }
     },
     "e96fdac18c4e4f49b8ec519104df1e0e": {
      "model_module": "jupyter-cytoscape",
      "model_module_version": "^1.3.3",
      "model_name": "NodeModel",
      "state": {
       "_model_module_version": "^1.3.3",
       "_view_module_version": "^1.3.3",
       "data": {
        "color": "gray",
        "id": "-8963094274165971322",
        "label": "0",
        "shape": "rectangle"
       },
       "grabbable": true,
       "grabbed": false,
       "position": {
        "x": 178.5,
        "y": 1475
       },
       "selectable": false
      }
     },
     "ec6b1a26903d4955a63661ec593d8437": {
      "model_module": "jupyter-cytoscape",
      "model_module_version": "^1.3.3",
      "model_name": "NodeModel",
      "state": {
       "_model_module_version": "^1.3.3",
       "_view_module_version": "^1.3.3",
       "data": {
        "color": "gray",
        "id": "4404835587749764547",
        "label": "",
        "shape": "rectangle"
       },
       "grabbable": true,
       "grabbed": false,
       "position": {
        "x": 1279.5,
        "y": 755
       },
       "selectable": false
      }
     },
     "ee099bb9d68d4d6eb69800da83e2abb4": {
      "model_module": "jupyter-cytoscape",
      "model_module_version": "^1.3.3",
      "model_name": "EdgeModel",
      "state": {
       "_model_module_version": "^1.3.3",
       "_view_module_version": "^1.3.3",
       "classes": " directed ",
       "data": {
        "id": "71645bfa-0630-4fb1-a621-de81f1569607",
        "source": "-3854565742365507736",
        "target": "-8963094274165971322"
       },
       "selectable": false
      }
     },
     "ee3835f53a2e4e0bb2f61624d6eb60c2": {
      "model_module": "jupyter-cytoscape",
      "model_module_version": "^1.3.3",
      "model_name": "NodeModel",
      "state": {
       "_model_module_version": "^1.3.3",
       "_view_module_version": "^1.3.3",
       "data": {
        "color": "gray",
        "id": "2505755073948310226",
        "label": "mean_chunk",
        "shape": "ellipse"
       },
       "grabbable": true,
       "grabbed": false,
       "position": {
        "x": 545.5,
        "y": 635
       },
       "selectable": false
      }
     },
     "ef235842fa084a93b585f37e3e932efa": {
      "model_module": "jupyter-cytoscape",
      "model_module_version": "^1.3.3",
      "model_name": "NodeModel",
      "state": {
       "_model_module_version": "^1.3.3",
       "_view_module_version": "^1.3.3",
       "data": {
        "color": "gray",
        "id": "-3165961374497234373",
        "label": "build_waves_multislice_detect",
        "shape": "ellipse"
       },
       "grabbable": true,
       "grabbed": false,
       "position": {
        "x": 545.5,
        "y": 395
       },
       "selectable": false
      }
     },
     "f0e8e92ad8a54933a3f8eb731877d325": {
      "model_module": "jupyter-cytoscape",
      "model_module_version": "^1.3.3",
      "model_name": "EdgeModel",
      "state": {
       "_model_module_version": "^1.3.3",
       "_view_module_version": "^1.3.3",
       "classes": " directed ",
       "data": {
        "id": "dcec18cb-6f25-45ce-8166-1b8783562ac2",
        "source": "-751442528464453993",
        "target": "-3406921137376322128"
       },
       "selectable": false
      }
     },
     "f2f5a4080c204bd7b2f878ae731e8856": {
      "model_module": "jupyter-cytoscape",
      "model_module_version": "^1.3.3",
      "model_name": "NodeModel",
      "state": {
       "_model_module_version": "^1.3.3",
       "_view_module_version": "^1.3.3",
       "data": {
        "color": "gray",
        "id": "2465485290832801966",
        "label": "build_waves_multislice_detect",
        "shape": "ellipse"
       },
       "grabbable": true,
       "grabbed": false,
       "position": {
        "x": 178.5,
        "y": 395
       },
       "selectable": false
      }
     },
     "f382d5df49814894ab803192f42ba93e": {
      "model_module": "jupyter-cytoscape",
      "model_module_version": "^1.3.3",
      "model_name": "EdgeModel",
      "state": {
       "_model_module_version": "^1.3.3",
       "_view_module_version": "^1.3.3",
       "classes": " directed ",
       "data": {
        "id": "d0fb4f62-1ac8-40f8-9ca1-6d24cc4adb36",
        "source": "-1317472723562072043",
        "target": "4991817002546876692"
       },
       "selectable": false
      }
     },
     "f3e52767ef6849ce8d6026f31a910443": {
      "model_module": "jupyter-cytoscape",
      "model_module_version": "^1.3.3",
      "model_name": "NodeModel",
      "state": {
       "_model_module_version": "^1.3.3",
       "_view_module_version": "^1.3.3",
       "data": {
        "color": "gray",
        "id": "4284789892316670812",
        "label": "frozen_phonon",
        "shape": "ellipse"
       },
       "grabbable": true,
       "grabbed": false,
       "position": {
        "x": 912.5,
        "y": 1835
       },
       "selectable": false
      }
     },
     "f42e4d98dc10498395369c645ef99d85": {
      "model_module": "jupyter-cytoscape",
      "model_module_version": "^1.3.3",
      "model_name": "NodeModel",
      "state": {
       "_model_module_version": "^1.3.3",
       "_view_module_version": "^1.3.3",
       "data": {
        "color": "gray",
        "id": "-8963094274165971322",
        "label": "0",
        "shape": "rectangle"
       },
       "grabbable": true,
       "grabbed": false,
       "position": {
        "x": 178.5,
        "y": 515
       },
       "selectable": false
      }
     },
     "f87abb53f3024412bde724a9581f9004": {
      "model_module": "jupyter-cytoscape",
      "model_module_version": "^1.3.3",
      "model_name": "NodeModel",
      "state": {
       "_model_module_version": "^1.3.3",
       "_view_module_version": "^1.3.3",
       "data": {
        "color": "gray",
        "id": "487139590792290665",
        "label": "mean_chunk",
        "shape": "ellipse"
       },
       "grabbable": true,
       "grabbed": false,
       "position": {
        "x": 178.5,
        "y": 635
       },
       "selectable": false
      }
     },
     "f9ca666dfb1642c1b9510ed81890a7cc": {
      "model_module": "jupyter-cytoscape",
      "model_module_version": "^1.3.3",
      "model_name": "NodeModel",
      "state": {
       "_model_module_version": "^1.3.3",
       "_view_module_version": "^1.3.3",
       "data": {
        "color": "gray",
        "id": "-2599527930638940473",
        "label": "",
        "shape": "rectangle"
       },
       "grabbable": true,
       "grabbed": false,
       "position": {
        "x": 1279.5,
        "y": 1955
       },
       "selectable": false
      }
     },
     "fa5669dba1d9480ea40d3f85167c6bb0": {
      "model_module": "jupyter-cytoscape",
      "model_module_version": "^1.3.3",
      "model_name": "NodeModel",
      "state": {
       "_model_module_version": "^1.3.3",
       "_view_module_version": "^1.3.3",
       "data": {
        "color": "gray",
        "id": "-3258767334579724648",
        "label": "(0, 0)",
        "shape": "rectangle"
       },
       "grabbable": true,
       "grabbed": false,
       "position": {
        "x": 729,
        "y": 35
       },
       "selectable": false
      }
     },
     "fb860f81a7d94b338507a178a24d0dba": {
      "model_module": "jupyter-cytoscape",
      "model_module_version": "^1.3.3",
      "model_name": "EdgeModel",
      "state": {
       "_model_module_version": "^1.3.3",
       "_view_module_version": "^1.3.3",
       "classes": " directed ",
       "data": {
        "id": "3162dce9-3eb3-4090-979a-990e63bb03bd",
        "source": "-5912613140114651892",
        "target": "-7348527547036669263"
       },
       "selectable": false
      }
     },
     "fd6b1560c9874f4587dfe010cc25efa2": {
      "model_module": "jupyter-cytoscape",
      "model_module_version": "^1.3.3",
      "model_name": "NodeModel",
      "state": {
       "_model_module_version": "^1.3.3",
       "_view_module_version": "^1.3.3",
       "data": {
        "color": "gray",
        "id": "-3421152007899703746",
        "label": "extract_measurement",
        "shape": "ellipse"
       },
       "grabbable": true,
       "grabbed": false,
       "position": {
        "x": 545.5,
        "y": 1115
       },
       "selectable": false
      }
     }
    },
    "version_major": 2,
    "version_minor": 0
   }
  }
 },
 "nbformat": 4,
 "nbformat_minor": 5
}
