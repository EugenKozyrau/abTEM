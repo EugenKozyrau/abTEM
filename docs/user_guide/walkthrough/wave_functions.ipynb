{
 "cells": [
  {
   "cell_type": "code",
   "execution_count": 4,
   "metadata": {
    "pycharm": {
     "name": "#%%\n"
    },
    "tags": [
     "hide-input"
    ]
   },
   "outputs": [],
   "source": [
    "%matplotlib inline\n",
    "\n",
    "import matplotlib.pyplot as plt\n",
    "import numpy as np\n",
    "\n",
    "import abtem\n",
    "\n",
    "abtem.config.set({\"local_diagnostics.progress_bar\": False});"
   ]
  },
  {
   "cell_type": "markdown",
   "metadata": {
    "pycharm": {
     "name": "#%% md\n"
    }
   },
   "source": [
    "# Wave functions\n",
    "The multislice algorithm works by propagating the $xy$ part of the wave function (defined as $\\phi$ in the [appendix](appendix/multislice_derivation.ipynb)) through the electrostatic potential. To initiate this process, we need to assume the initial conditions for the wave function, i.e. the wave function describing the electron beam formed by the electron optics before the sample.\n",
    "\n",
    "*abTEM* defines three types of wave functions:\n",
    "\n",
    "* [`PlaneWave`](wave_functions:plane_wave): Simulate HRTEM, SAED or other imaging modes with plane wave illumination.\n",
    "* [`Probe`](wave_functions:probe): Simulate CBED, STEM or other imaging modes with a converged electron beam.\n",
    "* [`Waves`](wave_functions:waves): Defines any custom wave function. The `PlaneWave` and `Probe` can be turned into `Waves`.\n",
    "\n",
    "```{seealso}\n",
    "The PRISM `SMatrix` is not included in the list above. However, it can be used to achieve most of the goals of using the `Probe`. See our introduction to PRISM in abTEM.\n",
    "```\n",
    "\n",
    "(wave_functions:plane_wave)=\n",
    "## Plane wave functions\n",
    "\n",
    "We create a plane wave on a $256 \\times 256$ grid with a lateral extent of $5\\times 5$ $\\mathrm{Å}^2$ and an energy of $300 \\ \\mathrm{keV}$."
   ]
  },
  {
   "cell_type": "code",
   "execution_count": 5,
   "metadata": {
    "tags": []
   },
   "outputs": [],
   "source": [
    "plane_wave = abtem.PlaneWave(gpts=256, extent=5, energy=300e3)"
   ]
  },
  {
   "cell_type": "markdown",
   "metadata": {},
   "source": [
    "The real-space sampling, or pixel size, is calculated by dividing the `extent` by the number of grid points (`gpts`). The properties related to the grid, i.e. the `extent`, `gpts` and `sampling` can be accessed as:"
   ]
  },
  {
   "cell_type": "code",
   "execution_count": 6,
   "metadata": {},
   "outputs": [
    {
     "data": {
      "text/plain": [
       "((5.0, 5.0), (256, 256), (0.01953125, 0.01953125))"
      ]
     },
     "execution_count": 6,
     "metadata": {},
     "output_type": "execute_result"
    }
   ],
   "source": [
    "plane_wave.extent, plane_wave.gpts, plane_wave.sampling"
   ]
  },
  {
   "cell_type": "markdown",
   "metadata": {},
   "source": [
    "The grid is fully defined from just two of the three quantities listed above, hence, we may pick any combination of two to define the grid. \n",
    "\n",
    "The relativistic wavelength in Ångstrom, derived from the energy, is accessed as:"
   ]
  },
  {
   "cell_type": "code",
   "execution_count": 7,
   "metadata": {},
   "outputs": [
    {
     "name": "stdout",
     "output_type": "stream",
     "text": [
      "Wavelength: 0.0197 Å\n"
     ]
    }
   ],
   "source": [
    "print(f\"Wavelength: {plane_wave.wavelength:.4f} Å\")"
   ]
  },
  {
   "cell_type": "markdown",
   "metadata": {},
   "source": [
    "```{note}\n",
    "*abTEM* uses the same unit conventions as ASE, as defined in the `ase.units` module. Thus, electron volts (eV), Ångström (Å), and atomic mass units are defined as 1.0. The electrostatic potential is given in (eV / e). Angles in *abTEM* are for convenience given in milliradians (mrad).\n",
    "\n",
    "```\n",
    "We can turn the `PlaneWave` into the generic `Waves` by using `build`."
   ]
  },
  {
   "cell_type": "code",
   "execution_count": 8,
   "metadata": {
    "pycharm": {
     "name": "#%%\n"
    }
   },
   "outputs": [
    {
     "data": {
      "text/plain": [
       "<abtem.waves.waves.Waves object at 0x1d1eb50eb90>\n",
       "-------------------------------------------------\n",
       "\n",
       "type           label    coordinates\n",
       "-------------  -------  ------------------\n",
       "RealSpaceAxis  x [Å]    0.00 0.02 ... 4.98\n",
       "RealSpaceAxis  y [Å]    0.00 0.02 ... 4.98\n",
       "\n",
       "        bytes       shape       count     type\n",
       "------  ----------  ----------  --------  -------------\n",
       "array   512.00 kiB  (256, 256)  2 tasks   complex64\n",
       "chunks  512.00 kiB  (256, 256)  1 chunks  numpy.ndarray"
      ]
     },
     "execution_count": 8,
     "metadata": {},
     "output_type": "execute_result"
    }
   ],
   "source": [
    "waves = plane_wave.build()\n",
    "\n",
    "waves"
   ]
  },
  {
   "cell_type": "markdown",
   "metadata": {},
   "source": [
    "The `Waves` describe the wave function as a complex `dask` array accessed below:"
   ]
  },
  {
   "cell_type": "code",
   "execution_count": 9,
   "metadata": {},
   "outputs": [
    {
     "data": {
      "text/html": [
       "<table>\n",
       "<tr>\n",
       "<td>\n",
       "<table>\n",
       "  <thead>\n",
       "    <tr><td> </td><th> Array </th><th> Chunk </th></tr>\n",
       "  </thead>\n",
       "  <tbody>\n",
       "    <tr><th> Bytes </th><td> 512.00 kiB </td> <td> 512.00 kiB </td></tr>\n",
       "    <tr><th> Shape </th><td> (256, 256) </td> <td> (256, 256) </td></tr>\n",
       "    <tr><th> Count </th><td> 2 Tasks </td><td> 1 Chunks </td></tr>\n",
       "    <tr><th> Type </th><td> complex64 </td><td> numpy.ndarray </td></tr>\n",
       "  </tbody>\n",
       "</table>\n",
       "</td>\n",
       "<td>\n",
       "<svg width=\"170\" height=\"170\" style=\"stroke:rgb(0,0,0);stroke-width:1\" >\n",
       "\n",
       "  <!-- Horizontal lines -->\n",
       "  <line x1=\"0\" y1=\"0\" x2=\"120\" y2=\"0\" style=\"stroke-width:2\" />\n",
       "  <line x1=\"0\" y1=\"120\" x2=\"120\" y2=\"120\" style=\"stroke-width:2\" />\n",
       "\n",
       "  <!-- Vertical lines -->\n",
       "  <line x1=\"0\" y1=\"0\" x2=\"0\" y2=\"120\" style=\"stroke-width:2\" />\n",
       "  <line x1=\"120\" y1=\"0\" x2=\"120\" y2=\"120\" style=\"stroke-width:2\" />\n",
       "\n",
       "  <!-- Colored Rectangle -->\n",
       "  <polygon points=\"0.0,0.0 120.0,0.0 120.0,120.0 0.0,120.0\" style=\"fill:#ECB172A0;stroke-width:0\"/>\n",
       "\n",
       "  <!-- Text -->\n",
       "  <text x=\"60.000000\" y=\"140.000000\" font-size=\"1.0rem\" font-weight=\"100\" text-anchor=\"middle\" >256</text>\n",
       "  <text x=\"140.000000\" y=\"60.000000\" font-size=\"1.0rem\" font-weight=\"100\" text-anchor=\"middle\" transform=\"rotate(-90,140.000000,60.000000)\">256</text>\n",
       "</svg>\n",
       "</td>\n",
       "</tr>\n",
       "</table>"
      ],
      "text/plain": [
       "dask.array<_extract_measurement, shape=(256, 256), dtype=complex64, chunksize=(256, 256), chunktype=numpy.ndarray>"
      ]
     },
     "execution_count": 9,
     "metadata": {},
     "output_type": "execute_result"
    }
   ],
   "source": [
    "waves.array"
   ]
  },
  {
   "cell_type": "markdown",
   "metadata": {},
   "source": [
    "The `Waves` are computed using the `.compute` method, this turns the `dask` array into a `numpy` array. The plane wave is just an array of ones:"
   ]
  },
  {
   "cell_type": "code",
   "execution_count": 12,
   "metadata": {},
   "outputs": [
    {
     "data": {
      "text/plain": [
       "array([[1.+0.j, 1.+0.j, 1.+0.j, ..., 1.+0.j, 1.+0.j, 1.+0.j],\n",
       "       [1.+0.j, 1.+0.j, 1.+0.j, ..., 1.+0.j, 1.+0.j, 1.+0.j],\n",
       "       [1.+0.j, 1.+0.j, 1.+0.j, ..., 1.+0.j, 1.+0.j, 1.+0.j],\n",
       "       ...,\n",
       "       [1.+0.j, 1.+0.j, 1.+0.j, ..., 1.+0.j, 1.+0.j, 1.+0.j],\n",
       "       [1.+0.j, 1.+0.j, 1.+0.j, ..., 1.+0.j, 1.+0.j, 1.+0.j],\n",
       "       [1.+0.j, 1.+0.j, 1.+0.j, ..., 1.+0.j, 1.+0.j, 1.+0.j]],\n",
       "      dtype=complex64)"
      ]
     },
     "execution_count": 12,
     "metadata": {},
     "output_type": "execute_result"
    }
   ],
   "source": [
    "waves.compute()\n",
    "\n",
    "waves.array"
   ]
  },
  {
   "cell_type": "markdown",
   "metadata": {},
   "source": [
    "```{note}\n",
    "In the above, the plane wave was normalized to be one in every grid point, i.e. the intensity per area is constant when the grid is changed. This is not always the natural choice, see the [appendix](appendix/normalization.ipynb) for more information on wave function normalization in *abTEM*.\n",
    "```"
   ]
  },
  {
   "cell_type": "markdown",
   "metadata": {
    "pycharm": {
     "name": "#%% md\n"
    }
   },
   "source": [
    "(wave_functions:probe)=\n",
    "## Probe wave functions\n",
    "\n",
    "In abTEM, a focused beam of electrons, or `Probe`, is defined in Fourier space as\n",
    "\n",
    "$$\n",
    "    \\hat{\\phi}(\\vec{k}) = A(\\vec{k}) \\ \\exp(-i \\chi(\\vec{k})) \\quad ,\n",
    "$$\n",
    "\n",
    "where $A(k)$ is the aperture function, $\\chi(\\vec{k})$ is the phase error and $\\vec{k} = (k_x, k_y)$ is the spatial frequency in $x$ and $y$, respectively. The real-space probe is just the Fourier transform\n",
    "\n",
    "$$\n",
    "    \\phi(\\vec{r}) = \\mathcal{F} \\hat{\\phi}(\\vec{r}) \\quad ,\n",
    "$$\n",
    "\n",
    "where $\\vec{r} = (x, y)$ is the real space coordinate in $x$ and $y$, respectively. The probe wave function is normalized such that its intensity sums to $1$ in Fourier space\n",
    "\n",
    "$$\n",
    "    \\int \\|\\hat{\\phi}\\|^2 d\\vec{k} = 1 \\quad .\n",
    "$$\n",
    "\n",
    "\n",
    "```{seealso}\n",
    "The contrast transfer function is introduced in detail here.\n",
    "```\n",
    "\n",
    "We create a probe with a `sampling` of $0.05 \\ \\mathrm{Å}$, an `extent` of $10\\times 10$ $\\mathrm{Å}^2$, an `energy` of $100 \\ \\mathrm{keV}$, a convergence semiangle (`semiangle_cutoff`) of $30 \\ \\mathrm{mrad}$ and a `defocus` of $35 \\ \\mathrm{Å}$. "
   ]
  },
  {
   "cell_type": "code",
   "execution_count": 77,
   "metadata": {
    "collapsed": false,
    "jupyter": {
     "outputs_hidden": false
    },
    "pycharm": {
     "name": "#%%\n"
    }
   },
   "outputs": [],
   "source": [
    "probe = abtem.Probe(\n",
    "    sampling=0.05,\n",
    "    extent=20,\n",
    "    energy=100e3,\n",
    "    semiangle_cutoff=30,\n",
    "    defocus=50,\n",
    ")"
   ]
  },
  {
   "cell_type": "markdown",
   "metadata": {},
   "source": [
    "## Visualizing the wave function \n",
    "\n",
    "To visualize the wave function using *abTEM*'s builtin visualization module, we first have to convert it to a measurement type. The most common methods are `intensity` and `diffraction_patterns`, which will return a measurement as an `Images` and `DiffractionPatterns` type, respectively.\n",
    "\n",
    "```{seealso}\n",
    "All the different measurement types implemented in *abtem* are introduced here.\n",
    "```\n",
    "\n",
    "The real space intensity (or $\\|\\phi\\|^2$) is calculated and shown below."
   ]
  },
  {
   "cell_type": "code",
   "execution_count": 81,
   "metadata": {},
   "outputs": [
    {
     "data": {
      "image/png": "[encoded data removed]",
      "text/plain": [
       "<Figure size 432x288 with 2 Axes>"
      ]
     },
     "metadata": {
      "needs_background": "light"
     },
     "output_type": "display_data"
    }
   ],
   "source": [
    "intensity = probe.build().intensity()\n",
    "\n",
    "intensity.show(cbar=True);"
   ]
  },
  {
   "cell_type": "markdown",
   "metadata": {},
   "source": [
    "The Fourier-space intensity (or $\\|\\hat{\\phi}\\|^2$) is calculated and shown below. We set `max_angle=60` to only include angles up to $60 \\ \\mathrm{mrad}$."
   ]
  },
  {
   "cell_type": "code",
   "execution_count": 82,
   "metadata": {},
   "outputs": [
    {
     "data": {
      "image/png": "[encoded data removed]",
      "text/plain": [
       "<Figure size 432x288 with 2 Axes>"
      ]
     },
     "metadata": {
      "needs_background": "light"
     },
     "output_type": "display_data"
    }
   ],
   "source": [
    "diffraction_patterns = probe.build().diffraction_patterns(max_angle=60)\n",
    "\n",
    "diffraction_patterns.show(cbar=True);"
   ]
  },
  {
   "cell_type": "markdown",
   "metadata": {},
   "source": [
    "````{note}\n",
    "The axes convention for arrays representing a wave functions assigns the first axis to the $x$-axis and the second axis to the $y$-axis, and a larger array index implies a larger real-space coordinate. This is different from the convention often used for images. The correct way of displaying an array with `matplotplib` is given below.\n",
    "    \n",
    "```python\n",
    "import matplotlib.pyplot as plt\n",
    "image = waves.intensity().array\n",
    "plt.imshow(image.T, extent=[0, waves.extent[0], 0, waves.extent[1]], origin='lower')\n",
    "```     \n",
    "````"
   ]
  },
  {
   "cell_type": "markdown",
   "metadata": {},
   "source": [
    "Showing a lineprofile sometimes provides a more understable visualization. We use `interpolate_line_at_position` to create a `LineProfile` across the center of the probe intensity."
   ]
  },
  {
   "cell_type": "code",
   "execution_count": 90,
   "metadata": {},
   "outputs": [
    {
     "data": {
      "image/png": "[encoded data removed]",
      "text/plain": [
       "<Figure size 432x288 with 1 Axes>"
      ]
     },
     "metadata": {
      "needs_background": "light"
     },
     "output_type": "display_data"
    }
   ],
   "source": [
    "lineprofile = images.interpolate_line_at_position(center=(10, 10), angle=0, extent=10)\n",
    "\n",
    "lineprofile.show(title=\"probe lineprofile\");"
   ]
  },
  {
   "cell_type": "markdown",
   "metadata": {},
   "source": [
    "## Wave function ensembles\n",
    "\n",
    "In general, the `Waves` represent an ensemble of wave functions as a multidimensional array.  The last two dimensions of the `Waves` represent the spatial dimensions, these are the mandatory or *base* dimensions of the `Waves`. Any preceeding dimensions is an optional *ensemble* dimension. `abTEM` will automatically parallelize over the ensemble dimensions. See the [appendix](getting_started:appendix:ensembles) for more details on ensembles in `abTEM`.\n",
    "\n",
    "As an example we create a `Probe` with a series of $5$ defocii ranging from $\\mathrm{0}$ to $200 \\ \\mathrm{Å}$."
   ]
  },
  {
   "cell_type": "code",
   "execution_count": 85,
   "metadata": {},
   "outputs": [],
   "source": [
    "defocus_series = abtem.distributions.uniform(0, 100, 5)\n",
    "\n",
    "probe_focal_series = abtem.Probe(\n",
    "    sampling=0.05,\n",
    "    extent=20,\n",
    "    energy=100e3,\n",
    "    semiangle_cutoff=30,\n",
    "    defocus=defocus_series,\n",
    ")\n",
    "\n",
    "waves_focal_series = probe_focal_series.build()"
   ]
  },
  {
   "cell_type": "markdown",
   "metadata": {},
   "source": [
    "Inspecting the results, we see that the `Waves` have two base `RealSpaceAxis` and one ensemble `ParameterAxis`."
   ]
  },
  {
   "cell_type": "code",
   "execution_count": 86,
   "metadata": {},
   "outputs": [
    {
     "data": {
      "text/plain": [
       "<abtem.waves.waves.Waves object at 0x1d1eb50eb90>\n",
       "-------------------------------------------------\n",
       "\n",
       "type           label    coordinates\n",
       "-------------  -------  ------------------------\n",
       "ParameterAxis  C10 [Å]  -0.00 -25.00 ... -100.00\n",
       "RealSpaceAxis  x [Å]    0.00 0.05 ... 19.95\n",
       "RealSpaceAxis  y [Å]    0.00 0.05 ... 19.95\n",
       "\n",
       "        bytes     shape          count     type\n",
       "------  --------  -------------  --------  -------------\n",
       "array   6.10 MiB  (5, 400, 400)  5 tasks   complex64\n",
       "chunks  6.10 MiB  (5, 400, 400)  1 chunks  numpy.ndarray"
      ]
     },
     "execution_count": 86,
     "metadata": {},
     "output_type": "execute_result"
    }
   ],
   "source": [
    "waves_focal_series"
   ]
  },
  {
   "cell_type": "markdown",
   "metadata": {},
   "source": [
    "We show an exploded plot of the ensemble below. "
   ]
  },
  {
   "cell_type": "code",
   "execution_count": 87,
   "metadata": {
    "tags": [
     "full-width"
    ]
   },
   "outputs": [
    {
     "data": {
      "image/png": "[encoded data removed]",
      "text/plain": [
       "<Figure size 1296x360 with 10 Axes>"
      ]
     },
     "metadata": {
      "needs_background": "light"
     },
     "output_type": "display_data"
    }
   ],
   "source": [
    "waves_focal_series.intensity().show(\n",
    "    explode=True, figsize=(18, 5), image_grid_kwargs={\"axes_pad\": 0.05}\n",
    ");"
   ]
  },
  {
   "cell_type": "markdown",
   "metadata": {},
   "source": [
    "````{tip}\n",
    "If you have [Hyperspy](https://hyperspy.org/) installed, you can view the ensemble interactively by converting the `Images` to a `hyperspy` signal and using the interactive viewer.\n",
    "```python\n",
    "waves_focal_series.intensity().to_hyperspy().plot()\n",
    "```\n",
    "*Note: This requires using a matplotlib backend that supports interactivity.*\n",
    "````"
   ]
  },
  {
   "cell_type": "markdown",
   "metadata": {},
   "source": [
    "line_profiles"
   ]
  },
  {
   "cell_type": "code",
   "execution_count": 89,
   "metadata": {},
   "outputs": [
    {
     "data": {
      "image/png": "[encoded data removed]",
      "text/plain": [
       "<Figure size 432x288 with 1 Axes>"
      ]
     },
     "metadata": {
      "needs_background": "light"
     },
     "output_type": "display_data"
    }
   ],
   "source": [
    "line_profiles = waves_focal_series.intensity().interpolate_line_at_position(\n",
    "    center=(10, 10), angle=0, extent=10\n",
    ")\n",
    "\n",
    "line_profiles.show();"
   ]
  },
  {
   "cell_type": "markdown",
   "metadata": {},
   "source": [
    "The `Waves` can have any number of ensemble dimensions, for example, we can add two additional axes representing an $x$ and $y$ scan direction as below, thus producing a 5d wave function."
   ]
  },
  {
   "cell_type": "code",
   "execution_count": 92,
   "metadata": {},
   "outputs": [
    {
     "name": "stderr",
     "output_type": "stream",
     "text": [
      "c:\\users\\jacob\\pycharmprojects\\abtem_dask\\abtem\\waves\\waves.py:746: PerformanceWarning: Increasing number of chunks by factor of 20\n",
      "  array = da.blockwise(partial_build,\n"
     ]
    },
    {
     "data": {
      "text/plain": [
       "<abtem.waves.waves.Waves object at 0x1d1eb50eb90>\n",
       "-------------------------------------------------\n",
       "\n",
       "type           label    coordinates\n",
       "-------------  -------  ------------------------\n",
       "ParameterAxis  C10 [Å]  -0.00 -25.00 ... -100.00\n",
       "ScanAxis       x [Å]    0.00 0.20 ... 19.80\n",
       "ScanAxis       y [Å]    0.00 0.20 ... 19.80\n",
       "RealSpaceAxis  x [Å]    0.00 0.05 ... 19.95\n",
       "RealSpaceAxis  y [Å]    0.00 0.05 ... 19.95\n",
       "\n",
       "        bytes       shape                    count       type\n",
       "------  ----------  -----------------------  ----------  -------------\n",
       "array   59.60 GiB   (5, 100, 100, 400, 400)  1046 tasks  complex64\n",
       "chunks  122.07 MiB  (5, 4, 5, 400, 400)      500 chunks  numpy.ndarray"
      ]
     },
     "execution_count": 92,
     "metadata": {},
     "output_type": "execute_result"
    }
   ],
   "source": [
    "scan = abtem.GridScan(start=(0, 0), end=(20, 20), gpts=100)\n",
    "\n",
    "waves_focal_series_scanned = probe_focal_series.build(scan=scan)\n",
    "\n",
    "waves_focal_series_scanned"
   ]
  },
  {
   "cell_type": "markdown",
   "metadata": {},
   "source": [
    "````{warning}\n",
    "Be careful when adding ensemble dimensions without also applying a reduction operation (e.g. taking an ensemble mean or applying a detector). The above wave function ensemble would require $\\sim 60 \\ \\mathrm{GiB}$(!) of memory to store.\n",
    "\n",
    "````"
   ]
  },
  {
   "cell_type": "code",
   "execution_count": null,
   "metadata": {},
   "outputs": [],
   "source": []
  }
 ],
 "metadata": {
  "kernelspec": {
   "display_name": "abtem-dask",
   "language": "python",
   "name": "abtem-dask"
  },
  "language_info": {
   "codemirror_mode": {
    "name": "ipython",
    "version": 3
   },
   "file_extension": ".py",
   "mimetype": "text/x-python",
   "name": "python",
   "nbconvert_exporter": "python",
   "pygments_lexer": "ipython3",
   "version": "3.8.10"
  }
 },
 "nbformat": 4,
 "nbformat_minor": 4
}
