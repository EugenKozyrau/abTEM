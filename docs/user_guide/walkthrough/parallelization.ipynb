{
 "cells": [
  {
   "cell_type": "code",
   "execution_count": 1,
   "id": "c8a68d55-5e9b-4bab-b324-05b89a56cecd",
   "metadata": {
    "pycharm": {
     "name": "#%%\n"
    },
    "tags": [
     "hide-input"
    ]
   },
   "outputs": [],
   "source": [
    "import abtem\n",
    "import ase\n",
    "import dask\n",
    "from IPython.display import Image, display \n",
    "\n",
    "dask.config.set({\"array.svg.size\": 90});"
   ]
  },
  {
   "cell_type": "markdown",
   "id": "2b2c74ed-dfb6-4426-898a-63110b6fb253",
   "metadata": {
    "pycharm": {
     "name": "#%% md\n"
    },
    "tags": []
   },
   "source": [
    "(walkthrough:parallelization)=\n",
    "# Parallelization\n",
    "\n",
    "The computational cost of running multislice simulations can become high depending on the size of the specimen, the number of probe positions, phonon images, and many other factors. This cost can be mitigated using parallelism. Many of the computations in *ab*TEM are [embarrasingly parallel](https://en.wikipedia.org/wiki/Embarrassingly_parallel): for example, every probe position is independent, thus each CPU core may calculate a batch of positions independently, only requiring communication after finishing a run of the multislice algorithm. \n",
    "\n",
    "*ab*TEM is parallelized using [Dask](https://www.dask.org/){cite}`dask`, which is a flexible library for parallel computing in Python. Dask allows scaling from a single laptop to hundreds of nodes at high-performance computing (HPC) facilities with minimal changes to the code. \n",
    "\n",
    "In this walkthrough, we introduce how *ab*TEM uses Dask. Althouhg this is not required knowledge for running simulations on a single machine, it may still help you optimize your simulations. If you are already an experienced Dask user, most of what you already know can be applied to using *ab*TEM. If you are new to Dask you may benefit from watching [this introduction](https://www.youtube.com/watch?v=nnndxbr_Xq4) before continuing.\n",
    "\n",
    "We note that Dask is used in several other libraries for the analysis of electron microscopy data, for example, [hyperspy](https://hyperspy.org/), [libertem](https://libertem.github.io/LiberTEM/) and [py4DSTEM](https://py4dstem.readthedocs.io/en/latest/), and thus we think that you may benefit from knowing this library more generally."
   ]
  },
  {
   "cell_type": "markdown",
   "id": "43b2aaf0-80a0-4058-99a2-faa12025ab42",
   "metadata": {
    "pycharm": {
     "name": "#%% md\n"
    }
   },
   "source": [
    "## Task graphs\n",
    "\n",
    "Simulating TEM experiments requires executing multiple *tasks* where each one may depend on the output of previous tasks. In Dask this is represented as a [*task graph*](https://docs.dask.org/en/stable/graphs.html), where each task is a *node*, with *edges* between nodes if it is dependent on another task. The simulation result is obtained by executing each task (node) in the graph with a Dask *scheduler* on a single machine or a cluster."
   ]
  },
  {
   "cell_type": "code",
   "execution_count": 2,
   "id": "fe6765fb-d0ea-4c35-b5bf-2eaadee69b0b",
   "metadata": {
    "jupyter": {
     "source_hidden": true
    },
    "tags": [
     "remove-input",
     "hide-input"
    ]
   },
   "outputs": [
    {
     "data": {
      "text/html": [
       "<img src=\"https://docs.dask.org/en/stable/_images/dask-overview.svg\" width=\"600\"/>"
      ],
      "text/plain": [
       "<IPython.core.display.Image object>"
      ]
     },
     "metadata": {},
     "output_type": "display_data"
    }
   ],
   "source": [
    "display(\n",
    "    Image(url=\"https://docs.dask.org/en/stable/_images/dask-overview.svg\", width=600)\n",
    ")"
   ]
  },
  {
   "cell_type": "markdown",
   "id": "95b10156-ee85-4600-92ed-b9c7c398dbdc",
   "metadata": {},
   "source": [
    "To illustrate this in practice, below we create the task graph for running a plane wave multislice simulation of gold in the $\\left<100\\right>$ zone axis with 4 frozen phonon configurations (please refer to previous walkthroughs for those details)."
   ]
  },
  {
   "cell_type": "code",
   "execution_count": 3,
   "id": "60ba5ba0-0d6d-4ecb-8fdd-fa80316a579b",
   "metadata": {},
   "outputs": [],
   "source": [
    "atoms = ase.build.bulk(\"Au\", cubic=True) * (5, 5, 2)\n",
    "\n",
    "frozen_phonons = abtem.FrozenPhonons(\n",
    "    atoms, num_configs=4, sigmas=0.1, ensemble_mean=False\n",
    ")\n",
    "\n",
    "potential = abtem.Potential(frozen_phonons, gpts=512, slice_thickness=2)\n",
    "\n",
    "probe = abtem.PlaneWave(energy=200e3)\n",
    "\n",
    "exit_waves = probe.multislice(potential)"
   ]
  },
  {
   "cell_type": "markdown",
   "id": "cbc97cd9-2777-4ef4-a0c4-c020517b708e",
   "metadata": {},
   "source": [
    "The result is an ensemble of $4$ wave functions of shape $512\\times512$, which may be represented as a 3D array, where the first dimension represents the phonon ensemble and the last two dimensions represents the 2D wave functions. \n",
    "\n",
    "As we have not executed the task graph yet, the wave functions are represented as a [Dask Array](https://docs.dask.org/en/stable/array.html). We can think of the *Dask array* as being composed of many smaller NumPy arrays, called *chunks*, and operations may be applied to each chunk rather than the full array. This enables: \n",
    "\n",
    "1. Parallelism over the chunks;\n",
    "2. Representing a larger-than-memory array as many smaller arrays, each of which fits in memory.\n",
    "\n",
    "The Dask array representation `__repr__` shows how the chunks are laid out."
   ]
  },
  {
   "cell_type": "code",
   "execution_count": 4,
   "id": "adc736d7-6ca1-47a7-baa5-eb6a9b0d69cb",
   "metadata": {},
   "outputs": [
    {
     "data": {
      "text/html": [
       "<table>\n",
       "    <tr>\n",
       "        <td>\n",
       "            <table>\n",
       "                <thead>\n",
       "                    <tr>\n",
       "                        <td> </td>\n",
       "                        <th> Array </th>\n",
       "                        <th> Chunk </th>\n",
       "                    </tr>\n",
       "                </thead>\n",
       "                <tbody>\n",
       "                    \n",
       "                    <tr>\n",
       "                        <th> Bytes </th>\n",
       "                        <td> 8.00 MiB </td>\n",
       "                        <td> 2.00 MiB </td>\n",
       "                    </tr>\n",
       "                    \n",
       "                    <tr>\n",
       "                        <th> Shape </th>\n",
       "                        <td> (4, 512, 512) </td>\n",
       "                        <td> (1, 512, 512) </td>\n",
       "                    </tr>\n",
       "                    <tr>\n",
       "                        <th> Count </th>\n",
       "                        <td> 15 Graph Layers </td>\n",
       "                        <td> 4 Chunks </td>\n",
       "                    </tr>\n",
       "                    <tr>\n",
       "                    <th> Type </th>\n",
       "                    <td> complex64 </td>\n",
       "                    <td> numpy.ndarray </td>\n",
       "                    </tr>\n",
       "                </tbody>\n",
       "            </table>\n",
       "        </td>\n",
       "        <td>\n",
       "        <svg width=\"161\" height=\"151\" style=\"stroke:rgb(0,0,0);stroke-width:1\" >\n",
       "\n",
       "  <!-- Horizontal lines -->\n",
       "  <line x1=\"10\" y1=\"0\" x2=\"21\" y2=\"11\" style=\"stroke-width:2\" />\n",
       "  <line x1=\"10\" y1=\"90\" x2=\"21\" y2=\"101\" style=\"stroke-width:2\" />\n",
       "\n",
       "  <!-- Vertical lines -->\n",
       "  <line x1=\"10\" y1=\"0\" x2=\"10\" y2=\"90\" style=\"stroke-width:2\" />\n",
       "  <line x1=\"12\" y1=\"2\" x2=\"12\" y2=\"92\" />\n",
       "  <line x1=\"15\" y1=\"5\" x2=\"15\" y2=\"95\" />\n",
       "  <line x1=\"18\" y1=\"8\" x2=\"18\" y2=\"98\" />\n",
       "  <line x1=\"21\" y1=\"11\" x2=\"21\" y2=\"101\" style=\"stroke-width:2\" />\n",
       "\n",
       "  <!-- Colored Rectangle -->\n",
       "  <polygon points=\"10.0,0.0 21.2114484623158,11.211448462315802 21.2114484623158,101.2114484623158 10.0,90.0\" style=\"fill:#ECB172A0;stroke-width:0\"/>\n",
       "\n",
       "  <!-- Horizontal lines -->\n",
       "  <line x1=\"10\" y1=\"0\" x2=\"100\" y2=\"0\" style=\"stroke-width:2\" />\n",
       "  <line x1=\"12\" y1=\"2\" x2=\"102\" y2=\"2\" />\n",
       "  <line x1=\"15\" y1=\"5\" x2=\"105\" y2=\"5\" />\n",
       "  <line x1=\"18\" y1=\"8\" x2=\"108\" y2=\"8\" />\n",
       "  <line x1=\"21\" y1=\"11\" x2=\"111\" y2=\"11\" style=\"stroke-width:2\" />\n",
       "\n",
       "  <!-- Vertical lines -->\n",
       "  <line x1=\"10\" y1=\"0\" x2=\"21\" y2=\"11\" style=\"stroke-width:2\" />\n",
       "  <line x1=\"100\" y1=\"0\" x2=\"111\" y2=\"11\" style=\"stroke-width:2\" />\n",
       "\n",
       "  <!-- Colored Rectangle -->\n",
       "  <polygon points=\"10.0,0.0 100.0,0.0 111.2114484623158,11.211448462315802 21.2114484623158,11.211448462315802\" style=\"fill:#ECB172A0;stroke-width:0\"/>\n",
       "\n",
       "  <!-- Horizontal lines -->\n",
       "  <line x1=\"21\" y1=\"11\" x2=\"111\" y2=\"11\" style=\"stroke-width:2\" />\n",
       "  <line x1=\"21\" y1=\"101\" x2=\"111\" y2=\"101\" style=\"stroke-width:2\" />\n",
       "\n",
       "  <!-- Vertical lines -->\n",
       "  <line x1=\"21\" y1=\"11\" x2=\"21\" y2=\"101\" style=\"stroke-width:2\" />\n",
       "  <line x1=\"111\" y1=\"11\" x2=\"111\" y2=\"101\" style=\"stroke-width:2\" />\n",
       "\n",
       "  <!-- Colored Rectangle -->\n",
       "  <polygon points=\"21.2114484623158,11.211448462315802 111.2114484623158,11.211448462315802 111.2114484623158,101.2114484623158 21.2114484623158,101.2114484623158\" style=\"fill:#ECB172A0;stroke-width:0\"/>\n",
       "\n",
       "  <!-- Text -->\n",
       "  <text x=\"66.211448\" y=\"121.211448\" font-size=\"1.0rem\" font-weight=\"100\" text-anchor=\"middle\" >512</text>\n",
       "  <text x=\"131.211448\" y=\"56.211448\" font-size=\"1.0rem\" font-weight=\"100\" text-anchor=\"middle\" transform=\"rotate(-90,131.211448,56.211448)\">512</text>\n",
       "  <text x=\"5.605724\" y=\"115.605724\" font-size=\"1.0rem\" font-weight=\"100\" text-anchor=\"middle\" transform=\"rotate(45,5.605724,115.605724)\">4</text>\n",
       "</svg>\n",
       "        </td>\n",
       "    </tr>\n",
       "</table>"
      ],
      "text/plain": [
       "dask.array<_extract_measurement, shape=(4, 512, 512), dtype=complex64, chunksize=(1, 512, 512), chunktype=numpy.ndarray>"
      ]
     },
     "execution_count": 4,
     "metadata": {},
     "output_type": "execute_result"
    }
   ],
   "source": [
    "exit_waves.array"
   ]
  },
  {
   "cell_type": "markdown",
   "id": "07d22d90-2701-4d3e-bc91-ab2260232950",
   "metadata": {},
   "source": [
    "We see that this Dask array has the shape `(4, 512, 512)` requiring 8 MB of memory, and is composed of chunks with shape `(1, 512, 512)` requiring 2 MB each.\n",
    "\n",
    "```{important}\n",
    "The Dask array just represents a task graph, not the data itself, so memory is consumed only if it is computed!\n",
    "```\n",
    "\n",
    "Each chunk of the Dask array created above represents a wave function for a frozen phonon configuration. This reflects the fact that, in the multislice algorithm, each frozen phonon configuration is independent and may be calculated in parallel. On the other hand, we should not have chunks across wave functions, because each part of a wave function is affected by every other part.\n",
    "\n",
    "We can visualize the task graph using Dask's [`visualize`](https://docs.dask.org/en/stable/graphviz.html) method. We see that the task graph consists of 4 fully independent branches, one for each frozen phonon.\n",
    "\n",
    "````{note}\n",
    "Drawing Dask task graphs with the cytoscape engine requires the `ipycytoscape` python library. To reproduce the result below you need to:\n",
    "```\n",
    "  python -m pip install ipycytoscape\n",
    "```\n",
    "and restart jupyter.\n",
    "````"
   ]
  },
  {
   "cell_type": "code",
   "execution_count": 5,
   "id": "45d463ae-c282-4710-a05c-0817cb996457",
   "metadata": {
    "tags": [
     "skip-test"
    ]
   },
   "outputs": [
    {
     "data": {
      "application/vnd.jupyter.widget-view+json": {
       "model_id": "717180383305412084827c0bf321f41c",
       "version_major": 2,
       "version_minor": 0
      },
      "text/plain": [
       "CytoscapeWidget(cytoscape_layout={'name': 'dagre', 'rankDir': 'BT', 'nodeSep': 10, 'edgeSep': 10, 'spacingFact…"
      ]
     },
     "execution_count": 5,
     "metadata": {},
     "output_type": "execute_result"
    }
   ],
   "source": [
    "exit_waves.array.visualize(engine=\"cytoscape\")"
   ]
  },
  {
   "cell_type": "markdown",
   "id": "20d970c0-56e5-4066-b1d8-f6c71f59fb46",
   "metadata": {},
   "source": [
    "We usually want to take the mean across the frozen phonon dimension, and thus end up with an image represented as a single chunk."
   ]
  },
  {
   "cell_type": "code",
   "execution_count": 6,
   "id": "907e3a1e-7132-4dc5-aa9b-bdeed01a6170",
   "metadata": {},
   "outputs": [
    {
     "data": {
      "text/html": [
       "<table>\n",
       "    <tr>\n",
       "        <td>\n",
       "            <table>\n",
       "                <thead>\n",
       "                    <tr>\n",
       "                        <td> </td>\n",
       "                        <th> Array </th>\n",
       "                        <th> Chunk </th>\n",
       "                    </tr>\n",
       "                </thead>\n",
       "                <tbody>\n",
       "                    \n",
       "                    <tr>\n",
       "                        <th> Bytes </th>\n",
       "                        <td> 1.00 MiB </td>\n",
       "                        <td> 1.00 MiB </td>\n",
       "                    </tr>\n",
       "                    \n",
       "                    <tr>\n",
       "                        <th> Shape </th>\n",
       "                        <td> (512, 512) </td>\n",
       "                        <td> (512, 512) </td>\n",
       "                    </tr>\n",
       "                    <tr>\n",
       "                        <th> Count </th>\n",
       "                        <td> 19 Graph Layers </td>\n",
       "                        <td> 1 Chunks </td>\n",
       "                    </tr>\n",
       "                    <tr>\n",
       "                    <th> Type </th>\n",
       "                    <td> float32 </td>\n",
       "                    <td> numpy.ndarray </td>\n",
       "                    </tr>\n",
       "                </tbody>\n",
       "            </table>\n",
       "        </td>\n",
       "        <td>\n",
       "        <svg width=\"140\" height=\"140\" style=\"stroke:rgb(0,0,0);stroke-width:1\" >\n",
       "\n",
       "  <!-- Horizontal lines -->\n",
       "  <line x1=\"0\" y1=\"0\" x2=\"90\" y2=\"0\" style=\"stroke-width:2\" />\n",
       "  <line x1=\"0\" y1=\"90\" x2=\"90\" y2=\"90\" style=\"stroke-width:2\" />\n",
       "\n",
       "  <!-- Vertical lines -->\n",
       "  <line x1=\"0\" y1=\"0\" x2=\"0\" y2=\"90\" style=\"stroke-width:2\" />\n",
       "  <line x1=\"90\" y1=\"0\" x2=\"90\" y2=\"90\" style=\"stroke-width:2\" />\n",
       "\n",
       "  <!-- Colored Rectangle -->\n",
       "  <polygon points=\"0.0,0.0 90.0,0.0 90.0,90.0 0.0,90.0\" style=\"fill:#ECB172A0;stroke-width:0\"/>\n",
       "\n",
       "  <!-- Text -->\n",
       "  <text x=\"45.000000\" y=\"110.000000\" font-size=\"1.0rem\" font-weight=\"100\" text-anchor=\"middle\" >512</text>\n",
       "  <text x=\"110.000000\" y=\"45.000000\" font-size=\"1.0rem\" font-weight=\"100\" text-anchor=\"middle\" transform=\"rotate(-90,110.000000,45.000000)\">512</text>\n",
       "</svg>\n",
       "        </td>\n",
       "    </tr>\n",
       "</table>"
      ],
      "text/plain": [
       "dask.array<mean_agg-aggregate, shape=(512, 512), dtype=float32, chunksize=(512, 512), chunktype=numpy.ndarray>"
      ]
     },
     "execution_count": 6,
     "metadata": {},
     "output_type": "execute_result"
    }
   ],
   "source": [
    "hrtem_image = exit_waves.intensity().mean(0)\n",
    "\n",
    "hrtem_image.array"
   ]
  },
  {
   "cell_type": "markdown",
   "id": "b9661725-7a20-44f6-8415-52489e91259b",
   "metadata": {},
   "source": [
    "Taking the mean across frozen phonon chunks requires communicating the exit wave function intensity between the final nodes. Showing the task graph again we see how the branches are merged when the result have to be communicated between workers."
   ]
  },
  {
   "cell_type": "code",
   "execution_count": 7,
   "id": "27e8b98c-362e-4543-b6c2-e033a827143e",
   "metadata": {
    "tags": [
     "skip-test"
    ]
   },
   "outputs": [
    {
     "data": {
      "application/vnd.jupyter.widget-view+json": {
       "model_id": "e34d266c7c7e42a3b21b2fcc77141e6a",
       "version_major": 2,
       "version_minor": 0
      },
      "text/plain": [
       "CytoscapeWidget(cytoscape_layout={'name': 'dagre', 'rankDir': 'BT', 'nodeSep': 10, 'edgeSep': 10, 'spacingFact…"
      ]
     },
     "execution_count": 7,
     "metadata": {},
     "output_type": "execute_result"
    }
   ],
   "source": [
    "hrtem_image.array.visualize(engine=\"cytoscape\")"
   ]
  },
  {
   "cell_type": "markdown",
   "id": "7dcdbfb7-41d3-49ff-995f-bf17f01a120f",
   "metadata": {},
   "source": [
    "## Chunks\n",
    "To futher explore the role of chunks in abTEM, we create the task graph for running a STEM simulation with the same specimen, gold in the $\\left<100\\right>$ zone axis with 4 frozen phonons. We do not immediately apply a detector, so we obtain an ensemble of exit wave functions."
   ]
  },
  {
   "cell_type": "code",
   "execution_count": 8,
   "id": "5b9baf98-b088-4c6f-954d-8ae1a7d22c23",
   "metadata": {
    "pycharm": {
     "name": "#%%\n"
    }
   },
   "outputs": [
    {
     "data": {
      "text/plain": [
       "type               label           coordinates\n",
       "-----------------  --------------  -------------------\n",
       "FrozenPhononsAxis  Frozen phonons  -\n",
       "ScanAxis           x [Å]           0.00 0.27 ... 3.81\n",
       "ScanAxis           y [Å]           0.00 0.27 ... 3.81\n",
       "RealSpaceAxis      x [Å]           0.00 0.04 ... 20.36\n",
       "RealSpaceAxis      y [Å]           0.00 0.04 ... 20.36"
      ]
     },
     "execution_count": 8,
     "metadata": {},
     "output_type": "execute_result"
    }
   ],
   "source": [
    "probe = abtem.Probe(energy=200e3, semiangle_cutoff=20)\n",
    "\n",
    "scan = abtem.GridScan.from_fractional_coordinates(\n",
    "    potential,\n",
    "    start=(0, 0),\n",
    "    end=(1 / 5, 1 / 5),\n",
    ")\n",
    "\n",
    "frozen_phonons = abtem.FrozenPhonons(\n",
    "    atoms, num_configs=4, sigmas=0.1, ensemble_mean=True\n",
    ")\n",
    "\n",
    "potential = abtem.Potential(frozen_phonons, gpts=512, slice_thickness=2)\n",
    "\n",
    "exit_waves_stem = probe.multislice(potential, scan=scan)\n",
    "\n",
    "exit_waves_stem.axes_metadata"
   ]
  },
  {
   "cell_type": "markdown",
   "id": "69036139-511e-482d-8f72-e66b71df0924",
   "metadata": {},
   "source": [
    "The wave functions are now represented as a 5D Dask array, a 3D ensemble of 2D wave functions, which is composed of one frozen phonon dimension and two scan dimensions, one for each of the $x$ and $y$ direction. \n",
    "\n",
    "The full array is of shape `(4, 15, 15, 512, 512)` requiring 1.76 GB of memory, which is cut into chunks of shape `(1, 8, 7, 512, 512)` of 112 MB. Hence, there are a total of $4 \\times 2 \\times 3 = 24$ chunks."
   ]
  },
  {
   "cell_type": "code",
   "execution_count": 9,
   "id": "0d0ab17b-53e3-4e79-856a-d734fe3c1cbe",
   "metadata": {},
   "outputs": [
    {
     "data": {
      "text/html": [
       "<table>\n",
       "    <tr>\n",
       "        <td>\n",
       "            <table>\n",
       "                <thead>\n",
       "                    <tr>\n",
       "                        <td> </td>\n",
       "                        <th> Array </th>\n",
       "                        <th> Chunk </th>\n",
       "                    </tr>\n",
       "                </thead>\n",
       "                <tbody>\n",
       "                    \n",
       "                    <tr>\n",
       "                        <th> Bytes </th>\n",
       "                        <td> 1.76 GiB </td>\n",
       "                        <td> 112.00 MiB </td>\n",
       "                    </tr>\n",
       "                    \n",
       "                    <tr>\n",
       "                        <th> Shape </th>\n",
       "                        <td> (4, 15, 15, 512, 512) </td>\n",
       "                        <td> (1, 8, 7, 512, 512) </td>\n",
       "                    </tr>\n",
       "                    <tr>\n",
       "                        <th> Count </th>\n",
       "                        <td> 17 Graph Layers </td>\n",
       "                        <td> 24 Chunks </td>\n",
       "                    </tr>\n",
       "                    <tr>\n",
       "                    <th> Type </th>\n",
       "                    <td> complex64 </td>\n",
       "                    <td> numpy.ndarray </td>\n",
       "                    </tr>\n",
       "                </tbody>\n",
       "            </table>\n",
       "        </td>\n",
       "        <td>\n",
       "        <svg width=\"339\" height=\"153\" style=\"stroke:rgb(0,0,0);stroke-width:1\" >\n",
       "\n",
       "  <!-- Horizontal lines -->\n",
       "  <line x1=\"0\" y1=\"0\" x2=\"23\" y2=\"0\" style=\"stroke-width:2\" />\n",
       "  <line x1=\"0\" y1=\"4\" x2=\"23\" y2=\"4\" />\n",
       "  <line x1=\"0\" y1=\"9\" x2=\"23\" y2=\"9\" />\n",
       "  <line x1=\"0\" y1=\"14\" x2=\"23\" y2=\"14\" />\n",
       "  <line x1=\"0\" y1=\"19\" x2=\"23\" y2=\"19\" style=\"stroke-width:2\" />\n",
       "\n",
       "  <!-- Vertical lines -->\n",
       "  <line x1=\"0\" y1=\"0\" x2=\"0\" y2=\"19\" style=\"stroke-width:2\" />\n",
       "  <line x1=\"12\" y1=\"0\" x2=\"12\" y2=\"19\" />\n",
       "  <line x1=\"23\" y1=\"0\" x2=\"23\" y2=\"19\" style=\"stroke-width:2\" />\n",
       "\n",
       "  <!-- Colored Rectangle -->\n",
       "  <polygon points=\"0.0,0.0 23.436469151419786,0.0 23.436469151419786,19.059462385936865 0.0,19.059462385936865\" style=\"fill:#ECB172A0;stroke-width:0\"/>\n",
       "\n",
       "  <!-- Text -->\n",
       "  <text x=\"11.718235\" y=\"39.059462\" font-size=\"1.0rem\" font-weight=\"100\" text-anchor=\"middle\" >15</text>\n",
       "  <text x=\"43.436469\" y=\"9.529731\" font-size=\"1.0rem\" font-weight=\"100\" text-anchor=\"middle\" transform=\"rotate(0,43.436469,9.529731)\">4</text>\n",
       "\n",
       "\n",
       "  <!-- Horizontal lines -->\n",
       "  <line x1=\"93\" y1=\"0\" x2=\"106\" y2=\"13\" style=\"stroke-width:2\" />\n",
       "  <line x1=\"93\" y1=\"90\" x2=\"106\" y2=\"103\" style=\"stroke-width:2\" />\n",
       "\n",
       "  <!-- Vertical lines -->\n",
       "  <line x1=\"93\" y1=\"0\" x2=\"93\" y2=\"90\" style=\"stroke-width:2\" />\n",
       "  <line x1=\"99\" y1=\"6\" x2=\"99\" y2=\"96\" />\n",
       "  <line x1=\"105\" y1=\"12\" x2=\"105\" y2=\"102\" />\n",
       "  <line x1=\"106\" y1=\"13\" x2=\"106\" y2=\"103\" style=\"stroke-width:2\" />\n",
       "\n",
       "  <!-- Colored Rectangle -->\n",
       "  <polygon points=\"93.0,0.0 106.78615832436458,13.78615832436458 106.78615832436458,103.78615832436458 93.0,90.0\" style=\"fill:#ECB172A0;stroke-width:0\"/>\n",
       "\n",
       "  <!-- Horizontal lines -->\n",
       "  <line x1=\"93\" y1=\"0\" x2=\"183\" y2=\"0\" style=\"stroke-width:2\" />\n",
       "  <line x1=\"99\" y1=\"6\" x2=\"189\" y2=\"6\" />\n",
       "  <line x1=\"105\" y1=\"12\" x2=\"195\" y2=\"12\" />\n",
       "  <line x1=\"106\" y1=\"13\" x2=\"196\" y2=\"13\" style=\"stroke-width:2\" />\n",
       "\n",
       "  <!-- Vertical lines -->\n",
       "  <line x1=\"93\" y1=\"0\" x2=\"106\" y2=\"13\" style=\"stroke-width:2\" />\n",
       "  <line x1=\"183\" y1=\"0\" x2=\"196\" y2=\"13\" style=\"stroke-width:2\" />\n",
       "\n",
       "  <!-- Colored Rectangle -->\n",
       "  <polygon points=\"93.0,0.0 183.0,0.0 196.78615832436458,13.78615832436458 106.78615832436458,13.78615832436458\" style=\"fill:#ECB172A0;stroke-width:0\"/>\n",
       "\n",
       "  <!-- Horizontal lines -->\n",
       "  <line x1=\"106\" y1=\"13\" x2=\"196\" y2=\"13\" style=\"stroke-width:2\" />\n",
       "  <line x1=\"106\" y1=\"103\" x2=\"196\" y2=\"103\" style=\"stroke-width:2\" />\n",
       "\n",
       "  <!-- Vertical lines -->\n",
       "  <line x1=\"106\" y1=\"13\" x2=\"106\" y2=\"103\" style=\"stroke-width:2\" />\n",
       "  <line x1=\"196\" y1=\"13\" x2=\"196\" y2=\"103\" style=\"stroke-width:2\" />\n",
       "\n",
       "  <!-- Colored Rectangle -->\n",
       "  <polygon points=\"106.78615832436458,13.78615832436458 196.78615832436458,13.78615832436458 196.78615832436458,103.78615832436458 106.78615832436458,103.78615832436458\" style=\"fill:#ECB172A0;stroke-width:0\"/>\n",
       "\n",
       "  <!-- Text -->\n",
       "  <text x=\"151.786158\" y=\"123.786158\" font-size=\"1.0rem\" font-weight=\"100\" text-anchor=\"middle\" >512</text>\n",
       "  <text x=\"216.786158\" y=\"58.786158\" font-size=\"1.0rem\" font-weight=\"100\" text-anchor=\"middle\" transform=\"rotate(-90,216.786158,58.786158)\">512</text>\n",
       "  <text x=\"89.893079\" y=\"116.893079\" font-size=\"1.0rem\" font-weight=\"100\" text-anchor=\"middle\" transform=\"rotate(45,89.893079,116.893079)\">15</text>\n",
       "</svg>\n",
       "        </td>\n",
       "    </tr>\n",
       "</table>"
      ],
      "text/plain": [
       "dask.array<_extract_measurement, shape=(4, 15, 15, 512, 512), dtype=complex64, chunksize=(1, 8, 7, 512, 512), chunktype=numpy.ndarray>"
      ]
     },
     "execution_count": 9,
     "metadata": {},
     "output_type": "execute_result"
    }
   ],
   "source": [
    "exit_waves_stem.array"
   ]
  },
  {
   "cell_type": "markdown",
   "id": "00985534-3b37-458c-9cba-e5f6c783f334",
   "metadata": {},
   "source": [
    "Notice that we do not make a chunk for every probe position, but each chunk of the scan dimension instead represents a batch of wave functions. This is done partly to limit [the overhead](https://docs.dask.org/en/stable/best-practices.html#avoid-very-large-graphs) that every chunk comes with, but more importantly, larger batches enables efficient thread parallelization within each run of the multislice algorithm.\n",
    "\n",
    "We can change how many wave functions each batch should have using a keyword. Below we set `max_batch=4`, resulting in a total number of $4 \\times 8 \\times 8 = 256$ chunks."
   ]
  },
  {
   "cell_type": "code",
   "execution_count": 10,
   "id": "b1f9437b-ed6a-4836-8e6c-daa0ae526b21",
   "metadata": {},
   "outputs": [
    {
     "data": {
      "text/html": [
       "<table>\n",
       "    <tr>\n",
       "        <td>\n",
       "            <table>\n",
       "                <thead>\n",
       "                    <tr>\n",
       "                        <td> </td>\n",
       "                        <th> Array </th>\n",
       "                        <th> Chunk </th>\n",
       "                    </tr>\n",
       "                </thead>\n",
       "                <tbody>\n",
       "                    \n",
       "                    <tr>\n",
       "                        <th> Bytes </th>\n",
       "                        <td> 1.76 GiB </td>\n",
       "                        <td> 8.00 MiB </td>\n",
       "                    </tr>\n",
       "                    \n",
       "                    <tr>\n",
       "                        <th> Shape </th>\n",
       "                        <td> (4, 15, 15, 512, 512) </td>\n",
       "                        <td> (1, 2, 2, 512, 512) </td>\n",
       "                    </tr>\n",
       "                    <tr>\n",
       "                        <th> Count </th>\n",
       "                        <td> 16 Graph Layers </td>\n",
       "                        <td> 256 Chunks </td>\n",
       "                    </tr>\n",
       "                    <tr>\n",
       "                    <th> Type </th>\n",
       "                    <td> complex64 </td>\n",
       "                    <td> numpy.ndarray </td>\n",
       "                    </tr>\n",
       "                </tbody>\n",
       "            </table>\n",
       "        </td>\n",
       "        <td>\n",
       "        <svg width=\"339\" height=\"153\" style=\"stroke:rgb(0,0,0);stroke-width:1\" >\n",
       "\n",
       "  <!-- Horizontal lines -->\n",
       "  <line x1=\"0\" y1=\"0\" x2=\"23\" y2=\"0\" style=\"stroke-width:2\" />\n",
       "  <line x1=\"0\" y1=\"4\" x2=\"23\" y2=\"4\" />\n",
       "  <line x1=\"0\" y1=\"9\" x2=\"23\" y2=\"9\" />\n",
       "  <line x1=\"0\" y1=\"14\" x2=\"23\" y2=\"14\" />\n",
       "  <line x1=\"0\" y1=\"19\" x2=\"23\" y2=\"19\" style=\"stroke-width:2\" />\n",
       "\n",
       "  <!-- Vertical lines -->\n",
       "  <line x1=\"0\" y1=\"0\" x2=\"0\" y2=\"19\" style=\"stroke-width:2\" />\n",
       "  <line x1=\"3\" y1=\"0\" x2=\"3\" y2=\"19\" />\n",
       "  <line x1=\"6\" y1=\"0\" x2=\"6\" y2=\"19\" />\n",
       "  <line x1=\"9\" y1=\"0\" x2=\"9\" y2=\"19\" />\n",
       "  <line x1=\"12\" y1=\"0\" x2=\"12\" y2=\"19\" />\n",
       "  <line x1=\"15\" y1=\"0\" x2=\"15\" y2=\"19\" />\n",
       "  <line x1=\"18\" y1=\"0\" x2=\"18\" y2=\"19\" />\n",
       "  <line x1=\"21\" y1=\"0\" x2=\"21\" y2=\"19\" />\n",
       "  <line x1=\"23\" y1=\"0\" x2=\"23\" y2=\"19\" style=\"stroke-width:2\" />\n",
       "\n",
       "  <!-- Colored Rectangle -->\n",
       "  <polygon points=\"0.0,0.0 23.436469151419786,0.0 23.436469151419786,19.059462385936865 0.0,19.059462385936865\" style=\"fill:#ECB172A0;stroke-width:0\"/>\n",
       "\n",
       "  <!-- Text -->\n",
       "  <text x=\"11.718235\" y=\"39.059462\" font-size=\"1.0rem\" font-weight=\"100\" text-anchor=\"middle\" >15</text>\n",
       "  <text x=\"43.436469\" y=\"9.529731\" font-size=\"1.0rem\" font-weight=\"100\" text-anchor=\"middle\" transform=\"rotate(0,43.436469,9.529731)\">4</text>\n",
       "\n",
       "\n",
       "  <!-- Horizontal lines -->\n",
       "  <line x1=\"93\" y1=\"0\" x2=\"106\" y2=\"13\" style=\"stroke-width:2\" />\n",
       "  <line x1=\"93\" y1=\"90\" x2=\"106\" y2=\"103\" style=\"stroke-width:2\" />\n",
       "\n",
       "  <!-- Vertical lines -->\n",
       "  <line x1=\"93\" y1=\"0\" x2=\"93\" y2=\"90\" style=\"stroke-width:2\" />\n",
       "  <line x1=\"94\" y1=\"1\" x2=\"94\" y2=\"91\" />\n",
       "  <line x1=\"96\" y1=\"3\" x2=\"96\" y2=\"93\" />\n",
       "  <line x1=\"98\" y1=\"5\" x2=\"98\" y2=\"95\" />\n",
       "  <line x1=\"100\" y1=\"7\" x2=\"100\" y2=\"97\" />\n",
       "  <line x1=\"102\" y1=\"9\" x2=\"102\" y2=\"99\" />\n",
       "  <line x1=\"104\" y1=\"11\" x2=\"104\" y2=\"101\" />\n",
       "  <line x1=\"105\" y1=\"12\" x2=\"105\" y2=\"102\" />\n",
       "  <line x1=\"106\" y1=\"13\" x2=\"106\" y2=\"103\" style=\"stroke-width:2\" />\n",
       "\n",
       "  <!-- Colored Rectangle -->\n",
       "  <polygon points=\"93.0,0.0 106.78615832436458,13.78615832436458 106.78615832436458,103.78615832436458 93.0,90.0\" style=\"fill:#ECB172A0;stroke-width:0\"/>\n",
       "\n",
       "  <!-- Horizontal lines -->\n",
       "  <line x1=\"93\" y1=\"0\" x2=\"183\" y2=\"0\" style=\"stroke-width:2\" />\n",
       "  <line x1=\"94\" y1=\"1\" x2=\"184\" y2=\"1\" />\n",
       "  <line x1=\"96\" y1=\"3\" x2=\"186\" y2=\"3\" />\n",
       "  <line x1=\"98\" y1=\"5\" x2=\"188\" y2=\"5\" />\n",
       "  <line x1=\"100\" y1=\"7\" x2=\"190\" y2=\"7\" />\n",
       "  <line x1=\"102\" y1=\"9\" x2=\"192\" y2=\"9\" />\n",
       "  <line x1=\"104\" y1=\"11\" x2=\"194\" y2=\"11\" />\n",
       "  <line x1=\"105\" y1=\"12\" x2=\"195\" y2=\"12\" />\n",
       "  <line x1=\"106\" y1=\"13\" x2=\"196\" y2=\"13\" style=\"stroke-width:2\" />\n",
       "\n",
       "  <!-- Vertical lines -->\n",
       "  <line x1=\"93\" y1=\"0\" x2=\"106\" y2=\"13\" style=\"stroke-width:2\" />\n",
       "  <line x1=\"183\" y1=\"0\" x2=\"196\" y2=\"13\" style=\"stroke-width:2\" />\n",
       "\n",
       "  <!-- Colored Rectangle -->\n",
       "  <polygon points=\"93.0,0.0 183.0,0.0 196.78615832436458,13.78615832436458 106.78615832436458,13.78615832436458\" style=\"fill:#ECB172A0;stroke-width:0\"/>\n",
       "\n",
       "  <!-- Horizontal lines -->\n",
       "  <line x1=\"106\" y1=\"13\" x2=\"196\" y2=\"13\" style=\"stroke-width:2\" />\n",
       "  <line x1=\"106\" y1=\"103\" x2=\"196\" y2=\"103\" style=\"stroke-width:2\" />\n",
       "\n",
       "  <!-- Vertical lines -->\n",
       "  <line x1=\"106\" y1=\"13\" x2=\"106\" y2=\"103\" style=\"stroke-width:2\" />\n",
       "  <line x1=\"196\" y1=\"13\" x2=\"196\" y2=\"103\" style=\"stroke-width:2\" />\n",
       "\n",
       "  <!-- Colored Rectangle -->\n",
       "  <polygon points=\"106.78615832436458,13.78615832436458 196.78615832436458,13.78615832436458 196.78615832436458,103.78615832436458 106.78615832436458,103.78615832436458\" style=\"fill:#ECB172A0;stroke-width:0\"/>\n",
       "\n",
       "  <!-- Text -->\n",
       "  <text x=\"151.786158\" y=\"123.786158\" font-size=\"1.0rem\" font-weight=\"100\" text-anchor=\"middle\" >512</text>\n",
       "  <text x=\"216.786158\" y=\"58.786158\" font-size=\"1.0rem\" font-weight=\"100\" text-anchor=\"middle\" transform=\"rotate(-90,216.786158,58.786158)\">512</text>\n",
       "  <text x=\"89.893079\" y=\"116.893079\" font-size=\"1.0rem\" font-weight=\"100\" text-anchor=\"middle\" transform=\"rotate(45,89.893079,116.893079)\">15</text>\n",
       "</svg>\n",
       "        </td>\n",
       "    </tr>\n",
       "</table>"
      ],
      "text/plain": [
       "dask.array<_extract_measurement, shape=(4, 15, 15, 512, 512), dtype=complex64, chunksize=(1, 2, 2, 512, 512), chunktype=numpy.ndarray>"
      ]
     },
     "execution_count": 10,
     "metadata": {},
     "output_type": "execute_result"
    }
   ],
   "source": [
    "exit_waves_stem = probe.multislice(potential, scan=scan, max_batch=4)\n",
    "\n",
    "exit_waves_stem.array"
   ]
  },
  {
   "cell_type": "markdown",
   "id": "28998800-0b81-49f7-b3c6-79aa355cf3dc",
   "metadata": {
    "pycharm": {
     "name": "#%% md\n"
    }
   },
   "source": [
    "The default value of `max_batch` is `\"auto\"`: with this setting the number of wave functions in each batch is determined such that the batch represents approximately `128 MB` of memory, although this number may be changed through the *ab*TEM [configuration](../../reference/config.md).\n",
    "\n",
    "Before computing this task graph, we apply a HAADF detector and calculate the ensemble mean, which reduces the total size of the output to just 900 B. We note that the 1.76 GB ensemble of wave functions never needs to be in memory simulateneously, as each chunk of exit wave functions are reduced immediately after completing the multislice algorithm."
   ]
  },
  {
   "cell_type": "code",
   "execution_count": 11,
   "id": "8664e8b2-4928-4c5e-bd48-fa854a465cec",
   "metadata": {
    "pycharm": {
     "name": "#%%\n"
    }
   },
   "outputs": [
    {
     "data": {
      "text/html": [
       "<table>\n",
       "    <tr>\n",
       "        <td>\n",
       "            <table>\n",
       "                <thead>\n",
       "                    <tr>\n",
       "                        <td> </td>\n",
       "                        <th> Array </th>\n",
       "                        <th> Chunk </th>\n",
       "                    </tr>\n",
       "                </thead>\n",
       "                <tbody>\n",
       "                    \n",
       "                    <tr>\n",
       "                        <th> Bytes </th>\n",
       "                        <td> 900 B </td>\n",
       "                        <td> 16 B </td>\n",
       "                    </tr>\n",
       "                    \n",
       "                    <tr>\n",
       "                        <th> Shape </th>\n",
       "                        <td> (15, 15) </td>\n",
       "                        <td> (2, 2) </td>\n",
       "                    </tr>\n",
       "                    <tr>\n",
       "                        <th> Count </th>\n",
       "                        <td> 21 Graph Layers </td>\n",
       "                        <td> 64 Chunks </td>\n",
       "                    </tr>\n",
       "                    <tr>\n",
       "                    <th> Type </th>\n",
       "                    <td> float32 </td>\n",
       "                    <td> numpy.ndarray </td>\n",
       "                    </tr>\n",
       "                </tbody>\n",
       "            </table>\n",
       "        </td>\n",
       "        <td>\n",
       "        <svg width=\"140\" height=\"140\" style=\"stroke:rgb(0,0,0);stroke-width:1\" >\n",
       "\n",
       "  <!-- Horizontal lines -->\n",
       "  <line x1=\"0\" y1=\"0\" x2=\"90\" y2=\"0\" style=\"stroke-width:2\" />\n",
       "  <line x1=\"0\" y1=\"12\" x2=\"90\" y2=\"12\" />\n",
       "  <line x1=\"0\" y1=\"24\" x2=\"90\" y2=\"24\" />\n",
       "  <line x1=\"0\" y1=\"36\" x2=\"90\" y2=\"36\" />\n",
       "  <line x1=\"0\" y1=\"48\" x2=\"90\" y2=\"48\" />\n",
       "  <line x1=\"0\" y1=\"60\" x2=\"90\" y2=\"60\" />\n",
       "  <line x1=\"0\" y1=\"72\" x2=\"90\" y2=\"72\" />\n",
       "  <line x1=\"0\" y1=\"84\" x2=\"90\" y2=\"84\" />\n",
       "  <line x1=\"0\" y1=\"90\" x2=\"90\" y2=\"90\" style=\"stroke-width:2\" />\n",
       "\n",
       "  <!-- Vertical lines -->\n",
       "  <line x1=\"0\" y1=\"0\" x2=\"0\" y2=\"90\" style=\"stroke-width:2\" />\n",
       "  <line x1=\"12\" y1=\"0\" x2=\"12\" y2=\"90\" />\n",
       "  <line x1=\"24\" y1=\"0\" x2=\"24\" y2=\"90\" />\n",
       "  <line x1=\"36\" y1=\"0\" x2=\"36\" y2=\"90\" />\n",
       "  <line x1=\"48\" y1=\"0\" x2=\"48\" y2=\"90\" />\n",
       "  <line x1=\"60\" y1=\"0\" x2=\"60\" y2=\"90\" />\n",
       "  <line x1=\"72\" y1=\"0\" x2=\"72\" y2=\"90\" />\n",
       "  <line x1=\"84\" y1=\"0\" x2=\"84\" y2=\"90\" />\n",
       "  <line x1=\"90\" y1=\"0\" x2=\"90\" y2=\"90\" style=\"stroke-width:2\" />\n",
       "\n",
       "  <!-- Colored Rectangle -->\n",
       "  <polygon points=\"0.0,0.0 90.0,0.0 90.0,90.0 0.0,90.0\" style=\"fill:#ECB172A0;stroke-width:0\"/>\n",
       "\n",
       "  <!-- Text -->\n",
       "  <text x=\"45.000000\" y=\"110.000000\" font-size=\"1.0rem\" font-weight=\"100\" text-anchor=\"middle\" >15</text>\n",
       "  <text x=\"110.000000\" y=\"45.000000\" font-size=\"1.0rem\" font-weight=\"100\" text-anchor=\"middle\" transform=\"rotate(0,110.000000,45.000000)\">15</text>\n",
       "</svg>\n",
       "        </td>\n",
       "    </tr>\n",
       "</table>"
      ],
      "text/plain": [
       "dask.array<mean_agg-aggregate, shape=(15, 15), dtype=float32, chunksize=(2, 2), chunktype=numpy.ndarray>"
      ]
     },
     "execution_count": 11,
     "metadata": {},
     "output_type": "execute_result"
    }
   ],
   "source": [
    "detector = abtem.AnnularDetector(inner=65, outer=200)\n",
    "\n",
    "haadf_images = detector.detect(exit_waves_stem).reduce_ensemble()\n",
    "\n",
    "haadf_images.array"
   ]
  },
  {
   "cell_type": "markdown",
   "id": "c8167e51-1e8b-408d-9e08-ad00b6966ad5",
   "metadata": {
    "pycharm": {
     "name": "#%% md\n"
    },
    "tags": []
   },
   "source": [
    "## Schedulers\n",
    "\n",
    "After generating a task graph, it needs to be executed on (parallel) hardware. This is the job of a [task scheduler](https://docs.dask.org/en/stable/scheduler-overview.html). Dask provides several *task schedulers*: each of which will compute a task graph and give the same result, but with different performance characteristics.\n",
    "\n",
    "Every time you call the `compute` method a Dask scheduler is used. We adopt the default Dask scheduler configuration and every keyword argument used with the `compute` method in *ab*TEM is forwarded to the Dask `compute` function. \n",
    "\n",
    "### Local scheduler\n",
    "\n",
    "The default scheduler is the [`ThreadPoolExecutor`](https://docs.dask.org/en/stable/scheduling.html#local-threads). As an example of a keyword argument, the threaded scheduler takes `num_workers`, which sets the number of threads to use (by default, up to the number of computing cores). Let's run compute with 8 workers."
   ]
  },
  {
   "cell_type": "code",
   "execution_count": 12,
   "id": "4c507a96-5a6d-4e55-8775-200f66e26459",
   "metadata": {
    "tags": [
     "skip-test"
    ]
   },
   "outputs": [
    {
     "name": "stdout",
     "output_type": "stream",
     "text": [
      "[########################################] | 100% Completed | 23.63 s\n"
     ]
    },
    {
     "data": {
      "text/plain": [
       "<abtem.measurements.Images object at 0x142ba4790>"
      ]
     },
     "execution_count": 12,
     "metadata": {},
     "output_type": "execute_result"
    }
   ],
   "source": [
    "haadf_images = detector.detect(exit_waves_stem).reduce_ensemble()\n",
    "\n",
    "haadf_images.compute(\n",
    "    scheduler=\"threads\", num_workers=8\n",
    ")"
   ]
  },
  {
   "cell_type": "markdown",
   "id": "168c4090-255a-4705-85a8-afbf74c6320e",
   "metadata": {},
   "source": [
    "We can change the scheduler to using the `ProcessPoolExecutor` as below.\n",
    "\n",
    "```python\n",
    "haadf_images = detector.detect(exit_waves_stem).compute(scheduler=\"processes\", num_workers=4)\n",
    "```\n",
    "\n",
    "Using `abtem.config.set` the scheduler can be set either as a context manager or globally.\n",
    "```python\n",
    "# As a context manager\n",
    "with abtem.config.set(scheduler=\"processes\"):\n",
    "    haadf_images.compute()\n",
    "\n",
    "# Set globally\n",
    "abtem.config.set(scheduler=\"processes\")\n",
    "haadf_images.compute()\n",
    "```"
   ]
  },
  {
   "cell_type": "markdown",
   "id": "675a4c6c-338c-4c3a-90e2-8ad79ed63dd4",
   "metadata": {},
   "source": [
    "### Profiling"
   ]
  },
  {
   "cell_type": "markdown",
   "id": "945988ec-0d2b-422a-a84c-32f10d5a63af",
   "metadata": {},
   "source": [
    "To improve performance, we have to be able to profile it. Profiling parallel code can be challenging, but Dask provides functionality to aid in this and inspecting execution. The diagnostic tools are however quite different depending on whether you use a local or distributed scheduler.\n",
    "\n",
    "Dask allows local diagnostics by adding callbacks that collect information about your code execution. You can use the profilers as a context manager as described in the [Dask documentation](https://docs.dask.org/en/stable/diagnostics-local.html). For convenience, the *ab*TEM `compute` methods also implement keywords for adding Dask profilers.\n",
    "\n",
    "Below we use the [`Profiler`](https://docs.dask.org/en/stable/diagnostics-local.html#profiler) to monitor task execution by setting `profiler=True` and a [`ResourceProfiler`](https://docs.dask.org/en/stable/diagnostics-local.html#resourceprofiler) to monitor the CPU usage and memory consumption by setting `resource_profiler=True`. We rerun the simulation above with these profilers. "
   ]
  },
  {
   "cell_type": "code",
   "execution_count": 13,
   "id": "56cb3754-6cde-4f83-b058-6014356cefaf",
   "metadata": {},
   "outputs": [
    {
     "name": "stdout",
     "output_type": "stream",
     "text": [
      "[########################################] | 100% Completed | 20.69 s\n"
     ]
    }
   ],
   "source": [
    "haadf_images = detector.detect(exit_waves_stem).reduce_ensemble()\n",
    "\n",
    "haadf_images, profilers = haadf_images.compute(profiler=True, resource_profiler=True)"
   ]
  },
  {
   "cell_type": "markdown",
   "id": "a3b63fd8-4e8b-4842-9c15-2fa8787da397",
   "metadata": {},
   "source": [
    "To display the results Dask uses the [Bokeh plotting library](https://bokeh.org/) (which is installed together with Dask). To display the plots in a Jupyter notebook we need to run the commands below."
   ]
  },
  {
   "cell_type": "code",
   "execution_count": 14,
   "id": "bb2fc8ba-5288-4499-9090-35e8723c7930",
   "metadata": {
    "tags": [
     "skip-test"
    ]
   },
   "outputs": [
    {
     "data": {
      "text/html": [
       "<div class=\"bk-root\">\n",
       "        <a href=\"https://bokeh.org\" target=\"_blank\" class=\"bk-logo bk-logo-small bk-logo-notebook\"></a>\n",
       "        <span id=\"1001\">Loading BokehJS ...</span>\n",
       "    </div>\n"
      ]
     },
     "metadata": {},
     "output_type": "display_data"
    },
    {
     "data": {
      "application/javascript": [
       "(function(root) {\n",
       "  function now() {\n",
       "    return new Date();\n",
       "  }\n",
       "\n",
       "  const force = true;\n",
       "\n",
       "  if (typeof root._bokeh_onload_callbacks === \"undefined\" || force === true) {\n",
       "    root._bokeh_onload_callbacks = [];\n",
       "    root._bokeh_is_loading = undefined;\n",
       "  }\n",
       "\n",
       "const JS_MIME_TYPE = 'application/javascript';\n",
       "  const HTML_MIME_TYPE = 'text/html';\n",
       "  const EXEC_MIME_TYPE = 'application/vnd.bokehjs_exec.v0+json';\n",
       "  const CLASS_NAME = 'output_bokeh rendered_html';\n",
       "\n",
       "  /**\n",
       "   * Render data to the DOM node\n",
       "   */\n",
       "  function render(props, node) {\n",
       "    const script = document.createElement(\"script\");\n",
       "    node.appendChild(script);\n",
       "  }\n",
       "\n",
       "  /**\n",
       "   * Handle when an output is cleared or removed\n",
       "   */\n",
       "  function handleClearOutput(event, handle) {\n",
       "    const cell = handle.cell;\n",
       "\n",
       "    const id = cell.output_area._bokeh_element_id;\n",
       "    const server_id = cell.output_area._bokeh_server_id;\n",
       "    // Clean up Bokeh references\n",
       "    if (id != null && id in Bokeh.index) {\n",
       "      Bokeh.index[id].model.document.clear();\n",
       "      delete Bokeh.index[id];\n",
       "    }\n",
       "\n",
       "    if (server_id !== undefined) {\n",
       "      // Clean up Bokeh references\n",
       "      const cmd_clean = \"from bokeh.io.state import curstate; print(curstate().uuid_to_server['\" + server_id + \"'].get_sessions()[0].document.roots[0]._id)\";\n",
       "      cell.notebook.kernel.execute(cmd_clean, {\n",
       "        iopub: {\n",
       "          output: function(msg) {\n",
       "            const id = msg.content.text.trim();\n",
       "            if (id in Bokeh.index) {\n",
       "              Bokeh.index[id].model.document.clear();\n",
       "              delete Bokeh.index[id];\n",
       "            }\n",
       "          }\n",
       "        }\n",
       "      });\n",
       "      // Destroy server and session\n",
       "      const cmd_destroy = \"import bokeh.io.notebook as ion; ion.destroy_server('\" + server_id + \"')\";\n",
       "      cell.notebook.kernel.execute(cmd_destroy);\n",
       "    }\n",
       "  }\n",
       "\n",
       "  /**\n",
       "   * Handle when a new output is added\n",
       "   */\n",
       "  function handleAddOutput(event, handle) {\n",
       "    const output_area = handle.output_area;\n",
       "    const output = handle.output;\n",
       "\n",
       "    // limit handleAddOutput to display_data with EXEC_MIME_TYPE content only\n",
       "    if ((output.output_type != \"display_data\") || (!Object.prototype.hasOwnProperty.call(output.data, EXEC_MIME_TYPE))) {\n",
       "      return\n",
       "    }\n",
       "\n",
       "    const toinsert = output_area.element.find(\".\" + CLASS_NAME.split(' ')[0]);\n",
       "\n",
       "    if (output.metadata[EXEC_MIME_TYPE][\"id\"] !== undefined) {\n",
       "      toinsert[toinsert.length - 1].firstChild.textContent = output.data[JS_MIME_TYPE];\n",
       "      // store reference to embed id on output_area\n",
       "      output_area._bokeh_element_id = output.metadata[EXEC_MIME_TYPE][\"id\"];\n",
       "    }\n",
       "    if (output.metadata[EXEC_MIME_TYPE][\"server_id\"] !== undefined) {\n",
       "      const bk_div = document.createElement(\"div\");\n",
       "      bk_div.innerHTML = output.data[HTML_MIME_TYPE];\n",
       "      const script_attrs = bk_div.children[0].attributes;\n",
       "      for (let i = 0; i < script_attrs.length; i++) {\n",
       "        toinsert[toinsert.length - 1].firstChild.setAttribute(script_attrs[i].name, script_attrs[i].value);\n",
       "        toinsert[toinsert.length - 1].firstChild.textContent = bk_div.children[0].textContent\n",
       "      }\n",
       "      // store reference to server id on output_area\n",
       "      output_area._bokeh_server_id = output.metadata[EXEC_MIME_TYPE][\"server_id\"];\n",
       "    }\n",
       "  }\n",
       "\n",
       "  function register_renderer(events, OutputArea) {\n",
       "\n",
       "    function append_mime(data, metadata, element) {\n",
       "      // create a DOM node to render to\n",
       "      const toinsert = this.create_output_subarea(\n",
       "        metadata,\n",
       "        CLASS_NAME,\n",
       "        EXEC_MIME_TYPE\n",
       "      );\n",
       "      this.keyboard_manager.register_events(toinsert);\n",
       "      // Render to node\n",
       "      const props = {data: data, metadata: metadata[EXEC_MIME_TYPE]};\n",
       "      render(props, toinsert[toinsert.length - 1]);\n",
       "      element.append(toinsert);\n",
       "      return toinsert\n",
       "    }\n",
       "\n",
       "    /* Handle when an output is cleared or removed */\n",
       "    events.on('clear_output.CodeCell', handleClearOutput);\n",
       "    events.on('delete.Cell', handleClearOutput);\n",
       "\n",
       "    /* Handle when a new output is added */\n",
       "    events.on('output_added.OutputArea', handleAddOutput);\n",
       "\n",
       "    /**\n",
       "     * Register the mime type and append_mime function with output_area\n",
       "     */\n",
       "    OutputArea.prototype.register_mime_type(EXEC_MIME_TYPE, append_mime, {\n",
       "      /* Is output safe? */\n",
       "      safe: true,\n",
       "      /* Index of renderer in `output_area.display_order` */\n",
       "      index: 0\n",
       "    });\n",
       "  }\n",
       "\n",
       "  // register the mime type if in Jupyter Notebook environment and previously unregistered\n",
       "  if (root.Jupyter !== undefined) {\n",
       "    const events = require('base/js/events');\n",
       "    const OutputArea = require('notebook/js/outputarea').OutputArea;\n",
       "\n",
       "    if (OutputArea.prototype.mime_types().indexOf(EXEC_MIME_TYPE) == -1) {\n",
       "      register_renderer(events, OutputArea);\n",
       "    }\n",
       "  }\n",
       "  if (typeof (root._bokeh_timeout) === \"undefined\" || force === true) {\n",
       "    root._bokeh_timeout = Date.now() + 5000;\n",
       "    root._bokeh_failed_load = false;\n",
       "  }\n",
       "\n",
       "  const NB_LOAD_WARNING = {'data': {'text/html':\n",
       "     \"<div style='background-color: #fdd'>\\n\"+\n",
       "     \"<p>\\n\"+\n",
       "     \"BokehJS does not appear to have successfully loaded. If loading BokehJS from CDN, this \\n\"+\n",
       "     \"may be due to a slow or bad network connection. Possible fixes:\\n\"+\n",
       "     \"</p>\\n\"+\n",
       "     \"<ul>\\n\"+\n",
       "     \"<li>re-rerun `output_notebook()` to attempt to load from CDN again, or</li>\\n\"+\n",
       "     \"<li>use INLINE resources instead, as so:</li>\\n\"+\n",
       "     \"</ul>\\n\"+\n",
       "     \"<code>\\n\"+\n",
       "     \"from bokeh.resources import INLINE\\n\"+\n",
       "     \"output_notebook(resources=INLINE)\\n\"+\n",
       "     \"</code>\\n\"+\n",
       "     \"</div>\"}};\n",
       "\n",
       "  function display_loaded() {\n",
       "    const el = document.getElementById(\"1001\");\n",
       "    if (el != null) {\n",
       "      el.textContent = \"BokehJS is loading...\";\n",
       "    }\n",
       "    if (root.Bokeh !== undefined) {\n",
       "      if (el != null) {\n",
       "        el.textContent = \"BokehJS \" + root.Bokeh.version + \" successfully loaded.\";\n",
       "      }\n",
       "    } else if (Date.now() < root._bokeh_timeout) {\n",
       "      setTimeout(display_loaded, 100)\n",
       "    }\n",
       "  }\n",
       "\n",
       "  function run_callbacks() {\n",
       "    try {\n",
       "      root._bokeh_onload_callbacks.forEach(function(callback) {\n",
       "        if (callback != null)\n",
       "          callback();\n",
       "      });\n",
       "    } finally {\n",
       "      delete root._bokeh_onload_callbacks\n",
       "    }\n",
       "    console.debug(\"Bokeh: all callbacks have finished\");\n",
       "  }\n",
       "\n",
       "  function load_libs(css_urls, js_urls, callback) {\n",
       "    if (css_urls == null) css_urls = [];\n",
       "    if (js_urls == null) js_urls = [];\n",
       "\n",
       "    root._bokeh_onload_callbacks.push(callback);\n",
       "    if (root._bokeh_is_loading > 0) {\n",
       "      console.debug(\"Bokeh: BokehJS is being loaded, scheduling callback at\", now());\n",
       "      return null;\n",
       "    }\n",
       "    if (js_urls == null || js_urls.length === 0) {\n",
       "      run_callbacks();\n",
       "      return null;\n",
       "    }\n",
       "    console.debug(\"Bokeh: BokehJS not loaded, scheduling load and callback at\", now());\n",
       "    root._bokeh_is_loading = css_urls.length + js_urls.length;\n",
       "\n",
       "    function on_load() {\n",
       "      root._bokeh_is_loading--;\n",
       "      if (root._bokeh_is_loading === 0) {\n",
       "        console.debug(\"Bokeh: all BokehJS libraries/stylesheets loaded\");\n",
       "        run_callbacks()\n",
       "      }\n",
       "    }\n",
       "\n",
       "    function on_error(url) {\n",
       "      console.error(\"failed to load \" + url);\n",
       "    }\n",
       "\n",
       "    for (let i = 0; i < css_urls.length; i++) {\n",
       "      const url = css_urls[i];\n",
       "      const element = document.createElement(\"link\");\n",
       "      element.onload = on_load;\n",
       "      element.onerror = on_error.bind(null, url);\n",
       "      element.rel = \"stylesheet\";\n",
       "      element.type = \"text/css\";\n",
       "      element.href = url;\n",
       "      console.debug(\"Bokeh: injecting link tag for BokehJS stylesheet: \", url);\n",
       "      document.body.appendChild(element);\n",
       "    }\n",
       "\n",
       "    for (let i = 0; i < js_urls.length; i++) {\n",
       "      const url = js_urls[i];\n",
       "      const element = document.createElement('script');\n",
       "      element.onload = on_load;\n",
       "      element.onerror = on_error.bind(null, url);\n",
       "      element.async = false;\n",
       "      element.src = url;\n",
       "      console.debug(\"Bokeh: injecting script tag for BokehJS library: \", url);\n",
       "      document.head.appendChild(element);\n",
       "    }\n",
       "  };\n",
       "\n",
       "  function inject_raw_css(css) {\n",
       "    const element = document.createElement(\"style\");\n",
       "    element.appendChild(document.createTextNode(css));\n",
       "    document.body.appendChild(element);\n",
       "  }\n",
       "\n",
       "  const js_urls = [\"https://cdn.bokeh.org/bokeh/release/bokeh-2.4.3.min.js\", \"https://cdn.bokeh.org/bokeh/release/bokeh-gl-2.4.3.min.js\", \"https://cdn.bokeh.org/bokeh/release/bokeh-widgets-2.4.3.min.js\", \"https://cdn.bokeh.org/bokeh/release/bokeh-tables-2.4.3.min.js\", \"https://cdn.bokeh.org/bokeh/release/bokeh-mathjax-2.4.3.min.js\"];\n",
       "  const css_urls = [];\n",
       "\n",
       "  const inline_js = [    function(Bokeh) {\n",
       "      Bokeh.set_log_level(\"info\");\n",
       "    },\n",
       "function(Bokeh) {\n",
       "    }\n",
       "  ];\n",
       "\n",
       "  function run_inline_js() {\n",
       "    if (root.Bokeh !== undefined || force === true) {\n",
       "          for (let i = 0; i < inline_js.length; i++) {\n",
       "      inline_js[i].call(root, root.Bokeh);\n",
       "    }\n",
       "if (force === true) {\n",
       "        display_loaded();\n",
       "      }} else if (Date.now() < root._bokeh_timeout) {\n",
       "      setTimeout(run_inline_js, 100);\n",
       "    } else if (!root._bokeh_failed_load) {\n",
       "      console.log(\"Bokeh: BokehJS failed to load within specified timeout.\");\n",
       "      root._bokeh_failed_load = true;\n",
       "    } else if (force !== true) {\n",
       "      const cell = $(document.getElementById(\"1001\")).parents('.cell').data().cell;\n",
       "      cell.output_area.append_execute_result(NB_LOAD_WARNING)\n",
       "    }\n",
       "  }\n",
       "\n",
       "  if (root._bokeh_is_loading === 0) {\n",
       "    console.debug(\"Bokeh: BokehJS loaded, going straight to plotting\");\n",
       "    run_inline_js();\n",
       "  } else {\n",
       "    load_libs(css_urls, js_urls, function() {\n",
       "      console.debug(\"Bokeh: BokehJS plotting callback run at\", now());\n",
       "      run_inline_js();\n",
       "    });\n",
       "  }\n",
       "}(window));"
      ],
      "application/vnd.bokehjs_load.v0+json": "(function(root) {\n  function now() {\n    return new Date();\n  }\n\n  const force = true;\n\n  if (typeof root._bokeh_onload_callbacks === \"undefined\" || force === true) {\n    root._bokeh_onload_callbacks = [];\n    root._bokeh_is_loading = undefined;\n  }\n\n\n  if (typeof (root._bokeh_timeout) === \"undefined\" || force === true) {\n    root._bokeh_timeout = Date.now() + 5000;\n    root._bokeh_failed_load = false;\n  }\n\n  const NB_LOAD_WARNING = {'data': {'text/html':\n     \"<div style='background-color: #fdd'>\\n\"+\n     \"<p>\\n\"+\n     \"BokehJS does not appear to have successfully loaded. If loading BokehJS from CDN, this \\n\"+\n     \"may be due to a slow or bad network connection. Possible fixes:\\n\"+\n     \"</p>\\n\"+\n     \"<ul>\\n\"+\n     \"<li>re-rerun `output_notebook()` to attempt to load from CDN again, or</li>\\n\"+\n     \"<li>use INLINE resources instead, as so:</li>\\n\"+\n     \"</ul>\\n\"+\n     \"<code>\\n\"+\n     \"from bokeh.resources import INLINE\\n\"+\n     \"output_notebook(resources=INLINE)\\n\"+\n     \"</code>\\n\"+\n     \"</div>\"}};\n\n  function display_loaded() {\n    const el = document.getElementById(\"1001\");\n    if (el != null) {\n      el.textContent = \"BokehJS is loading...\";\n    }\n    if (root.Bokeh !== undefined) {\n      if (el != null) {\n        el.textContent = \"BokehJS \" + root.Bokeh.version + \" successfully loaded.\";\n      }\n    } else if (Date.now() < root._bokeh_timeout) {\n      setTimeout(display_loaded, 100)\n    }\n  }\n\n  function run_callbacks() {\n    try {\n      root._bokeh_onload_callbacks.forEach(function(callback) {\n        if (callback != null)\n          callback();\n      });\n    } finally {\n      delete root._bokeh_onload_callbacks\n    }\n    console.debug(\"Bokeh: all callbacks have finished\");\n  }\n\n  function load_libs(css_urls, js_urls, callback) {\n    if (css_urls == null) css_urls = [];\n    if (js_urls == null) js_urls = [];\n\n    root._bokeh_onload_callbacks.push(callback);\n    if (root._bokeh_is_loading > 0) {\n      console.debug(\"Bokeh: BokehJS is being loaded, scheduling callback at\", now());\n      return null;\n    }\n    if (js_urls == null || js_urls.length === 0) {\n      run_callbacks();\n      return null;\n    }\n    console.debug(\"Bokeh: BokehJS not loaded, scheduling load and callback at\", now());\n    root._bokeh_is_loading = css_urls.length + js_urls.length;\n\n    function on_load() {\n      root._bokeh_is_loading--;\n      if (root._bokeh_is_loading === 0) {\n        console.debug(\"Bokeh: all BokehJS libraries/stylesheets loaded\");\n        run_callbacks()\n      }\n    }\n\n    function on_error(url) {\n      console.error(\"failed to load \" + url);\n    }\n\n    for (let i = 0; i < css_urls.length; i++) {\n      const url = css_urls[i];\n      const element = document.createElement(\"link\");\n      element.onload = on_load;\n      element.onerror = on_error.bind(null, url);\n      element.rel = \"stylesheet\";\n      element.type = \"text/css\";\n      element.href = url;\n      console.debug(\"Bokeh: injecting link tag for BokehJS stylesheet: \", url);\n      document.body.appendChild(element);\n    }\n\n    for (let i = 0; i < js_urls.length; i++) {\n      const url = js_urls[i];\n      const element = document.createElement('script');\n      element.onload = on_load;\n      element.onerror = on_error.bind(null, url);\n      element.async = false;\n      element.src = url;\n      console.debug(\"Bokeh: injecting script tag for BokehJS library: \", url);\n      document.head.appendChild(element);\n    }\n  };\n\n  function inject_raw_css(css) {\n    const element = document.createElement(\"style\");\n    element.appendChild(document.createTextNode(css));\n    document.body.appendChild(element);\n  }\n\n  const js_urls = [\"https://cdn.bokeh.org/bokeh/release/bokeh-2.4.3.min.js\", \"https://cdn.bokeh.org/bokeh/release/bokeh-gl-2.4.3.min.js\", \"https://cdn.bokeh.org/bokeh/release/bokeh-widgets-2.4.3.min.js\", \"https://cdn.bokeh.org/bokeh/release/bokeh-tables-2.4.3.min.js\", \"https://cdn.bokeh.org/bokeh/release/bokeh-mathjax-2.4.3.min.js\"];\n  const css_urls = [];\n\n  const inline_js = [    function(Bokeh) {\n      Bokeh.set_log_level(\"info\");\n    },\nfunction(Bokeh) {\n    }\n  ];\n\n  function run_inline_js() {\n    if (root.Bokeh !== undefined || force === true) {\n          for (let i = 0; i < inline_js.length; i++) {\n      inline_js[i].call(root, root.Bokeh);\n    }\nif (force === true) {\n        display_loaded();\n      }} else if (Date.now() < root._bokeh_timeout) {\n      setTimeout(run_inline_js, 100);\n    } else if (!root._bokeh_failed_load) {\n      console.log(\"Bokeh: BokehJS failed to load within specified timeout.\");\n      root._bokeh_failed_load = true;\n    } else if (force !== true) {\n      const cell = $(document.getElementById(\"1001\")).parents('.cell').data().cell;\n      cell.output_area.append_execute_result(NB_LOAD_WARNING)\n    }\n  }\n\n  if (root._bokeh_is_loading === 0) {\n    console.debug(\"Bokeh: BokehJS loaded, going straight to plotting\");\n    run_inline_js();\n  } else {\n    load_libs(css_urls, js_urls, function() {\n      console.debug(\"Bokeh: BokehJS plotting callback run at\", now());\n      run_inline_js();\n    });\n  }\n}(window));"
     },
     "metadata": {},
     "output_type": "display_data"
    }
   ],
   "source": [
    "from bokeh.io import output_notebook\n",
    "output_notebook()"
   ]
  },
  {
   "cell_type": "markdown",
   "id": "89a100cb-9792-45bb-b855-42b53fb9db83",
   "metadata": {},
   "source": [
    "We first show the result from the `Profiler` object: This shows the execution time for each task as a rectangle, organized along the vertical axis by worker (in this case threads), and where white space represents times the worker was idle. The task types are grouped by color and, by hovering over each task, one can see the key and task that each block represents. For this calculation there is only one significant task shown in yellow; this encompasses building the wave function, running the multislice algorithm (calculating the potential on demand), and calculating and integrating the diffraction patterns. "
   ]
  },
  {
   "cell_type": "code",
   "execution_count": 15,
   "id": "0a420e98-6235-4e01-b079-fe34d913a436",
   "metadata": {
    "tags": [
     "skip-test"
    ]
   },
   "outputs": [
    {
     "data": {
      "text/html": [
       "\n",
       "  <div class=\"bk-root\" id=\"0356035a-b6c2-4ba0-996a-e47a0c791039\" data-root-id=\"1003\"></div>\n"
      ]
     },
     "metadata": {},
     "output_type": "display_data"
    },
    {
     "data": {
      "application/javascript": [
       "(function(root) {\n",
       "  function embed_document(root) {\n",
       "  const docs_json = {\"5bfaa111-f041-43c9-8d20-b45ac4e62e26\":{\"defs\":[],\"roots\":{\"references\":[{\"attributes\":{\"below\":[{\"id\":\"1014\"}],\"center\":[{\"id\":\"1017\"},{\"id\":\"1020\"}],\"height\":300,\"left\":[{\"id\":\"1018\"}],\"renderers\":[{\"id\":\"1037\"}],\"title\":{\"id\":\"1004\"},\"toolbar\":{\"id\":\"1026\"},\"toolbar_location\":\"above\",\"width\":800,\"x_range\":{\"id\":\"1006\"},\"x_scale\":{\"id\":\"1010\"},\"y_range\":{\"id\":\"1008\"},\"y_scale\":{\"id\":\"1012\"}},\"id\":\"1003\",\"subtype\":\"Figure\",\"type\":\"Plot\"},{\"attributes\":{},\"id\":\"1042\",\"type\":\"AllLabels\"},{\"attributes\":{\"coordinates\":null,\"group\":null,\"text\":\"Profile Results\"},\"id\":\"1004\",\"type\":\"Title\"},{\"attributes\":{\"axis_label\":\"Time (s)\",\"axis_line_color\":null,\"coordinates\":null,\"formatter\":{\"id\":\"1044\"},\"group\":null,\"major_label_policy\":{\"id\":\"1045\"},\"major_tick_line_color\":null,\"ticker\":{\"id\":\"1015\"}},\"id\":\"1014\",\"type\":\"LinearAxis\"},{\"attributes\":{},\"id\":\"1046\",\"type\":\"UnionRenderers\"},{\"attributes\":{\"tools\":[{\"id\":\"1021\"},{\"id\":\"1022\"},{\"id\":\"1023\"},{\"id\":\"1024\"},{\"id\":\"1025\"}]},\"id\":\"1026\",\"type\":\"Toolbar\"},{\"attributes\":{},\"id\":\"1047\",\"type\":\"Selection\"},{\"attributes\":{},\"id\":\"1010\",\"type\":\"LinearScale\"},{\"attributes\":{},\"id\":\"1012\",\"type\":\"CategoricalScale\"},{\"attributes\":{\"source\":{\"id\":\"1032\"}},\"id\":\"1038\",\"type\":\"CDSView\"},{\"attributes\":{\"factors\":[\"0\",\"1\",\"2\",\"3\",\"4\",\"5\",\"6\",\"7\",\"8\",\"9\",\"10\",\"11\",\"12\",\"13\",\"14\",\"15\",\"16\",\"17\",\"18\",\"19\"]},\"id\":\"1008\",\"type\":\"FactorRange\"},{\"attributes\":{\"dimensions\":\"width\"},\"id\":\"1024\",\"type\":\"WheelZoomTool\"},{\"attributes\":{\"axis_label\":\"Worker ID\",\"axis_line_color\":null,\"coordinates\":null,\"formatter\":{\"id\":\"1041\"},\"group\":null,\"major_label_policy\":{\"id\":\"1042\"},\"major_tick_line_color\":null,\"ticker\":{\"id\":\"1019\"}},\"id\":\"1018\",\"type\":\"CategoricalAxis\"},{\"attributes\":{\"fill_alpha\":{\"value\":0.1},\"fill_color\":{\"field\":\"color\"},\"hatch_alpha\":{\"value\":0.1},\"hatch_color\":{\"field\":\"color\"},\"height\":{\"value\":1},\"line_alpha\":{\"value\":0.1},\"line_color\":{\"value\":\"gray\"},\"width\":{\"field\":\"width\"},\"x\":{\"field\":\"x\"},\"y\":{\"field\":\"y\"}},\"id\":\"1035\",\"type\":\"Rect\"},{\"attributes\":{\"fill_alpha\":{\"value\":0.2},\"fill_color\":{\"field\":\"color\"},\"hatch_alpha\":{\"value\":0.2},\"hatch_color\":{\"field\":\"color\"},\"height\":{\"value\":1},\"line_alpha\":{\"value\":0.2},\"line_color\":{\"value\":\"gray\"},\"width\":{\"field\":\"width\"},\"x\":{\"field\":\"x\"},\"y\":{\"field\":\"y\"}},\"id\":\"1036\",\"type\":\"Rect\"},{\"attributes\":{\"axis\":{\"id\":\"1014\"},\"coordinates\":null,\"grid_line_color\":null,\"group\":null,\"ticker\":null},\"id\":\"1017\",\"type\":\"Grid\"},{\"attributes\":{},\"id\":\"1015\",\"type\":\"BasicTicker\"},{\"attributes\":{\"axis\":{\"id\":\"1018\"},\"coordinates\":null,\"dimension\":1,\"grid_line_color\":null,\"group\":null,\"ticker\":null},\"id\":\"1020\",\"type\":\"Grid\"},{\"attributes\":{\"coordinates\":null,\"data_source\":{\"id\":\"1032\"},\"glyph\":{\"id\":\"1034\"},\"group\":null,\"hover_glyph\":null,\"muted_glyph\":{\"id\":\"1036\"},\"nonselection_glyph\":{\"id\":\"1035\"},\"view\":{\"id\":\"1038\"}},\"id\":\"1037\",\"type\":\"GlyphRenderer\"},{\"attributes\":{},\"id\":\"1019\",\"type\":\"CategoricalTicker\"},{\"attributes\":{},\"id\":\"1022\",\"type\":\"SaveTool\"},{\"attributes\":{},\"id\":\"1023\",\"type\":\"ResetTool\"},{\"attributes\":{\"fill_color\":{\"field\":\"color\"},\"hatch_color\":{\"field\":\"color\"},\"height\":{\"value\":1},\"line_color\":{\"value\":\"gray\"},\"width\":{\"field\":\"width\"},\"x\":{\"field\":\"x\"},\"y\":{\"field\":\"y\"}},\"id\":\"1034\",\"type\":\"Rect\"},{\"attributes\":{\"data\":{\"color\":[\"#3B518A\",\"#3B518A\",\"#3B518A\",\"#3B518A\",\"#440154\",\"#440154\",\"#440154\",\"#440154\",\"#FDE724\",\"#FDE724\",\"#FDE724\",\"#FDE724\",\"#FDE724\",\"#FDE724\",\"#FDE724\",\"#FDE724\",\"#FDE724\",\"#FDE724\",\"#FDE724\",\"#FDE724\",\"#FDE724\",\"#FDE724\",\"#FDE724\",\"#FDE724\",\"#FDE724\",\"#FDE724\",\"#FDE724\",\"#FDE724\",\"#440154\",\"#FDE724\",\"#440154\",\"#FDE724\",\"#440154\",\"#440154\",\"#FDE724\",\"#440154\",\"#FDE724\",\"#FDE724\",\"#440154\",\"#FDE724\",\"#440154\",\"#440154\",\"#FDE724\",\"#FDE724\",\"#440154\",\"#440154\",\"#FDE724\",\"#FDE724\",\"#440154\",\"#440154\",\"#FDE724\",\"#440154\",\"#FDE724\",\"#FDE724\",\"#440154\",\"#440154\",\"#440154\",\"#440154\",\"#440154\",\"#440154\",\"#FDE724\",\"#FDE724\",\"#FDE724\",\"#FDE724\",\"#5BC862\",\"#5BC862\",\"#440154\",\"#FDE724\",\"#208F8C\",\"#FDE724\",\"#FDE724\",\"#440154\",\"#FDE724\",\"#440154\",\"#FDE724\",\"#440154\",\"#FDE724\",\"#440154\",\"#FDE724\",\"#440154\",\"#FDE724\",\"#440154\",\"#FDE724\",\"#440154\",\"#FDE724\",\"#440154\",\"#FDE724\",\"#440154\",\"#FDE724\",\"#440154\",\"#FDE724\",\"#440154\",\"#FDE724\",\"#440154\",\"#440154\",\"#FDE724\",\"#FDE724\",\"#440154\",\"#440154\",\"#FDE724\",\"#440154\",\"#FDE724\",\"#FDE724\",\"#440154\",\"#440154\",\"#440154\",\"#FDE724\",\"#FDE724\",\"#440154\",\"#FDE724\",\"#FDE724\",\"#440154\",\"#FDE724\",\"#440154\",\"#FDE724\",\"#440154\",\"#FDE724\",\"#440154\",\"#FDE724\",\"#440154\",\"#440154\",\"#FDE724\",\"#FDE724\",\"#440154\",\"#440154\",\"#FDE724\",\"#FDE724\",\"#440154\",\"#440154\",\"#FDE724\",\"#FDE724\",\"#440154\",\"#440154\",\"#FDE724\",\"#FDE724\",\"#440154\",\"#FDE724\",\"#440154\",\"#FDE724\",\"#440154\",\"#440154\",\"#FDE724\",\"#FDE724\",\"#440154\",\"#FDE724\",\"#440154\",\"#440154\",\"#FDE724\",\"#FDE724\",\"#440154\",\"#FDE724\",\"#440154\",\"#FDE724\",\"#440154\",\"#FDE724\",\"#440154\",\"#FDE724\",\"#440154\",\"#FDE724\",\"#440154\",\"#FDE724\",\"#440154\",\"#FDE724\",\"#440154\",\"#FDE724\",\"#440154\",\"#440154\",\"#440154\",\"#FDE724\",\"#FDE724\",\"#FDE724\",\"#440154\",\"#440154\",\"#FDE724\",\"#FDE724\",\"#440154\",\"#FDE724\",\"#440154\",\"#440154\",\"#FDE724\",\"#FDE724\",\"#440154\",\"#440154\",\"#FDE724\",\"#FDE724\",\"#440154\",\"#FDE724\",\"#440154\",\"#FDE724\",\"#440154\",\"#FDE724\",\"#440154\",\"#FDE724\",\"#440154\",\"#FDE724\",\"#440154\",\"#FDE724\",\"#440154\",\"#5BC862\",\"#FDE724\",\"#440154\",\"#5BC862\",\"#FDE724\",\"#440154\",\"#5BC862\",\"#FDE724\",\"#440154\",\"#5BC862\",\"#FDE724\",\"#440154\",\"#5BC862\",\"#FDE724\",\"#440154\",\"#5BC862\",\"#FDE724\",\"#440154\",\"#440154\",\"#440154\",\"#5BC862\",\"#5BC862\",\"#5BC862\",\"#FDE724\",\"#FDE724\",\"#FDE724\",\"#440154\",\"#440154\",\"#5BC862\",\"#5BC862\",\"#FDE724\",\"#440154\",\"#FDE724\",\"#5BC862\",\"#440154\",\"#FDE724\",\"#5BC862\",\"#440154\",\"#440154\",\"#FDE724\",\"#440154\",\"#440154\",\"#5BC862\",\"#5BC862\",\"#5BC862\",\"#5BC862\",\"#FDE724\",\"#FDE724\",\"#FDE724\",\"#FDE724\",\"#440154\",\"#5BC862\",\"#FDE724\",\"#440154\",\"#5BC862\",\"#FDE724\",\"#440154\",\"#5BC862\",\"#FDE724\",\"#440154\",\"#5BC862\",\"#FDE724\",\"#440154\",\"#5BC862\",\"#FDE724\",\"#440154\",\"#5BC862\",\"#FDE724\",\"#440154\",\"#5BC862\",\"#FDE724\",\"#440154\",\"#5BC862\",\"#FDE724\",\"#440154\",\"#5BC862\",\"#FDE724\",\"#440154\",\"#5BC862\",\"#FDE724\",\"#440154\",\"#5BC862\",\"#FDE724\",\"#440154\",\"#5BC862\",\"#FDE724\",\"#440154\",\"#440154\",\"#5BC862\",\"#5BC862\",\"#FDE724\",\"#FDE724\",\"#440154\",\"#440154\",\"#440154\",\"#5BC862\",\"#5BC862\",\"#5BC862\",\"#FDE724\",\"#440154\",\"#440154\",\"#440154\",\"#FDE724\",\"#FDE724\",\"#5BC862\",\"#5BC862\",\"#5BC862\",\"#FDE724\",\"#FDE724\",\"#FDE724\",\"#440154\",\"#5BC862\",\"#FDE724\",\"#440154\",\"#5BC862\",\"#FDE724\",\"#440154\",\"#5BC862\",\"#FDE724\",\"#440154\",\"#5BC862\",\"#FDE724\",\"#440154\",\"#5BC862\",\"#FDE724\",\"#440154\",\"#5BC862\",\"#FDE724\",\"#440154\",\"#5BC862\",\"#FDE724\",\"#440154\",\"#5BC862\",\"#FDE724\",\"#440154\",\"#440154\",\"#5BC862\",\"#5BC862\",\"#FDE724\",\"#FDE724\",\"#440154\",\"#5BC862\",\"#FDE724\",\"#440154\",\"#5BC862\",\"#440154\",\"#440154\",\"#FDE724\",\"#5BC862\",\"#5BC862\",\"#FDE724\",\"#FDE724\",\"#440154\",\"#5BC862\",\"#FDE724\",\"#440154\",\"#5BC862\",\"#FDE724\",\"#440154\",\"#440154\",\"#5BC862\",\"#5BC862\",\"#FDE724\",\"#FDE724\",\"#440154\",\"#440154\",\"#5BC862\",\"#5BC862\",\"#FDE724\",\"#FDE724\",\"#440154\",\"#5BC862\",\"#FDE724\",\"#440154\",\"#440154\",\"#5BC862\",\"#5BC862\",\"#FDE724\",\"#FDE724\",\"#440154\",\"#5BC862\",\"#FDE724\",\"#440154\",\"#5BC862\",\"#FDE724\",\"#440154\",\"#5BC862\",\"#FDE724\",\"#440154\",\"#5BC862\",\"#208F8C\",\"#FDE724\",\"#440154\",\"#5BC862\",\"#208F8C\",\"#440154\",\"#FDE724\",\"#5BC862\",\"#208F8C\",\"#FDE724\",\"#440154\",\"#5BC862\",\"#208F8C\",\"#FDE724\",\"#440154\",\"#5BC862\",\"#208F8C\",\"#FDE724\",\"#440154\",\"#5BC862\",\"#440154\",\"#208F8C\",\"#5BC862\",\"#FDE724\",\"#208F8C\",\"#FDE724\",\"#440154\",\"#440154\",\"#5BC862\",\"#440154\",\"#5BC862\",\"#208F8C\",\"#5BC862\",\"#208F8C\",\"#FDE724\",\"#208F8C\",\"#FDE724\",\"#440154\",\"#FDE724\",\"#5BC862\",\"#440154\",\"#208F8C\",\"#5BC862\",\"#440154\",\"#440154\",\"#FDE724\",\"#5BC862\",\"#208F8C\",\"#5BC862\",\"#440154\",\"#440154\",\"#FDE724\",\"#208F8C\",\"#208F8C\",\"#FDE724\",\"#5BC862\",\"#FDE724\",\"#FDE724\",\"#440154\",\"#208F8C\",\"#5BC862\",\"#FDE724\",\"#208F8C\",\"#FDE724\",\"#440154\",\"#FDE724\",\"#440154\",\"#FDE724\",\"#440154\",\"#FDE724\",\"#440154\",\"#FDE724\",\"#440154\",\"#FDE724\",\"#440154\",\"#FDE724\",\"#440154\",\"#FDE724\",\"#440154\",\"#FDE724\",\"#440154\",\"#FDE724\",\"#440154\",\"#FDE724\",\"#440154\",\"#FDE724\",\"#440154\",\"#FDE724\",\"#440154\",\"#FDE724\",\"#440154\",\"#440154\",\"#FDE724\",\"#FDE724\",\"#440154\",\"#FDE724\",\"#440154\",\"#440154\",\"#440154\",\"#FDE724\",\"#FDE724\",\"#FDE724\",\"#440154\",\"#FDE724\",\"#440154\",\"#FDE724\",\"#440154\",\"#FDE724\",\"#440154\",\"#FDE724\",\"#440154\",\"#FDE724\",\"#440154\",\"#FDE724\",\"#440154\",\"#FDE724\",\"#440154\",\"#FDE724\",\"#440154\",\"#FDE724\",\"#440154\",\"#FDE724\",\"#440154\",\"#440154\",\"#FDE724\",\"#FDE724\",\"#440154\",\"#FDE724\",\"#440154\",\"#FDE724\",\"#440154\",\"#FDE724\",\"#440154\",\"#440154\",\"#FDE724\",\"#FDE724\",\"#440154\",\"#440154\",\"#FDE724\",\"#440154\",\"#440154\",\"#440154\",\"#FDE724\",\"#FDE724\",\"#FDE724\",\"#FDE724\",\"#440154\",\"#FDE724\",\"#440154\",\"#FDE724\",\"#440154\",\"#FDE724\",\"#440154\",\"#FDE724\",\"#440154\",\"#FDE724\",\"#440154\",\"#5BC862\",\"#208F8C\",\"#FDE724\",\"#440154\",\"#5BC862\",\"#440154\",\"#208F8C\",\"#5BC862\",\"#FDE724\",\"#208F8C\",\"#FDE724\",\"#440154\",\"#440154\",\"#5BC862\",\"#5BC862\",\"#208F8C\",\"#208F8C\",\"#FDE724\",\"#440154\",\"#FDE724\",\"#440154\",\"#5BC862\",\"#5BC862\",\"#208F8C\",\"#208F8C\",\"#FDE724\",\"#FDE724\",\"#440154\",\"#5BC862\",\"#208F8C\",\"#FDE724\",\"#440154\",\"#440154\",\"#5BC862\",\"#5BC862\",\"#208F8C\",\"#208F8C\",\"#440154\",\"#FDE724\",\"#FDE724\",\"#5BC862\",\"#440154\",\"#208F8C\",\"#5BC862\",\"#FDE724\",\"#208F8C\",\"#FDE724\",\"#440154\",\"#5BC862\",\"#208F8C\",\"#FDE724\",\"#440154\",\"#440154\",\"#5BC862\",\"#440154\",\"#440154\",\"#5BC862\",\"#208F8C\",\"#5BC862\",\"#5BC862\",\"#208F8C\",\"#FDE724\",\"#440154\",\"#208F8C\",\"#208F8C\",\"#FDE724\",\"#5BC862\",\"#FDE724\",\"#FDE724\",\"#208F8C\",\"#FDE724\",\"#440154\",\"#5BC862\",\"#208F8C\",\"#FDE724\",\"#440154\",\"#5BC862\",\"#208F8C\",\"#FDE724\",\"#440154\",\"#5BC862\",\"#208F8C\",\"#FDE724\",\"#440154\",\"#5BC862\",\"#208F8C\",\"#FDE724\",\"#440154\",\"#5BC862\",\"#208F8C\",\"#FDE724\",\"#440154\",\"#5BC862\",\"#440154\",\"#208F8C\",\"#5BC862\",\"#FDE724\",\"#208F8C\",\"#FDE724\",\"#440154\",\"#5BC862\",\"#208F8C\",\"#FDE724\",\"#440154\",\"#5BC862\",\"#208F8C\",\"#FDE724\",\"#440154\",\"#5BC862\",\"#208F8C\",\"#440154\",\"#5BC862\",\"#208F8C\",\"#440154\",\"#5BC862\",\"#440154\",\"#208F8C\",\"#5BC862\",\"#208F8C\",\"#440154\",\"#5BC862\",\"#208F8C\",\"#440154\",\"#5BC862\",\"#208F8C\",\"#440154\",\"#5BC862\",\"#208F8C\",\"#440154\",\"#5BC862\",\"#440154\",\"#208F8C\",\"#440154\",\"#5BC862\",\"#5BC862\",\"#208F8C\",\"#208F8C\",\"#440154\",\"#5BC862\",\"#208F8C\",\"#440154\",\"#5BC862\",\"#208F8C\",\"#440154\",\"#5BC862\",\"#208F8C\",\"#440154\",\"#5BC862\",\"#208F8C\",\"#440154\",\"#5BC862\",\"#208F8C\",\"#440154\",\"#5BC862\",\"#208F8C\",\"#440154\",\"#5BC862\",\"#208F8C\",\"#440154\",\"#5BC862\",\"#208F8C\",\"#440154\",\"#5BC862\",\"#208F8C\",\"#440154\",\"#5BC862\",\"#208F8C\"],\"function\":[\"_frozen_phonon(, atoms=_, seeds=tuple([*]))\",\"_frozen_phonon(, atoms=_, seeds=tuple([*]))\",\"_frozen_phonon(, atoms=_, seeds=tuple([*]))\",\"_frozen_phonon(, atoms=_, seeds=tuple([*]))\",\"_\",\"_\",\"_\",\"_\",\"subgraph_callable-c253404b-913b-4995-b2d0-09d006f4(subgraph_callable-4758758b-4791-43a6-b5f1-ba011cf8(...))\",\"subgraph_callable-c253404b-913b-4995-b2d0-09d006f4(subgraph_callable-4758758b-4791-43a6-b5f1-ba011cf8(...))\",\"subgraph_callable-c253404b-913b-4995-b2d0-09d006f4(subgraph_callable-4758758b-4791-43a6-b5f1-ba011cf8(...))\",\"subgraph_callable-c253404b-913b-4995-b2d0-09d006f4(subgraph_callable-4758758b-4791-43a6-b5f1-ba011cf8(...))\",\"subgraph_callable-c253404b-913b-4995-b2d0-09d006f4(subgraph_callable-4758758b-4791-43a6-b5f1-ba011cf8(...))\",\"subgraph_callable-c253404b-913b-4995-b2d0-09d006f4(subgraph_callable-4758758b-4791-43a6-b5f1-ba011cf8(...))\",\"subgraph_callable-c253404b-913b-4995-b2d0-09d006f4(subgraph_callable-4758758b-4791-43a6-b5f1-ba011cf8(...))\",\"subgraph_callable-c253404b-913b-4995-b2d0-09d006f4(subgraph_callable-4758758b-4791-43a6-b5f1-ba011cf8(...))\",\"subgraph_callable-c253404b-913b-4995-b2d0-09d006f4(subgraph_callable-4758758b-4791-43a6-b5f1-ba011cf8(...))\",\"subgraph_callable-c253404b-913b-4995-b2d0-09d006f4(subgraph_callable-4758758b-4791-43a6-b5f1-ba011cf8(...))\",\"subgraph_callable-c253404b-913b-4995-b2d0-09d006f4(subgraph_callable-4758758b-4791-43a6-b5f1-ba011cf8(...))\",\"subgraph_callable-c253404b-913b-4995-b2d0-09d006f4(subgraph_callable-4758758b-4791-43a6-b5f1-ba011cf8(...))\",\"subgraph_callable-c253404b-913b-4995-b2d0-09d006f4(subgraph_callable-4758758b-4791-43a6-b5f1-ba011cf8(...))\",\"subgraph_callable-c253404b-913b-4995-b2d0-09d006f4(subgraph_callable-4758758b-4791-43a6-b5f1-ba011cf8(...))\",\"subgraph_callable-c253404b-913b-4995-b2d0-09d006f4(subgraph_callable-4758758b-4791-43a6-b5f1-ba011cf8(...))\",\"subgraph_callable-c253404b-913b-4995-b2d0-09d006f4(subgraph_callable-4758758b-4791-43a6-b5f1-ba011cf8(...))\",\"subgraph_callable-c253404b-913b-4995-b2d0-09d006f4(subgraph_callable-4758758b-4791-43a6-b5f1-ba011cf8(...))\",\"subgraph_callable-c253404b-913b-4995-b2d0-09d006f4(subgraph_callable-4758758b-4791-43a6-b5f1-ba011cf8(...))\",\"subgraph_callable-c253404b-913b-4995-b2d0-09d006f4(subgraph_callable-4758758b-4791-43a6-b5f1-ba011cf8(...))\",\"subgraph_callable-c253404b-913b-4995-b2d0-09d006f4(subgraph_callable-4758758b-4791-43a6-b5f1-ba011cf8(...))\",\"_\",\"subgraph_callable-c253404b-913b-4995-b2d0-09d006f4(subgraph_callable-4758758b-4791-43a6-b5f1-ba011cf8(...))\",\"_\",\"subgraph_callable-c253404b-913b-4995-b2d0-09d006f4(subgraph_callable-4758758b-4791-43a6-b5f1-ba011cf8(...))\",\"_\",\"_\",\"subgraph_callable-c253404b-913b-4995-b2d0-09d006f4(subgraph_callable-4758758b-4791-43a6-b5f1-ba011cf8(...))\",\"_\",\"subgraph_callable-c253404b-913b-4995-b2d0-09d006f4(subgraph_callable-4758758b-4791-43a6-b5f1-ba011cf8(...))\",\"subgraph_callable-c253404b-913b-4995-b2d0-09d006f4(subgraph_callable-4758758b-4791-43a6-b5f1-ba011cf8(...))\",\"_\",\"subgraph_callable-c253404b-913b-4995-b2d0-09d006f4(subgraph_callable-4758758b-4791-43a6-b5f1-ba011cf8(...))\",\"_\",\"_\",\"subgraph_callable-c253404b-913b-4995-b2d0-09d006f4(subgraph_callable-4758758b-4791-43a6-b5f1-ba011cf8(...))\",\"subgraph_callable-c253404b-913b-4995-b2d0-09d006f4(subgraph_callable-4758758b-4791-43a6-b5f1-ba011cf8(...))\",\"_\",\"_\",\"subgraph_callable-c253404b-913b-4995-b2d0-09d006f4(subgraph_callable-4758758b-4791-43a6-b5f1-ba011cf8(...))\",\"subgraph_callable-c253404b-913b-4995-b2d0-09d006f4(subgraph_callable-4758758b-4791-43a6-b5f1-ba011cf8(...))\",\"_\",\"_\",\"subgraph_callable-c253404b-913b-4995-b2d0-09d006f4(subgraph_callable-4758758b-4791-43a6-b5f1-ba011cf8(...))\",\"_\",\"subgraph_callable-c253404b-913b-4995-b2d0-09d006f4(subgraph_callable-4758758b-4791-43a6-b5f1-ba011cf8(...))\",\"subgraph_callable-c253404b-913b-4995-b2d0-09d006f4(subgraph_callable-4758758b-4791-43a6-b5f1-ba011cf8(...))\",\"_\",\"_\",\"_\",\"_\",\"_\",\"_\",\"subgraph_callable-c253404b-913b-4995-b2d0-09d006f4(subgraph_callable-4758758b-4791-43a6-b5f1-ba011cf8(...))\",\"subgraph_callable-c253404b-913b-4995-b2d0-09d006f4(subgraph_callable-4758758b-4791-43a6-b5f1-ba011cf8(...))\",\"subgraph_callable-c253404b-913b-4995-b2d0-09d006f4(subgraph_callable-4758758b-4791-43a6-b5f1-ba011cf8(...))\",\"subgraph_callable-c253404b-913b-4995-b2d0-09d006f4(subgraph_callable-4758758b-4791-43a6-b5f1-ba011cf8(...))\",\"mean_combine([_, _])\",\"mean_combine([_, _])\",\"_\",\"subgraph_callable-c253404b-913b-4995-b2d0-09d006f4(subgraph_callable-4758758b-4791-43a6-b5f1-ba011cf8(...))\",\"mean_agg([_, _])\",\"subgraph_callable-c253404b-913b-4995-b2d0-09d006f4(subgraph_callable-4758758b-4791-43a6-b5f1-ba011cf8(...))\",\"subgraph_callable-c253404b-913b-4995-b2d0-09d006f4(subgraph_callable-4758758b-4791-43a6-b5f1-ba011cf8(...))\",\"_\",\"subgraph_callable-c253404b-913b-4995-b2d0-09d006f4(subgraph_callable-4758758b-4791-43a6-b5f1-ba011cf8(...))\",\"_\",\"subgraph_callable-c253404b-913b-4995-b2d0-09d006f4(subgraph_callable-4758758b-4791-43a6-b5f1-ba011cf8(...))\",\"_\",\"subgraph_callable-c253404b-913b-4995-b2d0-09d006f4(subgraph_callable-4758758b-4791-43a6-b5f1-ba011cf8(...))\",\"_\",\"subgraph_callable-c253404b-913b-4995-b2d0-09d006f4(subgraph_callable-4758758b-4791-43a6-b5f1-ba011cf8(...))\",\"_\",\"subgraph_callable-c253404b-913b-4995-b2d0-09d006f4(subgraph_callable-4758758b-4791-43a6-b5f1-ba011cf8(...))\",\"_\",\"subgraph_callable-c253404b-913b-4995-b2d0-09d006f4(subgraph_callable-4758758b-4791-43a6-b5f1-ba011cf8(...))\",\"_\",\"subgraph_callable-c253404b-913b-4995-b2d0-09d006f4(subgraph_callable-4758758b-4791-43a6-b5f1-ba011cf8(...))\",\"_\",\"subgraph_callable-c253404b-913b-4995-b2d0-09d006f4(subgraph_callable-4758758b-4791-43a6-b5f1-ba011cf8(...))\",\"_\",\"subgraph_callable-c253404b-913b-4995-b2d0-09d006f4(subgraph_callable-4758758b-4791-43a6-b5f1-ba011cf8(...))\",\"_\",\"subgraph_callable-c253404b-913b-4995-b2d0-09d006f4(subgraph_callable-4758758b-4791-43a6-b5f1-ba011cf8(...))\",\"_\",\"subgraph_callable-c253404b-913b-4995-b2d0-09d006f4(subgraph_callable-4758758b-4791-43a6-b5f1-ba011cf8(...))\",\"_\",\"_\",\"subgraph_callable-c253404b-913b-4995-b2d0-09d006f4(subgraph_callable-4758758b-4791-43a6-b5f1-ba011cf8(...))\",\"subgraph_callable-c253404b-913b-4995-b2d0-09d006f4(subgraph_callable-4758758b-4791-43a6-b5f1-ba011cf8(...))\",\"_\",\"_\",\"subgraph_callable-c253404b-913b-4995-b2d0-09d006f4(subgraph_callable-4758758b-4791-43a6-b5f1-ba011cf8(...))\",\"_\",\"subgraph_callable-c253404b-913b-4995-b2d0-09d006f4(subgraph_callable-4758758b-4791-43a6-b5f1-ba011cf8(...))\",\"subgraph_callable-c253404b-913b-4995-b2d0-09d006f4(subgraph_callable-4758758b-4791-43a6-b5f1-ba011cf8(...))\",\"_\",\"_\",\"_\",\"subgraph_callable-c253404b-913b-4995-b2d0-09d006f4(subgraph_callable-4758758b-4791-43a6-b5f1-ba011cf8(...))\",\"subgraph_callable-c253404b-913b-4995-b2d0-09d006f4(subgraph_callable-4758758b-4791-43a6-b5f1-ba011cf8(...))\",\"_\",\"subgraph_callable-c253404b-913b-4995-b2d0-09d006f4(subgraph_callable-4758758b-4791-43a6-b5f1-ba011cf8(...))\",\"subgraph_callable-c253404b-913b-4995-b2d0-09d006f4(subgraph_callable-4758758b-4791-43a6-b5f1-ba011cf8(...))\",\"_\",\"subgraph_callable-c253404b-913b-4995-b2d0-09d006f4(subgraph_callable-4758758b-4791-43a6-b5f1-ba011cf8(...))\",\"_\",\"subgraph_callable-c253404b-913b-4995-b2d0-09d006f4(subgraph_callable-4758758b-4791-43a6-b5f1-ba011cf8(...))\",\"_\",\"subgraph_callable-c253404b-913b-4995-b2d0-09d006f4(subgraph_callable-4758758b-4791-43a6-b5f1-ba011cf8(...))\",\"_\",\"subgraph_callable-c253404b-913b-4995-b2d0-09d006f4(subgraph_callable-4758758b-4791-43a6-b5f1-ba011cf8(...))\",\"_\",\"_\",\"subgraph_callable-c253404b-913b-4995-b2d0-09d006f4(subgraph_callable-4758758b-4791-43a6-b5f1-ba011cf8(...))\",\"subgraph_callable-c253404b-913b-4995-b2d0-09d006f4(subgraph_callable-4758758b-4791-43a6-b5f1-ba011cf8(...))\",\"_\",\"_\",\"subgraph_callable-c253404b-913b-4995-b2d0-09d006f4(subgraph_callable-4758758b-4791-43a6-b5f1-ba011cf8(...))\",\"subgraph_callable-c253404b-913b-4995-b2d0-09d006f4(subgraph_callable-4758758b-4791-43a6-b5f1-ba011cf8(...))\",\"_\",\"_\",\"subgraph_callable-c253404b-913b-4995-b2d0-09d006f4(subgraph_callable-4758758b-4791-43a6-b5f1-ba011cf8(...))\",\"subgraph_callable-c253404b-913b-4995-b2d0-09d006f4(subgraph_callable-4758758b-4791-43a6-b5f1-ba011cf8(...))\",\"_\",\"_\",\"subgraph_callable-c253404b-913b-4995-b2d0-09d006f4(subgraph_callable-4758758b-4791-43a6-b5f1-ba011cf8(...))\",\"subgraph_callable-c253404b-913b-4995-b2d0-09d006f4(subgraph_callable-4758758b-4791-43a6-b5f1-ba011cf8(...))\",\"_\",\"subgraph_callable-c253404b-913b-4995-b2d0-09d006f4(subgraph_callable-4758758b-4791-43a6-b5f1-ba011cf8(...))\",\"_\",\"subgraph_callable-c253404b-913b-4995-b2d0-09d006f4(subgraph_callable-4758758b-4791-43a6-b5f1-ba011cf8(...))\",\"_\",\"_\",\"subgraph_callable-c253404b-913b-4995-b2d0-09d006f4(subgraph_callable-4758758b-4791-43a6-b5f1-ba011cf8(...))\",\"subgraph_callable-c253404b-913b-4995-b2d0-09d006f4(subgraph_callable-4758758b-4791-43a6-b5f1-ba011cf8(...))\",\"_\",\"subgraph_callable-c253404b-913b-4995-b2d0-09d006f4(subgraph_callable-4758758b-4791-43a6-b5f1-ba011cf8(...))\",\"_\",\"_\",\"subgraph_callable-c253404b-913b-4995-b2d0-09d006f4(subgraph_callable-4758758b-4791-43a6-b5f1-ba011cf8(...))\",\"subgraph_callable-c253404b-913b-4995-b2d0-09d006f4(subgraph_callable-4758758b-4791-43a6-b5f1-ba011cf8(...))\",\"_\",\"subgraph_callable-c253404b-913b-4995-b2d0-09d006f4(subgraph_callable-4758758b-4791-43a6-b5f1-ba011cf8(...))\",\"_\",\"subgraph_callable-c253404b-913b-4995-b2d0-09d006f4(subgraph_callable-4758758b-4791-43a6-b5f1-ba011cf8(...))\",\"_\",\"subgraph_callable-c253404b-913b-4995-b2d0-09d006f4(subgraph_callable-4758758b-4791-43a6-b5f1-ba011cf8(...))\",\"_\",\"subgraph_callable-c253404b-913b-4995-b2d0-09d006f4(subgraph_callable-4758758b-4791-43a6-b5f1-ba011cf8(...))\",\"_\",\"subgraph_callable-c253404b-913b-4995-b2d0-09d006f4(subgraph_callable-4758758b-4791-43a6-b5f1-ba011cf8(...))\",\"_\",\"subgraph_callable-c253404b-913b-4995-b2d0-09d006f4(subgraph_callable-4758758b-4791-43a6-b5f1-ba011cf8(...))\",\"_\",\"subgraph_callable-c253404b-913b-4995-b2d0-09d006f4(subgraph_callable-4758758b-4791-43a6-b5f1-ba011cf8(...))\",\"_\",\"subgraph_callable-c253404b-913b-4995-b2d0-09d006f4(subgraph_callable-4758758b-4791-43a6-b5f1-ba011cf8(...))\",\"_\",\"_\",\"_\",\"subgraph_callable-c253404b-913b-4995-b2d0-09d006f4(subgraph_callable-4758758b-4791-43a6-b5f1-ba011cf8(...))\",\"subgraph_callable-c253404b-913b-4995-b2d0-09d006f4(subgraph_callable-4758758b-4791-43a6-b5f1-ba011cf8(...))\",\"subgraph_callable-c253404b-913b-4995-b2d0-09d006f4(subgraph_callable-4758758b-4791-43a6-b5f1-ba011cf8(...))\",\"_\",\"_\",\"subgraph_callable-c253404b-913b-4995-b2d0-09d006f4(subgraph_callable-4758758b-4791-43a6-b5f1-ba011cf8(...))\",\"subgraph_callable-c253404b-913b-4995-b2d0-09d006f4(subgraph_callable-4758758b-4791-43a6-b5f1-ba011cf8(...))\",\"_\",\"subgraph_callable-c253404b-913b-4995-b2d0-09d006f4(subgraph_callable-4758758b-4791-43a6-b5f1-ba011cf8(...))\",\"_\",\"_\",\"subgraph_callable-c253404b-913b-4995-b2d0-09d006f4(subgraph_callable-4758758b-4791-43a6-b5f1-ba011cf8(...))\",\"subgraph_callable-c253404b-913b-4995-b2d0-09d006f4(subgraph_callable-4758758b-4791-43a6-b5f1-ba011cf8(...))\",\"_\",\"_\",\"subgraph_callable-c253404b-913b-4995-b2d0-09d006f4(subgraph_callable-4758758b-4791-43a6-b5f1-ba011cf8(...))\",\"subgraph_callable-c253404b-913b-4995-b2d0-09d006f4(subgraph_callable-4758758b-4791-43a6-b5f1-ba011cf8(...))\",\"_\",\"subgraph_callable-c253404b-913b-4995-b2d0-09d006f4(subgraph_callable-4758758b-4791-43a6-b5f1-ba011cf8(...))\",\"_\",\"subgraph_callable-c253404b-913b-4995-b2d0-09d006f4(subgraph_callable-4758758b-4791-43a6-b5f1-ba011cf8(...))\",\"_\",\"subgraph_callable-c253404b-913b-4995-b2d0-09d006f4(subgraph_callable-4758758b-4791-43a6-b5f1-ba011cf8(...))\",\"_\",\"subgraph_callable-c253404b-913b-4995-b2d0-09d006f4(subgraph_callable-4758758b-4791-43a6-b5f1-ba011cf8(...))\",\"_\",\"subgraph_callable-c253404b-913b-4995-b2d0-09d006f4(subgraph_callable-4758758b-4791-43a6-b5f1-ba011cf8(...))\",\"_\",\"subgraph_callable-c253404b-913b-4995-b2d0-09d006f4(subgraph_callable-4758758b-4791-43a6-b5f1-ba011cf8(...))\",\"_\",\"mean_combine([_, _])\",\"subgraph_callable-c253404b-913b-4995-b2d0-09d006f4(subgraph_callable-4758758b-4791-43a6-b5f1-ba011cf8(...))\",\"_\",\"mean_combine([_, _])\",\"subgraph_callable-c253404b-913b-4995-b2d0-09d006f4(subgraph_callable-4758758b-4791-43a6-b5f1-ba011cf8(...))\",\"_\",\"mean_combine([_, _])\",\"subgraph_callable-c253404b-913b-4995-b2d0-09d006f4(subgraph_callable-4758758b-4791-43a6-b5f1-ba011cf8(...))\",\"_\",\"mean_combine([_, _])\",\"subgraph_callable-c253404b-913b-4995-b2d0-09d006f4(subgraph_callable-4758758b-4791-43a6-b5f1-ba011cf8(...))\",\"_\",\"mean_combine([_, _])\",\"subgraph_callable-c253404b-913b-4995-b2d0-09d006f4(subgraph_callable-4758758b-4791-43a6-b5f1-ba011cf8(...))\",\"_\",\"mean_combine([_, _])\",\"subgraph_callable-c253404b-913b-4995-b2d0-09d006f4(subgraph_callable-4758758b-4791-43a6-b5f1-ba011cf8(...))\",\"_\",\"_\",\"_\",\"mean_combine([_, _])\",\"mean_combine([_, _])\",\"mean_combine([_, _])\",\"subgraph_callable-c253404b-913b-4995-b2d0-09d006f4(subgraph_callable-4758758b-4791-43a6-b5f1-ba011cf8(...))\",\"subgraph_callable-c253404b-913b-4995-b2d0-09d006f4(subgraph_callable-4758758b-4791-43a6-b5f1-ba011cf8(...))\",\"subgraph_callable-c253404b-913b-4995-b2d0-09d006f4(subgraph_callable-4758758b-4791-43a6-b5f1-ba011cf8(...))\",\"_\",\"_\",\"mean_combine([_, _])\",\"mean_combine([_, _])\",\"subgraph_callable-c253404b-913b-4995-b2d0-09d006f4(subgraph_callable-4758758b-4791-43a6-b5f1-ba011cf8(...))\",\"_\",\"subgraph_callable-c253404b-913b-4995-b2d0-09d006f4(subgraph_callable-4758758b-4791-43a6-b5f1-ba011cf8(...))\",\"mean_combine([_, _])\",\"_\",\"subgraph_callable-c253404b-913b-4995-b2d0-09d006f4(subgraph_callable-4758758b-4791-43a6-b5f1-ba011cf8(...))\",\"mean_combine([_, _])\",\"_\",\"_\",\"subgraph_callable-c253404b-913b-4995-b2d0-09d006f4(subgraph_callable-4758758b-4791-43a6-b5f1-ba011cf8(...))\",\"_\",\"_\",\"mean_combine([_, _])\",\"mean_combine([_, _])\",\"mean_combine([_, _])\",\"mean_combine([_, _])\",\"subgraph_callable-c253404b-913b-4995-b2d0-09d006f4(subgraph_callable-4758758b-4791-43a6-b5f1-ba011cf8(...))\",\"subgraph_callable-c253404b-913b-4995-b2d0-09d006f4(subgraph_callable-4758758b-4791-43a6-b5f1-ba011cf8(...))\",\"subgraph_callable-c253404b-913b-4995-b2d0-09d006f4(subgraph_callable-4758758b-4791-43a6-b5f1-ba011cf8(...))\",\"subgraph_callable-c253404b-913b-4995-b2d0-09d006f4(subgraph_callable-4758758b-4791-43a6-b5f1-ba011cf8(...))\",\"_\",\"mean_combine([_, _])\",\"subgraph_callable-c253404b-913b-4995-b2d0-09d006f4(subgraph_callable-4758758b-4791-43a6-b5f1-ba011cf8(...))\",\"_\",\"mean_combine([_, _])\",\"subgraph_callable-c253404b-913b-4995-b2d0-09d006f4(subgraph_callable-4758758b-4791-43a6-b5f1-ba011cf8(...))\",\"_\",\"mean_combine([_, _])\",\"subgraph_callable-c253404b-913b-4995-b2d0-09d006f4(subgraph_callable-4758758b-4791-43a6-b5f1-ba011cf8(...))\",\"_\",\"mean_combine([_, _])\",\"subgraph_callable-c253404b-913b-4995-b2d0-09d006f4(subgraph_callable-4758758b-4791-43a6-b5f1-ba011cf8(...))\",\"_\",\"mean_combine([_, _])\",\"subgraph_callable-c253404b-913b-4995-b2d0-09d006f4(subgraph_callable-4758758b-4791-43a6-b5f1-ba011cf8(...))\",\"_\",\"mean_combine([_, _])\",\"subgraph_callable-c253404b-913b-4995-b2d0-09d006f4(subgraph_callable-4758758b-4791-43a6-b5f1-ba011cf8(...))\",\"_\",\"mean_combine([_, _])\",\"subgraph_callable-c253404b-913b-4995-b2d0-09d006f4(subgraph_callable-4758758b-4791-43a6-b5f1-ba011cf8(...))\",\"_\",\"mean_combine([_, _])\",\"subgraph_callable-c253404b-913b-4995-b2d0-09d006f4(subgraph_callable-4758758b-4791-43a6-b5f1-ba011cf8(...))\",\"_\",\"mean_combine([_, _])\",\"subgraph_callable-c253404b-913b-4995-b2d0-09d006f4(subgraph_callable-4758758b-4791-43a6-b5f1-ba011cf8(...))\",\"_\",\"mean_combine([_, _])\",\"subgraph_callable-c253404b-913b-4995-b2d0-09d006f4(subgraph_callable-4758758b-4791-43a6-b5f1-ba011cf8(...))\",\"_\",\"mean_combine([_, _])\",\"subgraph_callable-c253404b-913b-4995-b2d0-09d006f4(subgraph_callable-4758758b-4791-43a6-b5f1-ba011cf8(...))\",\"_\",\"mean_combine([_, _])\",\"subgraph_callable-c253404b-913b-4995-b2d0-09d006f4(subgraph_callable-4758758b-4791-43a6-b5f1-ba011cf8(...))\",\"_\",\"_\",\"mean_combine([_, _])\",\"mean_combine([_, _])\",\"subgraph_callable-c253404b-913b-4995-b2d0-09d006f4(subgraph_callable-4758758b-4791-43a6-b5f1-ba011cf8(...))\",\"subgraph_callable-c253404b-913b-4995-b2d0-09d006f4(subgraph_callable-4758758b-4791-43a6-b5f1-ba011cf8(...))\",\"_\",\"_\",\"_\",\"mean_combine([_, _])\",\"mean_combine([_, _])\",\"mean_combine([_, _])\",\"subgraph_callable-c253404b-913b-4995-b2d0-09d006f4(subgraph_callable-4758758b-4791-43a6-b5f1-ba011cf8(...))\",\"_\",\"_\",\"_\",\"subgraph_callable-c253404b-913b-4995-b2d0-09d006f4(subgraph_callable-4758758b-4791-43a6-b5f1-ba011cf8(...))\",\"subgraph_callable-c253404b-913b-4995-b2d0-09d006f4(subgraph_callable-4758758b-4791-43a6-b5f1-ba011cf8(...))\",\"mean_combine([_, _])\",\"mean_combine([_, _])\",\"mean_combine([_, _])\",\"subgraph_callable-c253404b-913b-4995-b2d0-09d006f4(subgraph_callable-4758758b-4791-43a6-b5f1-ba011cf8(...))\",\"subgraph_callable-c253404b-913b-4995-b2d0-09d006f4(subgraph_callable-4758758b-4791-43a6-b5f1-ba011cf8(...))\",\"subgraph_callable-c253404b-913b-4995-b2d0-09d006f4(subgraph_callable-4758758b-4791-43a6-b5f1-ba011cf8(...))\",\"_\",\"mean_combine([_, _])\",\"subgraph_callable-c253404b-913b-4995-b2d0-09d006f4(subgraph_callable-4758758b-4791-43a6-b5f1-ba011cf8(...))\",\"_\",\"mean_combine([_, _])\",\"subgraph_callable-c253404b-913b-4995-b2d0-09d006f4(subgraph_callable-4758758b-4791-43a6-b5f1-ba011cf8(...))\",\"_\",\"mean_combine([_, _])\",\"subgraph_callable-c253404b-913b-4995-b2d0-09d006f4(subgraph_callable-4758758b-4791-43a6-b5f1-ba011cf8(...))\",\"_\",\"mean_combine([_, _])\",\"subgraph_callable-c253404b-913b-4995-b2d0-09d006f4(subgraph_callable-4758758b-4791-43a6-b5f1-ba011cf8(...))\",\"_\",\"mean_combine([_, _])\",\"subgraph_callable-c253404b-913b-4995-b2d0-09d006f4(subgraph_callable-4758758b-4791-43a6-b5f1-ba011cf8(...))\",\"_\",\"mean_combine([_, _])\",\"subgraph_callable-c253404b-913b-4995-b2d0-09d006f4(subgraph_callable-4758758b-4791-43a6-b5f1-ba011cf8(...))\",\"_\",\"mean_combine([_, _])\",\"subgraph_callable-c253404b-913b-4995-b2d0-09d006f4(subgraph_callable-4758758b-4791-43a6-b5f1-ba011cf8(...))\",\"_\",\"mean_combine([_, _])\",\"subgraph_callable-c253404b-913b-4995-b2d0-09d006f4(subgraph_callable-4758758b-4791-43a6-b5f1-ba011cf8(...))\",\"_\",\"_\",\"mean_combine([_, _])\",\"mean_combine([_, _])\",\"subgraph_callable-c253404b-913b-4995-b2d0-09d006f4(subgraph_callable-4758758b-4791-43a6-b5f1-ba011cf8(...))\",\"subgraph_callable-c253404b-913b-4995-b2d0-09d006f4(subgraph_callable-4758758b-4791-43a6-b5f1-ba011cf8(...))\",\"_\",\"mean_combine([_, _])\",\"subgraph_callable-c253404b-913b-4995-b2d0-09d006f4(subgraph_callable-4758758b-4791-43a6-b5f1-ba011cf8(...))\",\"_\",\"mean_combine([_, _])\",\"_\",\"_\",\"subgraph_callable-c253404b-913b-4995-b2d0-09d006f4(subgraph_callable-4758758b-4791-43a6-b5f1-ba011cf8(...))\",\"mean_combine([_, _])\",\"mean_combine([_, _])\",\"subgraph_callable-c253404b-913b-4995-b2d0-09d006f4(subgraph_callable-4758758b-4791-43a6-b5f1-ba011cf8(...))\",\"subgraph_callable-c253404b-913b-4995-b2d0-09d006f4(subgraph_callable-4758758b-4791-43a6-b5f1-ba011cf8(...))\",\"_\",\"mean_combine([_, _])\",\"subgraph_callable-c253404b-913b-4995-b2d0-09d006f4(subgraph_callable-4758758b-4791-43a6-b5f1-ba011cf8(...))\",\"_\",\"mean_combine([_, _])\",\"subgraph_callable-c253404b-913b-4995-b2d0-09d006f4(subgraph_callable-4758758b-4791-43a6-b5f1-ba011cf8(...))\",\"_\",\"_\",\"mean_combine([_, _])\",\"mean_combine([_, _])\",\"subgraph_callable-c253404b-913b-4995-b2d0-09d006f4(subgraph_callable-4758758b-4791-43a6-b5f1-ba011cf8(...))\",\"subgraph_callable-c253404b-913b-4995-b2d0-09d006f4(subgraph_callable-4758758b-4791-43a6-b5f1-ba011cf8(...))\",\"_\",\"_\",\"mean_combine([_, _])\",\"mean_combine([_, _])\",\"subgraph_callable-c253404b-913b-4995-b2d0-09d006f4(subgraph_callable-4758758b-4791-43a6-b5f1-ba011cf8(...))\",\"subgraph_callable-c253404b-913b-4995-b2d0-09d006f4(subgraph_callable-4758758b-4791-43a6-b5f1-ba011cf8(...))\",\"_\",\"mean_combine([_, _])\",\"subgraph_callable-c253404b-913b-4995-b2d0-09d006f4(subgraph_callable-4758758b-4791-43a6-b5f1-ba011cf8(...))\",\"_\",\"_\",\"mean_combine([_, _])\",\"mean_combine([_, _])\",\"subgraph_callable-c253404b-913b-4995-b2d0-09d006f4(subgraph_callable-4758758b-4791-43a6-b5f1-ba011cf8(...))\",\"subgraph_callable-c253404b-913b-4995-b2d0-09d006f4(subgraph_callable-4758758b-4791-43a6-b5f1-ba011cf8(...))\",\"_\",\"mean_combine([_, _])\",\"subgraph_callable-c253404b-913b-4995-b2d0-09d006f4(subgraph_callable-4758758b-4791-43a6-b5f1-ba011cf8(...))\",\"_\",\"mean_combine([_, _])\",\"subgraph_callable-c253404b-913b-4995-b2d0-09d006f4(subgraph_callable-4758758b-4791-43a6-b5f1-ba011cf8(...))\",\"_\",\"mean_combine([_, _])\",\"subgraph_callable-c253404b-913b-4995-b2d0-09d006f4(subgraph_callable-4758758b-4791-43a6-b5f1-ba011cf8(...))\",\"_\",\"mean_combine([_, _])\",\"mean_agg([_, _])\",\"subgraph_callable-c253404b-913b-4995-b2d0-09d006f4(subgraph_callable-4758758b-4791-43a6-b5f1-ba011cf8(...))\",\"_\",\"mean_combine([_, _])\",\"mean_agg([_, _])\",\"_\",\"subgraph_callable-c253404b-913b-4995-b2d0-09d006f4(subgraph_callable-4758758b-4791-43a6-b5f1-ba011cf8(...))\",\"mean_combine([_, _])\",\"mean_agg([_, _])\",\"subgraph_callable-c253404b-913b-4995-b2d0-09d006f4(subgraph_callable-4758758b-4791-43a6-b5f1-ba011cf8(...))\",\"_\",\"mean_combine([_, _])\",\"mean_agg([_, _])\",\"subgraph_callable-c253404b-913b-4995-b2d0-09d006f4(subgraph_callable-4758758b-4791-43a6-b5f1-ba011cf8(...))\",\"_\",\"mean_combine([_, _])\",\"mean_agg([_, _])\",\"subgraph_callable-c253404b-913b-4995-b2d0-09d006f4(subgraph_callable-4758758b-4791-43a6-b5f1-ba011cf8(...))\",\"_\",\"mean_combine([_, _])\",\"_\",\"mean_agg([_, _])\",\"mean_combine([_, _])\",\"subgraph_callable-c253404b-913b-4995-b2d0-09d006f4(subgraph_callable-4758758b-4791-43a6-b5f1-ba011cf8(...))\",\"mean_agg([_, _])\",\"subgraph_callable-c253404b-913b-4995-b2d0-09d006f4(subgraph_callable-4758758b-4791-43a6-b5f1-ba011cf8(...))\",\"_\",\"_\",\"mean_combine([_, _])\",\"_\",\"mean_combine([_, _])\",\"mean_agg([_, _])\",\"mean_combine([_, _])\",\"mean_agg([_, _])\",\"subgraph_callable-c253404b-913b-4995-b2d0-09d006f4(subgraph_callable-4758758b-4791-43a6-b5f1-ba011cf8(...))\",\"mean_agg([_, _])\",\"subgraph_callable-c253404b-913b-4995-b2d0-09d006f4(subgraph_callable-4758758b-4791-43a6-b5f1-ba011cf8(...))\",\"_\",\"subgraph_callable-c253404b-913b-4995-b2d0-09d006f4(subgraph_callable-4758758b-4791-43a6-b5f1-ba011cf8(...))\",\"mean_combine([_, _])\",\"_\",\"mean_agg([_, _])\",\"mean_combine([_, _])\",\"_\",\"_\",\"subgraph_callable-c253404b-913b-4995-b2d0-09d006f4(subgraph_callable-4758758b-4791-43a6-b5f1-ba011cf8(...))\",\"mean_combine([_, _])\",\"mean_agg([_, _])\",\"mean_combine([_, _])\",\"_\",\"_\",\"subgraph_callable-c253404b-913b-4995-b2d0-09d006f4(subgraph_callable-4758758b-4791-43a6-b5f1-ba011cf8(...))\",\"mean_agg([_, _])\",\"mean_agg([_, _])\",\"subgraph_callable-c253404b-913b-4995-b2d0-09d006f4(subgraph_callable-4758758b-4791-43a6-b5f1-ba011cf8(...))\",\"mean_combine([_, _])\",\"subgraph_callable-c253404b-913b-4995-b2d0-09d006f4(subgraph_callable-4758758b-4791-43a6-b5f1-ba011cf8(...))\",\"subgraph_callable-c253404b-913b-4995-b2d0-09d006f4(subgraph_callable-4758758b-4791-43a6-b5f1-ba011cf8(...))\",\"_\",\"mean_agg([_, _])\",\"mean_combine([_, _])\",\"subgraph_callable-c253404b-913b-4995-b2d0-09d006f4(subgraph_callable-4758758b-4791-43a6-b5f1-ba011cf8(...))\",\"mean_agg([_, _])\",\"subgraph_callable-c253404b-913b-4995-b2d0-09d006f4(subgraph_callable-4758758b-4791-43a6-b5f1-ba011cf8(...))\",\"_\",\"subgraph_callable-c253404b-913b-4995-b2d0-09d006f4(subgraph_callable-4758758b-4791-43a6-b5f1-ba011cf8(...))\",\"_\",\"subgraph_callable-c253404b-913b-4995-b2d0-09d006f4(subgraph_callable-4758758b-4791-43a6-b5f1-ba011cf8(...))\",\"_\",\"subgraph_callable-c253404b-913b-4995-b2d0-09d006f4(subgraph_callable-4758758b-4791-43a6-b5f1-ba011cf8(...))\",\"_\",\"subgraph_callable-c253404b-913b-4995-b2d0-09d006f4(subgraph_callable-4758758b-4791-43a6-b5f1-ba011cf8(...))\",\"_\",\"subgraph_callable-c253404b-913b-4995-b2d0-09d006f4(subgraph_callable-4758758b-4791-43a6-b5f1-ba011cf8(...))\",\"_\",\"subgraph_callable-c253404b-913b-4995-b2d0-09d006f4(subgraph_callable-4758758b-4791-43a6-b5f1-ba011cf8(...))\",\"_\",\"subgraph_callable-c253404b-913b-4995-b2d0-09d006f4(subgraph_callable-4758758b-4791-43a6-b5f1-ba011cf8(...))\",\"_\",\"subgraph_callable-c253404b-913b-4995-b2d0-09d006f4(subgraph_callable-4758758b-4791-43a6-b5f1-ba011cf8(...))\",\"_\",\"subgraph_callable-c253404b-913b-4995-b2d0-09d006f4(subgraph_callable-4758758b-4791-43a6-b5f1-ba011cf8(...))\",\"_\",\"subgraph_callable-c253404b-913b-4995-b2d0-09d006f4(subgraph_callable-4758758b-4791-43a6-b5f1-ba011cf8(...))\",\"_\",\"subgraph_callable-c253404b-913b-4995-b2d0-09d006f4(subgraph_callable-4758758b-4791-43a6-b5f1-ba011cf8(...))\",\"_\",\"subgraph_callable-c253404b-913b-4995-b2d0-09d006f4(subgraph_callable-4758758b-4791-43a6-b5f1-ba011cf8(...))\",\"_\",\"subgraph_callable-c253404b-913b-4995-b2d0-09d006f4(subgraph_callable-4758758b-4791-43a6-b5f1-ba011cf8(...))\",\"_\",\"_\",\"subgraph_callable-c253404b-913b-4995-b2d0-09d006f4(subgraph_callable-4758758b-4791-43a6-b5f1-ba011cf8(...))\",\"subgraph_callable-c253404b-913b-4995-b2d0-09d006f4(subgraph_callable-4758758b-4791-43a6-b5f1-ba011cf8(...))\",\"_\",\"subgraph_callable-c253404b-913b-4995-b2d0-09d006f4(subgraph_callable-4758758b-4791-43a6-b5f1-ba011cf8(...))\",\"_\",\"_\",\"_\",\"subgraph_callable-c253404b-913b-4995-b2d0-09d006f4(subgraph_callable-4758758b-4791-43a6-b5f1-ba011cf8(...))\",\"subgraph_callable-c253404b-913b-4995-b2d0-09d006f4(subgraph_callable-4758758b-4791-43a6-b5f1-ba011cf8(...))\",\"subgraph_callable-c253404b-913b-4995-b2d0-09d006f4(subgraph_callable-4758758b-4791-43a6-b5f1-ba011cf8(...))\",\"_\",\"subgraph_callable-c253404b-913b-4995-b2d0-09d006f4(subgraph_callable-4758758b-4791-43a6-b5f1-ba011cf8(...))\",\"_\",\"subgraph_callable-c253404b-913b-4995-b2d0-09d006f4(subgraph_callable-4758758b-4791-43a6-b5f1-ba011cf8(...))\",\"_\",\"subgraph_callable-c253404b-913b-4995-b2d0-09d006f4(subgraph_callable-4758758b-4791-43a6-b5f1-ba011cf8(...))\",\"_\",\"subgraph_callable-c253404b-913b-4995-b2d0-09d006f4(subgraph_callable-4758758b-4791-43a6-b5f1-ba011cf8(...))\",\"_\",\"subgraph_callable-c253404b-913b-4995-b2d0-09d006f4(subgraph_callable-4758758b-4791-43a6-b5f1-ba011cf8(...))\",\"_\",\"subgraph_callable-c253404b-913b-4995-b2d0-09d006f4(subgraph_callable-4758758b-4791-43a6-b5f1-ba011cf8(...))\",\"_\",\"subgraph_callable-c253404b-913b-4995-b2d0-09d006f4(subgraph_callable-4758758b-4791-43a6-b5f1-ba011cf8(...))\",\"_\",\"subgraph_callable-c253404b-913b-4995-b2d0-09d006f4(subgraph_callable-4758758b-4791-43a6-b5f1-ba011cf8(...))\",\"_\",\"subgraph_callable-c253404b-913b-4995-b2d0-09d006f4(subgraph_callable-4758758b-4791-43a6-b5f1-ba011cf8(...))\",\"_\",\"subgraph_callable-c253404b-913b-4995-b2d0-09d006f4(subgraph_callable-4758758b-4791-43a6-b5f1-ba011cf8(...))\",\"_\",\"_\",\"subgraph_callable-c253404b-913b-4995-b2d0-09d006f4(subgraph_callable-4758758b-4791-43a6-b5f1-ba011cf8(...))\",\"subgraph_callable-c253404b-913b-4995-b2d0-09d006f4(subgraph_callable-4758758b-4791-43a6-b5f1-ba011cf8(...))\",\"_\",\"subgraph_callable-c253404b-913b-4995-b2d0-09d006f4(subgraph_callable-4758758b-4791-43a6-b5f1-ba011cf8(...))\",\"_\",\"subgraph_callable-c253404b-913b-4995-b2d0-09d006f4(subgraph_callable-4758758b-4791-43a6-b5f1-ba011cf8(...))\",\"_\",\"subgraph_callable-c253404b-913b-4995-b2d0-09d006f4(subgraph_callable-4758758b-4791-43a6-b5f1-ba011cf8(...))\",\"_\",\"_\",\"subgraph_callable-c253404b-913b-4995-b2d0-09d006f4(subgraph_callable-4758758b-4791-43a6-b5f1-ba011cf8(...))\",\"subgraph_callable-c253404b-913b-4995-b2d0-09d006f4(subgraph_callable-4758758b-4791-43a6-b5f1-ba011cf8(...))\",\"_\",\"_\",\"subgraph_callable-c253404b-913b-4995-b2d0-09d006f4(subgraph_callable-4758758b-4791-43a6-b5f1-ba011cf8(...))\",\"_\",\"_\",\"_\",\"subgraph_callable-c253404b-913b-4995-b2d0-09d006f4(subgraph_callable-4758758b-4791-43a6-b5f1-ba011cf8(...))\",\"subgraph_callable-c253404b-913b-4995-b2d0-09d006f4(subgraph_callable-4758758b-4791-43a6-b5f1-ba011cf8(...))\",\"subgraph_callable-c253404b-913b-4995-b2d0-09d006f4(subgraph_callable-4758758b-4791-43a6-b5f1-ba011cf8(...))\",\"subgraph_callable-c253404b-913b-4995-b2d0-09d006f4(subgraph_callable-4758758b-4791-43a6-b5f1-ba011cf8(...))\",\"_\",\"subgraph_callable-c253404b-913b-4995-b2d0-09d006f4(subgraph_callable-4758758b-4791-43a6-b5f1-ba011cf8(...))\",\"_\",\"subgraph_callable-c253404b-913b-4995-b2d0-09d006f4(subgraph_callable-4758758b-4791-43a6-b5f1-ba011cf8(...))\",\"_\",\"subgraph_callable-c253404b-913b-4995-b2d0-09d006f4(subgraph_callable-4758758b-4791-43a6-b5f1-ba011cf8(...))\",\"_\",\"subgraph_callable-c253404b-913b-4995-b2d0-09d006f4(subgraph_callable-4758758b-4791-43a6-b5f1-ba011cf8(...))\",\"_\",\"subgraph_callable-c253404b-913b-4995-b2d0-09d006f4(subgraph_callable-4758758b-4791-43a6-b5f1-ba011cf8(...))\",\"_\",\"mean_combine([_, _])\",\"mean_agg([_, _])\",\"subgraph_callable-c253404b-913b-4995-b2d0-09d006f4(subgraph_callable-4758758b-4791-43a6-b5f1-ba011cf8(...))\",\"_\",\"mean_combine([_, _])\",\"_\",\"mean_agg([_, _])\",\"mean_combine([_, _])\",\"subgraph_callable-c253404b-913b-4995-b2d0-09d006f4(subgraph_callable-4758758b-4791-43a6-b5f1-ba011cf8(...))\",\"mean_agg([_, _])\",\"subgraph_callable-c253404b-913b-4995-b2d0-09d006f4(subgraph_callable-4758758b-4791-43a6-b5f1-ba011cf8(...))\",\"_\",\"_\",\"mean_combine([_, _])\",\"mean_combine([_, _])\",\"mean_agg([_, _])\",\"mean_agg([_, _])\",\"subgraph_callable-c253404b-913b-4995-b2d0-09d006f4(subgraph_callable-4758758b-4791-43a6-b5f1-ba011cf8(...))\",\"_\",\"subgraph_callable-c253404b-913b-4995-b2d0-09d006f4(subgraph_callable-4758758b-4791-43a6-b5f1-ba011cf8(...))\",\"_\",\"mean_combine([_, _])\",\"mean_combine([_, _])\",\"mean_agg([_, _])\",\"mean_agg([_, _])\",\"subgraph_callable-c253404b-913b-4995-b2d0-09d006f4(subgraph_callable-4758758b-4791-43a6-b5f1-ba011cf8(...))\",\"subgraph_callable-c253404b-913b-4995-b2d0-09d006f4(subgraph_callable-4758758b-4791-43a6-b5f1-ba011cf8(...))\",\"_\",\"mean_combine([_, _])\",\"mean_agg([_, _])\",\"subgraph_callable-c253404b-913b-4995-b2d0-09d006f4(subgraph_callable-4758758b-4791-43a6-b5f1-ba011cf8(...))\",\"_\",\"_\",\"mean_combine([_, _])\",\"mean_combine([_, _])\",\"mean_agg([_, _])\",\"mean_agg([_, _])\",\"_\",\"subgraph_callable-c253404b-913b-4995-b2d0-09d006f4(subgraph_callable-4758758b-4791-43a6-b5f1-ba011cf8(...))\",\"subgraph_callable-c253404b-913b-4995-b2d0-09d006f4(subgraph_callable-4758758b-4791-43a6-b5f1-ba011cf8(...))\",\"mean_combine([_, _])\",\"_\",\"mean_agg([_, _])\",\"mean_combine([_, _])\",\"subgraph_callable-c253404b-913b-4995-b2d0-09d006f4(subgraph_callable-4758758b-4791-43a6-b5f1-ba011cf8(...))\",\"mean_agg([_, _])\",\"subgraph_callable-c253404b-913b-4995-b2d0-09d006f4(subgraph_callable-4758758b-4791-43a6-b5f1-ba011cf8(...))\",\"_\",\"mean_combine([_, _])\",\"mean_agg([_, _])\",\"subgraph_callable-c253404b-913b-4995-b2d0-09d006f4(subgraph_callable-4758758b-4791-43a6-b5f1-ba011cf8(...))\",\"_\",\"_\",\"mean_combine([_, _])\",\"_\",\"_\",\"mean_combine([_, _])\",\"mean_agg([_, _])\",\"mean_combine([_, _])\",\"mean_combine([_, _])\",\"mean_agg([_, _])\",\"subgraph_callable-c253404b-913b-4995-b2d0-09d006f4(subgraph_callable-4758758b-4791-43a6-b5f1-ba011cf8(...))\",\"_\",\"mean_agg([_, _])\",\"mean_agg([_, _])\",\"subgraph_callable-c253404b-913b-4995-b2d0-09d006f4(subgraph_callable-4758758b-4791-43a6-b5f1-ba011cf8(...))\",\"mean_combine([_, _])\",\"subgraph_callable-c253404b-913b-4995-b2d0-09d006f4(subgraph_callable-4758758b-4791-43a6-b5f1-ba011cf8(...))\",\"subgraph_callable-c253404b-913b-4995-b2d0-09d006f4(subgraph_callable-4758758b-4791-43a6-b5f1-ba011cf8(...))\",\"mean_agg([_, _])\",\"subgraph_callable-c253404b-913b-4995-b2d0-09d006f4(subgraph_callable-4758758b-4791-43a6-b5f1-ba011cf8(...))\",\"_\",\"mean_combine([_, _])\",\"mean_agg([_, _])\",\"subgraph_callable-c253404b-913b-4995-b2d0-09d006f4(subgraph_callable-4758758b-4791-43a6-b5f1-ba011cf8(...))\",\"_\",\"mean_combine([_, _])\",\"mean_agg([_, _])\",\"subgraph_callable-c253404b-913b-4995-b2d0-09d006f4(subgraph_callable-4758758b-4791-43a6-b5f1-ba011cf8(...))\",\"_\",\"mean_combine([_, _])\",\"mean_agg([_, _])\",\"subgraph_callable-c253404b-913b-4995-b2d0-09d006f4(subgraph_callable-4758758b-4791-43a6-b5f1-ba011cf8(...))\",\"_\",\"mean_combine([_, _])\",\"mean_agg([_, _])\",\"subgraph_callable-c253404b-913b-4995-b2d0-09d006f4(subgraph_callable-4758758b-4791-43a6-b5f1-ba011cf8(...))\",\"_\",\"mean_combine([_, _])\",\"mean_agg([_, _])\",\"subgraph_callable-c253404b-913b-4995-b2d0-09d006f4(subgraph_callable-4758758b-4791-43a6-b5f1-ba011cf8(...))\",\"_\",\"mean_combine([_, _])\",\"_\",\"mean_agg([_, _])\",\"mean_combine([_, _])\",\"subgraph_callable-c253404b-913b-4995-b2d0-09d006f4(subgraph_callable-4758758b-4791-43a6-b5f1-ba011cf8(...))\",\"mean_agg([_, _])\",\"subgraph_callable-c253404b-913b-4995-b2d0-09d006f4(subgraph_callable-4758758b-4791-43a6-b5f1-ba011cf8(...))\",\"_\",\"mean_combine([_, _])\",\"mean_agg([_, _])\",\"subgraph_callable-c253404b-913b-4995-b2d0-09d006f4(subgraph_callable-4758758b-4791-43a6-b5f1-ba011cf8(...))\",\"_\",\"mean_combine([_, _])\",\"mean_agg([_, _])\",\"subgraph_callable-c253404b-913b-4995-b2d0-09d006f4(subgraph_callable-4758758b-4791-43a6-b5f1-ba011cf8(...))\",\"_\",\"mean_combine([_, _])\",\"mean_agg([_, _])\",\"_\",\"mean_combine([_, _])\",\"mean_agg([_, _])\",\"_\",\"mean_combine([_, _])\",\"_\",\"mean_agg([_, _])\",\"mean_combine([_, _])\",\"mean_agg([_, _])\",\"_\",\"mean_combine([_, _])\",\"mean_agg([_, _])\",\"_\",\"mean_combine([_, _])\",\"mean_agg([_, _])\",\"_\",\"mean_combine([_, _])\",\"mean_agg([_, _])\",\"_\",\"mean_combine([_, _])\",\"_\",\"mean_agg([_, _])\",\"_\",\"mean_combine([_, _])\",\"mean_combine([_, _])\",\"mean_agg([_, _])\",\"mean_agg([_, _])\",\"_\",\"mean_combine([_, _])\",\"mean_agg([_, _])\",\"_\",\"mean_combine([_, _])\",\"mean_agg([_, _])\",\"_\",\"mean_combine([_, _])\",\"mean_agg([_, _])\",\"_\",\"mean_combine([_, _])\",\"mean_agg([_, _])\",\"_\",\"mean_combine([_, _])\",\"mean_agg([_, _])\",\"_\",\"mean_combine([_, _])\",\"mean_agg([_, _])\",\"_\",\"mean_combine([_, _])\",\"mean_agg([_, _])\",\"_\",\"mean_combine([_, _])\",\"mean_agg([_, _])\",\"_\",\"mean_combine([_, _])\",\"mean_agg([_, _])\",\"_\",\"mean_combine([_, _])\",\"mean_agg([_, _])\"],\"key\":[\"('from-value-frozen_phonon-concatenate-573523941657e8b7d1564c9804b7f009', 1)\",\"('from-value-frozen_phonon-concatenate-573523941657e8b7d1564c9804b7f009', 0)\",\"('from-value-frozen_phonon-concatenate-573523941657e8b7d1564c9804b7f009', 2)\",\"('from-value-frozen_phonon-concatenate-573523941657e8b7d1564c9804b7f009', 3)\",\"('concatenate-573523941657e8b7d1564c9804b7f009', 1)\",\"('concatenate-573523941657e8b7d1564c9804b7f009', 0)\",\"('concatenate-573523941657e8b7d1564c9804b7f009', 2)\",\"('concatenate-573523941657e8b7d1564c9804b7f009', 3)\",\"('diffraction_pattern-integrate_fourier_space-mean_chunk-07fb7f34089888c3d90dbe100111c90b', 1, 0, 0)\",\"('diffraction_pattern-integrate_fourier_space-mean_chunk-07fb7f34089888c3d90dbe100111c90b', 1, 1, 1)\",\"('diffraction_pattern-integrate_fourier_space-mean_chunk-07fb7f34089888c3d90dbe100111c90b', 1, 2, 2)\",\"('diffraction_pattern-integrate_fourier_space-mean_chunk-07fb7f34089888c3d90dbe100111c90b', 1, 3, 3)\",\"('diffraction_pattern-integrate_fourier_space-mean_chunk-07fb7f34089888c3d90dbe100111c90b', 1, 4, 4)\",\"('diffraction_pattern-integrate_fourier_space-mean_chunk-07fb7f34089888c3d90dbe100111c90b', 1, 5, 5)\",\"('diffraction_pattern-integrate_fourier_space-mean_chunk-07fb7f34089888c3d90dbe100111c90b', 1, 6, 6)\",\"('diffraction_pattern-integrate_fourier_space-mean_chunk-07fb7f34089888c3d90dbe100111c90b', 1, 7, 7)\",\"('diffraction_pattern-integrate_fourier_space-mean_chunk-07fb7f34089888c3d90dbe100111c90b', 1, 0, 1)\",\"('diffraction_pattern-integrate_fourier_space-mean_chunk-07fb7f34089888c3d90dbe100111c90b', 1, 0, 2)\",\"('diffraction_pattern-integrate_fourier_space-mean_chunk-07fb7f34089888c3d90dbe100111c90b', 1, 0, 3)\",\"('diffraction_pattern-integrate_fourier_space-mean_chunk-07fb7f34089888c3d90dbe100111c90b', 1, 0, 4)\",\"('diffraction_pattern-integrate_fourier_space-mean_chunk-07fb7f34089888c3d90dbe100111c90b', 1, 0, 5)\",\"('diffraction_pattern-integrate_fourier_space-mean_chunk-07fb7f34089888c3d90dbe100111c90b', 1, 0, 6)\",\"('diffraction_pattern-integrate_fourier_space-mean_chunk-07fb7f34089888c3d90dbe100111c90b', 1, 0, 7)\",\"('diffraction_pattern-integrate_fourier_space-mean_chunk-07fb7f34089888c3d90dbe100111c90b', 1, 1, 0)\",\"('diffraction_pattern-integrate_fourier_space-mean_chunk-07fb7f34089888c3d90dbe100111c90b', 1, 1, 2)\",\"('diffraction_pattern-integrate_fourier_space-mean_chunk-07fb7f34089888c3d90dbe100111c90b', 0, 0, 0)\",\"('diffraction_pattern-integrate_fourier_space-mean_chunk-07fb7f34089888c3d90dbe100111c90b', 2, 0, 0)\",\"('diffraction_pattern-integrate_fourier_space-mean_chunk-07fb7f34089888c3d90dbe100111c90b', 3, 0, 0)\",\"('mean_chunk-07fb7f34089888c3d90dbe100111c90b', 1, 7, 7)\",\"('diffraction_pattern-integrate_fourier_space-mean_chunk-07fb7f34089888c3d90dbe100111c90b', 3, 1, 1)\",\"('mean_chunk-07fb7f34089888c3d90dbe100111c90b', 1, 0, 7)\",\"('diffraction_pattern-integrate_fourier_space-mean_chunk-07fb7f34089888c3d90dbe100111c90b', 3, 2, 2)\",\"('mean_chunk-07fb7f34089888c3d90dbe100111c90b', 1, 0, 5)\",\"('mean_chunk-07fb7f34089888c3d90dbe100111c90b', 1, 1, 0)\",\"('diffraction_pattern-integrate_fourier_space-mean_chunk-07fb7f34089888c3d90dbe100111c90b', 3, 3, 3)\",\"('mean_chunk-07fb7f34089888c3d90dbe100111c90b', 1, 0, 1)\",\"('diffraction_pattern-integrate_fourier_space-mean_chunk-07fb7f34089888c3d90dbe100111c90b', 3, 4, 4)\",\"('diffraction_pattern-integrate_fourier_space-mean_chunk-07fb7f34089888c3d90dbe100111c90b', 3, 5, 5)\",\"('mean_chunk-07fb7f34089888c3d90dbe100111c90b', 1, 2, 2)\",\"('diffraction_pattern-integrate_fourier_space-mean_chunk-07fb7f34089888c3d90dbe100111c90b', 3, 6, 6)\",\"('mean_chunk-07fb7f34089888c3d90dbe100111c90b', 1, 1, 1)\",\"('mean_chunk-07fb7f34089888c3d90dbe100111c90b', 1, 4, 4)\",\"('diffraction_pattern-integrate_fourier_space-mean_chunk-07fb7f34089888c3d90dbe100111c90b', 3, 7, 7)\",\"('diffraction_pattern-integrate_fourier_space-mean_chunk-07fb7f34089888c3d90dbe100111c90b', 3, 0, 1)\",\"('mean_chunk-07fb7f34089888c3d90dbe100111c90b', 1, 3, 3)\",\"('mean_chunk-07fb7f34089888c3d90dbe100111c90b', 1, 1, 2)\",\"('diffraction_pattern-integrate_fourier_space-mean_chunk-07fb7f34089888c3d90dbe100111c90b', 3, 0, 2)\",\"('diffraction_pattern-integrate_fourier_space-mean_chunk-07fb7f34089888c3d90dbe100111c90b', 3, 0, 3)\",\"('mean_chunk-07fb7f34089888c3d90dbe100111c90b', 1, 0, 2)\",\"('mean_chunk-07fb7f34089888c3d90dbe100111c90b', 1, 0, 6)\",\"('diffraction_pattern-integrate_fourier_space-mean_chunk-07fb7f34089888c3d90dbe100111c90b', 3, 0, 4)\",\"('mean_chunk-07fb7f34089888c3d90dbe100111c90b', 1, 0, 4)\",\"('diffraction_pattern-integrate_fourier_space-mean_chunk-07fb7f34089888c3d90dbe100111c90b', 3, 0, 5)\",\"('diffraction_pattern-integrate_fourier_space-mean_chunk-07fb7f34089888c3d90dbe100111c90b', 3, 0, 6)\",\"('mean_chunk-07fb7f34089888c3d90dbe100111c90b', 1, 6, 6)\",\"('mean_chunk-07fb7f34089888c3d90dbe100111c90b', 2, 0, 0)\",\"('mean_chunk-07fb7f34089888c3d90dbe100111c90b', 1, 0, 3)\",\"('mean_chunk-07fb7f34089888c3d90dbe100111c90b', 1, 0, 0)\",\"('mean_chunk-07fb7f34089888c3d90dbe100111c90b', 0, 0, 0)\",\"('mean_chunk-07fb7f34089888c3d90dbe100111c90b', 3, 0, 0)\",\"('diffraction_pattern-integrate_fourier_space-mean_chunk-07fb7f34089888c3d90dbe100111c90b', 3, 0, 7)\",\"('diffraction_pattern-integrate_fourier_space-mean_chunk-07fb7f34089888c3d90dbe100111c90b', 3, 1, 0)\",\"('diffraction_pattern-integrate_fourier_space-mean_chunk-07fb7f34089888c3d90dbe100111c90b', 3, 1, 2)\",\"('diffraction_pattern-integrate_fourier_space-mean_chunk-07fb7f34089888c3d90dbe100111c90b', 3, 1, 3)\",\"('mean_combine-partial-e3989d1a55527fad8f8cb68b43c86833', 0, 0, 0)\",\"('mean_combine-partial-e3989d1a55527fad8f8cb68b43c86833', 1, 0, 0)\",\"('mean_chunk-07fb7f34089888c3d90dbe100111c90b', 1, 5, 5)\",\"('diffraction_pattern-integrate_fourier_space-mean_chunk-07fb7f34089888c3d90dbe100111c90b', 3, 1, 4)\",\"('mean_agg-aggregate-3bc3dbd31026808e9d6c45e8722a7ee4', 0, 0)\",\"('diffraction_pattern-integrate_fourier_space-mean_chunk-07fb7f34089888c3d90dbe100111c90b', 3, 1, 5)\",\"('diffraction_pattern-integrate_fourier_space-mean_chunk-07fb7f34089888c3d90dbe100111c90b', 3, 1, 6)\",\"('mean_chunk-07fb7f34089888c3d90dbe100111c90b', 3, 1, 1)\",\"('diffraction_pattern-integrate_fourier_space-mean_chunk-07fb7f34089888c3d90dbe100111c90b', 3, 1, 7)\",\"('mean_chunk-07fb7f34089888c3d90dbe100111c90b', 3, 7, 7)\",\"('diffraction_pattern-integrate_fourier_space-mean_chunk-07fb7f34089888c3d90dbe100111c90b', 3, 2, 0)\",\"('mean_chunk-07fb7f34089888c3d90dbe100111c90b', 3, 2, 2)\",\"('diffraction_pattern-integrate_fourier_space-mean_chunk-07fb7f34089888c3d90dbe100111c90b', 3, 2, 1)\",\"('mean_chunk-07fb7f34089888c3d90dbe100111c90b', 3, 0, 7)\",\"('diffraction_pattern-integrate_fourier_space-mean_chunk-07fb7f34089888c3d90dbe100111c90b', 3, 2, 3)\",\"('mean_chunk-07fb7f34089888c3d90dbe100111c90b', 3, 3, 3)\",\"('diffraction_pattern-integrate_fourier_space-mean_chunk-07fb7f34089888c3d90dbe100111c90b', 3, 2, 4)\",\"('mean_chunk-07fb7f34089888c3d90dbe100111c90b', 3, 4, 4)\",\"('diffraction_pattern-integrate_fourier_space-mean_chunk-07fb7f34089888c3d90dbe100111c90b', 3, 2, 5)\",\"('mean_chunk-07fb7f34089888c3d90dbe100111c90b', 3, 5, 5)\",\"('diffraction_pattern-integrate_fourier_space-mean_chunk-07fb7f34089888c3d90dbe100111c90b', 3, 2, 6)\",\"('mean_chunk-07fb7f34089888c3d90dbe100111c90b', 3, 0, 2)\",\"('diffraction_pattern-integrate_fourier_space-mean_chunk-07fb7f34089888c3d90dbe100111c90b', 3, 2, 7)\",\"('mean_chunk-07fb7f34089888c3d90dbe100111c90b', 3, 0, 1)\",\"('diffraction_pattern-integrate_fourier_space-mean_chunk-07fb7f34089888c3d90dbe100111c90b', 3, 3, 0)\",\"('mean_chunk-07fb7f34089888c3d90dbe100111c90b', 3, 0, 5)\",\"('diffraction_pattern-integrate_fourier_space-mean_chunk-07fb7f34089888c3d90dbe100111c90b', 3, 3, 1)\",\"('mean_chunk-07fb7f34089888c3d90dbe100111c90b', 3, 6, 6)\",\"('diffraction_pattern-integrate_fourier_space-mean_chunk-07fb7f34089888c3d90dbe100111c90b', 3, 3, 2)\",\"('mean_chunk-07fb7f34089888c3d90dbe100111c90b', 3, 1, 2)\",\"('mean_chunk-07fb7f34089888c3d90dbe100111c90b', 3, 0, 3)\",\"('diffraction_pattern-integrate_fourier_space-mean_chunk-07fb7f34089888c3d90dbe100111c90b', 3, 3, 4)\",\"('diffraction_pattern-integrate_fourier_space-mean_chunk-07fb7f34089888c3d90dbe100111c90b', 3, 3, 5)\",\"('mean_chunk-07fb7f34089888c3d90dbe100111c90b', 3, 1, 3)\",\"('mean_chunk-07fb7f34089888c3d90dbe100111c90b', 3, 1, 4)\",\"('diffraction_pattern-integrate_fourier_space-mean_chunk-07fb7f34089888c3d90dbe100111c90b', 3, 3, 6)\",\"('mean_chunk-07fb7f34089888c3d90dbe100111c90b', 3, 1, 0)\",\"('diffraction_pattern-integrate_fourier_space-mean_chunk-07fb7f34089888c3d90dbe100111c90b', 3, 3, 7)\",\"('diffraction_pattern-integrate_fourier_space-mean_chunk-07fb7f34089888c3d90dbe100111c90b', 3, 4, 0)\",\"('mean_chunk-07fb7f34089888c3d90dbe100111c90b', 3, 0, 6)\",\"('mean_chunk-07fb7f34089888c3d90dbe100111c90b', 3, 0, 4)\",\"('mean_chunk-07fb7f34089888c3d90dbe100111c90b', 3, 1, 6)\",\"('diffraction_pattern-integrate_fourier_space-mean_chunk-07fb7f34089888c3d90dbe100111c90b', 3, 4, 1)\",\"('diffraction_pattern-integrate_fourier_space-mean_chunk-07fb7f34089888c3d90dbe100111c90b', 3, 4, 2)\",\"('mean_chunk-07fb7f34089888c3d90dbe100111c90b', 3, 1, 5)\",\"('diffraction_pattern-integrate_fourier_space-mean_chunk-07fb7f34089888c3d90dbe100111c90b', 3, 4, 3)\",\"('diffraction_pattern-integrate_fourier_space-mean_chunk-07fb7f34089888c3d90dbe100111c90b', 3, 4, 5)\",\"('mean_chunk-07fb7f34089888c3d90dbe100111c90b', 3, 1, 7)\",\"('diffraction_pattern-integrate_fourier_space-mean_chunk-07fb7f34089888c3d90dbe100111c90b', 3, 4, 6)\",\"('mean_chunk-07fb7f34089888c3d90dbe100111c90b', 3, 2, 0)\",\"('diffraction_pattern-integrate_fourier_space-mean_chunk-07fb7f34089888c3d90dbe100111c90b', 3, 4, 7)\",\"('mean_chunk-07fb7f34089888c3d90dbe100111c90b', 3, 2, 1)\",\"('diffraction_pattern-integrate_fourier_space-mean_chunk-07fb7f34089888c3d90dbe100111c90b', 3, 5, 0)\",\"('mean_chunk-07fb7f34089888c3d90dbe100111c90b', 3, 2, 7)\",\"('diffraction_pattern-integrate_fourier_space-mean_chunk-07fb7f34089888c3d90dbe100111c90b', 3, 5, 1)\",\"('mean_chunk-07fb7f34089888c3d90dbe100111c90b', 3, 3, 7)\",\"('mean_chunk-07fb7f34089888c3d90dbe100111c90b', 3, 2, 3)\",\"('diffraction_pattern-integrate_fourier_space-mean_chunk-07fb7f34089888c3d90dbe100111c90b', 3, 5, 2)\",\"('diffraction_pattern-integrate_fourier_space-mean_chunk-07fb7f34089888c3d90dbe100111c90b', 3, 5, 3)\",\"('mean_chunk-07fb7f34089888c3d90dbe100111c90b', 3, 2, 4)\",\"('mean_chunk-07fb7f34089888c3d90dbe100111c90b', 3, 2, 5)\",\"('diffraction_pattern-integrate_fourier_space-mean_chunk-07fb7f34089888c3d90dbe100111c90b', 3, 5, 4)\",\"('diffraction_pattern-integrate_fourier_space-mean_chunk-07fb7f34089888c3d90dbe100111c90b', 3, 5, 6)\",\"('mean_chunk-07fb7f34089888c3d90dbe100111c90b', 3, 3, 0)\",\"('mean_chunk-07fb7f34089888c3d90dbe100111c90b', 3, 2, 6)\",\"('diffraction_pattern-integrate_fourier_space-mean_chunk-07fb7f34089888c3d90dbe100111c90b', 3, 5, 7)\",\"('diffraction_pattern-integrate_fourier_space-mean_chunk-07fb7f34089888c3d90dbe100111c90b', 3, 6, 0)\",\"('mean_chunk-07fb7f34089888c3d90dbe100111c90b', 3, 3, 5)\",\"('mean_chunk-07fb7f34089888c3d90dbe100111c90b', 3, 3, 1)\",\"('diffraction_pattern-integrate_fourier_space-mean_chunk-07fb7f34089888c3d90dbe100111c90b', 3, 6, 1)\",\"('diffraction_pattern-integrate_fourier_space-mean_chunk-07fb7f34089888c3d90dbe100111c90b', 3, 6, 2)\",\"('mean_chunk-07fb7f34089888c3d90dbe100111c90b', 3, 4, 1)\",\"('diffraction_pattern-integrate_fourier_space-mean_chunk-07fb7f34089888c3d90dbe100111c90b', 3, 6, 3)\",\"('mean_chunk-07fb7f34089888c3d90dbe100111c90b', 3, 3, 2)\",\"('diffraction_pattern-integrate_fourier_space-mean_chunk-07fb7f34089888c3d90dbe100111c90b', 3, 6, 4)\",\"('mean_chunk-07fb7f34089888c3d90dbe100111c90b', 3, 3, 6)\",\"('mean_chunk-07fb7f34089888c3d90dbe100111c90b', 3, 4, 0)\",\"('diffraction_pattern-integrate_fourier_space-mean_chunk-07fb7f34089888c3d90dbe100111c90b', 3, 6, 5)\",\"('diffraction_pattern-integrate_fourier_space-mean_chunk-07fb7f34089888c3d90dbe100111c90b', 3, 6, 7)\",\"('mean_chunk-07fb7f34089888c3d90dbe100111c90b', 3, 4, 2)\",\"('diffraction_pattern-integrate_fourier_space-mean_chunk-07fb7f34089888c3d90dbe100111c90b', 3, 7, 0)\",\"('mean_chunk-07fb7f34089888c3d90dbe100111c90b', 3, 4, 3)\",\"('mean_chunk-07fb7f34089888c3d90dbe100111c90b', 3, 3, 4)\",\"('diffraction_pattern-integrate_fourier_space-mean_chunk-07fb7f34089888c3d90dbe100111c90b', 3, 7, 1)\",\"('diffraction_pattern-integrate_fourier_space-mean_chunk-07fb7f34089888c3d90dbe100111c90b', 3, 7, 2)\",\"('mean_chunk-07fb7f34089888c3d90dbe100111c90b', 3, 4, 5)\",\"('diffraction_pattern-integrate_fourier_space-mean_chunk-07fb7f34089888c3d90dbe100111c90b', 3, 7, 3)\",\"('mean_chunk-07fb7f34089888c3d90dbe100111c90b', 3, 4, 6)\",\"('diffraction_pattern-integrate_fourier_space-mean_chunk-07fb7f34089888c3d90dbe100111c90b', 3, 7, 4)\",\"('mean_chunk-07fb7f34089888c3d90dbe100111c90b', 3, 4, 7)\",\"('diffraction_pattern-integrate_fourier_space-mean_chunk-07fb7f34089888c3d90dbe100111c90b', 3, 7, 5)\",\"('mean_chunk-07fb7f34089888c3d90dbe100111c90b', 3, 5, 0)\",\"('diffraction_pattern-integrate_fourier_space-mean_chunk-07fb7f34089888c3d90dbe100111c90b', 3, 7, 6)\",\"('mean_chunk-07fb7f34089888c3d90dbe100111c90b', 3, 5, 1)\",\"('diffraction_pattern-integrate_fourier_space-mean_chunk-07fb7f34089888c3d90dbe100111c90b', 2, 1, 1)\",\"('mean_chunk-07fb7f34089888c3d90dbe100111c90b', 3, 5, 7)\",\"('diffraction_pattern-integrate_fourier_space-mean_chunk-07fb7f34089888c3d90dbe100111c90b', 2, 2, 2)\",\"('mean_chunk-07fb7f34089888c3d90dbe100111c90b', 3, 6, 7)\",\"('diffraction_pattern-integrate_fourier_space-mean_chunk-07fb7f34089888c3d90dbe100111c90b', 2, 3, 3)\",\"('mean_chunk-07fb7f34089888c3d90dbe100111c90b', 3, 5, 3)\",\"('diffraction_pattern-integrate_fourier_space-mean_chunk-07fb7f34089888c3d90dbe100111c90b', 2, 4, 4)\",\"('mean_chunk-07fb7f34089888c3d90dbe100111c90b', 3, 7, 1)\",\"('mean_chunk-07fb7f34089888c3d90dbe100111c90b', 3, 7, 2)\",\"('mean_chunk-07fb7f34089888c3d90dbe100111c90b', 3, 7, 3)\",\"('diffraction_pattern-integrate_fourier_space-mean_chunk-07fb7f34089888c3d90dbe100111c90b', 2, 5, 5)\",\"('diffraction_pattern-integrate_fourier_space-mean_chunk-07fb7f34089888c3d90dbe100111c90b', 2, 6, 6)\",\"('diffraction_pattern-integrate_fourier_space-mean_chunk-07fb7f34089888c3d90dbe100111c90b', 2, 7, 7)\",\"('mean_chunk-07fb7f34089888c3d90dbe100111c90b', 3, 7, 0)\",\"('mean_chunk-07fb7f34089888c3d90dbe100111c90b', 3, 5, 2)\",\"('diffraction_pattern-integrate_fourier_space-mean_chunk-07fb7f34089888c3d90dbe100111c90b', 2, 0, 1)\",\"('diffraction_pattern-integrate_fourier_space-mean_chunk-07fb7f34089888c3d90dbe100111c90b', 2, 0, 2)\",\"('mean_chunk-07fb7f34089888c3d90dbe100111c90b', 3, 5, 6)\",\"('diffraction_pattern-integrate_fourier_space-mean_chunk-07fb7f34089888c3d90dbe100111c90b', 2, 0, 3)\",\"('mean_chunk-07fb7f34089888c3d90dbe100111c90b', 3, 5, 4)\",\"('mean_chunk-07fb7f34089888c3d90dbe100111c90b', 3, 6, 2)\",\"('diffraction_pattern-integrate_fourier_space-mean_chunk-07fb7f34089888c3d90dbe100111c90b', 2, 0, 4)\",\"('diffraction_pattern-integrate_fourier_space-mean_chunk-07fb7f34089888c3d90dbe100111c90b', 2, 0, 5)\",\"('mean_chunk-07fb7f34089888c3d90dbe100111c90b', 3, 6, 0)\",\"('mean_chunk-07fb7f34089888c3d90dbe100111c90b', 3, 6, 1)\",\"('diffraction_pattern-integrate_fourier_space-mean_chunk-07fb7f34089888c3d90dbe100111c90b', 2, 0, 6)\",\"('diffraction_pattern-integrate_fourier_space-mean_chunk-07fb7f34089888c3d90dbe100111c90b', 2, 0, 7)\",\"('mean_chunk-07fb7f34089888c3d90dbe100111c90b', 3, 6, 4)\",\"('diffraction_pattern-integrate_fourier_space-mean_chunk-07fb7f34089888c3d90dbe100111c90b', 2, 1, 0)\",\"('mean_chunk-07fb7f34089888c3d90dbe100111c90b', 3, 6, 5)\",\"('diffraction_pattern-integrate_fourier_space-mean_chunk-07fb7f34089888c3d90dbe100111c90b', 2, 1, 2)\",\"('mean_chunk-07fb7f34089888c3d90dbe100111c90b', 3, 6, 3)\",\"('diffraction_pattern-integrate_fourier_space-mean_chunk-07fb7f34089888c3d90dbe100111c90b', 2, 1, 3)\",\"('mean_chunk-07fb7f34089888c3d90dbe100111c90b', 3, 7, 4)\",\"('diffraction_pattern-integrate_fourier_space-mean_chunk-07fb7f34089888c3d90dbe100111c90b', 2, 1, 4)\",\"('mean_chunk-07fb7f34089888c3d90dbe100111c90b', 3, 7, 5)\",\"('diffraction_pattern-integrate_fourier_space-mean_chunk-07fb7f34089888c3d90dbe100111c90b', 2, 1, 5)\",\"('mean_chunk-07fb7f34089888c3d90dbe100111c90b', 3, 7, 6)\",\"('diffraction_pattern-integrate_fourier_space-mean_chunk-07fb7f34089888c3d90dbe100111c90b', 2, 1, 6)\",\"('mean_chunk-07fb7f34089888c3d90dbe100111c90b', 2, 7, 7)\",\"('mean_combine-partial-e3989d1a55527fad8f8cb68b43c86833', 1, 7, 7)\",\"('diffraction_pattern-integrate_fourier_space-mean_chunk-07fb7f34089888c3d90dbe100111c90b', 2, 1, 7)\",\"('mean_chunk-07fb7f34089888c3d90dbe100111c90b', 2, 1, 1)\",\"('mean_combine-partial-e3989d1a55527fad8f8cb68b43c86833', 1, 1, 1)\",\"('diffraction_pattern-integrate_fourier_space-mean_chunk-07fb7f34089888c3d90dbe100111c90b', 2, 2, 0)\",\"('mean_chunk-07fb7f34089888c3d90dbe100111c90b', 2, 0, 7)\",\"('mean_combine-partial-e3989d1a55527fad8f8cb68b43c86833', 1, 0, 7)\",\"('diffraction_pattern-integrate_fourier_space-mean_chunk-07fb7f34089888c3d90dbe100111c90b', 2, 2, 1)\",\"('mean_chunk-07fb7f34089888c3d90dbe100111c90b', 2, 2, 2)\",\"('mean_combine-partial-e3989d1a55527fad8f8cb68b43c86833', 1, 2, 2)\",\"('diffraction_pattern-integrate_fourier_space-mean_chunk-07fb7f34089888c3d90dbe100111c90b', 2, 2, 3)\",\"('mean_chunk-07fb7f34089888c3d90dbe100111c90b', 2, 4, 4)\",\"('mean_combine-partial-e3989d1a55527fad8f8cb68b43c86833', 1, 4, 4)\",\"('diffraction_pattern-integrate_fourier_space-mean_chunk-07fb7f34089888c3d90dbe100111c90b', 2, 2, 4)\",\"('mean_chunk-07fb7f34089888c3d90dbe100111c90b', 2, 5, 5)\",\"('mean_combine-partial-e3989d1a55527fad8f8cb68b43c86833', 1, 5, 5)\",\"('diffraction_pattern-integrate_fourier_space-mean_chunk-07fb7f34089888c3d90dbe100111c90b', 2, 2, 5)\",\"('mean_chunk-07fb7f34089888c3d90dbe100111c90b', 2, 6, 6)\",\"('mean_chunk-07fb7f34089888c3d90dbe100111c90b', 2, 0, 2)\",\"('mean_chunk-07fb7f34089888c3d90dbe100111c90b', 2, 3, 3)\",\"('mean_combine-partial-e3989d1a55527fad8f8cb68b43c86833', 1, 6, 6)\",\"('mean_combine-partial-e3989d1a55527fad8f8cb68b43c86833', 1, 0, 2)\",\"('mean_combine-partial-e3989d1a55527fad8f8cb68b43c86833', 1, 3, 3)\",\"('diffraction_pattern-integrate_fourier_space-mean_chunk-07fb7f34089888c3d90dbe100111c90b', 2, 2, 6)\",\"('diffraction_pattern-integrate_fourier_space-mean_chunk-07fb7f34089888c3d90dbe100111c90b', 2, 2, 7)\",\"('diffraction_pattern-integrate_fourier_space-mean_chunk-07fb7f34089888c3d90dbe100111c90b', 2, 3, 0)\",\"('mean_chunk-07fb7f34089888c3d90dbe100111c90b', 2, 0, 1)\",\"('mean_chunk-07fb7f34089888c3d90dbe100111c90b', 2, 0, 4)\",\"('mean_combine-partial-e3989d1a55527fad8f8cb68b43c86833', 1, 0, 1)\",\"('mean_combine-partial-e3989d1a55527fad8f8cb68b43c86833', 1, 0, 4)\",\"('diffraction_pattern-integrate_fourier_space-mean_chunk-07fb7f34089888c3d90dbe100111c90b', 2, 3, 1)\",\"('mean_chunk-07fb7f34089888c3d90dbe100111c90b', 2, 0, 5)\",\"('diffraction_pattern-integrate_fourier_space-mean_chunk-07fb7f34089888c3d90dbe100111c90b', 2, 3, 2)\",\"('mean_combine-partial-e3989d1a55527fad8f8cb68b43c86833', 1, 0, 5)\",\"('mean_chunk-07fb7f34089888c3d90dbe100111c90b', 2, 0, 3)\",\"('diffraction_pattern-integrate_fourier_space-mean_chunk-07fb7f34089888c3d90dbe100111c90b', 2, 3, 4)\",\"('mean_combine-partial-e3989d1a55527fad8f8cb68b43c86833', 1, 0, 3)\",\"('mean_chunk-07fb7f34089888c3d90dbe100111c90b', 2, 1, 0)\",\"('mean_chunk-07fb7f34089888c3d90dbe100111c90b', 2, 0, 6)\",\"('diffraction_pattern-integrate_fourier_space-mean_chunk-07fb7f34089888c3d90dbe100111c90b', 2, 3, 5)\",\"('mean_chunk-07fb7f34089888c3d90dbe100111c90b', 2, 1, 3)\",\"('mean_chunk-07fb7f34089888c3d90dbe100111c90b', 2, 1, 2)\",\"('mean_combine-partial-e3989d1a55527fad8f8cb68b43c86833', 1, 1, 0)\",\"('mean_combine-partial-e3989d1a55527fad8f8cb68b43c86833', 1, 0, 6)\",\"('mean_combine-partial-e3989d1a55527fad8f8cb68b43c86833', 1, 1, 3)\",\"('mean_combine-partial-e3989d1a55527fad8f8cb68b43c86833', 1, 1, 2)\",\"('diffraction_pattern-integrate_fourier_space-mean_chunk-07fb7f34089888c3d90dbe100111c90b', 2, 3, 6)\",\"('diffraction_pattern-integrate_fourier_space-mean_chunk-07fb7f34089888c3d90dbe100111c90b', 2, 3, 7)\",\"('diffraction_pattern-integrate_fourier_space-mean_chunk-07fb7f34089888c3d90dbe100111c90b', 2, 4, 0)\",\"('diffraction_pattern-integrate_fourier_space-mean_chunk-07fb7f34089888c3d90dbe100111c90b', 2, 4, 1)\",\"('mean_chunk-07fb7f34089888c3d90dbe100111c90b', 2, 1, 4)\",\"('mean_combine-partial-e3989d1a55527fad8f8cb68b43c86833', 1, 1, 4)\",\"('diffraction_pattern-integrate_fourier_space-mean_chunk-07fb7f34089888c3d90dbe100111c90b', 2, 4, 2)\",\"('mean_chunk-07fb7f34089888c3d90dbe100111c90b', 2, 1, 5)\",\"('mean_combine-partial-e3989d1a55527fad8f8cb68b43c86833', 1, 1, 5)\",\"('diffraction_pattern-integrate_fourier_space-mean_chunk-07fb7f34089888c3d90dbe100111c90b', 2, 4, 3)\",\"('mean_chunk-07fb7f34089888c3d90dbe100111c90b', 2, 1, 6)\",\"('mean_combine-partial-e3989d1a55527fad8f8cb68b43c86833', 1, 1, 6)\",\"('diffraction_pattern-integrate_fourier_space-mean_chunk-07fb7f34089888c3d90dbe100111c90b', 2, 4, 5)\",\"('mean_chunk-07fb7f34089888c3d90dbe100111c90b', 2, 1, 7)\",\"('mean_combine-partial-e3989d1a55527fad8f8cb68b43c86833', 1, 1, 7)\",\"('diffraction_pattern-integrate_fourier_space-mean_chunk-07fb7f34089888c3d90dbe100111c90b', 2, 4, 6)\",\"('mean_chunk-07fb7f34089888c3d90dbe100111c90b', 2, 2, 0)\",\"('mean_combine-partial-e3989d1a55527fad8f8cb68b43c86833', 1, 2, 0)\",\"('diffraction_pattern-integrate_fourier_space-mean_chunk-07fb7f34089888c3d90dbe100111c90b', 2, 4, 7)\",\"('mean_chunk-07fb7f34089888c3d90dbe100111c90b', 2, 2, 7)\",\"('mean_combine-partial-e3989d1a55527fad8f8cb68b43c86833', 1, 2, 7)\",\"('diffraction_pattern-integrate_fourier_space-mean_chunk-07fb7f34089888c3d90dbe100111c90b', 2, 5, 0)\",\"('mean_chunk-07fb7f34089888c3d90dbe100111c90b', 2, 2, 3)\",\"('mean_combine-partial-e3989d1a55527fad8f8cb68b43c86833', 1, 2, 3)\",\"('diffraction_pattern-integrate_fourier_space-mean_chunk-07fb7f34089888c3d90dbe100111c90b', 2, 5, 1)\",\"('mean_chunk-07fb7f34089888c3d90dbe100111c90b', 2, 2, 1)\",\"('mean_combine-partial-e3989d1a55527fad8f8cb68b43c86833', 1, 2, 1)\",\"('diffraction_pattern-integrate_fourier_space-mean_chunk-07fb7f34089888c3d90dbe100111c90b', 2, 5, 2)\",\"('mean_chunk-07fb7f34089888c3d90dbe100111c90b', 2, 3, 7)\",\"('mean_combine-partial-e3989d1a55527fad8f8cb68b43c86833', 1, 3, 7)\",\"('diffraction_pattern-integrate_fourier_space-mean_chunk-07fb7f34089888c3d90dbe100111c90b', 2, 5, 3)\",\"('mean_chunk-07fb7f34089888c3d90dbe100111c90b', 2, 2, 4)\",\"('mean_combine-partial-e3989d1a55527fad8f8cb68b43c86833', 1, 2, 4)\",\"('diffraction_pattern-integrate_fourier_space-mean_chunk-07fb7f34089888c3d90dbe100111c90b', 2, 5, 4)\",\"('mean_chunk-07fb7f34089888c3d90dbe100111c90b', 2, 2, 5)\",\"('mean_combine-partial-e3989d1a55527fad8f8cb68b43c86833', 1, 2, 5)\",\"('diffraction_pattern-integrate_fourier_space-mean_chunk-07fb7f34089888c3d90dbe100111c90b', 2, 5, 6)\",\"('mean_chunk-07fb7f34089888c3d90dbe100111c90b', 2, 2, 6)\",\"('mean_combine-partial-e3989d1a55527fad8f8cb68b43c86833', 1, 2, 6)\",\"('diffraction_pattern-integrate_fourier_space-mean_chunk-07fb7f34089888c3d90dbe100111c90b', 2, 5, 7)\",\"('mean_chunk-07fb7f34089888c3d90dbe100111c90b', 2, 3, 0)\",\"('mean_chunk-07fb7f34089888c3d90dbe100111c90b', 2, 3, 1)\",\"('mean_combine-partial-e3989d1a55527fad8f8cb68b43c86833', 1, 3, 0)\",\"('mean_combine-partial-e3989d1a55527fad8f8cb68b43c86833', 1, 3, 1)\",\"('diffraction_pattern-integrate_fourier_space-mean_chunk-07fb7f34089888c3d90dbe100111c90b', 2, 6, 0)\",\"('diffraction_pattern-integrate_fourier_space-mean_chunk-07fb7f34089888c3d90dbe100111c90b', 2, 6, 1)\",\"('mean_chunk-07fb7f34089888c3d90dbe100111c90b', 2, 4, 0)\",\"('mean_chunk-07fb7f34089888c3d90dbe100111c90b', 2, 3, 6)\",\"('mean_chunk-07fb7f34089888c3d90dbe100111c90b', 2, 3, 4)\",\"('mean_combine-partial-e3989d1a55527fad8f8cb68b43c86833', 1, 4, 0)\",\"('mean_combine-partial-e3989d1a55527fad8f8cb68b43c86833', 1, 3, 6)\",\"('mean_combine-partial-e3989d1a55527fad8f8cb68b43c86833', 1, 3, 4)\",\"('diffraction_pattern-integrate_fourier_space-mean_chunk-07fb7f34089888c3d90dbe100111c90b', 2, 6, 2)\",\"('mean_chunk-07fb7f34089888c3d90dbe100111c90b', 2, 3, 2)\",\"('mean_chunk-07fb7f34089888c3d90dbe100111c90b', 2, 4, 1)\",\"('mean_chunk-07fb7f34089888c3d90dbe100111c90b', 2, 3, 5)\",\"('diffraction_pattern-integrate_fourier_space-mean_chunk-07fb7f34089888c3d90dbe100111c90b', 2, 6, 3)\",\"('diffraction_pattern-integrate_fourier_space-mean_chunk-07fb7f34089888c3d90dbe100111c90b', 2, 6, 4)\",\"('mean_combine-partial-e3989d1a55527fad8f8cb68b43c86833', 1, 3, 2)\",\"('mean_combine-partial-e3989d1a55527fad8f8cb68b43c86833', 1, 4, 1)\",\"('mean_combine-partial-e3989d1a55527fad8f8cb68b43c86833', 1, 3, 5)\",\"('diffraction_pattern-integrate_fourier_space-mean_chunk-07fb7f34089888c3d90dbe100111c90b', 2, 6, 5)\",\"('diffraction_pattern-integrate_fourier_space-mean_chunk-07fb7f34089888c3d90dbe100111c90b', 2, 6, 7)\",\"('diffraction_pattern-integrate_fourier_space-mean_chunk-07fb7f34089888c3d90dbe100111c90b', 2, 7, 0)\",\"('mean_chunk-07fb7f34089888c3d90dbe100111c90b', 2, 4, 2)\",\"('mean_combine-partial-e3989d1a55527fad8f8cb68b43c86833', 1, 4, 2)\",\"('diffraction_pattern-integrate_fourier_space-mean_chunk-07fb7f34089888c3d90dbe100111c90b', 2, 7, 1)\",\"('mean_chunk-07fb7f34089888c3d90dbe100111c90b', 2, 4, 3)\",\"('mean_combine-partial-e3989d1a55527fad8f8cb68b43c86833', 1, 4, 3)\",\"('diffraction_pattern-integrate_fourier_space-mean_chunk-07fb7f34089888c3d90dbe100111c90b', 2, 7, 2)\",\"('mean_chunk-07fb7f34089888c3d90dbe100111c90b', 2, 4, 5)\",\"('mean_combine-partial-e3989d1a55527fad8f8cb68b43c86833', 1, 4, 5)\",\"('diffraction_pattern-integrate_fourier_space-mean_chunk-07fb7f34089888c3d90dbe100111c90b', 2, 7, 3)\",\"('mean_chunk-07fb7f34089888c3d90dbe100111c90b', 2, 4, 6)\",\"('mean_combine-partial-e3989d1a55527fad8f8cb68b43c86833', 1, 4, 6)\",\"('diffraction_pattern-integrate_fourier_space-mean_chunk-07fb7f34089888c3d90dbe100111c90b', 2, 7, 4)\",\"('mean_chunk-07fb7f34089888c3d90dbe100111c90b', 2, 4, 7)\",\"('mean_combine-partial-e3989d1a55527fad8f8cb68b43c86833', 1, 4, 7)\",\"('diffraction_pattern-integrate_fourier_space-mean_chunk-07fb7f34089888c3d90dbe100111c90b', 2, 7, 5)\",\"('mean_chunk-07fb7f34089888c3d90dbe100111c90b', 2, 5, 7)\",\"('mean_combine-partial-e3989d1a55527fad8f8cb68b43c86833', 1, 5, 7)\",\"('diffraction_pattern-integrate_fourier_space-mean_chunk-07fb7f34089888c3d90dbe100111c90b', 2, 7, 6)\",\"('mean_chunk-07fb7f34089888c3d90dbe100111c90b', 2, 5, 1)\",\"('mean_combine-partial-e3989d1a55527fad8f8cb68b43c86833', 1, 5, 1)\",\"('diffraction_pattern-integrate_fourier_space-mean_chunk-07fb7f34089888c3d90dbe100111c90b', 0, 1, 1)\",\"('mean_chunk-07fb7f34089888c3d90dbe100111c90b', 2, 5, 0)\",\"('mean_combine-partial-e3989d1a55527fad8f8cb68b43c86833', 1, 5, 0)\",\"('diffraction_pattern-integrate_fourier_space-mean_chunk-07fb7f34089888c3d90dbe100111c90b', 0, 2, 2)\",\"('mean_chunk-07fb7f34089888c3d90dbe100111c90b', 2, 5, 2)\",\"('mean_chunk-07fb7f34089888c3d90dbe100111c90b', 2, 6, 7)\",\"('mean_combine-partial-e3989d1a55527fad8f8cb68b43c86833', 1, 5, 2)\",\"('mean_combine-partial-e3989d1a55527fad8f8cb68b43c86833', 1, 6, 7)\",\"('diffraction_pattern-integrate_fourier_space-mean_chunk-07fb7f34089888c3d90dbe100111c90b', 0, 3, 3)\",\"('diffraction_pattern-integrate_fourier_space-mean_chunk-07fb7f34089888c3d90dbe100111c90b', 0, 4, 4)\",\"('mean_chunk-07fb7f34089888c3d90dbe100111c90b', 2, 5, 3)\",\"('mean_combine-partial-e3989d1a55527fad8f8cb68b43c86833', 1, 5, 3)\",\"('diffraction_pattern-integrate_fourier_space-mean_chunk-07fb7f34089888c3d90dbe100111c90b', 0, 5, 5)\",\"('mean_chunk-07fb7f34089888c3d90dbe100111c90b', 2, 7, 0)\",\"('mean_combine-partial-e3989d1a55527fad8f8cb68b43c86833', 1, 7, 0)\",\"('mean_chunk-07fb7f34089888c3d90dbe100111c90b', 2, 5, 6)\",\"('mean_chunk-07fb7f34089888c3d90dbe100111c90b', 2, 7, 1)\",\"('diffraction_pattern-integrate_fourier_space-mean_chunk-07fb7f34089888c3d90dbe100111c90b', 0, 6, 6)\",\"('mean_combine-partial-e3989d1a55527fad8f8cb68b43c86833', 1, 5, 6)\",\"('mean_combine-partial-e3989d1a55527fad8f8cb68b43c86833', 1, 7, 1)\",\"('diffraction_pattern-integrate_fourier_space-mean_chunk-07fb7f34089888c3d90dbe100111c90b', 0, 7, 7)\",\"('diffraction_pattern-integrate_fourier_space-mean_chunk-07fb7f34089888c3d90dbe100111c90b', 0, 0, 1)\",\"('mean_chunk-07fb7f34089888c3d90dbe100111c90b', 2, 5, 4)\",\"('mean_combine-partial-e3989d1a55527fad8f8cb68b43c86833', 1, 5, 4)\",\"('diffraction_pattern-integrate_fourier_space-mean_chunk-07fb7f34089888c3d90dbe100111c90b', 0, 0, 2)\",\"('mean_chunk-07fb7f34089888c3d90dbe100111c90b', 2, 7, 2)\",\"('mean_combine-partial-e3989d1a55527fad8f8cb68b43c86833', 1, 7, 2)\",\"('diffraction_pattern-integrate_fourier_space-mean_chunk-07fb7f34089888c3d90dbe100111c90b', 0, 0, 3)\",\"('mean_chunk-07fb7f34089888c3d90dbe100111c90b', 2, 6, 2)\",\"('mean_chunk-07fb7f34089888c3d90dbe100111c90b', 2, 6, 0)\",\"('mean_combine-partial-e3989d1a55527fad8f8cb68b43c86833', 1, 6, 2)\",\"('mean_combine-partial-e3989d1a55527fad8f8cb68b43c86833', 1, 6, 0)\",\"('diffraction_pattern-integrate_fourier_space-mean_chunk-07fb7f34089888c3d90dbe100111c90b', 0, 0, 4)\",\"('diffraction_pattern-integrate_fourier_space-mean_chunk-07fb7f34089888c3d90dbe100111c90b', 0, 0, 5)\",\"('mean_chunk-07fb7f34089888c3d90dbe100111c90b', 2, 7, 3)\",\"('mean_chunk-07fb7f34089888c3d90dbe100111c90b', 2, 6, 1)\",\"('mean_combine-partial-e3989d1a55527fad8f8cb68b43c86833', 1, 7, 3)\",\"('mean_combine-partial-e3989d1a55527fad8f8cb68b43c86833', 1, 6, 1)\",\"('diffraction_pattern-integrate_fourier_space-mean_chunk-07fb7f34089888c3d90dbe100111c90b', 0, 0, 6)\",\"('diffraction_pattern-integrate_fourier_space-mean_chunk-07fb7f34089888c3d90dbe100111c90b', 0, 0, 7)\",\"('mean_chunk-07fb7f34089888c3d90dbe100111c90b', 2, 6, 3)\",\"('mean_combine-partial-e3989d1a55527fad8f8cb68b43c86833', 1, 6, 3)\",\"('diffraction_pattern-integrate_fourier_space-mean_chunk-07fb7f34089888c3d90dbe100111c90b', 0, 1, 0)\",\"('mean_chunk-07fb7f34089888c3d90dbe100111c90b', 2, 6, 4)\",\"('mean_chunk-07fb7f34089888c3d90dbe100111c90b', 2, 6, 5)\",\"('mean_combine-partial-e3989d1a55527fad8f8cb68b43c86833', 1, 6, 4)\",\"('mean_combine-partial-e3989d1a55527fad8f8cb68b43c86833', 1, 6, 5)\",\"('diffraction_pattern-integrate_fourier_space-mean_chunk-07fb7f34089888c3d90dbe100111c90b', 0, 1, 2)\",\"('diffraction_pattern-integrate_fourier_space-mean_chunk-07fb7f34089888c3d90dbe100111c90b', 0, 1, 3)\",\"('mean_chunk-07fb7f34089888c3d90dbe100111c90b', 2, 7, 4)\",\"('mean_combine-partial-e3989d1a55527fad8f8cb68b43c86833', 1, 7, 4)\",\"('diffraction_pattern-integrate_fourier_space-mean_chunk-07fb7f34089888c3d90dbe100111c90b', 0, 1, 4)\",\"('mean_chunk-07fb7f34089888c3d90dbe100111c90b', 2, 7, 5)\",\"('mean_combine-partial-e3989d1a55527fad8f8cb68b43c86833', 1, 7, 5)\",\"('diffraction_pattern-integrate_fourier_space-mean_chunk-07fb7f34089888c3d90dbe100111c90b', 0, 1, 5)\",\"('mean_chunk-07fb7f34089888c3d90dbe100111c90b', 2, 7, 6)\",\"('mean_combine-partial-e3989d1a55527fad8f8cb68b43c86833', 1, 7, 6)\",\"('diffraction_pattern-integrate_fourier_space-mean_chunk-07fb7f34089888c3d90dbe100111c90b', 0, 1, 6)\",\"('mean_chunk-07fb7f34089888c3d90dbe100111c90b', 0, 7, 7)\",\"('mean_combine-partial-e3989d1a55527fad8f8cb68b43c86833', 0, 7, 7)\",\"('mean_agg-aggregate-3bc3dbd31026808e9d6c45e8722a7ee4', 7, 7)\",\"('diffraction_pattern-integrate_fourier_space-mean_chunk-07fb7f34089888c3d90dbe100111c90b', 0, 1, 7)\",\"('mean_chunk-07fb7f34089888c3d90dbe100111c90b', 0, 2, 2)\",\"('mean_combine-partial-e3989d1a55527fad8f8cb68b43c86833', 0, 2, 2)\",\"('mean_agg-aggregate-3bc3dbd31026808e9d6c45e8722a7ee4', 2, 2)\",\"('mean_chunk-07fb7f34089888c3d90dbe100111c90b', 0, 1, 1)\",\"('diffraction_pattern-integrate_fourier_space-mean_chunk-07fb7f34089888c3d90dbe100111c90b', 0, 2, 0)\",\"('mean_combine-partial-e3989d1a55527fad8f8cb68b43c86833', 0, 1, 1)\",\"('mean_agg-aggregate-3bc3dbd31026808e9d6c45e8722a7ee4', 1, 1)\",\"('diffraction_pattern-integrate_fourier_space-mean_chunk-07fb7f34089888c3d90dbe100111c90b', 0, 2, 1)\",\"('mean_chunk-07fb7f34089888c3d90dbe100111c90b', 0, 0, 7)\",\"('mean_combine-partial-e3989d1a55527fad8f8cb68b43c86833', 0, 0, 7)\",\"('mean_agg-aggregate-3bc3dbd31026808e9d6c45e8722a7ee4', 0, 7)\",\"('diffraction_pattern-integrate_fourier_space-mean_chunk-07fb7f34089888c3d90dbe100111c90b', 0, 2, 3)\",\"('mean_chunk-07fb7f34089888c3d90dbe100111c90b', 0, 3, 3)\",\"('mean_combine-partial-e3989d1a55527fad8f8cb68b43c86833', 0, 3, 3)\",\"('mean_agg-aggregate-3bc3dbd31026808e9d6c45e8722a7ee4', 3, 3)\",\"('diffraction_pattern-integrate_fourier_space-mean_chunk-07fb7f34089888c3d90dbe100111c90b', 0, 2, 4)\",\"('mean_chunk-07fb7f34089888c3d90dbe100111c90b', 0, 5, 5)\",\"('mean_combine-partial-e3989d1a55527fad8f8cb68b43c86833', 0, 5, 5)\",\"('mean_chunk-07fb7f34089888c3d90dbe100111c90b', 0, 4, 4)\",\"('mean_agg-aggregate-3bc3dbd31026808e9d6c45e8722a7ee4', 5, 5)\",\"('mean_combine-partial-e3989d1a55527fad8f8cb68b43c86833', 0, 4, 4)\",\"('diffraction_pattern-integrate_fourier_space-mean_chunk-07fb7f34089888c3d90dbe100111c90b', 0, 2, 5)\",\"('mean_agg-aggregate-3bc3dbd31026808e9d6c45e8722a7ee4', 4, 4)\",\"('diffraction_pattern-integrate_fourier_space-mean_chunk-07fb7f34089888c3d90dbe100111c90b', 0, 2, 6)\",\"('mean_chunk-07fb7f34089888c3d90dbe100111c90b', 0, 6, 6)\",\"('mean_chunk-07fb7f34089888c3d90dbe100111c90b', 0, 0, 2)\",\"('mean_combine-partial-e3989d1a55527fad8f8cb68b43c86833', 0, 6, 6)\",\"('mean_chunk-07fb7f34089888c3d90dbe100111c90b', 0, 0, 1)\",\"('mean_combine-partial-e3989d1a55527fad8f8cb68b43c86833', 0, 0, 2)\",\"('mean_agg-aggregate-3bc3dbd31026808e9d6c45e8722a7ee4', 6, 6)\",\"('mean_combine-partial-e3989d1a55527fad8f8cb68b43c86833', 0, 0, 1)\",\"('mean_agg-aggregate-3bc3dbd31026808e9d6c45e8722a7ee4', 0, 2)\",\"('diffraction_pattern-integrate_fourier_space-mean_chunk-07fb7f34089888c3d90dbe100111c90b', 0, 2, 7)\",\"('mean_agg-aggregate-3bc3dbd31026808e9d6c45e8722a7ee4', 0, 1)\",\"('diffraction_pattern-integrate_fourier_space-mean_chunk-07fb7f34089888c3d90dbe100111c90b', 0, 3, 0)\",\"('mean_chunk-07fb7f34089888c3d90dbe100111c90b', 0, 0, 5)\",\"('diffraction_pattern-integrate_fourier_space-mean_chunk-07fb7f34089888c3d90dbe100111c90b', 0, 3, 1)\",\"('mean_combine-partial-e3989d1a55527fad8f8cb68b43c86833', 0, 0, 5)\",\"('mean_chunk-07fb7f34089888c3d90dbe100111c90b', 0, 0, 3)\",\"('mean_agg-aggregate-3bc3dbd31026808e9d6c45e8722a7ee4', 0, 5)\",\"('mean_combine-partial-e3989d1a55527fad8f8cb68b43c86833', 0, 0, 3)\",\"('mean_chunk-07fb7f34089888c3d90dbe100111c90b', 0, 0, 4)\",\"('mean_chunk-07fb7f34089888c3d90dbe100111c90b', 0, 1, 0)\",\"('diffraction_pattern-integrate_fourier_space-mean_chunk-07fb7f34089888c3d90dbe100111c90b', 0, 3, 2)\",\"('mean_combine-partial-e3989d1a55527fad8f8cb68b43c86833', 0, 0, 4)\",\"('mean_agg-aggregate-3bc3dbd31026808e9d6c45e8722a7ee4', 0, 3)\",\"('mean_combine-partial-e3989d1a55527fad8f8cb68b43c86833', 0, 1, 0)\",\"('mean_chunk-07fb7f34089888c3d90dbe100111c90b', 0, 1, 3)\",\"('mean_chunk-07fb7f34089888c3d90dbe100111c90b', 0, 0, 6)\",\"('diffraction_pattern-integrate_fourier_space-mean_chunk-07fb7f34089888c3d90dbe100111c90b', 0, 3, 4)\",\"('mean_agg-aggregate-3bc3dbd31026808e9d6c45e8722a7ee4', 0, 4)\",\"('mean_agg-aggregate-3bc3dbd31026808e9d6c45e8722a7ee4', 1, 0)\",\"('diffraction_pattern-integrate_fourier_space-mean_chunk-07fb7f34089888c3d90dbe100111c90b', 0, 3, 5)\",\"('mean_combine-partial-e3989d1a55527fad8f8cb68b43c86833', 0, 0, 6)\",\"('diffraction_pattern-integrate_fourier_space-mean_chunk-07fb7f34089888c3d90dbe100111c90b', 0, 3, 6)\",\"('diffraction_pattern-integrate_fourier_space-mean_chunk-07fb7f34089888c3d90dbe100111c90b', 0, 3, 7)\",\"('mean_chunk-07fb7f34089888c3d90dbe100111c90b', 0, 1, 2)\",\"('mean_agg-aggregate-3bc3dbd31026808e9d6c45e8722a7ee4', 0, 6)\",\"('mean_combine-partial-e3989d1a55527fad8f8cb68b43c86833', 0, 1, 2)\",\"('diffraction_pattern-integrate_fourier_space-mean_chunk-07fb7f34089888c3d90dbe100111c90b', 0, 4, 0)\",\"('mean_agg-aggregate-3bc3dbd31026808e9d6c45e8722a7ee4', 1, 2)\",\"('diffraction_pattern-integrate_fourier_space-mean_chunk-07fb7f34089888c3d90dbe100111c90b', 0, 4, 1)\",\"('mean_chunk-07fb7f34089888c3d90dbe100111c90b', 0, 1, 4)\",\"('diffraction_pattern-integrate_fourier_space-mean_chunk-07fb7f34089888c3d90dbe100111c90b', 0, 4, 2)\",\"('mean_chunk-07fb7f34089888c3d90dbe100111c90b', 0, 1, 5)\",\"('diffraction_pattern-integrate_fourier_space-mean_chunk-07fb7f34089888c3d90dbe100111c90b', 0, 4, 3)\",\"('mean_chunk-07fb7f34089888c3d90dbe100111c90b', 0, 1, 7)\",\"('diffraction_pattern-integrate_fourier_space-mean_chunk-07fb7f34089888c3d90dbe100111c90b', 0, 4, 5)\",\"('mean_chunk-07fb7f34089888c3d90dbe100111c90b', 0, 1, 6)\",\"('diffraction_pattern-integrate_fourier_space-mean_chunk-07fb7f34089888c3d90dbe100111c90b', 0, 4, 6)\",\"('mean_chunk-07fb7f34089888c3d90dbe100111c90b', 0, 2, 0)\",\"('diffraction_pattern-integrate_fourier_space-mean_chunk-07fb7f34089888c3d90dbe100111c90b', 0, 4, 7)\",\"('mean_chunk-07fb7f34089888c3d90dbe100111c90b', 0, 2, 1)\",\"('diffraction_pattern-integrate_fourier_space-mean_chunk-07fb7f34089888c3d90dbe100111c90b', 0, 5, 0)\",\"('mean_chunk-07fb7f34089888c3d90dbe100111c90b', 0, 2, 3)\",\"('diffraction_pattern-integrate_fourier_space-mean_chunk-07fb7f34089888c3d90dbe100111c90b', 0, 5, 1)\",\"('mean_chunk-07fb7f34089888c3d90dbe100111c90b', 0, 2, 7)\",\"('diffraction_pattern-integrate_fourier_space-mean_chunk-07fb7f34089888c3d90dbe100111c90b', 0, 5, 2)\",\"('mean_chunk-07fb7f34089888c3d90dbe100111c90b', 0, 3, 7)\",\"('diffraction_pattern-integrate_fourier_space-mean_chunk-07fb7f34089888c3d90dbe100111c90b', 0, 5, 3)\",\"('mean_chunk-07fb7f34089888c3d90dbe100111c90b', 0, 2, 4)\",\"('diffraction_pattern-integrate_fourier_space-mean_chunk-07fb7f34089888c3d90dbe100111c90b', 0, 5, 4)\",\"('mean_chunk-07fb7f34089888c3d90dbe100111c90b', 0, 2, 5)\",\"('diffraction_pattern-integrate_fourier_space-mean_chunk-07fb7f34089888c3d90dbe100111c90b', 0, 5, 6)\",\"('mean_chunk-07fb7f34089888c3d90dbe100111c90b', 0, 2, 6)\",\"('diffraction_pattern-integrate_fourier_space-mean_chunk-07fb7f34089888c3d90dbe100111c90b', 0, 5, 7)\",\"('mean_chunk-07fb7f34089888c3d90dbe100111c90b', 0, 3, 0)\",\"('diffraction_pattern-integrate_fourier_space-mean_chunk-07fb7f34089888c3d90dbe100111c90b', 0, 6, 0)\",\"('mean_chunk-07fb7f34089888c3d90dbe100111c90b', 0, 3, 2)\",\"('mean_chunk-07fb7f34089888c3d90dbe100111c90b', 0, 3, 4)\",\"('diffraction_pattern-integrate_fourier_space-mean_chunk-07fb7f34089888c3d90dbe100111c90b', 0, 6, 1)\",\"('diffraction_pattern-integrate_fourier_space-mean_chunk-07fb7f34089888c3d90dbe100111c90b', 0, 6, 2)\",\"('mean_chunk-07fb7f34089888c3d90dbe100111c90b', 0, 3, 1)\",\"('diffraction_pattern-integrate_fourier_space-mean_chunk-07fb7f34089888c3d90dbe100111c90b', 0, 6, 3)\",\"('mean_chunk-07fb7f34089888c3d90dbe100111c90b', 0, 4, 1)\",\"('mean_chunk-07fb7f34089888c3d90dbe100111c90b', 0, 3, 6)\",\"('mean_chunk-07fb7f34089888c3d90dbe100111c90b', 0, 3, 5)\",\"('diffraction_pattern-integrate_fourier_space-mean_chunk-07fb7f34089888c3d90dbe100111c90b', 0, 6, 4)\",\"('diffraction_pattern-integrate_fourier_space-mean_chunk-07fb7f34089888c3d90dbe100111c90b', 0, 6, 5)\",\"('diffraction_pattern-integrate_fourier_space-mean_chunk-07fb7f34089888c3d90dbe100111c90b', 0, 6, 7)\",\"('mean_chunk-07fb7f34089888c3d90dbe100111c90b', 0, 4, 0)\",\"('diffraction_pattern-integrate_fourier_space-mean_chunk-07fb7f34089888c3d90dbe100111c90b', 0, 7, 0)\",\"('mean_chunk-07fb7f34089888c3d90dbe100111c90b', 0, 4, 2)\",\"('diffraction_pattern-integrate_fourier_space-mean_chunk-07fb7f34089888c3d90dbe100111c90b', 0, 7, 1)\",\"('mean_chunk-07fb7f34089888c3d90dbe100111c90b', 0, 4, 3)\",\"('diffraction_pattern-integrate_fourier_space-mean_chunk-07fb7f34089888c3d90dbe100111c90b', 0, 7, 2)\",\"('mean_chunk-07fb7f34089888c3d90dbe100111c90b', 0, 4, 5)\",\"('diffraction_pattern-integrate_fourier_space-mean_chunk-07fb7f34089888c3d90dbe100111c90b', 0, 7, 3)\",\"('mean_chunk-07fb7f34089888c3d90dbe100111c90b', 0, 4, 6)\",\"('diffraction_pattern-integrate_fourier_space-mean_chunk-07fb7f34089888c3d90dbe100111c90b', 0, 7, 4)\",\"('mean_chunk-07fb7f34089888c3d90dbe100111c90b', 0, 4, 7)\",\"('diffraction_pattern-integrate_fourier_space-mean_chunk-07fb7f34089888c3d90dbe100111c90b', 0, 7, 5)\",\"('mean_chunk-07fb7f34089888c3d90dbe100111c90b', 0, 5, 7)\",\"('diffraction_pattern-integrate_fourier_space-mean_chunk-07fb7f34089888c3d90dbe100111c90b', 0, 7, 6)\",\"('mean_chunk-07fb7f34089888c3d90dbe100111c90b', 0, 5, 0)\",\"('diffraction_pattern-integrate_fourier_space-mean_chunk-07fb7f34089888c3d90dbe100111c90b', 1, 1, 3)\",\"('mean_chunk-07fb7f34089888c3d90dbe100111c90b', 0, 5, 1)\",\"('diffraction_pattern-integrate_fourier_space-mean_chunk-07fb7f34089888c3d90dbe100111c90b', 1, 1, 4)\",\"('mean_chunk-07fb7f34089888c3d90dbe100111c90b', 0, 7, 0)\",\"('diffraction_pattern-integrate_fourier_space-mean_chunk-07fb7f34089888c3d90dbe100111c90b', 1, 1, 5)\",\"('mean_chunk-07fb7f34089888c3d90dbe100111c90b', 0, 7, 1)\",\"('mean_chunk-07fb7f34089888c3d90dbe100111c90b', 0, 5, 2)\",\"('diffraction_pattern-integrate_fourier_space-mean_chunk-07fb7f34089888c3d90dbe100111c90b', 1, 1, 6)\",\"('diffraction_pattern-integrate_fourier_space-mean_chunk-07fb7f34089888c3d90dbe100111c90b', 1, 1, 7)\",\"('mean_chunk-07fb7f34089888c3d90dbe100111c90b', 0, 7, 2)\",\"('diffraction_pattern-integrate_fourier_space-mean_chunk-07fb7f34089888c3d90dbe100111c90b', 1, 2, 0)\",\"('mean_chunk-07fb7f34089888c3d90dbe100111c90b', 0, 6, 7)\",\"('diffraction_pattern-integrate_fourier_space-mean_chunk-07fb7f34089888c3d90dbe100111c90b', 1, 2, 1)\",\"('mean_chunk-07fb7f34089888c3d90dbe100111c90b', 0, 5, 3)\",\"('diffraction_pattern-integrate_fourier_space-mean_chunk-07fb7f34089888c3d90dbe100111c90b', 1, 2, 3)\",\"('mean_chunk-07fb7f34089888c3d90dbe100111c90b', 0, 5, 4)\",\"('mean_chunk-07fb7f34089888c3d90dbe100111c90b', 0, 5, 6)\",\"('diffraction_pattern-integrate_fourier_space-mean_chunk-07fb7f34089888c3d90dbe100111c90b', 1, 2, 4)\",\"('diffraction_pattern-integrate_fourier_space-mean_chunk-07fb7f34089888c3d90dbe100111c90b', 1, 2, 5)\",\"('mean_chunk-07fb7f34089888c3d90dbe100111c90b', 0, 6, 1)\",\"('mean_chunk-07fb7f34089888c3d90dbe100111c90b', 0, 6, 3)\",\"('diffraction_pattern-integrate_fourier_space-mean_chunk-07fb7f34089888c3d90dbe100111c90b', 1, 2, 6)\",\"('mean_chunk-07fb7f34089888c3d90dbe100111c90b', 0, 6, 2)\",\"('mean_chunk-07fb7f34089888c3d90dbe100111c90b', 0, 6, 0)\",\"('mean_chunk-07fb7f34089888c3d90dbe100111c90b', 0, 6, 4)\",\"('diffraction_pattern-integrate_fourier_space-mean_chunk-07fb7f34089888c3d90dbe100111c90b', 1, 2, 7)\",\"('diffraction_pattern-integrate_fourier_space-mean_chunk-07fb7f34089888c3d90dbe100111c90b', 1, 3, 0)\",\"('diffraction_pattern-integrate_fourier_space-mean_chunk-07fb7f34089888c3d90dbe100111c90b', 1, 3, 1)\",\"('diffraction_pattern-integrate_fourier_space-mean_chunk-07fb7f34089888c3d90dbe100111c90b', 1, 3, 2)\",\"('mean_chunk-07fb7f34089888c3d90dbe100111c90b', 0, 6, 5)\",\"('diffraction_pattern-integrate_fourier_space-mean_chunk-07fb7f34089888c3d90dbe100111c90b', 1, 3, 4)\",\"('mean_chunk-07fb7f34089888c3d90dbe100111c90b', 0, 7, 3)\",\"('diffraction_pattern-integrate_fourier_space-mean_chunk-07fb7f34089888c3d90dbe100111c90b', 1, 3, 5)\",\"('mean_chunk-07fb7f34089888c3d90dbe100111c90b', 0, 7, 4)\",\"('diffraction_pattern-integrate_fourier_space-mean_chunk-07fb7f34089888c3d90dbe100111c90b', 1, 3, 6)\",\"('mean_chunk-07fb7f34089888c3d90dbe100111c90b', 0, 7, 5)\",\"('diffraction_pattern-integrate_fourier_space-mean_chunk-07fb7f34089888c3d90dbe100111c90b', 1, 3, 7)\",\"('mean_chunk-07fb7f34089888c3d90dbe100111c90b', 0, 7, 6)\",\"('diffraction_pattern-integrate_fourier_space-mean_chunk-07fb7f34089888c3d90dbe100111c90b', 1, 4, 0)\",\"('mean_chunk-07fb7f34089888c3d90dbe100111c90b', 1, 1, 7)\",\"('mean_combine-partial-e3989d1a55527fad8f8cb68b43c86833', 0, 1, 7)\",\"('mean_agg-aggregate-3bc3dbd31026808e9d6c45e8722a7ee4', 1, 7)\",\"('diffraction_pattern-integrate_fourier_space-mean_chunk-07fb7f34089888c3d90dbe100111c90b', 1, 4, 1)\",\"('mean_chunk-07fb7f34089888c3d90dbe100111c90b', 1, 1, 3)\",\"('mean_combine-partial-e3989d1a55527fad8f8cb68b43c86833', 0, 1, 3)\",\"('mean_chunk-07fb7f34089888c3d90dbe100111c90b', 1, 1, 4)\",\"('mean_agg-aggregate-3bc3dbd31026808e9d6c45e8722a7ee4', 1, 3)\",\"('mean_combine-partial-e3989d1a55527fad8f8cb68b43c86833', 0, 1, 4)\",\"('diffraction_pattern-integrate_fourier_space-mean_chunk-07fb7f34089888c3d90dbe100111c90b', 1, 4, 2)\",\"('mean_agg-aggregate-3bc3dbd31026808e9d6c45e8722a7ee4', 1, 4)\",\"('diffraction_pattern-integrate_fourier_space-mean_chunk-07fb7f34089888c3d90dbe100111c90b', 1, 4, 3)\",\"('mean_chunk-07fb7f34089888c3d90dbe100111c90b', 1, 2, 0)\",\"('mean_chunk-07fb7f34089888c3d90dbe100111c90b', 1, 1, 5)\",\"('mean_combine-partial-e3989d1a55527fad8f8cb68b43c86833', 0, 2, 0)\",\"('mean_combine-partial-e3989d1a55527fad8f8cb68b43c86833', 0, 1, 5)\",\"('mean_agg-aggregate-3bc3dbd31026808e9d6c45e8722a7ee4', 2, 0)\",\"('mean_agg-aggregate-3bc3dbd31026808e9d6c45e8722a7ee4', 1, 5)\",\"('diffraction_pattern-integrate_fourier_space-mean_chunk-07fb7f34089888c3d90dbe100111c90b', 1, 4, 5)\",\"('mean_chunk-07fb7f34089888c3d90dbe100111c90b', 1, 1, 6)\",\"('diffraction_pattern-integrate_fourier_space-mean_chunk-07fb7f34089888c3d90dbe100111c90b', 1, 4, 6)\",\"('mean_chunk-07fb7f34089888c3d90dbe100111c90b', 1, 2, 7)\",\"('mean_combine-partial-e3989d1a55527fad8f8cb68b43c86833', 0, 1, 6)\",\"('mean_combine-partial-e3989d1a55527fad8f8cb68b43c86833', 0, 2, 7)\",\"('mean_agg-aggregate-3bc3dbd31026808e9d6c45e8722a7ee4', 1, 6)\",\"('mean_agg-aggregate-3bc3dbd31026808e9d6c45e8722a7ee4', 2, 7)\",\"('diffraction_pattern-integrate_fourier_space-mean_chunk-07fb7f34089888c3d90dbe100111c90b', 1, 4, 7)\",\"('diffraction_pattern-integrate_fourier_space-mean_chunk-07fb7f34089888c3d90dbe100111c90b', 1, 5, 0)\",\"('mean_chunk-07fb7f34089888c3d90dbe100111c90b', 1, 2, 1)\",\"('mean_combine-partial-e3989d1a55527fad8f8cb68b43c86833', 0, 2, 1)\",\"('mean_agg-aggregate-3bc3dbd31026808e9d6c45e8722a7ee4', 2, 1)\",\"('diffraction_pattern-integrate_fourier_space-mean_chunk-07fb7f34089888c3d90dbe100111c90b', 1, 5, 1)\",\"('mean_chunk-07fb7f34089888c3d90dbe100111c90b', 1, 2, 3)\",\"('mean_chunk-07fb7f34089888c3d90dbe100111c90b', 1, 2, 5)\",\"('mean_combine-partial-e3989d1a55527fad8f8cb68b43c86833', 0, 2, 3)\",\"('mean_combine-partial-e3989d1a55527fad8f8cb68b43c86833', 0, 2, 5)\",\"('mean_agg-aggregate-3bc3dbd31026808e9d6c45e8722a7ee4', 2, 3)\",\"('mean_agg-aggregate-3bc3dbd31026808e9d6c45e8722a7ee4', 2, 5)\",\"('mean_chunk-07fb7f34089888c3d90dbe100111c90b', 1, 2, 4)\",\"('diffraction_pattern-integrate_fourier_space-mean_chunk-07fb7f34089888c3d90dbe100111c90b', 1, 5, 2)\",\"('diffraction_pattern-integrate_fourier_space-mean_chunk-07fb7f34089888c3d90dbe100111c90b', 1, 5, 3)\",\"('mean_combine-partial-e3989d1a55527fad8f8cb68b43c86833', 0, 2, 4)\",\"('mean_chunk-07fb7f34089888c3d90dbe100111c90b', 1, 3, 7)\",\"('mean_agg-aggregate-3bc3dbd31026808e9d6c45e8722a7ee4', 2, 4)\",\"('mean_combine-partial-e3989d1a55527fad8f8cb68b43c86833', 0, 3, 7)\",\"('diffraction_pattern-integrate_fourier_space-mean_chunk-07fb7f34089888c3d90dbe100111c90b', 1, 5, 4)\",\"('mean_agg-aggregate-3bc3dbd31026808e9d6c45e8722a7ee4', 3, 7)\",\"('diffraction_pattern-integrate_fourier_space-mean_chunk-07fb7f34089888c3d90dbe100111c90b', 1, 5, 6)\",\"('mean_chunk-07fb7f34089888c3d90dbe100111c90b', 1, 2, 6)\",\"('mean_combine-partial-e3989d1a55527fad8f8cb68b43c86833', 0, 2, 6)\",\"('mean_agg-aggregate-3bc3dbd31026808e9d6c45e8722a7ee4', 2, 6)\",\"('diffraction_pattern-integrate_fourier_space-mean_chunk-07fb7f34089888c3d90dbe100111c90b', 1, 5, 7)\",\"('mean_chunk-07fb7f34089888c3d90dbe100111c90b', 1, 3, 0)\",\"('mean_chunk-07fb7f34089888c3d90dbe100111c90b', 1, 3, 2)\",\"('mean_combine-partial-e3989d1a55527fad8f8cb68b43c86833', 0, 3, 0)\",\"('mean_chunk-07fb7f34089888c3d90dbe100111c90b', 1, 3, 1)\",\"('mean_chunk-07fb7f34089888c3d90dbe100111c90b', 1, 3, 4)\",\"('mean_combine-partial-e3989d1a55527fad8f8cb68b43c86833', 0, 3, 2)\",\"('mean_agg-aggregate-3bc3dbd31026808e9d6c45e8722a7ee4', 3, 0)\",\"('mean_combine-partial-e3989d1a55527fad8f8cb68b43c86833', 0, 3, 1)\",\"('mean_combine-partial-e3989d1a55527fad8f8cb68b43c86833', 0, 3, 4)\",\"('mean_agg-aggregate-3bc3dbd31026808e9d6c45e8722a7ee4', 3, 2)\",\"('diffraction_pattern-integrate_fourier_space-mean_chunk-07fb7f34089888c3d90dbe100111c90b', 1, 6, 0)\",\"('mean_chunk-07fb7f34089888c3d90dbe100111c90b', 1, 3, 5)\",\"('mean_agg-aggregate-3bc3dbd31026808e9d6c45e8722a7ee4', 3, 1)\",\"('mean_agg-aggregate-3bc3dbd31026808e9d6c45e8722a7ee4', 3, 4)\",\"('diffraction_pattern-integrate_fourier_space-mean_chunk-07fb7f34089888c3d90dbe100111c90b', 1, 6, 1)\",\"('mean_combine-partial-e3989d1a55527fad8f8cb68b43c86833', 0, 3, 5)\",\"('diffraction_pattern-integrate_fourier_space-mean_chunk-07fb7f34089888c3d90dbe100111c90b', 1, 6, 2)\",\"('diffraction_pattern-integrate_fourier_space-mean_chunk-07fb7f34089888c3d90dbe100111c90b', 1, 6, 3)\",\"('mean_agg-aggregate-3bc3dbd31026808e9d6c45e8722a7ee4', 3, 5)\",\"('diffraction_pattern-integrate_fourier_space-mean_chunk-07fb7f34089888c3d90dbe100111c90b', 1, 6, 4)\",\"('mean_chunk-07fb7f34089888c3d90dbe100111c90b', 1, 3, 6)\",\"('mean_combine-partial-e3989d1a55527fad8f8cb68b43c86833', 0, 3, 6)\",\"('mean_agg-aggregate-3bc3dbd31026808e9d6c45e8722a7ee4', 3, 6)\",\"('diffraction_pattern-integrate_fourier_space-mean_chunk-07fb7f34089888c3d90dbe100111c90b', 1, 6, 5)\",\"('mean_chunk-07fb7f34089888c3d90dbe100111c90b', 1, 4, 0)\",\"('mean_combine-partial-e3989d1a55527fad8f8cb68b43c86833', 0, 4, 0)\",\"('mean_agg-aggregate-3bc3dbd31026808e9d6c45e8722a7ee4', 4, 0)\",\"('diffraction_pattern-integrate_fourier_space-mean_chunk-07fb7f34089888c3d90dbe100111c90b', 1, 6, 7)\",\"('mean_chunk-07fb7f34089888c3d90dbe100111c90b', 1, 4, 1)\",\"('mean_combine-partial-e3989d1a55527fad8f8cb68b43c86833', 0, 4, 1)\",\"('mean_agg-aggregate-3bc3dbd31026808e9d6c45e8722a7ee4', 4, 1)\",\"('diffraction_pattern-integrate_fourier_space-mean_chunk-07fb7f34089888c3d90dbe100111c90b', 1, 7, 0)\",\"('mean_chunk-07fb7f34089888c3d90dbe100111c90b', 1, 4, 7)\",\"('mean_combine-partial-e3989d1a55527fad8f8cb68b43c86833', 0, 4, 7)\",\"('mean_agg-aggregate-3bc3dbd31026808e9d6c45e8722a7ee4', 4, 7)\",\"('diffraction_pattern-integrate_fourier_space-mean_chunk-07fb7f34089888c3d90dbe100111c90b', 1, 7, 1)\",\"('mean_chunk-07fb7f34089888c3d90dbe100111c90b', 1, 5, 7)\",\"('mean_combine-partial-e3989d1a55527fad8f8cb68b43c86833', 0, 5, 7)\",\"('mean_agg-aggregate-3bc3dbd31026808e9d6c45e8722a7ee4', 5, 7)\",\"('diffraction_pattern-integrate_fourier_space-mean_chunk-07fb7f34089888c3d90dbe100111c90b', 1, 7, 2)\",\"('mean_chunk-07fb7f34089888c3d90dbe100111c90b', 1, 4, 3)\",\"('mean_combine-partial-e3989d1a55527fad8f8cb68b43c86833', 0, 4, 3)\",\"('mean_chunk-07fb7f34089888c3d90dbe100111c90b', 1, 4, 5)\",\"('mean_agg-aggregate-3bc3dbd31026808e9d6c45e8722a7ee4', 4, 3)\",\"('mean_combine-partial-e3989d1a55527fad8f8cb68b43c86833', 0, 4, 5)\",\"('diffraction_pattern-integrate_fourier_space-mean_chunk-07fb7f34089888c3d90dbe100111c90b', 1, 7, 3)\",\"('mean_agg-aggregate-3bc3dbd31026808e9d6c45e8722a7ee4', 4, 5)\",\"('diffraction_pattern-integrate_fourier_space-mean_chunk-07fb7f34089888c3d90dbe100111c90b', 1, 7, 4)\",\"('mean_chunk-07fb7f34089888c3d90dbe100111c90b', 1, 4, 2)\",\"('mean_combine-partial-e3989d1a55527fad8f8cb68b43c86833', 0, 4, 2)\",\"('mean_agg-aggregate-3bc3dbd31026808e9d6c45e8722a7ee4', 4, 2)\",\"('diffraction_pattern-integrate_fourier_space-mean_chunk-07fb7f34089888c3d90dbe100111c90b', 1, 7, 5)\",\"('mean_chunk-07fb7f34089888c3d90dbe100111c90b', 1, 5, 0)\",\"('mean_combine-partial-e3989d1a55527fad8f8cb68b43c86833', 0, 5, 0)\",\"('mean_agg-aggregate-3bc3dbd31026808e9d6c45e8722a7ee4', 5, 0)\",\"('diffraction_pattern-integrate_fourier_space-mean_chunk-07fb7f34089888c3d90dbe100111c90b', 1, 7, 6)\",\"('mean_chunk-07fb7f34089888c3d90dbe100111c90b', 1, 4, 6)\",\"('mean_combine-partial-e3989d1a55527fad8f8cb68b43c86833', 0, 4, 6)\",\"('mean_agg-aggregate-3bc3dbd31026808e9d6c45e8722a7ee4', 4, 6)\",\"('mean_chunk-07fb7f34089888c3d90dbe100111c90b', 1, 5, 1)\",\"('mean_combine-partial-e3989d1a55527fad8f8cb68b43c86833', 0, 5, 1)\",\"('mean_agg-aggregate-3bc3dbd31026808e9d6c45e8722a7ee4', 5, 1)\",\"('mean_chunk-07fb7f34089888c3d90dbe100111c90b', 1, 5, 4)\",\"('mean_combine-partial-e3989d1a55527fad8f8cb68b43c86833', 0, 5, 4)\",\"('mean_chunk-07fb7f34089888c3d90dbe100111c90b', 1, 5, 2)\",\"('mean_agg-aggregate-3bc3dbd31026808e9d6c45e8722a7ee4', 5, 4)\",\"('mean_combine-partial-e3989d1a55527fad8f8cb68b43c86833', 0, 5, 2)\",\"('mean_agg-aggregate-3bc3dbd31026808e9d6c45e8722a7ee4', 5, 2)\",\"('mean_chunk-07fb7f34089888c3d90dbe100111c90b', 1, 5, 3)\",\"('mean_combine-partial-e3989d1a55527fad8f8cb68b43c86833', 0, 5, 3)\",\"('mean_agg-aggregate-3bc3dbd31026808e9d6c45e8722a7ee4', 5, 3)\",\"('mean_chunk-07fb7f34089888c3d90dbe100111c90b', 1, 5, 6)\",\"('mean_combine-partial-e3989d1a55527fad8f8cb68b43c86833', 0, 5, 6)\",\"('mean_agg-aggregate-3bc3dbd31026808e9d6c45e8722a7ee4', 5, 6)\",\"('mean_chunk-07fb7f34089888c3d90dbe100111c90b', 1, 6, 4)\",\"('mean_combine-partial-e3989d1a55527fad8f8cb68b43c86833', 0, 6, 4)\",\"('mean_agg-aggregate-3bc3dbd31026808e9d6c45e8722a7ee4', 6, 4)\",\"('mean_chunk-07fb7f34089888c3d90dbe100111c90b', 1, 6, 0)\",\"('mean_combine-partial-e3989d1a55527fad8f8cb68b43c86833', 0, 6, 0)\",\"('mean_chunk-07fb7f34089888c3d90dbe100111c90b', 1, 6, 2)\",\"('mean_agg-aggregate-3bc3dbd31026808e9d6c45e8722a7ee4', 6, 0)\",\"('mean_chunk-07fb7f34089888c3d90dbe100111c90b', 1, 6, 3)\",\"('mean_combine-partial-e3989d1a55527fad8f8cb68b43c86833', 0, 6, 2)\",\"('mean_combine-partial-e3989d1a55527fad8f8cb68b43c86833', 0, 6, 3)\",\"('mean_agg-aggregate-3bc3dbd31026808e9d6c45e8722a7ee4', 6, 2)\",\"('mean_agg-aggregate-3bc3dbd31026808e9d6c45e8722a7ee4', 6, 3)\",\"('mean_chunk-07fb7f34089888c3d90dbe100111c90b', 1, 6, 1)\",\"('mean_combine-partial-e3989d1a55527fad8f8cb68b43c86833', 0, 6, 1)\",\"('mean_agg-aggregate-3bc3dbd31026808e9d6c45e8722a7ee4', 6, 1)\",\"('mean_chunk-07fb7f34089888c3d90dbe100111c90b', 1, 6, 5)\",\"('mean_combine-partial-e3989d1a55527fad8f8cb68b43c86833', 0, 6, 5)\",\"('mean_agg-aggregate-3bc3dbd31026808e9d6c45e8722a7ee4', 6, 5)\",\"('mean_chunk-07fb7f34089888c3d90dbe100111c90b', 1, 6, 7)\",\"('mean_combine-partial-e3989d1a55527fad8f8cb68b43c86833', 0, 6, 7)\",\"('mean_agg-aggregate-3bc3dbd31026808e9d6c45e8722a7ee4', 6, 7)\",\"('mean_chunk-07fb7f34089888c3d90dbe100111c90b', 1, 7, 0)\",\"('mean_combine-partial-e3989d1a55527fad8f8cb68b43c86833', 0, 7, 0)\",\"('mean_agg-aggregate-3bc3dbd31026808e9d6c45e8722a7ee4', 7, 0)\",\"('mean_chunk-07fb7f34089888c3d90dbe100111c90b', 1, 7, 1)\",\"('mean_combine-partial-e3989d1a55527fad8f8cb68b43c86833', 0, 7, 1)\",\"('mean_agg-aggregate-3bc3dbd31026808e9d6c45e8722a7ee4', 7, 1)\",\"('mean_chunk-07fb7f34089888c3d90dbe100111c90b', 1, 7, 2)\",\"('mean_combine-partial-e3989d1a55527fad8f8cb68b43c86833', 0, 7, 2)\",\"('mean_agg-aggregate-3bc3dbd31026808e9d6c45e8722a7ee4', 7, 2)\",\"('mean_chunk-07fb7f34089888c3d90dbe100111c90b', 1, 7, 3)\",\"('mean_combine-partial-e3989d1a55527fad8f8cb68b43c86833', 0, 7, 3)\",\"('mean_agg-aggregate-3bc3dbd31026808e9d6c45e8722a7ee4', 7, 3)\",\"('mean_chunk-07fb7f34089888c3d90dbe100111c90b', 1, 7, 4)\",\"('mean_combine-partial-e3989d1a55527fad8f8cb68b43c86833', 0, 7, 4)\",\"('mean_agg-aggregate-3bc3dbd31026808e9d6c45e8722a7ee4', 7, 4)\",\"('mean_chunk-07fb7f34089888c3d90dbe100111c90b', 1, 7, 5)\",\"('mean_combine-partial-e3989d1a55527fad8f8cb68b43c86833', 0, 7, 5)\",\"('mean_agg-aggregate-3bc3dbd31026808e9d6c45e8722a7ee4', 7, 5)\",\"('mean_chunk-07fb7f34089888c3d90dbe100111c90b', 1, 7, 6)\",\"('mean_combine-partial-e3989d1a55527fad8f8cb68b43c86833', 0, 7, 6)\",\"('mean_agg-aggregate-3bc3dbd31026808e9d6c45e8722a7ee4', 7, 6)\"],\"width\":[0.0028758710000005294,0.0018695470000018588,0.0018149669999978357,0.0018584550000007027,0.0008807829999994965,0.10542035099999936,0.12669262900000078,0.14985083999999915,1.9897234410000024,1.9028513449999984,1.874779145999998,1.9160173789999995,1.9046739259999974,2.041494315999998,1.973930536000001,1.2866402390000005,1.8632978789999974,1.9428656839999974,1.986355870999997,1.9532589070000022,1.8530419770000002,1.948914276,1.5327214049999967,1.8583423990000014,1.922826158999996,1.8884882880000013,1.858930892,1.8467171409999992,0.015431615999993653,1.6976185230000027,0.0027225009999938266,1.6729270180000029,0.008197305999999571,0.010433769999998788,1.6537365840000007,0.00910653600000444,1.6539205939999988,1.7230622849999975,0.011849769999997761,1.7839956930000014,0.005018122999999264,0.004708329999999705,1.1881278500000008,1.7227413689999977,0.012889237999999636,0.011433002000003967,1.6913989959999967,1.758264595,0.008915979999997603,0.005512199000001772,1.8116331610000032,0.00836510199999907,1.703420855999994,1.7877492719999992,0.023164485999998874,0.015469078999998942,0.016504386999997678,0.029378590000000315,0.02892131800000186,0.04168765499999694,1.3695543810000004,1.7304123480000015,1.6865311099999971,1.6975304010000016,0.022039978999998766,0.011300286999997411,0.029182607000002747,1.6799925999999985,0.029163303999993673,1.714665328999999,1.6880555780000037,0.0016886859999942772,1.4849231729999985,0.016601713999996548,1.7005140799999978,0.00789583000000249,1.7463833839999978,0.009813983000000803,1.837184151999999,0.006593870999999751,1.8380088919999977,0.0136700480000016,1.824900501000002,0.002959889999999632,1.903171534000002,0.006818990999995833,1.5077201280000025,0.008603857999993636,1.858172770000003,0.00851207000000187,1.8655417359999973,0.007633081000001596,1.8954400770000035,0.00643111699999821,0.010182320999994943,1.9329041220000036,1.8259852609999996,0.012646164999999598,0.009393490999997312,1.8549554670000035,0.010757206999997493,1.4715253490000038,1.8511366099999975,0.017358375000000592,0.008498523999996621,0.021758722000001285,1.7930981259999967,1.8394433349999986,0.011013136999999062,1.836080557999999,1.8529374479999987,0.00771897699999613,1.5913610019999993,0.0025087010000035548,1.4594596379999984,0.009051680999995426,1.5398478589999982,0.007559878999998659,1.6201026939999963,0.012991823000000124,0.028293074000004026,1.8224292219999967,1.6858307250000024,0.014928128000001095,0.02028539399999829,1.7267688019999952,1.7005951659999994,0.006314741000004176,0.005519872000000703,1.3310970100000006,1.6320552429999964,0.004689489000000435,0.011047890000000393,1.6208997999999966,1.5649660659999967,0.0059320169999992345,1.6904534190000007,0.007714712000002066,1.5887758500000047,0.011144974000004026,0.004081284000001517,1.6093885880000016,1.2975290839999971,0.0026332329999974036,1.4141415590000008,0.010641994000003763,0.008456789000000242,1.3639296740000049,1.363162490999997,0.014830366999994737,1.3419080290000025,0.0028023910000030128,1.3166237630000026,0.001614404000001457,1.2457887069999956,0.003120179999996253,1.2164593180000054,0.005285499999999388,1.571964396999995,0.001998626000002446,1.7126796539999987,0.012601261999996893,1.8483373749999998,0.010627155000001665,1.6573919160000017,0.009680533999997465,0.01201539999999568,0.00903672199999761,1.6776113720000012,1.726331860000002,1.1688889539999963,0.013956765999999732,0.011010692999995797,1.7488651729999987,1.697366450000004,0.004395275000000254,1.7483458130000002,0.008159913999996604,0.012129792999999722,1.6888110330000004,1.6947612630000037,0.01952347799999643,0.007211262000005547,1.7077025489999968,1.3307703699999962,0.017577850000002115,1.6711129040000046,0.020560883999998225,1.6535408749999974,0.008817787999994664,1.6064266539999963,0.003703594000000976,1.6193589630000034,0.0077476669999967385,1.6232477929999973,0.007945438000000138,1.454751181000006,0.017560454000005166,0.007882092000002672,1.344887854999996,0.009542239000005281,0.00667795800000448,1.6607515160000048,0.0030146439999967356,0.004337321000001282,1.7010082290000028,0.004235352000002024,0.002693639999996833,1.5936210160000002,0.0033655719999998723,0.0061173779999990074,1.6947037690000002,0.006419168999997282,0.0038484960000033652,1.6356399199999956,0.017404488000003937,0.013263957999996023,0.009372865999999647,0.013799736999999368,0.015533082999994008,0.01965472799999901,1.6590058540000001,1.3514008900000007,1.7140510839999976,0.010836057999995319,0.01249591399999872,0.012194436999998004,0.006082782999996539,1.691653321000004,0.011536514999995973,1.7566801939999976,0.022827304999999853,0.018882944000004898,1.7138120079999979,0.01395314999999897,0.02857521700000376,0.024563978000003317,1.7138885609999974,0.02305757099999539,0.01951784399999923,0.014433599999996716,0.015440284000000304,0.018548838000000956,0.03526295700000048,1.6617372360000005,1.3594714079999974,1.646143991999999,1.6431561460000026,0.01398585500000138,0.009524597999998718,1.6318771030000008,0.003944601000000603,0.00527167800000683,1.6043403450000042,0.02387574600000164,0.01102510399999801,1.6624733650000039,0.0016921180000011304,0.0037982320000011782,1.5197018150000048,0.0033435120000007146,0.004121904000001564,1.2753725489999965,0.004120377999996094,0.003859107000003803,1.6388410739999983,0.005092763000000389,0.007818366000002186,1.5407300410000033,0.004760565999994526,0.003822131999996259,1.6051700209999993,0.0021681769999943867,0.002081912000001296,1.6059346360000006,0.004086680999996872,0.00488080400000257,1.735265278,0.0034156970000012166,0.00903070700000086,1.5956425720000027,0.017873923000003344,0.004342096999998546,1.2280390200000042,0.010509513999998887,0.004369603999997196,0.004885893000000863,0.008118859999996175,1.5861782209999973,1.6187189580000023,0.004944961999996167,0.004566089999997303,0.006685701000002098,0.007078610999997181,0.023721264000002407,0.017750358999997218,1.5208769620000027,0.027182478000000287,0.0295533200000051,0.029178883000000155,1.5680656319999997,1.589293491999996,0.014337847000000181,0.014356304999999736,0.009732502000005638,1.5670459209999947,1.1981098190000026,1.3086451399999959,0.008462735999998472,0.00619715099999496,1.2448014,0.010474846000001037,0.006612137000004736,1.2899541749999983,0.001991940999999997,0.0023600869999995666,1.237741063999998,0.0030145610000005263,0.00337461099999814,1.2338470919999978,0.010870057000005318,0.0023933750000040277,1.167224662999999,0.004122345000006078,0.0059607179999972,1.278236591999999,0.00804383300000211,0.01352000199999992,1.648900249999997,0.003409267000002103,0.0073772289999993745,1.5717187309999971,0.005115404999997963,0.006596111000000349,0.011343543999998928,0.02064689099999839,1.6483834180000017,1.7126047040000003,0.005734291000003111,0.012619039000000498,1.6575317120000008,0.004899987999998245,0.009065476000003514,0.008703607000001057,0.016034550000000536,1.730561496,0.01952297300000083,0.012597483999996939,1.0681486990000053,1.7128230929999972,0.00924795999999617,0.007381715000001066,1.618655013999998,0.006711680000002218,0.009978291999999556,1.6652980630000016,0.0124377779999989,0.007986860000002594,0.00480603500000143,0.010415696999999113,1.6594897189999998,1.6107640449999963,0.004354886999998087,0.007037642999996763,0.007125629999997329,0.004304380000000663,1.6542054280000045,1.298833965,0.010042269999999576,0.005314516999995078,1.6013984780000001,0.009964209999999696,0.010536516999998469,0.007673580999998819,0.008392108000002452,1.6440372310000058,1.5966516499999983,0.011658918000001961,0.004842584000002148,1.6157808849999995,0.002252178000006211,0.00589348900000175,1.4822337919999953,0.0024566319999976827,0.00189010300000092,1.4736681269999963,0.0031946260000026427,0.009778154000002814,0.006296763000001704,1.3258937840000016,0.004171577000001037,0.00582205500000299,0.011885953000003724,0.00887357000000577,1.5923269170000012,0.0100172440000037,0.016626861000005988,1.632407803999996,0.005024985999995124,0.005654034999999169,0.0035753310000004035,1.5925615799999946,0.005313579999999263,0.010995415000003561,0.017773288000000775,1.671004302,0.0031728829999977393,0.005416986999996709,0.01384619699999945,0.018745632999994655,0.013070540999997604,1.671473939000002,0.019031867000002478,1.6799745160000015,0.0062018220000013,0.0067346260000036295,0.014510423999993805,0.01372563700000029,0.01725178199999533,0.011537770000003889,0.014175781000005827,0.01995179400000069,1.380824258000004,0.025429738999996232,1.6789285389999975,0.013713137000003428,1.6948461599999973,0.015417019000004473,0.009638604000002715,0.017860498000004554,0.026542806999998447,0.012778332000003445,0.02011237399999999,1.6422343469999987,0.029050442999995596,0.010789783999996416,0.02462951599999741,0.023180977000002656,0.02405694899999844,1.6216112359999997,0.024751926000000424,0.022958865999996192,1.652668949999999,0.027646904000000916,1.636371674000003,1.3104214670000047,0.021721187999993674,0.013507662000002085,0.0034316180000004692,1.6300041959999945,0.012923995999997828,1.5832172510000007,0.006363221000000863,1.5650780009999963,0.010225012999995897,1.5693109730000003,0.0026276899999970738,1.5448600240000019,0.0050121820000015305,1.6074016900000032,0.010634537999997917,1.19228356,0.00478290500000611,1.5729957390000067,0.009528084999999464,1.6359421550000022,0.015030031999998528,1.640645665000001,0.0032347729999955277,1.6876972720000012,0.025666634000003796,1.7101759979999969,0.0049345880000046805,1.677348820000006,0.014471282000002361,1.2600876480000025,0.004644681000002038,1.6465518079999981,0.008666511000001265,0.007375781000000359,1.6036448090000022,1.6128105849999983,0.024013078999999493,1.5788750050000004,0.01306663500000127,0.006268384999998489,0.012606296000001294,1.5787452900000005,1.6252897389999958,1.3186174610000023,0.006897455000000718,1.218616480999998,0.0031823409999987007,1.2065984540000017,0.005374356000004354,1.2404968829999987,0.0029991950000010092,1.2249887349999966,0.0015171659999992926,1.203970905999995,0.008843459000004827,1.164926856000001,0.007873185000001115,1.3238871869999969,0.007428103000002295,1.633055730999999,0.005481991999999991,1.567640163,0.009091770000004828,1.626026931999995,0.01248627300000038,0.0032669389999995246,1.6289798119999972,1.198198687999998,0.004982171000001756,1.5512873599999963,0.007442797999999584,1.6432458670000045,0.013797407000005535,1.6791330350000067,0.019057576999998105,0.013967159000003448,1.6159866859999994,1.5926251090000036,0.009679807999994239,0.0242704240000009,1.5901324700000004,0.01819118799999586,0.01734521899999919,0.018110795999994878,1.3240379269999991,1.6109826940000005,1.6294615849999943,1.612175274000002,0.004682894999994858,1.5968893419999972,0.005213824000001921,1.5612244420000039,0.01136298200000141,1.556964244999996,0.006992375999999467,1.229210026000004,0.0020429909999961637,1.4762596059999993,0.0021290209999946796,0.002335266999999419,0.008813637999999457,1.586166507999998,0.0035475140000045258,0.011596920000002342,0.006402555000001087,0.007486157000002436,0.010547083999995266,1.7095722769999995,0.01039257400000082,1.6446295099999944,0.00953394600000479,0.00754125499999958,0.004808232000002022,0.005950640999998313,0.00567564099999629,0.007280676999997127,1.5823496069999976,0.01214940900000272,1.7113877760000022,0.011107935000005398,0.01847158700000051,0.014927056000004768,0.014181489000002045,0.01656569499999705,1.2597102909999975,1.6255913039999967,0.012120594000002427,0.004978561000001491,0.00399416799999841,1.655320996999997,0.006332794999998725,0.0030955809999966277,0.0106975079999998,0.012251696999996398,0.00899336500000203,0.007942796999998336,0.01776431700000103,1.6228249259999998,1.640242145000002,0.01543466000000393,0.01683947699999777,0.01740926499999773,0.014602582999998504,1.5590855239999968,0.009070932999996728,1.5901335340000031,0.010705465999997443,0.007237113999998712,0.0049133019999985095,1.147147941,0.024995680000003517,0.021976340000001926,0.013388023000004523,0.012748211999998205,0.010453807000004645,0.010729422000004263,0.008789616000001388,0.01730634999999836,0.017832409000000382,0.019737156999994454,1.5229663300000027,0.023000799999998378,0.021373603000000685,0.025089035000000592,1.5215808739999943,0.014586580999996102,1.4953241380000009,1.490425603999995,0.018028546000003587,1.452065073,0.005389606000001379,0.005014750000000845,0.007432238999996343,1.4248037559999958,0.0028886660000040365,0.0028022420000013426,0.005108219000000247,1.004743886,0.003974319000001003,0.0038663660000040068,0.001975792999999726,0.8957166499999971,0.0018132940000015196,0.0015016060000050402,0.0028294609999974796,0.8196491970000039,0.0025040180000033274,0.005676340000000835,0.01065770099999952,0.7442097509999996,0.002828719000000035,0.014492201000003035,0.01877944800000364,0.01559396700000093,0.007678935000001275,0.6204138390000011,0.005842412999996327,0.6187579019999987,0.009604520999999977,0.008819724000005635,0.007855674000005308,0.5876366359999992,0.003235174999993262,0.008818131999994705,0.007649309999997911,0.5505462230000049,0.008198333999999363,0.005078924999999401,0.007705887000000189,0.0020475330000024883,0.009079020000001492,0.014308731999996382,0.010915943999997069,0.00871793700000012,0.005904774999997642,0.007412719000001289,0.004250583999997559,0.0036578880000064373,0.0033343950000030986,0.002566813000001389,0.006060480999998674,0.004393026000002465,0.006696525999998926,0.0058113899999980845,0.002478527000000952,0.00191247000000061,0.005319848999995713,0.001959675999998467,0.0029847739999979694,0.00367219700000021,0.006046505000000479,0.0029439779999975713,0.004083559000001458,0.0036298499999958267,0.002906588000001875,0.002284369000001618,0.0007845740000007595,0.0006884509999949273,0.0010860979999947062,0.001567279999996174,0.0010310220000064874,0.0008214799999990419,0.0006318500000048743,0.0005476039999976479,0.0007460120000004622,0.0006105869999970537,0.00044966899999820953,0.000594720999998799,0.0005788650000013718,0.0005741849999978399,0.0005087830000007898,0.0005624160000010647,0.000554307999998116,0.0004757339999983401,0.000651190000006352,0.0006578409999988821,0.0006000119999995945,0.0007092410000026916,0.0005679879999931359,0.0006543179999951576,0.0004022250000019767,0.00043662699999913457,0.0004646309999998266,0.0004863559999961353,0.00045371300000596193,0.0005192160000007107],\"x\":[0.0014379355000002647,0.0022559795000027805,0.0024739284999988342,0.0026120204999990904,0.0033221344999994074,0.055904650500000486,0.06673074650000288,0.07846937700000112,0.9986270765,0.9553652734999964,0.9415818110000025,0.9623201075000019,0.9567528049999972,1.0252650579999987,0.9915848220000036,0.6480621944999996,0.9365375414999981,0.9764972969999981,0.9985122154999964,0.9820851494999978,0.9320814604999974,0.9801355050000033,0.7722185384999989,0.9351725495000025,0.9675537194999997,1.0528674779999996,1.0595554919999977,1.0767625965,1.2991228550000038,2.1556670004999994,1.5399605755000003,2.377807200000003,1.8627153960000022,1.8695717890000019,2.6936961759999996,1.872751761,2.7017582939999976,2.738846104500002,1.8849070989999994,2.782843578500003,1.9093147785000006,1.9114514069999977,2.5059002290000016,2.775185764500005,1.926781131000002,1.934690829000001,2.778940493000004,2.8195476205,1.9523972829999998,1.9573559005000014,2.8626814245,1.9629113489999988,2.8118266530000007,2.860977678000001,1.9901406860000002,1.996765140499999,1.9999511014999989,2.0081869819999945,2.0115803040000024,2.020974888500003,2.686508224499999,2.8697386579999993,2.8514792650000054,2.8716507554999957,2.037070015500003,2.047479256500001,2.0606136844999945,2.8880962799999956,2.067718265,2.9325480745000014,2.9263375770000017,3.0053497510000007,3.7486751545000025,3.1082859469999953,3.9668729779999943,3.2182411530000046,4.095395993,3.376220678500001,4.299739734999999,3.5238845845000064,4.446201620999997,3.5355709220000016,4.454881942499998,3.6018685500000025,4.5549493360000035,3.6280707285000027,4.385351322999998,3.6408773060000037,4.574276504999997,3.667810924999994,4.604860468999998,3.678669087499994,4.630219306499999,3.697972292499994,3.7037793974999964,4.667650743999996,4.621871967500002,3.726748743500007,3.732801522500001,4.660560278499997,3.7403313145000006,4.473270259500001,4.671290025000001,3.7635443665000032,3.7727565589999976,3.781257327999999,4.668781946999996,4.696738987500002,3.7953970814999956,4.710194534000006,4.727387525999998,4.4950131515,5.294567830000002,4.818417325500004,5.549426788999998,4.973129662499996,5.747593791500005,5.143014031499998,5.956869375,5.2155519555000005,5.232493791,6.13327653,6.0895682624999985,5.372689496000003,5.377493595000001,6.243562729000001,6.237956069000003,5.506531048500005,5.509306719000005,6.175247640999995,6.328112152500001,5.537230448500001,5.543167583999999,6.350035708000004,6.331187779,5.568310321500004,6.4165161205000025,5.581808775999999,6.3800635969999995,5.5936186580000005,5.5989086060000055,6.403895256000002,6.249722849000005,5.617790052500002,6.326192174499997,5.633567574999997,5.638340681499994,6.320863704000001,6.324162290500002,5.661284593499996,6.339679159500005,6.091669648499998,6.751405018500005,6.2799905589999945,6.903708863499997,6.5190934160000005,7.1289054279999995,6.769582642,7.558221188499996,6.841812604000001,7.699168011999998,6.904815135000003,7.835305158500002,6.9378121505000045,7.771834702000003,7.0076937579999985,7.011760569,7.015162154999995,7.851352352000003,7.880954757999998,7.604134855000002,7.040250956000005,7.050005571500005,7.921670778499998,7.904204199999999,7.090473156500007,7.966874347499999,7.111042265000005,7.119756737500001,7.959535698500002,7.9732116385000005,7.153911709999999,7.164103632000003,8.017533549499998,7.833106249,7.183250283000003,8.027619014999996,7.218885367999999,8.055946336499996,7.266163450000004,8.073810621000003,7.411589084999999,8.223131832499998,7.530493566499995,8.346007029499997,7.741130402000007,8.4725001545,8.197399723,8.210138877999999,8.886558151500001,8.349005098499998,8.357144486999996,9.190895471000001,8.500013703000004,8.503705482500006,9.356395229500006,8.557650039000006,8.561142322000006,9.359316466,8.602242877999995,8.607012053999998,9.457455626500003,8.693386506500001,8.698545509999999,9.518321300999997,8.752834876000005,8.759529181000001,8.764174809000007,8.768457073499999,8.7739369805,8.778695257000006,9.604867909000003,9.457412144,9.645558261000001,8.801531897,8.810199004999998,8.813054591500002,8.819498256500001,9.664986091500001,8.826368597500004,9.700890486999999,8.843560652499999,8.850499664999997,9.711895144999996,8.866927709999995,8.877475157499997,8.883676204,9.730858678499995,8.888568601500001,8.892514466999994,8.898988381999995,8.903686321000006,8.909386897000001,8.919911576500002,9.737084782999997,9.591152481000005,9.741748365000003,9.759135621999999,9.039834268499998,9.051601311999999,9.872316157500006,9.159618139500001,9.164241510999997,9.969089751500004,9.211831405000002,9.229307160000001,10.066074576499997,9.559867457999996,9.562626465000005,10.3243975295,10.022965289000002,10.026716988,10.6664873125,10.135202551999999,10.139228820500005,10.960594259,10.158692028499996,10.165176214999999,10.939473186499999,10.209298091000004,10.213607999,11.018130098500006,10.271998151499997,10.274144001999996,11.078170541000002,10.306874322500004,10.311370086999997,11.181468255999999,10.337862336500006,10.3441128015,11.146474936,10.443323907499998,10.454474248500002,11.070692879000003,10.507876152999994,10.513028399000003,10.515584696499996,10.519285094,11.311127607500001,11.332717487,10.567316838,10.570244173999999,10.572148461500003,10.573336674500002,10.584395497,10.584375275500005,11.337322181000001,10.592830963,10.595497765000001,10.6023998515,11.377294598000002,11.390917138999999,10.6136006855,10.617459375500001,10.621864063,11.404310460499996,11.223714977500006,11.28106996,10.692504203999999,10.6998661105,11.325386804999997,10.776513657999995,10.785080045499999,11.433380403500006,10.898334119500003,10.9005347065,11.520605463999996,11.085790469500001,11.089016077500002,11.707668585000004,11.3096378605,11.316304224499998,11.9011317245,11.686789780500003,11.691844204999999,12.333966116000003,11.713875505500003,11.724676822000003,12.555909201000002,11.781749393500004,11.787156153500003,12.576718311499999,11.8232910935,11.826090597499995,11.831530284,11.839720996500002,12.661417147999995,12.706359996,11.884045686499999,11.893246100499997,12.728338364999995,11.937854999000006,11.944856798,11.948656961500003,11.955832429,12.814681488000002,11.962783598500007,11.970157537999999,12.506633624500001,12.832882320500001,12.053736881999999,12.062062778500003,12.875106997,12.081724653999995,12.090084741999998,12.927731427500003,12.103987439000004,12.108217538999998,12.112618858500003,12.117426752499998,12.944775997499999,12.928025873500001,12.141674013500005,12.145605673499997,12.147423373999995,12.151313859999998,12.978098212000003,12.802896823500003,12.166356324000002,12.174050943500003,12.977431402000004,12.190557441999996,12.193112523500002,12.199383689500007,12.202586034000003,13.025251315499997,13.005115413999999,12.330436439999996,12.338696777,13.149026567499998,12.485887623,12.4899704055,13.234049878000004,12.974329747999999,12.976531701500004,13.7143259795,13.042331224000005,13.048849657000002,13.056903365500002,13.723025132,13.3646840935,13.369708441500006,13.3785820475,13.384814705,14.180696727500003,13.394273398999996,13.4076093645,14.232140744999999,13.454841106,13.460199524499995,13.464844213499997,14.262939735,13.488277633999996,13.496450597499997,13.51085025,14.355265028999998,13.558710193500001,13.563025452499996,13.569597276500001,13.5751223275,13.583070889500004,14.420245625499998,13.599133218499997,14.448650419,13.683094051999998,13.687815187999998,13.693457057,13.6961639925,13.699818309000005,13.706490393,13.7101248355,13.718431497999998,14.402683622000001,13.729940449500003,14.5678809775,13.740273920499998,14.590087280999999,13.754851056499998,13.765207997000001,13.771497698000001,13.7833071865,13.780918053000004,13.788194545000007,14.601553321500003,13.801840567500005,13.801985984000002,13.810572665999995,13.815040949499998,13.817238263499998,14.618199684,13.828749849000001,13.834379568,14.652976754000004,13.843104133999997,14.659325415000001,14.501083105499998,13.858142937999997,13.863690092999999,13.870736095999998,14.685456409999997,13.878922172,14.677009592499996,13.9601261255,14.745860062499997,13.980295415499999,14.770077474500003,14.387308633,15.161070751,14.453688574999997,15.259914300000002,14.982195135999998,15.583678519,15.050751860499997,15.8396641635,15.063995746500002,15.886745559499996,15.100623371999998,15.928474714499995,15.157934946500003,16.003417113999998,15.2036226,16.071579308,15.258474387000003,16.099633729,15.295899381999998,15.933205179999998,15.4096774185,16.235308323,15.4270149685,15.432703402500007,16.233182009500002,16.242804342500005,15.4495229775,16.2509781795,15.475161214500002,15.480653904499999,15.485621579,16.271076052,16.2964441105,16.151247156500002,15.503916026499997,16.1166841025,15.530002443499999,16.134909259,15.557441199,16.1803881335,15.935021258499997,16.5490362025,16.064397961999997,16.6671541,16.1842667865,16.771168643999996,16.567214560500002,17.2331259755,16.629894955500003,17.450157557500003,16.707470646,17.4940455545,16.730549528999997,17.548124417999997,16.744460242499994,16.750440684500003,17.565202396,17.351182659,16.803151485500006,17.581298428999997,16.814299744,17.6396669065,16.854193218499997,17.7006713275,16.9362111785,16.9453011315,17.753745355000003,17.748609415499995,17.039863207999996,17.052568562,17.839780256,17.058313800000004,17.067264984499996,17.069512276999998,17.726731832500004,17.872912378,17.890677964499996,17.884663975000006,17.111440650499997,17.912236449,17.164165797000006,17.947404502999998,17.274842392999997,18.059018296499996,17.357152649000003,17.975266617,17.8961159445,18.635284410999997,17.951372168499997,17.953617937499995,17.959212458999996,18.756727374000004,18.268485068,18.276075062,18.281085665499997,18.2856295915,18.289569654,19.144173189500005,18.300064093,19.127594361000003,18.361727374,18.364926849500005,18.368916144,18.3716828595,18.3741663405,18.3783131495,19.1681885345,18.3857900005,19.237656526000006,18.394314824499997,18.401113608499994,18.407350476,18.417448590499998,18.4231090355,19.054407626500005,19.244208963000002,18.467361496999995,18.4759451875,18.480442237000002,19.310116236500004,18.543426833500003,18.5464889225,18.551950376000004,18.5541741995,18.561813107499997,18.5642840125,18.570628684499997,19.377734924000006,19.388391399499998,18.587235787999997,18.598300573499994,18.6036680205,18.6140339475,19.391925961000002,18.625884844500003,19.425504698,18.640213087000003,18.649195451999997,18.655279665999995,19.2313318875,18.690910509000002,18.701749063000005,18.7101134115,18.711790199000003,18.7159156435,18.718114952000004,18.721209884,18.726825725999998,18.730068468500004,18.7333559385,19.487096857,18.739525893000003,18.7461732535,18.751540594499996,19.504023094,18.758328893500003,19.504533286999997,19.509308258,18.774651579000004,19.509714642499997,18.840205034000004,18.845423889,18.8516675525,19.567807682000005,19.374880625,19.377743301,19.381709566500003,19.886655494,19.551817826499995,19.555758237000003,19.558702753499997,20.007561856,19.685186884,19.686858929,19.689040807500003,20.1003048235,19.806172705000005,19.810282584000003,19.8184631435,20.195928136499997,19.9513422305,19.960020502499997,19.968767566,19.9750807055,19.9820113625,20.293104009499995,19.9887954515,20.301115114,20.0037710515,20.012994656,20.021359213999997,20.319121687000003,20.058638945500004,20.064678972999996,20.072947757999994,20.352069117500005,20.097465525999997,20.104128778499994,20.110537421500002,20.138821684499998,20.144398503999998,20.156110117999997,20.176940890999997,20.186772751499998,20.192114817499995,20.194850695499998,20.197206258999994,20.201170502,20.210217082500005,20.213180449499998,20.2175101305,20.222773614,20.228330742999997,20.234597165999997,20.236994884500003,20.239201050000002,20.242827971500002,20.249572394,20.252057064000002,20.2540400665,20.2565832555,20.256001491000003,20.257933255500003,20.259297319,20.261438779,20.262263397500003,20.265214439,20.265958229499997,20.266852093999997,20.281005556999997,20.282314097,20.283249054,20.389355956,20.389954264999997,20.390606767000005,20.4557372845,20.456276169499997,20.4568038745,20.510429558500004,20.511012971500005,20.5115600525,20.568324440999998,20.568889265999996,20.569409946000004,20.603646246999997,20.604307195499995,20.604941843000002,20.610858238499997,20.611504645999997,20.612122984999996,20.6131452365,20.613570644499998,20.6140265025,20.627594178,20.628069411500004,20.628561895999997],\"y\":[19,20,20,20,19,19,20,20,2,20,19,9,10,1,4,18,12,7,3,5,15,6,17,14,8,11,13,16,18,18,17,17,14,14,14,12,12,15,19,19,20,20,20,10,8,8,8,7,9,6,5,6,6,4,16,9,3,11,16,9,2,1,13,9,11,11,16,11,16,3,16,18,18,20,20,17,17,2,2,14,14,12,12,15,15,8,8,10,10,6,6,19,19,13,13,13,11,7,7,9,7,7,1,4,5,3,5,3,16,16,4,18,18,20,20,17,17,8,8,2,2,2,7,14,12,12,14,10,10,15,10,11,6,6,11,5,19,5,5,9,9,9,1,3,3,16,16,16,4,13,13,18,18,20,20,17,17,8,8,15,15,1,1,7,7,13,4,13,4,13,16,2,3,3,2,14,14,11,11,11,12,10,10,5,10,6,6,9,9,19,19,18,18,20,20,17,17,16,16,16,8,8,8,10,10,10,15,15,15,7,7,7,4,4,4,13,1,2,13,1,13,1,13,2,11,11,11,11,3,11,14,12,12,12,6,5,19,9,6,19,5,6,19,5,19,11,6,5,18,18,18,20,20,20,17,17,17,16,16,16,8,8,8,13,13,13,15,15,15,10,10,10,11,11,11,7,7,7,4,4,4,1,1,1,2,2,2,2,2,3,6,19,12,19,12,9,19,14,5,9,14,6,9,5,12,9,12,5,18,18,18,20,20,20,17,17,17,16,16,16,8,8,8,1,1,1,15,15,15,13,13,13,10,10,10,10,10,12,11,11,11,5,18,4,5,18,5,5,4,5,7,7,7,20,20,2,20,19,19,19,20,19,17,3,3,17,14,3,17,17,17,9,6,6,6,9,6,16,16,16,8,8,8,1,1,1,4,4,4,4,13,13,13,15,15,13,13,13,3,3,3,3,10,10,10,10,11,11,11,11,11,11,12,12,18,7,5,18,7,5,18,7,5,18,19,7,7,18,2,2,20,17,18,17,18,2,14,2,18,20,6,14,6,14,18,9,14,14,2,2,14,14,16,8,16,16,4,4,1,1,15,15,13,13,3,3,5,5,9,9,10,10,11,11,12,12,19,17,19,19,20,19,7,7,18,14,6,14,6,2,18,18,8,8,16,16,4,4,1,1,15,15,12,12,13,13,3,3,18,5,8,18,18,8,16,2,16,16,9,9,11,11,11,10,7,7,20,14,19,17,7,17,14,19,6,6,4,4,1,1,15,15,12,12,8,8,8,8,13,3,3,3,13,13,3,3,2,2,5,5,2,2,5,18,2,18,18,18,18,18,18,7,16,16,16,16,9,10,9,9,9,11,9,10,11,9,15,15,15,15,9,9,20,20,20,20,17,6,17,14,17,14,6,19,6,17,14,4,17,6,19,17,4,17,6,6,1,1,1,1,12,12,12,12,8,8,8,8,18,18,18,18,20,20,20,20,3,5,3,3,3,3,5,5,13,13,13,13,7,7,7,7,2,2,2,2,2,2,16,10,16,10,16,10,16,10,11,2,15,16,2,15,6,9,10,11,16,6,9,9,15,10,11,16,9,15,10,19,6,14,2,15,10,19,12,16,9,1,15,10,19,18,6,16,2,1,15,10,3,11,12,14]},\"selected\":{\"id\":\"1047\"},\"selection_policy\":{\"id\":\"1046\"}},\"id\":\"1032\",\"type\":\"ColumnDataSource\"},{\"attributes\":{\"callback\":null,\"point_policy\":\"follow_mouse\",\"tooltips\":\"\\n    <div>\\n        <span style=\\\"font-size: 14px; font-weight: bold;\\\">Key:</span>&nbsp;\\n        <span style=\\\"font-size: 10px; font-family: Monaco, monospace;\\\">@key</span>\\n    </div>\\n    <div>\\n        <span style=\\\"font-size: 14px; font-weight: bold;\\\">Task:</span>&nbsp;\\n        <span style=\\\"font-size: 10px; font-family: Monaco, monospace;\\\">@function</span>\\n    </div>\\n    \"},\"id\":\"1021\",\"type\":\"HoverTool\"},{\"attributes\":{},\"id\":\"1045\",\"type\":\"AllLabels\"},{\"attributes\":{\"dimensions\":\"width\"},\"id\":\"1025\",\"type\":\"PanTool\"},{\"attributes\":{},\"id\":\"1044\",\"type\":\"BasicTickFormatter\"},{\"attributes\":{\"end\":20.628821503999998},\"id\":\"1006\",\"type\":\"Range1d\"},{\"attributes\":{},\"id\":\"1041\",\"type\":\"CategoricalTickFormatter\"}],\"root_ids\":[\"1003\"]},\"title\":\"Bokeh Application\",\"version\":\"2.4.3\"}};\n",
       "  const render_items = [{\"docid\":\"5bfaa111-f041-43c9-8d20-b45ac4e62e26\",\"root_ids\":[\"1003\"],\"roots\":{\"1003\":\"0356035a-b6c2-4ba0-996a-e47a0c791039\"}}];\n",
       "  root.Bokeh.embed.embed_items_notebook(docs_json, render_items);\n",
       "  }\n",
       "  if (root.Bokeh !== undefined) {\n",
       "    embed_document(root);\n",
       "  } else {\n",
       "    let attempts = 0;\n",
       "    const timer = setInterval(function(root) {\n",
       "      if (root.Bokeh !== undefined) {\n",
       "        clearInterval(timer);\n",
       "        embed_document(root);\n",
       "      } else {\n",
       "        attempts++;\n",
       "        if (attempts > 100) {\n",
       "          clearInterval(timer);\n",
       "          console.log(\"Bokeh: ERROR: Unable to run BokehJS code because BokehJS library is missing\");\n",
       "        }\n",
       "      }\n",
       "    }, 10, root)\n",
       "  }\n",
       "})(window);"
      ],
      "application/vnd.bokehjs_exec.v0+json": ""
     },
     "metadata": {
      "application/vnd.bokehjs_exec.v0+json": {
       "id": "1003"
      }
     },
     "output_type": "display_data"
    }
   ],
   "source": [
    "profilers[0].visualize();"
   ]
  },
  {
   "cell_type": "markdown",
   "id": "9f7afda6-5b1d-4362-9495-4ad140716f5f",
   "metadata": {},
   "source": [
    "The result from the `ResourceProfiler` is shown below: This shows two lines, one for total CPU percentage used by all the workers, and one for total memory usage. The CPU usage is scaled so each worker contributes up to $100 \\ \\%$, i.e. two fully utilized workers use $200 \\ \\%$."
   ]
  },
  {
   "cell_type": "code",
   "execution_count": 16,
   "id": "42497cde-4e5c-4844-91e5-e8d91e1aafa9",
   "metadata": {
    "tags": [
     "skip-test"
    ]
   },
   "outputs": [
    {
     "data": {
      "text/html": [
       "\n",
       "  <div class=\"bk-root\" id=\"bbbda54f-6f3c-4e49-8e4a-a6f98b347d94\" data-root-id=\"1102\"></div>\n"
      ]
     },
     "metadata": {},
     "output_type": "display_data"
    },
    {
     "data": {
      "application/javascript": [
       "(function(root) {\n",
       "  function embed_document(root) {\n",
       "  const docs_json = {\"8394e9a0-342e-4d44-8a1d-44e02db308cd\":{\"defs\":[],\"roots\":{\"references\":[{\"attributes\":{\"below\":[{\"id\":\"1113\"}],\"center\":[{\"id\":\"1116\"},{\"id\":\"1120\"},{\"id\":\"1145\"}],\"extra_y_ranges\":{\"memory\":{\"id\":\"1147\"}},\"height\":300,\"left\":[{\"id\":\"1117\"}],\"renderers\":[{\"id\":\"1134\"},{\"id\":\"1152\"}],\"right\":[{\"id\":\"1166\"}],\"title\":{\"id\":\"1103\"},\"toolbar\":{\"id\":\"1125\"},\"toolbar_location\":\"above\",\"width\":800,\"x_range\":{\"id\":\"1105\"},\"x_scale\":{\"id\":\"1109\"},\"y_range\":{\"id\":\"1107\"},\"y_scale\":{\"id\":\"1111\"}},\"id\":\"1102\",\"subtype\":\"Figure\",\"type\":\"Plot\"},{\"attributes\":{},\"id\":\"1142\",\"type\":\"AllLabels\"},{\"attributes\":{\"coordinates\":null,\"group\":null,\"text\":\"Profile Results\"},\"id\":\"1103\",\"type\":\"Title\"},{\"attributes\":{},\"id\":\"1114\",\"type\":\"BasicTicker\"},{\"attributes\":{},\"id\":\"1139\",\"type\":\"AllLabels\"},{\"attributes\":{\"axis\":{\"id\":\"1113\"},\"coordinates\":null,\"group\":null,\"ticker\":null},\"id\":\"1116\",\"type\":\"Grid\"},{\"attributes\":{\"axis_label\":\"% CPU\",\"coordinates\":null,\"formatter\":{\"id\":\"1138\"},\"group\":null,\"major_label_policy\":{\"id\":\"1139\"},\"ticker\":{\"id\":\"1118\"}},\"id\":\"1117\",\"type\":\"LinearAxis\"},{\"attributes\":{\"dimensions\":\"width\"},\"id\":\"1124\",\"type\":\"PanTool\"},{\"attributes\":{\"axis\":{\"id\":\"1117\"},\"coordinates\":null,\"dimension\":1,\"group\":null,\"ticker\":null},\"id\":\"1120\",\"type\":\"Grid\"},{\"attributes\":{\"line_color\":\"#440154\",\"line_width\":4,\"x\":{\"field\":\"x\"},\"y\":{\"field\":\"y\"}},\"id\":\"1131\",\"type\":\"Line\"},{\"attributes\":{},\"id\":\"1143\",\"type\":\"UnionRenderers\"},{\"attributes\":{},\"id\":\"1118\",\"type\":\"BasicTicker\"},{\"attributes\":{\"line_alpha\":0.2,\"line_color\":\"#440154\",\"line_width\":4,\"x\":{\"field\":\"x\"},\"y\":{\"field\":\"y\"}},\"id\":\"1133\",\"type\":\"Line\"},{\"attributes\":{\"dimensions\":\"width\"},\"id\":\"1123\",\"type\":\"WheelZoomTool\"},{\"attributes\":{},\"id\":\"1144\",\"type\":\"Selection\"},{\"attributes\":{},\"id\":\"1122\",\"type\":\"ResetTool\"},{\"attributes\":{},\"id\":\"1121\",\"type\":\"SaveTool\"},{\"attributes\":{\"coordinates\":null,\"data_source\":{\"id\":\"1130\"},\"glyph\":{\"id\":\"1131\"},\"group\":null,\"hover_glyph\":null,\"muted_glyph\":{\"id\":\"1133\"},\"nonselection_glyph\":{\"id\":\"1132\"},\"view\":{\"id\":\"1135\"}},\"id\":\"1134\",\"type\":\"GlyphRenderer\"},{\"attributes\":{\"source\":{\"id\":\"1148\"}},\"id\":\"1153\",\"type\":\"CDSView\"},{\"attributes\":{\"end\":5775.99488,\"start\":2933.321728},\"id\":\"1147\",\"type\":\"Range1d\"},{\"attributes\":{\"coordinates\":null,\"group\":null,\"items\":[{\"id\":\"1146\"},{\"id\":\"1165\"}]},\"id\":\"1145\",\"type\":\"Legend\"},{\"attributes\":{\"coordinates\":null,\"data_source\":{\"id\":\"1148\"},\"glyph\":{\"id\":\"1149\"},\"group\":null,\"hover_glyph\":null,\"muted_glyph\":{\"id\":\"1151\"},\"nonselection_glyph\":{\"id\":\"1150\"},\"view\":{\"id\":\"1153\"},\"y_range_name\":\"memory\"},\"id\":\"1152\",\"type\":\"GlyphRenderer\"},{\"attributes\":{\"data\":{\"x\":[0.0,1.022900017,2.023279526,3.023695062,4.025412189,5.025667832,6.030185626,7.034235396,8.03552108,9.038264956999999,10.04249,11.045107911,12.048569743,13.051200841,14.056142744,15.057464494,16.059564918000003,17.060029555000003,18.060478134,19.064432166000003,20.067349908],\"y\":[2933.321728,3665.047552,4089.798656,4360.065024,4645.74464,4818.960384,4861.231104,4909.764608,4996.235264,5027.745792,5059.93216,5217.652736,5276.008448,5343.473664,5425.942528,5459.636224,5459.68128,5535.248384,5624.139776,5700.48512,5775.99488]},\"selected\":{\"id\":\"1164\"},\"selection_policy\":{\"id\":\"1163\"}},\"id\":\"1148\",\"type\":\"ColumnDataSource\"},{\"attributes\":{\"line_alpha\":0.1,\"line_color\":\"#440154\",\"line_width\":4,\"x\":{\"field\":\"x\"},\"y\":{\"field\":\"y\"}},\"id\":\"1132\",\"type\":\"Line\"},{\"attributes\":{\"label\":{\"value\":\"% CPU\"},\"renderers\":[{\"id\":\"1134\"}]},\"id\":\"1146\",\"type\":\"LegendItem\"},{\"attributes\":{\"line_alpha\":0.2,\"line_color\":\"#29788E\",\"line_width\":4,\"x\":{\"field\":\"x\"},\"y\":{\"field\":\"y\"}},\"id\":\"1151\",\"type\":\"Line\"},{\"attributes\":{},\"id\":\"1182\",\"type\":\"AllLabels\"},{\"attributes\":{\"line_alpha\":0.1,\"line_color\":\"#29788E\",\"line_width\":4,\"x\":{\"field\":\"x\"},\"y\":{\"field\":\"y\"}},\"id\":\"1150\",\"type\":\"Line\"},{\"attributes\":{},\"id\":\"1180\",\"type\":\"BasicTicker\"},{\"attributes\":{},\"id\":\"1181\",\"type\":\"BasicTickFormatter\"},{\"attributes\":{\"axis_label\":\"Memory (MB)\",\"coordinates\":null,\"formatter\":{\"id\":\"1181\"},\"group\":null,\"major_label_policy\":{\"id\":\"1182\"},\"ticker\":{\"id\":\"1180\"},\"y_range_name\":\"memory\"},\"id\":\"1166\",\"type\":\"LinearAxis\"},{\"attributes\":{},\"id\":\"1141\",\"type\":\"BasicTickFormatter\"},{\"attributes\":{\"label\":{\"value\":\"Memory\"},\"renderers\":[{\"id\":\"1152\"}]},\"id\":\"1165\",\"type\":\"LegendItem\"},{\"attributes\":{},\"id\":\"1111\",\"type\":\"LinearScale\"},{\"attributes\":{},\"id\":\"1109\",\"type\":\"LinearScale\"},{\"attributes\":{\"end\":1427.4},\"id\":\"1107\",\"type\":\"Range1d\"},{\"attributes\":{\"axis_label\":\"Time (s)\",\"coordinates\":null,\"formatter\":{\"id\":\"1141\"},\"group\":null,\"major_label_policy\":{\"id\":\"1142\"},\"ticker\":{\"id\":\"1114\"}},\"id\":\"1113\",\"type\":\"LinearAxis\"},{\"attributes\":{},\"id\":\"1138\",\"type\":\"BasicTickFormatter\"},{\"attributes\":{\"end\":20.067349908},\"id\":\"1105\",\"type\":\"Range1d\"},{\"attributes\":{},\"id\":\"1163\",\"type\":\"UnionRenderers\"},{\"attributes\":{\"source\":{\"id\":\"1130\"}},\"id\":\"1135\",\"type\":\"CDSView\"},{\"attributes\":{\"tools\":[{\"id\":\"1121\"},{\"id\":\"1122\"},{\"id\":\"1123\"},{\"id\":\"1124\"}]},\"id\":\"1125\",\"type\":\"Toolbar\"},{\"attributes\":{\"data\":{\"x\":[0.0,1.022900017,2.023279526,3.023695062,4.025412189,5.025667832,6.030185626,7.034235396,8.03552108,9.038264956999999,10.04249,11.045107911,12.048569743,13.051200841,14.056142744,15.057464494,16.059564918000003,17.060029555000003,18.060478134,19.064432166000003,20.067349908],\"y\":[0.0,1143.4,1133.4,1331.4,870.6,1331.5,968.0,1238.1,1212.1,1029.7,1380.7,1042.6999999999998,1246.5,1282.8,1030.9,1427.4,1152.2,1125.6,1425.6,1055.1,1345.8999999999999]},\"selected\":{\"id\":\"1144\"},\"selection_policy\":{\"id\":\"1143\"}},\"id\":\"1130\",\"type\":\"ColumnDataSource\"},{\"attributes\":{\"line_color\":\"#29788E\",\"line_width\":4,\"x\":{\"field\":\"x\"},\"y\":{\"field\":\"y\"}},\"id\":\"1149\",\"type\":\"Line\"},{\"attributes\":{},\"id\":\"1164\",\"type\":\"Selection\"}],\"root_ids\":[\"1102\"]},\"title\":\"Bokeh Application\",\"version\":\"2.4.3\"}};\n",
       "  const render_items = [{\"docid\":\"8394e9a0-342e-4d44-8a1d-44e02db308cd\",\"root_ids\":[\"1102\"],\"roots\":{\"1102\":\"bbbda54f-6f3c-4e49-8e4a-a6f98b347d94\"}}];\n",
       "  root.Bokeh.embed.embed_items_notebook(docs_json, render_items);\n",
       "  }\n",
       "  if (root.Bokeh !== undefined) {\n",
       "    embed_document(root);\n",
       "  } else {\n",
       "    let attempts = 0;\n",
       "    const timer = setInterval(function(root) {\n",
       "      if (root.Bokeh !== undefined) {\n",
       "        clearInterval(timer);\n",
       "        embed_document(root);\n",
       "      } else {\n",
       "        attempts++;\n",
       "        if (attempts > 100) {\n",
       "          clearInterval(timer);\n",
       "          console.log(\"Bokeh: ERROR: Unable to run BokehJS code because BokehJS library is missing\");\n",
       "        }\n",
       "      }\n",
       "    }, 10, root)\n",
       "  }\n",
       "})(window);"
      ],
      "application/vnd.bokehjs_exec.v0+json": ""
     },
     "metadata": {
      "application/vnd.bokehjs_exec.v0+json": {
       "id": "1102"
      }
     },
     "output_type": "display_data"
    }
   ],
   "source": [
    "profilers[1].visualize();"
   ]
  },
  {
   "cell_type": "markdown",
   "id": "95a9fa0a-f044-40cd-8964-9e4a1911fa87",
   "metadata": {},
   "source": [
    "We ran the calculation on a single computer with an 4-core CPU with 2 threads per core for 8 threads total. We see that our peak CPU usage was $\\sim 600 \\%$, this is a fairly typical usage statistic for a single machine, overhead and background processes limited us from reaching the $800 \\ \\%$ corresponding to using every available thread maximally.\n",
    "\n",
    "We also see that the total memory use reached around 800 MB. If you are running the calculation on a system with more threads your memory consumption may be larger – it may even exceed the total memory cost of all the wave functions, as every parallel run of the multislice algorithm requires a significant overhead for intermediate results (such as potential slices and Fresnel propagators). If your calculation runs out of memory you can lower the number of workers, thus trading away computational speed for lower memory consumption.\n",
    "\n",
    "We note that the overhead in both CPU usage and memory diminishes for larger simulation with more powerful hardware."
   ]
  },
  {
   "cell_type": "markdown",
   "id": "88a96448-5a2a-4c60-9ce7-7a2f43845d3c",
   "metadata": {},
   "source": [
    "### The (locally) distributed scheduler\n",
    "The Dask distributed scheduler is necessary for running your simulations on a cluster, but it also runs [locally on a personal machine](https://docs.dask.org/en/stable/scheduling.html#dask-distributed-local). You can find details in the Dask documentation, but we demonstrate the basics below.\n",
    "\n",
    "You can use the Dask distributed scheduler by just initializing a [Dask Client](https://distributed.dask.org/en/stable/client.html). The `Client` takes keyword arguments such as `n_workers` (note that this is different from `num_workers` above!)"
   ]
  },
  {
   "cell_type": "code",
   "execution_count": 17,
   "id": "2b7c37a3-909c-482e-99fb-72e4eb222a5a",
   "metadata": {},
   "outputs": [
    {
     "data": {
      "text/html": [
       "<div>\n",
       "    <div style=\"width: 24px; height: 24px; background-color: #e1e1e1; border: 3px solid #9D9D9D; border-radius: 5px; position: absolute;\"> </div>\n",
       "    <div style=\"margin-left: 48px;\">\n",
       "        <h3 style=\"margin-bottom: 0px;\">Client</h3>\n",
       "        <p style=\"color: #9D9D9D; margin-bottom: 0px;\">Client-8e256a18-5378-11ed-8095-d0817ad4a36d</p>\n",
       "        <table style=\"width: 100%; text-align: left;\">\n",
       "\n",
       "        <tr>\n",
       "        \n",
       "            <td style=\"text-align: left;\"><strong>Connection method:</strong> Cluster object</td>\n",
       "            <td style=\"text-align: left;\"><strong>Cluster type:</strong> distributed.LocalCluster</td>\n",
       "        \n",
       "        </tr>\n",
       "\n",
       "        \n",
       "            <tr>\n",
       "                <td style=\"text-align: left;\">\n",
       "                    <strong>Dashboard: </strong> <a href=\"http://127.0.0.1:8787/status\" target=\"_blank\">http://127.0.0.1:8787/status</a>\n",
       "                </td>\n",
       "                <td style=\"text-align: left;\"></td>\n",
       "            </tr>\n",
       "        \n",
       "\n",
       "        </table>\n",
       "\n",
       "        \n",
       "            <details>\n",
       "            <summary style=\"margin-bottom: 20px;\"><h3 style=\"display: inline;\">Cluster Info</h3></summary>\n",
       "            <div class=\"jp-RenderedHTMLCommon jp-RenderedHTML jp-mod-trusted jp-OutputArea-output\">\n",
       "    <div style=\"width: 24px; height: 24px; background-color: #e1e1e1; border: 3px solid #9D9D9D; border-radius: 5px; position: absolute;\">\n",
       "    </div>\n",
       "    <div style=\"margin-left: 48px;\">\n",
       "        <h3 style=\"margin-bottom: 0px; margin-top: 0px;\">LocalCluster</h3>\n",
       "        <p style=\"color: #9D9D9D; margin-bottom: 0px;\">1667fffb</p>\n",
       "        <table style=\"width: 100%; text-align: left;\">\n",
       "            <tr>\n",
       "                <td style=\"text-align: left;\">\n",
       "                    <strong>Dashboard:</strong> <a href=\"http://127.0.0.1:8787/status\" target=\"_blank\">http://127.0.0.1:8787/status</a>\n",
       "                </td>\n",
       "                <td style=\"text-align: left;\">\n",
       "                    <strong>Workers:</strong> 6\n",
       "                </td>\n",
       "            </tr>\n",
       "            <tr>\n",
       "                <td style=\"text-align: left;\">\n",
       "                    <strong>Total threads:</strong> 24\n",
       "                </td>\n",
       "                <td style=\"text-align: left;\">\n",
       "                    <strong>Total memory:</strong> 64.00 GiB\n",
       "                </td>\n",
       "            </tr>\n",
       "            \n",
       "            <tr>\n",
       "    <td style=\"text-align: left;\"><strong>Status:</strong> running</td>\n",
       "    <td style=\"text-align: left;\"><strong>Using processes:</strong> True</td>\n",
       "</tr>\n",
       "\n",
       "            \n",
       "        </table>\n",
       "\n",
       "        <details>\n",
       "            <summary style=\"margin-bottom: 20px;\">\n",
       "                <h3 style=\"display: inline;\">Scheduler Info</h3>\n",
       "            </summary>\n",
       "\n",
       "            <div style=\"\">\n",
       "    <div>\n",
       "        <div style=\"width: 24px; height: 24px; background-color: #FFF7E5; border: 3px solid #FF6132; border-radius: 5px; position: absolute;\"> </div>\n",
       "        <div style=\"margin-left: 48px;\">\n",
       "            <h3 style=\"margin-bottom: 0px;\">Scheduler</h3>\n",
       "            <p style=\"color: #9D9D9D; margin-bottom: 0px;\">Scheduler-4ce70662-5907-4e50-ab85-9cd838e1be04</p>\n",
       "            <table style=\"width: 100%; text-align: left;\">\n",
       "                <tr>\n",
       "                    <td style=\"text-align: left;\">\n",
       "                        <strong>Comm:</strong> tcp://127.0.0.1:50448\n",
       "                    </td>\n",
       "                    <td style=\"text-align: left;\">\n",
       "                        <strong>Workers:</strong> 6\n",
       "                    </td>\n",
       "                </tr>\n",
       "                <tr>\n",
       "                    <td style=\"text-align: left;\">\n",
       "                        <strong>Dashboard:</strong> <a href=\"http://127.0.0.1:8787/status\" target=\"_blank\">http://127.0.0.1:8787/status</a>\n",
       "                    </td>\n",
       "                    <td style=\"text-align: left;\">\n",
       "                        <strong>Total threads:</strong> 24\n",
       "                    </td>\n",
       "                </tr>\n",
       "                <tr>\n",
       "                    <td style=\"text-align: left;\">\n",
       "                        <strong>Started:</strong> Just now\n",
       "                    </td>\n",
       "                    <td style=\"text-align: left;\">\n",
       "                        <strong>Total memory:</strong> 64.00 GiB\n",
       "                    </td>\n",
       "                </tr>\n",
       "            </table>\n",
       "        </div>\n",
       "    </div>\n",
       "\n",
       "    <details style=\"margin-left: 48px;\">\n",
       "        <summary style=\"margin-bottom: 20px;\">\n",
       "            <h3 style=\"display: inline;\">Workers</h3>\n",
       "        </summary>\n",
       "\n",
       "        \n",
       "        <div style=\"margin-bottom: 20px;\">\n",
       "            <div style=\"width: 24px; height: 24px; background-color: #DBF5FF; border: 3px solid #4CC9FF; border-radius: 5px; position: absolute;\"> </div>\n",
       "            <div style=\"margin-left: 48px;\">\n",
       "            <details>\n",
       "                <summary>\n",
       "                    <h4 style=\"margin-bottom: 0px; display: inline;\">Worker: 0</h4>\n",
       "                </summary>\n",
       "                <table style=\"width: 100%; text-align: left;\">\n",
       "                    <tr>\n",
       "                        <td style=\"text-align: left;\">\n",
       "                            <strong>Comm: </strong> tcp://127.0.0.1:50478\n",
       "                        </td>\n",
       "                        <td style=\"text-align: left;\">\n",
       "                            <strong>Total threads: </strong> 4\n",
       "                        </td>\n",
       "                    </tr>\n",
       "                    <tr>\n",
       "                        <td style=\"text-align: left;\">\n",
       "                            <strong>Dashboard: </strong> <a href=\"http://127.0.0.1:50479/status\" target=\"_blank\">http://127.0.0.1:50479/status</a>\n",
       "                        </td>\n",
       "                        <td style=\"text-align: left;\">\n",
       "                            <strong>Memory: </strong> 10.67 GiB\n",
       "                        </td>\n",
       "                    </tr>\n",
       "                    <tr>\n",
       "                        <td style=\"text-align: left;\">\n",
       "                            <strong>Nanny: </strong> tcp://127.0.0.1:50454\n",
       "                        </td>\n",
       "                        <td style=\"text-align: left;\"></td>\n",
       "                    </tr>\n",
       "                    <tr>\n",
       "                        <td colspan=\"2\" style=\"text-align: left;\">\n",
       "                            <strong>Local directory: </strong> /var/folders/8n/_v135h7x4dl2wfy0q4r_f7kh0000gp/T/dask-worker-space/worker-915o5xvx\n",
       "                        </td>\n",
       "                    </tr>\n",
       "\n",
       "                    \n",
       "\n",
       "                    \n",
       "\n",
       "                </table>\n",
       "            </details>\n",
       "            </div>\n",
       "        </div>\n",
       "        \n",
       "        <div style=\"margin-bottom: 20px;\">\n",
       "            <div style=\"width: 24px; height: 24px; background-color: #DBF5FF; border: 3px solid #4CC9FF; border-radius: 5px; position: absolute;\"> </div>\n",
       "            <div style=\"margin-left: 48px;\">\n",
       "            <details>\n",
       "                <summary>\n",
       "                    <h4 style=\"margin-bottom: 0px; display: inline;\">Worker: 1</h4>\n",
       "                </summary>\n",
       "                <table style=\"width: 100%; text-align: left;\">\n",
       "                    <tr>\n",
       "                        <td style=\"text-align: left;\">\n",
       "                            <strong>Comm: </strong> tcp://127.0.0.1:50472\n",
       "                        </td>\n",
       "                        <td style=\"text-align: left;\">\n",
       "                            <strong>Total threads: </strong> 4\n",
       "                        </td>\n",
       "                    </tr>\n",
       "                    <tr>\n",
       "                        <td style=\"text-align: left;\">\n",
       "                            <strong>Dashboard: </strong> <a href=\"http://127.0.0.1:50473/status\" target=\"_blank\">http://127.0.0.1:50473/status</a>\n",
       "                        </td>\n",
       "                        <td style=\"text-align: left;\">\n",
       "                            <strong>Memory: </strong> 10.67 GiB\n",
       "                        </td>\n",
       "                    </tr>\n",
       "                    <tr>\n",
       "                        <td style=\"text-align: left;\">\n",
       "                            <strong>Nanny: </strong> tcp://127.0.0.1:50452\n",
       "                        </td>\n",
       "                        <td style=\"text-align: left;\"></td>\n",
       "                    </tr>\n",
       "                    <tr>\n",
       "                        <td colspan=\"2\" style=\"text-align: left;\">\n",
       "                            <strong>Local directory: </strong> /var/folders/8n/_v135h7x4dl2wfy0q4r_f7kh0000gp/T/dask-worker-space/worker-6mavzlde\n",
       "                        </td>\n",
       "                    </tr>\n",
       "\n",
       "                    \n",
       "\n",
       "                    \n",
       "\n",
       "                </table>\n",
       "            </details>\n",
       "            </div>\n",
       "        </div>\n",
       "        \n",
       "        <div style=\"margin-bottom: 20px;\">\n",
       "            <div style=\"width: 24px; height: 24px; background-color: #DBF5FF; border: 3px solid #4CC9FF; border-radius: 5px; position: absolute;\"> </div>\n",
       "            <div style=\"margin-left: 48px;\">\n",
       "            <details>\n",
       "                <summary>\n",
       "                    <h4 style=\"margin-bottom: 0px; display: inline;\">Worker: 2</h4>\n",
       "                </summary>\n",
       "                <table style=\"width: 100%; text-align: left;\">\n",
       "                    <tr>\n",
       "                        <td style=\"text-align: left;\">\n",
       "                            <strong>Comm: </strong> tcp://127.0.0.1:50481\n",
       "                        </td>\n",
       "                        <td style=\"text-align: left;\">\n",
       "                            <strong>Total threads: </strong> 4\n",
       "                        </td>\n",
       "                    </tr>\n",
       "                    <tr>\n",
       "                        <td style=\"text-align: left;\">\n",
       "                            <strong>Dashboard: </strong> <a href=\"http://127.0.0.1:50482/status\" target=\"_blank\">http://127.0.0.1:50482/status</a>\n",
       "                        </td>\n",
       "                        <td style=\"text-align: left;\">\n",
       "                            <strong>Memory: </strong> 10.67 GiB\n",
       "                        </td>\n",
       "                    </tr>\n",
       "                    <tr>\n",
       "                        <td style=\"text-align: left;\">\n",
       "                            <strong>Nanny: </strong> tcp://127.0.0.1:50455\n",
       "                        </td>\n",
       "                        <td style=\"text-align: left;\"></td>\n",
       "                    </tr>\n",
       "                    <tr>\n",
       "                        <td colspan=\"2\" style=\"text-align: left;\">\n",
       "                            <strong>Local directory: </strong> /var/folders/8n/_v135h7x4dl2wfy0q4r_f7kh0000gp/T/dask-worker-space/worker-8ge6rdv7\n",
       "                        </td>\n",
       "                    </tr>\n",
       "\n",
       "                    \n",
       "\n",
       "                    \n",
       "\n",
       "                </table>\n",
       "            </details>\n",
       "            </div>\n",
       "        </div>\n",
       "        \n",
       "        <div style=\"margin-bottom: 20px;\">\n",
       "            <div style=\"width: 24px; height: 24px; background-color: #DBF5FF; border: 3px solid #4CC9FF; border-radius: 5px; position: absolute;\"> </div>\n",
       "            <div style=\"margin-left: 48px;\">\n",
       "            <details>\n",
       "                <summary>\n",
       "                    <h4 style=\"margin-bottom: 0px; display: inline;\">Worker: 3</h4>\n",
       "                </summary>\n",
       "                <table style=\"width: 100%; text-align: left;\">\n",
       "                    <tr>\n",
       "                        <td style=\"text-align: left;\">\n",
       "                            <strong>Comm: </strong> tcp://127.0.0.1:50475\n",
       "                        </td>\n",
       "                        <td style=\"text-align: left;\">\n",
       "                            <strong>Total threads: </strong> 4\n",
       "                        </td>\n",
       "                    </tr>\n",
       "                    <tr>\n",
       "                        <td style=\"text-align: left;\">\n",
       "                            <strong>Dashboard: </strong> <a href=\"http://127.0.0.1:50476/status\" target=\"_blank\">http://127.0.0.1:50476/status</a>\n",
       "                        </td>\n",
       "                        <td style=\"text-align: left;\">\n",
       "                            <strong>Memory: </strong> 10.67 GiB\n",
       "                        </td>\n",
       "                    </tr>\n",
       "                    <tr>\n",
       "                        <td style=\"text-align: left;\">\n",
       "                            <strong>Nanny: </strong> tcp://127.0.0.1:50453\n",
       "                        </td>\n",
       "                        <td style=\"text-align: left;\"></td>\n",
       "                    </tr>\n",
       "                    <tr>\n",
       "                        <td colspan=\"2\" style=\"text-align: left;\">\n",
       "                            <strong>Local directory: </strong> /var/folders/8n/_v135h7x4dl2wfy0q4r_f7kh0000gp/T/dask-worker-space/worker-e9f3zfh0\n",
       "                        </td>\n",
       "                    </tr>\n",
       "\n",
       "                    \n",
       "\n",
       "                    \n",
       "\n",
       "                </table>\n",
       "            </details>\n",
       "            </div>\n",
       "        </div>\n",
       "        \n",
       "        <div style=\"margin-bottom: 20px;\">\n",
       "            <div style=\"width: 24px; height: 24px; background-color: #DBF5FF; border: 3px solid #4CC9FF; border-radius: 5px; position: absolute;\"> </div>\n",
       "            <div style=\"margin-left: 48px;\">\n",
       "            <details>\n",
       "                <summary>\n",
       "                    <h4 style=\"margin-bottom: 0px; display: inline;\">Worker: 4</h4>\n",
       "                </summary>\n",
       "                <table style=\"width: 100%; text-align: left;\">\n",
       "                    <tr>\n",
       "                        <td style=\"text-align: left;\">\n",
       "                            <strong>Comm: </strong> tcp://127.0.0.1:50469\n",
       "                        </td>\n",
       "                        <td style=\"text-align: left;\">\n",
       "                            <strong>Total threads: </strong> 4\n",
       "                        </td>\n",
       "                    </tr>\n",
       "                    <tr>\n",
       "                        <td style=\"text-align: left;\">\n",
       "                            <strong>Dashboard: </strong> <a href=\"http://127.0.0.1:50470/status\" target=\"_blank\">http://127.0.0.1:50470/status</a>\n",
       "                        </td>\n",
       "                        <td style=\"text-align: left;\">\n",
       "                            <strong>Memory: </strong> 10.67 GiB\n",
       "                        </td>\n",
       "                    </tr>\n",
       "                    <tr>\n",
       "                        <td style=\"text-align: left;\">\n",
       "                            <strong>Nanny: </strong> tcp://127.0.0.1:50451\n",
       "                        </td>\n",
       "                        <td style=\"text-align: left;\"></td>\n",
       "                    </tr>\n",
       "                    <tr>\n",
       "                        <td colspan=\"2\" style=\"text-align: left;\">\n",
       "                            <strong>Local directory: </strong> /var/folders/8n/_v135h7x4dl2wfy0q4r_f7kh0000gp/T/dask-worker-space/worker-ok2wrsa_\n",
       "                        </td>\n",
       "                    </tr>\n",
       "\n",
       "                    \n",
       "\n",
       "                    \n",
       "\n",
       "                </table>\n",
       "            </details>\n",
       "            </div>\n",
       "        </div>\n",
       "        \n",
       "        <div style=\"margin-bottom: 20px;\">\n",
       "            <div style=\"width: 24px; height: 24px; background-color: #DBF5FF; border: 3px solid #4CC9FF; border-radius: 5px; position: absolute;\"> </div>\n",
       "            <div style=\"margin-left: 48px;\">\n",
       "            <details>\n",
       "                <summary>\n",
       "                    <h4 style=\"margin-bottom: 0px; display: inline;\">Worker: 5</h4>\n",
       "                </summary>\n",
       "                <table style=\"width: 100%; text-align: left;\">\n",
       "                    <tr>\n",
       "                        <td style=\"text-align: left;\">\n",
       "                            <strong>Comm: </strong> tcp://127.0.0.1:50484\n",
       "                        </td>\n",
       "                        <td style=\"text-align: left;\">\n",
       "                            <strong>Total threads: </strong> 4\n",
       "                        </td>\n",
       "                    </tr>\n",
       "                    <tr>\n",
       "                        <td style=\"text-align: left;\">\n",
       "                            <strong>Dashboard: </strong> <a href=\"http://127.0.0.1:50485/status\" target=\"_blank\">http://127.0.0.1:50485/status</a>\n",
       "                        </td>\n",
       "                        <td style=\"text-align: left;\">\n",
       "                            <strong>Memory: </strong> 10.67 GiB\n",
       "                        </td>\n",
       "                    </tr>\n",
       "                    <tr>\n",
       "                        <td style=\"text-align: left;\">\n",
       "                            <strong>Nanny: </strong> tcp://127.0.0.1:50456\n",
       "                        </td>\n",
       "                        <td style=\"text-align: left;\"></td>\n",
       "                    </tr>\n",
       "                    <tr>\n",
       "                        <td colspan=\"2\" style=\"text-align: left;\">\n",
       "                            <strong>Local directory: </strong> /var/folders/8n/_v135h7x4dl2wfy0q4r_f7kh0000gp/T/dask-worker-space/worker-ojeffjok\n",
       "                        </td>\n",
       "                    </tr>\n",
       "\n",
       "                    \n",
       "\n",
       "                    \n",
       "\n",
       "                </table>\n",
       "            </details>\n",
       "            </div>\n",
       "        </div>\n",
       "        \n",
       "\n",
       "    </details>\n",
       "</div>\n",
       "\n",
       "        </details>\n",
       "    </div>\n",
       "</div>\n",
       "            </details>\n",
       "        \n",
       "\n",
       "    </div>\n",
       "</div>"
      ],
      "text/plain": [
       "<Client: 'tcp://127.0.0.1:50448' processes=6 threads=24, memory=64.00 GiB>"
      ]
     },
     "execution_count": 17,
     "metadata": {},
     "output_type": "execute_result"
    }
   ],
   "source": [
    "from dask.distributed import Client\n",
    "\n",
    "client = Client(n_workers=6)\n",
    "client"
   ]
  },
  {
   "cell_type": "markdown",
   "id": "cd8cacd8-4c48-4eea-930c-33f3fe834410",
   "metadata": {},
   "source": [
    "After intializing the client object, any *ab*TEM computation will use the Dask distributed scheduler."
   ]
  },
  {
   "cell_type": "code",
   "execution_count": 18,
   "id": "2b0d7e8f-24dd-4ada-9650-874e750a3652",
   "metadata": {},
   "outputs": [
    {
     "data": {
      "text/plain": [
       "<abtem.measurements.Images object at 0x14356eca0>"
      ]
     },
     "execution_count": 18,
     "metadata": {},
     "output_type": "execute_result"
    }
   ],
   "source": [
    "haadf_images = detector.detect(exit_waves_stem).reduce_ensemble()\n",
    "haadf_images.compute()"
   ]
  },
  {
   "cell_type": "markdown",
   "id": "31a20506-7155-45f0-b641-3931bbb20029",
   "metadata": {},
   "source": [
    "A benefit of using the distributed scheduler on a single machine is the live diagnostic dashboard. You can access this through the Dashboard link shown in the `__repr__` for the `Client` above (for details you can watch [this](https://www.youtube.com/watch?v=N_GqzcuGLCY) video walkthrough). If you are using Jupyter Lab, the [Dask labextension](https://github.com/dask/dask-labextension) provides the same information as a panel inside the Jupyter Lab editor.\n",
    "\n",
    "We can get back to the local scheduler by closing the `Client`."
   ]
  },
  {
   "cell_type": "code",
   "execution_count": 19,
   "id": "e38de7a7-2b82-442e-8258-d9e2717a7b2b",
   "metadata": {},
   "outputs": [],
   "source": [
    "client.close()"
   ]
  },
  {
   "cell_type": "markdown",
   "id": "dffe61f7-43d8-47e6-a00a-3e73e33320ad",
   "metadata": {},
   "source": [
    "### Running *ab*TEM on HPC clusters\n",
    "\n",
    "Dask (and thus *ab*TEM) has robust tools for deployment on high-performance compute clusters. We recommend consulting your HPC provider on how to deploy Dask applications on your available cluster. For general advice on deployment, please see the [Dask documentation](https://docs.dask.org/en/stable/deploying.html).\n",
    "\n",
    "#### Submitting job scripts \n",
    "\n",
    "As an overview, Dask provides a number of different cluster managers, so you can use distributed Dask on a range of platforms. These cluster managers deploy a scheduler and the necessary workers as determined by communicating with the resource manager. All cluster managers follow the same interface but have platform-specific configuration options.\n",
    "\n",
    "As an example, for deployment using [SLURM](https://slurm.schedmd.com/documentation.html), your script might look something like:\n",
    "\n",
    "```python\n",
    "from dask_jobqueue import SLURMCluster\n",
    "from dask.distributed import Client\n",
    "\n",
    "cluster = SLURMCluster(\n",
    "    queue=\"regular\",\n",
    "    account=\"myaccount\",\n",
    "    cores=32,\n",
    "    memory=\"128 GB\"\n",
    ")\n",
    "\n",
    "client = Client(cluster)\n",
    "\n",
    "# Your abTEM code goes here\n",
    "\n",
    "```\n",
    "\n",
    "Dask also supports deployment from within an existing MPI environment, such as one created with the common MPI command-line launcher `mpirun`, see [here](http://mpi.dask.org/en/latest/) for more information. You can turn your batch Python script into an MPI executable with the `dask_mpi.initialize` function. \n",
    "\n",
    "```python\n",
    "from dask_mpi import initialize\n",
    "initialize()\n",
    "\n",
    "from dask.distributed import Client\n",
    "client = Client()  # Connect this local process to remote workers\n",
    "\n",
    "# Your abTEM code goes here\n",
    "```\n",
    "\n",
    "This makes your Python script launchable directly with `mpirun`:\n",
    "```\n",
    "mpirun -np 4 python my_client_script.py\n",
    "```"
   ]
  },
  {
   "cell_type": "markdown",
   "id": "e39cb8d2-a898-478d-9831-275ac5f2f06b",
   "metadata": {
    "pycharm": {
     "name": "#%% md\n"
    }
   },
   "source": [
    "## Using GPUs\n",
    "\n",
    "Almost every part of *ab*TEM can be accelerated using a GPU through the [CuPy](https://cupy.dev/) library. We have only tested CUDA-compatible GPUs, but any graphics card compatible with CuPy should work.\n",
    "\n",
    "If you have a compatible GPU and a working installation of CuPy, you can accelerate your image simulations by simply changing the configs at the top of your document as below:\n",
    "```python\n",
    "abtem.config.set({\"device\": \"gpu\"});\n",
    "```\n",
    "On a single GPU, you may also want to limit the number of workers to one, `num_workers=1`. As described above, this may be done through the Dask config:\n",
    "```python\n",
    "dask.config.set({\"num_workers\": 1});\n",
    "```\n",
    "\n",
    "Note that Dask does not manage GPU threads. This makes the choice of batch sizes (i.e. propagating multiple wave functions in a single batch) extremely important in order to fully utilize your GPU. The default batch size in GPU calculations in abTEM is $512\\ \\mathrm{MB}$, which is four times larger than the CPU batch size, but if your GPU has $8\\ \\mathrm{GB}$ or more memory, you will likely be able to increase this number to $2048\\ \\mathrm{MB}$.\n",
    "\n",
    "```python\n",
    "abtem.config.set({\"dask.chunk-size-gpu\" : \"512 MB\"})\n",
    "```\n",
    "\n",
    "```{note}\n",
    "The batch size only determines the maximum number of plane waves in a batch, so you need to leave room in the memory for any intermediate overhead. \n",
    "```\n",
    "\n",
    "Finally, *ab*TEM by default sets the [FFT plan cache](https://docs.cupy.dev/en/stable/user_guide/fft.html#fft-plan-cache) size of `cupy` to zero, as we find that in most cases the increased memory consumption of the plans are not worth the small speedup they provide. You can however also change this through the *ab*TEM config.\n",
    "\n",
    "```python\n",
    "abtem.config.set({\"cupy.fft-cache-size\" : \"1024 MB\"})\n",
    "```"
   ]
  },
  {
   "cell_type": "markdown",
   "id": "94cdb086-c8a9-4736-a345-311d47379f34",
   "metadata": {},
   "source": [
    "### Multiple GPUs \n",
    "The above is enough for running *ab*TEM on a single GPU; if you are using an NVidia GPU, you may want to install `dask_cuda` (this is currently only supported on Linux). However, `dask_cuda` is currently necessary for multi-GPU calculations with *ab*TEM.\n",
    "\n",
    "```python\n",
    "from dask_cuda import LocalCUDACluster\n",
    "from dask.distributed import Client\n",
    "\n",
    "cluster = LocalCUDACluster()\n",
    "client = Client(cluster)\n",
    "```"
   ]
  },
  {
   "cell_type": "code",
   "execution_count": null,
   "id": "fa8f869a-ec10-4126-afc5-4c0bfaff3179",
   "metadata": {},
   "outputs": [],
   "source": []
  }
 ],
 "metadata": {
  "kernelspec": {
   "display_name": "abtem",
   "language": "python",
   "name": "abtem"
  },
  "language_info": {
   "codemirror_mode": {
    "name": "ipython",
    "version": 3
   },
   "file_extension": ".py",
   "mimetype": "text/x-python",
   "name": "python",
   "nbconvert_exporter": "python",
   "pygments_lexer": "ipython3",
   "version": "3.9.13"
  },
  "widgets": {
   "application/vnd.jupyter.widget-state+json": {
    "state": {},
    "version_major": 2,
    "version_minor": 0
   }
  }
 },
 "nbformat": 4,
 "nbformat_minor": 5
}
