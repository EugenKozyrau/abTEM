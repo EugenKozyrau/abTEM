{
 "cells": [
  {
   "cell_type": "code",
   "execution_count": 1,
   "id": "8cb2640e",
   "metadata": {},
   "outputs": [],
   "source": [
    "import numpy as np\n",
    "from ase.io import read\n",
    "from ase.cluster import Decahedron\n",
    "from dask.distributed import Client\n",
    "\n",
    "from abtem import GridScan, AnnularDetector, Probe, Potential, FrozenPhonons\n",
    "\n",
    "import os\n",
    "os.environ['MKL_NUM_THREADS'] = '1'"
   ]
  },
  {
   "cell_type": "markdown",
   "id": "94e5ee48-ef28-4588-abd8-5e4e310b3a84",
   "metadata": {},
   "source": [
    "# abTEM and Dask"
   ]
  },
  {
   "cell_type": "markdown",
   "id": "a92ddb86-dbd5-441a-82e0-edca83b24bec",
   "metadata": {},
   "source": [
    "Parallel computation in abTEM whether it is running on a laptop or a High Performance Computing cluster goes through [Dask](https://dask.org/). Some knowledge of Dask may be required to run abTEM effectively on large multi-CPU/GPU systems, however, if you are just running abTEM on your own computer, this tutorial gets you started. If you want a quick introduction to Dask, we recommend [this](https://www.youtube.com/watch?v=nnndxbr_Xq4&t=66s) short youtube video."
   ]
  },
  {
   "cell_type": "markdown",
   "id": "fe4b812d-ff9c-4582-a60e-29a47637c4fd",
   "metadata": {},
   "source": [
    "## Lazy computations and task graphs"
   ]
  },
  {
   "cell_type": "markdown",
   "id": "8601be3a",
   "metadata": {},
   "source": [
    "Computations in abTEM can be _lazy_ (otherwise called _delayed_), as an example this means that we can create the tasks required for building a probe wave function without actually running that calculation."
   ]
  },
  {
   "cell_type": "code",
   "execution_count": 37,
   "id": "78868ad8-4a9e-4c1f-a08f-292de3e68e37",
   "metadata": {},
   "outputs": [
    {
     "data": {
      "text/html": [
       "<table>\n",
       "<tr>\n",
       "<td>\n",
       "<table>\n",
       "  <thead>\n",
       "    <tr><td> </td><th> Array </th><th> Chunk </th></tr>\n",
       "  </thead>\n",
       "  <tbody>\n",
       "    <tr><th> Bytes </th><td> 512.00 kiB </td> <td> 512.00 kiB </td></tr>\n",
       "    <tr><th> Shape </th><td> (1, 256, 256) </td> <td> (1, 256, 256) </td></tr>\n",
       "    <tr><th> Count </th><td> 3 Tasks </td><td> 1 Chunks </td></tr>\n",
       "    <tr><th> Type </th><td> complex64 </td><td> numpy.ndarray </td></tr>\n",
       "  </tbody>\n",
       "</table>\n",
       "</td>\n",
       "<td>\n",
       "<svg width=\"194\" height=\"184\" style=\"stroke:rgb(0,0,0);stroke-width:1\" >\n",
       "\n",
       "  <!-- Horizontal lines -->\n",
       "  <line x1=\"10\" y1=\"0\" x2=\"24\" y2=\"14\" style=\"stroke-width:2\" />\n",
       "  <line x1=\"10\" y1=\"120\" x2=\"24\" y2=\"134\" style=\"stroke-width:2\" />\n",
       "\n",
       "  <!-- Vertical lines -->\n",
       "  <line x1=\"10\" y1=\"0\" x2=\"10\" y2=\"120\" style=\"stroke-width:2\" />\n",
       "  <line x1=\"24\" y1=\"14\" x2=\"24\" y2=\"134\" style=\"stroke-width:2\" />\n",
       "\n",
       "  <!-- Colored Rectangle -->\n",
       "  <polygon points=\"10.0,0.0 24.9485979497544,14.948597949754403 24.9485979497544,134.9485979497544 10.0,120.0\" style=\"fill:#ECB172A0;stroke-width:0\"/>\n",
       "\n",
       "  <!-- Horizontal lines -->\n",
       "  <line x1=\"10\" y1=\"0\" x2=\"130\" y2=\"0\" style=\"stroke-width:2\" />\n",
       "  <line x1=\"24\" y1=\"14\" x2=\"144\" y2=\"14\" style=\"stroke-width:2\" />\n",
       "\n",
       "  <!-- Vertical lines -->\n",
       "  <line x1=\"10\" y1=\"0\" x2=\"24\" y2=\"14\" style=\"stroke-width:2\" />\n",
       "  <line x1=\"130\" y1=\"0\" x2=\"144\" y2=\"14\" style=\"stroke-width:2\" />\n",
       "\n",
       "  <!-- Colored Rectangle -->\n",
       "  <polygon points=\"10.0,0.0 130.0,0.0 144.9485979497544,14.948597949754403 24.9485979497544,14.948597949754403\" style=\"fill:#ECB172A0;stroke-width:0\"/>\n",
       "\n",
       "  <!-- Horizontal lines -->\n",
       "  <line x1=\"24\" y1=\"14\" x2=\"144\" y2=\"14\" style=\"stroke-width:2\" />\n",
       "  <line x1=\"24\" y1=\"134\" x2=\"144\" y2=\"134\" style=\"stroke-width:2\" />\n",
       "\n",
       "  <!-- Vertical lines -->\n",
       "  <line x1=\"24\" y1=\"14\" x2=\"24\" y2=\"134\" style=\"stroke-width:2\" />\n",
       "  <line x1=\"144\" y1=\"14\" x2=\"144\" y2=\"134\" style=\"stroke-width:2\" />\n",
       "\n",
       "  <!-- Colored Rectangle -->\n",
       "  <polygon points=\"24.9485979497544,14.948597949754403 144.9485979497544,14.948597949754403 144.9485979497544,134.9485979497544 24.9485979497544,134.9485979497544\" style=\"fill:#ECB172A0;stroke-width:0\"/>\n",
       "\n",
       "  <!-- Text -->\n",
       "  <text x=\"84.948598\" y=\"154.948598\" font-size=\"1.0rem\" font-weight=\"100\" text-anchor=\"middle\" >256</text>\n",
       "  <text x=\"164.948598\" y=\"74.948598\" font-size=\"1.0rem\" font-weight=\"100\" text-anchor=\"middle\" transform=\"rotate(-90,164.948598,74.948598)\">256</text>\n",
       "  <text x=\"7.474299\" y=\"147.474299\" font-size=\"1.0rem\" font-weight=\"100\" text-anchor=\"middle\" transform=\"rotate(45,7.474299,147.474299)\">1</text>\n",
       "</svg>\n",
       "</td>\n",
       "</tr>\n",
       "</table>"
      ],
      "text/plain": [
       "dask.array<calculate_probes, shape=(1, 256, 256), dtype=complex64, chunksize=(1, 256, 256), chunktype=numpy.ndarray>"
      ]
     },
     "execution_count": 37,
     "metadata": {},
     "output_type": "execute_result"
    }
   ],
   "source": [
    "probe = Probe(energy=80e3, extent=10, gpts=256, semiangle_cutoff=20)\n",
    "\n",
    "build_probe = probe.build(lazy=True)\n",
    "\n",
    "build_probe.array"
   ]
  },
  {
   "cell_type": "markdown",
   "id": "c0263579",
   "metadata": {},
   "source": [
    "The result is a [Dask array](https://docs.dask.org/en/stable/array.html). If you want the NumPy array you have to compute it by running the `.compute` method."
   ]
  },
  {
   "cell_type": "code",
   "execution_count": 38,
   "id": "3dcbacbd",
   "metadata": {},
   "outputs": [
    {
     "data": {
      "text/plain": [
       "numpy.ndarray"
      ]
     },
     "execution_count": 38,
     "metadata": {},
     "output_type": "execute_result"
    }
   ],
   "source": [
    "build_probe.compute()\n",
    "\n",
    "type(build_probe.array)"
   ]
  },
  {
   "cell_type": "markdown",
   "id": "54af908e",
   "metadata": {},
   "source": [
    "The multislice algorithms requires running several interdependent tasks, we call this a [task graph](https://docs.dask.org/en/stable/graphs.html). Below we create the task graph for running the multislice algorithm several times with different frozen phonon configurations over a grid of initial probe wave functions. The result is a grid of 2d grids of 2d wave functions, which can be represented as a 5d NumPy array. Note that we are setting `lazy=True` and hence the calculation is _not being run_."
   ]
  },
  {
   "cell_type": "code",
   "execution_count": 39,
   "id": "1924a344",
   "metadata": {},
   "outputs": [],
   "source": [
    "atoms = Decahedron('Au', 2, 2, 1)\n",
    "atoms.rotate(30, 'x', center='cop')\n",
    "atoms.center(vacuum=1)\n",
    "\n",
    "potential = Potential(FrozenPhonons(atoms, 2, sigmas=.1), slice_thickness=2)\n",
    "\n",
    "gridscan = GridScan()\n",
    "\n",
    "exit_waves = probe.multislice(potential, gridscan, chunks='auto', lazy=True)"
   ]
  },
  {
   "cell_type": "markdown",
   "id": "7fd5a1e5-7ba7-43e8-a392-306e88a33053",
   "metadata": {},
   "source": [
    "This creates a delayed Dask array, the first dimension represents the frozen phonons, the next two dimensions are the scan dimensions and the last two dimensions representes the spatial frequencies (or scattering angles) in x and y."
   ]
  },
  {
   "cell_type": "code",
   "execution_count": 27,
   "id": "b9054e85-052c-4f9c-acd9-8cebbeb9486e",
   "metadata": {},
   "outputs": [
    {
     "data": {
      "text/html": [
       "<table>\n",
       "<tr>\n",
       "<td>\n",
       "<table>\n",
       "  <thead>\n",
       "    <tr><td> </td><th> Array </th><th> Chunk </th></tr>\n",
       "  </thead>\n",
       "  <tbody>\n",
       "    <tr><th> Bytes </th><td> 1.82 GiB </td> <td> 120.00 MiB </td></tr>\n",
       "    <tr><th> Shape </th><td> (4, 31, 30, 256, 256) </td> <td> (1, 16, 15, 256, 256) </td></tr>\n",
       "    <tr><th> Count </th><td> 54 Tasks </td><td> 16 Chunks </td></tr>\n",
       "    <tr><th> Type </th><td> complex64 </td><td> numpy.ndarray </td></tr>\n",
       "  </tbody>\n",
       "</table>\n",
       "</td>\n",
       "<td>\n",
       "<svg width=\"411\" height=\"193\" style=\"stroke:rgb(0,0,0);stroke-width:1\" >\n",
       "\n",
       "  <!-- Horizontal lines -->\n",
       "  <line x1=\"0\" y1=\"0\" x2=\"39\" y2=\"0\" style=\"stroke-width:2\" />\n",
       "  <line x1=\"0\" y1=\"6\" x2=\"39\" y2=\"6\" />\n",
       "  <line x1=\"0\" y1=\"13\" x2=\"39\" y2=\"13\" />\n",
       "  <line x1=\"0\" y1=\"20\" x2=\"39\" y2=\"20\" />\n",
       "  <line x1=\"0\" y1=\"27\" x2=\"39\" y2=\"27\" style=\"stroke-width:2\" />\n",
       "\n",
       "  <!-- Vertical lines -->\n",
       "  <line x1=\"0\" y1=\"0\" x2=\"0\" y2=\"27\" style=\"stroke-width:2\" />\n",
       "  <line x1=\"20\" y1=\"0\" x2=\"20\" y2=\"27\" />\n",
       "  <line x1=\"39\" y1=\"0\" x2=\"39\" y2=\"27\" style=\"stroke-width:2\" />\n",
       "\n",
       "  <!-- Colored Rectangle -->\n",
       "  <polygon points=\"0.0,0.0 39.62873454614094,0.0 39.62873454614094,27.675387197907465 0.0,27.675387197907465\" style=\"fill:#ECB172A0;stroke-width:0\"/>\n",
       "\n",
       "  <!-- Text -->\n",
       "  <text x=\"19.814367\" y=\"47.675387\" font-size=\"1.0rem\" font-weight=\"100\" text-anchor=\"middle\" >31</text>\n",
       "  <text x=\"59.628735\" y=\"13.837694\" font-size=\"1.0rem\" font-weight=\"100\" text-anchor=\"middle\" transform=\"rotate(0,59.628735,13.837694)\">4</text>\n",
       "\n",
       "\n",
       "  <!-- Horizontal lines -->\n",
       "  <line x1=\"109\" y1=\"0\" x2=\"132\" y2=\"23\" style=\"stroke-width:2\" />\n",
       "  <line x1=\"109\" y1=\"120\" x2=\"132\" y2=\"143\" style=\"stroke-width:2\" />\n",
       "\n",
       "  <!-- Vertical lines -->\n",
       "  <line x1=\"109\" y1=\"0\" x2=\"109\" y2=\"120\" style=\"stroke-width:2\" />\n",
       "  <line x1=\"120\" y1=\"11\" x2=\"120\" y2=\"131\" />\n",
       "  <line x1=\"132\" y1=\"23\" x2=\"132\" y2=\"143\" style=\"stroke-width:2\" />\n",
       "\n",
       "  <!-- Colored Rectangle -->\n",
       "  <polygon points=\"109.0,0.0 132.20956244944264,23.20956244944264 132.20956244944264,143.20956244944264 109.0,120.0\" style=\"fill:#ECB172A0;stroke-width:0\"/>\n",
       "\n",
       "  <!-- Horizontal lines -->\n",
       "  <line x1=\"109\" y1=\"0\" x2=\"229\" y2=\"0\" style=\"stroke-width:2\" />\n",
       "  <line x1=\"120\" y1=\"11\" x2=\"240\" y2=\"11\" />\n",
       "  <line x1=\"132\" y1=\"23\" x2=\"252\" y2=\"23\" style=\"stroke-width:2\" />\n",
       "\n",
       "  <!-- Vertical lines -->\n",
       "  <line x1=\"109\" y1=\"0\" x2=\"132\" y2=\"23\" style=\"stroke-width:2\" />\n",
       "  <line x1=\"229\" y1=\"0\" x2=\"252\" y2=\"23\" style=\"stroke-width:2\" />\n",
       "\n",
       "  <!-- Colored Rectangle -->\n",
       "  <polygon points=\"109.0,0.0 229.0,0.0 252.20956244944264,23.20956244944264 132.20956244944264,23.20956244944264\" style=\"fill:#ECB172A0;stroke-width:0\"/>\n",
       "\n",
       "  <!-- Horizontal lines -->\n",
       "  <line x1=\"132\" y1=\"23\" x2=\"252\" y2=\"23\" style=\"stroke-width:2\" />\n",
       "  <line x1=\"132\" y1=\"143\" x2=\"252\" y2=\"143\" style=\"stroke-width:2\" />\n",
       "\n",
       "  <!-- Vertical lines -->\n",
       "  <line x1=\"132\" y1=\"23\" x2=\"132\" y2=\"143\" style=\"stroke-width:2\" />\n",
       "  <line x1=\"252\" y1=\"23\" x2=\"252\" y2=\"143\" style=\"stroke-width:2\" />\n",
       "\n",
       "  <!-- Colored Rectangle -->\n",
       "  <polygon points=\"132.20956244944264,23.20956244944264 252.20956244944264,23.20956244944264 252.20956244944264,143.20956244944264 132.20956244944264,143.20956244944264\" style=\"fill:#ECB172A0;stroke-width:0\"/>\n",
       "\n",
       "  <!-- Text -->\n",
       "  <text x=\"192.209562\" y=\"163.209562\" font-size=\"1.0rem\" font-weight=\"100\" text-anchor=\"middle\" >256</text>\n",
       "  <text x=\"272.209562\" y=\"83.209562\" font-size=\"1.0rem\" font-weight=\"100\" text-anchor=\"middle\" transform=\"rotate(-90,272.209562,83.209562)\">256</text>\n",
       "  <text x=\"110.604781\" y=\"151.604781\" font-size=\"1.0rem\" font-weight=\"100\" text-anchor=\"middle\" transform=\"rotate(45,110.604781,151.604781)\">30</text>\n",
       "</svg>\n",
       "</td>\n",
       "</tr>\n",
       "</table>"
      ],
      "text/plain": [
       "dask.array<stack, shape=(4, 31, 30, 256, 256), dtype=complex64, chunksize=(1, 16, 15, 256, 256), chunktype=numpy.ndarray>"
      ]
     },
     "execution_count": 27,
     "metadata": {},
     "output_type": "execute_result"
    }
   ],
   "source": [
    "exit_waves.array"
   ]
  },
  {
   "cell_type": "markdown",
   "id": "4879b180-6e69-4b36-ae57-1287d490dbe5",
   "metadata": {},
   "source": [
    "If you have [graphviz](https://docs.dask.org/en/stable/graphviz.html) installed you can visualize the task graph as we do below."
   ]
  },
  {
   "cell_type": "code",
   "execution_count": 28,
   "id": "8cb7d25f-a7db-4448-b676-f421cf7bf4ec",
   "metadata": {},
   "outputs": [],
   "source": [
    "#exit_waves.visualize_graph(node_attr={'fontsize':'100.0'})"
   ]
  },
  {
   "cell_type": "markdown",
   "id": "3bd2bc8c-f8e3-4bf6-84f7-6266dc2416e5",
   "metadata": {},
   "source": [
    "Dask arrays are composed of many NumPy arrays (or CuPy arrays on gpu). In this example, the full Dask array is 1.82 gb of memory, however it is split into smaller NumPy arrays called _chunks_ which are each 120 mb. Your system could probably hold the entire 5d array in memory, however, if the simulation was larger this might not be true. \n",
    "\n",
    "In practice the entire 5d array does not have to be in memory at any point. Every time a new _chunk_ of the 5d array is created, it can be reduced to a smaller size by applying a detector configuration or by applying partial reductions across the froxen phonon dimenion."
   ]
  },
  {
   "cell_type": "code",
   "execution_count": 29,
   "id": "5ca54481",
   "metadata": {},
   "outputs": [
    {
     "data": {
      "text/html": [
       "<table>\n",
       "<tr>\n",
       "<td>\n",
       "<table>\n",
       "  <thead>\n",
       "    <tr><td> </td><th> Array </th><th> Chunk </th></tr>\n",
       "  </thead>\n",
       "  <tbody>\n",
       "    <tr><th> Bytes </th><td> 3.63 kiB </td> <td> 0.94 kiB </td></tr>\n",
       "    <tr><th> Shape </th><td> (31, 30) </td> <td> (16, 15) </td></tr>\n",
       "    <tr><th> Count </th><td> 114 Tasks </td><td> 4 Chunks </td></tr>\n",
       "    <tr><th> Type </th><td> float32 </td><td> numpy.ndarray </td></tr>\n",
       "  </tbody>\n",
       "</table>\n",
       "</td>\n",
       "<td>\n",
       "<svg width=\"166\" height=\"170\" style=\"stroke:rgb(0,0,0);stroke-width:1\" >\n",
       "\n",
       "  <!-- Horizontal lines -->\n",
       "  <line x1=\"0\" y1=\"0\" x2=\"116\" y2=\"0\" style=\"stroke-width:2\" />\n",
       "  <line x1=\"0\" y1=\"61\" x2=\"116\" y2=\"61\" />\n",
       "  <line x1=\"0\" y1=\"120\" x2=\"116\" y2=\"120\" style=\"stroke-width:2\" />\n",
       "\n",
       "  <!-- Vertical lines -->\n",
       "  <line x1=\"0\" y1=\"0\" x2=\"0\" y2=\"120\" style=\"stroke-width:2\" />\n",
       "  <line x1=\"58\" y1=\"0\" x2=\"58\" y2=\"120\" />\n",
       "  <line x1=\"116\" y1=\"0\" x2=\"116\" y2=\"120\" style=\"stroke-width:2\" />\n",
       "\n",
       "  <!-- Colored Rectangle -->\n",
       "  <polygon points=\"0.0,0.0 116.1290322580645,0.0 116.1290322580645,120.0 0.0,120.0\" style=\"fill:#ECB172A0;stroke-width:0\"/>\n",
       "\n",
       "  <!-- Text -->\n",
       "  <text x=\"58.064516\" y=\"140.000000\" font-size=\"1.0rem\" font-weight=\"100\" text-anchor=\"middle\" >30</text>\n",
       "  <text x=\"136.129032\" y=\"60.000000\" font-size=\"1.0rem\" font-weight=\"100\" text-anchor=\"middle\" transform=\"rotate(0,136.129032,60.000000)\">31</text>\n",
       "</svg>\n",
       "</td>\n",
       "</tr>\n",
       "</table>"
      ],
      "text/plain": [
       "dask.array<mean_agg-aggregate, shape=(31, 30), dtype=float32, chunksize=(16, 15), chunktype=numpy.ndarray>"
      ]
     },
     "execution_count": 29,
     "metadata": {},
     "output_type": "execute_result"
    }
   ],
   "source": [
    "diffraction_patterns = exit_waves.diffraction_patterns()\n",
    "\n",
    "measurement = diffraction_patterns.integrate_radial(50, 140).mean(0)\n",
    "\n",
    "measurement.array"
   ]
  },
  {
   "cell_type": "markdown",
   "id": "9a5c73be",
   "metadata": {},
   "source": [
    "We can finally call compute, which will trigger the calculation to start (should be about 10-30 s on an 8-core CPU)."
   ]
  },
  {
   "cell_type": "code",
   "execution_count": 30,
   "id": "6dbc940c-8dce-4e5a-b16d-a9ffa20bd2a4",
   "metadata": {},
   "outputs": [
    {
     "data": {
      "image/png": "[encoded data removed]",
      "text/plain": [
       "<Figure size 432x288 with 1 Axes>"
      ]
     },
     "metadata": {
      "filenames": {
       "image/png": "/Users/jacobmadsen/PycharmProjects/abTEM_dask/docs/_build/jupyter_execute/user_guide/dask_17_0.png"
      },
      "needs_background": "light"
     },
     "output_type": "display_data"
    }
   ],
   "source": [
    "measurement.compute()\n",
    "\n",
    "measurement.interpolate(.1).show();"
   ]
  },
  {
   "cell_type": "markdown",
   "id": "71168d52-60ef-4638-9734-6bf3aecba266",
   "metadata": {},
   "source": [
    "The result above can also be obtained using the `.scan` method and the `AnnularDetector` and this may run slightly faster, with lower memory consumption, since it allows us to do some small addtional optimizations."
   ]
  },
  {
   "cell_type": "code",
   "execution_count": 31,
   "id": "35c616a2-15e4-46c1-8b5a-f4254d17ff70",
   "metadata": {},
   "outputs": [],
   "source": [
    "detector = AnnularDetector(inner=50, outer=150, ensemble_mean=True)\n",
    "\n",
    "measurement = probe.scan(gridscan, detector, potential, chunks='auto', lazy=True)"
   ]
  },
  {
   "cell_type": "code",
   "execution_count": 32,
   "id": "ca5f567b-072c-4322-9545-46c0774eaaf3",
   "metadata": {},
   "outputs": [
    {
     "data": {
      "text/plain": [
       "<abtem.measure.measure.Images at 0x12aa80040>"
      ]
     },
     "execution_count": 32,
     "metadata": {},
     "output_type": "execute_result"
    }
   ],
   "source": [
    "measurement.compute()"
   ]
  },
  {
   "cell_type": "markdown",
   "id": "727281c0-1018-4120-a586-cf231f5e067b",
   "metadata": {},
   "source": [
    "## The task scheduler and deployment of abTEM"
   ]
  },
  {
   "cell_type": "markdown",
   "id": "00d36898-08da-4ec2-9f6b-4e1e1b11f130",
   "metadata": {},
   "source": [
    "After the task graph is generated, it has to be executed on parallel hardware, this is the job of a [task scheduler](https://docs.dask.org/en/stable/scheduling.html). The execution of abTEM simulation can be customized by passing the same arguments avaiable for Dask collections. For example:"
   ]
  },
  {
   "cell_type": "code",
   "execution_count": 33,
   "id": "f92fb48e-b196-4c61-8185-399d3de28400",
   "metadata": {},
   "outputs": [
    {
     "data": {
      "text/plain": [
       "<abtem.measure.measure.Images at 0x12e723160>"
      ]
     },
     "execution_count": 33,
     "metadata": {},
     "output_type": "execute_result"
    }
   ],
   "source": [
    "measurement = probe.scan(gridscan, detector, potential, chunks='auto', lazy=True)\n",
    "\n",
    "measurement.compute(n_workers=4)"
   ]
  },
  {
   "cell_type": "markdown",
   "id": "ad159543-f84c-4ab9-bf12-40a5be2eea44",
   "metadata": {},
   "source": [
    "However, we recommend that even if you are running abTEM locally you use the dask distributed scheduler."
   ]
  },
  {
   "cell_type": "code",
   "execution_count": 34,
   "id": "c88da5d3-6100-454b-8e4c-2ecf2ca36a64",
   "metadata": {},
   "outputs": [
    {
     "name": "stderr",
     "output_type": "stream",
     "text": [
      "/opt/anaconda3/envs/abtem-dask/lib/python3.8/site-packages/distributed/node.py:160: UserWarning: Port 8787 is already in use.\n",
      "Perhaps you already have a cluster running?\n",
      "Hosting the HTTP server on port 53726 instead\n",
      "  warnings.warn(\n"
     ]
    }
   ],
   "source": [
    "from dask.distributed import Client\n",
    "\n",
    "client = Client(n_workers=4)"
   ]
  },
  {
   "cell_type": "markdown",
   "id": "674162d2-e13a-4cd9-b400-785622cb5e91",
   "metadata": {},
   "source": [
    "The distributed scheduler provides a [diagnotic dashboard](https://docs.dask.org/en/latest/diagnostics-distributed.html) containing many plots and tables with live information about the simulation.\n",
    "\n",
    "The dashboard is typically served at http://localhost:8787/status, but may be served elsewhere if this port is taken. If you are using Jupyter Lab the [Dask labextension](https://github.com/dask/dask-labextension) provides the same information more conveniently."
   ]
  },
  {
   "cell_type": "code",
   "execution_count": 40,
   "id": "1b6dee5c-d98d-4a68-93d6-108df1a6908c",
   "metadata": {},
   "outputs": [
    {
     "data": {
      "text/html": [
       "<table style=\"border: 2px solid white;\">\n",
       "<tr>\n",
       "<td style=\"vertical-align: top; border: 0px solid white\">\n",
       "<h3 style=\"text-align: left;\">Client</h3>\n",
       "<ul style=\"text-align: left; list-style: none; margin: 0; padding: 0;\">\n",
       "  <li><b>Scheduler: </b>tcp://127.0.0.1:53727</li>\n",
       "  <li><b>Dashboard: </b><a href='http://127.0.0.1:53726/status' target='_blank'>http://127.0.0.1:53726/status</a></li>\n",
       "</ul>\n",
       "</td>\n",
       "<td style=\"vertical-align: top; border: 0px solid white\">\n",
       "<h3 style=\"text-align: left;\">Cluster</h3>\n",
       "<ul style=\"text-align: left; list-style:none; margin: 0; padding: 0;\">\n",
       "  <li><b>Workers: </b>4</li>\n",
       "  <li><b>Cores: </b>8</li>\n",
       "  <li><b>Memory: </b>16.00 GiB</li>\n",
       "</ul>\n",
       "</td>\n",
       "</tr>\n",
       "</table>"
      ],
      "text/plain": [
       "<Client: 'tcp://127.0.0.1:53727' processes=4 threads=8, memory=16.00 GiB>"
      ]
     },
     "execution_count": 40,
     "metadata": {},
     "output_type": "execute_result"
    }
   ],
   "source": [
    "client"
   ]
  },
  {
   "cell_type": "markdown",
   "id": "3418e063-24ce-4f6f-840c-dc2df74a847a",
   "metadata": {},
   "source": [
    "Click the link above, then run the code below to see the dashboard visualization of the computation."
   ]
  },
  {
   "cell_type": "code",
   "execution_count": 41,
   "id": "8f21c773-48c1-4512-9e1c-1a002154cab9",
   "metadata": {},
   "outputs": [
    {
     "data": {
      "text/plain": [
       "<abtem.measure.measure.Images at 0x12ac90e20>"
      ]
     },
     "execution_count": 41,
     "metadata": {},
     "output_type": "execute_result"
    }
   ],
   "source": [
    "measurement = probe.scan(gridscan, detector, potential, chunks='auto', lazy=True)\n",
    "measurement.compute()"
   ]
  },
  {
   "cell_type": "markdown",
   "id": "40089328-0ca9-48b5-adb8-a4f05c3c69be",
   "metadata": {},
   "source": [
    "abTEM can be deployed on various distributed systems following [these guidelines](https://docs.dask.org/en/stable/how-to/deploy-dask-clusters.html). Look [here](https://docs.dask.org/en/stable/how-to/deploy-dask/hpc.html) for instructions on deployment on High Performance Computers, using tools like MPI, or job schedulers like SLURM.\n",
    "We maintain a [Docker image](https://hub.docker.com/repository/docker/jacobjma/abtem-dask) that might be useful if your HPC cluster supports singularity.\n",
    "\n",
    "If you want to abTEM on (NVidia) GPU(s) we recommend that you check you [Dask CUDA](https://github.com/rapidsai/dask-cuda)."
   ]
  },
  {
   "cell_type": "code",
   "execution_count": 32,
   "id": "b1ae5126-3c44-40d1-9192-aa84b9396cf1",
   "metadata": {},
   "outputs": [],
   "source": [
    "#cluster = LocalCUDACluster()\n",
    "#client = Client(cluster)"
   ]
  }
 ],
 "metadata": {
  "kernelspec": {
   "display_name": "abtem-dask",
   "language": "python",
   "name": "abtem-dask"
  },
  "language_info": {
   "codemirror_mode": {
    "name": "ipython",
    "version": 3
   },
   "file_extension": ".py",
   "mimetype": "text/x-python",
   "name": "python",
   "nbconvert_exporter": "python",
   "pygments_lexer": "ipython3",
   "version": "3.8.10"
  }
 },
 "nbformat": 4,
 "nbformat_minor": 5
}