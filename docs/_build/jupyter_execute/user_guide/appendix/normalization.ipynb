{
 "cells": [
  {
   "cell_type": "markdown",
   "id": "e502a529-51bf-4c09-a936-fe44367ec5c2",
   "metadata": {},
   "source": [
    "# Wave Function Normalization"
   ]
  }
 ],
 "metadata": {
  "kernelspec": {
   "display_name": "dask-gpu",
   "language": "python",
   "name": "dask-gpu"
  },
  "language_info": {
   "codemirror_mode": {
    "name": "ipython",
    "version": 3
   },
   "file_extension": ".py",
   "mimetype": "text/x-python",
   "name": "python",
   "nbconvert_exporter": "python",
   "pygments_lexer": "ipython3",
   "version": "3.9.7"
  }
 },
 "nbformat": 4,
 "nbformat_minor": 5
}