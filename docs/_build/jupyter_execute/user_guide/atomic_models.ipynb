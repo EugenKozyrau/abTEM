{
 "cells": [
  {
   "cell_type": "code",
   "execution_count": 1,
   "metadata": {
    "pycharm": {
     "name": "#%%\n"
    },
    "tags": [
     "hide-input"
    ]
   },
   "outputs": [],
   "source": [
    "%matplotlib inline\n",
    "\n",
    "import matplotlib.pyplot as plt\n",
    "import numpy as np\n",
    "\n",
    "from ase import Atoms\n",
    "from ase import build\n",
    "from ase.io import read, write\n",
    "from ase.visualize import view\n",
    "\n",
    "import abtem"
   ]
  },
  {
   "cell_type": "markdown",
   "metadata": {
    "pycharm": {
     "name": "#%% md\n"
    }
   },
   "source": [
    "(user_guide:atomic_models)=\n",
    "# Atomic models with ASE\n",
    "abTEM uses the Atomic Simulation Environment ([ASE](https://wiki.fysik.dtu.dk/ase/)) for creating model atomic structures. ASE is a set of tools and Python modules for setting up, manipulating, visualizing and analyzing atomistic simulations. It is also used in conjunction with other simulation codes such as GPAW for running DFT simulations. Here, we introduce the set of features of ASE needed for image simulations; please refer to the ASE documentation for a more general introduction.\n",
    "\n",
    "## `Atoms`\n",
    "The `Atoms` object defines a collection of atoms. Here, is how to set up an N<sub>2</sub> molecule by directly specifying the position of the two nitrogen atoms (in units of Ångstrom):"
   ]
  },
  {
   "cell_type": "code",
   "execution_count": 2,
   "metadata": {
    "pycharm": {
     "name": "#%%\n"
    }
   },
   "outputs": [],
   "source": [
    "n2 = Atoms('2N', positions=[(0., 0., 0.), (0., 0., 1.10)], cell=[2, 2, 2])"
   ]
  },
  {
   "cell_type": "markdown",
   "metadata": {
    "pycharm": {
     "name": "#%% md\n"
    }
   },
   "source": [
    "A basic `abTEM` simulation only uses the positional coordinates, atomic numbers and the unit cell for creating electrostatic potentials. Below we access the atomic numbers and the $xyz$ positions as an $n\\times 3$ array:"
   ]
  },
  {
   "cell_type": "code",
   "execution_count": 3,
   "metadata": {
    "pycharm": {
     "name": "#%%\n"
    }
   },
   "outputs": [
    {
     "data": {
      "text/plain": [
       "(array([7, 7]),\n",
       " array([[0. , 0. , 0. ],\n",
       "        [0. , 0. , 1.1]]))"
      ]
     },
     "execution_count": 3,
     "metadata": {},
     "output_type": "execute_result"
    }
   ],
   "source": [
    "n2.numbers, n2.positions "
   ]
  },
  {
   "cell_type": "markdown",
   "metadata": {
    "pycharm": {
     "name": "#%% md\n"
    }
   },
   "source": [
    "The cell can be accessed as below:"
   ]
  },
  {
   "cell_type": "code",
   "execution_count": 4,
   "metadata": {
    "pycharm": {
     "name": "#%%\n"
    }
   },
   "outputs": [
    {
     "data": {
      "text/plain": [
       "Cell([2.0, 2.0, 2.0])"
      ]
     },
     "execution_count": 4,
     "metadata": {},
     "output_type": "execute_result"
    }
   ],
   "source": [
    "n2.cell"
   ]
  },
  {
   "cell_type": "markdown",
   "metadata": {
    "pycharm": {
     "name": "#%% md\n"
    }
   },
   "source": [
    "In this example, the unit vectors of the cell are all orthogonal and axis-aligned, hence the cell can be given as just the sides of a rectangular cuboid. In general, a cell is defined by three lattice vectors. We print the full representation of the cell below, where each row represents a lattice vector"
   ]
  },
  {
   "cell_type": "code",
   "execution_count": 5,
   "metadata": {
    "collapsed": false,
    "jupyter": {
     "outputs_hidden": false
    },
    "pycharm": {
     "name": "#%%\n"
    }
   },
   "outputs": [
    {
     "name": "stdout",
     "output_type": "stream",
     "text": [
      "[[2. 0. 0.]\n",
      " [0. 2. 0.]\n",
      " [0. 0. 2.]]\n"
     ]
    }
   ],
   "source": [
    "print(np.array(n2.cell))"
   ]
  },
  {
   "cell_type": "markdown",
   "metadata": {
    "pycharm": {
     "name": "#%% md\n"
    }
   },
   "source": [
    "```{important}\n",
    "The multislice algorithm as implemented in `abTEM` always requires that the unit cell is an axis-aligned rectangular cuboid, additionally, the cell must be periodic. Fulfilling both of these constraints, while creating a desired model structure is not always trivial, see [below](orthogonal) for our introduction to the problem.\n",
    "```"
   ]
  },
  {
   "cell_type": "markdown",
   "metadata": {
    "pycharm": {
     "name": "#%% md\n"
    }
   },
   "source": [
    "## Import/export\n",
    "\n",
    "ASE can import all the common atomic structure formats, see a full list [here](https://wiki.fysik.dtu.dk/ase/ase/io/io.html). Below we import a `.cif`-file defining a unit cell of strontium titanate (SrTiO<sub>3</sub>). \n",
    "\n",
    "We downloaded the structure file from the [materials project](https://materialsproject.org/). This is an open source library containing a huge number of crystal structures, calculated using density functional theory."
   ]
  },
  {
   "cell_type": "code",
   "execution_count": 6,
   "metadata": {
    "pycharm": {
     "name": "#%%\n"
    }
   },
   "outputs": [
    {
     "ename": "FileNotFoundError",
     "evalue": "[Errno 2] No such file or directory: './data/SrTiO3.cif'",
     "output_type": "error",
     "traceback": [
      "\u001b[0;31m---------------------------------------------------------------------------\u001b[0m",
      "\u001b[0;31mFileNotFoundError\u001b[0m                         Traceback (most recent call last)",
      "\u001b[0;32m<ipython-input-6-2f0f6722efbc>\u001b[0m in \u001b[0;36m<module>\u001b[0;34m\u001b[0m\n\u001b[0;32m----> 1\u001b[0;31m \u001b[0msrtio3\u001b[0m \u001b[0;34m=\u001b[0m \u001b[0mread\u001b[0m\u001b[0;34m(\u001b[0m\u001b[0;34m'./data/SrTiO3.cif'\u001b[0m\u001b[0;34m)\u001b[0m\u001b[0;34m\u001b[0m\u001b[0;34m\u001b[0m\u001b[0m\n\u001b[0m",
      "\u001b[0;32m/opt/anaconda3/envs/abtem-dask/lib/python3.8/site-packages/ase/io/formats.py\u001b[0m in \u001b[0;36mread\u001b[0;34m(filename, index, format, parallel, do_not_split_by_at_sign, **kwargs)\u001b[0m\n\u001b[1;32m    727\u001b[0m     \u001b[0;32mif\u001b[0m \u001b[0mindex\u001b[0m \u001b[0;32mis\u001b[0m \u001b[0;32mNone\u001b[0m\u001b[0;34m:\u001b[0m\u001b[0;34m\u001b[0m\u001b[0;34m\u001b[0m\u001b[0m\n\u001b[1;32m    728\u001b[0m         \u001b[0mindex\u001b[0m \u001b[0;34m=\u001b[0m \u001b[0;34m-\u001b[0m\u001b[0;36m1\u001b[0m\u001b[0;34m\u001b[0m\u001b[0;34m\u001b[0m\u001b[0m\n\u001b[0;32m--> 729\u001b[0;31m     \u001b[0mformat\u001b[0m \u001b[0;34m=\u001b[0m \u001b[0mformat\u001b[0m \u001b[0;32mor\u001b[0m \u001b[0mfiletype\u001b[0m\u001b[0;34m(\u001b[0m\u001b[0mfilename\u001b[0m\u001b[0;34m,\u001b[0m \u001b[0mread\u001b[0m\u001b[0;34m=\u001b[0m\u001b[0misinstance\u001b[0m\u001b[0;34m(\u001b[0m\u001b[0mfilename\u001b[0m\u001b[0;34m,\u001b[0m \u001b[0mstr\u001b[0m\u001b[0;34m)\u001b[0m\u001b[0;34m)\u001b[0m\u001b[0;34m\u001b[0m\u001b[0;34m\u001b[0m\u001b[0m\n\u001b[0m\u001b[1;32m    730\u001b[0m \u001b[0;34m\u001b[0m\u001b[0m\n\u001b[1;32m    731\u001b[0m     \u001b[0mio\u001b[0m \u001b[0;34m=\u001b[0m \u001b[0mget_ioformat\u001b[0m\u001b[0;34m(\u001b[0m\u001b[0mformat\u001b[0m\u001b[0;34m)\u001b[0m\u001b[0;34m\u001b[0m\u001b[0;34m\u001b[0m\u001b[0m\n",
      "\u001b[0;32m/opt/anaconda3/envs/abtem-dask/lib/python3.8/site-packages/ase/io/formats.py\u001b[0m in \u001b[0;36mfiletype\u001b[0;34m(filename, read, guess)\u001b[0m\n\u001b[1;32m    918\u001b[0m \u001b[0;34m\u001b[0m\u001b[0m\n\u001b[1;32m    919\u001b[0m         \u001b[0;32mif\u001b[0m \u001b[0morig_filename\u001b[0m \u001b[0;34m==\u001b[0m \u001b[0mfilename\u001b[0m\u001b[0;34m:\u001b[0m\u001b[0;34m\u001b[0m\u001b[0;34m\u001b[0m\u001b[0m\n\u001b[0;32m--> 920\u001b[0;31m             \u001b[0mfd\u001b[0m \u001b[0;34m=\u001b[0m \u001b[0mopen_with_compression\u001b[0m\u001b[0;34m(\u001b[0m\u001b[0mfilename\u001b[0m\u001b[0;34m,\u001b[0m \u001b[0;34m'rb'\u001b[0m\u001b[0;34m)\u001b[0m\u001b[0;34m\u001b[0m\u001b[0;34m\u001b[0m\u001b[0m\n\u001b[0m\u001b[1;32m    921\u001b[0m         \u001b[0;32melse\u001b[0m\u001b[0;34m:\u001b[0m\u001b[0;34m\u001b[0m\u001b[0;34m\u001b[0m\u001b[0m\n\u001b[1;32m    922\u001b[0m             \u001b[0mfd\u001b[0m \u001b[0;34m=\u001b[0m \u001b[0morig_filename\u001b[0m  \u001b[0;31m# type: ignore\u001b[0m\u001b[0;34m\u001b[0m\u001b[0;34m\u001b[0m\u001b[0m\n",
      "\u001b[0;32m/opt/anaconda3/envs/abtem-dask/lib/python3.8/site-packages/ase/io/formats.py\u001b[0m in \u001b[0;36mopen_with_compression\u001b[0;34m(filename, mode)\u001b[0m\n\u001b[1;32m    549\u001b[0m     \u001b[0;32melse\u001b[0m\u001b[0;34m:\u001b[0m\u001b[0;34m\u001b[0m\u001b[0;34m\u001b[0m\u001b[0m\n\u001b[1;32m    550\u001b[0m         \u001b[0;31m# Either None or unknown string\u001b[0m\u001b[0;34m\u001b[0m\u001b[0;34m\u001b[0m\u001b[0;34m\u001b[0m\u001b[0m\n\u001b[0;32m--> 551\u001b[0;31m         \u001b[0;32mreturn\u001b[0m \u001b[0mopen\u001b[0m\u001b[0;34m(\u001b[0m\u001b[0mfilename\u001b[0m\u001b[0;34m,\u001b[0m \u001b[0mmode\u001b[0m\u001b[0;34m)\u001b[0m\u001b[0;34m\u001b[0m\u001b[0;34m\u001b[0m\u001b[0m\n\u001b[0m\u001b[1;32m    552\u001b[0m \u001b[0;34m\u001b[0m\u001b[0m\n\u001b[1;32m    553\u001b[0m \u001b[0;34m\u001b[0m\u001b[0m\n",
      "\u001b[0;31mFileNotFoundError\u001b[0m: [Errno 2] No such file or directory: './data/SrTiO3.cif'"
     ]
    }
   ],
   "source": [
    "srtio3 = read('./data/SrTiO3.cif')"
   ]
  },
  {
   "cell_type": "markdown",
   "metadata": {},
   "source": [
    "Of course, we can also write the structure back to disk.  "
   ]
  },
  {
   "cell_type": "code",
   "execution_count": null,
   "metadata": {
    "pycharm": {
     "name": "#%%\n"
    }
   },
   "outputs": [],
   "source": [
    "write('./data/SrTiO3.cif', srtio3)"
   ]
  },
  {
   "cell_type": "markdown",
   "metadata": {},
   "source": [
    "```{warning}\n",
    "Unlike some other multislice simulation codes, `abTEM` does not use any Debye-Waller factors or partial occupations embedded in structure files.\n",
    "```"
   ]
  },
  {
   "cell_type": "markdown",
   "metadata": {
    "pycharm": {
     "name": "#%% md\n"
    }
   },
   "source": [
    "## Visualizing structures\n",
    "The simplest way to visualize the atoms is the `view` function, which should bring up an interactive 3d viewer:"
   ]
  },
  {
   "cell_type": "code",
   "execution_count": null,
   "metadata": {
    "pycharm": {
     "name": "#%%\n"
    }
   },
   "outputs": [],
   "source": [
    "# may not work in remote environments (e.g. binder)\n",
    "# view(srtio3) "
   ]
  },
  {
   "cell_type": "markdown",
   "metadata": {
    "pycharm": {
     "name": "#%% md\n"
    }
   },
   "source": [
    "If you are working in a remote environment or prefer to embed the viewer in the notebook, you can install [nglview](https://github.com/nglviewer/nglview). This will allow you to use the `nglview` backend for the `view` function."
   ]
  },
  {
   "cell_type": "code",
   "execution_count": null,
   "metadata": {
    "pycharm": {
     "name": "#%%\n"
    },
    "tags": []
   },
   "outputs": [],
   "source": [
    "# may not work without installing additional dependencies\n",
    "# view(srtio3, viewer='nglview') "
   ]
  },
  {
   "cell_type": "markdown",
   "metadata": {
    "pycharm": {
     "name": "#%% md\n"
    }
   },
   "source": [
    "`abTEM` provides a simple viewer for embedding a basic visualization in a notebook. This function shows a 2D orthogonal projection of the structure perpendicular to a specified plane. For example:"
   ]
  },
  {
   "cell_type": "code",
   "execution_count": null,
   "metadata": {
    "pycharm": {
     "name": "#%%\n"
    }
   },
   "outputs": [],
   "source": [
    "abtem.show_atoms(srtio3, \n",
    "                 plane='xy', \n",
    "                 scale=.5, \n",
    "                 show_periodic=True,\n",
    "                 legend=True);"
   ]
  },
  {
   "cell_type": "markdown",
   "metadata": {
    "pycharm": {
     "name": "#%% md\n"
    }
   },
   "source": [
    "## Bulding structures\n",
    "\n",
    "In addition to importing the structure, ASE has tools for procedurally creating many common structures:\n",
    "\n",
    "* Common bulk crystals: [`ase.build.bulk`](https://wiki.fysik.dtu.dk/ase/ase/build/build.html#ase.build.bulk)\n",
    "* Bulk structures by its spacegroup: [`ase.spacegroup.crystal`](https://wiki.fysik.dtu.dk/ase/ase/spacegroup/spacegroup.html?highlight=crystal)\n",
    "* Carbon nanotubes: [`ase.build.nanotube`](https://wiki.fysik.dtu.dk/ase/ase/build/build.html#nanotubes)\n",
    "* Nanoparticles: [`ase.cluster`](https://wiki.fysik.dtu.dk/ase/ase/cluster/cluster.html)\n",
    "\n",
    "As an example, we create a nanoparticle of gold by specifying 6 layers in the (100) directions, 9 in the (110) directions and 5 in the (111) directions"
   ]
  },
  {
   "cell_type": "code",
   "execution_count": null,
   "metadata": {
    "pycharm": {
     "name": "#%%\n"
    }
   },
   "outputs": [],
   "source": [
    "from ase.cluster import FaceCenteredCubic\n",
    "\n",
    "surfaces = [(1, 0, 0), (1, 1, 0), (1, 1, 1)]\n",
    "layers = [6, 9, 5]\n",
    "latticeconstant = 4.08\n",
    "\n",
    "nanoparticle = FaceCenteredCubic('Au', surfaces, layers, latticeconstant=latticeconstant)\n",
    "\n",
    "abtem.show_atoms(nanoparticle, scale=.9);"
   ]
  },
  {
   "cell_type": "markdown",
   "metadata": {
    "pycharm": {
     "name": "#%% md\n"
    }
   },
   "source": [
    "## Manipulating structures\n",
    "\n",
    "The structure you import or build may not exactly match your requirements or the requirements of `abTEM`. Here, we exemplify the most common manipulations needed for creating models for image simulation:"
   ]
  },
  {
   "cell_type": "markdown",
   "metadata": {
    "pycharm": {
     "name": "#%% md\n"
    }
   },
   "source": [
    "### Rotating structures\n",
    "One of the most common problem when creating model structures is choosing the imaging direction. `abTEM` always assumes that the imaging electrons travels along the $z$-axis in the direction from negative to positive coordinate values, hence choosing the propagation direction requires manipulating the atomic structure.\n",
    "\n",
    "In this example, we rotate the nanoparticle into the (110) zone axis with the (100)-facet aligned with the $x$-axis. We first [`.rotate`](https://wiki.fysik.dtu.dk/ase/ase/atoms.html?highlight=atoms#ase.Atoms.rotate) the atoms by $45 \\ \\mathrm{deg.}$ around $x$ and then by $\\sim35.26 \\ \\mathrm{deg.}$ around $z$."
   ]
  },
  {
   "cell_type": "code",
   "execution_count": null,
   "metadata": {
    "pycharm": {
     "name": "#%%\n"
    }
   },
   "outputs": [],
   "source": [
    "rotated_nanoparticle = nanoparticle.copy()\n",
    "\n",
    "rotated_nanoparticle.rotate(45, 'x')\n",
    "\n",
    "rotated_nanoparticle.rotate(np.degrees(np.arctan(1 / np.sqrt(2))), 'z')\n",
    "\n",
    "abtem.show_atoms(rotated_nanoparticle, scale=.9);"
   ]
  },
  {
   "cell_type": "markdown",
   "metadata": {},
   "source": [
    "```{seealso}\n",
    "For rotations that does not correspond with a low-index zone axis, see our introduction to creating arbitrary orthogonal structures [below](orthogonal).\n",
    "```"
   ]
  },
  {
   "cell_type": "markdown",
   "metadata": {},
   "source": [
    "### Adding vacuum\n",
    "\n",
    "The unit cell of the nanotube above has *zero extent*."
   ]
  },
  {
   "cell_type": "code",
   "execution_count": null,
   "metadata": {},
   "outputs": [],
   "source": [
    "rotated_nanoparticle.cell"
   ]
  },
  {
   "cell_type": "markdown",
   "metadata": {},
   "source": [
    "The extent of the unit cell determines the extent of the wave function, hence this is an invalid cell. We can use `.center` to add vacuum around the unit cell."
   ]
  },
  {
   "cell_type": "code",
   "execution_count": null,
   "metadata": {},
   "outputs": [],
   "source": [
    "centered_nanoparticle = rotated_nanoparticle.copy()\n",
    "\n",
    "centered_nanoparticle.center(vacuum=2)"
   ]
  },
  {
   "cell_type": "markdown",
   "metadata": {},
   "source": [
    "Showing the unit cell, we now see that there is a vacuum of $2 \\ \\mathrm{Å}$ separating the outermost atoms and the unit cell boundary.   "
   ]
  },
  {
   "cell_type": "code",
   "execution_count": null,
   "metadata": {},
   "outputs": [],
   "source": [
    "abtem.show_atoms(centered_nanoparticle);"
   ]
  },
  {
   "cell_type": "markdown",
   "metadata": {
    "pycharm": {
     "name": "#%% md\n"
    }
   },
   "source": [
    "### Rotation of bulk structures\n",
    "\n",
    "Rotating the nanoparticle without considering the unit cell was only possible because the structure did not require periodicity. For periodic structures, we can use [`surface`](https://wiki.fysik.dtu.dk/ase/ase/build/surface.html#create-specific-non-common-surfaces) function for picking the [zone axis](https://en.wikipedia.org/wiki/Zone_axis) of a given structure by providing the Miller indices. Below we create a SrTiO<sub>3</sub> structure in the (110) zone axis."
   ]
  },
  {
   "cell_type": "code",
   "execution_count": null,
   "metadata": {
    "pycharm": {
     "name": "#%%\n"
    }
   },
   "outputs": [],
   "source": [
    "srtio3_110 = build.surface(srtio3, indices=(1, 1, 0), layers=4, periodic=True)\n",
    "\n",
    "abtem.show_atoms(srtio3_110, plane='xy', show_periodic=True, scale=.5);"
   ]
  },
  {
   "cell_type": "markdown",
   "metadata": {},
   "source": [
    "```{seealso}\n",
    "For rotations that does not correspond with a low-index zone axis, see our introduction to creating arbitrary orthogonal structures [below](orthogonal).\n",
    "```"
   ]
  },
  {
   "cell_type": "markdown",
   "metadata": {
    "pycharm": {
     "name": "#%% md\n"
    }
   },
   "source": [
    "### Repeating the structure\n",
    "\n",
    "It is often necessary to repeat the unit cell. For example, you may need to increase the thickness of the structure by repeating it along $z$. In STEM, the $xy$-extent of the model structure have to be large enough to accomodate the size of the probe while preventing self-interaction with its periodic images.\n",
    "\n",
    "In ASE structures may be repeated by multiplying them."
   ]
  },
  {
   "cell_type": "code",
   "execution_count": null,
   "metadata": {
    "collapsed": false,
    "jupyter": {
     "outputs_hidden": false
    },
    "pycharm": {
     "name": "#%%\n"
    }
   },
   "outputs": [],
   "source": [
    "repeated_srtio3 = srtio3_110 * (4, 5, 2)\n",
    "\n",
    "_, (ax1, ax2) = plt.subplots(1, 2, figsize = (10, 5))\n",
    "abtem.show_atoms(repeated_srtio3, ax=ax1, show_periodic=True)\n",
    "abtem.show_atoms(repeated_srtio3, ax=ax2, plane='xz', show_periodic=True);"
   ]
  },
  {
   "cell_type": "markdown",
   "metadata": {
    "pycharm": {
     "name": "#%% md\n"
    }
   },
   "source": [
    "### Conditionally modifying atoms\n",
    "\n",
    "The atomic positions and numbers are just `numpy` arrays and can be modified directly. We create a SrTiO<sub>3</sub> / LaTiO<sub>3</sub> interface changing the atomic number of half the Sr atoms."
   ]
  },
  {
   "cell_type": "code",
   "execution_count": null,
   "metadata": {
    "collapsed": false,
    "jupyter": {
     "outputs_hidden": false
    },
    "pycharm": {
     "name": "#%%\n"
    }
   },
   "outputs": [],
   "source": [
    "sto_lto_interface = repeated_srtio3.copy()\n",
    "\n",
    "# select atoms with atomic number 38\n",
    "mask_sr = sto_lto_interface.numbers == 38 \n",
    "\n",
    "# select atoms to the left of center\n",
    "mask_left_side = sto_lto_interface.positions[:, 0] < sto_lto_interface.cell[0,0] / 2 \n",
    "\n",
    "# combine selection\n",
    "mask_combined = mask_sr * mask_left_side\n",
    "\n",
    "# assign new atomic numbers to selection\n",
    "sto_lto_interface.numbers[mask_combined] = 57\n",
    "\n",
    "sto_lto_interface.center()\n",
    "\n",
    "abtem.show_atoms(sto_lto_interface, show_periodic=True, legend=True);"
   ]
  },
  {
   "cell_type": "code",
   "execution_count": null,
   "metadata": {},
   "outputs": [],
   "source": [
    "write('data/STO_LTO.cif', sto_lto_interface)"
   ]
  },
  {
   "cell_type": "markdown",
   "metadata": {},
   "source": [
    "As an alternative, you can use the getter and setter methods `get_atomic_numbers` and `set_atomic_numbers`."
   ]
  },
  {
   "cell_type": "markdown",
   "metadata": {
    "pycharm": {
     "name": "#%% md\n"
    }
   },
   "source": [
    "### Scaling structures\n",
    "\n",
    "Here, we randomly substitutionally dope the structures by making the titanium atoms into indium atoms with a probability of 10 %."
   ]
  },
  {
   "cell_type": "code",
   "execution_count": null,
   "metadata": {
    "pycharm": {
     "name": "#%%\n"
    }
   },
   "outputs": [],
   "source": [
    "scaled_sto_lto_interface = sto_lto_interface.copy()\n",
    "\n",
    "a_sr = 3.905\n",
    "a_la = 3.97\n",
    "a_new = (3.905 + 3.97) / 2\n",
    "a_old = srtio3.cell[0, 0]\n",
    "\n",
    "new_cell = sto_lto_interface.cell * a_new / a_old\n",
    "\n",
    "scaled_sto_lto_interface.set_cell(new_cell, scale_atoms=True)"
   ]
  },
  {
   "cell_type": "markdown",
   "metadata": {
    "pycharm": {
     "name": "#%% md\n"
    }
   },
   "source": [
    "### Combining multiple structures\n",
    "\n",
    "Some complex hetero-structures can only be created by combining multiple component structures. As an example we create a support the nanoparticle from above on a simple model of amorphous carbon.\n",
    "\n",
    "Below, the amorphous carbon is created by randomly displacing the atoms of a diamond structure."
   ]
  },
  {
   "cell_type": "code",
   "execution_count": null,
   "metadata": {},
   "outputs": [],
   "source": [
    "substrate = build.bulk('C', cubic=True)\n",
    "\n",
    "# repeat substrate\n",
    "substrate *= (10, 5, 10) \n",
    "\n",
    "# displace atoms with a standard deviation of 25 % of the bond length\n",
    "rng = np.random.default_rng(seed=10)\n",
    "substrate.positions[:] += rng.normal(size=(len(substrate), 3)) * .25 * 1.54 \n",
    "\n",
    "# wrap the atoms displaced outside the cell back into the cell \n",
    "substrate.wrap()"
   ]
  },
  {
   "cell_type": "markdown",
   "metadata": {},
   "source": [
    "We delete the atoms with a value of $y$ less than $\\mathrm{10} \\ Å$, then the nanoparticle is centered with respect to the substrate."
   ]
  },
  {
   "cell_type": "code",
   "execution_count": null,
   "metadata": {},
   "outputs": [],
   "source": [
    "cut_nanoparticle = centered_nanoparticle.copy()\n",
    "\n",
    "mask = cut_nanoparticle.positions[:, 1] < 10\n",
    "\n",
    "# deletion *requires* providing the indices\n",
    "del cut_nanoparticle[np.where(mask)[0]]\n",
    "\n",
    "# center nanoparticle relative to substrate\n",
    "cut_nanoparticle.set_cell(substrate.cell)\n",
    "cut_nanoparticle.center()\n",
    "\n",
    "# shift nanoparticle in the y-direction\n",
    "cut_nanoparticle.positions[:, 1] += 15"
   ]
  },
  {
   "cell_type": "markdown",
   "metadata": {},
   "source": [
    "The substrate and nanoparticle and be combined by adding the models, lastly the models are centered along the $z$-axis with a vacuum of $5 \\ \\mathrm{Å}$"
   ]
  },
  {
   "cell_type": "code",
   "execution_count": null,
   "metadata": {},
   "outputs": [],
   "source": [
    "supported_nanoparticle = substrate + cut_nanoparticle\n",
    "\n",
    "supported_nanoparticle.center(axis=1, vacuum=5)\n",
    "\n",
    "_, (ax1, ax2) = plt.subplots(1, 2, figsize = (10, 5))\n",
    "abtem.show_atoms(supported_nanoparticle, ax=ax1, title='Supported nanoparticle beam view')\n",
    "abtem.show_atoms(supported_nanoparticle, ax=ax2, plane='xz', title='Supported nanoparticle side view');"
   ]
  },
  {
   "cell_type": "code",
   "execution_count": null,
   "metadata": {
    "collapsed": false,
    "jupyter": {
     "outputs_hidden": false
    },
    "pycharm": {
     "name": "#%%\n"
    }
   },
   "outputs": [],
   "source": [
    "write('data/srtio3_110.cif', repeated_srtio3)"
   ]
  },
  {
   "cell_type": "markdown",
   "metadata": {
    "pycharm": {
     "name": "#%% md\n"
    }
   },
   "source": [
    "(orthogonal)=\n",
    "## Orthogonal and periodic supercells\n",
    "\n",
    "The multislice algorithm requires an orthogonal periodic atomic structure as its input. However, taking any arbitrary structure and making it periodic and orthogonal is not always trivial. abTEM has a tool for solving this problem. To demonstrate the tool, we create a graphene structure with the minimal hexagonal unit cell. "
   ]
  },
  {
   "cell_type": "code",
   "execution_count": null,
   "metadata": {
    "pycharm": {
     "name": "#%%\n"
    }
   },
   "outputs": [],
   "source": [
    "from ase import build\n",
    "\n",
    "graphene = build.graphene(vacuum=10)\n",
    "\n",
    "abtem.show_atoms(graphene, show_periodic=True);"
   ]
  },
  {
   "cell_type": "markdown",
   "metadata": {
    "pycharm": {
     "name": "#%% md\n"
    }
   },
   "source": [
    "The minimal unit cell of graphene is hexagonal, whereas the multislice algorithm requires an orthogonal unit cell. To make the unit cell orthogonal, we can use the abTEM `orthogonalize_cell` function. It is not always possible to make a periodic cell orthogonal without introducing some strain, hence we can return the strain tensor."
   ]
  },
  {
   "cell_type": "code",
   "execution_count": null,
   "metadata": {
    "pycharm": {
     "name": "#%%\n"
    }
   },
   "outputs": [],
   "source": [
    "from abtem.structures import orthogonalize_cell, pretty_print_transform\n",
    "\n",
    "orthogonal_graphene, transform = orthogonalize_cell(graphene, return_transform=True)\n",
    "\n",
    "abtem.show_atoms(orthogonal_graphene, show_periodic=True);"
   ]
  },
  {
   "cell_type": "markdown",
   "metadata": {
    "pycharm": {
     "name": "#%% md\n"
    }
   },
   "source": [
    "Hexagonal cells can be made orthogonal by doubling its size without introducing any strain."
   ]
  },
  {
   "cell_type": "code",
   "execution_count": null,
   "metadata": {
    "pycharm": {
     "name": "#%%\n"
    }
   },
   "outputs": [],
   "source": [
    "pretty_print_transform(transform)"
   ]
  },
  {
   "cell_type": "markdown",
   "metadata": {
    "pycharm": {
     "name": "#%% md\n"
    }
   },
   "source": [
    "A common, less trivial example, is the creation of models with a specific rotation relative to the beam. Here, we want to view FCC gold at a 10 degree angle."
   ]
  },
  {
   "cell_type": "code",
   "execution_count": null,
   "metadata": {
    "pycharm": {
     "name": "#%%\n"
    }
   },
   "outputs": [],
   "source": [
    "desired_rotation = 10\n",
    "\n",
    "gold = build.bulk('Au', cubic=True)\n",
    "\n",
    "gold.rotate(desired_rotation, 'y', rotate_cell=True)\n",
    "\n",
    "gold, transform = orthogonalize_cell(gold, max_repetitions=10, return_transform=True)\n",
    "\n",
    "fig, (ax1, ax2) = plt.subplots(1, 2, figsize=(10, 5))\n",
    "\n",
    "abtem.show_atoms(gold, \n",
    "                 ax=ax1, \n",
    "                 scale=.5, \n",
    "                 title='Rotated gold beam view')\n",
    "\n",
    "abtem.show_atoms(gold, \n",
    "                 ax=ax2, \n",
    "                 plane='xz', \n",
    "                 scale=.5, \n",
    "                 title='Rotated gold side view');"
   ]
  },
  {
   "cell_type": "markdown",
   "metadata": {
    "pycharm": {
     "name": "#%% md\n"
    }
   },
   "source": [
    "As shown below, creating the rotated structure required an additional rotation of $0.538 \\ \\mathrm{degrees}$ around the $y$-axis. This means that within the contraint of repeating the structure at most 10 times in either direction, the closest periodic and orthogonal structure is rotated by $10.538 \\ \\mathrm{degrees}$ and not the desired $10.0 \\ \\mathrm{degrees}$. This may be close enough, if it is not `max_repetitions` may be increased. For example, within a `max_repetitions` of 20, the required transform is just $-0.008 \\ \\mathrm{degrees}$ around the $y$-axis."
   ]
  },
  {
   "cell_type": "code",
   "execution_count": null,
   "metadata": {
    "pycharm": {
     "name": "#%%\n"
    }
   },
   "outputs": [],
   "source": [
    "pretty_print_transform(transform)"
   ]
  }
 ],
 "metadata": {
  "kernelspec": {
   "display_name": "abtem-dask",
   "language": "python",
   "name": "abtem-dask"
  },
  "language_info": {
   "codemirror_mode": {
    "name": "ipython",
    "version": 3
   },
   "file_extension": ".py",
   "mimetype": "text/x-python",
   "name": "python",
   "nbconvert_exporter": "python",
   "pygments_lexer": "ipython3",
   "version": "3.8.10"
  }
 },
 "nbformat": 4,
 "nbformat_minor": 4
}