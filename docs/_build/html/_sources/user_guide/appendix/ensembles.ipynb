{
 "cells": [
  {
   "cell_type": "markdown",
   "id": "16af02d4-e466-42ff-9795-c704edb49e80",
   "metadata": {},
   "source": [
    "(getting_started:appendix:ensembles)=\n",
    "# Ensembles"
   ]
  }
 ],
 "metadata": {
  "kernelspec": {
   "display_name": "abtem-dask",
   "language": "python",
   "name": "abtem-dask"
  },
  "language_info": {
   "codemirror_mode": {
    "name": "ipython",
    "version": 3
   },
   "file_extension": ".py",
   "mimetype": "text/x-python",
   "name": "python",
   "nbconvert_exporter": "python",
   "pygments_lexer": "ipython3",
   "version": "3.8.10"
  }
 },
 "nbformat": 4,
 "nbformat_minor": 5
}
