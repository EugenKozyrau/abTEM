{
 "cells": [
  {
   "cell_type": "markdown",
   "id": "97dbed61-5e88-4ec3-9c2a-83a0d70f2ba8",
   "metadata": {},
   "source": [
    "# Performance, parallelization and GPUs\n",
    "\n",
    "Large STEM calculations "
   ]
  },
  {
   "cell_type": "markdown",
   "id": "2b2c74ed-dfb6-4426-898a-63110b6fb253",
   "metadata": {},
   "source": [
    "## Configuration"
   ]
  },
  {
   "cell_type": "markdown",
   "id": "482ae446-a875-42ae-b7a0-b3efadc1f110",
   "metadata": {},
   "source": []
  },
  {
   "cell_type": "markdown",
   "id": "43b2aaf0-80a0-4058-99a2-faa12025ab42",
   "metadata": {},
   "source": [
    "## Dask\n",
    "\n",
    "*abTEM* is parallelized using [Dask](https://dask.org/) {cite}`dask`. \n",
    "\n",
    "Parallel computation in abTEM whether it is running on a laptop or a High Performance Computing cluster is parallelized through . \n",
    "\n",
    "Some knowledge of Dask may be required to run abTEM effectively on large multi-CPU/GPU systems, however, if you are just running abTEM on your own computer, this tutorial gets you started. If you want a quick introduction to Dask, we recommend thishttps://www.youtube.com/watch?v=nnndxbr_Xq4&t=66s) short youtube video."
   ]
  },
  {
   "cell_type": "markdown",
   "id": "e39cb8d2-a898-478d-9831-275ac5f2f06b",
   "metadata": {},
   "source": [
    "## GPUs\n",
    "\n",
    "Almost every part . This is possible through"
   ]
  },
  {
   "cell_type": "markdown",
   "id": "a149494a-31fb-4908-97c5-0ab1ed750e9b",
   "metadata": {},
   "source": []
  }
 ],
 "metadata": {
  "kernelspec": {
   "display_name": "abtem-dask",
   "language": "python",
   "name": "abtem-dask"
  },
  "language_info": {
   "codemirror_mode": {
    "name": "ipython",
    "version": 3
   },
   "file_extension": ".py",
   "mimetype": "text/x-python",
   "name": "python",
   "nbconvert_exporter": "python",
   "pygments_lexer": "ipython3",
   "version": "3.8.10"
  }
 },
 "nbformat": 4,
 "nbformat_minor": 5
}
