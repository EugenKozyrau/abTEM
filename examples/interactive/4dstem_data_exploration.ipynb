{
 "cells": [
  {
   "cell_type": "code",
   "execution_count": 1,
   "metadata": {},
   "outputs": [],
   "source": [
    "import ipywidgets as widgets\n",
    "import numpy as np\n",
    "from ase.cluster import Decahedron\n",
    "from traitlets import link\n",
    "\n",
    "from abtem import PixelatedDetector, SMatrix, GridScan, Potential, show_atoms, FrozenPhonons\n",
    "from abtem.visualize.interactive.artists import MeasurementArtist2d\n",
    "from abtem.visualize.interactive.canvas import Canvas\n",
    "from abtem.visualize.interactive.tools import BoxZoomTool, PanZoomTool, SelectPixelTool, BoxSelectPixelTool"
   ]
  },
  {
   "cell_type": "markdown",
   "metadata": {},
   "source": [
    "# 4D-STEM data visualization"
   ]
  },
  {
   "cell_type": "code",
   "execution_count": 2,
   "metadata": {},
   "outputs": [],
   "source": [
    "from ase.cluster import Decahedron\n",
    "import numpy as np\n",
    "from abtem import SMatrix, GridScan, Potential, MDFrozenPhonons, AnnularDetector\n",
    "\n",
    "atoms = Decahedron('Au', 4, 2, 1, latticeconstant=None)\n",
    "atoms.rotate(30, 'x', center='cop')\n",
    "atoms.center(vacuum=2)"
   ]
  },
  {
   "cell_type": "code",
   "execution_count": 4,
   "metadata": {},
   "outputs": [
    {
     "data": {
      "application/vnd.jupyter.widget-view+json": {
       "model_id": "b2b7211838184753a3c5fc1b9b699a65",
       "version_major": 2,
       "version_minor": 0
      },
      "text/plain": [
       "Potential:   0%|          | 0/38 [00:00<?, ?it/s]"
      ]
     },
     "metadata": {},
     "output_type": "display_data"
    },
    {
     "data": {
      "application/vnd.jupyter.widget-view+json": {
       "model_id": "a4d4cc3033fe419ab7e5771869ad14b7",
       "version_major": 2,
       "version_minor": 0
      },
      "text/plain": [
       "Multislice:   0%|          | 0/315 [00:00<?, ?it/s]"
      ]
     },
     "metadata": {},
     "output_type": "display_data"
    },
    {
     "data": {
      "application/vnd.jupyter.widget-view+json": {
       "model_id": "bf6fefc6e98c439c84eada1d52953b83",
       "version_major": 2,
       "version_minor": 0
      },
      "text/plain": [
       "Scan:   0%|          | 0/4544 [00:00<?, ?it/s]"
      ]
     },
     "metadata": {},
     "output_type": "display_data"
    }
   ],
   "source": [
    "potential = Potential(atoms=atoms,\n",
    "                      projection='infinite',\n",
    "                      parametrization='kirkland')\n",
    "\n",
    "S = SMatrix(semiangle_cutoff=15, energy=100e3, gpts=512, interpolation=1, device='gpu')\n",
    "\n",
    "detector = AnnularDetector(50, 150)\n",
    "\n",
    "scan = GridScan((0, 0), np.diag(atoms.cell)[:2], sampling=S.ctf.nyquist_sampling * .6)\n",
    "\n",
    "measurement = S.scan(scan, detector, potential)"
   ]
  },
  {
   "cell_type": "code",
   "execution_count": 5,
   "metadata": {},
   "outputs": [
    {
     "data": {
      "application/vnd.jupyter.widget-view+json": {
       "model_id": "791cfe7b0ace4667bc2f4ee3f2f275eb",
       "version_major": 2,
       "version_minor": 0
      },
      "text/plain": [
       "Potential:   0%|          | 0/38 [00:00<?, ?it/s]"
      ]
     },
     "metadata": {},
     "output_type": "display_data"
    },
    {
     "data": {
      "application/vnd.jupyter.widget-view+json": {
       "model_id": "dde804ef8e3b420186c8cebbaee4a016",
       "version_major": 2,
       "version_minor": 0
      },
      "text/plain": [
       "Multislice:   0%|          | 0/315 [00:00<?, ?it/s]"
      ]
     },
     "metadata": {},
     "output_type": "display_data"
    },
    {
     "data": {
      "application/vnd.jupyter.widget-view+json": {
       "model_id": "75cbafba5ddb4b0e96e21ca040601f3e",
       "version_major": 2,
       "version_minor": 0
      },
      "text/plain": [
       "Scan:   0%|          | 0/10176 [00:00<?, ?it/s]"
      ]
     },
     "metadata": {},
     "output_type": "display_data"
    }
   ],
   "source": [
    "potential = Potential(atoms=FrozenPhonons(atoms, sigmas=.0, num_configs=1),\n",
    "                      projection='infinite',\n",
    "                      parametrization='kirkland')\n",
    "\n",
    "S = SMatrix(semiangle_cutoff=15, energy=100e3, gpts=512, interpolation=1, device='gpu')\n",
    "\n",
    "detector = PixelatedDetector()\n",
    "\n",
    "scan = GridScan((0, 0), np.diag(atoms.cell)[:2], sampling=S.ctf.nyquist_sampling * .4)\n",
    "\n",
    "measurement = S.scan(scan, detector, potential)"
   ]
  },
  {
   "cell_type": "code",
   "execution_count": 7,
   "metadata": {},
   "outputs": [
    {
     "data": {
      "application/vnd.jupyter.widget-view+json": {
       "model_id": "e2a1fb7d751c4162b9ee1b48a5041aa3",
       "version_major": 2,
       "version_minor": 0
      },
      "text/plain": [
       "HBox(children=(VBox(children=(ColorBar(children=(Figure(axes=[Axis(label='Intensity [arb. unit]', num_ticks=5,…"
      ]
     },
     "metadata": {},
     "output_type": "display_data"
    }
   ],
   "source": [
    "from abtem.visualize.interactive.utils import throttle\n",
    "\n",
    "canvas1 = Canvas()\n",
    "canvas2 = Canvas()\n",
    "\n",
    "probe_artist = MeasurementArtist2d()\n",
    "diffraction_artist = MeasurementArtist2d()\n",
    "\n",
    "canvas1.artists = {'artist': probe_artist}\n",
    "canvas2.artists = {'artist': diffraction_artist}\n",
    "\n",
    "position_tool = SelectPixelTool(image_artist=probe_artist.image_artist, marker=True)\n",
    "box_select_pixel = BoxSelectPixelTool(image_artist=diffraction_artist.image_artist)\n",
    "\n",
    "box_select_pixel.selected_x = [20, 50]\n",
    "box_select_pixel.selected_y = [20, 50]\n",
    "\n",
    "canvas1.tools = {'Pixel select': position_tool, 'Zoom': BoxZoomTool(), 'Pan': PanZoomTool(), }\n",
    "canvas2.tools = {'Box select': box_select_pixel, 'Zoom': BoxZoomTool(), 'Pan': PanZoomTool()}\n",
    "\n",
    "\n",
    "def update_image(*args):\n",
    "    slice_x = slice(*box_select_pixel.selected_x)\n",
    "    slice_y = slice(*box_select_pixel.selected_y)\n",
    "\n",
    "    for slic in (slice_x, slice_y):\n",
    "        if slic.start == slic.stop:\n",
    "            return\n",
    "\n",
    "    probe_artist.measurement = measurement[:, :, slice_x, slice_y].sum((-1, -2))\n",
    "\n",
    "\n",
    "def update(*args):\n",
    "    diffraction_artist.measurement = measurement[position_tool.index_x, position_tool.index_y]\n",
    "\n",
    "\n",
    "position_tool.observe(update)\n",
    "box_select_pixel.observe(update_image)\n",
    "\n",
    "update_image()\n",
    "update()\n",
    "\n",
    "canvas1.adjust_limits_to_artists()\n",
    "canvas1.adjust_labels_to_artists()\n",
    "canvas2.adjust_limits_to_artists()\n",
    "canvas2.adjust_labels_to_artists()\n",
    "\n",
    "toolbar1 = canvas1.toolbar\n",
    "\n",
    "autoadjust_colorscale_button = widgets.ToggleButton(description='Autoadjust colorscale', value=True)\n",
    "link((autoadjust_colorscale_button, 'value'), (probe_artist.image_artist, 'autoadjust_colorscale'))\n",
    "autoadjust_colorscale_button.observe(probe_artist.image_artist._observe_image, 'value')\n",
    "\n",
    "cbar1 = probe_artist.image_artist.color_bar\n",
    "cbar1.layout.width = '450px'\n",
    "cbar1.label = 'Intensity [arb. unit]'\n",
    "\n",
    "cbar2 = diffraction_artist.image_artist.color_bar\n",
    "cbar2.layout.width = '450px'\n",
    "cbar2.label = 'Intensity [arb. unit]'\n",
    "\n",
    "spacing = widgets.HBox([])\n",
    "spacing.layout.width = '60px'\n",
    "\n",
    "box = widgets.HBox([widgets.VBox([cbar1, canvas1.figure, toolbar1, autoadjust_colorscale_button]),\n",
    "                    spacing,\n",
    "                    widgets.VBox(\n",
    "                        [cbar2, canvas2.figure, canvas2.toolbar, diffraction_artist.image_artist.color_scheme_picker,\n",
    "                         diffraction_artist.image_artist.power_scale_slider])])\n",
    "\n",
    "box"
   ]
  }
 ],
 "metadata": {
  "kernelspec": {
   "display_name": "abTEM_interactive",
   "language": "python",
   "name": "abtem_interactive"
  },
  "language_info": {
   "codemirror_mode": {
    "name": "ipython",
    "version": 3
   },
   "file_extension": ".py",
   "mimetype": "text/x-python",
   "name": "python",
   "nbconvert_exporter": "python",
   "pygments_lexer": "ipython3",
   "version": "3.8.8"
  }
 },
 "nbformat": 4,
 "nbformat_minor": 4
}
