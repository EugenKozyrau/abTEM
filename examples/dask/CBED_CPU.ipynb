{
 "cells": [
  {
   "cell_type": "code",
   "execution_count": 1,
   "metadata": {},
   "outputs": [
    {
     "name": "stderr",
     "output_type": "stream",
     "text": [
      "WARNING:hyperspy_gui_traitsui:The module://ipykernel.pylab.backend_inline matplotlib backend is not compatible with the traitsui GUI elements. For more information, read http://hyperspy.readthedocs.io/en/stable/user_guide/getting_started.html#possible-warnings-when-importing-hyperspy.\n",
      "WARNING:hyperspy_gui_traitsui:The traitsui GUI elements are not available.\n"
     ]
    },
    {
     "data": {
      "text/plain": [
       "<dask.config.set at 0x7f8de92c4b80>"
      ]
     },
     "execution_count": 1,
     "metadata": {},
     "output_type": "execute_result"
    }
   ],
   "source": [
    "import matplotlib.pyplot as plt\n",
    "import numpy as np\n",
    "from ase.build import bulk\n",
    "from dask.distributed import Client\n",
    "\n",
    "from abtem import FrozenPhonons, Probe, Potential, PlaneWave\n",
    "\n",
    "from abtem import config\n",
    "config.set({'device': 'cpu'})\n",
    "config.set({'dask.lazy': True})\n",
    "config.set({'fft': 'mkl'})\n",
    "config.set({'fftw.threads': 1})"
   ]
  },
  {
   "cell_type": "markdown",
   "metadata": {},
   "source": [
    "Runtime: 2.0 s per frozen phonon on 8-core Intel(R) Core(TM) i9-9900K CPU @ 3.60GHz"
   ]
  },
  {
   "cell_type": "code",
   "execution_count": 2,
   "metadata": {},
   "outputs": [
    {
     "name": "stderr",
     "output_type": "stream",
     "text": [
      "/opt/anaconda3/envs/abtem-dask/lib/python3.8/site-packages/distributed/node.py:160: UserWarning: Port 8787 is already in use.\n",
      "Perhaps you already have a cluster running?\n",
      "Hosting the HTTP server on port 56834 instead\n",
      "  warnings.warn(\n"
     ]
    }
   ],
   "source": [
    "client = Client()"
   ]
  },
  {
   "cell_type": "code",
   "execution_count": 33,
   "metadata": {},
   "outputs": [],
   "source": [
    "silicon = bulk('Si', crystalstructure='diamond', cubic=True)\n",
    "silicon *= (2,2,10)"
   ]
  },
  {
   "cell_type": "code",
   "execution_count": 34,
   "metadata": {},
   "outputs": [],
   "source": [
    "frozen_phonons = FrozenPhonons(silicon, 2, {'Si':.0})\n",
    "\n",
    "potential = Potential(frozen_phonons, \n",
    "                      gpts=512,\n",
    "                      projection='infinite', \n",
    "                      slice_thickness=.5)\n",
    "\n",
    "wave = PlaneWave(energy=100e3)"
   ]
  },
  {
   "cell_type": "code",
   "execution_count": 35,
   "metadata": {},
   "outputs": [],
   "source": [
    "measurement = wave.multislice(potential).diffraction_patterns().mean(0)"
   ]
  },
  {
   "cell_type": "code",
   "execution_count": 36,
   "metadata": {},
   "outputs": [
    {
     "name": "stdout",
     "output_type": "stream",
     "text": [
      "CPU times: user 51.6 ms, sys: 6.14 ms, total: 57.7 ms\n",
      "Wall time: 853 ms\n"
     ]
    },
    {
     "data": {
      "text/plain": [
       "<abtem.measure.measure.DiffractionPatterns at 0x7f8dd4489760>"
      ]
     },
     "execution_count": 36,
     "metadata": {},
     "output_type": "execute_result"
    }
   ],
   "source": [
    "%%time\n",
    "measurement.compute()"
   ]
  },
  {
   "cell_type": "code",
   "execution_count": 7,
   "metadata": {},
   "outputs": [
    {
     "data": {
      "text/plain": [
       "(241, 241)"
      ]
     },
     "execution_count": 7,
     "metadata": {},
     "output_type": "execute_result"
    }
   ],
   "source": [
    "measurement.array.shape"
   ]
  },
  {
   "cell_type": "code",
   "execution_count": 41,
   "metadata": {},
   "outputs": [
    {
     "data": {
      "text/plain": [
       "(<AxesSubplot:xlabel='Spatial frequency x [1 / Å]', ylabel='Spatial frequency y [1 / Å]'>,\n",
       " <matplotlib.image.AxesImage at 0x7f8db10aa340>)"
      ]
     },
     "execution_count": 41,
     "metadata": {},
     "output_type": "execute_result"
    },
    {
     "data": {
      "image/png": "[encoded data removed]",
      "text/plain": [
       "<Figure size 432x288 with 1 Axes>"
      ]
     },
     "metadata": {
      "needs_background": "light"
     },
     "output_type": "display_data"
    }
   ],
   "source": [
    "measurement.poisson_noise(total_dose=10000, samples=1000).std(0).show(max_angle=1)"
   ]
  },
  {
   "cell_type": "code",
   "execution_count": 40,
   "metadata": {},
   "outputs": [
    {
     "data": {
      "text/plain": [
       "(<AxesSubplot:xlabel='Spatial frequency x [1 / Å]', ylabel='Spatial frequency y [1 / Å]'>,\n",
       " <matplotlib.image.AxesImage at 0x7f8db0f1ef40>)"
      ]
     },
     "execution_count": 40,
     "metadata": {},
     "output_type": "execute_result"
    },
    {
     "data": {
      "image/png": "[encoded data removed]",
      "text/plain": [
       "<Figure size 432x288 with 1 Axes>"
      ]
     },
     "metadata": {
      "needs_background": "light"
     },
     "output_type": "display_data"
    }
   ],
   "source": [
    "measurement.poisson_noise(total_dose=10000, samples=1000).mean(0).show(max_angle=1)"
   ]
  },
  {
   "cell_type": "code",
   "execution_count": 9,
   "metadata": {},
   "outputs": [
    {
     "data": {
      "text/plain": [
       "(<AxesSubplot:xlabel='Spatial frequency x [1 / Å]', ylabel='Spatial frequency y [1 / Å]'>,\n",
       " <matplotlib.image.AxesImage at 0x7fa34ef7ddc0>)"
      ]
     },
     "execution_count": 9,
     "metadata": {},
     "output_type": "execute_result"
    },
    {
     "data": {
      "image/png": "[encoded data removed]",
      "text/plain": [
       "<Figure size 432x288 with 1 Axes>"
      ]
     },
     "metadata": {
      "needs_background": "light"
     },
     "output_type": "display_data"
    }
   ],
   "source": [
    "measurement.show()"
   ]
  }
 ],
 "metadata": {
  "kernelspec": {
   "display_name": "abtem-dask",
   "language": "python",
   "name": "abtem-dask"
  },
  "language_info": {
   "codemirror_mode": {
    "name": "ipython",
    "version": 3
   },
   "file_extension": ".py",
   "mimetype": "text/x-python",
   "name": "python",
   "nbconvert_exporter": "python",
   "pygments_lexer": "ipython3",
   "version": "3.8.10"
  }
 },
 "nbformat": 4,
 "nbformat_minor": 5
}
