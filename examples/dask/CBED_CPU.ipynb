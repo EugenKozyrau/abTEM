{
 "cells": [
  {
   "cell_type": "code",
   "execution_count": 1,
   "id": "563dc98c-b36e-431f-b656-4477a6481c0d",
   "metadata": {},
   "outputs": [
    {
     "data": {
      "text/plain": [
       "<dask.config.set at 0x2b3623fdac0>"
      ]
     },
     "execution_count": 1,
     "metadata": {},
     "output_type": "execute_result"
    }
   ],
   "source": [
    "import matplotlib.pyplot as plt\n",
    "import numpy as np\n",
    "from ase.build import bulk\n",
    "from dask.distributed import Client\n",
    "\n",
    "from abtem import FrozenPhonons, Probe, Potential, PlaneWave\n",
    "\n",
    "import os\n",
    "os.environ[\"MKL_NUM_THREADS\"] = \"1\"\n",
    "\n",
    "from abtem import config\n",
    "config.set({'device': 'cpu'})\n",
    "config.set({'dask.lazy': True})\n",
    "config.set({'fft': 'mkl'})\n",
    "config.set({'fftw.threads': 1})"
   ]
  },
  {
   "cell_type": "markdown",
   "id": "2531bf1d-512f-401f-95bf-88c506ab9c00",
   "metadata": {},
   "source": [
    "Runtime: 2.0 s per frozen phonon on 8-core Intel(R) Core(TM) i9-9900K CPU @ 3.60GHz"
   ]
  },
  {
   "cell_type": "code",
   "execution_count": 2,
   "id": "06655d54-a6bc-4141-85c1-49cedd85517c",
   "metadata": {},
   "outputs": [],
   "source": [
    "client = Client()"
   ]
  },
  {
   "cell_type": "code",
   "execution_count": 3,
   "id": "2d484504-c8b6-4324-9fb1-8cc554ca4062",
   "metadata": {},
   "outputs": [],
   "source": [
    "silicon = bulk('Si', crystalstructure='diamond', cubic=True)\n",
    "silicon *= (74,74,2)"
   ]
  },
  {
   "cell_type": "code",
   "execution_count": 6,
   "id": "a89fd393-b8e5-4aff-bf96-42aa4482e0ed",
   "metadata": {},
   "outputs": [],
   "source": [
    "frozen_phonons = FrozenPhonons(silicon, 8, {'Si':.0})\n",
    "\n",
    "potential = Potential(frozen_phonons, \n",
    "                      gpts=2048,\n",
    "                      projection='infinite', \n",
    "                      slice_thickness=.5)\n",
    "\n",
    "wave = Probe(energy=100e3, semiangle_cutoff=9.4)"
   ]
  },
  {
   "cell_type": "code",
   "execution_count": 11,
   "id": "b5a30f1f-ec67-435d-a562-94c5064ccee4",
   "metadata": {},
   "outputs": [],
   "source": [
    "measurement = wave.multislice(potential, scan=(0,0)).diffraction_patterns().mean(0)"
   ]
  },
  {
   "cell_type": "code",
   "execution_count": 12,
   "id": "32f55f4f-eda8-4e57-941e-79ab7e088ec9",
   "metadata": {},
   "outputs": [
    {
     "name": "stdout",
     "output_type": "stream",
     "text": [
      "Wall time: 15.8 s\n"
     ]
    },
    {
     "data": {
      "text/plain": [
       "<abtem.measure.measure.DiffractionPatterns at 0x2b36024ebe0>"
      ]
     },
     "execution_count": 12,
     "metadata": {},
     "output_type": "execute_result"
    }
   ],
   "source": [
    "%%time\n",
    "measurement.compute()"
   ]
  },
  {
   "cell_type": "code",
   "execution_count": 14,
   "id": "db2a6416-88a4-445f-a18b-dc3778ec71eb",
   "metadata": {},
   "outputs": [
    {
     "data": {
      "text/plain": [
       "(<AxesSubplot:xlabel='Spatial frequency x [1 / Å]', ylabel='Spatial frequency y [1 / Å]'>,\n",
       " <matplotlib.image.AxesImage at 0x2b3720bc790>)"
      ]
     },
     "execution_count": 14,
     "metadata": {},
     "output_type": "execute_result"
    },
    {
     "data": {
      "image/png": "[encoded data removed]",
      "text/plain": [
       "<Figure size 432x288 with 1 Axes>"
      ]
     },
     "metadata": {
      "needs_background": "light"
     },
     "output_type": "display_data"
    }
   ],
   "source": [
    "measurement.show()"
   ]
  }
 ],
 "metadata": {
  "kernelspec": {
   "display_name": "dask-gpu",
   "language": "python",
   "name": "dask-gpu"
  },
  "language_info": {
   "codemirror_mode": {
    "name": "ipython",
    "version": 3
   },
   "file_extension": ".py",
   "mimetype": "text/x-python",
   "name": "python",
   "nbconvert_exporter": "python",
   "pygments_lexer": "ipython3",
   "version": "3.9.7"
  }
 },
 "nbformat": 4,
 "nbformat_minor": 5
}
