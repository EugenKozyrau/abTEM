{
 "cells": [
  {
   "cell_type": "code",
   "execution_count": 3,
   "id": "563dc98c-b36e-431f-b656-4477a6481c0d",
   "metadata": {},
   "outputs": [],
   "source": [
    "import matplotlib.pyplot as plt\n",
    "import numpy as np\n",
    "import os\n",
    "\n",
    "from dask.distributed import Client\n",
    "\n",
    "from ase.build import bulk\n",
    "from abtem import FrozenPhonons, Probe, Potential\n",
    "\n",
    "os.environ[\"MKL_NUM_THREADS\"] = \"1\""
   ]
  },
  {
   "cell_type": "markdown",
   "id": "2531bf1d-512f-401f-95bf-88c506ab9c00",
   "metadata": {},
   "source": [
    "Runtime: 1.9 s per frozen phonon on 8-core Intel(R) Core(TM) i9-9900K CPU @ 3.60GHz"
   ]
  },
  {
   "cell_type": "code",
   "execution_count": 4,
   "id": "06655d54-a6bc-4141-85c1-49cedd85517c",
   "metadata": {},
   "outputs": [],
   "source": [
    "client = Client()"
   ]
  },
  {
   "cell_type": "code",
   "execution_count": 9,
   "id": "2d484504-c8b6-4324-9fb1-8cc554ca4062",
   "metadata": {},
   "outputs": [],
   "source": [
    "silicon = bulk('Si', crystalstructure='diamond', cubic=True)\n",
    "silicon *= (74,74,2)"
   ]
  },
  {
   "cell_type": "code",
   "execution_count": 62,
   "id": "a89fd393-b8e5-4aff-bf96-42aa4482e0ed",
   "metadata": {},
   "outputs": [],
   "source": [
    "frozen_phonons = FrozenPhonons(silicon, 16, {'Si':.1})\n",
    "\n",
    "potential = Potential(frozen_phonons, \n",
    "                      gpts=2048,\n",
    "                      device='cpu',\n",
    "                      projection='infinite', \n",
    "                      slice_thickness=.5)\n",
    "\n",
    "wave = Probe(energy=100e3, semiangle_cutoff=9.4, device='cpu')"
   ]
  },
  {
   "cell_type": "code",
   "execution_count": 63,
   "id": "b5a30f1f-ec67-435d-a562-94c5064ccee4",
   "metadata": {},
   "outputs": [],
   "source": [
    "measurement = wave.multislice(potential, (0,0)).diffraction_patterns().mean(0)"
   ]
  },
  {
   "cell_type": "code",
   "execution_count": 64,
   "id": "32f55f4f-eda8-4e57-941e-79ab7e088ec9",
   "metadata": {},
   "outputs": [
    {
     "name": "stdout",
     "output_type": "stream",
     "text": [
      "Wall time: 31.3 s\n"
     ]
    },
    {
     "data": {
      "text/plain": [
       "<abtem.measure.measure.DiffractionPatterns at 0x22b89d2a490>"
      ]
     },
     "execution_count": 64,
     "metadata": {},
     "output_type": "execute_result"
    }
   ],
   "source": [
    "%%time\n",
    "measurement.compute()"
   ]
  }
 ],
 "metadata": {
  "kernelspec": {
   "display_name": "abtem-dask-gpu",
   "language": "python",
   "name": "abtem-dask-gpu"
  },
  "language_info": {
   "codemirror_mode": {
    "name": "ipython",
    "version": 3
   },
   "file_extension": ".py",
   "mimetype": "text/x-python",
   "name": "python",
   "nbconvert_exporter": "python",
   "pygments_lexer": "ipython3",
   "version": "3.9.4"
  }
 },
 "nbformat": 4,
 "nbformat_minor": 5
}
