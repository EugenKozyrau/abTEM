{
 "cells": [
  {
   "cell_type": "code",
   "execution_count": 1,
   "id": "563dc98c-b36e-431f-b656-4477a6481c0d",
   "metadata": {},
   "outputs": [
    {
     "data": {
      "text/plain": [
       "<dask.config.set at 0x270037c6760>"
      ]
     },
     "execution_count": 1,
     "metadata": {},
     "output_type": "execute_result"
    }
   ],
   "source": [
    "import matplotlib.pyplot as plt\n",
    "import numpy as np\n",
    "\n",
    "from ase.build import bulk\n",
    "\n",
    "from dask.distributed import Client\n",
    "from dask_cuda import LocalCUDACluster\n",
    "\n",
    "from abtem import FrozenPhonons, Probe, Potential\n",
    "\n",
    "import os\n",
    "os.environ[\"MKL_NUM_THREADS\"] = \"1\"\n",
    "\n",
    "from abtem import config\n",
    "config.set({'device': 'gpu'})\n",
    "config.set({'lazy': True})"
   ]
  },
  {
   "cell_type": "markdown",
   "id": "2ae87358-ccad-468e-9079-8cbf3dfd1e16",
   "metadata": {},
   "source": [
    "Runtime: 9 s per frozen phonon on 1 NVidia RTX 2080 Ti"
   ]
  },
  {
   "cell_type": "code",
   "execution_count": 2,
   "id": "06655d54-a6bc-4141-85c1-49cedd85517c",
   "metadata": {},
   "outputs": [
    {
     "name": "stderr",
     "output_type": "stream",
     "text": [
      "C:\\Users\\jacob\\anaconda3\\envs\\abtem-dask-gpu\\lib\\site-packages\\distributed\\node.py:151: UserWarning: Port 8787 is already in use.\n",
      "Perhaps you already have a cluster running?\n",
      "Hosting the HTTP server on port 61004 instead\n",
      "  warnings.warn(\n",
      "C:\\Users\\jacob\\anaconda3\\envs\\abtem-dask-gpu\\lib\\site-packages\\dask_cuda\\utils.py:168: UserWarning: Cannot get CPU affinity for device with index 0, setting default affinity\n",
      "  warnings.warn(\n"
     ]
    }
   ],
   "source": [
    "cluster = LocalCUDACluster(memory_limit='10gb', n_workers=1)\n",
    "client = Client(cluster)"
   ]
  },
  {
   "cell_type": "code",
   "execution_count": 3,
   "id": "2d484504-c8b6-4324-9fb1-8cc554ca4062",
   "metadata": {},
   "outputs": [
    {
     "data": {
      "text/plain": [
       "4380800"
      ]
     },
     "execution_count": 3,
     "metadata": {},
     "output_type": "execute_result"
    }
   ],
   "source": [
    "silicon = bulk('Si', crystalstructure='diamond', cubic=True)\n",
    "silicon *= (74,74,100)\n",
    "len(silicon)"
   ]
  },
  {
   "cell_type": "code",
   "execution_count": 4,
   "id": "a89fd393-b8e5-4aff-bf96-42aa4482e0ed",
   "metadata": {},
   "outputs": [],
   "source": [
    "frozen_phonons = FrozenPhonons(silicon, 4, {'Si':.1})\n",
    "\n",
    "potential = Potential(frozen_phonons, gpts=2048, projection='infinite', slice_thickness=.5)\n",
    "\n",
    "wave = Probe(energy=100e3, semiangle_cutoff=9.4)"
   ]
  },
  {
   "cell_type": "code",
   "execution_count": 5,
   "id": "b5a30f1f-ec67-435d-a562-94c5064ccee4",
   "metadata": {},
   "outputs": [],
   "source": [
    "measurement = wave.multislice(potential, (0,0)).diffraction_patterns().mean(0)"
   ]
  },
  {
   "cell_type": "code",
   "execution_count": 6,
   "id": "32f55f4f-eda8-4e57-941e-79ab7e088ec9",
   "metadata": {},
   "outputs": [
    {
     "name": "stdout",
     "output_type": "stream",
     "text": [
      "Wall time: 37.2 s\n"
     ]
    },
    {
     "data": {
      "text/plain": [
       "<abtem.measure.measure.DiffractionPatterns at 0x270037c5340>"
      ]
     },
     "execution_count": 6,
     "metadata": {},
     "output_type": "execute_result"
    }
   ],
   "source": [
    "%%time\n",
    "measurement.compute()"
   ]
  }
 ],
 "metadata": {
  "kernelspec": {
   "display_name": "abtem-dask-gpu",
   "language": "python",
   "name": "abtem-dask-gpu"
  },
  "language_info": {
   "codemirror_mode": {
    "name": "ipython",
    "version": 3
   },
   "file_extension": ".py",
   "mimetype": "text/x-python",
   "name": "python",
   "nbconvert_exporter": "python",
   "pygments_lexer": "ipython3",
   "version": "3.9.4"
  }
 },
 "nbformat": 4,
 "nbformat_minor": 5
}
