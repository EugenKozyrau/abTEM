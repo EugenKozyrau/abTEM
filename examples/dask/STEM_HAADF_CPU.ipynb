{
 "cells": [
  {
   "cell_type": "code",
   "execution_count": 1,
   "metadata": {
    "tags": []
   },
   "outputs": [
    {
     "data": {
      "text/plain": [
       "<dask.config.set at 0x204784ecbe0>"
      ]
     },
     "execution_count": 1,
     "metadata": {},
     "output_type": "execute_result"
    }
   ],
   "source": [
    "from ase.build import bulk\n",
    "import matplotlib.pyplot as plt\n",
    "\n",
    "from dask.distributed import Client\n",
    "\n",
    "from abtem import show_atoms, FrozenPhonons, Probe, Potential, GridScan, AnnularDetector\n",
    "\n",
    "import os\n",
    "os.environ[\"MKL_NUM_THREADS\"] = \"1\"\n",
    "\n",
    "from abtem import config\n",
    "config.set({'dask.lazy': True})\n",
    "config.set({'device': 'cpu'})\n",
    "config.set({'fft': 'fftw'})\n",
    "config.set({'fftw.threads': 2})"
   ]
  },
  {
   "cell_type": "markdown",
   "metadata": {},
   "source": [
    "Runtime: 1.5 s per frozen phonon on 8-core Intel(R) Core(TM) i9-9900K CPU @ 3.60GHz"
   ]
  },
  {
   "cell_type": "code",
   "execution_count": 2,
   "metadata": {},
   "outputs": [
    {
     "name": "stderr",
     "output_type": "stream",
     "text": [
      "C:\\Users\\jacob\\anaconda3\\envs\\dask-gpu\\lib\\site-packages\\distributed\\node.py:160: UserWarning: Port 8787 is already in use.\n",
      "Perhaps you already have a cluster running?\n",
      "Hosting the HTTP server on port 55234 instead\n",
      "  warnings.warn(\n"
     ]
    }
   ],
   "source": [
    "client = Client()"
   ]
  },
  {
   "cell_type": "code",
   "execution_count": 3,
   "metadata": {},
   "outputs": [],
   "source": [
    "atoms = bulk('Si', 'diamond', a=5.43, cubic=True)\n",
    "atoms *= (2, 2, 2)"
   ]
  },
  {
   "cell_type": "code",
   "execution_count": 9,
   "metadata": {},
   "outputs": [],
   "source": [
    "chunks = 400 # max number of wave functions in each chunk\n",
    "\n",
    "frozen_phonons = FrozenPhonons(atoms, 16, {'Si': .0})\n",
    "\n",
    "potential = Potential(frozen_phonons, \n",
    "                      gpts=256, \n",
    "                      projection='infinite', \n",
    "                      slice_thickness=2)\n",
    "\n",
    "probe = Probe(energy=100e3, semiangle_cutoff=20, device='cpu')\n",
    "\n",
    "scan = GridScan()\n",
    "\n",
    "detectors = AnnularDetector(50, 150)\n",
    "\n",
    "measurement = probe.scan(potential, scan, detectors, chunks=chunks)"
   ]
  },
  {
   "cell_type": "code",
   "execution_count": 11,
   "metadata": {},
   "outputs": [
    {
     "name": "stdout",
     "output_type": "stream",
     "text": [
      "Wall time: 24.6 s\n"
     ]
    },
    {
     "data": {
      "text/plain": [
       "<abtem.measure.measure.Images at 0x20400a79c70>"
      ]
     },
     "execution_count": 11,
     "metadata": {},
     "output_type": "execute_result"
    }
   ],
   "source": [
    "%%time\n",
    "measurement.compute()"
   ]
  },
  {
   "cell_type": "code",
   "execution_count": null,
   "metadata": {},
   "outputs": [],
   "source": [
    "measurement.interpolate(.1).show(figsize=(8,8))"
   ]
  }
 ],
 "metadata": {
  "kernelspec": {
   "display_name": "dask-gpu",
   "language": "python",
   "name": "dask-gpu"
  },
  "language_info": {
   "codemirror_mode": {
    "name": "ipython",
    "version": 3
   },
   "file_extension": ".py",
   "mimetype": "text/x-python",
   "name": "python",
   "nbconvert_exporter": "python",
   "pygments_lexer": "ipython3",
   "version": "3.9.7"
  }
 },
 "nbformat": 4,
 "nbformat_minor": 4
}
