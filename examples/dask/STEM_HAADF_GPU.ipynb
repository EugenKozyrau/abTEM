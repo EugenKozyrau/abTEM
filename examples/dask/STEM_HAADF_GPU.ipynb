{
 "cells": [
  {
   "cell_type": "code",
   "execution_count": 1,
   "metadata": {
    "tags": []
   },
   "outputs": [
    {
     "data": {
      "text/plain": [
       "<dask.config.set at 0x22e751b3250>"
      ]
     },
     "execution_count": 1,
     "metadata": {},
     "output_type": "execute_result"
    }
   ],
   "source": [
    "import matplotlib.pyplot as plt\n",
    "from ase.build import bulk\n",
    "\n",
    "from dask.distributed import Client\n",
    "from dask_cuda import LocalCUDACluster\n",
    "\n",
    "from abtem import FrozenPhonons, Probe, Potential, GridScan, AnnularDetector\n",
    "\n",
    "import os\n",
    "os.environ[\"MKL_NUM_THREADS\"] = \"1\"\n",
    "\n",
    "from abtem import config\n",
    "config.set({'device': 'gpu'})\n",
    "config.set({'lazy': True})"
   ]
  },
  {
   "cell_type": "markdown",
   "metadata": {},
   "source": [
    "Runtime: 8 s per frozen phonon on 1 NVidia RTX 2080 Ti"
   ]
  },
  {
   "cell_type": "code",
   "execution_count": 2,
   "metadata": {},
   "outputs": [
    {
     "name": "stderr",
     "output_type": "stream",
     "text": [
      "C:\\Users\\jacob\\anaconda3\\envs\\abtem-dask-gpu\\lib\\site-packages\\distributed\\node.py:151: UserWarning: Port 8787 is already in use.\n",
      "Perhaps you already have a cluster running?\n",
      "Hosting the HTTP server on port 52676 instead\n",
      "  warnings.warn(\n",
      "C:\\Users\\jacob\\anaconda3\\envs\\abtem-dask-gpu\\lib\\site-packages\\dask_cuda\\utils.py:168: UserWarning: Cannot get CPU affinity for device with index 0, setting default affinity\n",
      "  warnings.warn(\n"
     ]
    }
   ],
   "source": [
    "cluster = LocalCUDACluster(memory_limit='10gb', n_workers=1)\n",
    "client = Client(cluster)"
   ]
  },
  {
   "cell_type": "code",
   "execution_count": 3,
   "metadata": {},
   "outputs": [
    {
     "data": {
      "text/html": [
       "<table style=\"border: 2px solid white;\">\n",
       "<tr>\n",
       "<td style=\"vertical-align: top; border: 0px solid white\">\n",
       "<h3 style=\"text-align: left;\">Client</h3>\n",
       "<ul style=\"text-align: left; list-style: none; margin: 0; padding: 0;\">\n",
       "  <li><b>Scheduler: </b>tcp://127.0.0.1:52677</li>\n",
       "  <li><b>Dashboard: </b><a href='http://127.0.0.1:52676/status' target='_blank'>http://127.0.0.1:52676/status</a></li>\n",
       "</ul>\n",
       "</td>\n",
       "<td style=\"vertical-align: top; border: 0px solid white\">\n",
       "<h3 style=\"text-align: left;\">Cluster</h3>\n",
       "<ul style=\"text-align: left; list-style:none; margin: 0; padding: 0;\">\n",
       "  <li><b>Workers: </b>1</li>\n",
       "  <li><b>Cores: </b>1</li>\n",
       "  <li><b>Memory: </b>9.31 GiB</li>\n",
       "</ul>\n",
       "</td>\n",
       "</tr>\n",
       "</table>"
      ],
      "text/plain": [
       "<Client: 'tcp://127.0.0.1:52677' processes=1 threads=1, memory=9.31 GiB>"
      ]
     },
     "execution_count": 3,
     "metadata": {},
     "output_type": "execute_result"
    }
   ],
   "source": [
    "client"
   ]
  },
  {
   "cell_type": "code",
   "execution_count": 4,
   "metadata": {},
   "outputs": [],
   "source": [
    "atoms = bulk('Si', 'diamond', a=5.43, cubic=True)\n",
    "atoms *= (2, 2, 20)"
   ]
  },
  {
   "cell_type": "code",
   "execution_count": 5,
   "metadata": {},
   "outputs": [],
   "source": [
    "chunks = 800 # max number of wave functions in each chunk (use large chunks on GPU)\n",
    "\n",
    "frozen_phonons = FrozenPhonons(atoms, 4, {'Si': .1})\n",
    "\n",
    "potential = Potential(frozen_phonons, gpts=512, projection='infinite', slice_thickness=1)\n",
    "\n",
    "probe = Probe(energy=100e3, semiangle_cutoff=20)\n",
    "\n",
    "scan = GridScan()\n",
    "\n",
    "detectors = AnnularDetector(50, 150, to_cpu=True)\n",
    "\n",
    "measurement = probe.scan(scan, detectors, potential, chunks=chunks)"
   ]
  },
  {
   "cell_type": "code",
   "execution_count": 6,
   "metadata": {},
   "outputs": [
    {
     "data": {
      "text/html": [
       "<table>\n",
       "<tr>\n",
       "<td>\n",
       "<table>\n",
       "  <thead>\n",
       "    <tr><td> </td><th> Array </th><th> Chunk </th></tr>\n",
       "  </thead>\n",
       "  <tbody>\n",
       "    <tr><th> Bytes </th><td> 1.42 GiB </td> <td> 1.42 GiB </td></tr>\n",
       "    <tr><th> Shape </th><td> (27, 27, 512, 512) </td> <td> (27, 27, 512, 512) </td></tr>\n",
       "    <tr><th> Count </th><td> 3 Tasks </td><td> 1 Chunks </td></tr>\n",
       "    <tr><th> Type </th><td> complex64 </td><td> cupy.ndarray </td></tr>\n",
       "  </tbody>\n",
       "</table>\n",
       "</td>\n",
       "<td>\n",
       "<svg width=\"398\" height=\"190\" style=\"stroke:rgb(0,0,0);stroke-width:1\" >\n",
       "\n",
       "  <!-- Horizontal lines -->\n",
       "  <line x1=\"0\" y1=\"0\" x2=\"34\" y2=\"0\" style=\"stroke-width:2\" />\n",
       "  <line x1=\"0\" y1=\"25\" x2=\"34\" y2=\"25\" style=\"stroke-width:2\" />\n",
       "\n",
       "  <!-- Vertical lines -->\n",
       "  <line x1=\"0\" y1=\"0\" x2=\"0\" y2=\"25\" style=\"stroke-width:2\" />\n",
       "  <line x1=\"34\" y1=\"0\" x2=\"34\" y2=\"25\" style=\"stroke-width:2\" />\n",
       "\n",
       "  <!-- Colored Rectangle -->\n",
       "  <polygon points=\"0.0,0.0 34.826746061796875,0.0 34.826746061796875,25.412616514582485 0.0,25.412616514582485\" style=\"fill:#ECB172A0;stroke-width:0\"/>\n",
       "\n",
       "  <!-- Text -->\n",
       "  <text x=\"17.413373\" y=\"45.412617\" font-size=\"1.0rem\" font-weight=\"100\" text-anchor=\"middle\" >27</text>\n",
       "  <text x=\"54.826746\" y=\"12.706308\" font-size=\"1.0rem\" font-weight=\"100\" text-anchor=\"middle\" transform=\"rotate(0,54.826746,12.706308)\">1</text>\n",
       "\n",
       "\n",
       "  <!-- Horizontal lines -->\n",
       "  <line x1=\"104\" y1=\"0\" x2=\"124\" y2=\"20\" style=\"stroke-width:2\" />\n",
       "  <line x1=\"104\" y1=\"120\" x2=\"124\" y2=\"140\" style=\"stroke-width:2\" />\n",
       "\n",
       "  <!-- Vertical lines -->\n",
       "  <line x1=\"104\" y1=\"0\" x2=\"104\" y2=\"120\" style=\"stroke-width:2\" />\n",
       "  <line x1=\"124\" y1=\"20\" x2=\"124\" y2=\"140\" style=\"stroke-width:2\" />\n",
       "\n",
       "  <!-- Colored Rectangle -->\n",
       "  <polygon points=\"104.0,0.0 124.4863212128217,20.486321212821693 124.4863212128217,140.48632121282168 104.0,120.0\" style=\"fill:#ECB172A0;stroke-width:0\"/>\n",
       "\n",
       "  <!-- Horizontal lines -->\n",
       "  <line x1=\"104\" y1=\"0\" x2=\"224\" y2=\"0\" style=\"stroke-width:2\" />\n",
       "  <line x1=\"124\" y1=\"20\" x2=\"244\" y2=\"20\" style=\"stroke-width:2\" />\n",
       "\n",
       "  <!-- Vertical lines -->\n",
       "  <line x1=\"104\" y1=\"0\" x2=\"124\" y2=\"20\" style=\"stroke-width:2\" />\n",
       "  <line x1=\"224\" y1=\"0\" x2=\"244\" y2=\"20\" style=\"stroke-width:2\" />\n",
       "\n",
       "  <!-- Colored Rectangle -->\n",
       "  <polygon points=\"104.0,0.0 224.0,0.0 244.48632121282168,20.486321212821693 124.4863212128217,20.486321212821693\" style=\"fill:#ECB172A0;stroke-width:0\"/>\n",
       "\n",
       "  <!-- Horizontal lines -->\n",
       "  <line x1=\"124\" y1=\"20\" x2=\"244\" y2=\"20\" style=\"stroke-width:2\" />\n",
       "  <line x1=\"124\" y1=\"140\" x2=\"244\" y2=\"140\" style=\"stroke-width:2\" />\n",
       "\n",
       "  <!-- Vertical lines -->\n",
       "  <line x1=\"124\" y1=\"20\" x2=\"124\" y2=\"140\" style=\"stroke-width:2\" />\n",
       "  <line x1=\"244\" y1=\"20\" x2=\"244\" y2=\"140\" style=\"stroke-width:2\" />\n",
       "\n",
       "  <!-- Colored Rectangle -->\n",
       "  <polygon points=\"124.4863212128217,20.486321212821693 244.48632121282168,20.486321212821693 244.48632121282168,140.48632121282168 124.4863212128217,140.48632121282168\" style=\"fill:#ECB172A0;stroke-width:0\"/>\n",
       "\n",
       "  <!-- Text -->\n",
       "  <text x=\"184.486321\" y=\"160.486321\" font-size=\"1.0rem\" font-weight=\"100\" text-anchor=\"middle\" >512</text>\n",
       "  <text x=\"264.486321\" y=\"80.486321\" font-size=\"1.0rem\" font-weight=\"100\" text-anchor=\"middle\" transform=\"rotate(-90,264.486321,80.486321)\">512</text>\n",
       "  <text x=\"104.243161\" y=\"150.243161\" font-size=\"1.0rem\" font-weight=\"100\" text-anchor=\"middle\" transform=\"rotate(45,104.243161,150.243161)\">27</text>\n",
       "</svg>\n",
       "</td>\n",
       "</tr>\n",
       "</table>"
      ],
      "text/plain": [
       "dask.array<calculate_probes, shape=(27, 27, 512, 512), dtype=complex64, chunksize=(27, 27, 512, 512), chunktype=cupy.ndarray>"
      ]
     },
     "execution_count": 6,
     "metadata": {},
     "output_type": "execute_result"
    }
   ],
   "source": [
    "probe.build(scan, chunks).array # For showing the size of the chunks"
   ]
  },
  {
   "cell_type": "code",
   "execution_count": 7,
   "metadata": {},
   "outputs": [
    {
     "name": "stdout",
     "output_type": "stream",
     "text": [
      "Wall time: 31.8 s\n"
     ]
    },
    {
     "data": {
      "text/plain": [
       "<abtem.measure.measure.Images at 0x22e1068fc10>"
      ]
     },
     "execution_count": 7,
     "metadata": {},
     "output_type": "execute_result"
    }
   ],
   "source": [
    "%%time\n",
    "measurement.compute()"
   ]
  },
  {
   "cell_type": "code",
   "execution_count": 9,
   "metadata": {},
   "outputs": [
    {
     "data": {
      "text/plain": [
       "(<AxesSubplot:xlabel='x [Å]', ylabel='y [Å]'>,\n",
       " <matplotlib.image.AxesImage at 0x22e11353520>)"
      ]
     },
     "execution_count": 9,
     "metadata": {},
     "output_type": "execute_result"
    },
    {
     "data": {
      "image/png": "[encoded data removed]",
      "text/plain": [
       "<Figure size 432x288 with 1 Axes>"
      ]
     },
     "metadata": {
      "needs_background": "light"
     },
     "output_type": "display_data"
    }
   ],
   "source": [
    "measurement.interpolate(.1).show()"
   ]
  }
 ],
 "metadata": {
  "kernelspec": {
   "display_name": "abtem-dask-gpu",
   "language": "python",
   "name": "abtem-dask-gpu"
  },
  "language_info": {
   "codemirror_mode": {
    "name": "ipython",
    "version": 3
   },
   "file_extension": ".py",
   "mimetype": "text/x-python",
   "name": "python",
   "nbconvert_exporter": "python",
   "pygments_lexer": "ipython3",
   "version": "3.9.4"
  }
 },
 "nbformat": 4,
 "nbformat_minor": 4
}
