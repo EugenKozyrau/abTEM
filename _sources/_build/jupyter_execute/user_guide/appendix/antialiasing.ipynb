{
 "cells": [
  {
   "cell_type": "markdown",
   "id": "dd85757d-af81-4d83-a65c-f1d9dae3bdfe",
   "metadata": {
    "pycharm": {
     "name": "#%% md\n"
    }
   },
   "source": [
    "# Antialiasing and Sampling"
   ]
  },
  {
   "cell_type": "markdown",
   "id": "2948cb67-2722-44a7-bba5-be2fdfaa8428",
   "metadata": {},
   "source": [
    "## Real-space sampling\n",
    "\n",
    "The real-space sampling is extremely important because it controls the accuracy of the simulation at high scattering angles. The sampling defines the maximum spatial frequency $k_{max}$ via the formula:\n",
    "\n",
    "$$ k_{max} = \\frac{1}{2p} \\quad , $$\n",
    "\n",
    "where $p$ is the real-space sampling distance. To counteract aliasing artifacts due to the periodicity assumption of a discrete Fourier transform, abTEM supresses spatial frequencies above 2 / 3 of the maximum scattering angle, further reducing the maximum effective scattering angle by a factor of 2 / 3. Hence the maximum scattering angle $\\alpha_{max}$ is given by:\n",
    "\n",
    "$$ \\alpha_{max} = \\frac{2}{3}\\frac{\\lambda}{2p} \\quad , $$\n",
    "\n",
    "where $\\lambda$ is the relativistic electron wavelength. As an example, consider a case where we want to simulate 80 keV electron scattering up to angles of 200 mrads. Plugging these values into the above equation gives a sampling of $\\sim0.052$ Å, i.e. we require at least 0.05 Å pixel size in order to reach a maximum scattering angle of 200 mrads. In practice, you should ensure that the simulation is converged with respect to pixel size.\n",
    "\n",
    "The maximum scattering angles in the $x$- and $y$-direction of the wave functions object can obtained\n",
    "\n",
    "print(f'Maximal simulated scattering angles = {waves.cutoff_angles[0]:.3f} mrad')"
   ]
  }
 ],
 "metadata": {
  "kernelspec": {
   "display_name": "abtem-dask",
   "language": "python",
   "name": "abtem-dask"
  },
  "language_info": {
   "codemirror_mode": {
    "name": "ipython",
    "version": 3
   },
   "file_extension": ".py",
   "mimetype": "text/x-python",
   "name": "python",
   "nbconvert_exporter": "python",
   "pygments_lexer": "ipython3",
   "version": "3.8.10"
  }
 },
 "nbformat": 4,
 "nbformat_minor": 5
}