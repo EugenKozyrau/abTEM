{
 "cells": [
  {
   "cell_type": "code",
   "execution_count": 2,
   "id": "c8a68d55-5e9b-4bab-b324-05b89a56cecd",
   "metadata": {},
   "outputs": [],
   "source": [
    "import abtem"
   ]
  },
  {
   "cell_type": "markdown",
   "id": "2b2c74ed-dfb6-4426-898a-63110b6fb253",
   "metadata": {},
   "source": [
    "# Performance, parallelization and GPUs\n",
    "\n",
    "The cost of running multislice simulations can range from seconds to weeks depending on factors such as sample size, number of probe positions and the hardware used to run the code. Here, we go through how to optimize *abTEM* to get your simulations running as fast as possible.\n",
    "\n",
    "## FFTs \n",
    "\n",
    "The [fast Fourier transform (FFT)](https://en.wikipedia.org/wiki/Fast_Fourier_transform) is the most important dependent algorithm for running the multislice algorithm. Hence, the speed of your simulation depends on how fast your computer can run the FFT. This will depend on your hardware, the implementation of the FFT and the grid points of your simulation.\n",
    "\n",
    "### FFT Library (only on CPU)\n",
    "*abTEM* implements two implementations of the FFT: Intels Math Kernel Library FFT ([`mkl_fft`](https://github.com/IntelPython/mkl_fft)) and the \"Fastest Fourier Transform in the West\" (FFTW) through the Python wrapper [`pyfftw`](https://pyfftw.readthedocs.io/en/latest/). You can set the FFT library using the *abTEM*s configs (see here TODOXXX).\n",
    "\n",
    "You can modify the configurations temporarily using the code below to use FFTW for the session, for example:"
   ]
  },
  {
   "cell_type": "code",
   "execution_count": 5,
   "id": "52a877de-90cd-4395-8057-b5ed62840862",
   "metadata": {},
   "outputs": [
    {
     "data": {
      "text/plain": [
       "<dask.config.set at 0x7fb7fd9d8c40>"
      ]
     },
     "execution_count": 5,
     "metadata": {},
     "output_type": "execute_result"
    }
   ],
   "source": [
    "abtem.config.set({'fft': 'fftw'}) # for FFTW\n",
    "\n",
    "abtem.config.set({ f'fft': 'mkl'}) # for MKL"
   ]
  },
  {
   "cell_type": "markdown",
   "id": "43b2aaf0-80a0-4058-99a2-faa12025ab42",
   "metadata": {},
   "source": [
    "## Dask \n",
    "\n",
    "*abTEM* is built on [Dask](https://dask.org/) {cite}`dask`. All *abTEM* simulations runs by building *Dask* task graph for the simulation, the task graph is then executed using one of the *Dask* schedulers. This happens automatically, however, if you are running simulations, you may want \n",
    "\n",
    "On a local system (a laptop or desktop), your calculation is parallelized automatically. Nonetheless, it is possible that your calculation runs faster using a distributed scheduler, this will also provide \n",
    "\n",
    "\n",
    "Nonetheless, you may benefit from knowing about , on larger systems (e.g. HPC clusters), it is necessary.\n",
    "\n",
    "*abTEM* uses the \n",
    "\n",
    "as *abTEM\n",
    "\n",
    "\n",
    "https://docs.dask.org/en/stable/scheduling.html\n",
    "\n",
    "Parallel computation in abTEM whether it is running on a laptop or a High Performance Computing cluster is parallelized through . \n",
    "\n",
    "Some knowledge of Dask may be required to run abTEM effectively on large multi-CPU/GPU systems, however, if you are just running abTEM on your own computer, this tutorial gets you started. If you want a quick introduction to Dask, we recommend thishttps://www.youtube.com/watch?v=nnndxbr_Xq4&t=66s) short youtube video.\n",
    "\n"
   ]
  },
  {
   "cell_type": "code",
   "execution_count": null,
   "id": "708c1f0d-1fb3-4d1a-aa07-ae5403295056",
   "metadata": {},
   "outputs": [],
   "source": []
  },
  {
   "cell_type": "markdown",
   "id": "e39cb8d2-a898-478d-9831-275ac5f2f06b",
   "metadata": {},
   "source": [
    "## GPUs\n",
    "\n",
    "Almost every part of *abTEM* is implemented on GPU using the `CuPy` library. If you have a single GPU and a working installation of CuPy, you can use your GPU by changing the configs as below:"
   ]
  },
  {
   "cell_type": "code",
   "execution_count": 12,
   "id": "4bbe27f1-65b2-48cf-8a96-c0da5c91b094",
   "metadata": {},
   "outputs": [
    {
     "data": {
      "text/plain": [
       "<dask.config.set at 0x7fbb6cca5580>"
      ]
     },
     "execution_count": 12,
     "metadata": {},
     "output_type": "execute_result"
    }
   ],
   "source": [
    "abtem.config.set({'device': 'gpu'})"
   ]
  },
  {
   "cell_type": "markdown",
   "id": "c1f0c01e-785c-4e74-b3cb-610ee463e082",
   "metadata": {},
   "source": [
    "### Multiple GPUs\n"
   ]
  },
  {
   "cell_type": "markdown",
   "id": "8fb55621-1727-438b-ad12-f881c9a3274a",
   "metadata": {},
   "source": [
    "## Memory"
   ]
  }
 ],
 "metadata": {
  "kernelspec": {
   "display_name": "abtem-dask",
   "language": "python",
   "name": "abtem-dask"
  },
  "language_info": {
   "codemirror_mode": {
    "name": "ipython",
    "version": 3
   },
   "file_extension": ".py",
   "mimetype": "text/x-python",
   "name": "python",
   "nbconvert_exporter": "python",
   "pygments_lexer": "ipython3",
   "version": "3.8.10"
  }
 },
 "nbformat": 4,
 "nbformat_minor": 5
}