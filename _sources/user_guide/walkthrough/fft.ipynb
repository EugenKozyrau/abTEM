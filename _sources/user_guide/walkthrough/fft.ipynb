{
 "cells": [
  {
   "cell_type": "code",
   "execution_count": null,
   "id": "111a2dd7-d141-4013-9cbc-eb5de803f806",
   "metadata": {},
   "outputs": [],
   "source": [
    "## FFTs \n",
    "\n",
    "The [fast Fourier transform (FFT)](https://en.wikipedia.org/wiki/Fast_Fourier_transform) is the most important dependent algorithm for running the multislice algorithm. Hence, the speed of your simulation depends on how fast your computer can run the FFT. This will depend on your hardware, the implementation of the FFT and the grid points of your simulation.\n",
    "\n",
    "### FFT Library (only on CPU)\n",
    "*abTEM* implements two implementations of the FFT: Intels Math Kernel Library FFT ([`mkl_fft`](https://github.com/IntelPython/mkl_fft)) and the \"Fastest Fourier Transform in the West\" (FFTW) through the Python wrapper [`pyfftw`](https://pyfftw.readthedocs.io/en/latest/). You can set the FFT library using the *abTEM*s configs (see here TODOXXX).\n",
    "\n",
    "You can modify the configurations temporarily using the code below to use FFTW for the session, for example:"
   ]
  }
 ],
 "metadata": {
  "kernelspec": {
   "display_name": "abtem-dask",
   "language": "python",
   "name": "abtem-dask"
  },
  "language_info": {
   "codemirror_mode": {
    "name": "ipython",
    "version": 3
   },
   "file_extension": ".py",
   "mimetype": "text/x-python",
   "name": "python",
   "nbconvert_exporter": "python",
   "pygments_lexer": "ipython3",
   "version": "3.8.10"
  }
 },
 "nbformat": 4,
 "nbformat_minor": 5
}
