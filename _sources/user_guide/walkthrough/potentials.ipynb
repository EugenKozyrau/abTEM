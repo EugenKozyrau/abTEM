{
 "cells": [
  {
   "cell_type": "code",
   "execution_count": 1,
   "metadata": {
    "jupyter": {
     "source_hidden": true
    },
    "pycharm": {
     "name": "#%%\n"
    },
    "tags": [
     "hide-input"
    ]
   },
   "outputs": [],
   "source": [
    "%config InlineBackend.rc = {\"figure.dpi\": 72, \"figure.figsize\": (6.0, 4.0)}\n",
    "%matplotlib inline\n",
    "\n",
    "import abtem\n",
    "import matplotlib.pyplot as plt\n",
    "from abtem.core.parametrizations import (\n",
    "    KirklandParametrization,\n",
    "    LobatoParametrization,\n",
    "    PengParametrization,\n",
    ")\n",
    "from ase.io import read"
   ]
  },
  {
   "cell_type": "markdown",
   "metadata": {
    "pycharm": {
     "name": "#%% md\n"
    },
    "tags": []
   },
   "source": [
    "(walkthrough:potentials)=\n",
    "# Potentials\n",
    "An electron beam interacts with a specimen principally through the Coulomb potential of its electrons and nuclei. Thus the total electrostatic potential of the sample is required for image simulations. Typically, a so-called independent atom model (IAM) is used, which calculates the potential as a superposition of atomic potentials, hence neglecting effects due to valence bonding.\n",
    "\n",
    "## Atomic potential parametrization\n",
    "\n",
    "The electron charge distribution of a single atom can be calculated from a first-principles electronic structure calculation, for example using the [Hartree-Fock method](https://en.wikipedia.org/wiki/Hartree%E2%80%93Fock_method) or [density functional theory](https://en.wikipedia.org/wiki/Density_functional_theory). Given a charge distribution, the potential can be obtained via [Poisson's equation](https://en.wikipedia.org/wiki/Poisson%27s_equation). Most multislice simulation codes include a parametrization of the atomic potentials, with a table of parameters for each element fitted to the potential calculated elsewhere from first principles. \n",
    "\n",
    "We show the radial dependence of the electrostatic potential of five selected elements below. Note that the potentials tend to infinity at $r=0$ due to the point-like nuclear charge."
   ]
  },
  {
   "cell_type": "code",
   "execution_count": 2,
   "metadata": {
    "pycharm": {
     "name": "#%%\n"
    }
   },
   "outputs": [
    {
     "data": {
      "image/png": "[encoded data removed]",
      "text/plain": [
       "<Figure size 432x288 with 1 Axes>"
      ]
     },
     "metadata": {},
     "output_type": "display_data"
    }
   ],
   "source": [
    "symbols = [\"C\", \"N\", \"Si\", \"Au\", \"U\"]\n",
    "\n",
    "potentials = abtem.concatenate(\n",
    "    [\n",
    "        LobatoParametrization().line_profiles(\n",
    "            symbol,\n",
    "            cutoff=2,\n",
    "            name=\"potential\",\n",
    "        )\n",
    "        for symbol in symbols\n",
    "    ]\n",
    ")\n",
    "\n",
    "\n",
    "fig, ax = potentials.show()\n",
    "ax.set_ylim([0, 2000]);"
   ]
  },
  {
   "cell_type": "markdown",
   "metadata": {
    "pycharm": {
     "name": "#%% md\n"
    }
   },
   "source": [
    "The default parametrization in abTEM, which is shown above, is created by Ivan Lobato{cite}`lobato-parameters`. We also implement the parametrization by Earl J. Kirkland{cite}`kirkland` and the parametrization by Peng{cite}`peng-parameters`. The differences between the parametrizations are generally negligible at low scattering angles, but the parametrization by Lobato is more accurate at higher angles{cite}`lobato-parameters`."
   ]
  },
  {
   "cell_type": "markdown",
   "metadata": {
    "pycharm": {
     "name": "#%% md\n"
    }
   },
   "source": [
    "# Independent atom model\n",
    "The full specimen potential, $V(r)$, is usually obtained as a linear superposition of atomic potentials\n",
    "\n",
    "$$\n",
    "    V(r) = \\sum_i V_i(r-r_i) \\quad,\n",
    "$$\n",
    "\n",
    "where $V_i(r)$ is the atomic potential of the $i$'th atom. This is known as the independent atom model (IAM), and as a superposition of independent atoms, it neglects bonding effects. While this is in many cases an adequate approximation, there are situations where that is not the case ({cite}`madsen_ab_initio`) which *ab*TEM is particularly designed to address (as discussed [later in the walkthrough](walkthrough:charge_density)."
   ]
  },
  {
   "cell_type": "markdown",
   "source": [
    "## `Potential`\n",
    "Here, we create a `Potential` object representing an IAM potential of SrTiO<sub>3</sub> with the Lobato parametrization. The `sampling` denotes the spacing of the $xy$-samples of the potential, `slice_thickness` determines the spacing the slices in direction of electron beam and `projection` determines how those slices are calculated (as described [later in this document](walkthrough:slicing)).\n",
    "\n",
    "We also repeat the structure to make a larger supercell for visualizations."
   ],
   "metadata": {
    "collapsed": false,
    "pycharm": {
     "name": "#%% md\n"
    }
   }
  },
  {
   "cell_type": "code",
   "execution_count": null,
   "outputs": [],
   "source": [
    "srtio3 = read(\"./data/SrTiO3.cif\")\n",
    "repeated_srtio3 = srtio3 * (2, 2, 6)\n",
    "\n",
    "potential = abtem.Potential(\n",
    "    repeated_srtio3,\n",
    "    sampling=0.05,\n",
    "    parametrization=\"lobato\",\n",
    "    slice_thickness=1,\n",
    "    projection=\"finite\",\n",
    ")"
   ],
   "metadata": {
    "collapsed": false,
    "pycharm": {
     "name": "#%%\n"
    }
   }
  },
  {
   "cell_type": "markdown",
   "source": [
    "The potential has 24 slices along the $z$ propagation direction, as may be determined from getting its length."
   ],
   "metadata": {
    "collapsed": false,
    "pycharm": {
     "name": "#%% md\n"
    }
   }
  },
  {
   "cell_type": "code",
   "execution_count": null,
   "outputs": [],
   "source": [
    "len(potential)"
   ],
   "metadata": {
    "collapsed": false,
    "pycharm": {
     "name": "#%%\n"
    }
   }
  },
  {
   "cell_type": "markdown",
   "source": [
    "The projected potential, i.e. the sum of all the slices multiplied by the thickness, may be shown using the `show` method."
   ],
   "metadata": {
    "collapsed": false,
    "pycharm": {
     "name": "#%% md\n"
    }
   }
  },
  {
   "cell_type": "code",
   "execution_count": null,
   "outputs": [],
   "source": [
    "fig, (ax1, ax2) = plt.subplots(1, 2, figsize=(10, 5))\n",
    "\n",
    "abtem.show_atoms(repeated_srtio3, ax=ax1, legend=True)\n",
    "\n",
    "potential[:].show(ax=ax2);"
   ],
   "metadata": {
    "collapsed": false,
    "pycharm": {
     "name": "#%%\n"
    }
   }
  },
  {
   "cell_type": "markdown",
   "source": [
    "The `Potential` may be indexed to return a subset of slices. Below we select every sixth slice (using the Python syntax for indexing lists, `[:][::6]`) and show them all by setting `project=False` (the default is to show the projected potential) and `explode=True` (which automatically creates a multi-panel figure; in this instance the latter setting is assumed if the former is set). The titles of the panels are automatically set based on the selected slices."
   ],
   "metadata": {
    "collapsed": false,
    "pycharm": {
     "name": "#%% md\n"
    }
   }
  },
  {
   "cell_type": "code",
   "execution_count": null,
   "outputs": [],
   "source": [
    "potential[:][::6].show(project=False,\n",
    "                       explode=True,\n",
    "                       figsize=(18, 5),\n",
    "                       image_grid_kwargs={\"axes_pad\": 0.05});"
   ],
   "metadata": {
    "collapsed": false,
    "pycharm": {
     "name": "#%%\n"
    }
   }
  },
  {
   "cell_type": "markdown",
   "source": [
    "## Building and saving the potential\n",
    "The `Potential` does not store the calculated potential slices. Hence, if a simulation, such as STEM requires multiple propagations, each slice have to be calculated multiple times. For this reason, *ab*TEM often precalculates the potential whenever it has to be used more than once. \n",
    "\n",
    "The potential can be precalculated manually using the `build` method, but you should typically let *ab*TEM decide whether to precalculate the potential. Note that we also need to `compute` it, *ab*TEM by default uses so-called lazy arrays (see our [description of Dask](walkthrough:parallelization) for detail); a progress bar is displayed by default."
   ],
   "metadata": {
    "collapsed": false,
    "pycharm": {
     "name": "#%% md\n"
    }
   }
  },
  {
   "cell_type": "code",
   "execution_count": null,
   "outputs": [],
   "source": [
    "potential_array = potential.build().compute()"
   ],
   "metadata": {
    "collapsed": false,
    "pycharm": {
     "name": "#%%\n"
    }
   }
  },
  {
   "cell_type": "markdown",
   "source": [
    "This returns an `PotentialArray` object, which stores each 2D potential slice in a 3D array. The first dimension is the slice index and the last two are the spatial dimensions."
   ],
   "metadata": {
    "collapsed": false,
    "pycharm": {
     "name": "#%% md\n"
    }
   }
  },
  {
   "cell_type": "code",
   "execution_count": null,
   "outputs": [],
   "source": [
    "potential_array.shape"
   ],
   "metadata": {
    "collapsed": false,
    "pycharm": {
     "name": "#%%\n"
    }
   }
  },
  {
   "cell_type": "markdown",
   "source": [
    "The calculated potential can be stored in the open-source [Zarr file format](https://zarr.readthedocs.io/en/stable/) and conveniently read back in."
   ],
   "metadata": {
    "collapsed": false,
    "pycharm": {
     "name": "#%% md\n"
    }
   }
  },
  {
   "cell_type": "code",
   "execution_count": null,
   "outputs": [],
   "source": [
    "potential_array.to_zarr(\"data/srtio3_repeated_potential.zarr\", overwrite=True)\n",
    "\n",
    "abtem.from_zarr(\"data/srtio3_repeated_potential.zarr\");"
   ],
   "metadata": {
    "collapsed": false,
    "pycharm": {
     "name": "#%%\n"
    }
   }
  },
  {
   "cell_type": "markdown",
   "source": [
    "(walkthrough:slicing)= \n",
    "## Slicing the potential\n",
    "\n",
    "The multislice algorithm underlying most modern TEM image simulations requires a mathematical discretization of the potential into slices, which is exact in the limit of infinitely thin slices. The slice thickness can be considered a convergence parameter, and since more slices increases the computational cost, an optimum providing sufficient precision at an acceptable cost can be selected.\n",
    "\n",
    "A reasonable value for slice thickness is generally between $0.5 \\ \\mathrm{Å}$ and $2 \\ \\mathrm{Å}$; our default value is $1 \\ \\mathrm{Å}$. *ab*TEM also provides multiple options for evaluating the integrals required for slicing the potential that make slightly different tradeoffs in terms of precision and performance.\n",
    "\n",
    "### Finite projection integrals\n",
    "\n",
    "*ab*TEM implements an accurate finite potential projection method. Numerical integration is used to calculate the integrals of the form\n",
    "\n",
    "$$\n",
    "V_{n}(x, y) = \\int_{z_n}^{z_n+\\Delta z} V(x,y,z) dz \\quad ,\n",
    "$$ (eq:potentials:slice)\n",
    "\n",
    "where $z_n$ is the $z$-position at the entrance of the $n$'th slice and $\\Delta z$ is the slice thickness.\n",
    "\n",
    "We used the *ab*TEM default method of handling finite projection integrals above; additional options and a description of the methods is given in [an appendix](../appendix/potential_integrals.ipynb). \n",
    "\n",
    "### Infinite projection integrals\n",
    "\n",
    "Since the finite projection method can be computationally demanding, *ab*TEM also implements potentials using infinite projection integrals. The finite integrals are replaced by infinite integrals, which may be evaluated analytically\n",
    "\n",
    "$$ \\int_{-\\infty}^{\\infty} V(x,y,z) dz \\approx \\int_{z_i}^{z_i+\\Delta z} V(x,y,z) dz $$\n",
    "\n",
    "The infinite projection of the atomic potential for each atom is assigned to a single slice. The implementation uses the hybrid real-space/Fourier-space approach by van den Broek {cite}`van_den_broek_infinite_projections`). \n",
    "\n",
    "Below we create the same SrTiO3 potential as above with infinite projections. The potential looks almost identical to the finite projection, but note that the slice at $z=2.96 \\ \\mathrm{Å}$ has zero intensity because there is not atoms in this slice."
   ],
   "metadata": {
    "collapsed": false,
    "pycharm": {
     "name": "#%% md\n"
    }
   }
  },
  {
   "cell_type": "code",
   "execution_count": null,
   "outputs": [],
   "source": [
    "potential_infinite = abtem.Potential(\n",
    "    repeated_srtio3,\n",
    "    sampling=0.05,\n",
    "    parametrization=\"lobato\",\n",
    "    slice_thickness=1,\n",
    "    projection=\"infinite\",\n",
    ")\n",
    "\n",
    "potential_infinite[:][::6].show(\n",
    "    project=False, figsize=(18, 5), image_grid_kwargs={\"axes_pad\": 0.05}\n",
    ");"
   ],
   "metadata": {
    "collapsed": false,
    "pycharm": {
     "name": "#%%\n"
    }
   }
  },
  {
   "cell_type": "markdown",
   "source": [
    "Using infinite projections can be *much* faster, especially for potentials with a large numbers of atoms. As shown by the time below, the potential takes less than 0.5 s to calculate, which you may compare this to the finite projection calculated above that took 4 s. The error introduced by using infinite integrals is in most cases negligible compared to other sources of error. "
   ],
   "metadata": {
    "collapsed": false,
    "pycharm": {
     "name": "#%% md\n"
    }
   }
  },
  {
   "cell_type": "code",
   "execution_count": null,
   "outputs": [],
   "source": [
    "potential_infinite.build().compute();"
   ],
   "metadata": {
    "collapsed": false,
    "pycharm": {
     "name": "#%%\n"
    }
   }
  },
  {
   "cell_type": "markdown",
   "source": [
    "## Crystal potentials\n",
    "\n",
    "Calculating the potential is generally not a significant cost for simulations where the same potential is used in many runs of the multislice algorithm. However, for simulations that require just one or a few wave functions, such as HRTEM and CBED, it can also be an advantage to use the a periodic crystal potential.\n",
    "\n",
    "The `CrystalPotential` allows fast calculation for potentials of crystals by tiling a repeating unit of the potential. Below we create a `CrystalPotential` by tiling the already calculated finite projected potential."
   ],
   "metadata": {
    "collapsed": false,
    "pycharm": {
     "name": "#%% md\n"
    }
   }
  },
  {
   "cell_type": "code",
   "execution_count": null,
   "outputs": [],
   "source": [
    "crystal_potential = abtem.CrystalPotential(\n",
    "    potential_unit=potential_array, repetitions=(5, 5, 10)\n",
    ")\n",
    "\n",
    "crystal_potential.build().compute();"
   ],
   "metadata": {
    "collapsed": false,
    "pycharm": {
     "name": "#%%\n"
    }
   }
  },
  {
   "cell_type": "markdown",
   "source": [
    "We also implement a fast frozen phonon algorithm for crystal potentials by reshuffling precalculated slices {cite}`drprobe`; see our walkthrough on [frozen phonons](walkthrough:frozen_phonons)."
   ],
   "metadata": {
    "collapsed": false,
    "pycharm": {
     "name": "#%% md\n"
    }
   }
  }
 ],
 "metadata": {
  "kernelspec": {
   "display_name": "abtem",
   "language": "python",
   "name": "abtem"
  },
  "language_info": {
   "codemirror_mode": {
    "name": "ipython",
    "version": 3
   },
   "file_extension": ".py",
   "mimetype": "text/x-python",
   "name": "python",
   "nbconvert_exporter": "python",
   "pygments_lexer": "ipython3",
   "version": "3.9.13"
  },
  "pycharm": {
   "stem_cell": {
    "cell_type": "raw",
    "metadata": {
     "collapsed": false
    },
    "source": []
   }
  },
  "widgets": {
   "application/vnd.jupyter.widget-state+json": {
    "state": {},
    "version_major": 2,
    "version_minor": 0
   }
  }
 },
 "nbformat": 4,
 "nbformat_minor": 4
}