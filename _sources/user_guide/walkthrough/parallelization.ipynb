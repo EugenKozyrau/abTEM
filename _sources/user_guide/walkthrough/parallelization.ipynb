{
 "cells": [
  {
   "cell_type": "code",
   "execution_count": 1,
   "id": "c8a68d55-5e9b-4bab-b324-05b89a56cecd",
   "metadata": {
    "pycharm": {
     "name": "#%%\n"
    },
    "tags": [
     "hide-input"
    ]
   },
   "outputs": [],
   "source": [
    "import abtem\n",
    "import ase\n",
    "import dask\n",
    "from IPython.display import Image, display \n",
    "\n",
    "dask.config.set({\"array.svg.size\": 90});"
   ]
  },
  {
   "cell_type": "markdown",
   "id": "2b2c74ed-dfb6-4426-898a-63110b6fb253",
   "metadata": {
    "pycharm": {
     "name": "#%% md\n"
    },
    "tags": []
   },
   "source": [
    "(walkthrough:parallelization)=\n",
    "# Parallelization\n",
    "\n",
    "The computational cost of running multislice simulations can become high depending on the size of the specimen, the number of probe positions, phonon images, and many other factors. This cost can be mitigated using parallelism. Many of the computations in *ab*TEM are [embarrasingly parallel](https://en.wikipedia.org/wiki/Embarrassingly_parallel): for example, every probe position is independent, thus each CPU core may calculate a batch of positions independently, only requiring communication after finishing a run of the multislice algorithm. \n",
    "\n",
    "*ab*TEM is parallelized using [Dask](https://www.dask.org/){cite}`dask`, which is a flexible library for parallel computing in Python. Dask allows scaling from a single laptop to hundreds of nodes at high-performance computing (HPC) facilities with minimal changes to the code. \n",
    "\n",
    "In this walkthrough, we introduce how *ab*TEM uses Dask. Althouhg this is not required knowledge for running simulations on a single machine, it may still help you optimize your simulations. If you are already an experienced Dask user, most of what you already know can be applied to using *ab*TEM. If you are new to Dask you may benefit from watching [this introduction](https://www.youtube.com/watch?v=nnndxbr_Xq4) before continuing.\n",
    "\n",
    "We note that Dask is used in several other libraries for the analysis of electron microscopy data, for example, [hyperspy](https://hyperspy.org/), [libertem](https://libertem.github.io/LiberTEM/) and [py4DSTEM](https://py4dstem.readthedocs.io/en/latest/), and thus we think that you may benefit from knowing this library more generally."
   ]
  },
  {
   "cell_type": "markdown",
   "id": "43b2aaf0-80a0-4058-99a2-faa12025ab42",
   "metadata": {
    "pycharm": {
     "name": "#%% md\n"
    }
   },
   "source": [
    "## Task graphs\n",
    "\n",
    "Simulating TEM experiments requires executing multiple *tasks* where each one may depend on the output of previous tasks. In Dask this is represented as a [*task graph*](https://docs.dask.org/en/stable/graphs.html), where each task is a *node*, with *edges* between nodes if it is dependent on another task. The simulation result is obtained by executing each task (node) in the graph with a Dask *scheduler* on a single machine or a cluster."
   ]
  },
  {
   "cell_type": "code",
   "execution_count": 2,
   "id": "fe6765fb-d0ea-4c35-b5bf-2eaadee69b0b",
   "metadata": {
    "jupyter": {
     "source_hidden": true
    },
    "tags": [
     "remove-input",
     "hide-input"
    ]
   },
   "outputs": [
    {
     "data": {
      "text/html": [
       "<img src=\"https://docs.dask.org/en/stable/_images/dask-overview.svg\" width=\"600\"/>"
      ],
      "text/plain": [
       "<IPython.core.display.Image object>"
      ]
     },
     "metadata": {},
     "output_type": "display_data"
    }
   ],
   "source": [
    "display(\n",
    "    Image(url=\"https://docs.dask.org/en/stable/_images/dask-overview.svg\", width=600)\n",
    ")"
   ]
  },
  {
   "cell_type": "markdown",
   "id": "95b10156-ee85-4600-92ed-b9c7c398dbdc",
   "metadata": {},
   "source": [
    "To illustrate this in practice, below we create the task graph for running a plane wave multislice simulation of gold in the $\\left<100\\right>$ zone axis with 4 frozen phonon configurations (please refer to previous walkthroughs for those details)."
   ]
  },
  {
   "cell_type": "code",
   "execution_count": 3,
   "id": "60ba5ba0-0d6d-4ecb-8fdd-fa80316a579b",
   "metadata": {},
   "outputs": [],
   "source": [
    "atoms = ase.build.bulk(\"Au\", cubic=True) * (5, 5, 2)\n",
    "\n",
    "frozen_phonons = abtem.FrozenPhonons(\n",
    "    atoms, num_configs=4, sigmas=0.1, ensemble_mean=False\n",
    ")\n",
    "\n",
    "potential = abtem.Potential(frozen_phonons, gpts=512, slice_thickness=2)\n",
    "\n",
    "probe = abtem.PlaneWave(energy=200e3)\n",
    "\n",
    "exit_waves = probe.multislice(potential)"
   ]
  },
  {
   "cell_type": "markdown",
   "id": "cbc97cd9-2777-4ef4-a0c4-c020517b708e",
   "metadata": {},
   "source": [
    "The result is an ensemble of $4$ wave functions of shape $512\\times512$, which may be represented as a 3D array, where the first dimension represents the phonon ensemble and the last two dimensions represents the 2D wave functions. \n",
    "\n",
    "As we have not executed the task graph yet, the wave functions are represented as a [Dask Array](https://docs.dask.org/en/stable/array.html). We can think of the *Dask array* as being composed of many smaller NumPy arrays, called *chunks*, and operations may be applied to each chunk rather than the full array. This enables: \n",
    "\n",
    "1. Parallelism over the chunks;\n",
    "2. Representing a larger-than-memory array as many smaller arrays, each of which fits in memory.\n",
    "\n",
    "The Dask array representation `__repr__` shows how the chunks are laid out."
   ]
  },
  {
   "cell_type": "code",
   "execution_count": 4,
   "id": "adc736d7-6ca1-47a7-baa5-eb6a9b0d69cb",
   "metadata": {},
   "outputs": [
    {
     "data": {
      "text/html": [
       "<table>\n",
       "    <tr>\n",
       "        <td>\n",
       "            <table>\n",
       "                <thead>\n",
       "                    <tr>\n",
       "                        <td> </td>\n",
       "                        <th> Array </th>\n",
       "                        <th> Chunk </th>\n",
       "                    </tr>\n",
       "                </thead>\n",
       "                <tbody>\n",
       "                    \n",
       "                    <tr>\n",
       "                        <th> Bytes </th>\n",
       "                        <td> 8.00 MiB </td>\n",
       "                        <td> 2.00 MiB </td>\n",
       "                    </tr>\n",
       "                    \n",
       "                    <tr>\n",
       "                        <th> Shape </th>\n",
       "                        <td> (4, 512, 512) </td>\n",
       "                        <td> (1, 512, 512) </td>\n",
       "                    </tr>\n",
       "                    <tr>\n",
       "                        <th> Count </th>\n",
       "                        <td> 15 Graph Layers </td>\n",
       "                        <td> 4 Chunks </td>\n",
       "                    </tr>\n",
       "                    <tr>\n",
       "                    <th> Type </th>\n",
       "                    <td> complex64 </td>\n",
       "                    <td> numpy.ndarray </td>\n",
       "                    </tr>\n",
       "                </tbody>\n",
       "            </table>\n",
       "        </td>\n",
       "        <td>\n",
       "        <svg width=\"161\" height=\"151\" style=\"stroke:rgb(0,0,0);stroke-width:1\" >\n",
       "\n",
       "  <!-- Horizontal lines -->\n",
       "  <line x1=\"10\" y1=\"0\" x2=\"21\" y2=\"11\" style=\"stroke-width:2\" />\n",
       "  <line x1=\"10\" y1=\"90\" x2=\"21\" y2=\"101\" style=\"stroke-width:2\" />\n",
       "\n",
       "  <!-- Vertical lines -->\n",
       "  <line x1=\"10\" y1=\"0\" x2=\"10\" y2=\"90\" style=\"stroke-width:2\" />\n",
       "  <line x1=\"12\" y1=\"2\" x2=\"12\" y2=\"92\" />\n",
       "  <line x1=\"15\" y1=\"5\" x2=\"15\" y2=\"95\" />\n",
       "  <line x1=\"18\" y1=\"8\" x2=\"18\" y2=\"98\" />\n",
       "  <line x1=\"21\" y1=\"11\" x2=\"21\" y2=\"101\" style=\"stroke-width:2\" />\n",
       "\n",
       "  <!-- Colored Rectangle -->\n",
       "  <polygon points=\"10.0,0.0 21.2114484623158,11.211448462315802 21.2114484623158,101.2114484623158 10.0,90.0\" style=\"fill:#ECB172A0;stroke-width:0\"/>\n",
       "\n",
       "  <!-- Horizontal lines -->\n",
       "  <line x1=\"10\" y1=\"0\" x2=\"100\" y2=\"0\" style=\"stroke-width:2\" />\n",
       "  <line x1=\"12\" y1=\"2\" x2=\"102\" y2=\"2\" />\n",
       "  <line x1=\"15\" y1=\"5\" x2=\"105\" y2=\"5\" />\n",
       "  <line x1=\"18\" y1=\"8\" x2=\"108\" y2=\"8\" />\n",
       "  <line x1=\"21\" y1=\"11\" x2=\"111\" y2=\"11\" style=\"stroke-width:2\" />\n",
       "\n",
       "  <!-- Vertical lines -->\n",
       "  <line x1=\"10\" y1=\"0\" x2=\"21\" y2=\"11\" style=\"stroke-width:2\" />\n",
       "  <line x1=\"100\" y1=\"0\" x2=\"111\" y2=\"11\" style=\"stroke-width:2\" />\n",
       "\n",
       "  <!-- Colored Rectangle -->\n",
       "  <polygon points=\"10.0,0.0 100.0,0.0 111.2114484623158,11.211448462315802 21.2114484623158,11.211448462315802\" style=\"fill:#ECB172A0;stroke-width:0\"/>\n",
       "\n",
       "  <!-- Horizontal lines -->\n",
       "  <line x1=\"21\" y1=\"11\" x2=\"111\" y2=\"11\" style=\"stroke-width:2\" />\n",
       "  <line x1=\"21\" y1=\"101\" x2=\"111\" y2=\"101\" style=\"stroke-width:2\" />\n",
       "\n",
       "  <!-- Vertical lines -->\n",
       "  <line x1=\"21\" y1=\"11\" x2=\"21\" y2=\"101\" style=\"stroke-width:2\" />\n",
       "  <line x1=\"111\" y1=\"11\" x2=\"111\" y2=\"101\" style=\"stroke-width:2\" />\n",
       "\n",
       "  <!-- Colored Rectangle -->\n",
       "  <polygon points=\"21.2114484623158,11.211448462315802 111.2114484623158,11.211448462315802 111.2114484623158,101.2114484623158 21.2114484623158,101.2114484623158\" style=\"fill:#ECB172A0;stroke-width:0\"/>\n",
       "\n",
       "  <!-- Text -->\n",
       "  <text x=\"66.211448\" y=\"121.211448\" font-size=\"1.0rem\" font-weight=\"100\" text-anchor=\"middle\" >512</text>\n",
       "  <text x=\"131.211448\" y=\"56.211448\" font-size=\"1.0rem\" font-weight=\"100\" text-anchor=\"middle\" transform=\"rotate(-90,131.211448,56.211448)\">512</text>\n",
       "  <text x=\"5.605724\" y=\"115.605724\" font-size=\"1.0rem\" font-weight=\"100\" text-anchor=\"middle\" transform=\"rotate(45,5.605724,115.605724)\">4</text>\n",
       "</svg>\n",
       "        </td>\n",
       "    </tr>\n",
       "</table>"
      ],
      "text/plain": [
       "dask.array<_extract_measurement, shape=(4, 512, 512), dtype=complex64, chunksize=(1, 512, 512), chunktype=numpy.ndarray>"
      ]
     },
     "execution_count": 4,
     "metadata": {},
     "output_type": "execute_result"
    }
   ],
   "source": [
    "exit_waves.array"
   ]
  },
  {
   "cell_type": "markdown",
   "id": "07d22d90-2701-4d3e-bc91-ab2260232950",
   "metadata": {},
   "source": [
    "We see that this Dask array has the shape `(4, 512, 512)` requiring 8 MB of memory, and is composed of chunks with shape `(1, 512, 512)` requiring 2 MB each.\n",
    "\n",
    "```{important}\n",
    "The Dask array just represents a task graph, not the data itself, so memory is consumed only if it is computed!\n",
    "```\n",
    "\n",
    "Each chunk of the Dask array created above represents a wave function for a frozen phonon configuration. This reflects the fact that, in the multislice algorithm, each frozen phonon configuration is independent and may be calculated in parallel. On the other hand, we should not have chunks across wave functions, because each part of a wave function is affected by every other part.\n",
    "\n",
    "We can visualize the task graph using Dask's [`visualize`](https://docs.dask.org/en/stable/graphviz.html) method. We see that the task graph consists of 4 fully independent branches, one for each frozen phonon.\n",
    "\n",
    "````{note}\n",
    "Drawing Dask task graphs with the cytoscape engine requires the `ipycytoscape` python library. To reproduce the result below you need to:\n",
    "```\n",
    "  python -m pip install ipycytoscape\n",
    "```\n",
    "and restart jupyter.\n",
    "````"
   ]
  },
  {
   "cell_type": "code",
   "execution_count": 5,
   "id": "45d463ae-c282-4710-a05c-0817cb996457",
   "metadata": {
    "tags": [
     "skip-test"
    ]
   },
   "outputs": [
    {
     "data": {
      "application/vnd.jupyter.widget-view+json": {
       "model_id": "75269886bb4c44baa7c12c747ad9f1df",
       "version_major": 2,
       "version_minor": 0
      },
      "text/plain": [
       "CytoscapeWidget(cytoscape_layout={'name': 'dagre', 'rankDir': 'BT', 'nodeSep': 10, 'edgeSep': 10, 'spacingFact…"
      ]
     },
     "execution_count": 5,
     "metadata": {},
     "output_type": "execute_result"
    }
   ],
   "source": [
    "exit_waves.array.visualize(engine=\"cytoscape\")"
   ]
  },
  {
   "cell_type": "markdown",
   "id": "20d970c0-56e5-4066-b1d8-f6c71f59fb46",
   "metadata": {},
   "source": [
    "We usually want to take the mean across the frozen phonon dimension, and thus end up with an image represented as a single chunk."
   ]
  },
  {
   "cell_type": "code",
   "execution_count": 6,
   "id": "907e3a1e-7132-4dc5-aa9b-bdeed01a6170",
   "metadata": {},
   "outputs": [
    {
     "data": {
      "text/html": [
       "<table>\n",
       "    <tr>\n",
       "        <td>\n",
       "            <table>\n",
       "                <thead>\n",
       "                    <tr>\n",
       "                        <td> </td>\n",
       "                        <th> Array </th>\n",
       "                        <th> Chunk </th>\n",
       "                    </tr>\n",
       "                </thead>\n",
       "                <tbody>\n",
       "                    \n",
       "                    <tr>\n",
       "                        <th> Bytes </th>\n",
       "                        <td> 1.00 MiB </td>\n",
       "                        <td> 1.00 MiB </td>\n",
       "                    </tr>\n",
       "                    \n",
       "                    <tr>\n",
       "                        <th> Shape </th>\n",
       "                        <td> (512, 512) </td>\n",
       "                        <td> (512, 512) </td>\n",
       "                    </tr>\n",
       "                    <tr>\n",
       "                        <th> Count </th>\n",
       "                        <td> 19 Graph Layers </td>\n",
       "                        <td> 1 Chunks </td>\n",
       "                    </tr>\n",
       "                    <tr>\n",
       "                    <th> Type </th>\n",
       "                    <td> float32 </td>\n",
       "                    <td> numpy.ndarray </td>\n",
       "                    </tr>\n",
       "                </tbody>\n",
       "            </table>\n",
       "        </td>\n",
       "        <td>\n",
       "        <svg width=\"140\" height=\"140\" style=\"stroke:rgb(0,0,0);stroke-width:1\" >\n",
       "\n",
       "  <!-- Horizontal lines -->\n",
       "  <line x1=\"0\" y1=\"0\" x2=\"90\" y2=\"0\" style=\"stroke-width:2\" />\n",
       "  <line x1=\"0\" y1=\"90\" x2=\"90\" y2=\"90\" style=\"stroke-width:2\" />\n",
       "\n",
       "  <!-- Vertical lines -->\n",
       "  <line x1=\"0\" y1=\"0\" x2=\"0\" y2=\"90\" style=\"stroke-width:2\" />\n",
       "  <line x1=\"90\" y1=\"0\" x2=\"90\" y2=\"90\" style=\"stroke-width:2\" />\n",
       "\n",
       "  <!-- Colored Rectangle -->\n",
       "  <polygon points=\"0.0,0.0 90.0,0.0 90.0,90.0 0.0,90.0\" style=\"fill:#ECB172A0;stroke-width:0\"/>\n",
       "\n",
       "  <!-- Text -->\n",
       "  <text x=\"45.000000\" y=\"110.000000\" font-size=\"1.0rem\" font-weight=\"100\" text-anchor=\"middle\" >512</text>\n",
       "  <text x=\"110.000000\" y=\"45.000000\" font-size=\"1.0rem\" font-weight=\"100\" text-anchor=\"middle\" transform=\"rotate(-90,110.000000,45.000000)\">512</text>\n",
       "</svg>\n",
       "        </td>\n",
       "    </tr>\n",
       "</table>"
      ],
      "text/plain": [
       "dask.array<mean_agg-aggregate, shape=(512, 512), dtype=float32, chunksize=(512, 512), chunktype=numpy.ndarray>"
      ]
     },
     "execution_count": 6,
     "metadata": {},
     "output_type": "execute_result"
    }
   ],
   "source": [
    "hrtem_image = exit_waves.intensity().mean(0)\n",
    "\n",
    "hrtem_image.array"
   ]
  },
  {
   "cell_type": "markdown",
   "id": "b9661725-7a20-44f6-8415-52489e91259b",
   "metadata": {},
   "source": [
    "Taking the mean across frozen phonon chunks requires communicating the exit wave function intensity between the final nodes. Showing the task graph again we see how the branches are merged when the result have to be communicated between workers."
   ]
  },
  {
   "cell_type": "code",
   "execution_count": 7,
   "id": "27e8b98c-362e-4543-b6c2-e033a827143e",
   "metadata": {
    "tags": [
     "skip-test"
    ]
   },
   "outputs": [
    {
     "data": {
      "application/vnd.jupyter.widget-view+json": {
       "model_id": "46937f574d634eb49dffd6a2643d8d2f",
       "version_major": 2,
       "version_minor": 0
      },
      "text/plain": [
       "CytoscapeWidget(cytoscape_layout={'name': 'dagre', 'rankDir': 'BT', 'nodeSep': 10, 'edgeSep': 10, 'spacingFact…"
      ]
     },
     "execution_count": 7,
     "metadata": {},
     "output_type": "execute_result"
    }
   ],
   "source": [
    "hrtem_image.array.visualize(engine=\"cytoscape\")"
   ]
  },
  {
   "cell_type": "markdown",
   "id": "7dcdbfb7-41d3-49ff-995f-bf17f01a120f",
   "metadata": {},
   "source": [
    "## Chunks\n",
    "To futher explore the role of chunks in abTEM, we create the task graph for running a STEM simulation with the same specimen, gold in the $\\left<100\\right>$ zone axis with 4 frozen phonons. We do not immediately apply a detector, so we obtain an ensemble of exit wave functions."
   ]
  },
  {
   "cell_type": "code",
   "execution_count": 8,
   "id": "5b9baf98-b088-4c6f-954d-8ae1a7d22c23",
   "metadata": {
    "pycharm": {
     "name": "#%%\n"
    }
   },
   "outputs": [
    {
     "data": {
      "text/plain": [
       "type               label           coordinates\n",
       "-----------------  --------------  -------------------\n",
       "FrozenPhononsAxis  Frozen phonons  -\n",
       "ScanAxis           x [Å]           0.00 0.27 ... 3.81\n",
       "ScanAxis           y [Å]           0.00 0.27 ... 3.81\n",
       "RealSpaceAxis      x [Å]           0.00 0.04 ... 20.36\n",
       "RealSpaceAxis      y [Å]           0.00 0.04 ... 20.36"
      ]
     },
     "execution_count": 8,
     "metadata": {},
     "output_type": "execute_result"
    }
   ],
   "source": [
    "probe = abtem.Probe(energy=200e3, semiangle_cutoff=20)\n",
    "\n",
    "scan = abtem.GridScan.from_fractional_coordinates(\n",
    "    potential,\n",
    "    start=(0, 0),\n",
    "    end=(1 / 5, 1 / 5),\n",
    ")\n",
    "\n",
    "frozen_phonons = abtem.FrozenPhonons(\n",
    "    atoms, num_configs=4, sigmas=0.1, ensemble_mean=True\n",
    ")\n",
    "\n",
    "potential = abtem.Potential(frozen_phonons, gpts=512, slice_thickness=2)\n",
    "\n",
    "exit_waves_stem = probe.multislice(potential, scan=scan)\n",
    "\n",
    "exit_waves_stem.axes_metadata"
   ]
  },
  {
   "cell_type": "markdown",
   "id": "69036139-511e-482d-8f72-e66b71df0924",
   "metadata": {},
   "source": [
    "The wave functions are now represented as a 5D Dask array, a 3D ensemble of 2D wave functions, which is composed of one frozen phonon dimension and two scan dimensions, one for each of the $x$ and $y$ direction. \n",
    "\n",
    "The full array is of shape `(4, 15, 15, 512, 512)` requiring 1.76 GB of memory, which is cut into chunks of shape `(1, 8, 7, 512, 512)` of 112 MB. Hence, there are a total of $4 \\times 2 \\times 3 = 24$ chunks."
   ]
  },
  {
   "cell_type": "code",
   "execution_count": 9,
   "id": "0d0ab17b-53e3-4e79-856a-d734fe3c1cbe",
   "metadata": {},
   "outputs": [
    {
     "data": {
      "text/html": [
       "<table>\n",
       "    <tr>\n",
       "        <td>\n",
       "            <table>\n",
       "                <thead>\n",
       "                    <tr>\n",
       "                        <td> </td>\n",
       "                        <th> Array </th>\n",
       "                        <th> Chunk </th>\n",
       "                    </tr>\n",
       "                </thead>\n",
       "                <tbody>\n",
       "                    \n",
       "                    <tr>\n",
       "                        <th> Bytes </th>\n",
       "                        <td> 1.76 GiB </td>\n",
       "                        <td> 112.00 MiB </td>\n",
       "                    </tr>\n",
       "                    \n",
       "                    <tr>\n",
       "                        <th> Shape </th>\n",
       "                        <td> (4, 15, 15, 512, 512) </td>\n",
       "                        <td> (1, 8, 7, 512, 512) </td>\n",
       "                    </tr>\n",
       "                    <tr>\n",
       "                        <th> Count </th>\n",
       "                        <td> 17 Graph Layers </td>\n",
       "                        <td> 24 Chunks </td>\n",
       "                    </tr>\n",
       "                    <tr>\n",
       "                    <th> Type </th>\n",
       "                    <td> complex64 </td>\n",
       "                    <td> numpy.ndarray </td>\n",
       "                    </tr>\n",
       "                </tbody>\n",
       "            </table>\n",
       "        </td>\n",
       "        <td>\n",
       "        <svg width=\"339\" height=\"153\" style=\"stroke:rgb(0,0,0);stroke-width:1\" >\n",
       "\n",
       "  <!-- Horizontal lines -->\n",
       "  <line x1=\"0\" y1=\"0\" x2=\"23\" y2=\"0\" style=\"stroke-width:2\" />\n",
       "  <line x1=\"0\" y1=\"4\" x2=\"23\" y2=\"4\" />\n",
       "  <line x1=\"0\" y1=\"9\" x2=\"23\" y2=\"9\" />\n",
       "  <line x1=\"0\" y1=\"14\" x2=\"23\" y2=\"14\" />\n",
       "  <line x1=\"0\" y1=\"19\" x2=\"23\" y2=\"19\" style=\"stroke-width:2\" />\n",
       "\n",
       "  <!-- Vertical lines -->\n",
       "  <line x1=\"0\" y1=\"0\" x2=\"0\" y2=\"19\" style=\"stroke-width:2\" />\n",
       "  <line x1=\"12\" y1=\"0\" x2=\"12\" y2=\"19\" />\n",
       "  <line x1=\"23\" y1=\"0\" x2=\"23\" y2=\"19\" style=\"stroke-width:2\" />\n",
       "\n",
       "  <!-- Colored Rectangle -->\n",
       "  <polygon points=\"0.0,0.0 23.436469151419786,0.0 23.436469151419786,19.059462385936865 0.0,19.059462385936865\" style=\"fill:#ECB172A0;stroke-width:0\"/>\n",
       "\n",
       "  <!-- Text -->\n",
       "  <text x=\"11.718235\" y=\"39.059462\" font-size=\"1.0rem\" font-weight=\"100\" text-anchor=\"middle\" >15</text>\n",
       "  <text x=\"43.436469\" y=\"9.529731\" font-size=\"1.0rem\" font-weight=\"100\" text-anchor=\"middle\" transform=\"rotate(0,43.436469,9.529731)\">4</text>\n",
       "\n",
       "\n",
       "  <!-- Horizontal lines -->\n",
       "  <line x1=\"93\" y1=\"0\" x2=\"106\" y2=\"13\" style=\"stroke-width:2\" />\n",
       "  <line x1=\"93\" y1=\"90\" x2=\"106\" y2=\"103\" style=\"stroke-width:2\" />\n",
       "\n",
       "  <!-- Vertical lines -->\n",
       "  <line x1=\"93\" y1=\"0\" x2=\"93\" y2=\"90\" style=\"stroke-width:2\" />\n",
       "  <line x1=\"99\" y1=\"6\" x2=\"99\" y2=\"96\" />\n",
       "  <line x1=\"105\" y1=\"12\" x2=\"105\" y2=\"102\" />\n",
       "  <line x1=\"106\" y1=\"13\" x2=\"106\" y2=\"103\" style=\"stroke-width:2\" />\n",
       "\n",
       "  <!-- Colored Rectangle -->\n",
       "  <polygon points=\"93.0,0.0 106.78615832436458,13.78615832436458 106.78615832436458,103.78615832436458 93.0,90.0\" style=\"fill:#ECB172A0;stroke-width:0\"/>\n",
       "\n",
       "  <!-- Horizontal lines -->\n",
       "  <line x1=\"93\" y1=\"0\" x2=\"183\" y2=\"0\" style=\"stroke-width:2\" />\n",
       "  <line x1=\"99\" y1=\"6\" x2=\"189\" y2=\"6\" />\n",
       "  <line x1=\"105\" y1=\"12\" x2=\"195\" y2=\"12\" />\n",
       "  <line x1=\"106\" y1=\"13\" x2=\"196\" y2=\"13\" style=\"stroke-width:2\" />\n",
       "\n",
       "  <!-- Vertical lines -->\n",
       "  <line x1=\"93\" y1=\"0\" x2=\"106\" y2=\"13\" style=\"stroke-width:2\" />\n",
       "  <line x1=\"183\" y1=\"0\" x2=\"196\" y2=\"13\" style=\"stroke-width:2\" />\n",
       "\n",
       "  <!-- Colored Rectangle -->\n",
       "  <polygon points=\"93.0,0.0 183.0,0.0 196.78615832436458,13.78615832436458 106.78615832436458,13.78615832436458\" style=\"fill:#ECB172A0;stroke-width:0\"/>\n",
       "\n",
       "  <!-- Horizontal lines -->\n",
       "  <line x1=\"106\" y1=\"13\" x2=\"196\" y2=\"13\" style=\"stroke-width:2\" />\n",
       "  <line x1=\"106\" y1=\"103\" x2=\"196\" y2=\"103\" style=\"stroke-width:2\" />\n",
       "\n",
       "  <!-- Vertical lines -->\n",
       "  <line x1=\"106\" y1=\"13\" x2=\"106\" y2=\"103\" style=\"stroke-width:2\" />\n",
       "  <line x1=\"196\" y1=\"13\" x2=\"196\" y2=\"103\" style=\"stroke-width:2\" />\n",
       "\n",
       "  <!-- Colored Rectangle -->\n",
       "  <polygon points=\"106.78615832436458,13.78615832436458 196.78615832436458,13.78615832436458 196.78615832436458,103.78615832436458 106.78615832436458,103.78615832436458\" style=\"fill:#ECB172A0;stroke-width:0\"/>\n",
       "\n",
       "  <!-- Text -->\n",
       "  <text x=\"151.786158\" y=\"123.786158\" font-size=\"1.0rem\" font-weight=\"100\" text-anchor=\"middle\" >512</text>\n",
       "  <text x=\"216.786158\" y=\"58.786158\" font-size=\"1.0rem\" font-weight=\"100\" text-anchor=\"middle\" transform=\"rotate(-90,216.786158,58.786158)\">512</text>\n",
       "  <text x=\"89.893079\" y=\"116.893079\" font-size=\"1.0rem\" font-weight=\"100\" text-anchor=\"middle\" transform=\"rotate(45,89.893079,116.893079)\">15</text>\n",
       "</svg>\n",
       "        </td>\n",
       "    </tr>\n",
       "</table>"
      ],
      "text/plain": [
       "dask.array<_extract_measurement, shape=(4, 15, 15, 512, 512), dtype=complex64, chunksize=(1, 8, 7, 512, 512), chunktype=numpy.ndarray>"
      ]
     },
     "execution_count": 9,
     "metadata": {},
     "output_type": "execute_result"
    }
   ],
   "source": [
    "exit_waves_stem.array"
   ]
  },
  {
   "cell_type": "markdown",
   "id": "00985534-3b37-458c-9cba-e5f6c783f334",
   "metadata": {},
   "source": [
    "Notice that we do not make a chunk for every probe position, but each chunk of the scan dimension instead represents a batch of wave functions. This is done partly to limit [the overhead](https://docs.dask.org/en/stable/best-practices.html#avoid-very-large-graphs) that every chunk comes with, but more importantly, larger batches enables efficient thread parallelization within each run of the multislice algorithm.\n",
    "\n",
    "We can change how many wave functions each batch should have using a keyword. Below we set `max_batch=4`, resulting in a total number of $4 \\times 8 \\times 8 = 256$ chunks."
   ]
  },
  {
   "cell_type": "code",
   "execution_count": 10,
   "id": "b1f9437b-ed6a-4836-8e6c-daa0ae526b21",
   "metadata": {},
   "outputs": [
    {
     "data": {
      "text/html": [
       "<table>\n",
       "    <tr>\n",
       "        <td>\n",
       "            <table>\n",
       "                <thead>\n",
       "                    <tr>\n",
       "                        <td> </td>\n",
       "                        <th> Array </th>\n",
       "                        <th> Chunk </th>\n",
       "                    </tr>\n",
       "                </thead>\n",
       "                <tbody>\n",
       "                    \n",
       "                    <tr>\n",
       "                        <th> Bytes </th>\n",
       "                        <td> 1.76 GiB </td>\n",
       "                        <td> 8.00 MiB </td>\n",
       "                    </tr>\n",
       "                    \n",
       "                    <tr>\n",
       "                        <th> Shape </th>\n",
       "                        <td> (4, 15, 15, 512, 512) </td>\n",
       "                        <td> (1, 2, 2, 512, 512) </td>\n",
       "                    </tr>\n",
       "                    <tr>\n",
       "                        <th> Count </th>\n",
       "                        <td> 16 Graph Layers </td>\n",
       "                        <td> 256 Chunks </td>\n",
       "                    </tr>\n",
       "                    <tr>\n",
       "                    <th> Type </th>\n",
       "                    <td> complex64 </td>\n",
       "                    <td> numpy.ndarray </td>\n",
       "                    </tr>\n",
       "                </tbody>\n",
       "            </table>\n",
       "        </td>\n",
       "        <td>\n",
       "        <svg width=\"339\" height=\"153\" style=\"stroke:rgb(0,0,0);stroke-width:1\" >\n",
       "\n",
       "  <!-- Horizontal lines -->\n",
       "  <line x1=\"0\" y1=\"0\" x2=\"23\" y2=\"0\" style=\"stroke-width:2\" />\n",
       "  <line x1=\"0\" y1=\"4\" x2=\"23\" y2=\"4\" />\n",
       "  <line x1=\"0\" y1=\"9\" x2=\"23\" y2=\"9\" />\n",
       "  <line x1=\"0\" y1=\"14\" x2=\"23\" y2=\"14\" />\n",
       "  <line x1=\"0\" y1=\"19\" x2=\"23\" y2=\"19\" style=\"stroke-width:2\" />\n",
       "\n",
       "  <!-- Vertical lines -->\n",
       "  <line x1=\"0\" y1=\"0\" x2=\"0\" y2=\"19\" style=\"stroke-width:2\" />\n",
       "  <line x1=\"3\" y1=\"0\" x2=\"3\" y2=\"19\" />\n",
       "  <line x1=\"6\" y1=\"0\" x2=\"6\" y2=\"19\" />\n",
       "  <line x1=\"9\" y1=\"0\" x2=\"9\" y2=\"19\" />\n",
       "  <line x1=\"12\" y1=\"0\" x2=\"12\" y2=\"19\" />\n",
       "  <line x1=\"15\" y1=\"0\" x2=\"15\" y2=\"19\" />\n",
       "  <line x1=\"18\" y1=\"0\" x2=\"18\" y2=\"19\" />\n",
       "  <line x1=\"21\" y1=\"0\" x2=\"21\" y2=\"19\" />\n",
       "  <line x1=\"23\" y1=\"0\" x2=\"23\" y2=\"19\" style=\"stroke-width:2\" />\n",
       "\n",
       "  <!-- Colored Rectangle -->\n",
       "  <polygon points=\"0.0,0.0 23.436469151419786,0.0 23.436469151419786,19.059462385936865 0.0,19.059462385936865\" style=\"fill:#ECB172A0;stroke-width:0\"/>\n",
       "\n",
       "  <!-- Text -->\n",
       "  <text x=\"11.718235\" y=\"39.059462\" font-size=\"1.0rem\" font-weight=\"100\" text-anchor=\"middle\" >15</text>\n",
       "  <text x=\"43.436469\" y=\"9.529731\" font-size=\"1.0rem\" font-weight=\"100\" text-anchor=\"middle\" transform=\"rotate(0,43.436469,9.529731)\">4</text>\n",
       "\n",
       "\n",
       "  <!-- Horizontal lines -->\n",
       "  <line x1=\"93\" y1=\"0\" x2=\"106\" y2=\"13\" style=\"stroke-width:2\" />\n",
       "  <line x1=\"93\" y1=\"90\" x2=\"106\" y2=\"103\" style=\"stroke-width:2\" />\n",
       "\n",
       "  <!-- Vertical lines -->\n",
       "  <line x1=\"93\" y1=\"0\" x2=\"93\" y2=\"90\" style=\"stroke-width:2\" />\n",
       "  <line x1=\"94\" y1=\"1\" x2=\"94\" y2=\"91\" />\n",
       "  <line x1=\"96\" y1=\"3\" x2=\"96\" y2=\"93\" />\n",
       "  <line x1=\"98\" y1=\"5\" x2=\"98\" y2=\"95\" />\n",
       "  <line x1=\"100\" y1=\"7\" x2=\"100\" y2=\"97\" />\n",
       "  <line x1=\"102\" y1=\"9\" x2=\"102\" y2=\"99\" />\n",
       "  <line x1=\"104\" y1=\"11\" x2=\"104\" y2=\"101\" />\n",
       "  <line x1=\"105\" y1=\"12\" x2=\"105\" y2=\"102\" />\n",
       "  <line x1=\"106\" y1=\"13\" x2=\"106\" y2=\"103\" style=\"stroke-width:2\" />\n",
       "\n",
       "  <!-- Colored Rectangle -->\n",
       "  <polygon points=\"93.0,0.0 106.78615832436458,13.78615832436458 106.78615832436458,103.78615832436458 93.0,90.0\" style=\"fill:#ECB172A0;stroke-width:0\"/>\n",
       "\n",
       "  <!-- Horizontal lines -->\n",
       "  <line x1=\"93\" y1=\"0\" x2=\"183\" y2=\"0\" style=\"stroke-width:2\" />\n",
       "  <line x1=\"94\" y1=\"1\" x2=\"184\" y2=\"1\" />\n",
       "  <line x1=\"96\" y1=\"3\" x2=\"186\" y2=\"3\" />\n",
       "  <line x1=\"98\" y1=\"5\" x2=\"188\" y2=\"5\" />\n",
       "  <line x1=\"100\" y1=\"7\" x2=\"190\" y2=\"7\" />\n",
       "  <line x1=\"102\" y1=\"9\" x2=\"192\" y2=\"9\" />\n",
       "  <line x1=\"104\" y1=\"11\" x2=\"194\" y2=\"11\" />\n",
       "  <line x1=\"105\" y1=\"12\" x2=\"195\" y2=\"12\" />\n",
       "  <line x1=\"106\" y1=\"13\" x2=\"196\" y2=\"13\" style=\"stroke-width:2\" />\n",
       "\n",
       "  <!-- Vertical lines -->\n",
       "  <line x1=\"93\" y1=\"0\" x2=\"106\" y2=\"13\" style=\"stroke-width:2\" />\n",
       "  <line x1=\"183\" y1=\"0\" x2=\"196\" y2=\"13\" style=\"stroke-width:2\" />\n",
       "\n",
       "  <!-- Colored Rectangle -->\n",
       "  <polygon points=\"93.0,0.0 183.0,0.0 196.78615832436458,13.78615832436458 106.78615832436458,13.78615832436458\" style=\"fill:#ECB172A0;stroke-width:0\"/>\n",
       "\n",
       "  <!-- Horizontal lines -->\n",
       "  <line x1=\"106\" y1=\"13\" x2=\"196\" y2=\"13\" style=\"stroke-width:2\" />\n",
       "  <line x1=\"106\" y1=\"103\" x2=\"196\" y2=\"103\" style=\"stroke-width:2\" />\n",
       "\n",
       "  <!-- Vertical lines -->\n",
       "  <line x1=\"106\" y1=\"13\" x2=\"106\" y2=\"103\" style=\"stroke-width:2\" />\n",
       "  <line x1=\"196\" y1=\"13\" x2=\"196\" y2=\"103\" style=\"stroke-width:2\" />\n",
       "\n",
       "  <!-- Colored Rectangle -->\n",
       "  <polygon points=\"106.78615832436458,13.78615832436458 196.78615832436458,13.78615832436458 196.78615832436458,103.78615832436458 106.78615832436458,103.78615832436458\" style=\"fill:#ECB172A0;stroke-width:0\"/>\n",
       "\n",
       "  <!-- Text -->\n",
       "  <text x=\"151.786158\" y=\"123.786158\" font-size=\"1.0rem\" font-weight=\"100\" text-anchor=\"middle\" >512</text>\n",
       "  <text x=\"216.786158\" y=\"58.786158\" font-size=\"1.0rem\" font-weight=\"100\" text-anchor=\"middle\" transform=\"rotate(-90,216.786158,58.786158)\">512</text>\n",
       "  <text x=\"89.893079\" y=\"116.893079\" font-size=\"1.0rem\" font-weight=\"100\" text-anchor=\"middle\" transform=\"rotate(45,89.893079,116.893079)\">15</text>\n",
       "</svg>\n",
       "        </td>\n",
       "    </tr>\n",
       "</table>"
      ],
      "text/plain": [
       "dask.array<_extract_measurement, shape=(4, 15, 15, 512, 512), dtype=complex64, chunksize=(1, 2, 2, 512, 512), chunktype=numpy.ndarray>"
      ]
     },
     "execution_count": 10,
     "metadata": {},
     "output_type": "execute_result"
    }
   ],
   "source": [
    "exit_waves_stem = probe.multislice(potential, scan=scan, max_batch=4)\n",
    "\n",
    "exit_waves_stem.array"
   ]
  },
  {
   "cell_type": "markdown",
   "id": "28998800-0b81-49f7-b3c6-79aa355cf3dc",
   "metadata": {
    "pycharm": {
     "name": "#%% md\n"
    }
   },
   "source": [
    "The default value of `max_batch` is `\"auto\"`: with this setting the number of wave functions in each batch is determined such that the batch represents approximately `128 MB` of memory, although this number may be changed through the *ab*TEM [configuration](../../reference/config.md).\n",
    "\n",
    "Before computing this task graph, we apply a HAADF detector and calculate the ensemble mean, which reduces the total size of the output to just 900 B. We note that the 1.76 GB ensemble of wave functions never needs to be in memory simulateneously, as each chunk of exit wave functions are reduced immediately after completing the multislice algorithm."
   ]
  },
  {
   "cell_type": "code",
   "execution_count": 11,
   "id": "8664e8b2-4928-4c5e-bd48-fa854a465cec",
   "metadata": {
    "pycharm": {
     "name": "#%%\n"
    }
   },
   "outputs": [
    {
     "data": {
      "text/html": [
       "<table>\n",
       "    <tr>\n",
       "        <td>\n",
       "            <table>\n",
       "                <thead>\n",
       "                    <tr>\n",
       "                        <td> </td>\n",
       "                        <th> Array </th>\n",
       "                        <th> Chunk </th>\n",
       "                    </tr>\n",
       "                </thead>\n",
       "                <tbody>\n",
       "                    \n",
       "                    <tr>\n",
       "                        <th> Bytes </th>\n",
       "                        <td> 900 B </td>\n",
       "                        <td> 16 B </td>\n",
       "                    </tr>\n",
       "                    \n",
       "                    <tr>\n",
       "                        <th> Shape </th>\n",
       "                        <td> (15, 15) </td>\n",
       "                        <td> (2, 2) </td>\n",
       "                    </tr>\n",
       "                    <tr>\n",
       "                        <th> Count </th>\n",
       "                        <td> 21 Graph Layers </td>\n",
       "                        <td> 64 Chunks </td>\n",
       "                    </tr>\n",
       "                    <tr>\n",
       "                    <th> Type </th>\n",
       "                    <td> float32 </td>\n",
       "                    <td> numpy.ndarray </td>\n",
       "                    </tr>\n",
       "                </tbody>\n",
       "            </table>\n",
       "        </td>\n",
       "        <td>\n",
       "        <svg width=\"140\" height=\"140\" style=\"stroke:rgb(0,0,0);stroke-width:1\" >\n",
       "\n",
       "  <!-- Horizontal lines -->\n",
       "  <line x1=\"0\" y1=\"0\" x2=\"90\" y2=\"0\" style=\"stroke-width:2\" />\n",
       "  <line x1=\"0\" y1=\"12\" x2=\"90\" y2=\"12\" />\n",
       "  <line x1=\"0\" y1=\"24\" x2=\"90\" y2=\"24\" />\n",
       "  <line x1=\"0\" y1=\"36\" x2=\"90\" y2=\"36\" />\n",
       "  <line x1=\"0\" y1=\"48\" x2=\"90\" y2=\"48\" />\n",
       "  <line x1=\"0\" y1=\"60\" x2=\"90\" y2=\"60\" />\n",
       "  <line x1=\"0\" y1=\"72\" x2=\"90\" y2=\"72\" />\n",
       "  <line x1=\"0\" y1=\"84\" x2=\"90\" y2=\"84\" />\n",
       "  <line x1=\"0\" y1=\"90\" x2=\"90\" y2=\"90\" style=\"stroke-width:2\" />\n",
       "\n",
       "  <!-- Vertical lines -->\n",
       "  <line x1=\"0\" y1=\"0\" x2=\"0\" y2=\"90\" style=\"stroke-width:2\" />\n",
       "  <line x1=\"12\" y1=\"0\" x2=\"12\" y2=\"90\" />\n",
       "  <line x1=\"24\" y1=\"0\" x2=\"24\" y2=\"90\" />\n",
       "  <line x1=\"36\" y1=\"0\" x2=\"36\" y2=\"90\" />\n",
       "  <line x1=\"48\" y1=\"0\" x2=\"48\" y2=\"90\" />\n",
       "  <line x1=\"60\" y1=\"0\" x2=\"60\" y2=\"90\" />\n",
       "  <line x1=\"72\" y1=\"0\" x2=\"72\" y2=\"90\" />\n",
       "  <line x1=\"84\" y1=\"0\" x2=\"84\" y2=\"90\" />\n",
       "  <line x1=\"90\" y1=\"0\" x2=\"90\" y2=\"90\" style=\"stroke-width:2\" />\n",
       "\n",
       "  <!-- Colored Rectangle -->\n",
       "  <polygon points=\"0.0,0.0 90.0,0.0 90.0,90.0 0.0,90.0\" style=\"fill:#ECB172A0;stroke-width:0\"/>\n",
       "\n",
       "  <!-- Text -->\n",
       "  <text x=\"45.000000\" y=\"110.000000\" font-size=\"1.0rem\" font-weight=\"100\" text-anchor=\"middle\" >15</text>\n",
       "  <text x=\"110.000000\" y=\"45.000000\" font-size=\"1.0rem\" font-weight=\"100\" text-anchor=\"middle\" transform=\"rotate(0,110.000000,45.000000)\">15</text>\n",
       "</svg>\n",
       "        </td>\n",
       "    </tr>\n",
       "</table>"
      ],
      "text/plain": [
       "dask.array<mean_agg-aggregate, shape=(15, 15), dtype=float32, chunksize=(2, 2), chunktype=numpy.ndarray>"
      ]
     },
     "execution_count": 11,
     "metadata": {},
     "output_type": "execute_result"
    }
   ],
   "source": [
    "detector = abtem.AnnularDetector(inner=65, outer=200)\n",
    "\n",
    "haadf_images = detector.detect(exit_waves_stem).reduce_ensemble()\n",
    "\n",
    "haadf_images.array"
   ]
  },
  {
   "cell_type": "markdown",
   "id": "c8167e51-1e8b-408d-9e08-ad00b6966ad5",
   "metadata": {
    "pycharm": {
     "name": "#%% md\n"
    },
    "tags": []
   },
   "source": [
    "## Schedulers\n",
    "\n",
    "After generating a task graph, it needs to be executed on (parallel) hardware. This is the job of a [task scheduler](https://docs.dask.org/en/stable/scheduler-overview.html). Dask provides several *task schedulers*: each of which will compute a task graph and give the same result, but with different performance characteristics.\n",
    "\n",
    "Every time you call the `compute` method a Dask scheduler is used. We adopt the default Dask scheduler configuration and every keyword argument used with the `compute` method in *ab*TEM is forwarded to the Dask `compute` function. \n",
    "\n",
    "### Local scheduler\n",
    "\n",
    "The default scheduler is the [`ThreadPoolExecutor`](https://docs.dask.org/en/stable/scheduling.html#local-threads). As an example of a keyword argument, the threaded scheduler takes `num_workers`, which sets the number of threads to use (by default, up to the number of computing cores). Let's run compute with 8 workers."
   ]
  },
  {
   "cell_type": "code",
   "execution_count": 12,
   "id": "4c507a96-5a6d-4e55-8775-200f66e26459",
   "metadata": {
    "tags": [
     "skip-test"
    ]
   },
   "outputs": [
    {
     "name": "stdout",
     "output_type": "stream",
     "text": [
      "[########################################] | 100% Completed | 37.15 s\n"
     ]
    },
    {
     "data": {
      "text/plain": [
       "<abtem.measurements.Images object at 0x7fd1c43d5be0>"
      ]
     },
     "execution_count": 12,
     "metadata": {},
     "output_type": "execute_result"
    }
   ],
   "source": [
    "haadf_images = detector.detect(exit_waves_stem).reduce_ensemble()\n",
    "\n",
    "haadf_images.compute(\n",
    "    scheduler=\"threads\", num_workers=8\n",
    ")"
   ]
  },
  {
   "cell_type": "markdown",
   "id": "168c4090-255a-4705-85a8-afbf74c6320e",
   "metadata": {},
   "source": [
    "We can change the scheduler to using the `ProcessPoolExecutor` as below.\n",
    "\n",
    "```python\n",
    "haadf_images = detector.detect(exit_waves_stem).compute(scheduler=\"processes\", num_workers=4)\n",
    "```\n",
    "\n",
    "Using `abtem.config.set` the scheduler can be set either as a context manager or globally.\n",
    "```python\n",
    "# As a context manager\n",
    "with abtem.config.set(scheduler=\"processes\"):\n",
    "    haadf_images.compute()\n",
    "\n",
    "# Set globally\n",
    "abtem.config.set(scheduler=\"processes\")\n",
    "haadf_images.compute()\n",
    "```"
   ]
  },
  {
   "cell_type": "markdown",
   "id": "675a4c6c-338c-4c3a-90e2-8ad79ed63dd4",
   "metadata": {},
   "source": [
    "### Profiling"
   ]
  },
  {
   "cell_type": "markdown",
   "id": "945988ec-0d2b-422a-a84c-32f10d5a63af",
   "metadata": {},
   "source": [
    "To improve performance, we have to be able to profile it. Profiling parallel code can be challenging, but Dask provides functionality to aid in this and inspecting execution. The diagnostic tools are however quite different depending on whether you use a local or distributed scheduler.\n",
    "\n",
    "Dask allows local diagnostics by adding callbacks that collect information about your code execution. You can use the profilers as a context manager as described in the [Dask documentation](https://docs.dask.org/en/stable/diagnostics-local.html). For convenience, the *ab*TEM `compute` methods also implement keywords for adding Dask profilers.\n",
    "\n",
    "Below we use the [`Profiler`](https://docs.dask.org/en/stable/diagnostics-local.html#profiler) to monitor task execution by setting `profiler=True` and a [`ResourceProfiler`](https://docs.dask.org/en/stable/diagnostics-local.html#resourceprofiler) to monitor the CPU usage and memory consumption by setting `resource_profiler=True`. We rerun the simulation above with these profilers. "
   ]
  },
  {
   "cell_type": "code",
   "execution_count": 13,
   "id": "56cb3754-6cde-4f83-b058-6014356cefaf",
   "metadata": {},
   "outputs": [
    {
     "name": "stdout",
     "output_type": "stream",
     "text": [
      "[########################################] | 100% Completed | 38.51 s\n"
     ]
    }
   ],
   "source": [
    "haadf_images = detector.detect(exit_waves_stem).reduce_ensemble()\n",
    "\n",
    "haadf_images, profilers = haadf_images.compute(profiler=True, resource_profiler=True)"
   ]
  },
  {
   "cell_type": "markdown",
   "id": "a3b63fd8-4e8b-4842-9c15-2fa8787da397",
   "metadata": {},
   "source": [
    "To display the results Dask uses the [Bokeh plotting library](https://bokeh.org/) (which is installed together with Dask). To display the plots in a Jupyter notebook we need to run the commands below."
   ]
  },
  {
   "cell_type": "code",
   "execution_count": 14,
   "id": "bb2fc8ba-5288-4499-9090-35e8723c7930",
   "metadata": {
    "tags": [
     "skip-test"
    ]
   },
   "outputs": [
    {
     "data": {
      "text/html": [
       "<div class=\"bk-root\">\n",
       "        <a href=\"https://bokeh.org\" target=\"_blank\" class=\"bk-logo bk-logo-small bk-logo-notebook\"></a>\n",
       "        <span id=\"1001\">Loading BokehJS ...</span>\n",
       "    </div>\n"
      ]
     },
     "metadata": {},
     "output_type": "display_data"
    },
    {
     "data": {
      "application/javascript": [
       "(function(root) {\n",
       "  function now() {\n",
       "    return new Date();\n",
       "  }\n",
       "\n",
       "  const force = true;\n",
       "\n",
       "  if (typeof root._bokeh_onload_callbacks === \"undefined\" || force === true) {\n",
       "    root._bokeh_onload_callbacks = [];\n",
       "    root._bokeh_is_loading = undefined;\n",
       "  }\n",
       "\n",
       "const JS_MIME_TYPE = 'application/javascript';\n",
       "  const HTML_MIME_TYPE = 'text/html';\n",
       "  const EXEC_MIME_TYPE = 'application/vnd.bokehjs_exec.v0+json';\n",
       "  const CLASS_NAME = 'output_bokeh rendered_html';\n",
       "\n",
       "  /**\n",
       "   * Render data to the DOM node\n",
       "   */\n",
       "  function render(props, node) {\n",
       "    const script = document.createElement(\"script\");\n",
       "    node.appendChild(script);\n",
       "  }\n",
       "\n",
       "  /**\n",
       "   * Handle when an output is cleared or removed\n",
       "   */\n",
       "  function handleClearOutput(event, handle) {\n",
       "    const cell = handle.cell;\n",
       "\n",
       "    const id = cell.output_area._bokeh_element_id;\n",
       "    const server_id = cell.output_area._bokeh_server_id;\n",
       "    // Clean up Bokeh references\n",
       "    if (id != null && id in Bokeh.index) {\n",
       "      Bokeh.index[id].model.document.clear();\n",
       "      delete Bokeh.index[id];\n",
       "    }\n",
       "\n",
       "    if (server_id !== undefined) {\n",
       "      // Clean up Bokeh references\n",
       "      const cmd_clean = \"from bokeh.io.state import curstate; print(curstate().uuid_to_server['\" + server_id + \"'].get_sessions()[0].document.roots[0]._id)\";\n",
       "      cell.notebook.kernel.execute(cmd_clean, {\n",
       "        iopub: {\n",
       "          output: function(msg) {\n",
       "            const id = msg.content.text.trim();\n",
       "            if (id in Bokeh.index) {\n",
       "              Bokeh.index[id].model.document.clear();\n",
       "              delete Bokeh.index[id];\n",
       "            }\n",
       "          }\n",
       "        }\n",
       "      });\n",
       "      // Destroy server and session\n",
       "      const cmd_destroy = \"import bokeh.io.notebook as ion; ion.destroy_server('\" + server_id + \"')\";\n",
       "      cell.notebook.kernel.execute(cmd_destroy);\n",
       "    }\n",
       "  }\n",
       "\n",
       "  /**\n",
       "   * Handle when a new output is added\n",
       "   */\n",
       "  function handleAddOutput(event, handle) {\n",
       "    const output_area = handle.output_area;\n",
       "    const output = handle.output;\n",
       "\n",
       "    // limit handleAddOutput to display_data with EXEC_MIME_TYPE content only\n",
       "    if ((output.output_type != \"display_data\") || (!Object.prototype.hasOwnProperty.call(output.data, EXEC_MIME_TYPE))) {\n",
       "      return\n",
       "    }\n",
       "\n",
       "    const toinsert = output_area.element.find(\".\" + CLASS_NAME.split(' ')[0]);\n",
       "\n",
       "    if (output.metadata[EXEC_MIME_TYPE][\"id\"] !== undefined) {\n",
       "      toinsert[toinsert.length - 1].firstChild.textContent = output.data[JS_MIME_TYPE];\n",
       "      // store reference to embed id on output_area\n",
       "      output_area._bokeh_element_id = output.metadata[EXEC_MIME_TYPE][\"id\"];\n",
       "    }\n",
       "    if (output.metadata[EXEC_MIME_TYPE][\"server_id\"] !== undefined) {\n",
       "      const bk_div = document.createElement(\"div\");\n",
       "      bk_div.innerHTML = output.data[HTML_MIME_TYPE];\n",
       "      const script_attrs = bk_div.children[0].attributes;\n",
       "      for (let i = 0; i < script_attrs.length; i++) {\n",
       "        toinsert[toinsert.length - 1].firstChild.setAttribute(script_attrs[i].name, script_attrs[i].value);\n",
       "        toinsert[toinsert.length - 1].firstChild.textContent = bk_div.children[0].textContent\n",
       "      }\n",
       "      // store reference to server id on output_area\n",
       "      output_area._bokeh_server_id = output.metadata[EXEC_MIME_TYPE][\"server_id\"];\n",
       "    }\n",
       "  }\n",
       "\n",
       "  function register_renderer(events, OutputArea) {\n",
       "\n",
       "    function append_mime(data, metadata, element) {\n",
       "      // create a DOM node to render to\n",
       "      const toinsert = this.create_output_subarea(\n",
       "        metadata,\n",
       "        CLASS_NAME,\n",
       "        EXEC_MIME_TYPE\n",
       "      );\n",
       "      this.keyboard_manager.register_events(toinsert);\n",
       "      // Render to node\n",
       "      const props = {data: data, metadata: metadata[EXEC_MIME_TYPE]};\n",
       "      render(props, toinsert[toinsert.length - 1]);\n",
       "      element.append(toinsert);\n",
       "      return toinsert\n",
       "    }\n",
       "\n",
       "    /* Handle when an output is cleared or removed */\n",
       "    events.on('clear_output.CodeCell', handleClearOutput);\n",
       "    events.on('delete.Cell', handleClearOutput);\n",
       "\n",
       "    /* Handle when a new output is added */\n",
       "    events.on('output_added.OutputArea', handleAddOutput);\n",
       "\n",
       "    /**\n",
       "     * Register the mime type and append_mime function with output_area\n",
       "     */\n",
       "    OutputArea.prototype.register_mime_type(EXEC_MIME_TYPE, append_mime, {\n",
       "      /* Is output safe? */\n",
       "      safe: true,\n",
       "      /* Index of renderer in `output_area.display_order` */\n",
       "      index: 0\n",
       "    });\n",
       "  }\n",
       "\n",
       "  // register the mime type if in Jupyter Notebook environment and previously unregistered\n",
       "  if (root.Jupyter !== undefined) {\n",
       "    const events = require('base/js/events');\n",
       "    const OutputArea = require('notebook/js/outputarea').OutputArea;\n",
       "\n",
       "    if (OutputArea.prototype.mime_types().indexOf(EXEC_MIME_TYPE) == -1) {\n",
       "      register_renderer(events, OutputArea);\n",
       "    }\n",
       "  }\n",
       "  if (typeof (root._bokeh_timeout) === \"undefined\" || force === true) {\n",
       "    root._bokeh_timeout = Date.now() + 5000;\n",
       "    root._bokeh_failed_load = false;\n",
       "  }\n",
       "\n",
       "  const NB_LOAD_WARNING = {'data': {'text/html':\n",
       "     \"<div style='background-color: #fdd'>\\n\"+\n",
       "     \"<p>\\n\"+\n",
       "     \"BokehJS does not appear to have successfully loaded. If loading BokehJS from CDN, this \\n\"+\n",
       "     \"may be due to a slow or bad network connection. Possible fixes:\\n\"+\n",
       "     \"</p>\\n\"+\n",
       "     \"<ul>\\n\"+\n",
       "     \"<li>re-rerun `output_notebook()` to attempt to load from CDN again, or</li>\\n\"+\n",
       "     \"<li>use INLINE resources instead, as so:</li>\\n\"+\n",
       "     \"</ul>\\n\"+\n",
       "     \"<code>\\n\"+\n",
       "     \"from bokeh.resources import INLINE\\n\"+\n",
       "     \"output_notebook(resources=INLINE)\\n\"+\n",
       "     \"</code>\\n\"+\n",
       "     \"</div>\"}};\n",
       "\n",
       "  function display_loaded() {\n",
       "    const el = document.getElementById(\"1001\");\n",
       "    if (el != null) {\n",
       "      el.textContent = \"BokehJS is loading...\";\n",
       "    }\n",
       "    if (root.Bokeh !== undefined) {\n",
       "      if (el != null) {\n",
       "        el.textContent = \"BokehJS \" + root.Bokeh.version + \" successfully loaded.\";\n",
       "      }\n",
       "    } else if (Date.now() < root._bokeh_timeout) {\n",
       "      setTimeout(display_loaded, 100)\n",
       "    }\n",
       "  }\n",
       "\n",
       "  function run_callbacks() {\n",
       "    try {\n",
       "      root._bokeh_onload_callbacks.forEach(function(callback) {\n",
       "        if (callback != null)\n",
       "          callback();\n",
       "      });\n",
       "    } finally {\n",
       "      delete root._bokeh_onload_callbacks\n",
       "    }\n",
       "    console.debug(\"Bokeh: all callbacks have finished\");\n",
       "  }\n",
       "\n",
       "  function load_libs(css_urls, js_urls, callback) {\n",
       "    if (css_urls == null) css_urls = [];\n",
       "    if (js_urls == null) js_urls = [];\n",
       "\n",
       "    root._bokeh_onload_callbacks.push(callback);\n",
       "    if (root._bokeh_is_loading > 0) {\n",
       "      console.debug(\"Bokeh: BokehJS is being loaded, scheduling callback at\", now());\n",
       "      return null;\n",
       "    }\n",
       "    if (js_urls == null || js_urls.length === 0) {\n",
       "      run_callbacks();\n",
       "      return null;\n",
       "    }\n",
       "    console.debug(\"Bokeh: BokehJS not loaded, scheduling load and callback at\", now());\n",
       "    root._bokeh_is_loading = css_urls.length + js_urls.length;\n",
       "\n",
       "    function on_load() {\n",
       "      root._bokeh_is_loading--;\n",
       "      if (root._bokeh_is_loading === 0) {\n",
       "        console.debug(\"Bokeh: all BokehJS libraries/stylesheets loaded\");\n",
       "        run_callbacks()\n",
       "      }\n",
       "    }\n",
       "\n",
       "    function on_error(url) {\n",
       "      console.error(\"failed to load \" + url);\n",
       "    }\n",
       "\n",
       "    for (let i = 0; i < css_urls.length; i++) {\n",
       "      const url = css_urls[i];\n",
       "      const element = document.createElement(\"link\");\n",
       "      element.onload = on_load;\n",
       "      element.onerror = on_error.bind(null, url);\n",
       "      element.rel = \"stylesheet\";\n",
       "      element.type = \"text/css\";\n",
       "      element.href = url;\n",
       "      console.debug(\"Bokeh: injecting link tag for BokehJS stylesheet: \", url);\n",
       "      document.body.appendChild(element);\n",
       "    }\n",
       "\n",
       "    for (let i = 0; i < js_urls.length; i++) {\n",
       "      const url = js_urls[i];\n",
       "      const element = document.createElement('script');\n",
       "      element.onload = on_load;\n",
       "      element.onerror = on_error.bind(null, url);\n",
       "      element.async = false;\n",
       "      element.src = url;\n",
       "      console.debug(\"Bokeh: injecting script tag for BokehJS library: \", url);\n",
       "      document.head.appendChild(element);\n",
       "    }\n",
       "  };\n",
       "\n",
       "  function inject_raw_css(css) {\n",
       "    const element = document.createElement(\"style\");\n",
       "    element.appendChild(document.createTextNode(css));\n",
       "    document.body.appendChild(element);\n",
       "  }\n",
       "\n",
       "  const js_urls = [\"https://cdn.bokeh.org/bokeh/release/bokeh-2.4.3.min.js\", \"https://cdn.bokeh.org/bokeh/release/bokeh-gl-2.4.3.min.js\", \"https://cdn.bokeh.org/bokeh/release/bokeh-widgets-2.4.3.min.js\", \"https://cdn.bokeh.org/bokeh/release/bokeh-tables-2.4.3.min.js\", \"https://cdn.bokeh.org/bokeh/release/bokeh-mathjax-2.4.3.min.js\"];\n",
       "  const css_urls = [];\n",
       "\n",
       "  const inline_js = [    function(Bokeh) {\n",
       "      Bokeh.set_log_level(\"info\");\n",
       "    },\n",
       "function(Bokeh) {\n",
       "    }\n",
       "  ];\n",
       "\n",
       "  function run_inline_js() {\n",
       "    if (root.Bokeh !== undefined || force === true) {\n",
       "          for (let i = 0; i < inline_js.length; i++) {\n",
       "      inline_js[i].call(root, root.Bokeh);\n",
       "    }\n",
       "if (force === true) {\n",
       "        display_loaded();\n",
       "      }} else if (Date.now() < root._bokeh_timeout) {\n",
       "      setTimeout(run_inline_js, 100);\n",
       "    } else if (!root._bokeh_failed_load) {\n",
       "      console.log(\"Bokeh: BokehJS failed to load within specified timeout.\");\n",
       "      root._bokeh_failed_load = true;\n",
       "    } else if (force !== true) {\n",
       "      const cell = $(document.getElementById(\"1001\")).parents('.cell').data().cell;\n",
       "      cell.output_area.append_execute_result(NB_LOAD_WARNING)\n",
       "    }\n",
       "  }\n",
       "\n",
       "  if (root._bokeh_is_loading === 0) {\n",
       "    console.debug(\"Bokeh: BokehJS loaded, going straight to plotting\");\n",
       "    run_inline_js();\n",
       "  } else {\n",
       "    load_libs(css_urls, js_urls, function() {\n",
       "      console.debug(\"Bokeh: BokehJS plotting callback run at\", now());\n",
       "      run_inline_js();\n",
       "    });\n",
       "  }\n",
       "}(window));"
      ],
      "application/vnd.bokehjs_load.v0+json": "(function(root) {\n  function now() {\n    return new Date();\n  }\n\n  const force = true;\n\n  if (typeof root._bokeh_onload_callbacks === \"undefined\" || force === true) {\n    root._bokeh_onload_callbacks = [];\n    root._bokeh_is_loading = undefined;\n  }\n\n\n  if (typeof (root._bokeh_timeout) === \"undefined\" || force === true) {\n    root._bokeh_timeout = Date.now() + 5000;\n    root._bokeh_failed_load = false;\n  }\n\n  const NB_LOAD_WARNING = {'data': {'text/html':\n     \"<div style='background-color: #fdd'>\\n\"+\n     \"<p>\\n\"+\n     \"BokehJS does not appear to have successfully loaded. If loading BokehJS from CDN, this \\n\"+\n     \"may be due to a slow or bad network connection. Possible fixes:\\n\"+\n     \"</p>\\n\"+\n     \"<ul>\\n\"+\n     \"<li>re-rerun `output_notebook()` to attempt to load from CDN again, or</li>\\n\"+\n     \"<li>use INLINE resources instead, as so:</li>\\n\"+\n     \"</ul>\\n\"+\n     \"<code>\\n\"+\n     \"from bokeh.resources import INLINE\\n\"+\n     \"output_notebook(resources=INLINE)\\n\"+\n     \"</code>\\n\"+\n     \"</div>\"}};\n\n  function display_loaded() {\n    const el = document.getElementById(\"1001\");\n    if (el != null) {\n      el.textContent = \"BokehJS is loading...\";\n    }\n    if (root.Bokeh !== undefined) {\n      if (el != null) {\n        el.textContent = \"BokehJS \" + root.Bokeh.version + \" successfully loaded.\";\n      }\n    } else if (Date.now() < root._bokeh_timeout) {\n      setTimeout(display_loaded, 100)\n    }\n  }\n\n  function run_callbacks() {\n    try {\n      root._bokeh_onload_callbacks.forEach(function(callback) {\n        if (callback != null)\n          callback();\n      });\n    } finally {\n      delete root._bokeh_onload_callbacks\n    }\n    console.debug(\"Bokeh: all callbacks have finished\");\n  }\n\n  function load_libs(css_urls, js_urls, callback) {\n    if (css_urls == null) css_urls = [];\n    if (js_urls == null) js_urls = [];\n\n    root._bokeh_onload_callbacks.push(callback);\n    if (root._bokeh_is_loading > 0) {\n      console.debug(\"Bokeh: BokehJS is being loaded, scheduling callback at\", now());\n      return null;\n    }\n    if (js_urls == null || js_urls.length === 0) {\n      run_callbacks();\n      return null;\n    }\n    console.debug(\"Bokeh: BokehJS not loaded, scheduling load and callback at\", now());\n    root._bokeh_is_loading = css_urls.length + js_urls.length;\n\n    function on_load() {\n      root._bokeh_is_loading--;\n      if (root._bokeh_is_loading === 0) {\n        console.debug(\"Bokeh: all BokehJS libraries/stylesheets loaded\");\n        run_callbacks()\n      }\n    }\n\n    function on_error(url) {\n      console.error(\"failed to load \" + url);\n    }\n\n    for (let i = 0; i < css_urls.length; i++) {\n      const url = css_urls[i];\n      const element = document.createElement(\"link\");\n      element.onload = on_load;\n      element.onerror = on_error.bind(null, url);\n      element.rel = \"stylesheet\";\n      element.type = \"text/css\";\n      element.href = url;\n      console.debug(\"Bokeh: injecting link tag for BokehJS stylesheet: \", url);\n      document.body.appendChild(element);\n    }\n\n    for (let i = 0; i < js_urls.length; i++) {\n      const url = js_urls[i];\n      const element = document.createElement('script');\n      element.onload = on_load;\n      element.onerror = on_error.bind(null, url);\n      element.async = false;\n      element.src = url;\n      console.debug(\"Bokeh: injecting script tag for BokehJS library: \", url);\n      document.head.appendChild(element);\n    }\n  };\n\n  function inject_raw_css(css) {\n    const element = document.createElement(\"style\");\n    element.appendChild(document.createTextNode(css));\n    document.body.appendChild(element);\n  }\n\n  const js_urls = [\"https://cdn.bokeh.org/bokeh/release/bokeh-2.4.3.min.js\", \"https://cdn.bokeh.org/bokeh/release/bokeh-gl-2.4.3.min.js\", \"https://cdn.bokeh.org/bokeh/release/bokeh-widgets-2.4.3.min.js\", \"https://cdn.bokeh.org/bokeh/release/bokeh-tables-2.4.3.min.js\", \"https://cdn.bokeh.org/bokeh/release/bokeh-mathjax-2.4.3.min.js\"];\n  const css_urls = [];\n\n  const inline_js = [    function(Bokeh) {\n      Bokeh.set_log_level(\"info\");\n    },\nfunction(Bokeh) {\n    }\n  ];\n\n  function run_inline_js() {\n    if (root.Bokeh !== undefined || force === true) {\n          for (let i = 0; i < inline_js.length; i++) {\n      inline_js[i].call(root, root.Bokeh);\n    }\nif (force === true) {\n        display_loaded();\n      }} else if (Date.now() < root._bokeh_timeout) {\n      setTimeout(run_inline_js, 100);\n    } else if (!root._bokeh_failed_load) {\n      console.log(\"Bokeh: BokehJS failed to load within specified timeout.\");\n      root._bokeh_failed_load = true;\n    } else if (force !== true) {\n      const cell = $(document.getElementById(\"1001\")).parents('.cell').data().cell;\n      cell.output_area.append_execute_result(NB_LOAD_WARNING)\n    }\n  }\n\n  if (root._bokeh_is_loading === 0) {\n    console.debug(\"Bokeh: BokehJS loaded, going straight to plotting\");\n    run_inline_js();\n  } else {\n    load_libs(css_urls, js_urls, function() {\n      console.debug(\"Bokeh: BokehJS plotting callback run at\", now());\n      run_inline_js();\n    });\n  }\n}(window));"
     },
     "metadata": {},
     "output_type": "display_data"
    }
   ],
   "source": [
    "from bokeh.io import output_notebook\n",
    "output_notebook()"
   ]
  },
  {
   "cell_type": "markdown",
   "id": "89a100cb-9792-45bb-b855-42b53fb9db83",
   "metadata": {},
   "source": [
    "We first show the result from the `Profiler` object: This shows the execution time for each task as a rectangle, organized along the vertical axis by worker (in this case threads), and where white space represents times the worker was idle. The task types are grouped by color and, by hovering over each task, one can see the key and task that each block represents. For this calculation there is only one significant task shown in yellow; this encompasses building the wave function, running the multislice algorithm (calculating the potential on demand), and calculating and integrating the diffraction patterns. "
   ]
  },
  {
   "cell_type": "code",
   "execution_count": 15,
   "id": "0a420e98-6235-4e01-b079-fe34d913a436",
   "metadata": {
    "tags": [
     "skip-test"
    ]
   },
   "outputs": [
    {
     "data": {
      "text/html": [
       "\n",
       "  <div class=\"bk-root\" id=\"f0bab9da-64fd-4f65-84e1-0711eba3cbbf\" data-root-id=\"1003\"></div>\n"
      ]
     },
     "metadata": {},
     "output_type": "display_data"
    },
    {
     "data": {
      "application/javascript": [
       "(function(root) {\n",
       "  function embed_document(root) {\n",
       "  const docs_json = {\"5d67ca15-884e-4253-bc92-9cbf77362439\":{\"defs\":[],\"roots\":{\"references\":[{\"attributes\":{\"below\":[{\"id\":\"1014\"}],\"center\":[{\"id\":\"1017\"},{\"id\":\"1020\"}],\"height\":300,\"left\":[{\"id\":\"1018\"}],\"renderers\":[{\"id\":\"1037\"}],\"title\":{\"id\":\"1004\"},\"toolbar\":{\"id\":\"1026\"},\"toolbar_location\":\"above\",\"width\":800,\"x_range\":{\"id\":\"1006\"},\"x_scale\":{\"id\":\"1010\"},\"y_range\":{\"id\":\"1008\"},\"y_scale\":{\"id\":\"1012\"}},\"id\":\"1003\",\"subtype\":\"Figure\",\"type\":\"Plot\"},{\"attributes\":{\"fill_alpha\":{\"value\":0.2},\"fill_color\":{\"field\":\"color\"},\"hatch_alpha\":{\"value\":0.2},\"hatch_color\":{\"field\":\"color\"},\"height\":{\"value\":1},\"line_alpha\":{\"value\":0.2},\"line_color\":{\"value\":\"gray\"},\"width\":{\"field\":\"width\"},\"x\":{\"field\":\"x\"},\"y\":{\"field\":\"y\"}},\"id\":\"1036\",\"type\":\"Rect\"},{\"attributes\":{\"data\":{\"color\":[\"#3B518A\",\"#3B518A\",\"#3B518A\",\"#3B518A\",\"#440154\",\"#440154\",\"#440154\",\"#440154\",\"#FDE724\",\"#FDE724\",\"#FDE724\",\"#FDE724\",\"#FDE724\",\"#FDE724\",\"#FDE724\",\"#FDE724\",\"#440154\",\"#FDE724\",\"#440154\",\"#FDE724\",\"#440154\",\"#440154\",\"#FDE724\",\"#5BC862\",\"#FDE724\",\"#440154\",\"#440154\",\"#FDE724\",\"#440154\",\"#FDE724\",\"#FDE724\",\"#440154\",\"#5BC862\",\"#208F8C\",\"#FDE724\",\"#440154\",\"#FDE724\",\"#440154\",\"#FDE724\",\"#440154\",\"#FDE724\",\"#440154\",\"#FDE724\",\"#440154\",\"#440154\",\"#FDE724\",\"#440154\",\"#440154\",\"#FDE724\",\"#FDE724\",\"#FDE724\",\"#440154\",\"#FDE724\",\"#440154\",\"#FDE724\",\"#440154\",\"#FDE724\",\"#440154\",\"#440154\",\"#440154\",\"#440154\",\"#FDE724\",\"#FDE724\",\"#440154\",\"#FDE724\",\"#FDE724\",\"#FDE724\",\"#440154\",\"#FDE724\",\"#440154\",\"#FDE724\",\"#440154\",\"#FDE724\",\"#440154\",\"#FDE724\",\"#440154\",\"#FDE724\",\"#440154\",\"#440154\",\"#FDE724\",\"#FDE724\",\"#440154\",\"#FDE724\",\"#440154\",\"#FDE724\",\"#440154\",\"#FDE724\",\"#440154\",\"#FDE724\",\"#440154\",\"#FDE724\",\"#440154\",\"#FDE724\",\"#440154\",\"#FDE724\",\"#440154\",\"#FDE724\",\"#440154\",\"#FDE724\",\"#440154\",\"#FDE724\",\"#440154\",\"#FDE724\",\"#440154\",\"#FDE724\",\"#440154\",\"#FDE724\",\"#440154\",\"#FDE724\",\"#440154\",\"#FDE724\",\"#440154\",\"#FDE724\",\"#440154\",\"#FDE724\",\"#440154\",\"#FDE724\",\"#440154\",\"#FDE724\",\"#440154\",\"#FDE724\",\"#440154\",\"#FDE724\",\"#440154\",\"#440154\",\"#FDE724\",\"#FDE724\",\"#440154\",\"#FDE724\",\"#440154\",\"#FDE724\",\"#440154\",\"#FDE724\",\"#440154\",\"#FDE724\",\"#440154\",\"#FDE724\",\"#440154\",\"#FDE724\",\"#440154\",\"#FDE724\",\"#440154\",\"#FDE724\",\"#440154\",\"#FDE724\",\"#440154\",\"#FDE724\",\"#440154\",\"#FDE724\",\"#440154\",\"#FDE724\",\"#440154\",\"#FDE724\",\"#440154\",\"#FDE724\",\"#440154\",\"#FDE724\",\"#440154\",\"#FDE724\",\"#440154\",\"#FDE724\",\"#440154\",\"#5BC862\",\"#FDE724\",\"#440154\",\"#5BC862\",\"#FDE724\",\"#440154\",\"#5BC862\",\"#FDE724\",\"#440154\",\"#5BC862\",\"#FDE724\",\"#440154\",\"#5BC862\",\"#FDE724\",\"#440154\",\"#5BC862\",\"#FDE724\",\"#440154\",\"#5BC862\",\"#FDE724\",\"#440154\",\"#5BC862\",\"#FDE724\",\"#440154\",\"#5BC862\",\"#FDE724\",\"#440154\",\"#5BC862\",\"#FDE724\",\"#440154\",\"#5BC862\",\"#FDE724\",\"#440154\",\"#5BC862\",\"#FDE724\",\"#440154\",\"#5BC862\",\"#FDE724\",\"#440154\",\"#5BC862\",\"#FDE724\",\"#440154\",\"#5BC862\",\"#FDE724\",\"#440154\",\"#5BC862\",\"#FDE724\",\"#440154\",\"#5BC862\",\"#FDE724\",\"#440154\",\"#5BC862\",\"#FDE724\",\"#440154\",\"#5BC862\",\"#FDE724\",\"#440154\",\"#5BC862\",\"#FDE724\",\"#440154\",\"#5BC862\",\"#FDE724\",\"#440154\",\"#5BC862\",\"#FDE724\",\"#440154\",\"#5BC862\",\"#FDE724\",\"#440154\",\"#5BC862\",\"#FDE724\",\"#440154\",\"#5BC862\",\"#FDE724\",\"#440154\",\"#5BC862\",\"#FDE724\",\"#440154\",\"#5BC862\",\"#FDE724\",\"#440154\",\"#5BC862\",\"#440154\",\"#FDE724\",\"#5BC862\",\"#FDE724\",\"#440154\",\"#5BC862\",\"#FDE724\",\"#440154\",\"#5BC862\",\"#FDE724\",\"#440154\",\"#5BC862\",\"#FDE724\",\"#440154\",\"#5BC862\",\"#FDE724\",\"#440154\",\"#5BC862\",\"#FDE724\",\"#440154\",\"#5BC862\",\"#FDE724\",\"#440154\",\"#5BC862\",\"#FDE724\",\"#440154\",\"#5BC862\",\"#FDE724\",\"#440154\",\"#5BC862\",\"#FDE724\",\"#440154\",\"#5BC862\",\"#FDE724\",\"#440154\",\"#5BC862\",\"#FDE724\",\"#440154\",\"#5BC862\",\"#440154\",\"#5BC862\",\"#FDE724\",\"#FDE724\",\"#440154\",\"#5BC862\",\"#FDE724\",\"#440154\",\"#5BC862\",\"#FDE724\",\"#440154\",\"#5BC862\",\"#FDE724\",\"#440154\",\"#5BC862\",\"#FDE724\",\"#440154\",\"#5BC862\",\"#FDE724\",\"#440154\",\"#5BC862\",\"#FDE724\",\"#440154\",\"#5BC862\",\"#FDE724\",\"#440154\",\"#5BC862\",\"#FDE724\",\"#440154\",\"#5BC862\",\"#FDE724\",\"#440154\",\"#5BC862\",\"#FDE724\",\"#440154\",\"#5BC862\",\"#FDE724\",\"#440154\",\"#5BC862\",\"#FDE724\",\"#440154\",\"#5BC862\",\"#FDE724\",\"#440154\",\"#5BC862\",\"#FDE724\",\"#440154\",\"#5BC862\",\"#FDE724\",\"#440154\",\"#5BC862\",\"#FDE724\",\"#440154\",\"#5BC862\",\"#FDE724\",\"#440154\",\"#5BC862\",\"#440154\",\"#FDE724\",\"#5BC862\",\"#FDE724\",\"#440154\",\"#5BC862\",\"#FDE724\",\"#440154\",\"#5BC862\",\"#FDE724\",\"#440154\",\"#5BC862\",\"#208F8C\",\"#FDE724\",\"#440154\",\"#5BC862\",\"#208F8C\",\"#FDE724\",\"#440154\",\"#5BC862\",\"#208F8C\",\"#FDE724\",\"#440154\",\"#FDE724\",\"#440154\",\"#5BC862\",\"#208F8C\",\"#FDE724\",\"#440154\",\"#FDE724\",\"#440154\",\"#FDE724\",\"#440154\",\"#FDE724\",\"#440154\",\"#FDE724\",\"#440154\",\"#FDE724\",\"#440154\",\"#440154\",\"#FDE724\",\"#FDE724\",\"#440154\",\"#FDE724\",\"#440154\",\"#FDE724\",\"#440154\",\"#FDE724\",\"#440154\",\"#FDE724\",\"#440154\",\"#FDE724\",\"#440154\",\"#FDE724\",\"#440154\",\"#FDE724\",\"#440154\",\"#FDE724\",\"#440154\",\"#FDE724\",\"#440154\",\"#FDE724\",\"#440154\",\"#FDE724\",\"#440154\",\"#FDE724\",\"#440154\",\"#FDE724\",\"#440154\",\"#FDE724\",\"#440154\",\"#FDE724\",\"#440154\",\"#FDE724\",\"#440154\",\"#FDE724\",\"#440154\",\"#FDE724\",\"#440154\",\"#FDE724\",\"#440154\",\"#FDE724\",\"#440154\",\"#FDE724\",\"#440154\",\"#FDE724\",\"#440154\",\"#FDE724\",\"#440154\",\"#FDE724\",\"#440154\",\"#FDE724\",\"#440154\",\"#FDE724\",\"#440154\",\"#FDE724\",\"#440154\",\"#FDE724\",\"#440154\",\"#FDE724\",\"#440154\",\"#FDE724\",\"#440154\",\"#FDE724\",\"#440154\",\"#FDE724\",\"#440154\",\"#440154\",\"#FDE724\",\"#FDE724\",\"#440154\",\"#FDE724\",\"#440154\",\"#FDE724\",\"#440154\",\"#FDE724\",\"#440154\",\"#FDE724\",\"#440154\",\"#FDE724\",\"#440154\",\"#FDE724\",\"#440154\",\"#FDE724\",\"#440154\",\"#FDE724\",\"#440154\",\"#FDE724\",\"#440154\",\"#FDE724\",\"#440154\",\"#FDE724\",\"#440154\",\"#FDE724\",\"#440154\",\"#FDE724\",\"#440154\",\"#FDE724\",\"#440154\",\"#FDE724\",\"#440154\",\"#FDE724\",\"#440154\",\"#FDE724\",\"#440154\",\"#5BC862\",\"#208F8C\",\"#FDE724\",\"#440154\",\"#5BC862\",\"#208F8C\",\"#FDE724\",\"#440154\",\"#5BC862\",\"#208F8C\",\"#FDE724\",\"#440154\",\"#5BC862\",\"#208F8C\",\"#FDE724\",\"#440154\",\"#5BC862\",\"#208F8C\",\"#FDE724\",\"#440154\",\"#5BC862\",\"#208F8C\",\"#FDE724\",\"#440154\",\"#5BC862\",\"#440154\",\"#208F8C\",\"#5BC862\",\"#FDE724\",\"#208F8C\",\"#FDE724\",\"#440154\",\"#5BC862\",\"#208F8C\",\"#FDE724\",\"#440154\",\"#5BC862\",\"#208F8C\",\"#FDE724\",\"#440154\",\"#5BC862\",\"#208F8C\",\"#FDE724\",\"#440154\",\"#5BC862\",\"#208F8C\",\"#FDE724\",\"#440154\",\"#5BC862\",\"#208F8C\",\"#FDE724\",\"#440154\",\"#5BC862\",\"#208F8C\",\"#FDE724\",\"#440154\",\"#5BC862\",\"#208F8C\",\"#FDE724\",\"#440154\",\"#5BC862\",\"#208F8C\",\"#FDE724\",\"#440154\",\"#5BC862\",\"#208F8C\",\"#FDE724\",\"#440154\",\"#5BC862\",\"#208F8C\",\"#FDE724\",\"#440154\",\"#5BC862\",\"#208F8C\",\"#FDE724\",\"#440154\",\"#5BC862\",\"#208F8C\",\"#FDE724\",\"#440154\",\"#5BC862\",\"#208F8C\",\"#FDE724\",\"#440154\",\"#5BC862\",\"#208F8C\",\"#FDE724\",\"#440154\",\"#5BC862\",\"#208F8C\",\"#440154\",\"#FDE724\",\"#5BC862\",\"#208F8C\",\"#FDE724\",\"#440154\",\"#5BC862\",\"#208F8C\",\"#FDE724\",\"#440154\",\"#5BC862\",\"#208F8C\",\"#FDE724\",\"#440154\",\"#5BC862\",\"#208F8C\",\"#FDE724\",\"#440154\",\"#5BC862\",\"#440154\",\"#208F8C\",\"#5BC862\",\"#FDE724\",\"#208F8C\",\"#FDE724\",\"#440154\",\"#5BC862\",\"#208F8C\",\"#FDE724\",\"#440154\",\"#5BC862\",\"#208F8C\",\"#440154\",\"#FDE724\",\"#5BC862\",\"#208F8C\",\"#FDE724\",\"#440154\",\"#5BC862\",\"#208F8C\",\"#FDE724\",\"#440154\",\"#5BC862\",\"#208F8C\",\"#FDE724\",\"#440154\",\"#5BC862\",\"#208F8C\",\"#FDE724\",\"#440154\",\"#5BC862\",\"#208F8C\",\"#FDE724\",\"#440154\",\"#5BC862\",\"#208F8C\",\"#FDE724\",\"#440154\",\"#5BC862\",\"#208F8C\",\"#FDE724\",\"#440154\",\"#5BC862\",\"#208F8C\",\"#FDE724\",\"#440154\",\"#5BC862\",\"#208F8C\",\"#FDE724\",\"#440154\",\"#5BC862\",\"#208F8C\",\"#FDE724\",\"#440154\",\"#5BC862\",\"#208F8C\",\"#FDE724\",\"#440154\",\"#5BC862\",\"#208F8C\",\"#FDE724\",\"#440154\",\"#5BC862\",\"#208F8C\",\"#FDE724\",\"#440154\",\"#5BC862\",\"#208F8C\",\"#FDE724\",\"#440154\",\"#5BC862\",\"#208F8C\",\"#FDE724\",\"#440154\",\"#5BC862\",\"#208F8C\",\"#FDE724\",\"#440154\",\"#5BC862\",\"#208F8C\",\"#FDE724\",\"#440154\",\"#5BC862\",\"#208F8C\",\"#FDE724\",\"#440154\",\"#5BC862\",\"#208F8C\",\"#FDE724\",\"#440154\",\"#5BC862\",\"#208F8C\",\"#FDE724\",\"#440154\",\"#5BC862\",\"#208F8C\",\"#440154\",\"#5BC862\",\"#208F8C\",\"#440154\",\"#5BC862\",\"#208F8C\",\"#440154\",\"#5BC862\",\"#208F8C\",\"#440154\",\"#5BC862\",\"#208F8C\",\"#440154\",\"#5BC862\",\"#208F8C\",\"#440154\",\"#5BC862\",\"#208F8C\",\"#440154\",\"#5BC862\",\"#208F8C\"],\"function\":[\"_frozen_phonon(, atoms=_, seeds=tuple([*]))\",\"_frozen_phonon(, atoms=_, seeds=tuple([*]))\",\"_frozen_phonon(, atoms=_, seeds=tuple([*]))\",\"_frozen_phonon(, atoms=_, seeds=tuple([*]))\",\"_\",\"_\",\"_\",\"_\",\"subgraph_callable-e65dc938-54bb-4a3e-8c04-cb181640(subgraph_callable-5d102766-9261-4317-aa3f-c1a93c9f(...))\",\"subgraph_callable-e65dc938-54bb-4a3e-8c04-cb181640(subgraph_callable-5d102766-9261-4317-aa3f-c1a93c9f(...))\",\"subgraph_callable-e65dc938-54bb-4a3e-8c04-cb181640(subgraph_callable-5d102766-9261-4317-aa3f-c1a93c9f(...))\",\"subgraph_callable-e65dc938-54bb-4a3e-8c04-cb181640(subgraph_callable-5d102766-9261-4317-aa3f-c1a93c9f(...))\",\"subgraph_callable-e65dc938-54bb-4a3e-8c04-cb181640(subgraph_callable-5d102766-9261-4317-aa3f-c1a93c9f(...))\",\"subgraph_callable-e65dc938-54bb-4a3e-8c04-cb181640(subgraph_callable-5d102766-9261-4317-aa3f-c1a93c9f(...))\",\"subgraph_callable-e65dc938-54bb-4a3e-8c04-cb181640(subgraph_callable-5d102766-9261-4317-aa3f-c1a93c9f(...))\",\"subgraph_callable-e65dc938-54bb-4a3e-8c04-cb181640(subgraph_callable-5d102766-9261-4317-aa3f-c1a93c9f(...))\",\"_\",\"subgraph_callable-e65dc938-54bb-4a3e-8c04-cb181640(subgraph_callable-5d102766-9261-4317-aa3f-c1a93c9f(...))\",\"_\",\"subgraph_callable-e65dc938-54bb-4a3e-8c04-cb181640(subgraph_callable-5d102766-9261-4317-aa3f-c1a93c9f(...))\",\"_\",\"_\",\"subgraph_callable-e65dc938-54bb-4a3e-8c04-cb181640(subgraph_callable-5d102766-9261-4317-aa3f-c1a93c9f(...))\",\"mean_combine([_, _])\",\"subgraph_callable-e65dc938-54bb-4a3e-8c04-cb181640(subgraph_callable-5d102766-9261-4317-aa3f-c1a93c9f(...))\",\"_\",\"_\",\"subgraph_callable-e65dc938-54bb-4a3e-8c04-cb181640(subgraph_callable-5d102766-9261-4317-aa3f-c1a93c9f(...))\",\"_\",\"subgraph_callable-e65dc938-54bb-4a3e-8c04-cb181640(subgraph_callable-5d102766-9261-4317-aa3f-c1a93c9f(...))\",\"subgraph_callable-e65dc938-54bb-4a3e-8c04-cb181640(subgraph_callable-5d102766-9261-4317-aa3f-c1a93c9f(...))\",\"_\",\"mean_combine([_, _])\",\"mean_agg([_, _])\",\"subgraph_callable-e65dc938-54bb-4a3e-8c04-cb181640(subgraph_callable-5d102766-9261-4317-aa3f-c1a93c9f(...))\",\"_\",\"subgraph_callable-e65dc938-54bb-4a3e-8c04-cb181640(subgraph_callable-5d102766-9261-4317-aa3f-c1a93c9f(...))\",\"_\",\"subgraph_callable-e65dc938-54bb-4a3e-8c04-cb181640(subgraph_callable-5d102766-9261-4317-aa3f-c1a93c9f(...))\",\"_\",\"subgraph_callable-e65dc938-54bb-4a3e-8c04-cb181640(subgraph_callable-5d102766-9261-4317-aa3f-c1a93c9f(...))\",\"_\",\"subgraph_callable-e65dc938-54bb-4a3e-8c04-cb181640(subgraph_callable-5d102766-9261-4317-aa3f-c1a93c9f(...))\",\"_\",\"_\",\"subgraph_callable-e65dc938-54bb-4a3e-8c04-cb181640(subgraph_callable-5d102766-9261-4317-aa3f-c1a93c9f(...))\",\"_\",\"_\",\"subgraph_callable-e65dc938-54bb-4a3e-8c04-cb181640(subgraph_callable-5d102766-9261-4317-aa3f-c1a93c9f(...))\",\"subgraph_callable-e65dc938-54bb-4a3e-8c04-cb181640(subgraph_callable-5d102766-9261-4317-aa3f-c1a93c9f(...))\",\"subgraph_callable-e65dc938-54bb-4a3e-8c04-cb181640(subgraph_callable-5d102766-9261-4317-aa3f-c1a93c9f(...))\",\"_\",\"subgraph_callable-e65dc938-54bb-4a3e-8c04-cb181640(subgraph_callable-5d102766-9261-4317-aa3f-c1a93c9f(...))\",\"_\",\"subgraph_callable-e65dc938-54bb-4a3e-8c04-cb181640(subgraph_callable-5d102766-9261-4317-aa3f-c1a93c9f(...))\",\"_\",\"subgraph_callable-e65dc938-54bb-4a3e-8c04-cb181640(subgraph_callable-5d102766-9261-4317-aa3f-c1a93c9f(...))\",\"_\",\"_\",\"_\",\"_\",\"subgraph_callable-e65dc938-54bb-4a3e-8c04-cb181640(subgraph_callable-5d102766-9261-4317-aa3f-c1a93c9f(...))\",\"subgraph_callable-e65dc938-54bb-4a3e-8c04-cb181640(subgraph_callable-5d102766-9261-4317-aa3f-c1a93c9f(...))\",\"_\",\"subgraph_callable-e65dc938-54bb-4a3e-8c04-cb181640(subgraph_callable-5d102766-9261-4317-aa3f-c1a93c9f(...))\",\"subgraph_callable-e65dc938-54bb-4a3e-8c04-cb181640(subgraph_callable-5d102766-9261-4317-aa3f-c1a93c9f(...))\",\"subgraph_callable-e65dc938-54bb-4a3e-8c04-cb181640(subgraph_callable-5d102766-9261-4317-aa3f-c1a93c9f(...))\",\"_\",\"subgraph_callable-e65dc938-54bb-4a3e-8c04-cb181640(subgraph_callable-5d102766-9261-4317-aa3f-c1a93c9f(...))\",\"_\",\"subgraph_callable-e65dc938-54bb-4a3e-8c04-cb181640(subgraph_callable-5d102766-9261-4317-aa3f-c1a93c9f(...))\",\"_\",\"subgraph_callable-e65dc938-54bb-4a3e-8c04-cb181640(subgraph_callable-5d102766-9261-4317-aa3f-c1a93c9f(...))\",\"_\",\"subgraph_callable-e65dc938-54bb-4a3e-8c04-cb181640(subgraph_callable-5d102766-9261-4317-aa3f-c1a93c9f(...))\",\"_\",\"subgraph_callable-e65dc938-54bb-4a3e-8c04-cb181640(subgraph_callable-5d102766-9261-4317-aa3f-c1a93c9f(...))\",\"_\",\"_\",\"subgraph_callable-e65dc938-54bb-4a3e-8c04-cb181640(subgraph_callable-5d102766-9261-4317-aa3f-c1a93c9f(...))\",\"subgraph_callable-e65dc938-54bb-4a3e-8c04-cb181640(subgraph_callable-5d102766-9261-4317-aa3f-c1a93c9f(...))\",\"_\",\"subgraph_callable-e65dc938-54bb-4a3e-8c04-cb181640(subgraph_callable-5d102766-9261-4317-aa3f-c1a93c9f(...))\",\"_\",\"subgraph_callable-e65dc938-54bb-4a3e-8c04-cb181640(subgraph_callable-5d102766-9261-4317-aa3f-c1a93c9f(...))\",\"_\",\"subgraph_callable-e65dc938-54bb-4a3e-8c04-cb181640(subgraph_callable-5d102766-9261-4317-aa3f-c1a93c9f(...))\",\"_\",\"subgraph_callable-e65dc938-54bb-4a3e-8c04-cb181640(subgraph_callable-5d102766-9261-4317-aa3f-c1a93c9f(...))\",\"_\",\"subgraph_callable-e65dc938-54bb-4a3e-8c04-cb181640(subgraph_callable-5d102766-9261-4317-aa3f-c1a93c9f(...))\",\"_\",\"subgraph_callable-e65dc938-54bb-4a3e-8c04-cb181640(subgraph_callable-5d102766-9261-4317-aa3f-c1a93c9f(...))\",\"_\",\"subgraph_callable-e65dc938-54bb-4a3e-8c04-cb181640(subgraph_callable-5d102766-9261-4317-aa3f-c1a93c9f(...))\",\"_\",\"subgraph_callable-e65dc938-54bb-4a3e-8c04-cb181640(subgraph_callable-5d102766-9261-4317-aa3f-c1a93c9f(...))\",\"_\",\"subgraph_callable-e65dc938-54bb-4a3e-8c04-cb181640(subgraph_callable-5d102766-9261-4317-aa3f-c1a93c9f(...))\",\"_\",\"subgraph_callable-e65dc938-54bb-4a3e-8c04-cb181640(subgraph_callable-5d102766-9261-4317-aa3f-c1a93c9f(...))\",\"_\",\"subgraph_callable-e65dc938-54bb-4a3e-8c04-cb181640(subgraph_callable-5d102766-9261-4317-aa3f-c1a93c9f(...))\",\"_\",\"subgraph_callable-e65dc938-54bb-4a3e-8c04-cb181640(subgraph_callable-5d102766-9261-4317-aa3f-c1a93c9f(...))\",\"_\",\"subgraph_callable-e65dc938-54bb-4a3e-8c04-cb181640(subgraph_callable-5d102766-9261-4317-aa3f-c1a93c9f(...))\",\"_\",\"subgraph_callable-e65dc938-54bb-4a3e-8c04-cb181640(subgraph_callable-5d102766-9261-4317-aa3f-c1a93c9f(...))\",\"_\",\"subgraph_callable-e65dc938-54bb-4a3e-8c04-cb181640(subgraph_callable-5d102766-9261-4317-aa3f-c1a93c9f(...))\",\"_\",\"subgraph_callable-e65dc938-54bb-4a3e-8c04-cb181640(subgraph_callable-5d102766-9261-4317-aa3f-c1a93c9f(...))\",\"_\",\"subgraph_callable-e65dc938-54bb-4a3e-8c04-cb181640(subgraph_callable-5d102766-9261-4317-aa3f-c1a93c9f(...))\",\"_\",\"subgraph_callable-e65dc938-54bb-4a3e-8c04-cb181640(subgraph_callable-5d102766-9261-4317-aa3f-c1a93c9f(...))\",\"_\",\"subgraph_callable-e65dc938-54bb-4a3e-8c04-cb181640(subgraph_callable-5d102766-9261-4317-aa3f-c1a93c9f(...))\",\"_\",\"subgraph_callable-e65dc938-54bb-4a3e-8c04-cb181640(subgraph_callable-5d102766-9261-4317-aa3f-c1a93c9f(...))\",\"_\",\"subgraph_callable-e65dc938-54bb-4a3e-8c04-cb181640(subgraph_callable-5d102766-9261-4317-aa3f-c1a93c9f(...))\",\"_\",\"_\",\"subgraph_callable-e65dc938-54bb-4a3e-8c04-cb181640(subgraph_callable-5d102766-9261-4317-aa3f-c1a93c9f(...))\",\"subgraph_callable-e65dc938-54bb-4a3e-8c04-cb181640(subgraph_callable-5d102766-9261-4317-aa3f-c1a93c9f(...))\",\"_\",\"subgraph_callable-e65dc938-54bb-4a3e-8c04-cb181640(subgraph_callable-5d102766-9261-4317-aa3f-c1a93c9f(...))\",\"_\",\"subgraph_callable-e65dc938-54bb-4a3e-8c04-cb181640(subgraph_callable-5d102766-9261-4317-aa3f-c1a93c9f(...))\",\"_\",\"subgraph_callable-e65dc938-54bb-4a3e-8c04-cb181640(subgraph_callable-5d102766-9261-4317-aa3f-c1a93c9f(...))\",\"_\",\"subgraph_callable-e65dc938-54bb-4a3e-8c04-cb181640(subgraph_callable-5d102766-9261-4317-aa3f-c1a93c9f(...))\",\"_\",\"subgraph_callable-e65dc938-54bb-4a3e-8c04-cb181640(subgraph_callable-5d102766-9261-4317-aa3f-c1a93c9f(...))\",\"_\",\"subgraph_callable-e65dc938-54bb-4a3e-8c04-cb181640(subgraph_callable-5d102766-9261-4317-aa3f-c1a93c9f(...))\",\"_\",\"subgraph_callable-e65dc938-54bb-4a3e-8c04-cb181640(subgraph_callable-5d102766-9261-4317-aa3f-c1a93c9f(...))\",\"_\",\"subgraph_callable-e65dc938-54bb-4a3e-8c04-cb181640(subgraph_callable-5d102766-9261-4317-aa3f-c1a93c9f(...))\",\"_\",\"subgraph_callable-e65dc938-54bb-4a3e-8c04-cb181640(subgraph_callable-5d102766-9261-4317-aa3f-c1a93c9f(...))\",\"_\",\"subgraph_callable-e65dc938-54bb-4a3e-8c04-cb181640(subgraph_callable-5d102766-9261-4317-aa3f-c1a93c9f(...))\",\"_\",\"subgraph_callable-e65dc938-54bb-4a3e-8c04-cb181640(subgraph_callable-5d102766-9261-4317-aa3f-c1a93c9f(...))\",\"_\",\"subgraph_callable-e65dc938-54bb-4a3e-8c04-cb181640(subgraph_callable-5d102766-9261-4317-aa3f-c1a93c9f(...))\",\"_\",\"subgraph_callable-e65dc938-54bb-4a3e-8c04-cb181640(subgraph_callable-5d102766-9261-4317-aa3f-c1a93c9f(...))\",\"_\",\"subgraph_callable-e65dc938-54bb-4a3e-8c04-cb181640(subgraph_callable-5d102766-9261-4317-aa3f-c1a93c9f(...))\",\"_\",\"subgraph_callable-e65dc938-54bb-4a3e-8c04-cb181640(subgraph_callable-5d102766-9261-4317-aa3f-c1a93c9f(...))\",\"_\",\"subgraph_callable-e65dc938-54bb-4a3e-8c04-cb181640(subgraph_callable-5d102766-9261-4317-aa3f-c1a93c9f(...))\",\"_\",\"subgraph_callable-e65dc938-54bb-4a3e-8c04-cb181640(subgraph_callable-5d102766-9261-4317-aa3f-c1a93c9f(...))\",\"_\",\"mean_combine([_, _])\",\"subgraph_callable-e65dc938-54bb-4a3e-8c04-cb181640(subgraph_callable-5d102766-9261-4317-aa3f-c1a93c9f(...))\",\"_\",\"mean_combine([_, _])\",\"subgraph_callable-e65dc938-54bb-4a3e-8c04-cb181640(subgraph_callable-5d102766-9261-4317-aa3f-c1a93c9f(...))\",\"_\",\"mean_combine([_, _])\",\"subgraph_callable-e65dc938-54bb-4a3e-8c04-cb181640(subgraph_callable-5d102766-9261-4317-aa3f-c1a93c9f(...))\",\"_\",\"mean_combine([_, _])\",\"subgraph_callable-e65dc938-54bb-4a3e-8c04-cb181640(subgraph_callable-5d102766-9261-4317-aa3f-c1a93c9f(...))\",\"_\",\"mean_combine([_, _])\",\"subgraph_callable-e65dc938-54bb-4a3e-8c04-cb181640(subgraph_callable-5d102766-9261-4317-aa3f-c1a93c9f(...))\",\"_\",\"mean_combine([_, _])\",\"subgraph_callable-e65dc938-54bb-4a3e-8c04-cb181640(subgraph_callable-5d102766-9261-4317-aa3f-c1a93c9f(...))\",\"_\",\"mean_combine([_, _])\",\"subgraph_callable-e65dc938-54bb-4a3e-8c04-cb181640(subgraph_callable-5d102766-9261-4317-aa3f-c1a93c9f(...))\",\"_\",\"mean_combine([_, _])\",\"subgraph_callable-e65dc938-54bb-4a3e-8c04-cb181640(subgraph_callable-5d102766-9261-4317-aa3f-c1a93c9f(...))\",\"_\",\"mean_combine([_, _])\",\"subgraph_callable-e65dc938-54bb-4a3e-8c04-cb181640(subgraph_callable-5d102766-9261-4317-aa3f-c1a93c9f(...))\",\"_\",\"mean_combine([_, _])\",\"subgraph_callable-e65dc938-54bb-4a3e-8c04-cb181640(subgraph_callable-5d102766-9261-4317-aa3f-c1a93c9f(...))\",\"_\",\"mean_combine([_, _])\",\"subgraph_callable-e65dc938-54bb-4a3e-8c04-cb181640(subgraph_callable-5d102766-9261-4317-aa3f-c1a93c9f(...))\",\"_\",\"mean_combine([_, _])\",\"subgraph_callable-e65dc938-54bb-4a3e-8c04-cb181640(subgraph_callable-5d102766-9261-4317-aa3f-c1a93c9f(...))\",\"_\",\"mean_combine([_, _])\",\"subgraph_callable-e65dc938-54bb-4a3e-8c04-cb181640(subgraph_callable-5d102766-9261-4317-aa3f-c1a93c9f(...))\",\"_\",\"mean_combine([_, _])\",\"subgraph_callable-e65dc938-54bb-4a3e-8c04-cb181640(subgraph_callable-5d102766-9261-4317-aa3f-c1a93c9f(...))\",\"_\",\"mean_combine([_, _])\",\"subgraph_callable-e65dc938-54bb-4a3e-8c04-cb181640(subgraph_callable-5d102766-9261-4317-aa3f-c1a93c9f(...))\",\"_\",\"mean_combine([_, _])\",\"subgraph_callable-e65dc938-54bb-4a3e-8c04-cb181640(subgraph_callable-5d102766-9261-4317-aa3f-c1a93c9f(...))\",\"_\",\"mean_combine([_, _])\",\"subgraph_callable-e65dc938-54bb-4a3e-8c04-cb181640(subgraph_callable-5d102766-9261-4317-aa3f-c1a93c9f(...))\",\"_\",\"mean_combine([_, _])\",\"subgraph_callable-e65dc938-54bb-4a3e-8c04-cb181640(subgraph_callable-5d102766-9261-4317-aa3f-c1a93c9f(...))\",\"_\",\"mean_combine([_, _])\",\"subgraph_callable-e65dc938-54bb-4a3e-8c04-cb181640(subgraph_callable-5d102766-9261-4317-aa3f-c1a93c9f(...))\",\"_\",\"mean_combine([_, _])\",\"subgraph_callable-e65dc938-54bb-4a3e-8c04-cb181640(subgraph_callable-5d102766-9261-4317-aa3f-c1a93c9f(...))\",\"_\",\"mean_combine([_, _])\",\"subgraph_callable-e65dc938-54bb-4a3e-8c04-cb181640(subgraph_callable-5d102766-9261-4317-aa3f-c1a93c9f(...))\",\"_\",\"mean_combine([_, _])\",\"subgraph_callable-e65dc938-54bb-4a3e-8c04-cb181640(subgraph_callable-5d102766-9261-4317-aa3f-c1a93c9f(...))\",\"_\",\"mean_combine([_, _])\",\"subgraph_callable-e65dc938-54bb-4a3e-8c04-cb181640(subgraph_callable-5d102766-9261-4317-aa3f-c1a93c9f(...))\",\"_\",\"mean_combine([_, _])\",\"subgraph_callable-e65dc938-54bb-4a3e-8c04-cb181640(subgraph_callable-5d102766-9261-4317-aa3f-c1a93c9f(...))\",\"_\",\"mean_combine([_, _])\",\"subgraph_callable-e65dc938-54bb-4a3e-8c04-cb181640(subgraph_callable-5d102766-9261-4317-aa3f-c1a93c9f(...))\",\"_\",\"mean_combine([_, _])\",\"subgraph_callable-e65dc938-54bb-4a3e-8c04-cb181640(subgraph_callable-5d102766-9261-4317-aa3f-c1a93c9f(...))\",\"_\",\"mean_combine([_, _])\",\"subgraph_callable-e65dc938-54bb-4a3e-8c04-cb181640(subgraph_callable-5d102766-9261-4317-aa3f-c1a93c9f(...))\",\"_\",\"mean_combine([_, _])\",\"_\",\"subgraph_callable-e65dc938-54bb-4a3e-8c04-cb181640(subgraph_callable-5d102766-9261-4317-aa3f-c1a93c9f(...))\",\"mean_combine([_, _])\",\"subgraph_callable-e65dc938-54bb-4a3e-8c04-cb181640(subgraph_callable-5d102766-9261-4317-aa3f-c1a93c9f(...))\",\"_\",\"mean_combine([_, _])\",\"subgraph_callable-e65dc938-54bb-4a3e-8c04-cb181640(subgraph_callable-5d102766-9261-4317-aa3f-c1a93c9f(...))\",\"_\",\"mean_combine([_, _])\",\"subgraph_callable-e65dc938-54bb-4a3e-8c04-cb181640(subgraph_callable-5d102766-9261-4317-aa3f-c1a93c9f(...))\",\"_\",\"mean_combine([_, _])\",\"subgraph_callable-e65dc938-54bb-4a3e-8c04-cb181640(subgraph_callable-5d102766-9261-4317-aa3f-c1a93c9f(...))\",\"_\",\"mean_combine([_, _])\",\"subgraph_callable-e65dc938-54bb-4a3e-8c04-cb181640(subgraph_callable-5d102766-9261-4317-aa3f-c1a93c9f(...))\",\"_\",\"mean_combine([_, _])\",\"subgraph_callable-e65dc938-54bb-4a3e-8c04-cb181640(subgraph_callable-5d102766-9261-4317-aa3f-c1a93c9f(...))\",\"_\",\"mean_combine([_, _])\",\"subgraph_callable-e65dc938-54bb-4a3e-8c04-cb181640(subgraph_callable-5d102766-9261-4317-aa3f-c1a93c9f(...))\",\"_\",\"mean_combine([_, _])\",\"subgraph_callable-e65dc938-54bb-4a3e-8c04-cb181640(subgraph_callable-5d102766-9261-4317-aa3f-c1a93c9f(...))\",\"_\",\"mean_combine([_, _])\",\"subgraph_callable-e65dc938-54bb-4a3e-8c04-cb181640(subgraph_callable-5d102766-9261-4317-aa3f-c1a93c9f(...))\",\"_\",\"mean_combine([_, _])\",\"subgraph_callable-e65dc938-54bb-4a3e-8c04-cb181640(subgraph_callable-5d102766-9261-4317-aa3f-c1a93c9f(...))\",\"_\",\"mean_combine([_, _])\",\"subgraph_callable-e65dc938-54bb-4a3e-8c04-cb181640(subgraph_callable-5d102766-9261-4317-aa3f-c1a93c9f(...))\",\"_\",\"mean_combine([_, _])\",\"subgraph_callable-e65dc938-54bb-4a3e-8c04-cb181640(subgraph_callable-5d102766-9261-4317-aa3f-c1a93c9f(...))\",\"_\",\"mean_combine([_, _])\",\"_\",\"mean_combine([_, _])\",\"subgraph_callable-e65dc938-54bb-4a3e-8c04-cb181640(subgraph_callable-5d102766-9261-4317-aa3f-c1a93c9f(...))\",\"subgraph_callable-e65dc938-54bb-4a3e-8c04-cb181640(subgraph_callable-5d102766-9261-4317-aa3f-c1a93c9f(...))\",\"_\",\"mean_combine([_, _])\",\"subgraph_callable-e65dc938-54bb-4a3e-8c04-cb181640(subgraph_callable-5d102766-9261-4317-aa3f-c1a93c9f(...))\",\"_\",\"mean_combine([_, _])\",\"subgraph_callable-e65dc938-54bb-4a3e-8c04-cb181640(subgraph_callable-5d102766-9261-4317-aa3f-c1a93c9f(...))\",\"_\",\"mean_combine([_, _])\",\"subgraph_callable-e65dc938-54bb-4a3e-8c04-cb181640(subgraph_callable-5d102766-9261-4317-aa3f-c1a93c9f(...))\",\"_\",\"mean_combine([_, _])\",\"subgraph_callable-e65dc938-54bb-4a3e-8c04-cb181640(subgraph_callable-5d102766-9261-4317-aa3f-c1a93c9f(...))\",\"_\",\"mean_combine([_, _])\",\"subgraph_callable-e65dc938-54bb-4a3e-8c04-cb181640(subgraph_callable-5d102766-9261-4317-aa3f-c1a93c9f(...))\",\"_\",\"mean_combine([_, _])\",\"subgraph_callable-e65dc938-54bb-4a3e-8c04-cb181640(subgraph_callable-5d102766-9261-4317-aa3f-c1a93c9f(...))\",\"_\",\"mean_combine([_, _])\",\"subgraph_callable-e65dc938-54bb-4a3e-8c04-cb181640(subgraph_callable-5d102766-9261-4317-aa3f-c1a93c9f(...))\",\"_\",\"mean_combine([_, _])\",\"subgraph_callable-e65dc938-54bb-4a3e-8c04-cb181640(subgraph_callable-5d102766-9261-4317-aa3f-c1a93c9f(...))\",\"_\",\"mean_combine([_, _])\",\"subgraph_callable-e65dc938-54bb-4a3e-8c04-cb181640(subgraph_callable-5d102766-9261-4317-aa3f-c1a93c9f(...))\",\"_\",\"mean_combine([_, _])\",\"subgraph_callable-e65dc938-54bb-4a3e-8c04-cb181640(subgraph_callable-5d102766-9261-4317-aa3f-c1a93c9f(...))\",\"_\",\"mean_combine([_, _])\",\"subgraph_callable-e65dc938-54bb-4a3e-8c04-cb181640(subgraph_callable-5d102766-9261-4317-aa3f-c1a93c9f(...))\",\"_\",\"mean_combine([_, _])\",\"subgraph_callable-e65dc938-54bb-4a3e-8c04-cb181640(subgraph_callable-5d102766-9261-4317-aa3f-c1a93c9f(...))\",\"_\",\"mean_combine([_, _])\",\"subgraph_callable-e65dc938-54bb-4a3e-8c04-cb181640(subgraph_callable-5d102766-9261-4317-aa3f-c1a93c9f(...))\",\"_\",\"mean_combine([_, _])\",\"subgraph_callable-e65dc938-54bb-4a3e-8c04-cb181640(subgraph_callable-5d102766-9261-4317-aa3f-c1a93c9f(...))\",\"_\",\"mean_combine([_, _])\",\"subgraph_callable-e65dc938-54bb-4a3e-8c04-cb181640(subgraph_callable-5d102766-9261-4317-aa3f-c1a93c9f(...))\",\"_\",\"mean_combine([_, _])\",\"subgraph_callable-e65dc938-54bb-4a3e-8c04-cb181640(subgraph_callable-5d102766-9261-4317-aa3f-c1a93c9f(...))\",\"_\",\"mean_combine([_, _])\",\"subgraph_callable-e65dc938-54bb-4a3e-8c04-cb181640(subgraph_callable-5d102766-9261-4317-aa3f-c1a93c9f(...))\",\"_\",\"mean_combine([_, _])\",\"_\",\"subgraph_callable-e65dc938-54bb-4a3e-8c04-cb181640(subgraph_callable-5d102766-9261-4317-aa3f-c1a93c9f(...))\",\"mean_combine([_, _])\",\"subgraph_callable-e65dc938-54bb-4a3e-8c04-cb181640(subgraph_callable-5d102766-9261-4317-aa3f-c1a93c9f(...))\",\"_\",\"mean_combine([_, _])\",\"subgraph_callable-e65dc938-54bb-4a3e-8c04-cb181640(subgraph_callable-5d102766-9261-4317-aa3f-c1a93c9f(...))\",\"_\",\"mean_combine([_, _])\",\"subgraph_callable-e65dc938-54bb-4a3e-8c04-cb181640(subgraph_callable-5d102766-9261-4317-aa3f-c1a93c9f(...))\",\"_\",\"mean_combine([_, _])\",\"mean_agg([_, _])\",\"subgraph_callable-e65dc938-54bb-4a3e-8c04-cb181640(subgraph_callable-5d102766-9261-4317-aa3f-c1a93c9f(...))\",\"_\",\"mean_combine([_, _])\",\"mean_agg([_, _])\",\"subgraph_callable-e65dc938-54bb-4a3e-8c04-cb181640(subgraph_callable-5d102766-9261-4317-aa3f-c1a93c9f(...))\",\"_\",\"mean_combine([_, _])\",\"mean_agg([_, _])\",\"subgraph_callable-e65dc938-54bb-4a3e-8c04-cb181640(subgraph_callable-5d102766-9261-4317-aa3f-c1a93c9f(...))\",\"_\",\"subgraph_callable-e65dc938-54bb-4a3e-8c04-cb181640(subgraph_callable-5d102766-9261-4317-aa3f-c1a93c9f(...))\",\"_\",\"mean_combine([_, _])\",\"mean_agg([_, _])\",\"subgraph_callable-e65dc938-54bb-4a3e-8c04-cb181640(subgraph_callable-5d102766-9261-4317-aa3f-c1a93c9f(...))\",\"_\",\"subgraph_callable-e65dc938-54bb-4a3e-8c04-cb181640(subgraph_callable-5d102766-9261-4317-aa3f-c1a93c9f(...))\",\"_\",\"subgraph_callable-e65dc938-54bb-4a3e-8c04-cb181640(subgraph_callable-5d102766-9261-4317-aa3f-c1a93c9f(...))\",\"_\",\"subgraph_callable-e65dc938-54bb-4a3e-8c04-cb181640(subgraph_callable-5d102766-9261-4317-aa3f-c1a93c9f(...))\",\"_\",\"subgraph_callable-e65dc938-54bb-4a3e-8c04-cb181640(subgraph_callable-5d102766-9261-4317-aa3f-c1a93c9f(...))\",\"_\",\"subgraph_callable-e65dc938-54bb-4a3e-8c04-cb181640(subgraph_callable-5d102766-9261-4317-aa3f-c1a93c9f(...))\",\"_\",\"_\",\"subgraph_callable-e65dc938-54bb-4a3e-8c04-cb181640(subgraph_callable-5d102766-9261-4317-aa3f-c1a93c9f(...))\",\"subgraph_callable-e65dc938-54bb-4a3e-8c04-cb181640(subgraph_callable-5d102766-9261-4317-aa3f-c1a93c9f(...))\",\"_\",\"subgraph_callable-e65dc938-54bb-4a3e-8c04-cb181640(subgraph_callable-5d102766-9261-4317-aa3f-c1a93c9f(...))\",\"_\",\"subgraph_callable-e65dc938-54bb-4a3e-8c04-cb181640(subgraph_callable-5d102766-9261-4317-aa3f-c1a93c9f(...))\",\"_\",\"subgraph_callable-e65dc938-54bb-4a3e-8c04-cb181640(subgraph_callable-5d102766-9261-4317-aa3f-c1a93c9f(...))\",\"_\",\"subgraph_callable-e65dc938-54bb-4a3e-8c04-cb181640(subgraph_callable-5d102766-9261-4317-aa3f-c1a93c9f(...))\",\"_\",\"subgraph_callable-e65dc938-54bb-4a3e-8c04-cb181640(subgraph_callable-5d102766-9261-4317-aa3f-c1a93c9f(...))\",\"_\",\"subgraph_callable-e65dc938-54bb-4a3e-8c04-cb181640(subgraph_callable-5d102766-9261-4317-aa3f-c1a93c9f(...))\",\"_\",\"subgraph_callable-e65dc938-54bb-4a3e-8c04-cb181640(subgraph_callable-5d102766-9261-4317-aa3f-c1a93c9f(...))\",\"_\",\"subgraph_callable-e65dc938-54bb-4a3e-8c04-cb181640(subgraph_callable-5d102766-9261-4317-aa3f-c1a93c9f(...))\",\"_\",\"subgraph_callable-e65dc938-54bb-4a3e-8c04-cb181640(subgraph_callable-5d102766-9261-4317-aa3f-c1a93c9f(...))\",\"_\",\"subgraph_callable-e65dc938-54bb-4a3e-8c04-cb181640(subgraph_callable-5d102766-9261-4317-aa3f-c1a93c9f(...))\",\"_\",\"subgraph_callable-e65dc938-54bb-4a3e-8c04-cb181640(subgraph_callable-5d102766-9261-4317-aa3f-c1a93c9f(...))\",\"_\",\"subgraph_callable-e65dc938-54bb-4a3e-8c04-cb181640(subgraph_callable-5d102766-9261-4317-aa3f-c1a93c9f(...))\",\"_\",\"subgraph_callable-e65dc938-54bb-4a3e-8c04-cb181640(subgraph_callable-5d102766-9261-4317-aa3f-c1a93c9f(...))\",\"_\",\"subgraph_callable-e65dc938-54bb-4a3e-8c04-cb181640(subgraph_callable-5d102766-9261-4317-aa3f-c1a93c9f(...))\",\"_\",\"subgraph_callable-e65dc938-54bb-4a3e-8c04-cb181640(subgraph_callable-5d102766-9261-4317-aa3f-c1a93c9f(...))\",\"_\",\"subgraph_callable-e65dc938-54bb-4a3e-8c04-cb181640(subgraph_callable-5d102766-9261-4317-aa3f-c1a93c9f(...))\",\"_\",\"subgraph_callable-e65dc938-54bb-4a3e-8c04-cb181640(subgraph_callable-5d102766-9261-4317-aa3f-c1a93c9f(...))\",\"_\",\"subgraph_callable-e65dc938-54bb-4a3e-8c04-cb181640(subgraph_callable-5d102766-9261-4317-aa3f-c1a93c9f(...))\",\"_\",\"subgraph_callable-e65dc938-54bb-4a3e-8c04-cb181640(subgraph_callable-5d102766-9261-4317-aa3f-c1a93c9f(...))\",\"_\",\"subgraph_callable-e65dc938-54bb-4a3e-8c04-cb181640(subgraph_callable-5d102766-9261-4317-aa3f-c1a93c9f(...))\",\"_\",\"subgraph_callable-e65dc938-54bb-4a3e-8c04-cb181640(subgraph_callable-5d102766-9261-4317-aa3f-c1a93c9f(...))\",\"_\",\"subgraph_callable-e65dc938-54bb-4a3e-8c04-cb181640(subgraph_callable-5d102766-9261-4317-aa3f-c1a93c9f(...))\",\"_\",\"subgraph_callable-e65dc938-54bb-4a3e-8c04-cb181640(subgraph_callable-5d102766-9261-4317-aa3f-c1a93c9f(...))\",\"_\",\"subgraph_callable-e65dc938-54bb-4a3e-8c04-cb181640(subgraph_callable-5d102766-9261-4317-aa3f-c1a93c9f(...))\",\"_\",\"subgraph_callable-e65dc938-54bb-4a3e-8c04-cb181640(subgraph_callable-5d102766-9261-4317-aa3f-c1a93c9f(...))\",\"_\",\"subgraph_callable-e65dc938-54bb-4a3e-8c04-cb181640(subgraph_callable-5d102766-9261-4317-aa3f-c1a93c9f(...))\",\"_\",\"subgraph_callable-e65dc938-54bb-4a3e-8c04-cb181640(subgraph_callable-5d102766-9261-4317-aa3f-c1a93c9f(...))\",\"_\",\"subgraph_callable-e65dc938-54bb-4a3e-8c04-cb181640(subgraph_callable-5d102766-9261-4317-aa3f-c1a93c9f(...))\",\"_\",\"subgraph_callable-e65dc938-54bb-4a3e-8c04-cb181640(subgraph_callable-5d102766-9261-4317-aa3f-c1a93c9f(...))\",\"_\",\"subgraph_callable-e65dc938-54bb-4a3e-8c04-cb181640(subgraph_callable-5d102766-9261-4317-aa3f-c1a93c9f(...))\",\"_\",\"subgraph_callable-e65dc938-54bb-4a3e-8c04-cb181640(subgraph_callable-5d102766-9261-4317-aa3f-c1a93c9f(...))\",\"_\",\"subgraph_callable-e65dc938-54bb-4a3e-8c04-cb181640(subgraph_callable-5d102766-9261-4317-aa3f-c1a93c9f(...))\",\"_\",\"_\",\"subgraph_callable-e65dc938-54bb-4a3e-8c04-cb181640(subgraph_callable-5d102766-9261-4317-aa3f-c1a93c9f(...))\",\"subgraph_callable-e65dc938-54bb-4a3e-8c04-cb181640(subgraph_callable-5d102766-9261-4317-aa3f-c1a93c9f(...))\",\"_\",\"subgraph_callable-e65dc938-54bb-4a3e-8c04-cb181640(subgraph_callable-5d102766-9261-4317-aa3f-c1a93c9f(...))\",\"_\",\"subgraph_callable-e65dc938-54bb-4a3e-8c04-cb181640(subgraph_callable-5d102766-9261-4317-aa3f-c1a93c9f(...))\",\"_\",\"subgraph_callable-e65dc938-54bb-4a3e-8c04-cb181640(subgraph_callable-5d102766-9261-4317-aa3f-c1a93c9f(...))\",\"_\",\"subgraph_callable-e65dc938-54bb-4a3e-8c04-cb181640(subgraph_callable-5d102766-9261-4317-aa3f-c1a93c9f(...))\",\"_\",\"subgraph_callable-e65dc938-54bb-4a3e-8c04-cb181640(subgraph_callable-5d102766-9261-4317-aa3f-c1a93c9f(...))\",\"_\",\"subgraph_callable-e65dc938-54bb-4a3e-8c04-cb181640(subgraph_callable-5d102766-9261-4317-aa3f-c1a93c9f(...))\",\"_\",\"subgraph_callable-e65dc938-54bb-4a3e-8c04-cb181640(subgraph_callable-5d102766-9261-4317-aa3f-c1a93c9f(...))\",\"_\",\"subgraph_callable-e65dc938-54bb-4a3e-8c04-cb181640(subgraph_callable-5d102766-9261-4317-aa3f-c1a93c9f(...))\",\"_\",\"subgraph_callable-e65dc938-54bb-4a3e-8c04-cb181640(subgraph_callable-5d102766-9261-4317-aa3f-c1a93c9f(...))\",\"_\",\"subgraph_callable-e65dc938-54bb-4a3e-8c04-cb181640(subgraph_callable-5d102766-9261-4317-aa3f-c1a93c9f(...))\",\"_\",\"subgraph_callable-e65dc938-54bb-4a3e-8c04-cb181640(subgraph_callable-5d102766-9261-4317-aa3f-c1a93c9f(...))\",\"_\",\"subgraph_callable-e65dc938-54bb-4a3e-8c04-cb181640(subgraph_callable-5d102766-9261-4317-aa3f-c1a93c9f(...))\",\"_\",\"subgraph_callable-e65dc938-54bb-4a3e-8c04-cb181640(subgraph_callable-5d102766-9261-4317-aa3f-c1a93c9f(...))\",\"_\",\"subgraph_callable-e65dc938-54bb-4a3e-8c04-cb181640(subgraph_callable-5d102766-9261-4317-aa3f-c1a93c9f(...))\",\"_\",\"subgraph_callable-e65dc938-54bb-4a3e-8c04-cb181640(subgraph_callable-5d102766-9261-4317-aa3f-c1a93c9f(...))\",\"_\",\"subgraph_callable-e65dc938-54bb-4a3e-8c04-cb181640(subgraph_callable-5d102766-9261-4317-aa3f-c1a93c9f(...))\",\"_\",\"subgraph_callable-e65dc938-54bb-4a3e-8c04-cb181640(subgraph_callable-5d102766-9261-4317-aa3f-c1a93c9f(...))\",\"_\",\"mean_combine([_, _])\",\"mean_agg([_, _])\",\"subgraph_callable-e65dc938-54bb-4a3e-8c04-cb181640(subgraph_callable-5d102766-9261-4317-aa3f-c1a93c9f(...))\",\"_\",\"mean_combine([_, _])\",\"mean_agg([_, _])\",\"subgraph_callable-e65dc938-54bb-4a3e-8c04-cb181640(subgraph_callable-5d102766-9261-4317-aa3f-c1a93c9f(...))\",\"_\",\"mean_combine([_, _])\",\"mean_agg([_, _])\",\"subgraph_callable-e65dc938-54bb-4a3e-8c04-cb181640(subgraph_callable-5d102766-9261-4317-aa3f-c1a93c9f(...))\",\"_\",\"mean_combine([_, _])\",\"mean_agg([_, _])\",\"subgraph_callable-e65dc938-54bb-4a3e-8c04-cb181640(subgraph_callable-5d102766-9261-4317-aa3f-c1a93c9f(...))\",\"_\",\"mean_combine([_, _])\",\"mean_agg([_, _])\",\"subgraph_callable-e65dc938-54bb-4a3e-8c04-cb181640(subgraph_callable-5d102766-9261-4317-aa3f-c1a93c9f(...))\",\"_\",\"mean_combine([_, _])\",\"mean_agg([_, _])\",\"subgraph_callable-e65dc938-54bb-4a3e-8c04-cb181640(subgraph_callable-5d102766-9261-4317-aa3f-c1a93c9f(...))\",\"_\",\"mean_combine([_, _])\",\"_\",\"mean_agg([_, _])\",\"mean_combine([_, _])\",\"subgraph_callable-e65dc938-54bb-4a3e-8c04-cb181640(subgraph_callable-5d102766-9261-4317-aa3f-c1a93c9f(...))\",\"mean_agg([_, _])\",\"subgraph_callable-e65dc938-54bb-4a3e-8c04-cb181640(subgraph_callable-5d102766-9261-4317-aa3f-c1a93c9f(...))\",\"_\",\"mean_combine([_, _])\",\"mean_agg([_, _])\",\"subgraph_callable-e65dc938-54bb-4a3e-8c04-cb181640(subgraph_callable-5d102766-9261-4317-aa3f-c1a93c9f(...))\",\"_\",\"mean_combine([_, _])\",\"mean_agg([_, _])\",\"subgraph_callable-e65dc938-54bb-4a3e-8c04-cb181640(subgraph_callable-5d102766-9261-4317-aa3f-c1a93c9f(...))\",\"_\",\"mean_combine([_, _])\",\"mean_agg([_, _])\",\"subgraph_callable-e65dc938-54bb-4a3e-8c04-cb181640(subgraph_callable-5d102766-9261-4317-aa3f-c1a93c9f(...))\",\"_\",\"mean_combine([_, _])\",\"mean_agg([_, _])\",\"subgraph_callable-e65dc938-54bb-4a3e-8c04-cb181640(subgraph_callable-5d102766-9261-4317-aa3f-c1a93c9f(...))\",\"_\",\"mean_combine([_, _])\",\"mean_agg([_, _])\",\"subgraph_callable-e65dc938-54bb-4a3e-8c04-cb181640(subgraph_callable-5d102766-9261-4317-aa3f-c1a93c9f(...))\",\"_\",\"mean_combine([_, _])\",\"mean_agg([_, _])\",\"subgraph_callable-e65dc938-54bb-4a3e-8c04-cb181640(subgraph_callable-5d102766-9261-4317-aa3f-c1a93c9f(...))\",\"_\",\"mean_combine([_, _])\",\"mean_agg([_, _])\",\"subgraph_callable-e65dc938-54bb-4a3e-8c04-cb181640(subgraph_callable-5d102766-9261-4317-aa3f-c1a93c9f(...))\",\"_\",\"mean_combine([_, _])\",\"mean_agg([_, _])\",\"subgraph_callable-e65dc938-54bb-4a3e-8c04-cb181640(subgraph_callable-5d102766-9261-4317-aa3f-c1a93c9f(...))\",\"_\",\"mean_combine([_, _])\",\"mean_agg([_, _])\",\"subgraph_callable-e65dc938-54bb-4a3e-8c04-cb181640(subgraph_callable-5d102766-9261-4317-aa3f-c1a93c9f(...))\",\"_\",\"mean_combine([_, _])\",\"mean_agg([_, _])\",\"subgraph_callable-e65dc938-54bb-4a3e-8c04-cb181640(subgraph_callable-5d102766-9261-4317-aa3f-c1a93c9f(...))\",\"_\",\"mean_combine([_, _])\",\"mean_agg([_, _])\",\"subgraph_callable-e65dc938-54bb-4a3e-8c04-cb181640(subgraph_callable-5d102766-9261-4317-aa3f-c1a93c9f(...))\",\"_\",\"mean_combine([_, _])\",\"mean_agg([_, _])\",\"subgraph_callable-e65dc938-54bb-4a3e-8c04-cb181640(subgraph_callable-5d102766-9261-4317-aa3f-c1a93c9f(...))\",\"_\",\"mean_combine([_, _])\",\"mean_agg([_, _])\",\"subgraph_callable-e65dc938-54bb-4a3e-8c04-cb181640(subgraph_callable-5d102766-9261-4317-aa3f-c1a93c9f(...))\",\"_\",\"mean_combine([_, _])\",\"mean_agg([_, _])\",\"subgraph_callable-e65dc938-54bb-4a3e-8c04-cb181640(subgraph_callable-5d102766-9261-4317-aa3f-c1a93c9f(...))\",\"_\",\"mean_combine([_, _])\",\"mean_agg([_, _])\",\"_\",\"subgraph_callable-e65dc938-54bb-4a3e-8c04-cb181640(subgraph_callable-5d102766-9261-4317-aa3f-c1a93c9f(...))\",\"mean_combine([_, _])\",\"mean_agg([_, _])\",\"subgraph_callable-e65dc938-54bb-4a3e-8c04-cb181640(subgraph_callable-5d102766-9261-4317-aa3f-c1a93c9f(...))\",\"_\",\"mean_combine([_, _])\",\"mean_agg([_, _])\",\"subgraph_callable-e65dc938-54bb-4a3e-8c04-cb181640(subgraph_callable-5d102766-9261-4317-aa3f-c1a93c9f(...))\",\"_\",\"mean_combine([_, _])\",\"mean_agg([_, _])\",\"subgraph_callable-e65dc938-54bb-4a3e-8c04-cb181640(subgraph_callable-5d102766-9261-4317-aa3f-c1a93c9f(...))\",\"_\",\"mean_combine([_, _])\",\"mean_agg([_, _])\",\"subgraph_callable-e65dc938-54bb-4a3e-8c04-cb181640(subgraph_callable-5d102766-9261-4317-aa3f-c1a93c9f(...))\",\"_\",\"mean_combine([_, _])\",\"_\",\"mean_agg([_, _])\",\"mean_combine([_, _])\",\"subgraph_callable-e65dc938-54bb-4a3e-8c04-cb181640(subgraph_callable-5d102766-9261-4317-aa3f-c1a93c9f(...))\",\"mean_agg([_, _])\",\"subgraph_callable-e65dc938-54bb-4a3e-8c04-cb181640(subgraph_callable-5d102766-9261-4317-aa3f-c1a93c9f(...))\",\"_\",\"mean_combine([_, _])\",\"mean_agg([_, _])\",\"subgraph_callable-e65dc938-54bb-4a3e-8c04-cb181640(subgraph_callable-5d102766-9261-4317-aa3f-c1a93c9f(...))\",\"_\",\"mean_combine([_, _])\",\"mean_agg([_, _])\",\"_\",\"subgraph_callable-e65dc938-54bb-4a3e-8c04-cb181640(subgraph_callable-5d102766-9261-4317-aa3f-c1a93c9f(...))\",\"mean_combine([_, _])\",\"mean_agg([_, _])\",\"subgraph_callable-e65dc938-54bb-4a3e-8c04-cb181640(subgraph_callable-5d102766-9261-4317-aa3f-c1a93c9f(...))\",\"_\",\"mean_combine([_, _])\",\"mean_agg([_, _])\",\"subgraph_callable-e65dc938-54bb-4a3e-8c04-cb181640(subgraph_callable-5d102766-9261-4317-aa3f-c1a93c9f(...))\",\"_\",\"mean_combine([_, _])\",\"mean_agg([_, _])\",\"subgraph_callable-e65dc938-54bb-4a3e-8c04-cb181640(subgraph_callable-5d102766-9261-4317-aa3f-c1a93c9f(...))\",\"_\",\"mean_combine([_, _])\",\"mean_agg([_, _])\",\"subgraph_callable-e65dc938-54bb-4a3e-8c04-cb181640(subgraph_callable-5d102766-9261-4317-aa3f-c1a93c9f(...))\",\"_\",\"mean_combine([_, _])\",\"mean_agg([_, _])\",\"subgraph_callable-e65dc938-54bb-4a3e-8c04-cb181640(subgraph_callable-5d102766-9261-4317-aa3f-c1a93c9f(...))\",\"_\",\"mean_combine([_, _])\",\"mean_agg([_, _])\",\"subgraph_callable-e65dc938-54bb-4a3e-8c04-cb181640(subgraph_callable-5d102766-9261-4317-aa3f-c1a93c9f(...))\",\"_\",\"mean_combine([_, _])\",\"mean_agg([_, _])\",\"subgraph_callable-e65dc938-54bb-4a3e-8c04-cb181640(subgraph_callable-5d102766-9261-4317-aa3f-c1a93c9f(...))\",\"_\",\"mean_combine([_, _])\",\"mean_agg([_, _])\",\"subgraph_callable-e65dc938-54bb-4a3e-8c04-cb181640(subgraph_callable-5d102766-9261-4317-aa3f-c1a93c9f(...))\",\"_\",\"mean_combine([_, _])\",\"mean_agg([_, _])\",\"subgraph_callable-e65dc938-54bb-4a3e-8c04-cb181640(subgraph_callable-5d102766-9261-4317-aa3f-c1a93c9f(...))\",\"_\",\"mean_combine([_, _])\",\"mean_agg([_, _])\",\"subgraph_callable-e65dc938-54bb-4a3e-8c04-cb181640(subgraph_callable-5d102766-9261-4317-aa3f-c1a93c9f(...))\",\"_\",\"mean_combine([_, _])\",\"mean_agg([_, _])\",\"subgraph_callable-e65dc938-54bb-4a3e-8c04-cb181640(subgraph_callable-5d102766-9261-4317-aa3f-c1a93c9f(...))\",\"_\",\"mean_combine([_, _])\",\"mean_agg([_, _])\",\"subgraph_callable-e65dc938-54bb-4a3e-8c04-cb181640(subgraph_callable-5d102766-9261-4317-aa3f-c1a93c9f(...))\",\"_\",\"mean_combine([_, _])\",\"mean_agg([_, _])\",\"subgraph_callable-e65dc938-54bb-4a3e-8c04-cb181640(subgraph_callable-5d102766-9261-4317-aa3f-c1a93c9f(...))\",\"_\",\"mean_combine([_, _])\",\"mean_agg([_, _])\",\"subgraph_callable-e65dc938-54bb-4a3e-8c04-cb181640(subgraph_callable-5d102766-9261-4317-aa3f-c1a93c9f(...))\",\"_\",\"mean_combine([_, _])\",\"mean_agg([_, _])\",\"subgraph_callable-e65dc938-54bb-4a3e-8c04-cb181640(subgraph_callable-5d102766-9261-4317-aa3f-c1a93c9f(...))\",\"_\",\"mean_combine([_, _])\",\"mean_agg([_, _])\",\"subgraph_callable-e65dc938-54bb-4a3e-8c04-cb181640(subgraph_callable-5d102766-9261-4317-aa3f-c1a93c9f(...))\",\"_\",\"mean_combine([_, _])\",\"mean_agg([_, _])\",\"subgraph_callable-e65dc938-54bb-4a3e-8c04-cb181640(subgraph_callable-5d102766-9261-4317-aa3f-c1a93c9f(...))\",\"_\",\"mean_combine([_, _])\",\"mean_agg([_, _])\",\"subgraph_callable-e65dc938-54bb-4a3e-8c04-cb181640(subgraph_callable-5d102766-9261-4317-aa3f-c1a93c9f(...))\",\"_\",\"mean_combine([_, _])\",\"mean_agg([_, _])\",\"subgraph_callable-e65dc938-54bb-4a3e-8c04-cb181640(subgraph_callable-5d102766-9261-4317-aa3f-c1a93c9f(...))\",\"_\",\"mean_combine([_, _])\",\"mean_agg([_, _])\",\"subgraph_callable-e65dc938-54bb-4a3e-8c04-cb181640(subgraph_callable-5d102766-9261-4317-aa3f-c1a93c9f(...))\",\"_\",\"mean_combine([_, _])\",\"mean_agg([_, _])\",\"_\",\"mean_combine([_, _])\",\"mean_agg([_, _])\",\"_\",\"mean_combine([_, _])\",\"mean_agg([_, _])\",\"_\",\"mean_combine([_, _])\",\"mean_agg([_, _])\",\"_\",\"mean_combine([_, _])\",\"mean_agg([_, _])\",\"_\",\"mean_combine([_, _])\",\"mean_agg([_, _])\",\"_\",\"mean_combine([_, _])\",\"mean_agg([_, _])\",\"_\",\"mean_combine([_, _])\",\"mean_agg([_, _])\"],\"key\":[\"('from-value-frozen_phonon-concatenate-95b14b8b25115f0578749e85ba237a79', 0)\",\"('from-value-frozen_phonon-concatenate-95b14b8b25115f0578749e85ba237a79', 1)\",\"('from-value-frozen_phonon-concatenate-95b14b8b25115f0578749e85ba237a79', 2)\",\"('from-value-frozen_phonon-concatenate-95b14b8b25115f0578749e85ba237a79', 3)\",\"('concatenate-95b14b8b25115f0578749e85ba237a79', 0)\",\"('concatenate-95b14b8b25115f0578749e85ba237a79', 1)\",\"('concatenate-95b14b8b25115f0578749e85ba237a79', 2)\",\"('concatenate-95b14b8b25115f0578749e85ba237a79', 3)\",\"('diffraction_pattern-integrate_fourier_space-mean_chunk-1193f0ffe65ae8386cca000d7a29bb30', 0, 0, 0)\",\"('diffraction_pattern-integrate_fourier_space-mean_chunk-1193f0ffe65ae8386cca000d7a29bb30', 0, 1, 1)\",\"('diffraction_pattern-integrate_fourier_space-mean_chunk-1193f0ffe65ae8386cca000d7a29bb30', 0, 2, 2)\",\"('diffraction_pattern-integrate_fourier_space-mean_chunk-1193f0ffe65ae8386cca000d7a29bb30', 0, 3, 3)\",\"('diffraction_pattern-integrate_fourier_space-mean_chunk-1193f0ffe65ae8386cca000d7a29bb30', 0, 4, 4)\",\"('diffraction_pattern-integrate_fourier_space-mean_chunk-1193f0ffe65ae8386cca000d7a29bb30', 1, 0, 0)\",\"('diffraction_pattern-integrate_fourier_space-mean_chunk-1193f0ffe65ae8386cca000d7a29bb30', 2, 0, 0)\",\"('diffraction_pattern-integrate_fourier_space-mean_chunk-1193f0ffe65ae8386cca000d7a29bb30', 3, 0, 0)\",\"('mean_chunk-1193f0ffe65ae8386cca000d7a29bb30', 3, 0, 0)\",\"('diffraction_pattern-integrate_fourier_space-mean_chunk-1193f0ffe65ae8386cca000d7a29bb30', 3, 1, 1)\",\"('mean_chunk-1193f0ffe65ae8386cca000d7a29bb30', 0, 2, 2)\",\"('diffraction_pattern-integrate_fourier_space-mean_chunk-1193f0ffe65ae8386cca000d7a29bb30', 3, 2, 2)\",\"('mean_chunk-1193f0ffe65ae8386cca000d7a29bb30', 0, 1, 1)\",\"('mean_chunk-1193f0ffe65ae8386cca000d7a29bb30', 2, 0, 0)\",\"('diffraction_pattern-integrate_fourier_space-mean_chunk-1193f0ffe65ae8386cca000d7a29bb30', 3, 3, 3)\",\"('mean_combine-partial-280dff8b362c82076f06b8b22579650c', 1, 0, 0)\",\"('diffraction_pattern-integrate_fourier_space-mean_chunk-1193f0ffe65ae8386cca000d7a29bb30', 3, 4, 4)\",\"('mean_chunk-1193f0ffe65ae8386cca000d7a29bb30', 0, 4, 4)\",\"('mean_chunk-1193f0ffe65ae8386cca000d7a29bb30', 0, 3, 3)\",\"('diffraction_pattern-integrate_fourier_space-mean_chunk-1193f0ffe65ae8386cca000d7a29bb30', 3, 5, 5)\",\"('mean_chunk-1193f0ffe65ae8386cca000d7a29bb30', 1, 0, 0)\",\"('diffraction_pattern-integrate_fourier_space-mean_chunk-1193f0ffe65ae8386cca000d7a29bb30', 3, 6, 6)\",\"('diffraction_pattern-integrate_fourier_space-mean_chunk-1193f0ffe65ae8386cca000d7a29bb30', 3, 7, 7)\",\"('mean_chunk-1193f0ffe65ae8386cca000d7a29bb30', 0, 0, 0)\",\"('mean_combine-partial-280dff8b362c82076f06b8b22579650c', 0, 0, 0)\",\"('mean_agg-aggregate-1adb8625be758247716746d5fb8d8ac9', 0, 0)\",\"('diffraction_pattern-integrate_fourier_space-mean_chunk-1193f0ffe65ae8386cca000d7a29bb30', 3, 0, 1)\",\"('mean_chunk-1193f0ffe65ae8386cca000d7a29bb30', 3, 7, 7)\",\"('diffraction_pattern-integrate_fourier_space-mean_chunk-1193f0ffe65ae8386cca000d7a29bb30', 3, 0, 2)\",\"('mean_chunk-1193f0ffe65ae8386cca000d7a29bb30', 3, 5, 5)\",\"('diffraction_pattern-integrate_fourier_space-mean_chunk-1193f0ffe65ae8386cca000d7a29bb30', 3, 0, 3)\",\"('mean_chunk-1193f0ffe65ae8386cca000d7a29bb30', 3, 2, 2)\",\"('diffraction_pattern-integrate_fourier_space-mean_chunk-1193f0ffe65ae8386cca000d7a29bb30', 3, 0, 4)\",\"('mean_chunk-1193f0ffe65ae8386cca000d7a29bb30', 3, 1, 1)\",\"('diffraction_pattern-integrate_fourier_space-mean_chunk-1193f0ffe65ae8386cca000d7a29bb30', 3, 0, 5)\",\"('mean_chunk-1193f0ffe65ae8386cca000d7a29bb30', 3, 4, 4)\",\"('mean_chunk-1193f0ffe65ae8386cca000d7a29bb30', 3, 3, 3)\",\"('diffraction_pattern-integrate_fourier_space-mean_chunk-1193f0ffe65ae8386cca000d7a29bb30', 3, 0, 6)\",\"('mean_chunk-1193f0ffe65ae8386cca000d7a29bb30', 3, 6, 6)\",\"('mean_chunk-1193f0ffe65ae8386cca000d7a29bb30', 3, 0, 1)\",\"('diffraction_pattern-integrate_fourier_space-mean_chunk-1193f0ffe65ae8386cca000d7a29bb30', 3, 0, 7)\",\"('diffraction_pattern-integrate_fourier_space-mean_chunk-1193f0ffe65ae8386cca000d7a29bb30', 3, 1, 0)\",\"('diffraction_pattern-integrate_fourier_space-mean_chunk-1193f0ffe65ae8386cca000d7a29bb30', 3, 1, 2)\",\"('mean_chunk-1193f0ffe65ae8386cca000d7a29bb30', 3, 0, 2)\",\"('diffraction_pattern-integrate_fourier_space-mean_chunk-1193f0ffe65ae8386cca000d7a29bb30', 3, 1, 3)\",\"('mean_chunk-1193f0ffe65ae8386cca000d7a29bb30', 3, 0, 7)\",\"('diffraction_pattern-integrate_fourier_space-mean_chunk-1193f0ffe65ae8386cca000d7a29bb30', 3, 1, 4)\",\"('mean_chunk-1193f0ffe65ae8386cca000d7a29bb30', 3, 0, 5)\",\"('diffraction_pattern-integrate_fourier_space-mean_chunk-1193f0ffe65ae8386cca000d7a29bb30', 3, 1, 5)\",\"('mean_chunk-1193f0ffe65ae8386cca000d7a29bb30', 3, 0, 3)\",\"('mean_chunk-1193f0ffe65ae8386cca000d7a29bb30', 3, 1, 0)\",\"('mean_chunk-1193f0ffe65ae8386cca000d7a29bb30', 3, 0, 6)\",\"('mean_chunk-1193f0ffe65ae8386cca000d7a29bb30', 3, 1, 2)\",\"('diffraction_pattern-integrate_fourier_space-mean_chunk-1193f0ffe65ae8386cca000d7a29bb30', 3, 1, 6)\",\"('diffraction_pattern-integrate_fourier_space-mean_chunk-1193f0ffe65ae8386cca000d7a29bb30', 3, 1, 7)\",\"('mean_chunk-1193f0ffe65ae8386cca000d7a29bb30', 3, 0, 4)\",\"('diffraction_pattern-integrate_fourier_space-mean_chunk-1193f0ffe65ae8386cca000d7a29bb30', 3, 2, 0)\",\"('diffraction_pattern-integrate_fourier_space-mean_chunk-1193f0ffe65ae8386cca000d7a29bb30', 3, 2, 1)\",\"('diffraction_pattern-integrate_fourier_space-mean_chunk-1193f0ffe65ae8386cca000d7a29bb30', 3, 2, 3)\",\"('mean_chunk-1193f0ffe65ae8386cca000d7a29bb30', 3, 1, 3)\",\"('diffraction_pattern-integrate_fourier_space-mean_chunk-1193f0ffe65ae8386cca000d7a29bb30', 3, 2, 4)\",\"('mean_chunk-1193f0ffe65ae8386cca000d7a29bb30', 3, 1, 7)\",\"('diffraction_pattern-integrate_fourier_space-mean_chunk-1193f0ffe65ae8386cca000d7a29bb30', 3, 2, 5)\",\"('mean_chunk-1193f0ffe65ae8386cca000d7a29bb30', 3, 1, 4)\",\"('diffraction_pattern-integrate_fourier_space-mean_chunk-1193f0ffe65ae8386cca000d7a29bb30', 3, 2, 6)\",\"('mean_chunk-1193f0ffe65ae8386cca000d7a29bb30', 3, 1, 5)\",\"('diffraction_pattern-integrate_fourier_space-mean_chunk-1193f0ffe65ae8386cca000d7a29bb30', 3, 2, 7)\",\"('mean_chunk-1193f0ffe65ae8386cca000d7a29bb30', 3, 2, 1)\",\"('diffraction_pattern-integrate_fourier_space-mean_chunk-1193f0ffe65ae8386cca000d7a29bb30', 3, 3, 0)\",\"('mean_chunk-1193f0ffe65ae8386cca000d7a29bb30', 3, 1, 6)\",\"('mean_chunk-1193f0ffe65ae8386cca000d7a29bb30', 3, 2, 3)\",\"('diffraction_pattern-integrate_fourier_space-mean_chunk-1193f0ffe65ae8386cca000d7a29bb30', 3, 3, 1)\",\"('diffraction_pattern-integrate_fourier_space-mean_chunk-1193f0ffe65ae8386cca000d7a29bb30', 3, 3, 2)\",\"('mean_chunk-1193f0ffe65ae8386cca000d7a29bb30', 3, 2, 0)\",\"('diffraction_pattern-integrate_fourier_space-mean_chunk-1193f0ffe65ae8386cca000d7a29bb30', 3, 3, 4)\",\"('mean_chunk-1193f0ffe65ae8386cca000d7a29bb30', 3, 2, 4)\",\"('diffraction_pattern-integrate_fourier_space-mean_chunk-1193f0ffe65ae8386cca000d7a29bb30', 3, 3, 5)\",\"('mean_chunk-1193f0ffe65ae8386cca000d7a29bb30', 3, 2, 5)\",\"('diffraction_pattern-integrate_fourier_space-mean_chunk-1193f0ffe65ae8386cca000d7a29bb30', 3, 3, 6)\",\"('mean_chunk-1193f0ffe65ae8386cca000d7a29bb30', 3, 2, 7)\",\"('diffraction_pattern-integrate_fourier_space-mean_chunk-1193f0ffe65ae8386cca000d7a29bb30', 3, 3, 7)\",\"('mean_chunk-1193f0ffe65ae8386cca000d7a29bb30', 3, 2, 6)\",\"('diffraction_pattern-integrate_fourier_space-mean_chunk-1193f0ffe65ae8386cca000d7a29bb30', 3, 4, 0)\",\"('mean_chunk-1193f0ffe65ae8386cca000d7a29bb30', 3, 3, 0)\",\"('diffraction_pattern-integrate_fourier_space-mean_chunk-1193f0ffe65ae8386cca000d7a29bb30', 3, 4, 1)\",\"('mean_chunk-1193f0ffe65ae8386cca000d7a29bb30', 3, 3, 4)\",\"('diffraction_pattern-integrate_fourier_space-mean_chunk-1193f0ffe65ae8386cca000d7a29bb30', 3, 4, 2)\",\"('mean_chunk-1193f0ffe65ae8386cca000d7a29bb30', 3, 3, 2)\",\"('diffraction_pattern-integrate_fourier_space-mean_chunk-1193f0ffe65ae8386cca000d7a29bb30', 3, 4, 3)\",\"('mean_chunk-1193f0ffe65ae8386cca000d7a29bb30', 3, 3, 1)\",\"('diffraction_pattern-integrate_fourier_space-mean_chunk-1193f0ffe65ae8386cca000d7a29bb30', 3, 4, 5)\",\"('mean_chunk-1193f0ffe65ae8386cca000d7a29bb30', 3, 3, 5)\",\"('diffraction_pattern-integrate_fourier_space-mean_chunk-1193f0ffe65ae8386cca000d7a29bb30', 3, 4, 6)\",\"('mean_chunk-1193f0ffe65ae8386cca000d7a29bb30', 3, 3, 7)\",\"('diffraction_pattern-integrate_fourier_space-mean_chunk-1193f0ffe65ae8386cca000d7a29bb30', 3, 4, 7)\",\"('mean_chunk-1193f0ffe65ae8386cca000d7a29bb30', 3, 3, 6)\",\"('diffraction_pattern-integrate_fourier_space-mean_chunk-1193f0ffe65ae8386cca000d7a29bb30', 3, 5, 0)\",\"('mean_chunk-1193f0ffe65ae8386cca000d7a29bb30', 3, 4, 0)\",\"('diffraction_pattern-integrate_fourier_space-mean_chunk-1193f0ffe65ae8386cca000d7a29bb30', 3, 5, 1)\",\"('mean_chunk-1193f0ffe65ae8386cca000d7a29bb30', 3, 4, 1)\",\"('diffraction_pattern-integrate_fourier_space-mean_chunk-1193f0ffe65ae8386cca000d7a29bb30', 3, 5, 2)\",\"('mean_chunk-1193f0ffe65ae8386cca000d7a29bb30', 3, 4, 2)\",\"('diffraction_pattern-integrate_fourier_space-mean_chunk-1193f0ffe65ae8386cca000d7a29bb30', 3, 5, 3)\",\"('mean_chunk-1193f0ffe65ae8386cca000d7a29bb30', 3, 4, 3)\",\"('diffraction_pattern-integrate_fourier_space-mean_chunk-1193f0ffe65ae8386cca000d7a29bb30', 3, 5, 4)\",\"('mean_chunk-1193f0ffe65ae8386cca000d7a29bb30', 3, 4, 5)\",\"('diffraction_pattern-integrate_fourier_space-mean_chunk-1193f0ffe65ae8386cca000d7a29bb30', 3, 5, 6)\",\"('mean_chunk-1193f0ffe65ae8386cca000d7a29bb30', 3, 4, 7)\",\"('diffraction_pattern-integrate_fourier_space-mean_chunk-1193f0ffe65ae8386cca000d7a29bb30', 3, 5, 7)\",\"('mean_chunk-1193f0ffe65ae8386cca000d7a29bb30', 3, 4, 6)\",\"('diffraction_pattern-integrate_fourier_space-mean_chunk-1193f0ffe65ae8386cca000d7a29bb30', 3, 6, 0)\",\"('mean_chunk-1193f0ffe65ae8386cca000d7a29bb30', 3, 5, 0)\",\"('diffraction_pattern-integrate_fourier_space-mean_chunk-1193f0ffe65ae8386cca000d7a29bb30', 3, 6, 1)\",\"('mean_chunk-1193f0ffe65ae8386cca000d7a29bb30', 3, 5, 1)\",\"('diffraction_pattern-integrate_fourier_space-mean_chunk-1193f0ffe65ae8386cca000d7a29bb30', 3, 6, 2)\",\"('mean_chunk-1193f0ffe65ae8386cca000d7a29bb30', 3, 5, 7)\",\"('mean_chunk-1193f0ffe65ae8386cca000d7a29bb30', 3, 5, 2)\",\"('diffraction_pattern-integrate_fourier_space-mean_chunk-1193f0ffe65ae8386cca000d7a29bb30', 3, 6, 3)\",\"('diffraction_pattern-integrate_fourier_space-mean_chunk-1193f0ffe65ae8386cca000d7a29bb30', 3, 6, 4)\",\"('mean_chunk-1193f0ffe65ae8386cca000d7a29bb30', 3, 5, 3)\",\"('diffraction_pattern-integrate_fourier_space-mean_chunk-1193f0ffe65ae8386cca000d7a29bb30', 3, 6, 5)\",\"('mean_chunk-1193f0ffe65ae8386cca000d7a29bb30', 3, 5, 4)\",\"('diffraction_pattern-integrate_fourier_space-mean_chunk-1193f0ffe65ae8386cca000d7a29bb30', 3, 6, 7)\",\"('mean_chunk-1193f0ffe65ae8386cca000d7a29bb30', 3, 5, 6)\",\"('diffraction_pattern-integrate_fourier_space-mean_chunk-1193f0ffe65ae8386cca000d7a29bb30', 3, 7, 0)\",\"('mean_chunk-1193f0ffe65ae8386cca000d7a29bb30', 3, 6, 0)\",\"('diffraction_pattern-integrate_fourier_space-mean_chunk-1193f0ffe65ae8386cca000d7a29bb30', 3, 7, 1)\",\"('mean_chunk-1193f0ffe65ae8386cca000d7a29bb30', 3, 6, 2)\",\"('diffraction_pattern-integrate_fourier_space-mean_chunk-1193f0ffe65ae8386cca000d7a29bb30', 3, 7, 2)\",\"('mean_chunk-1193f0ffe65ae8386cca000d7a29bb30', 3, 6, 1)\",\"('diffraction_pattern-integrate_fourier_space-mean_chunk-1193f0ffe65ae8386cca000d7a29bb30', 3, 7, 3)\",\"('mean_chunk-1193f0ffe65ae8386cca000d7a29bb30', 3, 6, 7)\",\"('diffraction_pattern-integrate_fourier_space-mean_chunk-1193f0ffe65ae8386cca000d7a29bb30', 3, 7, 4)\",\"('mean_chunk-1193f0ffe65ae8386cca000d7a29bb30', 3, 7, 0)\",\"('diffraction_pattern-integrate_fourier_space-mean_chunk-1193f0ffe65ae8386cca000d7a29bb30', 3, 7, 5)\",\"('mean_chunk-1193f0ffe65ae8386cca000d7a29bb30', 3, 6, 3)\",\"('diffraction_pattern-integrate_fourier_space-mean_chunk-1193f0ffe65ae8386cca000d7a29bb30', 3, 7, 6)\",\"('mean_chunk-1193f0ffe65ae8386cca000d7a29bb30', 3, 6, 4)\",\"('diffraction_pattern-integrate_fourier_space-mean_chunk-1193f0ffe65ae8386cca000d7a29bb30', 2, 1, 1)\",\"('mean_chunk-1193f0ffe65ae8386cca000d7a29bb30', 3, 6, 5)\",\"('diffraction_pattern-integrate_fourier_space-mean_chunk-1193f0ffe65ae8386cca000d7a29bb30', 2, 2, 2)\",\"('mean_chunk-1193f0ffe65ae8386cca000d7a29bb30', 3, 7, 1)\",\"('diffraction_pattern-integrate_fourier_space-mean_chunk-1193f0ffe65ae8386cca000d7a29bb30', 2, 3, 3)\",\"('mean_chunk-1193f0ffe65ae8386cca000d7a29bb30', 3, 7, 4)\",\"('diffraction_pattern-integrate_fourier_space-mean_chunk-1193f0ffe65ae8386cca000d7a29bb30', 2, 4, 4)\",\"('mean_chunk-1193f0ffe65ae8386cca000d7a29bb30', 3, 7, 2)\",\"('diffraction_pattern-integrate_fourier_space-mean_chunk-1193f0ffe65ae8386cca000d7a29bb30', 2, 5, 5)\",\"('mean_chunk-1193f0ffe65ae8386cca000d7a29bb30', 3, 7, 3)\",\"('diffraction_pattern-integrate_fourier_space-mean_chunk-1193f0ffe65ae8386cca000d7a29bb30', 2, 6, 6)\",\"('mean_chunk-1193f0ffe65ae8386cca000d7a29bb30', 3, 7, 5)\",\"('diffraction_pattern-integrate_fourier_space-mean_chunk-1193f0ffe65ae8386cca000d7a29bb30', 2, 7, 7)\",\"('mean_chunk-1193f0ffe65ae8386cca000d7a29bb30', 3, 7, 6)\",\"('diffraction_pattern-integrate_fourier_space-mean_chunk-1193f0ffe65ae8386cca000d7a29bb30', 2, 0, 1)\",\"('mean_chunk-1193f0ffe65ae8386cca000d7a29bb30', 2, 1, 1)\",\"('mean_combine-partial-280dff8b362c82076f06b8b22579650c', 1, 1, 1)\",\"('diffraction_pattern-integrate_fourier_space-mean_chunk-1193f0ffe65ae8386cca000d7a29bb30', 2, 0, 2)\",\"('mean_chunk-1193f0ffe65ae8386cca000d7a29bb30', 2, 2, 2)\",\"('mean_combine-partial-280dff8b362c82076f06b8b22579650c', 1, 2, 2)\",\"('diffraction_pattern-integrate_fourier_space-mean_chunk-1193f0ffe65ae8386cca000d7a29bb30', 2, 0, 3)\",\"('mean_chunk-1193f0ffe65ae8386cca000d7a29bb30', 2, 3, 3)\",\"('mean_combine-partial-280dff8b362c82076f06b8b22579650c', 1, 3, 3)\",\"('diffraction_pattern-integrate_fourier_space-mean_chunk-1193f0ffe65ae8386cca000d7a29bb30', 2, 0, 4)\",\"('mean_chunk-1193f0ffe65ae8386cca000d7a29bb30', 2, 7, 7)\",\"('mean_combine-partial-280dff8b362c82076f06b8b22579650c', 1, 7, 7)\",\"('diffraction_pattern-integrate_fourier_space-mean_chunk-1193f0ffe65ae8386cca000d7a29bb30', 2, 0, 5)\",\"('mean_chunk-1193f0ffe65ae8386cca000d7a29bb30', 2, 5, 5)\",\"('mean_combine-partial-280dff8b362c82076f06b8b22579650c', 1, 5, 5)\",\"('diffraction_pattern-integrate_fourier_space-mean_chunk-1193f0ffe65ae8386cca000d7a29bb30', 2, 0, 6)\",\"('mean_chunk-1193f0ffe65ae8386cca000d7a29bb30', 2, 4, 4)\",\"('mean_combine-partial-280dff8b362c82076f06b8b22579650c', 1, 4, 4)\",\"('diffraction_pattern-integrate_fourier_space-mean_chunk-1193f0ffe65ae8386cca000d7a29bb30', 2, 0, 7)\",\"('mean_chunk-1193f0ffe65ae8386cca000d7a29bb30', 2, 6, 6)\",\"('mean_combine-partial-280dff8b362c82076f06b8b22579650c', 1, 6, 6)\",\"('diffraction_pattern-integrate_fourier_space-mean_chunk-1193f0ffe65ae8386cca000d7a29bb30', 2, 1, 0)\",\"('mean_chunk-1193f0ffe65ae8386cca000d7a29bb30', 2, 0, 1)\",\"('mean_combine-partial-280dff8b362c82076f06b8b22579650c', 1, 0, 1)\",\"('diffraction_pattern-integrate_fourier_space-mean_chunk-1193f0ffe65ae8386cca000d7a29bb30', 2, 1, 2)\",\"('mean_chunk-1193f0ffe65ae8386cca000d7a29bb30', 2, 0, 2)\",\"('mean_combine-partial-280dff8b362c82076f06b8b22579650c', 1, 0, 2)\",\"('diffraction_pattern-integrate_fourier_space-mean_chunk-1193f0ffe65ae8386cca000d7a29bb30', 2, 1, 3)\",\"('mean_chunk-1193f0ffe65ae8386cca000d7a29bb30', 2, 0, 3)\",\"('mean_combine-partial-280dff8b362c82076f06b8b22579650c', 1, 0, 3)\",\"('diffraction_pattern-integrate_fourier_space-mean_chunk-1193f0ffe65ae8386cca000d7a29bb30', 2, 1, 4)\",\"('mean_chunk-1193f0ffe65ae8386cca000d7a29bb30', 2, 0, 4)\",\"('mean_combine-partial-280dff8b362c82076f06b8b22579650c', 1, 0, 4)\",\"('diffraction_pattern-integrate_fourier_space-mean_chunk-1193f0ffe65ae8386cca000d7a29bb30', 2, 1, 5)\",\"('mean_chunk-1193f0ffe65ae8386cca000d7a29bb30', 2, 0, 5)\",\"('mean_combine-partial-280dff8b362c82076f06b8b22579650c', 1, 0, 5)\",\"('diffraction_pattern-integrate_fourier_space-mean_chunk-1193f0ffe65ae8386cca000d7a29bb30', 2, 1, 6)\",\"('mean_chunk-1193f0ffe65ae8386cca000d7a29bb30', 2, 0, 7)\",\"('mean_combine-partial-280dff8b362c82076f06b8b22579650c', 1, 0, 7)\",\"('diffraction_pattern-integrate_fourier_space-mean_chunk-1193f0ffe65ae8386cca000d7a29bb30', 2, 1, 7)\",\"('mean_chunk-1193f0ffe65ae8386cca000d7a29bb30', 2, 0, 6)\",\"('mean_combine-partial-280dff8b362c82076f06b8b22579650c', 1, 0, 6)\",\"('diffraction_pattern-integrate_fourier_space-mean_chunk-1193f0ffe65ae8386cca000d7a29bb30', 2, 2, 0)\",\"('mean_chunk-1193f0ffe65ae8386cca000d7a29bb30', 2, 1, 0)\",\"('mean_combine-partial-280dff8b362c82076f06b8b22579650c', 1, 1, 0)\",\"('diffraction_pattern-integrate_fourier_space-mean_chunk-1193f0ffe65ae8386cca000d7a29bb30', 2, 2, 1)\",\"('mean_chunk-1193f0ffe65ae8386cca000d7a29bb30', 2, 1, 2)\",\"('mean_combine-partial-280dff8b362c82076f06b8b22579650c', 1, 1, 2)\",\"('diffraction_pattern-integrate_fourier_space-mean_chunk-1193f0ffe65ae8386cca000d7a29bb30', 2, 2, 3)\",\"('mean_chunk-1193f0ffe65ae8386cca000d7a29bb30', 2, 1, 3)\",\"('mean_combine-partial-280dff8b362c82076f06b8b22579650c', 1, 1, 3)\",\"('diffraction_pattern-integrate_fourier_space-mean_chunk-1193f0ffe65ae8386cca000d7a29bb30', 2, 2, 4)\",\"('mean_chunk-1193f0ffe65ae8386cca000d7a29bb30', 2, 1, 4)\",\"('mean_combine-partial-280dff8b362c82076f06b8b22579650c', 1, 1, 4)\",\"('diffraction_pattern-integrate_fourier_space-mean_chunk-1193f0ffe65ae8386cca000d7a29bb30', 2, 2, 5)\",\"('mean_chunk-1193f0ffe65ae8386cca000d7a29bb30', 2, 1, 5)\",\"('mean_combine-partial-280dff8b362c82076f06b8b22579650c', 1, 1, 5)\",\"('diffraction_pattern-integrate_fourier_space-mean_chunk-1193f0ffe65ae8386cca000d7a29bb30', 2, 2, 6)\",\"('mean_chunk-1193f0ffe65ae8386cca000d7a29bb30', 2, 1, 7)\",\"('mean_combine-partial-280dff8b362c82076f06b8b22579650c', 1, 1, 7)\",\"('diffraction_pattern-integrate_fourier_space-mean_chunk-1193f0ffe65ae8386cca000d7a29bb30', 2, 2, 7)\",\"('mean_chunk-1193f0ffe65ae8386cca000d7a29bb30', 2, 1, 6)\",\"('mean_combine-partial-280dff8b362c82076f06b8b22579650c', 1, 1, 6)\",\"('diffraction_pattern-integrate_fourier_space-mean_chunk-1193f0ffe65ae8386cca000d7a29bb30', 2, 3, 0)\",\"('mean_chunk-1193f0ffe65ae8386cca000d7a29bb30', 2, 2, 0)\",\"('mean_combine-partial-280dff8b362c82076f06b8b22579650c', 1, 2, 0)\",\"('diffraction_pattern-integrate_fourier_space-mean_chunk-1193f0ffe65ae8386cca000d7a29bb30', 2, 3, 1)\",\"('mean_chunk-1193f0ffe65ae8386cca000d7a29bb30', 2, 2, 1)\",\"('mean_combine-partial-280dff8b362c82076f06b8b22579650c', 1, 2, 1)\",\"('diffraction_pattern-integrate_fourier_space-mean_chunk-1193f0ffe65ae8386cca000d7a29bb30', 2, 3, 2)\",\"('mean_chunk-1193f0ffe65ae8386cca000d7a29bb30', 2, 2, 3)\",\"('mean_combine-partial-280dff8b362c82076f06b8b22579650c', 1, 2, 3)\",\"('diffraction_pattern-integrate_fourier_space-mean_chunk-1193f0ffe65ae8386cca000d7a29bb30', 2, 3, 4)\",\"('mean_chunk-1193f0ffe65ae8386cca000d7a29bb30', 2, 2, 7)\",\"('mean_combine-partial-280dff8b362c82076f06b8b22579650c', 1, 2, 7)\",\"('diffraction_pattern-integrate_fourier_space-mean_chunk-1193f0ffe65ae8386cca000d7a29bb30', 2, 3, 5)\",\"('mean_chunk-1193f0ffe65ae8386cca000d7a29bb30', 2, 2, 5)\",\"('mean_combine-partial-280dff8b362c82076f06b8b22579650c', 1, 2, 5)\",\"('diffraction_pattern-integrate_fourier_space-mean_chunk-1193f0ffe65ae8386cca000d7a29bb30', 2, 3, 6)\",\"('mean_chunk-1193f0ffe65ae8386cca000d7a29bb30', 2, 3, 0)\",\"('mean_combine-partial-280dff8b362c82076f06b8b22579650c', 1, 3, 0)\",\"('diffraction_pattern-integrate_fourier_space-mean_chunk-1193f0ffe65ae8386cca000d7a29bb30', 2, 3, 7)\",\"('mean_chunk-1193f0ffe65ae8386cca000d7a29bb30', 2, 2, 6)\",\"('mean_combine-partial-280dff8b362c82076f06b8b22579650c', 1, 2, 6)\",\"('mean_chunk-1193f0ffe65ae8386cca000d7a29bb30', 2, 2, 4)\",\"('diffraction_pattern-integrate_fourier_space-mean_chunk-1193f0ffe65ae8386cca000d7a29bb30', 2, 4, 0)\",\"('mean_combine-partial-280dff8b362c82076f06b8b22579650c', 1, 2, 4)\",\"('diffraction_pattern-integrate_fourier_space-mean_chunk-1193f0ffe65ae8386cca000d7a29bb30', 2, 4, 1)\",\"('mean_chunk-1193f0ffe65ae8386cca000d7a29bb30', 2, 3, 1)\",\"('mean_combine-partial-280dff8b362c82076f06b8b22579650c', 1, 3, 1)\",\"('diffraction_pattern-integrate_fourier_space-mean_chunk-1193f0ffe65ae8386cca000d7a29bb30', 2, 4, 2)\",\"('mean_chunk-1193f0ffe65ae8386cca000d7a29bb30', 2, 3, 2)\",\"('mean_combine-partial-280dff8b362c82076f06b8b22579650c', 1, 3, 2)\",\"('diffraction_pattern-integrate_fourier_space-mean_chunk-1193f0ffe65ae8386cca000d7a29bb30', 2, 4, 3)\",\"('mean_chunk-1193f0ffe65ae8386cca000d7a29bb30', 2, 3, 5)\",\"('mean_combine-partial-280dff8b362c82076f06b8b22579650c', 1, 3, 5)\",\"('diffraction_pattern-integrate_fourier_space-mean_chunk-1193f0ffe65ae8386cca000d7a29bb30', 2, 4, 5)\",\"('mean_chunk-1193f0ffe65ae8386cca000d7a29bb30', 2, 3, 4)\",\"('mean_combine-partial-280dff8b362c82076f06b8b22579650c', 1, 3, 4)\",\"('diffraction_pattern-integrate_fourier_space-mean_chunk-1193f0ffe65ae8386cca000d7a29bb30', 2, 4, 6)\",\"('mean_chunk-1193f0ffe65ae8386cca000d7a29bb30', 2, 3, 7)\",\"('mean_combine-partial-280dff8b362c82076f06b8b22579650c', 1, 3, 7)\",\"('diffraction_pattern-integrate_fourier_space-mean_chunk-1193f0ffe65ae8386cca000d7a29bb30', 2, 4, 7)\",\"('mean_chunk-1193f0ffe65ae8386cca000d7a29bb30', 2, 3, 6)\",\"('mean_combine-partial-280dff8b362c82076f06b8b22579650c', 1, 3, 6)\",\"('diffraction_pattern-integrate_fourier_space-mean_chunk-1193f0ffe65ae8386cca000d7a29bb30', 2, 5, 0)\",\"('mean_chunk-1193f0ffe65ae8386cca000d7a29bb30', 2, 4, 1)\",\"('mean_combine-partial-280dff8b362c82076f06b8b22579650c', 1, 4, 1)\",\"('diffraction_pattern-integrate_fourier_space-mean_chunk-1193f0ffe65ae8386cca000d7a29bb30', 2, 5, 1)\",\"('mean_chunk-1193f0ffe65ae8386cca000d7a29bb30', 2, 4, 0)\",\"('mean_combine-partial-280dff8b362c82076f06b8b22579650c', 1, 4, 0)\",\"('diffraction_pattern-integrate_fourier_space-mean_chunk-1193f0ffe65ae8386cca000d7a29bb30', 2, 5, 2)\",\"('mean_chunk-1193f0ffe65ae8386cca000d7a29bb30', 2, 4, 7)\",\"('mean_combine-partial-280dff8b362c82076f06b8b22579650c', 1, 4, 7)\",\"('diffraction_pattern-integrate_fourier_space-mean_chunk-1193f0ffe65ae8386cca000d7a29bb30', 2, 5, 3)\",\"('mean_chunk-1193f0ffe65ae8386cca000d7a29bb30', 2, 4, 2)\",\"('mean_combine-partial-280dff8b362c82076f06b8b22579650c', 1, 4, 2)\",\"('diffraction_pattern-integrate_fourier_space-mean_chunk-1193f0ffe65ae8386cca000d7a29bb30', 2, 5, 4)\",\"('mean_chunk-1193f0ffe65ae8386cca000d7a29bb30', 2, 4, 3)\",\"('mean_combine-partial-280dff8b362c82076f06b8b22579650c', 1, 4, 3)\",\"('diffraction_pattern-integrate_fourier_space-mean_chunk-1193f0ffe65ae8386cca000d7a29bb30', 2, 5, 6)\",\"('mean_chunk-1193f0ffe65ae8386cca000d7a29bb30', 2, 4, 5)\",\"('mean_combine-partial-280dff8b362c82076f06b8b22579650c', 1, 4, 5)\",\"('mean_chunk-1193f0ffe65ae8386cca000d7a29bb30', 2, 4, 6)\",\"('mean_combine-partial-280dff8b362c82076f06b8b22579650c', 1, 4, 6)\",\"('diffraction_pattern-integrate_fourier_space-mean_chunk-1193f0ffe65ae8386cca000d7a29bb30', 2, 5, 7)\",\"('diffraction_pattern-integrate_fourier_space-mean_chunk-1193f0ffe65ae8386cca000d7a29bb30', 2, 6, 0)\",\"('mean_chunk-1193f0ffe65ae8386cca000d7a29bb30', 2, 5, 0)\",\"('mean_combine-partial-280dff8b362c82076f06b8b22579650c', 1, 5, 0)\",\"('diffraction_pattern-integrate_fourier_space-mean_chunk-1193f0ffe65ae8386cca000d7a29bb30', 2, 6, 1)\",\"('mean_chunk-1193f0ffe65ae8386cca000d7a29bb30', 2, 5, 1)\",\"('mean_combine-partial-280dff8b362c82076f06b8b22579650c', 1, 5, 1)\",\"('diffraction_pattern-integrate_fourier_space-mean_chunk-1193f0ffe65ae8386cca000d7a29bb30', 2, 6, 2)\",\"('mean_chunk-1193f0ffe65ae8386cca000d7a29bb30', 2, 5, 2)\",\"('mean_combine-partial-280dff8b362c82076f06b8b22579650c', 1, 5, 2)\",\"('diffraction_pattern-integrate_fourier_space-mean_chunk-1193f0ffe65ae8386cca000d7a29bb30', 2, 6, 3)\",\"('mean_chunk-1193f0ffe65ae8386cca000d7a29bb30', 2, 5, 7)\",\"('mean_combine-partial-280dff8b362c82076f06b8b22579650c', 1, 5, 7)\",\"('diffraction_pattern-integrate_fourier_space-mean_chunk-1193f0ffe65ae8386cca000d7a29bb30', 2, 6, 4)\",\"('mean_chunk-1193f0ffe65ae8386cca000d7a29bb30', 2, 5, 4)\",\"('mean_combine-partial-280dff8b362c82076f06b8b22579650c', 1, 5, 4)\",\"('diffraction_pattern-integrate_fourier_space-mean_chunk-1193f0ffe65ae8386cca000d7a29bb30', 2, 6, 5)\",\"('mean_chunk-1193f0ffe65ae8386cca000d7a29bb30', 2, 5, 3)\",\"('mean_combine-partial-280dff8b362c82076f06b8b22579650c', 1, 5, 3)\",\"('diffraction_pattern-integrate_fourier_space-mean_chunk-1193f0ffe65ae8386cca000d7a29bb30', 2, 6, 7)\",\"('mean_chunk-1193f0ffe65ae8386cca000d7a29bb30', 2, 5, 6)\",\"('mean_combine-partial-280dff8b362c82076f06b8b22579650c', 1, 5, 6)\",\"('diffraction_pattern-integrate_fourier_space-mean_chunk-1193f0ffe65ae8386cca000d7a29bb30', 2, 7, 0)\",\"('mean_chunk-1193f0ffe65ae8386cca000d7a29bb30', 2, 6, 0)\",\"('mean_combine-partial-280dff8b362c82076f06b8b22579650c', 1, 6, 0)\",\"('diffraction_pattern-integrate_fourier_space-mean_chunk-1193f0ffe65ae8386cca000d7a29bb30', 2, 7, 1)\",\"('mean_chunk-1193f0ffe65ae8386cca000d7a29bb30', 2, 6, 1)\",\"('mean_combine-partial-280dff8b362c82076f06b8b22579650c', 1, 6, 1)\",\"('diffraction_pattern-integrate_fourier_space-mean_chunk-1193f0ffe65ae8386cca000d7a29bb30', 2, 7, 2)\",\"('mean_chunk-1193f0ffe65ae8386cca000d7a29bb30', 2, 6, 2)\",\"('mean_combine-partial-280dff8b362c82076f06b8b22579650c', 1, 6, 2)\",\"('diffraction_pattern-integrate_fourier_space-mean_chunk-1193f0ffe65ae8386cca000d7a29bb30', 2, 7, 3)\",\"('mean_chunk-1193f0ffe65ae8386cca000d7a29bb30', 2, 6, 3)\",\"('mean_combine-partial-280dff8b362c82076f06b8b22579650c', 1, 6, 3)\",\"('diffraction_pattern-integrate_fourier_space-mean_chunk-1193f0ffe65ae8386cca000d7a29bb30', 2, 7, 4)\",\"('mean_chunk-1193f0ffe65ae8386cca000d7a29bb30', 2, 6, 7)\",\"('mean_combine-partial-280dff8b362c82076f06b8b22579650c', 1, 6, 7)\",\"('diffraction_pattern-integrate_fourier_space-mean_chunk-1193f0ffe65ae8386cca000d7a29bb30', 2, 7, 5)\",\"('mean_chunk-1193f0ffe65ae8386cca000d7a29bb30', 2, 7, 0)\",\"('mean_combine-partial-280dff8b362c82076f06b8b22579650c', 1, 7, 0)\",\"('diffraction_pattern-integrate_fourier_space-mean_chunk-1193f0ffe65ae8386cca000d7a29bb30', 2, 7, 6)\",\"('mean_chunk-1193f0ffe65ae8386cca000d7a29bb30', 2, 6, 4)\",\"('mean_combine-partial-280dff8b362c82076f06b8b22579650c', 1, 6, 4)\",\"('diffraction_pattern-integrate_fourier_space-mean_chunk-1193f0ffe65ae8386cca000d7a29bb30', 1, 1, 1)\",\"('mean_chunk-1193f0ffe65ae8386cca000d7a29bb30', 2, 7, 1)\",\"('mean_combine-partial-280dff8b362c82076f06b8b22579650c', 1, 7, 1)\",\"('diffraction_pattern-integrate_fourier_space-mean_chunk-1193f0ffe65ae8386cca000d7a29bb30', 1, 2, 2)\",\"('mean_chunk-1193f0ffe65ae8386cca000d7a29bb30', 2, 6, 5)\",\"('mean_combine-partial-280dff8b362c82076f06b8b22579650c', 1, 6, 5)\",\"('diffraction_pattern-integrate_fourier_space-mean_chunk-1193f0ffe65ae8386cca000d7a29bb30', 1, 3, 3)\",\"('mean_chunk-1193f0ffe65ae8386cca000d7a29bb30', 2, 7, 2)\",\"('mean_combine-partial-280dff8b362c82076f06b8b22579650c', 1, 7, 2)\",\"('diffraction_pattern-integrate_fourier_space-mean_chunk-1193f0ffe65ae8386cca000d7a29bb30', 1, 4, 4)\",\"('mean_chunk-1193f0ffe65ae8386cca000d7a29bb30', 2, 7, 3)\",\"('mean_combine-partial-280dff8b362c82076f06b8b22579650c', 1, 7, 3)\",\"('mean_chunk-1193f0ffe65ae8386cca000d7a29bb30', 2, 7, 4)\",\"('diffraction_pattern-integrate_fourier_space-mean_chunk-1193f0ffe65ae8386cca000d7a29bb30', 1, 5, 5)\",\"('mean_combine-partial-280dff8b362c82076f06b8b22579650c', 1, 7, 4)\",\"('diffraction_pattern-integrate_fourier_space-mean_chunk-1193f0ffe65ae8386cca000d7a29bb30', 1, 6, 6)\",\"('mean_chunk-1193f0ffe65ae8386cca000d7a29bb30', 2, 7, 5)\",\"('mean_combine-partial-280dff8b362c82076f06b8b22579650c', 1, 7, 5)\",\"('diffraction_pattern-integrate_fourier_space-mean_chunk-1193f0ffe65ae8386cca000d7a29bb30', 1, 7, 7)\",\"('mean_chunk-1193f0ffe65ae8386cca000d7a29bb30', 2, 7, 6)\",\"('mean_combine-partial-280dff8b362c82076f06b8b22579650c', 1, 7, 6)\",\"('diffraction_pattern-integrate_fourier_space-mean_chunk-1193f0ffe65ae8386cca000d7a29bb30', 1, 0, 1)\",\"('mean_chunk-1193f0ffe65ae8386cca000d7a29bb30', 1, 1, 1)\",\"('mean_combine-partial-280dff8b362c82076f06b8b22579650c', 0, 1, 1)\",\"('mean_agg-aggregate-1adb8625be758247716746d5fb8d8ac9', 1, 1)\",\"('diffraction_pattern-integrate_fourier_space-mean_chunk-1193f0ffe65ae8386cca000d7a29bb30', 1, 0, 2)\",\"('mean_chunk-1193f0ffe65ae8386cca000d7a29bb30', 1, 2, 2)\",\"('mean_combine-partial-280dff8b362c82076f06b8b22579650c', 0, 2, 2)\",\"('mean_agg-aggregate-1adb8625be758247716746d5fb8d8ac9', 2, 2)\",\"('diffraction_pattern-integrate_fourier_space-mean_chunk-1193f0ffe65ae8386cca000d7a29bb30', 1, 0, 3)\",\"('mean_chunk-1193f0ffe65ae8386cca000d7a29bb30', 1, 3, 3)\",\"('mean_combine-partial-280dff8b362c82076f06b8b22579650c', 0, 3, 3)\",\"('mean_agg-aggregate-1adb8625be758247716746d5fb8d8ac9', 3, 3)\",\"('diffraction_pattern-integrate_fourier_space-mean_chunk-1193f0ffe65ae8386cca000d7a29bb30', 1, 0, 4)\",\"('mean_chunk-1193f0ffe65ae8386cca000d7a29bb30', 1, 7, 7)\",\"('diffraction_pattern-integrate_fourier_space-mean_chunk-1193f0ffe65ae8386cca000d7a29bb30', 1, 0, 5)\",\"('mean_chunk-1193f0ffe65ae8386cca000d7a29bb30', 1, 4, 4)\",\"('mean_combine-partial-280dff8b362c82076f06b8b22579650c', 0, 4, 4)\",\"('mean_agg-aggregate-1adb8625be758247716746d5fb8d8ac9', 4, 4)\",\"('diffraction_pattern-integrate_fourier_space-mean_chunk-1193f0ffe65ae8386cca000d7a29bb30', 1, 0, 6)\",\"('mean_chunk-1193f0ffe65ae8386cca000d7a29bb30', 1, 5, 5)\",\"('diffraction_pattern-integrate_fourier_space-mean_chunk-1193f0ffe65ae8386cca000d7a29bb30', 1, 0, 7)\",\"('mean_chunk-1193f0ffe65ae8386cca000d7a29bb30', 1, 6, 6)\",\"('diffraction_pattern-integrate_fourier_space-mean_chunk-1193f0ffe65ae8386cca000d7a29bb30', 1, 1, 0)\",\"('mean_chunk-1193f0ffe65ae8386cca000d7a29bb30', 1, 0, 1)\",\"('diffraction_pattern-integrate_fourier_space-mean_chunk-1193f0ffe65ae8386cca000d7a29bb30', 1, 1, 2)\",\"('mean_chunk-1193f0ffe65ae8386cca000d7a29bb30', 1, 0, 7)\",\"('diffraction_pattern-integrate_fourier_space-mean_chunk-1193f0ffe65ae8386cca000d7a29bb30', 1, 1, 3)\",\"('mean_chunk-1193f0ffe65ae8386cca000d7a29bb30', 1, 0, 4)\",\"('diffraction_pattern-integrate_fourier_space-mean_chunk-1193f0ffe65ae8386cca000d7a29bb30', 1, 1, 4)\",\"('mean_chunk-1193f0ffe65ae8386cca000d7a29bb30', 1, 0, 2)\",\"('mean_chunk-1193f0ffe65ae8386cca000d7a29bb30', 1, 0, 3)\",\"('diffraction_pattern-integrate_fourier_space-mean_chunk-1193f0ffe65ae8386cca000d7a29bb30', 1, 1, 5)\",\"('diffraction_pattern-integrate_fourier_space-mean_chunk-1193f0ffe65ae8386cca000d7a29bb30', 1, 1, 6)\",\"('mean_chunk-1193f0ffe65ae8386cca000d7a29bb30', 1, 0, 6)\",\"('diffraction_pattern-integrate_fourier_space-mean_chunk-1193f0ffe65ae8386cca000d7a29bb30', 1, 1, 7)\",\"('mean_chunk-1193f0ffe65ae8386cca000d7a29bb30', 1, 0, 5)\",\"('diffraction_pattern-integrate_fourier_space-mean_chunk-1193f0ffe65ae8386cca000d7a29bb30', 1, 2, 0)\",\"('mean_chunk-1193f0ffe65ae8386cca000d7a29bb30', 1, 1, 0)\",\"('diffraction_pattern-integrate_fourier_space-mean_chunk-1193f0ffe65ae8386cca000d7a29bb30', 1, 2, 1)\",\"('mean_chunk-1193f0ffe65ae8386cca000d7a29bb30', 1, 1, 2)\",\"('diffraction_pattern-integrate_fourier_space-mean_chunk-1193f0ffe65ae8386cca000d7a29bb30', 1, 2, 3)\",\"('mean_chunk-1193f0ffe65ae8386cca000d7a29bb30', 1, 1, 7)\",\"('diffraction_pattern-integrate_fourier_space-mean_chunk-1193f0ffe65ae8386cca000d7a29bb30', 1, 2, 4)\",\"('mean_chunk-1193f0ffe65ae8386cca000d7a29bb30', 1, 1, 3)\",\"('diffraction_pattern-integrate_fourier_space-mean_chunk-1193f0ffe65ae8386cca000d7a29bb30', 1, 2, 5)\",\"('mean_chunk-1193f0ffe65ae8386cca000d7a29bb30', 1, 1, 4)\",\"('diffraction_pattern-integrate_fourier_space-mean_chunk-1193f0ffe65ae8386cca000d7a29bb30', 1, 2, 6)\",\"('mean_chunk-1193f0ffe65ae8386cca000d7a29bb30', 1, 1, 5)\",\"('diffraction_pattern-integrate_fourier_space-mean_chunk-1193f0ffe65ae8386cca000d7a29bb30', 1, 2, 7)\",\"('mean_chunk-1193f0ffe65ae8386cca000d7a29bb30', 1, 1, 6)\",\"('diffraction_pattern-integrate_fourier_space-mean_chunk-1193f0ffe65ae8386cca000d7a29bb30', 1, 3, 0)\",\"('mean_chunk-1193f0ffe65ae8386cca000d7a29bb30', 1, 2, 0)\",\"('diffraction_pattern-integrate_fourier_space-mean_chunk-1193f0ffe65ae8386cca000d7a29bb30', 1, 3, 1)\",\"('mean_chunk-1193f0ffe65ae8386cca000d7a29bb30', 1, 2, 1)\",\"('diffraction_pattern-integrate_fourier_space-mean_chunk-1193f0ffe65ae8386cca000d7a29bb30', 1, 3, 2)\",\"('mean_chunk-1193f0ffe65ae8386cca000d7a29bb30', 1, 2, 3)\",\"('diffraction_pattern-integrate_fourier_space-mean_chunk-1193f0ffe65ae8386cca000d7a29bb30', 1, 3, 4)\",\"('mean_chunk-1193f0ffe65ae8386cca000d7a29bb30', 1, 2, 7)\",\"('diffraction_pattern-integrate_fourier_space-mean_chunk-1193f0ffe65ae8386cca000d7a29bb30', 1, 3, 5)\",\"('mean_chunk-1193f0ffe65ae8386cca000d7a29bb30', 1, 2, 4)\",\"('diffraction_pattern-integrate_fourier_space-mean_chunk-1193f0ffe65ae8386cca000d7a29bb30', 1, 3, 6)\",\"('mean_chunk-1193f0ffe65ae8386cca000d7a29bb30', 1, 2, 5)\",\"('diffraction_pattern-integrate_fourier_space-mean_chunk-1193f0ffe65ae8386cca000d7a29bb30', 1, 3, 7)\",\"('mean_chunk-1193f0ffe65ae8386cca000d7a29bb30', 1, 2, 6)\",\"('diffraction_pattern-integrate_fourier_space-mean_chunk-1193f0ffe65ae8386cca000d7a29bb30', 1, 4, 0)\",\"('mean_chunk-1193f0ffe65ae8386cca000d7a29bb30', 1, 3, 0)\",\"('diffraction_pattern-integrate_fourier_space-mean_chunk-1193f0ffe65ae8386cca000d7a29bb30', 1, 4, 1)\",\"('mean_chunk-1193f0ffe65ae8386cca000d7a29bb30', 1, 3, 1)\",\"('diffraction_pattern-integrate_fourier_space-mean_chunk-1193f0ffe65ae8386cca000d7a29bb30', 1, 4, 2)\",\"('mean_chunk-1193f0ffe65ae8386cca000d7a29bb30', 1, 3, 2)\",\"('diffraction_pattern-integrate_fourier_space-mean_chunk-1193f0ffe65ae8386cca000d7a29bb30', 1, 4, 3)\",\"('mean_chunk-1193f0ffe65ae8386cca000d7a29bb30', 1, 3, 4)\",\"('diffraction_pattern-integrate_fourier_space-mean_chunk-1193f0ffe65ae8386cca000d7a29bb30', 1, 4, 5)\",\"('mean_chunk-1193f0ffe65ae8386cca000d7a29bb30', 1, 3, 7)\",\"('diffraction_pattern-integrate_fourier_space-mean_chunk-1193f0ffe65ae8386cca000d7a29bb30', 1, 4, 6)\",\"('mean_chunk-1193f0ffe65ae8386cca000d7a29bb30', 1, 3, 5)\",\"('diffraction_pattern-integrate_fourier_space-mean_chunk-1193f0ffe65ae8386cca000d7a29bb30', 1, 4, 7)\",\"('mean_chunk-1193f0ffe65ae8386cca000d7a29bb30', 1, 3, 6)\",\"('diffraction_pattern-integrate_fourier_space-mean_chunk-1193f0ffe65ae8386cca000d7a29bb30', 1, 5, 0)\",\"('mean_chunk-1193f0ffe65ae8386cca000d7a29bb30', 1, 4, 0)\",\"('diffraction_pattern-integrate_fourier_space-mean_chunk-1193f0ffe65ae8386cca000d7a29bb30', 1, 5, 1)\",\"('mean_chunk-1193f0ffe65ae8386cca000d7a29bb30', 1, 4, 1)\",\"('diffraction_pattern-integrate_fourier_space-mean_chunk-1193f0ffe65ae8386cca000d7a29bb30', 1, 5, 2)\",\"('mean_chunk-1193f0ffe65ae8386cca000d7a29bb30', 1, 4, 2)\",\"('diffraction_pattern-integrate_fourier_space-mean_chunk-1193f0ffe65ae8386cca000d7a29bb30', 1, 5, 3)\",\"('mean_chunk-1193f0ffe65ae8386cca000d7a29bb30', 1, 4, 3)\",\"('diffraction_pattern-integrate_fourier_space-mean_chunk-1193f0ffe65ae8386cca000d7a29bb30', 1, 5, 4)\",\"('mean_chunk-1193f0ffe65ae8386cca000d7a29bb30', 1, 4, 7)\",\"('diffraction_pattern-integrate_fourier_space-mean_chunk-1193f0ffe65ae8386cca000d7a29bb30', 1, 5, 6)\",\"('mean_chunk-1193f0ffe65ae8386cca000d7a29bb30', 1, 4, 5)\",\"('diffraction_pattern-integrate_fourier_space-mean_chunk-1193f0ffe65ae8386cca000d7a29bb30', 1, 5, 7)\",\"('mean_chunk-1193f0ffe65ae8386cca000d7a29bb30', 1, 4, 6)\",\"('diffraction_pattern-integrate_fourier_space-mean_chunk-1193f0ffe65ae8386cca000d7a29bb30', 1, 6, 0)\",\"('mean_chunk-1193f0ffe65ae8386cca000d7a29bb30', 1, 5, 0)\",\"('diffraction_pattern-integrate_fourier_space-mean_chunk-1193f0ffe65ae8386cca000d7a29bb30', 1, 6, 1)\",\"('mean_chunk-1193f0ffe65ae8386cca000d7a29bb30', 1, 5, 1)\",\"('diffraction_pattern-integrate_fourier_space-mean_chunk-1193f0ffe65ae8386cca000d7a29bb30', 1, 6, 2)\",\"('mean_chunk-1193f0ffe65ae8386cca000d7a29bb30', 1, 5, 3)\",\"('mean_chunk-1193f0ffe65ae8386cca000d7a29bb30', 1, 5, 2)\",\"('diffraction_pattern-integrate_fourier_space-mean_chunk-1193f0ffe65ae8386cca000d7a29bb30', 1, 6, 3)\",\"('diffraction_pattern-integrate_fourier_space-mean_chunk-1193f0ffe65ae8386cca000d7a29bb30', 1, 6, 4)\",\"('mean_chunk-1193f0ffe65ae8386cca000d7a29bb30', 1, 5, 4)\",\"('diffraction_pattern-integrate_fourier_space-mean_chunk-1193f0ffe65ae8386cca000d7a29bb30', 1, 6, 5)\",\"('mean_chunk-1193f0ffe65ae8386cca000d7a29bb30', 1, 5, 7)\",\"('diffraction_pattern-integrate_fourier_space-mean_chunk-1193f0ffe65ae8386cca000d7a29bb30', 1, 6, 7)\",\"('mean_chunk-1193f0ffe65ae8386cca000d7a29bb30', 1, 5, 6)\",\"('diffraction_pattern-integrate_fourier_space-mean_chunk-1193f0ffe65ae8386cca000d7a29bb30', 1, 7, 0)\",\"('mean_chunk-1193f0ffe65ae8386cca000d7a29bb30', 1, 6, 0)\",\"('diffraction_pattern-integrate_fourier_space-mean_chunk-1193f0ffe65ae8386cca000d7a29bb30', 1, 7, 1)\",\"('mean_chunk-1193f0ffe65ae8386cca000d7a29bb30', 1, 6, 2)\",\"('diffraction_pattern-integrate_fourier_space-mean_chunk-1193f0ffe65ae8386cca000d7a29bb30', 1, 7, 2)\",\"('mean_chunk-1193f0ffe65ae8386cca000d7a29bb30', 1, 6, 1)\",\"('diffraction_pattern-integrate_fourier_space-mean_chunk-1193f0ffe65ae8386cca000d7a29bb30', 1, 7, 3)\",\"('mean_chunk-1193f0ffe65ae8386cca000d7a29bb30', 1, 6, 7)\",\"('diffraction_pattern-integrate_fourier_space-mean_chunk-1193f0ffe65ae8386cca000d7a29bb30', 1, 7, 4)\",\"('mean_chunk-1193f0ffe65ae8386cca000d7a29bb30', 1, 6, 3)\",\"('diffraction_pattern-integrate_fourier_space-mean_chunk-1193f0ffe65ae8386cca000d7a29bb30', 1, 7, 5)\",\"('mean_chunk-1193f0ffe65ae8386cca000d7a29bb30', 1, 6, 4)\",\"('diffraction_pattern-integrate_fourier_space-mean_chunk-1193f0ffe65ae8386cca000d7a29bb30', 1, 7, 6)\",\"('mean_chunk-1193f0ffe65ae8386cca000d7a29bb30', 1, 6, 5)\",\"('diffraction_pattern-integrate_fourier_space-mean_chunk-1193f0ffe65ae8386cca000d7a29bb30', 0, 5, 5)\",\"('mean_chunk-1193f0ffe65ae8386cca000d7a29bb30', 1, 7, 0)\",\"('diffraction_pattern-integrate_fourier_space-mean_chunk-1193f0ffe65ae8386cca000d7a29bb30', 0, 6, 6)\",\"('mean_chunk-1193f0ffe65ae8386cca000d7a29bb30', 1, 7, 1)\",\"('diffraction_pattern-integrate_fourier_space-mean_chunk-1193f0ffe65ae8386cca000d7a29bb30', 0, 7, 7)\",\"('mean_chunk-1193f0ffe65ae8386cca000d7a29bb30', 1, 7, 2)\",\"('diffraction_pattern-integrate_fourier_space-mean_chunk-1193f0ffe65ae8386cca000d7a29bb30', 0, 0, 1)\",\"('mean_chunk-1193f0ffe65ae8386cca000d7a29bb30', 1, 7, 3)\",\"('diffraction_pattern-integrate_fourier_space-mean_chunk-1193f0ffe65ae8386cca000d7a29bb30', 0, 0, 2)\",\"('mean_chunk-1193f0ffe65ae8386cca000d7a29bb30', 1, 7, 4)\",\"('diffraction_pattern-integrate_fourier_space-mean_chunk-1193f0ffe65ae8386cca000d7a29bb30', 0, 0, 3)\",\"('mean_chunk-1193f0ffe65ae8386cca000d7a29bb30', 1, 7, 5)\",\"('diffraction_pattern-integrate_fourier_space-mean_chunk-1193f0ffe65ae8386cca000d7a29bb30', 0, 0, 4)\",\"('mean_chunk-1193f0ffe65ae8386cca000d7a29bb30', 1, 7, 6)\",\"('diffraction_pattern-integrate_fourier_space-mean_chunk-1193f0ffe65ae8386cca000d7a29bb30', 0, 0, 5)\",\"('mean_chunk-1193f0ffe65ae8386cca000d7a29bb30', 0, 7, 7)\",\"('mean_combine-partial-280dff8b362c82076f06b8b22579650c', 0, 7, 7)\",\"('mean_agg-aggregate-1adb8625be758247716746d5fb8d8ac9', 7, 7)\",\"('diffraction_pattern-integrate_fourier_space-mean_chunk-1193f0ffe65ae8386cca000d7a29bb30', 0, 0, 6)\",\"('mean_chunk-1193f0ffe65ae8386cca000d7a29bb30', 0, 5, 5)\",\"('mean_combine-partial-280dff8b362c82076f06b8b22579650c', 0, 5, 5)\",\"('mean_agg-aggregate-1adb8625be758247716746d5fb8d8ac9', 5, 5)\",\"('diffraction_pattern-integrate_fourier_space-mean_chunk-1193f0ffe65ae8386cca000d7a29bb30', 0, 0, 7)\",\"('mean_chunk-1193f0ffe65ae8386cca000d7a29bb30', 0, 6, 6)\",\"('mean_combine-partial-280dff8b362c82076f06b8b22579650c', 0, 6, 6)\",\"('mean_agg-aggregate-1adb8625be758247716746d5fb8d8ac9', 6, 6)\",\"('diffraction_pattern-integrate_fourier_space-mean_chunk-1193f0ffe65ae8386cca000d7a29bb30', 0, 1, 0)\",\"('mean_chunk-1193f0ffe65ae8386cca000d7a29bb30', 0, 0, 2)\",\"('mean_combine-partial-280dff8b362c82076f06b8b22579650c', 0, 0, 2)\",\"('mean_agg-aggregate-1adb8625be758247716746d5fb8d8ac9', 0, 2)\",\"('diffraction_pattern-integrate_fourier_space-mean_chunk-1193f0ffe65ae8386cca000d7a29bb30', 0, 1, 2)\",\"('mean_chunk-1193f0ffe65ae8386cca000d7a29bb30', 0, 0, 1)\",\"('mean_combine-partial-280dff8b362c82076f06b8b22579650c', 0, 0, 1)\",\"('mean_agg-aggregate-1adb8625be758247716746d5fb8d8ac9', 0, 1)\",\"('diffraction_pattern-integrate_fourier_space-mean_chunk-1193f0ffe65ae8386cca000d7a29bb30', 0, 1, 3)\",\"('mean_chunk-1193f0ffe65ae8386cca000d7a29bb30', 0, 0, 4)\",\"('mean_combine-partial-280dff8b362c82076f06b8b22579650c', 0, 0, 4)\",\"('mean_agg-aggregate-1adb8625be758247716746d5fb8d8ac9', 0, 4)\",\"('diffraction_pattern-integrate_fourier_space-mean_chunk-1193f0ffe65ae8386cca000d7a29bb30', 0, 1, 4)\",\"('mean_chunk-1193f0ffe65ae8386cca000d7a29bb30', 0, 0, 3)\",\"('mean_combine-partial-280dff8b362c82076f06b8b22579650c', 0, 0, 3)\",\"('mean_chunk-1193f0ffe65ae8386cca000d7a29bb30', 0, 0, 5)\",\"('mean_agg-aggregate-1adb8625be758247716746d5fb8d8ac9', 0, 3)\",\"('mean_combine-partial-280dff8b362c82076f06b8b22579650c', 0, 0, 5)\",\"('diffraction_pattern-integrate_fourier_space-mean_chunk-1193f0ffe65ae8386cca000d7a29bb30', 0, 1, 5)\",\"('mean_agg-aggregate-1adb8625be758247716746d5fb8d8ac9', 0, 5)\",\"('diffraction_pattern-integrate_fourier_space-mean_chunk-1193f0ffe65ae8386cca000d7a29bb30', 0, 1, 6)\",\"('mean_chunk-1193f0ffe65ae8386cca000d7a29bb30', 0, 0, 6)\",\"('mean_combine-partial-280dff8b362c82076f06b8b22579650c', 0, 0, 6)\",\"('mean_agg-aggregate-1adb8625be758247716746d5fb8d8ac9', 0, 6)\",\"('diffraction_pattern-integrate_fourier_space-mean_chunk-1193f0ffe65ae8386cca000d7a29bb30', 0, 1, 7)\",\"('mean_chunk-1193f0ffe65ae8386cca000d7a29bb30', 0, 0, 7)\",\"('mean_combine-partial-280dff8b362c82076f06b8b22579650c', 0, 0, 7)\",\"('mean_agg-aggregate-1adb8625be758247716746d5fb8d8ac9', 0, 7)\",\"('diffraction_pattern-integrate_fourier_space-mean_chunk-1193f0ffe65ae8386cca000d7a29bb30', 0, 2, 0)\",\"('mean_chunk-1193f0ffe65ae8386cca000d7a29bb30', 0, 1, 0)\",\"('mean_combine-partial-280dff8b362c82076f06b8b22579650c', 0, 1, 0)\",\"('mean_agg-aggregate-1adb8625be758247716746d5fb8d8ac9', 1, 0)\",\"('diffraction_pattern-integrate_fourier_space-mean_chunk-1193f0ffe65ae8386cca000d7a29bb30', 0, 2, 1)\",\"('mean_chunk-1193f0ffe65ae8386cca000d7a29bb30', 0, 1, 2)\",\"('mean_combine-partial-280dff8b362c82076f06b8b22579650c', 0, 1, 2)\",\"('mean_agg-aggregate-1adb8625be758247716746d5fb8d8ac9', 1, 2)\",\"('diffraction_pattern-integrate_fourier_space-mean_chunk-1193f0ffe65ae8386cca000d7a29bb30', 0, 2, 3)\",\"('mean_chunk-1193f0ffe65ae8386cca000d7a29bb30', 0, 1, 3)\",\"('mean_combine-partial-280dff8b362c82076f06b8b22579650c', 0, 1, 3)\",\"('mean_agg-aggregate-1adb8625be758247716746d5fb8d8ac9', 1, 3)\",\"('diffraction_pattern-integrate_fourier_space-mean_chunk-1193f0ffe65ae8386cca000d7a29bb30', 0, 2, 4)\",\"('mean_chunk-1193f0ffe65ae8386cca000d7a29bb30', 0, 1, 4)\",\"('mean_combine-partial-280dff8b362c82076f06b8b22579650c', 0, 1, 4)\",\"('mean_agg-aggregate-1adb8625be758247716746d5fb8d8ac9', 1, 4)\",\"('diffraction_pattern-integrate_fourier_space-mean_chunk-1193f0ffe65ae8386cca000d7a29bb30', 0, 2, 5)\",\"('mean_chunk-1193f0ffe65ae8386cca000d7a29bb30', 0, 1, 7)\",\"('mean_combine-partial-280dff8b362c82076f06b8b22579650c', 0, 1, 7)\",\"('mean_agg-aggregate-1adb8625be758247716746d5fb8d8ac9', 1, 7)\",\"('diffraction_pattern-integrate_fourier_space-mean_chunk-1193f0ffe65ae8386cca000d7a29bb30', 0, 2, 6)\",\"('mean_chunk-1193f0ffe65ae8386cca000d7a29bb30', 0, 1, 5)\",\"('mean_combine-partial-280dff8b362c82076f06b8b22579650c', 0, 1, 5)\",\"('mean_agg-aggregate-1adb8625be758247716746d5fb8d8ac9', 1, 5)\",\"('diffraction_pattern-integrate_fourier_space-mean_chunk-1193f0ffe65ae8386cca000d7a29bb30', 0, 2, 7)\",\"('mean_chunk-1193f0ffe65ae8386cca000d7a29bb30', 0, 1, 6)\",\"('mean_combine-partial-280dff8b362c82076f06b8b22579650c', 0, 1, 6)\",\"('mean_agg-aggregate-1adb8625be758247716746d5fb8d8ac9', 1, 6)\",\"('diffraction_pattern-integrate_fourier_space-mean_chunk-1193f0ffe65ae8386cca000d7a29bb30', 0, 3, 0)\",\"('mean_chunk-1193f0ffe65ae8386cca000d7a29bb30', 0, 2, 0)\",\"('mean_combine-partial-280dff8b362c82076f06b8b22579650c', 0, 2, 0)\",\"('mean_agg-aggregate-1adb8625be758247716746d5fb8d8ac9', 2, 0)\",\"('diffraction_pattern-integrate_fourier_space-mean_chunk-1193f0ffe65ae8386cca000d7a29bb30', 0, 3, 1)\",\"('mean_chunk-1193f0ffe65ae8386cca000d7a29bb30', 0, 2, 1)\",\"('mean_combine-partial-280dff8b362c82076f06b8b22579650c', 0, 2, 1)\",\"('mean_agg-aggregate-1adb8625be758247716746d5fb8d8ac9', 2, 1)\",\"('diffraction_pattern-integrate_fourier_space-mean_chunk-1193f0ffe65ae8386cca000d7a29bb30', 0, 3, 2)\",\"('mean_chunk-1193f0ffe65ae8386cca000d7a29bb30', 0, 2, 7)\",\"('mean_combine-partial-280dff8b362c82076f06b8b22579650c', 0, 2, 7)\",\"('mean_agg-aggregate-1adb8625be758247716746d5fb8d8ac9', 2, 7)\",\"('diffraction_pattern-integrate_fourier_space-mean_chunk-1193f0ffe65ae8386cca000d7a29bb30', 0, 3, 4)\",\"('mean_chunk-1193f0ffe65ae8386cca000d7a29bb30', 0, 2, 3)\",\"('mean_combine-partial-280dff8b362c82076f06b8b22579650c', 0, 2, 3)\",\"('mean_agg-aggregate-1adb8625be758247716746d5fb8d8ac9', 2, 3)\",\"('diffraction_pattern-integrate_fourier_space-mean_chunk-1193f0ffe65ae8386cca000d7a29bb30', 0, 3, 5)\",\"('mean_chunk-1193f0ffe65ae8386cca000d7a29bb30', 0, 2, 4)\",\"('mean_combine-partial-280dff8b362c82076f06b8b22579650c', 0, 2, 4)\",\"('mean_agg-aggregate-1adb8625be758247716746d5fb8d8ac9', 2, 4)\",\"('diffraction_pattern-integrate_fourier_space-mean_chunk-1193f0ffe65ae8386cca000d7a29bb30', 0, 3, 6)\",\"('mean_chunk-1193f0ffe65ae8386cca000d7a29bb30', 0, 2, 5)\",\"('mean_combine-partial-280dff8b362c82076f06b8b22579650c', 0, 2, 5)\",\"('mean_agg-aggregate-1adb8625be758247716746d5fb8d8ac9', 2, 5)\",\"('mean_chunk-1193f0ffe65ae8386cca000d7a29bb30', 0, 2, 6)\",\"('diffraction_pattern-integrate_fourier_space-mean_chunk-1193f0ffe65ae8386cca000d7a29bb30', 0, 3, 7)\",\"('mean_combine-partial-280dff8b362c82076f06b8b22579650c', 0, 2, 6)\",\"('mean_agg-aggregate-1adb8625be758247716746d5fb8d8ac9', 2, 6)\",\"('diffraction_pattern-integrate_fourier_space-mean_chunk-1193f0ffe65ae8386cca000d7a29bb30', 0, 4, 0)\",\"('mean_chunk-1193f0ffe65ae8386cca000d7a29bb30', 0, 3, 0)\",\"('mean_combine-partial-280dff8b362c82076f06b8b22579650c', 0, 3, 0)\",\"('mean_agg-aggregate-1adb8625be758247716746d5fb8d8ac9', 3, 0)\",\"('diffraction_pattern-integrate_fourier_space-mean_chunk-1193f0ffe65ae8386cca000d7a29bb30', 0, 4, 1)\",\"('mean_chunk-1193f0ffe65ae8386cca000d7a29bb30', 0, 3, 1)\",\"('mean_combine-partial-280dff8b362c82076f06b8b22579650c', 0, 3, 1)\",\"('mean_agg-aggregate-1adb8625be758247716746d5fb8d8ac9', 3, 1)\",\"('diffraction_pattern-integrate_fourier_space-mean_chunk-1193f0ffe65ae8386cca000d7a29bb30', 0, 4, 2)\",\"('mean_chunk-1193f0ffe65ae8386cca000d7a29bb30', 0, 3, 2)\",\"('mean_combine-partial-280dff8b362c82076f06b8b22579650c', 0, 3, 2)\",\"('mean_agg-aggregate-1adb8625be758247716746d5fb8d8ac9', 3, 2)\",\"('diffraction_pattern-integrate_fourier_space-mean_chunk-1193f0ffe65ae8386cca000d7a29bb30', 0, 4, 3)\",\"('mean_chunk-1193f0ffe65ae8386cca000d7a29bb30', 0, 3, 4)\",\"('mean_combine-partial-280dff8b362c82076f06b8b22579650c', 0, 3, 4)\",\"('mean_chunk-1193f0ffe65ae8386cca000d7a29bb30', 0, 3, 7)\",\"('mean_agg-aggregate-1adb8625be758247716746d5fb8d8ac9', 3, 4)\",\"('mean_combine-partial-280dff8b362c82076f06b8b22579650c', 0, 3, 7)\",\"('diffraction_pattern-integrate_fourier_space-mean_chunk-1193f0ffe65ae8386cca000d7a29bb30', 0, 4, 5)\",\"('mean_agg-aggregate-1adb8625be758247716746d5fb8d8ac9', 3, 7)\",\"('diffraction_pattern-integrate_fourier_space-mean_chunk-1193f0ffe65ae8386cca000d7a29bb30', 0, 4, 6)\",\"('mean_chunk-1193f0ffe65ae8386cca000d7a29bb30', 0, 3, 5)\",\"('mean_combine-partial-280dff8b362c82076f06b8b22579650c', 0, 3, 5)\",\"('mean_agg-aggregate-1adb8625be758247716746d5fb8d8ac9', 3, 5)\",\"('diffraction_pattern-integrate_fourier_space-mean_chunk-1193f0ffe65ae8386cca000d7a29bb30', 0, 4, 7)\",\"('mean_chunk-1193f0ffe65ae8386cca000d7a29bb30', 0, 4, 0)\",\"('mean_combine-partial-280dff8b362c82076f06b8b22579650c', 0, 4, 0)\",\"('mean_agg-aggregate-1adb8625be758247716746d5fb8d8ac9', 4, 0)\",\"('mean_chunk-1193f0ffe65ae8386cca000d7a29bb30', 0, 3, 6)\",\"('diffraction_pattern-integrate_fourier_space-mean_chunk-1193f0ffe65ae8386cca000d7a29bb30', 0, 5, 0)\",\"('mean_combine-partial-280dff8b362c82076f06b8b22579650c', 0, 3, 6)\",\"('mean_agg-aggregate-1adb8625be758247716746d5fb8d8ac9', 3, 6)\",\"('diffraction_pattern-integrate_fourier_space-mean_chunk-1193f0ffe65ae8386cca000d7a29bb30', 0, 5, 1)\",\"('mean_chunk-1193f0ffe65ae8386cca000d7a29bb30', 0, 4, 1)\",\"('mean_combine-partial-280dff8b362c82076f06b8b22579650c', 0, 4, 1)\",\"('mean_agg-aggregate-1adb8625be758247716746d5fb8d8ac9', 4, 1)\",\"('diffraction_pattern-integrate_fourier_space-mean_chunk-1193f0ffe65ae8386cca000d7a29bb30', 0, 5, 2)\",\"('mean_chunk-1193f0ffe65ae8386cca000d7a29bb30', 0, 4, 2)\",\"('mean_combine-partial-280dff8b362c82076f06b8b22579650c', 0, 4, 2)\",\"('mean_agg-aggregate-1adb8625be758247716746d5fb8d8ac9', 4, 2)\",\"('diffraction_pattern-integrate_fourier_space-mean_chunk-1193f0ffe65ae8386cca000d7a29bb30', 0, 5, 3)\",\"('mean_chunk-1193f0ffe65ae8386cca000d7a29bb30', 0, 4, 7)\",\"('mean_combine-partial-280dff8b362c82076f06b8b22579650c', 0, 4, 7)\",\"('mean_agg-aggregate-1adb8625be758247716746d5fb8d8ac9', 4, 7)\",\"('diffraction_pattern-integrate_fourier_space-mean_chunk-1193f0ffe65ae8386cca000d7a29bb30', 0, 5, 4)\",\"('mean_chunk-1193f0ffe65ae8386cca000d7a29bb30', 0, 4, 3)\",\"('mean_combine-partial-280dff8b362c82076f06b8b22579650c', 0, 4, 3)\",\"('mean_agg-aggregate-1adb8625be758247716746d5fb8d8ac9', 4, 3)\",\"('diffraction_pattern-integrate_fourier_space-mean_chunk-1193f0ffe65ae8386cca000d7a29bb30', 0, 5, 6)\",\"('mean_chunk-1193f0ffe65ae8386cca000d7a29bb30', 0, 4, 6)\",\"('mean_combine-partial-280dff8b362c82076f06b8b22579650c', 0, 4, 6)\",\"('mean_agg-aggregate-1adb8625be758247716746d5fb8d8ac9', 4, 6)\",\"('diffraction_pattern-integrate_fourier_space-mean_chunk-1193f0ffe65ae8386cca000d7a29bb30', 0, 5, 7)\",\"('mean_chunk-1193f0ffe65ae8386cca000d7a29bb30', 0, 4, 5)\",\"('mean_combine-partial-280dff8b362c82076f06b8b22579650c', 0, 4, 5)\",\"('mean_agg-aggregate-1adb8625be758247716746d5fb8d8ac9', 4, 5)\",\"('diffraction_pattern-integrate_fourier_space-mean_chunk-1193f0ffe65ae8386cca000d7a29bb30', 0, 6, 0)\",\"('mean_chunk-1193f0ffe65ae8386cca000d7a29bb30', 0, 5, 1)\",\"('mean_combine-partial-280dff8b362c82076f06b8b22579650c', 0, 5, 1)\",\"('mean_agg-aggregate-1adb8625be758247716746d5fb8d8ac9', 5, 1)\",\"('diffraction_pattern-integrate_fourier_space-mean_chunk-1193f0ffe65ae8386cca000d7a29bb30', 0, 6, 1)\",\"('mean_chunk-1193f0ffe65ae8386cca000d7a29bb30', 0, 5, 0)\",\"('mean_combine-partial-280dff8b362c82076f06b8b22579650c', 0, 5, 0)\",\"('mean_agg-aggregate-1adb8625be758247716746d5fb8d8ac9', 5, 0)\",\"('diffraction_pattern-integrate_fourier_space-mean_chunk-1193f0ffe65ae8386cca000d7a29bb30', 0, 6, 2)\",\"('mean_chunk-1193f0ffe65ae8386cca000d7a29bb30', 0, 5, 2)\",\"('mean_combine-partial-280dff8b362c82076f06b8b22579650c', 0, 5, 2)\",\"('mean_agg-aggregate-1adb8625be758247716746d5fb8d8ac9', 5, 2)\",\"('diffraction_pattern-integrate_fourier_space-mean_chunk-1193f0ffe65ae8386cca000d7a29bb30', 0, 6, 3)\",\"('mean_chunk-1193f0ffe65ae8386cca000d7a29bb30', 0, 5, 3)\",\"('mean_combine-partial-280dff8b362c82076f06b8b22579650c', 0, 5, 3)\",\"('mean_agg-aggregate-1adb8625be758247716746d5fb8d8ac9', 5, 3)\",\"('diffraction_pattern-integrate_fourier_space-mean_chunk-1193f0ffe65ae8386cca000d7a29bb30', 0, 6, 4)\",\"('mean_chunk-1193f0ffe65ae8386cca000d7a29bb30', 0, 5, 7)\",\"('mean_combine-partial-280dff8b362c82076f06b8b22579650c', 0, 5, 7)\",\"('mean_agg-aggregate-1adb8625be758247716746d5fb8d8ac9', 5, 7)\",\"('diffraction_pattern-integrate_fourier_space-mean_chunk-1193f0ffe65ae8386cca000d7a29bb30', 0, 6, 5)\",\"('mean_chunk-1193f0ffe65ae8386cca000d7a29bb30', 0, 5, 4)\",\"('mean_combine-partial-280dff8b362c82076f06b8b22579650c', 0, 5, 4)\",\"('mean_agg-aggregate-1adb8625be758247716746d5fb8d8ac9', 5, 4)\",\"('diffraction_pattern-integrate_fourier_space-mean_chunk-1193f0ffe65ae8386cca000d7a29bb30', 0, 6, 7)\",\"('mean_chunk-1193f0ffe65ae8386cca000d7a29bb30', 0, 5, 6)\",\"('mean_combine-partial-280dff8b362c82076f06b8b22579650c', 0, 5, 6)\",\"('mean_agg-aggregate-1adb8625be758247716746d5fb8d8ac9', 5, 6)\",\"('diffraction_pattern-integrate_fourier_space-mean_chunk-1193f0ffe65ae8386cca000d7a29bb30', 0, 7, 0)\",\"('mean_chunk-1193f0ffe65ae8386cca000d7a29bb30', 0, 6, 0)\",\"('mean_combine-partial-280dff8b362c82076f06b8b22579650c', 0, 6, 0)\",\"('mean_agg-aggregate-1adb8625be758247716746d5fb8d8ac9', 6, 0)\",\"('diffraction_pattern-integrate_fourier_space-mean_chunk-1193f0ffe65ae8386cca000d7a29bb30', 0, 7, 1)\",\"('mean_chunk-1193f0ffe65ae8386cca000d7a29bb30', 0, 6, 1)\",\"('mean_combine-partial-280dff8b362c82076f06b8b22579650c', 0, 6, 1)\",\"('mean_agg-aggregate-1adb8625be758247716746d5fb8d8ac9', 6, 1)\",\"('diffraction_pattern-integrate_fourier_space-mean_chunk-1193f0ffe65ae8386cca000d7a29bb30', 0, 7, 2)\",\"('mean_chunk-1193f0ffe65ae8386cca000d7a29bb30', 0, 6, 2)\",\"('mean_combine-partial-280dff8b362c82076f06b8b22579650c', 0, 6, 2)\",\"('mean_agg-aggregate-1adb8625be758247716746d5fb8d8ac9', 6, 2)\",\"('diffraction_pattern-integrate_fourier_space-mean_chunk-1193f0ffe65ae8386cca000d7a29bb30', 0, 7, 3)\",\"('mean_chunk-1193f0ffe65ae8386cca000d7a29bb30', 0, 6, 3)\",\"('mean_combine-partial-280dff8b362c82076f06b8b22579650c', 0, 6, 3)\",\"('mean_agg-aggregate-1adb8625be758247716746d5fb8d8ac9', 6, 3)\",\"('diffraction_pattern-integrate_fourier_space-mean_chunk-1193f0ffe65ae8386cca000d7a29bb30', 0, 7, 4)\",\"('mean_chunk-1193f0ffe65ae8386cca000d7a29bb30', 0, 6, 4)\",\"('mean_combine-partial-280dff8b362c82076f06b8b22579650c', 0, 6, 4)\",\"('mean_agg-aggregate-1adb8625be758247716746d5fb8d8ac9', 6, 4)\",\"('diffraction_pattern-integrate_fourier_space-mean_chunk-1193f0ffe65ae8386cca000d7a29bb30', 0, 7, 5)\",\"('mean_chunk-1193f0ffe65ae8386cca000d7a29bb30', 0, 6, 7)\",\"('mean_combine-partial-280dff8b362c82076f06b8b22579650c', 0, 6, 7)\",\"('mean_agg-aggregate-1adb8625be758247716746d5fb8d8ac9', 6, 7)\",\"('diffraction_pattern-integrate_fourier_space-mean_chunk-1193f0ffe65ae8386cca000d7a29bb30', 0, 7, 6)\",\"('mean_chunk-1193f0ffe65ae8386cca000d7a29bb30', 0, 7, 0)\",\"('mean_combine-partial-280dff8b362c82076f06b8b22579650c', 0, 7, 0)\",\"('mean_agg-aggregate-1adb8625be758247716746d5fb8d8ac9', 7, 0)\",\"('mean_chunk-1193f0ffe65ae8386cca000d7a29bb30', 0, 7, 1)\",\"('mean_combine-partial-280dff8b362c82076f06b8b22579650c', 0, 7, 1)\",\"('mean_agg-aggregate-1adb8625be758247716746d5fb8d8ac9', 7, 1)\",\"('mean_chunk-1193f0ffe65ae8386cca000d7a29bb30', 0, 6, 5)\",\"('mean_combine-partial-280dff8b362c82076f06b8b22579650c', 0, 6, 5)\",\"('mean_agg-aggregate-1adb8625be758247716746d5fb8d8ac9', 6, 5)\",\"('mean_chunk-1193f0ffe65ae8386cca000d7a29bb30', 0, 7, 2)\",\"('mean_combine-partial-280dff8b362c82076f06b8b22579650c', 0, 7, 2)\",\"('mean_agg-aggregate-1adb8625be758247716746d5fb8d8ac9', 7, 2)\",\"('mean_chunk-1193f0ffe65ae8386cca000d7a29bb30', 0, 7, 3)\",\"('mean_combine-partial-280dff8b362c82076f06b8b22579650c', 0, 7, 3)\",\"('mean_agg-aggregate-1adb8625be758247716746d5fb8d8ac9', 7, 3)\",\"('mean_chunk-1193f0ffe65ae8386cca000d7a29bb30', 0, 7, 4)\",\"('mean_combine-partial-280dff8b362c82076f06b8b22579650c', 0, 7, 4)\",\"('mean_agg-aggregate-1adb8625be758247716746d5fb8d8ac9', 7, 4)\",\"('mean_chunk-1193f0ffe65ae8386cca000d7a29bb30', 0, 7, 5)\",\"('mean_combine-partial-280dff8b362c82076f06b8b22579650c', 0, 7, 5)\",\"('mean_agg-aggregate-1adb8625be758247716746d5fb8d8ac9', 7, 5)\",\"('mean_chunk-1193f0ffe65ae8386cca000d7a29bb30', 0, 7, 6)\",\"('mean_combine-partial-280dff8b362c82076f06b8b22579650c', 0, 7, 6)\",\"('mean_agg-aggregate-1adb8625be758247716746d5fb8d8ac9', 7, 6)\"],\"width\":[0.0018348529999983043,0.0021357090000009293,0.0022130179999990673,0.002249150000004363,0.000869399999999132,0.02958900899999861,0.03288252299999783,0.04309454699999549,1.4523782179999998,1.39860659,1.3868171199999964,1.4251447430000042,1.424234921,1.396870283999995,1.362585654,1.3294487860000004,0.00043655400000375266,1.348587980000005,0.0011080340000049205,1.3257446380000033,0.00242864500000195,0.0011844300000021235,1.3459070490000045,0.007835203000006175,1.3336776710000038,0.001848547000001588,0.001166619999999341,1.2581576110000015,0.009067289999997286,1.3152312550000005,0.7328522050000004,0.00019360999999662454,0.0006002710000032607,0.001606503999994402,1.2979346349999972,0.00016122000000251546,1.2487549430000016,0.0006274630000007164,1.377047208999997,0.00024090600000192808,1.3611136439999996,0.000488324000002649,1.3065247780000036,0.0022417700000048058,0.008567685999999242,1.3207937029999997,0.0034119170000010968,0.0014972929999998996,0.9788466059999976,1.3090352409999966,1.3116647949999987,0.0017622219999964273,1.2483723819999994,0.0003492779999945128,1.3135813180000042,0.0005284829999965268,1.2890557879999989,0.003756879999997409,0.002653379000001621,0.013761199999997586,0.014441775000001655,1.2967113890000022,0.9235883089999959,0.0018397090000021876,1.3108514689999993,1.280954084000001,1.273422712999995,0.004068822999997224,1.2564601450000055,0.0003580610000000206,1.272064469,0.0003080080000046337,1.2733332189999942,0.0003841719999968518,0.9532732139999993,0.0007250610000042457,1.1713872759999973,0.005680309999995359,0.0008937559999964151,1.2940669159999985,1.2337228700000011,0.00035482599999880904,1.207495329000004,0.0001745669999948518,1.2081252660000033,0.0003777949999985708,1.2764039879999984,0.0005418489999939879,0.9391264229999976,0.00014911000000239483,1.2366002889999947,0.0047143829999996,1.2561559679999945,0.002562599999997417,1.2936114369999956,0.0014137909999973886,1.3118146990000028,0.0003372900000044865,1.3007584699999981,0.0007583670000030907,1.2796566569999968,0.0016262640000022088,0.9489590240000041,0.0005175799999932451,1.2920860689999998,0.00031684600000403407,1.2957436819999941,0.001090951999998424,1.246329529999997,0.00027928599999427206,1.288342058000005,0.0009067160000029162,1.3209476740000028,0.00048035399999690753,1.3166994910000014,0.0006822179999943501,0.8634852480000035,0.0012353560000022412,1.2218779570000038,0.001155518000004463,1.2650508139999985,0.0003407900000027553,1.2307099699999995,0.0007167979999991303,0.0009692379999961531,1.2613043149999967,1.2633667370000055,0.00039081599999946093,1.1638839459999986,0.001019165999998961,0.857706216000004,0.0018699880000028202,0.8467093719999994,0.0016733200000018655,0.8486351250000013,0.00035300300000074003,0.926342101000003,0.0004995720000025017,0.9196791609999977,0.0002597619999988865,0.8736390689999993,0.002996088000003283,0.9126916849999986,0.0007495850000012183,0.9071279469999993,0.006105851999997469,1.2201845770000048,0.00019228499999712767,1.2303005419999948,0.00036832300000355644,1.2222007700000006,0.0008377999999993335,1.2873460289999983,0.00079288100000241,1.257995402000006,0.00029719199999789225,1.2691272289999986,0.0006805469999946467,0.7150478060000012,0.0017991050000034647,1.2205826180000017,0.0014280450000043743,0.0006039589999957684,1.2538901200000012,0.00023411699999797975,0.00046820000000025175,1.224198090999998,0.0005980070000006776,0.0005290069999972502,1.2027985009999966,0.00029992800000400166,0.00035226399999999103,1.194772872999998,0.00039956700000232104,0.0005554620000012278,1.2018052120000036,0.0003801590000023225,0.0002520970000006173,0.9457835070000016,0.00027745999999950754,0.0004237290000048688,1.2365519070000062,0.0010773280000009322,0.0005084920000015813,1.2494683170000016,0.0005178279999995539,0.0005407700000006344,1.2845711219999956,0.0011863950000048362,0.0004525539999988837,1.2867467649999966,0.0003177890000003458,0.0004931869999964533,1.2140628169999985,0.00045771300000296833,0.0030109439999961296,1.2279134820000053,0.0004822029999971278,0.0012272009999989564,0.9281444810000039,0.00045151199999793334,0.0026952229999963606,1.293751291999996,0.0003170150000002536,0.0004084679999962759,1.2668511220000056,0.0024508050000022763,0.003077271000002213,1.3225472829999987,0.0019420459999963668,0.001963240000002031,1.417167476000003,0.003595576000002154,0.0003847830000012209,1.3444942889999965,0.00048469100000403387,0.0008056220000014491,1.3531628680000054,0.0012189099999986297,0.0005731359999998631,0.9364109069999955,0.0007862500000044292,0.0008126620000012963,1.2679168780000012,0.00024741699999708544,0.00041481599999571017,1.3056250060000067,0.0003380550000002813,0.0005620260000043231,1.3119550750000002,0.0014735020000031795,0.0031089019999939183,1.3139843189999993,0.0008187980000045059,0.00047705300000444595,1.2072772,0.0003674880000019698,0.0002971549999983836,1.239557859999998,0.0026301019999976916,0.0006695169999986206,0.9209061210000016,0.001123461000005932,0.000861200999999312,0.001428945000000681,1.2713929059999955,0.002285469000000262,1.245180132999998,0.0011863500000046656,0.0002685810000002675,1.289965224999996,0.00014242199999614513,0.0005518689999988169,1.282122030999993,0.0004703860000034865,0.0018755580000018313,1.2823791399999962,0.0028576420000021585,0.001013366999998766,1.2589005060000034,0.003043940999994277,0.0015926690000043209,0.9364467660000031,0.0004926370000006841,0.0005644919999951981,1.2200620099999995,0.0005942040000022075,0.0015437009999956786,1.2762052879999999,0.0009167850000011413,0.0014089209999994523,1.2827358939999982,0.00039205699999911303,0.0007848320000007902,1.341562003,0.0005148259999998572,0.0007006689999968785,1.3068524830000001,0.0015691420000010226,0.0008337109999985159,1.310477291000005,0.0008752609999973515,0.0011353299999967703,0.0002364779999979305,0.0014127230000013924,0.9252192969999982,1.263206475000004,0.0004386419999988789,0.0004965900000044599,1.2000050050000013,0.00031776499999836005,0.0026652970000000664,1.2106976729999985,0.0006542130000042334,0.00501050199999753,1.2363756799999948,0.00034902899999877945,0.00042418299999980036,1.228914751000005,0.00078155900000354,0.002060552000003213,1.2940835120000003,0.00023581800000016528,0.0010431900000043015,0.9636341349999995,0.00021529600000036453,0.0017093740000007074,0.9710154829999951,0.00033685500000046886,0.001067789000003927,0.9209866480000031,0.0016333450000018956,0.00032353999999656935,0.9150748230000048,0.00041658500000352205,0.002242350000003057,0.9570938469999959,0.0003471009999955754,0.0006913309999987405,0.9135553129999963,0.0009718590000034055,0.0003782220000019265,0.9486157940000055,0.0005346510000023841,0.0004820659999964505,0.9465715890000013,0.0005719769999998903,0.00247798800000254,1.3569200690000045,0.0003066609999962111,0.0007136939999980996,1.3683151219999985,0.0006708589999959713,0.0008895179999939273,1.2798254280000094,0.00045417199999064906,0.0030077130000023544,1.3182472169999926,0.002011574000007954,0.0010802359999928512,0.0010488490000000183,1.26830335599999,0.00669272000000376,1.312913457999997,0.0004976329999948348,0.0005850360000039245,0.7007688810000019,0.002319576000004986,0.0006880070000079286,1.383922346999995,0.0004720749999904683,0.0005543450000118355,0.0024589450000007673,1.4257941070000015,0.000273316999994222,0.0004433019999936505,0.0004688309999920648,1.3977870279999962,0.00449785000000702,0.0011369939999923417,0.002547470999999746,1.2692014710000024,0.0014684129999977813,1.4148455159999997,0.00035943800000382,0.000481723999996575,0.0005334649999895191,1.360571013000012,0.0009923949999972592,1.059698333,0.0001928920000011658,1.3484138750000056,0.00037303400000610054,1.2174061609999995,0.00030571300000303836,1.2339851670000002,0.0006488320000102021,1.2812007400000027,0.007357421999998337,0.0008125020000022687,1.32879638899999,1.359081371000002,0.0006740070000006426,0.9149428949999958,0.0005699849999984963,1.212022657999995,0.0003034510000077262,1.236569304999989,0.0007626949999917088,1.204425152000013,0.0003282370000050605,1.2198049419999961,0.00031461800000442963,1.1873871949999995,0.0004099959999877001,1.1847232049999974,0.0005201299999981757,0.910916536000002,0.0006929000000042151,1.201426533000003,0.0041857570000018995,1.225097605000002,0.0003717149999999947,1.2033729160000064,0.001609697999995774,1.259623899999994,0.00040639699999189816,1.1717017459999965,0.001574197000010713,1.2255321940000101,0.0002113000000036891,0.9110726310000103,0.00035837499999047395,1.198248613000004,0.00044560799999260325,1.2052843769999981,0.0002913080000013224,1.2024505939999983,0.0001545970000051966,1.2400994540000028,0.00039450699999576955,1.2930341470000002,0.00036189299999023206,1.3094871119999993,0.004253500999993776,0.9481988160000014,0.0032401120000002948,1.3313246270000008,0.0003113169999977572,1.2293864569999897,0.000397749000001113,1.3234375130000018,0.00039753800000141837,1.2836987430000022,0.0005368180000004941,1.3343593310000017,0.0003695559999954412,1.449746654000009,0.000655811999990874,0.9626395209999998,0.0007592120000055047,1.3976791000000048,0.0017389829999956419,1.3634258019999947,0.0005032139999912033,1.3403366449999936,0.0014277670000097942,0.0005205689999883134,1.3618274429999957,1.3756682470000072,0.000522764999999481,1.3076123019999955,0.000317154999990521,0.9761888870000064,0.0020602560000071435,0.986299996999989,0.0009522630000020627,0.8870051720000021,0.0006137430000023869,0.8397542160000029,0.005420052000005171,0.8683130759999926,0.0046033929999964585,0.8255222479999986,0.00025681500000018787,0.783056197999997,0.0008169129999942015,0.829624372000012,0.0006271110000000135,1.2432560799999948,0.0008978959999978997,1.182949500999996,0.002396602999994002,0.6646313290000023,0.0004827979999930676,1.3050299570000021,0.0005198830000097132,1.2320967510000003,0.002758110999991459,1.360350902999997,0.0006115310000041063,1.1897952399999951,0.001571997999988639,1.2703687169999966,0.00038497199999198983,0.0005350400000025957,0.000339865999990252,1.2215141639999985,0.00029369599999995444,0.0014507530000003044,0.0004919490000077076,0.9640878420000121,0.00031150099999877057,0.00042526100000372935,0.0004444579999898224,1.2428305739999956,0.0006553040000056853,0.0009756870000074969,0.0018432950000004666,1.2364661170000062,0.001198310000006586,0.0022812990000034006,0.0027737329999979465,1.2589257470000064,0.0027024569999980486,0.0005210089999962975,0.005411222999995857,1.2344511080000018,0.0011004240000005439,0.002220760000000155,0.0010221499999971684,0.0008537239999952817,0.0006739739999943595,1.2751775370000047,0.006320615999996448,1.299205704000002,0.000664399000001481,0.0005132929999973612,0.00046094299999310806,0.9099806939999979,0.0006264349999867136,0.0004703710000057981,0.0004592589999958818,1.2065638239999998,0.0005854809999874533,0.00037009899999418394,0.0006218699999891442,1.2535971420000038,0.0016095360000036862,0.0006797089999963646,0.0004354440000042814,1.303371925999997,0.0003003610000007484,0.001263954999998873,0.0005605659999901036,1.3145654009999959,0.0004582760000033659,0.0007524199999977554,0.0008050070000109599,1.2938729629999983,0.0003659230000039315,0.0004601199999996197,0.0021265830000061214,1.2677469369999983,0.00026763799999685034,0.001582792000007771,0.001856407999994758,0.899513706999997,0.0006765119999982971,0.0009699499999982208,0.0009367929999939406,1.2792623320000018,0.0003719900000049847,0.001080251999994175,0.0019265780000097266,1.2568885690000116,0.0003832639999927778,0.0011073470000013685,0.0015766119999938155,1.3024301029999918,0.0004562499999991587,0.0003998279999990473,0.0005668379999974604,1.2353213820000093,0.0027137940000017124,0.0009619100000008984,0.0016935060000093927,1.1748606919999958,0.001810462999998208,0.0018935960000021623,0.0005624110000042037,1.262543352999998,0.0004393319999991263,0.0005061760000018012,0.0035904479999970818,0.0010485789999989947,1.0202760979999965,0.0056619599999976344,0.004395807999998169,1.2112915949999916,0.0009374050000019452,0.0002858259999953816,0.0005695810000077017,1.293280070999998,0.0012756060000072011,0.0006867059999962066,0.0006621259999946005,1.1980579380000052,0.0003896190000034494,0.0019135379999966062,0.0016560979999979963,1.3254830109999887,0.0008885749999905102,0.0009259420000091723,0.0032151220000002922,0.0012931499999950802,0.0023173539999987725,1.3208223609999976,0.005925337999997282,1.2867666750000097,0.002127168000001234,0.0018143420000029664,0.001997638999995388,0.9956219900000036,0.0015849419999938164,0.000664068999995493,0.0012431440000000293,0.0026432530000022325,1.3220499490000037,0.0026263130000074852,0.0015608599999978878,1.2464145980000012,0.00034819400001140366,0.0006294399999973166,0.0026891119999987723,1.2763628409999939,0.00036196499999618936,0.0005721360000023878,0.0022233840000041027,1.2418152179999993,0.002122586000012916,0.0005674810000044772,0.0007341350000018565,1.2523785300000014,0.00019775300000901552,0.0017543649999964828,0.0007273439999977427,1.2983092019999987,0.0005506590000123879,0.0014356869999971877,0.001669972999991387,0.9458768739999925,0.0013601450000066961,0.0008725219999945466,0.002580910999995467,1.2498791959999949,0.0004965090000013106,0.0020200360000046658,0.0021973599999967064,1.1737207289999958,0.0004738359999976183,0.0005537029999942433,0.0010510860000039202,1.2717561620000026,0.0015803290000064862,0.0014006020000039143,0.0005321559999913461,1.2247929559999875,0.004333625000001007,0.00047609499999623495,0.0010879670000036867,1.2240639380000005,0.0003318699999965702,0.00040392800001143314,0.000499938000004363,1.2155552209999883,0.0007336040000041066,0.0007476529999905779,0.0007741799999934074,0.8851529490000019,0.0022328480000055606,0.00537733299999843,0.0006712420000098973,0.8858167879999996,0.0007363610000084009,0.0008175010000002203,0.0007763670000002776,0.8475230140000036,0.001294188000002805,0.002647224000000392,0.002696248999995987,0.8048211149999958,0.0002828890000046158,0.0012616110000038816,0.002380896999994775,0.7389599500000088,0.00019675100000426937,0.00042553800000177944,0.0010692500000004657,0.6925529689999905,0.0003908359999940103,0.004432084999990593,0.0006186079999963567,0.6684109050000018,0.0005927050000025247,0.000833421999999473,0.0016299660000100857,0.6024013050000008,0.00021667400000069392,0.0003718879999894398,0.0004962240000025986,0.00019376500000589658,0.0007195510000030936,0.0003579629999990175,0.0010054450000041015,0.0008019140000072866,0.0006290339999992511,0.00032090099999493304,0.0004874990000018897,0.0005030129999994415,0.00026525399999854926,0.0003846870000074887,0.00041091899998946246,0.00022928299999591673,0.00030711300000518804,0.000500779000006446,0.00027276400000175727,0.00034875100000419934,0.0003371880000031524,0.00023814099999697191,0.0003258379999948602,0.000331031000001758],\"x\":[0.0009174265000027049,0.0013042235000000346,0.0015245970000066222,0.0017391630000034297,0.002760221000002616,0.01738692350000548,0.01927070450000201,0.024637932499999238,0.7297393459999952,0.7030593579999973,0.697349593999995,0.7166949215000002,0.716434106499996,0.7330938050000029,0.7243395960000001,0.7183443520000026,1.383909107000001,2.0589003649999995,1.3925229410000028,2.057129326000002,1.4050265174999979,1.4067777790000022,2.080249544499999,1.4126602524999967,2.084196070499999,1.430129453499994,1.4315886590000062,2.0605497035000013,1.4366394210000024,2.096889959499997,1.8081634704999985,1.4579060490000018,1.4586828404999963,1.4608359449999995,2.1111793954999953,2.175378959999996,2.800140466500004,2.6922083494999995,3.3826916854999993,2.721445406000001,3.402866369999998,2.7339264189999994,3.3888923630000036,2.752929571000003,2.7582767379999993,3.4148407964999947,2.761797280499998,2.763247484499999,3.252849337999997,3.4184422395000027,3.420225783500001,3.428193856,4.054459027,3.743660838000004,4.400952461999999,4.044152499500001,4.690879232,4.074758506000002,4.076456158500001,4.082872052999996,4.0837956844999965,4.726081831500004,4.5451463315,4.090610749499994,4.746357253500001,4.731934561999999,4.739119174499997,4.681689444500002,5.3132631114999995,5.007566101499997,5.644070603499998,5.058471152999999,5.6955771445,5.336077942999999,5.813524344999998,5.373318832499997,5.960053070999997,5.378621442000004,5.3818510549999985,6.029224620000001,5.9998362950000015,5.403062530999996,6.007587999499997,5.942511746499996,6.547010711999995,6.280818613499996,6.919582902000002,6.2909405914999965,6.761112511499995,6.333904334000003,6.9528220475,6.549036470500006,7.180599973999996,6.6134666379999985,7.261974517500001,6.627060868500003,7.288655687500004,6.676913485,7.327730690000003,7.1522147405,7.793985048499998,7.235366583999998,7.712401243999999,7.559252248,8.206050336500006,7.5717035400000015,8.221864726,7.8099041039999975,8.434327644,7.90979969,8.554780106000003,7.946269272999999,8.609548538999995,7.979271865999998,8.638290255500003,8.189228905,8.622267905000001,8.435563053000003,9.0486299895,8.854786329,9.488472500999997,8.870344969999998,9.486148104000002,9.057769325000002,9.058537809,9.689605874499996,9.691130659499997,9.199678260000006,9.782203207999999,9.273929239999994,9.703717153999996,9.298464598000002,9.723866870000002,9.661085214000003,10.086684758499999,10.102418848500001,10.5660744415,10.121759376999997,10.582674633499998,10.136375221999998,10.5738132965,10.150317956999999,10.609080393500001,10.321069274499997,10.776284390500003,10.327154608999997,10.942407246500004,10.3655793585,10.981323998,10.5119951295,11.124749266000002,11.011637663999998,11.657505554499998,11.031782309499995,11.661744831,11.043126874000002,11.678415174499996,11.068820338499997,11.430239745000002,11.2319006635,11.846039319999996,11.553774730500002,11.555234732500004,12.182917839000005,11.597360266499997,11.597987295000003,12.210685202499995,11.736609525499993,11.737929930500002,12.340141047500005,11.788359823,11.788991658999997,12.386817737500003,12.2915685575,12.292378027999995,12.894193351999995,12.3017741205,12.302608988499998,12.776220149499999,12.313867406999996,12.3145263945,12.9337332395,12.458636225,12.460555680000006,13.087559362499995,12.811532534999998,12.812659467000003,13.455970377999996,12.8257967825,12.828410095000002,13.472607975500004,12.942425609499999,12.944146299499998,13.552240157500002,12.985436428500002,12.988023702,13.604496321,13.250993395499997,13.254603101500003,13.719854201499999,13.498780595,13.501973513499998,14.152875395999999,13.552652235499998,13.553291121999997,14.187237013,13.714873855499995,13.724122649499996,14.387850859499999,14.102216952,14.104636602999996,14.814942342999998,14.120038819999998,14.1243725275,14.797419283499998,14.160049168500002,14.161149850000001,14.838968497000003,14.185778473000006,14.187804936,14.6567008795,14.22399892,14.228399148000001,14.864742103000005,14.802169733500001,14.802938981000004,15.456416205000004,14.8221214935,14.823889540000003,15.4805570595,15.051703811000003,15.05452322,15.714116296500002,15.129157103000004,15.138273013500005,15.742759178999997,15.470303703999996,15.4711907015,16.091451146000004,15.501529222999999,15.504036226499998,15.966661752500002,15.5199610855,15.523869050500004,15.5249441725,16.161290978000004,15.5351248005,16.160102170500004,16.111023789999997,16.112516718499997,16.758413206500002,16.138838491,16.139513718500005,16.781579270499996,16.347183817,16.348757591000002,16.991873575999996,16.372994240000004,16.3763429535,17.007357722000002,16.431573010499996,16.4389208925,16.909588385,16.7144406185,16.715380316,17.32600686,16.783482881999994,16.785389911499998,17.426451145999998,16.797917114500002,16.801007493500002,17.444586389,17.3785936155,17.382354978000002,18.054267300499994,17.404326292,17.4053196645,18.060033492499997,17.423911713000003,17.4258207635,18.081825264500004,17.6359164475,17.637295635,17.637296322000005,17.6384986165,18.101722348499997,18.2715255145,17.938056945999996,17.938846883000004,18.542176177500004,18.066391166500004,18.068998804500005,18.677388626499997,18.0880417355,18.092008404000005,18.713307199,18.564986269500004,18.565685369499995,19.1806604055,18.7150370505,18.717249357,19.366155472000003,18.726667858999996,18.728375125,19.211823272500006,18.739289811,18.740650164,19.230226170499996,18.9053973595,18.9065753295,19.368409992000004,19.143663035499998,19.145802329,19.603833116500006,19.283815539500004,19.285563066,19.765701671499997,19.333322287500003,19.3347567335,19.792411282500005,19.6952268995,19.699741589999995,20.174618586,19.720287057499995,19.721631733000002,20.1959833715,19.796408206499997,19.799534838999996,20.480512091499996,19.8301229005,19.831230171999998,20.51627955099999,20.018403845499996,20.021046110999997,20.66201616,20.062734073999998,20.06722320049999,20.7364466875,20.247409077000007,20.249647704000004,20.250630289500002,20.885228130999998,20.255292950999994,20.916026456000004,20.65003282349999,20.65104213899999,21.002071709499994,20.67260216600001,20.6769561085,21.36970216150001,21.161336086499993,21.1623276555,21.164470925500005,21.879193237499997,21.201013953500002,21.20171920699999,21.202490827500007,21.901906663999988,21.306550917000003,21.31073874700001,21.313239580500003,21.950046341500006,21.354438043500004,22.063133060000006,21.397802742000003,21.398549488999997,21.3993747955,22.080279020499994,21.520745001499996,22.051498996499994,21.573395076000004,22.248049029500002,22.062955410999997,22.67222635550001,22.582609370499988,23.200323302500003,22.59106020699999,23.232598857999996,22.597946913999998,22.601957957000003,23.2666849855,23.291804282500003,22.76141802450001,23.2198303785,22.7716134335,23.378476559,22.925874423499998,23.5446928955,23.2818225455,23.884781128000007,23.678246004500004,24.288822855,23.817986825,24.41211987549999,23.873903328999994,24.46696705850001,23.934096266000005,24.390789217,23.972805541000007,24.57534941049999,23.987885392499997,24.603266751499994,24.1636963275,24.765887413999998,24.48933610599999,25.12187475000001,24.846927597500006,25.433354586,24.900970208500006,25.516959178,25.006693559000006,25.462750631499993,25.0601197075,25.6613818815,25.17674943400001,25.779989243500005,25.21641033400001,25.818415443,25.3684198475,25.988905253999995,25.754293407499993,26.401456405499992,25.9194938825,26.574893913000004,26.024391344499996,26.503905343999996,26.135148430000008,26.805624635500003,26.261132192500007,26.87627912050001,26.383657231500003,27.0459295075,26.421032353000008,27.0635509205,26.610980159,27.279329602500006,26.978654263999992,27.704119041000006,27.048811309999998,27.5309816025,27.23059297599999,27.930188382000004,27.4733561775,28.156550093,27.491794949000003,28.164342738500004,27.707573546500008,27.708464082499994,28.38956137350001,28.39694479749999,27.948069402500003,28.603635106999995,28.013352901500006,28.5019102825,28.430475077000004,28.925387787499993,28.630334247499995,29.075118897000003,28.835894991500005,29.258052404999994,28.842969410000002,29.282040102000003,28.993207705500005,29.411323681999995,29.071789543499996,29.465888299999996,29.0876391735,29.505130488,29.258457914500006,29.880838215000004,29.419729484999998,30.013162319500005,29.520424990499997,29.8561627555,29.679046550999992,30.333141083500003,29.7190094735,30.335993748499995,29.8258899485,30.50841214749999,29.858661912500004,30.454376207000003,29.921243561999994,30.5578590255,30.19065761800001,30.19149341499999,30.192547997,30.803882814000012,30.506549184,30.508136347500006,30.5095033295,30.992401585999993,30.6052805605,30.605926867499996,30.606679597999992,31.22863106100001,30.95322201300001,30.954516048500004,30.958649378500006,31.580227906499992,30.986814310999996,30.9891818515,30.992571370499995,31.6254108355,31.054023374499998,31.056049509500006,31.06237206650001,31.682703487999994,31.190813740000003,31.194077153000002,31.19560505399999,31.196192183,31.196890349999997,31.834744392499992,31.200720498999992,31.855646670000006,31.415463833500006,31.41647091449999,31.41765197450001,31.873417406999998,31.4768182125,31.4779334705,31.478678012500005,32.082484008,31.851283593499993,31.852508060500007,31.853469412999992,32.48099740700001,32.199819600999994,32.2013253295,32.202180752,32.854390603000006,32.2555419195,32.25681316950001,32.258619605,32.91676538949999,32.30270657799999,32.303622783,32.30574369949999,32.95355701050001,32.3290476725,32.32974258000001,32.331475181500004,32.9709358365,32.473854405000004,32.47567096299999,32.47927984299999,32.93496430550001,32.506235817,32.507828933000006,32.5105140935,33.151603895,32.686755569000006,32.687959131999996,32.692306171000006,33.3227307915,33.109524789,33.1108736685,33.11281567299999,33.76529117649999,33.385842700000005,33.386597560999995,33.387375016,34.005909421999995,33.50866621599999,33.512082462,33.515269795,34.10530596500001,33.5773678805,33.58083104,33.5825247915,34.21456413750001,33.601232462000006,33.60238293,33.604982605,33.60720941850001,34.117779361,33.612468825,33.619077228,34.230780226499995,33.792890565499995,33.794193287000006,33.7949861895,34.4428470785,33.952240786,33.954698046,33.95577756400001,34.55590854,34.4180692415,34.419627283000004,34.422180007,35.0862252385,34.62566092549999,34.628263337,34.630251566000005,34.63243570299999,34.63411082800001,35.29556189449999,34.639674366,35.28710840749999,34.694982331,34.69747831700001,34.699945853500004,35.201121478,34.838922066,34.843704434500005,34.84638884300001,34.8482532105,35.5091964535,34.8575636305,34.860945320000006,35.485832224,35.09064869499999,35.09165132399999,35.09405084799999,35.73427683549999,35.155901358499996,35.156716753999994,35.15959578000001,35.78494636200001,35.702684333,35.70469870749999,35.70595537650001,36.334361819,35.7497589385,35.753890994500004,35.75584314499999,36.406102924,35.93308280749999,35.9348121625,35.9378561725,36.412521929,35.9575249355,35.95941717600001,35.9617786745,36.591216751,36.11379275250001,36.116726316000005,36.119790684,36.7081947835,36.174041808999995,36.17914133850001,36.18044123500001,36.817289737,36.3742167955,36.37642607099999,36.380582407,36.993686476,36.40856836849999,36.411983793500006,36.41337486349999,37.026506442000006,36.887281296000005,36.88794442499999,36.88872953899999,37.4970516415,36.962062288999995,36.9653632585,36.966761979000005,37.4102427505,37.05745262,37.06316219949999,37.066814547,37.516346451,37.2181029025,37.21988432449999,37.221256321499986,37.64573360400001,37.297636096,37.301296339999986,37.3063956235,37.710778583499994,37.453733018499996,37.45487980949999,37.457648544499996,37.829209403,37.6070233085,37.607870924000004,37.60893840000001,37.9562054585,37.639350357000005,37.6432846305,37.646404735,37.9813585465,37.8544061735,37.855504814999996,37.857382488000006,38.1600703905,37.960099312000004,37.961273094,37.96211379999999,38.070501667500004,38.0714179625,38.0728396445,38.1057960985,38.107578839000006,38.10888696899999,38.113784190500006,38.1144644545,38.115245557499996,38.199212265999996,38.1998339275,38.2005202315,38.30293578949999,38.303466857500005,38.30410141949999,38.31614643299999,38.316716831499996,38.317542498,38.46175014850001,38.462243625000006,38.4628176255],\"y\":[8,7,7,7,8,8,7,7,1,7,8,2,3,4,5,6,6,6,8,8,5,5,5,7,7,3,3,3,4,4,2,1,1,1,1,2,2,3,3,8,8,6,6,5,5,4,5,1,7,5,1,2,2,7,7,6,6,3,4,8,5,4,8,5,3,1,5,2,2,8,8,7,7,6,6,1,1,4,4,5,4,3,3,2,2,8,8,6,6,7,7,1,1,3,4,3,3,5,5,2,2,6,6,8,8,7,7,1,1,4,4,3,3,5,5,6,6,2,2,8,8,7,7,6,6,1,6,4,4,3,3,5,5,2,2,7,7,8,8,3,3,5,5,1,1,6,6,4,4,2,2,3,3,7,7,8,8,5,5,1,1,6,6,6,4,4,4,2,2,2,5,5,5,7,7,7,3,3,3,8,8,8,1,1,1,6,6,6,4,4,4,2,2,2,5,5,5,3,3,3,7,7,7,8,8,8,1,1,1,6,6,6,4,4,4,2,2,2,3,3,3,5,5,5,7,7,7,8,8,8,1,1,1,3,3,3,4,4,4,5,5,5,2,2,6,6,2,2,7,7,7,8,8,8,3,3,3,1,1,1,5,5,5,4,4,4,2,2,2,6,6,6,5,5,5,7,7,7,8,8,8,3,3,1,1,1,3,4,4,4,2,2,2,6,6,6,1,1,1,7,7,7,5,5,5,8,8,8,3,3,3,4,4,4,2,2,2,6,6,6,5,5,5,8,8,8,1,1,1,3,3,3,7,7,7,4,4,4,2,2,2,2,6,6,5,5,5,8,8,8,1,1,1,1,3,3,3,3,7,7,7,7,5,5,4,4,4,4,2,2,6,6,8,8,2,2,7,7,3,3,3,1,4,4,5,5,6,6,8,8,4,4,2,2,7,7,3,3,1,1,5,5,6,6,8,8,3,3,4,4,2,2,7,7,1,1,5,5,6,6,8,8,2,2,3,3,4,4,7,7,1,1,5,5,6,6,3,3,8,8,2,2,4,4,7,7,1,1,5,1,6,6,8,8,3,3,2,2,7,7,4,4,8,8,5,5,1,1,6,6,3,3,2,2,7,7,4,4,8,8,5,5,1,1,2,2,2,2,6,6,6,6,3,3,3,3,4,4,4,4,7,7,7,7,5,5,5,5,8,8,8,8,8,8,1,1,2,2,2,2,6,6,6,6,3,3,3,3,4,4,4,4,7,7,7,7,5,5,5,5,2,2,2,2,8,8,8,8,1,1,1,1,6,6,6,6,3,3,3,3,8,8,8,8,4,4,4,4,7,7,7,7,5,5,5,2,2,5,5,5,1,1,1,1,6,6,6,6,3,3,3,3,8,8,8,8,8,2,8,8,4,4,4,4,5,5,5,5,5,7,7,7,1,1,1,1,6,6,6,6,4,4,4,4,3,3,3,3,8,8,8,8,2,2,2,2,7,7,7,7,5,5,5,5,1,1,1,1,6,6,6,6,8,8,8,8,4,4,4,4,3,3,3,3,2,2,2,2,7,7,7,7,5,5,5,5,1,1,1,1,6,6,6,6,4,4,4,4,3,3,3,3,3,3,3,8,2,3,2,3,2,3,5,7,8,2,7,8,2,6,3,5]},\"selected\":{\"id\":\"1047\"},\"selection_policy\":{\"id\":\"1046\"}},\"id\":\"1032\",\"type\":\"ColumnDataSource\"},{\"attributes\":{\"tools\":[{\"id\":\"1021\"},{\"id\":\"1022\"},{\"id\":\"1023\"},{\"id\":\"1024\"},{\"id\":\"1025\"}]},\"id\":\"1026\",\"type\":\"Toolbar\"},{\"attributes\":{\"coordinates\":null,\"group\":null,\"text\":\"Profile Results\"},\"id\":\"1004\",\"type\":\"Title\"},{\"attributes\":{\"axis_label\":\"Time (s)\",\"axis_line_color\":null,\"coordinates\":null,\"formatter\":{\"id\":\"1044\"},\"group\":null,\"major_label_policy\":{\"id\":\"1045\"},\"major_tick_line_color\":null,\"ticker\":{\"id\":\"1015\"}},\"id\":\"1014\",\"type\":\"LinearAxis\"},{\"attributes\":{},\"id\":\"1046\",\"type\":\"UnionRenderers\"},{\"attributes\":{},\"id\":\"1010\",\"type\":\"LinearScale\"},{\"attributes\":{\"source\":{\"id\":\"1032\"}},\"id\":\"1038\",\"type\":\"CDSView\"},{\"attributes\":{},\"id\":\"1012\",\"type\":\"CategoricalScale\"},{\"attributes\":{\"dimensions\":\"width\"},\"id\":\"1024\",\"type\":\"WheelZoomTool\"},{\"attributes\":{\"axis_label\":\"Worker ID\",\"axis_line_color\":null,\"coordinates\":null,\"formatter\":{\"id\":\"1041\"},\"group\":null,\"major_label_policy\":{\"id\":\"1042\"},\"major_tick_line_color\":null,\"ticker\":{\"id\":\"1019\"}},\"id\":\"1018\",\"type\":\"CategoricalAxis\"},{\"attributes\":{\"fill_alpha\":{\"value\":0.1},\"fill_color\":{\"field\":\"color\"},\"hatch_alpha\":{\"value\":0.1},\"hatch_color\":{\"field\":\"color\"},\"height\":{\"value\":1},\"line_alpha\":{\"value\":0.1},\"line_color\":{\"value\":\"gray\"},\"width\":{\"field\":\"width\"},\"x\":{\"field\":\"x\"},\"y\":{\"field\":\"y\"}},\"id\":\"1035\",\"type\":\"Rect\"},{\"attributes\":{},\"id\":\"1045\",\"type\":\"AllLabels\"},{\"attributes\":{},\"id\":\"1044\",\"type\":\"BasicTickFormatter\"},{\"attributes\":{\"axis\":{\"id\":\"1014\"},\"coordinates\":null,\"grid_line_color\":null,\"group\":null,\"ticker\":null},\"id\":\"1017\",\"type\":\"Grid\"},{\"attributes\":{},\"id\":\"1015\",\"type\":\"BasicTicker\"},{\"attributes\":{\"axis\":{\"id\":\"1018\"},\"coordinates\":null,\"dimension\":1,\"grid_line_color\":null,\"group\":null,\"ticker\":null},\"id\":\"1020\",\"type\":\"Grid\"},{\"attributes\":{\"coordinates\":null,\"data_source\":{\"id\":\"1032\"},\"glyph\":{\"id\":\"1034\"},\"group\":null,\"hover_glyph\":null,\"muted_glyph\":{\"id\":\"1036\"},\"nonselection_glyph\":{\"id\":\"1035\"},\"view\":{\"id\":\"1038\"}},\"id\":\"1037\",\"type\":\"GlyphRenderer\"},{\"attributes\":{\"factors\":[\"0\",\"1\",\"2\",\"3\",\"4\",\"5\",\"6\",\"7\"]},\"id\":\"1008\",\"type\":\"FactorRange\"},{\"attributes\":{},\"id\":\"1047\",\"type\":\"Selection\"},{\"attributes\":{},\"id\":\"1019\",\"type\":\"CategoricalTicker\"},{\"attributes\":{},\"id\":\"1022\",\"type\":\"SaveTool\"},{\"attributes\":{},\"id\":\"1023\",\"type\":\"ResetTool\"},{\"attributes\":{},\"id\":\"1042\",\"type\":\"AllLabels\"},{\"attributes\":{\"end\":38.462983141},\"id\":\"1006\",\"type\":\"Range1d\"},{\"attributes\":{\"callback\":null,\"point_policy\":\"follow_mouse\",\"tooltips\":\"\\n    <div>\\n        <span style=\\\"font-size: 14px; font-weight: bold;\\\">Key:</span>&nbsp;\\n        <span style=\\\"font-size: 10px; font-family: Monaco, monospace;\\\">@key</span>\\n    </div>\\n    <div>\\n        <span style=\\\"font-size: 14px; font-weight: bold;\\\">Task:</span>&nbsp;\\n        <span style=\\\"font-size: 10px; font-family: Monaco, monospace;\\\">@function</span>\\n    </div>\\n    \"},\"id\":\"1021\",\"type\":\"HoverTool\"},{\"attributes\":{\"dimensions\":\"width\"},\"id\":\"1025\",\"type\":\"PanTool\"},{\"attributes\":{\"fill_color\":{\"field\":\"color\"},\"hatch_color\":{\"field\":\"color\"},\"height\":{\"value\":1},\"line_color\":{\"value\":\"gray\"},\"width\":{\"field\":\"width\"},\"x\":{\"field\":\"x\"},\"y\":{\"field\":\"y\"}},\"id\":\"1034\",\"type\":\"Rect\"},{\"attributes\":{},\"id\":\"1041\",\"type\":\"CategoricalTickFormatter\"}],\"root_ids\":[\"1003\"]},\"title\":\"Bokeh Application\",\"version\":\"2.4.3\"}};\n",
       "  const render_items = [{\"docid\":\"5d67ca15-884e-4253-bc92-9cbf77362439\",\"root_ids\":[\"1003\"],\"roots\":{\"1003\":\"f0bab9da-64fd-4f65-84e1-0711eba3cbbf\"}}];\n",
       "  root.Bokeh.embed.embed_items_notebook(docs_json, render_items);\n",
       "  }\n",
       "  if (root.Bokeh !== undefined) {\n",
       "    embed_document(root);\n",
       "  } else {\n",
       "    let attempts = 0;\n",
       "    const timer = setInterval(function(root) {\n",
       "      if (root.Bokeh !== undefined) {\n",
       "        clearInterval(timer);\n",
       "        embed_document(root);\n",
       "      } else {\n",
       "        attempts++;\n",
       "        if (attempts > 100) {\n",
       "          clearInterval(timer);\n",
       "          console.log(\"Bokeh: ERROR: Unable to run BokehJS code because BokehJS library is missing\");\n",
       "        }\n",
       "      }\n",
       "    }, 10, root)\n",
       "  }\n",
       "})(window);"
      ],
      "application/vnd.bokehjs_exec.v0+json": ""
     },
     "metadata": {
      "application/vnd.bokehjs_exec.v0+json": {
       "id": "1003"
      }
     },
     "output_type": "display_data"
    }
   ],
   "source": [
    "profilers[0].visualize();"
   ]
  },
  {
   "cell_type": "markdown",
   "id": "9f7afda6-5b1d-4362-9495-4ad140716f5f",
   "metadata": {},
   "source": [
    "The result from the `ResourceProfiler` is shown below: This shows two lines, one for total CPU percentage used by all the workers, and one for total memory usage. The CPU usage is scaled so each worker contributes up to $100 \\ \\%$, i.e. two fully utilized workers use $200 \\ \\%$."
   ]
  },
  {
   "cell_type": "code",
   "execution_count": 16,
   "id": "42497cde-4e5c-4844-91e5-e8d91e1aafa9",
   "metadata": {
    "tags": [
     "skip-test"
    ]
   },
   "outputs": [
    {
     "data": {
      "text/html": [
       "\n",
       "  <div class=\"bk-root\" id=\"9032ae92-0100-4f53-8ce0-fca49142b70c\" data-root-id=\"1102\"></div>\n"
      ]
     },
     "metadata": {},
     "output_type": "display_data"
    },
    {
     "data": {
      "application/javascript": [
       "(function(root) {\n",
       "  function embed_document(root) {\n",
       "  const docs_json = {\"06cb335c-775a-4e80-959b-965df2fcb66d\":{\"defs\":[],\"roots\":{\"references\":[{\"attributes\":{\"below\":[{\"id\":\"1113\"}],\"center\":[{\"id\":\"1116\"},{\"id\":\"1120\"},{\"id\":\"1145\"}],\"extra_y_ranges\":{\"memory\":{\"id\":\"1147\"}},\"height\":300,\"left\":[{\"id\":\"1117\"}],\"renderers\":[{\"id\":\"1134\"},{\"id\":\"1152\"}],\"right\":[{\"id\":\"1166\"}],\"title\":{\"id\":\"1103\"},\"toolbar\":{\"id\":\"1125\"},\"toolbar_location\":\"above\",\"width\":800,\"x_range\":{\"id\":\"1105\"},\"x_scale\":{\"id\":\"1109\"},\"y_range\":{\"id\":\"1107\"},\"y_scale\":{\"id\":\"1111\"}},\"id\":\"1102\",\"subtype\":\"Figure\",\"type\":\"Plot\"},{\"attributes\":{\"dimensions\":\"width\"},\"id\":\"1124\",\"type\":\"PanTool\"},{\"attributes\":{\"source\":{\"id\":\"1148\"}},\"id\":\"1153\",\"type\":\"CDSView\"},{\"attributes\":{\"coordinates\":null,\"data_source\":{\"id\":\"1148\"},\"glyph\":{\"id\":\"1149\"},\"group\":null,\"hover_glyph\":null,\"muted_glyph\":{\"id\":\"1151\"},\"nonselection_glyph\":{\"id\":\"1150\"},\"view\":{\"id\":\"1153\"},\"y_range_name\":\"memory\"},\"id\":\"1152\",\"type\":\"GlyphRenderer\"},{\"attributes\":{\"axis\":{\"id\":\"1117\"},\"coordinates\":null,\"dimension\":1,\"group\":null,\"ticker\":null},\"id\":\"1120\",\"type\":\"Grid\"},{\"attributes\":{\"end\":934.723584,\"start\":688.734208},\"id\":\"1147\",\"type\":\"Range1d\"},{\"attributes\":{\"coordinates\":null,\"data_source\":{\"id\":\"1130\"},\"glyph\":{\"id\":\"1131\"},\"group\":null,\"hover_glyph\":null,\"muted_glyph\":{\"id\":\"1133\"},\"nonselection_glyph\":{\"id\":\"1132\"},\"view\":{\"id\":\"1135\"}},\"id\":\"1134\",\"type\":\"GlyphRenderer\"},{\"attributes\":{\"line_alpha\":0.2,\"line_color\":\"#440154\",\"line_width\":4,\"x\":{\"field\":\"x\"},\"y\":{\"field\":\"y\"}},\"id\":\"1133\",\"type\":\"Line\"},{\"attributes\":{\"dimensions\":\"width\"},\"id\":\"1123\",\"type\":\"WheelZoomTool\"},{\"attributes\":{},\"id\":\"1122\",\"type\":\"ResetTool\"},{\"attributes\":{\"data\":{\"x\":[0.0,1.01367427,2.018534768,3.019343224,4.022377554999999,5.0245122989999995,6.025178621,7.027680565,8.031145848,9.036439652,10.03823299,11.038923931,12.040542266,13.042417112999999,14.043066592999999,15.043407685,16.044079699,17.044648065,18.045685758,19.046600673,20.046941376000003,21.05204377,22.052370577,23.053585448000003,24.054612765,25.054934479,26.057478411,27.060446085000002,28.060830568,29.063937589000002,30.068504316000002,31.071557779000003,32.072108266,33.074953893,34.076222656,35.079328962999995,36.081678093,37.086006894,38.086955401],\"y\":[691.257344,861.155328,934.723584,770.527232,920.420352,878.53056,867.84,855.801856,780.341248,890.601472,814.944256,799.678464,820.731904,830.222336,817.217536,848.801792,894.611456,821.850112,876.904448,801.624064,761.991168,887.681024,893.7472,863.465472,842.412032,908.439552,833.536,788.447232,891.265024,726.38464,858.54208,846.290944,826.18368,899.469312,875.2128,880.709632,886.951936,827.629568,688.734208]},\"selected\":{\"id\":\"1164\"},\"selection_policy\":{\"id\":\"1163\"}},\"id\":\"1148\",\"type\":\"ColumnDataSource\"},{\"attributes\":{},\"id\":\"1121\",\"type\":\"SaveTool\"},{\"attributes\":{\"label\":{\"value\":\"% CPU\"},\"renderers\":[{\"id\":\"1134\"}]},\"id\":\"1146\",\"type\":\"LegendItem\"},{\"attributes\":{},\"id\":\"1181\",\"type\":\"BasicTickFormatter\"},{\"attributes\":{},\"id\":\"1142\",\"type\":\"AllLabels\"},{\"attributes\":{\"line_alpha\":0.2,\"line_color\":\"#29788E\",\"line_width\":4,\"x\":{\"field\":\"x\"},\"y\":{\"field\":\"y\"}},\"id\":\"1151\",\"type\":\"Line\"},{\"attributes\":{\"source\":{\"id\":\"1130\"}},\"id\":\"1135\",\"type\":\"CDSView\"},{\"attributes\":{\"line_alpha\":0.1,\"line_color\":\"#29788E\",\"line_width\":4,\"x\":{\"field\":\"x\"},\"y\":{\"field\":\"y\"}},\"id\":\"1150\",\"type\":\"Line\"},{\"attributes\":{\"data\":{\"x\":[0.0,1.01367427,2.018534768,3.019343224,4.022377554999999,5.0245122989999995,6.025178621,7.027680565,8.031145848,9.036439652,10.03823299,11.038923931,12.040542266,13.042417112999999,14.043066592999999,15.043407685,16.044079699,17.044648065,18.045685758,19.046600673,20.046941376000003,21.05204377,22.052370577,23.053585448000003,24.054612765,25.054934479,26.057478411,27.060446085000002,28.060830568,29.063937589000002,30.068504316000002,31.071557779000003,32.072108266,33.074953893,34.076222656,35.079328962999995,36.081678093,37.086006894,38.086955401],\"y\":[0.0,621.1,585.3,593.3,613.2,632.3,623.8,617.7,609.0,634.3,629.5,603.4,635.1,618.7,623.2,603.6,624.1,611.1,613.1,614.2,564.6,629.9,561.0,610.4,605.4,635.6,635.1,609.5,614.8,586.4,623.8,615.4,618.0,621.3,612.2,611.5,622.0,613.6,568.0]},\"selected\":{\"id\":\"1144\"},\"selection_policy\":{\"id\":\"1143\"}},\"id\":\"1130\",\"type\":\"ColumnDataSource\"},{\"attributes\":{},\"id\":\"1182\",\"type\":\"AllLabels\"},{\"attributes\":{\"axis_label\":\"Memory (MB)\",\"coordinates\":null,\"formatter\":{\"id\":\"1181\"},\"group\":null,\"major_label_policy\":{\"id\":\"1182\"},\"ticker\":{\"id\":\"1180\"},\"y_range_name\":\"memory\"},\"id\":\"1166\",\"type\":\"LinearAxis\"},{\"attributes\":{},\"id\":\"1180\",\"type\":\"BasicTicker\"},{\"attributes\":{\"label\":{\"value\":\"Memory\"},\"renderers\":[{\"id\":\"1152\"}]},\"id\":\"1165\",\"type\":\"LegendItem\"},{\"attributes\":{},\"id\":\"1144\",\"type\":\"Selection\"},{\"attributes\":{},\"id\":\"1109\",\"type\":\"LinearScale\"},{\"attributes\":{\"coordinates\":null,\"group\":null,\"items\":[{\"id\":\"1146\"},{\"id\":\"1165\"}]},\"id\":\"1145\",\"type\":\"Legend\"},{\"attributes\":{\"end\":635.6},\"id\":\"1107\",\"type\":\"Range1d\"},{\"attributes\":{\"end\":38.086955401},\"id\":\"1105\",\"type\":\"Range1d\"},{\"attributes\":{},\"id\":\"1163\",\"type\":\"UnionRenderers\"},{\"attributes\":{\"line_alpha\":0.1,\"line_color\":\"#440154\",\"line_width\":4,\"x\":{\"field\":\"x\"},\"y\":{\"field\":\"y\"}},\"id\":\"1132\",\"type\":\"Line\"},{\"attributes\":{},\"id\":\"1164\",\"type\":\"Selection\"},{\"attributes\":{\"line_color\":\"#29788E\",\"line_width\":4,\"x\":{\"field\":\"x\"},\"y\":{\"field\":\"y\"}},\"id\":\"1149\",\"type\":\"Line\"},{\"attributes\":{},\"id\":\"1118\",\"type\":\"BasicTicker\"},{\"attributes\":{\"tools\":[{\"id\":\"1121\"},{\"id\":\"1122\"},{\"id\":\"1123\"},{\"id\":\"1124\"}]},\"id\":\"1125\",\"type\":\"Toolbar\"},{\"attributes\":{\"line_color\":\"#440154\",\"line_width\":4,\"x\":{\"field\":\"x\"},\"y\":{\"field\":\"y\"}},\"id\":\"1131\",\"type\":\"Line\"},{\"attributes\":{\"axis_label\":\"Time (s)\",\"coordinates\":null,\"formatter\":{\"id\":\"1141\"},\"group\":null,\"major_label_policy\":{\"id\":\"1142\"},\"ticker\":{\"id\":\"1114\"}},\"id\":\"1113\",\"type\":\"LinearAxis\"},{\"attributes\":{},\"id\":\"1141\",\"type\":\"BasicTickFormatter\"},{\"attributes\":{},\"id\":\"1139\",\"type\":\"AllLabels\"},{\"attributes\":{},\"id\":\"1143\",\"type\":\"UnionRenderers\"},{\"attributes\":{\"axis\":{\"id\":\"1113\"},\"coordinates\":null,\"group\":null,\"ticker\":null},\"id\":\"1116\",\"type\":\"Grid\"},{\"attributes\":{},\"id\":\"1114\",\"type\":\"BasicTicker\"},{\"attributes\":{},\"id\":\"1111\",\"type\":\"LinearScale\"},{\"attributes\":{},\"id\":\"1138\",\"type\":\"BasicTickFormatter\"},{\"attributes\":{\"coordinates\":null,\"group\":null,\"text\":\"Profile Results\"},\"id\":\"1103\",\"type\":\"Title\"},{\"attributes\":{\"axis_label\":\"% CPU\",\"coordinates\":null,\"formatter\":{\"id\":\"1138\"},\"group\":null,\"major_label_policy\":{\"id\":\"1139\"},\"ticker\":{\"id\":\"1118\"}},\"id\":\"1117\",\"type\":\"LinearAxis\"}],\"root_ids\":[\"1102\"]},\"title\":\"Bokeh Application\",\"version\":\"2.4.3\"}};\n",
       "  const render_items = [{\"docid\":\"06cb335c-775a-4e80-959b-965df2fcb66d\",\"root_ids\":[\"1102\"],\"roots\":{\"1102\":\"9032ae92-0100-4f53-8ce0-fca49142b70c\"}}];\n",
       "  root.Bokeh.embed.embed_items_notebook(docs_json, render_items);\n",
       "  }\n",
       "  if (root.Bokeh !== undefined) {\n",
       "    embed_document(root);\n",
       "  } else {\n",
       "    let attempts = 0;\n",
       "    const timer = setInterval(function(root) {\n",
       "      if (root.Bokeh !== undefined) {\n",
       "        clearInterval(timer);\n",
       "        embed_document(root);\n",
       "      } else {\n",
       "        attempts++;\n",
       "        if (attempts > 100) {\n",
       "          clearInterval(timer);\n",
       "          console.log(\"Bokeh: ERROR: Unable to run BokehJS code because BokehJS library is missing\");\n",
       "        }\n",
       "      }\n",
       "    }, 10, root)\n",
       "  }\n",
       "})(window);"
      ],
      "application/vnd.bokehjs_exec.v0+json": ""
     },
     "metadata": {
      "application/vnd.bokehjs_exec.v0+json": {
       "id": "1102"
      }
     },
     "output_type": "display_data"
    }
   ],
   "source": [
    "profilers[1].visualize();"
   ]
  },
  {
   "cell_type": "markdown",
   "id": "95a9fa0a-f044-40cd-8964-9e4a1911fa87",
   "metadata": {},
   "source": [
    "We ran the calculation on a single computer with an 4-core CPU with 2 threads per core for 8 threads total. We see that our peak CPU usage was $\\sim 600 \\%$, this is a fairly typical usage statistic for a single machine, overhead and background processes limited us from reaching the $800 \\ \\%$ corresponding to using every available thread maximally.\n",
    "\n",
    "We also see that the total memory use reached around 800 MB. If you are running the calculation on a system with more threads your memory consumption may be larger – it may even exceed the total memory cost of all the wave functions, as every parallel run of the multislice algorithm requires a significant overhead for intermediate results (such as potential slices and Fresnel propagators). If your calculation runs out of memory you can lower the number of workers, thus trading away computational speed for lower memory consumption.\n",
    "\n",
    "We note that the overhead in both CPU usage and memory diminishes for larger simulation with more powerful hardware."
   ]
  },
  {
   "cell_type": "markdown",
   "id": "88a96448-5a2a-4c60-9ce7-7a2f43845d3c",
   "metadata": {},
   "source": [
    "### The (locally) distributed scheduler\n",
    "The Dask distributed scheduler is necessary for running your simulations on a cluster, but it also runs [locally on a personal machine](https://docs.dask.org/en/stable/scheduling.html#dask-distributed-local). You can find details in the Dask documentation, but we demonstrate the basics below.\n",
    "\n",
    "You can use the Dask distributed scheduler by just initializing a [Dask Client](https://distributed.dask.org/en/stable/client.html). The `Client` takes keyword arguments such as `n_workers` (note that this is different from `num_workers` above!)"
   ]
  },
  {
   "cell_type": "code",
   "execution_count": 17,
   "id": "2b7c37a3-909c-482e-99fb-72e4eb222a5a",
   "metadata": {},
   "outputs": [
    {
     "data": {
      "text/html": [
       "<div>\n",
       "    <div style=\"width: 24px; height: 24px; background-color: #e1e1e1; border: 3px solid #9D9D9D; border-radius: 5px; position: absolute;\"> </div>\n",
       "    <div style=\"margin-left: 48px;\">\n",
       "        <h3 style=\"margin-bottom: 0px;\">Client</h3>\n",
       "        <p style=\"color: #9D9D9D; margin-bottom: 0px;\">Client-8036ce02-537c-11ed-b3ab-f218984d7c80</p>\n",
       "        <table style=\"width: 100%; text-align: left;\">\n",
       "\n",
       "        <tr>\n",
       "        \n",
       "            <td style=\"text-align: left;\"><strong>Connection method:</strong> Cluster object</td>\n",
       "            <td style=\"text-align: left;\"><strong>Cluster type:</strong> distributed.LocalCluster</td>\n",
       "        \n",
       "        </tr>\n",
       "\n",
       "        \n",
       "            <tr>\n",
       "                <td style=\"text-align: left;\">\n",
       "                    <strong>Dashboard: </strong> <a href=\"http://127.0.0.1:8787/status\" target=\"_blank\">http://127.0.0.1:8787/status</a>\n",
       "                </td>\n",
       "                <td style=\"text-align: left;\"></td>\n",
       "            </tr>\n",
       "        \n",
       "\n",
       "        </table>\n",
       "\n",
       "        \n",
       "            <details>\n",
       "            <summary style=\"margin-bottom: 20px;\"><h3 style=\"display: inline;\">Cluster Info</h3></summary>\n",
       "            <div class=\"jp-RenderedHTMLCommon jp-RenderedHTML jp-mod-trusted jp-OutputArea-output\">\n",
       "    <div style=\"width: 24px; height: 24px; background-color: #e1e1e1; border: 3px solid #9D9D9D; border-radius: 5px; position: absolute;\">\n",
       "    </div>\n",
       "    <div style=\"margin-left: 48px;\">\n",
       "        <h3 style=\"margin-bottom: 0px; margin-top: 0px;\">LocalCluster</h3>\n",
       "        <p style=\"color: #9D9D9D; margin-bottom: 0px;\">195809b1</p>\n",
       "        <table style=\"width: 100%; text-align: left;\">\n",
       "            <tr>\n",
       "                <td style=\"text-align: left;\">\n",
       "                    <strong>Dashboard:</strong> <a href=\"http://127.0.0.1:8787/status\" target=\"_blank\">http://127.0.0.1:8787/status</a>\n",
       "                </td>\n",
       "                <td style=\"text-align: left;\">\n",
       "                    <strong>Workers:</strong> 6\n",
       "                </td>\n",
       "            </tr>\n",
       "            <tr>\n",
       "                <td style=\"text-align: left;\">\n",
       "                    <strong>Total threads:</strong> 12\n",
       "                </td>\n",
       "                <td style=\"text-align: left;\">\n",
       "                    <strong>Total memory:</strong> 16.00 GiB\n",
       "                </td>\n",
       "            </tr>\n",
       "            \n",
       "            <tr>\n",
       "    <td style=\"text-align: left;\"><strong>Status:</strong> running</td>\n",
       "    <td style=\"text-align: left;\"><strong>Using processes:</strong> True</td>\n",
       "</tr>\n",
       "\n",
       "            \n",
       "        </table>\n",
       "\n",
       "        <details>\n",
       "            <summary style=\"margin-bottom: 20px;\">\n",
       "                <h3 style=\"display: inline;\">Scheduler Info</h3>\n",
       "            </summary>\n",
       "\n",
       "            <div style=\"\">\n",
       "    <div>\n",
       "        <div style=\"width: 24px; height: 24px; background-color: #FFF7E5; border: 3px solid #FF6132; border-radius: 5px; position: absolute;\"> </div>\n",
       "        <div style=\"margin-left: 48px;\">\n",
       "            <h3 style=\"margin-bottom: 0px;\">Scheduler</h3>\n",
       "            <p style=\"color: #9D9D9D; margin-bottom: 0px;\">Scheduler-deeabdc8-bbbc-4619-b49b-d1130db4803d</p>\n",
       "            <table style=\"width: 100%; text-align: left;\">\n",
       "                <tr>\n",
       "                    <td style=\"text-align: left;\">\n",
       "                        <strong>Comm:</strong> tcp://127.0.0.1:63727\n",
       "                    </td>\n",
       "                    <td style=\"text-align: left;\">\n",
       "                        <strong>Workers:</strong> 6\n",
       "                    </td>\n",
       "                </tr>\n",
       "                <tr>\n",
       "                    <td style=\"text-align: left;\">\n",
       "                        <strong>Dashboard:</strong> <a href=\"http://127.0.0.1:8787/status\" target=\"_blank\">http://127.0.0.1:8787/status</a>\n",
       "                    </td>\n",
       "                    <td style=\"text-align: left;\">\n",
       "                        <strong>Total threads:</strong> 12\n",
       "                    </td>\n",
       "                </tr>\n",
       "                <tr>\n",
       "                    <td style=\"text-align: left;\">\n",
       "                        <strong>Started:</strong> Just now\n",
       "                    </td>\n",
       "                    <td style=\"text-align: left;\">\n",
       "                        <strong>Total memory:</strong> 16.00 GiB\n",
       "                    </td>\n",
       "                </tr>\n",
       "            </table>\n",
       "        </div>\n",
       "    </div>\n",
       "\n",
       "    <details style=\"margin-left: 48px;\">\n",
       "        <summary style=\"margin-bottom: 20px;\">\n",
       "            <h3 style=\"display: inline;\">Workers</h3>\n",
       "        </summary>\n",
       "\n",
       "        \n",
       "        <div style=\"margin-bottom: 20px;\">\n",
       "            <div style=\"width: 24px; height: 24px; background-color: #DBF5FF; border: 3px solid #4CC9FF; border-radius: 5px; position: absolute;\"> </div>\n",
       "            <div style=\"margin-left: 48px;\">\n",
       "            <details>\n",
       "                <summary>\n",
       "                    <h4 style=\"margin-bottom: 0px; display: inline;\">Worker: 0</h4>\n",
       "                </summary>\n",
       "                <table style=\"width: 100%; text-align: left;\">\n",
       "                    <tr>\n",
       "                        <td style=\"text-align: left;\">\n",
       "                            <strong>Comm: </strong> tcp://127.0.0.1:63754\n",
       "                        </td>\n",
       "                        <td style=\"text-align: left;\">\n",
       "                            <strong>Total threads: </strong> 2\n",
       "                        </td>\n",
       "                    </tr>\n",
       "                    <tr>\n",
       "                        <td style=\"text-align: left;\">\n",
       "                            <strong>Dashboard: </strong> <a href=\"http://127.0.0.1:63755/status\" target=\"_blank\">http://127.0.0.1:63755/status</a>\n",
       "                        </td>\n",
       "                        <td style=\"text-align: left;\">\n",
       "                            <strong>Memory: </strong> 2.67 GiB\n",
       "                        </td>\n",
       "                    </tr>\n",
       "                    <tr>\n",
       "                        <td style=\"text-align: left;\">\n",
       "                            <strong>Nanny: </strong> tcp://127.0.0.1:63731\n",
       "                        </td>\n",
       "                        <td style=\"text-align: left;\"></td>\n",
       "                    </tr>\n",
       "                    <tr>\n",
       "                        <td colspan=\"2\" style=\"text-align: left;\">\n",
       "                            <strong>Local directory: </strong> /var/folders/_p/k7hrlnh132n933827sxdjkrm0000gn/T/dask-worker-space/worker-7bv_h5xk\n",
       "                        </td>\n",
       "                    </tr>\n",
       "\n",
       "                    \n",
       "\n",
       "                    \n",
       "\n",
       "                </table>\n",
       "            </details>\n",
       "            </div>\n",
       "        </div>\n",
       "        \n",
       "        <div style=\"margin-bottom: 20px;\">\n",
       "            <div style=\"width: 24px; height: 24px; background-color: #DBF5FF; border: 3px solid #4CC9FF; border-radius: 5px; position: absolute;\"> </div>\n",
       "            <div style=\"margin-left: 48px;\">\n",
       "            <details>\n",
       "                <summary>\n",
       "                    <h4 style=\"margin-bottom: 0px; display: inline;\">Worker: 1</h4>\n",
       "                </summary>\n",
       "                <table style=\"width: 100%; text-align: left;\">\n",
       "                    <tr>\n",
       "                        <td style=\"text-align: left;\">\n",
       "                            <strong>Comm: </strong> tcp://127.0.0.1:63763\n",
       "                        </td>\n",
       "                        <td style=\"text-align: left;\">\n",
       "                            <strong>Total threads: </strong> 2\n",
       "                        </td>\n",
       "                    </tr>\n",
       "                    <tr>\n",
       "                        <td style=\"text-align: left;\">\n",
       "                            <strong>Dashboard: </strong> <a href=\"http://127.0.0.1:63764/status\" target=\"_blank\">http://127.0.0.1:63764/status</a>\n",
       "                        </td>\n",
       "                        <td style=\"text-align: left;\">\n",
       "                            <strong>Memory: </strong> 2.67 GiB\n",
       "                        </td>\n",
       "                    </tr>\n",
       "                    <tr>\n",
       "                        <td style=\"text-align: left;\">\n",
       "                            <strong>Nanny: </strong> tcp://127.0.0.1:63735\n",
       "                        </td>\n",
       "                        <td style=\"text-align: left;\"></td>\n",
       "                    </tr>\n",
       "                    <tr>\n",
       "                        <td colspan=\"2\" style=\"text-align: left;\">\n",
       "                            <strong>Local directory: </strong> /var/folders/_p/k7hrlnh132n933827sxdjkrm0000gn/T/dask-worker-space/worker-sotclnjj\n",
       "                        </td>\n",
       "                    </tr>\n",
       "\n",
       "                    \n",
       "\n",
       "                    \n",
       "\n",
       "                </table>\n",
       "            </details>\n",
       "            </div>\n",
       "        </div>\n",
       "        \n",
       "        <div style=\"margin-bottom: 20px;\">\n",
       "            <div style=\"width: 24px; height: 24px; background-color: #DBF5FF; border: 3px solid #4CC9FF; border-radius: 5px; position: absolute;\"> </div>\n",
       "            <div style=\"margin-left: 48px;\">\n",
       "            <details>\n",
       "                <summary>\n",
       "                    <h4 style=\"margin-bottom: 0px; display: inline;\">Worker: 2</h4>\n",
       "                </summary>\n",
       "                <table style=\"width: 100%; text-align: left;\">\n",
       "                    <tr>\n",
       "                        <td style=\"text-align: left;\">\n",
       "                            <strong>Comm: </strong> tcp://127.0.0.1:63757\n",
       "                        </td>\n",
       "                        <td style=\"text-align: left;\">\n",
       "                            <strong>Total threads: </strong> 2\n",
       "                        </td>\n",
       "                    </tr>\n",
       "                    <tr>\n",
       "                        <td style=\"text-align: left;\">\n",
       "                            <strong>Dashboard: </strong> <a href=\"http://127.0.0.1:63758/status\" target=\"_blank\">http://127.0.0.1:63758/status</a>\n",
       "                        </td>\n",
       "                        <td style=\"text-align: left;\">\n",
       "                            <strong>Memory: </strong> 2.67 GiB\n",
       "                        </td>\n",
       "                    </tr>\n",
       "                    <tr>\n",
       "                        <td style=\"text-align: left;\">\n",
       "                            <strong>Nanny: </strong> tcp://127.0.0.1:63732\n",
       "                        </td>\n",
       "                        <td style=\"text-align: left;\"></td>\n",
       "                    </tr>\n",
       "                    <tr>\n",
       "                        <td colspan=\"2\" style=\"text-align: left;\">\n",
       "                            <strong>Local directory: </strong> /var/folders/_p/k7hrlnh132n933827sxdjkrm0000gn/T/dask-worker-space/worker-2ydggsiv\n",
       "                        </td>\n",
       "                    </tr>\n",
       "\n",
       "                    \n",
       "\n",
       "                    \n",
       "\n",
       "                </table>\n",
       "            </details>\n",
       "            </div>\n",
       "        </div>\n",
       "        \n",
       "        <div style=\"margin-bottom: 20px;\">\n",
       "            <div style=\"width: 24px; height: 24px; background-color: #DBF5FF; border: 3px solid #4CC9FF; border-radius: 5px; position: absolute;\"> </div>\n",
       "            <div style=\"margin-left: 48px;\">\n",
       "            <details>\n",
       "                <summary>\n",
       "                    <h4 style=\"margin-bottom: 0px; display: inline;\">Worker: 3</h4>\n",
       "                </summary>\n",
       "                <table style=\"width: 100%; text-align: left;\">\n",
       "                    <tr>\n",
       "                        <td style=\"text-align: left;\">\n",
       "                            <strong>Comm: </strong> tcp://127.0.0.1:63748\n",
       "                        </td>\n",
       "                        <td style=\"text-align: left;\">\n",
       "                            <strong>Total threads: </strong> 2\n",
       "                        </td>\n",
       "                    </tr>\n",
       "                    <tr>\n",
       "                        <td style=\"text-align: left;\">\n",
       "                            <strong>Dashboard: </strong> <a href=\"http://127.0.0.1:63749/status\" target=\"_blank\">http://127.0.0.1:63749/status</a>\n",
       "                        </td>\n",
       "                        <td style=\"text-align: left;\">\n",
       "                            <strong>Memory: </strong> 2.67 GiB\n",
       "                        </td>\n",
       "                    </tr>\n",
       "                    <tr>\n",
       "                        <td style=\"text-align: left;\">\n",
       "                            <strong>Nanny: </strong> tcp://127.0.0.1:63730\n",
       "                        </td>\n",
       "                        <td style=\"text-align: left;\"></td>\n",
       "                    </tr>\n",
       "                    <tr>\n",
       "                        <td colspan=\"2\" style=\"text-align: left;\">\n",
       "                            <strong>Local directory: </strong> /var/folders/_p/k7hrlnh132n933827sxdjkrm0000gn/T/dask-worker-space/worker-5cmsjmws\n",
       "                        </td>\n",
       "                    </tr>\n",
       "\n",
       "                    \n",
       "\n",
       "                    \n",
       "\n",
       "                </table>\n",
       "            </details>\n",
       "            </div>\n",
       "        </div>\n",
       "        \n",
       "        <div style=\"margin-bottom: 20px;\">\n",
       "            <div style=\"width: 24px; height: 24px; background-color: #DBF5FF; border: 3px solid #4CC9FF; border-radius: 5px; position: absolute;\"> </div>\n",
       "            <div style=\"margin-left: 48px;\">\n",
       "            <details>\n",
       "                <summary>\n",
       "                    <h4 style=\"margin-bottom: 0px; display: inline;\">Worker: 4</h4>\n",
       "                </summary>\n",
       "                <table style=\"width: 100%; text-align: left;\">\n",
       "                    <tr>\n",
       "                        <td style=\"text-align: left;\">\n",
       "                            <strong>Comm: </strong> tcp://127.0.0.1:63760\n",
       "                        </td>\n",
       "                        <td style=\"text-align: left;\">\n",
       "                            <strong>Total threads: </strong> 2\n",
       "                        </td>\n",
       "                    </tr>\n",
       "                    <tr>\n",
       "                        <td style=\"text-align: left;\">\n",
       "                            <strong>Dashboard: </strong> <a href=\"http://127.0.0.1:63761/status\" target=\"_blank\">http://127.0.0.1:63761/status</a>\n",
       "                        </td>\n",
       "                        <td style=\"text-align: left;\">\n",
       "                            <strong>Memory: </strong> 2.67 GiB\n",
       "                        </td>\n",
       "                    </tr>\n",
       "                    <tr>\n",
       "                        <td style=\"text-align: left;\">\n",
       "                            <strong>Nanny: </strong> tcp://127.0.0.1:63734\n",
       "                        </td>\n",
       "                        <td style=\"text-align: left;\"></td>\n",
       "                    </tr>\n",
       "                    <tr>\n",
       "                        <td colspan=\"2\" style=\"text-align: left;\">\n",
       "                            <strong>Local directory: </strong> /var/folders/_p/k7hrlnh132n933827sxdjkrm0000gn/T/dask-worker-space/worker-ul048v8o\n",
       "                        </td>\n",
       "                    </tr>\n",
       "\n",
       "                    \n",
       "\n",
       "                    \n",
       "\n",
       "                </table>\n",
       "            </details>\n",
       "            </div>\n",
       "        </div>\n",
       "        \n",
       "        <div style=\"margin-bottom: 20px;\">\n",
       "            <div style=\"width: 24px; height: 24px; background-color: #DBF5FF; border: 3px solid #4CC9FF; border-radius: 5px; position: absolute;\"> </div>\n",
       "            <div style=\"margin-left: 48px;\">\n",
       "            <details>\n",
       "                <summary>\n",
       "                    <h4 style=\"margin-bottom: 0px; display: inline;\">Worker: 5</h4>\n",
       "                </summary>\n",
       "                <table style=\"width: 100%; text-align: left;\">\n",
       "                    <tr>\n",
       "                        <td style=\"text-align: left;\">\n",
       "                            <strong>Comm: </strong> tcp://127.0.0.1:63751\n",
       "                        </td>\n",
       "                        <td style=\"text-align: left;\">\n",
       "                            <strong>Total threads: </strong> 2\n",
       "                        </td>\n",
       "                    </tr>\n",
       "                    <tr>\n",
       "                        <td style=\"text-align: left;\">\n",
       "                            <strong>Dashboard: </strong> <a href=\"http://127.0.0.1:63752/status\" target=\"_blank\">http://127.0.0.1:63752/status</a>\n",
       "                        </td>\n",
       "                        <td style=\"text-align: left;\">\n",
       "                            <strong>Memory: </strong> 2.67 GiB\n",
       "                        </td>\n",
       "                    </tr>\n",
       "                    <tr>\n",
       "                        <td style=\"text-align: left;\">\n",
       "                            <strong>Nanny: </strong> tcp://127.0.0.1:63733\n",
       "                        </td>\n",
       "                        <td style=\"text-align: left;\"></td>\n",
       "                    </tr>\n",
       "                    <tr>\n",
       "                        <td colspan=\"2\" style=\"text-align: left;\">\n",
       "                            <strong>Local directory: </strong> /var/folders/_p/k7hrlnh132n933827sxdjkrm0000gn/T/dask-worker-space/worker-bcsasfur\n",
       "                        </td>\n",
       "                    </tr>\n",
       "\n",
       "                    \n",
       "\n",
       "                    \n",
       "\n",
       "                </table>\n",
       "            </details>\n",
       "            </div>\n",
       "        </div>\n",
       "        \n",
       "\n",
       "    </details>\n",
       "</div>\n",
       "\n",
       "        </details>\n",
       "    </div>\n",
       "</div>\n",
       "            </details>\n",
       "        \n",
       "\n",
       "    </div>\n",
       "</div>"
      ],
      "text/plain": [
       "<Client: 'tcp://127.0.0.1:63727' processes=6 threads=12, memory=16.00 GiB>"
      ]
     },
     "execution_count": 17,
     "metadata": {},
     "output_type": "execute_result"
    }
   ],
   "source": [
    "from dask.distributed import Client\n",
    "\n",
    "client = Client(n_workers=6)\n",
    "client"
   ]
  },
  {
   "cell_type": "markdown",
   "id": "cd8cacd8-4c48-4eea-930c-33f3fe834410",
   "metadata": {},
   "source": [
    "After intializing the client object, any *ab*TEM computation will use the Dask distributed scheduler."
   ]
  },
  {
   "cell_type": "code",
   "execution_count": 18,
   "id": "2b0d7e8f-24dd-4ada-9650-874e750a3652",
   "metadata": {},
   "outputs": [
    {
     "data": {
      "text/plain": [
       "<abtem.measurements.Images object at 0x7fd177bf6280>"
      ]
     },
     "execution_count": 18,
     "metadata": {},
     "output_type": "execute_result"
    }
   ],
   "source": [
    "haadf_images = detector.detect(exit_waves_stem).reduce_ensemble()\n",
    "haadf_images.compute()"
   ]
  },
  {
   "cell_type": "markdown",
   "id": "31a20506-7155-45f0-b641-3931bbb20029",
   "metadata": {},
   "source": [
    "A benefit of using the distributed scheduler on a single machine is the live diagnostic dashboard. You can access this through the Dashboard link shown in the `__repr__` for the `Client` above (for details you can watch [this](https://www.youtube.com/watch?v=N_GqzcuGLCY) video walkthrough). If you are using Jupyter Lab, the [Dask labextension](https://github.com/dask/dask-labextension) provides the same information as a panel inside the Jupyter Lab editor.\n",
    "\n",
    "We can get back to the local scheduler by closing the `Client`."
   ]
  },
  {
   "cell_type": "code",
   "execution_count": 19,
   "id": "e38de7a7-2b82-442e-8258-d9e2717a7b2b",
   "metadata": {},
   "outputs": [],
   "source": [
    "client.close()"
   ]
  },
  {
   "cell_type": "markdown",
   "id": "dffe61f7-43d8-47e6-a00a-3e73e33320ad",
   "metadata": {},
   "source": [
    "### Running *ab*TEM on HPC clusters\n",
    "\n",
    "Dask (and thus *ab*TEM) has robust tools for deployment on high-performance compute clusters. We recommend consulting your HPC provider on how to deploy Dask applications on your available cluster. For general advice on deployment, please see the [Dask documentation](https://docs.dask.org/en/stable/deploying.html).\n",
    "\n",
    "#### Submitting job scripts \n",
    "\n",
    "As an overview, Dask provides a number of different cluster managers, so you can use distributed Dask on a range of platforms. These cluster managers deploy a scheduler and the necessary workers as determined by communicating with the resource manager. All cluster managers follow the same interface but have platform-specific configuration options.\n",
    "\n",
    "As an example, for deployment using [SLURM](https://slurm.schedmd.com/documentation.html), your script might look something like:\n",
    "\n",
    "```python\n",
    "from dask_jobqueue import SLURMCluster\n",
    "from dask.distributed import Client\n",
    "\n",
    "cluster = SLURMCluster(\n",
    "    queue=\"regular\",\n",
    "    account=\"myaccount\",\n",
    "    cores=32,\n",
    "    memory=\"128 GB\"\n",
    ")\n",
    "\n",
    "client = Client(cluster)\n",
    "\n",
    "# Your abTEM code goes here\n",
    "\n",
    "```\n",
    "\n",
    "Dask also supports deployment from within an existing MPI environment, such as one created with the common MPI command-line launcher `mpirun`, see [here](http://mpi.dask.org/en/latest/) for more information. You can turn your batch Python script into an MPI executable with the `dask_mpi.initialize` function. \n",
    "\n",
    "```python\n",
    "from dask_mpi import initialize\n",
    "initialize()\n",
    "\n",
    "from dask.distributed import Client\n",
    "client = Client()  # Connect this local process to remote workers\n",
    "\n",
    "# Your abTEM code goes here\n",
    "```\n",
    "\n",
    "This makes your Python script launchable directly with `mpirun`:\n",
    "```\n",
    "mpirun -np 4 python my_client_script.py\n",
    "```"
   ]
  },
  {
   "cell_type": "markdown",
   "id": "e39cb8d2-a898-478d-9831-275ac5f2f06b",
   "metadata": {
    "pycharm": {
     "name": "#%% md\n"
    }
   },
   "source": [
    "(walkthrough:parallelization:gpu)=\n",
    "## Using GPUs\n",
    "\n",
    "Almost every part of *ab*TEM can be accelerated using a GPU through the [CuPy](https://cupy.dev/) library. We have only tested CUDA-compatible GPUs, but any graphics card compatible with CuPy should work.\n",
    "\n",
    "If you have a compatible GPU and a working installation of CuPy, you can accelerate your image simulations by simply changing the configs at the top of your document as below:\n",
    "```python\n",
    "abtem.config.set({\"device\": \"gpu\"});\n",
    "```\n",
    "On a single GPU, you may also want to limit the number of workers to one, `num_workers=1`. As described above, this may be done through the Dask config:\n",
    "```python\n",
    "dask.config.set({\"num_workers\": 1});\n",
    "```\n",
    "\n",
    "Note that Dask does not manage GPU threads. This makes the choice of batch sizes (i.e. propagating multiple wave functions in a single batch) extremely important in order to fully utilize your GPU. The default batch size in GPU calculations in abTEM is $512\\ \\mathrm{MB}$, which is four times larger than the CPU batch size, but if your GPU has $8\\ \\mathrm{GB}$ or more memory, you will likely be able to increase this number to $2048\\ \\mathrm{MB}$.\n",
    "\n",
    "```python\n",
    "abtem.config.set({\"dask.chunk-size-gpu\" : \"512 MB\"})\n",
    "```\n",
    "\n",
    "```{note}\n",
    "The batch size only determines the maximum number of plane waves in a batch, so you need to leave room in the memory for any intermediate overhead. \n",
    "```\n",
    "\n",
    "Finally, *ab*TEM by default sets the [FFT plan cache](https://docs.cupy.dev/en/stable/user_guide/fft.html#fft-plan-cache) size of `cupy` to zero, as we find that in most cases the increased memory consumption of the plans are not worth the small speedup they provide. You can however also change this through the *ab*TEM config.\n",
    "\n",
    "```python\n",
    "abtem.config.set({\"cupy.fft-cache-size\" : \"1024 MB\"})\n",
    "```"
   ]
  },
  {
   "cell_type": "markdown",
   "id": "94cdb086-c8a9-4736-a345-311d47379f34",
   "metadata": {},
   "source": [
    "### Multiple GPUs \n",
    "The above is enough for running *ab*TEM on a single GPU; if you are using an NVidia GPU, you may want to install `dask_cuda` (this is currently only supported on Linux). However, `dask_cuda` is currently necessary for multi-GPU calculations with *ab*TEM.\n",
    "\n",
    "```python\n",
    "from dask_cuda import LocalCUDACluster\n",
    "from dask.distributed import Client\n",
    "\n",
    "cluster = LocalCUDACluster()\n",
    "client = Client(cluster)\n",
    "```"
   ]
  },
  {
   "cell_type": "code",
   "execution_count": null,
   "id": "fa8f869a-ec10-4126-afc5-4c0bfaff3179",
   "metadata": {},
   "outputs": [],
   "source": []
  }
 ],
 "metadata": {
  "kernelspec": {
   "display_name": "test_threads",
   "language": "python",
   "name": "test_threads"
  },
  "language_info": {
   "codemirror_mode": {
    "name": "ipython",
    "version": 3
   },
   "file_extension": ".py",
   "mimetype": "text/x-python",
   "name": "python",
   "nbconvert_exporter": "python",
   "pygments_lexer": "ipython3",
   "version": "3.9.13"
  },
  "widgets": {
   "application/vnd.jupyter.widget-state+json": {
    "state": {},
    "version_major": 2,
    "version_minor": 0
   }
  }
 },
 "nbformat": 4,
 "nbformat_minor": 5
}
