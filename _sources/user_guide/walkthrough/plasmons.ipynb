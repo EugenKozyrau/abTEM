{
 "cells": [
  {
   "cell_type": "code",
   "execution_count": 1,
   "id": "6732b31b-14eb-45c3-a334-ff8318f1092b",
   "metadata": {},
   "outputs": [],
   "source": [
    "import abtem\n",
    "import ase"
   ]
  },
  {
   "cell_type": "markdown",
   "id": "1dd54171-1b6f-4473-9bc7-bbb5348f2567",
   "metadata": {},
   "source": [
    "(walkthrough:plasmons)=\n",
    "# Plasmons\n",
    "\n",
    ":::{admonition} {material-regular}`engineering;1.5rem;sd-mr-1` Currently Under Construction\n",
    ":class: no-icon\n",
    "Check back for more...\n",
    ":::"
   ]
  }
 ],
 "metadata": {
  "kernelspec": {
   "display_name": "test_threads",
   "language": "python",
   "name": "test_threads"
  },
  "language_info": {
   "codemirror_mode": {
    "name": "ipython",
    "version": 3
   },
   "file_extension": ".py",
   "mimetype": "text/x-python",
   "name": "python",
   "nbconvert_exporter": "python",
   "pygments_lexer": "ipython3",
   "version": "3.9.13"
  },
  "widgets": {
   "application/vnd.jupyter.widget-state+json": {
    "state": {},
    "version_major": 2,
    "version_minor": 0
   }
  }
 },
 "nbformat": 4,
 "nbformat_minor": 5
}
