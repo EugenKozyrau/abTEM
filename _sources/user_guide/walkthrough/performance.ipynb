{
 "cells": [
  {
   "cell_type": "code",
   "execution_count": 1,
   "id": "c8a68d55-5e9b-4bab-b324-05b89a56cecd",
   "metadata": {
    "pycharm": {
     "name": "#%%\n"
    },
    "tags": [
     "hide-input"
    ]
   },
   "outputs": [],
   "source": [
    "import abtem\n",
    "import dask\n",
    "import ase\n",
    "from IPython.display import Image, display\n",
    "\n",
    "dask.config.set({\"array.svg.size\": 90});"
   ]
  },
  {
   "cell_type": "markdown",
   "id": "2b2c74ed-dfb6-4426-898a-63110b6fb253",
   "metadata": {
    "pycharm": {
     "name": "#%% md\n"
    }
   },
   "source": [
    "# Parallelization and Dask\n",
    "\n",
    "The computational cost of running multislice simulations can grow large depending on the number of probe positions, phonons and many other factors. This cost can be mitigated by using parallelism. Much of the necessary work in abTEM is [embarrasingly parallel](https://en.wikipedia.org/wiki/Embarrassingly_parallel), for example, every probe position is independent, thus each CPU core may calculate a batch of positions independently, only requiring communication after finishing a run of the multislice algorithm. \n",
    "\n",
    "abTEM is parallelized using [Dask](https://www.dask.org/){cite}`dask`. Dask allows scaling from a single laptop to hundreds of nodes at high-performance computing (HPC) facilities with minimal changes to the code. \n",
    "\n",
    "In this document, we introduce how abTEM uses Dask, this is not required knowledge for running abTEM on a single machine, nonetheless, it may still help you optimize your simulations. If you are already an experienced Dask user, most of what you already know can be applied to using abTEM. If you are new to Dask you may benefit from watching [this introduction](https://www.youtube.com/watch?v=nnndxbr_Xq4) before continuing. We note that Dask is used in several other libraries in electron microscopy, for example, [hyperspy](https://hyperspy.org/), [libertem](https://libertem.github.io/LiberTEM/) and [py4DSTEM](https://py4dstem.readthedocs.io/en/latest/), we think that you may benefit from knowing this library more genrally."
   ]
  },
  {
   "cell_type": "markdown",
   "id": "43b2aaf0-80a0-4058-99a2-faa12025ab42",
   "metadata": {
    "pycharm": {
     "name": "#%% md\n"
    }
   },
   "source": [
    "## Task graphs\n",
    "\n",
    "Simulating TEM experiments requires executing multiple tasks where each task may depend on the output of previous tasks. In Dask this is represented as a [*task graph*](https://docs.dask.org/en/stable/graphs.html), where each task is a node with edges between nodes if the task is dependent on another task. The simulation result is obtained by executing each task (node) in the graph with a Dask scheduler on a single machine or a cluster."
   ]
  },
  {
   "cell_type": "code",
   "execution_count": 2,
   "id": "fe6765fb-d0ea-4c35-b5bf-2eaadee69b0b",
   "metadata": {
    "tags": [
     "remove-input"
    ]
   },
   "outputs": [
    {
     "data": {
      "text/html": [
       "<img src=\"https://docs.dask.org/en/stable/_images/dask-overview.svg\" width=\"600\"/>"
      ],
      "text/plain": [
       "<IPython.core.display.Image object>"
      ]
     },
     "metadata": {},
     "output_type": "display_data"
    }
   ],
   "source": [
    "display(Image(url=\"https://docs.dask.org/en/stable/_images/dask-overview.svg\", width=600))"
   ]
  },
  {
   "cell_type": "markdown",
   "id": "95b10156-ee85-4600-92ed-b9c7c398dbdc",
   "metadata": {},
   "source": [
    "Below we create the task graph for running a multislice simulation using plane waves with gold in the $\\left<100\\right>$ zone axis with 8 frozen phonons. "
   ]
  },
  {
   "cell_type": "code",
   "execution_count": 63,
   "id": "60ba5ba0-0d6d-4ecb-8fdd-fa80316a579b",
   "metadata": {},
   "outputs": [],
   "source": [
    "atoms = ase.build.bulk(\"Au\", cubic=True) * (5, 5, 2)\n",
    "\n",
    "frozen_phonons = abtem.FrozenPhonons(\n",
    "    atoms, num_configs=4, sigmas=0.1, ensemble_mean=False\n",
    ")\n",
    "\n",
    "potential = abtem.Potential(frozen_phonons, gpts=512, slice_thickness=2)\n",
    "\n",
    "probe = abtem.PlaneWave(energy=200e3)\n",
    "\n",
    "exit_waves = probe.multislice(potential)"
   ]
  },
  {
   "cell_type": "markdown",
   "id": "cbc97cd9-2777-4ef4-a0c4-c020517b708e",
   "metadata": {},
   "source": [
    "The result is an ensemble of $8$ wave functions of shape $512\\times512$, which may be represented as a 3d array, where the first dimension represents the phonon ensemble and the last $2$ dimensions represents the 2d wave functions. \n",
    "\n",
    "As we have not executed the task graph yet, the wave functions are represented as a [Dask Array](https://docs.dask.org/en/stable/array.html). We can think of the Dask array as being composed of many smaller NumPy arrays, called *chunks*, and operations may be applied to each chunk rather than the full array. This enables \n",
    "\n",
    "1. Parallelism over the chunks \n",
    "2. Representing a larger-than-memory array as many smaller arrays which each fits in memory\n",
    "\n",
    "The Dask array `__repr__` shows how the chunks are laid out."
   ]
  },
  {
   "cell_type": "code",
   "execution_count": 64,
   "id": "adc736d7-6ca1-47a7-baa5-eb6a9b0d69cb",
   "metadata": {},
   "outputs": [
    {
     "data": {
      "text/html": [
       "<table>\n",
       "    <tr>\n",
       "        <td>\n",
       "            <table>\n",
       "                <thead>\n",
       "                    <tr>\n",
       "                        <td> </td>\n",
       "                        <th> Array </th>\n",
       "                        <th> Chunk </th>\n",
       "                    </tr>\n",
       "                </thead>\n",
       "                <tbody>\n",
       "                    \n",
       "                    <tr>\n",
       "                        <th> Bytes </th>\n",
       "                        <td> 8.00 MiB </td>\n",
       "                        <td> 2.00 MiB </td>\n",
       "                    </tr>\n",
       "                    \n",
       "                    <tr>\n",
       "                        <th> Shape </th>\n",
       "                        <td> (4, 512, 512) </td>\n",
       "                        <td> (1, 512, 512) </td>\n",
       "                    </tr>\n",
       "                    <tr>\n",
       "                        <th> Count </th>\n",
       "                        <td> 15 Graph Layers </td>\n",
       "                        <td> 4 Chunks </td>\n",
       "                    </tr>\n",
       "                    <tr>\n",
       "                    <th> Type </th>\n",
       "                    <td> complex64 </td>\n",
       "                    <td> numpy.ndarray </td>\n",
       "                    </tr>\n",
       "                </tbody>\n",
       "            </table>\n",
       "        </td>\n",
       "        <td>\n",
       "        <svg width=\"161\" height=\"151\" style=\"stroke:rgb(0,0,0);stroke-width:1\" >\n",
       "\n",
       "  <!-- Horizontal lines -->\n",
       "  <line x1=\"10\" y1=\"0\" x2=\"21\" y2=\"11\" style=\"stroke-width:2\" />\n",
       "  <line x1=\"10\" y1=\"90\" x2=\"21\" y2=\"101\" style=\"stroke-width:2\" />\n",
       "\n",
       "  <!-- Vertical lines -->\n",
       "  <line x1=\"10\" y1=\"0\" x2=\"10\" y2=\"90\" style=\"stroke-width:2\" />\n",
       "  <line x1=\"12\" y1=\"2\" x2=\"12\" y2=\"92\" />\n",
       "  <line x1=\"15\" y1=\"5\" x2=\"15\" y2=\"95\" />\n",
       "  <line x1=\"18\" y1=\"8\" x2=\"18\" y2=\"98\" />\n",
       "  <line x1=\"21\" y1=\"11\" x2=\"21\" y2=\"101\" style=\"stroke-width:2\" />\n",
       "\n",
       "  <!-- Colored Rectangle -->\n",
       "  <polygon points=\"10.0,0.0 21.2114484623158,11.211448462315802 21.2114484623158,101.2114484623158 10.0,90.0\" style=\"fill:#ECB172A0;stroke-width:0\"/>\n",
       "\n",
       "  <!-- Horizontal lines -->\n",
       "  <line x1=\"10\" y1=\"0\" x2=\"100\" y2=\"0\" style=\"stroke-width:2\" />\n",
       "  <line x1=\"12\" y1=\"2\" x2=\"102\" y2=\"2\" />\n",
       "  <line x1=\"15\" y1=\"5\" x2=\"105\" y2=\"5\" />\n",
       "  <line x1=\"18\" y1=\"8\" x2=\"108\" y2=\"8\" />\n",
       "  <line x1=\"21\" y1=\"11\" x2=\"111\" y2=\"11\" style=\"stroke-width:2\" />\n",
       "\n",
       "  <!-- Vertical lines -->\n",
       "  <line x1=\"10\" y1=\"0\" x2=\"21\" y2=\"11\" style=\"stroke-width:2\" />\n",
       "  <line x1=\"100\" y1=\"0\" x2=\"111\" y2=\"11\" style=\"stroke-width:2\" />\n",
       "\n",
       "  <!-- Colored Rectangle -->\n",
       "  <polygon points=\"10.0,0.0 100.0,0.0 111.2114484623158,11.211448462315802 21.2114484623158,11.211448462315802\" style=\"fill:#ECB172A0;stroke-width:0\"/>\n",
       "\n",
       "  <!-- Horizontal lines -->\n",
       "  <line x1=\"21\" y1=\"11\" x2=\"111\" y2=\"11\" style=\"stroke-width:2\" />\n",
       "  <line x1=\"21\" y1=\"101\" x2=\"111\" y2=\"101\" style=\"stroke-width:2\" />\n",
       "\n",
       "  <!-- Vertical lines -->\n",
       "  <line x1=\"21\" y1=\"11\" x2=\"21\" y2=\"101\" style=\"stroke-width:2\" />\n",
       "  <line x1=\"111\" y1=\"11\" x2=\"111\" y2=\"101\" style=\"stroke-width:2\" />\n",
       "\n",
       "  <!-- Colored Rectangle -->\n",
       "  <polygon points=\"21.2114484623158,11.211448462315802 111.2114484623158,11.211448462315802 111.2114484623158,101.2114484623158 21.2114484623158,101.2114484623158\" style=\"fill:#ECB172A0;stroke-width:0\"/>\n",
       "\n",
       "  <!-- Text -->\n",
       "  <text x=\"66.211448\" y=\"121.211448\" font-size=\"1.0rem\" font-weight=\"100\" text-anchor=\"middle\" >512</text>\n",
       "  <text x=\"131.211448\" y=\"56.211448\" font-size=\"1.0rem\" font-weight=\"100\" text-anchor=\"middle\" transform=\"rotate(-90,131.211448,56.211448)\">512</text>\n",
       "  <text x=\"5.605724\" y=\"115.605724\" font-size=\"1.0rem\" font-weight=\"100\" text-anchor=\"middle\" transform=\"rotate(45,5.605724,115.605724)\">4</text>\n",
       "</svg>\n",
       "        </td>\n",
       "    </tr>\n",
       "</table>"
      ],
      "text/plain": [
       "dask.array<_extract_measurement, shape=(4, 512, 512), dtype=complex64, chunksize=(1, 512, 512), chunktype=numpy.ndarray>"
      ]
     },
     "execution_count": 64,
     "metadata": {},
     "output_type": "execute_result"
    }
   ],
   "source": [
    "exit_waves.array"
   ]
  },
  {
   "cell_type": "markdown",
   "id": "07d22d90-2701-4d3e-bc91-ab2260232950",
   "metadata": {},
   "source": [
    "We see that the Dask array has the shape `(4, 512, 512)` requiring 8 MB of memory, this is composed of chunks with a shape `(1, 512, 512)` requiring 2 MB each. It is important to stress that the Dask array just represents a task graph, hence, memory is consumed only if it is computed.\n",
    "\n",
    "We observe that each chunk represents a wave function for a frozen phonon configuration. This reflects that, in the multislice algorithm, each frozen phonon configuration is independent and may be calculated in parallel. On the other hand, we should not have chunks across wave functions because each part of the wave function is affected by every other part.\n",
    "\n",
    "We can visualize the task graph using Dasks [`visualize`](https://docs.dask.org/en/stable/graphviz.html) method. We see that the task graph consists of 4 fully independent branches, one for each frozen phonon."
   ]
  },
  {
   "cell_type": "code",
   "execution_count": 47,
   "id": "45d463ae-c282-4710-a05c-0817cb996457",
   "metadata": {},
   "outputs": [
    {
     "data": {
      "application/vnd.jupyter.widget-view+json": {
       "model_id": "a650f81ed04842cfb0b4eb2af444175b",
       "version_major": 2,
       "version_minor": 0
      },
      "text/plain": [
       "CytoscapeWidget(cytoscape_layout={'name': 'dagre', 'rankDir': 'BT', 'nodeSep': 10, 'edgeSep': 10, 'spacingFact…"
      ]
     },
     "metadata": {},
     "output_type": "display_data"
    }
   ],
   "source": [
    "exit_waves.array.visualize(engine=\"cytoscape\")"
   ]
  },
  {
   "cell_type": "markdown",
   "id": "20d970c0-56e5-4066-b1d8-f6c71f59fb46",
   "metadata": {},
   "source": [
    "We usually take the mean across the frozen phonon dimension, thus, we end up with an image represented as a single chunk."
   ]
  },
  {
   "cell_type": "code",
   "execution_count": 65,
   "id": "907e3a1e-7132-4dc5-aa9b-bdeed01a6170",
   "metadata": {},
   "outputs": [
    {
     "data": {
      "text/html": [
       "<table>\n",
       "    <tr>\n",
       "        <td>\n",
       "            <table>\n",
       "                <thead>\n",
       "                    <tr>\n",
       "                        <td> </td>\n",
       "                        <th> Array </th>\n",
       "                        <th> Chunk </th>\n",
       "                    </tr>\n",
       "                </thead>\n",
       "                <tbody>\n",
       "                    \n",
       "                    <tr>\n",
       "                        <th> Bytes </th>\n",
       "                        <td> 1.00 MiB </td>\n",
       "                        <td> 1.00 MiB </td>\n",
       "                    </tr>\n",
       "                    \n",
       "                    <tr>\n",
       "                        <th> Shape </th>\n",
       "                        <td> (512, 512) </td>\n",
       "                        <td> (512, 512) </td>\n",
       "                    </tr>\n",
       "                    <tr>\n",
       "                        <th> Count </th>\n",
       "                        <td> 19 Graph Layers </td>\n",
       "                        <td> 1 Chunks </td>\n",
       "                    </tr>\n",
       "                    <tr>\n",
       "                    <th> Type </th>\n",
       "                    <td> float32 </td>\n",
       "                    <td> numpy.ndarray </td>\n",
       "                    </tr>\n",
       "                </tbody>\n",
       "            </table>\n",
       "        </td>\n",
       "        <td>\n",
       "        <svg width=\"140\" height=\"140\" style=\"stroke:rgb(0,0,0);stroke-width:1\" >\n",
       "\n",
       "  <!-- Horizontal lines -->\n",
       "  <line x1=\"0\" y1=\"0\" x2=\"90\" y2=\"0\" style=\"stroke-width:2\" />\n",
       "  <line x1=\"0\" y1=\"90\" x2=\"90\" y2=\"90\" style=\"stroke-width:2\" />\n",
       "\n",
       "  <!-- Vertical lines -->\n",
       "  <line x1=\"0\" y1=\"0\" x2=\"0\" y2=\"90\" style=\"stroke-width:2\" />\n",
       "  <line x1=\"90\" y1=\"0\" x2=\"90\" y2=\"90\" style=\"stroke-width:2\" />\n",
       "\n",
       "  <!-- Colored Rectangle -->\n",
       "  <polygon points=\"0.0,0.0 90.0,0.0 90.0,90.0 0.0,90.0\" style=\"fill:#ECB172A0;stroke-width:0\"/>\n",
       "\n",
       "  <!-- Text -->\n",
       "  <text x=\"45.000000\" y=\"110.000000\" font-size=\"1.0rem\" font-weight=\"100\" text-anchor=\"middle\" >512</text>\n",
       "  <text x=\"110.000000\" y=\"45.000000\" font-size=\"1.0rem\" font-weight=\"100\" text-anchor=\"middle\" transform=\"rotate(-90,110.000000,45.000000)\">512</text>\n",
       "</svg>\n",
       "        </td>\n",
       "    </tr>\n",
       "</table>"
      ],
      "text/plain": [
       "dask.array<mean_agg-aggregate, shape=(512, 512), dtype=float32, chunksize=(512, 512), chunktype=numpy.ndarray>"
      ]
     },
     "execution_count": 65,
     "metadata": {},
     "output_type": "execute_result"
    }
   ],
   "source": [
    "hrtem_image = exit_waves.intensity().mean(0)\n",
    "\n",
    "hrtem_image.array"
   ]
  },
  {
   "cell_type": "markdown",
   "id": "b9661725-7a20-44f6-8415-52489e91259b",
   "metadata": {},
   "source": [
    "Taking the mean across frozen phonon chunks requires communicating the exit wave function intensity. Showing the task graph we see how the branches are merged where the result from one core is communicated to another."
   ]
  },
  {
   "cell_type": "code",
   "execution_count": 49,
   "id": "27e8b98c-362e-4543-b6c2-e033a827143e",
   "metadata": {},
   "outputs": [
    {
     "data": {
      "application/vnd.jupyter.widget-view+json": {
       "model_id": "4ed995c928cd48cf8c3f4fea00b40e72",
       "version_major": 2,
       "version_minor": 0
      },
      "text/plain": [
       "CytoscapeWidget(cytoscape_layout={'name': 'dagre', 'rankDir': 'BT', 'nodeSep': 10, 'edgeSep': 10, 'spacingFact…"
      ]
     },
     "metadata": {},
     "output_type": "display_data"
    }
   ],
   "source": [
    "hrtem_image.array.visualize(engine=\"cytoscape\")"
   ]
  },
  {
   "cell_type": "markdown",
   "id": "7dcdbfb7-41d3-49ff-995f-bf17f01a120f",
   "metadata": {},
   "source": [
    "## Chunks\n",
    "Next, we create the task graph for running a STEM simulation with gold in the $\\left<100\\right>$ zone axis with 4 frozen phonons. We do not immediately apply a detector, hence we get an ensemble of exit wave functions. "
   ]
  },
  {
   "cell_type": "code",
   "execution_count": 70,
   "id": "5b9baf98-b088-4c6f-954d-8ae1a7d22c23",
   "metadata": {
    "pycharm": {
     "name": "#%%\n"
    }
   },
   "outputs": [
    {
     "data": {
      "text/plain": [
       "type               label           coordinates\n",
       "-----------------  --------------  -------------------\n",
       "FrozenPhononsAxis  Frozen phonons  -\n",
       "ScanAxis           x [Å]           0.00 0.27 ... 3.81\n",
       "ScanAxis           y [Å]           0.00 0.27 ... 3.81\n",
       "RealSpaceAxis      x [Å]           0.00 0.04 ... 20.36\n",
       "RealSpaceAxis      y [Å]           0.00 0.04 ... 20.36"
      ]
     },
     "execution_count": 70,
     "metadata": {},
     "output_type": "execute_result"
    }
   ],
   "source": [
    "probe = abtem.Probe(energy=200e3, semiangle_cutoff=20)\n",
    "\n",
    "scan = abtem.GridScan.from_fractional_coordinates(\n",
    "    potential, start=(0, 0), end=(1 / 5, 1 / 5)\n",
    ")\n",
    "\n",
    "exit_waves_stem = probe.multislice(potential, scan=scan)\n",
    "\n",
    "exit_waves_stem.axes_metadata"
   ]
  },
  {
   "cell_type": "markdown",
   "id": "69036139-511e-482d-8f72-e66b71df0924",
   "metadata": {},
   "source": [
    "The wave functions are represented as a 5d Dask array, a 3d ensemble of 2d wave functions, the ensemble is composed of one phonon dimension and 2 scan dimensions, one for each of the $x$ and $y$ direction. \n",
    "\n",
    "The full array is of shape `(4, 15, 15, 512, 512)` requiring 1.76 GB of memory, this is cut into chunks of shape `(1, 8, 7, 512, 512)` of 112 MB. Hence, there is a total of $4 \\times 2 \\times 3 = 24$ chunks."
   ]
  },
  {
   "cell_type": "code",
   "execution_count": 71,
   "id": "0d0ab17b-53e3-4e79-856a-d734fe3c1cbe",
   "metadata": {},
   "outputs": [
    {
     "data": {
      "text/html": [
       "<table>\n",
       "    <tr>\n",
       "        <td>\n",
       "            <table>\n",
       "                <thead>\n",
       "                    <tr>\n",
       "                        <td> </td>\n",
       "                        <th> Array </th>\n",
       "                        <th> Chunk </th>\n",
       "                    </tr>\n",
       "                </thead>\n",
       "                <tbody>\n",
       "                    \n",
       "                    <tr>\n",
       "                        <th> Bytes </th>\n",
       "                        <td> 1.76 GiB </td>\n",
       "                        <td> 112.00 MiB </td>\n",
       "                    </tr>\n",
       "                    \n",
       "                    <tr>\n",
       "                        <th> Shape </th>\n",
       "                        <td> (4, 15, 15, 512, 512) </td>\n",
       "                        <td> (1, 8, 7, 512, 512) </td>\n",
       "                    </tr>\n",
       "                    <tr>\n",
       "                        <th> Count </th>\n",
       "                        <td> 17 Graph Layers </td>\n",
       "                        <td> 24 Chunks </td>\n",
       "                    </tr>\n",
       "                    <tr>\n",
       "                    <th> Type </th>\n",
       "                    <td> complex64 </td>\n",
       "                    <td> numpy.ndarray </td>\n",
       "                    </tr>\n",
       "                </tbody>\n",
       "            </table>\n",
       "        </td>\n",
       "        <td>\n",
       "        <svg width=\"339\" height=\"153\" style=\"stroke:rgb(0,0,0);stroke-width:1\" >\n",
       "\n",
       "  <!-- Horizontal lines -->\n",
       "  <line x1=\"0\" y1=\"0\" x2=\"23\" y2=\"0\" style=\"stroke-width:2\" />\n",
       "  <line x1=\"0\" y1=\"4\" x2=\"23\" y2=\"4\" />\n",
       "  <line x1=\"0\" y1=\"9\" x2=\"23\" y2=\"9\" />\n",
       "  <line x1=\"0\" y1=\"14\" x2=\"23\" y2=\"14\" />\n",
       "  <line x1=\"0\" y1=\"19\" x2=\"23\" y2=\"19\" style=\"stroke-width:2\" />\n",
       "\n",
       "  <!-- Vertical lines -->\n",
       "  <line x1=\"0\" y1=\"0\" x2=\"0\" y2=\"19\" style=\"stroke-width:2\" />\n",
       "  <line x1=\"12\" y1=\"0\" x2=\"12\" y2=\"19\" />\n",
       "  <line x1=\"23\" y1=\"0\" x2=\"23\" y2=\"19\" style=\"stroke-width:2\" />\n",
       "\n",
       "  <!-- Colored Rectangle -->\n",
       "  <polygon points=\"0.0,0.0 23.436469151419786,0.0 23.436469151419786,19.059462385936865 0.0,19.059462385936865\" style=\"fill:#ECB172A0;stroke-width:0\"/>\n",
       "\n",
       "  <!-- Text -->\n",
       "  <text x=\"11.718235\" y=\"39.059462\" font-size=\"1.0rem\" font-weight=\"100\" text-anchor=\"middle\" >15</text>\n",
       "  <text x=\"43.436469\" y=\"9.529731\" font-size=\"1.0rem\" font-weight=\"100\" text-anchor=\"middle\" transform=\"rotate(0,43.436469,9.529731)\">4</text>\n",
       "\n",
       "\n",
       "  <!-- Horizontal lines -->\n",
       "  <line x1=\"93\" y1=\"0\" x2=\"106\" y2=\"13\" style=\"stroke-width:2\" />\n",
       "  <line x1=\"93\" y1=\"90\" x2=\"106\" y2=\"103\" style=\"stroke-width:2\" />\n",
       "\n",
       "  <!-- Vertical lines -->\n",
       "  <line x1=\"93\" y1=\"0\" x2=\"93\" y2=\"90\" style=\"stroke-width:2\" />\n",
       "  <line x1=\"99\" y1=\"6\" x2=\"99\" y2=\"96\" />\n",
       "  <line x1=\"105\" y1=\"12\" x2=\"105\" y2=\"102\" />\n",
       "  <line x1=\"106\" y1=\"13\" x2=\"106\" y2=\"103\" style=\"stroke-width:2\" />\n",
       "\n",
       "  <!-- Colored Rectangle -->\n",
       "  <polygon points=\"93.0,0.0 106.78615832436458,13.78615832436458 106.78615832436458,103.78615832436458 93.0,90.0\" style=\"fill:#ECB172A0;stroke-width:0\"/>\n",
       "\n",
       "  <!-- Horizontal lines -->\n",
       "  <line x1=\"93\" y1=\"0\" x2=\"183\" y2=\"0\" style=\"stroke-width:2\" />\n",
       "  <line x1=\"99\" y1=\"6\" x2=\"189\" y2=\"6\" />\n",
       "  <line x1=\"105\" y1=\"12\" x2=\"195\" y2=\"12\" />\n",
       "  <line x1=\"106\" y1=\"13\" x2=\"196\" y2=\"13\" style=\"stroke-width:2\" />\n",
       "\n",
       "  <!-- Vertical lines -->\n",
       "  <line x1=\"93\" y1=\"0\" x2=\"106\" y2=\"13\" style=\"stroke-width:2\" />\n",
       "  <line x1=\"183\" y1=\"0\" x2=\"196\" y2=\"13\" style=\"stroke-width:2\" />\n",
       "\n",
       "  <!-- Colored Rectangle -->\n",
       "  <polygon points=\"93.0,0.0 183.0,0.0 196.78615832436458,13.78615832436458 106.78615832436458,13.78615832436458\" style=\"fill:#ECB172A0;stroke-width:0\"/>\n",
       "\n",
       "  <!-- Horizontal lines -->\n",
       "  <line x1=\"106\" y1=\"13\" x2=\"196\" y2=\"13\" style=\"stroke-width:2\" />\n",
       "  <line x1=\"106\" y1=\"103\" x2=\"196\" y2=\"103\" style=\"stroke-width:2\" />\n",
       "\n",
       "  <!-- Vertical lines -->\n",
       "  <line x1=\"106\" y1=\"13\" x2=\"106\" y2=\"103\" style=\"stroke-width:2\" />\n",
       "  <line x1=\"196\" y1=\"13\" x2=\"196\" y2=\"103\" style=\"stroke-width:2\" />\n",
       "\n",
       "  <!-- Colored Rectangle -->\n",
       "  <polygon points=\"106.78615832436458,13.78615832436458 196.78615832436458,13.78615832436458 196.78615832436458,103.78615832436458 106.78615832436458,103.78615832436458\" style=\"fill:#ECB172A0;stroke-width:0\"/>\n",
       "\n",
       "  <!-- Text -->\n",
       "  <text x=\"151.786158\" y=\"123.786158\" font-size=\"1.0rem\" font-weight=\"100\" text-anchor=\"middle\" >512</text>\n",
       "  <text x=\"216.786158\" y=\"58.786158\" font-size=\"1.0rem\" font-weight=\"100\" text-anchor=\"middle\" transform=\"rotate(-90,216.786158,58.786158)\">512</text>\n",
       "  <text x=\"89.893079\" y=\"116.893079\" font-size=\"1.0rem\" font-weight=\"100\" text-anchor=\"middle\" transform=\"rotate(45,89.893079,116.893079)\">15</text>\n",
       "</svg>\n",
       "        </td>\n",
       "    </tr>\n",
       "</table>"
      ],
      "text/plain": [
       "dask.array<_extract_measurement, shape=(4, 15, 15, 512, 512), dtype=complex64, chunksize=(1, 8, 7, 512, 512), chunktype=numpy.ndarray>"
      ]
     },
     "execution_count": 71,
     "metadata": {},
     "output_type": "execute_result"
    }
   ],
   "source": [
    "exit_waves_stem.array"
   ]
  },
  {
   "cell_type": "markdown",
   "id": "00985534-3b37-458c-9cba-e5f6c783f334",
   "metadata": {},
   "source": [
    "We do not make a chunk for every probe position, instead each chunk of the scan dimension represents a batch of wave functions. This is done partly to limit [the overhead](https://docs.dask.org/en/stable/best-practices.html#avoid-very-large-graphs) that every chunk comes with, more importantly, larger batches enables efficient thread parallelization within each run of the multislice algorithm.\n",
    "\n",
    "We can change how many wave functions each batch should have using the `max_batch` keyword. Below we set `max_batch=4`, resulting in a total number of $8 \\times 8 \\times 8 = 512$ chunks."
   ]
  },
  {
   "cell_type": "code",
   "execution_count": 72,
   "id": "b1f9437b-ed6a-4836-8e6c-daa0ae526b21",
   "metadata": {},
   "outputs": [
    {
     "data": {
      "text/html": [
       "<table>\n",
       "    <tr>\n",
       "        <td>\n",
       "            <table>\n",
       "                <thead>\n",
       "                    <tr>\n",
       "                        <td> </td>\n",
       "                        <th> Array </th>\n",
       "                        <th> Chunk </th>\n",
       "                    </tr>\n",
       "                </thead>\n",
       "                <tbody>\n",
       "                    \n",
       "                    <tr>\n",
       "                        <th> Bytes </th>\n",
       "                        <td> 1.76 GiB </td>\n",
       "                        <td> 8.00 MiB </td>\n",
       "                    </tr>\n",
       "                    \n",
       "                    <tr>\n",
       "                        <th> Shape </th>\n",
       "                        <td> (4, 15, 15, 512, 512) </td>\n",
       "                        <td> (1, 2, 2, 512, 512) </td>\n",
       "                    </tr>\n",
       "                    <tr>\n",
       "                        <th> Count </th>\n",
       "                        <td> 16 Graph Layers </td>\n",
       "                        <td> 256 Chunks </td>\n",
       "                    </tr>\n",
       "                    <tr>\n",
       "                    <th> Type </th>\n",
       "                    <td> complex64 </td>\n",
       "                    <td> numpy.ndarray </td>\n",
       "                    </tr>\n",
       "                </tbody>\n",
       "            </table>\n",
       "        </td>\n",
       "        <td>\n",
       "        <svg width=\"339\" height=\"153\" style=\"stroke:rgb(0,0,0);stroke-width:1\" >\n",
       "\n",
       "  <!-- Horizontal lines -->\n",
       "  <line x1=\"0\" y1=\"0\" x2=\"23\" y2=\"0\" style=\"stroke-width:2\" />\n",
       "  <line x1=\"0\" y1=\"4\" x2=\"23\" y2=\"4\" />\n",
       "  <line x1=\"0\" y1=\"9\" x2=\"23\" y2=\"9\" />\n",
       "  <line x1=\"0\" y1=\"14\" x2=\"23\" y2=\"14\" />\n",
       "  <line x1=\"0\" y1=\"19\" x2=\"23\" y2=\"19\" style=\"stroke-width:2\" />\n",
       "\n",
       "  <!-- Vertical lines -->\n",
       "  <line x1=\"0\" y1=\"0\" x2=\"0\" y2=\"19\" style=\"stroke-width:2\" />\n",
       "  <line x1=\"3\" y1=\"0\" x2=\"3\" y2=\"19\" />\n",
       "  <line x1=\"6\" y1=\"0\" x2=\"6\" y2=\"19\" />\n",
       "  <line x1=\"9\" y1=\"0\" x2=\"9\" y2=\"19\" />\n",
       "  <line x1=\"12\" y1=\"0\" x2=\"12\" y2=\"19\" />\n",
       "  <line x1=\"15\" y1=\"0\" x2=\"15\" y2=\"19\" />\n",
       "  <line x1=\"18\" y1=\"0\" x2=\"18\" y2=\"19\" />\n",
       "  <line x1=\"21\" y1=\"0\" x2=\"21\" y2=\"19\" />\n",
       "  <line x1=\"23\" y1=\"0\" x2=\"23\" y2=\"19\" style=\"stroke-width:2\" />\n",
       "\n",
       "  <!-- Colored Rectangle -->\n",
       "  <polygon points=\"0.0,0.0 23.436469151419786,0.0 23.436469151419786,19.059462385936865 0.0,19.059462385936865\" style=\"fill:#ECB172A0;stroke-width:0\"/>\n",
       "\n",
       "  <!-- Text -->\n",
       "  <text x=\"11.718235\" y=\"39.059462\" font-size=\"1.0rem\" font-weight=\"100\" text-anchor=\"middle\" >15</text>\n",
       "  <text x=\"43.436469\" y=\"9.529731\" font-size=\"1.0rem\" font-weight=\"100\" text-anchor=\"middle\" transform=\"rotate(0,43.436469,9.529731)\">4</text>\n",
       "\n",
       "\n",
       "  <!-- Horizontal lines -->\n",
       "  <line x1=\"93\" y1=\"0\" x2=\"106\" y2=\"13\" style=\"stroke-width:2\" />\n",
       "  <line x1=\"93\" y1=\"90\" x2=\"106\" y2=\"103\" style=\"stroke-width:2\" />\n",
       "\n",
       "  <!-- Vertical lines -->\n",
       "  <line x1=\"93\" y1=\"0\" x2=\"93\" y2=\"90\" style=\"stroke-width:2\" />\n",
       "  <line x1=\"94\" y1=\"1\" x2=\"94\" y2=\"91\" />\n",
       "  <line x1=\"96\" y1=\"3\" x2=\"96\" y2=\"93\" />\n",
       "  <line x1=\"98\" y1=\"5\" x2=\"98\" y2=\"95\" />\n",
       "  <line x1=\"100\" y1=\"7\" x2=\"100\" y2=\"97\" />\n",
       "  <line x1=\"102\" y1=\"9\" x2=\"102\" y2=\"99\" />\n",
       "  <line x1=\"104\" y1=\"11\" x2=\"104\" y2=\"101\" />\n",
       "  <line x1=\"105\" y1=\"12\" x2=\"105\" y2=\"102\" />\n",
       "  <line x1=\"106\" y1=\"13\" x2=\"106\" y2=\"103\" style=\"stroke-width:2\" />\n",
       "\n",
       "  <!-- Colored Rectangle -->\n",
       "  <polygon points=\"93.0,0.0 106.78615832436458,13.78615832436458 106.78615832436458,103.78615832436458 93.0,90.0\" style=\"fill:#ECB172A0;stroke-width:0\"/>\n",
       "\n",
       "  <!-- Horizontal lines -->\n",
       "  <line x1=\"93\" y1=\"0\" x2=\"183\" y2=\"0\" style=\"stroke-width:2\" />\n",
       "  <line x1=\"94\" y1=\"1\" x2=\"184\" y2=\"1\" />\n",
       "  <line x1=\"96\" y1=\"3\" x2=\"186\" y2=\"3\" />\n",
       "  <line x1=\"98\" y1=\"5\" x2=\"188\" y2=\"5\" />\n",
       "  <line x1=\"100\" y1=\"7\" x2=\"190\" y2=\"7\" />\n",
       "  <line x1=\"102\" y1=\"9\" x2=\"192\" y2=\"9\" />\n",
       "  <line x1=\"104\" y1=\"11\" x2=\"194\" y2=\"11\" />\n",
       "  <line x1=\"105\" y1=\"12\" x2=\"195\" y2=\"12\" />\n",
       "  <line x1=\"106\" y1=\"13\" x2=\"196\" y2=\"13\" style=\"stroke-width:2\" />\n",
       "\n",
       "  <!-- Vertical lines -->\n",
       "  <line x1=\"93\" y1=\"0\" x2=\"106\" y2=\"13\" style=\"stroke-width:2\" />\n",
       "  <line x1=\"183\" y1=\"0\" x2=\"196\" y2=\"13\" style=\"stroke-width:2\" />\n",
       "\n",
       "  <!-- Colored Rectangle -->\n",
       "  <polygon points=\"93.0,0.0 183.0,0.0 196.78615832436458,13.78615832436458 106.78615832436458,13.78615832436458\" style=\"fill:#ECB172A0;stroke-width:0\"/>\n",
       "\n",
       "  <!-- Horizontal lines -->\n",
       "  <line x1=\"106\" y1=\"13\" x2=\"196\" y2=\"13\" style=\"stroke-width:2\" />\n",
       "  <line x1=\"106\" y1=\"103\" x2=\"196\" y2=\"103\" style=\"stroke-width:2\" />\n",
       "\n",
       "  <!-- Vertical lines -->\n",
       "  <line x1=\"106\" y1=\"13\" x2=\"106\" y2=\"103\" style=\"stroke-width:2\" />\n",
       "  <line x1=\"196\" y1=\"13\" x2=\"196\" y2=\"103\" style=\"stroke-width:2\" />\n",
       "\n",
       "  <!-- Colored Rectangle -->\n",
       "  <polygon points=\"106.78615832436458,13.78615832436458 196.78615832436458,13.78615832436458 196.78615832436458,103.78615832436458 106.78615832436458,103.78615832436458\" style=\"fill:#ECB172A0;stroke-width:0\"/>\n",
       "\n",
       "  <!-- Text -->\n",
       "  <text x=\"151.786158\" y=\"123.786158\" font-size=\"1.0rem\" font-weight=\"100\" text-anchor=\"middle\" >512</text>\n",
       "  <text x=\"216.786158\" y=\"58.786158\" font-size=\"1.0rem\" font-weight=\"100\" text-anchor=\"middle\" transform=\"rotate(-90,216.786158,58.786158)\">512</text>\n",
       "  <text x=\"89.893079\" y=\"116.893079\" font-size=\"1.0rem\" font-weight=\"100\" text-anchor=\"middle\" transform=\"rotate(45,89.893079,116.893079)\">15</text>\n",
       "</svg>\n",
       "        </td>\n",
       "    </tr>\n",
       "</table>"
      ],
      "text/plain": [
       "dask.array<_extract_measurement, shape=(4, 15, 15, 512, 512), dtype=complex64, chunksize=(1, 2, 2, 512, 512), chunktype=numpy.ndarray>"
      ]
     },
     "execution_count": 72,
     "metadata": {},
     "output_type": "execute_result"
    }
   ],
   "source": [
    "exit_waves_stem = probe.multislice(potential, scan=scan, max_batch=4)\n",
    "\n",
    "exit_waves_stem.array"
   ]
  },
  {
   "cell_type": "markdown",
   "id": "28998800-0b81-49f7-b3c6-79aa355cf3dc",
   "metadata": {
    "pycharm": {
     "name": "#%% md\n"
    }
   },
   "source": [
    "The default value of `max_batch` is `\"auto\"`, with this setting the number of wave functions in each batch is determined such that the batch represents approximately `128 MB` of memory, this number may be changed through the configuration.\n",
    "\n",
    "Before running `compute`, we apply a HAADF detector and calculate the ensemble mean, this reduces the total size of the output to just 400 B. It is important to stress that the entire 1.76 GB ensemble of wave functions never had to be in memory simulateneously. Each chunk of exit wave functions will be reduced immediately after completing the multislice algorithm. "
   ]
  },
  {
   "cell_type": "code",
   "execution_count": 74,
   "id": "8664e8b2-4928-4c5e-bd48-fa854a465cec",
   "metadata": {
    "pycharm": {
     "name": "#%%\n"
    }
   },
   "outputs": [
    {
     "data": {
      "text/html": [
       "<table>\n",
       "    <tr>\n",
       "        <td>\n",
       "            <table>\n",
       "                <thead>\n",
       "                    <tr>\n",
       "                        <td> </td>\n",
       "                        <th> Array </th>\n",
       "                        <th> Chunk </th>\n",
       "                    </tr>\n",
       "                </thead>\n",
       "                <tbody>\n",
       "                    \n",
       "                    <tr>\n",
       "                        <th> Bytes </th>\n",
       "                        <td> 900 B </td>\n",
       "                        <td> 16 B </td>\n",
       "                    </tr>\n",
       "                    \n",
       "                    <tr>\n",
       "                        <th> Shape </th>\n",
       "                        <td> (15, 15) </td>\n",
       "                        <td> (2, 2) </td>\n",
       "                    </tr>\n",
       "                    <tr>\n",
       "                        <th> Count </th>\n",
       "                        <td> 21 Graph Layers </td>\n",
       "                        <td> 64 Chunks </td>\n",
       "                    </tr>\n",
       "                    <tr>\n",
       "                    <th> Type </th>\n",
       "                    <td> float32 </td>\n",
       "                    <td> numpy.ndarray </td>\n",
       "                    </tr>\n",
       "                </tbody>\n",
       "            </table>\n",
       "        </td>\n",
       "        <td>\n",
       "        <svg width=\"140\" height=\"140\" style=\"stroke:rgb(0,0,0);stroke-width:1\" >\n",
       "\n",
       "  <!-- Horizontal lines -->\n",
       "  <line x1=\"0\" y1=\"0\" x2=\"90\" y2=\"0\" style=\"stroke-width:2\" />\n",
       "  <line x1=\"0\" y1=\"12\" x2=\"90\" y2=\"12\" />\n",
       "  <line x1=\"0\" y1=\"24\" x2=\"90\" y2=\"24\" />\n",
       "  <line x1=\"0\" y1=\"36\" x2=\"90\" y2=\"36\" />\n",
       "  <line x1=\"0\" y1=\"48\" x2=\"90\" y2=\"48\" />\n",
       "  <line x1=\"0\" y1=\"60\" x2=\"90\" y2=\"60\" />\n",
       "  <line x1=\"0\" y1=\"72\" x2=\"90\" y2=\"72\" />\n",
       "  <line x1=\"0\" y1=\"84\" x2=\"90\" y2=\"84\" />\n",
       "  <line x1=\"0\" y1=\"90\" x2=\"90\" y2=\"90\" style=\"stroke-width:2\" />\n",
       "\n",
       "  <!-- Vertical lines -->\n",
       "  <line x1=\"0\" y1=\"0\" x2=\"0\" y2=\"90\" style=\"stroke-width:2\" />\n",
       "  <line x1=\"12\" y1=\"0\" x2=\"12\" y2=\"90\" />\n",
       "  <line x1=\"24\" y1=\"0\" x2=\"24\" y2=\"90\" />\n",
       "  <line x1=\"36\" y1=\"0\" x2=\"36\" y2=\"90\" />\n",
       "  <line x1=\"48\" y1=\"0\" x2=\"48\" y2=\"90\" />\n",
       "  <line x1=\"60\" y1=\"0\" x2=\"60\" y2=\"90\" />\n",
       "  <line x1=\"72\" y1=\"0\" x2=\"72\" y2=\"90\" />\n",
       "  <line x1=\"84\" y1=\"0\" x2=\"84\" y2=\"90\" />\n",
       "  <line x1=\"90\" y1=\"0\" x2=\"90\" y2=\"90\" style=\"stroke-width:2\" />\n",
       "\n",
       "  <!-- Colored Rectangle -->\n",
       "  <polygon points=\"0.0,0.0 90.0,0.0 90.0,90.0 0.0,90.0\" style=\"fill:#ECB172A0;stroke-width:0\"/>\n",
       "\n",
       "  <!-- Text -->\n",
       "  <text x=\"45.000000\" y=\"110.000000\" font-size=\"1.0rem\" font-weight=\"100\" text-anchor=\"middle\" >15</text>\n",
       "  <text x=\"110.000000\" y=\"45.000000\" font-size=\"1.0rem\" font-weight=\"100\" text-anchor=\"middle\" transform=\"rotate(0,110.000000,45.000000)\">15</text>\n",
       "</svg>\n",
       "        </td>\n",
       "    </tr>\n",
       "</table>"
      ],
      "text/plain": [
       "dask.array<mean_agg-aggregate, shape=(15, 15), dtype=float32, chunksize=(2, 2), chunktype=numpy.ndarray>"
      ]
     },
     "execution_count": 74,
     "metadata": {},
     "output_type": "execute_result"
    }
   ],
   "source": [
    "haadf_images = abtem.AnnularDetector(inner=65, outer=200).detect(exit_waves_stem)\n",
    "\n",
    "haadf_images.mean(0).array"
   ]
  },
  {
   "cell_type": "markdown",
   "id": "c8167e51-1e8b-408d-9e08-ad00b6966ad5",
   "metadata": {
    "pycharm": {
     "name": "#%% md\n"
    }
   },
   "source": [
    "## Schedulers\n",
    "\n",
    "After generating a task graph, it needs to be executed on (parallel) hardware. This is the job of a [task scheduler](https://docs.dask.org/en/stable/scheduler-overview.html). Dask provides several task schedulers, each will compute a task graph and give the same result, but with different performance characteristics.\n",
    "\n",
    "Every time you call the `compute` method a Dask scheduler is used. abTEM adopts the default Dask scheduler configuration and every keyword argument used with the `compute` method in abTEM is forwarded to the Dask `compute` function. \n",
    "\n",
    "The default scheduler is the [`ThreadPoolExecutor`](https://docs.dask.org/en/stable/scheduling.html#local-threads), keyword arguments for the scheduler may be passed through the `compute` method. For example, the threaded scheduler take a `num_workers` keyword, which sets the number threads to use (defaults to number of cores)."
   ]
  },
  {
   "cell_type": "code",
   "execution_count": 75,
   "id": "4c507a96-5a6d-4e55-8775-200f66e26459",
   "metadata": {},
   "outputs": [
    {
     "name": "stdout",
     "output_type": "stream",
     "text": [
      "[########################################] | 100% Completed | 28.57 s\n"
     ]
    },
    {
     "data": {
      "text/plain": [
       "<abtem.measurements.Images object at 0x7fb3c6b25d30>"
      ]
     },
     "execution_count": 75,
     "metadata": {},
     "output_type": "execute_result"
    }
   ],
   "source": [
    "haadf_images.compute(scheduler=\"threads\", num_workers=4)"
   ]
  },
  {
   "cell_type": "markdown",
   "id": "168c4090-255a-4705-85a8-afbf74c6320e",
   "metadata": {},
   "source": [
    "We can change the scheduler to using `ProcessPoolExecutor` as below.\n",
    "\n",
    "```python\n",
    "haadf_images.compute(scheduler=\"processes\", num_workers=4)\n",
    "```\n",
    "\n",
    "Using `abtem.config.set` the scheduler can be set either as a context manager or globally.\n",
    "```python\n",
    "# As a context manager\n",
    "with abtem.config.set(scheduler=\"processes\"):\n",
    "    haadf_images.compute()\n",
    "\n",
    "# Set globally\n",
    "abtem.config.set(scheduler=\"processes\")\n",
    "haadf_images.compute()\n",
    "```\n"
   ]
  },
  {
   "cell_type": "markdown",
   "id": "88a96448-5a2a-4c60-9ce7-7a2f43845d3c",
   "metadata": {},
   "source": [
    "### The distributed scheduler\n",
    "You can use the Dask distributed scheduler by just initializing a `Client`. \n",
    "The Dask distributed scheduler is necessary for  a cluster, however, it may also  locally on a personal machine. The main benefit of using the distributed scheduler locally\n",
    "\n",
    "\n",
    "https://docs.dask.org/en/stable/scheduling.html#dask-distributed-local\n",
    "The Dask distributed scheduler "
   ]
  },
  {
   "cell_type": "code",
   "execution_count": null,
   "id": "2b7c37a3-909c-482e-99fb-72e4eb222a5a",
   "metadata": {},
   "outputs": [],
   "source": [
    "client = Client()"
   ]
  },
  {
   "cell_type": "markdown",
   "id": "dffe61f7-43d8-47e6-a00a-3e73e33320ad",
   "metadata": {},
   "source": [
    "### Running abTEM on HPC clusters"
   ]
  },
  {
   "cell_type": "code",
   "execution_count": null,
   "id": "da27730d-95a8-4a1f-873e-12b25f574da8",
   "metadata": {},
   "outputs": [],
   "source": []
  },
  {
   "cell_type": "code",
   "execution_count": 10,
   "id": "74a527c0-308a-4c4f-9b43-b0527b878f5a",
   "metadata": {
    "pycharm": {
     "name": "#%%\n"
    }
   },
   "outputs": [
    {
     "name": "stdout",
     "output_type": "stream",
     "text": [
      "[########################################] | 100% Completed |  0.7s\n"
     ]
    }
   ],
   "source": [
    "build_probe.compute();"
   ]
  },
  {
   "cell_type": "markdown",
   "id": "2073edcd-e205-41f2-a2c7-fe3cf7f7f2d4",
   "metadata": {
    "pycharm": {
     "name": "#%% md\n"
    }
   },
   "source": [
    "For most cases, the default settings are good choices. However, sometimes you may want to use different *Dask* scheduler. Every keyword argument provided to the `compute` method in *abTEM* are forwarded to *Dask*. Hence, everything described in [*Dask*s scheduler overview](https://docs.dask.org/en/stable/scheduler-overview.html) also applies to *abTEM*. For example, we can use the scheduler keyword."
   ]
  },
  {
   "cell_type": "code",
   "execution_count": 13,
   "id": "60ea9b14-6c9d-4460-913f-7c4af5935fa7",
   "metadata": {
    "pycharm": {
     "name": "#%%\n"
    }
   },
   "outputs": [
    {
     "name": "stdout",
     "output_type": "stream",
     "text": [
      "[########################################] | 100% Completed |  8.3s\n"
     ]
    }
   ],
   "source": [
    "probe.multislice(fp).compute(scheduler=\"processes\");"
   ]
  },
  {
   "cell_type": "code",
   "execution_count": 16,
   "id": "b42cd049-4176-47b7-8edc-e277aa131557",
   "metadata": {
    "pycharm": {
     "name": "#%%\n"
    }
   },
   "outputs": [
    {
     "name": "stdout",
     "output_type": "stream",
     "text": [
      "[########################################] | 100% Completed |  7.7s\n",
      "[########################################] | 100% Completed |  7.5s\n"
     ]
    },
    {
     "data": {
      "text/plain": [
       "<abtem.waves.core.Waves object at 0x7fd9a9514cb0>\n",
       "-------------------------------------------------\n",
       "\n",
       "type               label           coordinates\n",
       "-----------------  --------------  -------------------\n",
       "FrozenPhononsAxis  Frozen phonons  -\n",
       "RealSpaceAxis      x [Å]           0.00 0.08 ... 40.72\n",
       "RealSpaceAxis      y [Å]           0.00 0.08 ... 40.72\n",
       "\n",
       "        bytes     shape          count     type\n",
       "------  --------  -------------  --------  -------------\n",
       "array   4.00 MiB  (2, 512, 512)  -         complex64\n",
       "chunks  -         -              - chunks  numpy.ndarray"
      ]
     },
     "execution_count": 16,
     "metadata": {},
     "output_type": "execute_result"
    }
   ],
   "source": [
    "# As a context manager\n",
    "with abtem.config.set(scheduler=\"processes\"):\n",
    "    probe.multislice(fp).compute()\n",
    "\n",
    "# Set globally\n",
    "abtem.config.set(scheduler=\"processes\")\n",
    "probe.multislice(fp).compute();"
   ]
  },
  {
   "cell_type": "markdown",
   "id": "d9fd15b2-820d-49e3-a245-3467c0345d05",
   "metadata": {
    "pycharm": {
     "name": "#%% md\n"
    }
   },
   "source": [
    "Additionally, each scheduler may take a few extra keywords specific to that scheduler. For example, the multiprocessing and threaded schedulers each take a num_workers keyword, which sets the number of processes or threads to use (defaults to number of cores). This can be set by passing the keyword when calling compute:"
   ]
  },
  {
   "cell_type": "markdown",
   "id": "64cd726b-de7f-4639-b2f4-9ea1d3e47f05",
   "metadata": {
    "pycharm": {
     "name": "#%% md\n"
    }
   },
   "source": [
    "### Dask distributed \n",
    "\n",
    "everything below may also be used , the Dask distributed scheduler provides a great diagnostic tool\n",
    "YOu can \n",
    "\n",
    "Since *abTEM* just creates a *Dask* task graph, \n",
    "\n",
    "\n",
    "\n"
   ]
  },
  {
   "cell_type": "markdown",
   "id": "e39cb8d2-a898-478d-9831-275ac5f2f06b",
   "metadata": {
    "pycharm": {
     "name": "#%% md\n"
    }
   },
   "source": [
    "## abTEM with GPUs\n",
    "\n",
    "Almost every part of abTEM can be accelerated using a GPU through the [CuPy](https://cupy.dev/) library. We have only tested abTEM on CUDA compatiable GPUs, however, any GPU compatible with CuPy should work.\n",
    "\n",
    "If you have a compatiable GPU and a working installation of CuPy, you can accelerate your image simulations by simply changing the configs at the top of your document as below:"
   ]
  },
  {
   "cell_type": "code",
   "execution_count": 19,
   "id": "4bbe27f1-65b2-48cf-8a96-c0da5c91b094",
   "metadata": {
    "pycharm": {
     "name": "#%%\n"
    }
   },
   "outputs": [],
   "source": [
    "abtem.config.set({\"device\": \"cpu\"});"
   ]
  }
 ],
 "metadata": {
  "kernelspec": {
   "display_name": "test_threads",
   "language": "python",
   "name": "test_threads"
  },
  "language_info": {
   "codemirror_mode": {
    "name": "ipython",
    "version": 3
   },
   "file_extension": ".py",
   "mimetype": "text/x-python",
   "name": "python",
   "nbconvert_exporter": "python",
   "pygments_lexer": "ipython3",
   "version": "3.9.13"
  },
  "widgets": {
   "application/vnd.jupyter.widget-state+json": {
    "state": {
     "000ae364077b4720a388b45d89061cfb": {
      "model_module": "jupyter-cytoscape",
      "model_module_version": "^1.3.3",
      "model_name": "EdgeModel",
      "state": {
       "_model_module_version": "^1.3.3",
       "_view_module_version": "^1.3.3",
       "classes": " directed ",
       "data": {
        "source": "8559664916612014831",
        "target": "5175792930573095707"
       },
       "selectable": false
      }
     },
     "0043a4cede2e4db8ae42be5229f3446f": {
      "model_module": "jupyter-cytoscape",
      "model_module_version": "^1.3.3",
      "model_name": "NodeModel",
      "state": {
       "_model_module_version": "^1.3.3",
       "_view_module_version": "^1.3.3",
       "data": {
        "color": "gray",
        "id": "-5027416227128121925",
        "label": "",
        "shape": "rectangle"
       },
       "grabbable": true,
       "grabbed": false,
       "selectable": false
      }
     },
     "00686b3c89fc481e8f8a29e14ccd54d0": {
      "model_module": "jupyter-cytoscape",
      "model_module_version": "^1.3.3",
      "model_name": "EdgeModel",
      "state": {
       "_model_module_version": "^1.3.3",
       "_view_module_version": "^1.3.3",
       "classes": " directed ",
       "data": {
        "source": "-7190653168310566238",
        "target": "4002729701868916562"
       },
       "selectable": false
      }
     },
     "006e621cd09b4b09bbafd42d09748f05": {
      "model_module": "jupyter-cytoscape",
      "model_module_version": "^1.3.3",
      "model_name": "EdgeModel",
      "state": {
       "_model_module_version": "^1.3.3",
       "_view_module_version": "^1.3.3",
       "classes": " directed ",
       "data": {
        "source": "4785411436509375566",
        "target": "3537663541289573858"
       },
       "selectable": false
      }
     },
     "00a108c15b054799a7d04a012427ed7b": {
      "model_module": "jupyter-cytoscape",
      "model_module_version": "^1.3.3",
      "model_name": "EdgeModel",
      "state": {
       "_model_module_version": "^1.3.3",
       "_view_module_version": "^1.3.3",
       "classes": " directed ",
       "data": {
        "source": "4002729701868916562",
        "target": "-1580208454798506626"
       },
       "selectable": false
      }
     },
     "00b57e55a4c041e29c645f00cd9d50fd": {
      "model_module": "jupyter-cytoscape",
      "model_module_version": "^1.3.3",
      "model_name": "EdgeModel",
      "state": {
       "_model_module_version": "^1.3.3",
       "_view_module_version": "^1.3.3",
       "classes": " directed ",
       "data": {
        "source": "6605405690337731129",
        "target": "174526117555084074"
       },
       "selectable": false
      }
     },
     "00faf62396b74c7092c0e5f0f6e2278d": {
      "model_module": "jupyter-cytoscape",
      "model_module_version": "^1.3.3",
      "model_name": "NodeModel",
      "state": {
       "_model_module_version": "^1.3.3",
       "_view_module_version": "^1.3.3",
       "data": {
        "color": "gray",
        "id": "6826270806708122017",
        "label": "frozen_phonon",
        "shape": "ellipse"
       },
       "grabbable": true,
       "grabbed": false,
       "selectable": false
      }
     },
     "0124e100b6d14d3880a734df620b1e61": {
      "model_module": "jupyter-cytoscape",
      "model_module_version": "^1.3.3",
      "model_name": "EdgeModel",
      "state": {
       "_model_module_version": "^1.3.3",
       "_view_module_version": "^1.3.3",
       "classes": " directed ",
       "data": {
        "source": "-6646829093793065682",
        "target": "7143069633224236115"
       },
       "selectable": false
      }
     },
     "0141c8027eb840f4aff8c2c328e2b438": {
      "model_module": "jupyter-cytoscape",
      "model_module_version": "^1.3.3",
      "model_name": "NodeModel",
      "state": {
       "_model_module_version": "^1.3.3",
       "_view_module_version": "^1.3.3",
       "data": {
        "color": "gray",
        "id": "5224246106512664743",
        "label": "mean_chunk",
        "shape": "ellipse"
       },
       "grabbable": true,
       "grabbed": false,
       "selectable": false
      }
     },
     "014a0a9a67b44d1a9a44135df4afe533": {
      "model_module": "jupyter-cytoscape",
      "model_module_version": "^1.3.3",
      "model_name": "EdgeModel",
      "state": {
       "_model_module_version": "^1.3.3",
       "_view_module_version": "^1.3.3",
       "classes": " directed ",
       "data": {
        "source": "524951156334244113",
        "target": "-6646829093793065682"
       },
       "selectable": false
      }
     },
     "01c44cbd78b74f6cb76822af27275118": {
      "model_module": "jupyter-cytoscape",
      "model_module_version": "^1.3.3",
      "model_name": "EdgeModel",
      "state": {
       "_model_module_version": "^1.3.3",
       "_view_module_version": "^1.3.3",
       "classes": " directed ",
       "data": {
        "source": "3162333758080464363",
        "target": "8446372007758624814"
       },
       "selectable": false
      }
     },
     "01e5cdb8f674441dbd86065448a04ef5": {
      "model_module": "jupyter-cytoscape",
      "model_module_version": "^1.3.3",
      "model_name": "NodeModel",
      "state": {
       "_model_module_version": "^1.3.3",
       "_view_module_version": "^1.3.3",
       "data": {
        "color": "gray",
        "id": "-8980786544197403048",
        "label": "1",
        "shape": "rectangle"
       },
       "grabbable": true,
       "grabbed": false,
       "selectable": false
      }
     },
     "0224ea4939d345e79ea656ecdfea36bd": {
      "model_module": "jupyter-cytoscape",
      "model_module_version": "^1.3.3",
      "model_name": "EdgeModel",
      "state": {
       "_model_module_version": "^1.3.3",
       "_view_module_version": "^1.3.3",
       "classes": " directed ",
       "data": {
        "source": "-3366324276772900629",
        "target": "4543517768215573707"
       },
       "selectable": false
      }
     },
     "0235a90e760b41c6ad22af4942c2143b": {
      "model_module": "jupyter-cytoscape",
      "model_module_version": "^1.3.3",
      "model_name": "NodeModel",
      "state": {
       "_model_module_version": "^1.3.3",
       "_view_module_version": "^1.3.3",
       "data": {
        "color": "gray",
        "id": "6328973697379167242",
        "label": "3",
        "shape": "rectangle"
       },
       "grabbable": true,
       "grabbed": false,
       "selectable": false
      }
     },
     "024c90d9e4164995a4b59b43871efdc0": {
      "model_module": "jupyter-cytoscape",
      "model_module_version": "^1.3.3",
      "model_name": "NodeModel",
      "state": {
       "_model_module_version": "^1.3.3",
       "_view_module_version": "^1.3.3",
       "data": {
        "color": "gray",
        "id": "4093897534649396938",
        "label": "(0, 0, 0)",
        "shape": "rectangle"
       },
       "grabbable": true,
       "grabbed": false,
       "selectable": false
      }
     },
     "026f3673b92a4e7f9a87be414e1d454e": {
      "model_module": "jupyter-cytoscape",
      "model_module_version": "^1.3.3",
      "model_name": "EdgeModel",
      "state": {
       "_model_module_version": "^1.3.3",
       "_view_module_version": "^1.3.3",
       "classes": " directed ",
       "data": {
        "source": "8138385170844379238",
        "target": "8226335373065077933"
       },
       "selectable": false
      }
     },
     "030afa4346904d3b8878a8c682afb1af": {
      "model_module": "jupyter-cytoscape",
      "model_module_version": "^1.3.3",
      "model_name": "EdgeModel",
      "state": {
       "_model_module_version": "^1.3.3",
       "_view_module_version": "^1.3.3",
       "classes": " directed ",
       "data": {
        "source": "6682166873657082499",
        "target": "-3915436992879133533"
       },
       "selectable": false
      }
     },
     "036048843b2640a7bde3a15b2da32ff5": {
      "model_module": "jupyter-cytoscape",
      "model_module_version": "^1.3.3",
      "model_name": "NodeModel",
      "state": {
       "_model_module_version": "^1.3.3",
       "_view_module_version": "^1.3.3",
       "data": {
        "color": "gray",
        "id": "9138675498050813437",
        "label": "",
        "shape": "rectangle"
       },
       "grabbable": true,
       "grabbed": false,
       "selectable": false
      }
     },
     "03ca59639e8343ca97dc1b7e9909ed74": {
      "model_module": "jupyter-cytoscape",
      "model_module_version": "^1.3.3",
      "model_name": "NodeModel",
      "state": {
       "_model_module_version": "^1.3.3",
       "_view_module_version": "^1.3.3",
       "data": {
        "color": "gray",
        "id": "4710722068778462095",
        "label": "3",
        "shape": "rectangle"
       },
       "grabbable": true,
       "grabbed": false,
       "selectable": false
      }
     },
     "04704cbedac14b2db989a790355c5acb": {
      "model_module": "jupyter-cytoscape",
      "model_module_version": "^1.3.3",
      "model_name": "EdgeModel",
      "state": {
       "_model_module_version": "^1.3.3",
       "_view_module_version": "^1.3.3",
       "classes": " directed ",
       "data": {
        "source": "3162333758080464363",
        "target": "8446372007758624814"
       },
       "selectable": false
      }
     },
     "049c49b3cca3445b84e2f49527e30244": {
      "model_module": "jupyter-cytoscape",
      "model_module_version": "^1.3.3",
      "model_name": "NodeModel",
      "state": {
       "_model_module_version": "^1.3.3",
       "_view_module_version": "^1.3.3",
       "data": {
        "color": "gray",
        "id": "4667991964226427698",
        "label": "",
        "shape": "rectangle"
       },
       "grabbable": true,
       "grabbed": false,
       "selectable": false
      }
     },
     "050a51d6c89e47cc91923d12fab3e6d6": {
      "model_module": "jupyter-cytoscape",
      "model_module_version": "^1.3.3",
      "model_name": "EdgeModel",
      "state": {
       "_model_module_version": "^1.3.3",
       "_view_module_version": "^1.3.3",
       "classes": " directed ",
       "data": {
        "source": "7143069633224236115",
        "target": "-1454821431635411725"
       },
       "selectable": false
      }
     },
     "050c77b3cd95476bb670645a3a37005e": {
      "model_module": "jupyter-cytoscape",
      "model_module_version": "^1.3.3",
      "model_name": "EdgeModel",
      "state": {
       "_model_module_version": "^1.3.3",
       "_view_module_version": "^1.3.3",
       "classes": " directed ",
       "data": {
        "source": "3837102117645593894",
        "target": "290872309041397457"
       },
       "selectable": false
      }
     },
     "05cb6a33932846d9b9ba34be09d5af05": {
      "model_module": "jupyter-cytoscape",
      "model_module_version": "^1.3.3",
      "model_name": "NodeModel",
      "state": {
       "_model_module_version": "^1.3.3",
       "_view_module_version": "^1.3.3",
       "data": {
        "color": "gray",
        "id": "-6680118790443633764",
        "label": "",
        "shape": "rectangle"
       },
       "grabbable": true,
       "grabbed": false,
       "selectable": false
      }
     },
     "061241fae433462793eb0613783adef8": {
      "model_module": "jupyter-cytoscape",
      "model_module_version": "^1.3.3",
      "model_name": "NodeModel",
      "state": {
       "_model_module_version": "^1.3.3",
       "_view_module_version": "^1.3.3",
       "data": {
        "color": "gray",
        "id": "7143069633224236115",
        "label": "",
        "shape": "rectangle"
       },
       "grabbable": true,
       "grabbed": false,
       "selectable": false
      }
     },
     "0696da2006154af9bc28f95a74b118a5": {
      "model_module": "jupyter-cytoscape",
      "model_module_version": "^1.3.3",
      "model_name": "NodeModel",
      "state": {
       "_model_module_version": "^1.3.3",
       "_view_module_version": "^1.3.3",
       "data": {
        "color": "gray",
        "id": "-3915436992879133533",
        "label": "extract_measurement",
        "shape": "ellipse"
       },
       "grabbable": true,
       "grabbed": false,
       "selectable": false
      }
     },
     "06a8b52013884b8ca8e6bd2dbab2e6a6": {
      "model_module": "jupyter-cytoscape",
      "model_module_version": "^1.3.3",
      "model_name": "EdgeModel",
      "state": {
       "_model_module_version": "^1.3.3",
       "_view_module_version": "^1.3.3",
       "classes": " directed ",
       "data": {
        "source": "2589567504215382784",
        "target": "-5586142694755555196"
       },
       "selectable": false
      }
     },
     "06f71c2c3dcb49f18cc6033e5f179a98": {
      "model_module": "jupyter-cytoscape",
      "model_module_version": "^1.3.3",
      "model_name": "NodeModel",
      "state": {
       "_model_module_version": "^1.3.3",
       "_view_module_version": "^1.3.3",
       "data": {
        "color": "gray",
        "id": "2115047589787434672",
        "label": "(3, 0, 0)",
        "shape": "rectangle"
       },
       "grabbable": true,
       "grabbed": false,
       "selectable": false
      }
     },
     "070de9e4eab747c2b9444d517ae13807": {
      "model_module": "jupyter-cytoscape",
      "model_module_version": "^1.3.3",
      "model_name": "EdgeModel",
      "state": {
       "_model_module_version": "^1.3.3",
       "_view_module_version": "^1.3.3",
       "classes": " directed ",
       "data": {
        "source": "-5303692983497827898",
        "target": "-1793233785852133242"
       },
       "selectable": false
      }
     },
     "074ec91fbeac40b1a72f72c82d0c86cf": {
      "model_module": "jupyter-cytoscape",
      "model_module_version": "^1.3.3",
      "model_name": "NodeModel",
      "state": {
       "_model_module_version": "^1.3.3",
       "_view_module_version": "^1.3.3",
       "data": {
        "color": "gray",
        "id": "-7162202832397786769",
        "label": "3",
        "shape": "rectangle"
       },
       "grabbable": true,
       "grabbed": false,
       "selectable": false
      }
     },
     "074fdc99f40f4230b7754b8838d107b9": {
      "model_module": "jupyter-cytoscape",
      "model_module_version": "^1.3.3",
      "model_name": "NodeModel",
      "state": {
       "_model_module_version": "^1.3.3",
       "_view_module_version": "^1.3.3",
       "data": {
        "color": "gray",
        "id": "6017847913203115259",
        "label": "(3, 0, 0)",
        "shape": "rectangle"
       },
       "grabbable": true,
       "grabbed": false,
       "selectable": false
      }
     },
     "0778f10f49ee4ad4a2f4be7392bd4526": {
      "model_module": "jupyter-cytoscape",
      "model_module_version": "^1.3.3",
      "model_name": "NodeModel",
      "state": {
       "_model_module_version": "^1.3.3",
       "_view_module_version": "^1.3.3",
       "data": {
        "color": "gray",
        "id": "3534457344772271157",
        "label": "(0, 0, 0)",
        "shape": "rectangle"
       },
       "grabbable": true,
       "grabbed": false,
       "selectable": false
      }
     },
     "078beee53c804c859e31f0c7ec4cb85d": {
      "model_module": "jupyter-cytoscape",
      "model_module_version": "^1.3.3",
      "model_name": "EdgeModel",
      "state": {
       "_model_module_version": "^1.3.3",
       "_view_module_version": "^1.3.3",
       "classes": " directed ",
       "data": {
        "source": "6961277806433087080",
        "target": "-2316132916475259725"
       },
       "selectable": false
      }
     },
     "079c532a11954e629934fefd8502c158": {
      "model_module": "jupyter-cytoscape",
      "model_module_version": "^1.3.3",
      "model_name": "EdgeModel",
      "state": {
       "_model_module_version": "^1.3.3",
       "_view_module_version": "^1.3.3",
       "classes": " directed ",
       "data": {
        "source": "6826270806708122017",
        "target": "-2297275566705832746"
       },
       "selectable": false
      }
     },
     "07abc119cae344bb98e75da43c1429c2": {
      "model_module": "jupyter-cytoscape",
      "model_module_version": "^1.3.3",
      "model_name": "NodeModel",
      "state": {
       "_model_module_version": "^1.3.3",
       "_view_module_version": "^1.3.3",
       "data": {
        "color": "gray",
        "id": "8393120227172931531",
        "label": "3",
        "shape": "rectangle"
       },
       "grabbable": true,
       "grabbed": false,
       "selectable": false
      }
     },
     "0811a0344af14b4dba7e34302bd1ff65": {
      "model_module": "jupyter-cytoscape",
      "model_module_version": "^1.3.3",
      "model_name": "NodeModel",
      "state": {
       "_model_module_version": "^1.3.3",
       "_view_module_version": "^1.3.3",
       "data": {
        "color": "gray",
        "id": "8307019125499461979",
        "label": "mean_combine-partial",
        "shape": "ellipse"
       },
       "grabbable": true,
       "grabbed": false,
       "selectable": false
      }
     },
     "0815cb175fab48c1aa65b6efc967de04": {
      "model_module": "jupyter-cytoscape",
      "model_module_version": "^1.3.3",
      "model_name": "NodeModel",
      "state": {
       "_model_module_version": "^1.3.3",
       "_view_module_version": "^1.3.3",
       "data": {
        "color": "gray",
        "id": "-5190739199085998411",
        "label": "intensity",
        "shape": "ellipse"
       },
       "grabbable": true,
       "grabbed": false,
       "selectable": false
      }
     },
     "083eb2376cd74819adcc741e850c1819": {
      "model_module": "jupyter-cytoscape",
      "model_module_version": "^1.3.3",
      "model_name": "NodeModel",
      "state": {
       "_model_module_version": "^1.3.3",
       "_view_module_version": "^1.3.3",
       "data": {
        "color": "gray",
        "id": "6682166873657082499",
        "label": "3",
        "shape": "rectangle"
       },
       "grabbable": true,
       "grabbed": false,
       "selectable": false
      }
     },
     "08487ebc3cda4755b561f2c21987d636": {
      "model_module": "jupyter-cytoscape",
      "model_module_version": "^1.3.3",
      "model_name": "NodeModel",
      "state": {
       "_model_module_version": "^1.3.3",
       "_view_module_version": "^1.3.3",
       "data": {
        "color": "gray",
        "id": "174526117555084074",
        "label": "2",
        "shape": "rectangle"
       },
       "grabbable": true,
       "grabbed": false,
       "selectable": false
      }
     },
     "08c2c2a31d8c4358b16cc4ca26371b37": {
      "model_module": "jupyter-cytoscape",
      "model_module_version": "^1.3.3",
      "model_name": "NodeModel",
      "state": {
       "_model_module_version": "^1.3.3",
       "_view_module_version": "^1.3.3",
       "data": {
        "color": "gray",
        "id": "1727177019973852603",
        "label": "(1, 0, 0)",
        "shape": "rectangle"
       },
       "grabbable": true,
       "grabbed": false,
       "selectable": false
      }
     },
     "0925b8f6a38c41f98fdc8ac1a52c9509": {
      "model_module": "jupyter-cytoscape",
      "model_module_version": "^1.3.3",
      "model_name": "EdgeModel",
      "state": {
       "_model_module_version": "^1.3.3",
       "_view_module_version": "^1.3.3",
       "classes": " directed ",
       "data": {
        "source": "8307019125499461979",
        "target": "-8752789098251752585"
       },
       "selectable": false
      }
     },
     "092a3c4867f042d283378e5962b4d1b4": {
      "model_module": "jupyter-cytoscape",
      "model_module_version": "^1.3.3",
      "model_name": "NodeModel",
      "state": {
       "_model_module_version": "^1.3.3",
       "_view_module_version": "^1.3.3",
       "data": {
        "color": "gray",
        "id": "4776900485209766422",
        "label": "2",
        "shape": "rectangle"
       },
       "grabbable": true,
       "grabbed": false,
       "selectable": false
      }
     },
     "092d6e9a775545d9b6d3b2308dac6c6c": {
      "model_module": "jupyter-cytoscape",
      "model_module_version": "^1.3.3",
      "model_name": "NodeModel",
      "state": {
       "_model_module_version": "^1.3.3",
       "_view_module_version": "^1.3.3",
       "data": {
        "color": "gray",
        "id": "8446372007758624814",
        "label": "build_waves_multislice_detect",
        "shape": "ellipse"
       },
       "grabbable": true,
       "grabbed": false,
       "selectable": false
      }
     },
     "096d32ac8aac477bbf6730e6628642db": {
      "model_module": "jupyter-cytoscape",
      "model_module_version": "^1.3.3",
      "model_name": "NodeModel",
      "state": {
       "_model_module_version": "^1.3.3",
       "_view_module_version": "^1.3.3",
       "data": {
        "color": "gray",
        "id": "-536282901384053758",
        "label": "build_waves_multislice_detect",
        "shape": "ellipse"
       },
       "grabbable": true,
       "grabbed": false,
       "selectable": false
      }
     },
     "097945bb03274df7b4ac1d621adf6283": {
      "model_module": "jupyter-cytoscape",
      "model_module_version": "^1.3.3",
      "model_name": "EdgeModel",
      "state": {
       "_model_module_version": "^1.3.3",
       "_view_module_version": "^1.3.3",
       "classes": " directed ",
       "data": {
        "source": "2115047589787434672",
        "target": "5174968986753358098"
       },
       "selectable": false
      }
     },
     "0996073116f14fbf83b2885f1bf0abcc": {
      "model_module": "jupyter-cytoscape",
      "model_module_version": "^1.3.3",
      "model_name": "NodeModel",
      "state": {
       "_model_module_version": "^1.3.3",
       "_view_module_version": "^1.3.3",
       "data": {
        "color": "gray",
        "id": "-5867077928345488197",
        "label": "0",
        "shape": "rectangle"
       },
       "grabbable": true,
       "grabbed": false,
       "selectable": false
      }
     },
     "09d0ecf22df3416a830aee7e9acf2eaf": {
      "model_module": "jupyter-cytoscape",
      "model_module_version": "^1.3.3",
      "model_name": "NodeModel",
      "state": {
       "_model_module_version": "^1.3.3",
       "_view_module_version": "^1.3.3",
       "data": {
        "color": "gray",
        "id": "6682166873657082499",
        "label": "3",
        "shape": "rectangle"
       },
       "grabbable": true,
       "grabbed": false,
       "selectable": false
      }
     },
     "09d339ae679746e0bfa5433adbf216e7": {
      "model_module": "jupyter-cytoscape",
      "model_module_version": "^1.3.3",
      "model_name": "NodeModel",
      "state": {
       "_model_module_version": "^1.3.3",
       "_view_module_version": "^1.3.3",
       "data": {
        "color": "gray",
        "id": "-3744682022286834359",
        "label": "mean_combine-partial",
        "shape": "ellipse"
       },
       "grabbable": true,
       "grabbed": false,
       "selectable": false
      }
     },
     "0a00437afbcb4a799b2487948e1dc9a1": {
      "model_module": "jupyter-cytoscape",
      "model_module_version": "^1.3.3",
      "model_name": "NodeModel",
      "state": {
       "_model_module_version": "^1.3.3",
       "_view_module_version": "^1.3.3",
       "data": {
        "color": "gray",
        "id": "-7162202832397786769",
        "label": "3",
        "shape": "rectangle"
       },
       "grabbable": true,
       "grabbed": false,
       "selectable": false
      }
     },
     "0ae4f3e80320440d97e460fad6082de5": {
      "model_module": "jupyter-cytoscape",
      "model_module_version": "^1.3.3",
      "model_name": "EdgeModel",
      "state": {
       "_model_module_version": "^1.3.3",
       "_view_module_version": "^1.3.3",
       "classes": " directed ",
       "data": {
        "source": "-3344688861789731364",
        "target": "-805616968572569913"
       },
       "selectable": false
      }
     },
     "0b4739552c8a487cb74a5a189c75c225": {
      "model_module": "jupyter-cytoscape",
      "model_module_version": "^1.3.3",
      "model_name": "NodeModel",
      "state": {
       "_model_module_version": "^1.3.3",
       "_view_module_version": "^1.3.3",
       "data": {
        "color": "gray",
        "id": "-1226367335932640965",
        "label": "0",
        "shape": "rectangle"
       },
       "grabbable": true,
       "grabbed": false,
       "selectable": false
      }
     },
     "0bb2651636444bdd9f014273067e116e": {
      "model_module": "jupyter-cytoscape",
      "model_module_version": "^1.3.3",
      "model_name": "GraphModel",
      "state": {
       "_adj": {
        "-1226367335932640965": {
         "-8776769559527088828": 1
        },
        "-1454821431635411725": {
         "4776900485209766422": 1
        },
        "-1580208454798506626": {
         "577712527715387209": 1
        },
        "-1800958231532078890": {
         "6825927405394541791": 1
        },
        "-2297275566705832746": {
         "-1226367335932640965": 1
        },
        "-2343004666951745933": {
         "577712527715387209": 1
        },
        "-2573528208698158691": {
         "6826270806708122017": 1
        },
        "-3366324276772900629": {
         "4543517768215573707": 1
        },
        "-3915436992879133533": {
         "-6553637324542115266": 1
        },
        "-4756616172800127912": {
         "6682166873657082499": 1
        },
        "-5401772616039244585": {
         "2732125137216078954": 1
        },
        "-5593255572014410437": {
         "4616942232716715966": 1
        },
        "-5769699360084664581": {
         "4423224545294134894": 1
        },
        "-6497939102615796927": {
         "-5593255572014410437": 1
        },
        "-6553637324542115266": {
         "5573658241717172992": 1
        },
        "-6646829093793065682": {
         "7143069633224236115": 1
        },
        "-6680118790443633764": {
         "7876181867568370685": 1
        },
        "-678342980587649050": {
         "8307019125499461979": 1
        },
        "-7162202832397786769": {
         "-4756616172800127912": 1
        },
        "-7190653168310566238": {
         "4002729701868916562": 1
        },
        "-8752789098251752585": {
         "-5593255572014410437": 1
        },
        "-8776769559527088828": {
         "7642245102610051772": 1
        },
        "-8980786544197403048": {
         "7077065919116520802": 1
        },
        "174526117555084074": {
         "5455551797699507121": 1
        },
        "2115047589787434672": {
         "5174968986753358098": 1
        },
        "2587405991069435440": {
         "6626835539378452860": 1
        },
        "2732125137216078954": {
         "8307019125499461979": 1
        },
        "2958316773410150143": {
         "-1800958231532078890": 1
        },
        "3162333758080464363": {
         "8446372007758624814": 1
        },
        "3537663541289573858": {
         "-3366324276772900629": 1
        },
        "4002729701868916562": {
         "-1580208454798506626": 1
        },
        "4093897534649396938": {
         "-5401772616039244585": 1
        },
        "4423224545294134894": {
         "-6680118790443633764": 1
        },
        "4543517768215573707": {
         "-7162202832397786769": 1
        },
        "4616942232716715966": {},
        "4730913378417847910": {
         "5130464993996696205": 1
        },
        "4776900485209766422": {
         "6605405690337731129": 1
        },
        "4785411436509375566": {
         "3537663541289573858": 1
        },
        "5130464993996696205": {
         "9001240909763029720": 1
        },
        "5174968986753358098": {
         "-2343004666951745933": 1
        },
        "5224246106512664743": {
         "-678342980587649050": 1
        },
        "524951156334244113": {
         "-6646829093793065682": 1
        },
        "5455551797699507121": {
         "2587405991069435440": 1
        },
        "5573658241717172992": {
         "2115047589787434672": 1
        },
        "577712527715387209": {
         "-6497939102615796927": 1
        },
        "6605405690337731129": {
         "174526117555084074": 1
        },
        "6626835539378452860": {
         "-7190653168310566238": 1
        },
        "6682166873657082499": {
         "-3915436992879133533": 1
        },
        "6825927405394541791": {
         "7061443493384821196": 1
        },
        "6826270806708122017": {
         "-2297275566705832746": 1
        },
        "7061443493384821196": {
         "4093897534649396938": 1
        },
        "7077065919116520802": {
         "4730913378417847910": 1
        },
        "7143069633224236115": {
         "-1454821431635411725": 1
        },
        "7642245102610051772": {
         "-8980786544197403048": 1
        },
        "7876181867568370685": {
         "3162333758080464363": 1
        },
        "8307019125499461979": {
         "-8752789098251752585": 1
        },
        "8446372007758624814": {
         "2958316773410150143": 1
        },
        "9001240909763029720": {
         "5224246106512664743": 1
        }
       },
       "_model_module_version": "^1.3.3",
       "_view_module": "jupyter-cytoscape",
       "_view_module_version": "^1.3.3",
       "edges": [
        "IPY_MODEL_1c62a7364f5f4515923da131acca2eff",
        "IPY_MODEL_f8cbbf3c4b3b4a5c8134b785f02f2f15",
        "IPY_MODEL_bd1efbeced9141ddbb3d1153e4ebe1be",
        "IPY_MODEL_f731fcdac3b74a9d9ef1e481aee3e039",
        "IPY_MODEL_298ab63246b84694872c33fcb123374d",
        "IPY_MODEL_9a7450baa7154adfbe2910a11f168e2c",
        "IPY_MODEL_734ba547a41d429f8c4aba3dacea968c",
        "IPY_MODEL_77f8609f71204561937c4be56e63caf0",
        "IPY_MODEL_abb90964c9b740b3a3bebf8894da1489",
        "IPY_MODEL_1c0f6740114a43caaa67aae3ed56dfd2",
        "IPY_MODEL_986aa6666a75486ebad0ae2a97907c7e",
        "IPY_MODEL_43e2365e666b43d8a4d2b05bece6b16d",
        "IPY_MODEL_d32f41600d1b4d80b36efe61ee40cd76",
        "IPY_MODEL_4bfeef3e8b9f4bb994b8e8104ff3972d",
        "IPY_MODEL_006e621cd09b4b09bbafd42d09748f05",
        "IPY_MODEL_0224ea4939d345e79ea656ecdfea36bd",
        "IPY_MODEL_c4512ebac58e4058a9096f09ea4b1a5a",
        "IPY_MODEL_ebd107f96bfb4cc6b296e0e31079d45b",
        "IPY_MODEL_357e2cc07391417a969b2f9f1bf284b0",
        "IPY_MODEL_35e2c1e11ded499584be49b96af5d8dd",
        "IPY_MODEL_d464c9a1527f45c0ba338f1049fe81ae",
        "IPY_MODEL_1f976d0682354fdd9c10070bc2cc2ff6",
        "IPY_MODEL_bf83503047fd459cbcceed9796c7e45c",
        "IPY_MODEL_6e9cbbea8fc043cea04921f044dbdb4c",
        "IPY_MODEL_21187db94d6c4a319674c7a6030c3c98",
        "IPY_MODEL_b5cde26ede584013aff5966c264accf7",
        "IPY_MODEL_f4d39c7580aa426588d22a41fd3dc15a",
        "IPY_MODEL_41f1adec3628450da75bac19d4fff69e",
        "IPY_MODEL_89547dd175484822805fdb313947205e",
        "IPY_MODEL_6be554b0ca08400db165a33984310665",
        "IPY_MODEL_744aa64a0d314e468ba137c6d0b993d2",
        "IPY_MODEL_15c4f5cb53464cafa08fcf9874beddc3",
        "IPY_MODEL_d384b2b7af424fe2a3776cde45402f61",
        "IPY_MODEL_4ec2b1c36d8e45a0a25467f4ffb8fec1",
        "IPY_MODEL_3e51718a57b74a47b7a7b692b206f0bf",
        "IPY_MODEL_9ae55412a9924cfea1f832863ef84c66",
        "IPY_MODEL_3fcb551c7e3a45a782366b6dfc9eb583",
        "IPY_MODEL_7e1e613794be45919a02fb92dc4b739e",
        "IPY_MODEL_d7b1631ed3594737af8e84555bc0c624",
        "IPY_MODEL_757feef1cddf49f391a2018692b48bb1",
        "IPY_MODEL_51b170a4843e4d09b71e855f9b9c2f7e",
        "IPY_MODEL_8f4d8a1fdae544e89b468a3dfe8d7978",
        "IPY_MODEL_dfac134b1fae4232b30aea3d33f9016c",
        "IPY_MODEL_af78a6fce2e24da9bf143d775a5d4366",
        "IPY_MODEL_c3e88ccff6934ee9b382d96aee6ab5cb",
        "IPY_MODEL_00686b3c89fc481e8f8a29e14ccd54d0",
        "IPY_MODEL_406dc1ab5ddf46b29c339e7f4aa69858",
        "IPY_MODEL_f2f35c6dea7d4c3d8c0232a2bdd2eb08",
        "IPY_MODEL_0925b8f6a38c41f98fdc8ac1a52c9509",
        "IPY_MODEL_56d6e27243d449e2ab82184f9e62e525",
        "IPY_MODEL_768a8ba1ad224ed8bc9858a2c7f88711",
        "IPY_MODEL_521739009b1e4fe7a12b96b18adf39a9",
        "IPY_MODEL_d30219cb77984199a3c2669161120d4a",
        "IPY_MODEL_fb4a0defcbd14eb285b2fe42280fbba7",
        "IPY_MODEL_3f71e65612e943cd9650a3905f286698",
        "IPY_MODEL_8f27039e933547398638570c0534483a",
        "IPY_MODEL_3a434ba789a74cf5b0840f88cbf232a3"
       ],
       "nodes": [
        "IPY_MODEL_41a64c07b3474afa9d0185c18d58b48b",
        "IPY_MODEL_0f5da401f4b1495fbd28feefc7f949c5",
        "IPY_MODEL_d46e4fb64dc24365b22fc06e8d4f17c1",
        "IPY_MODEL_8df941f9d81b450db0f868b0723802d1",
        "IPY_MODEL_3a8889d984ef466ebc2462f3c0d8c445",
        "IPY_MODEL_89a4df6379b9492a8feb18670d805557",
        "IPY_MODEL_89628b33c5c4457e82937b8368d4a58c",
        "IPY_MODEL_edcab4ff3dee4eccb5cc2f0c2547c5bd",
        "IPY_MODEL_dbf04fc9fe0e4b4d80c5ea55c3550e32",
        "IPY_MODEL_17225e2a32724af082bcfa057f2cb5d6",
        "IPY_MODEL_fc918d7670004f68aaf1a3e2e8df1c2e",
        "IPY_MODEL_17114afcfa3f42458fe215e107cfa712",
        "IPY_MODEL_ccd1148b484046a5b48d5f41b6d0e7e1",
        "IPY_MODEL_77b50b98a9cc443482277a1ba300189e",
        "IPY_MODEL_813b3ac2fc1b4840a38507427054f5f6",
        "IPY_MODEL_d56b225389894678a75ae4977e75ba7b",
        "IPY_MODEL_44e4b5fed2ca4422818e6131beab5642",
        "IPY_MODEL_230fedf6995e491a9ecef4770c361d07",
        "IPY_MODEL_2d7e504da7a14cc68253fa134a14fbd3",
        "IPY_MODEL_db15efd1030d4c9c8ef27aa3c21d22b0",
        "IPY_MODEL_092d6e9a775545d9b6d3b2308dac6c6c",
        "IPY_MODEL_75f54a80bade4f4db944fc63b1cb36fa",
        "IPY_MODEL_407a404da24448028fcdd41de8d50c09",
        "IPY_MODEL_01e5cdb8f674441dbd86065448a04ef5",
        "IPY_MODEL_9f0ffc30063a42efa2dfdd2df5caec42",
        "IPY_MODEL_986e15a69f2f4977a04e7bb7fb64aa18",
        "IPY_MODEL_e8f6ee4108f6437199208949aaed43f3",
        "IPY_MODEL_f877a6f36d994ab6bfc8c1294a723800",
        "IPY_MODEL_6c93f58ece8744b9a87bc0ced4756aab",
        "IPY_MODEL_8536211463214150bd37fce48e992465",
        "IPY_MODEL_da6dead441004d7b9d91e723159da665",
        "IPY_MODEL_8e436e649a084eb4b9ae3d6ec3fbe25c",
        "IPY_MODEL_a014fb971dfb4cb8b129fa6cb2e61eab",
        "IPY_MODEL_504109fe3046430a969d6c7c9c683e32",
        "IPY_MODEL_c7c7960654f4419fa0f273b586d7e7e3",
        "IPY_MODEL_11ae30b052be482890ef0738eac9fb03",
        "IPY_MODEL_c40c61418af2428dbbbd59c48904a60d",
        "IPY_MODEL_024c90d9e4164995a4b59b43871efdc0",
        "IPY_MODEL_29c58911498d4aa6a2414df9a542fac7",
        "IPY_MODEL_43f5fe00abf24e87a243f0bfad27b8f8",
        "IPY_MODEL_d384bccff22f466c9e19c5c6fed14df9",
        "IPY_MODEL_f9cd68882f7241ff86398ae31aca2a0b",
        "IPY_MODEL_a6f2c40274d84599a4cadfede4ecb8c7",
        "IPY_MODEL_06f71c2c3dcb49f18cc6033e5f179a98",
        "IPY_MODEL_65b862d62a584977ac0e560ec991b5b5",
        "IPY_MODEL_3ada2e42cfd24fbf98c7b8f49f7040bd",
        "IPY_MODEL_47660b704d7e4ebca264e22636a5908d",
        "IPY_MODEL_2180ea88a6b8468aa8e9646668a29530",
        "IPY_MODEL_79a81bd3b540443588d595c53480097b",
        "IPY_MODEL_adb5279e589f47e3a22a84712cd5b1bd",
        "IPY_MODEL_37ec748d755e460786d085e3ff42bfe2",
        "IPY_MODEL_486eb85291a24c379dbdd0a8ed56386a",
        "IPY_MODEL_0811a0344af14b4dba7e34302bd1ff65",
        "IPY_MODEL_12a4d96b6f1f444f812b04440f304974",
        "IPY_MODEL_fe47d63bf9474ebd9d48264d49e42c56",
        "IPY_MODEL_e83b6501e05b4cdb8355e343e86e477f",
        "IPY_MODEL_50911fbb9b4345908337c81c1da1d720",
        "IPY_MODEL_f625b010b9af41e0af68b802b552c0e0"
       ]
      }
     },
     "0c0138a8ff264370a910e2c5f05559c6": {
      "model_module": "jupyter-cytoscape",
      "model_module_version": "^1.3.3",
      "model_name": "EdgeModel",
      "state": {
       "_model_module_version": "^1.3.3",
       "_view_module_version": "^1.3.3",
       "classes": " directed ",
       "data": {
        "source": "-8980786544197403048",
        "target": "7077065919116520802"
       },
       "selectable": false
      }
     },
     "0c0a2efd2ce540d4aeb234ff9ee2e7cf": {
      "model_module": "jupyter-cytoscape",
      "model_module_version": "^1.3.3",
      "model_name": "NodeModel",
      "state": {
       "_model_module_version": "^1.3.3",
       "_view_module_version": "^1.3.3",
       "data": {
        "color": "gray",
        "id": "-4672027926650990305",
        "label": "",
        "shape": "rectangle"
       },
       "grabbable": true,
       "grabbed": false,
       "selectable": false
      }
     },
     "0c12509956684228b6b63a0f6fd02510": {
      "model_module": "jupyter-cytoscape",
      "model_module_version": "^1.3.3",
      "model_name": "NodeModel",
      "state": {
       "_model_module_version": "^1.3.3",
       "_view_module_version": "^1.3.3",
       "data": {
        "color": "gray",
        "id": "7077065919116520802",
        "label": "extract_measurement",
        "shape": "ellipse"
       },
       "grabbable": true,
       "grabbed": false,
       "selectable": false
      }
     },
     "0c41e366ab4849b2892c30f2ac9da476": {
      "model_module": "jupyter-cytoscape",
      "model_module_version": "^1.3.3",
      "model_name": "EdgeModel",
      "state": {
       "_model_module_version": "^1.3.3",
       "_view_module_version": "^1.3.3",
       "classes": " directed ",
       "data": {
        "source": "-7162202832397786769",
        "target": "-4756616172800127912"
       },
       "selectable": false
      }
     },
     "0c8b817f937c45709e409ed8042e814d": {
      "model_module": "jupyter-cytoscape",
      "model_module_version": "^1.3.3",
      "model_name": "EdgeModel",
      "state": {
       "_model_module_version": "^1.3.3",
       "_view_module_version": "^1.3.3",
       "classes": " directed ",
       "data": {
        "source": "-6147267522005547498",
        "target": "4281011354108735256"
       },
       "selectable": false
      }
     },
     "0cc1ee581ff946d9bb4d370afb36cc16": {
      "model_module": "jupyter-cytoscape",
      "model_module_version": "^1.3.3",
      "model_name": "NodeModel",
      "state": {
       "_model_module_version": "^1.3.3",
       "_view_module_version": "^1.3.3",
       "data": {
        "color": "gray",
        "id": "-3373148340957401474",
        "label": "extract_measurement",
        "shape": "ellipse"
       },
       "grabbable": true,
       "grabbed": false,
       "selectable": false
      }
     },
     "0d48cab73fd74ae0b28c61001a2ce4be": {
      "model_module": "jupyter-cytoscape",
      "model_module_version": "^1.3.3",
      "model_name": "EdgeModel",
      "state": {
       "_model_module_version": "^1.3.3",
       "_view_module_version": "^1.3.3",
       "classes": " directed ",
       "data": {
        "source": "4776900485209766422",
        "target": "6605405690337731129"
       },
       "selectable": false
      }
     },
     "0d4b141db626467d96a3b1d0ac836c21": {
      "model_module": "jupyter-cytoscape",
      "model_module_version": "^1.3.3",
      "model_name": "NodeModel",
      "state": {
       "_model_module_version": "^1.3.3",
       "_view_module_version": "^1.3.3",
       "data": {
        "color": "gray",
        "id": "5892879919772986108",
        "label": "(1, 0, 0)",
        "shape": "rectangle"
       },
       "grabbable": true,
       "grabbed": false,
       "selectable": false
      }
     },
     "0dd680597e0745b7bc19462253944eb4": {
      "model_module": "jupyter-cytoscape",
      "model_module_version": "^1.3.3",
      "model_name": "EdgeModel",
      "state": {
       "_model_module_version": "^1.3.3",
       "_view_module_version": "^1.3.3",
       "classes": " directed ",
       "data": {
        "source": "7001030414621609575",
        "target": "5654608039452636496"
       },
       "selectable": false
      }
     },
     "0e54b74b982a4e0ea8124d0a37318de8": {
      "model_module": "jupyter-cytoscape",
      "model_module_version": "^1.3.3",
      "model_name": "NodeModel",
      "state": {
       "_model_module_version": "^1.3.3",
       "_view_module_version": "^1.3.3",
       "data": {
        "color": "gray",
        "id": "-8646584789489772301",
        "label": "extract_measurement",
        "shape": "ellipse"
       },
       "grabbable": true,
       "grabbed": false,
       "selectable": false
      }
     },
     "0e85afed25ce472c9761e1d16a1607e0": {
      "model_module": "@jupyter-widgets/base",
      "model_module_version": "2.0.0",
      "model_name": "LayoutModel",
      "state": {
       "_model_name": "LayoutModel",
       "_view_name": "ErrorWidgetView",
       "align_content": null,
       "align_items": null,
       "align_self": null,
       "border": null,
       "bottom": null,
       "display": null,
       "error": {},
       "flex": null,
       "flex_flow": null,
       "grid_area": null,
       "grid_auto_columns": null,
       "grid_auto_flow": null,
       "grid_auto_rows": null,
       "grid_column": null,
       "grid_gap": null,
       "grid_row": null,
       "grid_template_areas": null,
       "grid_template_columns": null,
       "grid_template_rows": null,
       "height": "400px",
       "justify_content": null,
       "justify_items": null,
       "left": null,
       "margin": null,
       "max_height": null,
       "max_width": null,
       "min_height": null,
       "min_width": null,
       "msg": "Failed to load model class 'LayoutModel' from module '@jupyter-widgets/base'",
       "object_fit": null,
       "object_position": null,
       "order": null,
       "overflow": null,
       "overflow_x": null,
       "overflow_y": null,
       "padding": null,
       "right": null,
       "top": null,
       "visibility": null,
       "width": null
      }
     },
     "0f021faa892f4d8aa617414acfa795da": {
      "model_module": "jupyter-cytoscape",
      "model_module_version": "^1.3.3",
      "model_name": "EdgeModel",
      "state": {
       "_model_module_version": "^1.3.3",
       "_view_module_version": "^1.3.3",
       "classes": " directed ",
       "data": {
        "source": "-2492882789354074054",
        "target": "-8034539748474648114"
       },
       "selectable": false
      }
     },
     "0f5da401f4b1495fbd28feefc7f949c5": {
      "model_module": "jupyter-cytoscape",
      "model_module_version": "^1.3.3",
      "model_name": "NodeModel",
      "state": {
       "_model_module_version": "^1.3.3",
       "_view_module_version": "^1.3.3",
       "data": {
        "color": "gray",
        "id": "-8776769559527088828",
        "label": "1",
        "shape": "rectangle"
       },
       "grabbable": true,
       "grabbed": false,
       "selectable": false
      }
     },
     "0f74bcae339447a8a6ea28d0d826681f": {
      "model_module": "jupyter-cytoscape",
      "model_module_version": "^1.3.3",
      "model_name": "EdgeModel",
      "state": {
       "_model_module_version": "^1.3.3",
       "_view_module_version": "^1.3.3",
       "classes": " directed ",
       "data": {
        "source": "-2492882789354074054",
        "target": "-8034539748474648114"
       },
       "selectable": false
      }
     },
     "0ff49d0129eb476b86c532e6205b3c53": {
      "model_module": "jupyter-cytoscape",
      "model_module_version": "^1.3.3",
      "model_name": "EdgeModel",
      "state": {
       "_model_module_version": "^1.3.3",
       "_view_module_version": "^1.3.3",
       "classes": " directed ",
       "data": {
        "source": "5654608039452636496",
        "target": "-693068665782858830"
       },
       "selectable": false
      }
     },
     "0ffcf9f5e24c49e6a29897906face953": {
      "model_module": "jupyter-cytoscape",
      "model_module_version": "^1.3.3",
      "model_name": "NodeModel",
      "state": {
       "_model_module_version": "^1.3.3",
       "_view_module_version": "^1.3.3",
       "data": {
        "color": "gray",
        "id": "-6292486031629062684",
        "label": "",
        "shape": "rectangle"
       },
       "grabbable": true,
       "grabbed": false,
       "selectable": false
      }
     },
     "10197a9efc8243d2a7ec07d478970dca": {
      "model_module": "jupyter-cytoscape",
      "model_module_version": "^1.3.3",
      "model_name": "CytoscapeModel",
      "state": {
       "_interaction_handlers": {},
       "_model_module_version": "^1.3.3",
       "_view_module_version": "^1.3.3",
       "auto_ungrabify": false,
       "autolock": false,
       "cytoscape_layout": {
        "edgeSep": 10,
        "name": "dagre",
        "nodeDimensionsIncludeLabels": true,
        "nodeSep": 10,
        "rankDir": "BT",
        "spacingFactor": 1
       },
       "cytoscape_style": [
        {
         "selector": "node",
         "style": {
          "background-color": "#eee",
          "border-color": "data(color)",
          "border-width": 4,
          "color": "black",
          "font-family": "helvetica",
          "font-size": "24px",
          "font-weight": "bold",
          "height": 64,
          "label": "data(label)",
          "opacity": "1.0",
          "shape": "data(shape)",
          "text-halign": "center",
          "text-valign": "center",
          "width": 64
         }
        },
        {
         "selector": "edge",
         "style": {
          "curve-style": "bezier",
          "line-color": "gray",
          "target-arrow-color": "gray",
          "target-arrow-shape": "triangle",
          "width": 8
         }
        }
       ],
       "desktop_tap_threshold": 4,
       "graph": "IPY_MODEL_605f055674004f16963ce8497e2ac059",
       "headless": false,
       "hide_edges_on_viewport": false,
       "layout": "IPY_MODEL_c531964775b149aabe24d2e1d5f6516c",
       "max_zoom": 4,
       "min_zoom": 0.2,
       "motion_blur": false,
       "motion_blur_opacity": 0.2,
       "panning_enabled": true,
       "pixel_ratio": "auto",
       "rendered_position": {
        "renderedPosition": {
         "x": 100,
         "y": 100
        }
       },
       "selection_type": "single",
       "style_enabled": true,
       "texture_on_viewport": false,
       "tooltip_source": "tooltip",
       "touch_tap_threshold": 8,
       "user_panning_enabled": true,
       "user_zooming_enabled": true,
       "wheel_sensitivity": 0.1,
       "zoom": 2,
       "zooming_enabled": true
      }
     },
     "10e81fb4e5864209b74a0eedae722000": {
      "model_module": "jupyter-cytoscape",
      "model_module_version": "^1.3.3",
      "model_name": "NodeModel",
      "state": {
       "_model_module_version": "^1.3.3",
       "_view_module_version": "^1.3.3",
       "data": {
        "color": "gray",
        "id": "-8036199778869199068",
        "label": "frozen_phonon",
        "shape": "ellipse"
       },
       "grabbable": true,
       "grabbed": false,
       "selectable": false
      }
     },
     "115b7d47e4ff498e878c5c50dd4e3231": {
      "model_module": "jupyter-cytoscape",
      "model_module_version": "^1.3.3",
      "model_name": "EdgeModel",
      "state": {
       "_model_module_version": "^1.3.3",
       "_view_module_version": "^1.3.3",
       "classes": " directed ",
       "data": {
        "source": "-5027416227128121925",
        "target": "-3349036892622714455"
       },
       "selectable": false
      }
     },
     "11838b7322eb4193a1b5310fca02cfe4": {
      "model_module": "jupyter-cytoscape",
      "model_module_version": "^1.3.3",
      "model_name": "EdgeModel",
      "state": {
       "_model_module_version": "^1.3.3",
       "_view_module_version": "^1.3.3",
       "classes": " directed ",
       "data": {
        "source": "4543517768215573707",
        "target": "-7162202832397786769"
       },
       "selectable": false
      }
     },
     "11ae30b052be482890ef0738eac9fb03": {
      "model_module": "jupyter-cytoscape",
      "model_module_version": "^1.3.3",
      "model_name": "NodeModel",
      "state": {
       "_model_module_version": "^1.3.3",
       "_view_module_version": "^1.3.3",
       "data": {
        "color": "gray",
        "id": "-6553637324542115266",
        "label": "(3, 0, 0)",
        "shape": "rectangle"
       },
       "grabbable": true,
       "grabbed": false,
       "selectable": false
      }
     },
     "121201f8e6ef4f7795ed408ebc399014": {
      "model_module": "jupyter-cytoscape",
      "model_module_version": "^1.3.3",
      "model_name": "EdgeModel",
      "state": {
       "_model_module_version": "^1.3.3",
       "_view_module_version": "^1.3.3",
       "classes": " directed ",
       "data": {
        "source": "-6497939102615796927",
        "target": "-5593255572014410437"
       },
       "selectable": false
      }
     },
     "12313b121628474ea0c8b92969d6fe5e": {
      "model_module": "jupyter-cytoscape",
      "model_module_version": "^1.3.3",
      "model_name": "NodeModel",
      "state": {
       "_model_module_version": "^1.3.3",
       "_view_module_version": "^1.3.3",
       "data": {
        "color": "gray",
        "id": "4679115211081635045",
        "label": "(2, 0, 0)",
        "shape": "rectangle"
       },
       "grabbable": true,
       "grabbed": false,
       "selectable": false
      }
     },
     "125637b3d27346119a887e069dec41d9": {
      "model_module": "jupyter-cytoscape",
      "model_module_version": "^1.3.3",
      "model_name": "EdgeModel",
      "state": {
       "_model_module_version": "^1.3.3",
       "_view_module_version": "^1.3.3",
       "classes": " directed ",
       "data": {
        "source": "8226335373065077933",
        "target": "4218932839740261193"
       },
       "selectable": false
      }
     },
     "127bc045472a4286b41ce84c1e218546": {
      "model_module": "jupyter-cytoscape",
      "model_module_version": "^1.3.3",
      "model_name": "EdgeModel",
      "state": {
       "_model_module_version": "^1.3.3",
       "_view_module_version": "^1.3.3",
       "classes": " directed ",
       "data": {
        "source": "-1800958231532078890",
        "target": "6825927405394541791"
       },
       "selectable": false
      }
     },
     "129a184c1f9f41459e1b05c1e8656b05": {
      "model_module": "jupyter-cytoscape",
      "model_module_version": "^1.3.3",
      "model_name": "EdgeModel",
      "state": {
       "_model_module_version": "^1.3.3",
       "_view_module_version": "^1.3.3",
       "classes": " directed ",
       "data": {
        "source": "9138675498050813437",
        "target": "5380259335186057991"
       },
       "selectable": false
      }
     },
     "12a4d96b6f1f444f812b04440f304974": {
      "model_module": "jupyter-cytoscape",
      "model_module_version": "^1.3.3",
      "model_name": "NodeModel",
      "state": {
       "_model_module_version": "^1.3.3",
       "_view_module_version": "^1.3.3",
       "data": {
        "color": "gray",
        "id": "-8752789098251752585",
        "label": "(0, 0, 0)",
        "shape": "rectangle"
       },
       "grabbable": true,
       "grabbed": false,
       "selectable": false
      }
     },
     "137cc2f914ce4f959d71a06ed1479600": {
      "model_module": "jupyter-cytoscape",
      "model_module_version": "^1.3.3",
      "model_name": "NodeModel",
      "state": {
       "_model_module_version": "^1.3.3",
       "_view_module_version": "^1.3.3",
       "data": {
        "color": "gray",
        "id": "-88669992118454490",
        "label": "mean_chunk",
        "shape": "ellipse"
       },
       "grabbable": true,
       "grabbed": false,
       "selectable": false
      }
     },
     "13cb8bc8f0444344922e6b03c60dc566": {
      "model_module": "jupyter-cytoscape",
      "model_module_version": "^1.3.3",
      "model_name": "EdgeModel",
      "state": {
       "_model_module_version": "^1.3.3",
       "_view_module_version": "^1.3.3",
       "classes": " directed ",
       "data": {
        "source": "7143069633224236115",
        "target": "-1454821431635411725"
       },
       "selectable": false
      }
     },
     "13dc2383a19542f1b01649a4bb15311f": {
      "model_module": "jupyter-cytoscape",
      "model_module_version": "^1.3.3",
      "model_name": "EdgeModel",
      "state": {
       "_model_module_version": "^1.3.3",
       "_view_module_version": "^1.3.3",
       "classes": " directed ",
       "data": {
        "source": "7876181867568370685",
        "target": "3162333758080464363"
       },
       "selectable": false
      }
     },
     "14226bdcbe454449a457ac90f2577ba7": {
      "model_module": "jupyter-cytoscape",
      "model_module_version": "^1.3.3",
      "model_name": "EdgeModel",
      "state": {
       "_model_module_version": "^1.3.3",
       "_view_module_version": "^1.3.3",
       "classes": " directed ",
       "data": {
        "source": "-8369933350610621265",
        "target": "3629306384784091193"
       },
       "selectable": false
      }
     },
     "148ac9789bef44fcbcb204a8dba72d40": {
      "model_module": "jupyter-cytoscape",
      "model_module_version": "^1.3.3",
      "model_name": "NodeModel",
      "state": {
       "_model_module_version": "^1.3.3",
       "_view_module_version": "^1.3.3",
       "data": {
        "color": "gray",
        "id": "7077065919116520802",
        "label": "extract_measurement",
        "shape": "ellipse"
       },
       "grabbable": true,
       "grabbed": false,
       "selectable": false
      }
     },
     "14b5fcdc508c4cf3ac37abec339188a5": {
      "model_module": "jupyter-cytoscape",
      "model_module_version": "^1.3.3",
      "model_name": "EdgeModel",
      "state": {
       "_model_module_version": "^1.3.3",
       "_view_module_version": "^1.3.3",
       "classes": " directed ",
       "data": {
        "source": "-8036199778869199068",
        "target": "8759406085844506703"
       },
       "selectable": false
      }
     },
     "1502ac9514664bb49f78e9e4db0d2cb1": {
      "model_module": "jupyter-cytoscape",
      "model_module_version": "^1.3.3",
      "model_name": "EdgeModel",
      "state": {
       "_model_module_version": "^1.3.3",
       "_view_module_version": "^1.3.3",
       "classes": " directed ",
       "data": {
        "source": "-1793233785852133242",
        "target": "8895211512943915587"
       },
       "selectable": false
      }
     },
     "152a4de9dd1b449a80f9259cc5f4e860": {
      "model_module": "jupyter-cytoscape",
      "model_module_version": "^1.3.3",
      "model_name": "NodeModel",
      "state": {
       "_model_module_version": "^1.3.3",
       "_view_module_version": "^1.3.3",
       "data": {
        "color": "gray",
        "id": "7494512724633528164",
        "label": "1",
        "shape": "rectangle"
       },
       "grabbable": true,
       "grabbed": false,
       "selectable": false
      }
     },
     "159ce1d84a2b43908dfc2359ebe290c4": {
      "model_module": "jupyter-cytoscape",
      "model_module_version": "^1.3.3",
      "model_name": "CytoscapeModel",
      "state": {
       "_interaction_handlers": {},
       "_model_module_version": "^1.3.3",
       "_view_module_version": "^1.3.3",
       "auto_ungrabify": false,
       "autolock": false,
       "cytoscape_layout": {
        "edgeSep": 10,
        "name": "dagre",
        "nodeDimensionsIncludeLabels": true,
        "nodeSep": 10,
        "rankDir": "BT",
        "spacingFactor": 1
       },
       "cytoscape_style": [
        {
         "selector": "node",
         "style": {
          "background-color": "#eee",
          "border-color": "data(color)",
          "border-width": 4,
          "color": "black",
          "font-family": "helvetica",
          "font-size": "24px",
          "font-weight": "bold",
          "height": 64,
          "label": "data(label)",
          "opacity": "1.0",
          "shape": "data(shape)",
          "text-halign": "center",
          "text-valign": "center",
          "width": 64
         }
        },
        {
         "selector": "edge",
         "style": {
          "curve-style": "bezier",
          "line-color": "gray",
          "target-arrow-color": "gray",
          "target-arrow-shape": "triangle",
          "width": 8
         }
        }
       ],
       "desktop_tap_threshold": 4,
       "graph": "IPY_MODEL_48bf84f84b1549de897d38be9a1ebd2d",
       "headless": false,
       "hide_edges_on_viewport": false,
       "layout": "IPY_MODEL_a2c7f8c9accc423faa1b54a16fb09517",
       "max_zoom": 4,
       "min_zoom": 0.2,
       "motion_blur": false,
       "motion_blur_opacity": 0.2,
       "panning_enabled": true,
       "pixel_ratio": "auto",
       "rendered_position": {
        "renderedPosition": {
         "x": 100,
         "y": 100
        }
       },
       "selection_type": "single",
       "style_enabled": true,
       "texture_on_viewport": false,
       "tooltip_source": "tooltip",
       "touch_tap_threshold": 8,
       "user_panning_enabled": true,
       "user_zooming_enabled": true,
       "wheel_sensitivity": 0.1,
       "zoom": 2,
       "zooming_enabled": true
      }
     },
     "15c4f5cb53464cafa08fcf9874beddc3": {
      "model_module": "jupyter-cytoscape",
      "model_module_version": "^1.3.3",
      "model_name": "EdgeModel",
      "state": {
       "_model_module_version": "^1.3.3",
       "_view_module_version": "^1.3.3",
       "classes": " directed ",
       "data": {
        "source": "6682166873657082499",
        "target": "-3915436992879133533"
       },
       "selectable": false
      }
     },
     "1615a2b8b93f428a8eba004ee3ccef28": {
      "model_module": "jupyter-cytoscape",
      "model_module_version": "^1.3.3",
      "model_name": "EdgeModel",
      "state": {
       "_model_module_version": "^1.3.3",
       "_view_module_version": "^1.3.3",
       "classes": " directed ",
       "data": {
        "source": "4730913378417847910",
        "target": "5130464993996696205"
       },
       "selectable": false
      }
     },
     "167636df2ef1420b85e2b0d36b3000f0": {
      "model_module": "jupyter-cytoscape",
      "model_module_version": "^1.3.3",
      "model_name": "EdgeModel",
      "state": {
       "_model_module_version": "^1.3.3",
       "_view_module_version": "^1.3.3",
       "classes": " directed ",
       "data": {
        "source": "4592959978031127271",
        "target": "-5303692983497827898"
       },
       "selectable": false
      }
     },
     "17114afcfa3f42458fe215e107cfa712": {
      "model_module": "jupyter-cytoscape",
      "model_module_version": "^1.3.3",
      "model_name": "NodeModel",
      "state": {
       "_model_module_version": "^1.3.3",
       "_view_module_version": "^1.3.3",
       "data": {
        "color": "gray",
        "id": "-1226367335932640965",
        "label": "0",
        "shape": "rectangle"
       },
       "grabbable": true,
       "grabbed": false,
       "selectable": false
      }
     },
     "17225e2a32724af082bcfa057f2cb5d6": {
      "model_module": "jupyter-cytoscape",
      "model_module_version": "^1.3.3",
      "model_name": "NodeModel",
      "state": {
       "_model_module_version": "^1.3.3",
       "_view_module_version": "^1.3.3",
       "data": {
        "color": "gray",
        "id": "6826270806708122017",
        "label": "frozen_phonon",
        "shape": "ellipse"
       },
       "grabbable": true,
       "grabbed": false,
       "selectable": false
      }
     },
     "175587a768af40629c327ed9c1fbf2a9": {
      "model_module": "jupyter-cytoscape",
      "model_module_version": "^1.3.3",
      "model_name": "NodeModel",
      "state": {
       "_model_module_version": "^1.3.3",
       "_view_module_version": "^1.3.3",
       "data": {
        "color": "gray",
        "id": "-5378901075238311926",
        "label": "",
        "shape": "rectangle"
       },
       "grabbable": true,
       "grabbed": false,
       "selectable": false
      }
     },
     "179d5fb97b5b4a48804b85361e551d0c": {
      "model_module": "jupyter-cytoscape",
      "model_module_version": "^1.3.3",
      "model_name": "EdgeModel",
      "state": {
       "_model_module_version": "^1.3.3",
       "_view_module_version": "^1.3.3",
       "classes": " directed ",
       "data": {
        "source": "-7190653168310566238",
        "target": "4002729701868916562"
       },
       "selectable": false
      }
     },
     "198aabb68cd341d9a60cef98f18e5372": {
      "model_module": "jupyter-cytoscape",
      "model_module_version": "^1.3.3",
      "model_name": "EdgeModel",
      "state": {
       "_model_module_version": "^1.3.3",
       "_view_module_version": "^1.3.3",
       "classes": " directed ",
       "data": {
        "source": "-1614449508366707697",
        "target": "4669270126925999175"
       },
       "selectable": false
      }
     },
     "199f29ca28634daea070101de3c97113": {
      "model_module": "jupyter-cytoscape",
      "model_module_version": "^1.3.3",
      "model_name": "EdgeModel",
      "state": {
       "_model_module_version": "^1.3.3",
       "_view_module_version": "^1.3.3",
       "classes": " directed ",
       "data": {
        "source": "-2985076271355479025",
        "target": "1918105062987461093"
       },
       "selectable": false
      }
     },
     "19c52797d54345bbb4dd6914cc0f8193": {
      "model_module": "jupyter-cytoscape",
      "model_module_version": "^1.3.3",
      "model_name": "EdgeModel",
      "state": {
       "_model_module_version": "^1.3.3",
       "_view_module_version": "^1.3.3",
       "classes": " directed ",
       "data": {
        "source": "-2343004666951745933",
        "target": "577712527715387209"
       },
       "selectable": false
      }
     },
     "19fd7d9b1e814f62b860cad4b6b9abd3": {
      "model_module": "jupyter-cytoscape",
      "model_module_version": "^1.3.3",
      "model_name": "NodeModel",
      "state": {
       "_model_module_version": "^1.3.3",
       "_view_module_version": "^1.3.3",
       "data": {
        "color": "gray",
        "id": "8341276412589156804",
        "label": "frozen_phonon",
        "shape": "ellipse"
       },
       "grabbable": true,
       "grabbed": false,
       "selectable": false
      }
     },
     "1a768d7f25a543289efbae5f4e4cb69e": {
      "model_module": "jupyter-cytoscape",
      "model_module_version": "^1.3.3",
      "model_name": "EdgeModel",
      "state": {
       "_model_module_version": "^1.3.3",
       "_view_module_version": "^1.3.3",
       "classes": " directed ",
       "data": {
        "source": "-1540672459395553730",
        "target": "-2985076271355479025"
       },
       "selectable": false
      }
     },
     "1b4db5a045f3439bac62c28b58da46d2": {
      "model_module": "jupyter-cytoscape",
      "model_module_version": "^1.3.3",
      "model_name": "NodeModel",
      "state": {
       "_model_module_version": "^1.3.3",
       "_view_module_version": "^1.3.3",
       "data": {
        "color": "gray",
        "id": "-8573168279213860347",
        "label": "build_waves_multislice_detect",
        "shape": "ellipse"
       },
       "grabbable": true,
       "grabbed": false,
       "selectable": false
      }
     },
     "1b9da47f8d5e460285c5ac1eb9c437b2": {
      "model_module": "jupyter-cytoscape",
      "model_module_version": "^1.3.3",
      "model_name": "EdgeModel",
      "state": {
       "_model_module_version": "^1.3.3",
       "_view_module_version": "^1.3.3",
       "classes": " directed ",
       "data": {
        "source": "-3817565199602122438",
        "target": "5125598847137988848"
       },
       "selectable": false
      }
     },
     "1bc6480fc8dc452ba02ec4e8ad31fb68": {
      "model_module": "jupyter-cytoscape",
      "model_module_version": "^1.3.3",
      "model_name": "NodeModel",
      "state": {
       "_model_module_version": "^1.3.3",
       "_view_module_version": "^1.3.3",
       "data": {
        "color": "gray",
        "id": "5654608039452636496",
        "label": "0",
        "shape": "rectangle"
       },
       "grabbable": true,
       "grabbed": false,
       "selectable": false
      }
     },
     "1bd51b3d6d5d4fa69b05fd5e9c9b74d2": {
      "model_module": "jupyter-cytoscape",
      "model_module_version": "^1.3.3",
      "model_name": "NodeModel",
      "state": {
       "_model_module_version": "^1.3.3",
       "_view_module_version": "^1.3.3",
       "data": {
        "color": "gray",
        "id": "-693068665782858830",
        "label": "0",
        "shape": "rectangle"
       },
       "grabbable": true,
       "grabbed": false,
       "selectable": false
      }
     },
     "1c0f6740114a43caaa67aae3ed56dfd2": {
      "model_module": "jupyter-cytoscape",
      "model_module_version": "^1.3.3",
      "model_name": "EdgeModel",
      "state": {
       "_model_module_version": "^1.3.3",
       "_view_module_version": "^1.3.3",
       "classes": " directed ",
       "data": {
        "source": "-2297275566705832746",
        "target": "-1226367335932640965"
       },
       "selectable": false
      }
     },
     "1c3530c3003d419b913304e9dee5d6ea": {
      "model_module": "jupyter-cytoscape",
      "model_module_version": "^1.3.3",
      "model_name": "NodeModel",
      "state": {
       "_model_module_version": "^1.3.3",
       "_view_module_version": "^1.3.3",
       "data": {
        "color": "gray",
        "id": "-8092343491893973367",
        "label": "intensity",
        "shape": "ellipse"
       },
       "grabbable": true,
       "grabbed": false,
       "selectable": false
      }
     },
     "1c62a7364f5f4515923da131acca2eff": {
      "model_module": "jupyter-cytoscape",
      "model_module_version": "^1.3.3",
      "model_name": "EdgeModel",
      "state": {
       "_model_module_version": "^1.3.3",
       "_view_module_version": "^1.3.3",
       "classes": " directed ",
       "data": {
        "source": "7876181867568370685",
        "target": "3162333758080464363"
       },
       "selectable": false
      }
     },
     "1ced3dc2d45d491c8f8b2702f4b01a29": {
      "model_module": "jupyter-cytoscape",
      "model_module_version": "^1.3.3",
      "model_name": "EdgeModel",
      "state": {
       "_model_module_version": "^1.3.3",
       "_view_module_version": "^1.3.3",
       "classes": " directed ",
       "data": {
        "source": "-5300833347800415111",
        "target": "7110972868477951194"
       },
       "selectable": false
      }
     },
     "1d48cc241d9444ab81b1ad410eaa4fdb": {
      "model_module": "jupyter-cytoscape",
      "model_module_version": "^1.3.3",
      "model_name": "NodeModel",
      "state": {
       "_model_module_version": "^1.3.3",
       "_view_module_version": "^1.3.3",
       "data": {
        "color": "gray",
        "id": "-610012787654801415",
        "label": "build_waves_multislice_detect",
        "shape": "ellipse"
       },
       "grabbable": true,
       "grabbed": false,
       "selectable": false
      }
     },
     "1d78661640c34ea3b2ac659582c7a417": {
      "model_module": "jupyter-cytoscape",
      "model_module_version": "^1.3.3",
      "model_name": "EdgeModel",
      "state": {
       "_model_module_version": "^1.3.3",
       "_view_module_version": "^1.3.3",
       "classes": " directed ",
       "data": {
        "source": "5175792930573095707",
        "target": "4710722068778462095"
       },
       "selectable": false
      }
     },
     "1daeb8b7ac2a4bf794bf9dae37898b97": {
      "model_module": "jupyter-cytoscape",
      "model_module_version": "^1.3.3",
      "model_name": "NodeModel",
      "state": {
       "_model_module_version": "^1.3.3",
       "_view_module_version": "^1.3.3",
       "data": {
        "color": "gray",
        "id": "4730913378417847910",
        "label": "(1, 0, 0)",
        "shape": "rectangle"
       },
       "grabbable": true,
       "grabbed": false,
       "selectable": false
      }
     },
     "1ea8091f3c5f43e58fac16216fd65b5c": {
      "model_module": "jupyter-cytoscape",
      "model_module_version": "^1.3.3",
      "model_name": "EdgeModel",
      "state": {
       "_model_module_version": "^1.3.3",
       "_view_module_version": "^1.3.3",
       "classes": " directed ",
       "data": {
        "source": "-6646829093793065682",
        "target": "7143069633224236115"
       },
       "selectable": false
      }
     },
     "1ec70f99adbc461584a5b545c8e55c68": {
      "model_module": "jupyter-cytoscape",
      "model_module_version": "^1.3.3",
      "model_name": "GraphModel",
      "state": {
       "_adj": {},
       "_model_module_version": "^1.3.3",
       "_view_module": "jupyter-cytoscape",
       "_view_module_version": "^1.3.3"
      }
     },
     "1ef11897565040be8e57d2b8cd79b598": {
      "model_module": "jupyter-cytoscape",
      "model_module_version": "^1.3.3",
      "model_name": "NodeModel",
      "state": {
       "_model_module_version": "^1.3.3",
       "_view_module_version": "^1.3.3",
       "data": {
        "color": "gray",
        "id": "4730913378417847910",
        "label": "(1, 0, 0)",
        "shape": "rectangle"
       },
       "grabbable": true,
       "grabbed": false,
       "selectable": false
      }
     },
     "1f5297918eb74ad4bc56b7dc1ad22f37": {
      "model_module": "jupyter-cytoscape",
      "model_module_version": "^1.3.3",
      "model_name": "NodeModel",
      "state": {
       "_model_module_version": "^1.3.3",
       "_view_module_version": "^1.3.3",
       "data": {
        "color": "gray",
        "id": "-5300833347800415111",
        "label": "intensity",
        "shape": "ellipse"
       },
       "grabbable": true,
       "grabbed": false,
       "selectable": false
      }
     },
     "1f896d8c73794aed9230e8b5f62ada9d": {
      "model_module": "jupyter-cytoscape",
      "model_module_version": "^1.3.3",
      "model_name": "EdgeModel",
      "state": {
       "_model_module_version": "^1.3.3",
       "_view_module_version": "^1.3.3",
       "classes": " directed ",
       "data": {
        "source": "7143069633224236115",
        "target": "-1454821431635411725"
       },
       "selectable": false
      }
     },
     "1f976d0682354fdd9c10070bc2cc2ff6": {
      "model_module": "jupyter-cytoscape",
      "model_module_version": "^1.3.3",
      "model_name": "EdgeModel",
      "state": {
       "_model_module_version": "^1.3.3",
       "_view_module_version": "^1.3.3",
       "classes": " directed ",
       "data": {
        "source": "4776900485209766422",
        "target": "6605405690337731129"
       },
       "selectable": false
      }
     },
     "1f9cb9b8d5c840dd81b732bcd9d3cea2": {
      "model_module": "jupyter-cytoscape",
      "model_module_version": "^1.3.3",
      "model_name": "EdgeModel",
      "state": {
       "_model_module_version": "^1.3.3",
       "_view_module_version": "^1.3.3",
       "classes": " directed ",
       "data": {
        "source": "3537663541289573858",
        "target": "-3366324276772900629"
       },
       "selectable": false
      }
     },
     "200bda0fe18e464b85150090cdfaace2": {
      "model_module": "jupyter-cytoscape",
      "model_module_version": "^1.3.3",
      "model_name": "EdgeModel",
      "state": {
       "_model_module_version": "^1.3.3",
       "_view_module_version": "^1.3.3",
       "classes": " directed ",
       "data": {
        "source": "4423224545294134894",
        "target": "-6680118790443633764"
       },
       "selectable": false
      }
     },
     "20366fea71064e4e8bd76fb3cafe65ab": {
      "model_module": "jupyter-cytoscape",
      "model_module_version": "^1.3.3",
      "model_name": "EdgeModel",
      "state": {
       "_model_module_version": "^1.3.3",
       "_view_module_version": "^1.3.3",
       "classes": " directed ",
       "data": {
        "source": "2601438695660831798",
        "target": "-8573168279213860347"
       },
       "selectable": false
      }
     },
     "21187db94d6c4a319674c7a6030c3c98": {
      "model_module": "jupyter-cytoscape",
      "model_module_version": "^1.3.3",
      "model_name": "EdgeModel",
      "state": {
       "_model_module_version": "^1.3.3",
       "_view_module_version": "^1.3.3",
       "classes": " directed ",
       "data": {
        "source": "-1800958231532078890",
        "target": "6825927405394541791"
       },
       "selectable": false
      }
     },
     "2146b39e8f4d45fbb538ae6c1bdf33cc": {
      "model_module": "jupyter-cytoscape",
      "model_module_version": "^1.3.3",
      "model_name": "NodeModel",
      "state": {
       "_model_module_version": "^1.3.3",
       "_view_module_version": "^1.3.3",
       "data": {
        "color": "gray",
        "id": "-814016714424876553",
        "label": "(1, 0, 0)",
        "shape": "rectangle"
       },
       "grabbable": true,
       "grabbed": false,
       "selectable": false
      }
     },
     "2180ea88a6b8468aa8e9646668a29530": {
      "model_module": "jupyter-cytoscape",
      "model_module_version": "^1.3.3",
      "model_name": "NodeModel",
      "state": {
       "_model_module_version": "^1.3.3",
       "_view_module_version": "^1.3.3",
       "data": {
        "color": "gray",
        "id": "-678342980587649050",
        "label": "(1, 0, 0)",
        "shape": "rectangle"
       },
       "grabbable": true,
       "grabbed": false,
       "selectable": false
      }
     },
     "221fdbcd13a94197acc6635f70f3dfe5": {
      "model_module": "jupyter-cytoscape",
      "model_module_version": "^1.3.3",
      "model_name": "NodeModel",
      "state": {
       "_model_module_version": "^1.3.3",
       "_view_module_version": "^1.3.3",
       "data": {
        "color": "gray",
        "id": "3537663541289573858",
        "label": "frozen_phonon",
        "shape": "ellipse"
       },
       "grabbable": true,
       "grabbed": false,
       "selectable": false
      }
     },
     "227981fede7047b9b6af857d8723ad01": {
      "model_module": "jupyter-cytoscape",
      "model_module_version": "^1.3.3",
      "model_name": "EdgeModel",
      "state": {
       "_model_module_version": "^1.3.3",
       "_view_module_version": "^1.3.3",
       "classes": " directed ",
       "data": {
        "source": "-1226367335932640965",
        "target": "-8776769559527088828"
       },
       "selectable": false
      }
     },
     "227f6727544748a099c9d22792eb76dd": {
      "model_module": "@jupyter-widgets/base",
      "model_module_version": "2.0.0",
      "model_name": "LayoutModel",
      "state": {
       "_model_name": "LayoutModel",
       "_view_name": "ErrorWidgetView",
       "align_content": null,
       "align_items": null,
       "align_self": null,
       "border": null,
       "bottom": null,
       "display": null,
       "error": {},
       "flex": null,
       "flex_flow": null,
       "grid_area": null,
       "grid_auto_columns": null,
       "grid_auto_flow": null,
       "grid_auto_rows": null,
       "grid_column": null,
       "grid_gap": null,
       "grid_row": null,
       "grid_template_areas": null,
       "grid_template_columns": null,
       "grid_template_rows": null,
       "height": "400px",
       "justify_content": null,
       "justify_items": null,
       "left": null,
       "margin": null,
       "max_height": null,
       "max_width": null,
       "min_height": null,
       "min_width": null,
       "msg": "Failed to load model class 'LayoutModel' from module '@jupyter-widgets/base'",
       "object_fit": null,
       "object_position": null,
       "order": null,
       "overflow": null,
       "overflow_x": null,
       "overflow_y": null,
       "padding": null,
       "right": null,
       "top": null,
       "visibility": null,
       "width": null
      }
     },
     "22ca505ec11f4ccfa52e84a5b51967cc": {
      "model_module": "jupyter-cytoscape",
      "model_module_version": "^1.3.3",
      "model_name": "NodeModel",
      "state": {
       "_model_module_version": "^1.3.3",
       "_view_module_version": "^1.3.3",
       "data": {
        "color": "gray",
        "id": "7110972868477951194",
        "label": "(2, 0, 0)",
        "shape": "rectangle"
       },
       "grabbable": true,
       "grabbed": false,
       "selectable": false
      }
     },
     "22e49c984e864d12a65dea8ced081c6b": {
      "model_module": "jupyter-cytoscape",
      "model_module_version": "^1.3.3",
      "model_name": "EdgeModel",
      "state": {
       "_model_module_version": "^1.3.3",
       "_view_module_version": "^1.3.3",
       "classes": " directed ",
       "data": {
        "source": "-5867077928345488197",
        "target": "921498061346443229"
       },
       "selectable": false
      }
     },
     "230fedf6995e491a9ecef4770c361d07": {
      "model_module": "jupyter-cytoscape",
      "model_module_version": "^1.3.3",
      "model_name": "NodeModel",
      "state": {
       "_model_module_version": "^1.3.3",
       "_view_module_version": "^1.3.3",
       "data": {
        "color": "gray",
        "id": "3537663541289573858",
        "label": "frozen_phonon",
        "shape": "ellipse"
       },
       "grabbable": true,
       "grabbed": false,
       "selectable": false
      }
     },
     "23270063ce4d4b51bb56dda8da04a5d1": {
      "model_module": "jupyter-cytoscape",
      "model_module_version": "^1.3.3",
      "model_name": "EdgeModel",
      "state": {
       "_model_module_version": "^1.3.3",
       "_view_module_version": "^1.3.3",
       "classes": " directed ",
       "data": {
        "source": "-7545445052505860528",
        "target": "4679115211081635045"
       },
       "selectable": false
      }
     },
     "23a1a998b02844c8af99f6ff6c5e3cb2": {
      "model_module": "jupyter-cytoscape",
      "model_module_version": "^1.3.3",
      "model_name": "EdgeModel",
      "state": {
       "_model_module_version": "^1.3.3",
       "_view_module_version": "^1.3.3",
       "classes": " directed ",
       "data": {
        "source": "-3915436992879133533",
        "target": "-6553637324542115266"
       },
       "selectable": false
      }
     },
     "23c3022488ac4f6489f0c3ef2b822f27": {
      "model_module": "jupyter-cytoscape",
      "model_module_version": "^1.3.3",
      "model_name": "EdgeModel",
      "state": {
       "_model_module_version": "^1.3.3",
       "_view_module_version": "^1.3.3",
       "classes": " directed ",
       "data": {
        "source": "-5769699360084664581",
        "target": "4423224545294134894"
       },
       "selectable": false
      }
     },
     "23f103251cc04a259d6e62dd1d4582c5": {
      "model_module": "jupyter-cytoscape",
      "model_module_version": "^1.3.3",
      "model_name": "EdgeModel",
      "state": {
       "_model_module_version": "^1.3.3",
       "_view_module_version": "^1.3.3",
       "classes": " directed ",
       "data": {
        "source": "-4682494566544635945",
        "target": "-1540672459395553730"
       },
       "selectable": false
      }
     },
     "243af1ba3800448abd9f7eb51cffdba4": {
      "model_module": "jupyter-cytoscape",
      "model_module_version": "^1.3.3",
      "model_name": "EdgeModel",
      "state": {
       "_model_module_version": "^1.3.3",
       "_view_module_version": "^1.3.3",
       "classes": " directed ",
       "data": {
        "source": "6682166873657082499",
        "target": "-3915436992879133533"
       },
       "selectable": false
      }
     },
     "24423171259b474b876f5e428a27a9d4": {
      "model_module": "jupyter-cytoscape",
      "model_module_version": "^1.3.3",
      "model_name": "NodeModel",
      "state": {
       "_model_module_version": "^1.3.3",
       "_view_module_version": "^1.3.3",
       "data": {
        "color": "gray",
        "id": "-5867077928345488197",
        "label": "0",
        "shape": "rectangle"
       },
       "grabbable": true,
       "grabbed": false,
       "selectable": false
      }
     },
     "24690d236e92403f9352d9580cc40b01": {
      "model_module": "jupyter-cytoscape",
      "model_module_version": "^1.3.3",
      "model_name": "EdgeModel",
      "state": {
       "_model_module_version": "^1.3.3",
       "_view_module_version": "^1.3.3",
       "classes": " directed ",
       "data": {
        "source": "3629306384784091193",
        "target": "8393120227172931531"
       },
       "selectable": false
      }
     },
     "2571b740ce0e465a8bb136e3ab750cb9": {
      "model_module": "jupyter-cytoscape",
      "model_module_version": "^1.3.3",
      "model_name": "NodeModel",
      "state": {
       "_model_module_version": "^1.3.3",
       "_view_module_version": "^1.3.3",
       "data": {
        "color": "gray",
        "id": "4730913378417847910",
        "label": "(1, 0, 0)",
        "shape": "rectangle"
       },
       "grabbable": true,
       "grabbed": false,
       "selectable": false
      }
     },
     "2598c868bda54354a1d79d14ffe862ed": {
      "model_module": "jupyter-cytoscape",
      "model_module_version": "^1.3.3",
      "model_name": "EdgeModel",
      "state": {
       "_model_module_version": "^1.3.3",
       "_view_module_version": "^1.3.3",
       "classes": " directed ",
       "data": {
        "source": "-8980786544197403048",
        "target": "7077065919116520802"
       },
       "selectable": false
      }
     },
     "2604701517534aed899f0ed5be05ce02": {
      "model_module": "jupyter-cytoscape",
      "model_module_version": "^1.3.3",
      "model_name": "NodeModel",
      "state": {
       "_model_module_version": "^1.3.3",
       "_view_module_version": "^1.3.3",
       "data": {
        "color": "gray",
        "id": "8759406085844506703",
        "label": "",
        "shape": "rectangle"
       },
       "grabbable": true,
       "grabbed": false,
       "selectable": false
      }
     },
     "265710e2e39344a98caed0cdeaef0cec": {
      "model_module": "jupyter-cytoscape",
      "model_module_version": "^1.3.3",
      "model_name": "EdgeModel",
      "state": {
       "_model_module_version": "^1.3.3",
       "_view_module_version": "^1.3.3",
       "classes": " directed ",
       "data": {
        "source": "-1614449508366707697",
        "target": "4669270126925999175"
       },
       "selectable": false
      }
     },
     "266956b96aee469181dad73276ef3456": {
      "model_module": "jupyter-cytoscape",
      "model_module_version": "^1.3.3",
      "model_name": "EdgeModel",
      "state": {
       "_model_module_version": "^1.3.3",
       "_view_module_version": "^1.3.3",
       "classes": " directed ",
       "data": {
        "source": "-9146598646079689744",
        "target": "-4026067495418712757"
       },
       "selectable": false
      }
     },
     "26c793bb92734938a7f0a614ceb2605d": {
      "model_module": "jupyter-cytoscape",
      "model_module_version": "^1.3.3",
      "model_name": "NodeModel",
      "state": {
       "_model_module_version": "^1.3.3",
       "_view_module_version": "^1.3.3",
       "data": {
        "color": "gray",
        "id": "-1454821431635411725",
        "label": "0",
        "shape": "rectangle"
       },
       "grabbable": true,
       "grabbed": false,
       "selectable": false
      }
     },
     "26c9a9a742af487d9a4f5afab94aa07c": {
      "model_module": "jupyter-cytoscape",
      "model_module_version": "^1.3.3",
      "model_name": "NodeModel",
      "state": {
       "_model_module_version": "^1.3.3",
       "_view_module_version": "^1.3.3",
       "data": {
        "color": "gray",
        "id": "5380259335186057991",
        "label": "frozen_phonon",
        "shape": "ellipse"
       },
       "grabbable": true,
       "grabbed": false,
       "selectable": false
      }
     },
     "271fe83a2488449fb21c2da5e201a798": {
      "model_module": "jupyter-cytoscape",
      "model_module_version": "^1.3.3",
      "model_name": "EdgeModel",
      "state": {
       "_model_module_version": "^1.3.3",
       "_view_module_version": "^1.3.3",
       "classes": " directed ",
       "data": {
        "source": "-1454821431635411725",
        "target": "4776900485209766422"
       },
       "selectable": false
      }
     },
     "272caa794efb4c4194f1a59a1b9b80ed": {
      "model_module": "jupyter-cytoscape",
      "model_module_version": "^1.3.3",
      "model_name": "NodeModel",
      "state": {
       "_model_module_version": "^1.3.3",
       "_view_module_version": "^1.3.3",
       "data": {
        "color": "gray",
        "id": "-3558087911606728156",
        "label": "(3, 0, 0)",
        "shape": "rectangle"
       },
       "grabbable": true,
       "grabbed": false,
       "selectable": false
      }
     },
     "27ae61b9f95c4e8980a8de174906f9fc": {
      "model_module": "jupyter-cytoscape",
      "model_module_version": "^1.3.3",
      "model_name": "GraphModel",
      "state": {
       "_adj": {
        "-1488446068642167772": {
         "582384380744980608": 1
        },
        "-1491471162771521316": {
         "8341276412589156804": 1
        },
        "-1926447255996494242": {
         "-3744682022286834359": 1
        },
        "-2316132916475259725": {
         "986871968531529739": 1
        },
        "-2318498712959465226": {
         "-6881435542652321523": 1
        },
        "-2492882789354074054": {
         "-8034539748474648114": 1
        },
        "-3141465719501951748": {
         "1060028317720854565": 1
        },
        "-3211400314611901149": {
         "7494512724633528164": 1
        },
        "-3344688861789731364": {
         "-805616968572569913": 1
        },
        "-3744682022286834359": {
         "1727177019973852603": 1
        },
        "-3817565199602122438": {
         "5125598847137988848": 1
        },
        "-4626585547016365865": {
         "3837102117645593894": 1
        },
        "-4672027926650990305": {
         "-7896479044627285254": 1
        },
        "-5206254680038695081": {
         "6933965206717590703": 1
        },
        "-521809497029383009": {
         "6140396147582215457": 1
        },
        "-5402172458168361286": {
         "-3744682022286834359": 1
        },
        "-5925256375357017817": {
         "625420363714486229": 1
        },
        "-600270807562413883": {
         "8559664916612014831": 1
        },
        "-600491490188075901": {
         "-7545445052505860528": 1
        },
        "-6197812562928975144": {
         "-521809497029383009": 1
        },
        "-6732201961792966662": {
         "-3141465719501951748": 1
        },
        "-6881435542652321523": {
         "7457201218301179324": 1
        },
        "-7545445052505860528": {
         "4679115211081635045": 1
        },
        "-7762684860937664341": {
         "-2318498712959465226": 1
        },
        "-7896479044627285254": {
         "-3817565199602122438": 1
        },
        "-8034539748474648114": {
         "-8646584789489772301": 1
        },
        "-805616968572569913": {
         "-6197812562928975144": 1
        },
        "-8573168279213860347": {
         "-5925256375357017817": 1
        },
        "-8646584789489772301": {
         "5892879919772986108": 1
        },
        "-88669992118454490": {
         "-5402172458168361286": 1
        },
        "-8977348630230885471": {
         "-5206254680038695081": 1
        },
        "1060028317720854565": {
         "-7762684860937664341": 1
        },
        "1727177019973852603": {
         "-521809497029383009": 1
        },
        "2601438695660831798": {
         "-8573168279213860347": 1
        },
        "2644035846870505790": {
         "-8977348630230885471": 1
        },
        "290872309041397457": {
         "-805616968572569913": 1
        },
        "3837102117645593894": {
         "290872309041397457": 1
        },
        "4363580284905155349": {
         "-1926447255996494242": 1
        },
        "4667991964226427698": {
         "-600270807562413883": 1
        },
        "4679115211081635045": {
         "4363580284905155349": 1
        },
        "4710722068778462095": {
         "-1488446068642167772": 1
        },
        "510089647245746003": {
         "-4626585547016365865": 1
        },
        "5125598847137988848": {
         "2601438695660831798": 1
        },
        "5175792930573095707": {
         "4710722068778462095": 1
        },
        "5380259335186057991": {
         "7420231043237664239": 1
        },
        "582384380744980608": {
         "2644035846870505790": 1
        },
        "5892879919772986108": {
         "510089647245746003": 1
        },
        "6140396147582215457": {},
        "625420363714486229": {
         "-600491490188075901": 1
        },
        "6933965206717590703": {
         "-88669992118454490": 1
        },
        "6961277806433087080": {
         "-2316132916475259725": 1
        },
        "7420231043237664239": {
         "-3211400314611901149": 1
        },
        "7457201218301179324": {
         "-3344688861789731364": 1
        },
        "7494512724633528164": {
         "-2492882789354074054": 1
        },
        "8341276412589156804": {
         "6961277806433087080": 1
        },
        "8559664916612014831": {
         "5175792930573095707": 1
        },
        "9138675498050813437": {
         "5380259335186057991": 1
        },
        "986871968531529739": {
         "-6732201961792966662": 1
        }
       },
       "_model_module_version": "^1.3.3",
       "_view_module": "jupyter-cytoscape",
       "_view_module_version": "^1.3.3",
       "edges": [
        "IPY_MODEL_e0c009ca47c94869b9aa6f84d16d49a0",
        "IPY_MODEL_feccbdd850f34d768491877eb1c2811a",
        "IPY_MODEL_a602568e4fdb4871be1bf520d967fe50",
        "IPY_MODEL_39162da1e23e48e1a5c752b713342215",
        "IPY_MODEL_b7a941114f1b40ffbfbc1773b13914c1",
        "IPY_MODEL_5e53330b841b418fb98664a73ec941fd",
        "IPY_MODEL_078beee53c804c859e31f0c7ec4cb85d",
        "IPY_MODEL_85114b8670fb41488e08295d7ba14d73",
        "IPY_MODEL_129a184c1f9f41459e1b05c1e8656b05",
        "IPY_MODEL_5cc58a834f7f4d44869e690e6bc68e1e",
        "IPY_MODEL_54cd6f687eb140f5aa4ef8fd729bfaf1",
        "IPY_MODEL_ccd42f50e8864a579c301c015768592c",
        "IPY_MODEL_ab13d0a8b7484084893a6aab5b2a73b2",
        "IPY_MODEL_8f6202348faf4c4fa5b582d9d43d6ae9",
        "IPY_MODEL_e3f41f2bd4934264abd7dfdff39a85ab",
        "IPY_MODEL_38b8f416b4774a688a6ced977fe70f42",
        "IPY_MODEL_7e63f6502e2349e7be7194dcd72ae489",
        "IPY_MODEL_69e7b918835d4dad8ef9bf4ff50445ae",
        "IPY_MODEL_0f74bcae339447a8a6ea28d0d826681f",
        "IPY_MODEL_3100d5c56807419e9e785916789038db",
        "IPY_MODEL_c9e702179a0949018ce82e4d9658c381",
        "IPY_MODEL_7de2355440504bc287ec0503bb18bd19",
        "IPY_MODEL_ac910d8d5939470a8b7e69843b7866a1",
        "IPY_MODEL_c82e000708684b8598150dde539f8dc0",
        "IPY_MODEL_3525080715964a86b0a52fa14645d34f",
        "IPY_MODEL_89c5f12ec492498dbaa101c5ce8eb601",
        "IPY_MODEL_58ef450d9c784ff98c7d66ea0209fafe",
        "IPY_MODEL_53e959051ee14bdfb6ec5050f8531706",
        "IPY_MODEL_41556c6f3e7440259bc72a6f868f515f",
        "IPY_MODEL_fa6a0aee239e4c118b9737cf646aaf7c",
        "IPY_MODEL_6829aeaf7edd4ec7b83cf9cb786c7919",
        "IPY_MODEL_3e25ac41079c43738af9762149684691",
        "IPY_MODEL_bcc59b3bbda5445b8f3e4372bb2b43f5",
        "IPY_MODEL_382b1ccdff79452dbe388b3b96c5c53b",
        "IPY_MODEL_a72baa8df74b4cc28ad2777b18506bdf",
        "IPY_MODEL_5dff3e780b7a41f88e74404d29025b34",
        "IPY_MODEL_23270063ce4d4b51bb56dda8da04a5d1",
        "IPY_MODEL_2d159f5a55144972b6573e1df02a3747",
        "IPY_MODEL_62e6fbc79d414b5884146a109c6a4c84",
        "IPY_MODEL_3d092698f33346beb4be8ab14b424da2",
        "IPY_MODEL_d31e1c9965ba4773a30f3eb7ea27bbf8",
        "IPY_MODEL_45569088b26c4a5db1388c96a21f4a43",
        "IPY_MODEL_050c77b3cd95476bb670645a3a37005e",
        "IPY_MODEL_393b3605cded4457b899319fadd570f7",
        "IPY_MODEL_894c3d42962f4129ab83f803fd6b1c1f",
        "IPY_MODEL_35ab9d9cee84475581ac7a4f60e04f1b",
        "IPY_MODEL_e1beb75a8cad4dd086b3240341ac5b62",
        "IPY_MODEL_abd0e8980e354dc6a264336ca311ef3b",
        "IPY_MODEL_3a4c15d0a8d544dcbc37f865d9b056dd",
        "IPY_MODEL_3e8194b5caf5457f9039665e9e5dede4",
        "IPY_MODEL_0ae4f3e80320440d97e460fad6082de5",
        "IPY_MODEL_913471308400452d85216bfe88f14573",
        "IPY_MODEL_8370934d8997489cb6b8deeb9fa030ad",
        "IPY_MODEL_65b3b7c34b5e4d2c8cdb2d24f110b4bd",
        "IPY_MODEL_fcd1ed216bfa4ee7b0ad5cd49ed01fd2",
        "IPY_MODEL_db1769d356ff4fd28967ac46b52aac38",
        "IPY_MODEL_fa42c626ca71497b88489ef76ff3ddda"
       ],
       "nodes": [
        "IPY_MODEL_5879bf2693d64fd0b7751d9430c3fb38",
        "IPY_MODEL_152a4de9dd1b449a80f9259cc5f4e860",
        "IPY_MODEL_a9e7280c5b964eb999ab427d2b22b3b7",
        "IPY_MODEL_03ca59639e8343ca97dc1b7e9909ed74",
        "IPY_MODEL_e3f3f37ac3514fec827b4b5f49c6c1dc",
        "IPY_MODEL_19fd7d9b1e814f62b860cad4b6b9abd3",
        "IPY_MODEL_f80e8e4dc9944aafb73a043f7b5bb39c",
        "IPY_MODEL_68e02a38d72f423584eb45eeb3384012",
        "IPY_MODEL_ea6900fd16b74cd5b54c2fd686d3a483",
        "IPY_MODEL_76bcc5ffaf5f4fa2ab30cbc113d5bb65",
        "IPY_MODEL_bbdfac9355234607b51b86927bd25ae6",
        "IPY_MODEL_9a2136bc93c546aa9917df4d81e636a7",
        "IPY_MODEL_0c0a2efd2ce540d4aeb234ff9ee2e7cf",
        "IPY_MODEL_5495153e32524226869eb10189495248",
        "IPY_MODEL_a729fae8bb764cb7b38aae15d88636cc",
        "IPY_MODEL_88d41428245f45cebcd0852405a7f58c",
        "IPY_MODEL_d4e45ff7a1554e3facba86482ea2f967",
        "IPY_MODEL_55370af46f274768b9cdae66ca403fc2",
        "IPY_MODEL_9dba63fb42ff4a039fbbfbf5ee0390a4",
        "IPY_MODEL_521638f6923343a699f6aab7ccc38c49",
        "IPY_MODEL_7d84fa6b15d6435ea68a4acc5d7d9b8a",
        "IPY_MODEL_32b9581bee064c55ac05c734e4be2458",
        "IPY_MODEL_42fe781d41e34c75b6f443316cf8ee1d",
        "IPY_MODEL_27df2c700d7947d194a5dd07c4fb5d25",
        "IPY_MODEL_3b2bdb2e92ae47c496e49aaa19adbc38",
        "IPY_MODEL_bed33e6e46044645b47ca6b17682df19",
        "IPY_MODEL_82bc65f5fd92461a93ad197560d916ce",
        "IPY_MODEL_492c29f9dcbc4092b6c29607a6b2ae17",
        "IPY_MODEL_c0c61712ded14bd289b60365102ebd1f",
        "IPY_MODEL_27eb3a416589424cb4d2fb71ef5cacdf",
        "IPY_MODEL_0e54b74b982a4e0ea8124d0a37318de8",
        "IPY_MODEL_0d4b141db626467d96a3b1d0ac836c21",
        "IPY_MODEL_54234bc9e1a4408eb82812771f0bb37f",
        "IPY_MODEL_88aacf5590d0483590e0349b710c6c82",
        "IPY_MODEL_416c9d72841f4762bf16f81dfb977a91",
        "IPY_MODEL_95539a255b01423f9c60ade1b71e87e5",
        "IPY_MODEL_64a5b1f33217485ab4cfdd2b5cacd4d0",
        "IPY_MODEL_43193d0dcdcc4cbcbe4ef69e69d3d44c",
        "IPY_MODEL_2e5a2d842453439a93b748be2022b5e5",
        "IPY_MODEL_5b500b1e3fea491b9aeda6c08660c4bb",
        "IPY_MODEL_7711bf2c561a41368fd866c2e8680652",
        "IPY_MODEL_12313b121628474ea0c8b92969d6fe5e",
        "IPY_MODEL_a2e0b56bcb804f8c9b8cdc67db214c62",
        "IPY_MODEL_2f6de67d1fe1492c9fe45e91236c079f",
        "IPY_MODEL_80d15597a61846ed83440c8a688d15f1",
        "IPY_MODEL_2c98312f6ee0426592074dca5c6e4431",
        "IPY_MODEL_8b6d0dc472d049e09a2249345de9597c",
        "IPY_MODEL_742f212dd4ee4bc78d304b446ffb0a14",
        "IPY_MODEL_430617b7744f46a2a2035012b55ebf89",
        "IPY_MODEL_8d370487f5724493a2e0fbbee4e71319",
        "IPY_MODEL_137cc2f914ce4f959d71a06ed1479600",
        "IPY_MODEL_7c3ba67e643e4210a23a25ca1eecfc37",
        "IPY_MODEL_d312d9d2c76741c69b83c97ee8c2dcff",
        "IPY_MODEL_48adfaeeea25429cb8079fcee251fb7e",
        "IPY_MODEL_09d339ae679746e0bfa5433adbf216e7",
        "IPY_MODEL_08c2c2a31d8c4358b16cc4ca26371b37",
        "IPY_MODEL_b44a967418144b3f8e9a419d51334b38",
        "IPY_MODEL_8e0b755dc2884c199f476ddb80267b5b"
       ]
      }
     },
     "27b5dad65e9043d6843c847bb6debe9f": {
      "model_module": "jupyter-cytoscape",
      "model_module_version": "^1.3.3",
      "model_name": "EdgeModel",
      "state": {
       "_model_module_version": "^1.3.3",
       "_view_module_version": "^1.3.3",
       "classes": " directed ",
       "data": {
        "source": "-1491471162771521316",
        "target": "8341276412589156804"
       },
       "selectable": false
      }
     },
     "27d47664ac3d43838426547033ee61a8": {
      "model_module": "jupyter-cytoscape",
      "model_module_version": "^1.3.3",
      "model_name": "NodeModel",
      "state": {
       "_model_module_version": "^1.3.3",
       "_view_module_version": "^1.3.3",
       "data": {
        "color": "gray",
        "id": "4093897534649396938",
        "label": "(0, 0, 0)",
        "shape": "rectangle"
       },
       "grabbable": true,
       "grabbed": false,
       "selectable": false
      }
     },
     "27df2c700d7947d194a5dd07c4fb5d25": {
      "model_module": "jupyter-cytoscape",
      "model_module_version": "^1.3.3",
      "model_name": "NodeModel",
      "state": {
       "_model_module_version": "^1.3.3",
       "_view_module_version": "^1.3.3",
       "data": {
        "color": "gray",
        "id": "-8034539748474648114",
        "label": "1",
        "shape": "rectangle"
       },
       "grabbable": true,
       "grabbed": false,
       "selectable": false
      }
     },
     "27eb3a416589424cb4d2fb71ef5cacdf": {
      "model_module": "jupyter-cytoscape",
      "model_module_version": "^1.3.3",
      "model_name": "NodeModel",
      "state": {
       "_model_module_version": "^1.3.3",
       "_view_module_version": "^1.3.3",
       "data": {
        "color": "gray",
        "id": "-7762684860937664341",
        "label": "(0, 0, 0)",
        "shape": "rectangle"
       },
       "grabbable": true,
       "grabbed": false,
       "selectable": false
      }
     },
     "2829f81f829042388925588b58e96f15": {
      "model_module": "jupyter-cytoscape",
      "model_module_version": "^1.3.3",
      "model_name": "NodeModel",
      "state": {
       "_model_module_version": "^1.3.3",
       "_view_module_version": "^1.3.3",
       "data": {
        "color": "gray",
        "id": "-7896479044627285254",
        "label": "frozen_phonon",
        "shape": "ellipse"
       },
       "grabbable": true,
       "grabbed": false,
       "selectable": false
      }
     },
     "28378122d6c54481b1f8503367ea33d1": {
      "model_module": "jupyter-cytoscape",
      "model_module_version": "^1.3.3",
      "model_name": "EdgeModel",
      "state": {
       "_model_module_version": "^1.3.3",
       "_view_module_version": "^1.3.3",
       "classes": " directed ",
       "data": {
        "source": "1123258925578254493",
        "target": "3284152216582844014"
       },
       "selectable": false
      }
     },
     "286649a3a68044129a9ede6aaf5a2c77": {
      "model_module": "jupyter-cytoscape",
      "model_module_version": "^1.3.3",
      "model_name": "EdgeModel",
      "state": {
       "_model_module_version": "^1.3.3",
       "_view_module_version": "^1.3.3",
       "classes": " directed ",
       "data": {
        "source": "8226335373065077933",
        "target": "4218932839740261193"
       },
       "selectable": false
      }
     },
     "295b8c81314c4bd68b04a32006112a45": {
      "model_module": "jupyter-cytoscape",
      "model_module_version": "^1.3.3",
      "model_name": "EdgeModel",
      "state": {
       "_model_module_version": "^1.3.3",
       "_view_module_version": "^1.3.3",
       "classes": " directed ",
       "data": {
        "source": "4710722068778462095",
        "target": "-1488446068642167772"
       },
       "selectable": false
      }
     },
     "298ab63246b84694872c33fcb123374d": {
      "model_module": "jupyter-cytoscape",
      "model_module_version": "^1.3.3",
      "model_name": "EdgeModel",
      "state": {
       "_model_module_version": "^1.3.3",
       "_view_module_version": "^1.3.3",
       "classes": " directed ",
       "data": {
        "source": "4423224545294134894",
        "target": "-6680118790443633764"
       },
       "selectable": false
      }
     },
     "29c58911498d4aa6a2414df9a542fac7": {
      "model_module": "jupyter-cytoscape",
      "model_module_version": "^1.3.3",
      "model_name": "NodeModel",
      "state": {
       "_model_module_version": "^1.3.3",
       "_view_module_version": "^1.3.3",
       "data": {
        "color": "gray",
        "id": "5130464993996696205",
        "label": "intensity",
        "shape": "ellipse"
       },
       "grabbable": true,
       "grabbed": false,
       "selectable": false
      }
     },
     "2a2b9d15898744d6bb928be936f72cb7": {
      "model_module": "jupyter-cytoscape",
      "model_module_version": "^1.3.3",
      "model_name": "EdgeModel",
      "state": {
       "_model_module_version": "^1.3.3",
       "_view_module_version": "^1.3.3",
       "classes": " directed ",
       "data": {
        "source": "174526117555084074",
        "target": "5455551797699507121"
       },
       "selectable": false
      }
     },
     "2b840ab13c85414caf97fe8e882d92ec": {
      "model_module": "jupyter-cytoscape",
      "model_module_version": "^1.3.3",
      "model_name": "EdgeModel",
      "state": {
       "_model_module_version": "^1.3.3",
       "_view_module_version": "^1.3.3",
       "classes": " directed ",
       "data": {
        "source": "-6732201961792966662",
        "target": "-3141465719501951748"
       },
       "selectable": false
      }
     },
     "2c048cd84e7f487ab82b6cd96bfd3ab1": {
      "model_module": "jupyter-cytoscape",
      "model_module_version": "^1.3.3",
      "model_name": "GraphModel",
      "state": {
       "_adj": {
        "-1226367335932640965": {
         "-8776769559527088828": 1
        },
        "-1454821431635411725": {
         "4776900485209766422": 1
        },
        "-1580208454798506626": {
         "577712527715387209": 1
        },
        "-1800958231532078890": {
         "6825927405394541791": 1
        },
        "-2297275566705832746": {
         "-1226367335932640965": 1
        },
        "-2343004666951745933": {
         "577712527715387209": 1
        },
        "-2573528208698158691": {
         "6826270806708122017": 1
        },
        "-3366324276772900629": {
         "4543517768215573707": 1
        },
        "-3915436992879133533": {
         "-6553637324542115266": 1
        },
        "-4756616172800127912": {
         "6682166873657082499": 1
        },
        "-5401772616039244585": {
         "2732125137216078954": 1
        },
        "-5593255572014410437": {
         "4616942232716715966": 1
        },
        "-5769699360084664581": {
         "4423224545294134894": 1
        },
        "-6497939102615796927": {
         "-5593255572014410437": 1
        },
        "-6553637324542115266": {
         "5573658241717172992": 1
        },
        "-6646829093793065682": {
         "7143069633224236115": 1
        },
        "-6680118790443633764": {
         "7876181867568370685": 1
        },
        "-678342980587649050": {
         "8307019125499461979": 1
        },
        "-7162202832397786769": {
         "-4756616172800127912": 1
        },
        "-7190653168310566238": {
         "4002729701868916562": 1
        },
        "-8752789098251752585": {
         "-5593255572014410437": 1
        },
        "-8776769559527088828": {
         "7642245102610051772": 1
        },
        "-8980786544197403048": {
         "7077065919116520802": 1
        },
        "174526117555084074": {
         "5455551797699507121": 1
        },
        "2115047589787434672": {
         "5174968986753358098": 1
        },
        "2587405991069435440": {
         "6626835539378452860": 1
        },
        "2732125137216078954": {
         "8307019125499461979": 1
        },
        "2958316773410150143": {
         "-1800958231532078890": 1
        },
        "3162333758080464363": {
         "8446372007758624814": 1
        },
        "3537663541289573858": {
         "-3366324276772900629": 1
        },
        "4002729701868916562": {
         "-1580208454798506626": 1
        },
        "4093897534649396938": {
         "-5401772616039244585": 1
        },
        "4423224545294134894": {
         "-6680118790443633764": 1
        },
        "4543517768215573707": {
         "-7162202832397786769": 1
        },
        "4616942232716715966": {},
        "4730913378417847910": {
         "5130464993996696205": 1
        },
        "4776900485209766422": {
         "6605405690337731129": 1
        },
        "4785411436509375566": {
         "3537663541289573858": 1
        },
        "5130464993996696205": {
         "9001240909763029720": 1
        },
        "5174968986753358098": {
         "-2343004666951745933": 1
        },
        "5224246106512664743": {
         "-678342980587649050": 1
        },
        "524951156334244113": {
         "-6646829093793065682": 1
        },
        "5455551797699507121": {
         "2587405991069435440": 1
        },
        "5573658241717172992": {
         "2115047589787434672": 1
        },
        "577712527715387209": {
         "-6497939102615796927": 1
        },
        "6605405690337731129": {
         "174526117555084074": 1
        },
        "6626835539378452860": {
         "-7190653168310566238": 1
        },
        "6682166873657082499": {
         "-3915436992879133533": 1
        },
        "6825927405394541791": {
         "7061443493384821196": 1
        },
        "6826270806708122017": {
         "-2297275566705832746": 1
        },
        "7061443493384821196": {
         "4093897534649396938": 1
        },
        "7077065919116520802": {
         "4730913378417847910": 1
        },
        "7143069633224236115": {
         "-1454821431635411725": 1
        },
        "7642245102610051772": {
         "-8980786544197403048": 1
        },
        "7876181867568370685": {
         "3162333758080464363": 1
        },
        "8307019125499461979": {
         "-8752789098251752585": 1
        },
        "8446372007758624814": {
         "2958316773410150143": 1
        },
        "9001240909763029720": {
         "5224246106512664743": 1
        }
       },
       "_model_module_version": "^1.3.3",
       "_view_module": "jupyter-cytoscape",
       "_view_module_version": "^1.3.3",
       "edges": [
        "IPY_MODEL_90429fd449464d119962d8ddd11885bc",
        "IPY_MODEL_abe54c78468943119ab5d8b38a1ac6c4",
        "IPY_MODEL_5b5eab1f180b4b9a841ee18f2d753f82",
        "IPY_MODEL_9e4bc002899c45edb1c415de5de6b654",
        "IPY_MODEL_932a29da878e4166b1775e5c3622b71b",
        "IPY_MODEL_6add98847f2941768abc9ddb949e0dbe",
        "IPY_MODEL_f41b9b058bed43f28282eea63e7dce3a",
        "IPY_MODEL_3f38a5d7fa874085909aa803edd1f88d",
        "IPY_MODEL_ac2ebfe617b64ae4a697476de2999c7e",
        "IPY_MODEL_f781cefd73324832b8eccba557f3a748",
        "IPY_MODEL_dea6b69eaa6b4f54962c671e986efe2a",
        "IPY_MODEL_9ec5964083e94f5fa18713b4b3d65169",
        "IPY_MODEL_ab8d6becdc984585aede077c96eb0445",
        "IPY_MODEL_7ef507b65963419faded93cd3bfd6750",
        "IPY_MODEL_d8afb34ae92f4ac9ab881dbc048b2228",
        "IPY_MODEL_85ef90a07596489fb1f7add5790220a1",
        "IPY_MODEL_b938cc60447041c2a72fe80383c52434",
        "IPY_MODEL_04704cbedac14b2db989a790355c5acb",
        "IPY_MODEL_ddd4ab3a2669429492b4e3c8de768a96",
        "IPY_MODEL_6cf1769e361744ed8aa26bdbc11b7a54",
        "IPY_MODEL_cd58af3c19fa478c978975c3d8af35d3",
        "IPY_MODEL_c7ace93b7c51449eaacfb142f7202bbf",
        "IPY_MODEL_3b3026549d304b5c89f0b2cbe68e92ed",
        "IPY_MODEL_fadbe5c490e242668a6159641c81929d",
        "IPY_MODEL_3b38b7a43753495fa8101eed9435c83b",
        "IPY_MODEL_aded729cceed40cf8b0d3a8058e45ea6",
        "IPY_MODEL_7069db77945e44c5980f373857658ec0",
        "IPY_MODEL_0c0138a8ff264370a910e2c5f05559c6",
        "IPY_MODEL_6b42833621cd4dc8829231bf1ae1426e",
        "IPY_MODEL_2a2b9d15898744d6bb928be936f72cb7",
        "IPY_MODEL_23a1a998b02844c8af99f6ff6c5e3cb2",
        "IPY_MODEL_cfd1a2f1525c4a678820c4e392a49d47",
        "IPY_MODEL_5a3ccc20c31e48e7b35b224d0bc9d942",
        "IPY_MODEL_a177d03187d249528c27509215eaf365",
        "IPY_MODEL_f6015f83edc240f39993ae43cab2c30d",
        "IPY_MODEL_1615a2b8b93f428a8eba004ee3ccef28",
        "IPY_MODEL_c9769deb7c044459abc76eb4b3a2a822",
        "IPY_MODEL_5af64f983a3947adb13b3f8ed67a00f8",
        "IPY_MODEL_612689b997074c81aba2e47f4eaf33ae",
        "IPY_MODEL_798b4ff0943d4dd9bf8c397ca0cac7fe",
        "IPY_MODEL_5e4f7e27d5064ec0b737ab39b20035f5",
        "IPY_MODEL_a87a23467fc54816a4b36ba9460091cd",
        "IPY_MODEL_62850c708f9647da94ab4891c009d391",
        "IPY_MODEL_dc53187a44a44f78ac2af74f5dcd9fa5",
        "IPY_MODEL_00a108c15b054799a7d04a012427ed7b",
        "IPY_MODEL_179d5fb97b5b4a48804b85361e551d0c",
        "IPY_MODEL_bb85576dff844739946e00c8432fd903",
        "IPY_MODEL_097945bb03274df7b4ac1d621adf6283",
        "IPY_MODEL_b9aa19fe9a0b4456b17af3e3a587cc14",
        "IPY_MODEL_ada188cac92941ed9ad1eb92e7a2e1df",
        "IPY_MODEL_ad3b4481533342fea6ddaa44f3033e84",
        "IPY_MODEL_5a9dab5f9f234ff8ae04bed948793db5",
        "IPY_MODEL_19c52797d54345bbb4dd6914cc0f8193",
        "IPY_MODEL_2c4139d53f2642f680ca5bcf35398048",
        "IPY_MODEL_a92cf31226864a3ebf080d2d6e277649",
        "IPY_MODEL_121201f8e6ef4f7795ed408ebc399014",
        "IPY_MODEL_5515f451e47540c78dfe3b80583b447a"
       ],
       "nodes": [
        "IPY_MODEL_545a90a0adff4c8fb2ba6e0ce8b340c5",
        "IPY_MODEL_63637bc564a24f05ad92f08745d0a736",
        "IPY_MODEL_649e2a5cf0094497a9811837d8a4a621",
        "IPY_MODEL_0a00437afbcb4a799b2487948e1dc9a1",
        "IPY_MODEL_83829974288a418594edf4253a1df18a",
        "IPY_MODEL_ddaffc69549141938596e3497f213ec8",
        "IPY_MODEL_c4a2725d0b5c49b881aeecd5cebf748a",
        "IPY_MODEL_70e949548f074861bb3a87cfb68a37f8",
        "IPY_MODEL_41acb3f4b7e140ec9fa0c3f1ad562c8a",
        "IPY_MODEL_48db918d8f8c45d2be81a50ea8e676c7",
        "IPY_MODEL_a59ad96ddc664e0886345c34b418e6c7",
        "IPY_MODEL_b3f0caf74ee34cd69318b540abe6cfae",
        "IPY_MODEL_c1fc2a73a1f144a88460d64f375b1969",
        "IPY_MODEL_71e27fa349124f89aa736f63c21ef084",
        "IPY_MODEL_bf07b1477d5448699745696a8896828c",
        "IPY_MODEL_6f5abc54272e4d30a71da96c889b19a8",
        "IPY_MODEL_7ae7666a2e934b77ae10d13c6e586c7d",
        "IPY_MODEL_221fdbcd13a94197acc6635f70f3dfe5",
        "IPY_MODEL_7ef3539c38f94fbf9bd3b51cd9d501f4",
        "IPY_MODEL_f0c46906fdbb47af9207b2cfb23a34eb",
        "IPY_MODEL_3ac50de3cbe645eeaf9aaca7d212f061",
        "IPY_MODEL_d071dcde4f984b9abcf6277abe4545f9",
        "IPY_MODEL_ae4262d79d914cd5b00b0e6a8e062658",
        "IPY_MODEL_b6fd0634e86148119e219ac7f8ee4a2e",
        "IPY_MODEL_b28a87ba186a4b0daf5f7403747f341c",
        "IPY_MODEL_08487ebc3cda4755b561f2c21987d636",
        "IPY_MODEL_d9300a7ddc0942e695391412bd671263",
        "IPY_MODEL_862e778f2ba14f24be332c4dbcb4573c",
        "IPY_MODEL_5692d4c30a874a96964a4db47c695889",
        "IPY_MODEL_38037ef4577442c3894bfb8ae9f7fccb",
        "IPY_MODEL_0c12509956684228b6b63a0f6fd02510",
        "IPY_MODEL_1ef11897565040be8e57d2b8cd79b598",
        "IPY_MODEL_61c3ceaa126f4204bfe451b9e87db0ea",
        "IPY_MODEL_dde5995dec0042bcae2a0d361478e71c",
        "IPY_MODEL_68babd548afa4718a90f39ed6add737f",
        "IPY_MODEL_810edb3a799147ebb53bdbe34e4e67cf",
        "IPY_MODEL_c64219daf0594d72b57ca985f03beca5",
        "IPY_MODEL_27d47664ac3d43838426547033ee61a8",
        "IPY_MODEL_609fa3024f5744e4b1bf859ec5bcb28b",
        "IPY_MODEL_55abde43a39145a2af6e609127e4d2f9",
        "IPY_MODEL_fb5a5167ee9b4036b7298e4baa88c32c",
        "IPY_MODEL_e98ea72ee739462da6d07523fb37ccd5",
        "IPY_MODEL_cb8a739dd6254a6d973220ec40b743b6",
        "IPY_MODEL_2f1c4ab9661d48fb85a90ca15f09e6f6",
        "IPY_MODEL_e5894bb8ab5d485b9caa90eb1217cc01",
        "IPY_MODEL_d0eb57a40ca94bcf9db2446f9d11366d",
        "IPY_MODEL_0141c8027eb840f4aff8c2c328e2b438",
        "IPY_MODEL_74ae29e316bb4ca28e29bc569e2f8ac9",
        "IPY_MODEL_fa6b70611d5748be9b7ffa02c2eb0df9",
        "IPY_MODEL_4cb724ea9d3a4df586f3cf07dd29f1d0",
        "IPY_MODEL_72ec831c20af4f61a6bedf4ecc84df46",
        "IPY_MODEL_a13619207991436e8e158f7310882113",
        "IPY_MODEL_437afe81d8324b12ba2b3c6f332886e5",
        "IPY_MODEL_a1cba02fcabf48e5898238399506845e",
        "IPY_MODEL_e6c0bbbb0a774a03b89b48790d7a87cc",
        "IPY_MODEL_52cdf0b594da40629061be127888ae50",
        "IPY_MODEL_41cd24b6f019475d897f82944b16dd0a",
        "IPY_MODEL_4d5415a9760a4fbfb6597543f089f49f"
       ]
      }
     },
     "2c4139d53f2642f680ca5bcf35398048": {
      "model_module": "jupyter-cytoscape",
      "model_module_version": "^1.3.3",
      "model_name": "EdgeModel",
      "state": {
       "_model_module_version": "^1.3.3",
       "_view_module_version": "^1.3.3",
       "classes": " directed ",
       "data": {
        "source": "-1580208454798506626",
        "target": "577712527715387209"
       },
       "selectable": false
      }
     },
     "2c98312f6ee0426592074dca5c6e4431": {
      "model_module": "jupyter-cytoscape",
      "model_module_version": "^1.3.3",
      "model_name": "NodeModel",
      "state": {
       "_model_module_version": "^1.3.3",
       "_view_module_version": "^1.3.3",
       "data": {
        "color": "gray",
        "id": "-3344688861789731364",
        "label": "(0, 0, 0)",
        "shape": "rectangle"
       },
       "grabbable": true,
       "grabbed": false,
       "selectable": false
      }
     },
     "2cbf321f6ef64dfb95860f34b4aa4dcb": {
      "model_module": "jupyter-cytoscape",
      "model_module_version": "^1.3.3",
      "model_name": "NodeModel",
      "state": {
       "_model_module_version": "^1.3.3",
       "_view_module_version": "^1.3.3",
       "data": {
        "color": "gray",
        "id": "174526117555084074",
        "label": "2",
        "shape": "rectangle"
       },
       "grabbable": true,
       "grabbed": false,
       "selectable": false
      }
     },
     "2ce4e9c218084967b8ca557facd42506": {
      "model_module": "jupyter-cytoscape",
      "model_module_version": "^1.3.3",
      "model_name": "EdgeModel",
      "state": {
       "_model_module_version": "^1.3.3",
       "_view_module_version": "^1.3.3",
       "classes": " directed ",
       "data": {
        "source": "-9146598646079689744",
        "target": "-4026067495418712757"
       },
       "selectable": false
      }
     },
     "2d159f5a55144972b6573e1df02a3747": {
      "model_module": "jupyter-cytoscape",
      "model_module_version": "^1.3.3",
      "model_name": "EdgeModel",
      "state": {
       "_model_module_version": "^1.3.3",
       "_view_module_version": "^1.3.3",
       "classes": " directed ",
       "data": {
        "source": "-600491490188075901",
        "target": "-7545445052505860528"
       },
       "selectable": false
      }
     },
     "2d7e504da7a14cc68253fa134a14fbd3": {
      "model_module": "jupyter-cytoscape",
      "model_module_version": "^1.3.3",
      "model_name": "NodeModel",
      "state": {
       "_model_module_version": "^1.3.3",
       "_view_module_version": "^1.3.3",
       "data": {
        "color": "gray",
        "id": "-3366324276772900629",
        "label": "",
        "shape": "rectangle"
       },
       "grabbable": true,
       "grabbed": false,
       "selectable": false
      }
     },
     "2e5a2d842453439a93b748be2022b5e5": {
      "model_module": "jupyter-cytoscape",
      "model_module_version": "^1.3.3",
      "model_name": "NodeModel",
      "state": {
       "_model_module_version": "^1.3.3",
       "_view_module_version": "^1.3.3",
       "data": {
        "color": "gray",
        "id": "510089647245746003",
        "label": "intensity",
        "shape": "ellipse"
       },
       "grabbable": true,
       "grabbed": false,
       "selectable": false
      }
     },
     "2e62122c87714735aa8ec8c38a3f375c": {
      "model_module": "jupyter-cytoscape",
      "model_module_version": "^1.3.3",
      "model_name": "NodeModel",
      "state": {
       "_model_module_version": "^1.3.3",
       "_view_module_version": "^1.3.3",
       "data": {
        "color": "gray",
        "id": "6682166873657082499",
        "label": "3",
        "shape": "rectangle"
       },
       "grabbable": true,
       "grabbed": false,
       "selectable": false
      }
     },
     "2e6d58cfa0e246b8ba4033bbea475fae": {
      "model_module": "jupyter-cytoscape",
      "model_module_version": "^1.3.3",
      "model_name": "NodeModel",
      "state": {
       "_model_module_version": "^1.3.3",
       "_view_module_version": "^1.3.3",
       "data": {
        "color": "gray",
        "id": "-3366324276772900629",
        "label": "",
        "shape": "rectangle"
       },
       "grabbable": true,
       "grabbed": false,
       "selectable": false
      }
     },
     "2f0f4adb635a419e89668781114cb9e6": {
      "model_module": "jupyter-cytoscape",
      "model_module_version": "^1.3.3",
      "model_name": "EdgeModel",
      "state": {
       "_model_module_version": "^1.3.3",
       "_view_module_version": "^1.3.3",
       "classes": " directed ",
       "data": {
        "source": "8393120227172931531",
        "target": "7682358205353615673"
       },
       "selectable": false
      }
     },
     "2f1c4ab9661d48fb85a90ca15f09e6f6": {
      "model_module": "jupyter-cytoscape",
      "model_module_version": "^1.3.3",
      "model_name": "NodeModel",
      "state": {
       "_model_module_version": "^1.3.3",
       "_view_module_version": "^1.3.3",
       "data": {
        "color": "gray",
        "id": "2115047589787434672",
        "label": "(3, 0, 0)",
        "shape": "rectangle"
       },
       "grabbable": true,
       "grabbed": false,
       "selectable": false
      }
     },
     "2f6de67d1fe1492c9fe45e91236c079f": {
      "model_module": "jupyter-cytoscape",
      "model_module_version": "^1.3.3",
      "model_name": "NodeModel",
      "state": {
       "_model_module_version": "^1.3.3",
       "_view_module_version": "^1.3.3",
       "data": {
        "color": "gray",
        "id": "6933965206717590703",
        "label": "(3, 0, 0)",
        "shape": "rectangle"
       },
       "grabbable": true,
       "grabbed": false,
       "selectable": false
      }
     },
     "30caa3ecb9ae4b9184e8b90a434563e1": {
      "model_module": "jupyter-cytoscape",
      "model_module_version": "^1.3.3",
      "model_name": "NodeModel",
      "state": {
       "_model_module_version": "^1.3.3",
       "_view_module_version": "^1.3.3",
       "data": {
        "color": "gray",
        "id": "4592959978031127271",
        "label": "0",
        "shape": "rectangle"
       },
       "grabbable": true,
       "grabbed": false,
       "selectable": false
      }
     },
     "3100d5c56807419e9e785916789038db": {
      "model_module": "jupyter-cytoscape",
      "model_module_version": "^1.3.3",
      "model_name": "EdgeModel",
      "state": {
       "_model_module_version": "^1.3.3",
       "_view_module_version": "^1.3.3",
       "classes": " directed ",
       "data": {
        "source": "7494512724633528164",
        "target": "-2492882789354074054"
       },
       "selectable": false
      }
     },
     "31476e69b17b4181b306aaacdc1d4ca1": {
      "model_module": "jupyter-cytoscape",
      "model_module_version": "^1.3.3",
      "model_name": "NodeModel",
      "state": {
       "_model_module_version": "^1.3.3",
       "_view_module_version": "^1.3.3",
       "data": {
        "color": "gray",
        "id": "2589567504215382784",
        "label": "0",
        "shape": "rectangle"
       },
       "grabbable": true,
       "grabbed": false,
       "selectable": false
      }
     },
     "3191a8d91e1c4876a1dc611a2e347945": {
      "model_module": "jupyter-cytoscape",
      "model_module_version": "^1.3.3",
      "model_name": "NodeModel",
      "state": {
       "_model_module_version": "^1.3.3",
       "_view_module_version": "^1.3.3",
       "data": {
        "color": "gray",
        "id": "-600491490188075901",
        "label": "(2, 0, 0)",
        "shape": "rectangle"
       },
       "grabbable": true,
       "grabbed": false,
       "selectable": false
      }
     },
     "320024f91af54607bfaf2405a2e4f1be": {
      "model_module": "jupyter-cytoscape",
      "model_module_version": "^1.3.3",
      "model_name": "NodeModel",
      "state": {
       "_model_module_version": "^1.3.3",
       "_view_module_version": "^1.3.3",
       "data": {
        "color": "gray",
        "id": "8075331509581745181",
        "label": "(0, 0, 0)",
        "shape": "rectangle"
       },
       "grabbable": true,
       "grabbed": false,
       "selectable": false
      }
     },
     "32b9581bee064c55ac05c734e4be2458": {
      "model_module": "jupyter-cytoscape",
      "model_module_version": "^1.3.3",
      "model_name": "NodeModel",
      "state": {
       "_model_module_version": "^1.3.3",
       "_view_module_version": "^1.3.3",
       "data": {
        "color": "gray",
        "id": "-3141465719501951748",
        "label": "0",
        "shape": "rectangle"
       },
       "grabbable": true,
       "grabbed": false,
       "selectable": false
      }
     },
     "32f6f8b7c0334cdbacb4dffa6dc52491": {
      "model_module": "jupyter-cytoscape",
      "model_module_version": "^1.3.3",
      "model_name": "EdgeModel",
      "state": {
       "_model_module_version": "^1.3.3",
       "_view_module_version": "^1.3.3",
       "classes": " directed ",
       "data": {
        "source": "4072142626341106735",
        "target": "3802193195161830190"
       },
       "selectable": false
      }
     },
     "3306ca30fad44762ad4efb60b297a7bc": {
      "model_module": "jupyter-cytoscape",
      "model_module_version": "^1.3.3",
      "model_name": "EdgeModel",
      "state": {
       "_model_module_version": "^1.3.3",
       "_view_module_version": "^1.3.3",
       "classes": " directed ",
       "data": {
        "source": "-4756616172800127912",
        "target": "6682166873657082499"
       },
       "selectable": false
      }
     },
     "33d8f9954b6743b1a387ace2a3544a83": {
      "model_module": "jupyter-cytoscape",
      "model_module_version": "^1.3.3",
      "model_name": "NodeModel",
      "state": {
       "_model_module_version": "^1.3.3",
       "_view_module_version": "^1.3.3",
       "data": {
        "color": "gray",
        "id": "-9146598646079689744",
        "label": "frozen_phonon",
        "shape": "ellipse"
       },
       "grabbable": true,
       "grabbed": false,
       "selectable": false
      }
     },
     "342c0ecff74d4fd0b4bd29657d512187": {
      "model_module": "jupyter-cytoscape",
      "model_module_version": "^1.3.3",
      "model_name": "NodeModel",
      "state": {
       "_model_module_version": "^1.3.3",
       "_view_module_version": "^1.3.3",
       "data": {
        "color": "gray",
        "id": "8341276412589156804",
        "label": "frozen_phonon",
        "shape": "ellipse"
       },
       "grabbable": true,
       "grabbed": false,
       "selectable": false
      }
     },
     "349a720fe21a47f189ad34440c27f479": {
      "model_module": "jupyter-cytoscape",
      "model_module_version": "^1.3.3",
      "model_name": "NodeModel",
      "state": {
       "_model_module_version": "^1.3.3",
       "_view_module_version": "^1.3.3",
       "data": {
        "color": "gray",
        "id": "7077065919116520802",
        "label": "extract_measurement",
        "shape": "ellipse"
       },
       "grabbable": true,
       "grabbed": false,
       "selectable": false
      }
     },
     "350b7df569944ff5b6f2df3287e550b1": {
      "model_module": "jupyter-cytoscape",
      "model_module_version": "^1.3.3",
      "model_name": "NodeModel",
      "state": {
       "_model_module_version": "^1.3.3",
       "_view_module_version": "^1.3.3",
       "data": {
        "color": "gray",
        "id": "-8980786544197403048",
        "label": "1",
        "shape": "rectangle"
       },
       "grabbable": true,
       "grabbed": false,
       "selectable": false
      }
     },
     "3525080715964a86b0a52fa14645d34f": {
      "model_module": "jupyter-cytoscape",
      "model_module_version": "^1.3.3",
      "model_name": "EdgeModel",
      "state": {
       "_model_module_version": "^1.3.3",
       "_view_module_version": "^1.3.3",
       "classes": " directed ",
       "data": {
        "source": "1060028317720854565",
        "target": "-7762684860937664341"
       },
       "selectable": false
      }
     },
     "357e2cc07391417a969b2f9f1bf284b0": {
      "model_module": "jupyter-cytoscape",
      "model_module_version": "^1.3.3",
      "model_name": "EdgeModel",
      "state": {
       "_model_module_version": "^1.3.3",
       "_view_module_version": "^1.3.3",
       "classes": " directed ",
       "data": {
        "source": "7642245102610051772",
        "target": "-8980786544197403048"
       },
       "selectable": false
      }
     },
     "35ab9d9cee84475581ac7a4f60e04f1b": {
      "model_module": "jupyter-cytoscape",
      "model_module_version": "^1.3.3",
      "model_name": "EdgeModel",
      "state": {
       "_model_module_version": "^1.3.3",
       "_view_module_version": "^1.3.3",
       "classes": " directed ",
       "data": {
        "source": "4679115211081635045",
        "target": "4363580284905155349"
       },
       "selectable": false
      }
     },
     "35e2c1e11ded499584be49b96af5d8dd": {
      "model_module": "jupyter-cytoscape",
      "model_module_version": "^1.3.3",
      "model_name": "EdgeModel",
      "state": {
       "_model_module_version": "^1.3.3",
       "_view_module_version": "^1.3.3",
       "classes": " directed ",
       "data": {
        "source": "-8776769559527088828",
        "target": "7642245102610051772"
       },
       "selectable": false
      }
     },
     "366e711da9d54111951a2fabf81178ee": {
      "model_module": "jupyter-cytoscape",
      "model_module_version": "^1.3.3",
      "model_name": "EdgeModel",
      "state": {
       "_model_module_version": "^1.3.3",
       "_view_module_version": "^1.3.3",
       "classes": " directed ",
       "data": {
        "source": "-5378901075238311926",
        "target": "853475432809461818"
       },
       "selectable": false
      }
     },
     "367a9b324e1e45e7b21d7b9e75f68e33": {
      "model_module": "jupyter-cytoscape",
      "model_module_version": "^1.3.3",
      "model_name": "EdgeModel",
      "state": {
       "_model_module_version": "^1.3.3",
       "_view_module_version": "^1.3.3",
       "classes": " directed ",
       "data": {
        "source": "7494512724633528164",
        "target": "-2492882789354074054"
       },
       "selectable": false
      }
     },
     "36817a487d4847da95453600a95d638a": {
      "model_module": "jupyter-cytoscape",
      "model_module_version": "^1.3.3",
      "model_name": "NodeModel",
      "state": {
       "_model_module_version": "^1.3.3",
       "_view_module_version": "^1.3.3",
       "data": {
        "color": "gray",
        "id": "4785411436509375566",
        "label": "",
        "shape": "rectangle"
       },
       "grabbable": true,
       "grabbed": false,
       "selectable": false
      }
     },
     "37ec748d755e460786d085e3ff42bfe2": {
      "model_module": "jupyter-cytoscape",
      "model_module_version": "^1.3.3",
      "model_name": "NodeModel",
      "state": {
       "_model_module_version": "^1.3.3",
       "_view_module_version": "^1.3.3",
       "data": {
        "color": "gray",
        "id": "5174968986753358098",
        "label": "mean_chunk",
        "shape": "ellipse"
       },
       "grabbable": true,
       "grabbed": false,
       "selectable": false
      }
     },
     "38037ef4577442c3894bfb8ae9f7fccb": {
      "model_module": "jupyter-cytoscape",
      "model_module_version": "^1.3.3",
      "model_name": "NodeModel",
      "state": {
       "_model_module_version": "^1.3.3",
       "_view_module_version": "^1.3.3",
       "data": {
        "color": "gray",
        "id": "6825927405394541791",
        "label": "(0, 0, 0)",
        "shape": "rectangle"
       },
       "grabbable": true,
       "grabbed": false,
       "selectable": false
      }
     },
     "382b1ccdff79452dbe388b3b96c5c53b": {
      "model_module": "jupyter-cytoscape",
      "model_module_version": "^1.3.3",
      "model_name": "EdgeModel",
      "state": {
       "_model_module_version": "^1.3.3",
       "_view_module_version": "^1.3.3",
       "classes": " directed ",
       "data": {
        "source": "-7762684860937664341",
        "target": "-2318498712959465226"
       },
       "selectable": false
      }
     },
     "38afb560b8ec4229a48daed7a2748e41": {
      "model_module": "jupyter-cytoscape",
      "model_module_version": "^1.3.3",
      "model_name": "GraphModel",
      "state": {
       "_adj": {},
       "_model_module_version": "^1.3.3",
       "_view_module": "jupyter-cytoscape",
       "_view_module_version": "^1.3.3"
      }
     },
     "38b8f416b4774a688a6ced977fe70f42": {
      "model_module": "jupyter-cytoscape",
      "model_module_version": "^1.3.3",
      "model_name": "EdgeModel",
      "state": {
       "_model_module_version": "^1.3.3",
       "_view_module_version": "^1.3.3",
       "classes": " directed ",
       "data": {
        "source": "8559664916612014831",
        "target": "5175792930573095707"
       },
       "selectable": false
      }
     },
     "39162da1e23e48e1a5c752b713342215": {
      "model_module": "jupyter-cytoscape",
      "model_module_version": "^1.3.3",
      "model_name": "EdgeModel",
      "state": {
       "_model_module_version": "^1.3.3",
       "_view_module_version": "^1.3.3",
       "classes": " directed ",
       "data": {
        "source": "5175792930573095707",
        "target": "4710722068778462095"
       },
       "selectable": false
      }
     },
     "39188afc7ea444ada9cfc530e766668c": {
      "model_module": "jupyter-cytoscape",
      "model_module_version": "^1.3.3",
      "model_name": "EdgeModel",
      "state": {
       "_model_module_version": "^1.3.3",
       "_view_module_version": "^1.3.3",
       "classes": " directed ",
       "data": {
        "source": "-8573168279213860347",
        "target": "-5925256375357017817"
       },
       "selectable": false
      }
     },
     "39287309969c407b8085f47d3ffd9030": {
      "model_module": "jupyter-cytoscape",
      "model_module_version": "^1.3.3",
      "model_name": "NodeModel",
      "state": {
       "_model_module_version": "^1.3.3",
       "_view_module_version": "^1.3.3",
       "data": {
        "color": "gray",
        "id": "7494512724633528164",
        "label": "1",
        "shape": "rectangle"
       },
       "grabbable": true,
       "grabbed": false,
       "selectable": false
      }
     },
     "393b3605cded4457b899319fadd570f7": {
      "model_module": "jupyter-cytoscape",
      "model_module_version": "^1.3.3",
      "model_name": "EdgeModel",
      "state": {
       "_model_module_version": "^1.3.3",
       "_view_module_version": "^1.3.3",
       "classes": " directed ",
       "data": {
        "source": "-4626585547016365865",
        "target": "3837102117645593894"
       },
       "selectable": false
      }
     },
     "3a241614356645518d08afbe78fc6996": {
      "model_module": "jupyter-cytoscape",
      "model_module_version": "^1.3.3",
      "model_name": "EdgeModel",
      "state": {
       "_model_module_version": "^1.3.3",
       "_view_module_version": "^1.3.3",
       "classes": " directed ",
       "data": {
        "source": "174526117555084074",
        "target": "5455551797699507121"
       },
       "selectable": false
      }
     },
     "3a434ba789a74cf5b0840f88cbf232a3": {
      "model_module": "jupyter-cytoscape",
      "model_module_version": "^1.3.3",
      "model_name": "EdgeModel",
      "state": {
       "_model_module_version": "^1.3.3",
       "_view_module_version": "^1.3.3",
       "classes": " directed ",
       "data": {
        "source": "-8752789098251752585",
        "target": "-5593255572014410437"
       },
       "selectable": false
      }
     },
     "3a4c15d0a8d544dcbc37f865d9b056dd": {
      "model_module": "jupyter-cytoscape",
      "model_module_version": "^1.3.3",
      "model_name": "EdgeModel",
      "state": {
       "_model_module_version": "^1.3.3",
       "_view_module_version": "^1.3.3",
       "classes": " directed ",
       "data": {
        "source": "-805616968572569913",
        "target": "-6197812562928975144"
       },
       "selectable": false
      }
     },
     "3a8328d10429493fa1e9f4c5e15f3290": {
      "model_module": "jupyter-cytoscape",
      "model_module_version": "^1.3.3",
      "model_name": "NodeModel",
      "state": {
       "_model_module_version": "^1.3.3",
       "_view_module_version": "^1.3.3",
       "data": {
        "color": "gray",
        "id": "-1619741176236411359",
        "label": "",
        "shape": "rectangle"
       },
       "grabbable": true,
       "grabbed": false,
       "selectable": false
      }
     },
     "3a8889d984ef466ebc2462f3c0d8c445": {
      "model_module": "jupyter-cytoscape",
      "model_module_version": "^1.3.3",
      "model_name": "NodeModel",
      "state": {
       "_model_module_version": "^1.3.3",
       "_view_module_version": "^1.3.3",
       "data": {
        "color": "gray",
        "id": "-5769699360084664581",
        "label": "",
        "shape": "rectangle"
       },
       "grabbable": true,
       "grabbed": false,
       "selectable": false
      }
     },
     "3ac50de3cbe645eeaf9aaca7d212f061": {
      "model_module": "jupyter-cytoscape",
      "model_module_version": "^1.3.3",
      "model_name": "NodeModel",
      "state": {
       "_model_module_version": "^1.3.3",
       "_view_module_version": "^1.3.3",
       "data": {
        "color": "gray",
        "id": "8446372007758624814",
        "label": "build_waves_multislice_detect",
        "shape": "ellipse"
       },
       "grabbable": true,
       "grabbed": false,
       "selectable": false
      }
     },
     "3ada2e42cfd24fbf98c7b8f49f7040bd": {
      "model_module": "jupyter-cytoscape",
      "model_module_version": "^1.3.3",
      "model_name": "NodeModel",
      "state": {
       "_model_module_version": "^1.3.3",
       "_view_module_version": "^1.3.3",
       "data": {
        "color": "gray",
        "id": "2732125137216078954",
        "label": "(0, 0, 0)",
        "shape": "rectangle"
       },
       "grabbable": true,
       "grabbed": false,
       "selectable": false
      }
     },
     "3b2bdb2e92ae47c496e49aaa19adbc38": {
      "model_module": "jupyter-cytoscape",
      "model_module_version": "^1.3.3",
      "model_name": "NodeModel",
      "state": {
       "_model_module_version": "^1.3.3",
       "_view_module_version": "^1.3.3",
       "data": {
        "color": "gray",
        "id": "-8573168279213860347",
        "label": "build_waves_multislice_detect",
        "shape": "ellipse"
       },
       "grabbable": true,
       "grabbed": false,
       "selectable": false
      }
     },
     "3b2dd45831224cddbffaba131ae3f25b": {
      "model_module": "jupyter-cytoscape",
      "model_module_version": "^1.3.3",
      "model_name": "NodeModel",
      "state": {
       "_model_module_version": "^1.3.3",
       "_view_module_version": "^1.3.3",
       "data": {
        "color": "gray",
        "id": "2587405991069435440",
        "label": "(2, 0, 0)",
        "shape": "rectangle"
       },
       "grabbable": true,
       "grabbed": false,
       "selectable": false
      }
     },
     "3b3026549d304b5c89f0b2cbe68e92ed": {
      "model_module": "jupyter-cytoscape",
      "model_module_version": "^1.3.3",
      "model_name": "EdgeModel",
      "state": {
       "_model_module_version": "^1.3.3",
       "_view_module_version": "^1.3.3",
       "classes": " directed ",
       "data": {
        "source": "-4756616172800127912",
        "target": "6682166873657082499"
       },
       "selectable": false
      }
     },
     "3b38b7a43753495fa8101eed9435c83b": {
      "model_module": "jupyter-cytoscape",
      "model_module_version": "^1.3.3",
      "model_name": "EdgeModel",
      "state": {
       "_model_module_version": "^1.3.3",
       "_view_module_version": "^1.3.3",
       "classes": " directed ",
       "data": {
        "source": "-1800958231532078890",
        "target": "6825927405394541791"
       },
       "selectable": false
      }
     },
     "3b39cc9275af4e8086bd15582cba526c": {
      "model_module": "jupyter-cytoscape",
      "model_module_version": "^1.3.3",
      "model_name": "NodeModel",
      "state": {
       "_model_module_version": "^1.3.3",
       "_view_module_version": "^1.3.3",
       "data": {
        "color": "gray",
        "id": "1809169322176061202",
        "label": "2",
        "shape": "rectangle"
       },
       "grabbable": true,
       "grabbed": false,
       "selectable": false
      }
     },
     "3b6106b685f140b897eb6b7d75d9a501": {
      "model_module": "jupyter-cytoscape",
      "model_module_version": "^1.3.3",
      "model_name": "GraphModel",
      "state": {
       "_adj": {},
       "_model_module_version": "^1.3.3",
       "_view_module": "jupyter-cytoscape",
       "_view_module_version": "^1.3.3"
      }
     },
     "3bcfe453cc18467bb90e0a9ef5f14dd8": {
      "model_module": "jupyter-cytoscape",
      "model_module_version": "^1.3.3",
      "model_name": "NodeModel",
      "state": {
       "_model_module_version": "^1.3.3",
       "_view_module_version": "^1.3.3",
       "data": {
        "color": "gray",
        "id": "-1454821431635411725",
        "label": "0",
        "shape": "rectangle"
       },
       "grabbable": true,
       "grabbed": false,
       "selectable": false
      }
     },
     "3c8c587017044305bb6b826fa19667ae": {
      "model_module": "jupyter-cytoscape",
      "model_module_version": "^1.3.3",
      "model_name": "EdgeModel",
      "state": {
       "_model_module_version": "^1.3.3",
       "_view_module_version": "^1.3.3",
       "classes": " directed ",
       "data": {
        "source": "7642245102610051772",
        "target": "-8980786544197403048"
       },
       "selectable": false
      }
     },
     "3cdbabd7b8d0494e82f5506427a44bc2": {
      "model_module": "jupyter-cytoscape",
      "model_module_version": "^1.3.3",
      "model_name": "EdgeModel",
      "state": {
       "_model_module_version": "^1.3.3",
       "_view_module_version": "^1.3.3",
       "classes": " directed ",
       "data": {
        "source": "-1619741176236411359",
        "target": "4596392545168703649"
       },
       "selectable": false
      }
     },
     "3cf4036cb2c1404bb4088182508c41f5": {
      "model_module": "jupyter-cytoscape",
      "model_module_version": "^1.3.3",
      "model_name": "EdgeModel",
      "state": {
       "_model_module_version": "^1.3.3",
       "_view_module_version": "^1.3.3",
       "classes": " directed ",
       "data": {
        "source": "-600270807562413883",
        "target": "8559664916612014831"
       },
       "selectable": false
      }
     },
     "3d092698f33346beb4be8ab14b424da2": {
      "model_module": "jupyter-cytoscape",
      "model_module_version": "^1.3.3",
      "model_name": "EdgeModel",
      "state": {
       "_model_module_version": "^1.3.3",
       "_view_module_version": "^1.3.3",
       "classes": " directed ",
       "data": {
        "source": "-8977348630230885471",
        "target": "-5206254680038695081"
       },
       "selectable": false
      }
     },
     "3d0aec48fe3242d4a2b8519099a369af": {
      "model_module": "jupyter-cytoscape",
      "model_module_version": "^1.3.3",
      "model_name": "EdgeModel",
      "state": {
       "_model_module_version": "^1.3.3",
       "_view_module_version": "^1.3.3",
       "classes": " directed ",
       "data": {
        "source": "-1226367335932640965",
        "target": "-8776769559527088828"
       },
       "selectable": false
      }
     },
     "3e25ac41079c43738af9762149684691": {
      "model_module": "jupyter-cytoscape",
      "model_module_version": "^1.3.3",
      "model_name": "EdgeModel",
      "state": {
       "_model_module_version": "^1.3.3",
       "_view_module_version": "^1.3.3",
       "classes": " directed ",
       "data": {
        "source": "582384380744980608",
        "target": "2644035846870505790"
       },
       "selectable": false
      }
     },
     "3e51718a57b74a47b7a7b692b206f0bf": {
      "model_module": "jupyter-cytoscape",
      "model_module_version": "^1.3.3",
      "model_name": "EdgeModel",
      "state": {
       "_model_module_version": "^1.3.3",
       "_view_module_version": "^1.3.3",
       "classes": " directed ",
       "data": {
        "source": "5130464993996696205",
        "target": "9001240909763029720"
       },
       "selectable": false
      }
     },
     "3e8194b5caf5457f9039665e9e5dede4": {
      "model_module": "jupyter-cytoscape",
      "model_module_version": "^1.3.3",
      "model_name": "EdgeModel",
      "state": {
       "_model_module_version": "^1.3.3",
       "_view_module_version": "^1.3.3",
       "classes": " directed ",
       "data": {
        "source": "290872309041397457",
        "target": "-805616968572569913"
       },
       "selectable": false
      }
     },
     "3ee82b9a090b4186a76ec5268fd76503": {
      "model_module": "jupyter-cytoscape",
      "model_module_version": "^1.3.3",
      "model_name": "EdgeModel",
      "state": {
       "_model_module_version": "^1.3.3",
       "_view_module_version": "^1.3.3",
       "classes": " directed ",
       "data": {
        "source": "5455551797699507121",
        "target": "2587405991069435440"
       },
       "selectable": false
      }
     },
     "3f38a5d7fa874085909aa803edd1f88d": {
      "model_module": "jupyter-cytoscape",
      "model_module_version": "^1.3.3",
      "model_name": "EdgeModel",
      "state": {
       "_model_module_version": "^1.3.3",
       "_view_module_version": "^1.3.3",
       "classes": " directed ",
       "data": {
        "source": "6826270806708122017",
        "target": "-2297275566705832746"
       },
       "selectable": false
      }
     },
     "3f4b5337a47e43d0b11eb96a3c7d0de1": {
      "model_module": "jupyter-cytoscape",
      "model_module_version": "^1.3.3",
      "model_name": "NodeModel",
      "state": {
       "_model_module_version": "^1.3.3",
       "_view_module_version": "^1.3.3",
       "data": {
        "color": "gray",
        "id": "-8977348630230885471",
        "label": "(3, 0, 0)",
        "shape": "rectangle"
       },
       "grabbable": true,
       "grabbed": false,
       "selectable": false
      }
     },
     "3f71e65612e943cd9650a3905f286698": {
      "model_module": "jupyter-cytoscape",
      "model_module_version": "^1.3.3",
      "model_name": "EdgeModel",
      "state": {
       "_model_module_version": "^1.3.3",
       "_view_module_version": "^1.3.3",
       "classes": " directed ",
       "data": {
        "source": "-5593255572014410437",
        "target": "4616942232716715966"
       },
       "selectable": false
      }
     },
     "3fcb551c7e3a45a782366b6dfc9eb583": {
      "model_module": "jupyter-cytoscape",
      "model_module_version": "^1.3.3",
      "model_name": "EdgeModel",
      "state": {
       "_model_module_version": "^1.3.3",
       "_view_module_version": "^1.3.3",
       "classes": " directed ",
       "data": {
        "source": "6626835539378452860",
        "target": "-7190653168310566238"
       },
       "selectable": false
      }
     },
     "3fe25cae02bb453fb29771c9fda3117a": {
      "model_module": "jupyter-cytoscape",
      "model_module_version": "^1.3.3",
      "model_name": "EdgeModel",
      "state": {
       "_model_module_version": "^1.3.3",
       "_view_module_version": "^1.3.3",
       "classes": " directed ",
       "data": {
        "source": "-2573528208698158691",
        "target": "6826270806708122017"
       },
       "selectable": false
      }
     },
     "406dc1ab5ddf46b29c339e7f4aa69858": {
      "model_module": "jupyter-cytoscape",
      "model_module_version": "^1.3.3",
      "model_name": "EdgeModel",
      "state": {
       "_model_module_version": "^1.3.3",
       "_view_module_version": "^1.3.3",
       "classes": " directed ",
       "data": {
        "source": "5174968986753358098",
        "target": "-2343004666951745933"
       },
       "selectable": false
      }
     },
     "407a404da24448028fcdd41de8d50c09": {
      "model_module": "jupyter-cytoscape",
      "model_module_version": "^1.3.3",
      "model_name": "NodeModel",
      "state": {
       "_model_module_version": "^1.3.3",
       "_view_module_version": "^1.3.3",
       "data": {
        "color": "gray",
        "id": "7642245102610051772",
        "label": "build_waves_multislice_detect",
        "shape": "ellipse"
       },
       "grabbable": true,
       "grabbed": false,
       "selectable": false
      }
     },
     "41556c6f3e7440259bc72a6f868f515f": {
      "model_module": "jupyter-cytoscape",
      "model_module_version": "^1.3.3",
      "model_name": "EdgeModel",
      "state": {
       "_model_module_version": "^1.3.3",
       "_view_module_version": "^1.3.3",
       "classes": " directed ",
       "data": {
        "source": "625420363714486229",
        "target": "-600491490188075901"
       },
       "selectable": false
      }
     },
     "41564c0f8f0c4368a1124c503db4b8ed": {
      "model_module": "jupyter-cytoscape",
      "model_module_version": "^1.3.3",
      "model_name": "NodeModel",
      "state": {
       "_model_module_version": "^1.3.3",
       "_view_module_version": "^1.3.3",
       "data": {
        "color": "gray",
        "id": "986871968531529739",
        "label": "0",
        "shape": "rectangle"
       },
       "grabbable": true,
       "grabbed": false,
       "selectable": false
      }
     },
     "416c9d72841f4762bf16f81dfb977a91": {
      "model_module": "jupyter-cytoscape",
      "model_module_version": "^1.3.3",
      "model_name": "NodeModel",
      "state": {
       "_model_module_version": "^1.3.3",
       "_view_module_version": "^1.3.3",
       "data": {
        "color": "gray",
        "id": "2644035846870505790",
        "label": "extract_measurement",
        "shape": "ellipse"
       },
       "grabbable": true,
       "grabbed": false,
       "selectable": false
      }
     },
     "4179b98daca543eca1d0733e8a869fec": {
      "model_module": "jupyter-cytoscape",
      "model_module_version": "^1.3.3",
      "model_name": "EdgeModel",
      "state": {
       "_model_module_version": "^1.3.3",
       "_view_module_version": "^1.3.3",
       "classes": " directed ",
       "data": {
        "source": "5380259335186057991",
        "target": "7420231043237664239"
       },
       "selectable": false
      }
     },
     "41a64c07b3474afa9d0185c18d58b48b": {
      "model_module": "jupyter-cytoscape",
      "model_module_version": "^1.3.3",
      "model_name": "NodeModel",
      "state": {
       "_model_module_version": "^1.3.3",
       "_view_module_version": "^1.3.3",
       "data": {
        "color": "gray",
        "id": "3162333758080464363",
        "label": "0",
        "shape": "rectangle"
       },
       "grabbable": true,
       "grabbed": false,
       "selectable": false
      }
     },
     "41acb3f4b7e140ec9fa0c3f1ad562c8a": {
      "model_module": "jupyter-cytoscape",
      "model_module_version": "^1.3.3",
      "model_name": "NodeModel",
      "state": {
       "_model_module_version": "^1.3.3",
       "_view_module_version": "^1.3.3",
       "data": {
        "color": "gray",
        "id": "-2573528208698158691",
        "label": "",
        "shape": "rectangle"
       },
       "grabbable": true,
       "grabbed": false,
       "selectable": false
      }
     },
     "41cd24b6f019475d897f82944b16dd0a": {
      "model_module": "jupyter-cytoscape",
      "model_module_version": "^1.3.3",
      "model_name": "NodeModel",
      "state": {
       "_model_module_version": "^1.3.3",
       "_view_module_version": "^1.3.3",
       "data": {
        "color": "gray",
        "id": "-5593255572014410437",
        "label": "mean_agg-aggregate",
        "shape": "ellipse"
       },
       "grabbable": true,
       "grabbed": false,
       "selectable": false
      }
     },
     "41f1adec3628450da75bac19d4fff69e": {
      "model_module": "jupyter-cytoscape",
      "model_module_version": "^1.3.3",
      "model_name": "EdgeModel",
      "state": {
       "_model_module_version": "^1.3.3",
       "_view_module_version": "^1.3.3",
       "classes": " directed ",
       "data": {
        "source": "-8980786544197403048",
        "target": "7077065919116520802"
       },
       "selectable": false
      }
     },
     "423e19fd94d34d9aa34f02d38c686bdf": {
      "model_module": "jupyter-cytoscape",
      "model_module_version": "^1.3.3",
      "model_name": "NodeModel",
      "state": {
       "_model_module_version": "^1.3.3",
       "_view_module_version": "^1.3.3",
       "data": {
        "color": "gray",
        "id": "-8776769559527088828",
        "label": "1",
        "shape": "rectangle"
       },
       "grabbable": true,
       "grabbed": false,
       "selectable": false
      }
     },
     "42780b66e9674919b287aac554761899": {
      "model_module": "jupyter-cytoscape",
      "model_module_version": "^1.3.3",
      "model_name": "EdgeModel",
      "state": {
       "_model_module_version": "^1.3.3",
       "_view_module_version": "^1.3.3",
       "classes": " directed ",
       "data": {
        "source": "5455551797699507121",
        "target": "2587405991069435440"
       },
       "selectable": false
      }
     },
     "4297930d029e4bddb9972d129dd59a8b": {
      "model_module": "jupyter-cytoscape",
      "model_module_version": "^1.3.3",
      "model_name": "EdgeModel",
      "state": {
       "_model_module_version": "^1.3.3",
       "_view_module_version": "^1.3.3",
       "classes": " directed ",
       "data": {
        "source": "7876181867568370685",
        "target": "3162333758080464363"
       },
       "selectable": false
      }
     },
     "42e436504dea444d89c4e7619346dd46": {
      "model_module": "jupyter-cytoscape",
      "model_module_version": "^1.3.3",
      "model_name": "EdgeModel",
      "state": {
       "_model_module_version": "^1.3.3",
       "_view_module_version": "^1.3.3",
       "classes": " directed ",
       "data": {
        "source": "-1619741176236411359",
        "target": "4596392545168703649"
       },
       "selectable": false
      }
     },
     "42fe781d41e34c75b6f443316cf8ee1d": {
      "model_module": "jupyter-cytoscape",
      "model_module_version": "^1.3.3",
      "model_name": "NodeModel",
      "state": {
       "_model_module_version": "^1.3.3",
       "_view_module_version": "^1.3.3",
       "data": {
        "color": "gray",
        "id": "-2492882789354074054",
        "label": "build_waves_multislice_detect",
        "shape": "ellipse"
       },
       "grabbable": true,
       "grabbed": false,
       "selectable": false
      }
     },
     "430617b7744f46a2a2035012b55ebf89": {
      "model_module": "jupyter-cytoscape",
      "model_module_version": "^1.3.3",
      "model_name": "NodeModel",
      "state": {
       "_model_module_version": "^1.3.3",
       "_view_module_version": "^1.3.3",
       "data": {
        "color": "gray",
        "id": "4363580284905155349",
        "label": "mean_chunk",
        "shape": "ellipse"
       },
       "grabbable": true,
       "grabbed": false,
       "selectable": false
      }
     },
     "43193d0dcdcc4cbcbe4ef69e69d3d44c": {
      "model_module": "jupyter-cytoscape",
      "model_module_version": "^1.3.3",
      "model_name": "NodeModel",
      "state": {
       "_model_module_version": "^1.3.3",
       "_view_module_version": "^1.3.3",
       "data": {
        "color": "gray",
        "id": "-6881435542652321523",
        "label": "(0, 0, 0)",
        "shape": "rectangle"
       },
       "grabbable": true,
       "grabbed": false,
       "selectable": false
      }
     },
     "43266138c86b41cf83f9b8caf3ae091e": {
      "model_module": "jupyter-cytoscape",
      "model_module_version": "^1.3.3",
      "model_name": "EdgeModel",
      "state": {
       "_model_module_version": "^1.3.3",
       "_view_module_version": "^1.3.3",
       "classes": " directed ",
       "data": {
        "source": "8446372007758624814",
        "target": "2958316773410150143"
       },
       "selectable": false
      }
     },
     "434aece7e19348a1b982eecf0478718f": {
      "model_module": "jupyter-cytoscape",
      "model_module_version": "^1.3.3",
      "model_name": "NodeModel",
      "state": {
       "_model_module_version": "^1.3.3",
       "_view_module_version": "^1.3.3",
       "data": {
        "color": "gray",
        "id": "4543517768215573707",
        "label": "0",
        "shape": "rectangle"
       },
       "grabbable": true,
       "grabbed": false,
       "selectable": false
      }
     },
     "435e443211c34be6aae9d437348ca3db": {
      "model_module": "jupyter-cytoscape",
      "model_module_version": "^1.3.3",
      "model_name": "EdgeModel",
      "state": {
       "_model_module_version": "^1.3.3",
       "_view_module_version": "^1.3.3",
       "classes": " directed ",
       "data": {
        "source": "8593372488160731357",
        "target": "1468184454969538208"
       },
       "selectable": false
      }
     },
     "437afe81d8324b12ba2b3c6f332886e5": {
      "model_module": "jupyter-cytoscape",
      "model_module_version": "^1.3.3",
      "model_name": "NodeModel",
      "state": {
       "_model_module_version": "^1.3.3",
       "_view_module_version": "^1.3.3",
       "data": {
        "color": "gray",
        "id": "8307019125499461979",
        "label": "mean_combine-partial",
        "shape": "ellipse"
       },
       "grabbable": true,
       "grabbed": false,
       "selectable": false
      }
     },
     "43901dbeda3c4fa584a395f53eb3b74e": {
      "model_module": "jupyter-cytoscape",
      "model_module_version": "^1.3.3",
      "model_name": "NodeModel",
      "state": {
       "_model_module_version": "^1.3.3",
       "_view_module_version": "^1.3.3",
       "data": {
        "color": "gray",
        "id": "-8034539748474648114",
        "label": "1",
        "shape": "rectangle"
       },
       "grabbable": true,
       "grabbed": false,
       "selectable": false
      }
     },
     "43bb60636d6c4031bb7abc5505c97421": {
      "model_module": "jupyter-cytoscape",
      "model_module_version": "^1.3.3",
      "model_name": "EdgeModel",
      "state": {
       "_model_module_version": "^1.3.3",
       "_view_module_version": "^1.3.3",
       "classes": " directed ",
       "data": {
        "source": "3802193195161830190",
        "target": "1468184454969538208"
       },
       "selectable": false
      }
     },
     "43e2365e666b43d8a4d2b05bece6b16d": {
      "model_module": "jupyter-cytoscape",
      "model_module_version": "^1.3.3",
      "model_name": "EdgeModel",
      "state": {
       "_model_module_version": "^1.3.3",
       "_view_module_version": "^1.3.3",
       "classes": " directed ",
       "data": {
        "source": "524951156334244113",
        "target": "-6646829093793065682"
       },
       "selectable": false
      }
     },
     "43f5fe00abf24e87a243f0bfad27b8f8": {
      "model_module": "jupyter-cytoscape",
      "model_module_version": "^1.3.3",
      "model_name": "NodeModel",
      "state": {
       "_model_module_version": "^1.3.3",
       "_view_module_version": "^1.3.3",
       "data": {
        "color": "gray",
        "id": "9001240909763029720",
        "label": "(1, 0, 0)",
        "shape": "rectangle"
       },
       "grabbable": true,
       "grabbed": false,
       "selectable": false
      }
     },
     "4455fb55752341cebeb88fa26459e6e9": {
      "model_module": "jupyter-cytoscape",
      "model_module_version": "^1.3.3",
      "model_name": "EdgeModel",
      "state": {
       "_model_module_version": "^1.3.3",
       "_view_module_version": "^1.3.3",
       "classes": " directed ",
       "data": {
        "source": "3762997917567159601",
        "target": "-5300833347800415111"
       },
       "selectable": false
      }
     },
     "44cb9c2d106e405196364629a3fff30a": {
      "model_module": "jupyter-cytoscape",
      "model_module_version": "^1.3.3",
      "model_name": "NodeModel",
      "state": {
       "_model_module_version": "^1.3.3",
       "_view_module_version": "^1.3.3",
       "data": {
        "color": "gray",
        "id": "8446372007758624814",
        "label": "build_waves_multislice_detect",
        "shape": "ellipse"
       },
       "grabbable": true,
       "grabbed": false,
       "selectable": false
      }
     },
     "44e4b5fed2ca4422818e6131beab5642": {
      "model_module": "jupyter-cytoscape",
      "model_module_version": "^1.3.3",
      "model_name": "NodeModel",
      "state": {
       "_model_module_version": "^1.3.3",
       "_view_module_version": "^1.3.3",
       "data": {
        "color": "gray",
        "id": "4785411436509375566",
        "label": "",
        "shape": "rectangle"
       },
       "grabbable": true,
       "grabbed": false,
       "selectable": false
      }
     },
     "452b3fb3f0474c5d821fdbb1c96c894a": {
      "model_module": "jupyter-cytoscape",
      "model_module_version": "^1.3.3",
      "model_name": "EdgeModel",
      "state": {
       "_model_module_version": "^1.3.3",
       "_view_module_version": "^1.3.3",
       "classes": " directed ",
       "data": {
        "source": "4543517768215573707",
        "target": "-7162202832397786769"
       },
       "selectable": false
      }
     },
     "45569088b26c4a5db1388c96a21f4a43": {
      "model_module": "jupyter-cytoscape",
      "model_module_version": "^1.3.3",
      "model_name": "EdgeModel",
      "state": {
       "_model_module_version": "^1.3.3",
       "_view_module_version": "^1.3.3",
       "classes": " directed ",
       "data": {
        "source": "-6881435542652321523",
        "target": "7457201218301179324"
       },
       "selectable": false
      }
     },
     "4567f395634f49d79ce4e9e703b6b1bb": {
      "model_module": "jupyter-cytoscape",
      "model_module_version": "^1.3.3",
      "model_name": "NodeModel",
      "state": {
       "_model_module_version": "^1.3.3",
       "_view_module_version": "^1.3.3",
       "data": {
        "color": "gray",
        "id": "4423224545294134894",
        "label": "frozen_phonon",
        "shape": "ellipse"
       },
       "grabbable": true,
       "grabbed": false,
       "selectable": false
      }
     },
     "458a8b4c9fea40eaa194f0a298ab7135": {
      "model_module": "jupyter-cytoscape",
      "model_module_version": "^1.3.3",
      "model_name": "NodeModel",
      "state": {
       "_model_module_version": "^1.3.3",
       "_view_module_version": "^1.3.3",
       "data": {
        "color": "gray",
        "id": "7876181867568370685",
        "label": "0",
        "shape": "rectangle"
       },
       "grabbable": true,
       "grabbed": false,
       "selectable": false
      }
     },
     "461d81d384e846baa72173d6ee1de381": {
      "model_module": "jupyter-cytoscape",
      "model_module_version": "^1.3.3",
      "model_name": "NodeModel",
      "state": {
       "_model_module_version": "^1.3.3",
       "_view_module_version": "^1.3.3",
       "data": {
        "color": "gray",
        "id": "7642245102610051772",
        "label": "build_waves_multislice_detect",
        "shape": "ellipse"
       },
       "grabbable": true,
       "grabbed": false,
       "selectable": false
      }
     },
     "467dff452e5d4fbf8b38f3e70f9cdfa4": {
      "model_module": "jupyter-cytoscape",
      "model_module_version": "^1.3.3",
      "model_name": "EdgeModel",
      "state": {
       "_model_module_version": "^1.3.3",
       "_view_module_version": "^1.3.3",
       "classes": " directed ",
       "data": {
        "source": "4543517768215573707",
        "target": "-7162202832397786769"
       },
       "selectable": false
      }
     },
     "46e05320dd7b4adf80a6737b054b074d": {
      "model_module": "jupyter-cytoscape",
      "model_module_version": "^1.3.3",
      "model_name": "NodeModel",
      "state": {
       "_model_module_version": "^1.3.3",
       "_view_module_version": "^1.3.3",
       "data": {
        "color": "gray",
        "id": "-5769699360084664581",
        "label": "",
        "shape": "rectangle"
       },
       "grabbable": true,
       "grabbed": false,
       "selectable": false
      }
     },
     "4716f697bfdf4a918d9276860b9c4549": {
      "model_module": "jupyter-cytoscape",
      "model_module_version": "^1.3.3",
      "model_name": "NodeModel",
      "state": {
       "_model_module_version": "^1.3.3",
       "_view_module_version": "^1.3.3",
       "data": {
        "color": "gray",
        "id": "4730913378417847910",
        "label": "(1, 0, 0)",
        "shape": "rectangle"
       },
       "grabbable": true,
       "grabbed": false,
       "selectable": false
      }
     },
     "47660b704d7e4ebca264e22636a5908d": {
      "model_module": "jupyter-cytoscape",
      "model_module_version": "^1.3.3",
      "model_name": "NodeModel",
      "state": {
       "_model_module_version": "^1.3.3",
       "_view_module_version": "^1.3.3",
       "data": {
        "color": "gray",
        "id": "5224246106512664743",
        "label": "mean_chunk",
        "shape": "ellipse"
       },
       "grabbable": true,
       "grabbed": false,
       "selectable": false
      }
     },
     "4778e6cee9c54e5a82593343eaa8dab9": {
      "model_module": "jupyter-cytoscape",
      "model_module_version": "^1.3.3",
      "model_name": "EdgeModel",
      "state": {
       "_model_module_version": "^1.3.3",
       "_view_module_version": "^1.3.3",
       "classes": " directed ",
       "data": {
        "source": "7642245102610051772",
        "target": "-8980786544197403048"
       },
       "selectable": false
      }
     },
     "47c25e213a584a05baaa225675944629": {
      "model_module": "jupyter-cytoscape",
      "model_module_version": "^1.3.3",
      "model_name": "EdgeModel",
      "state": {
       "_model_module_version": "^1.3.3",
       "_view_module_version": "^1.3.3",
       "classes": " directed ",
       "data": {
        "source": "8446372007758624814",
        "target": "2958316773410150143"
       },
       "selectable": false
      }
     },
     "486eb85291a24c379dbdd0a8ed56386a": {
      "model_module": "jupyter-cytoscape",
      "model_module_version": "^1.3.3",
      "model_name": "NodeModel",
      "state": {
       "_model_module_version": "^1.3.3",
       "_view_module_version": "^1.3.3",
       "data": {
        "color": "gray",
        "id": "-2343004666951745933",
        "label": "(3, 0, 0)",
        "shape": "rectangle"
       },
       "grabbable": true,
       "grabbed": false,
       "selectable": false
      }
     },
     "48adfaeeea25429cb8079fcee251fb7e": {
      "model_module": "jupyter-cytoscape",
      "model_module_version": "^1.3.3",
      "model_name": "NodeModel",
      "state": {
       "_model_module_version": "^1.3.3",
       "_view_module_version": "^1.3.3",
       "data": {
        "color": "gray",
        "id": "-6197812562928975144",
        "label": "(0, 0, 0)",
        "shape": "rectangle"
       },
       "grabbable": true,
       "grabbed": false,
       "selectable": false
      }
     },
     "48b7648963514a34a6ced856eea427ea": {
      "model_module": "jupyter-cytoscape",
      "model_module_version": "^1.3.3",
      "model_name": "EdgeModel",
      "state": {
       "_model_module_version": "^1.3.3",
       "_view_module_version": "^1.3.3",
       "classes": " directed ",
       "data": {
        "source": "6185987659971859018",
        "target": "3762997917567159601"
       },
       "selectable": false
      }
     },
     "48bf84f84b1549de897d38be9a1ebd2d": {
      "model_module": "jupyter-cytoscape",
      "model_module_version": "^1.3.3",
      "model_name": "GraphModel",
      "state": {
       "_adj": {
        "-1614449508366707697": {
         "4669270126925999175": 1
        },
        "-1619741176236411359": {
         "4596392545168703649": 1
        },
        "-3218514657936302129": {
         "8075331509581745181": 1
        },
        "-4026067495418712757": {
         "-5867077928345488197": 1
        },
        "-5160549817563923719": {
         "6185987659971859018": 1
        },
        "-5586142694755555196": {
         "4592471500478139755": 1
        },
        "-5867077928345488197": {
         "921498061346443229": 1
        },
        "-610012787654801415": {
         "-5160549817563923719": 1
        },
        "-6292486031629062684": {
         "-9146598646079689744": 1
        },
        "-6834823497889879413": {
         "-8036199778869199068": 1
        },
        "-693068665782858830": {
         "-1614449508366707697": 1
        },
        "-8036199778869199068": {
         "8759406085844506703": 1
        },
        "-8369933350610621265": {
         "3629306384784091193": 1
        },
        "-9146598646079689744": {
         "-4026067495418712757": 1
        },
        "1123258925578254493": {
         "3284152216582844014": 1
        },
        "2589567504215382784": {
         "-5586142694755555196": 1
        },
        "3284152216582844014": {},
        "3629306384784091193": {
         "8393120227172931531": 1
        },
        "3762997917567159601": {},
        "3873888304921363141": {
         "-8369933350610621265": 1
        },
        "4218932839740261193": {
         "3873888304921363141": 1
        },
        "4592471500478139755": {
         "6778553500043629472": 1
        },
        "4596392545168703649": {
         "7001030414621609575": 1
        },
        "4669270126925999175": {
         "-3218514657936302129": 1
        },
        "5654608039452636496": {
         "-693068665782858830": 1
        },
        "6017847913203115259": {},
        "6185987659971859018": {
         "3762997917567159601": 1
        },
        "6778553500043629472": {
         "1123258925578254493": 1
        },
        "7001030414621609575": {
         "5654608039452636496": 1
        },
        "7682358205353615673": {
         "6017847913203115259": 1
        },
        "8075331509581745181": {},
        "8138385170844379238": {
         "8226335373065077933": 1
        },
        "8226335373065077933": {
         "4218932839740261193": 1
        },
        "8393120227172931531": {
         "7682358205353615673": 1
        },
        "8759406085844506703": {
         "2589567504215382784": 1
        },
        "921498061346443229": {
         "-610012787654801415": 1
        }
       },
       "_model_module_version": "^1.3.3",
       "_view_module": "jupyter-cytoscape",
       "_view_module_version": "^1.3.3",
       "edges": [
        "IPY_MODEL_0ff49d0129eb476b86c532e6205b3c53",
        "IPY_MODEL_06a8b52013884b8ca8e6bd2dbab2e6a6",
        "IPY_MODEL_cc60ea2c56304b6a91831ae3bd97dd37",
        "IPY_MODEL_707403d566884f2aa2eb5399276b4799",
        "IPY_MODEL_78c237d858614301bc50c043e8782d4f",
        "IPY_MODEL_3cdbabd7b8d0494e82f5506427a44bc2",
        "IPY_MODEL_a4753ad63e834424b5237019ca6aade2",
        "IPY_MODEL_b0f51509ac674595aac0abff760b5151",
        "IPY_MODEL_fd3a274c41ad485584eac6e48604d750",
        "IPY_MODEL_79cba1d50cad4b5e835f3314bd28e7cf",
        "IPY_MODEL_266956b96aee469181dad73276ef3456",
        "IPY_MODEL_b72f885628fb497d8dee3a90d75d4515",
        "IPY_MODEL_6519d4b12a3445dea97b2b8d15e87a19",
        "IPY_MODEL_125637b3d27346119a887e069dec41d9",
        "IPY_MODEL_026f3673b92a4e7f9a87be414e1d454e",
        "IPY_MODEL_d92b35ffcc1f492a88f771606cf911dd",
        "IPY_MODEL_265710e2e39344a98caed0cdeaef0cec",
        "IPY_MODEL_673ed884924d45e890c3362da839b72a",
        "IPY_MODEL_a037ee43b367494fa31f146f0d1ddceb",
        "IPY_MODEL_61fe3c08cef5430787b7240259e21730",
        "IPY_MODEL_4c90dc87103e42fdbe2128300ca727e1",
        "IPY_MODEL_5ec63904caa94a9fa3bfbbb1a8db93de",
        "IPY_MODEL_a32ea253b7804cc19071f1fe6fbf5ffa",
        "IPY_MODEL_91854b31deb44af6810bdf85e4b74ca2",
        "IPY_MODEL_a84c22483c9a452d9c85f02b8fb31653",
        "IPY_MODEL_9543735023a44b3192282cefd60238e1",
        "IPY_MODEL_8fa43acf733547bd99479f5ebd10f3c5",
        "IPY_MODEL_ff2e9c11b09f48dda9482aed35fe2672",
        "IPY_MODEL_48b7648963514a34a6ced856eea427ea",
        "IPY_MODEL_cbd45946fdab49f69b9b7ac84aff9571",
        "IPY_MODEL_6287b05bf64d4503be45c78449dc5b92",
        "IPY_MODEL_2f0f4adb635a419e89668781114cb9e6"
       ],
       "nodes": [
        "IPY_MODEL_1bd51b3d6d5d4fa69b05fd5e9c9b74d2",
        "IPY_MODEL_bccbc26ea31544239a47f69505b2700b",
        "IPY_MODEL_5ee29d6b4a464c5fb11356cda49d7224",
        "IPY_MODEL_87807817f79e4d2e82ce1bf450a87077",
        "IPY_MODEL_6f0f36cb52714d0d9aabdfde625032bd",
        "IPY_MODEL_5b25c11620d74a08b1f0f3809d8ab5a0",
        "IPY_MODEL_5d20b7f8c5c343a1ab8adba99a164152",
        "IPY_MODEL_ad1c91974ac54f33961bf5607e290279",
        "IPY_MODEL_6f5420f06a3d48bab935fedfeabd56e6",
        "IPY_MODEL_10e81fb4e5864209b74a0eedae722000",
        "IPY_MODEL_831deef92e124fdeae8eee1b0d5f8aa3",
        "IPY_MODEL_31476e69b17b4181b306aaacdc1d4ca1",
        "IPY_MODEL_0ffcf9f5e24c49e6a29897906face953",
        "IPY_MODEL_33d8f9954b6743b1a387ace2a3544a83",
        "IPY_MODEL_6ada832e32324f899bb13e519b0a65da",
        "IPY_MODEL_24423171259b474b876f5e428a27a9d4",
        "IPY_MODEL_d245becc21894de792a1801f837c4b17",
        "IPY_MODEL_8fc6cf23f479474c9438b04bdcb16048",
        "IPY_MODEL_619cc0acef32492d9bb1da724339d376",
        "IPY_MODEL_d8511301f4cc49ee878f474c4cf1d892",
        "IPY_MODEL_e55a42dccbc048059e5406f94091e6fa",
        "IPY_MODEL_c8103145dd3241e5ade23de5a54a038d",
        "IPY_MODEL_d7ce9fd6b6fa4bc3b2a10548e2bb2602",
        "IPY_MODEL_f206cc90aa1942d98be8d370790c9327",
        "IPY_MODEL_809ee7c757714b1a9339c6f2d8e20f45",
        "IPY_MODEL_c2ed2000014b447ea76ef4cb90132036",
        "IPY_MODEL_f23e20634aab41d8a0eab80331f7bb5e",
        "IPY_MODEL_07abc119cae344bb98e75da43c1429c2",
        "IPY_MODEL_fffe6748f3164ffda2b5c35552bc504d",
        "IPY_MODEL_320024f91af54607bfaf2405a2e4f1be",
        "IPY_MODEL_f0c79fd34eb344d490f574f86111e64b",
        "IPY_MODEL_51d3ea74d7f14064be84d00f369dbc71",
        "IPY_MODEL_5018f85925d949c28a4c05008db6fdb4",
        "IPY_MODEL_5032b45666e849f4b824ed9b65c12617",
        "IPY_MODEL_6ccb1e55a16a40b0bd338b291af8b312",
        "IPY_MODEL_074fdc99f40f4230b7754b8838d107b9"
       ]
      }
     },
     "48cd35b727a94d12b1b2c16524aa937d": {
      "model_module": "jupyter-cytoscape",
      "model_module_version": "^1.3.3",
      "model_name": "EdgeModel",
      "state": {
       "_model_module_version": "^1.3.3",
       "_view_module_version": "^1.3.3",
       "classes": " directed ",
       "data": {
        "source": "1809169322176061202",
        "target": "-536282901384053758"
       },
       "selectable": false
      }
     },
     "48db918d8f8c45d2be81a50ea8e676c7": {
      "model_module": "jupyter-cytoscape",
      "model_module_version": "^1.3.3",
      "model_name": "NodeModel",
      "state": {
       "_model_module_version": "^1.3.3",
       "_view_module_version": "^1.3.3",
       "data": {
        "color": "gray",
        "id": "6826270806708122017",
        "label": "frozen_phonon",
        "shape": "ellipse"
       },
       "grabbable": true,
       "grabbed": false,
       "selectable": false
      }
     },
     "49118f1fa9894045b6e16a319c5a53e6": {
      "model_module": "jupyter-cytoscape",
      "model_module_version": "^1.3.3",
      "model_name": "NodeModel",
      "state": {
       "_model_module_version": "^1.3.3",
       "_view_module_version": "^1.3.3",
       "data": {
        "color": "gray",
        "id": "6825927405394541791",
        "label": "(0, 0, 0)",
        "shape": "rectangle"
       },
       "grabbable": true,
       "grabbed": false,
       "selectable": false
      }
     },
     "492c29f9dcbc4092b6c29607a6b2ae17": {
      "model_module": "jupyter-cytoscape",
      "model_module_version": "^1.3.3",
      "model_name": "NodeModel",
      "state": {
       "_model_module_version": "^1.3.3",
       "_view_module_version": "^1.3.3",
       "data": {
        "color": "gray",
        "id": "582384380744980608",
        "label": "3",
        "shape": "rectangle"
       },
       "grabbable": true,
       "grabbed": false,
       "selectable": false
      }
     },
     "49c971aaea7a43f294ebd31d32751f19": {
      "model_module": "jupyter-cytoscape",
      "model_module_version": "^1.3.3",
      "model_name": "NodeModel",
      "state": {
       "_model_module_version": "^1.3.3",
       "_view_module_version": "^1.3.3",
       "data": {
        "color": "gray",
        "id": "3762997917567159601",
        "label": "(2, 0, 0)",
        "shape": "rectangle"
       },
       "grabbable": true,
       "grabbed": false,
       "selectable": false
      }
     },
     "4a189ed6995e4b31a82ce2cc6ce2c539": {
      "model_module": "jupyter-cytoscape",
      "model_module_version": "^1.3.3",
      "model_name": "NodeModel",
      "state": {
       "_model_module_version": "^1.3.3",
       "_view_module_version": "^1.3.3",
       "data": {
        "color": "gray",
        "id": "2589567504215382784",
        "label": "0",
        "shape": "rectangle"
       },
       "grabbable": true,
       "grabbed": false,
       "selectable": false
      }
     },
     "4a745534e2b64844950228b50cab5dd2": {
      "model_module": "jupyter-cytoscape",
      "model_module_version": "^1.3.3",
      "model_name": "NodeModel",
      "state": {
       "_model_module_version": "^1.3.3",
       "_view_module_version": "^1.3.3",
       "data": {
        "color": "gray",
        "id": "2644035846870505790",
        "label": "extract_measurement",
        "shape": "ellipse"
       },
       "grabbable": true,
       "grabbed": false,
       "selectable": false
      }
     },
     "4a9c0c4a959a40c1be9d049766cae673": {
      "model_module": "jupyter-cytoscape",
      "model_module_version": "^1.3.3",
      "model_name": "CytoscapeModel",
      "state": {
       "_interaction_handlers": {},
       "_model_module_version": "^1.3.3",
       "_view_module_version": "^1.3.3",
       "auto_ungrabify": false,
       "autolock": false,
       "cytoscape_layout": {
        "edgeSep": 10,
        "name": "dagre",
        "nodeDimensionsIncludeLabels": true,
        "nodeSep": 10,
        "rankDir": "BT",
        "spacingFactor": 1
       },
       "cytoscape_style": [
        {
         "selector": "node",
         "style": {
          "background-color": "#eee",
          "border-color": "data(color)",
          "border-width": 4,
          "color": "black",
          "font-family": "helvetica",
          "font-size": "24px",
          "font-weight": "bold",
          "height": 64,
          "label": "data(label)",
          "opacity": "1.0",
          "shape": "data(shape)",
          "text-halign": "center",
          "text-valign": "center",
          "width": 64
         }
        },
        {
         "selector": "edge",
         "style": {
          "curve-style": "bezier",
          "line-color": "gray",
          "target-arrow-color": "gray",
          "target-arrow-shape": "triangle",
          "width": 8
         }
        }
       ],
       "desktop_tap_threshold": 4,
       "graph": "IPY_MODEL_0bb2651636444bdd9f014273067e116e",
       "headless": false,
       "hide_edges_on_viewport": false,
       "layout": "IPY_MODEL_5f0f3a224e5246f4a73684e32f6e19f1",
       "max_zoom": 4,
       "min_zoom": 0.2,
       "motion_blur": false,
       "motion_blur_opacity": 0.2,
       "panning_enabled": true,
       "pixel_ratio": "auto",
       "rendered_position": {
        "renderedPosition": {
         "x": 100,
         "y": 100
        }
       },
       "selection_type": "single",
       "style_enabled": true,
       "texture_on_viewport": false,
       "tooltip_source": "tooltip",
       "touch_tap_threshold": 8,
       "user_panning_enabled": true,
       "user_zooming_enabled": true,
       "wheel_sensitivity": 0.1,
       "zoom": 2,
       "zooming_enabled": true
      }
     },
     "4b206200d92b4517a015aa41e8c95cbd": {
      "model_module": "jupyter-cytoscape",
      "model_module_version": "^1.3.3",
      "model_name": "CytoscapeModel",
      "state": {
       "_interaction_handlers": {},
       "_model_module_version": "^1.3.3",
       "_view_module_version": "^1.3.3",
       "auto_ungrabify": false,
       "autolock": false,
       "cytoscape_layout": {
        "edgeSep": 10,
        "name": "dagre",
        "nodeDimensionsIncludeLabels": true,
        "nodeSep": 10,
        "rankDir": "BT",
        "spacingFactor": 1
       },
       "cytoscape_style": [
        {
         "selector": "node",
         "style": {
          "background-color": "#eee",
          "border-color": "data(color)",
          "border-width": 4,
          "color": "black",
          "font-family": "helvetica",
          "font-size": "24px",
          "font-weight": "bold",
          "height": 64,
          "label": "data(label)",
          "opacity": "1.0",
          "shape": "data(shape)",
          "text-halign": "center",
          "text-valign": "center",
          "width": 64
         }
        },
        {
         "selector": "edge",
         "style": {
          "curve-style": "bezier",
          "line-color": "gray",
          "target-arrow-color": "gray",
          "target-arrow-shape": "triangle",
          "width": 8
         }
        }
       ],
       "desktop_tap_threshold": 4,
       "graph": "IPY_MODEL_2c048cd84e7f487ab82b6cd96bfd3ab1",
       "headless": false,
       "hide_edges_on_viewport": false,
       "layout": "IPY_MODEL_0e85afed25ce472c9761e1d16a1607e0",
       "max_zoom": 4,
       "min_zoom": 0.2,
       "motion_blur": false,
       "motion_blur_opacity": 0.2,
       "panning_enabled": true,
       "pixel_ratio": "auto",
       "rendered_position": {
        "renderedPosition": {
         "x": 100,
         "y": 100
        }
       },
       "selection_type": "single",
       "style_enabled": true,
       "texture_on_viewport": false,
       "tooltip_source": "tooltip",
       "touch_tap_threshold": 8,
       "user_panning_enabled": true,
       "user_zooming_enabled": true,
       "wheel_sensitivity": 0.1,
       "zoom": 2,
       "zooming_enabled": true
      }
     },
     "4b8883fa18be496aac637fbcf983fae9": {
      "model_module": "jupyter-cytoscape",
      "model_module_version": "^1.3.3",
      "model_name": "EdgeModel",
      "state": {
       "_model_module_version": "^1.3.3",
       "_view_module_version": "^1.3.3",
       "classes": " directed ",
       "data": {
        "source": "-145746214567987325",
        "target": "3116987505309528548"
       },
       "selectable": false
      }
     },
     "4ba14ae1861a45c2a08b8bd87a8b02c2": {
      "model_module": "jupyter-cytoscape",
      "model_module_version": "^1.3.3",
      "model_name": "EdgeModel",
      "state": {
       "_model_module_version": "^1.3.3",
       "_view_module_version": "^1.3.3",
       "classes": " directed ",
       "data": {
        "source": "8895211512943915587",
        "target": "1517041892561096731"
       },
       "selectable": false
      }
     },
     "4be25a3d309f4afdb0b5534219f0b326": {
      "model_module": "jupyter-cytoscape",
      "model_module_version": "^1.3.3",
      "model_name": "NodeModel",
      "state": {
       "_model_module_version": "^1.3.3",
       "_view_module_version": "^1.3.3",
       "data": {
        "color": "gray",
        "id": "4546811837186835598",
        "label": "(0, 0)",
        "shape": "rectangle"
       },
       "grabbable": true,
       "grabbed": false,
       "selectable": false
      }
     },
     "4bfeef3e8b9f4bb994b8e8104ff3972d": {
      "model_module": "jupyter-cytoscape",
      "model_module_version": "^1.3.3",
      "model_name": "EdgeModel",
      "state": {
       "_model_module_version": "^1.3.3",
       "_view_module_version": "^1.3.3",
       "classes": " directed ",
       "data": {
        "source": "3537663541289573858",
        "target": "-3366324276772900629"
       },
       "selectable": false
      }
     },
     "4c90dc87103e42fdbe2128300ca727e1": {
      "model_module": "jupyter-cytoscape",
      "model_module_version": "^1.3.3",
      "model_name": "EdgeModel",
      "state": {
       "_model_module_version": "^1.3.3",
       "_view_module_version": "^1.3.3",
       "classes": " directed ",
       "data": {
        "source": "-610012787654801415",
        "target": "-5160549817563923719"
       },
       "selectable": false
      }
     },
     "4cb724ea9d3a4df586f3cf07dd29f1d0": {
      "model_module": "jupyter-cytoscape",
      "model_module_version": "^1.3.3",
      "model_name": "NodeModel",
      "state": {
       "_model_module_version": "^1.3.3",
       "_view_module_version": "^1.3.3",
       "data": {
        "color": "gray",
        "id": "-1580208454798506626",
        "label": "(2, 0, 0)",
        "shape": "rectangle"
       },
       "grabbable": true,
       "grabbed": false,
       "selectable": false
      }
     },
     "4cc8de23d52a46328f9064ea30ff185b": {
      "model_module": "jupyter-cytoscape",
      "model_module_version": "^1.3.3",
      "model_name": "EdgeModel",
      "state": {
       "_model_module_version": "^1.3.3",
       "_view_module_version": "^1.3.3",
       "classes": " directed ",
       "data": {
        "source": "6709284355986362260",
        "target": "4072142626341106735"
       },
       "selectable": false
      }
     },
     "4d5415a9760a4fbfb6597543f089f49f": {
      "model_module": "jupyter-cytoscape",
      "model_module_version": "^1.3.3",
      "model_name": "NodeModel",
      "state": {
       "_model_module_version": "^1.3.3",
       "_view_module_version": "^1.3.3",
       "data": {
        "color": "gray",
        "id": "4616942232716715966",
        "label": "(0, 0)",
        "shape": "rectangle"
       },
       "grabbable": true,
       "grabbed": false,
       "selectable": false
      }
     },
     "4dc8fac2557f47ff9acf54de5880e259": {
      "model_module": "jupyter-cytoscape",
      "model_module_version": "^1.3.3",
      "model_name": "NodeModel",
      "state": {
       "_model_module_version": "^1.3.3",
       "_view_module_version": "^1.3.3",
       "data": {
        "color": "gray",
        "id": "6709284355986362260",
        "label": "(2, 0, 0)",
        "shape": "rectangle"
       },
       "grabbable": true,
       "grabbed": false,
       "selectable": false
      }
     },
     "4e42d15adb754c32a03a5c0db2843730": {
      "model_module": "jupyter-cytoscape",
      "model_module_version": "^1.3.3",
      "model_name": "NodeModel",
      "state": {
       "_model_module_version": "^1.3.3",
       "_view_module_version": "^1.3.3",
       "data": {
        "color": "gray",
        "id": "-6292486031629062684",
        "label": "",
        "shape": "rectangle"
       },
       "grabbable": true,
       "grabbed": false,
       "selectable": false
      }
     },
     "4ec2b1c36d8e45a0a25467f4ffb8fec1": {
      "model_module": "jupyter-cytoscape",
      "model_module_version": "^1.3.3",
      "model_name": "EdgeModel",
      "state": {
       "_model_module_version": "^1.3.3",
       "_view_module_version": "^1.3.3",
       "classes": " directed ",
       "data": {
        "source": "6825927405394541791",
        "target": "7061443493384821196"
       },
       "selectable": false
      }
     },
     "4ed995c928cd48cf8c3f4fea00b40e72": {
      "model_module": "jupyter-cytoscape",
      "model_module_version": "^1.3.3",
      "model_name": "CytoscapeModel",
      "state": {
       "_interaction_handlers": {},
       "_model_module_version": "^1.3.3",
       "_view_module_version": "^1.3.3",
       "auto_ungrabify": false,
       "autolock": false,
       "cytoscape_layout": {
        "edgeSep": 10,
        "name": "dagre",
        "nodeDimensionsIncludeLabels": true,
        "nodeSep": 10,
        "rankDir": "BT",
        "spacingFactor": 1
       },
       "cytoscape_style": [
        {
         "selector": "node",
         "style": {
          "background-color": "#eee",
          "border-color": "data(color)",
          "border-width": 4,
          "color": "black",
          "font-family": "helvetica",
          "font-size": "24px",
          "font-weight": "bold",
          "height": 64,
          "label": "data(label)",
          "opacity": "1.0",
          "shape": "data(shape)",
          "text-halign": "center",
          "text-valign": "center",
          "width": 64
         }
        },
        {
         "selector": "edge",
         "style": {
          "curve-style": "bezier",
          "line-color": "gray",
          "target-arrow-color": "gray",
          "target-arrow-shape": "triangle",
          "width": 8
         }
        }
       ],
       "desktop_tap_threshold": 4,
       "graph": "IPY_MODEL_27ae61b9f95c4e8980a8de174906f9fc",
       "headless": false,
       "hide_edges_on_viewport": false,
       "layout": "IPY_MODEL_8be5bcb842ed4488ae28da3079213b59",
       "max_zoom": 4,
       "min_zoom": 0.2,
       "motion_blur": false,
       "motion_blur_opacity": 0.2,
       "panning_enabled": true,
       "pixel_ratio": "auto",
       "rendered_position": {
        "renderedPosition": {
         "x": 100,
         "y": 100
        }
       },
       "selection_type": "single",
       "style_enabled": true,
       "texture_on_viewport": false,
       "tooltip_source": "tooltip",
       "touch_tap_threshold": 8,
       "user_panning_enabled": true,
       "user_zooming_enabled": true,
       "wheel_sensitivity": 0.1,
       "zoom": 2,
       "zooming_enabled": true
      }
     },
     "4f3a7dc9d2644da389ef489c07a5d5ab": {
      "model_module": "jupyter-cytoscape",
      "model_module_version": "^1.3.3",
      "model_name": "EdgeModel",
      "state": {
       "_model_module_version": "^1.3.3",
       "_view_module_version": "^1.3.3",
       "classes": " directed ",
       "data": {
        "source": "3162333758080464363",
        "target": "8446372007758624814"
       },
       "selectable": false
      }
     },
     "4f6f29d37da64480b6dd6e46957cdcf3": {
      "model_module": "jupyter-cytoscape",
      "model_module_version": "^1.3.3",
      "model_name": "EdgeModel",
      "state": {
       "_model_module_version": "^1.3.3",
       "_view_module_version": "^1.3.3",
       "classes": " directed ",
       "data": {
        "source": "-6834823497889879413",
        "target": "-8036199778869199068"
       },
       "selectable": false
      }
     },
     "5018f85925d949c28a4c05008db6fdb4": {
      "model_module": "jupyter-cytoscape",
      "model_module_version": "^1.3.3",
      "model_name": "NodeModel",
      "state": {
       "_model_module_version": "^1.3.3",
       "_view_module_version": "^1.3.3",
       "data": {
        "color": "gray",
        "id": "6185987659971859018",
        "label": "extract_measurement",
        "shape": "ellipse"
       },
       "grabbable": true,
       "grabbed": false,
       "selectable": false
      }
     },
     "5032b45666e849f4b824ed9b65c12617": {
      "model_module": "jupyter-cytoscape",
      "model_module_version": "^1.3.3",
      "model_name": "NodeModel",
      "state": {
       "_model_module_version": "^1.3.3",
       "_view_module_version": "^1.3.3",
       "data": {
        "color": "gray",
        "id": "3762997917567159601",
        "label": "(2, 0, 0)",
        "shape": "rectangle"
       },
       "grabbable": true,
       "grabbed": false,
       "selectable": false
      }
     },
     "50368f4998224a29bd337b74d5513278": {
      "model_module": "jupyter-cytoscape",
      "model_module_version": "^1.3.3",
      "model_name": "NodeModel",
      "state": {
       "_model_module_version": "^1.3.3",
       "_view_module_version": "^1.3.3",
       "data": {
        "color": "gray",
        "id": "4710722068778462095",
        "label": "3",
        "shape": "rectangle"
       },
       "grabbable": true,
       "grabbed": false,
       "selectable": false
      }
     },
     "504109fe3046430a969d6c7c9c683e32": {
      "model_module": "jupyter-cytoscape",
      "model_module_version": "^1.3.3",
      "model_name": "NodeModel",
      "state": {
       "_model_module_version": "^1.3.3",
       "_view_module_version": "^1.3.3",
       "data": {
        "color": "gray",
        "id": "2587405991069435440",
        "label": "(2, 0, 0)",
        "shape": "rectangle"
       },
       "grabbable": true,
       "grabbed": false,
       "selectable": false
      }
     },
     "504311f849984d4dac12c53c9b268f46": {
      "model_module": "jupyter-cytoscape",
      "model_module_version": "^1.3.3",
      "model_name": "EdgeModel",
      "state": {
       "_model_module_version": "^1.3.3",
       "_view_module_version": "^1.3.3",
       "classes": " directed ",
       "data": {
        "source": "-6000206154981272589",
        "target": "8593372488160731357"
       },
       "selectable": false
      }
     },
     "508b1df9cea9426aa55c26bfe27a4ab3": {
      "model_module": "jupyter-cytoscape",
      "model_module_version": "^1.3.3",
      "model_name": "NodeModel",
      "state": {
       "_model_module_version": "^1.3.3",
       "_view_module_version": "^1.3.3",
       "data": {
        "color": "gray",
        "id": "3537663541289573858",
        "label": "frozen_phonon",
        "shape": "ellipse"
       },
       "grabbable": true,
       "grabbed": false,
       "selectable": false
      }
     },
     "50911fbb9b4345908337c81c1da1d720": {
      "model_module": "jupyter-cytoscape",
      "model_module_version": "^1.3.3",
      "model_name": "NodeModel",
      "state": {
       "_model_module_version": "^1.3.3",
       "_view_module_version": "^1.3.3",
       "data": {
        "color": "gray",
        "id": "-5593255572014410437",
        "label": "mean_agg-aggregate",
        "shape": "ellipse"
       },
       "grabbable": true,
       "grabbed": false,
       "selectable": false
      }
     },
     "5097088ca22f4424a1c28b7d4f3c0ed6": {
      "model_module": "jupyter-cytoscape",
      "model_module_version": "^1.3.3",
      "model_name": "EdgeModel",
      "state": {
       "_model_module_version": "^1.3.3",
       "_view_module_version": "^1.3.3",
       "classes": " directed ",
       "data": {
        "source": "8759406085844506703",
        "target": "2589567504215382784"
       },
       "selectable": false
      }
     },
     "51b170a4843e4d09b71e855f9b9c2f7e": {
      "model_module": "jupyter-cytoscape",
      "model_module_version": "^1.3.3",
      "model_name": "EdgeModel",
      "state": {
       "_model_module_version": "^1.3.3",
       "_view_module_version": "^1.3.3",
       "classes": " directed ",
       "data": {
        "source": "-5401772616039244585",
        "target": "2732125137216078954"
       },
       "selectable": false
      }
     },
     "51d3ea74d7f14064be84d00f369dbc71": {
      "model_module": "jupyter-cytoscape",
      "model_module_version": "^1.3.3",
      "model_name": "NodeModel",
      "state": {
       "_model_module_version": "^1.3.3",
       "_view_module_version": "^1.3.3",
       "data": {
        "color": "gray",
        "id": "3284152216582844014",
        "label": "(1, 0, 0)",
        "shape": "rectangle"
       },
       "grabbable": true,
       "grabbed": false,
       "selectable": false
      }
     },
     "51f762ba768e43c08af342ea04f3b54c": {
      "model_module": "jupyter-cytoscape",
      "model_module_version": "^1.3.3",
      "model_name": "EdgeModel",
      "state": {
       "_model_module_version": "^1.3.3",
       "_view_module_version": "^1.3.3",
       "classes": " directed ",
       "data": {
        "source": "-3373148340957401474",
        "target": "-3558087911606728156"
       },
       "selectable": false
      }
     },
     "521638f6923343a699f6aab7ccc38c49": {
      "model_module": "jupyter-cytoscape",
      "model_module_version": "^1.3.3",
      "model_name": "NodeModel",
      "state": {
       "_model_module_version": "^1.3.3",
       "_view_module_version": "^1.3.3",
       "data": {
        "color": "gray",
        "id": "5175792930573095707",
        "label": "0",
        "shape": "rectangle"
       },
       "grabbable": true,
       "grabbed": false,
       "selectable": false
      }
     },
     "521739009b1e4fe7a12b96b18adf39a9": {
      "model_module": "jupyter-cytoscape",
      "model_module_version": "^1.3.3",
      "model_name": "EdgeModel",
      "state": {
       "_model_module_version": "^1.3.3",
       "_view_module_version": "^1.3.3",
       "classes": " directed ",
       "data": {
        "source": "577712527715387209",
        "target": "-6497939102615796927"
       },
       "selectable": false
      }
     },
     "52cdf0b594da40629061be127888ae50": {
      "model_module": "jupyter-cytoscape",
      "model_module_version": "^1.3.3",
      "model_name": "NodeModel",
      "state": {
       "_model_module_version": "^1.3.3",
       "_view_module_version": "^1.3.3",
       "data": {
        "color": "gray",
        "id": "-6497939102615796927",
        "label": "(1, 0, 0)",
        "shape": "rectangle"
       },
       "grabbable": true,
       "grabbed": false,
       "selectable": false
      }
     },
     "53d2940806544a158b4695f722f7521f": {
      "model_module": "jupyter-cytoscape",
      "model_module_version": "^1.3.3",
      "model_name": "NodeModel",
      "state": {
       "_model_module_version": "^1.3.3",
       "_view_module_version": "^1.3.3",
       "data": {
        "color": "gray",
        "id": "5545040648842428692",
        "label": "frozen_phonon",
        "shape": "ellipse"
       },
       "grabbable": true,
       "grabbed": false,
       "selectable": false
      }
     },
     "53e959051ee14bdfb6ec5050f8531706": {
      "model_module": "jupyter-cytoscape",
      "model_module_version": "^1.3.3",
      "model_name": "EdgeModel",
      "state": {
       "_model_module_version": "^1.3.3",
       "_view_module_version": "^1.3.3",
       "classes": " directed ",
       "data": {
        "source": "-8034539748474648114",
        "target": "-8646584789489772301"
       },
       "selectable": false
      }
     },
     "54234bc9e1a4408eb82812771f0bb37f": {
      "model_module": "jupyter-cytoscape",
      "model_module_version": "^1.3.3",
      "model_name": "NodeModel",
      "state": {
       "_model_module_version": "^1.3.3",
       "_view_module_version": "^1.3.3",
       "data": {
        "color": "gray",
        "id": "625420363714486229",
        "label": "extract_measurement",
        "shape": "ellipse"
       },
       "grabbable": true,
       "grabbed": false,
       "selectable": false
      }
     },
     "545a90a0adff4c8fb2ba6e0ce8b340c5": {
      "model_module": "jupyter-cytoscape",
      "model_module_version": "^1.3.3",
      "model_name": "NodeModel",
      "state": {
       "_model_module_version": "^1.3.3",
       "_view_module_version": "^1.3.3",
       "data": {
        "color": "gray",
        "id": "3162333758080464363",
        "label": "0",
        "shape": "rectangle"
       },
       "grabbable": true,
       "grabbed": false,
       "selectable": false
      }
     },
     "5474ffdaceab41258200a386ddee7cc8": {
      "model_module": "jupyter-cytoscape",
      "model_module_version": "^1.3.3",
      "model_name": "GraphModel",
      "state": {
       "_adj": {
        "-1540672459395553730": {
         "-2985076271355479025": 1
        },
        "-1614449508366707697": {
         "4669270126925999175": 1
        },
        "-1619741176236411359": {
         "4596392545168703649": 1
        },
        "-280820566235178822": {
         "6709284355986362260": 1
        },
        "-2985076271355479025": {
         "1918105062987461093": 1
        },
        "-3218514657936302129": {
         "8075331509581745181": 1
        },
        "-4026067495418712757": {
         "-5867077928345488197": 1
        },
        "-452909014763226180": {
         "-6000206154981272589": 1
        },
        "-4682494566544635945": {
         "-1540672459395553730": 1
        },
        "-5160549817563923719": {
         "6185987659971859018": 1
        },
        "-5190739199085998411": {
         "3534457344772271157": 1
        },
        "-5300833347800415111": {
         "7110972868477951194": 1
        },
        "-5586142694755555196": {
         "4592471500478139755": 1
        },
        "-5867077928345488197": {
         "921498061346443229": 1
        },
        "-6000206154981272589": {
         "8593372488160731357": 1
        },
        "-610012787654801415": {
         "-5160549817563923719": 1
        },
        "-6292486031629062684": {
         "-9146598646079689744": 1
        },
        "-6834823497889879413": {
         "-8036199778869199068": 1
        },
        "-693068665782858830": {
         "-1614449508366707697": 1
        },
        "-7735061727949076103": {
         "-452909014763226180": 1
        },
        "-8036199778869199068": {
         "8759406085844506703": 1
        },
        "-8092343491893973367": {
         "-814016714424876553": 1
        },
        "-814016714424876553": {
         "7683295380142860191": 1
        },
        "-8261734515551322312": {
         "-6000206154981272589": 1
        },
        "-8369933350610621265": {
         "3629306384784091193": 1
        },
        "-9146598646079689744": {
         "-4026067495418712757": 1
        },
        "1123258925578254493": {
         "3284152216582844014": 1
        },
        "1468184454969538208": {
         "4546811837186835598": 1
        },
        "1918105062987461093": {
         "4072142626341106735": 1
        },
        "2589567504215382784": {
         "-5586142694755555196": 1
        },
        "3284152216582844014": {
         "-8092343491893973367": 1
        },
        "3534457344772271157": {
         "-7735061727949076103": 1
        },
        "3629306384784091193": {
         "8393120227172931531": 1
        },
        "3762997917567159601": {
         "-5300833347800415111": 1
        },
        "3802193195161830190": {
         "1468184454969538208": 1
        },
        "3873888304921363141": {
         "-8369933350610621265": 1
        },
        "4072142626341106735": {
         "3802193195161830190": 1
        },
        "4218932839740261193": {
         "3873888304921363141": 1
        },
        "4546811837186835598": {},
        "4592471500478139755": {
         "6778553500043629472": 1
        },
        "4596392545168703649": {
         "7001030414621609575": 1
        },
        "4669270126925999175": {
         "-3218514657936302129": 1
        },
        "5654608039452636496": {
         "-693068665782858830": 1
        },
        "6017847913203115259": {
         "-4682494566544635945": 1
        },
        "6185987659971859018": {
         "3762997917567159601": 1
        },
        "6709284355986362260": {
         "4072142626341106735": 1
        },
        "6778553500043629472": {
         "1123258925578254493": 1
        },
        "7001030414621609575": {
         "5654608039452636496": 1
        },
        "7110972868477951194": {
         "-280820566235178822": 1
        },
        "7682358205353615673": {
         "6017847913203115259": 1
        },
        "7683295380142860191": {
         "-8261734515551322312": 1
        },
        "8075331509581745181": {
         "-5190739199085998411": 1
        },
        "8138385170844379238": {
         "8226335373065077933": 1
        },
        "8226335373065077933": {
         "4218932839740261193": 1
        },
        "8393120227172931531": {
         "7682358205353615673": 1
        },
        "8593372488160731357": {
         "1468184454969538208": 1
        },
        "8759406085844506703": {
         "2589567504215382784": 1
        },
        "921498061346443229": {
         "-610012787654801415": 1
        }
       },
       "_model_module_version": "^1.3.3",
       "_view_module": "jupyter-cytoscape",
       "_view_module_version": "^1.3.3",
       "edges": [
        "IPY_MODEL_8bee627098cc46a2b08663c20791f1d0",
        "IPY_MODEL_9491410f69d449c7baae57b4e49a8733",
        "IPY_MODEL_22e49c984e864d12a65dea8ced081c6b",
        "IPY_MODEL_99dad407071042a185785da0a7ddfac2",
        "IPY_MODEL_e9d799826f4c450bb5d81da816b6ac83",
        "IPY_MODEL_42e436504dea444d89c4e7619346dd46",
        "IPY_MODEL_0dd680597e0745b7bc19462253944eb4",
        "IPY_MODEL_14b5fcdc508c4cf3ac37abec339188a5",
        "IPY_MODEL_4f6f29d37da64480b6dd6e46957cdcf3",
        "IPY_MODEL_5097088ca22f4424a1c28b7d4f3c0ed6",
        "IPY_MODEL_2ce4e9c218084967b8ca557facd42506",
        "IPY_MODEL_ed8a2440f23f407fb356e4051fffa015",
        "IPY_MODEL_84e5ee35a7a54f62bdaeb51f5deb95b2",
        "IPY_MODEL_286649a3a68044129a9ede6aaf5a2c77",
        "IPY_MODEL_5bb2c3d27fcf4b76a6a10bb5aadeee57",
        "IPY_MODEL_f66735c2a524465e95ecd83a1f769c16",
        "IPY_MODEL_198aabb68cd341d9a60cef98f18e5372",
        "IPY_MODEL_74e0edd210b54be3bf3610fe1c6af954",
        "IPY_MODEL_cc5a3303d2ec43b4958dda2ef32713ce",
        "IPY_MODEL_67f805f427b54fdda89bb693ecb9e093",
        "IPY_MODEL_ff0427d52fbb4ea6901edc791d159d61",
        "IPY_MODEL_b30136d41b294f6993e634c076aaaf41",
        "IPY_MODEL_24690d236e92403f9352d9580cc40b01",
        "IPY_MODEL_14226bdcbe454449a457ac90f2577ba7",
        "IPY_MODEL_8e0ca1a7aee34ea98ad801c3413c7be7",
        "IPY_MODEL_ef6b421851524d8b8e3013700bbb3b85",
        "IPY_MODEL_28378122d6c54481b1f8503367ea33d1",
        "IPY_MODEL_c379debc2ec940468b5dca8617705658",
        "IPY_MODEL_ee670f5789304c4ba9e191689cd8b383",
        "IPY_MODEL_dde04b11de824afcbfe6ee5af3b17eee",
        "IPY_MODEL_b817eaa46f6241ad98fd6fa338cc5b93",
        "IPY_MODEL_6c23bb0189c943ebb6fc60e1789b1796",
        "IPY_MODEL_ad2d63db48fa455a93df9f780035f50b",
        "IPY_MODEL_ecaa6cdf6db94c7a9fd9de3d32590dd7",
        "IPY_MODEL_609af2c0fa634c6da75b23593fd92d82",
        "IPY_MODEL_85fea0ae23284a6d90aade69b7aadd2c",
        "IPY_MODEL_1ced3dc2d45d491c8f8b2702f4b01a29",
        "IPY_MODEL_4455fb55752341cebeb88fa26459e6e9",
        "IPY_MODEL_23f103251cc04a259d6e62dd1d4582c5",
        "IPY_MODEL_af86603e08eb4067bfa649d47e480e30",
        "IPY_MODEL_faed15d97b7c4379b2320386ea594550",
        "IPY_MODEL_d7a0ed9e20e84dba9252c856df7db6bb",
        "IPY_MODEL_e908115632464e8aa59a5e9f5104cfd5",
        "IPY_MODEL_87184c80d6f84a0fa6120f8b7b39235a",
        "IPY_MODEL_de2909d72c774e8e8284523de15ff910",
        "IPY_MODEL_a0ff3a542d2e4cd08d9267441b12ca1c",
        "IPY_MODEL_199f29ca28634daea070101de3c97113",
        "IPY_MODEL_1a768d7f25a543289efbae5f4e4cb69e",
        "IPY_MODEL_504311f849984d4dac12c53c9b268f46",
        "IPY_MODEL_c27146352df147af9b481b764eb9d1af",
        "IPY_MODEL_5f6814e4db8740b0905efb537b06ef64",
        "IPY_MODEL_32f6f8b7c0334cdbacb4dffa6dc52491",
        "IPY_MODEL_4cc8de23d52a46328f9064ea30ff185b",
        "IPY_MODEL_cb4305effeb84c299feb1f7eec0fe5cd",
        "IPY_MODEL_a92a1a7f4dd14feb844a39acbf7e7e74",
        "IPY_MODEL_435e443211c34be6aae9d437348ca3db",
        "IPY_MODEL_43bb60636d6c4031bb7abc5505c97421"
       ],
       "nodes": [
        "IPY_MODEL_8c7cbdd5c8324530bf475a9a6d4dcafc",
        "IPY_MODEL_d4653050ea8741deba6c04fba8ab7630",
        "IPY_MODEL_59f788fb94904447b6e594d517ad59e4",
        "IPY_MODEL_ee72608b4a6a46ff9a6c442420984b8c",
        "IPY_MODEL_3a8328d10429493fa1e9f4c5e15f3290",
        "IPY_MODEL_bc34af135acc46808de07a35ede4d30a",
        "IPY_MODEL_92db12ef39ca45cc9d92faa2e2a10a29",
        "IPY_MODEL_1bc6480fc8dc452ba02ec4e8ad31fb68",
        "IPY_MODEL_797244ac3d5a470b81c21bddafb4dbad",
        "IPY_MODEL_7cd8816a7d1943ea8847a9ee91a66644",
        "IPY_MODEL_2604701517534aed899f0ed5be05ce02",
        "IPY_MODEL_4a189ed6995e4b31a82ce2cc6ce2c539",
        "IPY_MODEL_4e42d15adb754c32a03a5c0db2843730",
        "IPY_MODEL_9459c955e32d4c9dbb1196a9713d3cef",
        "IPY_MODEL_856118d67cd246559460489e18a36133",
        "IPY_MODEL_0996073116f14fbf83b2885f1bf0abcc",
        "IPY_MODEL_71cadaf8a13e4f1b83edd77f6cd1e336",
        "IPY_MODEL_ddc8f390186a4917bbf78adbbb340ae2",
        "IPY_MODEL_e267987e1e67429987eaaa0a3321c8e5",
        "IPY_MODEL_871de763202d4f558a833385d4028e89",
        "IPY_MODEL_70ed56a78732432380e597e83a1ac51a",
        "IPY_MODEL_e6f87107c3654c6ba0404e025f43a4dd",
        "IPY_MODEL_9fab49ca1f2a4ad4b6e52891535c635a",
        "IPY_MODEL_ca66da092c67427cbc41127917fc11fb",
        "IPY_MODEL_1d48cc241d9444ab81b1ad410eaa4fdb",
        "IPY_MODEL_b9362cee27a1440e98fe4ef1e862a802",
        "IPY_MODEL_a6beb0f622754f56a77fa4e35ab1cd60",
        "IPY_MODEL_8d18529daa3443548ad0af34c6d001ae",
        "IPY_MODEL_5a8888983ffc42e88539cf9405741ab9",
        "IPY_MODEL_d8d26b18eda046dbb160e577d3427df7",
        "IPY_MODEL_eecc3b45c42e4dad9dbf8791a55b7cf4",
        "IPY_MODEL_f94a027826d843a68a3c6257d70d24ad",
        "IPY_MODEL_f705645b92dc4e8993ad4e8d5ce2292c",
        "IPY_MODEL_49c971aaea7a43f294ebd31d32751f19",
        "IPY_MODEL_c77cdd6b2f1e4af1815bb2a8320d8558",
        "IPY_MODEL_f1bbf0698bc84f70920fb1515b94d884",
        "IPY_MODEL_0815cb175fab48c1aa65b6efc967de04",
        "IPY_MODEL_0778f10f49ee4ad4a2f4be7392bd4526",
        "IPY_MODEL_1c3530c3003d419b913304e9dee5d6ea",
        "IPY_MODEL_2146b39e8f4d45fbb538ae6c1bdf33cc",
        "IPY_MODEL_1f5297918eb74ad4bc56b7dc1ad22f37",
        "IPY_MODEL_22ca505ec11f4ccfa52e84a5b51967cc",
        "IPY_MODEL_e5deb1d5c0924e83a60a99b8b1bc42be",
        "IPY_MODEL_b1b8f51103ff4bae8fbe00585ea0c95f",
        "IPY_MODEL_eeb22951084945e2b7fa6fd160577fbb",
        "IPY_MODEL_8296d86a7dfd4401a2d4494630eb4f66",
        "IPY_MODEL_daac5e95e4ac4bc7a569d1218d5ca72a",
        "IPY_MODEL_590cccb9769b4f099529dca119c41766",
        "IPY_MODEL_f1234ebaaa7044d69e96c25d46d7220e",
        "IPY_MODEL_4dc8fac2557f47ff9acf54de5880e259",
        "IPY_MODEL_82c17a47f8144e1e9bcdd501a51f21b5",
        "IPY_MODEL_61a164b5d238409ba9be068e4877cd91",
        "IPY_MODEL_ca1de98e350e432380b26eaa443769c7",
        "IPY_MODEL_804c4cef3a084aa885db894ec01b6dd3",
        "IPY_MODEL_8990bb0eae54491a89af530f6a92f7a4",
        "IPY_MODEL_fd65c0f4b56b47fe833dd9241c442d1d",
        "IPY_MODEL_843b41ecafdd454e8da755204ffcef4a",
        "IPY_MODEL_4be25a3d309f4afdb0b5534219f0b326"
       ]
      }
     },
     "5495153e32524226869eb10189495248": {
      "model_module": "jupyter-cytoscape",
      "model_module_version": "^1.3.3",
      "model_name": "NodeModel",
      "state": {
       "_model_module_version": "^1.3.3",
       "_view_module_version": "^1.3.3",
       "data": {
        "color": "gray",
        "id": "-7896479044627285254",
        "label": "frozen_phonon",
        "shape": "ellipse"
       },
       "grabbable": true,
       "grabbed": false,
       "selectable": false
      }
     },
     "54cd6f687eb140f5aa4ef8fd729bfaf1": {
      "model_module": "jupyter-cytoscape",
      "model_module_version": "^1.3.3",
      "model_name": "EdgeModel",
      "state": {
       "_model_module_version": "^1.3.3",
       "_view_module_version": "^1.3.3",
       "classes": " directed ",
       "data": {
        "source": "-7896479044627285254",
        "target": "-3817565199602122438"
       },
       "selectable": false
      }
     },
     "54f522aa8e514f42a00425523c6afa7d": {
      "model_module": "jupyter-cytoscape",
      "model_module_version": "^1.3.3",
      "model_name": "EdgeModel",
      "state": {
       "_model_module_version": "^1.3.3",
       "_view_module_version": "^1.3.3",
       "classes": " directed ",
       "data": {
        "source": "-5769699360084664581",
        "target": "4423224545294134894"
       },
       "selectable": false
      }
     },
     "5515f451e47540c78dfe3b80583b447a": {
      "model_module": "jupyter-cytoscape",
      "model_module_version": "^1.3.3",
      "model_name": "EdgeModel",
      "state": {
       "_model_module_version": "^1.3.3",
       "_view_module_version": "^1.3.3",
       "classes": " directed ",
       "data": {
        "source": "-8752789098251752585",
        "target": "-5593255572014410437"
       },
       "selectable": false
      }
     },
     "55370af46f274768b9cdae66ca403fc2": {
      "model_module": "jupyter-cytoscape",
      "model_module_version": "^1.3.3",
      "model_name": "NodeModel",
      "state": {
       "_model_module_version": "^1.3.3",
       "_view_module_version": "^1.3.3",
       "data": {
        "color": "gray",
        "id": "-600270807562413883",
        "label": "frozen_phonon",
        "shape": "ellipse"
       },
       "grabbable": true,
       "grabbed": false,
       "selectable": false
      }
     },
     "55aa8359fb4740aa806d02b8d5b30b6d": {
      "model_module": "jupyter-cytoscape",
      "model_module_version": "^1.3.3",
      "model_name": "NodeModel",
      "state": {
       "_model_module_version": "^1.3.3",
       "_view_module_version": "^1.3.3",
       "data": {
        "color": "gray",
        "id": "-4672027926650990305",
        "label": "",
        "shape": "rectangle"
       },
       "grabbable": true,
       "grabbed": false,
       "selectable": false
      }
     },
     "55abde43a39145a2af6e609127e4d2f9": {
      "model_module": "jupyter-cytoscape",
      "model_module_version": "^1.3.3",
      "model_name": "NodeModel",
      "state": {
       "_model_module_version": "^1.3.3",
       "_view_module_version": "^1.3.3",
       "data": {
        "color": "gray",
        "id": "9001240909763029720",
        "label": "(1, 0, 0)",
        "shape": "rectangle"
       },
       "grabbable": true,
       "grabbed": false,
       "selectable": false
      }
     },
     "565f910315e14a8f833b6570df635cc9": {
      "model_module": "jupyter-cytoscape",
      "model_module_version": "^1.3.3",
      "model_name": "EdgeModel",
      "state": {
       "_model_module_version": "^1.3.3",
       "_view_module_version": "^1.3.3",
       "classes": " directed ",
       "data": {
        "source": "7127962364535129780",
        "target": "-6153133536884511323"
       },
       "selectable": false
      }
     },
     "5692d4c30a874a96964a4db47c695889": {
      "model_module": "jupyter-cytoscape",
      "model_module_version": "^1.3.3",
      "model_name": "NodeModel",
      "state": {
       "_model_module_version": "^1.3.3",
       "_view_module_version": "^1.3.3",
       "data": {
        "color": "gray",
        "id": "-1800958231532078890",
        "label": "extract_measurement",
        "shape": "ellipse"
       },
       "grabbable": true,
       "grabbed": false,
       "selectable": false
      }
     },
     "56d6e27243d449e2ab82184f9e62e525": {
      "model_module": "jupyter-cytoscape",
      "model_module_version": "^1.3.3",
      "model_name": "EdgeModel",
      "state": {
       "_model_module_version": "^1.3.3",
       "_view_module_version": "^1.3.3",
       "classes": " directed ",
       "data": {
        "source": "2732125137216078954",
        "target": "8307019125499461979"
       },
       "selectable": false
      }
     },
     "56dc615915b44bc9a4f5f4314e422f18": {
      "model_module": "jupyter-cytoscape",
      "model_module_version": "^1.3.3",
      "model_name": "EdgeModel",
      "state": {
       "_model_module_version": "^1.3.3",
       "_view_module_version": "^1.3.3",
       "classes": " directed ",
       "data": {
        "source": "5455551797699507121",
        "target": "2587405991069435440"
       },
       "selectable": false
      }
     },
     "56f09aabaa9b4067ad73641831d2c4bc": {
      "model_module": "jupyter-cytoscape",
      "model_module_version": "^1.3.3",
      "model_name": "GraphModel",
      "state": {
       "_adj": {},
       "_model_module_version": "^1.3.3",
       "_view_module": "jupyter-cytoscape",
       "_view_module_version": "^1.3.3"
      }
     },
     "57aa194f5e794b8d8480e0e098870082": {
      "model_module": "jupyter-cytoscape",
      "model_module_version": "^1.3.3",
      "model_name": "NodeModel",
      "state": {
       "_model_module_version": "^1.3.3",
       "_view_module_version": "^1.3.3",
       "data": {
        "color": "gray",
        "id": "-2492882789354074054",
        "label": "build_waves_multislice_detect",
        "shape": "ellipse"
       },
       "grabbable": true,
       "grabbed": false,
       "selectable": false
      }
     },
     "57c5d43bcdf640e097e17b9dae0b0c09": {
      "model_module": "jupyter-cytoscape",
      "model_module_version": "^1.3.3",
      "model_name": "EdgeModel",
      "state": {
       "_model_module_version": "^1.3.3",
       "_view_module_version": "^1.3.3",
       "classes": " directed ",
       "data": {
        "source": "-4756616172800127912",
        "target": "6682166873657082499"
       },
       "selectable": false
      }
     },
     "5879bf2693d64fd0b7751d9430c3fb38": {
      "model_module": "jupyter-cytoscape",
      "model_module_version": "^1.3.3",
      "model_name": "NodeModel",
      "state": {
       "_model_module_version": "^1.3.3",
       "_view_module_version": "^1.3.3",
       "data": {
        "color": "gray",
        "id": "986871968531529739",
        "label": "0",
        "shape": "rectangle"
       },
       "grabbable": true,
       "grabbed": false,
       "selectable": false
      }
     },
     "58ef450d9c784ff98c7d66ea0209fafe": {
      "model_module": "jupyter-cytoscape",
      "model_module_version": "^1.3.3",
      "model_name": "EdgeModel",
      "state": {
       "_model_module_version": "^1.3.3",
       "_view_module_version": "^1.3.3",
       "classes": " directed ",
       "data": {
        "source": "-8646584789489772301",
        "target": "5892879919772986108"
       },
       "selectable": false
      }
     },
     "590cccb9769b4f099529dca119c41766": {
      "model_module": "jupyter-cytoscape",
      "model_module_version": "^1.3.3",
      "model_name": "NodeModel",
      "state": {
       "_model_module_version": "^1.3.3",
       "_view_module_version": "^1.3.3",
       "data": {
        "color": "gray",
        "id": "-8261734515551322312",
        "label": "(1, 0, 0)",
        "shape": "rectangle"
       },
       "grabbable": true,
       "grabbed": false,
       "selectable": false
      }
     },
     "59f788fb94904447b6e594d517ad59e4": {
      "model_module": "jupyter-cytoscape",
      "model_module_version": "^1.3.3",
      "model_name": "NodeModel",
      "state": {
       "_model_module_version": "^1.3.3",
       "_view_module_version": "^1.3.3",
       "data": {
        "color": "gray",
        "id": "921498061346443229",
        "label": "2",
        "shape": "rectangle"
       },
       "grabbable": true,
       "grabbed": false,
       "selectable": false
      }
     },
     "5a3ccc20c31e48e7b35b224d0bc9d942": {
      "model_module": "jupyter-cytoscape",
      "model_module_version": "^1.3.3",
      "model_name": "EdgeModel",
      "state": {
       "_model_module_version": "^1.3.3",
       "_view_module_version": "^1.3.3",
       "classes": " directed ",
       "data": {
        "source": "7061443493384821196",
        "target": "4093897534649396938"
       },
       "selectable": false
      }
     },
     "5a8888983ffc42e88539cf9405741ab9": {
      "model_module": "jupyter-cytoscape",
      "model_module_version": "^1.3.3",
      "model_name": "NodeModel",
      "state": {
       "_model_module_version": "^1.3.3",
       "_view_module_version": "^1.3.3",
       "data": {
        "color": "gray",
        "id": "-3218514657936302129",
        "label": "extract_measurement",
        "shape": "ellipse"
       },
       "grabbable": true,
       "grabbed": false,
       "selectable": false
      }
     },
     "5a9dab5f9f234ff8ae04bed948793db5": {
      "model_module": "jupyter-cytoscape",
      "model_module_version": "^1.3.3",
      "model_name": "EdgeModel",
      "state": {
       "_model_module_version": "^1.3.3",
       "_view_module_version": "^1.3.3",
       "classes": " directed ",
       "data": {
        "source": "577712527715387209",
        "target": "-6497939102615796927"
       },
       "selectable": false
      }
     },
     "5af64f983a3947adb13b3f8ed67a00f8": {
      "model_module": "jupyter-cytoscape",
      "model_module_version": "^1.3.3",
      "model_name": "EdgeModel",
      "state": {
       "_model_module_version": "^1.3.3",
       "_view_module_version": "^1.3.3",
       "classes": " directed ",
       "data": {
        "source": "2587405991069435440",
        "target": "6626835539378452860"
       },
       "selectable": false
      }
     },
     "5b25c11620d74a08b1f0f3809d8ab5a0": {
      "model_module": "jupyter-cytoscape",
      "model_module_version": "^1.3.3",
      "model_name": "NodeModel",
      "state": {
       "_model_module_version": "^1.3.3",
       "_view_module_version": "^1.3.3",
       "data": {
        "color": "gray",
        "id": "4596392545168703649",
        "label": "frozen_phonon",
        "shape": "ellipse"
       },
       "grabbable": true,
       "grabbed": false,
       "selectable": false
      }
     },
     "5b500b1e3fea491b9aeda6c08660c4bb": {
      "model_module": "jupyter-cytoscape",
      "model_module_version": "^1.3.3",
      "model_name": "NodeModel",
      "state": {
       "_model_module_version": "^1.3.3",
       "_view_module_version": "^1.3.3",
       "data": {
        "color": "gray",
        "id": "-4626585547016365865",
        "label": "(1, 0, 0)",
        "shape": "rectangle"
       },
       "grabbable": true,
       "grabbed": false,
       "selectable": false
      }
     },
     "5b5eab1f180b4b9a841ee18f2d753f82": {
      "model_module": "jupyter-cytoscape",
      "model_module_version": "^1.3.3",
      "model_name": "EdgeModel",
      "state": {
       "_model_module_version": "^1.3.3",
       "_view_module_version": "^1.3.3",
       "classes": " directed ",
       "data": {
        "source": "-1454821431635411725",
        "target": "4776900485209766422"
       },
       "selectable": false
      }
     },
     "5bb2c3d27fcf4b76a6a10bb5aadeee57": {
      "model_module": "jupyter-cytoscape",
      "model_module_version": "^1.3.3",
      "model_name": "EdgeModel",
      "state": {
       "_model_module_version": "^1.3.3",
       "_view_module_version": "^1.3.3",
       "classes": " directed ",
       "data": {
        "source": "8138385170844379238",
        "target": "8226335373065077933"
       },
       "selectable": false
      }
     },
     "5bced4d54e054ffbb920e7dae5c0eae7": {
      "model_module": "jupyter-cytoscape",
      "model_module_version": "^1.3.3",
      "model_name": "NodeModel",
      "state": {
       "_model_module_version": "^1.3.3",
       "_view_module_version": "^1.3.3",
       "data": {
        "color": "gray",
        "id": "-6646829093793065682",
        "label": "frozen_phonon",
        "shape": "ellipse"
       },
       "grabbable": true,
       "grabbed": false,
       "selectable": false
      }
     },
     "5cc58a834f7f4d44869e690e6bc68e1e": {
      "model_module": "jupyter-cytoscape",
      "model_module_version": "^1.3.3",
      "model_name": "EdgeModel",
      "state": {
       "_model_module_version": "^1.3.3",
       "_view_module_version": "^1.3.3",
       "classes": " directed ",
       "data": {
        "source": "7420231043237664239",
        "target": "-3211400314611901149"
       },
       "selectable": false
      }
     },
     "5d20b7f8c5c343a1ab8adba99a164152": {
      "model_module": "jupyter-cytoscape",
      "model_module_version": "^1.3.3",
      "model_name": "NodeModel",
      "state": {
       "_model_module_version": "^1.3.3",
       "_view_module_version": "^1.3.3",
       "data": {
        "color": "gray",
        "id": "7001030414621609575",
        "label": "",
        "shape": "rectangle"
       },
       "grabbable": true,
       "grabbed": false,
       "selectable": false
      }
     },
     "5da5f8bad72347eb9f668ad000c988b7": {
      "model_module": "jupyter-cytoscape",
      "model_module_version": "^1.3.3",
      "model_name": "NodeModel",
      "state": {
       "_model_module_version": "^1.3.3",
       "_view_module_version": "^1.3.3",
       "data": {
        "color": "gray",
        "id": "4423224545294134894",
        "label": "frozen_phonon",
        "shape": "ellipse"
       },
       "grabbable": true,
       "grabbed": false,
       "selectable": false
      }
     },
     "5dd64a924a714105a949f388a54db34f": {
      "model_module": "jupyter-cytoscape",
      "model_module_version": "^1.3.3",
      "model_name": "EdgeModel",
      "state": {
       "_model_module_version": "^1.3.3",
       "_view_module_version": "^1.3.3",
       "classes": " directed ",
       "data": {
        "source": "-2573528208698158691",
        "target": "6826270806708122017"
       },
       "selectable": false
      }
     },
     "5dff3e780b7a41f88e74404d29025b34": {
      "model_module": "jupyter-cytoscape",
      "model_module_version": "^1.3.3",
      "model_name": "EdgeModel",
      "state": {
       "_model_module_version": "^1.3.3",
       "_view_module_version": "^1.3.3",
       "classes": " directed ",
       "data": {
        "source": "5892879919772986108",
        "target": "510089647245746003"
       },
       "selectable": false
      }
     },
     "5e4f7e27d5064ec0b737ab39b20035f5": {
      "model_module": "jupyter-cytoscape",
      "model_module_version": "^1.3.3",
      "model_name": "EdgeModel",
      "state": {
       "_model_module_version": "^1.3.3",
       "_view_module_version": "^1.3.3",
       "classes": " directed ",
       "data": {
        "source": "-5401772616039244585",
        "target": "2732125137216078954"
       },
       "selectable": false
      }
     },
     "5e53330b841b418fb98664a73ec941fd": {
      "model_module": "jupyter-cytoscape",
      "model_module_version": "^1.3.3",
      "model_name": "EdgeModel",
      "state": {
       "_model_module_version": "^1.3.3",
       "_view_module_version": "^1.3.3",
       "classes": " directed ",
       "data": {
        "source": "-1491471162771521316",
        "target": "8341276412589156804"
       },
       "selectable": false
      }
     },
     "5e8b19bfe1554284b5e61342708eb714": {
      "model_module": "jupyter-cytoscape",
      "model_module_version": "^1.3.3",
      "model_name": "EdgeModel",
      "state": {
       "_model_module_version": "^1.3.3",
       "_view_module_version": "^1.3.3",
       "classes": " directed ",
       "data": {
        "source": "2958316773410150143",
        "target": "-1800958231532078890"
       },
       "selectable": false
      }
     },
     "5ec63904caa94a9fa3bfbbb1a8db93de": {
      "model_module": "jupyter-cytoscape",
      "model_module_version": "^1.3.3",
      "model_name": "EdgeModel",
      "state": {
       "_model_module_version": "^1.3.3",
       "_view_module_version": "^1.3.3",
       "classes": " directed ",
       "data": {
        "source": "921498061346443229",
        "target": "-610012787654801415"
       },
       "selectable": false
      }
     },
     "5ee29d6b4a464c5fb11356cda49d7224": {
      "model_module": "jupyter-cytoscape",
      "model_module_version": "^1.3.3",
      "model_name": "NodeModel",
      "state": {
       "_model_module_version": "^1.3.3",
       "_view_module_version": "^1.3.3",
       "data": {
        "color": "gray",
        "id": "921498061346443229",
        "label": "2",
        "shape": "rectangle"
       },
       "grabbable": true,
       "grabbed": false,
       "selectable": false
      }
     },
     "5ef0c172bc484abda3b17365ce781fec": {
      "model_module": "jupyter-cytoscape",
      "model_module_version": "^1.3.3",
      "model_name": "EdgeModel",
      "state": {
       "_model_module_version": "^1.3.3",
       "_view_module_version": "^1.3.3",
       "classes": " directed ",
       "data": {
        "source": "-3915436992879133533",
        "target": "-6553637324542115266"
       },
       "selectable": false
      }
     },
     "5f0f3a224e5246f4a73684e32f6e19f1": {
      "model_module": "@jupyter-widgets/base",
      "model_module_version": "2.0.0",
      "model_name": "LayoutModel",
      "state": {
       "_model_name": "LayoutModel",
       "_view_name": "ErrorWidgetView",
       "align_content": null,
       "align_items": null,
       "align_self": null,
       "border": null,
       "bottom": null,
       "display": null,
       "error": {},
       "flex": null,
       "flex_flow": null,
       "grid_area": null,
       "grid_auto_columns": null,
       "grid_auto_flow": null,
       "grid_auto_rows": null,
       "grid_column": null,
       "grid_gap": null,
       "grid_row": null,
       "grid_template_areas": null,
       "grid_template_columns": null,
       "grid_template_rows": null,
       "height": "400px",
       "justify_content": null,
       "justify_items": null,
       "left": null,
       "margin": null,
       "max_height": null,
       "max_width": null,
       "min_height": null,
       "min_width": null,
       "msg": "Failed to load model class 'LayoutModel' from module '@jupyter-widgets/base'",
       "object_fit": null,
       "object_position": null,
       "order": null,
       "overflow": null,
       "overflow_x": null,
       "overflow_y": null,
       "padding": null,
       "right": null,
       "top": null,
       "visibility": null,
       "width": null
      }
     },
     "5f6814e4db8740b0905efb537b06ef64": {
      "model_module": "jupyter-cytoscape",
      "model_module_version": "^1.3.3",
      "model_name": "EdgeModel",
      "state": {
       "_model_module_version": "^1.3.3",
       "_view_module_version": "^1.3.3",
       "classes": " directed ",
       "data": {
        "source": "-452909014763226180",
        "target": "-6000206154981272589"
       },
       "selectable": false
      }
     },
     "5ff482c0c3344b1d82e6412deef3b930": {
      "model_module": "jupyter-cytoscape",
      "model_module_version": "^1.3.3",
      "model_name": "NodeModel",
      "state": {
       "_model_module_version": "^1.3.3",
       "_view_module_version": "^1.3.3",
       "data": {
        "color": "gray",
        "id": "8446372007758624814",
        "label": "build_waves_multislice_detect",
        "shape": "ellipse"
       },
       "grabbable": true,
       "grabbed": false,
       "selectable": false
      }
     },
     "605f055674004f16963ce8497e2ac059": {
      "model_module": "jupyter-cytoscape",
      "model_module_version": "^1.3.3",
      "model_name": "GraphModel",
      "state": {
       "_adj": {
        "-145746214567987325": {
         "3116987505309528548": 1
        },
        "-178667058722831183": {
         "-7390790663974642977": 1
        },
        "-1793233785852133242": {
         "8895211512943915587": 1
        },
        "-2364576551562800772": {
         "-145746214567987325": 1
        },
        "-2793075227550930713": {
         "-2364576551562800772": 1
        },
        "-3349036892622714455": {
         "-6147267522005547498": 1
        },
        "-3373148340957401474": {
         "-3558087911606728156": 1
        },
        "-3558087911606728156": {},
        "-3765275123317388426": {
         "-5552045050792817289": 1
        },
        "-5027416227128121925": {
         "-3349036892622714455": 1
        },
        "-5303692983497827898": {
         "-1793233785852133242": 1
        },
        "-536282901384053758": {
         "-178667058722831183": 1
        },
        "-5378901075238311926": {
         "853475432809461818": 1
        },
        "-5462731194043303418": {
         "-6686307814824829608": 1
        },
        "-5552045050792817289": {
         "7127962364535129780": 1
        },
        "-577972134415597150": {},
        "-6147267522005547498": {
         "4281011354108735256": 1
        },
        "-6153133536884511323": {
         "4592959978031127271": 1
        },
        "-6404083607924859039": {
         "-577972134415597150": 1
        },
        "-6686307814824829608": {
         "-6404083607924859039": 1
        },
        "-7346143339576425920": {
         "-5462731194043303418": 1
        },
        "-7390790663974642977": {
         "4250737589181367976": 1
        },
        "1517041892561096731": {},
        "1809169322176061202": {
         "-536282901384053758": 1
        },
        "3116987505309528548": {
         "8316810078278059627": 1
        },
        "4250737589181367976": {},
        "4281011354108735256": {
         "1809169322176061202": 1
        },
        "4592959978031127271": {
         "-5303692983497827898": 1
        },
        "5545040648842428692": {
         "-5378901075238311926": 1
        },
        "6328973697379167242": {
         "-3373148340957401474": 1
        },
        "6548439309187638817": {
         "6328973697379167242": 1
        },
        "7127962364535129780": {
         "-6153133536884511323": 1
        },
        "7235242250734662488": {
         "5545040648842428692": 1
        },
        "8316810078278059627": {
         "6548439309187638817": 1
        },
        "853475432809461818": {
         "-7346143339576425920": 1
        },
        "8895211512943915587": {
         "1517041892561096731": 1
        }
       },
       "_model_module_version": "^1.3.3",
       "_view_module": "jupyter-cytoscape",
       "_view_module_version": "^1.3.3",
       "edges": [
        "IPY_MODEL_ad00012519a94d84b97d1c3e02825998",
        "IPY_MODEL_65e01b4b42e642d485148319da4720bc",
        "IPY_MODEL_ca22d83439354a6883734c43330db4a1",
        "IPY_MODEL_e3a93c0485bc4313ac801c4be102f5c9",
        "IPY_MODEL_811cc5cafb1440f19e2a65d1ad3944bc",
        "IPY_MODEL_7f0cecb8e8b146d7ae4cc1c7145cae29",
        "IPY_MODEL_565f910315e14a8f833b6570df635cc9",
        "IPY_MODEL_6c608c392d14458fad3dcbc444e19a16",
        "IPY_MODEL_8dd545816c1d40368281f67541d3da65",
        "IPY_MODEL_366e711da9d54111951a2fabf81178ee",
        "IPY_MODEL_a7e47b8a52af4985b9c5f1013d7c0468",
        "IPY_MODEL_115b7d47e4ff498e878c5c50dd4e3231",
        "IPY_MODEL_0c8b817f937c45709e409ed8042e814d",
        "IPY_MODEL_cbba9fd274ff4992a3b0ef63ae6da934",
        "IPY_MODEL_8be6176c4c4f4cc39fa42d4f1fb8fa61",
        "IPY_MODEL_4b8883fa18be496aac637fbcf983fae9",
        "IPY_MODEL_070de9e4eab747c2b9444d517ae13807",
        "IPY_MODEL_167636df2ef1420b85e2b0d36b3000f0",
        "IPY_MODEL_c6f244af3f88471e90eb1e1d9c601f54",
        "IPY_MODEL_67ee0e386ab24d9195439c77421a29e9",
        "IPY_MODEL_ca25571c6b8e45bcae246ceee76fa05d",
        "IPY_MODEL_48cd35b727a94d12b1b2c16524aa937d",
        "IPY_MODEL_fb3eafb7a502437eb79dc6d32dcbc202",
        "IPY_MODEL_a7e81bf45bf64d459a38cf53e6aa9c65",
        "IPY_MODEL_4ba14ae1861a45c2a08b8bd87a8b02c2",
        "IPY_MODEL_1502ac9514664bb49f78e9e4db0d2cb1",
        "IPY_MODEL_91018a52dcbb4263b91674793a867142",
        "IPY_MODEL_ad4b6252c51e4233b066a4e678b9dc80",
        "IPY_MODEL_66cc18a824d0453a82db85464f84845d",
        "IPY_MODEL_73c39fa9f4674d0881116aa44c2bfa22",
        "IPY_MODEL_51f762ba768e43c08af342ea04f3b54c",
        "IPY_MODEL_6302ce385d4a4ad3b72495d0052f8a16"
       ],
       "nodes": [
        "IPY_MODEL_30caa3ecb9ae4b9184e8b90a434563e1",
        "IPY_MODEL_9ecd3e565d894fe8b4402c3041ffd2bd",
        "IPY_MODEL_3b39cc9275af4e8086bd15582cba526c",
        "IPY_MODEL_7dc2fc589f9f42a3b9625c235f4201ed",
        "IPY_MODEL_83065103cab64e78acafc4d81e0309b5",
        "IPY_MODEL_8fa2190a4f324aabafe5b8d800177e82",
        "IPY_MODEL_c2b75c137423450b89dd4df4066746c1",
        "IPY_MODEL_c4be8b9223694da18d9c03ff4b9aa58b",
        "IPY_MODEL_c46d17fd0c3144b391e5c780a02a91b0",
        "IPY_MODEL_53d2940806544a158b4695f722f7521f",
        "IPY_MODEL_175587a768af40629c327ed9c1fbf2a9",
        "IPY_MODEL_a3d588b063014eb3a358a43c6f34228d",
        "IPY_MODEL_0043a4cede2e4db8ae42be5229f3446f",
        "IPY_MODEL_7e0265754b384c1ea6a46105dae25d1f",
        "IPY_MODEL_ce87088c1d9b44f99c06f63e1f2fcb3f",
        "IPY_MODEL_d985e30d2df44345ba131cde825057e4",
        "IPY_MODEL_e7cdd6af348e4b3fba6b325ea889b52b",
        "IPY_MODEL_67e1936db8f142209398760009bccb38",
        "IPY_MODEL_8f7de8f25c6c4941abd5dbbaf3dc5dbc",
        "IPY_MODEL_75bbb0f5c8974948bb575c21d5bc6975",
        "IPY_MODEL_8666f60a24974303be7685d0db82bae1",
        "IPY_MODEL_83ddb50424f145e2880b50f7caea889b",
        "IPY_MODEL_afd44b89cc334eb0b5c2f73f94b401a9",
        "IPY_MODEL_ab68ea35d2c540439e754241a3ad7f36",
        "IPY_MODEL_096d32ac8aac477bbf6730e6628642db",
        "IPY_MODEL_946d32d6b71e453b989fac418b88a846",
        "IPY_MODEL_b5d967722ea244a6b72150dacc7243d5",
        "IPY_MODEL_0235a90e760b41c6ad22af4942c2143b",
        "IPY_MODEL_829742b6b75a4d6391529bfd58439c66",
        "IPY_MODEL_f845bae2945b4aa7852bef44a981410c",
        "IPY_MODEL_93f87a9138854a5cb4d9f396b2355e29",
        "IPY_MODEL_e068a6ef9c664298a1b003da08a1c40b",
        "IPY_MODEL_6e40dd4f944d414f870eb96c99e70f64",
        "IPY_MODEL_7954a89928cb4ab6a1e1c6815cda5f8a",
        "IPY_MODEL_0cc1ee581ff946d9bb4d370afb36cc16",
        "IPY_MODEL_272caa794efb4c4194f1a59a1b9b80ed"
       ]
      }
     },
     "609af2c0fa634c6da75b23593fd92d82": {
      "model_module": "jupyter-cytoscape",
      "model_module_version": "^1.3.3",
      "model_name": "EdgeModel",
      "state": {
       "_model_module_version": "^1.3.3",
       "_view_module_version": "^1.3.3",
       "classes": " directed ",
       "data": {
        "source": "-8092343491893973367",
        "target": "-814016714424876553"
       },
       "selectable": false
      }
     },
     "609fa3024f5744e4b1bf859ec5bcb28b": {
      "model_module": "jupyter-cytoscape",
      "model_module_version": "^1.3.3",
      "model_name": "NodeModel",
      "state": {
       "_model_module_version": "^1.3.3",
       "_view_module_version": "^1.3.3",
       "data": {
        "color": "gray",
        "id": "5130464993996696205",
        "label": "intensity",
        "shape": "ellipse"
       },
       "grabbable": true,
       "grabbed": false,
       "selectable": false
      }
     },
     "612689b997074c81aba2e47f4eaf33ae": {
      "model_module": "jupyter-cytoscape",
      "model_module_version": "^1.3.3",
      "model_name": "EdgeModel",
      "state": {
       "_model_module_version": "^1.3.3",
       "_view_module_version": "^1.3.3",
       "classes": " directed ",
       "data": {
        "source": "5573658241717172992",
        "target": "2115047589787434672"
       },
       "selectable": false
      }
     },
     "616c20d7a94a4d908c9d24a75482fa3f": {
      "model_module": "jupyter-cytoscape",
      "model_module_version": "^1.3.3",
      "model_name": "NodeModel",
      "state": {
       "_model_module_version": "^1.3.3",
       "_view_module_version": "^1.3.3",
       "data": {
        "color": "gray",
        "id": "-1491471162771521316",
        "label": "",
        "shape": "rectangle"
       },
       "grabbable": true,
       "grabbed": false,
       "selectable": false
      }
     },
     "619cc0acef32492d9bb1da724339d376": {
      "model_module": "jupyter-cytoscape",
      "model_module_version": "^1.3.3",
      "model_name": "NodeModel",
      "state": {
       "_model_module_version": "^1.3.3",
       "_view_module_version": "^1.3.3",
       "data": {
        "color": "gray",
        "id": "4218932839740261193",
        "label": "",
        "shape": "rectangle"
       },
       "grabbable": true,
       "grabbed": false,
       "selectable": false
      }
     },
     "61a164b5d238409ba9be068e4877cd91": {
      "model_module": "jupyter-cytoscape",
      "model_module_version": "^1.3.3",
      "model_name": "NodeModel",
      "state": {
       "_model_module_version": "^1.3.3",
       "_view_module_version": "^1.3.3",
       "data": {
        "color": "gray",
        "id": "1918105062987461093",
        "label": "(3, 0, 0)",
        "shape": "rectangle"
       },
       "grabbable": true,
       "grabbed": false,
       "selectable": false
      }
     },
     "61bf0b725d9040eeb7e217e1e49fe5ec": {
      "model_module": "jupyter-cytoscape",
      "model_module_version": "^1.3.3",
      "model_name": "EdgeModel",
      "state": {
       "_model_module_version": "^1.3.3",
       "_view_module_version": "^1.3.3",
       "classes": " directed ",
       "data": {
        "source": "7420231043237664239",
        "target": "-3211400314611901149"
       },
       "selectable": false
      }
     },
     "61c3ceaa126f4204bfe451b9e87db0ea": {
      "model_module": "jupyter-cytoscape",
      "model_module_version": "^1.3.3",
      "model_name": "NodeModel",
      "state": {
       "_model_module_version": "^1.3.3",
       "_view_module_version": "^1.3.3",
       "data": {
        "color": "gray",
        "id": "5455551797699507121",
        "label": "extract_measurement",
        "shape": "ellipse"
       },
       "grabbable": true,
       "grabbed": false,
       "selectable": false
      }
     },
     "61fe3c08cef5430787b7240259e21730": {
      "model_module": "jupyter-cytoscape",
      "model_module_version": "^1.3.3",
      "model_name": "EdgeModel",
      "state": {
       "_model_module_version": "^1.3.3",
       "_view_module_version": "^1.3.3",
       "classes": " directed ",
       "data": {
        "source": "-5586142694755555196",
        "target": "4592471500478139755"
       },
       "selectable": false
      }
     },
     "6265bc1ac8324cdfaf642559c1b66855": {
      "model_module": "jupyter-cytoscape",
      "model_module_version": "^1.3.3",
      "model_name": "NodeModel",
      "state": {
       "_model_module_version": "^1.3.3",
       "_view_module_version": "^1.3.3",
       "data": {
        "color": "gray",
        "id": "5455551797699507121",
        "label": "extract_measurement",
        "shape": "ellipse"
       },
       "grabbable": true,
       "grabbed": false,
       "selectable": false
      }
     },
     "62850c708f9647da94ab4891c009d391": {
      "model_module": "jupyter-cytoscape",
      "model_module_version": "^1.3.3",
      "model_name": "EdgeModel",
      "state": {
       "_model_module_version": "^1.3.3",
       "_view_module_version": "^1.3.3",
       "classes": " directed ",
       "data": {
        "source": "5224246106512664743",
        "target": "-678342980587649050"
       },
       "selectable": false
      }
     },
     "6287b05bf64d4503be45c78449dc5b92": {
      "model_module": "jupyter-cytoscape",
      "model_module_version": "^1.3.3",
      "model_name": "EdgeModel",
      "state": {
       "_model_module_version": "^1.3.3",
       "_view_module_version": "^1.3.3",
       "classes": " directed ",
       "data": {
        "source": "7682358205353615673",
        "target": "6017847913203115259"
       },
       "selectable": false
      }
     },
     "62e6fbc79d414b5884146a109c6a4c84": {
      "model_module": "jupyter-cytoscape",
      "model_module_version": "^1.3.3",
      "model_name": "EdgeModel",
      "state": {
       "_model_module_version": "^1.3.3",
       "_view_module_version": "^1.3.3",
       "classes": " directed ",
       "data": {
        "source": "-5206254680038695081",
        "target": "6933965206717590703"
       },
       "selectable": false
      }
     },
     "6302ce385d4a4ad3b72495d0052f8a16": {
      "model_module": "jupyter-cytoscape",
      "model_module_version": "^1.3.3",
      "model_name": "EdgeModel",
      "state": {
       "_model_module_version": "^1.3.3",
       "_view_module_version": "^1.3.3",
       "classes": " directed ",
       "data": {
        "source": "6328973697379167242",
        "target": "-3373148340957401474"
       },
       "selectable": false
      }
     },
     "63637bc564a24f05ad92f08745d0a736": {
      "model_module": "jupyter-cytoscape",
      "model_module_version": "^1.3.3",
      "model_name": "NodeModel",
      "state": {
       "_model_module_version": "^1.3.3",
       "_view_module_version": "^1.3.3",
       "data": {
        "color": "gray",
        "id": "-8776769559527088828",
        "label": "1",
        "shape": "rectangle"
       },
       "grabbable": true,
       "grabbed": false,
       "selectable": false
      }
     },
     "63a4a5d9d0614be481f562ed337034b5": {
      "model_module": "jupyter-cytoscape",
      "model_module_version": "^1.3.3",
      "model_name": "NodeModel",
      "state": {
       "_model_module_version": "^1.3.3",
       "_view_module_version": "^1.3.3",
       "data": {
        "color": "gray",
        "id": "-6553637324542115266",
        "label": "(3, 0, 0)",
        "shape": "rectangle"
       },
       "grabbable": true,
       "grabbed": false,
       "selectable": false
      }
     },
     "63cf25fa67dd43cea796fd7f8a3add87": {
      "model_module": "jupyter-cytoscape",
      "model_module_version": "^1.3.3",
      "model_name": "NodeModel",
      "state": {
       "_model_module_version": "^1.3.3",
       "_view_module_version": "^1.3.3",
       "data": {
        "color": "gray",
        "id": "-1800958231532078890",
        "label": "extract_measurement",
        "shape": "ellipse"
       },
       "grabbable": true,
       "grabbed": false,
       "selectable": false
      }
     },
     "649e2a5cf0094497a9811837d8a4a621": {
      "model_module": "jupyter-cytoscape",
      "model_module_version": "^1.3.3",
      "model_name": "NodeModel",
      "state": {
       "_model_module_version": "^1.3.3",
       "_view_module_version": "^1.3.3",
       "data": {
        "color": "gray",
        "id": "4776900485209766422",
        "label": "2",
        "shape": "rectangle"
       },
       "grabbable": true,
       "grabbed": false,
       "selectable": false
      }
     },
     "64a5b1f33217485ab4cfdd2b5cacd4d0": {
      "model_module": "jupyter-cytoscape",
      "model_module_version": "^1.3.3",
      "model_name": "NodeModel",
      "state": {
       "_model_module_version": "^1.3.3",
       "_view_module_version": "^1.3.3",
       "data": {
        "color": "gray",
        "id": "-2318498712959465226",
        "label": "intensity",
        "shape": "ellipse"
       },
       "grabbable": true,
       "grabbed": false,
       "selectable": false
      }
     },
     "6519d4b12a3445dea97b2b8d15e87a19": {
      "model_module": "jupyter-cytoscape",
      "model_module_version": "^1.3.3",
      "model_name": "EdgeModel",
      "state": {
       "_model_module_version": "^1.3.3",
       "_view_module_version": "^1.3.3",
       "classes": " directed ",
       "data": {
        "source": "-4026067495418712757",
        "target": "-5867077928345488197"
       },
       "selectable": false
      }
     },
     "65b3b7c34b5e4d2c8cdb2d24f110b4bd": {
      "model_module": "jupyter-cytoscape",
      "model_module_version": "^1.3.3",
      "model_name": "EdgeModel",
      "state": {
       "_model_module_version": "^1.3.3",
       "_view_module_version": "^1.3.3",
       "classes": " directed ",
       "data": {
        "source": "-1926447255996494242",
        "target": "-3744682022286834359"
       },
       "selectable": false
      }
     },
     "65b862d62a584977ac0e560ec991b5b5": {
      "model_module": "jupyter-cytoscape",
      "model_module_version": "^1.3.3",
      "model_name": "NodeModel",
      "state": {
       "_model_module_version": "^1.3.3",
       "_view_module_version": "^1.3.3",
       "data": {
        "color": "gray",
        "id": "-5401772616039244585",
        "label": "mean_chunk",
        "shape": "ellipse"
       },
       "grabbable": true,
       "grabbed": false,
       "selectable": false
      }
     },
     "65e01b4b42e642d485148319da4720bc": {
      "model_module": "jupyter-cytoscape",
      "model_module_version": "^1.3.3",
      "model_name": "EdgeModel",
      "state": {
       "_model_module_version": "^1.3.3",
       "_view_module_version": "^1.3.3",
       "classes": " directed ",
       "data": {
        "source": "853475432809461818",
        "target": "-7346143339576425920"
       },
       "selectable": false
      }
     },
     "664a39837ff347ad8663d43279d81e49": {
      "model_module": "jupyter-cytoscape",
      "model_module_version": "^1.3.3",
      "model_name": "EdgeModel",
      "state": {
       "_model_module_version": "^1.3.3",
       "_view_module_version": "^1.3.3",
       "classes": " directed ",
       "data": {
        "source": "4667991964226427698",
        "target": "-600270807562413883"
       },
       "selectable": false
      }
     },
     "66cc18a824d0453a82db85464f84845d": {
      "model_module": "jupyter-cytoscape",
      "model_module_version": "^1.3.3",
      "model_name": "EdgeModel",
      "state": {
       "_model_module_version": "^1.3.3",
       "_view_module_version": "^1.3.3",
       "classes": " directed ",
       "data": {
        "source": "-7390790663974642977",
        "target": "4250737589181367976"
       },
       "selectable": false
      }
     },
     "673ed884924d45e890c3362da839b72a": {
      "model_module": "jupyter-cytoscape",
      "model_module_version": "^1.3.3",
      "model_name": "EdgeModel",
      "state": {
       "_model_module_version": "^1.3.3",
       "_view_module_version": "^1.3.3",
       "classes": " directed ",
       "data": {
        "source": "-693068665782858830",
        "target": "-1614449508366707697"
       },
       "selectable": false
      }
     },
     "6791ae3047da4406bece9b161cba4f60": {
      "model_module": "jupyter-cytoscape",
      "model_module_version": "^1.3.3",
      "model_name": "NodeModel",
      "state": {
       "_model_module_version": "^1.3.3",
       "_view_module_version": "^1.3.3",
       "data": {
        "color": "gray",
        "id": "-2573528208698158691",
        "label": "",
        "shape": "rectangle"
       },
       "grabbable": true,
       "grabbed": false,
       "selectable": false
      }
     },
     "679d694335694f8aa41b1f11dd346e1b": {
      "model_module": "jupyter-cytoscape",
      "model_module_version": "^1.3.3",
      "model_name": "NodeModel",
      "state": {
       "_model_module_version": "^1.3.3",
       "_view_module_version": "^1.3.3",
       "data": {
        "color": "gray",
        "id": "2958316773410150143",
        "label": "0",
        "shape": "rectangle"
       },
       "grabbable": true,
       "grabbed": false,
       "selectable": false
      }
     },
     "67e1936db8f142209398760009bccb38": {
      "model_module": "jupyter-cytoscape",
      "model_module_version": "^1.3.3",
      "model_name": "NodeModel",
      "state": {
       "_model_module_version": "^1.3.3",
       "_view_module_version": "^1.3.3",
       "data": {
        "color": "gray",
        "id": "-2364576551562800772",
        "label": "frozen_phonon",
        "shape": "ellipse"
       },
       "grabbable": true,
       "grabbed": false,
       "selectable": false
      }
     },
     "67ee0e386ab24d9195439c77421a29e9": {
      "model_module": "jupyter-cytoscape",
      "model_module_version": "^1.3.3",
      "model_name": "EdgeModel",
      "state": {
       "_model_module_version": "^1.3.3",
       "_view_module_version": "^1.3.3",
       "classes": " directed ",
       "data": {
        "source": "-7346143339576425920",
        "target": "-5462731194043303418"
       },
       "selectable": false
      }
     },
     "67f805f427b54fdda89bb693ecb9e093": {
      "model_module": "jupyter-cytoscape",
      "model_module_version": "^1.3.3",
      "model_name": "EdgeModel",
      "state": {
       "_model_module_version": "^1.3.3",
       "_view_module_version": "^1.3.3",
       "classes": " directed ",
       "data": {
        "source": "-5586142694755555196",
        "target": "4592471500478139755"
       },
       "selectable": false
      }
     },
     "6829aeaf7edd4ec7b83cf9cb786c7919": {
      "model_module": "jupyter-cytoscape",
      "model_module_version": "^1.3.3",
      "model_name": "EdgeModel",
      "state": {
       "_model_module_version": "^1.3.3",
       "_view_module_version": "^1.3.3",
       "classes": " directed ",
       "data": {
        "source": "2644035846870505790",
        "target": "-8977348630230885471"
       },
       "selectable": false
      }
     },
     "683ab986f35340a8b526febda5b73fc0": {
      "model_module": "jupyter-cytoscape",
      "model_module_version": "^1.3.3",
      "model_name": "EdgeModel",
      "state": {
       "_model_module_version": "^1.3.3",
       "_view_module_version": "^1.3.3",
       "classes": " directed ",
       "data": {
        "source": "524951156334244113",
        "target": "-6646829093793065682"
       },
       "selectable": false
      }
     },
     "6852e1d54ee54cb99bd86f3bd06de6bc": {
      "model_module": "jupyter-cytoscape",
      "model_module_version": "^1.3.3",
      "model_name": "GraphModel",
      "state": {
       "_adj": {},
       "_model_module_version": "^1.3.3",
       "_view_module": "jupyter-cytoscape",
       "_view_module_version": "^1.3.3"
      }
     },
     "686cb4e112b046d2bf3f2b1be38f0673": {
      "model_module": "jupyter-cytoscape",
      "model_module_version": "^1.3.3",
      "model_name": "GraphModel",
      "state": {
       "_adj": {
        "-1226367335932640965": {
         "-8776769559527088828": 1
        },
        "-1454821431635411725": {
         "4776900485209766422": 1
        },
        "-1800958231532078890": {
         "6825927405394541791": 1
        },
        "-2297275566705832746": {
         "-1226367335932640965": 1
        },
        "-2573528208698158691": {
         "6826270806708122017": 1
        },
        "-3366324276772900629": {
         "4543517768215573707": 1
        },
        "-3915436992879133533": {
         "-6553637324542115266": 1
        },
        "-4756616172800127912": {
         "6682166873657082499": 1
        },
        "-5769699360084664581": {
         "4423224545294134894": 1
        },
        "-6553637324542115266": {},
        "-6646829093793065682": {
         "7143069633224236115": 1
        },
        "-6680118790443633764": {
         "7876181867568370685": 1
        },
        "-7162202832397786769": {
         "-4756616172800127912": 1
        },
        "-8776769559527088828": {
         "7642245102610051772": 1
        },
        "-8980786544197403048": {
         "7077065919116520802": 1
        },
        "174526117555084074": {
         "5455551797699507121": 1
        },
        "2587405991069435440": {},
        "2958316773410150143": {
         "-1800958231532078890": 1
        },
        "3162333758080464363": {
         "8446372007758624814": 1
        },
        "3537663541289573858": {
         "-3366324276772900629": 1
        },
        "4423224545294134894": {
         "-6680118790443633764": 1
        },
        "4543517768215573707": {
         "-7162202832397786769": 1
        },
        "4730913378417847910": {},
        "4776900485209766422": {
         "6605405690337731129": 1
        },
        "4785411436509375566": {
         "3537663541289573858": 1
        },
        "524951156334244113": {
         "-6646829093793065682": 1
        },
        "5455551797699507121": {
         "2587405991069435440": 1
        },
        "6605405690337731129": {
         "174526117555084074": 1
        },
        "6682166873657082499": {
         "-3915436992879133533": 1
        },
        "6825927405394541791": {},
        "6826270806708122017": {
         "-2297275566705832746": 1
        },
        "7077065919116520802": {
         "4730913378417847910": 1
        },
        "7143069633224236115": {
         "-1454821431635411725": 1
        },
        "7642245102610051772": {
         "-8980786544197403048": 1
        },
        "7876181867568370685": {
         "3162333758080464363": 1
        },
        "8446372007758624814": {
         "2958316773410150143": 1
        }
       },
       "_model_module_version": "^1.3.3",
       "_view_module": "jupyter-cytoscape",
       "_view_module_version": "^1.3.3",
       "edges": [
        "IPY_MODEL_4297930d029e4bddb9972d129dd59a8b",
        "IPY_MODEL_3d0aec48fe3242d4a2b8519099a369af",
        "IPY_MODEL_271fe83a2488449fb21c2da5e201a798",
        "IPY_MODEL_452b3fb3f0474c5d821fdbb1c96c894a",
        "IPY_MODEL_a212e7973f634f90ab97775d02abb002",
        "IPY_MODEL_ab636f135b0441f6a9c522bf8fb97365",
        "IPY_MODEL_e7bbbbe195184865be397b5ce3a7392b",
        "IPY_MODEL_caca1d0212364efd8b717ad2d2ef1b58",
        "IPY_MODEL_800368d9f2c44762a844c679a17be740",
        "IPY_MODEL_96c660a1a8274f39a1ee356266a248d2",
        "IPY_MODEL_0124e100b6d14d3880a734df620b1e61",
        "IPY_MODEL_014a0a9a67b44d1a9a44135df4afe533",
        "IPY_MODEL_050a51d6c89e47cc91923d12fab3e6d6",
        "IPY_MODEL_74ba40fc74a3439eb949f46ea33739f1",
        "IPY_MODEL_9be629b2f4b7464ba432094c5125c9d9",
        "IPY_MODEL_6f6a28e3c4f74649afe0823dffd80780",
        "IPY_MODEL_47c25e213a584a05baaa225675944629",
        "IPY_MODEL_01c44cbd78b74f6cb76822af27275118",
        "IPY_MODEL_f676d3688162441dbd3633b377c746f2",
        "IPY_MODEL_fe8cf45766ba48f582e78576f27a2ab6",
        "IPY_MODEL_d3d68afdb4d545cbaf07922ca9ae6df1",
        "IPY_MODEL_0d48cab73fd74ae0b28c61001a2ce4be",
        "IPY_MODEL_57c5d43bcdf640e097e17b9dae0b0c09",
        "IPY_MODEL_c9c21d98deb444c4b75a36fc72816620",
        "IPY_MODEL_127bc045472a4286b41ce84c1e218546",
        "IPY_MODEL_f10267d45b61490591ab8ebcaa46ae1a",
        "IPY_MODEL_fc4eb390206049f4811f821daf2bea0c",
        "IPY_MODEL_91db21ad3fa346a6999d90131576ca99",
        "IPY_MODEL_56dc615915b44bc9a4f5f4314e422f18",
        "IPY_MODEL_81be6c36962649d886e40ead89a3327b",
        "IPY_MODEL_5ef0c172bc484abda3b17365ce781fec",
        "IPY_MODEL_9e80dd3ab0be4a0892b2a42115c636e9"
       ],
       "nodes": [
        "IPY_MODEL_987d71e79e114cd6ac6c1a06bbac52d3",
        "IPY_MODEL_d19661fe73114597bbf348c27632df68",
        "IPY_MODEL_092a3c4867f042d283378e5962b4d1b4",
        "IPY_MODEL_e685bf63bb2f473ab6b3babf44d40b40",
        "IPY_MODEL_fbc9ffda61af4d98ab58609017ae92b3",
        "IPY_MODEL_5da5f8bad72347eb9f668ad000c988b7",
        "IPY_MODEL_a74f816c40fe448f8471decc582374d4",
        "IPY_MODEL_6b3d313bef9546d4860d81f3c337e702",
        "IPY_MODEL_923117bf5c5e407387459f988ca52997",
        "IPY_MODEL_c92ec7428ac84f64b0cad337e36d0d67",
        "IPY_MODEL_801b7bcc9f09459f981a612691e4722d",
        "IPY_MODEL_c7736db425a649d1a48057e503a37640",
        "IPY_MODEL_d6854accf4f5431baead3ce61d880786",
        "IPY_MODEL_965ecae4ebe046c4b955c3613c224504",
        "IPY_MODEL_061241fae433462793eb0613783adef8",
        "IPY_MODEL_a53b5456bd7a4391b2d1f7eac86ae55b",
        "IPY_MODEL_bd384fb0a0844a25b38116b90539f8d6",
        "IPY_MODEL_508b1df9cea9426aa55c26bfe27a4ab3",
        "IPY_MODEL_f90b8ebffb254407b2b3a959f54286e4",
        "IPY_MODEL_e2e5970559eb491f9841b66396f427c2",
        "IPY_MODEL_44cb9c2d106e405196364629a3fff30a",
        "IPY_MODEL_c700ab658e5f4c529e0c37e9b8d90fef",
        "IPY_MODEL_ede1252eb10e4928a95033fc64ad46a7",
        "IPY_MODEL_814864723a0547d68f9520a17611dbee",
        "IPY_MODEL_71c4bfe30dc94fcdbd26f03085ba4a83",
        "IPY_MODEL_2cbf321f6ef64dfb95860f34b4aa4dcb",
        "IPY_MODEL_c5aa84ed35b2459aa1cbf7b73c1e8dd3",
        "IPY_MODEL_083eb2376cd74819adcc741e850c1819",
        "IPY_MODEL_c06679d9bde44f31a6793697e42b810d",
        "IPY_MODEL_96ff59971b3e4c02b06eb86857eee785",
        "IPY_MODEL_d8ecf40100e74f4a9e6f27bf4e6730ac",
        "IPY_MODEL_2571b740ce0e465a8bb136e3ab750cb9",
        "IPY_MODEL_6265bc1ac8324cdfaf642559c1b66855",
        "IPY_MODEL_c60b6ca280c74042a1e0236b478982ac",
        "IPY_MODEL_95fbdcac965e43bb9b8628ceb56667e6",
        "IPY_MODEL_63a4a5d9d0614be481f562ed337034b5"
       ]
      }
     },
     "68babd548afa4718a90f39ed6add737f": {
      "model_module": "jupyter-cytoscape",
      "model_module_version": "^1.3.3",
      "model_name": "NodeModel",
      "state": {
       "_model_module_version": "^1.3.3",
       "_view_module_version": "^1.3.3",
       "data": {
        "color": "gray",
        "id": "-3915436992879133533",
        "label": "extract_measurement",
        "shape": "ellipse"
       },
       "grabbable": true,
       "grabbed": false,
       "selectable": false
      }
     },
     "68e02a38d72f423584eb45eeb3384012": {
      "model_module": "jupyter-cytoscape",
      "model_module_version": "^1.3.3",
      "model_name": "NodeModel",
      "state": {
       "_model_module_version": "^1.3.3",
       "_view_module_version": "^1.3.3",
       "data": {
        "color": "gray",
        "id": "-2316132916475259725",
        "label": "0",
        "shape": "rectangle"
       },
       "grabbable": true,
       "grabbed": false,
       "selectable": false
      }
     },
     "68ece7800fb64088a9eba1b82b7f6187": {
      "model_module": "jupyter-cytoscape",
      "model_module_version": "^1.3.3",
      "model_name": "NodeModel",
      "state": {
       "_model_module_version": "^1.3.3",
       "_view_module_version": "^1.3.3",
       "data": {
        "color": "gray",
        "id": "6961277806433087080",
        "label": "",
        "shape": "rectangle"
       },
       "grabbable": true,
       "grabbed": false,
       "selectable": false
      }
     },
     "69bffa48fc60400b89ac920cedf3dd92": {
      "model_module": "jupyter-cytoscape",
      "model_module_version": "^1.3.3",
      "model_name": "EdgeModel",
      "state": {
       "_model_module_version": "^1.3.3",
       "_view_module_version": "^1.3.3",
       "classes": " directed ",
       "data": {
        "source": "-8980786544197403048",
        "target": "7077065919116520802"
       },
       "selectable": false
      }
     },
     "69e7b918835d4dad8ef9bf4ff50445ae": {
      "model_module": "jupyter-cytoscape",
      "model_module_version": "^1.3.3",
      "model_name": "EdgeModel",
      "state": {
       "_model_module_version": "^1.3.3",
       "_view_module_version": "^1.3.3",
       "classes": " directed ",
       "data": {
        "source": "986871968531529739",
        "target": "-6732201961792966662"
       },
       "selectable": false
      }
     },
     "6a6e5e26901d4ada944e42b29e16a547": {
      "model_module": "jupyter-cytoscape",
      "model_module_version": "^1.3.3",
      "model_name": "GraphModel",
      "state": {
       "_adj": {
        "-1226367335932640965": {
         "-8776769559527088828": 1
        },
        "-1454821431635411725": {
         "4776900485209766422": 1
        },
        "-1800958231532078890": {
         "6825927405394541791": 1
        },
        "-2297275566705832746": {
         "-1226367335932640965": 1
        },
        "-2573528208698158691": {
         "6826270806708122017": 1
        },
        "-3366324276772900629": {
         "4543517768215573707": 1
        },
        "-3915436992879133533": {
         "-6553637324542115266": 1
        },
        "-4756616172800127912": {
         "6682166873657082499": 1
        },
        "-5769699360084664581": {
         "4423224545294134894": 1
        },
        "-6553637324542115266": {},
        "-6646829093793065682": {
         "7143069633224236115": 1
        },
        "-6680118790443633764": {
         "7876181867568370685": 1
        },
        "-7162202832397786769": {
         "-4756616172800127912": 1
        },
        "-8776769559527088828": {
         "7642245102610051772": 1
        },
        "-8980786544197403048": {
         "7077065919116520802": 1
        },
        "174526117555084074": {
         "5455551797699507121": 1
        },
        "2587405991069435440": {},
        "2958316773410150143": {
         "-1800958231532078890": 1
        },
        "3162333758080464363": {
         "8446372007758624814": 1
        },
        "3537663541289573858": {
         "-3366324276772900629": 1
        },
        "4423224545294134894": {
         "-6680118790443633764": 1
        },
        "4543517768215573707": {
         "-7162202832397786769": 1
        },
        "4730913378417847910": {},
        "4776900485209766422": {
         "6605405690337731129": 1
        },
        "4785411436509375566": {
         "3537663541289573858": 1
        },
        "524951156334244113": {
         "-6646829093793065682": 1
        },
        "5455551797699507121": {
         "2587405991069435440": 1
        },
        "6605405690337731129": {
         "174526117555084074": 1
        },
        "6682166873657082499": {
         "-3915436992879133533": 1
        },
        "6825927405394541791": {},
        "6826270806708122017": {
         "-2297275566705832746": 1
        },
        "7077065919116520802": {
         "4730913378417847910": 1
        },
        "7143069633224236115": {
         "-1454821431635411725": 1
        },
        "7642245102610051772": {
         "-8980786544197403048": 1
        },
        "7876181867568370685": {
         "3162333758080464363": 1
        },
        "8446372007758624814": {
         "2958316773410150143": 1
        }
       },
       "_model_module_version": "^1.3.3",
       "_view_module": "jupyter-cytoscape",
       "_view_module_version": "^1.3.3",
       "edges": [
        "IPY_MODEL_a6a08ca8d2aa4a168ec40abe99f83439",
        "IPY_MODEL_227981fede7047b9b6af857d8723ad01",
        "IPY_MODEL_f970e737e55741029b1242906865e655",
        "IPY_MODEL_467dff452e5d4fbf8b38f3e70f9cdfa4",
        "IPY_MODEL_200bda0fe18e464b85150090cdfaace2",
        "IPY_MODEL_23c3022488ac4f6489f0c3ef2b822f27",
        "IPY_MODEL_922bcced677c42f1897454aeb0d9d1ef",
        "IPY_MODEL_079c532a11954e629934fefd8502c158",
        "IPY_MODEL_5dd64a924a714105a949f388a54db34f",
        "IPY_MODEL_a2812b96c4cd4d1fa772ade88c769045",
        "IPY_MODEL_1ea8091f3c5f43e58fac16216fd65b5c",
        "IPY_MODEL_683ab986f35340a8b526febda5b73fc0",
        "IPY_MODEL_1f896d8c73794aed9230e8b5f62ada9d",
        "IPY_MODEL_95320a999ba14de3ba07ce4bfc835ae1",
        "IPY_MODEL_7de30dc6380c4cceb62ffd7868343948",
        "IPY_MODEL_db62c46e8cb2413595a3754a32dac192",
        "IPY_MODEL_43266138c86b41cf83f9b8caf3ae091e",
        "IPY_MODEL_4f3a7dc9d2644da389ef489c07a5d5ab",
        "IPY_MODEL_3c8c587017044305bb6b826fa19667ae",
        "IPY_MODEL_6d6962f78a574efd8b8c62a99630f5a9",
        "IPY_MODEL_00b57e55a4c041e29c645f00cd9d50fd",
        "IPY_MODEL_6f3459f0d65341229b13ab3543336d3a",
        "IPY_MODEL_826bf7cdd6514d0b9b6762fd39ec6f70",
        "IPY_MODEL_a638761ea1a344a1a60c7c47ea9ac478",
        "IPY_MODEL_b4d5545ba2204ddfa030bf365c2288c1",
        "IPY_MODEL_8f6887fd99b8404193ddf6a9a8cf84ee",
        "IPY_MODEL_88ff5ce93b084350a95ce3acf7144494",
        "IPY_MODEL_69bffa48fc60400b89ac920cedf3dd92",
        "IPY_MODEL_42780b66e9674919b287aac554761899",
        "IPY_MODEL_3a241614356645518d08afbe78fc6996",
        "IPY_MODEL_b652decf12c046978fadf52d1897ccbb",
        "IPY_MODEL_030afa4346904d3b8878a8c682afb1af"
       ],
       "nodes": [
        "IPY_MODEL_dd00f7606bdf46b1b520d0adeb5ea03a",
        "IPY_MODEL_423e19fd94d34d9aa34f02d38c686bdf",
        "IPY_MODEL_975b93efd2074a75924da22f14ad877b",
        "IPY_MODEL_074ec91fbeac40b1a72f72c82d0c86cf",
        "IPY_MODEL_bf28cd2ee23b47549571e5cb504181cb",
        "IPY_MODEL_4567f395634f49d79ce4e9e703b6b1bb",
        "IPY_MODEL_05cb6a33932846d9b9ba34be09d5af05",
        "IPY_MODEL_458a8b4c9fea40eaa194f0a298ab7135",
        "IPY_MODEL_6791ae3047da4406bece9b161cba4f60",
        "IPY_MODEL_00faf62396b74c7092c0e5f0f6e2278d",
        "IPY_MODEL_be816ed204de4265accca3a0c94d31a8",
        "IPY_MODEL_0b4739552c8a487cb74a5a189c75c225",
        "IPY_MODEL_9955f347ef494237a0ad118ed6df5202",
        "IPY_MODEL_d7470abc966b4972986a16192efb7aba",
        "IPY_MODEL_f245f9133c04407ba9b29dab4a774b75",
        "IPY_MODEL_26c793bb92734938a7f0a614ceb2605d",
        "IPY_MODEL_9d3787acaf014413914de20db9f33ddb",
        "IPY_MODEL_7d514c51409c45afaf060e025869959d",
        "IPY_MODEL_78de6bfdf2af4cef8217385383413505",
        "IPY_MODEL_f910634af7824e7e8b8f8aa66c508c42",
        "IPY_MODEL_5ff482c0c3344b1d82e6412deef3b930",
        "IPY_MODEL_7355f451327a4670ba7fdd6421a3630f",
        "IPY_MODEL_affafddd2d224843a7a1c894b6e1ac5f",
        "IPY_MODEL_8ce5f76175934e02b42fec0b65631dc9",
        "IPY_MODEL_8415fea040b64df1a1bbc1716825ac00",
        "IPY_MODEL_8d3a723a62b147508b0dc0a61424afa9",
        "IPY_MODEL_d31a2b4d6fa142c4a74276cf3d40bff7",
        "IPY_MODEL_09d0ecf22df3416a830aee7e9acf2eaf",
        "IPY_MODEL_63cf25fa67dd43cea796fd7f8a3add87",
        "IPY_MODEL_49118f1fa9894045b6e16a319c5a53e6",
        "IPY_MODEL_349a720fe21a47f189ad34440c27f479",
        "IPY_MODEL_1daeb8b7ac2a4bf794bf9dae37898b97",
        "IPY_MODEL_88e6a3f121ee4aebb3b2dda00ce5e8e3",
        "IPY_MODEL_3b2dd45831224cddbffaba131ae3f25b",
        "IPY_MODEL_7f6d718e5ed44c9f9108351856c301e1",
        "IPY_MODEL_9b305327e23b42dba97535b108835c03"
       ]
      }
     },
     "6ada832e32324f899bb13e519b0a65da": {
      "model_module": "jupyter-cytoscape",
      "model_module_version": "^1.3.3",
      "model_name": "NodeModel",
      "state": {
       "_model_module_version": "^1.3.3",
       "_view_module_version": "^1.3.3",
       "data": {
        "color": "gray",
        "id": "-4026067495418712757",
        "label": "",
        "shape": "rectangle"
       },
       "grabbable": true,
       "grabbed": false,
       "selectable": false
      }
     },
     "6add98847f2941768abc9ddb949e0dbe": {
      "model_module": "jupyter-cytoscape",
      "model_module_version": "^1.3.3",
      "model_name": "EdgeModel",
      "state": {
       "_model_module_version": "^1.3.3",
       "_view_module_version": "^1.3.3",
       "classes": " directed ",
       "data": {
        "source": "-5769699360084664581",
        "target": "4423224545294134894"
       },
       "selectable": false
      }
     },
     "6b3d313bef9546d4860d81f3c337e702": {
      "model_module": "jupyter-cytoscape",
      "model_module_version": "^1.3.3",
      "model_name": "NodeModel",
      "state": {
       "_model_module_version": "^1.3.3",
       "_view_module_version": "^1.3.3",
       "data": {
        "color": "gray",
        "id": "7876181867568370685",
        "label": "0",
        "shape": "rectangle"
       },
       "grabbable": true,
       "grabbed": false,
       "selectable": false
      }
     },
     "6b42833621cd4dc8829231bf1ae1426e": {
      "model_module": "jupyter-cytoscape",
      "model_module_version": "^1.3.3",
      "model_name": "EdgeModel",
      "state": {
       "_model_module_version": "^1.3.3",
       "_view_module_version": "^1.3.3",
       "classes": " directed ",
       "data": {
        "source": "5455551797699507121",
        "target": "2587405991069435440"
       },
       "selectable": false
      }
     },
     "6be554b0ca08400db165a33984310665": {
      "model_module": "jupyter-cytoscape",
      "model_module_version": "^1.3.3",
      "model_name": "EdgeModel",
      "state": {
       "_model_module_version": "^1.3.3",
       "_view_module_version": "^1.3.3",
       "classes": " directed ",
       "data": {
        "source": "174526117555084074",
        "target": "5455551797699507121"
       },
       "selectable": false
      }
     },
     "6beefe9c4eeb4ee8b4c12fbd36e508c0": {
      "model_module": "jupyter-cytoscape",
      "model_module_version": "^1.3.3",
      "model_name": "NodeModel",
      "state": {
       "_model_module_version": "^1.3.3",
       "_view_module_version": "^1.3.3",
       "data": {
        "color": "gray",
        "id": "-4756616172800127912",
        "label": "build_waves_multislice_detect",
        "shape": "ellipse"
       },
       "grabbable": true,
       "grabbed": false,
       "selectable": false
      }
     },
     "6c23bb0189c943ebb6fc60e1789b1796": {
      "model_module": "jupyter-cytoscape",
      "model_module_version": "^1.3.3",
      "model_name": "EdgeModel",
      "state": {
       "_model_module_version": "^1.3.3",
       "_view_module_version": "^1.3.3",
       "classes": " directed ",
       "data": {
        "source": "8393120227172931531",
        "target": "7682358205353615673"
       },
       "selectable": false
      }
     },
     "6c608c392d14458fad3dcbc444e19a16": {
      "model_module": "jupyter-cytoscape",
      "model_module_version": "^1.3.3",
      "model_name": "EdgeModel",
      "state": {
       "_model_module_version": "^1.3.3",
       "_view_module_version": "^1.3.3",
       "classes": " directed ",
       "data": {
        "source": "5545040648842428692",
        "target": "-5378901075238311926"
       },
       "selectable": false
      }
     },
     "6c93f58ece8744b9a87bc0ced4756aab": {
      "model_module": "jupyter-cytoscape",
      "model_module_version": "^1.3.3",
      "model_name": "NodeModel",
      "state": {
       "_model_module_version": "^1.3.3",
       "_view_module_version": "^1.3.3",
       "data": {
        "color": "gray",
        "id": "-1800958231532078890",
        "label": "extract_measurement",
        "shape": "ellipse"
       },
       "grabbable": true,
       "grabbed": false,
       "selectable": false
      }
     },
     "6ccb1e55a16a40b0bd338b291af8b312": {
      "model_module": "jupyter-cytoscape",
      "model_module_version": "^1.3.3",
      "model_name": "NodeModel",
      "state": {
       "_model_module_version": "^1.3.3",
       "_view_module_version": "^1.3.3",
       "data": {
        "color": "gray",
        "id": "7682358205353615673",
        "label": "extract_measurement",
        "shape": "ellipse"
       },
       "grabbable": true,
       "grabbed": false,
       "selectable": false
      }
     },
     "6cf1769e361744ed8aa26bdbc11b7a54": {
      "model_module": "jupyter-cytoscape",
      "model_module_version": "^1.3.3",
      "model_name": "EdgeModel",
      "state": {
       "_model_module_version": "^1.3.3",
       "_view_module_version": "^1.3.3",
       "classes": " directed ",
       "data": {
        "source": "-8776769559527088828",
        "target": "7642245102610051772"
       },
       "selectable": false
      }
     },
     "6d6962f78a574efd8b8c62a99630f5a9": {
      "model_module": "jupyter-cytoscape",
      "model_module_version": "^1.3.3",
      "model_name": "EdgeModel",
      "state": {
       "_model_module_version": "^1.3.3",
       "_view_module_version": "^1.3.3",
       "classes": " directed ",
       "data": {
        "source": "-8776769559527088828",
        "target": "7642245102610051772"
       },
       "selectable": false
      }
     },
     "6e40dd4f944d414f870eb96c99e70f64": {
      "model_module": "jupyter-cytoscape",
      "model_module_version": "^1.3.3",
      "model_name": "NodeModel",
      "state": {
       "_model_module_version": "^1.3.3",
       "_view_module_version": "^1.3.3",
       "data": {
        "color": "gray",
        "id": "-7390790663974642977",
        "label": "extract_measurement",
        "shape": "ellipse"
       },
       "grabbable": true,
       "grabbed": false,
       "selectable": false
      }
     },
     "6e9cbbea8fc043cea04921f044dbdb4c": {
      "model_module": "jupyter-cytoscape",
      "model_module_version": "^1.3.3",
      "model_name": "EdgeModel",
      "state": {
       "_model_module_version": "^1.3.3",
       "_view_module_version": "^1.3.3",
       "classes": " directed ",
       "data": {
        "source": "-7162202832397786769",
        "target": "-4756616172800127912"
       },
       "selectable": false
      }
     },
     "6eb4672dbfb845ea9da0e0b4988207ff": {
      "model_module": "jupyter-cytoscape",
      "model_module_version": "^1.3.3",
      "model_name": "EdgeModel",
      "state": {
       "_model_module_version": "^1.3.3",
       "_view_module_version": "^1.3.3",
       "classes": " directed ",
       "data": {
        "source": "-3211400314611901149",
        "target": "7494512724633528164"
       },
       "selectable": false
      }
     },
     "6f0f36cb52714d0d9aabdfde625032bd": {
      "model_module": "jupyter-cytoscape",
      "model_module_version": "^1.3.3",
      "model_name": "NodeModel",
      "state": {
       "_model_module_version": "^1.3.3",
       "_view_module_version": "^1.3.3",
       "data": {
        "color": "gray",
        "id": "-1619741176236411359",
        "label": "",
        "shape": "rectangle"
       },
       "grabbable": true,
       "grabbed": false,
       "selectable": false
      }
     },
     "6f3459f0d65341229b13ab3543336d3a": {
      "model_module": "jupyter-cytoscape",
      "model_module_version": "^1.3.3",
      "model_name": "EdgeModel",
      "state": {
       "_model_module_version": "^1.3.3",
       "_view_module_version": "^1.3.3",
       "classes": " directed ",
       "data": {
        "source": "4776900485209766422",
        "target": "6605405690337731129"
       },
       "selectable": false
      }
     },
     "6f5420f06a3d48bab935fedfeabd56e6": {
      "model_module": "jupyter-cytoscape",
      "model_module_version": "^1.3.3",
      "model_name": "NodeModel",
      "state": {
       "_model_module_version": "^1.3.3",
       "_view_module_version": "^1.3.3",
       "data": {
        "color": "gray",
        "id": "-6834823497889879413",
        "label": "",
        "shape": "rectangle"
       },
       "grabbable": true,
       "grabbed": false,
       "selectable": false
      }
     },
     "6f5abc54272e4d30a71da96c889b19a8": {
      "model_module": "jupyter-cytoscape",
      "model_module_version": "^1.3.3",
      "model_name": "NodeModel",
      "state": {
       "_model_module_version": "^1.3.3",
       "_view_module_version": "^1.3.3",
       "data": {
        "color": "gray",
        "id": "-1454821431635411725",
        "label": "0",
        "shape": "rectangle"
       },
       "grabbable": true,
       "grabbed": false,
       "selectable": false
      }
     },
     "6f6a28e3c4f74649afe0823dffd80780": {
      "model_module": "jupyter-cytoscape",
      "model_module_version": "^1.3.3",
      "model_name": "EdgeModel",
      "state": {
       "_model_module_version": "^1.3.3",
       "_view_module_version": "^1.3.3",
       "classes": " directed ",
       "data": {
        "source": "-3366324276772900629",
        "target": "4543517768215573707"
       },
       "selectable": false
      }
     },
     "6f7c8f50a3514376bfb477121147cd55": {
      "model_module": "jupyter-cytoscape",
      "model_module_version": "^1.3.3",
      "model_name": "NodeModel",
      "state": {
       "_model_module_version": "^1.3.3",
       "_view_module_version": "^1.3.3",
       "data": {
        "color": "gray",
        "id": "6825927405394541791",
        "label": "(0, 0, 0)",
        "shape": "rectangle"
       },
       "grabbable": true,
       "grabbed": false,
       "selectable": false
      }
     },
     "7069db77945e44c5980f373857658ec0": {
      "model_module": "jupyter-cytoscape",
      "model_module_version": "^1.3.3",
      "model_name": "EdgeModel",
      "state": {
       "_model_module_version": "^1.3.3",
       "_view_module_version": "^1.3.3",
       "classes": " directed ",
       "data": {
        "source": "7077065919116520802",
        "target": "4730913378417847910"
       },
       "selectable": false
      }
     },
     "707403d566884f2aa2eb5399276b4799": {
      "model_module": "jupyter-cytoscape",
      "model_module_version": "^1.3.3",
      "model_name": "EdgeModel",
      "state": {
       "_model_module_version": "^1.3.3",
       "_view_module_version": "^1.3.3",
       "classes": " directed ",
       "data": {
        "source": "3873888304921363141",
        "target": "-8369933350610621265"
       },
       "selectable": false
      }
     },
     "70e949548f074861bb3a87cfb68a37f8": {
      "model_module": "jupyter-cytoscape",
      "model_module_version": "^1.3.3",
      "model_name": "NodeModel",
      "state": {
       "_model_module_version": "^1.3.3",
       "_view_module_version": "^1.3.3",
       "data": {
        "color": "gray",
        "id": "7876181867568370685",
        "label": "0",
        "shape": "rectangle"
       },
       "grabbable": true,
       "grabbed": false,
       "selectable": false
      }
     },
     "70ed56a78732432380e597e83a1ac51a": {
      "model_module": "jupyter-cytoscape",
      "model_module_version": "^1.3.3",
      "model_name": "NodeModel",
      "state": {
       "_model_module_version": "^1.3.3",
       "_view_module_version": "^1.3.3",
       "data": {
        "color": "gray",
        "id": "-1614449508366707697",
        "label": "build_waves_multislice_detect",
        "shape": "ellipse"
       },
       "grabbable": true,
       "grabbed": false,
       "selectable": false
      }
     },
     "71c4bfe30dc94fcdbd26f03085ba4a83": {
      "model_module": "jupyter-cytoscape",
      "model_module_version": "^1.3.3",
      "model_name": "NodeModel",
      "state": {
       "_model_module_version": "^1.3.3",
       "_view_module_version": "^1.3.3",
       "data": {
        "color": "gray",
        "id": "6605405690337731129",
        "label": "build_waves_multislice_detect",
        "shape": "ellipse"
       },
       "grabbable": true,
       "grabbed": false,
       "selectable": false
      }
     },
     "71cadaf8a13e4f1b83edd77f6cd1e336": {
      "model_module": "jupyter-cytoscape",
      "model_module_version": "^1.3.3",
      "model_name": "NodeModel",
      "state": {
       "_model_module_version": "^1.3.3",
       "_view_module_version": "^1.3.3",
       "data": {
        "color": "gray",
        "id": "8138385170844379238",
        "label": "",
        "shape": "rectangle"
       },
       "grabbable": true,
       "grabbed": false,
       "selectable": false
      }
     },
     "71e27fa349124f89aa736f63c21ef084": {
      "model_module": "jupyter-cytoscape",
      "model_module_version": "^1.3.3",
      "model_name": "NodeModel",
      "state": {
       "_model_module_version": "^1.3.3",
       "_view_module_version": "^1.3.3",
       "data": {
        "color": "gray",
        "id": "-6646829093793065682",
        "label": "frozen_phonon",
        "shape": "ellipse"
       },
       "grabbable": true,
       "grabbed": false,
       "selectable": false
      }
     },
     "72ec831c20af4f61a6bedf4ecc84df46": {
      "model_module": "jupyter-cytoscape",
      "model_module_version": "^1.3.3",
      "model_name": "NodeModel",
      "state": {
       "_model_module_version": "^1.3.3",
       "_view_module_version": "^1.3.3",
       "data": {
        "color": "gray",
        "id": "5174968986753358098",
        "label": "mean_chunk",
        "shape": "ellipse"
       },
       "grabbable": true,
       "grabbed": false,
       "selectable": false
      }
     },
     "734ba547a41d429f8c4aba3dacea968c": {
      "model_module": "jupyter-cytoscape",
      "model_module_version": "^1.3.3",
      "model_name": "EdgeModel",
      "state": {
       "_model_module_version": "^1.3.3",
       "_view_module_version": "^1.3.3",
       "classes": " directed ",
       "data": {
        "source": "-6680118790443633764",
        "target": "7876181867568370685"
       },
       "selectable": false
      }
     },
     "7355f451327a4670ba7fdd6421a3630f": {
      "model_module": "jupyter-cytoscape",
      "model_module_version": "^1.3.3",
      "model_name": "NodeModel",
      "state": {
       "_model_module_version": "^1.3.3",
       "_view_module_version": "^1.3.3",
       "data": {
        "color": "gray",
        "id": "2958316773410150143",
        "label": "0",
        "shape": "rectangle"
       },
       "grabbable": true,
       "grabbed": false,
       "selectable": false
      }
     },
     "73c39fa9f4674d0881116aa44c2bfa22": {
      "model_module": "jupyter-cytoscape",
      "model_module_version": "^1.3.3",
      "model_name": "EdgeModel",
      "state": {
       "_model_module_version": "^1.3.3",
       "_view_module_version": "^1.3.3",
       "classes": " directed ",
       "data": {
        "source": "-178667058722831183",
        "target": "-7390790663974642977"
       },
       "selectable": false
      }
     },
     "742f212dd4ee4bc78d304b446ffb0a14": {
      "model_module": "jupyter-cytoscape",
      "model_module_version": "^1.3.3",
      "model_name": "NodeModel",
      "state": {
       "_model_module_version": "^1.3.3",
       "_view_module_version": "^1.3.3",
       "data": {
        "color": "gray",
        "id": "290872309041397457",
        "label": "(1, 0, 0)",
        "shape": "rectangle"
       },
       "grabbable": true,
       "grabbed": false,
       "selectable": false
      }
     },
     "744aa64a0d314e468ba137c6d0b993d2": {
      "model_module": "jupyter-cytoscape",
      "model_module_version": "^1.3.3",
      "model_name": "EdgeModel",
      "state": {
       "_model_module_version": "^1.3.3",
       "_view_module_version": "^1.3.3",
       "classes": " directed ",
       "data": {
        "source": "-3915436992879133533",
        "target": "-6553637324542115266"
       },
       "selectable": false
      }
     },
     "74ae29e316bb4ca28e29bc569e2f8ac9": {
      "model_module": "jupyter-cytoscape",
      "model_module_version": "^1.3.3",
      "model_name": "NodeModel",
      "state": {
       "_model_module_version": "^1.3.3",
       "_view_module_version": "^1.3.3",
       "data": {
        "color": "gray",
        "id": "-678342980587649050",
        "label": "(1, 0, 0)",
        "shape": "rectangle"
       },
       "grabbable": true,
       "grabbed": false,
       "selectable": false
      }
     },
     "74ba40fc74a3439eb949f46ea33739f1": {
      "model_module": "jupyter-cytoscape",
      "model_module_version": "^1.3.3",
      "model_name": "EdgeModel",
      "state": {
       "_model_module_version": "^1.3.3",
       "_view_module_version": "^1.3.3",
       "classes": " directed ",
       "data": {
        "source": "3537663541289573858",
        "target": "-3366324276772900629"
       },
       "selectable": false
      }
     },
     "74e0edd210b54be3bf3610fe1c6af954": {
      "model_module": "jupyter-cytoscape",
      "model_module_version": "^1.3.3",
      "model_name": "EdgeModel",
      "state": {
       "_model_module_version": "^1.3.3",
       "_view_module_version": "^1.3.3",
       "classes": " directed ",
       "data": {
        "source": "-693068665782858830",
        "target": "-1614449508366707697"
       },
       "selectable": false
      }
     },
     "757feef1cddf49f391a2018692b48bb1": {
      "model_module": "jupyter-cytoscape",
      "model_module_version": "^1.3.3",
      "model_name": "EdgeModel",
      "state": {
       "_model_module_version": "^1.3.3",
       "_view_module_version": "^1.3.3",
       "classes": " directed ",
       "data": {
        "source": "-6553637324542115266",
        "target": "5573658241717172992"
       },
       "selectable": false
      }
     },
     "759268409cf048e491513fbbf43a9176": {
      "model_module": "jupyter-cytoscape",
      "model_module_version": "^1.3.3",
      "model_name": "NodeModel",
      "state": {
       "_model_module_version": "^1.3.3",
       "_view_module_version": "^1.3.3",
       "data": {
        "color": "gray",
        "id": "5455551797699507121",
        "label": "extract_measurement",
        "shape": "ellipse"
       },
       "grabbable": true,
       "grabbed": false,
       "selectable": false
      }
     },
     "75bbb0f5c8974948bb575c21d5bc6975": {
      "model_module": "jupyter-cytoscape",
      "model_module_version": "^1.3.3",
      "model_name": "NodeModel",
      "state": {
       "_model_module_version": "^1.3.3",
       "_view_module_version": "^1.3.3",
       "data": {
        "color": "gray",
        "id": "3116987505309528548",
        "label": "0",
        "shape": "rectangle"
       },
       "grabbable": true,
       "grabbed": false,
       "selectable": false
      }
     },
     "75f54a80bade4f4db944fc63b1cb36fa": {
      "model_module": "jupyter-cytoscape",
      "model_module_version": "^1.3.3",
      "model_name": "NodeModel",
      "state": {
       "_model_module_version": "^1.3.3",
       "_view_module_version": "^1.3.3",
       "data": {
        "color": "gray",
        "id": "2958316773410150143",
        "label": "0",
        "shape": "rectangle"
       },
       "grabbable": true,
       "grabbed": false,
       "selectable": false
      }
     },
     "7632aa291fe3408f85e90ec132492d2b": {
      "model_module": "jupyter-cytoscape",
      "model_module_version": "^1.3.3",
      "model_name": "CytoscapeModel",
      "state": {
       "_interaction_handlers": {},
       "_model_module_version": "^1.3.3",
       "_view_module_version": "^1.3.3",
       "auto_ungrabify": false,
       "autolock": false,
       "cytoscape_layout": {
        "edgeSep": 10,
        "name": "dagre",
        "nodeDimensionsIncludeLabels": true,
        "nodeSep": 10,
        "rankDir": "BT",
        "spacingFactor": 1
       },
       "cytoscape_style": [
        {
         "selector": "node",
         "style": {
          "background-color": "#eee",
          "border-color": "data(color)",
          "border-width": 4,
          "color": "black",
          "font-family": "helvetica",
          "font-size": "24px",
          "font-weight": "bold",
          "height": 64,
          "label": "data(label)",
          "opacity": "1.0",
          "shape": "data(shape)",
          "text-halign": "center",
          "text-valign": "center",
          "width": 64
         }
        },
        {
         "selector": "edge",
         "style": {
          "curve-style": "bezier",
          "line-color": "gray",
          "target-arrow-color": "gray",
          "target-arrow-shape": "triangle",
          "width": 8
         }
        }
       ],
       "desktop_tap_threshold": 4,
       "graph": "IPY_MODEL_6a6e5e26901d4ada944e42b29e16a547",
       "headless": false,
       "hide_edges_on_viewport": false,
       "layout": "IPY_MODEL_cd06ef297d8f42e7861214f536784915",
       "max_zoom": 4,
       "min_zoom": 0.2,
       "motion_blur": false,
       "motion_blur_opacity": 0.2,
       "panning_enabled": true,
       "pixel_ratio": "auto",
       "rendered_position": {
        "renderedPosition": {
         "x": 100,
         "y": 100
        }
       },
       "selection_type": "single",
       "style_enabled": true,
       "texture_on_viewport": false,
       "tooltip_source": "tooltip",
       "touch_tap_threshold": 8,
       "user_panning_enabled": true,
       "user_zooming_enabled": true,
       "wheel_sensitivity": 0.1,
       "zoom": 2,
       "zooming_enabled": true
      }
     },
     "76429cde0c09457aa34a4700dfc147b9": {
      "model_module": "jupyter-cytoscape",
      "model_module_version": "^1.3.3",
      "model_name": "NodeModel",
      "state": {
       "_model_module_version": "^1.3.3",
       "_view_module_version": "^1.3.3",
       "data": {
        "color": "gray",
        "id": "3162333758080464363",
        "label": "0",
        "shape": "rectangle"
       },
       "grabbable": true,
       "grabbed": false,
       "selectable": false
      }
     },
     "768a8ba1ad224ed8bc9858a2c7f88711": {
      "model_module": "jupyter-cytoscape",
      "model_module_version": "^1.3.3",
      "model_name": "EdgeModel",
      "state": {
       "_model_module_version": "^1.3.3",
       "_view_module_version": "^1.3.3",
       "classes": " directed ",
       "data": {
        "source": "-678342980587649050",
        "target": "8307019125499461979"
       },
       "selectable": false
      }
     },
     "76bcc5ffaf5f4fa2ab30cbc113d5bb65": {
      "model_module": "jupyter-cytoscape",
      "model_module_version": "^1.3.3",
      "model_name": "NodeModel",
      "state": {
       "_model_module_version": "^1.3.3",
       "_view_module_version": "^1.3.3",
       "data": {
        "color": "gray",
        "id": "5380259335186057991",
        "label": "frozen_phonon",
        "shape": "ellipse"
       },
       "grabbable": true,
       "grabbed": false,
       "selectable": false
      }
     },
     "7711bf2c561a41368fd866c2e8680652": {
      "model_module": "jupyter-cytoscape",
      "model_module_version": "^1.3.3",
      "model_name": "NodeModel",
      "state": {
       "_model_module_version": "^1.3.3",
       "_view_module_version": "^1.3.3",
       "data": {
        "color": "gray",
        "id": "-7545445052505860528",
        "label": "intensity",
        "shape": "ellipse"
       },
       "grabbable": true,
       "grabbed": false,
       "selectable": false
      }
     },
     "776326ba62a24842bd89953c76ab2523": {
      "model_module": "jupyter-cytoscape",
      "model_module_version": "^1.3.3",
      "model_name": "NodeModel",
      "state": {
       "_model_module_version": "^1.3.3",
       "_view_module_version": "^1.3.3",
       "data": {
        "color": "gray",
        "id": "7143069633224236115",
        "label": "",
        "shape": "rectangle"
       },
       "grabbable": true,
       "grabbed": false,
       "selectable": false
      }
     },
     "776cb65bdc6c4ceb9e95daf5b7ed649a": {
      "model_module": "jupyter-cytoscape",
      "model_module_version": "^1.3.3",
      "model_name": "EdgeModel",
      "state": {
       "_model_module_version": "^1.3.3",
       "_view_module_version": "^1.3.3",
       "classes": " directed ",
       "data": {
        "source": "524951156334244113",
        "target": "-6646829093793065682"
       },
       "selectable": false
      }
     },
     "77b50b98a9cc443482277a1ba300189e": {
      "model_module": "jupyter-cytoscape",
      "model_module_version": "^1.3.3",
      "model_name": "NodeModel",
      "state": {
       "_model_module_version": "^1.3.3",
       "_view_module_version": "^1.3.3",
       "data": {
        "color": "gray",
        "id": "-6646829093793065682",
        "label": "frozen_phonon",
        "shape": "ellipse"
       },
       "grabbable": true,
       "grabbed": false,
       "selectable": false
      }
     },
     "77f8609f71204561937c4be56e63caf0": {
      "model_module": "jupyter-cytoscape",
      "model_module_version": "^1.3.3",
      "model_name": "EdgeModel",
      "state": {
       "_model_module_version": "^1.3.3",
       "_view_module_version": "^1.3.3",
       "classes": " directed ",
       "data": {
        "source": "6826270806708122017",
        "target": "-2297275566705832746"
       },
       "selectable": false
      }
     },
     "78c237d858614301bc50c043e8782d4f": {
      "model_module": "jupyter-cytoscape",
      "model_module_version": "^1.3.3",
      "model_name": "EdgeModel",
      "state": {
       "_model_module_version": "^1.3.3",
       "_view_module_version": "^1.3.3",
       "classes": " directed ",
       "data": {
        "source": "4596392545168703649",
        "target": "7001030414621609575"
       },
       "selectable": false
      }
     },
     "78de6bfdf2af4cef8217385383413505": {
      "model_module": "jupyter-cytoscape",
      "model_module_version": "^1.3.3",
      "model_name": "NodeModel",
      "state": {
       "_model_module_version": "^1.3.3",
       "_view_module_version": "^1.3.3",
       "data": {
        "color": "gray",
        "id": "-3366324276772900629",
        "label": "",
        "shape": "rectangle"
       },
       "grabbable": true,
       "grabbed": false,
       "selectable": false
      }
     },
     "7954a89928cb4ab6a1e1c6815cda5f8a": {
      "model_module": "jupyter-cytoscape",
      "model_module_version": "^1.3.3",
      "model_name": "NodeModel",
      "state": {
       "_model_module_version": "^1.3.3",
       "_view_module_version": "^1.3.3",
       "data": {
        "color": "gray",
        "id": "4250737589181367976",
        "label": "(2, 0, 0)",
        "shape": "rectangle"
       },
       "grabbable": true,
       "grabbed": false,
       "selectable": false
      }
     },
     "797244ac3d5a470b81c21bddafb4dbad": {
      "model_module": "jupyter-cytoscape",
      "model_module_version": "^1.3.3",
      "model_name": "NodeModel",
      "state": {
       "_model_module_version": "^1.3.3",
       "_view_module_version": "^1.3.3",
       "data": {
        "color": "gray",
        "id": "-6834823497889879413",
        "label": "",
        "shape": "rectangle"
       },
       "grabbable": true,
       "grabbed": false,
       "selectable": false
      }
     },
     "798b4ff0943d4dd9bf8c397ca0cac7fe": {
      "model_module": "jupyter-cytoscape",
      "model_module_version": "^1.3.3",
      "model_name": "EdgeModel",
      "state": {
       "_model_module_version": "^1.3.3",
       "_view_module_version": "^1.3.3",
       "classes": " directed ",
       "data": {
        "source": "-6553637324542115266",
        "target": "5573658241717172992"
       },
       "selectable": false
      }
     },
     "79a81bd3b540443588d595c53480097b": {
      "model_module": "jupyter-cytoscape",
      "model_module_version": "^1.3.3",
      "model_name": "NodeModel",
      "state": {
       "_model_module_version": "^1.3.3",
       "_view_module_version": "^1.3.3",
       "data": {
        "color": "gray",
        "id": "4002729701868916562",
        "label": "mean_chunk",
        "shape": "ellipse"
       },
       "grabbable": true,
       "grabbed": false,
       "selectable": false
      }
     },
     "79cba1d50cad4b5e835f3314bd28e7cf": {
      "model_module": "jupyter-cytoscape",
      "model_module_version": "^1.3.3",
      "model_name": "EdgeModel",
      "state": {
       "_model_module_version": "^1.3.3",
       "_view_module_version": "^1.3.3",
       "classes": " directed ",
       "data": {
        "source": "8759406085844506703",
        "target": "2589567504215382784"
       },
       "selectable": false
      }
     },
     "7a2bdf62c9074e68b0ab7fc6a12a5df3": {
      "model_module": "jupyter-cytoscape",
      "model_module_version": "^1.3.3",
      "model_name": "NodeModel",
      "state": {
       "_model_module_version": "^1.3.3",
       "_view_module_version": "^1.3.3",
       "data": {
        "color": "gray",
        "id": "-2297275566705832746",
        "label": "",
        "shape": "rectangle"
       },
       "grabbable": true,
       "grabbed": false,
       "selectable": false
      }
     },
     "7ae66d64c3cd43ea886a07a4bab0b2e5": {
      "model_module": "jupyter-cytoscape",
      "model_module_version": "^1.3.3",
      "model_name": "GraphModel",
      "state": {
       "_adj": {},
       "_model_module_version": "^1.3.3",
       "_view_module": "jupyter-cytoscape",
       "_view_module_version": "^1.3.3"
      }
     },
     "7ae7666a2e934b77ae10d13c6e586c7d": {
      "model_module": "jupyter-cytoscape",
      "model_module_version": "^1.3.3",
      "model_name": "NodeModel",
      "state": {
       "_model_module_version": "^1.3.3",
       "_view_module_version": "^1.3.3",
       "data": {
        "color": "gray",
        "id": "4785411436509375566",
        "label": "",
        "shape": "rectangle"
       },
       "grabbable": true,
       "grabbed": false,
       "selectable": false
      }
     },
     "7c3ba67e643e4210a23a25ca1eecfc37": {
      "model_module": "jupyter-cytoscape",
      "model_module_version": "^1.3.3",
      "model_name": "NodeModel",
      "state": {
       "_model_module_version": "^1.3.3",
       "_view_module_version": "^1.3.3",
       "data": {
        "color": "gray",
        "id": "-5402172458168361286",
        "label": "(3, 0, 0)",
        "shape": "rectangle"
       },
       "grabbable": true,
       "grabbed": false,
       "selectable": false
      }
     },
     "7cd8816a7d1943ea8847a9ee91a66644": {
      "model_module": "jupyter-cytoscape",
      "model_module_version": "^1.3.3",
      "model_name": "NodeModel",
      "state": {
       "_model_module_version": "^1.3.3",
       "_view_module_version": "^1.3.3",
       "data": {
        "color": "gray",
        "id": "-8036199778869199068",
        "label": "frozen_phonon",
        "shape": "ellipse"
       },
       "grabbable": true,
       "grabbed": false,
       "selectable": false
      }
     },
     "7d514c51409c45afaf060e025869959d": {
      "model_module": "jupyter-cytoscape",
      "model_module_version": "^1.3.3",
      "model_name": "NodeModel",
      "state": {
       "_model_module_version": "^1.3.3",
       "_view_module_version": "^1.3.3",
       "data": {
        "color": "gray",
        "id": "3537663541289573858",
        "label": "frozen_phonon",
        "shape": "ellipse"
       },
       "grabbable": true,
       "grabbed": false,
       "selectable": false
      }
     },
     "7d84fa6b15d6435ea68a4acc5d7d9b8a": {
      "model_module": "jupyter-cytoscape",
      "model_module_version": "^1.3.3",
      "model_name": "NodeModel",
      "state": {
       "_model_module_version": "^1.3.3",
       "_view_module_version": "^1.3.3",
       "data": {
        "color": "gray",
        "id": "-6732201961792966662",
        "label": "build_waves_multislice_detect",
        "shape": "ellipse"
       },
       "grabbable": true,
       "grabbed": false,
       "selectable": false
      }
     },
     "7dc2fc589f9f42a3b9625c235f4201ed": {
      "model_module": "jupyter-cytoscape",
      "model_module_version": "^1.3.3",
      "model_name": "NodeModel",
      "state": {
       "_model_module_version": "^1.3.3",
       "_view_module_version": "^1.3.3",
       "data": {
        "color": "gray",
        "id": "8316810078278059627",
        "label": "3",
        "shape": "rectangle"
       },
       "grabbable": true,
       "grabbed": false,
       "selectable": false
      }
     },
     "7de2355440504bc287ec0503bb18bd19": {
      "model_module": "jupyter-cytoscape",
      "model_module_version": "^1.3.3",
      "model_name": "EdgeModel",
      "state": {
       "_model_module_version": "^1.3.3",
       "_view_module_version": "^1.3.3",
       "classes": " directed ",
       "data": {
        "source": "2601438695660831798",
        "target": "-8573168279213860347"
       },
       "selectable": false
      }
     },
     "7de30dc6380c4cceb62ffd7868343948": {
      "model_module": "jupyter-cytoscape",
      "model_module_version": "^1.3.3",
      "model_name": "EdgeModel",
      "state": {
       "_model_module_version": "^1.3.3",
       "_view_module_version": "^1.3.3",
       "classes": " directed ",
       "data": {
        "source": "4785411436509375566",
        "target": "3537663541289573858"
       },
       "selectable": false
      }
     },
     "7e0265754b384c1ea6a46105dae25d1f": {
      "model_module": "jupyter-cytoscape",
      "model_module_version": "^1.3.3",
      "model_name": "NodeModel",
      "state": {
       "_model_module_version": "^1.3.3",
       "_view_module_version": "^1.3.3",
       "data": {
        "color": "gray",
        "id": "-3349036892622714455",
        "label": "frozen_phonon",
        "shape": "ellipse"
       },
       "grabbable": true,
       "grabbed": false,
       "selectable": false
      }
     },
     "7e1e613794be45919a02fb92dc4b739e": {
      "model_module": "jupyter-cytoscape",
      "model_module_version": "^1.3.3",
      "model_name": "EdgeModel",
      "state": {
       "_model_module_version": "^1.3.3",
       "_view_module_version": "^1.3.3",
       "classes": " directed ",
       "data": {
        "source": "2587405991069435440",
        "target": "6626835539378452860"
       },
       "selectable": false
      }
     },
     "7e63f6502e2349e7be7194dcd72ae489": {
      "model_module": "jupyter-cytoscape",
      "model_module_version": "^1.3.3",
      "model_name": "EdgeModel",
      "state": {
       "_model_module_version": "^1.3.3",
       "_view_module_version": "^1.3.3",
       "classes": " directed ",
       "data": {
        "source": "-6732201961792966662",
        "target": "-3141465719501951748"
       },
       "selectable": false
      }
     },
     "7eb3a6cc3c0944819e545366d2658a64": {
      "model_module": "jupyter-cytoscape",
      "model_module_version": "^1.3.3",
      "model_name": "NodeModel",
      "state": {
       "_model_module_version": "^1.3.3",
       "_view_module_version": "^1.3.3",
       "data": {
        "color": "gray",
        "id": "-3141465719501951748",
        "label": "0",
        "shape": "rectangle"
       },
       "grabbable": true,
       "grabbed": false,
       "selectable": false
      }
     },
     "7ee0406e026d476fa412680941c852ba": {
      "model_module": "jupyter-cytoscape",
      "model_module_version": "^1.3.3",
      "model_name": "EdgeModel",
      "state": {
       "_model_module_version": "^1.3.3",
       "_view_module_version": "^1.3.3",
       "classes": " directed ",
       "data": {
        "source": "6961277806433087080",
        "target": "-2316132916475259725"
       },
       "selectable": false
      }
     },
     "7ef3539c38f94fbf9bd3b51cd9d501f4": {
      "model_module": "jupyter-cytoscape",
      "model_module_version": "^1.3.3",
      "model_name": "NodeModel",
      "state": {
       "_model_module_version": "^1.3.3",
       "_view_module_version": "^1.3.3",
       "data": {
        "color": "gray",
        "id": "-3366324276772900629",
        "label": "",
        "shape": "rectangle"
       },
       "grabbable": true,
       "grabbed": false,
       "selectable": false
      }
     },
     "7ef507b65963419faded93cd3bfd6750": {
      "model_module": "jupyter-cytoscape",
      "model_module_version": "^1.3.3",
      "model_name": "EdgeModel",
      "state": {
       "_model_module_version": "^1.3.3",
       "_view_module_version": "^1.3.3",
       "classes": " directed ",
       "data": {
        "source": "3537663541289573858",
        "target": "-3366324276772900629"
       },
       "selectable": false
      }
     },
     "7f0cecb8e8b146d7ae4cc1c7145cae29": {
      "model_module": "jupyter-cytoscape",
      "model_module_version": "^1.3.3",
      "model_name": "EdgeModel",
      "state": {
       "_model_module_version": "^1.3.3",
       "_view_module_version": "^1.3.3",
       "classes": " directed ",
       "data": {
        "source": "-3765275123317388426",
        "target": "-5552045050792817289"
       },
       "selectable": false
      }
     },
     "7f6d718e5ed44c9f9108351856c301e1": {
      "model_module": "jupyter-cytoscape",
      "model_module_version": "^1.3.3",
      "model_name": "NodeModel",
      "state": {
       "_model_module_version": "^1.3.3",
       "_view_module_version": "^1.3.3",
       "data": {
        "color": "gray",
        "id": "-3915436992879133533",
        "label": "extract_measurement",
        "shape": "ellipse"
       },
       "grabbable": true,
       "grabbed": false,
       "selectable": false
      }
     },
     "800368d9f2c44762a844c679a17be740": {
      "model_module": "jupyter-cytoscape",
      "model_module_version": "^1.3.3",
      "model_name": "EdgeModel",
      "state": {
       "_model_module_version": "^1.3.3",
       "_view_module_version": "^1.3.3",
       "classes": " directed ",
       "data": {
        "source": "-2573528208698158691",
        "target": "6826270806708122017"
       },
       "selectable": false
      }
     },
     "801b7bcc9f09459f981a612691e4722d": {
      "model_module": "jupyter-cytoscape",
      "model_module_version": "^1.3.3",
      "model_name": "NodeModel",
      "state": {
       "_model_module_version": "^1.3.3",
       "_view_module_version": "^1.3.3",
       "data": {
        "color": "gray",
        "id": "-2297275566705832746",
        "label": "",
        "shape": "rectangle"
       },
       "grabbable": true,
       "grabbed": false,
       "selectable": false
      }
     },
     "804c4cef3a084aa885db894ec01b6dd3": {
      "model_module": "jupyter-cytoscape",
      "model_module_version": "^1.3.3",
      "model_name": "NodeModel",
      "state": {
       "_model_module_version": "^1.3.3",
       "_view_module_version": "^1.3.3",
       "data": {
        "color": "gray",
        "id": "8593372488160731357",
        "label": "(0, 0, 0)",
        "shape": "rectangle"
       },
       "grabbable": true,
       "grabbed": false,
       "selectable": false
      }
     },
     "809ee7c757714b1a9339c6f2d8e20f45": {
      "model_module": "jupyter-cytoscape",
      "model_module_version": "^1.3.3",
      "model_name": "NodeModel",
      "state": {
       "_model_module_version": "^1.3.3",
       "_view_module_version": "^1.3.3",
       "data": {
        "color": "gray",
        "id": "-610012787654801415",
        "label": "build_waves_multislice_detect",
        "shape": "ellipse"
       },
       "grabbable": true,
       "grabbed": false,
       "selectable": false
      }
     },
     "80d15597a61846ed83440c8a688d15f1": {
      "model_module": "jupyter-cytoscape",
      "model_module_version": "^1.3.3",
      "model_name": "NodeModel",
      "state": {
       "_model_module_version": "^1.3.3",
       "_view_module_version": "^1.3.3",
       "data": {
        "color": "gray",
        "id": "7457201218301179324",
        "label": "mean_chunk",
        "shape": "ellipse"
       },
       "grabbable": true,
       "grabbed": false,
       "selectable": false
      }
     },
     "810edb3a799147ebb53bdbe34e4e67cf": {
      "model_module": "jupyter-cytoscape",
      "model_module_version": "^1.3.3",
      "model_name": "NodeModel",
      "state": {
       "_model_module_version": "^1.3.3",
       "_view_module_version": "^1.3.3",
       "data": {
        "color": "gray",
        "id": "-6553637324542115266",
        "label": "(3, 0, 0)",
        "shape": "rectangle"
       },
       "grabbable": true,
       "grabbed": false,
       "selectable": false
      }
     },
     "810eec532e9e4551b134d9389983dc1b": {
      "model_module": "jupyter-cytoscape",
      "model_module_version": "^1.3.3",
      "model_name": "NodeModel",
      "state": {
       "_model_module_version": "^1.3.3",
       "_view_module_version": "^1.3.3",
       "data": {
        "color": "gray",
        "id": "2587405991069435440",
        "label": "(2, 0, 0)",
        "shape": "rectangle"
       },
       "grabbable": true,
       "grabbed": false,
       "selectable": false
      }
     },
     "811cc5cafb1440f19e2a65d1ad3944bc": {
      "model_module": "jupyter-cytoscape",
      "model_module_version": "^1.3.3",
      "model_name": "EdgeModel",
      "state": {
       "_model_module_version": "^1.3.3",
       "_view_module_version": "^1.3.3",
       "classes": " directed ",
       "data": {
        "source": "-5552045050792817289",
        "target": "7127962364535129780"
       },
       "selectable": false
      }
     },
     "813b3ac2fc1b4840a38507427054f5f6": {
      "model_module": "jupyter-cytoscape",
      "model_module_version": "^1.3.3",
      "model_name": "NodeModel",
      "state": {
       "_model_module_version": "^1.3.3",
       "_view_module_version": "^1.3.3",
       "data": {
        "color": "gray",
        "id": "7143069633224236115",
        "label": "",
        "shape": "rectangle"
       },
       "grabbable": true,
       "grabbed": false,
       "selectable": false
      }
     },
     "814864723a0547d68f9520a17611dbee": {
      "model_module": "jupyter-cytoscape",
      "model_module_version": "^1.3.3",
      "model_name": "NodeModel",
      "state": {
       "_model_module_version": "^1.3.3",
       "_view_module_version": "^1.3.3",
       "data": {
        "color": "gray",
        "id": "-8980786544197403048",
        "label": "1",
        "shape": "rectangle"
       },
       "grabbable": true,
       "grabbed": false,
       "selectable": false
      }
     },
     "81be6c36962649d886e40ead89a3327b": {
      "model_module": "jupyter-cytoscape",
      "model_module_version": "^1.3.3",
      "model_name": "EdgeModel",
      "state": {
       "_model_module_version": "^1.3.3",
       "_view_module_version": "^1.3.3",
       "classes": " directed ",
       "data": {
        "source": "174526117555084074",
        "target": "5455551797699507121"
       },
       "selectable": false
      }
     },
     "826bf7cdd6514d0b9b6762fd39ec6f70": {
      "model_module": "jupyter-cytoscape",
      "model_module_version": "^1.3.3",
      "model_name": "EdgeModel",
      "state": {
       "_model_module_version": "^1.3.3",
       "_view_module_version": "^1.3.3",
       "classes": " directed ",
       "data": {
        "source": "-4756616172800127912",
        "target": "6682166873657082499"
       },
       "selectable": false
      }
     },
     "8296d86a7dfd4401a2d4494630eb4f66": {
      "model_module": "jupyter-cytoscape",
      "model_module_version": "^1.3.3",
      "model_name": "NodeModel",
      "state": {
       "_model_module_version": "^1.3.3",
       "_view_module_version": "^1.3.3",
       "data": {
        "color": "gray",
        "id": "-452909014763226180",
        "label": "(0, 0, 0)",
        "shape": "rectangle"
       },
       "grabbable": true,
       "grabbed": false,
       "selectable": false
      }
     },
     "829742b6b75a4d6391529bfd58439c66": {
      "model_module": "jupyter-cytoscape",
      "model_module_version": "^1.3.3",
      "model_name": "NodeModel",
      "state": {
       "_model_module_version": "^1.3.3",
       "_view_module_version": "^1.3.3",
       "data": {
        "color": "gray",
        "id": "8895211512943915587",
        "label": "extract_measurement",
        "shape": "ellipse"
       },
       "grabbable": true,
       "grabbed": false,
       "selectable": false
      }
     },
     "82bc65f5fd92461a93ad197560d916ce": {
      "model_module": "jupyter-cytoscape",
      "model_module_version": "^1.3.3",
      "model_name": "NodeModel",
      "state": {
       "_model_module_version": "^1.3.3",
       "_view_module_version": "^1.3.3",
       "data": {
        "color": "gray",
        "id": "-1488446068642167772",
        "label": "build_waves_multislice_detect",
        "shape": "ellipse"
       },
       "grabbable": true,
       "grabbed": false,
       "selectable": false
      }
     },
     "82c17a47f8144e1e9bcdd501a51f21b5": {
      "model_module": "jupyter-cytoscape",
      "model_module_version": "^1.3.3",
      "model_name": "NodeModel",
      "state": {
       "_model_module_version": "^1.3.3",
       "_view_module_version": "^1.3.3",
       "data": {
        "color": "gray",
        "id": "-2985076271355479025",
        "label": "mean_chunk",
        "shape": "ellipse"
       },
       "grabbable": true,
       "grabbed": false,
       "selectable": false
      }
     },
     "83065103cab64e78acafc4d81e0309b5": {
      "model_module": "jupyter-cytoscape",
      "model_module_version": "^1.3.3",
      "model_name": "NodeModel",
      "state": {
       "_model_module_version": "^1.3.3",
       "_view_module_version": "^1.3.3",
       "data": {
        "color": "gray",
        "id": "-3765275123317388426",
        "label": "",
        "shape": "rectangle"
       },
       "grabbable": true,
       "grabbed": false,
       "selectable": false
      }
     },
     "831deef92e124fdeae8eee1b0d5f8aa3": {
      "model_module": "jupyter-cytoscape",
      "model_module_version": "^1.3.3",
      "model_name": "NodeModel",
      "state": {
       "_model_module_version": "^1.3.3",
       "_view_module_version": "^1.3.3",
       "data": {
        "color": "gray",
        "id": "8759406085844506703",
        "label": "",
        "shape": "rectangle"
       },
       "grabbable": true,
       "grabbed": false,
       "selectable": false
      }
     },
     "8370934d8997489cb6b8deeb9fa030ad": {
      "model_module": "jupyter-cytoscape",
      "model_module_version": "^1.3.3",
      "model_name": "EdgeModel",
      "state": {
       "_model_module_version": "^1.3.3",
       "_view_module_version": "^1.3.3",
       "classes": " directed ",
       "data": {
        "source": "-5402172458168361286",
        "target": "-3744682022286834359"
       },
       "selectable": false
      }
     },
     "83829974288a418594edf4253a1df18a": {
      "model_module": "jupyter-cytoscape",
      "model_module_version": "^1.3.3",
      "model_name": "NodeModel",
      "state": {
       "_model_module_version": "^1.3.3",
       "_view_module_version": "^1.3.3",
       "data": {
        "color": "gray",
        "id": "-5769699360084664581",
        "label": "",
        "shape": "rectangle"
       },
       "grabbable": true,
       "grabbed": false,
       "selectable": false
      }
     },
     "8388b92c7c33422a88886ae6f331dddf": {
      "model_module": "jupyter-cytoscape",
      "model_module_version": "^1.3.3",
      "model_name": "EdgeModel",
      "state": {
       "_model_module_version": "^1.3.3",
       "_view_module_version": "^1.3.3",
       "classes": " directed ",
       "data": {
        "source": "-6646829093793065682",
        "target": "7143069633224236115"
       },
       "selectable": false
      }
     },
     "83b64ce57c30415094344ce771192c56": {
      "model_module": "jupyter-cytoscape",
      "model_module_version": "^1.3.3",
      "model_name": "EdgeModel",
      "state": {
       "_model_module_version": "^1.3.3",
       "_view_module_version": "^1.3.3",
       "classes": " directed ",
       "data": {
        "source": "-8776769559527088828",
        "target": "7642245102610051772"
       },
       "selectable": false
      }
     },
     "83ddb50424f145e2880b50f7caea889b": {
      "model_module": "jupyter-cytoscape",
      "model_module_version": "^1.3.3",
      "model_name": "NodeModel",
      "state": {
       "_model_module_version": "^1.3.3",
       "_view_module_version": "^1.3.3",
       "data": {
        "color": "gray",
        "id": "-1793233785852133242",
        "label": "0",
        "shape": "rectangle"
       },
       "grabbable": true,
       "grabbed": false,
       "selectable": false
      }
     },
     "8415fea040b64df1a1bbc1716825ac00": {
      "model_module": "jupyter-cytoscape",
      "model_module_version": "^1.3.3",
      "model_name": "NodeModel",
      "state": {
       "_model_module_version": "^1.3.3",
       "_view_module_version": "^1.3.3",
       "data": {
        "color": "gray",
        "id": "6605405690337731129",
        "label": "build_waves_multislice_detect",
        "shape": "ellipse"
       },
       "grabbable": true,
       "grabbed": false,
       "selectable": false
      }
     },
     "843b41ecafdd454e8da755204ffcef4a": {
      "model_module": "jupyter-cytoscape",
      "model_module_version": "^1.3.3",
      "model_name": "NodeModel",
      "state": {
       "_model_module_version": "^1.3.3",
       "_view_module_version": "^1.3.3",
       "data": {
        "color": "gray",
        "id": "1468184454969538208",
        "label": "mean_agg-aggregate",
        "shape": "ellipse"
       },
       "grabbable": true,
       "grabbed": false,
       "selectable": false
      }
     },
     "84e5ee35a7a54f62bdaeb51f5deb95b2": {
      "model_module": "jupyter-cytoscape",
      "model_module_version": "^1.3.3",
      "model_name": "EdgeModel",
      "state": {
       "_model_module_version": "^1.3.3",
       "_view_module_version": "^1.3.3",
       "classes": " directed ",
       "data": {
        "source": "-4026067495418712757",
        "target": "-5867077928345488197"
       },
       "selectable": false
      }
     },
     "85114b8670fb41488e08295d7ba14d73": {
      "model_module": "jupyter-cytoscape",
      "model_module_version": "^1.3.3",
      "model_name": "EdgeModel",
      "state": {
       "_model_module_version": "^1.3.3",
       "_view_module_version": "^1.3.3",
       "classes": " directed ",
       "data": {
        "source": "5380259335186057991",
        "target": "7420231043237664239"
       },
       "selectable": false
      }
     },
     "8536211463214150bd37fce48e992465": {
      "model_module": "jupyter-cytoscape",
      "model_module_version": "^1.3.3",
      "model_name": "NodeModel",
      "state": {
       "_model_module_version": "^1.3.3",
       "_view_module_version": "^1.3.3",
       "data": {
        "color": "gray",
        "id": "6825927405394541791",
        "label": "(0, 0, 0)",
        "shape": "rectangle"
       },
       "grabbable": true,
       "grabbed": false,
       "selectable": false
      }
     },
     "856118d67cd246559460489e18a36133": {
      "model_module": "jupyter-cytoscape",
      "model_module_version": "^1.3.3",
      "model_name": "NodeModel",
      "state": {
       "_model_module_version": "^1.3.3",
       "_view_module_version": "^1.3.3",
       "data": {
        "color": "gray",
        "id": "-4026067495418712757",
        "label": "",
        "shape": "rectangle"
       },
       "grabbable": true,
       "grabbed": false,
       "selectable": false
      }
     },
     "85ef90a07596489fb1f7add5790220a1": {
      "model_module": "jupyter-cytoscape",
      "model_module_version": "^1.3.3",
      "model_name": "EdgeModel",
      "state": {
       "_model_module_version": "^1.3.3",
       "_view_module_version": "^1.3.3",
       "classes": " directed ",
       "data": {
        "source": "-3366324276772900629",
        "target": "4543517768215573707"
       },
       "selectable": false
      }
     },
     "85fd96d4c2344d68afc046c0be0dd77e": {
      "model_module": "@jupyter-widgets/base",
      "model_module_version": "2.0.0",
      "model_name": "LayoutModel",
      "state": {
       "_model_name": "LayoutModel",
       "_view_name": "ErrorWidgetView",
       "align_content": null,
       "align_items": null,
       "align_self": null,
       "border": null,
       "bottom": null,
       "display": null,
       "error": {},
       "flex": null,
       "flex_flow": null,
       "grid_area": null,
       "grid_auto_columns": null,
       "grid_auto_flow": null,
       "grid_auto_rows": null,
       "grid_column": null,
       "grid_gap": null,
       "grid_row": null,
       "grid_template_areas": null,
       "grid_template_columns": null,
       "grid_template_rows": null,
       "height": "400px",
       "justify_content": null,
       "justify_items": null,
       "left": null,
       "margin": null,
       "max_height": null,
       "max_width": null,
       "min_height": null,
       "min_width": null,
       "msg": "Failed to load model class 'LayoutModel' from module '@jupyter-widgets/base'",
       "object_fit": null,
       "object_position": null,
       "order": null,
       "overflow": null,
       "overflow_x": null,
       "overflow_y": null,
       "padding": null,
       "right": null,
       "top": null,
       "visibility": null,
       "width": null
      }
     },
     "85fea0ae23284a6d90aade69b7aadd2c": {
      "model_module": "jupyter-cytoscape",
      "model_module_version": "^1.3.3",
      "model_name": "EdgeModel",
      "state": {
       "_model_module_version": "^1.3.3",
       "_view_module_version": "^1.3.3",
       "classes": " directed ",
       "data": {
        "source": "3284152216582844014",
        "target": "-8092343491893973367"
       },
       "selectable": false
      }
     },
     "862e778f2ba14f24be332c4dbcb4573c": {
      "model_module": "jupyter-cytoscape",
      "model_module_version": "^1.3.3",
      "model_name": "NodeModel",
      "state": {
       "_model_module_version": "^1.3.3",
       "_view_module_version": "^1.3.3",
       "data": {
        "color": "gray",
        "id": "6682166873657082499",
        "label": "3",
        "shape": "rectangle"
       },
       "grabbable": true,
       "grabbed": false,
       "selectable": false
      }
     },
     "865fee0f26c14ace959c07c8250ea2ac": {
      "model_module": "jupyter-cytoscape",
      "model_module_version": "^1.3.3",
      "model_name": "EdgeModel",
      "state": {
       "_model_module_version": "^1.3.3",
       "_view_module_version": "^1.3.3",
       "classes": " directed ",
       "data": {
        "source": "8341276412589156804",
        "target": "6961277806433087080"
       },
       "selectable": false
      }
     },
     "8666f60a24974303be7685d0db82bae1": {
      "model_module": "jupyter-cytoscape",
      "model_module_version": "^1.3.3",
      "model_name": "NodeModel",
      "state": {
       "_model_module_version": "^1.3.3",
       "_view_module_version": "^1.3.3",
       "data": {
        "color": "gray",
        "id": "-5303692983497827898",
        "label": "build_waves_multislice_detect",
        "shape": "ellipse"
       },
       "grabbable": true,
       "grabbed": false,
       "selectable": false
      }
     },
     "86a95712ea504b929e33ccea43a2f6a6": {
      "model_module": "jupyter-cytoscape",
      "model_module_version": "^1.3.3",
      "model_name": "GraphModel",
      "state": {
       "_adj": {},
       "_model_module_version": "^1.3.3",
       "_view_module": "jupyter-cytoscape",
       "_view_module_version": "^1.3.3"
      }
     },
     "87184c80d6f84a0fa6120f8b7b39235a": {
      "model_module": "jupyter-cytoscape",
      "model_module_version": "^1.3.3",
      "model_name": "EdgeModel",
      "state": {
       "_model_module_version": "^1.3.3",
       "_view_module_version": "^1.3.3",
       "classes": " directed ",
       "data": {
        "source": "-814016714424876553",
        "target": "7683295380142860191"
       },
       "selectable": false
      }
     },
     "871de763202d4f558a833385d4028e89": {
      "model_module": "jupyter-cytoscape",
      "model_module_version": "^1.3.3",
      "model_name": "NodeModel",
      "state": {
       "_model_module_version": "^1.3.3",
       "_view_module_version": "^1.3.3",
       "data": {
        "color": "gray",
        "id": "3873888304921363141",
        "label": "0",
        "shape": "rectangle"
       },
       "grabbable": true,
       "grabbed": false,
       "selectable": false
      }
     },
     "8763ae5d5ac24afcb22324fafffdbaa6": {
      "model_module": "jupyter-cytoscape",
      "model_module_version": "^1.3.3",
      "model_name": "EdgeModel",
      "state": {
       "_model_module_version": "^1.3.3",
       "_view_module_version": "^1.3.3",
       "classes": " directed ",
       "data": {
        "source": "-8646584789489772301",
        "target": "5892879919772986108"
       },
       "selectable": false
      }
     },
     "87807817f79e4d2e82ce1bf450a87077": {
      "model_module": "jupyter-cytoscape",
      "model_module_version": "^1.3.3",
      "model_name": "NodeModel",
      "state": {
       "_model_module_version": "^1.3.3",
       "_view_module_version": "^1.3.3",
       "data": {
        "color": "gray",
        "id": "-8369933350610621265",
        "label": "3",
        "shape": "rectangle"
       },
       "grabbable": true,
       "grabbed": false,
       "selectable": false
      }
     },
     "88aacf5590d0483590e0349b710c6c82": {
      "model_module": "jupyter-cytoscape",
      "model_module_version": "^1.3.3",
      "model_name": "NodeModel",
      "state": {
       "_model_module_version": "^1.3.3",
       "_view_module_version": "^1.3.3",
       "data": {
        "color": "gray",
        "id": "-600491490188075901",
        "label": "(2, 0, 0)",
        "shape": "rectangle"
       },
       "grabbable": true,
       "grabbed": false,
       "selectable": false
      }
     },
     "88d41428245f45cebcd0852405a7f58c": {
      "model_module": "jupyter-cytoscape",
      "model_module_version": "^1.3.3",
      "model_name": "NodeModel",
      "state": {
       "_model_module_version": "^1.3.3",
       "_view_module_version": "^1.3.3",
       "data": {
        "color": "gray",
        "id": "5125598847137988848",
        "label": "0",
        "shape": "rectangle"
       },
       "grabbable": true,
       "grabbed": false,
       "selectable": false
      }
     },
     "88e6a3f121ee4aebb3b2dda00ce5e8e3": {
      "model_module": "jupyter-cytoscape",
      "model_module_version": "^1.3.3",
      "model_name": "NodeModel",
      "state": {
       "_model_module_version": "^1.3.3",
       "_view_module_version": "^1.3.3",
       "data": {
        "color": "gray",
        "id": "5455551797699507121",
        "label": "extract_measurement",
        "shape": "ellipse"
       },
       "grabbable": true,
       "grabbed": false,
       "selectable": false
      }
     },
     "88ff5ce93b084350a95ce3acf7144494": {
      "model_module": "jupyter-cytoscape",
      "model_module_version": "^1.3.3",
      "model_name": "EdgeModel",
      "state": {
       "_model_module_version": "^1.3.3",
       "_view_module_version": "^1.3.3",
       "classes": " directed ",
       "data": {
        "source": "7077065919116520802",
        "target": "4730913378417847910"
       },
       "selectable": false
      }
     },
     "894c3d42962f4129ab83f803fd6b1c1f": {
      "model_module": "jupyter-cytoscape",
      "model_module_version": "^1.3.3",
      "model_name": "EdgeModel",
      "state": {
       "_model_module_version": "^1.3.3",
       "_view_module_version": "^1.3.3",
       "classes": " directed ",
       "data": {
        "source": "4363580284905155349",
        "target": "-1926447255996494242"
       },
       "selectable": false
      }
     },
     "89547dd175484822805fdb313947205e": {
      "model_module": "jupyter-cytoscape",
      "model_module_version": "^1.3.3",
      "model_name": "EdgeModel",
      "state": {
       "_model_module_version": "^1.3.3",
       "_view_module_version": "^1.3.3",
       "classes": " directed ",
       "data": {
        "source": "5455551797699507121",
        "target": "2587405991069435440"
       },
       "selectable": false
      }
     },
     "89628b33c5c4457e82937b8368d4a58c": {
      "model_module": "jupyter-cytoscape",
      "model_module_version": "^1.3.3",
      "model_name": "NodeModel",
      "state": {
       "_model_module_version": "^1.3.3",
       "_view_module_version": "^1.3.3",
       "data": {
        "color": "gray",
        "id": "-6680118790443633764",
        "label": "",
        "shape": "rectangle"
       },
       "grabbable": true,
       "grabbed": false,
       "selectable": false
      }
     },
     "8990bb0eae54491a89af530f6a92f7a4": {
      "model_module": "jupyter-cytoscape",
      "model_module_version": "^1.3.3",
      "model_name": "NodeModel",
      "state": {
       "_model_module_version": "^1.3.3",
       "_view_module_version": "^1.3.3",
       "data": {
        "color": "gray",
        "id": "4072142626341106735",
        "label": "mean_combine-partial",
        "shape": "ellipse"
       },
       "grabbable": true,
       "grabbed": false,
       "selectable": false
      }
     },
     "89910ab8ee7947a58a8d2b253dbb4e4b": {
      "model_module": "jupyter-cytoscape",
      "model_module_version": "^1.3.3",
      "model_name": "NodeModel",
      "state": {
       "_model_module_version": "^1.3.3",
       "_view_module_version": "^1.3.3",
       "data": {
        "color": "gray",
        "id": "625420363714486229",
        "label": "extract_measurement",
        "shape": "ellipse"
       },
       "grabbable": true,
       "grabbed": false,
       "selectable": false
      }
     },
     "89a4df6379b9492a8feb18670d805557": {
      "model_module": "jupyter-cytoscape",
      "model_module_version": "^1.3.3",
      "model_name": "NodeModel",
      "state": {
       "_model_module_version": "^1.3.3",
       "_view_module_version": "^1.3.3",
       "data": {
        "color": "gray",
        "id": "4423224545294134894",
        "label": "frozen_phonon",
        "shape": "ellipse"
       },
       "grabbable": true,
       "grabbed": false,
       "selectable": false
      }
     },
     "89c5f12ec492498dbaa101c5ce8eb601": {
      "model_module": "jupyter-cytoscape",
      "model_module_version": "^1.3.3",
      "model_name": "EdgeModel",
      "state": {
       "_model_module_version": "^1.3.3",
       "_view_module_version": "^1.3.3",
       "classes": " directed ",
       "data": {
        "source": "-3141465719501951748",
        "target": "1060028317720854565"
       },
       "selectable": false
      }
     },
     "89fcd5c0e3384c7390cbd29838aa4be9": {
      "model_module": "jupyter-cytoscape",
      "model_module_version": "^1.3.3",
      "model_name": "NodeModel",
      "state": {
       "_model_module_version": "^1.3.3",
       "_view_module_version": "^1.3.3",
       "data": {
        "color": "gray",
        "id": "524951156334244113",
        "label": "",
        "shape": "rectangle"
       },
       "grabbable": true,
       "grabbed": false,
       "selectable": false
      }
     },
     "8a49d4dc7a9d41799d2c3323d1c200f1": {
      "model_module": "jupyter-cytoscape",
      "model_module_version": "^1.3.3",
      "model_name": "NodeModel",
      "state": {
       "_model_module_version": "^1.3.3",
       "_view_module_version": "^1.3.3",
       "data": {
        "color": "gray",
        "id": "582384380744980608",
        "label": "3",
        "shape": "rectangle"
       },
       "grabbable": true,
       "grabbed": false,
       "selectable": false
      }
     },
     "8b6d0dc472d049e09a2249345de9597c": {
      "model_module": "jupyter-cytoscape",
      "model_module_version": "^1.3.3",
      "model_name": "NodeModel",
      "state": {
       "_model_module_version": "^1.3.3",
       "_view_module_version": "^1.3.3",
       "data": {
        "color": "gray",
        "id": "3837102117645593894",
        "label": "mean_chunk",
        "shape": "ellipse"
       },
       "grabbable": true,
       "grabbed": false,
       "selectable": false
      }
     },
     "8be5bcb842ed4488ae28da3079213b59": {
      "model_module": "@jupyter-widgets/base",
      "model_module_version": "2.0.0",
      "model_name": "LayoutModel",
      "state": {
       "_model_name": "LayoutModel",
       "_view_name": "ErrorWidgetView",
       "align_content": null,
       "align_items": null,
       "align_self": null,
       "border": null,
       "bottom": null,
       "display": null,
       "error": {},
       "flex": null,
       "flex_flow": null,
       "grid_area": null,
       "grid_auto_columns": null,
       "grid_auto_flow": null,
       "grid_auto_rows": null,
       "grid_column": null,
       "grid_gap": null,
       "grid_row": null,
       "grid_template_areas": null,
       "grid_template_columns": null,
       "grid_template_rows": null,
       "height": "400px",
       "justify_content": null,
       "justify_items": null,
       "left": null,
       "margin": null,
       "max_height": null,
       "max_width": null,
       "min_height": null,
       "min_width": null,
       "msg": "Failed to load model class 'LayoutModel' from module '@jupyter-widgets/base'",
       "object_fit": null,
       "object_position": null,
       "order": null,
       "overflow": null,
       "overflow_x": null,
       "overflow_y": null,
       "padding": null,
       "right": null,
       "top": null,
       "visibility": null,
       "width": null
      }
     },
     "8be6176c4c4f4cc39fa42d4f1fb8fa61": {
      "model_module": "jupyter-cytoscape",
      "model_module_version": "^1.3.3",
      "model_name": "EdgeModel",
      "state": {
       "_model_module_version": "^1.3.3",
       "_view_module_version": "^1.3.3",
       "classes": " directed ",
       "data": {
        "source": "-2793075227550930713",
        "target": "-2364576551562800772"
       },
       "selectable": false
      }
     },
     "8bee627098cc46a2b08663c20791f1d0": {
      "model_module": "jupyter-cytoscape",
      "model_module_version": "^1.3.3",
      "model_name": "EdgeModel",
      "state": {
       "_model_module_version": "^1.3.3",
       "_view_module_version": "^1.3.3",
       "classes": " directed ",
       "data": {
        "source": "5654608039452636496",
        "target": "-693068665782858830"
       },
       "selectable": false
      }
     },
     "8c7cbdd5c8324530bf475a9a6d4dcafc": {
      "model_module": "jupyter-cytoscape",
      "model_module_version": "^1.3.3",
      "model_name": "NodeModel",
      "state": {
       "_model_module_version": "^1.3.3",
       "_view_module_version": "^1.3.3",
       "data": {
        "color": "gray",
        "id": "-693068665782858830",
        "label": "0",
        "shape": "rectangle"
       },
       "grabbable": true,
       "grabbed": false,
       "selectable": false
      }
     },
     "8ccb0e722c8945c1a032c601b4098ac8": {
      "model_module": "jupyter-cytoscape",
      "model_module_version": "^1.3.3",
      "model_name": "EdgeModel",
      "state": {
       "_model_module_version": "^1.3.3",
       "_view_module_version": "^1.3.3",
       "classes": " directed ",
       "data": {
        "source": "-1454821431635411725",
        "target": "4776900485209766422"
       },
       "selectable": false
      }
     },
     "8ce5f76175934e02b42fec0b65631dc9": {
      "model_module": "jupyter-cytoscape",
      "model_module_version": "^1.3.3",
      "model_name": "NodeModel",
      "state": {
       "_model_module_version": "^1.3.3",
       "_view_module_version": "^1.3.3",
       "data": {
        "color": "gray",
        "id": "-8980786544197403048",
        "label": "1",
        "shape": "rectangle"
       },
       "grabbable": true,
       "grabbed": false,
       "selectable": false
      }
     },
     "8d18529daa3443548ad0af34c6d001ae": {
      "model_module": "jupyter-cytoscape",
      "model_module_version": "^1.3.3",
      "model_name": "NodeModel",
      "state": {
       "_model_module_version": "^1.3.3",
       "_view_module_version": "^1.3.3",
       "data": {
        "color": "gray",
        "id": "8393120227172931531",
        "label": "3",
        "shape": "rectangle"
       },
       "grabbable": true,
       "grabbed": false,
       "selectable": false
      }
     },
     "8d370487f5724493a2e0fbbee4e71319": {
      "model_module": "jupyter-cytoscape",
      "model_module_version": "^1.3.3",
      "model_name": "NodeModel",
      "state": {
       "_model_module_version": "^1.3.3",
       "_view_module_version": "^1.3.3",
       "data": {
        "color": "gray",
        "id": "-1926447255996494242",
        "label": "(2, 0, 0)",
        "shape": "rectangle"
       },
       "grabbable": true,
       "grabbed": false,
       "selectable": false
      }
     },
     "8d3a723a62b147508b0dc0a61424afa9": {
      "model_module": "jupyter-cytoscape",
      "model_module_version": "^1.3.3",
      "model_name": "NodeModel",
      "state": {
       "_model_module_version": "^1.3.3",
       "_view_module_version": "^1.3.3",
       "data": {
        "color": "gray",
        "id": "174526117555084074",
        "label": "2",
        "shape": "rectangle"
       },
       "grabbable": true,
       "grabbed": false,
       "selectable": false
      }
     },
     "8dd545816c1d40368281f67541d3da65": {
      "model_module": "jupyter-cytoscape",
      "model_module_version": "^1.3.3",
      "model_name": "EdgeModel",
      "state": {
       "_model_module_version": "^1.3.3",
       "_view_module_version": "^1.3.3",
       "classes": " directed ",
       "data": {
        "source": "7235242250734662488",
        "target": "5545040648842428692"
       },
       "selectable": false
      }
     },
     "8df941f9d81b450db0f868b0723802d1": {
      "model_module": "jupyter-cytoscape",
      "model_module_version": "^1.3.3",
      "model_name": "NodeModel",
      "state": {
       "_model_module_version": "^1.3.3",
       "_view_module_version": "^1.3.3",
       "data": {
        "color": "gray",
        "id": "-7162202832397786769",
        "label": "3",
        "shape": "rectangle"
       },
       "grabbable": true,
       "grabbed": false,
       "selectable": false
      }
     },
     "8e0b755dc2884c199f476ddb80267b5b": {
      "model_module": "jupyter-cytoscape",
      "model_module_version": "^1.3.3",
      "model_name": "NodeModel",
      "state": {
       "_model_module_version": "^1.3.3",
       "_view_module_version": "^1.3.3",
       "data": {
        "color": "gray",
        "id": "6140396147582215457",
        "label": "(0, 0)",
        "shape": "rectangle"
       },
       "grabbable": true,
       "grabbed": false,
       "selectable": false
      }
     },
     "8e0ca1a7aee34ea98ad801c3413c7be7": {
      "model_module": "jupyter-cytoscape",
      "model_module_version": "^1.3.3",
      "model_name": "EdgeModel",
      "state": {
       "_model_module_version": "^1.3.3",
       "_view_module_version": "^1.3.3",
       "classes": " directed ",
       "data": {
        "source": "-3218514657936302129",
        "target": "8075331509581745181"
       },
       "selectable": false
      }
     },
     "8e436e649a084eb4b9ae3d6ec3fbe25c": {
      "model_module": "jupyter-cytoscape",
      "model_module_version": "^1.3.3",
      "model_name": "NodeModel",
      "state": {
       "_model_module_version": "^1.3.3",
       "_view_module_version": "^1.3.3",
       "data": {
        "color": "gray",
        "id": "4730913378417847910",
        "label": "(1, 0, 0)",
        "shape": "rectangle"
       },
       "grabbable": true,
       "grabbed": false,
       "selectable": false
      }
     },
     "8f27039e933547398638570c0534483a": {
      "model_module": "jupyter-cytoscape",
      "model_module_version": "^1.3.3",
      "model_name": "EdgeModel",
      "state": {
       "_model_module_version": "^1.3.3",
       "_view_module_version": "^1.3.3",
       "classes": " directed ",
       "data": {
        "source": "-6497939102615796927",
        "target": "-5593255572014410437"
       },
       "selectable": false
      }
     },
     "8f4d8a1fdae544e89b468a3dfe8d7978": {
      "model_module": "jupyter-cytoscape",
      "model_module_version": "^1.3.3",
      "model_name": "EdgeModel",
      "state": {
       "_model_module_version": "^1.3.3",
       "_view_module_version": "^1.3.3",
       "classes": " directed ",
       "data": {
        "source": "4093897534649396938",
        "target": "-5401772616039244585"
       },
       "selectable": false
      }
     },
     "8f6202348faf4c4fa5b582d9d43d6ae9": {
      "model_module": "jupyter-cytoscape",
      "model_module_version": "^1.3.3",
      "model_name": "EdgeModel",
      "state": {
       "_model_module_version": "^1.3.3",
       "_view_module_version": "^1.3.3",
       "classes": " directed ",
       "data": {
        "source": "-600270807562413883",
        "target": "8559664916612014831"
       },
       "selectable": false
      }
     },
     "8f6887fd99b8404193ddf6a9a8cf84ee": {
      "model_module": "jupyter-cytoscape",
      "model_module_version": "^1.3.3",
      "model_name": "EdgeModel",
      "state": {
       "_model_module_version": "^1.3.3",
       "_view_module_version": "^1.3.3",
       "classes": " directed ",
       "data": {
        "source": "2958316773410150143",
        "target": "-1800958231532078890"
       },
       "selectable": false
      }
     },
     "8f7de8f25c6c4941abd5dbbaf3dc5dbc": {
      "model_module": "jupyter-cytoscape",
      "model_module_version": "^1.3.3",
      "model_name": "NodeModel",
      "state": {
       "_model_module_version": "^1.3.3",
       "_view_module_version": "^1.3.3",
       "data": {
        "color": "gray",
        "id": "-145746214567987325",
        "label": "",
        "shape": "rectangle"
       },
       "grabbable": true,
       "grabbed": false,
       "selectable": false
      }
     },
     "8fa2190a4f324aabafe5b8d800177e82": {
      "model_module": "jupyter-cytoscape",
      "model_module_version": "^1.3.3",
      "model_name": "NodeModel",
      "state": {
       "_model_module_version": "^1.3.3",
       "_view_module_version": "^1.3.3",
       "data": {
        "color": "gray",
        "id": "-5552045050792817289",
        "label": "frozen_phonon",
        "shape": "ellipse"
       },
       "grabbable": true,
       "grabbed": false,
       "selectable": false
      }
     },
     "8fa43acf733547bd99479f5ebd10f3c5": {
      "model_module": "jupyter-cytoscape",
      "model_module_version": "^1.3.3",
      "model_name": "EdgeModel",
      "state": {
       "_model_module_version": "^1.3.3",
       "_view_module_version": "^1.3.3",
       "classes": " directed ",
       "data": {
        "source": "1123258925578254493",
        "target": "3284152216582844014"
       },
       "selectable": false
      }
     },
     "8fc6cf23f479474c9438b04bdcb16048": {
      "model_module": "jupyter-cytoscape",
      "model_module_version": "^1.3.3",
      "model_name": "NodeModel",
      "state": {
       "_model_module_version": "^1.3.3",
       "_view_module_version": "^1.3.3",
       "data": {
        "color": "gray",
        "id": "8226335373065077933",
        "label": "frozen_phonon",
        "shape": "ellipse"
       },
       "grabbable": true,
       "grabbed": false,
       "selectable": false
      }
     },
     "90429fd449464d119962d8ddd11885bc": {
      "model_module": "jupyter-cytoscape",
      "model_module_version": "^1.3.3",
      "model_name": "EdgeModel",
      "state": {
       "_model_module_version": "^1.3.3",
       "_view_module_version": "^1.3.3",
       "classes": " directed ",
       "data": {
        "source": "7876181867568370685",
        "target": "3162333758080464363"
       },
       "selectable": false
      }
     },
     "91018a52dcbb4263b91674793a867142": {
      "model_module": "jupyter-cytoscape",
      "model_module_version": "^1.3.3",
      "model_name": "EdgeModel",
      "state": {
       "_model_module_version": "^1.3.3",
       "_view_module_version": "^1.3.3",
       "classes": " directed ",
       "data": {
        "source": "-6404083607924859039",
        "target": "-577972134415597150"
       },
       "selectable": false
      }
     },
     "913471308400452d85216bfe88f14573": {
      "model_module": "jupyter-cytoscape",
      "model_module_version": "^1.3.3",
      "model_name": "EdgeModel",
      "state": {
       "_model_module_version": "^1.3.3",
       "_view_module_version": "^1.3.3",
       "classes": " directed ",
       "data": {
        "source": "-3744682022286834359",
        "target": "1727177019973852603"
       },
       "selectable": false
      }
     },
     "91854b31deb44af6810bdf85e4b74ca2": {
      "model_module": "jupyter-cytoscape",
      "model_module_version": "^1.3.3",
      "model_name": "EdgeModel",
      "state": {
       "_model_module_version": "^1.3.3",
       "_view_module_version": "^1.3.3",
       "classes": " directed ",
       "data": {
        "source": "-8369933350610621265",
        "target": "3629306384784091193"
       },
       "selectable": false
      }
     },
     "91db21ad3fa346a6999d90131576ca99": {
      "model_module": "jupyter-cytoscape",
      "model_module_version": "^1.3.3",
      "model_name": "EdgeModel",
      "state": {
       "_model_module_version": "^1.3.3",
       "_view_module_version": "^1.3.3",
       "classes": " directed ",
       "data": {
        "source": "-8980786544197403048",
        "target": "7077065919116520802"
       },
       "selectable": false
      }
     },
     "922bcced677c42f1897454aeb0d9d1ef": {
      "model_module": "jupyter-cytoscape",
      "model_module_version": "^1.3.3",
      "model_name": "EdgeModel",
      "state": {
       "_model_module_version": "^1.3.3",
       "_view_module_version": "^1.3.3",
       "classes": " directed ",
       "data": {
        "source": "-6680118790443633764",
        "target": "7876181867568370685"
       },
       "selectable": false
      }
     },
     "923117bf5c5e407387459f988ca52997": {
      "model_module": "jupyter-cytoscape",
      "model_module_version": "^1.3.3",
      "model_name": "NodeModel",
      "state": {
       "_model_module_version": "^1.3.3",
       "_view_module_version": "^1.3.3",
       "data": {
        "color": "gray",
        "id": "-2573528208698158691",
        "label": "",
        "shape": "rectangle"
       },
       "grabbable": true,
       "grabbed": false,
       "selectable": false
      }
     },
     "92db12ef39ca45cc9d92faa2e2a10a29": {
      "model_module": "jupyter-cytoscape",
      "model_module_version": "^1.3.3",
      "model_name": "NodeModel",
      "state": {
       "_model_module_version": "^1.3.3",
       "_view_module_version": "^1.3.3",
       "data": {
        "color": "gray",
        "id": "7001030414621609575",
        "label": "",
        "shape": "rectangle"
       },
       "grabbable": true,
       "grabbed": false,
       "selectable": false
      }
     },
     "92f308d5856446ac9de7550cdba2c1bf": {
      "model_module": "jupyter-cytoscape",
      "model_module_version": "^1.3.3",
      "model_name": "NodeModel",
      "state": {
       "_model_module_version": "^1.3.3",
       "_view_module_version": "^1.3.3",
       "data": {
        "color": "gray",
        "id": "5125598847137988848",
        "label": "0",
        "shape": "rectangle"
       },
       "grabbable": true,
       "grabbed": false,
       "selectable": false
      }
     },
     "932a29da878e4166b1775e5c3622b71b": {
      "model_module": "jupyter-cytoscape",
      "model_module_version": "^1.3.3",
      "model_name": "EdgeModel",
      "state": {
       "_model_module_version": "^1.3.3",
       "_view_module_version": "^1.3.3",
       "classes": " directed ",
       "data": {
        "source": "4423224545294134894",
        "target": "-6680118790443633764"
       },
       "selectable": false
      }
     },
     "938c9befcc3045429e32d2f47c5c6b70": {
      "model_module": "jupyter-cytoscape",
      "model_module_version": "^1.3.3",
      "model_name": "EdgeModel",
      "state": {
       "_model_module_version": "^1.3.3",
       "_view_module_version": "^1.3.3",
       "classes": " directed ",
       "data": {
        "source": "7077065919116520802",
        "target": "4730913378417847910"
       },
       "selectable": false
      }
     },
     "93f87a9138854a5cb4d9f396b2355e29": {
      "model_module": "jupyter-cytoscape",
      "model_module_version": "^1.3.3",
      "model_name": "NodeModel",
      "state": {
       "_model_module_version": "^1.3.3",
       "_view_module_version": "^1.3.3",
       "data": {
        "color": "gray",
        "id": "-6404083607924859039",
        "label": "extract_measurement",
        "shape": "ellipse"
       },
       "grabbable": true,
       "grabbed": false,
       "selectable": false
      }
     },
     "9459c955e32d4c9dbb1196a9713d3cef": {
      "model_module": "jupyter-cytoscape",
      "model_module_version": "^1.3.3",
      "model_name": "NodeModel",
      "state": {
       "_model_module_version": "^1.3.3",
       "_view_module_version": "^1.3.3",
       "data": {
        "color": "gray",
        "id": "-9146598646079689744",
        "label": "frozen_phonon",
        "shape": "ellipse"
       },
       "grabbable": true,
       "grabbed": false,
       "selectable": false
      }
     },
     "946d32d6b71e453b989fac418b88a846": {
      "model_module": "jupyter-cytoscape",
      "model_module_version": "^1.3.3",
      "model_name": "NodeModel",
      "state": {
       "_model_module_version": "^1.3.3",
       "_view_module_version": "^1.3.3",
       "data": {
        "color": "gray",
        "id": "-178667058722831183",
        "label": "2",
        "shape": "rectangle"
       },
       "grabbable": true,
       "grabbed": false,
       "selectable": false
      }
     },
     "9491410f69d449c7baae57b4e49a8733": {
      "model_module": "jupyter-cytoscape",
      "model_module_version": "^1.3.3",
      "model_name": "EdgeModel",
      "state": {
       "_model_module_version": "^1.3.3",
       "_view_module_version": "^1.3.3",
       "classes": " directed ",
       "data": {
        "source": "2589567504215382784",
        "target": "-5586142694755555196"
       },
       "selectable": false
      }
     },
     "94c456c3f9c7434f9199e6ad205bb748": {
      "model_module": "jupyter-cytoscape",
      "model_module_version": "^1.3.3",
      "model_name": "NodeModel",
      "state": {
       "_model_module_version": "^1.3.3",
       "_view_module_version": "^1.3.3",
       "data": {
        "color": "gray",
        "id": "-1800958231532078890",
        "label": "extract_measurement",
        "shape": "ellipse"
       },
       "grabbable": true,
       "grabbed": false,
       "selectable": false
      }
     },
     "95320a999ba14de3ba07ce4bfc835ae1": {
      "model_module": "jupyter-cytoscape",
      "model_module_version": "^1.3.3",
      "model_name": "EdgeModel",
      "state": {
       "_model_module_version": "^1.3.3",
       "_view_module_version": "^1.3.3",
       "classes": " directed ",
       "data": {
        "source": "3537663541289573858",
        "target": "-3366324276772900629"
       },
       "selectable": false
      }
     },
     "9543735023a44b3192282cefd60238e1": {
      "model_module": "jupyter-cytoscape",
      "model_module_version": "^1.3.3",
      "model_name": "EdgeModel",
      "state": {
       "_model_module_version": "^1.3.3",
       "_view_module_version": "^1.3.3",
       "classes": " directed ",
       "data": {
        "source": "4669270126925999175",
        "target": "-3218514657936302129"
       },
       "selectable": false
      }
     },
     "95539a255b01423f9c60ade1b71e87e5": {
      "model_module": "jupyter-cytoscape",
      "model_module_version": "^1.3.3",
      "model_name": "NodeModel",
      "state": {
       "_model_module_version": "^1.3.3",
       "_view_module_version": "^1.3.3",
       "data": {
        "color": "gray",
        "id": "-8977348630230885471",
        "label": "(3, 0, 0)",
        "shape": "rectangle"
       },
       "grabbable": true,
       "grabbed": false,
       "selectable": false
      }
     },
     "95fbdcac965e43bb9b8628ceb56667e6": {
      "model_module": "jupyter-cytoscape",
      "model_module_version": "^1.3.3",
      "model_name": "NodeModel",
      "state": {
       "_model_module_version": "^1.3.3",
       "_view_module_version": "^1.3.3",
       "data": {
        "color": "gray",
        "id": "-3915436992879133533",
        "label": "extract_measurement",
        "shape": "ellipse"
       },
       "grabbable": true,
       "grabbed": false,
       "selectable": false
      }
     },
     "965ecae4ebe046c4b955c3613c224504": {
      "model_module": "jupyter-cytoscape",
      "model_module_version": "^1.3.3",
      "model_name": "NodeModel",
      "state": {
       "_model_module_version": "^1.3.3",
       "_view_module_version": "^1.3.3",
       "data": {
        "color": "gray",
        "id": "-6646829093793065682",
        "label": "frozen_phonon",
        "shape": "ellipse"
       },
       "grabbable": true,
       "grabbed": false,
       "selectable": false
      }
     },
     "96c660a1a8274f39a1ee356266a248d2": {
      "model_module": "jupyter-cytoscape",
      "model_module_version": "^1.3.3",
      "model_name": "EdgeModel",
      "state": {
       "_model_module_version": "^1.3.3",
       "_view_module_version": "^1.3.3",
       "classes": " directed ",
       "data": {
        "source": "-2297275566705832746",
        "target": "-1226367335932640965"
       },
       "selectable": false
      }
     },
     "96ff59971b3e4c02b06eb86857eee785": {
      "model_module": "jupyter-cytoscape",
      "model_module_version": "^1.3.3",
      "model_name": "NodeModel",
      "state": {
       "_model_module_version": "^1.3.3",
       "_view_module_version": "^1.3.3",
       "data": {
        "color": "gray",
        "id": "6825927405394541791",
        "label": "(0, 0, 0)",
        "shape": "rectangle"
       },
       "grabbable": true,
       "grabbed": false,
       "selectable": false
      }
     },
     "9717427b5e344e8dadcc586083646dbb": {
      "model_module": "jupyter-cytoscape",
      "model_module_version": "^1.3.3",
      "model_name": "EdgeModel",
      "state": {
       "_model_module_version": "^1.3.3",
       "_view_module_version": "^1.3.3",
       "classes": " directed ",
       "data": {
        "source": "-2297275566705832746",
        "target": "-1226367335932640965"
       },
       "selectable": false
      }
     },
     "975b93efd2074a75924da22f14ad877b": {
      "model_module": "jupyter-cytoscape",
      "model_module_version": "^1.3.3",
      "model_name": "NodeModel",
      "state": {
       "_model_module_version": "^1.3.3",
       "_view_module_version": "^1.3.3",
       "data": {
        "color": "gray",
        "id": "4776900485209766422",
        "label": "2",
        "shape": "rectangle"
       },
       "grabbable": true,
       "grabbed": false,
       "selectable": false
      }
     },
     "9848f06abe6c4fac931adc78805eec91": {
      "model_module": "jupyter-cytoscape",
      "model_module_version": "^1.3.3",
      "model_name": "NodeModel",
      "state": {
       "_model_module_version": "^1.3.3",
       "_view_module_version": "^1.3.3",
       "data": {
        "color": "gray",
        "id": "-2316132916475259725",
        "label": "0",
        "shape": "rectangle"
       },
       "grabbable": true,
       "grabbed": false,
       "selectable": false
      }
     },
     "985db7bce93f4c109e7b1b7ba566a5ce": {
      "model_module": "jupyter-cytoscape",
      "model_module_version": "^1.3.3",
      "model_name": "EdgeModel",
      "state": {
       "_model_module_version": "^1.3.3",
       "_view_module_version": "^1.3.3",
       "classes": " directed ",
       "data": {
        "source": "1060028317720854565",
        "target": "-7762684860937664341"
       },
       "selectable": false
      }
     },
     "986aa6666a75486ebad0ae2a97907c7e": {
      "model_module": "jupyter-cytoscape",
      "model_module_version": "^1.3.3",
      "model_name": "EdgeModel",
      "state": {
       "_model_module_version": "^1.3.3",
       "_view_module_version": "^1.3.3",
       "classes": " directed ",
       "data": {
        "source": "-6646829093793065682",
        "target": "7143069633224236115"
       },
       "selectable": false
      }
     },
     "986e15a69f2f4977a04e7bb7fb64aa18": {
      "model_module": "jupyter-cytoscape",
      "model_module_version": "^1.3.3",
      "model_name": "NodeModel",
      "state": {
       "_model_module_version": "^1.3.3",
       "_view_module_version": "^1.3.3",
       "data": {
        "color": "gray",
        "id": "174526117555084074",
        "label": "2",
        "shape": "rectangle"
       },
       "grabbable": true,
       "grabbed": false,
       "selectable": false
      }
     },
     "987d71e79e114cd6ac6c1a06bbac52d3": {
      "model_module": "jupyter-cytoscape",
      "model_module_version": "^1.3.3",
      "model_name": "NodeModel",
      "state": {
       "_model_module_version": "^1.3.3",
       "_view_module_version": "^1.3.3",
       "data": {
        "color": "gray",
        "id": "3162333758080464363",
        "label": "0",
        "shape": "rectangle"
       },
       "grabbable": true,
       "grabbed": false,
       "selectable": false
      }
     },
     "98a439e87e804b07b771889a12ed344b": {
      "model_module": "jupyter-cytoscape",
      "model_module_version": "^1.3.3",
      "model_name": "EdgeModel",
      "state": {
       "_model_module_version": "^1.3.3",
       "_view_module_version": "^1.3.3",
       "classes": " directed ",
       "data": {
        "source": "6826270806708122017",
        "target": "-2297275566705832746"
       },
       "selectable": false
      }
     },
     "98cc4773bde747fc9a62651695d48661": {
      "model_module": "jupyter-cytoscape",
      "model_module_version": "^1.3.3",
      "model_name": "EdgeModel",
      "state": {
       "_model_module_version": "^1.3.3",
       "_view_module_version": "^1.3.3",
       "classes": " directed ",
       "data": {
        "source": "3162333758080464363",
        "target": "8446372007758624814"
       },
       "selectable": false
      }
     },
     "98e2d0e93b72494181709f88ce9a3562": {
      "model_module": "jupyter-cytoscape",
      "model_module_version": "^1.3.3",
      "model_name": "NodeModel",
      "state": {
       "_model_module_version": "^1.3.3",
       "_view_module_version": "^1.3.3",
       "data": {
        "color": "gray",
        "id": "-1488446068642167772",
        "label": "build_waves_multislice_detect",
        "shape": "ellipse"
       },
       "grabbable": true,
       "grabbed": false,
       "selectable": false
      }
     },
     "9955f347ef494237a0ad118ed6df5202": {
      "model_module": "jupyter-cytoscape",
      "model_module_version": "^1.3.3",
      "model_name": "NodeModel",
      "state": {
       "_model_module_version": "^1.3.3",
       "_view_module_version": "^1.3.3",
       "data": {
        "color": "gray",
        "id": "524951156334244113",
        "label": "",
        "shape": "rectangle"
       },
       "grabbable": true,
       "grabbed": false,
       "selectable": false
      }
     },
     "99dad407071042a185785da0a7ddfac2": {
      "model_module": "jupyter-cytoscape",
      "model_module_version": "^1.3.3",
      "model_name": "EdgeModel",
      "state": {
       "_model_module_version": "^1.3.3",
       "_view_module_version": "^1.3.3",
       "classes": " directed ",
       "data": {
        "source": "3873888304921363141",
        "target": "-8369933350610621265"
       },
       "selectable": false
      }
     },
     "99fd4d20fe094f82b07fda86af4ca521": {
      "model_module": "jupyter-cytoscape",
      "model_module_version": "^1.3.3",
      "model_name": "NodeModel",
      "state": {
       "_model_module_version": "^1.3.3",
       "_view_module_version": "^1.3.3",
       "data": {
        "color": "gray",
        "id": "-5925256375357017817",
        "label": "2",
        "shape": "rectangle"
       },
       "grabbable": true,
       "grabbed": false,
       "selectable": false
      }
     },
     "9a2136bc93c546aa9917df4d81e636a7": {
      "model_module": "jupyter-cytoscape",
      "model_module_version": "^1.3.3",
      "model_name": "NodeModel",
      "state": {
       "_model_module_version": "^1.3.3",
       "_view_module_version": "^1.3.3",
       "data": {
        "color": "gray",
        "id": "-3211400314611901149",
        "label": "0",
        "shape": "rectangle"
       },
       "grabbable": true,
       "grabbed": false,
       "selectable": false
      }
     },
     "9a7450baa7154adfbe2910a11f168e2c": {
      "model_module": "jupyter-cytoscape",
      "model_module_version": "^1.3.3",
      "model_name": "EdgeModel",
      "state": {
       "_model_module_version": "^1.3.3",
       "_view_module_version": "^1.3.3",
       "classes": " directed ",
       "data": {
        "source": "-5769699360084664581",
        "target": "4423224545294134894"
       },
       "selectable": false
      }
     },
     "9ae55412a9924cfea1f832863ef84c66": {
      "model_module": "jupyter-cytoscape",
      "model_module_version": "^1.3.3",
      "model_name": "EdgeModel",
      "state": {
       "_model_module_version": "^1.3.3",
       "_view_module_version": "^1.3.3",
       "classes": " directed ",
       "data": {
        "source": "4730913378417847910",
        "target": "5130464993996696205"
       },
       "selectable": false
      }
     },
     "9b305327e23b42dba97535b108835c03": {
      "model_module": "jupyter-cytoscape",
      "model_module_version": "^1.3.3",
      "model_name": "NodeModel",
      "state": {
       "_model_module_version": "^1.3.3",
       "_view_module_version": "^1.3.3",
       "data": {
        "color": "gray",
        "id": "-6553637324542115266",
        "label": "(3, 0, 0)",
        "shape": "rectangle"
       },
       "grabbable": true,
       "grabbed": false,
       "selectable": false
      }
     },
     "9be629b2f4b7464ba432094c5125c9d9": {
      "model_module": "jupyter-cytoscape",
      "model_module_version": "^1.3.3",
      "model_name": "EdgeModel",
      "state": {
       "_model_module_version": "^1.3.3",
       "_view_module_version": "^1.3.3",
       "classes": " directed ",
       "data": {
        "source": "4785411436509375566",
        "target": "3537663541289573858"
       },
       "selectable": false
      }
     },
     "9d3787acaf014413914de20db9f33ddb": {
      "model_module": "jupyter-cytoscape",
      "model_module_version": "^1.3.3",
      "model_name": "NodeModel",
      "state": {
       "_model_module_version": "^1.3.3",
       "_view_module_version": "^1.3.3",
       "data": {
        "color": "gray",
        "id": "4785411436509375566",
        "label": "",
        "shape": "rectangle"
       },
       "grabbable": true,
       "grabbed": false,
       "selectable": false
      }
     },
     "9dba63fb42ff4a039fbbfbf5ee0390a4": {
      "model_module": "jupyter-cytoscape",
      "model_module_version": "^1.3.3",
      "model_name": "NodeModel",
      "state": {
       "_model_module_version": "^1.3.3",
       "_view_module_version": "^1.3.3",
       "data": {
        "color": "gray",
        "id": "8559664916612014831",
        "label": "",
        "shape": "rectangle"
       },
       "grabbable": true,
       "grabbed": false,
       "selectable": false
      }
     },
     "9e0249b728f5401a9496cf8ad906cf32": {
      "model_module": "jupyter-cytoscape",
      "model_module_version": "^1.3.3",
      "model_name": "NodeModel",
      "state": {
       "_model_module_version": "^1.3.3",
       "_view_module_version": "^1.3.3",
       "data": {
        "color": "gray",
        "id": "-8776769559527088828",
        "label": "1",
        "shape": "rectangle"
       },
       "grabbable": true,
       "grabbed": false,
       "selectable": false
      }
     },
     "9e4bc002899c45edb1c415de5de6b654": {
      "model_module": "jupyter-cytoscape",
      "model_module_version": "^1.3.3",
      "model_name": "EdgeModel",
      "state": {
       "_model_module_version": "^1.3.3",
       "_view_module_version": "^1.3.3",
       "classes": " directed ",
       "data": {
        "source": "4543517768215573707",
        "target": "-7162202832397786769"
       },
       "selectable": false
      }
     },
     "9e80dd3ab0be4a0892b2a42115c636e9": {
      "model_module": "jupyter-cytoscape",
      "model_module_version": "^1.3.3",
      "model_name": "EdgeModel",
      "state": {
       "_model_module_version": "^1.3.3",
       "_view_module_version": "^1.3.3",
       "classes": " directed ",
       "data": {
        "source": "6682166873657082499",
        "target": "-3915436992879133533"
       },
       "selectable": false
      }
     },
     "9ec5964083e94f5fa18713b4b3d65169": {
      "model_module": "jupyter-cytoscape",
      "model_module_version": "^1.3.3",
      "model_name": "EdgeModel",
      "state": {
       "_model_module_version": "^1.3.3",
       "_view_module_version": "^1.3.3",
       "classes": " directed ",
       "data": {
        "source": "524951156334244113",
        "target": "-6646829093793065682"
       },
       "selectable": false
      }
     },
     "9ecd3e565d894fe8b4402c3041ffd2bd": {
      "model_module": "jupyter-cytoscape",
      "model_module_version": "^1.3.3",
      "model_name": "NodeModel",
      "state": {
       "_model_module_version": "^1.3.3",
       "_view_module_version": "^1.3.3",
       "data": {
        "color": "gray",
        "id": "-7346143339576425920",
        "label": "1",
        "shape": "rectangle"
       },
       "grabbable": true,
       "grabbed": false,
       "selectable": false
      }
     },
     "9f0ffc30063a42efa2dfdd2df5caec42": {
      "model_module": "jupyter-cytoscape",
      "model_module_version": "^1.3.3",
      "model_name": "NodeModel",
      "state": {
       "_model_module_version": "^1.3.3",
       "_view_module_version": "^1.3.3",
       "data": {
        "color": "gray",
        "id": "6605405690337731129",
        "label": "build_waves_multislice_detect",
        "shape": "ellipse"
       },
       "grabbable": true,
       "grabbed": false,
       "selectable": false
      }
     },
     "9fab49ca1f2a4ad4b6e52891535c635a": {
      "model_module": "jupyter-cytoscape",
      "model_module_version": "^1.3.3",
      "model_name": "NodeModel",
      "state": {
       "_model_module_version": "^1.3.3",
       "_view_module_version": "^1.3.3",
       "data": {
        "color": "gray",
        "id": "4592471500478139755",
        "label": "build_waves_multislice_detect",
        "shape": "ellipse"
       },
       "grabbable": true,
       "grabbed": false,
       "selectable": false
      }
     },
     "a014fb971dfb4cb8b129fa6cb2e61eab": {
      "model_module": "jupyter-cytoscape",
      "model_module_version": "^1.3.3",
      "model_name": "NodeModel",
      "state": {
       "_model_module_version": "^1.3.3",
       "_view_module_version": "^1.3.3",
       "data": {
        "color": "gray",
        "id": "5455551797699507121",
        "label": "extract_measurement",
        "shape": "ellipse"
       },
       "grabbable": true,
       "grabbed": false,
       "selectable": false
      }
     },
     "a037ee43b367494fa31f146f0d1ddceb": {
      "model_module": "jupyter-cytoscape",
      "model_module_version": "^1.3.3",
      "model_name": "EdgeModel",
      "state": {
       "_model_module_version": "^1.3.3",
       "_view_module_version": "^1.3.3",
       "classes": " directed ",
       "data": {
        "source": "4592471500478139755",
        "target": "6778553500043629472"
       },
       "selectable": false
      }
     },
     "a0ff3a542d2e4cd08d9267441b12ca1c": {
      "model_module": "jupyter-cytoscape",
      "model_module_version": "^1.3.3",
      "model_name": "EdgeModel",
      "state": {
       "_model_module_version": "^1.3.3",
       "_view_module_version": "^1.3.3",
       "classes": " directed ",
       "data": {
        "source": "7110972868477951194",
        "target": "-280820566235178822"
       },
       "selectable": false
      }
     },
     "a1012c35479f4370a04bccbfef255fe3": {
      "model_module": "jupyter-cytoscape",
      "model_module_version": "^1.3.3",
      "model_name": "NodeModel",
      "state": {
       "_model_module_version": "^1.3.3",
       "_view_module_version": "^1.3.3",
       "data": {
        "color": "gray",
        "id": "-600270807562413883",
        "label": "frozen_phonon",
        "shape": "ellipse"
       },
       "grabbable": true,
       "grabbed": false,
       "selectable": false
      }
     },
     "a13619207991436e8e158f7310882113": {
      "model_module": "jupyter-cytoscape",
      "model_module_version": "^1.3.3",
      "model_name": "NodeModel",
      "state": {
       "_model_module_version": "^1.3.3",
       "_view_module_version": "^1.3.3",
       "data": {
        "color": "gray",
        "id": "-2343004666951745933",
        "label": "(3, 0, 0)",
        "shape": "rectangle"
       },
       "grabbable": true,
       "grabbed": false,
       "selectable": false
      }
     },
     "a177d03187d249528c27509215eaf365": {
      "model_module": "jupyter-cytoscape",
      "model_module_version": "^1.3.3",
      "model_name": "EdgeModel",
      "state": {
       "_model_module_version": "^1.3.3",
       "_view_module_version": "^1.3.3",
       "classes": " directed ",
       "data": {
        "source": "6825927405394541791",
        "target": "7061443493384821196"
       },
       "selectable": false
      }
     },
     "a1c43cce8af847039ce88d271a3a5867": {
      "model_module": "jupyter-cytoscape",
      "model_module_version": "^1.3.3",
      "model_name": "NodeModel",
      "state": {
       "_model_module_version": "^1.3.3",
       "_view_module_version": "^1.3.3",
       "data": {
        "color": "gray",
        "id": "5892879919772986108",
        "label": "(1, 0, 0)",
        "shape": "rectangle"
       },
       "grabbable": true,
       "grabbed": false,
       "selectable": false
      }
     },
     "a1cba02fcabf48e5898238399506845e": {
      "model_module": "jupyter-cytoscape",
      "model_module_version": "^1.3.3",
      "model_name": "NodeModel",
      "state": {
       "_model_module_version": "^1.3.3",
       "_view_module_version": "^1.3.3",
       "data": {
        "color": "gray",
        "id": "-8752789098251752585",
        "label": "(0, 0, 0)",
        "shape": "rectangle"
       },
       "grabbable": true,
       "grabbed": false,
       "selectable": false
      }
     },
     "a212e7973f634f90ab97775d02abb002": {
      "model_module": "jupyter-cytoscape",
      "model_module_version": "^1.3.3",
      "model_name": "EdgeModel",
      "state": {
       "_model_module_version": "^1.3.3",
       "_view_module_version": "^1.3.3",
       "classes": " directed ",
       "data": {
        "source": "4423224545294134894",
        "target": "-6680118790443633764"
       },
       "selectable": false
      }
     },
     "a2559582c5864d4b9080314171d6efa4": {
      "model_module": "jupyter-cytoscape",
      "model_module_version": "^1.3.3",
      "model_name": "EdgeModel",
      "state": {
       "_model_module_version": "^1.3.3",
       "_view_module_version": "^1.3.3",
       "classes": " directed ",
       "data": {
        "source": "986871968531529739",
        "target": "-6732201961792966662"
       },
       "selectable": false
      }
     },
     "a2812b96c4cd4d1fa772ade88c769045": {
      "model_module": "jupyter-cytoscape",
      "model_module_version": "^1.3.3",
      "model_name": "EdgeModel",
      "state": {
       "_model_module_version": "^1.3.3",
       "_view_module_version": "^1.3.3",
       "classes": " directed ",
       "data": {
        "source": "-2297275566705832746",
        "target": "-1226367335932640965"
       },
       "selectable": false
      }
     },
     "a2c7f8c9accc423faa1b54a16fb09517": {
      "model_module": "@jupyter-widgets/base",
      "model_module_version": "2.0.0",
      "model_name": "LayoutModel",
      "state": {
       "_model_name": "LayoutModel",
       "_view_name": "ErrorWidgetView",
       "align_content": null,
       "align_items": null,
       "align_self": null,
       "border": null,
       "bottom": null,
       "display": null,
       "error": {},
       "flex": null,
       "flex_flow": null,
       "grid_area": null,
       "grid_auto_columns": null,
       "grid_auto_flow": null,
       "grid_auto_rows": null,
       "grid_column": null,
       "grid_gap": null,
       "grid_row": null,
       "grid_template_areas": null,
       "grid_template_columns": null,
       "grid_template_rows": null,
       "height": "400px",
       "justify_content": null,
       "justify_items": null,
       "left": null,
       "margin": null,
       "max_height": null,
       "max_width": null,
       "min_height": null,
       "min_width": null,
       "msg": "Failed to load model class 'LayoutModel' from module '@jupyter-widgets/base'",
       "object_fit": null,
       "object_position": null,
       "order": null,
       "overflow": null,
       "overflow_x": null,
       "overflow_y": null,
       "padding": null,
       "right": null,
       "top": null,
       "visibility": null,
       "width": null
      }
     },
     "a2e0b56bcb804f8c9b8cdc67db214c62": {
      "model_module": "jupyter-cytoscape",
      "model_module_version": "^1.3.3",
      "model_name": "NodeModel",
      "state": {
       "_model_module_version": "^1.3.3",
       "_view_module_version": "^1.3.3",
       "data": {
        "color": "gray",
        "id": "-5206254680038695081",
        "label": "intensity",
        "shape": "ellipse"
       },
       "grabbable": true,
       "grabbed": false,
       "selectable": false
      }
     },
     "a2f28635f07842f99401089e09bc75a9": {
      "model_module": "jupyter-cytoscape",
      "model_module_version": "^1.3.3",
      "model_name": "EdgeModel",
      "state": {
       "_model_module_version": "^1.3.3",
       "_view_module_version": "^1.3.3",
       "classes": " directed ",
       "data": {
        "source": "-7896479044627285254",
        "target": "-3817565199602122438"
       },
       "selectable": false
      }
     },
     "a32ea253b7804cc19071f1fe6fbf5ffa": {
      "model_module": "jupyter-cytoscape",
      "model_module_version": "^1.3.3",
      "model_name": "EdgeModel",
      "state": {
       "_model_module_version": "^1.3.3",
       "_view_module_version": "^1.3.3",
       "classes": " directed ",
       "data": {
        "source": "3629306384784091193",
        "target": "8393120227172931531"
       },
       "selectable": false
      }
     },
     "a33f6037bb5e4692a407df18f58e9873": {
      "model_module": "jupyter-cytoscape",
      "model_module_version": "^1.3.3",
      "model_name": "NodeModel",
      "state": {
       "_model_module_version": "^1.3.3",
       "_view_module_version": "^1.3.3",
       "data": {
        "color": "gray",
        "id": "4423224545294134894",
        "label": "frozen_phonon",
        "shape": "ellipse"
       },
       "grabbable": true,
       "grabbed": false,
       "selectable": false
      }
     },
     "a3d588b063014eb3a358a43c6f34228d": {
      "model_module": "jupyter-cytoscape",
      "model_module_version": "^1.3.3",
      "model_name": "NodeModel",
      "state": {
       "_model_module_version": "^1.3.3",
       "_view_module_version": "^1.3.3",
       "data": {
        "color": "gray",
        "id": "853475432809461818",
        "label": "0",
        "shape": "rectangle"
       },
       "grabbable": true,
       "grabbed": false,
       "selectable": false
      }
     },
     "a4753ad63e834424b5237019ca6aade2": {
      "model_module": "jupyter-cytoscape",
      "model_module_version": "^1.3.3",
      "model_name": "EdgeModel",
      "state": {
       "_model_module_version": "^1.3.3",
       "_view_module_version": "^1.3.3",
       "classes": " directed ",
       "data": {
        "source": "7001030414621609575",
        "target": "5654608039452636496"
       },
       "selectable": false
      }
     },
     "a520f8a0429041acb5c4dad52551e8ea": {
      "model_module": "jupyter-cytoscape",
      "model_module_version": "^1.3.3",
      "model_name": "EdgeModel",
      "state": {
       "_model_module_version": "^1.3.3",
       "_view_module_version": "^1.3.3",
       "classes": " directed ",
       "data": {
        "source": "-6680118790443633764",
        "target": "7876181867568370685"
       },
       "selectable": false
      }
     },
     "a53b5456bd7a4391b2d1f7eac86ae55b": {
      "model_module": "jupyter-cytoscape",
      "model_module_version": "^1.3.3",
      "model_name": "NodeModel",
      "state": {
       "_model_module_version": "^1.3.3",
       "_view_module_version": "^1.3.3",
       "data": {
        "color": "gray",
        "id": "-1454821431635411725",
        "label": "0",
        "shape": "rectangle"
       },
       "grabbable": true,
       "grabbed": false,
       "selectable": false
      }
     },
     "a59ad96ddc664e0886345c34b418e6c7": {
      "model_module": "jupyter-cytoscape",
      "model_module_version": "^1.3.3",
      "model_name": "NodeModel",
      "state": {
       "_model_module_version": "^1.3.3",
       "_view_module_version": "^1.3.3",
       "data": {
        "color": "gray",
        "id": "-2297275566705832746",
        "label": "",
        "shape": "rectangle"
       },
       "grabbable": true,
       "grabbed": false,
       "selectable": false
      }
     },
     "a602568e4fdb4871be1bf520d967fe50": {
      "model_module": "jupyter-cytoscape",
      "model_module_version": "^1.3.3",
      "model_name": "EdgeModel",
      "state": {
       "_model_module_version": "^1.3.3",
       "_view_module_version": "^1.3.3",
       "classes": " directed ",
       "data": {
        "source": "5125598847137988848",
        "target": "2601438695660831798"
       },
       "selectable": false
      }
     },
     "a638761ea1a344a1a60c7c47ea9ac478": {
      "model_module": "jupyter-cytoscape",
      "model_module_version": "^1.3.3",
      "model_name": "EdgeModel",
      "state": {
       "_model_module_version": "^1.3.3",
       "_view_module_version": "^1.3.3",
       "classes": " directed ",
       "data": {
        "source": "-7162202832397786769",
        "target": "-4756616172800127912"
       },
       "selectable": false
      }
     },
     "a650f81ed04842cfb0b4eb2af444175b": {
      "model_module": "jupyter-cytoscape",
      "model_module_version": "^1.3.3",
      "model_name": "CytoscapeModel",
      "state": {
       "_interaction_handlers": {},
       "_model_module_version": "^1.3.3",
       "_view_module_version": "^1.3.3",
       "auto_ungrabify": false,
       "autolock": false,
       "cytoscape_layout": {
        "edgeSep": 10,
        "name": "dagre",
        "nodeDimensionsIncludeLabels": true,
        "nodeSep": 10,
        "rankDir": "BT",
        "spacingFactor": 1
       },
       "cytoscape_style": [
        {
         "selector": "node",
         "style": {
          "background-color": "#eee",
          "border-color": "data(color)",
          "border-width": 4,
          "color": "black",
          "font-family": "helvetica",
          "font-size": "24px",
          "font-weight": "bold",
          "height": 64,
          "label": "data(label)",
          "opacity": "1.0",
          "shape": "data(shape)",
          "text-halign": "center",
          "text-valign": "center",
          "width": 64
         }
        },
        {
         "selector": "edge",
         "style": {
          "curve-style": "bezier",
          "line-color": "gray",
          "target-arrow-color": "gray",
          "target-arrow-shape": "triangle",
          "width": 8
         }
        }
       ],
       "desktop_tap_threshold": 4,
       "graph": "IPY_MODEL_a9e1f3d6a985411c9041fd64e1b6a093",
       "headless": false,
       "hide_edges_on_viewport": false,
       "layout": "IPY_MODEL_227f6727544748a099c9d22792eb76dd",
       "max_zoom": 4,
       "min_zoom": 0.2,
       "motion_blur": false,
       "motion_blur_opacity": 0.2,
       "panning_enabled": true,
       "pixel_ratio": "auto",
       "rendered_position": {
        "renderedPosition": {
         "x": 100,
         "y": 100
        }
       },
       "selection_type": "single",
       "style_enabled": true,
       "texture_on_viewport": false,
       "tooltip_source": "tooltip",
       "touch_tap_threshold": 8,
       "user_panning_enabled": true,
       "user_zooming_enabled": true,
       "wheel_sensitivity": 0.1,
       "zoom": 2,
       "zooming_enabled": true
      }
     },
     "a6a08ca8d2aa4a168ec40abe99f83439": {
      "model_module": "jupyter-cytoscape",
      "model_module_version": "^1.3.3",
      "model_name": "EdgeModel",
      "state": {
       "_model_module_version": "^1.3.3",
       "_view_module_version": "^1.3.3",
       "classes": " directed ",
       "data": {
        "source": "7876181867568370685",
        "target": "3162333758080464363"
       },
       "selectable": false
      }
     },
     "a6beb0f622754f56a77fa4e35ab1cd60": {
      "model_module": "jupyter-cytoscape",
      "model_module_version": "^1.3.3",
      "model_name": "NodeModel",
      "state": {
       "_model_module_version": "^1.3.3",
       "_view_module_version": "^1.3.3",
       "data": {
        "color": "gray",
        "id": "3629306384784091193",
        "label": "build_waves_multislice_detect",
        "shape": "ellipse"
       },
       "grabbable": true,
       "grabbed": false,
       "selectable": false
      }
     },
     "a6f2c40274d84599a4cadfede4ecb8c7": {
      "model_module": "jupyter-cytoscape",
      "model_module_version": "^1.3.3",
      "model_name": "NodeModel",
      "state": {
       "_model_module_version": "^1.3.3",
       "_view_module_version": "^1.3.3",
       "data": {
        "color": "gray",
        "id": "5573658241717172992",
        "label": "intensity",
        "shape": "ellipse"
       },
       "grabbable": true,
       "grabbed": false,
       "selectable": false
      }
     },
     "a729fae8bb764cb7b38aae15d88636cc": {
      "model_module": "jupyter-cytoscape",
      "model_module_version": "^1.3.3",
      "model_name": "NodeModel",
      "state": {
       "_model_module_version": "^1.3.3",
       "_view_module_version": "^1.3.3",
       "data": {
        "color": "gray",
        "id": "-3817565199602122438",
        "label": "",
        "shape": "rectangle"
       },
       "grabbable": true,
       "grabbed": false,
       "selectable": false
      }
     },
     "a72baa8df74b4cc28ad2777b18506bdf": {
      "model_module": "jupyter-cytoscape",
      "model_module_version": "^1.3.3",
      "model_name": "EdgeModel",
      "state": {
       "_model_module_version": "^1.3.3",
       "_view_module_version": "^1.3.3",
       "classes": " directed ",
       "data": {
        "source": "510089647245746003",
        "target": "-4626585547016365865"
       },
       "selectable": false
      }
     },
     "a74f816c40fe448f8471decc582374d4": {
      "model_module": "jupyter-cytoscape",
      "model_module_version": "^1.3.3",
      "model_name": "NodeModel",
      "state": {
       "_model_module_version": "^1.3.3",
       "_view_module_version": "^1.3.3",
       "data": {
        "color": "gray",
        "id": "-6680118790443633764",
        "label": "",
        "shape": "rectangle"
       },
       "grabbable": true,
       "grabbed": false,
       "selectable": false
      }
     },
     "a7e47b8a52af4985b9c5f1013d7c0468": {
      "model_module": "jupyter-cytoscape",
      "model_module_version": "^1.3.3",
      "model_name": "EdgeModel",
      "state": {
       "_model_module_version": "^1.3.3",
       "_view_module_version": "^1.3.3",
       "classes": " directed ",
       "data": {
        "source": "-3349036892622714455",
        "target": "-6147267522005547498"
       },
       "selectable": false
      }
     },
     "a7e81bf45bf64d459a38cf53e6aa9c65": {
      "model_module": "jupyter-cytoscape",
      "model_module_version": "^1.3.3",
      "model_name": "EdgeModel",
      "state": {
       "_model_module_version": "^1.3.3",
       "_view_module_version": "^1.3.3",
       "classes": " directed ",
       "data": {
        "source": "8316810078278059627",
        "target": "6548439309187638817"
       },
       "selectable": false
      }
     },
     "a84c22483c9a452d9c85f02b8fb31653": {
      "model_module": "jupyter-cytoscape",
      "model_module_version": "^1.3.3",
      "model_name": "EdgeModel",
      "state": {
       "_model_module_version": "^1.3.3",
       "_view_module_version": "^1.3.3",
       "classes": " directed ",
       "data": {
        "source": "-3218514657936302129",
        "target": "8075331509581745181"
       },
       "selectable": false
      }
     },
     "a87a23467fc54816a4b36ba9460091cd": {
      "model_module": "jupyter-cytoscape",
      "model_module_version": "^1.3.3",
      "model_name": "EdgeModel",
      "state": {
       "_model_module_version": "^1.3.3",
       "_view_module_version": "^1.3.3",
       "classes": " directed ",
       "data": {
        "source": "4093897534649396938",
        "target": "-5401772616039244585"
       },
       "selectable": false
      }
     },
     "a909864e5a8040f5b8e21662165f6355": {
      "model_module": "jupyter-cytoscape",
      "model_module_version": "^1.3.3",
      "model_name": "GraphModel",
      "state": {
       "_adj": {},
       "_model_module_version": "^1.3.3",
       "_view_module": "jupyter-cytoscape",
       "_view_module_version": "^1.3.3"
      }
     },
     "a92a1a7f4dd14feb844a39acbf7e7e74": {
      "model_module": "jupyter-cytoscape",
      "model_module_version": "^1.3.3",
      "model_name": "EdgeModel",
      "state": {
       "_model_module_version": "^1.3.3",
       "_view_module_version": "^1.3.3",
       "classes": " directed ",
       "data": {
        "source": "1468184454969538208",
        "target": "4546811837186835598"
       },
       "selectable": false
      }
     },
     "a92cf31226864a3ebf080d2d6e277649": {
      "model_module": "jupyter-cytoscape",
      "model_module_version": "^1.3.3",
      "model_name": "EdgeModel",
      "state": {
       "_model_module_version": "^1.3.3",
       "_view_module_version": "^1.3.3",
       "classes": " directed ",
       "data": {
        "source": "-5593255572014410437",
        "target": "4616942232716715966"
       },
       "selectable": false
      }
     },
     "a9e1f3d6a985411c9041fd64e1b6a093": {
      "model_module": "jupyter-cytoscape",
      "model_module_version": "^1.3.3",
      "model_name": "GraphModel",
      "state": {
       "_adj": {
        "-1488446068642167772": {
         "582384380744980608": 1
        },
        "-1491471162771521316": {
         "8341276412589156804": 1
        },
        "-2316132916475259725": {
         "986871968531529739": 1
        },
        "-2492882789354074054": {
         "-8034539748474648114": 1
        },
        "-3141465719501951748": {
         "1060028317720854565": 1
        },
        "-3211400314611901149": {
         "7494512724633528164": 1
        },
        "-3817565199602122438": {
         "5125598847137988848": 1
        },
        "-4672027926650990305": {
         "-7896479044627285254": 1
        },
        "-5925256375357017817": {
         "625420363714486229": 1
        },
        "-600270807562413883": {
         "8559664916612014831": 1
        },
        "-600491490188075901": {},
        "-6732201961792966662": {
         "-3141465719501951748": 1
        },
        "-7762684860937664341": {},
        "-7896479044627285254": {
         "-3817565199602122438": 1
        },
        "-8034539748474648114": {
         "-8646584789489772301": 1
        },
        "-8573168279213860347": {
         "-5925256375357017817": 1
        },
        "-8646584789489772301": {
         "5892879919772986108": 1
        },
        "-8977348630230885471": {},
        "1060028317720854565": {
         "-7762684860937664341": 1
        },
        "2601438695660831798": {
         "-8573168279213860347": 1
        },
        "2644035846870505790": {
         "-8977348630230885471": 1
        },
        "4667991964226427698": {
         "-600270807562413883": 1
        },
        "4710722068778462095": {
         "-1488446068642167772": 1
        },
        "5125598847137988848": {
         "2601438695660831798": 1
        },
        "5175792930573095707": {
         "4710722068778462095": 1
        },
        "5380259335186057991": {
         "7420231043237664239": 1
        },
        "582384380744980608": {
         "2644035846870505790": 1
        },
        "5892879919772986108": {},
        "625420363714486229": {
         "-600491490188075901": 1
        },
        "6961277806433087080": {
         "-2316132916475259725": 1
        },
        "7420231043237664239": {
         "-3211400314611901149": 1
        },
        "7494512724633528164": {
         "-2492882789354074054": 1
        },
        "8341276412589156804": {
         "6961277806433087080": 1
        },
        "8559664916612014831": {
         "5175792930573095707": 1
        },
        "9138675498050813437": {
         "5380259335186057991": 1
        },
        "986871968531529739": {
         "-6732201961792966662": 1
        }
       },
       "_model_module_version": "^1.3.3",
       "_view_module": "jupyter-cytoscape",
       "_view_module_version": "^1.3.3",
       "edges": [
        "IPY_MODEL_bcac546037a04fc28864496a421cfade",
        "IPY_MODEL_6eb4672dbfb845ea9da0e0b4988207ff",
        "IPY_MODEL_f1b8a0e55ea540368ae03cd1568f5088",
        "IPY_MODEL_1d78661640c34ea3b2ac659582c7a417",
        "IPY_MODEL_865fee0f26c14ace959c07c8250ea2ac",
        "IPY_MODEL_27b5dad65e9043d6843c847bb6debe9f",
        "IPY_MODEL_7ee0406e026d476fa412680941c852ba",
        "IPY_MODEL_4179b98daca543eca1d0733e8a869fec",
        "IPY_MODEL_e059408280534f87bccaae31c1a1a58e",
        "IPY_MODEL_61bf0b725d9040eeb7e217e1e49fe5ec",
        "IPY_MODEL_a2f28635f07842f99401089e09bc75a9",
        "IPY_MODEL_f034578e887d492fa8fe88580b3a38aa",
        "IPY_MODEL_1b9da47f8d5e460285c5ac1eb9c437b2",
        "IPY_MODEL_3cf4036cb2c1404bb4088182508c41f5",
        "IPY_MODEL_664a39837ff347ad8663d43279d81e49",
        "IPY_MODEL_000ae364077b4720a388b45d89061cfb",
        "IPY_MODEL_2b840ab13c85414caf97fe8e882d92ec",
        "IPY_MODEL_a2559582c5864d4b9080314171d6efa4",
        "IPY_MODEL_0f021faa892f4d8aa617414acfa795da",
        "IPY_MODEL_367a9b324e1e45e7b21d7b9e75f68e33",
        "IPY_MODEL_39188afc7ea444ada9cfc530e766668c",
        "IPY_MODEL_20366fea71064e4e8bd76fb3cafe65ab",
        "IPY_MODEL_b3151b9e9aed4b53834fbd92f9a4a4b6",
        "IPY_MODEL_295b8c81314c4bd68b04a32006112a45",
        "IPY_MODEL_985db7bce93f4c109e7b1b7ba566a5ce",
        "IPY_MODEL_e2c5d783b8cd406385ee39caacf9afef",
        "IPY_MODEL_8763ae5d5ac24afcb22324fafffdbaa6",
        "IPY_MODEL_d5ecb57c7e154305adaa7fb3e236ad08",
        "IPY_MODEL_fd27241e90d24986bb2f84b8296f0c28",
        "IPY_MODEL_af262229bc194503949cd68c6761fe09",
        "IPY_MODEL_eb7e07d8ba6444c39236884352e200c3",
        "IPY_MODEL_ac59c510e49b4a67859357141fc41a61"
       ],
       "nodes": [
        "IPY_MODEL_41564c0f8f0c4368a1124c503db4b8ed",
        "IPY_MODEL_39287309969c407b8085f47d3ffd9030",
        "IPY_MODEL_c7f57724cc574b22b844eea6f1b0fbc8",
        "IPY_MODEL_50368f4998224a29bd337b74d5513278",
        "IPY_MODEL_616c20d7a94a4d908c9d24a75482fa3f",
        "IPY_MODEL_342c0ecff74d4fd0b4bd29657d512187",
        "IPY_MODEL_68ece7800fb64088a9eba1b82b7f6187",
        "IPY_MODEL_9848f06abe6c4fac931adc78805eec91",
        "IPY_MODEL_036048843b2640a7bde3a15b2da32ff5",
        "IPY_MODEL_26c9a9a742af487d9a4f5afab94aa07c",
        "IPY_MODEL_cdade9ae70eb4ee9ae57735004d83fcf",
        "IPY_MODEL_bff656c3fb4b4e0a968062343d111216",
        "IPY_MODEL_55aa8359fb4740aa806d02b8d5b30b6d",
        "IPY_MODEL_2829f81f829042388925588b58e96f15",
        "IPY_MODEL_e611de8796554e7286c2cf824b1f6a03",
        "IPY_MODEL_92f308d5856446ac9de7550cdba2c1bf",
        "IPY_MODEL_049c49b3cca3445b84e2f49527e30244",
        "IPY_MODEL_a1012c35479f4370a04bccbfef255fe3",
        "IPY_MODEL_fb5ad3a2f9af400e9230acb06cacf7fc",
        "IPY_MODEL_be9c784d4a4940c3abf7d5b8ee2801d2",
        "IPY_MODEL_ed447a27f5cb48b39a7ce1c8d15b1790",
        "IPY_MODEL_7eb3a6cc3c0944819e545366d2658a64",
        "IPY_MODEL_57aa194f5e794b8d8480e0e098870082",
        "IPY_MODEL_43901dbeda3c4fa584a395f53eb3b74e",
        "IPY_MODEL_1b4db5a045f3439bac62c28b58da46d2",
        "IPY_MODEL_99fd4d20fe094f82b07fda86af4ca521",
        "IPY_MODEL_98e2d0e93b72494181709f88ce9a3562",
        "IPY_MODEL_8a49d4dc7a9d41799d2c3323d1c200f1",
        "IPY_MODEL_ec21e4e85c254914b78ff2870b8c7e5a",
        "IPY_MODEL_e7865249a3d94f85804d23ef27a3814c",
        "IPY_MODEL_b7bf6d101b8940a8b0712f04d76e133a",
        "IPY_MODEL_a1c43cce8af847039ce88d271a3a5867",
        "IPY_MODEL_89910ab8ee7947a58a8d2b253dbb4e4b",
        "IPY_MODEL_3191a8d91e1c4876a1dc611a2e347945",
        "IPY_MODEL_4a745534e2b64844950228b50cab5dd2",
        "IPY_MODEL_3f4b5337a47e43d0b11eb96a3c7d0de1"
       ]
      }
     },
     "a9e7280c5b964eb999ab427d2b22b3b7": {
      "model_module": "jupyter-cytoscape",
      "model_module_version": "^1.3.3",
      "model_name": "NodeModel",
      "state": {
       "_model_module_version": "^1.3.3",
       "_view_module_version": "^1.3.3",
       "data": {
        "color": "gray",
        "id": "2601438695660831798",
        "label": "2",
        "shape": "rectangle"
       },
       "grabbable": true,
       "grabbed": false,
       "selectable": false
      }
     },
     "ab13d0a8b7484084893a6aab5b2a73b2": {
      "model_module": "jupyter-cytoscape",
      "model_module_version": "^1.3.3",
      "model_name": "EdgeModel",
      "state": {
       "_model_module_version": "^1.3.3",
       "_view_module_version": "^1.3.3",
       "classes": " directed ",
       "data": {
        "source": "-3817565199602122438",
        "target": "5125598847137988848"
       },
       "selectable": false
      }
     },
     "ab636f135b0441f6a9c522bf8fb97365": {
      "model_module": "jupyter-cytoscape",
      "model_module_version": "^1.3.3",
      "model_name": "EdgeModel",
      "state": {
       "_model_module_version": "^1.3.3",
       "_view_module_version": "^1.3.3",
       "classes": " directed ",
       "data": {
        "source": "-5769699360084664581",
        "target": "4423224545294134894"
       },
       "selectable": false
      }
     },
     "ab68ea35d2c540439e754241a3ad7f36": {
      "model_module": "jupyter-cytoscape",
      "model_module_version": "^1.3.3",
      "model_name": "NodeModel",
      "state": {
       "_model_module_version": "^1.3.3",
       "_view_module_version": "^1.3.3",
       "data": {
        "color": "gray",
        "id": "-6686307814824829608",
        "label": "1",
        "shape": "rectangle"
       },
       "grabbable": true,
       "grabbed": false,
       "selectable": false
      }
     },
     "ab8d6becdc984585aede077c96eb0445": {
      "model_module": "jupyter-cytoscape",
      "model_module_version": "^1.3.3",
      "model_name": "EdgeModel",
      "state": {
       "_model_module_version": "^1.3.3",
       "_view_module_version": "^1.3.3",
       "classes": " directed ",
       "data": {
        "source": "7143069633224236115",
        "target": "-1454821431635411725"
       },
       "selectable": false
      }
     },
     "abad8a89865c419b95c9dc60d8901ade": {
      "model_module": "jupyter-cytoscape",
      "model_module_version": "^1.3.3",
      "model_name": "CytoscapeModel",
      "state": {
       "_interaction_handlers": {},
       "_model_module_version": "^1.3.3",
       "_view_module_version": "^1.3.3",
       "auto_ungrabify": false,
       "autolock": false,
       "cytoscape_layout": {
        "edgeSep": 10,
        "name": "dagre",
        "nodeDimensionsIncludeLabels": true,
        "nodeSep": 10,
        "rankDir": "BT",
        "spacingFactor": 1
       },
       "cytoscape_style": [
        {
         "selector": "node",
         "style": {
          "background-color": "#eee",
          "border-color": "data(color)",
          "border-width": 4,
          "color": "black",
          "font-family": "helvetica",
          "font-size": "24px",
          "font-weight": "bold",
          "height": 64,
          "label": "data(label)",
          "opacity": "1.0",
          "shape": "data(shape)",
          "text-halign": "center",
          "text-valign": "center",
          "width": 64
         }
        },
        {
         "selector": "edge",
         "style": {
          "curve-style": "bezier",
          "line-color": "gray",
          "target-arrow-color": "gray",
          "target-arrow-shape": "triangle",
          "width": 8
         }
        }
       ],
       "desktop_tap_threshold": 4,
       "graph": "IPY_MODEL_5474ffdaceab41258200a386ddee7cc8",
       "headless": false,
       "hide_edges_on_viewport": false,
       "layout": "IPY_MODEL_bf2185cbdf154dc38b539ca5c27c457a",
       "max_zoom": 4,
       "min_zoom": 0.2,
       "motion_blur": false,
       "motion_blur_opacity": 0.2,
       "panning_enabled": true,
       "pixel_ratio": "auto",
       "rendered_position": {
        "renderedPosition": {
         "x": 100,
         "y": 100
        }
       },
       "selection_type": "single",
       "style_enabled": true,
       "texture_on_viewport": false,
       "tooltip_source": "tooltip",
       "touch_tap_threshold": 8,
       "user_panning_enabled": true,
       "user_zooming_enabled": true,
       "wheel_sensitivity": 0.1,
       "zoom": 2,
       "zooming_enabled": true
      }
     },
     "abb90964c9b740b3a3bebf8894da1489": {
      "model_module": "jupyter-cytoscape",
      "model_module_version": "^1.3.3",
      "model_name": "EdgeModel",
      "state": {
       "_model_module_version": "^1.3.3",
       "_view_module_version": "^1.3.3",
       "classes": " directed ",
       "data": {
        "source": "-2573528208698158691",
        "target": "6826270806708122017"
       },
       "selectable": false
      }
     },
     "abd0e8980e354dc6a264336ca311ef3b": {
      "model_module": "jupyter-cytoscape",
      "model_module_version": "^1.3.3",
      "model_name": "EdgeModel",
      "state": {
       "_model_module_version": "^1.3.3",
       "_view_module_version": "^1.3.3",
       "classes": " directed ",
       "data": {
        "source": "6933965206717590703",
        "target": "-88669992118454490"
       },
       "selectable": false
      }
     },
     "abe54c78468943119ab5d8b38a1ac6c4": {
      "model_module": "jupyter-cytoscape",
      "model_module_version": "^1.3.3",
      "model_name": "EdgeModel",
      "state": {
       "_model_module_version": "^1.3.3",
       "_view_module_version": "^1.3.3",
       "classes": " directed ",
       "data": {
        "source": "-1226367335932640965",
        "target": "-8776769559527088828"
       },
       "selectable": false
      }
     },
     "ac2ebfe617b64ae4a697476de2999c7e": {
      "model_module": "jupyter-cytoscape",
      "model_module_version": "^1.3.3",
      "model_name": "EdgeModel",
      "state": {
       "_model_module_version": "^1.3.3",
       "_view_module_version": "^1.3.3",
       "classes": " directed ",
       "data": {
        "source": "-2573528208698158691",
        "target": "6826270806708122017"
       },
       "selectable": false
      }
     },
     "ac59c510e49b4a67859357141fc41a61": {
      "model_module": "jupyter-cytoscape",
      "model_module_version": "^1.3.3",
      "model_name": "EdgeModel",
      "state": {
       "_model_module_version": "^1.3.3",
       "_view_module_version": "^1.3.3",
       "classes": " directed ",
       "data": {
        "source": "582384380744980608",
        "target": "2644035846870505790"
       },
       "selectable": false
      }
     },
     "ac910d8d5939470a8b7e69843b7866a1": {
      "model_module": "jupyter-cytoscape",
      "model_module_version": "^1.3.3",
      "model_name": "EdgeModel",
      "state": {
       "_model_module_version": "^1.3.3",
       "_view_module_version": "^1.3.3",
       "classes": " directed ",
       "data": {
        "source": "-1488446068642167772",
        "target": "582384380744980608"
       },
       "selectable": false
      }
     },
     "ad00012519a94d84b97d1c3e02825998": {
      "model_module": "jupyter-cytoscape",
      "model_module_version": "^1.3.3",
      "model_name": "EdgeModel",
      "state": {
       "_model_module_version": "^1.3.3",
       "_view_module_version": "^1.3.3",
       "classes": " directed ",
       "data": {
        "source": "-6153133536884511323",
        "target": "4592959978031127271"
       },
       "selectable": false
      }
     },
     "ad1c91974ac54f33961bf5607e290279": {
      "model_module": "jupyter-cytoscape",
      "model_module_version": "^1.3.3",
      "model_name": "NodeModel",
      "state": {
       "_model_module_version": "^1.3.3",
       "_view_module_version": "^1.3.3",
       "data": {
        "color": "gray",
        "id": "5654608039452636496",
        "label": "0",
        "shape": "rectangle"
       },
       "grabbable": true,
       "grabbed": false,
       "selectable": false
      }
     },
     "ad2d63db48fa455a93df9f780035f50b": {
      "model_module": "jupyter-cytoscape",
      "model_module_version": "^1.3.3",
      "model_name": "EdgeModel",
      "state": {
       "_model_module_version": "^1.3.3",
       "_view_module_version": "^1.3.3",
       "classes": " directed ",
       "data": {
        "source": "-5190739199085998411",
        "target": "3534457344772271157"
       },
       "selectable": false
      }
     },
     "ad3b4481533342fea6ddaa44f3033e84": {
      "model_module": "jupyter-cytoscape",
      "model_module_version": "^1.3.3",
      "model_name": "EdgeModel",
      "state": {
       "_model_module_version": "^1.3.3",
       "_view_module_version": "^1.3.3",
       "classes": " directed ",
       "data": {
        "source": "-678342980587649050",
        "target": "8307019125499461979"
       },
       "selectable": false
      }
     },
     "ad4b6252c51e4233b066a4e678b9dc80": {
      "model_module": "jupyter-cytoscape",
      "model_module_version": "^1.3.3",
      "model_name": "EdgeModel",
      "state": {
       "_model_module_version": "^1.3.3",
       "_view_module_version": "^1.3.3",
       "classes": " directed ",
       "data": {
        "source": "-6686307814824829608",
        "target": "-6404083607924859039"
       },
       "selectable": false
      }
     },
     "ada188cac92941ed9ad1eb92e7a2e1df": {
      "model_module": "jupyter-cytoscape",
      "model_module_version": "^1.3.3",
      "model_name": "EdgeModel",
      "state": {
       "_model_module_version": "^1.3.3",
       "_view_module_version": "^1.3.3",
       "classes": " directed ",
       "data": {
        "source": "2732125137216078954",
        "target": "8307019125499461979"
       },
       "selectable": false
      }
     },
     "adb5279e589f47e3a22a84712cd5b1bd": {
      "model_module": "jupyter-cytoscape",
      "model_module_version": "^1.3.3",
      "model_name": "NodeModel",
      "state": {
       "_model_module_version": "^1.3.3",
       "_view_module_version": "^1.3.3",
       "data": {
        "color": "gray",
        "id": "-1580208454798506626",
        "label": "(2, 0, 0)",
        "shape": "rectangle"
       },
       "grabbable": true,
       "grabbed": false,
       "selectable": false
      }
     },
     "aded729cceed40cf8b0d3a8058e45ea6": {
      "model_module": "jupyter-cytoscape",
      "model_module_version": "^1.3.3",
      "model_name": "EdgeModel",
      "state": {
       "_model_module_version": "^1.3.3",
       "_view_module_version": "^1.3.3",
       "classes": " directed ",
       "data": {
        "source": "2958316773410150143",
        "target": "-1800958231532078890"
       },
       "selectable": false
      }
     },
     "ae4262d79d914cd5b00b0e6a8e062658": {
      "model_module": "jupyter-cytoscape",
      "model_module_version": "^1.3.3",
      "model_name": "NodeModel",
      "state": {
       "_model_module_version": "^1.3.3",
       "_view_module_version": "^1.3.3",
       "data": {
        "color": "gray",
        "id": "7642245102610051772",
        "label": "build_waves_multislice_detect",
        "shape": "ellipse"
       },
       "grabbable": true,
       "grabbed": false,
       "selectable": false
      }
     },
     "af262229bc194503949cd68c6761fe09": {
      "model_module": "jupyter-cytoscape",
      "model_module_version": "^1.3.3",
      "model_name": "EdgeModel",
      "state": {
       "_model_module_version": "^1.3.3",
       "_view_module_version": "^1.3.3",
       "classes": " directed ",
       "data": {
        "source": "-5925256375357017817",
        "target": "625420363714486229"
       },
       "selectable": false
      }
     },
     "af78a6fce2e24da9bf143d775a5d4366": {
      "model_module": "jupyter-cytoscape",
      "model_module_version": "^1.3.3",
      "model_name": "EdgeModel",
      "state": {
       "_model_module_version": "^1.3.3",
       "_view_module_version": "^1.3.3",
       "classes": " directed ",
       "data": {
        "source": "9001240909763029720",
        "target": "5224246106512664743"
       },
       "selectable": false
      }
     },
     "af86603e08eb4067bfa649d47e480e30": {
      "model_module": "jupyter-cytoscape",
      "model_module_version": "^1.3.3",
      "model_name": "EdgeModel",
      "state": {
       "_model_module_version": "^1.3.3",
       "_view_module_version": "^1.3.3",
       "classes": " directed ",
       "data": {
        "source": "6017847913203115259",
        "target": "-4682494566544635945"
       },
       "selectable": false
      }
     },
     "af88ed738c36493caf785c9a40e95fef": {
      "model_module": "jupyter-cytoscape",
      "model_module_version": "^1.3.3",
      "model_name": "NodeModel",
      "state": {
       "_model_module_version": "^1.3.3",
       "_view_module_version": "^1.3.3",
       "data": {
        "color": "gray",
        "id": "6826270806708122017",
        "label": "frozen_phonon",
        "shape": "ellipse"
       },
       "grabbable": true,
       "grabbed": false,
       "selectable": false
      }
     },
     "afd44b89cc334eb0b5c2f73f94b401a9": {
      "model_module": "jupyter-cytoscape",
      "model_module_version": "^1.3.3",
      "model_name": "NodeModel",
      "state": {
       "_model_module_version": "^1.3.3",
       "_view_module_version": "^1.3.3",
       "data": {
        "color": "gray",
        "id": "-5462731194043303418",
        "label": "build_waves_multislice_detect",
        "shape": "ellipse"
       },
       "grabbable": true,
       "grabbed": false,
       "selectable": false
      }
     },
     "affafddd2d224843a7a1c894b6e1ac5f": {
      "model_module": "jupyter-cytoscape",
      "model_module_version": "^1.3.3",
      "model_name": "NodeModel",
      "state": {
       "_model_module_version": "^1.3.3",
       "_view_module_version": "^1.3.3",
       "data": {
        "color": "gray",
        "id": "7642245102610051772",
        "label": "build_waves_multislice_detect",
        "shape": "ellipse"
       },
       "grabbable": true,
       "grabbed": false,
       "selectable": false
      }
     },
     "b0ccc4d31f5d4dfa94c98f3335ef2a16": {
      "model_module": "jupyter-cytoscape",
      "model_module_version": "^1.3.3",
      "model_name": "GraphModel",
      "state": {
       "_adj": {},
       "_model_module_version": "^1.3.3",
       "_view_module": "jupyter-cytoscape",
       "_view_module_version": "^1.3.3"
      }
     },
     "b0f51509ac674595aac0abff760b5151": {
      "model_module": "jupyter-cytoscape",
      "model_module_version": "^1.3.3",
      "model_name": "EdgeModel",
      "state": {
       "_model_module_version": "^1.3.3",
       "_view_module_version": "^1.3.3",
       "classes": " directed ",
       "data": {
        "source": "-8036199778869199068",
        "target": "8759406085844506703"
       },
       "selectable": false
      }
     },
     "b116062c39144bae8305bacf9fefea8f": {
      "model_module": "jupyter-cytoscape",
      "model_module_version": "^1.3.3",
      "model_name": "NodeModel",
      "state": {
       "_model_module_version": "^1.3.3",
       "_view_module_version": "^1.3.3",
       "data": {
        "color": "gray",
        "id": "-1226367335932640965",
        "label": "0",
        "shape": "rectangle"
       },
       "grabbable": true,
       "grabbed": false,
       "selectable": false
      }
     },
     "b14944c226754d2aa902b28a31937a7e": {
      "model_module": "jupyter-cytoscape",
      "model_module_version": "^1.3.3",
      "model_name": "EdgeModel",
      "state": {
       "_model_module_version": "^1.3.3",
       "_view_module_version": "^1.3.3",
       "classes": " directed ",
       "data": {
        "source": "4785411436509375566",
        "target": "3537663541289573858"
       },
       "selectable": false
      }
     },
     "b1b8f51103ff4bae8fbe00585ea0c95f": {
      "model_module": "jupyter-cytoscape",
      "model_module_version": "^1.3.3",
      "model_name": "NodeModel",
      "state": {
       "_model_module_version": "^1.3.3",
       "_view_module_version": "^1.3.3",
       "data": {
        "color": "gray",
        "id": "-1540672459395553730",
        "label": "(3, 0, 0)",
        "shape": "rectangle"
       },
       "grabbable": true,
       "grabbed": false,
       "selectable": false
      }
     },
     "b28a87ba186a4b0daf5f7403747f341c": {
      "model_module": "jupyter-cytoscape",
      "model_module_version": "^1.3.3",
      "model_name": "NodeModel",
      "state": {
       "_model_module_version": "^1.3.3",
       "_view_module_version": "^1.3.3",
       "data": {
        "color": "gray",
        "id": "6605405690337731129",
        "label": "build_waves_multislice_detect",
        "shape": "ellipse"
       },
       "grabbable": true,
       "grabbed": false,
       "selectable": false
      }
     },
     "b30136d41b294f6993e634c076aaaf41": {
      "model_module": "jupyter-cytoscape",
      "model_module_version": "^1.3.3",
      "model_name": "EdgeModel",
      "state": {
       "_model_module_version": "^1.3.3",
       "_view_module_version": "^1.3.3",
       "classes": " directed ",
       "data": {
        "source": "921498061346443229",
        "target": "-610012787654801415"
       },
       "selectable": false
      }
     },
     "b3151b9e9aed4b53834fbd92f9a4a4b6": {
      "model_module": "jupyter-cytoscape",
      "model_module_version": "^1.3.3",
      "model_name": "EdgeModel",
      "state": {
       "_model_module_version": "^1.3.3",
       "_view_module_version": "^1.3.3",
       "classes": " directed ",
       "data": {
        "source": "-1488446068642167772",
        "target": "582384380744980608"
       },
       "selectable": false
      }
     },
     "b3f0caf74ee34cd69318b540abe6cfae": {
      "model_module": "jupyter-cytoscape",
      "model_module_version": "^1.3.3",
      "model_name": "NodeModel",
      "state": {
       "_model_module_version": "^1.3.3",
       "_view_module_version": "^1.3.3",
       "data": {
        "color": "gray",
        "id": "-1226367335932640965",
        "label": "0",
        "shape": "rectangle"
       },
       "grabbable": true,
       "grabbed": false,
       "selectable": false
      }
     },
     "b44a967418144b3f8e9a419d51334b38": {
      "model_module": "jupyter-cytoscape",
      "model_module_version": "^1.3.3",
      "model_name": "NodeModel",
      "state": {
       "_model_module_version": "^1.3.3",
       "_view_module_version": "^1.3.3",
       "data": {
        "color": "gray",
        "id": "-521809497029383009",
        "label": "mean_agg-aggregate",
        "shape": "ellipse"
       },
       "grabbable": true,
       "grabbed": false,
       "selectable": false
      }
     },
     "b4c02fbe439b4d63beea7c824d5ec189": {
      "model_module": "jupyter-cytoscape",
      "model_module_version": "^1.3.3",
      "model_name": "NodeModel",
      "state": {
       "_model_module_version": "^1.3.3",
       "_view_module_version": "^1.3.3",
       "data": {
        "color": "gray",
        "id": "-6553637324542115266",
        "label": "(3, 0, 0)",
        "shape": "rectangle"
       },
       "grabbable": true,
       "grabbed": false,
       "selectable": false
      }
     },
     "b4d5545ba2204ddfa030bf365c2288c1": {
      "model_module": "jupyter-cytoscape",
      "model_module_version": "^1.3.3",
      "model_name": "EdgeModel",
      "state": {
       "_model_module_version": "^1.3.3",
       "_view_module_version": "^1.3.3",
       "classes": " directed ",
       "data": {
        "source": "-1800958231532078890",
        "target": "6825927405394541791"
       },
       "selectable": false
      }
     },
     "b5cde26ede584013aff5966c264accf7": {
      "model_module": "jupyter-cytoscape",
      "model_module_version": "^1.3.3",
      "model_name": "EdgeModel",
      "state": {
       "_model_module_version": "^1.3.3",
       "_view_module_version": "^1.3.3",
       "classes": " directed ",
       "data": {
        "source": "2958316773410150143",
        "target": "-1800958231532078890"
       },
       "selectable": false
      }
     },
     "b5d967722ea244a6b72150dacc7243d5": {
      "model_module": "jupyter-cytoscape",
      "model_module_version": "^1.3.3",
      "model_name": "NodeModel",
      "state": {
       "_model_module_version": "^1.3.3",
       "_view_module_version": "^1.3.3",
       "data": {
        "color": "gray",
        "id": "6548439309187638817",
        "label": "build_waves_multislice_detect",
        "shape": "ellipse"
       },
       "grabbable": true,
       "grabbed": false,
       "selectable": false
      }
     },
     "b63042ec0cfd497fbda38cea22335aea": {
      "model_module": "jupyter-cytoscape",
      "model_module_version": "^1.3.3",
      "model_name": "EdgeModel",
      "state": {
       "_model_module_version": "^1.3.3",
       "_view_module_version": "^1.3.3",
       "classes": " directed ",
       "data": {
        "source": "-1800958231532078890",
        "target": "6825927405394541791"
       },
       "selectable": false
      }
     },
     "b652decf12c046978fadf52d1897ccbb": {
      "model_module": "jupyter-cytoscape",
      "model_module_version": "^1.3.3",
      "model_name": "EdgeModel",
      "state": {
       "_model_module_version": "^1.3.3",
       "_view_module_version": "^1.3.3",
       "classes": " directed ",
       "data": {
        "source": "-3915436992879133533",
        "target": "-6553637324542115266"
       },
       "selectable": false
      }
     },
     "b6fd0634e86148119e219ac7f8ee4a2e": {
      "model_module": "jupyter-cytoscape",
      "model_module_version": "^1.3.3",
      "model_name": "NodeModel",
      "state": {
       "_model_module_version": "^1.3.3",
       "_view_module_version": "^1.3.3",
       "data": {
        "color": "gray",
        "id": "-8980786544197403048",
        "label": "1",
        "shape": "rectangle"
       },
       "grabbable": true,
       "grabbed": false,
       "selectable": false
      }
     },
     "b72f885628fb497d8dee3a90d75d4515": {
      "model_module": "jupyter-cytoscape",
      "model_module_version": "^1.3.3",
      "model_name": "EdgeModel",
      "state": {
       "_model_module_version": "^1.3.3",
       "_view_module_version": "^1.3.3",
       "classes": " directed ",
       "data": {
        "source": "-6292486031629062684",
        "target": "-9146598646079689744"
       },
       "selectable": false
      }
     },
     "b7a941114f1b40ffbfbc1773b13914c1": {
      "model_module": "jupyter-cytoscape",
      "model_module_version": "^1.3.3",
      "model_name": "EdgeModel",
      "state": {
       "_model_module_version": "^1.3.3",
       "_view_module_version": "^1.3.3",
       "classes": " directed ",
       "data": {
        "source": "8341276412589156804",
        "target": "6961277806433087080"
       },
       "selectable": false
      }
     },
     "b7bf6d101b8940a8b0712f04d76e133a": {
      "model_module": "jupyter-cytoscape",
      "model_module_version": "^1.3.3",
      "model_name": "NodeModel",
      "state": {
       "_model_module_version": "^1.3.3",
       "_view_module_version": "^1.3.3",
       "data": {
        "color": "gray",
        "id": "-8646584789489772301",
        "label": "extract_measurement",
        "shape": "ellipse"
       },
       "grabbable": true,
       "grabbed": false,
       "selectable": false
      }
     },
     "b817eaa46f6241ad98fd6fa338cc5b93": {
      "model_module": "jupyter-cytoscape",
      "model_module_version": "^1.3.3",
      "model_name": "EdgeModel",
      "state": {
       "_model_module_version": "^1.3.3",
       "_view_module_version": "^1.3.3",
       "classes": " directed ",
       "data": {
        "source": "7682358205353615673",
        "target": "6017847913203115259"
       },
       "selectable": false
      }
     },
     "b8b1f15d94914a78bd0243e61506d806": {
      "model_module": "jupyter-cytoscape",
      "model_module_version": "^1.3.3",
      "model_name": "EdgeModel",
      "state": {
       "_model_module_version": "^1.3.3",
       "_view_module_version": "^1.3.3",
       "classes": " directed ",
       "data": {
        "source": "4776900485209766422",
        "target": "6605405690337731129"
       },
       "selectable": false
      }
     },
     "b90446ab1cea4bef8bdc82f8ece166d1": {
      "model_module": "jupyter-cytoscape",
      "model_module_version": "^1.3.3",
      "model_name": "NodeModel",
      "state": {
       "_model_module_version": "^1.3.3",
       "_view_module_version": "^1.3.3",
       "data": {
        "color": "gray",
        "id": "4776900485209766422",
        "label": "2",
        "shape": "rectangle"
       },
       "grabbable": true,
       "grabbed": false,
       "selectable": false
      }
     },
     "b9362cee27a1440e98fe4ef1e862a802": {
      "model_module": "jupyter-cytoscape",
      "model_module_version": "^1.3.3",
      "model_name": "NodeModel",
      "state": {
       "_model_module_version": "^1.3.3",
       "_view_module_version": "^1.3.3",
       "data": {
        "color": "gray",
        "id": "-5160549817563923719",
        "label": "2",
        "shape": "rectangle"
       },
       "grabbable": true,
       "grabbed": false,
       "selectable": false
      }
     },
     "b938cc60447041c2a72fe80383c52434": {
      "model_module": "jupyter-cytoscape",
      "model_module_version": "^1.3.3",
      "model_name": "EdgeModel",
      "state": {
       "_model_module_version": "^1.3.3",
       "_view_module_version": "^1.3.3",
       "classes": " directed ",
       "data": {
        "source": "8446372007758624814",
        "target": "2958316773410150143"
       },
       "selectable": false
      }
     },
     "b9aa19fe9a0b4456b17af3e3a587cc14": {
      "model_module": "jupyter-cytoscape",
      "model_module_version": "^1.3.3",
      "model_name": "EdgeModel",
      "state": {
       "_model_module_version": "^1.3.3",
       "_view_module_version": "^1.3.3",
       "classes": " directed ",
       "data": {
        "source": "8307019125499461979",
        "target": "-8752789098251752585"
       },
       "selectable": false
      }
     },
     "bb0ad18f940a465eb4438fc385c3e2c2": {
      "model_module": "jupyter-cytoscape",
      "model_module_version": "^1.3.3",
      "model_name": "CytoscapeModel",
      "state": {
       "_interaction_handlers": {},
       "_model_module_version": "^1.3.3",
       "_view_module_version": "^1.3.3",
       "auto_ungrabify": false,
       "autolock": false,
       "cytoscape_layout": {
        "edgeSep": 10,
        "name": "dagre",
        "nodeDimensionsIncludeLabels": true,
        "nodeSep": 10,
        "rankDir": "BT",
        "spacingFactor": 1
       },
       "cytoscape_style": [
        {
         "selector": "node",
         "style": {
          "background-color": "#eee",
          "border-color": "data(color)",
          "border-width": 4,
          "color": "black",
          "font-family": "helvetica",
          "font-size": "24px",
          "font-weight": "bold",
          "height": 64,
          "label": "data(label)",
          "opacity": "1.0",
          "shape": "data(shape)",
          "text-halign": "center",
          "text-valign": "center",
          "width": 64
         }
        },
        {
         "selector": "edge",
         "style": {
          "curve-style": "bezier",
          "line-color": "gray",
          "target-arrow-color": "gray",
          "target-arrow-shape": "triangle",
          "width": 8
         }
        }
       ],
       "desktop_tap_threshold": 4,
       "graph": "IPY_MODEL_c3f0ecb9bff24a23a9cd20620c771747",
       "headless": false,
       "hide_edges_on_viewport": false,
       "layout": "IPY_MODEL_85fd96d4c2344d68afc046c0be0dd77e",
       "max_zoom": 4,
       "min_zoom": 0.2,
       "motion_blur": false,
       "motion_blur_opacity": 0.2,
       "panning_enabled": true,
       "pixel_ratio": "auto",
       "rendered_position": {
        "renderedPosition": {
         "x": 100,
         "y": 100
        }
       },
       "selection_type": "single",
       "style_enabled": true,
       "texture_on_viewport": false,
       "tooltip_source": "tooltip",
       "touch_tap_threshold": 8,
       "user_panning_enabled": true,
       "user_zooming_enabled": true,
       "wheel_sensitivity": 0.1,
       "zoom": 2,
       "zooming_enabled": true
      }
     },
     "bb85576dff844739946e00c8432fd903": {
      "model_module": "jupyter-cytoscape",
      "model_module_version": "^1.3.3",
      "model_name": "EdgeModel",
      "state": {
       "_model_module_version": "^1.3.3",
       "_view_module_version": "^1.3.3",
       "classes": " directed ",
       "data": {
        "source": "5174968986753358098",
        "target": "-2343004666951745933"
       },
       "selectable": false
      }
     },
     "bbdfac9355234607b51b86927bd25ae6": {
      "model_module": "jupyter-cytoscape",
      "model_module_version": "^1.3.3",
      "model_name": "NodeModel",
      "state": {
       "_model_module_version": "^1.3.3",
       "_view_module_version": "^1.3.3",
       "data": {
        "color": "gray",
        "id": "7420231043237664239",
        "label": "",
        "shape": "rectangle"
       },
       "grabbable": true,
       "grabbed": false,
       "selectable": false
      }
     },
     "bc34af135acc46808de07a35ede4d30a": {
      "model_module": "jupyter-cytoscape",
      "model_module_version": "^1.3.3",
      "model_name": "NodeModel",
      "state": {
       "_model_module_version": "^1.3.3",
       "_view_module_version": "^1.3.3",
       "data": {
        "color": "gray",
        "id": "4596392545168703649",
        "label": "frozen_phonon",
        "shape": "ellipse"
       },
       "grabbable": true,
       "grabbed": false,
       "selectable": false
      }
     },
     "bcac546037a04fc28864496a421cfade": {
      "model_module": "jupyter-cytoscape",
      "model_module_version": "^1.3.3",
      "model_name": "EdgeModel",
      "state": {
       "_model_module_version": "^1.3.3",
       "_view_module_version": "^1.3.3",
       "classes": " directed ",
       "data": {
        "source": "-2316132916475259725",
        "target": "986871968531529739"
       },
       "selectable": false
      }
     },
     "bcc59b3bbda5445b8f3e4372bb2b43f5": {
      "model_module": "jupyter-cytoscape",
      "model_module_version": "^1.3.3",
      "model_name": "EdgeModel",
      "state": {
       "_model_module_version": "^1.3.3",
       "_view_module_version": "^1.3.3",
       "classes": " directed ",
       "data": {
        "source": "-2318498712959465226",
        "target": "-6881435542652321523"
       },
       "selectable": false
      }
     },
     "bccbc26ea31544239a47f69505b2700b": {
      "model_module": "jupyter-cytoscape",
      "model_module_version": "^1.3.3",
      "model_name": "NodeModel",
      "state": {
       "_model_module_version": "^1.3.3",
       "_view_module_version": "^1.3.3",
       "data": {
        "color": "gray",
        "id": "-5586142694755555196",
        "label": "1",
        "shape": "rectangle"
       },
       "grabbable": true,
       "grabbed": false,
       "selectable": false
      }
     },
     "bd1efbeced9141ddbb3d1153e4ebe1be": {
      "model_module": "jupyter-cytoscape",
      "model_module_version": "^1.3.3",
      "model_name": "EdgeModel",
      "state": {
       "_model_module_version": "^1.3.3",
       "_view_module_version": "^1.3.3",
       "classes": " directed ",
       "data": {
        "source": "-1454821431635411725",
        "target": "4776900485209766422"
       },
       "selectable": false
      }
     },
     "bd384fb0a0844a25b38116b90539f8d6": {
      "model_module": "jupyter-cytoscape",
      "model_module_version": "^1.3.3",
      "model_name": "NodeModel",
      "state": {
       "_model_module_version": "^1.3.3",
       "_view_module_version": "^1.3.3",
       "data": {
        "color": "gray",
        "id": "4785411436509375566",
        "label": "",
        "shape": "rectangle"
       },
       "grabbable": true,
       "grabbed": false,
       "selectable": false
      }
     },
     "be816ed204de4265accca3a0c94d31a8": {
      "model_module": "jupyter-cytoscape",
      "model_module_version": "^1.3.3",
      "model_name": "NodeModel",
      "state": {
       "_model_module_version": "^1.3.3",
       "_view_module_version": "^1.3.3",
       "data": {
        "color": "gray",
        "id": "-2297275566705832746",
        "label": "",
        "shape": "rectangle"
       },
       "grabbable": true,
       "grabbed": false,
       "selectable": false
      }
     },
     "be9c784d4a4940c3abf7d5b8ee2801d2": {
      "model_module": "jupyter-cytoscape",
      "model_module_version": "^1.3.3",
      "model_name": "NodeModel",
      "state": {
       "_model_module_version": "^1.3.3",
       "_view_module_version": "^1.3.3",
       "data": {
        "color": "gray",
        "id": "5175792930573095707",
        "label": "0",
        "shape": "rectangle"
       },
       "grabbable": true,
       "grabbed": false,
       "selectable": false
      }
     },
     "bed33e6e46044645b47ca6b17682df19": {
      "model_module": "jupyter-cytoscape",
      "model_module_version": "^1.3.3",
      "model_name": "NodeModel",
      "state": {
       "_model_module_version": "^1.3.3",
       "_view_module_version": "^1.3.3",
       "data": {
        "color": "gray",
        "id": "-5925256375357017817",
        "label": "2",
        "shape": "rectangle"
       },
       "grabbable": true,
       "grabbed": false,
       "selectable": false
      }
     },
     "bf07b1477d5448699745696a8896828c": {
      "model_module": "jupyter-cytoscape",
      "model_module_version": "^1.3.3",
      "model_name": "NodeModel",
      "state": {
       "_model_module_version": "^1.3.3",
       "_view_module_version": "^1.3.3",
       "data": {
        "color": "gray",
        "id": "7143069633224236115",
        "label": "",
        "shape": "rectangle"
       },
       "grabbable": true,
       "grabbed": false,
       "selectable": false
      }
     },
     "bf2185cbdf154dc38b539ca5c27c457a": {
      "model_module": "@jupyter-widgets/base",
      "model_module_version": "2.0.0",
      "model_name": "LayoutModel",
      "state": {
       "_model_name": "LayoutModel",
       "_view_name": "ErrorWidgetView",
       "align_content": null,
       "align_items": null,
       "align_self": null,
       "border": null,
       "bottom": null,
       "display": null,
       "error": {},
       "flex": null,
       "flex_flow": null,
       "grid_area": null,
       "grid_auto_columns": null,
       "grid_auto_flow": null,
       "grid_auto_rows": null,
       "grid_column": null,
       "grid_gap": null,
       "grid_row": null,
       "grid_template_areas": null,
       "grid_template_columns": null,
       "grid_template_rows": null,
       "height": "400px",
       "justify_content": null,
       "justify_items": null,
       "left": null,
       "margin": null,
       "max_height": null,
       "max_width": null,
       "min_height": null,
       "min_width": null,
       "msg": "Failed to load model class 'LayoutModel' from module '@jupyter-widgets/base'",
       "object_fit": null,
       "object_position": null,
       "order": null,
       "overflow": null,
       "overflow_x": null,
       "overflow_y": null,
       "padding": null,
       "right": null,
       "top": null,
       "visibility": null,
       "width": null
      }
     },
     "bf28cd2ee23b47549571e5cb504181cb": {
      "model_module": "jupyter-cytoscape",
      "model_module_version": "^1.3.3",
      "model_name": "NodeModel",
      "state": {
       "_model_module_version": "^1.3.3",
       "_view_module_version": "^1.3.3",
       "data": {
        "color": "gray",
        "id": "-5769699360084664581",
        "label": "",
        "shape": "rectangle"
       },
       "grabbable": true,
       "grabbed": false,
       "selectable": false
      }
     },
     "bf83503047fd459cbcceed9796c7e45c": {
      "model_module": "jupyter-cytoscape",
      "model_module_version": "^1.3.3",
      "model_name": "EdgeModel",
      "state": {
       "_model_module_version": "^1.3.3",
       "_view_module_version": "^1.3.3",
       "classes": " directed ",
       "data": {
        "source": "-4756616172800127912",
        "target": "6682166873657082499"
       },
       "selectable": false
      }
     },
     "bff656c3fb4b4e0a968062343d111216": {
      "model_module": "jupyter-cytoscape",
      "model_module_version": "^1.3.3",
      "model_name": "NodeModel",
      "state": {
       "_model_module_version": "^1.3.3",
       "_view_module_version": "^1.3.3",
       "data": {
        "color": "gray",
        "id": "-3211400314611901149",
        "label": "0",
        "shape": "rectangle"
       },
       "grabbable": true,
       "grabbed": false,
       "selectable": false
      }
     },
     "c06679d9bde44f31a6793697e42b810d": {
      "model_module": "jupyter-cytoscape",
      "model_module_version": "^1.3.3",
      "model_name": "NodeModel",
      "state": {
       "_model_module_version": "^1.3.3",
       "_view_module_version": "^1.3.3",
       "data": {
        "color": "gray",
        "id": "-1800958231532078890",
        "label": "extract_measurement",
        "shape": "ellipse"
       },
       "grabbable": true,
       "grabbed": false,
       "selectable": false
      }
     },
     "c0c61712ded14bd289b60365102ebd1f": {
      "model_module": "jupyter-cytoscape",
      "model_module_version": "^1.3.3",
      "model_name": "NodeModel",
      "state": {
       "_model_module_version": "^1.3.3",
       "_view_module_version": "^1.3.3",
       "data": {
        "color": "gray",
        "id": "1060028317720854565",
        "label": "extract_measurement",
        "shape": "ellipse"
       },
       "grabbable": true,
       "grabbed": false,
       "selectable": false
      }
     },
     "c177d2c93085418ab3aa323221f5ef98": {
      "model_module": "@jupyter-widgets/base",
      "model_module_version": "2.0.0",
      "model_name": "LayoutModel",
      "state": {
       "_model_name": "LayoutModel",
       "_view_name": "ErrorWidgetView",
       "align_content": null,
       "align_items": null,
       "align_self": null,
       "border": null,
       "bottom": null,
       "display": null,
       "error": {},
       "flex": null,
       "flex_flow": null,
       "grid_area": null,
       "grid_auto_columns": null,
       "grid_auto_flow": null,
       "grid_auto_rows": null,
       "grid_column": null,
       "grid_gap": null,
       "grid_row": null,
       "grid_template_areas": null,
       "grid_template_columns": null,
       "grid_template_rows": null,
       "height": "400px",
       "justify_content": null,
       "justify_items": null,
       "left": null,
       "margin": null,
       "max_height": null,
       "max_width": null,
       "min_height": null,
       "min_width": null,
       "msg": "Failed to load model class 'LayoutModel' from module '@jupyter-widgets/base'",
       "object_fit": null,
       "object_position": null,
       "order": null,
       "overflow": null,
       "overflow_x": null,
       "overflow_y": null,
       "padding": null,
       "right": null,
       "top": null,
       "visibility": null,
       "width": null
      }
     },
     "c1fc2a73a1f144a88460d64f375b1969": {
      "model_module": "jupyter-cytoscape",
      "model_module_version": "^1.3.3",
      "model_name": "NodeModel",
      "state": {
       "_model_module_version": "^1.3.3",
       "_view_module_version": "^1.3.3",
       "data": {
        "color": "gray",
        "id": "524951156334244113",
        "label": "",
        "shape": "rectangle"
       },
       "grabbable": true,
       "grabbed": false,
       "selectable": false
      }
     },
     "c27146352df147af9b481b764eb9d1af": {
      "model_module": "jupyter-cytoscape",
      "model_module_version": "^1.3.3",
      "model_name": "EdgeModel",
      "state": {
       "_model_module_version": "^1.3.3",
       "_view_module_version": "^1.3.3",
       "classes": " directed ",
       "data": {
        "source": "-8261734515551322312",
        "target": "-6000206154981272589"
       },
       "selectable": false
      }
     },
     "c2b75c137423450b89dd4df4066746c1": {
      "model_module": "jupyter-cytoscape",
      "model_module_version": "^1.3.3",
      "model_name": "NodeModel",
      "state": {
       "_model_module_version": "^1.3.3",
       "_view_module_version": "^1.3.3",
       "data": {
        "color": "gray",
        "id": "7127962364535129780",
        "label": "",
        "shape": "rectangle"
       },
       "grabbable": true,
       "grabbed": false,
       "selectable": false
      }
     },
     "c2ed2000014b447ea76ef4cb90132036": {
      "model_module": "jupyter-cytoscape",
      "model_module_version": "^1.3.3",
      "model_name": "NodeModel",
      "state": {
       "_model_module_version": "^1.3.3",
       "_view_module_version": "^1.3.3",
       "data": {
        "color": "gray",
        "id": "-5160549817563923719",
        "label": "2",
        "shape": "rectangle"
       },
       "grabbable": true,
       "grabbed": false,
       "selectable": false
      }
     },
     "c379debc2ec940468b5dca8617705658": {
      "model_module": "jupyter-cytoscape",
      "model_module_version": "^1.3.3",
      "model_name": "EdgeModel",
      "state": {
       "_model_module_version": "^1.3.3",
       "_view_module_version": "^1.3.3",
       "classes": " directed ",
       "data": {
        "source": "6778553500043629472",
        "target": "1123258925578254493"
       },
       "selectable": false
      }
     },
     "c3e88ccff6934ee9b382d96aee6ab5cb": {
      "model_module": "jupyter-cytoscape",
      "model_module_version": "^1.3.3",
      "model_name": "EdgeModel",
      "state": {
       "_model_module_version": "^1.3.3",
       "_view_module_version": "^1.3.3",
       "classes": " directed ",
       "data": {
        "source": "4002729701868916562",
        "target": "-1580208454798506626"
       },
       "selectable": false
      }
     },
     "c3f0ecb9bff24a23a9cd20620c771747": {
      "model_module": "jupyter-cytoscape",
      "model_module_version": "^1.3.3",
      "model_name": "GraphModel",
      "state": {
       "_adj": {
        "-1226367335932640965": {
         "-8776769559527088828": 1
        },
        "-1454821431635411725": {
         "4776900485209766422": 1
        },
        "-1800958231532078890": {
         "6825927405394541791": 1
        },
        "-2297275566705832746": {
         "-1226367335932640965": 1
        },
        "-2573528208698158691": {
         "6826270806708122017": 1
        },
        "-3366324276772900629": {
         "4543517768215573707": 1
        },
        "-3915436992879133533": {
         "-6553637324542115266": 1
        },
        "-4756616172800127912": {
         "6682166873657082499": 1
        },
        "-5769699360084664581": {
         "4423224545294134894": 1
        },
        "-6553637324542115266": {},
        "-6646829093793065682": {
         "7143069633224236115": 1
        },
        "-6680118790443633764": {
         "7876181867568370685": 1
        },
        "-7162202832397786769": {
         "-4756616172800127912": 1
        },
        "-8776769559527088828": {
         "7642245102610051772": 1
        },
        "-8980786544197403048": {
         "7077065919116520802": 1
        },
        "174526117555084074": {
         "5455551797699507121": 1
        },
        "2587405991069435440": {},
        "2958316773410150143": {
         "-1800958231532078890": 1
        },
        "3162333758080464363": {
         "8446372007758624814": 1
        },
        "3537663541289573858": {
         "-3366324276772900629": 1
        },
        "4423224545294134894": {
         "-6680118790443633764": 1
        },
        "4543517768215573707": {
         "-7162202832397786769": 1
        },
        "4730913378417847910": {},
        "4776900485209766422": {
         "6605405690337731129": 1
        },
        "4785411436509375566": {
         "3537663541289573858": 1
        },
        "524951156334244113": {
         "-6646829093793065682": 1
        },
        "5455551797699507121": {
         "2587405991069435440": 1
        },
        "6605405690337731129": {
         "174526117555084074": 1
        },
        "6682166873657082499": {
         "-3915436992879133533": 1
        },
        "6825927405394541791": {},
        "6826270806708122017": {
         "-2297275566705832746": 1
        },
        "7077065919116520802": {
         "4730913378417847910": 1
        },
        "7143069633224236115": {
         "-1454821431635411725": 1
        },
        "7642245102610051772": {
         "-8980786544197403048": 1
        },
        "7876181867568370685": {
         "3162333758080464363": 1
        },
        "8446372007758624814": {
         "2958316773410150143": 1
        }
       },
       "_model_module_version": "^1.3.3",
       "_view_module": "jupyter-cytoscape",
       "_view_module_version": "^1.3.3",
       "edges": [
        "IPY_MODEL_13dc2383a19542f1b01649a4bb15311f",
        "IPY_MODEL_c6bdb44201b3458c8750167791b2d535",
        "IPY_MODEL_8ccb0e722c8945c1a032c601b4098ac8",
        "IPY_MODEL_11838b7322eb4193a1b5310fca02cfe4",
        "IPY_MODEL_ffe18566e04d425a9f03e6bca67aaca9",
        "IPY_MODEL_54f522aa8e514f42a00425523c6afa7d",
        "IPY_MODEL_a520f8a0429041acb5c4dad52551e8ea",
        "IPY_MODEL_98a439e87e804b07b771889a12ed344b",
        "IPY_MODEL_3fe25cae02bb453fb29771c9fda3117a",
        "IPY_MODEL_9717427b5e344e8dadcc586083646dbb",
        "IPY_MODEL_8388b92c7c33422a88886ae6f331dddf",
        "IPY_MODEL_776cb65bdc6c4ceb9e95daf5b7ed649a",
        "IPY_MODEL_13cb8bc8f0444344922e6b03c60dc566",
        "IPY_MODEL_1f9cb9b8d5c840dd81b732bcd9d3cea2",
        "IPY_MODEL_b14944c226754d2aa902b28a31937a7e",
        "IPY_MODEL_f7d2d2894a8b4063bc1883d4ce35f9ee",
        "IPY_MODEL_f7760d6cb0d247848d583a73897c4fcf",
        "IPY_MODEL_98cc4773bde747fc9a62651695d48661",
        "IPY_MODEL_4778e6cee9c54e5a82593343eaa8dab9",
        "IPY_MODEL_83b64ce57c30415094344ce771192c56",
        "IPY_MODEL_d25c56f0c5554cb0aecad6fc100cc657",
        "IPY_MODEL_b8b1f15d94914a78bd0243e61506d806",
        "IPY_MODEL_3306ca30fad44762ad4efb60b297a7bc",
        "IPY_MODEL_0c41e366ab4849b2892c30f2ac9da476",
        "IPY_MODEL_b63042ec0cfd497fbda38cea22335aea",
        "IPY_MODEL_5e8b19bfe1554284b5e61342708eb714",
        "IPY_MODEL_938c9befcc3045429e32d2f47c5c6b70",
        "IPY_MODEL_2598c868bda54354a1d79d14ffe862ed",
        "IPY_MODEL_3ee82b9a090b4186a76ec5268fd76503",
        "IPY_MODEL_ed087ec1953a412ab885e343102a906a",
        "IPY_MODEL_ccdd1416954747719d85e68d2562927e",
        "IPY_MODEL_243af1ba3800448abd9f7eb51cffdba4"
       ],
       "nodes": [
        "IPY_MODEL_76429cde0c09457aa34a4700dfc147b9",
        "IPY_MODEL_9e0249b728f5401a9496cf8ad906cf32",
        "IPY_MODEL_b90446ab1cea4bef8bdc82f8ece166d1",
        "IPY_MODEL_c56e321f54f4471d8267d2f6dabe3ecf",
        "IPY_MODEL_46e05320dd7b4adf80a6737b054b074d",
        "IPY_MODEL_a33f6037bb5e4692a407df18f58e9873",
        "IPY_MODEL_f9dcadee0d044c77a27e537f37a4ef7d",
        "IPY_MODEL_d1ff257657cf438fa4572f980518929d",
        "IPY_MODEL_e5071f77a83a4d6bac82e562638d221b",
        "IPY_MODEL_af88ed738c36493caf785c9a40e95fef",
        "IPY_MODEL_7a2bdf62c9074e68b0ab7fc6a12a5df3",
        "IPY_MODEL_b116062c39144bae8305bacf9fefea8f",
        "IPY_MODEL_89fcd5c0e3384c7390cbd29838aa4be9",
        "IPY_MODEL_5bced4d54e054ffbb920e7dae5c0eae7",
        "IPY_MODEL_776326ba62a24842bd89953c76ab2523",
        "IPY_MODEL_3bcfe453cc18467bb90e0a9ef5f14dd8",
        "IPY_MODEL_36817a487d4847da95453600a95d638a",
        "IPY_MODEL_fc58889afcaa4b859f8438716e659c88",
        "IPY_MODEL_2e6d58cfa0e246b8ba4033bbea475fae",
        "IPY_MODEL_434aece7e19348a1b982eecf0478718f",
        "IPY_MODEL_fa2d48b1cc5a41dc8f21af3f9ac3b3ea",
        "IPY_MODEL_679d694335694f8aa41b1f11dd346e1b",
        "IPY_MODEL_461d81d384e846baa72173d6ee1de381",
        "IPY_MODEL_350b7df569944ff5b6f2df3287e550b1",
        "IPY_MODEL_f732b3e890e6493aad4310370ce3ce40",
        "IPY_MODEL_ec7b482ef6c14f299179332997aaf731",
        "IPY_MODEL_6beefe9c4eeb4ee8b4c12fbd36e508c0",
        "IPY_MODEL_2e62122c87714735aa8ec8c38a3f375c",
        "IPY_MODEL_94c456c3f9c7434f9199e6ad205bb748",
        "IPY_MODEL_6f7c8f50a3514376bfb477121147cd55",
        "IPY_MODEL_148ac9789bef44fcbcb204a8dba72d40",
        "IPY_MODEL_4716f697bfdf4a918d9276860b9c4549",
        "IPY_MODEL_759268409cf048e491513fbbf43a9176",
        "IPY_MODEL_810eec532e9e4551b134d9389983dc1b",
        "IPY_MODEL_0696da2006154af9bc28f95a74b118a5",
        "IPY_MODEL_b4c02fbe439b4d63beea7c824d5ec189"
       ]
      }
     },
     "c40c61418af2428dbbbd59c48904a60d": {
      "model_module": "jupyter-cytoscape",
      "model_module_version": "^1.3.3",
      "model_name": "NodeModel",
      "state": {
       "_model_module_version": "^1.3.3",
       "_view_module_version": "^1.3.3",
       "data": {
        "color": "gray",
        "id": "7061443493384821196",
        "label": "intensity",
        "shape": "ellipse"
       },
       "grabbable": true,
       "grabbed": false,
       "selectable": false
      }
     },
     "c4512ebac58e4058a9096f09ea4b1a5a": {
      "model_module": "jupyter-cytoscape",
      "model_module_version": "^1.3.3",
      "model_name": "EdgeModel",
      "state": {
       "_model_module_version": "^1.3.3",
       "_view_module_version": "^1.3.3",
       "classes": " directed ",
       "data": {
        "source": "8446372007758624814",
        "target": "2958316773410150143"
       },
       "selectable": false
      }
     },
     "c46d17fd0c3144b391e5c780a02a91b0": {
      "model_module": "jupyter-cytoscape",
      "model_module_version": "^1.3.3",
      "model_name": "NodeModel",
      "state": {
       "_model_module_version": "^1.3.3",
       "_view_module_version": "^1.3.3",
       "data": {
        "color": "gray",
        "id": "7235242250734662488",
        "label": "",
        "shape": "rectangle"
       },
       "grabbable": true,
       "grabbed": false,
       "selectable": false
      }
     },
     "c4a2725d0b5c49b881aeecd5cebf748a": {
      "model_module": "jupyter-cytoscape",
      "model_module_version": "^1.3.3",
      "model_name": "NodeModel",
      "state": {
       "_model_module_version": "^1.3.3",
       "_view_module_version": "^1.3.3",
       "data": {
        "color": "gray",
        "id": "-6680118790443633764",
        "label": "",
        "shape": "rectangle"
       },
       "grabbable": true,
       "grabbed": false,
       "selectable": false
      }
     },
     "c4be8b9223694da18d9c03ff4b9aa58b": {
      "model_module": "jupyter-cytoscape",
      "model_module_version": "^1.3.3",
      "model_name": "NodeModel",
      "state": {
       "_model_module_version": "^1.3.3",
       "_view_module_version": "^1.3.3",
       "data": {
        "color": "gray",
        "id": "-6153133536884511323",
        "label": "0",
        "shape": "rectangle"
       },
       "grabbable": true,
       "grabbed": false,
       "selectable": false
      }
     },
     "c531964775b149aabe24d2e1d5f6516c": {
      "model_module": "@jupyter-widgets/base",
      "model_module_version": "2.0.0",
      "model_name": "LayoutModel",
      "state": {
       "_model_name": "LayoutModel",
       "_view_name": "ErrorWidgetView",
       "align_content": null,
       "align_items": null,
       "align_self": null,
       "border": null,
       "bottom": null,
       "display": null,
       "error": {},
       "flex": null,
       "flex_flow": null,
       "grid_area": null,
       "grid_auto_columns": null,
       "grid_auto_flow": null,
       "grid_auto_rows": null,
       "grid_column": null,
       "grid_gap": null,
       "grid_row": null,
       "grid_template_areas": null,
       "grid_template_columns": null,
       "grid_template_rows": null,
       "height": "400px",
       "justify_content": null,
       "justify_items": null,
       "left": null,
       "margin": null,
       "max_height": null,
       "max_width": null,
       "min_height": null,
       "min_width": null,
       "msg": "Failed to load model class 'LayoutModel' from module '@jupyter-widgets/base'",
       "object_fit": null,
       "object_position": null,
       "order": null,
       "overflow": null,
       "overflow_x": null,
       "overflow_y": null,
       "padding": null,
       "right": null,
       "top": null,
       "visibility": null,
       "width": null
      }
     },
     "c56e321f54f4471d8267d2f6dabe3ecf": {
      "model_module": "jupyter-cytoscape",
      "model_module_version": "^1.3.3",
      "model_name": "NodeModel",
      "state": {
       "_model_module_version": "^1.3.3",
       "_view_module_version": "^1.3.3",
       "data": {
        "color": "gray",
        "id": "-7162202832397786769",
        "label": "3",
        "shape": "rectangle"
       },
       "grabbable": true,
       "grabbed": false,
       "selectable": false
      }
     },
     "c5aa84ed35b2459aa1cbf7b73c1e8dd3": {
      "model_module": "jupyter-cytoscape",
      "model_module_version": "^1.3.3",
      "model_name": "NodeModel",
      "state": {
       "_model_module_version": "^1.3.3",
       "_view_module_version": "^1.3.3",
       "data": {
        "color": "gray",
        "id": "-4756616172800127912",
        "label": "build_waves_multislice_detect",
        "shape": "ellipse"
       },
       "grabbable": true,
       "grabbed": false,
       "selectable": false
      }
     },
     "c60b6ca280c74042a1e0236b478982ac": {
      "model_module": "jupyter-cytoscape",
      "model_module_version": "^1.3.3",
      "model_name": "NodeModel",
      "state": {
       "_model_module_version": "^1.3.3",
       "_view_module_version": "^1.3.3",
       "data": {
        "color": "gray",
        "id": "2587405991069435440",
        "label": "(2, 0, 0)",
        "shape": "rectangle"
       },
       "grabbable": true,
       "grabbed": false,
       "selectable": false
      }
     },
     "c64219daf0594d72b57ca985f03beca5": {
      "model_module": "jupyter-cytoscape",
      "model_module_version": "^1.3.3",
      "model_name": "NodeModel",
      "state": {
       "_model_module_version": "^1.3.3",
       "_view_module_version": "^1.3.3",
       "data": {
        "color": "gray",
        "id": "7061443493384821196",
        "label": "intensity",
        "shape": "ellipse"
       },
       "grabbable": true,
       "grabbed": false,
       "selectable": false
      }
     },
     "c6bdb44201b3458c8750167791b2d535": {
      "model_module": "jupyter-cytoscape",
      "model_module_version": "^1.3.3",
      "model_name": "EdgeModel",
      "state": {
       "_model_module_version": "^1.3.3",
       "_view_module_version": "^1.3.3",
       "classes": " directed ",
       "data": {
        "source": "-1226367335932640965",
        "target": "-8776769559527088828"
       },
       "selectable": false
      }
     },
     "c6f244af3f88471e90eb1e1d9c601f54": {
      "model_module": "jupyter-cytoscape",
      "model_module_version": "^1.3.3",
      "model_name": "EdgeModel",
      "state": {
       "_model_module_version": "^1.3.3",
       "_view_module_version": "^1.3.3",
       "classes": " directed ",
       "data": {
        "source": "-5462731194043303418",
        "target": "-6686307814824829608"
       },
       "selectable": false
      }
     },
     "c700ab658e5f4c529e0c37e9b8d90fef": {
      "model_module": "jupyter-cytoscape",
      "model_module_version": "^1.3.3",
      "model_name": "NodeModel",
      "state": {
       "_model_module_version": "^1.3.3",
       "_view_module_version": "^1.3.3",
       "data": {
        "color": "gray",
        "id": "2958316773410150143",
        "label": "0",
        "shape": "rectangle"
       },
       "grabbable": true,
       "grabbed": false,
       "selectable": false
      }
     },
     "c7736db425a649d1a48057e503a37640": {
      "model_module": "jupyter-cytoscape",
      "model_module_version": "^1.3.3",
      "model_name": "NodeModel",
      "state": {
       "_model_module_version": "^1.3.3",
       "_view_module_version": "^1.3.3",
       "data": {
        "color": "gray",
        "id": "-1226367335932640965",
        "label": "0",
        "shape": "rectangle"
       },
       "grabbable": true,
       "grabbed": false,
       "selectable": false
      }
     },
     "c77cdd6b2f1e4af1815bb2a8320d8558": {
      "model_module": "jupyter-cytoscape",
      "model_module_version": "^1.3.3",
      "model_name": "NodeModel",
      "state": {
       "_model_module_version": "^1.3.3",
       "_view_module_version": "^1.3.3",
       "data": {
        "color": "gray",
        "id": "7682358205353615673",
        "label": "extract_measurement",
        "shape": "ellipse"
       },
       "grabbable": true,
       "grabbed": false,
       "selectable": false
      }
     },
     "c7ace93b7c51449eaacfb142f7202bbf": {
      "model_module": "jupyter-cytoscape",
      "model_module_version": "^1.3.3",
      "model_name": "EdgeModel",
      "state": {
       "_model_module_version": "^1.3.3",
       "_view_module_version": "^1.3.3",
       "classes": " directed ",
       "data": {
        "source": "4776900485209766422",
        "target": "6605405690337731129"
       },
       "selectable": false
      }
     },
     "c7c7960654f4419fa0f273b586d7e7e3": {
      "model_module": "jupyter-cytoscape",
      "model_module_version": "^1.3.3",
      "model_name": "NodeModel",
      "state": {
       "_model_module_version": "^1.3.3",
       "_view_module_version": "^1.3.3",
       "data": {
        "color": "gray",
        "id": "-3915436992879133533",
        "label": "extract_measurement",
        "shape": "ellipse"
       },
       "grabbable": true,
       "grabbed": false,
       "selectable": false
      }
     },
     "c7f57724cc574b22b844eea6f1b0fbc8": {
      "model_module": "jupyter-cytoscape",
      "model_module_version": "^1.3.3",
      "model_name": "NodeModel",
      "state": {
       "_model_module_version": "^1.3.3",
       "_view_module_version": "^1.3.3",
       "data": {
        "color": "gray",
        "id": "2601438695660831798",
        "label": "2",
        "shape": "rectangle"
       },
       "grabbable": true,
       "grabbed": false,
       "selectable": false
      }
     },
     "c8103145dd3241e5ade23de5a54a038d": {
      "model_module": "jupyter-cytoscape",
      "model_module_version": "^1.3.3",
      "model_name": "NodeModel",
      "state": {
       "_model_module_version": "^1.3.3",
       "_view_module_version": "^1.3.3",
       "data": {
        "color": "gray",
        "id": "4669270126925999175",
        "label": "0",
        "shape": "rectangle"
       },
       "grabbable": true,
       "grabbed": false,
       "selectable": false
      }
     },
     "c82e000708684b8598150dde539f8dc0": {
      "model_module": "jupyter-cytoscape",
      "model_module_version": "^1.3.3",
      "model_name": "EdgeModel",
      "state": {
       "_model_module_version": "^1.3.3",
       "_view_module_version": "^1.3.3",
       "classes": " directed ",
       "data": {
        "source": "4710722068778462095",
        "target": "-1488446068642167772"
       },
       "selectable": false
      }
     },
     "c92ec7428ac84f64b0cad337e36d0d67": {
      "model_module": "jupyter-cytoscape",
      "model_module_version": "^1.3.3",
      "model_name": "NodeModel",
      "state": {
       "_model_module_version": "^1.3.3",
       "_view_module_version": "^1.3.3",
       "data": {
        "color": "gray",
        "id": "6826270806708122017",
        "label": "frozen_phonon",
        "shape": "ellipse"
       },
       "grabbable": true,
       "grabbed": false,
       "selectable": false
      }
     },
     "c9769deb7c044459abc76eb4b3a2a822": {
      "model_module": "jupyter-cytoscape",
      "model_module_version": "^1.3.3",
      "model_name": "EdgeModel",
      "state": {
       "_model_module_version": "^1.3.3",
       "_view_module_version": "^1.3.3",
       "classes": " directed ",
       "data": {
        "source": "6626835539378452860",
        "target": "-7190653168310566238"
       },
       "selectable": false
      }
     },
     "c9c21d98deb444c4b75a36fc72816620": {
      "model_module": "jupyter-cytoscape",
      "model_module_version": "^1.3.3",
      "model_name": "EdgeModel",
      "state": {
       "_model_module_version": "^1.3.3",
       "_view_module_version": "^1.3.3",
       "classes": " directed ",
       "data": {
        "source": "-7162202832397786769",
        "target": "-4756616172800127912"
       },
       "selectable": false
      }
     },
     "c9e702179a0949018ce82e4d9658c381": {
      "model_module": "jupyter-cytoscape",
      "model_module_version": "^1.3.3",
      "model_name": "EdgeModel",
      "state": {
       "_model_module_version": "^1.3.3",
       "_view_module_version": "^1.3.3",
       "classes": " directed ",
       "data": {
        "source": "-8573168279213860347",
        "target": "-5925256375357017817"
       },
       "selectable": false
      }
     },
     "ca1de98e350e432380b26eaa443769c7": {
      "model_module": "jupyter-cytoscape",
      "model_module_version": "^1.3.3",
      "model_name": "NodeModel",
      "state": {
       "_model_module_version": "^1.3.3",
       "_view_module_version": "^1.3.3",
       "data": {
        "color": "gray",
        "id": "-6000206154981272589",
        "label": "mean_combine-partial",
        "shape": "ellipse"
       },
       "grabbable": true,
       "grabbed": false,
       "selectable": false
      }
     },
     "ca22d83439354a6883734c43330db4a1": {
      "model_module": "jupyter-cytoscape",
      "model_module_version": "^1.3.3",
      "model_name": "EdgeModel",
      "state": {
       "_model_module_version": "^1.3.3",
       "_view_module_version": "^1.3.3",
       "classes": " directed ",
       "data": {
        "source": "4281011354108735256",
        "target": "1809169322176061202"
       },
       "selectable": false
      }
     },
     "ca25571c6b8e45bcae246ceee76fa05d": {
      "model_module": "jupyter-cytoscape",
      "model_module_version": "^1.3.3",
      "model_name": "EdgeModel",
      "state": {
       "_model_module_version": "^1.3.3",
       "_view_module_version": "^1.3.3",
       "classes": " directed ",
       "data": {
        "source": "-536282901384053758",
        "target": "-178667058722831183"
       },
       "selectable": false
      }
     },
     "ca66da092c67427cbc41127917fc11fb": {
      "model_module": "jupyter-cytoscape",
      "model_module_version": "^1.3.3",
      "model_name": "NodeModel",
      "state": {
       "_model_module_version": "^1.3.3",
       "_view_module_version": "^1.3.3",
       "data": {
        "color": "gray",
        "id": "6778553500043629472",
        "label": "1",
        "shape": "rectangle"
       },
       "grabbable": true,
       "grabbed": false,
       "selectable": false
      }
     },
     "caca1d0212364efd8b717ad2d2ef1b58": {
      "model_module": "jupyter-cytoscape",
      "model_module_version": "^1.3.3",
      "model_name": "EdgeModel",
      "state": {
       "_model_module_version": "^1.3.3",
       "_view_module_version": "^1.3.3",
       "classes": " directed ",
       "data": {
        "source": "6826270806708122017",
        "target": "-2297275566705832746"
       },
       "selectable": false
      }
     },
     "cb4305effeb84c299feb1f7eec0fe5cd": {
      "model_module": "jupyter-cytoscape",
      "model_module_version": "^1.3.3",
      "model_name": "EdgeModel",
      "state": {
       "_model_module_version": "^1.3.3",
       "_view_module_version": "^1.3.3",
       "classes": " directed ",
       "data": {
        "source": "1918105062987461093",
        "target": "4072142626341106735"
       },
       "selectable": false
      }
     },
     "cb8a739dd6254a6d973220ec40b743b6": {
      "model_module": "jupyter-cytoscape",
      "model_module_version": "^1.3.3",
      "model_name": "NodeModel",
      "state": {
       "_model_module_version": "^1.3.3",
       "_view_module_version": "^1.3.3",
       "data": {
        "color": "gray",
        "id": "5573658241717172992",
        "label": "intensity",
        "shape": "ellipse"
       },
       "grabbable": true,
       "grabbed": false,
       "selectable": false
      }
     },
     "cbba9fd274ff4992a3b0ef63ae6da934": {
      "model_module": "jupyter-cytoscape",
      "model_module_version": "^1.3.3",
      "model_name": "EdgeModel",
      "state": {
       "_model_module_version": "^1.3.3",
       "_view_module_version": "^1.3.3",
       "classes": " directed ",
       "data": {
        "source": "-2364576551562800772",
        "target": "-145746214567987325"
       },
       "selectable": false
      }
     },
     "cbd45946fdab49f69b9b7ac84aff9571": {
      "model_module": "jupyter-cytoscape",
      "model_module_version": "^1.3.3",
      "model_name": "EdgeModel",
      "state": {
       "_model_module_version": "^1.3.3",
       "_view_module_version": "^1.3.3",
       "classes": " directed ",
       "data": {
        "source": "-5160549817563923719",
        "target": "6185987659971859018"
       },
       "selectable": false
      }
     },
     "cc5a3303d2ec43b4958dda2ef32713ce": {
      "model_module": "jupyter-cytoscape",
      "model_module_version": "^1.3.3",
      "model_name": "EdgeModel",
      "state": {
       "_model_module_version": "^1.3.3",
       "_view_module_version": "^1.3.3",
       "classes": " directed ",
       "data": {
        "source": "4592471500478139755",
        "target": "6778553500043629472"
       },
       "selectable": false
      }
     },
     "cc60ea2c56304b6a91831ae3bd97dd37": {
      "model_module": "jupyter-cytoscape",
      "model_module_version": "^1.3.3",
      "model_name": "EdgeModel",
      "state": {
       "_model_module_version": "^1.3.3",
       "_view_module_version": "^1.3.3",
       "classes": " directed ",
       "data": {
        "source": "-5867077928345488197",
        "target": "921498061346443229"
       },
       "selectable": false
      }
     },
     "ccd1148b484046a5b48d5f41b6d0e7e1": {
      "model_module": "jupyter-cytoscape",
      "model_module_version": "^1.3.3",
      "model_name": "NodeModel",
      "state": {
       "_model_module_version": "^1.3.3",
       "_view_module_version": "^1.3.3",
       "data": {
        "color": "gray",
        "id": "524951156334244113",
        "label": "",
        "shape": "rectangle"
       },
       "grabbable": true,
       "grabbed": false,
       "selectable": false
      }
     },
     "ccd42f50e8864a579c301c015768592c": {
      "model_module": "jupyter-cytoscape",
      "model_module_version": "^1.3.3",
      "model_name": "EdgeModel",
      "state": {
       "_model_module_version": "^1.3.3",
       "_view_module_version": "^1.3.3",
       "classes": " directed ",
       "data": {
        "source": "-4672027926650990305",
        "target": "-7896479044627285254"
       },
       "selectable": false
      }
     },
     "ccdd1416954747719d85e68d2562927e": {
      "model_module": "jupyter-cytoscape",
      "model_module_version": "^1.3.3",
      "model_name": "EdgeModel",
      "state": {
       "_model_module_version": "^1.3.3",
       "_view_module_version": "^1.3.3",
       "classes": " directed ",
       "data": {
        "source": "-3915436992879133533",
        "target": "-6553637324542115266"
       },
       "selectable": false
      }
     },
     "cd06ef297d8f42e7861214f536784915": {
      "model_module": "@jupyter-widgets/base",
      "model_module_version": "2.0.0",
      "model_name": "LayoutModel",
      "state": {
       "_model_name": "LayoutModel",
       "_view_name": "ErrorWidgetView",
       "align_content": null,
       "align_items": null,
       "align_self": null,
       "border": null,
       "bottom": null,
       "display": null,
       "error": {},
       "flex": null,
       "flex_flow": null,
       "grid_area": null,
       "grid_auto_columns": null,
       "grid_auto_flow": null,
       "grid_auto_rows": null,
       "grid_column": null,
       "grid_gap": null,
       "grid_row": null,
       "grid_template_areas": null,
       "grid_template_columns": null,
       "grid_template_rows": null,
       "height": "400px",
       "justify_content": null,
       "justify_items": null,
       "left": null,
       "margin": null,
       "max_height": null,
       "max_width": null,
       "min_height": null,
       "min_width": null,
       "msg": "Failed to load model class 'LayoutModel' from module '@jupyter-widgets/base'",
       "object_fit": null,
       "object_position": null,
       "order": null,
       "overflow": null,
       "overflow_x": null,
       "overflow_y": null,
       "padding": null,
       "right": null,
       "top": null,
       "visibility": null,
       "width": null
      }
     },
     "cd58af3c19fa478c978975c3d8af35d3": {
      "model_module": "jupyter-cytoscape",
      "model_module_version": "^1.3.3",
      "model_name": "EdgeModel",
      "state": {
       "_model_module_version": "^1.3.3",
       "_view_module_version": "^1.3.3",
       "classes": " directed ",
       "data": {
        "source": "6605405690337731129",
        "target": "174526117555084074"
       },
       "selectable": false
      }
     },
     "cdade9ae70eb4ee9ae57735004d83fcf": {
      "model_module": "jupyter-cytoscape",
      "model_module_version": "^1.3.3",
      "model_name": "NodeModel",
      "state": {
       "_model_module_version": "^1.3.3",
       "_view_module_version": "^1.3.3",
       "data": {
        "color": "gray",
        "id": "7420231043237664239",
        "label": "",
        "shape": "rectangle"
       },
       "grabbable": true,
       "grabbed": false,
       "selectable": false
      }
     },
     "ce87088c1d9b44f99c06f63e1f2fcb3f": {
      "model_module": "jupyter-cytoscape",
      "model_module_version": "^1.3.3",
      "model_name": "NodeModel",
      "state": {
       "_model_module_version": "^1.3.3",
       "_view_module_version": "^1.3.3",
       "data": {
        "color": "gray",
        "id": "-6147267522005547498",
        "label": "",
        "shape": "rectangle"
       },
       "grabbable": true,
       "grabbed": false,
       "selectable": false
      }
     },
     "cfd1a2f1525c4a678820c4e392a49d47": {
      "model_module": "jupyter-cytoscape",
      "model_module_version": "^1.3.3",
      "model_name": "EdgeModel",
      "state": {
       "_model_module_version": "^1.3.3",
       "_view_module_version": "^1.3.3",
       "classes": " directed ",
       "data": {
        "source": "6682166873657082499",
        "target": "-3915436992879133533"
       },
       "selectable": false
      }
     },
     "d071dcde4f984b9abcf6277abe4545f9": {
      "model_module": "jupyter-cytoscape",
      "model_module_version": "^1.3.3",
      "model_name": "NodeModel",
      "state": {
       "_model_module_version": "^1.3.3",
       "_view_module_version": "^1.3.3",
       "data": {
        "color": "gray",
        "id": "2958316773410150143",
        "label": "0",
        "shape": "rectangle"
       },
       "grabbable": true,
       "grabbed": false,
       "selectable": false
      }
     },
     "d0eb57a40ca94bcf9db2446f9d11366d": {
      "model_module": "jupyter-cytoscape",
      "model_module_version": "^1.3.3",
      "model_name": "NodeModel",
      "state": {
       "_model_module_version": "^1.3.3",
       "_view_module_version": "^1.3.3",
       "data": {
        "color": "gray",
        "id": "2732125137216078954",
        "label": "(0, 0, 0)",
        "shape": "rectangle"
       },
       "grabbable": true,
       "grabbed": false,
       "selectable": false
      }
     },
     "d19661fe73114597bbf348c27632df68": {
      "model_module": "jupyter-cytoscape",
      "model_module_version": "^1.3.3",
      "model_name": "NodeModel",
      "state": {
       "_model_module_version": "^1.3.3",
       "_view_module_version": "^1.3.3",
       "data": {
        "color": "gray",
        "id": "-8776769559527088828",
        "label": "1",
        "shape": "rectangle"
       },
       "grabbable": true,
       "grabbed": false,
       "selectable": false
      }
     },
     "d1ff257657cf438fa4572f980518929d": {
      "model_module": "jupyter-cytoscape",
      "model_module_version": "^1.3.3",
      "model_name": "NodeModel",
      "state": {
       "_model_module_version": "^1.3.3",
       "_view_module_version": "^1.3.3",
       "data": {
        "color": "gray",
        "id": "7876181867568370685",
        "label": "0",
        "shape": "rectangle"
       },
       "grabbable": true,
       "grabbed": false,
       "selectable": false
      }
     },
     "d245becc21894de792a1801f837c4b17": {
      "model_module": "jupyter-cytoscape",
      "model_module_version": "^1.3.3",
      "model_name": "NodeModel",
      "state": {
       "_model_module_version": "^1.3.3",
       "_view_module_version": "^1.3.3",
       "data": {
        "color": "gray",
        "id": "8138385170844379238",
        "label": "",
        "shape": "rectangle"
       },
       "grabbable": true,
       "grabbed": false,
       "selectable": false
      }
     },
     "d25c56f0c5554cb0aecad6fc100cc657": {
      "model_module": "jupyter-cytoscape",
      "model_module_version": "^1.3.3",
      "model_name": "EdgeModel",
      "state": {
       "_model_module_version": "^1.3.3",
       "_view_module_version": "^1.3.3",
       "classes": " directed ",
       "data": {
        "source": "6605405690337731129",
        "target": "174526117555084074"
       },
       "selectable": false
      }
     },
     "d28218e16fa74b95bb0d0d6b1d898d88": {
      "model_module": "jupyter-cytoscape",
      "model_module_version": "^1.3.3",
      "model_name": "CytoscapeModel",
      "state": {
       "_interaction_handlers": {},
       "_model_module_version": "^1.3.3",
       "_view_module_version": "^1.3.3",
       "auto_ungrabify": false,
       "autolock": false,
       "cytoscape_layout": {
        "edgeSep": 10,
        "name": "dagre",
        "nodeDimensionsIncludeLabels": true,
        "nodeSep": 10,
        "rankDir": "BT",
        "spacingFactor": 1
       },
       "cytoscape_style": [
        {
         "selector": "node",
         "style": {
          "background-color": "#eee",
          "border-color": "data(color)",
          "border-width": 4,
          "color": "black",
          "font-family": "helvetica",
          "font-size": "24px",
          "font-weight": "bold",
          "height": 64,
          "label": "data(label)",
          "opacity": "1.0",
          "shape": "data(shape)",
          "text-halign": "center",
          "text-valign": "center",
          "width": 64
         }
        },
        {
         "selector": "edge",
         "style": {
          "curve-style": "bezier",
          "line-color": "gray",
          "target-arrow-color": "gray",
          "target-arrow-shape": "triangle",
          "width": 8
         }
        }
       ],
       "desktop_tap_threshold": 4,
       "graph": "IPY_MODEL_686cb4e112b046d2bf3f2b1be38f0673",
       "headless": false,
       "hide_edges_on_viewport": false,
       "layout": "IPY_MODEL_c177d2c93085418ab3aa323221f5ef98",
       "max_zoom": 4,
       "min_zoom": 0.2,
       "motion_blur": false,
       "motion_blur_opacity": 0.2,
       "panning_enabled": true,
       "pixel_ratio": "auto",
       "rendered_position": {
        "renderedPosition": {
         "x": 100,
         "y": 100
        }
       },
       "selection_type": "single",
       "style_enabled": true,
       "texture_on_viewport": false,
       "tooltip_source": "tooltip",
       "touch_tap_threshold": 8,
       "user_panning_enabled": true,
       "user_zooming_enabled": true,
       "wheel_sensitivity": 0.1,
       "zoom": 2,
       "zooming_enabled": true
      }
     },
     "d30219cb77984199a3c2669161120d4a": {
      "model_module": "jupyter-cytoscape",
      "model_module_version": "^1.3.3",
      "model_name": "EdgeModel",
      "state": {
       "_model_module_version": "^1.3.3",
       "_view_module_version": "^1.3.3",
       "classes": " directed ",
       "data": {
        "source": "-2343004666951745933",
        "target": "577712527715387209"
       },
       "selectable": false
      }
     },
     "d312d9d2c76741c69b83c97ee8c2dcff": {
      "model_module": "jupyter-cytoscape",
      "model_module_version": "^1.3.3",
      "model_name": "NodeModel",
      "state": {
       "_model_module_version": "^1.3.3",
       "_view_module_version": "^1.3.3",
       "data": {
        "color": "gray",
        "id": "-805616968572569913",
        "label": "mean_combine-partial",
        "shape": "ellipse"
       },
       "grabbable": true,
       "grabbed": false,
       "selectable": false
      }
     },
     "d31a2b4d6fa142c4a74276cf3d40bff7": {
      "model_module": "jupyter-cytoscape",
      "model_module_version": "^1.3.3",
      "model_name": "NodeModel",
      "state": {
       "_model_module_version": "^1.3.3",
       "_view_module_version": "^1.3.3",
       "data": {
        "color": "gray",
        "id": "-4756616172800127912",
        "label": "build_waves_multislice_detect",
        "shape": "ellipse"
       },
       "grabbable": true,
       "grabbed": false,
       "selectable": false
      }
     },
     "d31e1c9965ba4773a30f3eb7ea27bbf8": {
      "model_module": "jupyter-cytoscape",
      "model_module_version": "^1.3.3",
      "model_name": "EdgeModel",
      "state": {
       "_model_module_version": "^1.3.3",
       "_view_module_version": "^1.3.3",
       "classes": " directed ",
       "data": {
        "source": "7457201218301179324",
        "target": "-3344688861789731364"
       },
       "selectable": false
      }
     },
     "d32f41600d1b4d80b36efe61ee40cd76": {
      "model_module": "jupyter-cytoscape",
      "model_module_version": "^1.3.3",
      "model_name": "EdgeModel",
      "state": {
       "_model_module_version": "^1.3.3",
       "_view_module_version": "^1.3.3",
       "classes": " directed ",
       "data": {
        "source": "7143069633224236115",
        "target": "-1454821431635411725"
       },
       "selectable": false
      }
     },
     "d384b2b7af424fe2a3776cde45402f61": {
      "model_module": "jupyter-cytoscape",
      "model_module_version": "^1.3.3",
      "model_name": "EdgeModel",
      "state": {
       "_model_module_version": "^1.3.3",
       "_view_module_version": "^1.3.3",
       "classes": " directed ",
       "data": {
        "source": "7061443493384821196",
        "target": "4093897534649396938"
       },
       "selectable": false
      }
     },
     "d384bccff22f466c9e19c5c6fed14df9": {
      "model_module": "jupyter-cytoscape",
      "model_module_version": "^1.3.3",
      "model_name": "NodeModel",
      "state": {
       "_model_module_version": "^1.3.3",
       "_view_module_version": "^1.3.3",
       "data": {
        "color": "gray",
        "id": "6626835539378452860",
        "label": "intensity",
        "shape": "ellipse"
       },
       "grabbable": true,
       "grabbed": false,
       "selectable": false
      }
     },
     "d3d68afdb4d545cbaf07922ca9ae6df1": {
      "model_module": "jupyter-cytoscape",
      "model_module_version": "^1.3.3",
      "model_name": "EdgeModel",
      "state": {
       "_model_module_version": "^1.3.3",
       "_view_module_version": "^1.3.3",
       "classes": " directed ",
       "data": {
        "source": "6605405690337731129",
        "target": "174526117555084074"
       },
       "selectable": false
      }
     },
     "d464c9a1527f45c0ba338f1049fe81ae": {
      "model_module": "jupyter-cytoscape",
      "model_module_version": "^1.3.3",
      "model_name": "EdgeModel",
      "state": {
       "_model_module_version": "^1.3.3",
       "_view_module_version": "^1.3.3",
       "classes": " directed ",
       "data": {
        "source": "6605405690337731129",
        "target": "174526117555084074"
       },
       "selectable": false
      }
     },
     "d4653050ea8741deba6c04fba8ab7630": {
      "model_module": "jupyter-cytoscape",
      "model_module_version": "^1.3.3",
      "model_name": "NodeModel",
      "state": {
       "_model_module_version": "^1.3.3",
       "_view_module_version": "^1.3.3",
       "data": {
        "color": "gray",
        "id": "-5586142694755555196",
        "label": "1",
        "shape": "rectangle"
       },
       "grabbable": true,
       "grabbed": false,
       "selectable": false
      }
     },
     "d46e4fb64dc24365b22fc06e8d4f17c1": {
      "model_module": "jupyter-cytoscape",
      "model_module_version": "^1.3.3",
      "model_name": "NodeModel",
      "state": {
       "_model_module_version": "^1.3.3",
       "_view_module_version": "^1.3.3",
       "data": {
        "color": "gray",
        "id": "4776900485209766422",
        "label": "2",
        "shape": "rectangle"
       },
       "grabbable": true,
       "grabbed": false,
       "selectable": false
      }
     },
     "d4e45ff7a1554e3facba86482ea2f967": {
      "model_module": "jupyter-cytoscape",
      "model_module_version": "^1.3.3",
      "model_name": "NodeModel",
      "state": {
       "_model_module_version": "^1.3.3",
       "_view_module_version": "^1.3.3",
       "data": {
        "color": "gray",
        "id": "4667991964226427698",
        "label": "",
        "shape": "rectangle"
       },
       "grabbable": true,
       "grabbed": false,
       "selectable": false
      }
     },
     "d56b225389894678a75ae4977e75ba7b": {
      "model_module": "jupyter-cytoscape",
      "model_module_version": "^1.3.3",
      "model_name": "NodeModel",
      "state": {
       "_model_module_version": "^1.3.3",
       "_view_module_version": "^1.3.3",
       "data": {
        "color": "gray",
        "id": "-1454821431635411725",
        "label": "0",
        "shape": "rectangle"
       },
       "grabbable": true,
       "grabbed": false,
       "selectable": false
      }
     },
     "d5ecb57c7e154305adaa7fb3e236ad08": {
      "model_module": "jupyter-cytoscape",
      "model_module_version": "^1.3.3",
      "model_name": "EdgeModel",
      "state": {
       "_model_module_version": "^1.3.3",
       "_view_module_version": "^1.3.3",
       "classes": " directed ",
       "data": {
        "source": "-8034539748474648114",
        "target": "-8646584789489772301"
       },
       "selectable": false
      }
     },
     "d6854accf4f5431baead3ce61d880786": {
      "model_module": "jupyter-cytoscape",
      "model_module_version": "^1.3.3",
      "model_name": "NodeModel",
      "state": {
       "_model_module_version": "^1.3.3",
       "_view_module_version": "^1.3.3",
       "data": {
        "color": "gray",
        "id": "524951156334244113",
        "label": "",
        "shape": "rectangle"
       },
       "grabbable": true,
       "grabbed": false,
       "selectable": false
      }
     },
     "d7470abc966b4972986a16192efb7aba": {
      "model_module": "jupyter-cytoscape",
      "model_module_version": "^1.3.3",
      "model_name": "NodeModel",
      "state": {
       "_model_module_version": "^1.3.3",
       "_view_module_version": "^1.3.3",
       "data": {
        "color": "gray",
        "id": "-6646829093793065682",
        "label": "frozen_phonon",
        "shape": "ellipse"
       },
       "grabbable": true,
       "grabbed": false,
       "selectable": false
      }
     },
     "d7a0ed9e20e84dba9252c856df7db6bb": {
      "model_module": "jupyter-cytoscape",
      "model_module_version": "^1.3.3",
      "model_name": "EdgeModel",
      "state": {
       "_model_module_version": "^1.3.3",
       "_view_module_version": "^1.3.3",
       "classes": " directed ",
       "data": {
        "source": "3534457344772271157",
        "target": "-7735061727949076103"
       },
       "selectable": false
      }
     },
     "d7b1631ed3594737af8e84555bc0c624": {
      "model_module": "jupyter-cytoscape",
      "model_module_version": "^1.3.3",
      "model_name": "EdgeModel",
      "state": {
       "_model_module_version": "^1.3.3",
       "_view_module_version": "^1.3.3",
       "classes": " directed ",
       "data": {
        "source": "5573658241717172992",
        "target": "2115047589787434672"
       },
       "selectable": false
      }
     },
     "d7ce9fd6b6fa4bc3b2a10548e2bb2602": {
      "model_module": "jupyter-cytoscape",
      "model_module_version": "^1.3.3",
      "model_name": "NodeModel",
      "state": {
       "_model_module_version": "^1.3.3",
       "_view_module_version": "^1.3.3",
       "data": {
        "color": "gray",
        "id": "4592471500478139755",
        "label": "build_waves_multislice_detect",
        "shape": "ellipse"
       },
       "grabbable": true,
       "grabbed": false,
       "selectable": false
      }
     },
     "d8511301f4cc49ee878f474c4cf1d892": {
      "model_module": "jupyter-cytoscape",
      "model_module_version": "^1.3.3",
      "model_name": "NodeModel",
      "state": {
       "_model_module_version": "^1.3.3",
       "_view_module_version": "^1.3.3",
       "data": {
        "color": "gray",
        "id": "3873888304921363141",
        "label": "0",
        "shape": "rectangle"
       },
       "grabbable": true,
       "grabbed": false,
       "selectable": false
      }
     },
     "d8afb34ae92f4ac9ab881dbc048b2228": {
      "model_module": "jupyter-cytoscape",
      "model_module_version": "^1.3.3",
      "model_name": "EdgeModel",
      "state": {
       "_model_module_version": "^1.3.3",
       "_view_module_version": "^1.3.3",
       "classes": " directed ",
       "data": {
        "source": "4785411436509375566",
        "target": "3537663541289573858"
       },
       "selectable": false
      }
     },
     "d8d26b18eda046dbb160e577d3427df7": {
      "model_module": "jupyter-cytoscape",
      "model_module_version": "^1.3.3",
      "model_name": "NodeModel",
      "state": {
       "_model_module_version": "^1.3.3",
       "_view_module_version": "^1.3.3",
       "data": {
        "color": "gray",
        "id": "8075331509581745181",
        "label": "(0, 0, 0)",
        "shape": "rectangle"
       },
       "grabbable": true,
       "grabbed": false,
       "selectable": false
      }
     },
     "d8ecf40100e74f4a9e6f27bf4e6730ac": {
      "model_module": "jupyter-cytoscape",
      "model_module_version": "^1.3.3",
      "model_name": "NodeModel",
      "state": {
       "_model_module_version": "^1.3.3",
       "_view_module_version": "^1.3.3",
       "data": {
        "color": "gray",
        "id": "7077065919116520802",
        "label": "extract_measurement",
        "shape": "ellipse"
       },
       "grabbable": true,
       "grabbed": false,
       "selectable": false
      }
     },
     "d92b35ffcc1f492a88f771606cf911dd": {
      "model_module": "jupyter-cytoscape",
      "model_module_version": "^1.3.3",
      "model_name": "EdgeModel",
      "state": {
       "_model_module_version": "^1.3.3",
       "_view_module_version": "^1.3.3",
       "classes": " directed ",
       "data": {
        "source": "4218932839740261193",
        "target": "3873888304921363141"
       },
       "selectable": false
      }
     },
     "d9300a7ddc0942e695391412bd671263": {
      "model_module": "jupyter-cytoscape",
      "model_module_version": "^1.3.3",
      "model_name": "NodeModel",
      "state": {
       "_model_module_version": "^1.3.3",
       "_view_module_version": "^1.3.3",
       "data": {
        "color": "gray",
        "id": "-4756616172800127912",
        "label": "build_waves_multislice_detect",
        "shape": "ellipse"
       },
       "grabbable": true,
       "grabbed": false,
       "selectable": false
      }
     },
     "d985e30d2df44345ba131cde825057e4": {
      "model_module": "jupyter-cytoscape",
      "model_module_version": "^1.3.3",
      "model_name": "NodeModel",
      "state": {
       "_model_module_version": "^1.3.3",
       "_view_module_version": "^1.3.3",
       "data": {
        "color": "gray",
        "id": "4281011354108735256",
        "label": "0",
        "shape": "rectangle"
       },
       "grabbable": true,
       "grabbed": false,
       "selectable": false
      }
     },
     "da6dead441004d7b9d91e723159da665": {
      "model_module": "jupyter-cytoscape",
      "model_module_version": "^1.3.3",
      "model_name": "NodeModel",
      "state": {
       "_model_module_version": "^1.3.3",
       "_view_module_version": "^1.3.3",
       "data": {
        "color": "gray",
        "id": "7077065919116520802",
        "label": "extract_measurement",
        "shape": "ellipse"
       },
       "grabbable": true,
       "grabbed": false,
       "selectable": false
      }
     },
     "daac5e95e4ac4bc7a569d1218d5ca72a": {
      "model_module": "jupyter-cytoscape",
      "model_module_version": "^1.3.3",
      "model_name": "NodeModel",
      "state": {
       "_model_module_version": "^1.3.3",
       "_view_module_version": "^1.3.3",
       "data": {
        "color": "gray",
        "id": "7683295380142860191",
        "label": "mean_chunk",
        "shape": "ellipse"
       },
       "grabbable": true,
       "grabbed": false,
       "selectable": false
      }
     },
     "db15efd1030d4c9c8ef27aa3c21d22b0": {
      "model_module": "jupyter-cytoscape",
      "model_module_version": "^1.3.3",
      "model_name": "NodeModel",
      "state": {
       "_model_module_version": "^1.3.3",
       "_view_module_version": "^1.3.3",
       "data": {
        "color": "gray",
        "id": "4543517768215573707",
        "label": "0",
        "shape": "rectangle"
       },
       "grabbable": true,
       "grabbed": false,
       "selectable": false
      }
     },
     "db1769d356ff4fd28967ac46b52aac38": {
      "model_module": "jupyter-cytoscape",
      "model_module_version": "^1.3.3",
      "model_name": "EdgeModel",
      "state": {
       "_model_module_version": "^1.3.3",
       "_view_module_version": "^1.3.3",
       "classes": " directed ",
       "data": {
        "source": "-6197812562928975144",
        "target": "-521809497029383009"
       },
       "selectable": false
      }
     },
     "db62c46e8cb2413595a3754a32dac192": {
      "model_module": "jupyter-cytoscape",
      "model_module_version": "^1.3.3",
      "model_name": "EdgeModel",
      "state": {
       "_model_module_version": "^1.3.3",
       "_view_module_version": "^1.3.3",
       "classes": " directed ",
       "data": {
        "source": "-3366324276772900629",
        "target": "4543517768215573707"
       },
       "selectable": false
      }
     },
     "dbf04fc9fe0e4b4d80c5ea55c3550e32": {
      "model_module": "jupyter-cytoscape",
      "model_module_version": "^1.3.3",
      "model_name": "NodeModel",
      "state": {
       "_model_module_version": "^1.3.3",
       "_view_module_version": "^1.3.3",
       "data": {
        "color": "gray",
        "id": "-2573528208698158691",
        "label": "",
        "shape": "rectangle"
       },
       "grabbable": true,
       "grabbed": false,
       "selectable": false
      }
     },
     "dc53187a44a44f78ac2af74f5dcd9fa5": {
      "model_module": "jupyter-cytoscape",
      "model_module_version": "^1.3.3",
      "model_name": "EdgeModel",
      "state": {
       "_model_module_version": "^1.3.3",
       "_view_module_version": "^1.3.3",
       "classes": " directed ",
       "data": {
        "source": "9001240909763029720",
        "target": "5224246106512664743"
       },
       "selectable": false
      }
     },
     "dd00f7606bdf46b1b520d0adeb5ea03a": {
      "model_module": "jupyter-cytoscape",
      "model_module_version": "^1.3.3",
      "model_name": "NodeModel",
      "state": {
       "_model_module_version": "^1.3.3",
       "_view_module_version": "^1.3.3",
       "data": {
        "color": "gray",
        "id": "3162333758080464363",
        "label": "0",
        "shape": "rectangle"
       },
       "grabbable": true,
       "grabbed": false,
       "selectable": false
      }
     },
     "ddaffc69549141938596e3497f213ec8": {
      "model_module": "jupyter-cytoscape",
      "model_module_version": "^1.3.3",
      "model_name": "NodeModel",
      "state": {
       "_model_module_version": "^1.3.3",
       "_view_module_version": "^1.3.3",
       "data": {
        "color": "gray",
        "id": "4423224545294134894",
        "label": "frozen_phonon",
        "shape": "ellipse"
       },
       "grabbable": true,
       "grabbed": false,
       "selectable": false
      }
     },
     "ddc8f390186a4917bbf78adbbb340ae2": {
      "model_module": "jupyter-cytoscape",
      "model_module_version": "^1.3.3",
      "model_name": "NodeModel",
      "state": {
       "_model_module_version": "^1.3.3",
       "_view_module_version": "^1.3.3",
       "data": {
        "color": "gray",
        "id": "8226335373065077933",
        "label": "frozen_phonon",
        "shape": "ellipse"
       },
       "grabbable": true,
       "grabbed": false,
       "selectable": false
      }
     },
     "ddd4ab3a2669429492b4e3c8de768a96": {
      "model_module": "jupyter-cytoscape",
      "model_module_version": "^1.3.3",
      "model_name": "EdgeModel",
      "state": {
       "_model_module_version": "^1.3.3",
       "_view_module_version": "^1.3.3",
       "classes": " directed ",
       "data": {
        "source": "7642245102610051772",
        "target": "-8980786544197403048"
       },
       "selectable": false
      }
     },
     "dde04b11de824afcbfe6ee5af3b17eee": {
      "model_module": "jupyter-cytoscape",
      "model_module_version": "^1.3.3",
      "model_name": "EdgeModel",
      "state": {
       "_model_module_version": "^1.3.3",
       "_view_module_version": "^1.3.3",
       "classes": " directed ",
       "data": {
        "source": "-5160549817563923719",
        "target": "6185987659971859018"
       },
       "selectable": false
      }
     },
     "dde5995dec0042bcae2a0d361478e71c": {
      "model_module": "jupyter-cytoscape",
      "model_module_version": "^1.3.3",
      "model_name": "NodeModel",
      "state": {
       "_model_module_version": "^1.3.3",
       "_view_module_version": "^1.3.3",
       "data": {
        "color": "gray",
        "id": "2587405991069435440",
        "label": "(2, 0, 0)",
        "shape": "rectangle"
       },
       "grabbable": true,
       "grabbed": false,
       "selectable": false
      }
     },
     "de2909d72c774e8e8284523de15ff910": {
      "model_module": "jupyter-cytoscape",
      "model_module_version": "^1.3.3",
      "model_name": "EdgeModel",
      "state": {
       "_model_module_version": "^1.3.3",
       "_view_module_version": "^1.3.3",
       "classes": " directed ",
       "data": {
        "source": "-280820566235178822",
        "target": "6709284355986362260"
       },
       "selectable": false
      }
     },
     "de53d4cfdb6648e7b2274879980741a7": {
      "model_module": "jupyter-cytoscape",
      "model_module_version": "^1.3.3",
      "model_name": "GraphModel",
      "state": {
       "_adj": {},
       "_model_module_version": "^1.3.3",
       "_view_module": "jupyter-cytoscape",
       "_view_module_version": "^1.3.3"
      }
     },
     "dea6b69eaa6b4f54962c671e986efe2a": {
      "model_module": "jupyter-cytoscape",
      "model_module_version": "^1.3.3",
      "model_name": "EdgeModel",
      "state": {
       "_model_module_version": "^1.3.3",
       "_view_module_version": "^1.3.3",
       "classes": " directed ",
       "data": {
        "source": "-6646829093793065682",
        "target": "7143069633224236115"
       },
       "selectable": false
      }
     },
     "dfac134b1fae4232b30aea3d33f9016c": {
      "model_module": "jupyter-cytoscape",
      "model_module_version": "^1.3.3",
      "model_name": "EdgeModel",
      "state": {
       "_model_module_version": "^1.3.3",
       "_view_module_version": "^1.3.3",
       "classes": " directed ",
       "data": {
        "source": "5224246106512664743",
        "target": "-678342980587649050"
       },
       "selectable": false
      }
     },
     "e059408280534f87bccaae31c1a1a58e": {
      "model_module": "jupyter-cytoscape",
      "model_module_version": "^1.3.3",
      "model_name": "EdgeModel",
      "state": {
       "_model_module_version": "^1.3.3",
       "_view_module_version": "^1.3.3",
       "classes": " directed ",
       "data": {
        "source": "9138675498050813437",
        "target": "5380259335186057991"
       },
       "selectable": false
      }
     },
     "e068a6ef9c664298a1b003da08a1c40b": {
      "model_module": "jupyter-cytoscape",
      "model_module_version": "^1.3.3",
      "model_name": "NodeModel",
      "state": {
       "_model_module_version": "^1.3.3",
       "_view_module_version": "^1.3.3",
       "data": {
        "color": "gray",
        "id": "-577972134415597150",
        "label": "(1, 0, 0)",
        "shape": "rectangle"
       },
       "grabbable": true,
       "grabbed": false,
       "selectable": false
      }
     },
     "e0c009ca47c94869b9aa6f84d16d49a0": {
      "model_module": "jupyter-cytoscape",
      "model_module_version": "^1.3.3",
      "model_name": "EdgeModel",
      "state": {
       "_model_module_version": "^1.3.3",
       "_view_module_version": "^1.3.3",
       "classes": " directed ",
       "data": {
        "source": "-2316132916475259725",
        "target": "986871968531529739"
       },
       "selectable": false
      }
     },
     "e1beb75a8cad4dd086b3240341ac5b62": {
      "model_module": "jupyter-cytoscape",
      "model_module_version": "^1.3.3",
      "model_name": "EdgeModel",
      "state": {
       "_model_module_version": "^1.3.3",
       "_view_module_version": "^1.3.3",
       "classes": " directed ",
       "data": {
        "source": "-88669992118454490",
        "target": "-5402172458168361286"
       },
       "selectable": false
      }
     },
     "e267987e1e67429987eaaa0a3321c8e5": {
      "model_module": "jupyter-cytoscape",
      "model_module_version": "^1.3.3",
      "model_name": "NodeModel",
      "state": {
       "_model_module_version": "^1.3.3",
       "_view_module_version": "^1.3.3",
       "data": {
        "color": "gray",
        "id": "4218932839740261193",
        "label": "",
        "shape": "rectangle"
       },
       "grabbable": true,
       "grabbed": false,
       "selectable": false
      }
     },
     "e2c5d783b8cd406385ee39caacf9afef": {
      "model_module": "jupyter-cytoscape",
      "model_module_version": "^1.3.3",
      "model_name": "EdgeModel",
      "state": {
       "_model_module_version": "^1.3.3",
       "_view_module_version": "^1.3.3",
       "classes": " directed ",
       "data": {
        "source": "-3141465719501951748",
        "target": "1060028317720854565"
       },
       "selectable": false
      }
     },
     "e2e5970559eb491f9841b66396f427c2": {
      "model_module": "jupyter-cytoscape",
      "model_module_version": "^1.3.3",
      "model_name": "NodeModel",
      "state": {
       "_model_module_version": "^1.3.3",
       "_view_module_version": "^1.3.3",
       "data": {
        "color": "gray",
        "id": "4543517768215573707",
        "label": "0",
        "shape": "rectangle"
       },
       "grabbable": true,
       "grabbed": false,
       "selectable": false
      }
     },
     "e3a93c0485bc4313ac801c4be102f5c9": {
      "model_module": "jupyter-cytoscape",
      "model_module_version": "^1.3.3",
      "model_name": "EdgeModel",
      "state": {
       "_model_module_version": "^1.3.3",
       "_view_module_version": "^1.3.3",
       "classes": " directed ",
       "data": {
        "source": "3116987505309528548",
        "target": "8316810078278059627"
       },
       "selectable": false
      }
     },
     "e3f3f37ac3514fec827b4b5f49c6c1dc": {
      "model_module": "jupyter-cytoscape",
      "model_module_version": "^1.3.3",
      "model_name": "NodeModel",
      "state": {
       "_model_module_version": "^1.3.3",
       "_view_module_version": "^1.3.3",
       "data": {
        "color": "gray",
        "id": "-1491471162771521316",
        "label": "",
        "shape": "rectangle"
       },
       "grabbable": true,
       "grabbed": false,
       "selectable": false
      }
     },
     "e3f41f2bd4934264abd7dfdff39a85ab": {
      "model_module": "jupyter-cytoscape",
      "model_module_version": "^1.3.3",
      "model_name": "EdgeModel",
      "state": {
       "_model_module_version": "^1.3.3",
       "_view_module_version": "^1.3.3",
       "classes": " directed ",
       "data": {
        "source": "4667991964226427698",
        "target": "-600270807562413883"
       },
       "selectable": false
      }
     },
     "e5071f77a83a4d6bac82e562638d221b": {
      "model_module": "jupyter-cytoscape",
      "model_module_version": "^1.3.3",
      "model_name": "NodeModel",
      "state": {
       "_model_module_version": "^1.3.3",
       "_view_module_version": "^1.3.3",
       "data": {
        "color": "gray",
        "id": "-2573528208698158691",
        "label": "",
        "shape": "rectangle"
       },
       "grabbable": true,
       "grabbed": false,
       "selectable": false
      }
     },
     "e55a42dccbc048059e5406f94091e6fa": {
      "model_module": "jupyter-cytoscape",
      "model_module_version": "^1.3.3",
      "model_name": "NodeModel",
      "state": {
       "_model_module_version": "^1.3.3",
       "_view_module_version": "^1.3.3",
       "data": {
        "color": "gray",
        "id": "-1614449508366707697",
        "label": "build_waves_multislice_detect",
        "shape": "ellipse"
       },
       "grabbable": true,
       "grabbed": false,
       "selectable": false
      }
     },
     "e5894bb8ab5d485b9caa90eb1217cc01": {
      "model_module": "jupyter-cytoscape",
      "model_module_version": "^1.3.3",
      "model_name": "NodeModel",
      "state": {
       "_model_module_version": "^1.3.3",
       "_view_module_version": "^1.3.3",
       "data": {
        "color": "gray",
        "id": "-5401772616039244585",
        "label": "mean_chunk",
        "shape": "ellipse"
       },
       "grabbable": true,
       "grabbed": false,
       "selectable": false
      }
     },
     "e5deb1d5c0924e83a60a99b8b1bc42be": {
      "model_module": "jupyter-cytoscape",
      "model_module_version": "^1.3.3",
      "model_name": "NodeModel",
      "state": {
       "_model_module_version": "^1.3.3",
       "_view_module_version": "^1.3.3",
       "data": {
        "color": "gray",
        "id": "-4682494566544635945",
        "label": "intensity",
        "shape": "ellipse"
       },
       "grabbable": true,
       "grabbed": false,
       "selectable": false
      }
     },
     "e611de8796554e7286c2cf824b1f6a03": {
      "model_module": "jupyter-cytoscape",
      "model_module_version": "^1.3.3",
      "model_name": "NodeModel",
      "state": {
       "_model_module_version": "^1.3.3",
       "_view_module_version": "^1.3.3",
       "data": {
        "color": "gray",
        "id": "-3817565199602122438",
        "label": "",
        "shape": "rectangle"
       },
       "grabbable": true,
       "grabbed": false,
       "selectable": false
      }
     },
     "e685bf63bb2f473ab6b3babf44d40b40": {
      "model_module": "jupyter-cytoscape",
      "model_module_version": "^1.3.3",
      "model_name": "NodeModel",
      "state": {
       "_model_module_version": "^1.3.3",
       "_view_module_version": "^1.3.3",
       "data": {
        "color": "gray",
        "id": "-7162202832397786769",
        "label": "3",
        "shape": "rectangle"
       },
       "grabbable": true,
       "grabbed": false,
       "selectable": false
      }
     },
     "e6c0bbbb0a774a03b89b48790d7a87cc": {
      "model_module": "jupyter-cytoscape",
      "model_module_version": "^1.3.3",
      "model_name": "NodeModel",
      "state": {
       "_model_module_version": "^1.3.3",
       "_view_module_version": "^1.3.3",
       "data": {
        "color": "gray",
        "id": "577712527715387209",
        "label": "mean_combine-partial",
        "shape": "ellipse"
       },
       "grabbable": true,
       "grabbed": false,
       "selectable": false
      }
     },
     "e6f87107c3654c6ba0404e025f43a4dd": {
      "model_module": "jupyter-cytoscape",
      "model_module_version": "^1.3.3",
      "model_name": "NodeModel",
      "state": {
       "_model_module_version": "^1.3.3",
       "_view_module_version": "^1.3.3",
       "data": {
        "color": "gray",
        "id": "4669270126925999175",
        "label": "0",
        "shape": "rectangle"
       },
       "grabbable": true,
       "grabbed": false,
       "selectable": false
      }
     },
     "e7865249a3d94f85804d23ef27a3814c": {
      "model_module": "jupyter-cytoscape",
      "model_module_version": "^1.3.3",
      "model_name": "NodeModel",
      "state": {
       "_model_module_version": "^1.3.3",
       "_view_module_version": "^1.3.3",
       "data": {
        "color": "gray",
        "id": "-7762684860937664341",
        "label": "(0, 0, 0)",
        "shape": "rectangle"
       },
       "grabbable": true,
       "grabbed": false,
       "selectable": false
      }
     },
     "e7bbbbe195184865be397b5ce3a7392b": {
      "model_module": "jupyter-cytoscape",
      "model_module_version": "^1.3.3",
      "model_name": "EdgeModel",
      "state": {
       "_model_module_version": "^1.3.3",
       "_view_module_version": "^1.3.3",
       "classes": " directed ",
       "data": {
        "source": "-6680118790443633764",
        "target": "7876181867568370685"
       },
       "selectable": false
      }
     },
     "e7cdd6af348e4b3fba6b325ea889b52b": {
      "model_module": "jupyter-cytoscape",
      "model_module_version": "^1.3.3",
      "model_name": "NodeModel",
      "state": {
       "_model_module_version": "^1.3.3",
       "_view_module_version": "^1.3.3",
       "data": {
        "color": "gray",
        "id": "-2793075227550930713",
        "label": "",
        "shape": "rectangle"
       },
       "grabbable": true,
       "grabbed": false,
       "selectable": false
      }
     },
     "e83b6501e05b4cdb8355e343e86e477f": {
      "model_module": "jupyter-cytoscape",
      "model_module_version": "^1.3.3",
      "model_name": "NodeModel",
      "state": {
       "_model_module_version": "^1.3.3",
       "_view_module_version": "^1.3.3",
       "data": {
        "color": "gray",
        "id": "-6497939102615796927",
        "label": "(1, 0, 0)",
        "shape": "rectangle"
       },
       "grabbable": true,
       "grabbed": false,
       "selectable": false
      }
     },
     "e8f6ee4108f6437199208949aaed43f3": {
      "model_module": "jupyter-cytoscape",
      "model_module_version": "^1.3.3",
      "model_name": "NodeModel",
      "state": {
       "_model_module_version": "^1.3.3",
       "_view_module_version": "^1.3.3",
       "data": {
        "color": "gray",
        "id": "-4756616172800127912",
        "label": "build_waves_multislice_detect",
        "shape": "ellipse"
       },
       "grabbable": true,
       "grabbed": false,
       "selectable": false
      }
     },
     "e908115632464e8aa59a5e9f5104cfd5": {
      "model_module": "jupyter-cytoscape",
      "model_module_version": "^1.3.3",
      "model_name": "EdgeModel",
      "state": {
       "_model_module_version": "^1.3.3",
       "_view_module_version": "^1.3.3",
       "classes": " directed ",
       "data": {
        "source": "7683295380142860191",
        "target": "-8261734515551322312"
       },
       "selectable": false
      }
     },
     "e98ea72ee739462da6d07523fb37ccd5": {
      "model_module": "jupyter-cytoscape",
      "model_module_version": "^1.3.3",
      "model_name": "NodeModel",
      "state": {
       "_model_module_version": "^1.3.3",
       "_view_module_version": "^1.3.3",
       "data": {
        "color": "gray",
        "id": "-7190653168310566238",
        "label": "(2, 0, 0)",
        "shape": "rectangle"
       },
       "grabbable": true,
       "grabbed": false,
       "selectable": false
      }
     },
     "e9d799826f4c450bb5d81da816b6ac83": {
      "model_module": "jupyter-cytoscape",
      "model_module_version": "^1.3.3",
      "model_name": "EdgeModel",
      "state": {
       "_model_module_version": "^1.3.3",
       "_view_module_version": "^1.3.3",
       "classes": " directed ",
       "data": {
        "source": "4596392545168703649",
        "target": "7001030414621609575"
       },
       "selectable": false
      }
     },
     "ea6900fd16b74cd5b54c2fd686d3a483": {
      "model_module": "jupyter-cytoscape",
      "model_module_version": "^1.3.3",
      "model_name": "NodeModel",
      "state": {
       "_model_module_version": "^1.3.3",
       "_view_module_version": "^1.3.3",
       "data": {
        "color": "gray",
        "id": "9138675498050813437",
        "label": "",
        "shape": "rectangle"
       },
       "grabbable": true,
       "grabbed": false,
       "selectable": false
      }
     },
     "eb7e07d8ba6444c39236884352e200c3": {
      "model_module": "jupyter-cytoscape",
      "model_module_version": "^1.3.3",
      "model_name": "EdgeModel",
      "state": {
       "_model_module_version": "^1.3.3",
       "_view_module_version": "^1.3.3",
       "classes": " directed ",
       "data": {
        "source": "2644035846870505790",
        "target": "-8977348630230885471"
       },
       "selectable": false
      }
     },
     "ebd107f96bfb4cc6b296e0e31079d45b": {
      "model_module": "jupyter-cytoscape",
      "model_module_version": "^1.3.3",
      "model_name": "EdgeModel",
      "state": {
       "_model_module_version": "^1.3.3",
       "_view_module_version": "^1.3.3",
       "classes": " directed ",
       "data": {
        "source": "3162333758080464363",
        "target": "8446372007758624814"
       },
       "selectable": false
      }
     },
     "ec21e4e85c254914b78ff2870b8c7e5a": {
      "model_module": "jupyter-cytoscape",
      "model_module_version": "^1.3.3",
      "model_name": "NodeModel",
      "state": {
       "_model_module_version": "^1.3.3",
       "_view_module_version": "^1.3.3",
       "data": {
        "color": "gray",
        "id": "1060028317720854565",
        "label": "extract_measurement",
        "shape": "ellipse"
       },
       "grabbable": true,
       "grabbed": false,
       "selectable": false
      }
     },
     "ec7b482ef6c14f299179332997aaf731": {
      "model_module": "jupyter-cytoscape",
      "model_module_version": "^1.3.3",
      "model_name": "NodeModel",
      "state": {
       "_model_module_version": "^1.3.3",
       "_view_module_version": "^1.3.3",
       "data": {
        "color": "gray",
        "id": "174526117555084074",
        "label": "2",
        "shape": "rectangle"
       },
       "grabbable": true,
       "grabbed": false,
       "selectable": false
      }
     },
     "ecaa6cdf6db94c7a9fd9de3d32590dd7": {
      "model_module": "jupyter-cytoscape",
      "model_module_version": "^1.3.3",
      "model_name": "EdgeModel",
      "state": {
       "_model_module_version": "^1.3.3",
       "_view_module_version": "^1.3.3",
       "classes": " directed ",
       "data": {
        "source": "8075331509581745181",
        "target": "-5190739199085998411"
       },
       "selectable": false
      }
     },
     "ed087ec1953a412ab885e343102a906a": {
      "model_module": "jupyter-cytoscape",
      "model_module_version": "^1.3.3",
      "model_name": "EdgeModel",
      "state": {
       "_model_module_version": "^1.3.3",
       "_view_module_version": "^1.3.3",
       "classes": " directed ",
       "data": {
        "source": "174526117555084074",
        "target": "5455551797699507121"
       },
       "selectable": false
      }
     },
     "ed447a27f5cb48b39a7ce1c8d15b1790": {
      "model_module": "jupyter-cytoscape",
      "model_module_version": "^1.3.3",
      "model_name": "NodeModel",
      "state": {
       "_model_module_version": "^1.3.3",
       "_view_module_version": "^1.3.3",
       "data": {
        "color": "gray",
        "id": "-6732201961792966662",
        "label": "build_waves_multislice_detect",
        "shape": "ellipse"
       },
       "grabbable": true,
       "grabbed": false,
       "selectable": false
      }
     },
     "ed8a2440f23f407fb356e4051fffa015": {
      "model_module": "jupyter-cytoscape",
      "model_module_version": "^1.3.3",
      "model_name": "EdgeModel",
      "state": {
       "_model_module_version": "^1.3.3",
       "_view_module_version": "^1.3.3",
       "classes": " directed ",
       "data": {
        "source": "-6292486031629062684",
        "target": "-9146598646079689744"
       },
       "selectable": false
      }
     },
     "edcab4ff3dee4eccb5cc2f0c2547c5bd": {
      "model_module": "jupyter-cytoscape",
      "model_module_version": "^1.3.3",
      "model_name": "NodeModel",
      "state": {
       "_model_module_version": "^1.3.3",
       "_view_module_version": "^1.3.3",
       "data": {
        "color": "gray",
        "id": "7876181867568370685",
        "label": "0",
        "shape": "rectangle"
       },
       "grabbable": true,
       "grabbed": false,
       "selectable": false
      }
     },
     "ede1252eb10e4928a95033fc64ad46a7": {
      "model_module": "jupyter-cytoscape",
      "model_module_version": "^1.3.3",
      "model_name": "NodeModel",
      "state": {
       "_model_module_version": "^1.3.3",
       "_view_module_version": "^1.3.3",
       "data": {
        "color": "gray",
        "id": "7642245102610051772",
        "label": "build_waves_multislice_detect",
        "shape": "ellipse"
       },
       "grabbable": true,
       "grabbed": false,
       "selectable": false
      }
     },
     "ee670f5789304c4ba9e191689cd8b383": {
      "model_module": "jupyter-cytoscape",
      "model_module_version": "^1.3.3",
      "model_name": "EdgeModel",
      "state": {
       "_model_module_version": "^1.3.3",
       "_view_module_version": "^1.3.3",
       "classes": " directed ",
       "data": {
        "source": "6185987659971859018",
        "target": "3762997917567159601"
       },
       "selectable": false
      }
     },
     "ee72608b4a6a46ff9a6c442420984b8c": {
      "model_module": "jupyter-cytoscape",
      "model_module_version": "^1.3.3",
      "model_name": "NodeModel",
      "state": {
       "_model_module_version": "^1.3.3",
       "_view_module_version": "^1.3.3",
       "data": {
        "color": "gray",
        "id": "-8369933350610621265",
        "label": "3",
        "shape": "rectangle"
       },
       "grabbable": true,
       "grabbed": false,
       "selectable": false
      }
     },
     "eeb22951084945e2b7fa6fd160577fbb": {
      "model_module": "jupyter-cytoscape",
      "model_module_version": "^1.3.3",
      "model_name": "NodeModel",
      "state": {
       "_model_module_version": "^1.3.3",
       "_view_module_version": "^1.3.3",
       "data": {
        "color": "gray",
        "id": "-7735061727949076103",
        "label": "mean_chunk",
        "shape": "ellipse"
       },
       "grabbable": true,
       "grabbed": false,
       "selectable": false
      }
     },
     "eecc3b45c42e4dad9dbf8791a55b7cf4": {
      "model_module": "jupyter-cytoscape",
      "model_module_version": "^1.3.3",
      "model_name": "NodeModel",
      "state": {
       "_model_module_version": "^1.3.3",
       "_view_module_version": "^1.3.3",
       "data": {
        "color": "gray",
        "id": "1123258925578254493",
        "label": "extract_measurement",
        "shape": "ellipse"
       },
       "grabbable": true,
       "grabbed": false,
       "selectable": false
      }
     },
     "ef6b421851524d8b8e3013700bbb3b85": {
      "model_module": "jupyter-cytoscape",
      "model_module_version": "^1.3.3",
      "model_name": "EdgeModel",
      "state": {
       "_model_module_version": "^1.3.3",
       "_view_module_version": "^1.3.3",
       "classes": " directed ",
       "data": {
        "source": "4669270126925999175",
        "target": "-3218514657936302129"
       },
       "selectable": false
      }
     },
     "f034578e887d492fa8fe88580b3a38aa": {
      "model_module": "jupyter-cytoscape",
      "model_module_version": "^1.3.3",
      "model_name": "EdgeModel",
      "state": {
       "_model_module_version": "^1.3.3",
       "_view_module_version": "^1.3.3",
       "classes": " directed ",
       "data": {
        "source": "-4672027926650990305",
        "target": "-7896479044627285254"
       },
       "selectable": false
      }
     },
     "f0c46906fdbb47af9207b2cfb23a34eb": {
      "model_module": "jupyter-cytoscape",
      "model_module_version": "^1.3.3",
      "model_name": "NodeModel",
      "state": {
       "_model_module_version": "^1.3.3",
       "_view_module_version": "^1.3.3",
       "data": {
        "color": "gray",
        "id": "4543517768215573707",
        "label": "0",
        "shape": "rectangle"
       },
       "grabbable": true,
       "grabbed": false,
       "selectable": false
      }
     },
     "f0c79fd34eb344d490f574f86111e64b": {
      "model_module": "jupyter-cytoscape",
      "model_module_version": "^1.3.3",
      "model_name": "NodeModel",
      "state": {
       "_model_module_version": "^1.3.3",
       "_view_module_version": "^1.3.3",
       "data": {
        "color": "gray",
        "id": "1123258925578254493",
        "label": "extract_measurement",
        "shape": "ellipse"
       },
       "grabbable": true,
       "grabbed": false,
       "selectable": false
      }
     },
     "f10267d45b61490591ab8ebcaa46ae1a": {
      "model_module": "jupyter-cytoscape",
      "model_module_version": "^1.3.3",
      "model_name": "EdgeModel",
      "state": {
       "_model_module_version": "^1.3.3",
       "_view_module_version": "^1.3.3",
       "classes": " directed ",
       "data": {
        "source": "2958316773410150143",
        "target": "-1800958231532078890"
       },
       "selectable": false
      }
     },
     "f1234ebaaa7044d69e96c25d46d7220e": {
      "model_module": "jupyter-cytoscape",
      "model_module_version": "^1.3.3",
      "model_name": "NodeModel",
      "state": {
       "_model_module_version": "^1.3.3",
       "_view_module_version": "^1.3.3",
       "data": {
        "color": "gray",
        "id": "-280820566235178822",
        "label": "mean_chunk",
        "shape": "ellipse"
       },
       "grabbable": true,
       "grabbed": false,
       "selectable": false
      }
     },
     "f1b8a0e55ea540368ae03cd1568f5088": {
      "model_module": "jupyter-cytoscape",
      "model_module_version": "^1.3.3",
      "model_name": "EdgeModel",
      "state": {
       "_model_module_version": "^1.3.3",
       "_view_module_version": "^1.3.3",
       "classes": " directed ",
       "data": {
        "source": "5125598847137988848",
        "target": "2601438695660831798"
       },
       "selectable": false
      }
     },
     "f1bbf0698bc84f70920fb1515b94d884": {
      "model_module": "jupyter-cytoscape",
      "model_module_version": "^1.3.3",
      "model_name": "NodeModel",
      "state": {
       "_model_module_version": "^1.3.3",
       "_view_module_version": "^1.3.3",
       "data": {
        "color": "gray",
        "id": "6017847913203115259",
        "label": "(3, 0, 0)",
        "shape": "rectangle"
       },
       "grabbable": true,
       "grabbed": false,
       "selectable": false
      }
     },
     "f206cc90aa1942d98be8d370790c9327": {
      "model_module": "jupyter-cytoscape",
      "model_module_version": "^1.3.3",
      "model_name": "NodeModel",
      "state": {
       "_model_module_version": "^1.3.3",
       "_view_module_version": "^1.3.3",
       "data": {
        "color": "gray",
        "id": "6778553500043629472",
        "label": "1",
        "shape": "rectangle"
       },
       "grabbable": true,
       "grabbed": false,
       "selectable": false
      }
     },
     "f23e20634aab41d8a0eab80331f7bb5e": {
      "model_module": "jupyter-cytoscape",
      "model_module_version": "^1.3.3",
      "model_name": "NodeModel",
      "state": {
       "_model_module_version": "^1.3.3",
       "_view_module_version": "^1.3.3",
       "data": {
        "color": "gray",
        "id": "3629306384784091193",
        "label": "build_waves_multislice_detect",
        "shape": "ellipse"
       },
       "grabbable": true,
       "grabbed": false,
       "selectable": false
      }
     },
     "f245f9133c04407ba9b29dab4a774b75": {
      "model_module": "jupyter-cytoscape",
      "model_module_version": "^1.3.3",
      "model_name": "NodeModel",
      "state": {
       "_model_module_version": "^1.3.3",
       "_view_module_version": "^1.3.3",
       "data": {
        "color": "gray",
        "id": "7143069633224236115",
        "label": "",
        "shape": "rectangle"
       },
       "grabbable": true,
       "grabbed": false,
       "selectable": false
      }
     },
     "f2f35c6dea7d4c3d8c0232a2bdd2eb08": {
      "model_module": "jupyter-cytoscape",
      "model_module_version": "^1.3.3",
      "model_name": "EdgeModel",
      "state": {
       "_model_module_version": "^1.3.3",
       "_view_module_version": "^1.3.3",
       "classes": " directed ",
       "data": {
        "source": "2115047589787434672",
        "target": "5174968986753358098"
       },
       "selectable": false
      }
     },
     "f41b9b058bed43f28282eea63e7dce3a": {
      "model_module": "jupyter-cytoscape",
      "model_module_version": "^1.3.3",
      "model_name": "EdgeModel",
      "state": {
       "_model_module_version": "^1.3.3",
       "_view_module_version": "^1.3.3",
       "classes": " directed ",
       "data": {
        "source": "-6680118790443633764",
        "target": "7876181867568370685"
       },
       "selectable": false
      }
     },
     "f4d39c7580aa426588d22a41fd3dc15a": {
      "model_module": "jupyter-cytoscape",
      "model_module_version": "^1.3.3",
      "model_name": "EdgeModel",
      "state": {
       "_model_module_version": "^1.3.3",
       "_view_module_version": "^1.3.3",
       "classes": " directed ",
       "data": {
        "source": "7077065919116520802",
        "target": "4730913378417847910"
       },
       "selectable": false
      }
     },
     "f6015f83edc240f39993ae43cab2c30d": {
      "model_module": "jupyter-cytoscape",
      "model_module_version": "^1.3.3",
      "model_name": "EdgeModel",
      "state": {
       "_model_module_version": "^1.3.3",
       "_view_module_version": "^1.3.3",
       "classes": " directed ",
       "data": {
        "source": "5130464993996696205",
        "target": "9001240909763029720"
       },
       "selectable": false
      }
     },
     "f625b010b9af41e0af68b802b552c0e0": {
      "model_module": "jupyter-cytoscape",
      "model_module_version": "^1.3.3",
      "model_name": "NodeModel",
      "state": {
       "_model_module_version": "^1.3.3",
       "_view_module_version": "^1.3.3",
       "data": {
        "color": "gray",
        "id": "4616942232716715966",
        "label": "(0, 0)",
        "shape": "rectangle"
       },
       "grabbable": true,
       "grabbed": false,
       "selectable": false
      }
     },
     "f66735c2a524465e95ecd83a1f769c16": {
      "model_module": "jupyter-cytoscape",
      "model_module_version": "^1.3.3",
      "model_name": "EdgeModel",
      "state": {
       "_model_module_version": "^1.3.3",
       "_view_module_version": "^1.3.3",
       "classes": " directed ",
       "data": {
        "source": "4218932839740261193",
        "target": "3873888304921363141"
       },
       "selectable": false
      }
     },
     "f676d3688162441dbd3633b377c746f2": {
      "model_module": "jupyter-cytoscape",
      "model_module_version": "^1.3.3",
      "model_name": "EdgeModel",
      "state": {
       "_model_module_version": "^1.3.3",
       "_view_module_version": "^1.3.3",
       "classes": " directed ",
       "data": {
        "source": "7642245102610051772",
        "target": "-8980786544197403048"
       },
       "selectable": false
      }
     },
     "f705645b92dc4e8993ad4e8d5ce2292c": {
      "model_module": "jupyter-cytoscape",
      "model_module_version": "^1.3.3",
      "model_name": "NodeModel",
      "state": {
       "_model_module_version": "^1.3.3",
       "_view_module_version": "^1.3.3",
       "data": {
        "color": "gray",
        "id": "6185987659971859018",
        "label": "extract_measurement",
        "shape": "ellipse"
       },
       "grabbable": true,
       "grabbed": false,
       "selectable": false
      }
     },
     "f731fcdac3b74a9d9ef1e481aee3e039": {
      "model_module": "jupyter-cytoscape",
      "model_module_version": "^1.3.3",
      "model_name": "EdgeModel",
      "state": {
       "_model_module_version": "^1.3.3",
       "_view_module_version": "^1.3.3",
       "classes": " directed ",
       "data": {
        "source": "4543517768215573707",
        "target": "-7162202832397786769"
       },
       "selectable": false
      }
     },
     "f732b3e890e6493aad4310370ce3ce40": {
      "model_module": "jupyter-cytoscape",
      "model_module_version": "^1.3.3",
      "model_name": "NodeModel",
      "state": {
       "_model_module_version": "^1.3.3",
       "_view_module_version": "^1.3.3",
       "data": {
        "color": "gray",
        "id": "6605405690337731129",
        "label": "build_waves_multislice_detect",
        "shape": "ellipse"
       },
       "grabbable": true,
       "grabbed": false,
       "selectable": false
      }
     },
     "f7760d6cb0d247848d583a73897c4fcf": {
      "model_module": "jupyter-cytoscape",
      "model_module_version": "^1.3.3",
      "model_name": "EdgeModel",
      "state": {
       "_model_module_version": "^1.3.3",
       "_view_module_version": "^1.3.3",
       "classes": " directed ",
       "data": {
        "source": "8446372007758624814",
        "target": "2958316773410150143"
       },
       "selectable": false
      }
     },
     "f781cefd73324832b8eccba557f3a748": {
      "model_module": "jupyter-cytoscape",
      "model_module_version": "^1.3.3",
      "model_name": "EdgeModel",
      "state": {
       "_model_module_version": "^1.3.3",
       "_view_module_version": "^1.3.3",
       "classes": " directed ",
       "data": {
        "source": "-2297275566705832746",
        "target": "-1226367335932640965"
       },
       "selectable": false
      }
     },
     "f7d2d2894a8b4063bc1883d4ce35f9ee": {
      "model_module": "jupyter-cytoscape",
      "model_module_version": "^1.3.3",
      "model_name": "EdgeModel",
      "state": {
       "_model_module_version": "^1.3.3",
       "_view_module_version": "^1.3.3",
       "classes": " directed ",
       "data": {
        "source": "-3366324276772900629",
        "target": "4543517768215573707"
       },
       "selectable": false
      }
     },
     "f80e8e4dc9944aafb73a043f7b5bb39c": {
      "model_module": "jupyter-cytoscape",
      "model_module_version": "^1.3.3",
      "model_name": "NodeModel",
      "state": {
       "_model_module_version": "^1.3.3",
       "_view_module_version": "^1.3.3",
       "data": {
        "color": "gray",
        "id": "6961277806433087080",
        "label": "",
        "shape": "rectangle"
       },
       "grabbable": true,
       "grabbed": false,
       "selectable": false
      }
     },
     "f845bae2945b4aa7852bef44a981410c": {
      "model_module": "jupyter-cytoscape",
      "model_module_version": "^1.3.3",
      "model_name": "NodeModel",
      "state": {
       "_model_module_version": "^1.3.3",
       "_view_module_version": "^1.3.3",
       "data": {
        "color": "gray",
        "id": "1517041892561096731",
        "label": "(0, 0, 0)",
        "shape": "rectangle"
       },
       "grabbable": true,
       "grabbed": false,
       "selectable": false
      }
     },
     "f877a6f36d994ab6bfc8c1294a723800": {
      "model_module": "jupyter-cytoscape",
      "model_module_version": "^1.3.3",
      "model_name": "NodeModel",
      "state": {
       "_model_module_version": "^1.3.3",
       "_view_module_version": "^1.3.3",
       "data": {
        "color": "gray",
        "id": "6682166873657082499",
        "label": "3",
        "shape": "rectangle"
       },
       "grabbable": true,
       "grabbed": false,
       "selectable": false
      }
     },
     "f8cbbf3c4b3b4a5c8134b785f02f2f15": {
      "model_module": "jupyter-cytoscape",
      "model_module_version": "^1.3.3",
      "model_name": "EdgeModel",
      "state": {
       "_model_module_version": "^1.3.3",
       "_view_module_version": "^1.3.3",
       "classes": " directed ",
       "data": {
        "source": "-1226367335932640965",
        "target": "-8776769559527088828"
       },
       "selectable": false
      }
     },
     "f90b8ebffb254407b2b3a959f54286e4": {
      "model_module": "jupyter-cytoscape",
      "model_module_version": "^1.3.3",
      "model_name": "NodeModel",
      "state": {
       "_model_module_version": "^1.3.3",
       "_view_module_version": "^1.3.3",
       "data": {
        "color": "gray",
        "id": "-3366324276772900629",
        "label": "",
        "shape": "rectangle"
       },
       "grabbable": true,
       "grabbed": false,
       "selectable": false
      }
     },
     "f910634af7824e7e8b8f8aa66c508c42": {
      "model_module": "jupyter-cytoscape",
      "model_module_version": "^1.3.3",
      "model_name": "NodeModel",
      "state": {
       "_model_module_version": "^1.3.3",
       "_view_module_version": "^1.3.3",
       "data": {
        "color": "gray",
        "id": "4543517768215573707",
        "label": "0",
        "shape": "rectangle"
       },
       "grabbable": true,
       "grabbed": false,
       "selectable": false
      }
     },
     "f94a027826d843a68a3c6257d70d24ad": {
      "model_module": "jupyter-cytoscape",
      "model_module_version": "^1.3.3",
      "model_name": "NodeModel",
      "state": {
       "_model_module_version": "^1.3.3",
       "_view_module_version": "^1.3.3",
       "data": {
        "color": "gray",
        "id": "3284152216582844014",
        "label": "(1, 0, 0)",
        "shape": "rectangle"
       },
       "grabbable": true,
       "grabbed": false,
       "selectable": false
      }
     },
     "f970e737e55741029b1242906865e655": {
      "model_module": "jupyter-cytoscape",
      "model_module_version": "^1.3.3",
      "model_name": "EdgeModel",
      "state": {
       "_model_module_version": "^1.3.3",
       "_view_module_version": "^1.3.3",
       "classes": " directed ",
       "data": {
        "source": "-1454821431635411725",
        "target": "4776900485209766422"
       },
       "selectable": false
      }
     },
     "f9cd68882f7241ff86398ae31aca2a0b": {
      "model_module": "jupyter-cytoscape",
      "model_module_version": "^1.3.3",
      "model_name": "NodeModel",
      "state": {
       "_model_module_version": "^1.3.3",
       "_view_module_version": "^1.3.3",
       "data": {
        "color": "gray",
        "id": "-7190653168310566238",
        "label": "(2, 0, 0)",
        "shape": "rectangle"
       },
       "grabbable": true,
       "grabbed": false,
       "selectable": false
      }
     },
     "f9dcadee0d044c77a27e537f37a4ef7d": {
      "model_module": "jupyter-cytoscape",
      "model_module_version": "^1.3.3",
      "model_name": "NodeModel",
      "state": {
       "_model_module_version": "^1.3.3",
       "_view_module_version": "^1.3.3",
       "data": {
        "color": "gray",
        "id": "-6680118790443633764",
        "label": "",
        "shape": "rectangle"
       },
       "grabbable": true,
       "grabbed": false,
       "selectable": false
      }
     },
     "fa2d48b1cc5a41dc8f21af3f9ac3b3ea": {
      "model_module": "jupyter-cytoscape",
      "model_module_version": "^1.3.3",
      "model_name": "NodeModel",
      "state": {
       "_model_module_version": "^1.3.3",
       "_view_module_version": "^1.3.3",
       "data": {
        "color": "gray",
        "id": "8446372007758624814",
        "label": "build_waves_multislice_detect",
        "shape": "ellipse"
       },
       "grabbable": true,
       "grabbed": false,
       "selectable": false
      }
     },
     "fa42c626ca71497b88489ef76ff3ddda": {
      "model_module": "jupyter-cytoscape",
      "model_module_version": "^1.3.3",
      "model_name": "EdgeModel",
      "state": {
       "_model_module_version": "^1.3.3",
       "_view_module_version": "^1.3.3",
       "classes": " directed ",
       "data": {
        "source": "1727177019973852603",
        "target": "-521809497029383009"
       },
       "selectable": false
      }
     },
     "fa6a0aee239e4c118b9737cf646aaf7c": {
      "model_module": "jupyter-cytoscape",
      "model_module_version": "^1.3.3",
      "model_name": "EdgeModel",
      "state": {
       "_model_module_version": "^1.3.3",
       "_view_module_version": "^1.3.3",
       "classes": " directed ",
       "data": {
        "source": "-5925256375357017817",
        "target": "625420363714486229"
       },
       "selectable": false
      }
     },
     "fa6b70611d5748be9b7ffa02c2eb0df9": {
      "model_module": "jupyter-cytoscape",
      "model_module_version": "^1.3.3",
      "model_name": "NodeModel",
      "state": {
       "_model_module_version": "^1.3.3",
       "_view_module_version": "^1.3.3",
       "data": {
        "color": "gray",
        "id": "4002729701868916562",
        "label": "mean_chunk",
        "shape": "ellipse"
       },
       "grabbable": true,
       "grabbed": false,
       "selectable": false
      }
     },
     "fadbe5c490e242668a6159641c81929d": {
      "model_module": "jupyter-cytoscape",
      "model_module_version": "^1.3.3",
      "model_name": "EdgeModel",
      "state": {
       "_model_module_version": "^1.3.3",
       "_view_module_version": "^1.3.3",
       "classes": " directed ",
       "data": {
        "source": "-7162202832397786769",
        "target": "-4756616172800127912"
       },
       "selectable": false
      }
     },
     "faed15d97b7c4379b2320386ea594550": {
      "model_module": "jupyter-cytoscape",
      "model_module_version": "^1.3.3",
      "model_name": "EdgeModel",
      "state": {
       "_model_module_version": "^1.3.3",
       "_view_module_version": "^1.3.3",
       "classes": " directed ",
       "data": {
        "source": "-7735061727949076103",
        "target": "-452909014763226180"
       },
       "selectable": false
      }
     },
     "fb3eafb7a502437eb79dc6d32dcbc202": {
      "model_module": "jupyter-cytoscape",
      "model_module_version": "^1.3.3",
      "model_name": "EdgeModel",
      "state": {
       "_model_module_version": "^1.3.3",
       "_view_module_version": "^1.3.3",
       "classes": " directed ",
       "data": {
        "source": "6548439309187638817",
        "target": "6328973697379167242"
       },
       "selectable": false
      }
     },
     "fb4a0defcbd14eb285b2fe42280fbba7": {
      "model_module": "jupyter-cytoscape",
      "model_module_version": "^1.3.3",
      "model_name": "EdgeModel",
      "state": {
       "_model_module_version": "^1.3.3",
       "_view_module_version": "^1.3.3",
       "classes": " directed ",
       "data": {
        "source": "-1580208454798506626",
        "target": "577712527715387209"
       },
       "selectable": false
      }
     },
     "fb5a5167ee9b4036b7298e4baa88c32c": {
      "model_module": "jupyter-cytoscape",
      "model_module_version": "^1.3.3",
      "model_name": "NodeModel",
      "state": {
       "_model_module_version": "^1.3.3",
       "_view_module_version": "^1.3.3",
       "data": {
        "color": "gray",
        "id": "6626835539378452860",
        "label": "intensity",
        "shape": "ellipse"
       },
       "grabbable": true,
       "grabbed": false,
       "selectable": false
      }
     },
     "fb5ad3a2f9af400e9230acb06cacf7fc": {
      "model_module": "jupyter-cytoscape",
      "model_module_version": "^1.3.3",
      "model_name": "NodeModel",
      "state": {
       "_model_module_version": "^1.3.3",
       "_view_module_version": "^1.3.3",
       "data": {
        "color": "gray",
        "id": "8559664916612014831",
        "label": "",
        "shape": "rectangle"
       },
       "grabbable": true,
       "grabbed": false,
       "selectable": false
      }
     },
     "fbc9ffda61af4d98ab58609017ae92b3": {
      "model_module": "jupyter-cytoscape",
      "model_module_version": "^1.3.3",
      "model_name": "NodeModel",
      "state": {
       "_model_module_version": "^1.3.3",
       "_view_module_version": "^1.3.3",
       "data": {
        "color": "gray",
        "id": "-5769699360084664581",
        "label": "",
        "shape": "rectangle"
       },
       "grabbable": true,
       "grabbed": false,
       "selectable": false
      }
     },
     "fc4eb390206049f4811f821daf2bea0c": {
      "model_module": "jupyter-cytoscape",
      "model_module_version": "^1.3.3",
      "model_name": "EdgeModel",
      "state": {
       "_model_module_version": "^1.3.3",
       "_view_module_version": "^1.3.3",
       "classes": " directed ",
       "data": {
        "source": "7077065919116520802",
        "target": "4730913378417847910"
       },
       "selectable": false
      }
     },
     "fc58889afcaa4b859f8438716e659c88": {
      "model_module": "jupyter-cytoscape",
      "model_module_version": "^1.3.3",
      "model_name": "NodeModel",
      "state": {
       "_model_module_version": "^1.3.3",
       "_view_module_version": "^1.3.3",
       "data": {
        "color": "gray",
        "id": "3537663541289573858",
        "label": "frozen_phonon",
        "shape": "ellipse"
       },
       "grabbable": true,
       "grabbed": false,
       "selectable": false
      }
     },
     "fc918d7670004f68aaf1a3e2e8df1c2e": {
      "model_module": "jupyter-cytoscape",
      "model_module_version": "^1.3.3",
      "model_name": "NodeModel",
      "state": {
       "_model_module_version": "^1.3.3",
       "_view_module_version": "^1.3.3",
       "data": {
        "color": "gray",
        "id": "-2297275566705832746",
        "label": "",
        "shape": "rectangle"
       },
       "grabbable": true,
       "grabbed": false,
       "selectable": false
      }
     },
     "fcd1ed216bfa4ee7b0ad5cd49ed01fd2": {
      "model_module": "jupyter-cytoscape",
      "model_module_version": "^1.3.3",
      "model_name": "EdgeModel",
      "state": {
       "_model_module_version": "^1.3.3",
       "_view_module_version": "^1.3.3",
       "classes": " directed ",
       "data": {
        "source": "-521809497029383009",
        "target": "6140396147582215457"
       },
       "selectable": false
      }
     },
     "fd27241e90d24986bb2f84b8296f0c28": {
      "model_module": "jupyter-cytoscape",
      "model_module_version": "^1.3.3",
      "model_name": "EdgeModel",
      "state": {
       "_model_module_version": "^1.3.3",
       "_view_module_version": "^1.3.3",
       "classes": " directed ",
       "data": {
        "source": "625420363714486229",
        "target": "-600491490188075901"
       },
       "selectable": false
      }
     },
     "fd3a274c41ad485584eac6e48604d750": {
      "model_module": "jupyter-cytoscape",
      "model_module_version": "^1.3.3",
      "model_name": "EdgeModel",
      "state": {
       "_model_module_version": "^1.3.3",
       "_view_module_version": "^1.3.3",
       "classes": " directed ",
       "data": {
        "source": "-6834823497889879413",
        "target": "-8036199778869199068"
       },
       "selectable": false
      }
     },
     "fd65c0f4b56b47fe833dd9241c442d1d": {
      "model_module": "jupyter-cytoscape",
      "model_module_version": "^1.3.3",
      "model_name": "NodeModel",
      "state": {
       "_model_module_version": "^1.3.3",
       "_view_module_version": "^1.3.3",
       "data": {
        "color": "gray",
        "id": "3802193195161830190",
        "label": "(1, 0, 0)",
        "shape": "rectangle"
       },
       "grabbable": true,
       "grabbed": false,
       "selectable": false
      }
     },
     "fe47d63bf9474ebd9d48264d49e42c56": {
      "model_module": "jupyter-cytoscape",
      "model_module_version": "^1.3.3",
      "model_name": "NodeModel",
      "state": {
       "_model_module_version": "^1.3.3",
       "_view_module_version": "^1.3.3",
       "data": {
        "color": "gray",
        "id": "577712527715387209",
        "label": "mean_combine-partial",
        "shape": "ellipse"
       },
       "grabbable": true,
       "grabbed": false,
       "selectable": false
      }
     },
     "fe8cf45766ba48f582e78576f27a2ab6": {
      "model_module": "jupyter-cytoscape",
      "model_module_version": "^1.3.3",
      "model_name": "EdgeModel",
      "state": {
       "_model_module_version": "^1.3.3",
       "_view_module_version": "^1.3.3",
       "classes": " directed ",
       "data": {
        "source": "-8776769559527088828",
        "target": "7642245102610051772"
       },
       "selectable": false
      }
     },
     "feccbdd850f34d768491877eb1c2811a": {
      "model_module": "jupyter-cytoscape",
      "model_module_version": "^1.3.3",
      "model_name": "EdgeModel",
      "state": {
       "_model_module_version": "^1.3.3",
       "_view_module_version": "^1.3.3",
       "classes": " directed ",
       "data": {
        "source": "-3211400314611901149",
        "target": "7494512724633528164"
       },
       "selectable": false
      }
     },
     "ff0427d52fbb4ea6901edc791d159d61": {
      "model_module": "jupyter-cytoscape",
      "model_module_version": "^1.3.3",
      "model_name": "EdgeModel",
      "state": {
       "_model_module_version": "^1.3.3",
       "_view_module_version": "^1.3.3",
       "classes": " directed ",
       "data": {
        "source": "-610012787654801415",
        "target": "-5160549817563923719"
       },
       "selectable": false
      }
     },
     "ff2e9c11b09f48dda9482aed35fe2672": {
      "model_module": "jupyter-cytoscape",
      "model_module_version": "^1.3.3",
      "model_name": "EdgeModel",
      "state": {
       "_model_module_version": "^1.3.3",
       "_view_module_version": "^1.3.3",
       "classes": " directed ",
       "data": {
        "source": "6778553500043629472",
        "target": "1123258925578254493"
       },
       "selectable": false
      }
     },
     "ffe18566e04d425a9f03e6bca67aaca9": {
      "model_module": "jupyter-cytoscape",
      "model_module_version": "^1.3.3",
      "model_name": "EdgeModel",
      "state": {
       "_model_module_version": "^1.3.3",
       "_view_module_version": "^1.3.3",
       "classes": " directed ",
       "data": {
        "source": "4423224545294134894",
        "target": "-6680118790443633764"
       },
       "selectable": false
      }
     },
     "fffe6748f3164ffda2b5c35552bc504d": {
      "model_module": "jupyter-cytoscape",
      "model_module_version": "^1.3.3",
      "model_name": "NodeModel",
      "state": {
       "_model_module_version": "^1.3.3",
       "_view_module_version": "^1.3.3",
       "data": {
        "color": "gray",
        "id": "-3218514657936302129",
        "label": "extract_measurement",
        "shape": "ellipse"
       },
       "grabbable": true,
       "grabbed": false,
       "selectable": false
      }
     }
    },
    "version_major": 2,
    "version_minor": 0
   }
  }
 },
 "nbformat": 4,
 "nbformat_minor": 5
}
