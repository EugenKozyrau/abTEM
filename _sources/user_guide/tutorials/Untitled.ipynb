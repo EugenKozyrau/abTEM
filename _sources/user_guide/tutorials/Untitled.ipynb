{
 "cells": [
  {
   "cell_type": "code",
   "execution_count": 1,
   "id": "d45c63e9-e975-42eb-a7ab-bbae1744c8f1",
   "metadata": {},
   "outputs": [],
   "source": [
    "%config InlineBackend.rc = {\"figure.dpi\": 72, 'figure.figsize': (6.0, 4.0)}\n",
    "%matplotlib inline\n",
    "\n",
    "import abtem\n",
    "import matplotlib.pyplot as plt\n",
    "import numpy as np\n",
    "import pandas as pd\n",
    "from ase.build import graphene\n",
    "from gpaw import GPAW\n",
    "\n",
    "abtem.config.set({\"local_diagnostics.progress_bar\": False});"
   ]
  },
  {
   "cell_type": "code",
   "execution_count": 2,
   "id": "4a650dd5-12f6-43be-935d-bae57fcc31e6",
   "metadata": {},
   "outputs": [
    {
     "data": {
      "image/png": "[encoded data removed]",
      "text/plain": [
       "<Figure size 432x288 with 1 Axes>"
      ]
     },
     "metadata": {},
     "output_type": "display_data"
    }
   ],
   "source": [
    "atoms = graphene(vacuum=3, a=2.504)\n",
    "\n",
    "atoms[0].number = 5\n",
    "atoms[1].number = 7\n",
    "\n",
    "abtem.show_atoms(atoms, legend=True);"
   ]
  },
  {
   "cell_type": "code",
   "execution_count": 3,
   "id": "65af19bd-cdea-494b-ae05-11d9326012a2",
   "metadata": {},
   "outputs": [],
   "source": [
    "gpaw = GPAW(txt=None, kpts=(5, 5, 1))\n",
    "atoms.calc = gpaw"
   ]
  },
  {
   "cell_type": "code",
   "execution_count": 4,
   "id": "df0eea0d-826b-4c76-8a73-d2f471537b18",
   "metadata": {},
   "outputs": [
    {
     "data": {
      "text/plain": [
       "-19.369576502082047"
      ]
     },
     "execution_count": 4,
     "metadata": {},
     "output_type": "execute_result"
    }
   ],
   "source": [
    "atoms.get_potential_energy()"
   ]
  },
  {
   "cell_type": "code",
   "execution_count": 13,
   "id": "95a4ee19-aa10-420c-81ca-d28b09e0ca60",
   "metadata": {},
   "outputs": [],
   "source": [
    "from ase.io import write\n",
    "\n",
    "write(\"traj.traj\", [atoms] * 2)"
   ]
  },
  {
   "cell_type": "code",
   "execution_count": 5,
   "id": "802b3b5f-c756-4872-b326-3c6ae7a4ef7a",
   "metadata": {},
   "outputs": [],
   "source": [
    "gpaw.write(\"test.gpw\")"
   ]
  },
  {
   "cell_type": "code",
   "execution_count": 27,
   "id": "723f3368-8184-4930-9f84-78ed888a38c8",
   "metadata": {},
   "outputs": [
    {
     "data": {
      "text/plain": [
       "[Atoms(symbols='BN', pbc=[True, True, False], cell=[[2.504, 0.0, 0.0], [-1.252, 2.168527611076234, 0.0], [0.0, -0.0, 6.0]], calculator=SinglePointCalculator(...)),\n",
       " Atoms(symbols='BN', pbc=[True, True, False], cell=[[2.504, 0.0, 0.0], [-1.252, 2.168527611076234, 0.0], [0.0, -0.0, 6.0]], calculator=SinglePointCalculator(...))]"
      ]
     },
     "execution_count": 27,
     "metadata": {},
     "output_type": "execute_result"
    }
   ],
   "source": [
    "from ase.io import read\n",
    "\n",
    "t = read(\"traj.traj@:\")\n",
    "\n",
    "t"
   ]
  },
  {
   "cell_type": "code",
   "execution_count": 33,
   "id": "0ffef80f-75b3-46e4-8545-85d15570c25a",
   "metadata": {},
   "outputs": [
    {
     "data": {
      "text/plain": [
       "(2, 6, 63, 109)"
      ]
     },
     "execution_count": 33,
     "metadata": {},
     "output_type": "execute_result"
    }
   ],
   "source": [
    "#potential_dft = abtem.GPAWPotential([\"test1.gpw\", \"test2.gpw\"], sampling=0.04)\n",
    "potential_iam = abtem.Potential(\"traj.traj\", sampling=0.04)\n",
    "\n",
    "potential_iam.shape"
   ]
  },
  {
   "cell_type": "code",
   "execution_count": 12,
   "id": "e10c97f9-ec3b-4713-8dc2-f0f8d857a10c",
   "metadata": {},
   "outputs": [
    {
     "data": {
      "text/plain": [
       "(4, 6, 63, 109)"
      ]
     },
     "execution_count": 12,
     "metadata": {},
     "output_type": "execute_result"
    }
   ],
   "source": [
    "\n",
    "\n",
    "potential_dft.array.shape"
   ]
  }
 ],
 "metadata": {
  "kernelspec": {
   "display_name": "abtem-dask",
   "language": "python",
   "name": "abtem-dask"
  },
  "language_info": {
   "codemirror_mode": {
    "name": "ipython",
    "version": 3
   },
   "file_extension": ".py",
   "mimetype": "text/x-python",
   "name": "python",
   "nbconvert_exporter": "python",
   "pygments_lexer": "ipython3",
   "version": "3.8.10"
  },
  "widgets": {
   "application/vnd.jupyter.widget-state+json": {
    "state": {},
    "version_major": 2,
    "version_minor": 0
   }
  }
 },
 "nbformat": 4,
 "nbformat_minor": 5
}
