{
 "cells": [
  {
   "cell_type": "code",
   "execution_count": 2,
   "id": "d3eb8bc1-d904-44a7-ba4d-d378b09480ea",
   "metadata": {},
   "outputs": [],
   "source": [
    "import abtem\n",
    "import matplotlib.pyplot as plt\n",
    "import numpy as np\n",
    "import pandas as pd\n",
    "from ase.build import graphene\n",
    "from gpaw import GPAW\n",
    "from gpaw import PW"
   ]
  },
  {
   "cell_type": "code",
   "execution_count": 7,
   "id": "68feb439-4a8b-4fe4-8195-6801aa1d4a4b",
   "metadata": {},
   "outputs": [
    {
     "name": "stderr",
     "output_type": "stream",
     "text": [
      "/opt/anaconda3/envs/abtem-dask/lib/python3.8/site-packages/distributed/node.py:160: UserWarning: Port 8787 is already in use.\n",
      "Perhaps you already have a cluster running?\n",
      "Hosting the HTTP server on port 64894 instead\n",
      "  warnings.warn(\n"
     ]
    }
   ],
   "source": [
    "from dask.distributed import Client\n",
    "\n",
    "client = Client()"
   ]
  },
  {
   "cell_type": "code",
   "execution_count": 3,
   "id": "b7d343f6-4acc-482d-96cf-e93b2a50e7a1",
   "metadata": {},
   "outputs": [
    {
     "data": {
      "image/png": "[encoded data removed]",
      "text/plain": [
       "<Figure size 432x288 with 1 Axes>"
      ]
     },
     "metadata": {
      "needs_background": "light"
     },
     "output_type": "display_data"
    }
   ],
   "source": [
    "atoms = graphene(vacuum=3, a=2.504)\n",
    "\n",
    "atoms[0].number = 5\n",
    "atoms[1].number = 7\n",
    "\n",
    "atoms = abtem.orthogonalize_cell(atoms)\n",
    "\n",
    "atoms *= (1,1,1)\n",
    "\n",
    "abtem.show_atoms(atoms, legend=True);"
   ]
  },
  {
   "cell_type": "code",
   "execution_count": 5,
   "id": "2e92f741-ccf7-4b3a-9964-4095c301e876",
   "metadata": {},
   "outputs": [
    {
     "data": {
      "text/plain": [
       "-37.221073398751166"
      ]
     },
     "execution_count": 5,
     "metadata": {},
     "output_type": "execute_result"
    }
   ],
   "source": [
    "gpaw = GPAW(txt=None, kpts=(5, 5, 1), mode=PW(500))\n",
    "atoms.calc = gpaw\n",
    "atoms.get_potential_energy()\n",
    "#gpaw.write(\"test.gpw\")"
   ]
  },
  {
   "cell_type": "code",
   "execution_count": 5,
   "id": "815a256d-1bed-4237-ab13-236bbd5ff1e2",
   "metadata": {},
   "outputs": [],
   "source": [
    "from gpaw import PW\n",
    "\n",
    "#for i in range(1000):\n",
    "#    gpaw = GPAW(mode=PW(500), txt=None, kpts=(5, 5, 1))\n",
    "#    atoms.calc = gpaw\n",
    "#    atoms.get_potential_energy()"
   ]
  },
  {
   "cell_type": "code",
   "execution_count": 5,
   "id": "7065c174-6d3a-43ed-8df1-cfb4506b35db",
   "metadata": {},
   "outputs": [
    {
     "name": "stdout",
     "output_type": "stream",
     "text": [
      "[########################################] | 100% Completed |  2.0s\n"
     ]
    },
    {
     "data": {
      "text/plain": [
       "<abtem.potentials.PotentialArray object at 0x7f8a71b4a9d0>"
      ]
     },
     "execution_count": 5,
     "metadata": {},
     "output_type": "execute_result"
    }
   ],
   "source": [
    "abtem.GPAWPotential(gpaw, sampling=0.04).build().compute()"
   ]
  }
 ],
 "metadata": {
  "kernelspec": {
   "display_name": "abtem-dask",
   "language": "python",
   "name": "abtem-dask"
  },
  "language_info": {
   "codemirror_mode": {
    "name": "ipython",
    "version": 3
   },
   "file_extension": ".py",
   "mimetype": "text/x-python",
   "name": "python",
   "nbconvert_exporter": "python",
   "pygments_lexer": "ipython3",
   "version": "3.8.10"
  },
  "widgets": {
   "application/vnd.jupyter.widget-state+json": {
    "state": {},
    "version_major": 2,
    "version_minor": 0
   }
  }
 },
 "nbformat": 4,
 "nbformat_minor": 5
}
