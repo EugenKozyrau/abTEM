{
 "cells": [
  {
   "cell_type": "markdown",
   "id": "5b27f362-92db-4490-bb98-361bfc6d3e6b",
   "metadata": {},
   "source": [
    "# The basics\n",
    "\n",
    ":::{admonition} {material-regular}`engineering;1.5rem;sd-mr-1` Currently Under Construction\n",
    ":class: no-icon\n",
    "Check back for more...\n",
    ":::\n",
    "\n",
    "This is a short overview of abTEM geared towards new users. There is much more information contained in the rest of the documentation. For users with previous experience in multislice simulation the basics may be enough to get you started and go on to our example library. If you are new to simulation of electron diffraction experiments, we highly recommend that you take the time to go through our walkthrough up to the level of complexity you need.\n",
    "\n",
    "We normally import abTEM as follows:"
   ]
  },
  {
   "cell_type": "code",
   "execution_count": 3,
   "id": "a947b4f6-64fb-4b0a-a2bd-a8009c206423",
   "metadata": {},
   "outputs": [],
   "source": [
    "import abtem"
   ]
  },
  {
   "cell_type": "markdown",
   "id": "2b095fde-648e-4ee5-be2e-c6ebacdf4900",
   "metadata": {},
   "source": [
    "## Atomic model\n",
    "abTEM uses the atomic simulation environment for importing atomic models:"
   ]
  },
  {
   "cell_type": "code",
   "execution_count": 2,
   "id": "e9117ff0-6eca-4b5d-b78f-3bafd9f4b62a",
   "metadata": {},
   "outputs": [],
   "source": [
    "from ase.io import read\n",
    "\n",
    "# import a .cif-file\n",
    "atoms = read(\"../user_guide/walkthrough/data/srtio3.cif\")"
   ]
  },
  {
   "cell_type": "markdown",
   "id": "773537fb-bfdb-42c6-96c5-38adc37d7269",
   "metadata": {},
   "source": [
    "We can also procedurally create and modify structures, for example:"
   ]
  },
  {
   "cell_type": "code",
   "execution_count": 3,
   "id": "3532ce1d-8ad8-460c-b079-1b06bab16373",
   "metadata": {},
   "outputs": [],
   "source": [
    "import ase\n",
    "\n",
    "# create atomic model of FCC gold \n",
    "gold = ase.build.bulk(\"Au\", cubic = True)\n",
    "\n",
    "# repeat the unit cell\n",
    "repeated_gold = gold * (5, 5, 5)"
   ]
  },
  {
   "cell_type": "markdown",
   "id": "bb3e1b94-2054-4da6-93b8-f880856f74d6",
   "metadata": {},
   "source": [
    "## Wave functions\n",
    "\n",
    "abTEM differs from other multislice simulation codes by not explicitly defining any of the common electron microscopy experiments such as HRTEM and STEM. "
   ]
  },
  {
   "cell_type": "code",
   "execution_count": null,
   "id": "c676ea34-601b-4417-b740-dfb39fe3194e",
   "metadata": {},
   "outputs": [],
   "source": []
  },
  {
   "cell_type": "markdown",
   "id": "3d50896a-73f1-4349-a49a-fa612f0a552e",
   "metadata": {},
   "source": [
    "## Multislice"
   ]
  },
  {
   "cell_type": "code",
   "execution_count": null,
   "id": "8de5ed3a-6bac-40d9-988d-f7cbb2f11c01",
   "metadata": {},
   "outputs": [],
   "source": []
  },
  {
   "cell_type": "markdown",
   "id": "9da84ea8-eb69-4daf-bf24-67a14c07ae31",
   "metadata": {},
   "source": [
    "## "
   ]
  }
 ],
 "metadata": {
  "kernelspec": {
   "display_name": "test_threads",
   "language": "python",
   "name": "test_threads"
  },
  "language_info": {
   "codemirror_mode": {
    "name": "ipython",
    "version": 3
   },
   "file_extension": ".py",
   "mimetype": "text/x-python",
   "name": "python",
   "nbconvert_exporter": "python",
   "pygments_lexer": "ipython3",
   "version": "3.9.13"
  },
  "widgets": {
   "application/vnd.jupyter.widget-state+json": {
    "state": {},
    "version_major": 2,
    "version_minor": 0
   }
  }
 },
 "nbformat": 4,
 "nbformat_minor": 5
}
