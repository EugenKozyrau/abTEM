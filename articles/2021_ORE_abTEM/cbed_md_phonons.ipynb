{
 "cells": [
  {
   "cell_type": "code",
   "execution_count": 2,
   "metadata": {
    "pycharm": {
     "is_executing": true
    }
   },
   "outputs": [],
   "source": [
    "import numpy as np\n",
    "from ase.io import read\n",
    "from ase import build\n",
    "from scipy import ndimage\n",
    "import matplotlib.pyplot as plt\n",
    "\n",
    "from abtem import Probe, PlaneWave, Potential, PixelatedDetector, Measurement\n",
    "from abtem.temperature import MDFrozenPhonons, FrozenPhonons\n",
    "from abtem.measure import rotational_average\n",
    "from abtem import show_atoms"
   ]
  },
  {
   "cell_type": "code",
   "execution_count": null,
   "metadata": {
    "pycharm": {
     "is_executing": true
    }
   },
   "outputs": [],
   "source": [
    "device = 'gpu'"
   ]
  },
  {
   "cell_type": "code",
   "execution_count": null,
   "metadata": {
    "pycharm": {
     "is_executing": true
    }
   },
   "outputs": [],
   "source": [
    "# fft cache disabled for large simulations\n",
    "\n",
    "from cupy.fft.config import get_plan_cache\n",
    "cache = get_plan_cache()\n",
    "cache.set_size(1)"
   ]
  },
  {
   "cell_type": "code",
   "execution_count": null,
   "metadata": {
    "pycharm": {
     "is_executing": true
    }
   },
   "outputs": [],
   "source": [
    "traj = read('md_phonons.traj@:')\n",
    "\n",
    "print('Number of images:', len(traj))"
   ]
  },
  {
   "cell_type": "code",
   "execution_count": null,
   "metadata": {
    "pycharm": {
     "is_executing": true
    }
   },
   "outputs": [],
   "source": [
    "md_fp = MDFrozenPhonons(traj)\n",
    "\n",
    "sigma = np.mean(md_fp.standard_deviations())\n",
    "\n",
    "print('Standard deviation:', sigma)"
   ]
  },
  {
   "cell_type": "code",
   "execution_count": null,
   "metadata": {
    "pycharm": {
     "is_executing": true
    }
   },
   "outputs": [],
   "source": [
    "atoms = build.bulk('Si', 'diamond', cubic=True)\n",
    "atoms *= (37, 37, 240)\n",
    "\n",
    "fp = FrozenPhonons(atoms, len(traj), {'Si': sigma}, seed=13, directions='xyz')\n",
    "\n"
   ]
  },
  {
   "cell_type": "code",
   "execution_count": null,
   "metadata": {
    "pycharm": {
     "is_executing": true
    }
   },
   "outputs": [],
   "source": [
    "md_potential = Potential(md_fp, gpts=2048, slice_thickness=.1, \n",
    "                         device='gpu', projection='infinite', \n",
    "                         parametrization='kirkland', precalculate=False)\n",
    "\n",
    "einstein_potential = Potential(fp, gpts=2048, slice_thickness=.1, device='gpu',\n",
    "                                projection='infinite', parametrization='kirkland', precalculate=False)\n",
    "\n",
    "elastic_potential = Potential(atoms, gpts=2048, slice_thickness=.1, device='gpu',\n",
    "                              projection='infinite', parametrization='kirkland', precalculate=False)"
   ]
  },
  {
   "cell_type": "code",
   "execution_count": 4,
   "metadata": {
    "pycharm": {
     "is_executing": true
    }
   },
   "outputs": [
    {
     "ename": "NameError",
     "evalue": "name 'md_potential' is not defined",
     "output_type": "error",
     "traceback": [
      "\u001b[1;31m---------------------------------------------------------------------------\u001b[0m",
      "\u001b[1;31mNameError\u001b[0m                                 Traceback (most recent call last)",
      "\u001b[1;32m<ipython-input-4-59f78219f46c>\u001b[0m in \u001b[0;36m<module>\u001b[1;34m\u001b[0m\n\u001b[0;32m      1\u001b[0m \u001b[0mprobe\u001b[0m \u001b[1;33m=\u001b[0m \u001b[0mProbe\u001b[0m\u001b[1;33m(\u001b[0m\u001b[0menergy\u001b[0m\u001b[1;33m=\u001b[0m\u001b[1;36m100e3\u001b[0m\u001b[1;33m,\u001b[0m \u001b[0msemiangle_cutoff\u001b[0m\u001b[1;33m=\u001b[0m\u001b[1;36m9.4\u001b[0m\u001b[1;33m,\u001b[0m \u001b[0mdevice\u001b[0m\u001b[1;33m=\u001b[0m\u001b[1;34m'gpu'\u001b[0m\u001b[1;33m)\u001b[0m\u001b[1;33m\u001b[0m\u001b[1;33m\u001b[0m\u001b[0m\n\u001b[1;32m----> 2\u001b[1;33m \u001b[0mprobe\u001b[0m\u001b[1;33m.\u001b[0m\u001b[0mgrid\u001b[0m\u001b[1;33m.\u001b[0m\u001b[0mmatch\u001b[0m\u001b[1;33m(\u001b[0m\u001b[0mmd_potential\u001b[0m\u001b[1;33m)\u001b[0m\u001b[1;33m\u001b[0m\u001b[1;33m\u001b[0m\u001b[0m\n\u001b[0m",
      "\u001b[1;31mNameError\u001b[0m: name 'md_potential' is not defined"
     ]
    }
   ],
   "source": [
    "probe = Probe(energy=100e3, semiangle_cutoff=9.4, device='gpu')\n",
    "probe.grid.match(md_potential)"
   ]
  },
  {
   "cell_type": "code",
   "execution_count": null,
   "metadata": {
    "pycharm": {
     "is_executing": true
    }
   },
   "outputs": [],
   "source": [
    "measurement = probe.build().multislice(md_potential, pbar=True, max_batch_potential=1)"
   ]
  },
  {
   "cell_type": "code",
   "execution_count": null,
   "metadata": {
    "pycharm": {
     "is_executing": true
    }
   },
   "outputs": [],
   "source": [
    "probe.profile().show();"
   ]
  },
  {
   "cell_type": "code",
   "execution_count": 3,
   "metadata": {
    "scrolled": true
   },
   "outputs": [
    {
     "ename": "NameError",
     "evalue": "name 'probe' is not defined",
     "output_type": "error",
     "traceback": [
      "\u001b[1;31m---------------------------------------------------------------------------\u001b[0m",
      "\u001b[1;31mNameError\u001b[0m                                 Traceback (most recent call last)",
      "\u001b[1;32m<ipython-input-3-ae9630a1dd7a>\u001b[0m in \u001b[0;36m<module>\u001b[1;34m\u001b[0m\n\u001b[0;32m      1\u001b[0m \u001b[0mdetector\u001b[0m \u001b[1;33m=\u001b[0m \u001b[0mPixelatedDetector\u001b[0m\u001b[1;33m(\u001b[0m\u001b[0mmax_angle\u001b[0m\u001b[1;33m=\u001b[0m\u001b[1;34m'limit'\u001b[0m\u001b[1;33m)\u001b[0m\u001b[1;33m\u001b[0m\u001b[1;33m\u001b[0m\u001b[0m\n\u001b[1;32m----> 2\u001b[1;33m \u001b[0mmeasurement\u001b[0m \u001b[1;33m=\u001b[0m \u001b[0mprobe\u001b[0m\u001b[1;33m.\u001b[0m\u001b[0mbuild\u001b[0m\u001b[1;33m(\u001b[0m\u001b[1;33m)\u001b[0m\u001b[1;33m.\u001b[0m\u001b[0mmultislice\u001b[0m\u001b[1;33m(\u001b[0m\u001b[0mmd_potential\u001b[0m\u001b[1;33m,\u001b[0m \u001b[0mpbar\u001b[0m\u001b[1;33m=\u001b[0m\u001b[1;32mTrue\u001b[0m\u001b[1;33m,\u001b[0m \u001b[0mdetector\u001b[0m\u001b[1;33m=\u001b[0m\u001b[0mdetector\u001b[0m\u001b[1;33m,\u001b[0m \u001b[0mmax_batch_potential\u001b[0m\u001b[1;33m=\u001b[0m\u001b[1;36m1\u001b[0m\u001b[1;33m)\u001b[0m\u001b[1;33m\u001b[0m\u001b[1;33m\u001b[0m\u001b[0m\n\u001b[0m\u001b[0;32m      3\u001b[0m \u001b[0mmeasurement\u001b[0m\u001b[1;33m.\u001b[0m\u001b[0mwrite\u001b[0m\u001b[1;33m(\u001b[0m\u001b[1;34m'cbed_md_si100.hdf5'\u001b[0m\u001b[1;33m)\u001b[0m\u001b[1;33m\u001b[0m\u001b[1;33m\u001b[0m\u001b[0m\n\u001b[0;32m      4\u001b[0m \u001b[1;33m\u001b[0m\u001b[0m\n\u001b[0;32m      5\u001b[0m \u001b[0mdetector\u001b[0m \u001b[1;33m=\u001b[0m \u001b[0mPixelatedDetector\u001b[0m\u001b[1;33m(\u001b[0m\u001b[0mmax_angle\u001b[0m\u001b[1;33m=\u001b[0m\u001b[1;34m'limit'\u001b[0m\u001b[1;33m)\u001b[0m\u001b[1;33m\u001b[0m\u001b[1;33m\u001b[0m\u001b[0m\n",
      "\u001b[1;31mNameError\u001b[0m: name 'probe' is not defined"
     ]
    }
   ],
   "source": [
    "detector = PixelatedDetector(max_angle='limit')\n",
    "measurement = probe.build().multislice(md_potential, pbar=True, detector=detector, max_batch_potential=1)\n",
    "measurement.write('cbed_md_si100.hdf5')\n",
    "\n",
    "detector = PixelatedDetector(max_angle='limit')\n",
    "measurement = probe.build().multislice(einstein_potential, pbar=True, detector=detector, max_batch_potential=1)\n",
    "measurement.write('cbed_einstein_si100.hdf5')"
   ]
  },
  {
   "cell_type": "code",
   "execution_count": null,
   "metadata": {
    "pycharm": {
     "is_executing": true
    }
   },
   "outputs": [],
   "source": [
    "md_measurement = Measurement.read('cbed_md_si100.hdf5')\n",
    "einstein_measurement = Measurement.read('cbed_einstein_si100.hdf5')\n",
    "\n",
    "combined = md_measurement.copy()\n",
    "combined.array[:,combined.array.shape[1]//2:] = einstein_measurement.array[:,combined.array.shape[1]//2:]\n",
    "\n",
    "ax,_=combined.show(power=.4, cmap='inferno')\n",
    "\n",
    "ax.set_xlim([-70,70])\n",
    "ax.set_ylim([-70,70]);"
   ]
  },
  {
   "cell_type": "code",
   "execution_count": null,
   "metadata": {
    "pycharm": {
     "is_executing": true
    }
   },
   "outputs": [],
   "source": []
  },
  {
   "cell_type": "code",
   "execution_count": 6,
   "metadata": {
    "pycharm": {
     "is_executing": true
    }
   },
   "outputs": [
    {
     "ename": "NameError",
     "evalue": "name 'md_potential' is not defined",
     "output_type": "error",
     "traceback": [
      "\u001b[1;31m---------------------------------------------------------------------------\u001b[0m",
      "\u001b[1;31mNameError\u001b[0m                                 Traceback (most recent call last)",
      "\u001b[1;32m<ipython-input-6-a4a3010567db>\u001b[0m in \u001b[0;36m<module>\u001b[1;34m\u001b[0m\n\u001b[0;32m      1\u001b[0m \u001b[0mplanewave\u001b[0m \u001b[1;33m=\u001b[0m \u001b[0mPlaneWave\u001b[0m\u001b[1;33m(\u001b[0m\u001b[0menergy\u001b[0m\u001b[1;33m=\u001b[0m\u001b[1;36m100e3\u001b[0m\u001b[1;33m,\u001b[0m \u001b[0mdevice\u001b[0m\u001b[1;33m=\u001b[0m\u001b[1;34m'gpu'\u001b[0m\u001b[1;33m)\u001b[0m\u001b[1;33m\u001b[0m\u001b[1;33m\u001b[0m\u001b[0m\n\u001b[1;32m----> 2\u001b[1;33m \u001b[0mplanewave\u001b[0m\u001b[1;33m.\u001b[0m\u001b[0mgrid\u001b[0m\u001b[1;33m.\u001b[0m\u001b[0mmatch\u001b[0m\u001b[1;33m(\u001b[0m\u001b[0mmd_potential\u001b[0m\u001b[1;33m)\u001b[0m\u001b[1;33m\u001b[0m\u001b[1;33m\u001b[0m\u001b[0m\n\u001b[0m",
      "\u001b[1;31mNameError\u001b[0m: name 'md_potential' is not defined"
     ]
    }
   ],
   "source": [
    "planewave = PlaneWave(energy=100e3, device='gpu')\n",
    "planewave.grid.match(md_potential)"
   ]
  },
  {
   "cell_type": "code",
   "execution_count": 5,
   "metadata": {
    "pycharm": {
     "is_executing": true
    }
   },
   "outputs": [
    {
     "ename": "NameError",
     "evalue": "name 'planewave' is not defined",
     "output_type": "error",
     "traceback": [
      "\u001b[1;31m---------------------------------------------------------------------------\u001b[0m",
      "\u001b[1;31mNameError\u001b[0m                                 Traceback (most recent call last)",
      "\u001b[1;32m<ipython-input-5-ab8cf410a952>\u001b[0m in \u001b[0;36m<module>\u001b[1;34m\u001b[0m\n\u001b[0;32m      1\u001b[0m \u001b[0mdetector\u001b[0m \u001b[1;33m=\u001b[0m \u001b[0mPixelatedDetector\u001b[0m\u001b[1;33m(\u001b[0m\u001b[0mmax_angle\u001b[0m\u001b[1;33m=\u001b[0m\u001b[1;34m'limit'\u001b[0m\u001b[1;33m)\u001b[0m\u001b[1;33m\u001b[0m\u001b[1;33m\u001b[0m\u001b[0m\n\u001b[1;32m----> 2\u001b[1;33m \u001b[0mmeasurement\u001b[0m \u001b[1;33m=\u001b[0m \u001b[0mplanewave\u001b[0m\u001b[1;33m.\u001b[0m\u001b[0mbuild\u001b[0m\u001b[1;33m(\u001b[0m\u001b[1;33m)\u001b[0m\u001b[1;33m.\u001b[0m\u001b[0mmultislice\u001b[0m\u001b[1;33m(\u001b[0m\u001b[0mmd_potential\u001b[0m\u001b[1;33m,\u001b[0m \u001b[0mpbar\u001b[0m\u001b[1;33m=\u001b[0m\u001b[1;32mTrue\u001b[0m\u001b[1;33m,\u001b[0m \u001b[0mdetector\u001b[0m\u001b[1;33m=\u001b[0m\u001b[0mdetector\u001b[0m\u001b[1;33m,\u001b[0m \u001b[0mmax_batch_potential\u001b[0m\u001b[1;33m=\u001b[0m\u001b[1;36m3\u001b[0m\u001b[1;33m)\u001b[0m\u001b[1;33m\u001b[0m\u001b[1;33m\u001b[0m\u001b[0m\n\u001b[0m\u001b[0;32m      3\u001b[0m \u001b[0mmeasurement\u001b[0m\u001b[1;33m.\u001b[0m\u001b[0mwrite\u001b[0m\u001b[1;33m(\u001b[0m\u001b[1;34m'ed_md_si100.hdf5'\u001b[0m\u001b[1;33m)\u001b[0m\u001b[1;33m\u001b[0m\u001b[1;33m\u001b[0m\u001b[0m\n\u001b[0;32m      4\u001b[0m \u001b[1;33m\u001b[0m\u001b[0m\n\u001b[0;32m      5\u001b[0m \u001b[0mdetector\u001b[0m \u001b[1;33m=\u001b[0m \u001b[0mPixelatedDetector\u001b[0m\u001b[1;33m(\u001b[0m\u001b[0mmax_angle\u001b[0m\u001b[1;33m=\u001b[0m\u001b[1;34m'limit'\u001b[0m\u001b[1;33m)\u001b[0m\u001b[1;33m\u001b[0m\u001b[1;33m\u001b[0m\u001b[0m\n",
      "\u001b[1;31mNameError\u001b[0m: name 'planewave' is not defined"
     ]
    }
   ],
   "source": [
    "detector = PixelatedDetector(max_angle='limit')\n",
    "measurement = planewave.build().multislice(md_potential, pbar=True, detector=detector, max_batch_potential=3)\n",
    "measurement.write('ed_md_si100.hdf5')\n",
    "\n",
    "detector = PixelatedDetector(max_angle='limit')\n",
    "measurement = planewave.build().multislice(einstein_potential, pbar=True, detector=detector, max_batch_potential=3)\n",
    "measurement.write('ed_einstein_si100.hdf5')\n",
    "\n",
    "detector = PixelatedDetector(max_angle='limit')\n",
    "measurement = planewave.build().multislice(elastic_potential, pbar=True, detector=detector, max_batch_potential=3)\n",
    "measurement.write('ed_elastic_si100.hdf5')"
   ]
  },
  {
   "cell_type": "code",
   "execution_count": 12,
   "metadata": {
    "pycharm": {
     "is_executing": true
    }
   },
   "outputs": [
    {
     "data": {
      "image/png": "[encoded data removed]",
      "text/plain": [
       "<Figure size 288x151.2 with 1 Axes>"
      ]
     },
     "metadata": {
      "needs_background": "light"
     },
     "output_type": "display_data"
    },
    {
     "data": {
      "image/png": "[encoded data removed]",
      "text/plain": [
       "<Figure size 288x151.2 with 1 Axes>"
      ]
     },
     "metadata": {
      "needs_background": "light"
     },
     "output_type": "display_data"
    }
   ],
   "source": [
    "einstein_measurement = Measurement.read('data/ed_einstein_si100.hdf5')\n",
    "md_measurement = Measurement.read('data/ed_md_si100.hdf5')\n",
    "elastic_measurement = Measurement.read('data/ed_elastic_si100.hdf5')\n",
    "\n",
    "fig,ax=plt.subplots(figsize=(4,2.1))\n",
    "\n",
    "rotational_average(elastic_measurement).show(ax=ax, label='Elastic', color='k')\n",
    "rotational_average(einstein_measurement).show(ax=ax, label='Einstein', linestyle='-.', color='dodgerblue')\n",
    "rotational_average(md_measurement).show(ax=ax, label='MD', linestyle='--', color='r', legend=True)\n",
    "\n",
    "ax.set_xlim([0,50])\n",
    "ax.set_ylim([0,md_measurement.array.max()*1e-4])\n",
    "ax.set_yticks([])\n",
    "ax.set_xlabel('Scattering angle [mrad]')\n",
    "ax.set_ylabel('Intensity [arb. unit]')\n",
    "plt.tight_layout()\n",
    "\n",
    "fig,ax=plt.subplots(figsize=(4,2.1))\n",
    "rotational_average(elastic_measurement).show(ax=ax, color='k')\n",
    "rotational_average(einstein_measurement).show(ax=ax, linestyle='-.', color='dodgerblue')\n",
    "rotational_average(md_measurement).show(ax=ax, linestyle='--', color='r')\n",
    "\n",
    "\n",
    "ax.set_xlim([50,110])\n",
    "ax.set_ylim([0,md_measurement.array.max()*4e-6])\n",
    "ax.set_yticks([])\n",
    "ax.set_xlabel('Scattering angle [mrad]')\n",
    "ax.set_ylabel('Intensity [arb. unit]')\n",
    "plt.tight_layout()\n",
    "\n",
    "plt.savefig('')"
   ]
  }
 ],
 "metadata": {
  "kernelspec": {
   "display_name": "abTEM_interactive",
   "language": "python",
   "name": "abtem_interactive"
  },
  "language_info": {
   "codemirror_mode": {
    "name": "ipython",
    "version": 3
   },
   "file_extension": ".py",
   "mimetype": "text/x-python",
   "name": "python",
   "nbconvert_exporter": "python",
   "pygments_lexer": "ipython3",
   "version": "3.8.8"
  }
 },
 "nbformat": 4,
 "nbformat_minor": 4
}
